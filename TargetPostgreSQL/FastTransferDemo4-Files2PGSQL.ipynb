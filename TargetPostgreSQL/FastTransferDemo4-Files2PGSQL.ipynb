{
 "cells": [
  {
   "cell_type": "markdown",
   "id": "eaa594fd",
   "metadata": {},
   "source": [
    "\n",
    "```\n",
    "███████  █████  ███████ ████████ ████████ ██████   █████  ███    ██ ███████ ███████ ███████ ██████  \n",
    "██      ██   ██ ██         ██       ██    ██   ██ ██   ██ ████   ██ ██      ██      ██      ██   ██ \n",
    "█████   ███████ ███████    ██       ██    ██████  ███████ ██ ██  ██ ███████ █████   █████   ██████  \n",
    "██      ██   ██      ██    ██       ██    ██   ██ ██   ██ ██  ██ ██      ██ ██      ██      ██   ██ \n",
    "██      ██   ██ ███████    ██       ██    ██   ██ ██   ██ ██   ████ ███████ ██      ███████ ██   ██ \n",
    "                                                                                        "
   ]
  },
  {
   "cell_type": "markdown",
   "id": "9f4ce60e",
   "metadata": {
    "polyglot_notebook": {
     "kernelName": "csharp"
    }
   },
   "source": [
    "# Demo 4 - Files to PostgreSQL"
   ]
  },
  {
   "cell_type": "markdown",
   "id": "ea3b3ddb",
   "metadata": {},
   "source": [
    "## Import severals CSV files to one PostgreSQL Table"
   ]
  },
  {
   "cell_type": "markdown",
   "id": "6334908c",
   "metadata": {},
   "source": [
    "FastTransfer use an embedded DuckDB that allow to read CSV, JSON, Parquet files using SQL to read data.\n",
    "DuckDB infer the source CSVs structure using the first 100_000 rows if no format is provided.\n",
    "It is possible to give or force a format. Use the [DuckDB CSV import documentation](https://duckdb.org/docs/stable/data/csv/overview) to see what is possible\n"
   ]
  },
  {
   "cell_type": "markdown",
   "id": "55d58837",
   "metadata": {},
   "source": [
    "### using Datadriven and filenames as distributedkeycolumn"
   ]
  },
  {
   "cell_type": "markdown",
   "id": "1a22b8ba",
   "metadata": {},
   "source": [
    "DuckDB allow to retrieve data from CSV as a sql query that FastTransfer will understand and push to a target (PostgreSQL but also MSSQL, Oracle, MySQL, SAP HANA, Clickhouse). This allow **FastTransfer to become an universal CSV parallel loader**. For that you must use sourceconnectiontype as **duckdbstream**"
   ]
  },
  {
   "cell_type": "markdown",
   "id": "52acc018",
   "metadata": {},
   "source": [
    "Adding this to the automapping method using column names and you have the perfect import tool !"
   ]
  },
  {
   "cell_type": "code",
   "execution_count": 1,
   "metadata": {
    "language_info": {
     "name": "polyglot-notebook"
    },
    "polyglot_notebook": {
     "kernelName": "pwsh"
    }
   },
   "outputs": [
    {
     "name": "stdout",
     "output_type": "stream",
     "text": [
      "┌─────────────┬────────────┬───────────┬───┬──────────────┬──────────────────────┬──────────────────────┐\n",
      "│ o_orderdate │ o_orderkey │ o_custkey │ … │ o_totalprice │      o_comment       │       filename       │\n",
      "│    date     │   int64    │   int64   │   │   varchar    │       varchar        │       varchar        │\n",
      "├─────────────┼────────────┼───────────┼───┼──────────────┼──────────────────────┼──────────────────────┤\n",
      "│ 1998-06-16  │    3381152 │     10531 │ … │ 72696,33     │ dolphins wake slyl…  │ D:\\temp\\mssql\\mssq…  │\n",
      "│ 1998-06-16  │    6187044 │     15350 │ … │ 162758,15    │ ironic requests ha…  │ D:\\temp\\mssql\\mssq…  │\n",
      "│ 1998-06-16  │     970658 │     30523 │ … │ 118376,13    │ slyly regular idea…  │ D:\\temp\\mssql\\mssq…  │\n",
      "│ 1998-06-16  │     554245 │     58189 │ … │ 332965,55    │ blithely ironic ex…  │ D:\\temp\\mssql\\mssq…  │\n",
      "│ 1998-06-16  │    4016673 │     71665 │ … │ 37324,46     │ carefully regular …  │ D:\\temp\\mssql\\mssq…  │\n",
      "│ 1998-06-16  │    2248453 │     77912 │ … │ 210240,71    │ requests use furio…  │ D:\\temp\\mssql\\mssq…  │\n",
      "│ 1998-06-16  │      16070 │     92549 │ … │ 170298,05    │ regular unusual re…  │ D:\\temp\\mssql\\mssq…  │\n",
      "│ 1998-06-16  │    2887654 │     95048 │ … │ 121459,24    │ quickly final pack…  │ D:\\temp\\mssql\\mssq…  │\n",
      "│ 1998-06-16  │    2098759 │     98708 │ … │ 225900,75    │ furiously ironic i…  │ D:\\temp\\mssql\\mssq…  │\n",
      "│ 1998-06-16  │    2556867 │    102545 │ … │ 71698,24     │ carefully regular …  │ D:\\temp\\mssql\\mssq…  │\n",
      "│ 1998-06-16  │    5944007 │    103171 │ … │ 170829,7     │ quickly special no…  │ D:\\temp\\mssql\\mssq…  │\n",
      "│ 1998-06-16  │    3860164 │    110131 │ … │ 19353,46     │ regular even packa…  │ D:\\temp\\mssql\\mssq…  │\n",
      "│ 1998-06-16  │    2423201 │    112720 │ … │ 103798,42    │ special ideas wake…  │ D:\\temp\\mssql\\mssq…  │\n",
      "│ 1998-06-16  │    5790496 │    117182 │ … │ 77712,03     │ busily special exc…  │ D:\\temp\\mssql\\mssq…  │\n",
      "│ 1998-06-16  │    3715943 │    125125 │ … │ 293011,22    │ regular silent exc…  │ D:\\temp\\mssql\\mssq…  │\n",
      "│ 1998-06-16  │    4837189 │    135746 │ … │ 193228,81    │ slowly bold theodo…  │ D:\\temp\\mssql\\mssq…  │\n",
      "│ 1998-06-16  │    3146630 │    141280 │ … │ 125534,9     │ carefully regular …  │ D:\\temp\\mssql\\mssq…  │\n",
      "│ 1998-06-16  │     355334 │    142172 │ … │ 80734,6      │ ironic regular dep…  │ D:\\temp\\mssql\\mssq…  │\n",
      "│ 1998-06-16  │    1395072 │    146188 │ … │ 126236,96    │ slyly pending acco…  │ D:\\temp\\mssql\\mssq…  │\n",
      "│ 1998-06-16  │    2439552 │    152971 │ … │ 118686,44    │ blithely final dep…  │ D:\\temp\\mssql\\mssq…  │\n",
      "│     ·       │       ·    │       ·   │ · │    ·         │          ·           │          ·           │\n",
      "│     ·       │       ·    │       ·   │ · │    ·         │          ·           │          ·           │\n",
      "│     ·       │       ·    │       ·   │ · │    ·         │          ·           │          ·           │\n",
      "│ 1999-08-01  │  102326368 │   1065271 │ … │ 78139,87     │ final accounts are…  │ D:\\temp\\mssql\\mssq…  │\n",
      "│ 1999-08-01  │   83418822 │   1065359 │ … │ 42270,47     │ unusual packages h…  │ D:\\temp\\mssql\\mssq…  │\n",
      "│ 1999-08-01  │  112595109 │   1066163 │ … │ 48830,42     │ ironic deposits af…  │ D:\\temp\\mssql\\mssq…  │\n",
      "│ 1999-08-01  │   62660770 │   1066163 │ … │ 48830,42     │ ironic deposits af…  │ D:\\temp\\mssql\\mssq…  │\n",
      "│ 1999-08-01  │   79977030 │   1066163 │ … │ 151448,85    │ slyly final accoun…  │ D:\\temp\\mssql\\mssq…  │\n",
      "│ 1999-08-01  │  106435393 │   1066253 │ … │ 52121,85     │ unusual pending wa…  │ D:\\temp\\mssql\\mssq…  │\n",
      "│ 1999-08-01  │  109889511 │   1067234 │ … │ 235577,05    │ slyly regular pack…  │ D:\\temp\\mssql\\mssq…  │\n",
      "│ 1999-08-01  │   95363846 │   1067234 │ … │ 171376,27    │ regular final requ…  │ D:\\temp\\mssql\\mssq…  │\n",
      "│ 1999-08-01  │   62582565 │   1067591 │ … │ 65470,92     │ idle dependencies …  │ D:\\temp\\mssql\\mssq…  │\n",
      "│ 1999-08-01  │  112516928 │   1067591 │ … │ 65470,92     │ idle dependencies …  │ D:\\temp\\mssql\\mssq…  │\n",
      "│ 1999-08-01  │   95854565 │   1067591 │ … │ 360231,13    │ furiously ironic s…  │ D:\\temp\\mssql\\mssq…  │\n",
      "│ 1999-08-01  │   93673506 │   1068127 │ … │ 141070,56    │ theodolites agains…  │ D:\\temp\\mssql\\mssq…  │\n",
      "│ 1999-08-01  │   73559780 │   1068305 │ … │ 66089,32     │ blithely special f…  │ D:\\temp\\mssql\\mssq…  │\n",
      "│ 1999-08-01  │   69701988 │   1068305 │ … │ 66089,32     │ blithely special f…  │ D:\\temp\\mssql\\mssq…  │\n",
      "│ 1999-08-01  │  119636327 │   1068305 │ … │ 66089,32     │ blithely special f…  │ D:\\temp\\mssql\\mssq…  │\n",
      "│ 1999-08-01  │  109088577 │   1068305 │ … │ 329189,22    │ blithely regular p…  │ D:\\temp\\mssql\\mssq…  │\n",
      "│ 1999-08-01  │   66839877 │   1068395 │ … │ 45884,06     │ quickly ironic acc…  │ D:\\temp\\mssql\\mssq…  │\n",
      "│ 1999-08-01  │  116774240 │   1068395 │ … │ 45884,06     │ quickly ironic acc…  │ D:\\temp\\mssql\\mssq…  │\n",
      "│ 1999-08-01  │   70697669 │   1068395 │ … │ 45884,06     │ quickly ironic acc…  │ D:\\temp\\mssql\\mssq…  │\n",
      "│ 1999-08-01  │   67885827 │   1069733 │ … │ 205935,17    │ furiously ironic p…  │ D:\\temp\\mssql\\mssq…  │\n",
      "├─────────────┴────────────┴───────────┴───┴──────────────┴──────────────────────┴──────────────────────┤\n",
      "│ 16327477 rows (40 shown)                                                         10 columns (6 shown) │\n",
      "└───────────────────────────────────────────────────────────────────────────────────────────────────────┘\n"
     ]
    }
   ],
   "source": [
    "duckdb.exe -c \"SELECT * FROM read_csv('D:\\temp\\mssql\\*orders*.csv', filename=true);\""
   ]
  },
  {
   "cell_type": "code",
   "execution_count": 2,
   "metadata": {
    "polyglot_notebook": {
     "kernelName": "pwsh"
    }
   },
   "outputs": [
    {
     "name": "stdout",
     "output_type": "stream",
     "text": [
      "2025-10-02T18:31:51.531 +02:00 -|- FastTransfer -|- CSV_To_PGSQL_Parallel16_DataDriven_filename -|- INFORMATION -|- tpch.tpch_10.orders_heap -|- FastTransfer - running in trial mode – will expires on 2025‑10‑27 (24 day(s) left).\n",
      "2025-10-02T18:31:51.540 +02:00 -|- FastTransfer -|- CSV_To_PGSQL_Parallel16_DataDriven_filename -|- INFORMATION -|- tpch.tpch_10.orders_heap -|- Starting\n",
      "2025-10-02T18:31:51.541 +02:00 -|- FastTransfer -|- CSV_To_PGSQL_Parallel16_DataDriven_filename -|- INFORMATION -|- tpch.tpch_10.orders_heap -|- FastTransfer Version : 0.13.12.0 Architecture : X64 - Framework : .NET 8.0.20\n",
      "2025-10-02T18:31:51.541 +02:00 -|- FastTransfer -|- CSV_To_PGSQL_Parallel16_DataDriven_filename -|- INFORMATION -|- tpch.tpch_10.orders_heap -|- OS : Microsoft Windows 10.0.26100\n",
      "2025-10-02T18:31:51.541 +02:00 -|- FastTransfer -|- CSV_To_PGSQL_Parallel16_DataDriven_filename -|- INFORMATION -|- tpch.tpch_10.orders_heap -|- Process ID : 92044\n",
      "2025-10-02T18:31:51.541 +02:00 -|- FastTransfer -|- CSV_To_PGSQL_Parallel16_DataDriven_filename -|- INFORMATION -|- tpch.tpch_10.orders_heap -|- Provided Run ID : CSV_To_PGSQL_Parallel16_DataDriven_filename\n",
      "2025-10-02T18:31:51.541 +02:00 -|- FastTransfer -|- CSV_To_PGSQL_Parallel16_DataDriven_filename -|- INFORMATION -|- tpch.tpch_10.orders_heap -|- Source Connection Type : duckdbstream\n",
      "2025-10-02T18:31:51.541 +02:00 -|- FastTransfer -|- CSV_To_PGSQL_Parallel16_DataDriven_filename -|- INFORMATION -|- tpch.tpch_10.orders_heap -|- Source SqlInstance : :memory:\n",
      "2025-10-02T18:31:51.541 +02:00 -|- FastTransfer -|- CSV_To_PGSQL_Parallel16_DataDriven_filename -|- INFORMATION -|- tpch.tpch_10.orders_heap -|- Source Trusted Connection : False\n",
      "2025-10-02T18:31:51.541 +02:00 -|- FastTransfer -|- CSV_To_PGSQL_Parallel16_DataDriven_filename -|- INFORMATION -|- tpch.tpch_10.orders_heap -|- Query : SELECT * exclude filename FROM read_csv('D:\\temp\\mssql\\*orders*.csv', filename=true, decimal_separator=',')\n",
      "2025-10-02T18:31:51.541 +02:00 -|- FastTransfer -|- CSV_To_PGSQL_Parallel16_DataDriven_filename -|- INFORMATION -|- tpch.tpch_10.orders_heap -|- Target Type : pgcopy\n",
      "2025-10-02T18:31:51.541 +02:00 -|- FastTransfer -|- CSV_To_PGSQL_Parallel16_DataDriven_filename -|- INFORMATION -|- tpch.tpch_10.orders_heap -|- Target Server : localhost:25432\n",
      "2025-10-02T18:31:51.541 +02:00 -|- FastTransfer -|- CSV_To_PGSQL_Parallel16_DataDriven_filename -|- INFORMATION -|- tpch.tpch_10.orders_heap -|- Target Database : tpch\n",
      "2025-10-02T18:31:51.541 +02:00 -|- FastTransfer -|- CSV_To_PGSQL_Parallel16_DataDriven_filename -|- INFORMATION -|- tpch.tpch_10.orders_heap -|- Target Schema : tpch_10\n",
      "2025-10-02T18:31:51.541 +02:00 -|- FastTransfer -|- CSV_To_PGSQL_Parallel16_DataDriven_filename -|- INFORMATION -|- tpch.tpch_10.orders_heap -|- Target Table : orders_heap\n",
      "2025-10-02T18:31:51.541 +02:00 -|- FastTransfer -|- CSV_To_PGSQL_Parallel16_DataDriven_filename -|- INFORMATION -|- tpch.tpch_10.orders_heap -|- Target Trusted Connection : False\n",
      "2025-10-02T18:31:51.541 +02:00 -|- FastTransfer -|- CSV_To_PGSQL_Parallel16_DataDriven_filename -|- INFORMATION -|- tpch.tpch_10.orders_heap -|- Target User : FastUser\n",
      "2025-10-02T18:31:51.541 +02:00 -|- FastTransfer -|- CSV_To_PGSQL_Parallel16_DataDriven_filename -|- INFORMATION -|- tpch.tpch_10.orders_heap -|- Columns Map Method : Name\n",
      "2025-10-02T18:31:51.541 +02:00 -|- FastTransfer -|- CSV_To_PGSQL_Parallel16_DataDriven_filename -|- INFORMATION -|- tpch.tpch_10.orders_heap -|- Degree : 16\n",
      "2025-10-02T18:31:51.541 +02:00 -|- FastTransfer -|- CSV_To_PGSQL_Parallel16_DataDriven_filename -|- INFORMATION -|- tpch.tpch_10.orders_heap -|- Distribute Method : DataDriven\n",
      "2025-10-02T18:31:51.541 +02:00 -|- FastTransfer -|- CSV_To_PGSQL_Parallel16_DataDriven_filename -|- INFORMATION -|- tpch.tpch_10.orders_heap -|- Distribute Column : filename\n",
      "2025-10-02T18:31:51.541 +02:00 -|- FastTransfer -|- CSV_To_PGSQL_Parallel16_DataDriven_filename -|- INFORMATION -|- tpch.tpch_10.orders_heap -|- Data Driven Query : select file from glob('D:\\temp\\mssql\\*orders*.csv')\n",
      "2025-10-02T18:31:51.541 +02:00 -|- FastTransfer -|- CSV_To_PGSQL_Parallel16_DataDriven_filename -|- INFORMATION -|- tpch.tpch_10.orders_heap -|- Bulkcopy Batch Size : 1048576\n",
      "2025-10-02T18:31:51.541 +02:00 -|- FastTransfer -|- CSV_To_PGSQL_Parallel16_DataDriven_filename -|- INFORMATION -|- tpch.tpch_10.orders_heap -|- Load Mode : Truncate\n",
      "2025-10-02T18:31:51.541 +02:00 -|- FastTransfer -|- CSV_To_PGSQL_Parallel16_DataDriven_filename -|- INFORMATION -|- tpch.tpch_10.orders_heap -|- Use Work Tables : False\n",
      "2025-10-02T18:31:51.542 +02:00 -|- FastTransfer -|- CSV_To_PGSQL_Parallel16_DataDriven_filename -|- INFORMATION -|- tpch.tpch_10.orders_heap -|- Encoding used : Unicode (UTF-8) - 65001 - utf-8\n",
      "2025-10-02T18:31:51.543 +02:00 -|- FastTransfer -|- CSV_To_PGSQL_Parallel16_DataDriven_filename -|- INFORMATION -|- tpch.tpch_10.orders_heap -|- Process Priority set to High\n",
      "2025-10-02T18:31:51.703 +02:00 -|- FastTransfer -|- CSV_To_PGSQL_Parallel16_DataDriven_filename -|- INFORMATION -|- tpch.tpch_10.orders_heap -|- Source Connection String : DataSource=:memory:;memory_limit=8GB\n",
      "2025-10-02T18:31:51.703 +02:00 -|- FastTransfer -|- CSV_To_PGSQL_Parallel16_DataDriven_filename -|- INFORMATION -|- tpch.tpch_10.orders_heap -|- Target Connection String : Host=localhost;Port=25432;Database=tpch;Trust Server Certificate=True;Application Name=FastTransfer;Timeout=15;Command Timeout=10800;Username=FastUser;Password=xxxxx\n",
      "2025-10-02T18:31:51.703 +02:00 -|- FastTransfer -|- CSV_To_PGSQL_Parallel16_DataDriven_filename -|- INFORMATION -|- tpch.tpch_10.orders_heap -|- Source Database Version : DuckDB v1.3.2\n",
      "2025-10-02T18:31:51.704 +02:00 -|- FastTransfer -|- CSV_To_PGSQL_Parallel16_DataDriven_filename -|- INFORMATION -|- tpch.tpch_10.orders_heap -|- Target Database Version : PostgreSQL 17.2 on x86_64-windows, compiled by msvc-19.42.34435, 64-bit\n",
      "2025-10-02T18:31:52.921 +02:00 -|- FastTransfer -|- CSV_To_PGSQL_Parallel16_DataDriven_filename -|- INFORMATION -|- tpch.tpch_10.orders_heap -|- Completed DataDriven GetValues : 10 in 6 ms\n",
      "2025-10-02T18:31:52.953 +02:00 -|- FastTransfer -|- CSV_To_PGSQL_Parallel16_DataDriven_filename -|- INFORMATION -|- tpch.tpch_10.orders_heap -|- Start Loading Data using distribution method DataDriven\n",
      "2025-10-02T18:31:52.982 +02:00 -|- FastTransfer -|- CSV_To_PGSQL_Parallel16_DataDriven_filename -|- INFORMATION -|- tpch.tpch_10.orders_heap -|- Start Loading Data using distribution method DataDriven\n",
      "2025-10-02T18:31:52.985 +02:00 -|- FastTransfer -|- CSV_To_PGSQL_Parallel16_DataDriven_filename -|- INFORMATION -|- tpch.tpch_10.orders_heap -|- Start Loading Data using distribution method DataDriven\n",
      "2025-10-02T18:31:52.988 +02:00 -|- FastTransfer -|- CSV_To_PGSQL_Parallel16_DataDriven_filename -|- INFORMATION -|- tpch.tpch_10.orders_heap -|- Start Loading Data using distribution method DataDriven\n",
      "2025-10-02T18:31:52.992 +02:00 -|- FastTransfer -|- CSV_To_PGSQL_Parallel16_DataDriven_filename -|- INFORMATION -|- tpch.tpch_10.orders_heap -|- Start Loading Data using distribution method DataDriven\n",
      "2025-10-02T18:31:52.995 +02:00 -|- FastTransfer -|- CSV_To_PGSQL_Parallel16_DataDriven_filename -|- INFORMATION -|- tpch.tpch_10.orders_heap -|- Start Loading Data using distribution method DataDriven\n",
      "2025-10-02T18:31:52.999 +02:00 -|- FastTransfer -|- CSV_To_PGSQL_Parallel16_DataDriven_filename -|- INFORMATION -|- tpch.tpch_10.orders_heap -|- Start Loading Data using distribution method DataDriven\n",
      "2025-10-02T18:31:53.001 +02:00 -|- FastTransfer -|- CSV_To_PGSQL_Parallel16_DataDriven_filename -|- INFORMATION -|- tpch.tpch_10.orders_heap -|- Start Loading Data using distribution method DataDriven\n",
      "2025-10-02T18:31:53.007 +02:00 -|- FastTransfer -|- CSV_To_PGSQL_Parallel16_DataDriven_filename -|- INFORMATION -|- tpch.tpch_10.orders_heap -|- Start Loading Data using distribution method DataDriven\n",
      "2025-10-02T18:31:53.106 +02:00 -|- FastTransfer -|- CSV_To_PGSQL_Parallel16_DataDriven_filename -|- INFORMATION -|- tpch.tpch_10.orders_heap -|- Start Loading Data using distribution method DataDriven\n",
      "2025-10-02T18:31:58.586 +02:00 -|- FastTransfer -|- CSV_To_PGSQL_Parallel16_DataDriven_filename -|- INFORMATION -|- tpch.tpch_10.orders_heap -|- Completed DataDriven Load sub-process 2 for filename = D:\\temp\\mssql\\mssql_orders_chunck_002.csv : 1632748 rows x 9 columns in 5661 ms\n",
      "2025-10-02T18:31:58.637 +02:00 -|- FastTransfer -|- CSV_To_PGSQL_Parallel16_DataDriven_filename -|- INFORMATION -|- tpch.tpch_10.orders_heap -|- Completed DataDriven Load sub-process 4 for filename = D:\\temp\\mssql\\mssql_orders_chunck_004.csv : 1632748 rows x 9 columns in 5711 ms\n",
      "2025-10-02T18:31:58.670 +02:00 -|- FastTransfer -|- CSV_To_PGSQL_Parallel16_DataDriven_filename -|- INFORMATION -|- tpch.tpch_10.orders_heap -|- Completed DataDriven Load sub-process 5 for filename = D:\\temp\\mssql\\mssql_orders_chunck_005.csv : 1632748 rows x 9 columns in 5744 ms\n",
      "2025-10-02T18:31:58.682 +02:00 -|- FastTransfer -|- CSV_To_PGSQL_Parallel16_DataDriven_filename -|- INFORMATION -|- tpch.tpch_10.orders_heap -|- Completed DataDriven Load sub-process 8 for filename = D:\\temp\\mssql\\mssql_orders_chunck_008.csv : 1632748 rows x 9 columns in 5755 ms\n",
      "2025-10-02T18:31:58.696 +02:00 -|- FastTransfer -|- CSV_To_PGSQL_Parallel16_DataDriven_filename -|- INFORMATION -|- tpch.tpch_10.orders_heap -|- Completed DataDriven Load sub-process 3 for filename = D:\\temp\\mssql\\mssql_orders_chunck_003.csv : 1632748 rows x 9 columns in 5771 ms\n",
      "2025-10-02T18:31:58.726 +02:00 -|- FastTransfer -|- CSV_To_PGSQL_Parallel16_DataDriven_filename -|- INFORMATION -|- tpch.tpch_10.orders_heap -|- Completed DataDriven Load sub-process 6 for filename = D:\\temp\\mssql\\mssql_orders_chunck_006.csv : 1632748 rows x 9 columns in 5800 ms\n",
      "2025-10-02T18:31:58.751 +02:00 -|- FastTransfer -|- CSV_To_PGSQL_Parallel16_DataDriven_filename -|- INFORMATION -|- tpch.tpch_10.orders_heap -|- Completed DataDriven Load sub-process 0 for filename = D:\\temp\\mssql\\mssql_orders_chunck_000.csv : 1632748 rows x 9 columns in 5826 ms\n",
      "2025-10-02T18:31:58.756 +02:00 -|- FastTransfer -|- CSV_To_PGSQL_Parallel16_DataDriven_filename -|- INFORMATION -|- tpch.tpch_10.orders_heap -|- Completed DataDriven Load sub-process 1 for filename = D:\\temp\\mssql\\mssql_orders_chunck_001.csv : 1632748 rows x 9 columns in 5831 ms\n",
      "2025-10-02T18:31:58.774 +02:00 -|- FastTransfer -|- CSV_To_PGSQL_Parallel16_DataDriven_filename -|- INFORMATION -|- tpch.tpch_10.orders_heap -|- Completed DataDriven Load sub-process 9 for filename = D:\\temp\\mssql\\mssql_orders_chunck_009.csv : 1632745 rows x 9 columns in 5847 ms\n",
      "2025-10-02T18:31:58.777 +02:00 -|- FastTransfer -|- CSV_To_PGSQL_Parallel16_DataDriven_filename -|- INFORMATION -|- tpch.tpch_10.orders_heap -|- Completed DataDriven Load sub-process 7 for filename = D:\\temp\\mssql\\mssql_orders_chunck_007.csv : 1632748 rows x 9 columns in 5851 ms\n",
      "2025-10-02T18:31:58.781 +02:00 -|- FastTransfer -|- CSV_To_PGSQL_Parallel16_DataDriven_filename -|- INFORMATION -|- tpch.tpch_10.orders_heap -|- Total rows : 16327477\n",
      "2025-10-02T18:31:58.781 +02:00 -|- FastTransfer -|- CSV_To_PGSQL_Parallel16_DataDriven_filename -|- INFORMATION -|- tpch.tpch_10.orders_heap -|- Total columns : 9\n",
      "2025-10-02T18:31:58.781 +02:00 -|- FastTransfer -|- CSV_To_PGSQL_Parallel16_DataDriven_filename -|- INFORMATION -|- tpch.tpch_10.orders_heap -|- Total cells : 146947293\n",
      "2025-10-02T18:31:58.781 +02:00 -|- FastTransfer -|- CSV_To_PGSQL_Parallel16_DataDriven_filename -|- INFORMATION -|- tpch.tpch_10.orders_heap -|- Rows Throughput : 2775643 rows/s\n",
      "2025-10-02T18:31:58.781 +02:00 -|- FastTransfer -|- CSV_To_PGSQL_Parallel16_DataDriven_filename -|- INFORMATION -|- tpch.tpch_10.orders_heap -|- Cells Throughput : 24980815 cells/s\n",
      "2025-10-02T18:31:58.781 +02:00 -|- FastTransfer -|- CSV_To_PGSQL_Parallel16_DataDriven_filename -|- INFORMATION -|- tpch.tpch_10.orders_heap -|- Transfert time : Elapsed=5882 ms\n",
      "2025-10-02T18:31:58.781 +02:00 -|- FastTransfer -|- CSV_To_PGSQL_Parallel16_DataDriven_filename -|- INFORMATION -|- tpch.tpch_10.orders_heap -|- Total time : Elapsed=7405 ms\n",
      "2025-10-02T18:31:58.781 +02:00 -|- FastTransfer -|- CSV_To_PGSQL_Parallel16_DataDriven_filename -|- INFORMATION -|- tpch.tpch_10.orders_heap -|- Completed Load\n"
     ]
    }
   ],
   "source": [
    "cd D:\\FastTransfer\\\n",
    "\n",
    ".\\FastTransfer.exe `\n",
    "--sourceconnectiontype \"duckdbstream\" `\n",
    "--sourceserver \":memory:\" `\n",
    "--query \"SELECT * exclude filename FROM read_csv('D:\\temp\\mssql\\*orders*.csv', filename=true, decimal_separator=',')\" `\n",
    "--targetconnectiontype \"pgcopy\" `\n",
    "--targetserver \"localhost:25432\" `\n",
    "--targetuser \"FastUser\" `\n",
    "--targetpassword \"FastPassword\" `\n",
    "--targetdatabase \"tpch\" `\n",
    "--targetschema \"tpch_10\" `\n",
    "--targettable \"orders_heap\" `\n",
    "--method \"DataDriven\" `\n",
    "--distributeKeyColumn \"filename\" `\n",
    "--datadrivenquery \"select file from glob('D:\\temp\\mssql\\*orders*.csv')\" `\n",
    "--loadmode \"Truncate\" `\n",
    "--mapmethod \"Name\" `\n",
    "--degree 16 `\n",
    "--runid \"CSV_To_PGSQL_Parallel16_DataDriven_filename\""
   ]
  },
  {
   "cell_type": "markdown",
   "id": "dd1abbb2",
   "metadata": {},
   "source": [
    "## Import in parallel one big CSV file. \n",
    "It will be slower for sure but faster than a single threaded import."
   ]
  },
  {
   "cell_type": "code",
   "execution_count": 3,
   "id": "48a5f127",
   "metadata": {
    "language_info": {
     "name": "polyglot-notebook"
    },
    "polyglot_notebook": {
     "kernelName": "pwsh"
    }
   },
   "outputs": [
    {
     "name": "stdout",
     "output_type": "stream",
     "text": [
      "┌────────────┬───────────┬───────────────┬───┬─────────────────┬────────────────┬──────────────────────┐\n",
      "│ o_orderkey │ o_custkey │ o_orderstatus │ … │     o_clerk     │ o_shippriority │      o_comment       │\n",
      "│   int64    │   int64   │    varchar    │   │     varchar     │     int64      │       varchar        │\n",
      "├────────────┼───────────┼───────────────┼───┼─────────────────┼────────────────┼──────────────────────┤\n",
      "│          1 │    369001 │ O             │ … │ Clerk#000009506 │              0 │ ly express platele…  │\n",
      "│          2 │    780017 │ O             │ … │ Clerk#000008792 │              0 │ ve the furiously f…  │\n",
      "│          3 │   1233140 │ F             │ … │ Clerk#000009543 │              0 │  after the asympto…  │\n",
      "│          4 │   1367761 │ O             │ … │ Clerk#000001234 │              0 │ st the furiously b…  │\n",
      "│          5 │    444848 │ F             │ … │ Clerk#000009248 │              0 │ onic requests. car…  │\n",
      "│          6 │    556222 │ F             │ … │ Clerk#000000580 │              0 │ furiously ironic a…  │\n",
      "│          7 │    391343 │ O             │ … │ Clerk#000004697 │              0 │ , ironic packages wa │\n",
      "│         32 │   1300570 │ O             │ … │ Clerk#000006157 │              0 │ ly about the caref…  │\n",
      "│         33 │    669580 │ F             │ … │ Clerk#000004086 │              0 │  careful, regular …  │\n",
      "│         34 │    610001 │ O             │ … │ Clerk#000002228 │              0 │ osits according to…  │\n",
      "│         35 │   1275877 │ O             │ … │ Clerk#000002584 │              0 │ ing dugouts alongs…  │\n",
      "│         36 │   1152518 │ O             │ … │ Clerk#000003571 │              0 │ kages sleep after …  │\n",
      "│         37 │    861145 │ F             │ … │ Clerk#000004556 │              0 │ aggle carefully. f…  │\n",
      "│         38 │   1248280 │ O             │ … │ Clerk#000006037 │              0 │ counts. blithely e…  │\n",
      "│         39 │    817625 │ O             │ … │ Clerk#000006586 │              0 │ accounts since the…  │\n",
      "│         64 │    321127 │ F             │ … │ Clerk#000006603 │              0 │ lly according to t…  │\n",
      "│         65 │    162511 │ P             │ … │ Clerk#000006320 │              0 │ ounts sleep agains…  │\n",
      "│         66 │   1291996 │ F             │ … │ Clerk#000007423 │              0 │  regular ideas. ev…  │\n",
      "│         67 │    566122 │ O             │ … │ Clerk#000005465 │              0 │  furiously ironic …  │\n",
      "│         68 │    285469 │ O             │ … │ Clerk#000004394 │              0 │ ess packages. iron…  │\n",
      "│          · │       ·   │ ·             │ · │        ·        │              · │          ·           │\n",
      "│          · │       ·   │ ·             │ · │        ·        │              · │          ·           │\n",
      "│          · │       ·   │ ·             │ · │        ·        │              · │          ·           │\n",
      "│   56249762 │   1142702 │ O             │ … │ Clerk#000000698 │              0 │ nding foxes. regul…  │\n",
      "│   56249763 │    877892 │ F             │ … │ Clerk#000000052 │              0 │ bold deposits grow   │\n",
      "│   56249764 │    718360 │ F             │ … │ Clerk#000008241 │              0 │  must wake blithel…  │\n",
      "│   56249765 │   1448650 │ F             │ … │ Clerk#000000203 │              0 │ ut the fluffily bold │\n",
      "│   56249766 │    944674 │ O             │ … │ Clerk#000007001 │              0 │ quests cajole. exp…  │\n",
      "│   56249767 │   1109647 │ O             │ … │ Clerk#000007433 │              0 │ e. packages sleep …  │\n",
      "│   56249792 │    334873 │ F             │ … │ Clerk#000004576 │              0 │ rs are blithely ev…  │\n",
      "│   56249793 │    186001 │ F             │ … │ Clerk#000006042 │              0 │ regular grouches. …  │\n",
      "│   56249794 │    105461 │ O             │ … │ Clerk#000005284 │              0 │ ic pinto beans hag…  │\n",
      "│   56249795 │    974486 │ O             │ … │ Clerk#000004610 │              0 │ ions boost furious…  │\n",
      "│   56249796 │   1174939 │ O             │ … │ Clerk#000005226 │              0 │ ajole ironically a…  │\n",
      "│   56249797 │   1183826 │ F             │ … │ Clerk#000004858 │              0 │ ithely. unusual pa…  │\n",
      "│   56249798 │    547297 │ F             │ … │ Clerk#000009103 │              0 │ requests detect qu…  │\n",
      "│   56249799 │    406556 │ F             │ … │ Clerk#000009213 │              0 │ ts. slyly special …  │\n",
      "│   56249824 │    485155 │ F             │ … │ Clerk#000000755 │              0 │ latelets about the…  │\n",
      "│   56249825 │   1473466 │ F             │ … │ Clerk#000003192 │              0 │ x above the blithe…  │\n",
      "│   56249826 │   1034341 │ O             │ … │ Clerk#000005108 │              0 │ hely against the c…  │\n",
      "│   56249827 │    655942 │ O             │ … │ Clerk#000003515 │              0 │ ts. even excuses a…  │\n",
      "│   56249828 │    908512 │ O             │ … │ Clerk#000002718 │              0 │ the even, ironic r…  │\n",
      "│   56249829 │    854105 │ F             │ … │ Clerk#000009689 │              0 │ ent packages poach…  │\n",
      "├────────────┴───────────┴───────────────┴───┴─────────────────┴────────────────┴──────────────────────┤\n",
      "│ 15000000 rows (40 shown)                                                         9 columns (6 shown) │\n",
      "└──────────────────────────────────────────────────────────────────────────────────────────────────────┘\n"
     ]
    }
   ],
   "source": [
    "duckdb.exe -c \"SELECT * FROM read_csv('D:\\temp\\PGCOPY_ONEBIG\\PGCOPY_ORDERS.csv');\""
   ]
  },
  {
   "cell_type": "code",
   "execution_count": 4,
   "metadata": {
    "language_info": {
     "name": "polyglot-notebook"
    },
    "polyglot_notebook": {
     "kernelName": "pwsh"
    }
   },
   "outputs": [
    {
     "name": "stdout",
     "output_type": "stream",
     "text": [
      "2025-10-02T18:33:30.902 +02:00 -|- FastTransfer -|- CSV_To_PGSQL_NoParallel -|- INFORMATION -|- tpch.tpch_10.orders_heap -|- FastTransfer - running in trial mode – will expires on 2025‑10‑27 (24 day(s) left).\n",
      "2025-10-02T18:33:30.912 +02:00 -|- FastTransfer -|- CSV_To_PGSQL_NoParallel -|- INFORMATION -|- tpch.tpch_10.orders_heap -|- Starting\n",
      "2025-10-02T18:33:30.912 +02:00 -|- FastTransfer -|- CSV_To_PGSQL_NoParallel -|- INFORMATION -|- tpch.tpch_10.orders_heap -|- FastTransfer Version : 0.13.12.0 Architecture : X64 - Framework : .NET 8.0.20\n",
      "2025-10-02T18:33:30.912 +02:00 -|- FastTransfer -|- CSV_To_PGSQL_NoParallel -|- INFORMATION -|- tpch.tpch_10.orders_heap -|- OS : Microsoft Windows 10.0.26100\n",
      "2025-10-02T18:33:30.912 +02:00 -|- FastTransfer -|- CSV_To_PGSQL_NoParallel -|- INFORMATION -|- tpch.tpch_10.orders_heap -|- Process ID : 18460\n",
      "2025-10-02T18:33:30.912 +02:00 -|- FastTransfer -|- CSV_To_PGSQL_NoParallel -|- INFORMATION -|- tpch.tpch_10.orders_heap -|- Provided Run ID : CSV_To_PGSQL_NoParallel\n",
      "2025-10-02T18:33:30.912 +02:00 -|- FastTransfer -|- CSV_To_PGSQL_NoParallel -|- INFORMATION -|- tpch.tpch_10.orders_heap -|- Source Connection Type : duckdbstream\n",
      "2025-10-02T18:33:30.914 +02:00 -|- FastTransfer -|- CSV_To_PGSQL_NoParallel -|- INFORMATION -|- tpch.tpch_10.orders_heap -|- Source ConnectString : DataSource=:memory:;memory_limit=1GB\n",
      "2025-10-02T18:33:30.914 +02:00 -|- FastTransfer -|- CSV_To_PGSQL_NoParallel -|- INFORMATION -|- tpch.tpch_10.orders_heap -|- Source Trusted Connection : False\n",
      "2025-10-02T18:33:30.914 +02:00 -|- FastTransfer -|- CSV_To_PGSQL_NoParallel -|- INFORMATION -|- tpch.tpch_10.orders_heap -|- Query : SELECT * FROM read_csv('D:\\temp\\PGCOPY_ONEBIG\\PGCOPY_ORDERS.csv')\n",
      "2025-10-02T18:33:30.914 +02:00 -|- FastTransfer -|- CSV_To_PGSQL_NoParallel -|- INFORMATION -|- tpch.tpch_10.orders_heap -|- Target Type : pgcopy\n",
      "2025-10-02T18:33:30.914 +02:00 -|- FastTransfer -|- CSV_To_PGSQL_NoParallel -|- INFORMATION -|- tpch.tpch_10.orders_heap -|- Target Server : localhost:25432\n",
      "2025-10-02T18:33:30.914 +02:00 -|- FastTransfer -|- CSV_To_PGSQL_NoParallel -|- INFORMATION -|- tpch.tpch_10.orders_heap -|- Target Database : tpch\n",
      "2025-10-02T18:33:30.914 +02:00 -|- FastTransfer -|- CSV_To_PGSQL_NoParallel -|- INFORMATION -|- tpch.tpch_10.orders_heap -|- Target Schema : tpch_10\n",
      "2025-10-02T18:33:30.914 +02:00 -|- FastTransfer -|- CSV_To_PGSQL_NoParallel -|- INFORMATION -|- tpch.tpch_10.orders_heap -|- Target Table : orders_heap\n",
      "2025-10-02T18:33:30.914 +02:00 -|- FastTransfer -|- CSV_To_PGSQL_NoParallel -|- INFORMATION -|- tpch.tpch_10.orders_heap -|- Target Trusted Connection : False\n",
      "2025-10-02T18:33:30.914 +02:00 -|- FastTransfer -|- CSV_To_PGSQL_NoParallel -|- INFORMATION -|- tpch.tpch_10.orders_heap -|- Target User : FastUser\n",
      "2025-10-02T18:33:30.914 +02:00 -|- FastTransfer -|- CSV_To_PGSQL_NoParallel -|- INFORMATION -|- tpch.tpch_10.orders_heap -|- Columns Map Method : Name\n",
      "2025-10-02T18:33:30.914 +02:00 -|- FastTransfer -|- CSV_To_PGSQL_NoParallel -|- INFORMATION -|- tpch.tpch_10.orders_heap -|- Degree : -4\n",
      "2025-10-02T18:33:30.914 +02:00 -|- FastTransfer -|- CSV_To_PGSQL_NoParallel -|- INFORMATION -|- tpch.tpch_10.orders_heap -|- Distribute Method : None\n",
      "2025-10-02T18:33:30.914 +02:00 -|- FastTransfer -|- CSV_To_PGSQL_NoParallel -|- INFORMATION -|- tpch.tpch_10.orders_heap -|- Bulkcopy Batch Size : 1048576\n",
      "2025-10-02T18:33:30.914 +02:00 -|- FastTransfer -|- CSV_To_PGSQL_NoParallel -|- INFORMATION -|- tpch.tpch_10.orders_heap -|- Load Mode : Truncate\n",
      "2025-10-02T18:33:30.914 +02:00 -|- FastTransfer -|- CSV_To_PGSQL_NoParallel -|- INFORMATION -|- tpch.tpch_10.orders_heap -|- Use Work Tables : False\n",
      "2025-10-02T18:33:30.915 +02:00 -|- FastTransfer -|- CSV_To_PGSQL_NoParallel -|- INFORMATION -|- tpch.tpch_10.orders_heap -|- Encoding used : Unicode (UTF-8) - 65001 - utf-8\n",
      "2025-10-02T18:33:30.916 +02:00 -|- FastTransfer -|- CSV_To_PGSQL_NoParallel -|- INFORMATION -|- tpch.tpch_10.orders_heap -|- Process Priority set to High\n",
      "2025-10-02T18:33:30.982 +02:00 -|- FastTransfer -|- CSV_To_PGSQL_NoParallel -|- INFORMATION -|- tpch.tpch_10.orders_heap -|- Source Connection String : DataSource=:memory:;memory_limit=1GB\n",
      "2025-10-02T18:33:30.982 +02:00 -|- FastTransfer -|- CSV_To_PGSQL_NoParallel -|- INFORMATION -|- tpch.tpch_10.orders_heap -|- Target Connection String : Host=localhost;Port=25432;Database=tpch;Trust Server Certificate=True;Application Name=FastTransfer;Timeout=15;Command Timeout=10800;Username=FastUser;Password=xxxxx\n",
      "2025-10-02T18:33:30.982 +02:00 -|- FastTransfer -|- CSV_To_PGSQL_NoParallel -|- INFORMATION -|- tpch.tpch_10.orders_heap -|- Source Database Version : DuckDB v1.3.2\n",
      "2025-10-02T18:33:30.982 +02:00 -|- FastTransfer -|- CSV_To_PGSQL_NoParallel -|- INFORMATION -|- tpch.tpch_10.orders_heap -|- Target Database Version : PostgreSQL 17.2 on x86_64-windows, compiled by msvc-19.42.34435, 64-bit\n",
      "2025-10-02T18:33:32.200 +02:00 -|- FastTransfer -|- CSV_To_PGSQL_NoParallel -|- INFORMATION -|- tpch.tpch_10.orders_heap -|- Start Loading Data using distribution method None\n",
      "2025-10-02T18:33:59.697 +02:00 -|- FastTransfer -|- CSV_To_PGSQL_NoParallel -|- INFORMATION -|- tpch.tpch_10.orders_heap -|- Total rows : 15000000\n",
      "2025-10-02T18:33:59.698 +02:00 -|- FastTransfer -|- CSV_To_PGSQL_NoParallel -|- INFORMATION -|- tpch.tpch_10.orders_heap -|- Total columns : 9\n",
      "2025-10-02T18:33:59.698 +02:00 -|- FastTransfer -|- CSV_To_PGSQL_NoParallel -|- INFORMATION -|- tpch.tpch_10.orders_heap -|- Total cells : 135000000\n",
      "2025-10-02T18:33:59.698 +02:00 -|- FastTransfer -|- CSV_To_PGSQL_NoParallel -|- INFORMATION -|- tpch.tpch_10.orders_heap -|- Rows Throughput : 545334 rows/s\n",
      "2025-10-02T18:33:59.698 +02:00 -|- FastTransfer -|- CSV_To_PGSQL_NoParallel -|- INFORMATION -|- tpch.tpch_10.orders_heap -|- Cells Throughput : 4908013 cells/s\n",
      "2025-10-02T18:33:59.698 +02:00 -|- FastTransfer -|- CSV_To_PGSQL_NoParallel -|- INFORMATION -|- tpch.tpch_10.orders_heap -|- Transfert time : Elapsed=27506 ms\n",
      "2025-10-02T18:33:59.698 +02:00 -|- FastTransfer -|- CSV_To_PGSQL_NoParallel -|- INFORMATION -|- tpch.tpch_10.orders_heap -|- Total time : Elapsed=28952 ms\n",
      "2025-10-02T18:33:59.698 +02:00 -|- FastTransfer -|- CSV_To_PGSQL_NoParallel -|- INFORMATION -|- tpch.tpch_10.orders_heap -|- Completed Load\n"
     ]
    }
   ],
   "source": [
    "cd D:\\FastTransfer\\\n",
    "\n",
    ".\\FastTransfer.exe `\n",
    "--sourceconnectiontype \"duckdbstream\" `\n",
    "--sourceconnectstring \"DataSource=:memory:;memory_limit=1GB\" `\n",
    "--query \"SELECT * FROM read_csv('D:\\temp\\PGCOPY_ONEBIG\\PGCOPY_ORDERS.csv')\" `\n",
    "--targetconnectiontype \"pgcopy\" `\n",
    "--targetserver \"localhost:25432\" `\n",
    "--targetuser \"FastUser\" `\n",
    "--targetpassword \"FastPassword\" `\n",
    "--targetdatabase \"tpch\" `\n",
    "--targetschema \"tpch_10\" `\n",
    "--targettable \"orders_heap\" `\n",
    "--method \"None\" `\n",
    "--loadmode \"Truncate\" `\n",
    "--mapmethod \"Name\" `\n",
    "--runid \"CSV_To_PGSQL_NoParallel\""
   ]
  },
  {
   "cell_type": "code",
   "execution_count": 5,
   "metadata": {
    "polyglot_notebook": {
     "kernelName": "pwsh"
    }
   },
   "outputs": [
    {
     "name": "stdout",
     "output_type": "stream",
     "text": [
      "2025-10-02T18:34:44.910 +02:00 -|- FastTransfer -|- CSV_To_PGSQL_Parallel_RangeId_4 -|- INFORMATION -|- tpch.tpch_10.orders_heap -|- FastTransfer - running in trial mode – will expires on 2025‑10‑27 (24 day(s) left).\n",
      "2025-10-02T18:34:44.919 +02:00 -|- FastTransfer -|- CSV_To_PGSQL_Parallel_RangeId_4 -|- INFORMATION -|- tpch.tpch_10.orders_heap -|- Starting\n",
      "2025-10-02T18:34:44.919 +02:00 -|- FastTransfer -|- CSV_To_PGSQL_Parallel_RangeId_4 -|- INFORMATION -|- tpch.tpch_10.orders_heap -|- FastTransfer Version : 0.13.12.0 Architecture : X64 - Framework : .NET 8.0.20\n",
      "2025-10-02T18:34:44.919 +02:00 -|- FastTransfer -|- CSV_To_PGSQL_Parallel_RangeId_4 -|- INFORMATION -|- tpch.tpch_10.orders_heap -|- OS : Microsoft Windows 10.0.26100\n",
      "2025-10-02T18:34:44.919 +02:00 -|- FastTransfer -|- CSV_To_PGSQL_Parallel_RangeId_4 -|- INFORMATION -|- tpch.tpch_10.orders_heap -|- Process ID : 7328\n",
      "2025-10-02T18:34:44.919 +02:00 -|- FastTransfer -|- CSV_To_PGSQL_Parallel_RangeId_4 -|- INFORMATION -|- tpch.tpch_10.orders_heap -|- Provided Run ID : CSV_To_PGSQL_Parallel_RangeId_4\n",
      "2025-10-02T18:34:44.919 +02:00 -|- FastTransfer -|- CSV_To_PGSQL_Parallel_RangeId_4 -|- INFORMATION -|- tpch.tpch_10.orders_heap -|- Source Connection Type : duckdbstream\n",
      "2025-10-02T18:34:44.921 +02:00 -|- FastTransfer -|- CSV_To_PGSQL_Parallel_RangeId_4 -|- INFORMATION -|- tpch.tpch_10.orders_heap -|- Source ConnectString : DataSource=:memory:;memory_limit=1GB\n",
      "2025-10-02T18:34:44.921 +02:00 -|- FastTransfer -|- CSV_To_PGSQL_Parallel_RangeId_4 -|- INFORMATION -|- tpch.tpch_10.orders_heap -|- Source Trusted Connection : False\n",
      "2025-10-02T18:34:44.921 +02:00 -|- FastTransfer -|- CSV_To_PGSQL_Parallel_RangeId_4 -|- INFORMATION -|- tpch.tpch_10.orders_heap -|- Query : SELECT * FROM read_csv('D:\\temp\\PGCOPY_ONEBIG\\PGCOPY_ORDERS.csv')\n",
      "2025-10-02T18:34:44.921 +02:00 -|- FastTransfer -|- CSV_To_PGSQL_Parallel_RangeId_4 -|- INFORMATION -|- tpch.tpch_10.orders_heap -|- Target Type : pgcopy\n",
      "2025-10-02T18:34:44.921 +02:00 -|- FastTransfer -|- CSV_To_PGSQL_Parallel_RangeId_4 -|- INFORMATION -|- tpch.tpch_10.orders_heap -|- Target Server : localhost:25432\n",
      "2025-10-02T18:34:44.921 +02:00 -|- FastTransfer -|- CSV_To_PGSQL_Parallel_RangeId_4 -|- INFORMATION -|- tpch.tpch_10.orders_heap -|- Target Database : tpch\n",
      "2025-10-02T18:34:44.921 +02:00 -|- FastTransfer -|- CSV_To_PGSQL_Parallel_RangeId_4 -|- INFORMATION -|- tpch.tpch_10.orders_heap -|- Target Schema : tpch_10\n",
      "2025-10-02T18:34:44.921 +02:00 -|- FastTransfer -|- CSV_To_PGSQL_Parallel_RangeId_4 -|- INFORMATION -|- tpch.tpch_10.orders_heap -|- Target Table : orders_heap\n",
      "2025-10-02T18:34:44.922 +02:00 -|- FastTransfer -|- CSV_To_PGSQL_Parallel_RangeId_4 -|- INFORMATION -|- tpch.tpch_10.orders_heap -|- Target Trusted Connection : False\n",
      "2025-10-02T18:34:44.922 +02:00 -|- FastTransfer -|- CSV_To_PGSQL_Parallel_RangeId_4 -|- INFORMATION -|- tpch.tpch_10.orders_heap -|- Target User : FastUser\n",
      "2025-10-02T18:34:44.922 +02:00 -|- FastTransfer -|- CSV_To_PGSQL_Parallel_RangeId_4 -|- INFORMATION -|- tpch.tpch_10.orders_heap -|- Columns Map Method : Name\n",
      "2025-10-02T18:34:44.922 +02:00 -|- FastTransfer -|- CSV_To_PGSQL_Parallel_RangeId_4 -|- INFORMATION -|- tpch.tpch_10.orders_heap -|- Degree : 4\n",
      "2025-10-02T18:34:44.922 +02:00 -|- FastTransfer -|- CSV_To_PGSQL_Parallel_RangeId_4 -|- INFORMATION -|- tpch.tpch_10.orders_heap -|- Distribute Method : RangeId\n",
      "2025-10-02T18:34:44.922 +02:00 -|- FastTransfer -|- CSV_To_PGSQL_Parallel_RangeId_4 -|- INFORMATION -|- tpch.tpch_10.orders_heap -|- Distribute Column : o_orderkey\n",
      "2025-10-02T18:34:44.922 +02:00 -|- FastTransfer -|- CSV_To_PGSQL_Parallel_RangeId_4 -|- INFORMATION -|- tpch.tpch_10.orders_heap -|- Bulkcopy Batch Size : 1048576\n",
      "2025-10-02T18:34:44.922 +02:00 -|- FastTransfer -|- CSV_To_PGSQL_Parallel_RangeId_4 -|- INFORMATION -|- tpch.tpch_10.orders_heap -|- Load Mode : Truncate\n",
      "2025-10-02T18:34:44.922 +02:00 -|- FastTransfer -|- CSV_To_PGSQL_Parallel_RangeId_4 -|- INFORMATION -|- tpch.tpch_10.orders_heap -|- Use Work Tables : False\n",
      "2025-10-02T18:34:44.922 +02:00 -|- FastTransfer -|- CSV_To_PGSQL_Parallel_RangeId_4 -|- INFORMATION -|- tpch.tpch_10.orders_heap -|- Encoding used : Unicode (UTF-8) - 65001 - utf-8\n",
      "2025-10-02T18:34:44.923 +02:00 -|- FastTransfer -|- CSV_To_PGSQL_Parallel_RangeId_4 -|- INFORMATION -|- tpch.tpch_10.orders_heap -|- Process Priority set to High\n",
      "2025-10-02T18:34:44.985 +02:00 -|- FastTransfer -|- CSV_To_PGSQL_Parallel_RangeId_4 -|- INFORMATION -|- tpch.tpch_10.orders_heap -|- Source Connection String : DataSource=:memory:;memory_limit=1GB\n",
      "2025-10-02T18:34:44.985 +02:00 -|- FastTransfer -|- CSV_To_PGSQL_Parallel_RangeId_4 -|- INFORMATION -|- tpch.tpch_10.orders_heap -|- Target Connection String : Host=localhost;Port=25432;Database=tpch;Trust Server Certificate=True;Application Name=FastTransfer;Timeout=15;Command Timeout=10800;Username=FastUser;Password=xxxxx\n",
      "2025-10-02T18:34:44.985 +02:00 -|- FastTransfer -|- CSV_To_PGSQL_Parallel_RangeId_4 -|- INFORMATION -|- tpch.tpch_10.orders_heap -|- Source Database Version : DuckDB v1.3.2\n",
      "2025-10-02T18:34:44.985 +02:00 -|- FastTransfer -|- CSV_To_PGSQL_Parallel_RangeId_4 -|- INFORMATION -|- tpch.tpch_10.orders_heap -|- Target Database Version : PostgreSQL 17.2 on x86_64-windows, compiled by msvc-19.42.34435, 64-bit\n",
      "2025-10-02T18:34:46.940 +02:00 -|- FastTransfer -|- CSV_To_PGSQL_Parallel_RangeId_4 -|- INFORMATION -|- tpch.tpch_10.orders_heap -|- Start Loading Data using distribution method RangeId\n",
      "2025-10-02T18:34:46.965 +02:00 -|- FastTransfer -|- CSV_To_PGSQL_Parallel_RangeId_4 -|- INFORMATION -|- tpch.tpch_10.orders_heap -|- Start Loading Data using distribution method RangeId\n",
      "2025-10-02T18:34:46.967 +02:00 -|- FastTransfer -|- CSV_To_PGSQL_Parallel_RangeId_4 -|- INFORMATION -|- tpch.tpch_10.orders_heap -|- Start Loading Data using distribution method RangeId\n",
      "2025-10-02T18:34:47.080 +02:00 -|- FastTransfer -|- CSV_To_PGSQL_Parallel_RangeId_4 -|- INFORMATION -|- tpch.tpch_10.orders_heap -|- Start Loading Data using distribution method RangeId\n",
      "2025-10-02T18:34:56.048 +02:00 -|- FastTransfer -|- CSV_To_PGSQL_Parallel_RangeId_4 -|- INFORMATION -|- tpch.tpch_10.orders_heap -|- Completed RangeId Parallel Load 3 : 3750001 rows x 9 columns in 9118 ms\n",
      "2025-10-02T18:34:56.207 +02:00 -|- FastTransfer -|- CSV_To_PGSQL_Parallel_RangeId_4 -|- INFORMATION -|- tpch.tpch_10.orders_heap -|- Completed RangeId Parallel Load 2 : 3750000 rows x 9 columns in 9278 ms\n",
      "2025-10-02T18:34:56.504 +02:00 -|- FastTransfer -|- CSV_To_PGSQL_Parallel_RangeId_4 -|- INFORMATION -|- tpch.tpch_10.orders_heap -|- Completed RangeId Parallel Load 0 : 3749999 rows x 9 columns in 9575 ms\n",
      "2025-10-02T18:34:56.806 +02:00 -|- FastTransfer -|- CSV_To_PGSQL_Parallel_RangeId_4 -|- INFORMATION -|- tpch.tpch_10.orders_heap -|- Completed RangeId Parallel Load 1 : 3750000 rows x 9 columns in 9878 ms\n",
      "2025-10-02T18:34:56.808 +02:00 -|- FastTransfer -|- CSV_To_PGSQL_Parallel_RangeId_4 -|- INFORMATION -|- tpch.tpch_10.orders_heap -|- Total rows : 15000000\n",
      "2025-10-02T18:34:56.808 +02:00 -|- FastTransfer -|- CSV_To_PGSQL_Parallel_RangeId_4 -|- INFORMATION -|- tpch.tpch_10.orders_heap -|- Total columns : 9\n",
      "2025-10-02T18:34:56.808 +02:00 -|- FastTransfer -|- CSV_To_PGSQL_Parallel_RangeId_4 -|- INFORMATION -|- tpch.tpch_10.orders_heap -|- Total cells : 135000000\n",
      "2025-10-02T18:34:56.808 +02:00 -|- FastTransfer -|- CSV_To_PGSQL_Parallel_RangeId_4 -|- INFORMATION -|- tpch.tpch_10.orders_heap -|- Rows Throughput : 1416785 rows/s\n",
      "2025-10-02T18:34:56.808 +02:00 -|- FastTransfer -|- CSV_To_PGSQL_Parallel_RangeId_4 -|- INFORMATION -|- tpch.tpch_10.orders_heap -|- Cells Throughput : 12751078 cells/s\n",
      "2025-10-02T18:34:56.808 +02:00 -|- FastTransfer -|- CSV_To_PGSQL_Parallel_RangeId_4 -|- INFORMATION -|- tpch.tpch_10.orders_heap -|- Transfert time : Elapsed=10587 ms\n",
      "2025-10-02T18:34:56.808 +02:00 -|- FastTransfer -|- CSV_To_PGSQL_Parallel_RangeId_4 -|- INFORMATION -|- tpch.tpch_10.orders_heap -|- Total time : Elapsed=12055 ms\n",
      "2025-10-02T18:34:56.808 +02:00 -|- FastTransfer -|- CSV_To_PGSQL_Parallel_RangeId_4 -|- INFORMATION -|- tpch.tpch_10.orders_heap -|- Completed Load\n"
     ]
    }
   ],
   "source": [
    "cd D:\\FastTransfer\\\n",
    "\n",
    ".\\FastTransfer.exe `\n",
    "--sourceconnectiontype \"duckdbstream\" `\n",
    "--sourceconnectstring \"DataSource=:memory:;memory_limit=1GB\" `\n",
    "--query \"SELECT * FROM read_csv('D:\\temp\\PGCOPY_ONEBIG\\PGCOPY_ORDERS.csv')\" `\n",
    "--targetconnectiontype \"pgcopy\" `\n",
    "--targetserver \"localhost:25432\" `\n",
    "--targetuser \"FastUser\" `\n",
    "--targetpassword \"FastPassword\" `\n",
    "--targetdatabase \"tpch\" `\n",
    "--targetschema \"tpch_10\" `\n",
    "--targettable \"orders_heap\" `\n",
    "--method \"RangeId\" `\n",
    "--distributeKeyColumn \"o_orderkey\" `\n",
    "--loadmode \"Truncate\" `\n",
    "--mapmethod \"Name\" `\n",
    "--degree 4 `\n",
    "--runid \"CSV_To_PGSQL_Parallel_RangeId_4\""
   ]
  },
  {
   "cell_type": "markdown",
   "id": "af3b3ed1",
   "metadata": {},
   "source": [
    "Going faster with one file in source is possible but you need to infer the structure of the CSV file only once using duckdb sniffing"
   ]
  },
  {
   "cell_type": "code",
   "execution_count": 3,
   "metadata": {
    "language_info": {
     "name": "polyglot-notebook"
    },
    "polyglot_notebook": {
     "kernelName": "pwsh"
    }
   },
   "outputs": [],
   "source": [
    "\n",
    "$promptjson = duckdb.exe -json -c \"SELECT Prompt FROM sniff_csv('D:\\temp\\PGCOPY_ONEBIG\\PGCOPY_ORDERS.csv');\"\n",
    "$prompt = $promptjson | ConvertFrom-Json\n",
    "$fromclause = $prompt.Prompt\n",
    "$query = \"SELECT * ${fromclause}\""
   ]
  },
  {
   "cell_type": "code",
   "execution_count": 5,
   "metadata": {
    "language_info": {
     "name": "polyglot-notebook"
    },
    "polyglot_notebook": {
     "kernelName": "pwsh"
    }
   },
   "outputs": [
    {
     "name": "stdout",
     "output_type": "stream",
     "text": [
      "2025-09-30T21:05:49.708 +02:00 -|- FastTransfer -|- CSV_To_MSSQL_Parallel_RangeId_4 -|- INFORMATION -|- tpch.tpch_10.orders_heap -|- FastTransfer - running in trial mode – will expires on 2025‑10‑27 (26 day(s) left).\n",
      "2025-09-30T21:05:49.717 +02:00 -|- FastTransfer -|- CSV_To_MSSQL_Parallel_RangeId_4 -|- INFORMATION -|- tpch.tpch_10.orders_heap -|- Starting\n",
      "2025-09-30T21:05:49.717 +02:00 -|- FastTransfer -|- CSV_To_MSSQL_Parallel_RangeId_4 -|- INFORMATION -|- tpch.tpch_10.orders_heap -|- FastTransfer Version : 0.13.12.0 Architecture : X64 - Framework : .NET 8.0.20\n",
      "2025-09-30T21:05:49.717 +02:00 -|- FastTransfer -|- CSV_To_MSSQL_Parallel_RangeId_4 -|- INFORMATION -|- tpch.tpch_10.orders_heap -|- OS : Microsoft Windows 10.0.26100\n",
      "2025-09-30T21:05:49.717 +02:00 -|- FastTransfer -|- CSV_To_MSSQL_Parallel_RangeId_4 -|- INFORMATION -|- tpch.tpch_10.orders_heap -|- Process ID : 24376\n",
      "2025-09-30T21:05:49.717 +02:00 -|- FastTransfer -|- CSV_To_MSSQL_Parallel_RangeId_4 -|- INFORMATION -|- tpch.tpch_10.orders_heap -|- Provided Run ID : CSV_To_MSSQL_Parallel_RangeId_4\n",
      "2025-09-30T21:05:49.717 +02:00 -|- FastTransfer -|- CSV_To_MSSQL_Parallel_RangeId_4 -|- INFORMATION -|- tpch.tpch_10.orders_heap -|- Source Connection Type : duckdbstream\n",
      "2025-09-30T21:05:49.719 +02:00 -|- FastTransfer -|- CSV_To_MSSQL_Parallel_RangeId_4 -|- INFORMATION -|- tpch.tpch_10.orders_heap -|- Source ConnectString : DataSource=:memory:;memory_limit=2GB;threads=6\n",
      "2025-09-30T21:05:49.719 +02:00 -|- FastTransfer -|- CSV_To_MSSQL_Parallel_RangeId_4 -|- INFORMATION -|- tpch.tpch_10.orders_heap -|- Source Trusted Connection : False\n",
      "2025-09-30T21:05:49.719 +02:00 -|- FastTransfer -|- CSV_To_MSSQL_Parallel_RangeId_4 -|- INFORMATION -|- tpch.tpch_10.orders_heap -|- Query : SELECT * FROM read_csv('D:\\temp\\PGCOPY_ONEBIG\\PGCOPY_ORDERS.csv', auto_detect=false, delim='|', quote='\"', escape='\"', new_line='\\r\\n', skip=0, header=true, columns={'o_orderkey': 'BIGINT', 'o_custkey': 'BIGINT', 'o_orderstatus': 'VARCHAR', 'o_totalprice': 'DOUBLE', 'o_orderdate': 'DATE', 'o_orderpriority': 'VARCHAR', 'o_clerk': 'VARCHAR', 'o_shippriority': 'BIGINT', 'o_comment': 'VARCHAR'}, dateformat='%Y-%m-%d');\n",
      "2025-09-30T21:05:49.719 +02:00 -|- FastTransfer -|- CSV_To_MSSQL_Parallel_RangeId_4 -|- INFORMATION -|- tpch.tpch_10.orders_heap -|- Target Type : pgcopy\n",
      "2025-09-30T21:05:49.719 +02:00 -|- FastTransfer -|- CSV_To_MSSQL_Parallel_RangeId_4 -|- INFORMATION -|- tpch.tpch_10.orders_heap -|- Target Server : localhost:25432\n",
      "2025-09-30T21:05:49.719 +02:00 -|- FastTransfer -|- CSV_To_MSSQL_Parallel_RangeId_4 -|- INFORMATION -|- tpch.tpch_10.orders_heap -|- Target Database : tpch\n",
      "2025-09-30T21:05:49.719 +02:00 -|- FastTransfer -|- CSV_To_MSSQL_Parallel_RangeId_4 -|- INFORMATION -|- tpch.tpch_10.orders_heap -|- Target Schema : tpch_10\n",
      "2025-09-30T21:05:49.719 +02:00 -|- FastTransfer -|- CSV_To_MSSQL_Parallel_RangeId_4 -|- INFORMATION -|- tpch.tpch_10.orders_heap -|- Target Table : orders_heap\n",
      "2025-09-30T21:05:49.719 +02:00 -|- FastTransfer -|- CSV_To_MSSQL_Parallel_RangeId_4 -|- INFORMATION -|- tpch.tpch_10.orders_heap -|- Target Trusted Connection : False\n",
      "2025-09-30T21:05:49.719 +02:00 -|- FastTransfer -|- CSV_To_MSSQL_Parallel_RangeId_4 -|- INFORMATION -|- tpch.tpch_10.orders_heap -|- Target User : FastUser\n",
      "2025-09-30T21:05:49.719 +02:00 -|- FastTransfer -|- CSV_To_MSSQL_Parallel_RangeId_4 -|- INFORMATION -|- tpch.tpch_10.orders_heap -|- Columns Map Method : Name\n",
      "2025-09-30T21:05:49.719 +02:00 -|- FastTransfer -|- CSV_To_MSSQL_Parallel_RangeId_4 -|- INFORMATION -|- tpch.tpch_10.orders_heap -|- Degree : 8\n",
      "2025-09-30T21:05:49.719 +02:00 -|- FastTransfer -|- CSV_To_MSSQL_Parallel_RangeId_4 -|- INFORMATION -|- tpch.tpch_10.orders_heap -|- Distribute Method : RangeId\n",
      "2025-09-30T21:05:49.719 +02:00 -|- FastTransfer -|- CSV_To_MSSQL_Parallel_RangeId_4 -|- INFORMATION -|- tpch.tpch_10.orders_heap -|- Distribute Column : o_orderkey\n",
      "2025-09-30T21:05:49.719 +02:00 -|- FastTransfer -|- CSV_To_MSSQL_Parallel_RangeId_4 -|- INFORMATION -|- tpch.tpch_10.orders_heap -|- Bulkcopy Batch Size : 1048576\n",
      "2025-09-30T21:05:49.719 +02:00 -|- FastTransfer -|- CSV_To_MSSQL_Parallel_RangeId_4 -|- INFORMATION -|- tpch.tpch_10.orders_heap -|- Load Mode : Truncate\n",
      "2025-09-30T21:05:49.719 +02:00 -|- FastTransfer -|- CSV_To_MSSQL_Parallel_RangeId_4 -|- INFORMATION -|- tpch.tpch_10.orders_heap -|- Use Work Tables : False\n",
      "2025-09-30T21:05:49.720 +02:00 -|- FastTransfer -|- CSV_To_MSSQL_Parallel_RangeId_4 -|- INFORMATION -|- tpch.tpch_10.orders_heap -|- Encoding used : Unicode (UTF-8) - 65001 - utf-8\n",
      "2025-09-30T21:05:49.720 +02:00 -|- FastTransfer -|- CSV_To_MSSQL_Parallel_RangeId_4 -|- INFORMATION -|- tpch.tpch_10.orders_heap -|- Process Priority set to High\n",
      "2025-09-30T21:05:49.782 +02:00 -|- FastTransfer -|- CSV_To_MSSQL_Parallel_RangeId_4 -|- INFORMATION -|- tpch.tpch_10.orders_heap -|- Source Connection String : DataSource=:memory:;memory_limit=2GB;threads=6\n",
      "2025-09-30T21:05:49.782 +02:00 -|- FastTransfer -|- CSV_To_MSSQL_Parallel_RangeId_4 -|- INFORMATION -|- tpch.tpch_10.orders_heap -|- Target Connection String : Host=localhost;Port=25432;Database=tpch;Trust Server Certificate=True;Application Name=FastTransfer;Timeout=15;Command Timeout=10800;Username=FastUser;Password=xxxxx\n",
      "2025-09-30T21:05:49.782 +02:00 -|- FastTransfer -|- CSV_To_MSSQL_Parallel_RangeId_4 -|- INFORMATION -|- tpch.tpch_10.orders_heap -|- Source Database Version : DuckDB v1.3.2\n",
      "2025-09-30T21:05:49.782 +02:00 -|- FastTransfer -|- CSV_To_MSSQL_Parallel_RangeId_4 -|- INFORMATION -|- tpch.tpch_10.orders_heap -|- Target Database Version : PostgreSQL 17.2 on x86_64-windows, compiled by msvc-19.42.34435, 64-bit\n",
      "2025-09-30T21:05:51.648 +02:00 -|- FastTransfer -|- CSV_To_MSSQL_Parallel_RangeId_4 -|- INFORMATION -|- tpch.tpch_10.orders_heap -|- Start Loading Data using distribution method RangeId\n",
      "2025-09-30T21:05:51.675 +02:00 -|- FastTransfer -|- CSV_To_MSSQL_Parallel_RangeId_4 -|- INFORMATION -|- tpch.tpch_10.orders_heap -|- Start Loading Data using distribution method RangeId\n",
      "2025-09-30T21:05:51.682 +02:00 -|- FastTransfer -|- CSV_To_MSSQL_Parallel_RangeId_4 -|- INFORMATION -|- tpch.tpch_10.orders_heap -|- Start Loading Data using distribution method RangeId\n",
      "2025-09-30T21:05:51.693 +02:00 -|- FastTransfer -|- CSV_To_MSSQL_Parallel_RangeId_4 -|- INFORMATION -|- tpch.tpch_10.orders_heap -|- Start Loading Data using distribution method RangeId\n",
      "2025-09-30T21:05:51.694 +02:00 -|- FastTransfer -|- CSV_To_MSSQL_Parallel_RangeId_4 -|- INFORMATION -|- tpch.tpch_10.orders_heap -|- Start Loading Data using distribution method RangeId\n",
      "2025-09-30T21:05:51.694 +02:00 -|- FastTransfer -|- CSV_To_MSSQL_Parallel_RangeId_4 -|- INFORMATION -|- tpch.tpch_10.orders_heap -|- Start Loading Data using distribution method RangeId\n",
      "2025-09-30T21:05:51.697 +02:00 -|- FastTransfer -|- CSV_To_MSSQL_Parallel_RangeId_4 -|- INFORMATION -|- tpch.tpch_10.orders_heap -|- Start Loading Data using distribution method RangeId\n",
      "2025-09-30T21:05:51.705 +02:00 -|- FastTransfer -|- CSV_To_MSSQL_Parallel_RangeId_4 -|- INFORMATION -|- tpch.tpch_10.orders_heap -|- Start Loading Data using distribution method RangeId\n",
      "2025-09-30T21:06:00.715 +02:00 -|- FastTransfer -|- CSV_To_MSSQL_Parallel_RangeId_4 -|- INFORMATION -|- tpch.tpch_10.orders_heap -|- Completed RangeId Parallel Load 7 : 1875001 rows x 9 columns in 9086 ms\n",
      "2025-09-30T21:06:01.059 +02:00 -|- FastTransfer -|- CSV_To_MSSQL_Parallel_RangeId_4 -|- INFORMATION -|- tpch.tpch_10.orders_heap -|- Completed RangeId Parallel Load 5 : 1875000 rows x 9 columns in 9430 ms\n",
      "2025-09-30T21:06:01.089 +02:00 -|- FastTransfer -|- CSV_To_MSSQL_Parallel_RangeId_4 -|- INFORMATION -|- tpch.tpch_10.orders_heap -|- Completed RangeId Parallel Load 3 : 1875000 rows x 9 columns in 9461 ms\n",
      "2025-09-30T21:06:01.135 +02:00 -|- FastTransfer -|- CSV_To_MSSQL_Parallel_RangeId_4 -|- INFORMATION -|- tpch.tpch_10.orders_heap -|- Completed RangeId Parallel Load 6 : 1875000 rows x 9 columns in 9506 ms\n",
      "2025-09-30T21:06:01.180 +02:00 -|- FastTransfer -|- CSV_To_MSSQL_Parallel_RangeId_4 -|- INFORMATION -|- tpch.tpch_10.orders_heap -|- Completed RangeId Parallel Load 2 : 1875000 rows x 9 columns in 9552 ms\n",
      "2025-09-30T21:06:01.186 +02:00 -|- FastTransfer -|- CSV_To_MSSQL_Parallel_RangeId_4 -|- INFORMATION -|- tpch.tpch_10.orders_heap -|- Completed RangeId Parallel Load 4 : 1875000 rows x 9 columns in 9557 ms\n",
      "2025-09-30T21:06:01.257 +02:00 -|- FastTransfer -|- CSV_To_MSSQL_Parallel_RangeId_4 -|- INFORMATION -|- tpch.tpch_10.orders_heap -|- Completed RangeId Parallel Load 1 : 1875000 rows x 9 columns in 9629 ms\n",
      "2025-09-30T21:06:01.354 +02:00 -|- FastTransfer -|- CSV_To_MSSQL_Parallel_RangeId_4 -|- INFORMATION -|- tpch.tpch_10.orders_heap -|- Completed RangeId Parallel Load 0 : 1874999 rows x 9 columns in 9727 ms\n",
      "2025-09-30T21:06:01.355 +02:00 -|- FastTransfer -|- CSV_To_MSSQL_Parallel_RangeId_4 -|- INFORMATION -|- tpch.tpch_10.orders_heap -|- Total rows : 15000000\n",
      "2025-09-30T21:06:01.355 +02:00 -|- FastTransfer -|- CSV_To_MSSQL_Parallel_RangeId_4 -|- INFORMATION -|- tpch.tpch_10.orders_heap -|- Total columns : 9\n",
      "2025-09-30T21:06:01.355 +02:00 -|- FastTransfer -|- CSV_To_MSSQL_Parallel_RangeId_4 -|- INFORMATION -|- tpch.tpch_10.orders_heap -|- Total cells : 135000000\n",
      "2025-09-30T21:06:01.355 +02:00 -|- FastTransfer -|- CSV_To_MSSQL_Parallel_RangeId_4 -|- INFORMATION -|- tpch.tpch_10.orders_heap -|- Rows Throughput : 1439572 rows/s\n",
      "2025-09-30T21:06:01.355 +02:00 -|- FastTransfer -|- CSV_To_MSSQL_Parallel_RangeId_4 -|- INFORMATION -|- tpch.tpch_10.orders_heap -|- Cells Throughput : 12956160 cells/s\n",
      "2025-09-30T21:06:01.355 +02:00 -|- FastTransfer -|- CSV_To_MSSQL_Parallel_RangeId_4 -|- INFORMATION -|- tpch.tpch_10.orders_heap -|- Transfert time : Elapsed=10419 ms\n",
      "2025-09-30T21:06:01.355 +02:00 -|- FastTransfer -|- CSV_To_MSSQL_Parallel_RangeId_4 -|- INFORMATION -|- tpch.tpch_10.orders_heap -|- Total time : Elapsed=11796 ms\n",
      "2025-09-30T21:06:01.355 +02:00 -|- FastTransfer -|- CSV_To_MSSQL_Parallel_RangeId_4 -|- INFORMATION -|- tpch.tpch_10.orders_heap -|- Completed Load\n"
     ]
    }
   ],
   "source": [
    "cd D:\\FastTransfer\\\n",
    "\n",
    ".\\FastTransfer.exe `\n",
    "--sourceconnectiontype \"duckdbstream\" `\n",
    "--sourceconnectstring \"DataSource=:memory:;memory_limit=2GB;threads=6\" `\n",
    "--query $query `\n",
    "--targetconnectiontype \"pgcopy\" `\n",
    "--targetserver \"localhost:25432\" `\n",
    "--targetuser \"FastUser\" `\n",
    "--targetpassword \"FastPassword\" `\n",
    "--targetdatabase \"tpch\" `\n",
    "--targetschema \"tpch_10\" `\n",
    "--targettable \"orders_heap\" `\n",
    "--method \"RangeId\" `\n",
    "--distributeKeyColumn \"o_orderkey\" `\n",
    "--loadmode \"Truncate\" `\n",
    "--mapmethod \"Name\" `\n",
    "--degree 8 `\n",
    "--runid \"CSV_To_MSSQL_Parallel_RangeId_4\""
   ]
  },
  {
   "cell_type": "markdown",
   "id": "e2996606",
   "metadata": {},
   "source": [
    "## Import severals Parquet files to one MSSQL Table"
   ]
  },
  {
   "cell_type": "markdown",
   "id": "46cdd8ba",
   "metadata": {},
   "source": [
    "Parquet is a great file format and instead of CSV, the structure of the table inside the parquet file is embedded in the parquet file(s) itself. FastTransfer will use DuckDB under the hood to read parquet data using SQL and will push the data to the target table."
   ]
  },
  {
   "cell_type": "code",
   "execution_count": 6,
   "metadata": {
    "language_info": {
     "name": "polyglot-notebook"
    },
    "polyglot_notebook": {
     "kernelName": "pwsh"
    }
   },
   "outputs": [
    {
     "name": "stdout",
     "output_type": "stream",
     "text": [
      "┌───────────────────────────────────────────┐\n",
      "│ totalrows_orders_sf100_from_parquet_files │\n",
      "│                   int64                   │\n",
      "├───────────────────────────────────────────┤\n",
      "│                                 150000000 │\n",
      "└───────────────────────────────────────────┘\n"
     ]
    }
   ],
   "source": [
    "duckdb.exe -c \"SELECT count(*) totalrows_orders_sf100_from_parquet_files FROM read_parquet('D:\\tpchgen-cli\\sf100\\*\\orders*.parquet')\""
   ]
  },
  {
   "cell_type": "code",
   "execution_count": 6,
   "metadata": {
    "language_info": {
     "name": "polyglot-notebook"
    },
    "polyglot_notebook": {
     "kernelName": "pwsh"
    }
   },
   "outputs": [
    {
     "name": "stdout",
     "output_type": "stream",
     "text": [
      "┌───────────────────────────────────────────────┐\n",
      "│                     file                      │\n",
      "│                    varchar                    │\n",
      "├───────────────────────────────────────────────┤\n",
      "│ D:\\tpchgen-cli\\sf100\\orders\\orders.1.parquet  │\n",
      "│ D:\\tpchgen-cli\\sf100\\orders\\orders.10.parquet │\n",
      "│ D:\\tpchgen-cli\\sf100\\orders\\orders.11.parquet │\n",
      "│ D:\\tpchgen-cli\\sf100\\orders\\orders.12.parquet │\n",
      "│ D:\\tpchgen-cli\\sf100\\orders\\orders.13.parquet │\n",
      "│ D:\\tpchgen-cli\\sf100\\orders\\orders.14.parquet │\n",
      "│ D:\\tpchgen-cli\\sf100\\orders\\orders.15.parquet │\n",
      "│ D:\\tpchgen-cli\\sf100\\orders\\orders.16.parquet │\n",
      "│ D:\\tpchgen-cli\\sf100\\orders\\orders.17.parquet │\n",
      "│ D:\\tpchgen-cli\\sf100\\orders\\orders.18.parquet │\n",
      "│ D:\\tpchgen-cli\\sf100\\orders\\orders.19.parquet │\n",
      "│ D:\\tpchgen-cli\\sf100\\orders\\orders.2.parquet  │\n",
      "│ D:\\tpchgen-cli\\sf100\\orders\\orders.20.parquet │\n",
      "│ D:\\tpchgen-cli\\sf100\\orders\\orders.3.parquet  │\n",
      "│ D:\\tpchgen-cli\\sf100\\orders\\orders.4.parquet  │\n",
      "│ D:\\tpchgen-cli\\sf100\\orders\\orders.5.parquet  │\n",
      "│ D:\\tpchgen-cli\\sf100\\orders\\orders.6.parquet  │\n",
      "│ D:\\tpchgen-cli\\sf100\\orders\\orders.7.parquet  │\n",
      "│ D:\\tpchgen-cli\\sf100\\orders\\orders.8.parquet  │\n",
      "│ D:\\tpchgen-cli\\sf100\\orders\\orders.9.parquet  │\n",
      "├───────────────────────────────────────────────┤\n",
      "│                    20 rows                    │\n",
      "└───────────────────────────────────────────────┘\n"
     ]
    }
   ],
   "source": [
    "duckdb.exe -c \"select file from glob('D:\\tpchgen-cli\\sf100\\*\\orders*.parquet')\""
   ]
  },
  {
   "cell_type": "code",
   "execution_count": 4,
   "metadata": {
    "polyglot_notebook": {
     "kernelName": "pwsh"
    }
   },
   "outputs": [
    {
     "name": "stdout",
     "output_type": "stream",
     "text": [
      "2025-09-24T12:13:52.169 +02:00 -|- FastTransfer -|- PARQUET_To_MSSQL_Parallel12_DataDriven_filename -|- INFORMATION -|- tpch_test.dbo.orders -|- FastTransfer - running in trial mode – will expires on 2025‑10‑20 (25 day(s) left).\n",
      "2025-09-24T12:13:52.179 +02:00 -|- FastTransfer -|- PARQUET_To_MSSQL_Parallel12_DataDriven_filename -|- INFORMATION -|- tpch_test.dbo.orders -|- Starting\n",
      "2025-09-24T12:13:52.179 +02:00 -|- FastTransfer -|- PARQUET_To_MSSQL_Parallel12_DataDriven_filename -|- INFORMATION -|- tpch_test.dbo.orders -|- FastTransfer Version : 0.13.10.0 Architecture : X64 - Framework : .NET 8.0.19\n",
      "2025-09-24T12:13:52.179 +02:00 -|- FastTransfer -|- PARQUET_To_MSSQL_Parallel12_DataDriven_filename -|- INFORMATION -|- tpch_test.dbo.orders -|- OS : Microsoft Windows 10.0.26100\n",
      "2025-09-24T12:13:52.179 +02:00 -|- FastTransfer -|- PARQUET_To_MSSQL_Parallel12_DataDriven_filename -|- INFORMATION -|- tpch_test.dbo.orders -|- Process ID : 57364\n",
      "2025-09-24T12:13:52.179 +02:00 -|- FastTransfer -|- PARQUET_To_MSSQL_Parallel12_DataDriven_filename -|- INFORMATION -|- tpch_test.dbo.orders -|- Provided Run ID : PARQUET_To_MSSQL_Parallel12_DataDriven_filename\n",
      "2025-09-24T12:13:52.179 +02:00 -|- FastTransfer -|- PARQUET_To_MSSQL_Parallel12_DataDriven_filename -|- INFORMATION -|- tpch_test.dbo.orders -|- Source Connection Type : duckdbstream\n",
      "2025-09-24T12:13:52.179 +02:00 -|- FastTransfer -|- PARQUET_To_MSSQL_Parallel12_DataDriven_filename -|- INFORMATION -|- tpch_test.dbo.orders -|- Source SqlInstance : :memory:\n",
      "2025-09-24T12:13:52.179 +02:00 -|- FastTransfer -|- PARQUET_To_MSSQL_Parallel12_DataDriven_filename -|- INFORMATION -|- tpch_test.dbo.orders -|- Source Trusted Connection : False\n",
      "2025-09-24T12:13:52.179 +02:00 -|- FastTransfer -|- PARQUET_To_MSSQL_Parallel12_DataDriven_filename -|- INFORMATION -|- tpch_test.dbo.orders -|- Query : SELECT * exclude filename FROM read_parquet('D:\\tpchgen-cli\\sf100\\*\\orders*.parquet', filename=true)\n",
      "2025-09-24T12:13:52.179 +02:00 -|- FastTransfer -|- PARQUET_To_MSSQL_Parallel12_DataDriven_filename -|- INFORMATION -|- tpch_test.dbo.orders -|- Target Type : msbulk\n",
      "2025-09-24T12:13:52.179 +02:00 -|- FastTransfer -|- PARQUET_To_MSSQL_Parallel12_DataDriven_filename -|- INFORMATION -|- tpch_test.dbo.orders -|- Target Server : localhost\\SS2025\n",
      "2025-09-24T12:13:52.179 +02:00 -|- FastTransfer -|- PARQUET_To_MSSQL_Parallel12_DataDriven_filename -|- INFORMATION -|- tpch_test.dbo.orders -|- Target Database : tpch_test\n",
      "2025-09-24T12:13:52.179 +02:00 -|- FastTransfer -|- PARQUET_To_MSSQL_Parallel12_DataDriven_filename -|- INFORMATION -|- tpch_test.dbo.orders -|- Target Schema : dbo\n",
      "2025-09-24T12:13:52.179 +02:00 -|- FastTransfer -|- PARQUET_To_MSSQL_Parallel12_DataDriven_filename -|- INFORMATION -|- tpch_test.dbo.orders -|- Target Table : orders\n",
      "2025-09-24T12:13:52.179 +02:00 -|- FastTransfer -|- PARQUET_To_MSSQL_Parallel12_DataDriven_filename -|- INFORMATION -|- tpch_test.dbo.orders -|- Target Trusted Connection : True\n",
      "2025-09-24T12:13:52.179 +02:00 -|- FastTransfer -|- PARQUET_To_MSSQL_Parallel12_DataDriven_filename -|- INFORMATION -|- tpch_test.dbo.orders -|- Columns Map Method : Name\n",
      "2025-09-24T12:13:52.179 +02:00 -|- FastTransfer -|- PARQUET_To_MSSQL_Parallel12_DataDriven_filename -|- INFORMATION -|- tpch_test.dbo.orders -|- Degree : 12\n",
      "2025-09-24T12:13:52.179 +02:00 -|- FastTransfer -|- PARQUET_To_MSSQL_Parallel12_DataDriven_filename -|- INFORMATION -|- tpch_test.dbo.orders -|- Distribute Method : DataDriven\n",
      "2025-09-24T12:13:52.179 +02:00 -|- FastTransfer -|- PARQUET_To_MSSQL_Parallel12_DataDriven_filename -|- INFORMATION -|- tpch_test.dbo.orders -|- Distribute Column : filename\n",
      "2025-09-24T12:13:52.179 +02:00 -|- FastTransfer -|- PARQUET_To_MSSQL_Parallel12_DataDriven_filename -|- INFORMATION -|- tpch_test.dbo.orders -|- Data Driven Query : select file from glob('D:\\tpchgen-cli\\sf100\\*\\orders*.parquet')\n",
      "2025-09-24T12:13:52.179 +02:00 -|- FastTransfer -|- PARQUET_To_MSSQL_Parallel12_DataDriven_filename -|- INFORMATION -|- tpch_test.dbo.orders -|- Bulkcopy Batch Size : 1048576\n",
      "2025-09-24T12:13:52.179 +02:00 -|- FastTransfer -|- PARQUET_To_MSSQL_Parallel12_DataDriven_filename -|- INFORMATION -|- tpch_test.dbo.orders -|- Load Mode : Truncate\n",
      "2025-09-24T12:13:52.179 +02:00 -|- FastTransfer -|- PARQUET_To_MSSQL_Parallel12_DataDriven_filename -|- INFORMATION -|- tpch_test.dbo.orders -|- Use Work Tables : False\n",
      "2025-09-24T12:13:52.180 +02:00 -|- FastTransfer -|- PARQUET_To_MSSQL_Parallel12_DataDriven_filename -|- INFORMATION -|- tpch_test.dbo.orders -|- Encoding used : Unicode (UTF-8) - 65001 - utf-8\n",
      "2025-09-24T12:13:52.214 +02:00 -|- FastTransfer -|- PARQUET_To_MSSQL_Parallel12_DataDriven_filename -|- INFORMATION -|- tpch_test.dbo.orders -|- Source Connection String : DataSource=:memory:;memory_limit=8GB\n",
      "2025-09-24T12:13:52.214 +02:00 -|- FastTransfer -|- PARQUET_To_MSSQL_Parallel12_DataDriven_filename -|- INFORMATION -|- tpch_test.dbo.orders -|- Target Connection String : Data Source=localhost\\SS2025;Initial Catalog=tpch_test;Integrated Security=True;Connect Timeout=120;Encrypt=True;Trust Server Certificate=True;Application Name=FastTransfer;Application Intent=ReadWrite;Command Timeout=10800\n",
      "2025-09-24T12:13:52.214 +02:00 -|- FastTransfer -|- PARQUET_To_MSSQL_Parallel12_DataDriven_filename -|- INFORMATION -|- tpch_test.dbo.orders -|- Source Database Version : DuckDB v1.3.2\n",
      "2025-09-24T12:13:52.214 +02:00 -|- FastTransfer -|- PARQUET_To_MSSQL_Parallel12_DataDriven_filename -|- INFORMATION -|- tpch_test.dbo.orders -|- Target Database Version : Microsoft SQL Server 2025 (CTP2.1) - 17.0.800.3 (X64)  \tJun 12 2025 14:47:57  \tCopyright (C) 2025 Microsoft Corporation \tEnterprise Developer Edition (64-bit) on Windows 10 Pro 10.0 <X64> (Build 26100: ) (Hypervisor) \n",
      "2025-09-24T12:13:52.238 +02:00 -|- FastTransfer -|- PARQUET_To_MSSQL_Parallel12_DataDriven_filename -|- INFORMATION -|- tpch_test.dbo.orders -|- Completed DataDriven GetValues : 20 in 2 ms\n",
      "2025-09-24T12:13:52.277 +02:00 -|- FastTransfer -|- PARQUET_To_MSSQL_Parallel12_DataDriven_filename -|- INFORMATION -|- tpch_test.dbo.orders -|- Start Loading Data using distribution method DataDriven\n",
      "2025-09-24T12:13:52.279 +02:00 -|- FastTransfer -|- PARQUET_To_MSSQL_Parallel12_DataDriven_filename -|- INFORMATION -|- tpch_test.dbo.orders -|- Table \"dbo\".\"orders\" has a Clustered Index. BulkCopy will use KeepNulls and UseInternalTransaction and avoid Tablock\n",
      "2025-09-24T12:13:52.280 +02:00 -|- FastTransfer -|- PARQUET_To_MSSQL_Parallel12_DataDriven_filename -|- INFORMATION -|- tpch_test.dbo.orders -|- BulkCopy to \"dbo\".\"orders\" with BatchSize = 1048576, Timeout = 3600\n",
      "2025-09-24T12:13:52.282 +02:00 -|- FastTransfer -|- PARQUET_To_MSSQL_Parallel12_DataDriven_filename -|- INFORMATION -|- tpch_test.dbo.orders -|- Start Loading Data using distribution method DataDriven\n",
      "2025-09-24T12:13:52.283 +02:00 -|- FastTransfer -|- PARQUET_To_MSSQL_Parallel12_DataDriven_filename -|- INFORMATION -|- tpch_test.dbo.orders -|- Table \"dbo\".\"orders\" has a Clustered Index. BulkCopy will use KeepNulls and UseInternalTransaction and avoid Tablock\n",
      "2025-09-24T12:13:52.283 +02:00 -|- FastTransfer -|- PARQUET_To_MSSQL_Parallel12_DataDriven_filename -|- INFORMATION -|- tpch_test.dbo.orders -|- BulkCopy to \"dbo\".\"orders\" with BatchSize = 1048576, Timeout = 3600\n",
      "2025-09-24T12:13:52.285 +02:00 -|- FastTransfer -|- PARQUET_To_MSSQL_Parallel12_DataDriven_filename -|- INFORMATION -|- tpch_test.dbo.orders -|- Start Loading Data using distribution method DataDriven\n",
      "2025-09-24T12:13:52.286 +02:00 -|- FastTransfer -|- PARQUET_To_MSSQL_Parallel12_DataDriven_filename -|- INFORMATION -|- tpch_test.dbo.orders -|- Table \"dbo\".\"orders\" has a Clustered Index. BulkCopy will use KeepNulls and UseInternalTransaction and avoid Tablock\n",
      "2025-09-24T12:13:52.286 +02:00 -|- FastTransfer -|- PARQUET_To_MSSQL_Parallel12_DataDriven_filename -|- INFORMATION -|- tpch_test.dbo.orders -|- BulkCopy to \"dbo\".\"orders\" with BatchSize = 1048576, Timeout = 3600\n",
      "2025-09-24T12:13:52.287 +02:00 -|- FastTransfer -|- PARQUET_To_MSSQL_Parallel12_DataDriven_filename -|- INFORMATION -|- tpch_test.dbo.orders -|- Start Loading Data using distribution method DataDriven\n",
      "2025-09-24T12:13:52.287 +02:00 -|- FastTransfer -|- PARQUET_To_MSSQL_Parallel12_DataDriven_filename -|- INFORMATION -|- tpch_test.dbo.orders -|- Table \"dbo\".\"orders\" has a Clustered Index. BulkCopy will use KeepNulls and UseInternalTransaction and avoid Tablock\n",
      "2025-09-24T12:13:52.287 +02:00 -|- FastTransfer -|- PARQUET_To_MSSQL_Parallel12_DataDriven_filename -|- INFORMATION -|- tpch_test.dbo.orders -|- BulkCopy to \"dbo\".\"orders\" with BatchSize = 1048576, Timeout = 3600\n",
      "2025-09-24T12:13:52.290 +02:00 -|- FastTransfer -|- PARQUET_To_MSSQL_Parallel12_DataDriven_filename -|- INFORMATION -|- tpch_test.dbo.orders -|- Start Loading Data using distribution method DataDriven\n",
      "2025-09-24T12:13:52.290 +02:00 -|- FastTransfer -|- PARQUET_To_MSSQL_Parallel12_DataDriven_filename -|- INFORMATION -|- tpch_test.dbo.orders -|- Table \"dbo\".\"orders\" has a Clustered Index. BulkCopy will use KeepNulls and UseInternalTransaction and avoid Tablock\n",
      "2025-09-24T12:13:52.290 +02:00 -|- FastTransfer -|- PARQUET_To_MSSQL_Parallel12_DataDriven_filename -|- INFORMATION -|- tpch_test.dbo.orders -|- BulkCopy to \"dbo\".\"orders\" with BatchSize = 1048576, Timeout = 3600\n",
      "2025-09-24T12:13:52.292 +02:00 -|- FastTransfer -|- PARQUET_To_MSSQL_Parallel12_DataDriven_filename -|- INFORMATION -|- tpch_test.dbo.orders -|- Start Loading Data using distribution method DataDriven\n",
      "2025-09-24T12:13:52.293 +02:00 -|- FastTransfer -|- PARQUET_To_MSSQL_Parallel12_DataDriven_filename -|- INFORMATION -|- tpch_test.dbo.orders -|- Table \"dbo\".\"orders\" has a Clustered Index. BulkCopy will use KeepNulls and UseInternalTransaction and avoid Tablock\n",
      "2025-09-24T12:13:52.293 +02:00 -|- FastTransfer -|- PARQUET_To_MSSQL_Parallel12_DataDriven_filename -|- INFORMATION -|- tpch_test.dbo.orders -|- BulkCopy to \"dbo\".\"orders\" with BatchSize = 1048576, Timeout = 3600\n",
      "2025-09-24T12:13:52.295 +02:00 -|- FastTransfer -|- PARQUET_To_MSSQL_Parallel12_DataDriven_filename -|- INFORMATION -|- tpch_test.dbo.orders -|- Start Loading Data using distribution method DataDriven\n",
      "2025-09-24T12:13:52.296 +02:00 -|- FastTransfer -|- PARQUET_To_MSSQL_Parallel12_DataDriven_filename -|- INFORMATION -|- tpch_test.dbo.orders -|- Table \"dbo\".\"orders\" has a Clustered Index. BulkCopy will use KeepNulls and UseInternalTransaction and avoid Tablock\n",
      "2025-09-24T12:13:52.297 +02:00 -|- FastTransfer -|- PARQUET_To_MSSQL_Parallel12_DataDriven_filename -|- INFORMATION -|- tpch_test.dbo.orders -|- BulkCopy to \"dbo\".\"orders\" with BatchSize = 1048576, Timeout = 3600\n",
      "2025-09-24T12:13:52.303 +02:00 -|- FastTransfer -|- PARQUET_To_MSSQL_Parallel12_DataDriven_filename -|- INFORMATION -|- tpch_test.dbo.orders -|- Start Loading Data using distribution method DataDriven\n",
      "2025-09-24T12:13:52.304 +02:00 -|- FastTransfer -|- PARQUET_To_MSSQL_Parallel12_DataDriven_filename -|- INFORMATION -|- tpch_test.dbo.orders -|- Table \"dbo\".\"orders\" has a Clustered Index. BulkCopy will use KeepNulls and UseInternalTransaction and avoid Tablock\n",
      "2025-09-24T12:13:52.304 +02:00 -|- FastTransfer -|- PARQUET_To_MSSQL_Parallel12_DataDriven_filename -|- INFORMATION -|- tpch_test.dbo.orders -|- BulkCopy to \"dbo\".\"orders\" with BatchSize = 1048576, Timeout = 3600\n",
      "2025-09-24T12:13:52.318 +02:00 -|- FastTransfer -|- PARQUET_To_MSSQL_Parallel12_DataDriven_filename -|- INFORMATION -|- tpch_test.dbo.orders -|- Start Loading Data using distribution method DataDriven\n",
      "2025-09-24T12:13:52.319 +02:00 -|- FastTransfer -|- PARQUET_To_MSSQL_Parallel12_DataDriven_filename -|- INFORMATION -|- tpch_test.dbo.orders -|- Table \"dbo\".\"orders\" has a Clustered Index. BulkCopy will use KeepNulls and UseInternalTransaction and avoid Tablock\n",
      "2025-09-24T12:13:52.319 +02:00 -|- FastTransfer -|- PARQUET_To_MSSQL_Parallel12_DataDriven_filename -|- INFORMATION -|- tpch_test.dbo.orders -|- BulkCopy to \"dbo\".\"orders\" with BatchSize = 1048576, Timeout = 3600\n",
      "2025-09-24T12:13:52.330 +02:00 -|- FastTransfer -|- PARQUET_To_MSSQL_Parallel12_DataDriven_filename -|- INFORMATION -|- tpch_test.dbo.orders -|- Start Loading Data using distribution method DataDriven\n",
      "2025-09-24T12:13:52.331 +02:00 -|- FastTransfer -|- PARQUET_To_MSSQL_Parallel12_DataDriven_filename -|- INFORMATION -|- tpch_test.dbo.orders -|- Table \"dbo\".\"orders\" has a Clustered Index. BulkCopy will use KeepNulls and UseInternalTransaction and avoid Tablock\n",
      "2025-09-24T12:13:52.332 +02:00 -|- FastTransfer -|- PARQUET_To_MSSQL_Parallel12_DataDriven_filename -|- INFORMATION -|- tpch_test.dbo.orders -|- BulkCopy to \"dbo\".\"orders\" with BatchSize = 1048576, Timeout = 3600\n",
      "2025-09-24T12:13:52.340 +02:00 -|- FastTransfer -|- PARQUET_To_MSSQL_Parallel12_DataDriven_filename -|- INFORMATION -|- tpch_test.dbo.orders -|- Start Loading Data using distribution method DataDriven\n",
      "2025-09-24T12:13:52.341 +02:00 -|- FastTransfer -|- PARQUET_To_MSSQL_Parallel12_DataDriven_filename -|- INFORMATION -|- tpch_test.dbo.orders -|- Table \"dbo\".\"orders\" has a Clustered Index. BulkCopy will use KeepNulls and UseInternalTransaction and avoid Tablock\n",
      "2025-09-24T12:13:52.341 +02:00 -|- FastTransfer -|- PARQUET_To_MSSQL_Parallel12_DataDriven_filename -|- INFORMATION -|- tpch_test.dbo.orders -|- BulkCopy to \"dbo\".\"orders\" with BatchSize = 1048576, Timeout = 3600\n",
      "2025-09-24T12:13:52.356 +02:00 -|- FastTransfer -|- PARQUET_To_MSSQL_Parallel12_DataDriven_filename -|- INFORMATION -|- tpch_test.dbo.orders -|- Start Loading Data using distribution method DataDriven\n",
      "2025-09-24T12:13:52.357 +02:00 -|- FastTransfer -|- PARQUET_To_MSSQL_Parallel12_DataDriven_filename -|- INFORMATION -|- tpch_test.dbo.orders -|- Table \"dbo\".\"orders\" has a Clustered Index. BulkCopy will use KeepNulls and UseInternalTransaction and avoid Tablock\n",
      "2025-09-24T12:13:52.357 +02:00 -|- FastTransfer -|- PARQUET_To_MSSQL_Parallel12_DataDriven_filename -|- INFORMATION -|- tpch_test.dbo.orders -|- BulkCopy to \"dbo\".\"orders\" with BatchSize = 1048576, Timeout = 3600\n",
      "2025-09-24T12:13:52.657 +02:00 -|- FastTransfer -|- PARQUET_To_MSSQL_Parallel12_DataDriven_filename -|- WARNING -|- tpch_test.dbo.orders -|- Only 9 out of 10 columns were mapped by name to the target table \"dbo\".\"orders\"\n",
      "2025-09-24T12:13:52.832 +02:00 -|- FastTransfer -|- PARQUET_To_MSSQL_Parallel12_DataDriven_filename -|- WARNING -|- tpch_test.dbo.orders -|- Only 9 out of 10 columns were mapped by name to the target table \"dbo\".\"orders\"\n",
      "2025-09-24T12:13:52.870 +02:00 -|- FastTransfer -|- PARQUET_To_MSSQL_Parallel12_DataDriven_filename -|- WARNING -|- tpch_test.dbo.orders -|- Only 9 out of 10 columns were mapped by name to the target table \"dbo\".\"orders\"\n",
      "2025-09-24T12:13:52.954 +02:00 -|- FastTransfer -|- PARQUET_To_MSSQL_Parallel12_DataDriven_filename -|- WARNING -|- tpch_test.dbo.orders -|- Only 9 out of 10 columns were mapped by name to the target table \"dbo\".\"orders\"\n",
      "2025-09-24T12:13:53.131 +02:00 -|- FastTransfer -|- PARQUET_To_MSSQL_Parallel12_DataDriven_filename -|- WARNING -|- tpch_test.dbo.orders -|- Only 9 out of 10 columns were mapped by name to the target table \"dbo\".\"orders\"\n",
      "2025-09-24T12:13:53.155 +02:00 -|- FastTransfer -|- PARQUET_To_MSSQL_Parallel12_DataDriven_filename -|- WARNING -|- tpch_test.dbo.orders -|- Only 9 out of 10 columns were mapped by name to the target table \"dbo\".\"orders\"\n",
      "2025-09-24T12:13:53.196 +02:00 -|- FastTransfer -|- PARQUET_To_MSSQL_Parallel12_DataDriven_filename -|- WARNING -|- tpch_test.dbo.orders -|- Only 9 out of 10 columns were mapped by name to the target table \"dbo\".\"orders\"\n",
      "2025-09-24T12:13:53.204 +02:00 -|- FastTransfer -|- PARQUET_To_MSSQL_Parallel12_DataDriven_filename -|- WARNING -|- tpch_test.dbo.orders -|- Only 9 out of 10 columns were mapped by name to the target table \"dbo\".\"orders\"\n",
      "2025-09-24T12:13:53.244 +02:00 -|- FastTransfer -|- PARQUET_To_MSSQL_Parallel12_DataDriven_filename -|- WARNING -|- tpch_test.dbo.orders -|- Only 9 out of 10 columns were mapped by name to the target table \"dbo\".\"orders\"\n",
      "2025-09-24T12:13:53.268 +02:00 -|- FastTransfer -|- PARQUET_To_MSSQL_Parallel12_DataDriven_filename -|- WARNING -|- tpch_test.dbo.orders -|- Only 9 out of 10 columns were mapped by name to the target table \"dbo\".\"orders\"\n",
      "2025-09-24T12:13:53.292 +02:00 -|- FastTransfer -|- PARQUET_To_MSSQL_Parallel12_DataDriven_filename -|- WARNING -|- tpch_test.dbo.orders -|- Only 9 out of 10 columns were mapped by name to the target table \"dbo\".\"orders\"\n",
      "2025-09-24T12:13:53.293 +02:00 -|- FastTransfer -|- PARQUET_To_MSSQL_Parallel12_DataDriven_filename -|- WARNING -|- tpch_test.dbo.orders -|- Only 9 out of 10 columns were mapped by name to the target table \"dbo\".\"orders\"\n",
      "2025-09-24T12:14:36.258 +02:00 -|- FastTransfer -|- PARQUET_To_MSSQL_Parallel12_DataDriven_filename -|- INFORMATION -|- tpch_test.dbo.orders -|- Completed DataDriven Load sub-process 10 for filename = D:\\tpchgen-cli\\sf100\\orders\\orders.19.parquet : 7499946 rows x 9 columns in 44015 ms\n",
      "2025-09-24T12:14:36.638 +02:00 -|- FastTransfer -|- PARQUET_To_MSSQL_Parallel12_DataDriven_filename -|- INFORMATION -|- tpch_test.dbo.orders -|- Completed DataDriven Load sub-process 5 for filename = D:\\tpchgen-cli\\sf100\\orders\\orders.14.parquet : 7499946 rows x 9 columns in 44397 ms\n",
      "2025-09-24T12:14:36.657 +02:00 -|- FastTransfer -|- PARQUET_To_MSSQL_Parallel12_DataDriven_filename -|- INFORMATION -|- tpch_test.dbo.orders -|- Start Loading Data using distribution method DataDriven\n",
      "2025-09-24T12:14:36.658 +02:00 -|- FastTransfer -|- PARQUET_To_MSSQL_Parallel12_DataDriven_filename -|- INFORMATION -|- tpch_test.dbo.orders -|- Table \"dbo\".\"orders\" has a Clustered Index. BulkCopy will use KeepNulls and UseInternalTransaction and avoid Tablock\n",
      "2025-09-24T12:14:36.658 +02:00 -|- FastTransfer -|- PARQUET_To_MSSQL_Parallel12_DataDriven_filename -|- INFORMATION -|- tpch_test.dbo.orders -|- BulkCopy to \"dbo\".\"orders\" with BatchSize = 1048576, Timeout = 3600\n",
      "2025-09-24T12:14:36.785 +02:00 -|- FastTransfer -|- PARQUET_To_MSSQL_Parallel12_DataDriven_filename -|- WARNING -|- tpch_test.dbo.orders -|- Only 9 out of 10 columns were mapped by name to the target table \"dbo\".\"orders\"\n",
      "2025-09-24T12:14:36.974 +02:00 -|- FastTransfer -|- PARQUET_To_MSSQL_Parallel12_DataDriven_filename -|- INFORMATION -|- tpch_test.dbo.orders -|- Completed DataDriven Load sub-process 6 for filename = D:\\tpchgen-cli\\sf100\\orders\\orders.15.parquet : 7499946 rows x 9 columns in 44733 ms\n",
      "2025-09-24T12:14:36.993 +02:00 -|- FastTransfer -|- PARQUET_To_MSSQL_Parallel12_DataDriven_filename -|- INFORMATION -|- tpch_test.dbo.orders -|- Start Loading Data using distribution method DataDriven\n",
      "2025-09-24T12:14:36.994 +02:00 -|- FastTransfer -|- PARQUET_To_MSSQL_Parallel12_DataDriven_filename -|- INFORMATION -|- tpch_test.dbo.orders -|- Table \"dbo\".\"orders\" has a Clustered Index. BulkCopy will use KeepNulls and UseInternalTransaction and avoid Tablock\n",
      "2025-09-24T12:14:36.994 +02:00 -|- FastTransfer -|- PARQUET_To_MSSQL_Parallel12_DataDriven_filename -|- INFORMATION -|- tpch_test.dbo.orders -|- BulkCopy to \"dbo\".\"orders\" with BatchSize = 1048576, Timeout = 3600\n",
      "2025-09-24T12:14:37.095 +02:00 -|- FastTransfer -|- PARQUET_To_MSSQL_Parallel12_DataDriven_filename -|- WARNING -|- tpch_test.dbo.orders -|- Only 9 out of 10 columns were mapped by name to the target table \"dbo\".\"orders\"\n",
      "2025-09-24T12:14:37.561 +02:00 -|- FastTransfer -|- PARQUET_To_MSSQL_Parallel12_DataDriven_filename -|- INFORMATION -|- tpch_test.dbo.orders -|- Completed DataDriven Load sub-process 0 for filename = D:\\tpchgen-cli\\sf100\\orders\\orders.1.parquet : 7499946 rows x 9 columns in 45320 ms\n",
      "2025-09-24T12:14:37.581 +02:00 -|- FastTransfer -|- PARQUET_To_MSSQL_Parallel12_DataDriven_filename -|- INFORMATION -|- tpch_test.dbo.orders -|- Start Loading Data using distribution method DataDriven\n",
      "2025-09-24T12:14:37.582 +02:00 -|- FastTransfer -|- PARQUET_To_MSSQL_Parallel12_DataDriven_filename -|- INFORMATION -|- tpch_test.dbo.orders -|- Table \"dbo\".\"orders\" has a Clustered Index. BulkCopy will use KeepNulls and UseInternalTransaction and avoid Tablock\n",
      "2025-09-24T12:14:37.582 +02:00 -|- FastTransfer -|- PARQUET_To_MSSQL_Parallel12_DataDriven_filename -|- INFORMATION -|- tpch_test.dbo.orders -|- BulkCopy to \"dbo\".\"orders\" with BatchSize = 1048576, Timeout = 3600\n",
      "2025-09-24T12:14:37.685 +02:00 -|- FastTransfer -|- PARQUET_To_MSSQL_Parallel12_DataDriven_filename -|- WARNING -|- tpch_test.dbo.orders -|- Only 9 out of 10 columns were mapped by name to the target table \"dbo\".\"orders\"\n",
      "2025-09-24T12:14:37.966 +02:00 -|- FastTransfer -|- PARQUET_To_MSSQL_Parallel12_DataDriven_filename -|- INFORMATION -|- tpch_test.dbo.orders -|- Completed DataDriven Load sub-process 2 for filename = D:\\tpchgen-cli\\sf100\\orders\\orders.11.parquet : 7499946 rows x 9 columns in 45725 ms\n",
      "2025-09-24T12:14:37.986 +02:00 -|- FastTransfer -|- PARQUET_To_MSSQL_Parallel12_DataDriven_filename -|- INFORMATION -|- tpch_test.dbo.orders -|- Start Loading Data using distribution method DataDriven\n",
      "2025-09-24T12:14:37.986 +02:00 -|- FastTransfer -|- PARQUET_To_MSSQL_Parallel12_DataDriven_filename -|- INFORMATION -|- tpch_test.dbo.orders -|- Table \"dbo\".\"orders\" has a Clustered Index. BulkCopy will use KeepNulls and UseInternalTransaction and avoid Tablock\n",
      "2025-09-24T12:14:37.986 +02:00 -|- FastTransfer -|- PARQUET_To_MSSQL_Parallel12_DataDriven_filename -|- INFORMATION -|- tpch_test.dbo.orders -|- BulkCopy to \"dbo\".\"orders\" with BatchSize = 1048576, Timeout = 3600\n",
      "2025-09-24T12:14:38.104 +02:00 -|- FastTransfer -|- PARQUET_To_MSSQL_Parallel12_DataDriven_filename -|- INFORMATION -|- tpch_test.dbo.orders -|- Completed DataDriven Load sub-process 1 for filename = D:\\tpchgen-cli\\sf100\\orders\\orders.10.parquet : 7499946 rows x 9 columns in 45863 ms\n",
      "2025-09-24T12:14:38.105 +02:00 -|- FastTransfer -|- PARQUET_To_MSSQL_Parallel12_DataDriven_filename -|- WARNING -|- tpch_test.dbo.orders -|- Only 9 out of 10 columns were mapped by name to the target table \"dbo\".\"orders\"\n",
      "2025-09-24T12:14:38.132 +02:00 -|- FastTransfer -|- PARQUET_To_MSSQL_Parallel12_DataDriven_filename -|- INFORMATION -|- tpch_test.dbo.orders -|- Start Loading Data using distribution method DataDriven\n",
      "2025-09-24T12:14:38.133 +02:00 -|- FastTransfer -|- PARQUET_To_MSSQL_Parallel12_DataDriven_filename -|- INFORMATION -|- tpch_test.dbo.orders -|- Table \"dbo\".\"orders\" has a Clustered Index. BulkCopy will use KeepNulls and UseInternalTransaction and avoid Tablock\n",
      "2025-09-24T12:14:38.133 +02:00 -|- FastTransfer -|- PARQUET_To_MSSQL_Parallel12_DataDriven_filename -|- INFORMATION -|- tpch_test.dbo.orders -|- BulkCopy to \"dbo\".\"orders\" with BatchSize = 1048576, Timeout = 3600\n",
      "2025-09-24T12:14:38.267 +02:00 -|- FastTransfer -|- PARQUET_To_MSSQL_Parallel12_DataDriven_filename -|- WARNING -|- tpch_test.dbo.orders -|- Only 9 out of 10 columns were mapped by name to the target table \"dbo\".\"orders\"\n",
      "2025-09-24T12:14:39.380 +02:00 -|- FastTransfer -|- PARQUET_To_MSSQL_Parallel12_DataDriven_filename -|- INFORMATION -|- tpch_test.dbo.orders -|- Completed DataDriven Load sub-process 3 for filename = D:\\tpchgen-cli\\sf100\\orders\\orders.12.parquet : 7499946 rows x 9 columns in 47139 ms\n",
      "2025-09-24T12:14:39.425 +02:00 -|- FastTransfer -|- PARQUET_To_MSSQL_Parallel12_DataDriven_filename -|- INFORMATION -|- tpch_test.dbo.orders -|- Start Loading Data using distribution method DataDriven\n",
      "2025-09-24T12:14:39.426 +02:00 -|- FastTransfer -|- PARQUET_To_MSSQL_Parallel12_DataDriven_filename -|- INFORMATION -|- tpch_test.dbo.orders -|- Table \"dbo\".\"orders\" has a Clustered Index. BulkCopy will use KeepNulls and UseInternalTransaction and avoid Tablock\n",
      "2025-09-24T12:14:39.426 +02:00 -|- FastTransfer -|- PARQUET_To_MSSQL_Parallel12_DataDriven_filename -|- INFORMATION -|- tpch_test.dbo.orders -|- BulkCopy to \"dbo\".\"orders\" with BatchSize = 1048576, Timeout = 3600\n",
      "2025-09-24T12:14:39.569 +02:00 -|- FastTransfer -|- PARQUET_To_MSSQL_Parallel12_DataDriven_filename -|- WARNING -|- tpch_test.dbo.orders -|- Only 9 out of 10 columns were mapped by name to the target table \"dbo\".\"orders\"\n",
      "2025-09-24T12:14:39.664 +02:00 -|- FastTransfer -|- PARQUET_To_MSSQL_Parallel12_DataDriven_filename -|- INFORMATION -|- tpch_test.dbo.orders -|- Completed DataDriven Load sub-process 9 for filename = D:\\tpchgen-cli\\sf100\\orders\\orders.18.parquet : 7499946 rows x 9 columns in 47422 ms\n",
      "2025-09-24T12:14:39.774 +02:00 -|- FastTransfer -|- PARQUET_To_MSSQL_Parallel12_DataDriven_filename -|- INFORMATION -|- tpch_test.dbo.orders -|- Completed DataDriven Load sub-process 8 for filename = D:\\tpchgen-cli\\sf100\\orders\\orders.17.parquet : 7499946 rows x 9 columns in 47532 ms\n",
      "2025-09-24T12:14:39.993 +02:00 -|- FastTransfer -|- PARQUET_To_MSSQL_Parallel12_DataDriven_filename -|- INFORMATION -|- tpch_test.dbo.orders -|- Completed DataDriven Load sub-process 7 for filename = D:\\tpchgen-cli\\sf100\\orders\\orders.16.parquet : 7499946 rows x 9 columns in 47751 ms\n",
      "2025-09-24T12:14:40.038 +02:00 -|- FastTransfer -|- PARQUET_To_MSSQL_Parallel12_DataDriven_filename -|- INFORMATION -|- tpch_test.dbo.orders -|- Start Loading Data using distribution method DataDriven\n",
      "2025-09-24T12:14:40.039 +02:00 -|- FastTransfer -|- PARQUET_To_MSSQL_Parallel12_DataDriven_filename -|- INFORMATION -|- tpch_test.dbo.orders -|- Table \"dbo\".\"orders\" has a Clustered Index. BulkCopy will use KeepNulls and UseInternalTransaction and avoid Tablock\n",
      "2025-09-24T12:14:40.039 +02:00 -|- FastTransfer -|- PARQUET_To_MSSQL_Parallel12_DataDriven_filename -|- INFORMATION -|- tpch_test.dbo.orders -|- BulkCopy to \"dbo\".\"orders\" with BatchSize = 1048576, Timeout = 3600\n",
      "2025-09-24T12:14:40.196 +02:00 -|- FastTransfer -|- PARQUET_To_MSSQL_Parallel12_DataDriven_filename -|- WARNING -|- tpch_test.dbo.orders -|- Only 9 out of 10 columns were mapped by name to the target table \"dbo\".\"orders\"\n",
      "2025-09-24T12:14:40.213 +02:00 -|- FastTransfer -|- PARQUET_To_MSSQL_Parallel12_DataDriven_filename -|- INFORMATION -|- tpch_test.dbo.orders -|- Completed DataDriven Load sub-process 11 for filename = D:\\tpchgen-cli\\sf100\\orders\\orders.2.parquet : 7499946 rows x 9 columns in 47971 ms\n",
      "2025-09-24T12:14:40.712 +02:00 -|- FastTransfer -|- PARQUET_To_MSSQL_Parallel12_DataDriven_filename -|- INFORMATION -|- tpch_test.dbo.orders -|- Completed DataDriven Load sub-process 4 for filename = D:\\tpchgen-cli\\sf100\\orders\\orders.13.parquet : 7499946 rows x 9 columns in 48471 ms\n",
      "2025-09-24T12:14:40.804 +02:00 -|- FastTransfer -|- PARQUET_To_MSSQL_Parallel12_DataDriven_filename -|- INFORMATION -|- tpch_test.dbo.orders -|- Start Loading Data using distribution method DataDriven\n",
      "2025-09-24T12:14:40.805 +02:00 -|- FastTransfer -|- PARQUET_To_MSSQL_Parallel12_DataDriven_filename -|- INFORMATION -|- tpch_test.dbo.orders -|- Table \"dbo\".\"orders\" has a Clustered Index. BulkCopy will use KeepNulls and UseInternalTransaction and avoid Tablock\n",
      "2025-09-24T12:14:40.805 +02:00 -|- FastTransfer -|- PARQUET_To_MSSQL_Parallel12_DataDriven_filename -|- INFORMATION -|- tpch_test.dbo.orders -|- BulkCopy to \"dbo\".\"orders\" with BatchSize = 1048576, Timeout = 3600\n",
      "2025-09-24T12:14:41.041 +02:00 -|- FastTransfer -|- PARQUET_To_MSSQL_Parallel12_DataDriven_filename -|- WARNING -|- tpch_test.dbo.orders -|- Only 9 out of 10 columns were mapped by name to the target table \"dbo\".\"orders\"\n",
      "2025-09-24T12:15:11.316 +02:00 -|- FastTransfer -|- PARQUET_To_MSSQL_Parallel12_DataDriven_filename -|- INFORMATION -|- tpch_test.dbo.orders -|- Completed DataDriven Load sub-process 17 for filename = D:\\tpchgen-cli\\sf100\\orders\\orders.7.parquet : 7499946 rows x 9 columns in 34676 ms\n",
      "2025-09-24T12:15:11.797 +02:00 -|- FastTransfer -|- PARQUET_To_MSSQL_Parallel12_DataDriven_filename -|- INFORMATION -|- tpch_test.dbo.orders -|- Completed DataDriven Load sub-process 18 for filename = D:\\tpchgen-cli\\sf100\\orders\\orders.8.parquet : 7499946 rows x 9 columns in 34821 ms\n",
      "2025-09-24T12:15:12.507 +02:00 -|- FastTransfer -|- PARQUET_To_MSSQL_Parallel12_DataDriven_filename -|- INFORMATION -|- tpch_test.dbo.orders -|- Completed DataDriven Load sub-process 12 for filename = D:\\tpchgen-cli\\sf100\\orders\\orders.20.parquet : 7501026 rows x 9 columns in 34946 ms\n",
      "2025-09-24T12:15:13.309 +02:00 -|- FastTransfer -|- PARQUET_To_MSSQL_Parallel12_DataDriven_filename -|- INFORMATION -|- tpch_test.dbo.orders -|- Completed DataDriven Load sub-process 14 for filename = D:\\tpchgen-cli\\sf100\\orders\\orders.4.parquet : 7499946 rows x 9 columns in 35343 ms\n",
      "2025-09-24T12:15:13.314 +02:00 -|- FastTransfer -|- PARQUET_To_MSSQL_Parallel12_DataDriven_filename -|- INFORMATION -|- tpch_test.dbo.orders -|- Completed DataDriven Load sub-process 13 for filename = D:\\tpchgen-cli\\sf100\\orders\\orders.3.parquet : 7499946 rows x 9 columns in 35209 ms\n",
      "2025-09-24T12:15:17.148 +02:00 -|- FastTransfer -|- PARQUET_To_MSSQL_Parallel12_DataDriven_filename -|- INFORMATION -|- tpch_test.dbo.orders -|- Completed DataDriven Load sub-process 15 for filename = D:\\tpchgen-cli\\sf100\\orders\\orders.5.parquet : 7499946 rows x 9 columns in 37767 ms\n",
      "2025-09-24T12:15:17.793 +02:00 -|- FastTransfer -|- PARQUET_To_MSSQL_Parallel12_DataDriven_filename -|- INFORMATION -|- tpch_test.dbo.orders -|- Completed DataDriven Load sub-process 19 for filename = D:\\tpchgen-cli\\sf100\\orders\\orders.9.parquet : 7499946 rows x 9 columns in 37800 ms\n",
      "2025-09-24T12:15:18.883 +02:00 -|- FastTransfer -|- PARQUET_To_MSSQL_Parallel12_DataDriven_filename -|- INFORMATION -|- tpch_test.dbo.orders -|- Completed DataDriven Load sub-process 16 for filename = D:\\tpchgen-cli\\sf100\\orders\\orders.6.parquet : 7499946 rows x 9 columns in 38170 ms\n",
      "2025-09-24T12:15:18.884 +02:00 -|- FastTransfer -|- PARQUET_To_MSSQL_Parallel12_DataDriven_filename -|- INFORMATION -|- tpch_test.dbo.orders -|- Total rows : 150000000\n",
      "2025-09-24T12:15:18.884 +02:00 -|- FastTransfer -|- PARQUET_To_MSSQL_Parallel12_DataDriven_filename -|- INFORMATION -|- tpch_test.dbo.orders -|- Total columns : 9\n",
      "2025-09-24T12:15:18.884 +02:00 -|- FastTransfer -|- PARQUET_To_MSSQL_Parallel12_DataDriven_filename -|- INFORMATION -|- tpch_test.dbo.orders -|- Total cells : 1350000000\n",
      "2025-09-24T12:15:18.884 +02:00 -|- FastTransfer -|- PARQUET_To_MSSQL_Parallel12_DataDriven_filename -|- INFORMATION -|- tpch_test.dbo.orders -|- Rows Throughput : 1730945 rows/s\n",
      "2025-09-24T12:15:18.884 +02:00 -|- FastTransfer -|- PARQUET_To_MSSQL_Parallel12_DataDriven_filename -|- INFORMATION -|- tpch_test.dbo.orders -|- Cells Throughput : 15578513 cells/s\n",
      "2025-09-24T12:15:18.884 +02:00 -|- FastTransfer -|- PARQUET_To_MSSQL_Parallel12_DataDriven_filename -|- INFORMATION -|- tpch_test.dbo.orders -|- Transfert time : Elapsed=86657 ms\n",
      "2025-09-24T12:15:18.884 +02:00 -|- FastTransfer -|- PARQUET_To_MSSQL_Parallel12_DataDriven_filename -|- INFORMATION -|- tpch_test.dbo.orders -|- Total time : Elapsed=86880 ms\n",
      "2025-09-24T12:15:18.884 +02:00 -|- FastTransfer -|- PARQUET_To_MSSQL_Parallel12_DataDriven_filename -|- INFORMATION -|- tpch_test.dbo.orders -|- Completed Load\n"
     ]
    }
   ],
   "source": [
    "cd D:\\FastTransfer\\\n",
    "\n",
    ".\\FastTransfer.exe `\n",
    "--sourceconnectiontype \"duckdbstream\" `\n",
    "--sourceserver \":memory:\" `\n",
    "--query \"SELECT * exclude filename FROM read_parquet('D:\\tpchgen-cli\\sf100\\*\\orders*.parquet', filename=true)\" `\n",
    "--targetconnectiontype \"msbulk\" `\n",
    "--targetserver \"localhost\\SS2025\" `\n",
    "--targettrusted `\n",
    "--targetdatabase \"tpch_test\" `\n",
    "--targetschema \"dbo\" `\n",
    "--targettable \"orders\" `\n",
    "--method \"DataDriven\" `\n",
    "--distributeKeyColumn \"filename\" `\n",
    "--datadrivenquery \"select file from glob('D:\\tpchgen-cli\\sf100\\*\\orders*.parquet')\" `\n",
    "--loadmode \"Truncate\" `\n",
    "--mapmethod \"Name\" `\n",
    "--degree 12 `\n",
    "--runid \"PARQUET_To_MSSQL_Parallel12_DataDriven_filename\""
   ]
  },
  {
   "cell_type": "markdown",
   "id": "6a160b8a",
   "metadata": {},
   "source": [
    "This is generally the fastest import format. To Generate parquet file from databases you can try [FastBCP](https://www.arpe.io/fastbcp/)"
   ]
  }
 ],
 "metadata": {
  "kernelspec": {
   "display_name": ".NET (C#)",
   "language": "C#",
   "name": ".net-csharp"
  },
  "language_info": {
   "name": "polyglot-notebook"
  },
  "polyglot_notebook": {
   "kernelInfo": {
    "defaultKernelName": "csharp",
    "items": [
     {
      "aliases": [],
      "name": "csharp"
     },
     {
      "aliases": [],
      "languageName": "T-SQL",
      "name": "sql-SS2022-FastWrappers-TSQL-DB"
     }
    ]
   }
  }
 },
 "nbformat": 4,
 "nbformat_minor": 5
}
