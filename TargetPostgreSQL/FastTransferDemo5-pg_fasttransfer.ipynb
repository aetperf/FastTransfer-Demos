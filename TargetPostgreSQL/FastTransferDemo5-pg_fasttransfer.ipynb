{
 "cells": [
  {
   "cell_type": "markdown",
   "id": "f707e0b3",
   "metadata": {},
   "source": [
    "## BONUS : using pg_fasttransfer extension to run fasttransfer from psql command line\n"
   ]
  },
  {
   "cell_type": "markdown",
   "id": "593d0217",
   "metadata": {},
   "source": [
    "```\n",
    "██████   ██████          ███████  █████  ███████ ████████ ████████ ██████   █████  ███    ██ ███████ ███████ ███████ ██████  \n",
    "██   ██ ██               ██      ██   ██ ██         ██       ██    ██   ██ ██   ██ ████   ██ ██      ██      ██      ██   ██ \n",
    "██████  ██   ███         █████   ███████ ███████    ██       ██    ██████  ███████ ██ ██  ██ ███████ █████   █████   ██████  \n",
    "██      ██    ██         ██      ██   ██      ██    ██       ██    ██   ██ ██   ██ ██  ██ ██      ██ ██      ██      ██   ██ \n",
    "██       ██████  ███████ ██      ██   ██ ███████    ██       ██    ██   ██ ██   ██ ██   ████ ███████ ██      ███████ ██   ██ \n"
   ]
  },
  {
   "cell_type": "markdown",
   "id": "3d097fbd",
   "metadata": {},
   "source": [
    "Get the extension from : https://github.com/aetperf/pg_fasttransfer\n"
   ]
  },
  {
   "cell_type": "markdown",
   "id": "92d0032b",
   "metadata": {},
   "source": [
    "### Installation of the extension on the source database (pg16)"
   ]
  },
  {
   "cell_type": "markdown",
   "id": "c4c58324",
   "metadata": {
    "vscode": {
     "languageId": "plaintext"
    }
   },
   "source": [
    "- Download the extension for your system (windows or linux) and your postgresql version (16 or 17) on the release page\n",
    "https://github.com/aetperf/pg_fasttransfer/releases/tag/v0.6.1\n",
    "- unzip in a temp folder\n",
    "- run the installer (bat or sh script) as the admin user (warning : it will install the extension in the postgresql server folders and then must restart the postgresql service)\n",
    "\n",
    "More details in the README file of the github project."
   ]
  },
  {
   "cell_type": "code",
   "execution_count": 1,
   "id": "578172d5",
   "metadata": {
    "language_info": {
     "name": "polyglot-notebook"
    },
    "polyglot_notebook": {
     "kernelName": "csharp"
    }
   },
   "outputs": [
    {
     "data": {
      "text/html": [
       "<div><div></div><div></div><div><strong>Installed Packages</strong><ul><li><span>Microsoft.DotNet.Interactive.PostgreSQL, 1.0.0-beta.25323.1</span></li></ul></div></div>"
      ]
     },
     "metadata": {},
     "output_type": "display_data"
    },
    {
     "data": {
      "text/plain": [
       "Loading extension script from `C:\\Users\\romai\\.nuget\\packages\\microsoft.dotnet.interactive.postgresql\\1.0.0-beta.25323.1\\interactive-extensions\\dotnet\\extension.dib`"
      ]
     },
     "metadata": {},
     "output_type": "display_data"
    },
    {
     "data": {
      "text/html": [
       "<details><summary>Query PostgreSQL databases.</summary>\r\n",
       "    <p>This extension adds support for connecting to PostgreSql databases using the <code>#!connect postgres</code> magic command.</p>\r\n",
       "    </details>"
      ]
     },
     "metadata": {},
     "output_type": "display_data"
    }
   ],
   "source": [
    "#r \"nuget:Microsoft.DotNet.Interactive.PostgreSQL , *-*\""
   ]
  },
  {
   "cell_type": "code",
   "execution_count": 2,
   "id": "df8b07cb",
   "metadata": {
    "language_info": {
     "name": "polyglot-notebook"
    },
    "polyglot_notebook": {
     "kernelName": "csharp"
    }
   },
   "outputs": [
    {
     "data": {
      "text/plain": [
       "Kernel added: #!sql-pgsql17_fasttransfer"
      ]
     },
     "metadata": {},
     "output_type": "display_data"
    }
   ],
   "source": [
    "// Connect to PostgreSQL fasttransfer database (that will have the pg_fasttransfer extension installed)\n",
    "#!connect postgres \"Host=localhost;Port=25432;Database=fasttransfer;Username=FastUser;Password=FastPassword;CommandTimeout=1500\" --kernel-name pgsql17_fasttransfer"
   ]
  },
  {
   "cell_type": "code",
   "execution_count": 3,
   "id": "2d8f7d1e",
   "metadata": {
    "language_info": {
     "name": "polyglot-notebook"
    },
    "polyglot_notebook": {
     "kernelName": "csharp"
    }
   },
   "outputs": [
    {
     "data": {
      "text/plain": [
       "Kernel added: #!sql-pgsql17_tpch"
      ]
     },
     "metadata": {},
     "output_type": "display_data"
    }
   ],
   "source": [
    "// Connect to PostgreSQL target database \n",
    "#!connect postgres \"Host=localhost;Port=25432;Database=tpch;Username=FastUser;Password=FastPassword;CommandTimeout=1500\" --kernel-name pgsql17_tpch"
   ]
  },
  {
   "cell_type": "code",
   "execution_count": 5,
   "id": "4a1db43c",
   "metadata": {
    "language_info": {
     "name": "polyglot-notebook"
    },
    "polyglot_notebook": {
     "kernelName": "sql-pgsql17_fasttransfer"
    }
   },
   "outputs": [
    {
     "data": {
      "text/csv": [
       "name,default_version,installed_version,comment\r\n",
       "pg_fasttransfer,1.0,1.0,\"PostgreSQL FastTransfer extension\"\r\n"
      ],
      "text/html": [
       "<table><thead><tr><td><span>name</span></td><td><span>default_version</span></td><td><span>installed_version</span></td><td><span>comment</span></td></tr></thead><tbody><tr><td>pg_fasttransfer</td><td>1.0</td><td>1.0</td><td>PostgreSQL FastTransfer extension</td></tr></tbody></table><style>\r\n",
       ".dni-code-hint {\r\n",
       "    font-style: italic;\r\n",
       "    overflow: hidden;\r\n",
       "    white-space: nowrap;\r\n",
       "}\r\n",
       ".dni-treeview {\r\n",
       "    white-space: nowrap;\r\n",
       "}\r\n",
       ".dni-treeview td {\r\n",
       "    vertical-align: top;\r\n",
       "    text-align: start;\r\n",
       "}\r\n",
       "details.dni-treeview {\r\n",
       "    padding-left: 1em;\r\n",
       "}\r\n",
       "table td {\r\n",
       "    text-align: start;\r\n",
       "}\r\n",
       "table tr { \r\n",
       "    vertical-align: top; \r\n",
       "    margin: 0em 0px;\r\n",
       "}\r\n",
       "table tr td pre \r\n",
       "{ \r\n",
       "    vertical-align: top !important; \r\n",
       "    margin: 0em 0px !important;\r\n",
       "} \r\n",
       "table th {\r\n",
       "    text-align: start;\r\n",
       "}\r\n",
       "</style>"
      ]
     },
     "metadata": {},
     "output_type": "display_data"
    }
   ],
   "source": [
    "DROP EXTENSION IF EXISTS pg_fasttransfer;\n",
    "CREATE EXTENSION pg_fasttransfer CASCADE;\n",
    "SELECT * FROM pg_available_extensions WHERE name='pg_fasttransfer';"
   ]
  },
  {
   "cell_type": "code",
   "execution_count": 6,
   "id": "93e1fc5c",
   "metadata": {
    "language_info": {
     "name": "polyglot-notebook"
    },
    "polyglot_notebook": {
     "kernelName": "sql-pgsql17_tpch"
    }
   },
   "outputs": [
    {
     "data": {
      "text/csv": [
       "count\r\n",
       "0\r\n"
      ],
      "text/html": [
       "<table><thead><tr><td><span>count</span></td></tr></thead><tbody><tr><td><div class=\"dni-plaintext\"><pre>0</pre></div></td></tr></tbody></table><style>\r\n",
       ".dni-code-hint {\r\n",
       "    font-style: italic;\r\n",
       "    overflow: hidden;\r\n",
       "    white-space: nowrap;\r\n",
       "}\r\n",
       ".dni-treeview {\r\n",
       "    white-space: nowrap;\r\n",
       "}\r\n",
       ".dni-treeview td {\r\n",
       "    vertical-align: top;\r\n",
       "    text-align: start;\r\n",
       "}\r\n",
       "details.dni-treeview {\r\n",
       "    padding-left: 1em;\r\n",
       "}\r\n",
       "table td {\r\n",
       "    text-align: start;\r\n",
       "}\r\n",
       "table tr { \r\n",
       "    vertical-align: top; \r\n",
       "    margin: 0em 0px;\r\n",
       "}\r\n",
       "table tr td pre \r\n",
       "{ \r\n",
       "    vertical-align: top !important; \r\n",
       "    margin: 0em 0px !important;\r\n",
       "} \r\n",
       "table th {\r\n",
       "    text-align: start;\r\n",
       "}\r\n",
       "</style>"
      ]
     },
     "metadata": {},
     "output_type": "display_data"
    }
   ],
   "source": [
    "TRUNCATE TABLE tpch_10.orders_heap;\n",
    "SELECT count(*) FROM tpch_10.orders_heap;"
   ]
  },
  {
   "cell_type": "markdown",
   "id": "311547aa",
   "metadata": {},
   "source": [
    "### Run FastTransfer from psql command line using the xp_fasttransfer_secure \"procedure\""
   ]
  },
  {
   "cell_type": "code",
   "execution_count": 13,
   "id": "665040cf",
   "metadata": {
    "language_info": {
     "name": "polyglot-notebook"
    },
    "polyglot_notebook": {
     "kernelName": "sql-pgsql17_fasttransfer"
    }
   },
   "outputs": [
    {
     "data": {
      "text/csv": [
       "exit_code,output,error_message,total_rows,total_columns,transfer_time_ms,total_time_ms\r\n",
       "0,,,15000000,9,6184,6346\r\n"
      ],
      "text/html": [
       "<table><thead><tr><td><span>exit_code</span></td><td><span>output</span></td><td><span>error_message</span></td><td><span>total_rows</span></td><td><span>total_columns</span></td><td><span>transfer_time_ms</span></td><td><span>total_time_ms</span></td></tr></thead><tbody><tr><td><div class=\"dni-plaintext\"><pre>0</pre></div></td><td></td><td></td><td><div class=\"dni-plaintext\"><pre>15000000</pre></div></td><td><div class=\"dni-plaintext\"><pre>9</pre></div></td><td><div class=\"dni-plaintext\"><pre>6184</pre></div></td><td><div class=\"dni-plaintext\"><pre>6346</pre></div></td></tr></tbody></table><style>\r\n",
       ".dni-code-hint {\r\n",
       "    font-style: italic;\r\n",
       "    overflow: hidden;\r\n",
       "    white-space: nowrap;\r\n",
       "}\r\n",
       ".dni-treeview {\r\n",
       "    white-space: nowrap;\r\n",
       "}\r\n",
       ".dni-treeview td {\r\n",
       "    vertical-align: top;\r\n",
       "    text-align: start;\r\n",
       "}\r\n",
       "details.dni-treeview {\r\n",
       "    padding-left: 1em;\r\n",
       "}\r\n",
       "table td {\r\n",
       "    text-align: start;\r\n",
       "}\r\n",
       "table tr { \r\n",
       "    vertical-align: top; \r\n",
       "    margin: 0em 0px;\r\n",
       "}\r\n",
       "table tr td pre \r\n",
       "{ \r\n",
       "    vertical-align: top !important; \r\n",
       "    margin: 0em 0px !important;\r\n",
       "} \r\n",
       "table th {\r\n",
       "    text-align: start;\r\n",
       "}\r\n",
       "</style>"
      ]
     },
     "metadata": {},
     "output_type": "display_data"
    }
   ],
   "source": [
    "SELECT * from xp_RunFastTransfer_secure(\n",
    "sourceconnectiontype := 'pgsql',\n",
    "sourceserver := 'localhost:15432',\n",
    "sourceuser := 'FastUser',\n",
    "sourcepassword := 'ww0EBwMCc/4pDzBaadRn0j0BCJu5ZTZ0h64a3Q/AB+DBLhsa8mBkasUdEhTsM6slUOLZ43pVPSBs\n",
    "XjoB0/SMxNdh6jq3wVeBf3Iez1Wn',\n",
    "sourcedatabase := 'tpch',\n",
    "sourceschema := 'tpch_10',\n",
    "sourcetable := 'orders',\n",
    "targetconnectiontype := 'pgcopy',\n",
    "targetserver := 'localhost:25432',\n",
    "targetuser := 'FastUser',\n",
    "targetpassword := 'ww0EBwMCc/4pDzBaadRn0j0BCJu5ZTZ0h64a3Q/AB+DBLhsa8mBkasUdEhTsM6slUOLZ43pVPSBs\n",
    "XjoB0/SMxNdh6jq3wVeBf3Iez1Wn', \n",
    "targetdatabase := 'tpch',\n",
    "targetschema := 'tpch_10',\n",
    "targettable := 'orders_heap',\n",
    "method := 'Ctid',\n",
    "degree := 12,\n",
    "loadmode := 'Truncate',\n",
    "batchsize := 1048576,\n",
    "mapmethod := 'Name',\n",
    "fasttransfer_path := 'D:\\FastTransfer'\n",
    ");"
   ]
  },
  {
   "cell_type": "code",
   "execution_count": 14,
   "id": "6504851d",
   "metadata": {
    "language_info": {
     "name": "polyglot-notebook"
    },
    "polyglot_notebook": {
     "kernelName": "sql-pgsql17_tpch"
    }
   },
   "outputs": [
    {
     "data": {
      "text/csv": [
       "count\r\n",
       "15000000\r\n"
      ],
      "text/html": [
       "<table><thead><tr><td><span>count</span></td></tr></thead><tbody><tr><td><div class=\"dni-plaintext\"><pre>15000000</pre></div></td></tr></tbody></table><style>\r\n",
       ".dni-code-hint {\r\n",
       "    font-style: italic;\r\n",
       "    overflow: hidden;\r\n",
       "    white-space: nowrap;\r\n",
       "}\r\n",
       ".dni-treeview {\r\n",
       "    white-space: nowrap;\r\n",
       "}\r\n",
       ".dni-treeview td {\r\n",
       "    vertical-align: top;\r\n",
       "    text-align: start;\r\n",
       "}\r\n",
       "details.dni-treeview {\r\n",
       "    padding-left: 1em;\r\n",
       "}\r\n",
       "table td {\r\n",
       "    text-align: start;\r\n",
       "}\r\n",
       "table tr { \r\n",
       "    vertical-align: top; \r\n",
       "    margin: 0em 0px;\r\n",
       "}\r\n",
       "table tr td pre \r\n",
       "{ \r\n",
       "    vertical-align: top !important; \r\n",
       "    margin: 0em 0px !important;\r\n",
       "} \r\n",
       "table th {\r\n",
       "    text-align: start;\r\n",
       "}\r\n",
       "</style>"
      ]
     },
     "metadata": {},
     "output_type": "display_data"
    }
   ],
   "source": [
    "SELECT count(*) FROM tpch_10.orders_heap;"
   ]
  },
  {
   "cell_type": "code",
   "execution_count": 15,
   "id": "38dd20d5",
   "metadata": {
    "language_info": {
     "name": "polyglot-notebook"
    },
    "polyglot_notebook": {
     "kernelName": "sql-pgsql17_tpch"
    }
   },
   "outputs": [
    {
     "data": {
      "text/csv": [
       "o_orderkey,o_custkey,o_orderstatus,o_totalprice,o_orderdate,o_orderpriority,o_clerk,o_shippriority,o_comment\r\n",
       "1,369001,O,186600.000,1996-01-02T00:00:00.0000000,\"5-LOW          \",Clerk#000009506,0,\"ly express platelets. deposits acc\"\r\n",
       "2,780017,O,66220.000,1996-12-01T00:00:00.0000000,\"1-URGENT       \",Clerk#000008792,0,\"ve the furiously fluffy dependencies. carefully regular \"\r\n",
       "3,1233140,F,270742.000,1993-10-14T00:00:00.0000000,\"5-LOW          \",Clerk#000009543,0,\" after the asymptotes. instructions cajole after the foxes. carefully unu\"\r\n",
       "4,1367761,O,41714.000,1995-10-11T00:00:00.0000000,\"5-LOW          \",Clerk#000001234,0,\"st the furiously bold pinto beans. furiously pending theodolites cajol\"\r\n",
       "5,444848,F,122444.000,1994-07-30T00:00:00.0000000,\"5-LOW          \",Clerk#000009248,0,\"onic requests. carefully daring foxes among the carefu\"\r\n",
       "6,556222,F,50884.000,1992-02-21T00:00:00.0000000,\"4-NOT SPECIFIED\",Clerk#000000580,0,\"furiously ironic accounts haggle blithely carefully regular de\"\r\n",
       "7,391343,O,287535.000,1996-01-10T00:00:00.0000000,\"2-HIGH         \",Clerk#000004697,0,\", ironic packages wa\"\r\n",
       "32,1300570,O,129635.000,1995-07-16T00:00:00.0000000,\"2-HIGH         \",Clerk#000006157,0,\"ly about the carefully express theodolites. ironic, iron\"\r\n",
       "33,669580,F,126999.000,1993-10-27T00:00:00.0000000,\"3-MEDIUM       \",Clerk#000004086,0,\" careful, regular courts. unusual\"\r\n",
       "34,610001,O,55315.000,1998-07-21T00:00:00.0000000,\"3-MEDIUM       \",Clerk#000002228,0,\"osits according to the ideas are furiously final requests? slyly pe\"\r\n"
      ],
      "text/html": [
       "<table><thead><tr><td><span>o_orderkey</span></td><td><span>o_custkey</span></td><td><span>o_orderstatus</span></td><td><span>o_totalprice</span></td><td><span>o_orderdate</span></td><td><span>o_orderpriority</span></td><td><span>o_clerk</span></td><td><span>o_shippriority</span></td><td><span>o_comment</span></td></tr></thead><tbody><tr><td><div class=\"dni-plaintext\"><pre>1</pre></div></td><td><div class=\"dni-plaintext\"><pre>369001</pre></div></td><td>O</td><td><div class=\"dni-plaintext\"><pre>186600.000</pre></div></td><td><span>1996-01-02 00:00:00Z</span></td><td>5-LOW          </td><td>Clerk#000009506</td><td><div class=\"dni-plaintext\"><pre>0</pre></div></td><td>ly express platelets. deposits acc</td></tr><tr><td><div class=\"dni-plaintext\"><pre>2</pre></div></td><td><div class=\"dni-plaintext\"><pre>780017</pre></div></td><td>O</td><td><div class=\"dni-plaintext\"><pre>66220.000</pre></div></td><td><span>1996-12-01 00:00:00Z</span></td><td>1-URGENT       </td><td>Clerk#000008792</td><td><div class=\"dni-plaintext\"><pre>0</pre></div></td><td>ve the furiously fluffy dependencies. carefully regular </td></tr><tr><td><div class=\"dni-plaintext\"><pre>3</pre></div></td><td><div class=\"dni-plaintext\"><pre>1233140</pre></div></td><td>F</td><td><div class=\"dni-plaintext\"><pre>270742.000</pre></div></td><td><span>1993-10-14 00:00:00Z</span></td><td>5-LOW          </td><td>Clerk#000009543</td><td><div class=\"dni-plaintext\"><pre>0</pre></div></td><td> after the asymptotes. instructions cajole after the foxes. carefully unu</td></tr><tr><td><div class=\"dni-plaintext\"><pre>4</pre></div></td><td><div class=\"dni-plaintext\"><pre>1367761</pre></div></td><td>O</td><td><div class=\"dni-plaintext\"><pre>41714.000</pre></div></td><td><span>1995-10-11 00:00:00Z</span></td><td>5-LOW          </td><td>Clerk#000001234</td><td><div class=\"dni-plaintext\"><pre>0</pre></div></td><td>st the furiously bold pinto beans. furiously pending theodolites cajol</td></tr><tr><td><div class=\"dni-plaintext\"><pre>5</pre></div></td><td><div class=\"dni-plaintext\"><pre>444848</pre></div></td><td>F</td><td><div class=\"dni-plaintext\"><pre>122444.000</pre></div></td><td><span>1994-07-30 00:00:00Z</span></td><td>5-LOW          </td><td>Clerk#000009248</td><td><div class=\"dni-plaintext\"><pre>0</pre></div></td><td>onic requests. carefully daring foxes among the carefu</td></tr><tr><td><div class=\"dni-plaintext\"><pre>6</pre></div></td><td><div class=\"dni-plaintext\"><pre>556222</pre></div></td><td>F</td><td><div class=\"dni-plaintext\"><pre>50884.000</pre></div></td><td><span>1992-02-21 00:00:00Z</span></td><td>4-NOT SPECIFIED</td><td>Clerk#000000580</td><td><div class=\"dni-plaintext\"><pre>0</pre></div></td><td>furiously ironic accounts haggle blithely carefully regular de</td></tr><tr><td><div class=\"dni-plaintext\"><pre>7</pre></div></td><td><div class=\"dni-plaintext\"><pre>391343</pre></div></td><td>O</td><td><div class=\"dni-plaintext\"><pre>287535.000</pre></div></td><td><span>1996-01-10 00:00:00Z</span></td><td>2-HIGH         </td><td>Clerk#000004697</td><td><div class=\"dni-plaintext\"><pre>0</pre></div></td><td>, ironic packages wa</td></tr><tr><td><div class=\"dni-plaintext\"><pre>32</pre></div></td><td><div class=\"dni-plaintext\"><pre>1300570</pre></div></td><td>O</td><td><div class=\"dni-plaintext\"><pre>129635.000</pre></div></td><td><span>1995-07-16 00:00:00Z</span></td><td>2-HIGH         </td><td>Clerk#000006157</td><td><div class=\"dni-plaintext\"><pre>0</pre></div></td><td>ly about the carefully express theodolites. ironic, iron</td></tr><tr><td><div class=\"dni-plaintext\"><pre>33</pre></div></td><td><div class=\"dni-plaintext\"><pre>669580</pre></div></td><td>F</td><td><div class=\"dni-plaintext\"><pre>126999.000</pre></div></td><td><span>1993-10-27 00:00:00Z</span></td><td>3-MEDIUM       </td><td>Clerk#000004086</td><td><div class=\"dni-plaintext\"><pre>0</pre></div></td><td> careful, regular courts. unusual</td></tr><tr><td><div class=\"dni-plaintext\"><pre>34</pre></div></td><td><div class=\"dni-plaintext\"><pre>610001</pre></div></td><td>O</td><td><div class=\"dni-plaintext\"><pre>55315.000</pre></div></td><td><span>1998-07-21 00:00:00Z</span></td><td>3-MEDIUM       </td><td>Clerk#000002228</td><td><div class=\"dni-plaintext\"><pre>0</pre></div></td><td>osits according to the ideas are furiously final requests? slyly pe</td></tr></tbody></table><style>\r\n",
       ".dni-code-hint {\r\n",
       "    font-style: italic;\r\n",
       "    overflow: hidden;\r\n",
       "    white-space: nowrap;\r\n",
       "}\r\n",
       ".dni-treeview {\r\n",
       "    white-space: nowrap;\r\n",
       "}\r\n",
       ".dni-treeview td {\r\n",
       "    vertical-align: top;\r\n",
       "    text-align: start;\r\n",
       "}\r\n",
       "details.dni-treeview {\r\n",
       "    padding-left: 1em;\r\n",
       "}\r\n",
       "table td {\r\n",
       "    text-align: start;\r\n",
       "}\r\n",
       "table tr { \r\n",
       "    vertical-align: top; \r\n",
       "    margin: 0em 0px;\r\n",
       "}\r\n",
       "table tr td pre \r\n",
       "{ \r\n",
       "    vertical-align: top !important; \r\n",
       "    margin: 0em 0px !important;\r\n",
       "} \r\n",
       "table th {\r\n",
       "    text-align: start;\r\n",
       "}\r\n",
       "</style>"
      ]
     },
     "metadata": {},
     "output_type": "display_data"
    }
   ],
   "source": [
    "SELECT * FROM tpch_10.orders_heap ORDER BY o_orderkey LIMIT 10;"
   ]
  },
  {
   "cell_type": "markdown",
   "id": "b48d39e3",
   "metadata": {},
   "source": [
    "### Source Oracle ORDERS Target PostgreSQL ORDERS table (with PK)"
   ]
  },
  {
   "cell_type": "code",
   "execution_count": 32,
   "id": "60c3dab9",
   "metadata": {
    "language_info": {
     "name": "polyglot-notebook"
    },
    "polyglot_notebook": {
     "kernelName": "sql-pgsql17_tpch"
    }
   },
   "outputs": [
    {
     "data": {
      "text/csv": [
       "count\r\n",
       "0\r\n"
      ],
      "text/html": [
       "<table><thead><tr><td><span>count</span></td></tr></thead><tbody><tr><td><div class=\"dni-plaintext\"><pre>0</pre></div></td></tr></tbody></table><style>\r\n",
       ".dni-code-hint {\r\n",
       "    font-style: italic;\r\n",
       "    overflow: hidden;\r\n",
       "    white-space: nowrap;\r\n",
       "}\r\n",
       ".dni-treeview {\r\n",
       "    white-space: nowrap;\r\n",
       "}\r\n",
       ".dni-treeview td {\r\n",
       "    vertical-align: top;\r\n",
       "    text-align: start;\r\n",
       "}\r\n",
       "details.dni-treeview {\r\n",
       "    padding-left: 1em;\r\n",
       "}\r\n",
       "table td {\r\n",
       "    text-align: start;\r\n",
       "}\r\n",
       "table tr { \r\n",
       "    vertical-align: top; \r\n",
       "    margin: 0em 0px;\r\n",
       "}\r\n",
       "table tr td pre \r\n",
       "{ \r\n",
       "    vertical-align: top !important; \r\n",
       "    margin: 0em 0px !important;\r\n",
       "} \r\n",
       "table th {\r\n",
       "    text-align: start;\r\n",
       "}\r\n",
       "</style>"
      ]
     },
     "metadata": {},
     "output_type": "display_data"
    }
   ],
   "source": [
    "TRUNCATE TABLE tpch_10.orders;\n",
    "SELECT count(*) FROM tpch_10.orders;"
   ]
  },
  {
   "cell_type": "code",
   "execution_count": 28,
   "id": "1d0be4e3",
   "metadata": {
    "language_info": {
     "name": "polyglot-notebook"
    },
    "polyglot_notebook": {
     "kernelName": "sql-pgsql17_fasttransfer"
    }
   },
   "outputs": [
    {
     "data": {
      "text/csv": [
       "pg_fasttransfer_encrypt\r\n",
       "\"ww0EBwMClLUgzaK7CeV/0jgBrcJ12PhQaPFsrHKtbT8h0vzJkZZah65ju5+jL9niJT/YAGYccAgz\n",
       "Et+WdkYpnW9Cp3RklNy1Gw==\"\r\n"
      ],
      "text/html": [
       "<table><thead><tr><td><span>pg_fasttransfer_encrypt</span></td></tr></thead><tbody><tr><td>ww0EBwMClLUgzaK7CeV/0jgBrcJ12PhQaPFsrHKtbT8h0vzJkZZah65ju5+jL9niJT/YAGYccAgz\n",
       "Et+WdkYpnW9Cp3RklNy1Gw==</td></tr></tbody></table><style>\r\n",
       ".dni-code-hint {\r\n",
       "    font-style: italic;\r\n",
       "    overflow: hidden;\r\n",
       "    white-space: nowrap;\r\n",
       "}\r\n",
       ".dni-treeview {\r\n",
       "    white-space: nowrap;\r\n",
       "}\r\n",
       ".dni-treeview td {\r\n",
       "    vertical-align: top;\r\n",
       "    text-align: start;\r\n",
       "}\r\n",
       "details.dni-treeview {\r\n",
       "    padding-left: 1em;\r\n",
       "}\r\n",
       "table td {\r\n",
       "    text-align: start;\r\n",
       "}\r\n",
       "table tr { \r\n",
       "    vertical-align: top; \r\n",
       "    margin: 0em 0px;\r\n",
       "}\r\n",
       "table tr td pre \r\n",
       "{ \r\n",
       "    vertical-align: top !important; \r\n",
       "    margin: 0em 0px !important;\r\n",
       "} \r\n",
       "table th {\r\n",
       "    text-align: start;\r\n",
       "}\r\n",
       "</style>"
      ]
     },
     "metadata": {},
     "output_type": "display_data"
    }
   ],
   "source": [
    "SELECT pg_fasttransfer_encrypt('TPCH_IN');"
   ]
  },
  {
   "cell_type": "code",
   "execution_count": 16,
   "id": "be16105a",
   "metadata": {
    "language_info": {
     "name": "polyglot-notebook"
    },
    "polyglot_notebook": {
     "kernelName": "sql-pgsql17_fasttransfer"
    }
   },
   "outputs": [
    {
     "data": {
      "text/csv": [
       "exit_code,output,error_message,total_rows,total_columns,transfer_time_ms,total_time_ms\r\n",
       "0,,,15000000,9,14567,15025\r\n"
      ],
      "text/html": [
       "<table><thead><tr><td><span>exit_code</span></td><td><span>output</span></td><td><span>error_message</span></td><td><span>total_rows</span></td><td><span>total_columns</span></td><td><span>transfer_time_ms</span></td><td><span>total_time_ms</span></td></tr></thead><tbody><tr><td><div class=\"dni-plaintext\"><pre>0</pre></div></td><td></td><td></td><td><div class=\"dni-plaintext\"><pre>15000000</pre></div></td><td><div class=\"dni-plaintext\"><pre>9</pre></div></td><td><div class=\"dni-plaintext\"><pre>14567</pre></div></td><td><div class=\"dni-plaintext\"><pre>15025</pre></div></td></tr></tbody></table><style>\r\n",
       ".dni-code-hint {\r\n",
       "    font-style: italic;\r\n",
       "    overflow: hidden;\r\n",
       "    white-space: nowrap;\r\n",
       "}\r\n",
       ".dni-treeview {\r\n",
       "    white-space: nowrap;\r\n",
       "}\r\n",
       ".dni-treeview td {\r\n",
       "    vertical-align: top;\r\n",
       "    text-align: start;\r\n",
       "}\r\n",
       "details.dni-treeview {\r\n",
       "    padding-left: 1em;\r\n",
       "}\r\n",
       "table td {\r\n",
       "    text-align: start;\r\n",
       "}\r\n",
       "table tr { \r\n",
       "    vertical-align: top; \r\n",
       "    margin: 0em 0px;\r\n",
       "}\r\n",
       "table tr td pre \r\n",
       "{ \r\n",
       "    vertical-align: top !important; \r\n",
       "    margin: 0em 0px !important;\r\n",
       "} \r\n",
       "table th {\r\n",
       "    text-align: start;\r\n",
       "}\r\n",
       "</style>"
      ]
     },
     "metadata": {},
     "output_type": "display_data"
    }
   ],
   "source": [
    "SELECT * from xp_RunFastTransfer_secure(\n",
    "sourceconnectiontype := 'oraodp',\n",
    "sourceserver := 'localhost:1521/ORCLPDB',\n",
    "sourceuser := 'TPCH_IN',\n",
    "sourcepassword := 'ww0EBwMCdYjkD/4zFQZ60jgB7UXs/d3NLuwAt9AEa6byGxM/m8bliOVmug4+1gWggjaOtbecbqij 7BFiqov+h7slviPMgzWokA==',\n",
    "sourcedatabase := 'ORCLPDB',\n",
    "sourceschema := 'TPCH_IN',\n",
    "sourcetable := 'ORDERS_FLAT',\n",
    "targetconnectiontype := 'pgcopy',\n",
    "targetserver := 'localhost:25432',\n",
    "targetuser := 'FastUser',\n",
    "targetpassword := 'ww0EBwMCc/4pDzBaadRn0j0BCJu5ZTZ0h64a3Q/AB+DBLhsa8mBkasUdEhTsM6slUOLZ43pVPSBs XjoB0/SMxNdh6jq3wVeBf3Iez1Wn', \n",
    "targetdatabase := 'tpch',\n",
    "targetschema := 'tpch_10',\n",
    "targettable := 'orders',\n",
    "method := 'RangeId',\n",
    "distributekeycolumn := 'O_ORDERKEY',\n",
    "degree := 12,\n",
    "loadmode := 'Truncate',\n",
    "batchsize := 1048576,\n",
    "mapmethod := 'Name',\n",
    "fasttransfer_path := 'D:\\FastTransfer'\n",
    ");"
   ]
  },
  {
   "cell_type": "code",
   "execution_count": 34,
   "id": "552ef90c",
   "metadata": {
    "language_info": {
     "name": "polyglot-notebook"
    },
    "polyglot_notebook": {
     "kernelName": "sql-pgsql17_tpch"
    }
   },
   "outputs": [
    {
     "data": {
      "text/csv": [
       "count\r\n",
       "15000000\r\n"
      ],
      "text/html": [
       "<table><thead><tr><td><span>count</span></td></tr></thead><tbody><tr><td><div class=\"dni-plaintext\"><pre>15000000</pre></div></td></tr></tbody></table><style>\r\n",
       ".dni-code-hint {\r\n",
       "    font-style: italic;\r\n",
       "    overflow: hidden;\r\n",
       "    white-space: nowrap;\r\n",
       "}\r\n",
       ".dni-treeview {\r\n",
       "    white-space: nowrap;\r\n",
       "}\r\n",
       ".dni-treeview td {\r\n",
       "    vertical-align: top;\r\n",
       "    text-align: start;\r\n",
       "}\r\n",
       "details.dni-treeview {\r\n",
       "    padding-left: 1em;\r\n",
       "}\r\n",
       "table td {\r\n",
       "    text-align: start;\r\n",
       "}\r\n",
       "table tr { \r\n",
       "    vertical-align: top; \r\n",
       "    margin: 0em 0px;\r\n",
       "}\r\n",
       "table tr td pre \r\n",
       "{ \r\n",
       "    vertical-align: top !important; \r\n",
       "    margin: 0em 0px !important;\r\n",
       "} \r\n",
       "table th {\r\n",
       "    text-align: start;\r\n",
       "}\r\n",
       "</style>"
      ]
     },
     "metadata": {},
     "output_type": "display_data"
    }
   ],
   "source": [
    "SELECT count(*) FROM tpch_10.orders;"
   ]
  },
  {
   "cell_type": "markdown",
   "id": "3b5b2d15",
   "metadata": {},
   "source": [
    "### Source SQL Server ORDERS Target PostgreSQL ORDERS table (with PK)"
   ]
  }
 ],
 "metadata": {
  "kernelspec": {
   "display_name": ".NET (C#)",
   "language": "C#",
   "name": ".net-csharp"
  },
  "language_info": {
   "name": "polyglot-notebook"
  },
  "polyglot_notebook": {
   "kernelInfo": {
    "defaultKernelName": "csharp",
    "items": [
     {
      "aliases": [],
      "name": "csharp"
     },
     {
      "aliases": [],
      "languageName": "PostgreSQL",
      "name": "sql-pgsql17_fasttransfer"
     },
     {
      "aliases": [],
      "languageName": "PostgreSQL",
      "name": "sql-pgsql17_tpch"
     }
    ]
   }
  }
 },
 "nbformat": 4,
 "nbformat_minor": 5
}
