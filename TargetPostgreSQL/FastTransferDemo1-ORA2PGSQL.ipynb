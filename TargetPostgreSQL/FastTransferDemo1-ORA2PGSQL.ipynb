{
 "cells": [
  {
   "cell_type": "markdown",
   "id": "ed7e8fc1",
   "metadata": {
    "polyglot_notebook": {
     "kernelName": "pwsh"
    }
   },
   "source": [
    "```\n",
    "███████  █████  ███████ ████████ ████████ ██████   █████  ███    ██ ███████ ███████ ███████ ██████  \n",
    "██      ██   ██ ██         ██       ██    ██   ██ ██   ██ ████   ██ ██      ██      ██      ██   ██ \n",
    "█████   ███████ ███████    ██       ██    ██████  ███████ ██ ██  ██ ███████ █████   █████   ██████  \n",
    "██      ██   ██      ██    ██       ██    ██   ██ ██   ██ ██  ██ ██      ██ ██      ██      ██   ██ \n",
    "██      ██   ██ ███████    ██       ██    ██   ██ ██   ██ ██   ████ ███████ ██      ███████ ██   ██ "
   ]
  },
  {
   "cell_type": "markdown",
   "id": "b5a1077a",
   "metadata": {},
   "source": [
    "# Demo 1 - Source Oracle - Target PGSQL17"
   ]
  },
  {
   "cell_type": "code",
   "execution_count": 1,
   "metadata": {
    "language_info": {
     "name": "polyglot-notebook"
    },
    "polyglot_notebook": {
     "kernelName": "pwsh"
    }
   },
   "outputs": [
    {
     "name": "stdout",
     "output_type": "stream",
     "text": [
      "Tool 'microsoft.dotnet-interactive' is already installed.\r\n"
     ]
    }
   ],
   "source": [
    "dotnet tool install --global Microsoft.dotnet-interactive --version 1.0.632301"
   ]
  },
  {
   "cell_type": "code",
   "execution_count": 2,
   "id": "f79f5dc1",
   "metadata": {
    "polyglot_notebook": {
     "kernelName": "csharp"
    }
   },
   "outputs": [
    {
     "data": {
      "text/html": [
       "<div><div></div><div></div><div><strong>Installed Packages</strong><ul><li><span>Microsoft.DotNet.Interactive.PostgreSQL, 1.0.0-beta.25323.1</span></li></ul></div></div>"
      ]
     },
     "metadata": {},
     "output_type": "display_data"
    },
    {
     "data": {
      "text/plain": [
       "Loading extension script from `C:\\Users\\romai\\.nuget\\packages\\microsoft.dotnet.interactive.postgresql\\1.0.0-beta.25323.1\\interactive-extensions\\dotnet\\extension.dib`"
      ]
     },
     "metadata": {},
     "output_type": "display_data"
    },
    {
     "data": {
      "text/html": [
       "<details><summary>Query PostgreSQL databases.</summary>\r\n",
       "    <p>This extension adds support for connecting to PostgreSql databases using the <code>#!connect postgres</code> magic command.</p>\r\n",
       "    </details>"
      ]
     },
     "metadata": {},
     "output_type": "display_data"
    }
   ],
   "source": [
    "#r \"nuget:Microsoft.DotNet.Interactive.PostgreSQL , *-*\""
   ]
  },
  {
   "cell_type": "markdown",
   "id": "8486177e",
   "metadata": {},
   "source": [
    "## Working on TPCH SF10 ORDERS (15M rows)"
   ]
  },
  {
   "cell_type": "markdown",
   "id": "c2950409",
   "metadata": {},
   "source": [
    "### PGSQL 16 to PG 17"
   ]
  },
  {
   "cell_type": "code",
   "execution_count": 3,
   "id": "a6099083",
   "metadata": {
    "polyglot_notebook": {
     "kernelName": "csharp"
    }
   },
   "outputs": [
    {
     "data": {
      "text/plain": [
       "Kernel added: #!sql-pgsql17"
      ]
     },
     "metadata": {},
     "output_type": "display_data"
    }
   ],
   "source": [
    "// Connect to PostgreSQL target database\n",
    "#!connect postgres \"Host=localhost;Port=25432;Database=tpch;Username=FastUser;Password=FastPassword\" --kernel-name pgsql17"
   ]
  },
  {
   "cell_type": "markdown",
   "id": "9838fd82",
   "metadata": {},
   "source": [
    "#### Target orders_3 with a clustered ColumnStoreIndex"
   ]
  },
  {
   "cell_type": "code",
   "execution_count": 3,
   "id": "d1094a0b",
   "metadata": {
    "language_info": {
     "name": "polyglot-notebook"
    },
    "polyglot_notebook": {
     "kernelName": "sql-pgsql17"
    }
   },
   "outputs": [
    {
     "data": {
      "text/csv": [
       "count_target_table_rows\r\n",
       "0\r\n"
      ],
      "text/html": [
       "<table><thead><tr><td><span>count_target_table_rows</span></td></tr></thead><tbody><tr><td><div class=\"dni-plaintext\"><pre>0</pre></div></td></tr></tbody></table><style>\r\n",
       ".dni-code-hint {\r\n",
       "    font-style: italic;\r\n",
       "    overflow: hidden;\r\n",
       "    white-space: nowrap;\r\n",
       "}\r\n",
       ".dni-treeview {\r\n",
       "    white-space: nowrap;\r\n",
       "}\r\n",
       ".dni-treeview td {\r\n",
       "    vertical-align: top;\r\n",
       "    text-align: start;\r\n",
       "}\r\n",
       "details.dni-treeview {\r\n",
       "    padding-left: 1em;\r\n",
       "}\r\n",
       "table td {\r\n",
       "    text-align: start;\r\n",
       "}\r\n",
       "table tr { \r\n",
       "    vertical-align: top; \r\n",
       "    margin: 0em 0px;\r\n",
       "}\r\n",
       "table tr td pre \r\n",
       "{ \r\n",
       "    vertical-align: top !important; \r\n",
       "    margin: 0em 0px !important;\r\n",
       "} \r\n",
       "table th {\r\n",
       "    text-align: start;\r\n",
       "}\r\n",
       "</style>"
      ]
     },
     "metadata": {},
     "output_type": "display_data"
    }
   ],
   "source": [
    "TRUNCATE TABLE tpch_10.orders;\n",
    "SELECT count(*) count_target_table_rows from tpch_10.orders;\n",
    "\n",
    "ALTER TABLE tpch_10.orders SET UNLOGGED;"
   ]
  },
  {
   "cell_type": "markdown",
   "id": "fc721e5c",
   "metadata": {},
   "source": [
    "### Describe Oracle Source Table\n",
    "```"
   ]
  },
  {
   "cell_type": "code",
   "execution_count": 24,
   "metadata": {
    "language_info": {
     "name": "polyglot-notebook"
    },
    "polyglot_notebook": {
     "kernelName": "pwsh"
    }
   },
   "outputs": [
    {
     "name": "stdout",
     "output_type": "stream",
     "text": [
      " Nom\t\t\t\t\t   NULL ?   Type\n",
      " ----------------------------------------- -------- ----------------------------\n",
      " O_ORDERKEY\t\t\t\t   NOT NULL NUMBER(38)\n",
      " O_CUSTKEY\t\t\t\t   NOT NULL NUMBER(19)\n",
      " O_ORDERSTATUS\t\t\t\t\t    CHAR(1)\n",
      " O_TOTALPRICE\t\t\t\t\t    NUMBER(19,3)\n",
      " O_ORDERDATE\t\t\t\t\t    DATE\n",
      " O_ORDERPRIORITY\t\t\t\t    CHAR(15)\n",
      " O_CLERK\t\t\t\t\t    CHAR(15)\n",
      " O_SHIPPRIORITY \t\t\t\t    NUMBER(38)\n",
      " O_COMMENT\t\t\t\t\t    VARCHAR2(79)\n",
      "\n"
     ]
    }
   ],
   "source": [
    "echo 'DESC tpch_in.orders_flat;' | sqlplus -S TPCH_IN/TPCH_IN@//localhost:1521/ORCLPDB"
   ]
  },
  {
   "cell_type": "markdown",
   "id": "9c51f2be",
   "metadata": {},
   "source": [
    "## Test with Method RowId (oracle source only)"
   ]
  },
  {
   "cell_type": "markdown",
   "id": "84121c68",
   "metadata": {},
   "source": [
    "In Oracle, a ROWID is a unique physical address identifying a row’s exact storage location.\n",
    "\n",
    "You can SELECT it and even filter data using this hidden column. FastTransfer use the RowId column to select data by chunck on oracle source."
   ]
  },
  {
   "cell_type": "code",
   "execution_count": 8,
   "id": "6f2f4100",
   "metadata": {
    "polyglot_notebook": {
     "kernelName": "pwsh"
    }
   },
   "outputs": [
    {
     "name": "stdout",
     "output_type": "stream",
     "text": [
      "2025-09-22T11:21:36.749 +02:00 -|- FastTransfer -|- ORA21_to_PG17 -|- INFORMATION -|- tpch.tpch_10.orders -|- FastTransfer - running in trial mode – will expires on 2025‑10‑20 (28 day(s) left).\n",
      "2025-09-22T11:21:36.759 +02:00 -|- FastTransfer -|- ORA21_to_PG17 -|- INFORMATION -|- tpch.tpch_10.orders -|- Starting\n",
      "2025-09-22T11:21:36.759 +02:00 -|- FastTransfer -|- ORA21_to_PG17 -|- INFORMATION -|- tpch.tpch_10.orders -|- FastTransfer Version : 0.13.10.0 Architecture : X64 - Framework : .NET 8.0.19\n",
      "2025-09-22T11:21:36.760 +02:00 -|- FastTransfer -|- ORA21_to_PG17 -|- INFORMATION -|- tpch.tpch_10.orders -|- OS : Microsoft Windows 10.0.26100\n",
      "2025-09-22T11:21:36.760 +02:00 -|- FastTransfer -|- ORA21_to_PG17 -|- INFORMATION -|- tpch.tpch_10.orders -|- Process ID : 39064\n",
      "2025-09-22T11:21:36.760 +02:00 -|- FastTransfer -|- ORA21_to_PG17 -|- INFORMATION -|- tpch.tpch_10.orders -|- Provided Run ID : ORA21_to_PG17\n",
      "2025-09-22T11:21:36.760 +02:00 -|- FastTransfer -|- ORA21_to_PG17 -|- INFORMATION -|- tpch.tpch_10.orders -|- Source Connection Type : oraodp\n",
      "2025-09-22T11:21:36.760 +02:00 -|- FastTransfer -|- ORA21_to_PG17 -|- INFORMATION -|- tpch.tpch_10.orders -|- Source SqlInstance : localhost:1521/ORCLPDB\n",
      "2025-09-22T11:21:36.760 +02:00 -|- FastTransfer -|- ORA21_to_PG17 -|- INFORMATION -|- tpch.tpch_10.orders -|- Source Database : ORCLPDB\n",
      "2025-09-22T11:21:36.760 +02:00 -|- FastTransfer -|- ORA21_to_PG17 -|- INFORMATION -|- tpch.tpch_10.orders -|- Source Trusted Connection : False\n",
      "2025-09-22T11:21:36.760 +02:00 -|- FastTransfer -|- ORA21_to_PG17 -|- INFORMATION -|- tpch.tpch_10.orders -|- Source User : TPCH_IN\n",
      "2025-09-22T11:21:36.760 +02:00 -|- FastTransfer -|- ORA21_to_PG17 -|- INFORMATION -|- tpch.tpch_10.orders -|- Source Schema : TPCH_IN\n",
      "2025-09-22T11:21:36.760 +02:00 -|- FastTransfer -|- ORA21_to_PG17 -|- INFORMATION -|- tpch.tpch_10.orders -|- Source Table : ORDERS_FLAT\n",
      "2025-09-22T11:21:36.760 +02:00 -|- FastTransfer -|- ORA21_to_PG17 -|- INFORMATION -|- tpch.tpch_10.orders -|- Target Type : pgcopy\n",
      "2025-09-22T11:21:36.760 +02:00 -|- FastTransfer -|- ORA21_to_PG17 -|- INFORMATION -|- tpch.tpch_10.orders -|- Target Server : localhost:25432\n",
      "2025-09-22T11:21:36.760 +02:00 -|- FastTransfer -|- ORA21_to_PG17 -|- INFORMATION -|- tpch.tpch_10.orders -|- Target Database : tpch\n",
      "2025-09-22T11:21:36.760 +02:00 -|- FastTransfer -|- ORA21_to_PG17 -|- INFORMATION -|- tpch.tpch_10.orders -|- Target Schema : tpch_10\n",
      "2025-09-22T11:21:36.760 +02:00 -|- FastTransfer -|- ORA21_to_PG17 -|- INFORMATION -|- tpch.tpch_10.orders -|- Target Table : orders\n",
      "2025-09-22T11:21:36.760 +02:00 -|- FastTransfer -|- ORA21_to_PG17 -|- INFORMATION -|- tpch.tpch_10.orders -|- Target Trusted Connection : False\n",
      "2025-09-22T11:21:36.760 +02:00 -|- FastTransfer -|- ORA21_to_PG17 -|- INFORMATION -|- tpch.tpch_10.orders -|- Target User : FastUser\n",
      "2025-09-22T11:21:36.760 +02:00 -|- FastTransfer -|- ORA21_to_PG17 -|- INFORMATION -|- tpch.tpch_10.orders -|- Columns Map Method : Name\n",
      "2025-09-22T11:21:36.760 +02:00 -|- FastTransfer -|- ORA21_to_PG17 -|- INFORMATION -|- tpch.tpch_10.orders -|- Degree : -2\n",
      "2025-09-22T11:21:36.760 +02:00 -|- FastTransfer -|- ORA21_to_PG17 -|- INFORMATION -|- tpch.tpch_10.orders -|- Distribute Method : Rowid\n",
      "2025-09-22T11:21:36.760 +02:00 -|- FastTransfer -|- ORA21_to_PG17 -|- INFORMATION -|- tpch.tpch_10.orders -|- Bulkcopy Batch Size : 1048576\n",
      "2025-09-22T11:21:36.760 +02:00 -|- FastTransfer -|- ORA21_to_PG17 -|- INFORMATION -|- tpch.tpch_10.orders -|- Load Mode : Truncate\n",
      "2025-09-22T11:21:36.761 +02:00 -|- FastTransfer -|- ORA21_to_PG17 -|- INFORMATION -|- tpch.tpch_10.orders -|- Use Work Tables : False\n",
      "2025-09-22T11:21:36.761 +02:00 -|- FastTransfer -|- ORA21_to_PG17 -|- INFORMATION -|- tpch.tpch_10.orders -|- Encoding used : Unicode (UTF-8) - 65001 - utf-8\n",
      "2025-09-22T11:21:36.962 +02:00 -|- FastTransfer -|- ORA21_to_PG17 -|- INFORMATION -|- tpch.tpch_10.orders -|- Source Connection String : USER ID=TPCH_IN;PASSWORD=xxxxx;DATA SOURCE=localhost:1521/ORCLPDB;POOLING=False;CONNECTION TIMEOUT=120\n",
      "2025-09-22T11:21:36.962 +02:00 -|- FastTransfer -|- ORA21_to_PG17 -|- INFORMATION -|- tpch.tpch_10.orders -|- Target Connection String : Host=localhost;Port=25432;Database=tpch;Trust Server Certificate=True;Application Name=FastTransfer;Timeout=15;Command Timeout=10800;Username=FastUser;Password=xxxxx\n",
      "2025-09-22T11:21:36.962 +02:00 -|- FastTransfer -|- ORA21_to_PG17 -|- INFORMATION -|- tpch.tpch_10.orders -|- Source Database Version : Oracle Database 21c Enterprise Edition Release 21.0.0.0.0 - Production\n",
      "2025-09-22T11:21:36.962 +02:00 -|- FastTransfer -|- ORA21_to_PG17 -|- INFORMATION -|- tpch.tpch_10.orders -|- Target Database Version : PostgreSQL 17.2 on x86_64-windows, compiled by msvc-19.42.34435, 64-bit\n",
      "2025-09-22T11:21:37.239 +02:00 -|- FastTransfer -|- ORA21_to_PG17 -|- INFORMATION -|- tpch.tpch_10.orders -|- Degree of parallelism was computed to 16 (=> 32\\2)\n",
      "2025-09-22T11:21:37.354 +02:00 -|- FastTransfer -|- ORA21_to_PG17 -|- INFORMATION -|- tpch.tpch_10.orders -|- Start Loading Data using distribution method Rowid\n",
      "2025-09-22T11:21:37.434 +02:00 -|- FastTransfer -|- ORA21_to_PG17 -|- INFORMATION -|- tpch.tpch_10.orders -|- Start Loading Data using distribution method Rowid\n",
      "2025-09-22T11:21:37.480 +02:00 -|- FastTransfer -|- ORA21_to_PG17 -|- INFORMATION -|- tpch.tpch_10.orders -|- Start Loading Data using distribution method Rowid\n",
      "2025-09-22T11:21:37.570 +02:00 -|- FastTransfer -|- ORA21_to_PG17 -|- INFORMATION -|- tpch.tpch_10.orders -|- Start Loading Data using distribution method Rowid\n",
      "2025-09-22T11:21:37.610 +02:00 -|- FastTransfer -|- ORA21_to_PG17 -|- INFORMATION -|- tpch.tpch_10.orders -|- Start Loading Data using distribution method Rowid\n",
      "2025-09-22T11:21:37.630 +02:00 -|- FastTransfer -|- ORA21_to_PG17 -|- INFORMATION -|- tpch.tpch_10.orders -|- Start Loading Data using distribution method Rowid\n",
      "2025-09-22T11:21:37.657 +02:00 -|- FastTransfer -|- ORA21_to_PG17 -|- INFORMATION -|- tpch.tpch_10.orders -|- Start Loading Data using distribution method Rowid\n",
      "2025-09-22T11:21:37.698 +02:00 -|- FastTransfer -|- ORA21_to_PG17 -|- INFORMATION -|- tpch.tpch_10.orders -|- Start Loading Data using distribution method Rowid\n",
      "2025-09-22T11:21:37.728 +02:00 -|- FastTransfer -|- ORA21_to_PG17 -|- INFORMATION -|- tpch.tpch_10.orders -|- Start Loading Data using distribution method Rowid\n",
      "2025-09-22T11:21:37.767 +02:00 -|- FastTransfer -|- ORA21_to_PG17 -|- INFORMATION -|- tpch.tpch_10.orders -|- Start Loading Data using distribution method Rowid\n",
      "2025-09-22T11:21:37.783 +02:00 -|- FastTransfer -|- ORA21_to_PG17 -|- INFORMATION -|- tpch.tpch_10.orders -|- Start Loading Data using distribution method Rowid\n",
      "2025-09-22T11:21:37.818 +02:00 -|- FastTransfer -|- ORA21_to_PG17 -|- INFORMATION -|- tpch.tpch_10.orders -|- Start Loading Data using distribution method Rowid\n",
      "2025-09-22T11:21:37.838 +02:00 -|- FastTransfer -|- ORA21_to_PG17 -|- INFORMATION -|- tpch.tpch_10.orders -|- Start Loading Data using distribution method Rowid\n",
      "2025-09-22T11:21:37.862 +02:00 -|- FastTransfer -|- ORA21_to_PG17 -|- INFORMATION -|- tpch.tpch_10.orders -|- Start Loading Data using distribution method Rowid\n",
      "2025-09-22T11:21:37.889 +02:00 -|- FastTransfer -|- ORA21_to_PG17 -|- INFORMATION -|- tpch.tpch_10.orders -|- Start Loading Data using distribution method Rowid\n",
      "2025-09-22T11:21:37.921 +02:00 -|- FastTransfer -|- ORA21_to_PG17 -|- INFORMATION -|- tpch.tpch_10.orders -|- Start Loading Data using distribution method Rowid\n",
      "2025-09-22T11:21:37.946 +02:00 -|- FastTransfer -|- ORA21_to_PG17 -|- INFORMATION -|- tpch.tpch_10.orders -|- Start Loading Data using distribution method Rowid\n",
      "2025-09-22T11:21:43.018 +02:00 -|- FastTransfer -|- ORA21_to_PG17 -|- INFORMATION -|- tpch.tpch_10.orders -|- Completed Load Query 5 for rowid between AAAS+UAAMAADD6AAAA and AAAS+UAAMAADF3/H// : 499451 rows x 9 columns in 5709ms\n",
      "2025-09-22T11:21:44.029 +02:00 -|- FastTransfer -|- ORA21_to_PG17 -|- INFORMATION -|- tpch.tpch_10.orders -|- Completed Load Query 16 for rowid between AAAS+UAANAAAkyAAAA and AAAS+UAANAAAnSHH// : 633936 rows x 9 columns in 6716ms\n",
      "2025-09-22T11:21:45.112 +02:00 -|- FastTransfer -|- ORA21_to_PG17 -|- INFORMATION -|- tpch.tpch_10.orders -|- Completed Load Query 3 for rowid between AAAS+UAAMAABx8AAAA and AAAS+UAAMAAC/3/H// : 743256 rows x 9 columns in 7805ms\n",
      "2025-09-22T11:21:45.861 +02:00 -|- FastTransfer -|- ORA21_to_PG17 -|- INFORMATION -|- tpch.tpch_10.orders -|- Completed Load Query 14 for rowid between AAAS+UAANAAAdiAAAA and AAAS+UAANAAAgx/H// : 823618 rows x 9 columns in 8549ms\n",
      "2025-09-22T11:21:46.284 +02:00 -|- FastTransfer -|- ORA21_to_PG17 -|- INFORMATION -|- tpch.tpch_10.orders -|- Completed Load Query 6 for rowid between AAAS+UAANAAAACAAAA and AAAS+UAANAAADh/H// : 880912 rows x 9 columns in 8975ms\n",
      "2025-09-22T11:21:46.322 +02:00 -|- FastTransfer -|- ORA21_to_PG17 -|- INFORMATION -|- tpch.tpch_10.orders -|- Completed Load Query 11 for rowid between AAAS+UAANAAASiAAAA and AAAS+UAANAAAWB/H// : 885525 rows x 9 columns in 9011ms\n",
      "2025-09-22T11:21:46.641 +02:00 -|- FastTransfer -|- ORA21_to_PG17 -|- INFORMATION -|- tpch.tpch_10.orders -|- Completed Load Query 1 for rowid between AAAS+UAAMAABRKAAAA and AAAS+UAAMAABYb/H// : 935604 rows x 9 columns in 9333ms\n",
      "2025-09-22T11:21:46.641 +02:00 -|- FastTransfer -|- ORA21_to_PG17 -|- INFORMATION -|- tpch.tpch_10.orders -|- Completed Load Query 0 for rowid between AAAS+UAAMAABK8AAAA and AAAS+UAAMAABRJ/H// : 935700 rows x 9 columns in 9334ms\n",
      "2025-09-22T11:21:46.651 +02:00 -|- FastTransfer -|- ORA21_to_PG17 -|- INFORMATION -|- tpch.tpch_10.orders -|- Completed Load Query 2 for rowid between AAAS+UAAMAABYcAAAA and AAAS+UAAMAABx7/H// : 941358 rows x 9 columns in 9343ms\n",
      "2025-09-22T11:21:46.709 +02:00 -|- FastTransfer -|- ORA21_to_PG17 -|- INFORMATION -|- tpch.tpch_10.orders -|- Completed Load Query 7 for rowid between AAAS+UAANAAADiAAAA and AAAS+UAANAAAHR/H// : 948359 rows x 9 columns in 9400ms\n",
      "2025-09-22T11:21:46.748 +02:00 -|- FastTransfer -|- ORA21_to_PG17 -|- INFORMATION -|- tpch.tpch_10.orders -|- Completed Load Query 8 for rowid between AAAS+UAANAAAHSAAAA and AAAS+UAANAAALB/H// : 948735 rows x 9 columns in 9439ms\n",
      "2025-09-22T11:21:46.760 +02:00 -|- FastTransfer -|- ORA21_to_PG17 -|- INFORMATION -|- tpch.tpch_10.orders -|- Completed Load Query 9 for rowid between AAAS+UAANAAALCAAAA and AAAS+UAANAAAOx/H// : 948369 rows x 9 columns in 9451ms\n",
      "2025-09-22T11:21:46.770 +02:00 -|- FastTransfer -|- ORA21_to_PG17 -|- INFORMATION -|- tpch.tpch_10.orders -|- Completed Load Query 10 for rowid between AAAS+UAANAAAOyAAAA and AAAS+UAANAAASh/H// : 948607 rows x 9 columns in 9460ms\n",
      "2025-09-22T11:21:46.770 +02:00 -|- FastTransfer -|- ORA21_to_PG17 -|- INFORMATION -|- tpch.tpch_10.orders -|- Completed Load Query 12 for rowid between AAAS+UAANAAAWCAAAA and AAAS+UAANAAAZx/H// : 948826 rows x 9 columns in 9459ms\n",
      "2025-09-22T11:21:46.771 +02:00 -|- FastTransfer -|- ORA21_to_PG17 -|- INFORMATION -|- tpch.tpch_10.orders -|- Completed Load Query 13 for rowid between AAAS+UAANAAAZyAAAA and AAAS+UAANAAAdh/H// : 948708 rows x 9 columns in 9459ms\n",
      "2025-09-22T11:21:46.922 +02:00 -|- FastTransfer -|- ORA21_to_PG17 -|- INFORMATION -|- tpch.tpch_10.orders -|- Completed Load Query 4 for rowid between AAAS+UAAMAAC/6AAAA and AAAS+UAAMAADD5/H// : 1014594 rows x 9 columns in 9615ms\n",
      "2025-09-22T11:21:47.002 +02:00 -|- FastTransfer -|- ORA21_to_PG17 -|- INFORMATION -|- tpch.tpch_10.orders -|- Completed Load Query 15 for rowid between AAAS+UAANAAAgyAAAA and AAAS+UAANAAAkx/H// : 1014442 rows x 9 columns in 9690ms\n",
      "2025-09-22T11:21:47.003 +02:00 -|- FastTransfer -|- ORA21_to_PG17 -|- INFORMATION -|- tpch.tpch_10.orders -|- Total rows : 15000000\n",
      "2025-09-22T11:21:47.003 +02:00 -|- FastTransfer -|- ORA21_to_PG17 -|- INFORMATION -|- tpch.tpch_10.orders -|- Total columns : 9\n",
      "2025-09-22T11:21:47.003 +02:00 -|- FastTransfer -|- ORA21_to_PG17 -|- INFORMATION -|- tpch.tpch_10.orders -|- Total cells : 135000000\n",
      "2025-09-22T11:21:47.003 +02:00 -|- FastTransfer -|- ORA21_to_PG17 -|- INFORMATION -|- tpch.tpch_10.orders -|- Rows Throughput : 1536234 rows/s\n",
      "2025-09-22T11:21:47.003 +02:00 -|- FastTransfer -|- ORA21_to_PG17 -|- INFORMATION -|- tpch.tpch_10.orders -|- Cells Throughput : 13826130 cells/s\n",
      "2025-09-22T11:21:47.003 +02:00 -|- FastTransfer -|- ORA21_to_PG17 -|- INFORMATION -|- tpch.tpch_10.orders -|- Transfert time : Elapsed=9764 ms\n",
      "2025-09-22T11:21:47.003 +02:00 -|- FastTransfer -|- ORA21_to_PG17 -|- INFORMATION -|- tpch.tpch_10.orders -|- Total time : Elapsed=10476 ms\n",
      "2025-09-22T11:21:47.003 +02:00 -|- FastTransfer -|- ORA21_to_PG17 -|- INFORMATION -|- tpch.tpch_10.orders -|- Completed Load\n"
     ]
    }
   ],
   "source": [
    "\n",
    "cd D:\\FastTransfer\n",
    "\n",
    ".\\FastTransfer.exe `\n",
    "--sourceconnectiontype \"oraodp\" `\n",
    "--sourceserver \"localhost:1521/ORCLPDB\" `\n",
    "--sourcedatabase \"ORCLPDB\" `\n",
    "--sourceuser \"TPCH_IN\" `\n",
    "--sourcepassword \"TPCH_IN\" `\n",
    "--sourceschema \"TPCH_IN\" `\n",
    "--sourcetable \"ORDERS_FLAT\" `\n",
    "`\n",
    "--targetconnectiontype \"pgcopy\" `\n",
    "--targetserver \"localhost:25432\" `\n",
    "--targetuser \"FastUser\" `\n",
    "--targetpassword \"FastPassword\" `\n",
    "--targetdatabase \"tpch\" `\n",
    "--targetschema \"tpch_10\" `\n",
    "--targettable \"orders\" `\n",
    "`\n",
    "--loadmode \"Truncate\" `\n",
    "--mapmethod \"Name\" `\n",
    "--method \"Rowid\" `\n",
    "--degree -2 `\n",
    "--runid \"ORA21_to_PG17\""
   ]
  },
  {
   "cell_type": "code",
   "execution_count": 8,
   "id": "c2da48be",
   "metadata": {
    "language_info": {
     "name": "polyglot-notebook"
    },
    "polyglot_notebook": {
     "kernelName": "sql-pgsql17"
    }
   },
   "outputs": [
    {
     "data": {
      "text/csv": [
       "count_target_table_rows\r\n",
       "15000000\r\n"
      ],
      "text/html": [
       "<table><thead><tr><td><span>count_target_table_rows</span></td></tr></thead><tbody><tr><td><div class=\"dni-plaintext\"><pre>15000000</pre></div></td></tr></tbody></table><style>\r\n",
       ".dni-code-hint {\r\n",
       "    font-style: italic;\r\n",
       "    overflow: hidden;\r\n",
       "    white-space: nowrap;\r\n",
       "}\r\n",
       ".dni-treeview {\r\n",
       "    white-space: nowrap;\r\n",
       "}\r\n",
       ".dni-treeview td {\r\n",
       "    vertical-align: top;\r\n",
       "    text-align: start;\r\n",
       "}\r\n",
       "details.dni-treeview {\r\n",
       "    padding-left: 1em;\r\n",
       "}\r\n",
       "table td {\r\n",
       "    text-align: start;\r\n",
       "}\r\n",
       "table tr { \r\n",
       "    vertical-align: top; \r\n",
       "    margin: 0em 0px;\r\n",
       "}\r\n",
       "table tr td pre \r\n",
       "{ \r\n",
       "    vertical-align: top !important; \r\n",
       "    margin: 0em 0px !important;\r\n",
       "} \r\n",
       "table th {\r\n",
       "    text-align: start;\r\n",
       "}\r\n",
       "</style>"
      ]
     },
     "metadata": {},
     "output_type": "display_data"
    }
   ],
   "source": [
    "SELECT count(*) count_target_table_rows from tpch_10.orders;"
   ]
  },
  {
   "cell_type": "code",
   "execution_count": 17,
   "id": "be656251",
   "metadata": {
    "language_info": {
     "name": "polyglot-notebook"
    },
    "polyglot_notebook": {
     "kernelName": "sql-pgsql17"
    }
   },
   "outputs": [
    {
     "data": {
      "text/csv": [
       "o_orderkey,o_custkey,o_orderstatus,o_totalprice,o_orderdate,o_orderpriority,o_clerk,o_shippriority,o_comment\r\n",
       "24552903,1313752,F,305754.99,1992-03-05T00:00:00.0000000,\"3-MEDIUM       \",Clerk#000007605,0,\"ly regular requests within the furiously regul\"\r\n",
       "24575648,978844,F,175154.42,1992-12-10T00:00:00.0000000,\"2-HIGH         \",Clerk#000001182,0,\"y across the requests. quickly special accounts cajole fluffily \"\r\n",
       "24575651,624299,F,116155.58,1992-02-09T00:00:00.0000000,\"4-NOT SPECIFIED\",Clerk#000009852,0,\" ironic packages. fluffily express courts are across the slyly ironic theodo\"\r\n",
       "24575682,201691,F,116158.29,1992-06-14T00:00:00.0000000,\"4-NOT SPECIFIED\",Clerk#000004253,0,\"t the blithely final pinto beans; furio\"\r\n",
       "24575712,1435832,F,330511.13,1992-11-27T00:00:00.0000000,\"1-URGENT       \",Clerk#000008569,0,\"its. regular foxes boost quickly. slyly special dugouts sleep blithe\"\r\n"
      ],
      "text/html": [
       "<table><thead><tr><td><span>o_orderkey</span></td><td><span>o_custkey</span></td><td><span>o_orderstatus</span></td><td><span>o_totalprice</span></td><td><span>o_orderdate</span></td><td><span>o_orderpriority</span></td><td><span>o_clerk</span></td><td><span>o_shippriority</span></td><td><span>o_comment</span></td></tr></thead><tbody><tr><td><div class=\"dni-plaintext\"><pre>24552903</pre></div></td><td><div class=\"dni-plaintext\"><pre>1313752</pre></div></td><td>F</td><td><div class=\"dni-plaintext\"><pre>305754.99</pre></div></td><td><span>1992-03-05 00:00:00Z</span></td><td>3-MEDIUM       </td><td>Clerk#000007605</td><td><div class=\"dni-plaintext\"><pre>0</pre></div></td><td>ly regular requests within the furiously regul</td></tr><tr><td><div class=\"dni-plaintext\"><pre>24575648</pre></div></td><td><div class=\"dni-plaintext\"><pre>978844</pre></div></td><td>F</td><td><div class=\"dni-plaintext\"><pre>175154.42</pre></div></td><td><span>1992-12-10 00:00:00Z</span></td><td>2-HIGH         </td><td>Clerk#000001182</td><td><div class=\"dni-plaintext\"><pre>0</pre></div></td><td>y across the requests. quickly special accounts cajole fluffily </td></tr><tr><td><div class=\"dni-plaintext\"><pre>24575651</pre></div></td><td><div class=\"dni-plaintext\"><pre>624299</pre></div></td><td>F</td><td><div class=\"dni-plaintext\"><pre>116155.58</pre></div></td><td><span>1992-02-09 00:00:00Z</span></td><td>4-NOT SPECIFIED</td><td>Clerk#000009852</td><td><div class=\"dni-plaintext\"><pre>0</pre></div></td><td> ironic packages. fluffily express courts are across the slyly ironic theodo</td></tr><tr><td><div class=\"dni-plaintext\"><pre>24575682</pre></div></td><td><div class=\"dni-plaintext\"><pre>201691</pre></div></td><td>F</td><td><div class=\"dni-plaintext\"><pre>116158.29</pre></div></td><td><span>1992-06-14 00:00:00Z</span></td><td>4-NOT SPECIFIED</td><td>Clerk#000004253</td><td><div class=\"dni-plaintext\"><pre>0</pre></div></td><td>t the blithely final pinto beans; furio</td></tr><tr><td><div class=\"dni-plaintext\"><pre>24575712</pre></div></td><td><div class=\"dni-plaintext\"><pre>1435832</pre></div></td><td>F</td><td><div class=\"dni-plaintext\"><pre>330511.13</pre></div></td><td><span>1992-11-27 00:00:00Z</span></td><td>1-URGENT       </td><td>Clerk#000008569</td><td><div class=\"dni-plaintext\"><pre>0</pre></div></td><td>its. regular foxes boost quickly. slyly special dugouts sleep blithe</td></tr></tbody></table><style>\r\n",
       ".dni-code-hint {\r\n",
       "    font-style: italic;\r\n",
       "    overflow: hidden;\r\n",
       "    white-space: nowrap;\r\n",
       "}\r\n",
       ".dni-treeview {\r\n",
       "    white-space: nowrap;\r\n",
       "}\r\n",
       ".dni-treeview td {\r\n",
       "    vertical-align: top;\r\n",
       "    text-align: start;\r\n",
       "}\r\n",
       "details.dni-treeview {\r\n",
       "    padding-left: 1em;\r\n",
       "}\r\n",
       "table td {\r\n",
       "    text-align: start;\r\n",
       "}\r\n",
       "table tr { \r\n",
       "    vertical-align: top; \r\n",
       "    margin: 0em 0px;\r\n",
       "}\r\n",
       "table tr td pre \r\n",
       "{ \r\n",
       "    vertical-align: top !important; \r\n",
       "    margin: 0em 0px !important;\r\n",
       "} \r\n",
       "table th {\r\n",
       "    text-align: start;\r\n",
       "}\r\n",
       "</style>"
      ]
     },
     "metadata": {},
     "output_type": "display_data"
    }
   ],
   "source": [
    "SELECT * FROM tpch_10.orders LIMIT 5;"
   ]
  },
  {
   "cell_type": "markdown",
   "id": "ce045f68",
   "metadata": {},
   "source": [
    "#### Target orders_heap : Heap Table"
   ]
  },
  {
   "cell_type": "code",
   "execution_count": 10,
   "id": "0374251a",
   "metadata": {
    "language_info": {
     "name": "polyglot-notebook"
    },
    "polyglot_notebook": {
     "kernelName": "sql-pgsql17"
    }
   },
   "outputs": [
    {
     "data": {
      "text/csv": [
       "count_orders_heap\r\n",
       "0\r\n"
      ],
      "text/html": [
       "<table><thead><tr><td><span>count_orders_heap</span></td></tr></thead><tbody><tr><td><div class=\"dni-plaintext\"><pre>0</pre></div></td></tr></tbody></table><style>\r\n",
       ".dni-code-hint {\r\n",
       "    font-style: italic;\r\n",
       "    overflow: hidden;\r\n",
       "    white-space: nowrap;\r\n",
       "}\r\n",
       ".dni-treeview {\r\n",
       "    white-space: nowrap;\r\n",
       "}\r\n",
       ".dni-treeview td {\r\n",
       "    vertical-align: top;\r\n",
       "    text-align: start;\r\n",
       "}\r\n",
       "details.dni-treeview {\r\n",
       "    padding-left: 1em;\r\n",
       "}\r\n",
       "table td {\r\n",
       "    text-align: start;\r\n",
       "}\r\n",
       "table tr { \r\n",
       "    vertical-align: top; \r\n",
       "    margin: 0em 0px;\r\n",
       "}\r\n",
       "table tr td pre \r\n",
       "{ \r\n",
       "    vertical-align: top !important; \r\n",
       "    margin: 0em 0px !important;\r\n",
       "} \r\n",
       "table th {\r\n",
       "    text-align: start;\r\n",
       "}\r\n",
       "</style>"
      ]
     },
     "metadata": {},
     "output_type": "display_data"
    }
   ],
   "source": [
    "DROP TABLE IF EXISTS tpch_10.orders_heap;\n",
    "\n",
    "CREATE TABLE tpch_10.orders_heap AS\n",
    "SELECT * \n",
    "FROM tpch_10.orders\n",
    "WHERE 1=0;\n",
    "\n",
    "ALTER TABLE tpch_10.orders_heap SET UNLOGGED;\n",
    "\n",
    "SELECT count(*) count_orders_heap from tpch_10.orders_heap;"
   ]
  },
  {
   "cell_type": "code",
   "execution_count": 11,
   "id": "e594e80e",
   "metadata": {
    "polyglot_notebook": {
     "kernelName": "pwsh"
    }
   },
   "outputs": [
    {
     "name": "stdout",
     "output_type": "stream",
     "text": [
      "2025-09-22T00:33:56.757 +02:00 -|- FastTransfer -|- PG16_to_PG17_heap -|- DEBUG -|- tpch.tpch_10.orders_heap -|- Using log settings from FastTransfer_Settings.json\n",
      "2025-09-22T00:33:56.767 +02:00 -|- FastTransfer -|- PG16_to_PG17_heap -|- INFORMATION -|- tpch.tpch_10.orders_heap -|- FastTransfer – running in normal mode.\n",
      "2025-09-22T00:33:56.784 +02:00 -|- FastTransfer -|- PG16_to_PG17_heap -|- INFORMATION -|- tpch.tpch_10.orders_heap -|- License for Architecture & Performance validated successfully. License valid until 2026-09-05\n",
      "2025-09-22T00:33:56.785 +02:00 -|- FastTransfer -|- PG16_to_PG17_heap -|- INFORMATION -|- tpch.tpch_10.orders_heap -|- Starting\n",
      "2025-09-22T00:33:56.785 +02:00 -|- FastTransfer -|- PG16_to_PG17_heap -|- INFORMATION -|- tpch.tpch_10.orders_heap -|- FastTransfer Version : 0.13.9.0 Architecture : X64 - Framework : .NET 8.0.19\n",
      "2025-09-22T00:33:56.785 +02:00 -|- FastTransfer -|- PG16_to_PG17_heap -|- INFORMATION -|- tpch.tpch_10.orders_heap -|- OS : Microsoft Windows 10.0.26100\n",
      "2025-09-22T00:33:56.785 +02:00 -|- FastTransfer -|- PG16_to_PG17_heap -|- INFORMATION -|- tpch.tpch_10.orders_heap -|- Process ID : 92544\n",
      "2025-09-22T00:33:56.785 +02:00 -|- FastTransfer -|- PG16_to_PG17_heap -|- INFORMATION -|- tpch.tpch_10.orders_heap -|- Provided Run ID : PG16_to_PG17_heap\n",
      "2025-09-22T00:33:56.785 +02:00 -|- FastTransfer -|- PG16_to_PG17_heap -|- INFORMATION -|- tpch.tpch_10.orders_heap -|- Source Connection Type : pgcopy\n",
      "2025-09-22T00:33:56.785 +02:00 -|- FastTransfer -|- PG16_to_PG17_heap -|- INFORMATION -|- tpch.tpch_10.orders_heap -|- Source SqlInstance : localhost:15432\n",
      "2025-09-22T00:33:56.785 +02:00 -|- FastTransfer -|- PG16_to_PG17_heap -|- INFORMATION -|- tpch.tpch_10.orders_heap -|- Source Database : tpch\n",
      "2025-09-22T00:33:56.785 +02:00 -|- FastTransfer -|- PG16_to_PG17_heap -|- INFORMATION -|- tpch.tpch_10.orders_heap -|- Source Trusted Connection : False\n",
      "2025-09-22T00:33:56.785 +02:00 -|- FastTransfer -|- PG16_to_PG17_heap -|- INFORMATION -|- tpch.tpch_10.orders_heap -|- Source User : FastUser\n",
      "2025-09-22T00:33:56.785 +02:00 -|- FastTransfer -|- PG16_to_PG17_heap -|- INFORMATION -|- tpch.tpch_10.orders_heap -|- Source Schema : tpch_10\n",
      "2025-09-22T00:33:56.785 +02:00 -|- FastTransfer -|- PG16_to_PG17_heap -|- INFORMATION -|- tpch.tpch_10.orders_heap -|- Source Table : orders\n",
      "2025-09-22T00:33:56.785 +02:00 -|- FastTransfer -|- PG16_to_PG17_heap -|- INFORMATION -|- tpch.tpch_10.orders_heap -|- Target Type : pgcopy\n",
      "2025-09-22T00:33:56.785 +02:00 -|- FastTransfer -|- PG16_to_PG17_heap -|- INFORMATION -|- tpch.tpch_10.orders_heap -|- Target Server : localhost:25432\n",
      "2025-09-22T00:33:56.785 +02:00 -|- FastTransfer -|- PG16_to_PG17_heap -|- INFORMATION -|- tpch.tpch_10.orders_heap -|- Target Database : tpch\n",
      "2025-09-22T00:33:56.785 +02:00 -|- FastTransfer -|- PG16_to_PG17_heap -|- INFORMATION -|- tpch.tpch_10.orders_heap -|- Target Schema : tpch_10\n",
      "2025-09-22T00:33:56.785 +02:00 -|- FastTransfer -|- PG16_to_PG17_heap -|- INFORMATION -|- tpch.tpch_10.orders_heap -|- Target Table : orders_heap\n",
      "2025-09-22T00:33:56.785 +02:00 -|- FastTransfer -|- PG16_to_PG17_heap -|- INFORMATION -|- tpch.tpch_10.orders_heap -|- Target Trusted Connection : False\n",
      "2025-09-22T00:33:56.785 +02:00 -|- FastTransfer -|- PG16_to_PG17_heap -|- INFORMATION -|- tpch.tpch_10.orders_heap -|- Target User : FastUser\n",
      "2025-09-22T00:33:56.785 +02:00 -|- FastTransfer -|- PG16_to_PG17_heap -|- INFORMATION -|- tpch.tpch_10.orders_heap -|- Columns Map Method : Name\n",
      "2025-09-22T00:33:56.785 +02:00 -|- FastTransfer -|- PG16_to_PG17_heap -|- INFORMATION -|- tpch.tpch_10.orders_heap -|- Degree : -2\n",
      "2025-09-22T00:33:56.785 +02:00 -|- FastTransfer -|- PG16_to_PG17_heap -|- INFORMATION -|- tpch.tpch_10.orders_heap -|- Distribute Method : Ctid\n",
      "2025-09-22T00:33:56.785 +02:00 -|- FastTransfer -|- PG16_to_PG17_heap -|- INFORMATION -|- tpch.tpch_10.orders_heap -|- Bulkcopy Batch Size : 1048576\n",
      "2025-09-22T00:33:56.785 +02:00 -|- FastTransfer -|- PG16_to_PG17_heap -|- INFORMATION -|- tpch.tpch_10.orders_heap -|- Load Mode : Truncate\n",
      "2025-09-22T00:33:56.785 +02:00 -|- FastTransfer -|- PG16_to_PG17_heap -|- INFORMATION -|- tpch.tpch_10.orders_heap -|- Use Work Tables : False\n",
      "2025-09-22T00:33:56.786 +02:00 -|- FastTransfer -|- PG16_to_PG17_heap -|- INFORMATION -|- tpch.tpch_10.orders_heap -|- Encoding used : Unicode (UTF-8) - 65001 - utf-8\n",
      "2025-09-22T00:33:56.791 +02:00 -|- FastTransfer -|- PG16_to_PG17_heap -|- DEBUG -|- tpch.tpch_10.orders_heap -|- serverport: localhost : 15432\n",
      "2025-09-22T00:33:56.792 +02:00 -|- FastTransfer -|- PG16_to_PG17_heap -|- DEBUG -|- tpch.tpch_10.orders_heap -|- serverport: localhost : 25432\n",
      "2025-09-22T00:33:56.872 +02:00 -|- FastTransfer -|- PG16_to_PG17_heap -|- INFORMATION -|- tpch.tpch_10.orders_heap -|- Source Connection String : Host=localhost;Port=15432;Database=tpch;Trust Server Certificate=True;Application Name=FastTransfer;Timeout=15;Command Timeout=10800;Username=FastUser;Password=xxxxx\n",
      "2025-09-22T00:33:56.872 +02:00 -|- FastTransfer -|- PG16_to_PG17_heap -|- INFORMATION -|- tpch.tpch_10.orders_heap -|- Target Connection String : Host=localhost;Port=25432;Database=tpch;Trust Server Certificate=True;Application Name=FastTransfer;Timeout=15;Command Timeout=10800;Username=FastUser;Password=xxxxx\n",
      "2025-09-22T00:33:56.872 +02:00 -|- FastTransfer -|- PG16_to_PG17_heap -|- INFORMATION -|- tpch.tpch_10.orders_heap -|- Source Database Version : PostgreSQL 16.1, compiled by Visual C++ build 1937, 64-bit\n",
      "2025-09-22T00:33:56.872 +02:00 -|- FastTransfer -|- PG16_to_PG17_heap -|- INFORMATION -|- tpch.tpch_10.orders_heap -|- Target Database Version : PostgreSQL 17.2 on x86_64-windows, compiled by msvc-19.42.34435, 64-bit\n",
      "2025-09-22T00:33:56.872 +02:00 -|- FastTransfer -|- PG16_to_PG17_heap -|- VERBOSE -|- tpch.tpch_10.orders_heap -|- Dialect used : SqlParser.Dialects.PostgreSqlDialect\n",
      "2025-09-22T00:33:56.876 +02:00 -|- FastTransfer -|- PG16_to_PG17_heap -|- VERBOSE -|- tpch.tpch_10.orders_heap -|- AST - Full Query : SELECT * FROM \"tpch_10\".\"orders\"\n",
      "2025-09-22T00:33:56.876 +02:00 -|- FastTransfer -|- PG16_to_PG17_heap -|- VERBOSE -|- tpch.tpch_10.orders_heap -|- AST - Select Statement : SELECT * FROM \"tpch_10\".\"orders\"\n",
      "2025-09-22T00:33:56.876 +02:00 -|- FastTransfer -|- PG16_to_PG17_heap -|- VERBOSE -|- tpch.tpch_10.orders_heap -|- Columns : *\n",
      "2025-09-22T00:33:56.876 +02:00 -|- FastTransfer -|- PG16_to_PG17_heap -|- VERBOSE -|- tpch.tpch_10.orders_heap -|- From Clause : \"tpch_10\".\"orders\"\n",
      "2025-09-22T00:33:56.876 +02:00 -|- FastTransfer -|- PG16_to_PG17_heap -|- VERBOSE -|- tpch.tpch_10.orders_heap -|- Where Clause : No Where Clause\n",
      "2025-09-22T00:33:56.876 +02:00 -|- FastTransfer -|- PG16_to_PG17_heap -|- VERBOSE -|- tpch.tpch_10.orders_heap -|- Group By : No Group By\n",
      "2025-09-22T00:33:56.876 +02:00 -|- FastTransfer -|- PG16_to_PG17_heap -|- VERBOSE -|- tpch.tpch_10.orders_heap -|- Having : No Having\n",
      "2025-09-22T00:33:56.876 +02:00 -|- FastTransfer -|- PG16_to_PG17_heap -|- VERBOSE -|- tpch.tpch_10.orders_heap -|- Order By : No Order By\n",
      "2025-09-22T00:33:56.876 +02:00 -|- FastTransfer -|- PG16_to_PG17_heap -|- VERBOSE -|- tpch.tpch_10.orders_heap -|- Limit/top : No Limit\n",
      "2025-09-22T00:33:56.876 +02:00 -|- FastTransfer -|- PG16_to_PG17_heap -|- VERBOSE -|- tpch.tpch_10.orders_heap -|- Distinct : No Distinct\n",
      "2025-09-22T00:33:56.876 +02:00 -|- FastTransfer -|- PG16_to_PG17_heap -|- DEBUG -|- tpch.tpch_10.orders_heap -|- Query to Truncate Target Table = TRUNCATE TABLE \"tpch_10\".\"orders_heap\"\n",
      "2025-09-22T00:33:56.883 +02:00 -|- FastTransfer -|- PG16_to_PG17_heap -|- INFORMATION -|- tpch.tpch_10.orders_heap -|- Degree of parallelism was computed to 16 (=> 32\\2)\n",
      "2025-09-22T00:33:56.884 +02:00 -|- FastTransfer -|- PG16_to_PG17_heap -|- DEBUG -|- tpch.tpch_10.orders_heap -|- Query to Retrieve Snapshot ID = BEGIN TRANSACTION ISOLATION LEVEL REPEATABLE READ;SELECT pg_export_snapshot() snapshotid\n",
      "2025-09-22T00:33:56.888 +02:00 -|- FastTransfer -|- PG16_to_PG17_heap -|- INFORMATION -|- tpch.tpch_10.orders_heap -|- Snapshot ID = 00000005-0000008C-1\n",
      "2025-09-22T00:33:56.888 +02:00 -|- FastTransfer -|- PG16_to_PG17_heap -|- DEBUG -|- tpch.tpch_10.orders_heap -|- Query to Retrieve Max CTID = BEGIN TRANSACTION ISOLATION LEVEL REPEATABLE READ READ ONLY;SET TRANSACTION SNAPSHOT '00000005-0000008C-1';SELECT MAX(ctid) maxctid FROM \"tpch_10\".\"orders\"\n",
      "2025-09-22T00:33:57.217 +02:00 -|- FastTransfer -|- PG16_to_PG17_heap -|- INFORMATION -|- tpch.tpch_10.orders_heap -|- Max CTID for table \"tpch_10\".\"orders\" @snapshotid=00000005-0000008C-1 = (276024,54)\n",
      "2025-09-22T00:33:57.218 +02:00 -|- FastTransfer -|- PG16_to_PG17_heap -|- DEBUG -|- tpch.tpch_10.orders_heap -|- New Query : SELECT * FROM \"tpch_10\".\"orders\" WHERE 1 = 1 AND CTID BETWEEN '(51753,0)'::tid AND '(69004,0)'::tid\n",
      "2025-09-22T00:33:57.218 +02:00 -|- FastTransfer -|- PG16_to_PG17_heap -|- DEBUG -|- tpch.tpch_10.orders_heap -|- New Query : SELECT * FROM \"tpch_10\".\"orders\" WHERE 1 = 1 AND CTID BETWEEN '(34502,0)'::tid AND '(51753,0)'::tid\n",
      "2025-09-22T00:33:57.218 +02:00 -|- FastTransfer -|- PG16_to_PG17_heap -|- DEBUG -|- tpch.tpch_10.orders_heap -|- New Query : SELECT * FROM \"tpch_10\".\"orders\" WHERE 1 = 1 AND CTID BETWEEN '(69004,0)'::tid AND '(86255,0)'::tid\n",
      "2025-09-22T00:33:57.218 +02:00 -|- FastTransfer -|- PG16_to_PG17_heap -|- DEBUG -|- tpch.tpch_10.orders_heap -|- New Query : SELECT * FROM \"tpch_10\".\"orders\" WHERE 1 = 1 AND CTID BETWEEN '(17251,0)'::tid AND '(34502,0)'::tid\n",
      "2025-09-22T00:33:57.218 +02:00 -|- FastTransfer -|- PG16_to_PG17_heap -|- DEBUG -|- tpch.tpch_10.orders_heap -|- New Query : SELECT * FROM \"tpch_10\".\"orders\" WHERE 1 = 1 AND CTID BETWEEN '(0,0)'::tid AND '(17251,0)'::tid\n",
      "2025-09-22T00:33:57.219 +02:00 -|- FastTransfer -|- PG16_to_PG17_heap -|- DEBUG -|- tpch.tpch_10.orders_heap -|- New Query : SELECT * FROM \"tpch_10\".\"orders\" WHERE 1 = 1 AND CTID BETWEEN '(86255,0)'::tid AND '(103506,0)'::tid\n",
      "2025-09-22T00:33:57.219 +02:00 -|- FastTransfer -|- PG16_to_PG17_heap -|- DEBUG -|- tpch.tpch_10.orders_heap -|- New Query : SELECT * FROM \"tpch_10\".\"orders\" WHERE 1 = 1 AND CTID BETWEEN '(103506,0)'::tid AND '(120757,0)'::tid\n",
      "2025-09-22T00:33:57.219 +02:00 -|- FastTransfer -|- PG16_to_PG17_heap -|- DEBUG -|- tpch.tpch_10.orders_heap -|- New Query : SELECT * FROM \"tpch_10\".\"orders\" WHERE 1 = 1 AND CTID BETWEEN '(120757,0)'::tid AND '(138008,0)'::tid\n",
      "2025-09-22T00:33:57.219 +02:00 -|- FastTransfer -|- PG16_to_PG17_heap -|- INFORMATION -|- tpch.tpch_10.orders_heap -|- Start Loading Data using distribution method Ctid\n",
      "2025-09-22T00:33:57.219 +02:00 -|- FastTransfer -|- PG16_to_PG17_heap -|- DEBUG -|- tpch.tpch_10.orders_heap -|- Query to Export Data = COPY (SELECT * FROM \"tpch_10\".\"orders\" WHERE 1 = 1 AND CTID BETWEEN '(17251,0)'::tid AND '(34502,0)'::tid) TO STDOUT (FORMAT BINARY)\n",
      "2025-09-22T00:33:57.219 +02:00 -|- FastTransfer -|- PG16_to_PG17_heap -|- DEBUG -|- tpch.tpch_10.orders_heap -|- Query to Load Data = COPY \"tpch_10\".\"orders_heap\" FROM STDIN (FORMAT BINARY)\n",
      "2025-09-22T00:33:57.219 +02:00 -|- FastTransfer -|- PG16_to_PG17_heap -|- DEBUG -|- tpch.tpch_10.orders_heap -|- New Query : SELECT * FROM \"tpch_10\".\"orders\" WHERE 1 = 1 AND CTID BETWEEN '(138008,0)'::tid AND '(155259,0)'::tid\n",
      "2025-09-22T00:33:57.220 +02:00 -|- FastTransfer -|- PG16_to_PG17_heap -|- DEBUG -|- tpch.tpch_10.orders_heap -|- New Query : SELECT * FROM \"tpch_10\".\"orders\" WHERE 1 = 1 AND CTID BETWEEN '(155259,0)'::tid AND '(172510,0)'::tid\n",
      "2025-09-22T00:33:57.220 +02:00 -|- FastTransfer -|- PG16_to_PG17_heap -|- DEBUG -|- tpch.tpch_10.orders_heap -|- New Query : SELECT * FROM \"tpch_10\".\"orders\" WHERE 1 = 1 AND CTID BETWEEN '(172510,0)'::tid AND '(189761,0)'::tid\n",
      "2025-09-22T00:33:57.220 +02:00 -|- FastTransfer -|- PG16_to_PG17_heap -|- DEBUG -|- tpch.tpch_10.orders_heap -|- New Query : SELECT * FROM \"tpch_10\".\"orders\" WHERE 1 = 1 AND CTID BETWEEN '(189761,0)'::tid AND '(207012,0)'::tid\n",
      "2025-09-22T00:33:57.221 +02:00 -|- FastTransfer -|- PG16_to_PG17_heap -|- DEBUG -|- tpch.tpch_10.orders_heap -|- New Query : SELECT * FROM \"tpch_10\".\"orders\" WHERE 1 = 1 AND CTID BETWEEN '(207012,0)'::tid AND '(224263,0)'::tid\n",
      "2025-09-22T00:33:57.221 +02:00 -|- FastTransfer -|- PG16_to_PG17_heap -|- DEBUG -|- tpch.tpch_10.orders_heap -|- New Query : SELECT * FROM \"tpch_10\".\"orders\" WHERE 1 = 1 AND CTID BETWEEN '(224263,0)'::tid AND '(241514,0)'::tid\n",
      "2025-09-22T00:33:57.221 +02:00 -|- FastTransfer -|- PG16_to_PG17_heap -|- DEBUG -|- tpch.tpch_10.orders_heap -|- New Query : SELECT * FROM \"tpch_10\".\"orders\" WHERE 1 = 1 AND CTID BETWEEN '(241514,0)'::tid AND '(258765,0)'::tid\n",
      "2025-09-22T00:33:57.221 +02:00 -|- FastTransfer -|- PG16_to_PG17_heap -|- DEBUG -|- tpch.tpch_10.orders_heap -|- New Query : SELECT * FROM \"tpch_10\".\"orders\" WHERE 1 = 1 AND CTID BETWEEN '(258765,0)'::tid AND '(2147483647,0)'::tid\n",
      "2025-09-22T00:33:57.322 +02:00 -|- FastTransfer -|- PG16_to_PG17_heap -|- INFORMATION -|- tpch.tpch_10.orders_heap -|- Start Loading Data using distribution method Ctid\n",
      "2025-09-22T00:33:57.322 +02:00 -|- FastTransfer -|- PG16_to_PG17_heap -|- DEBUG -|- tpch.tpch_10.orders_heap -|- Query to Export Data = COPY (SELECT * FROM \"tpch_10\".\"orders\" WHERE 1 = 1 AND CTID BETWEEN '(51753,0)'::tid AND '(69004,0)'::tid) TO STDOUT (FORMAT BINARY)\n",
      "2025-09-22T00:33:57.322 +02:00 -|- FastTransfer -|- PG16_to_PG17_heap -|- DEBUG -|- tpch.tpch_10.orders_heap -|- Query to Load Data = COPY \"tpch_10\".\"orders_heap\" FROM STDIN (FORMAT BINARY)\n",
      "2025-09-22T00:33:57.329 +02:00 -|- FastTransfer -|- PG16_to_PG17_heap -|- INFORMATION -|- tpch.tpch_10.orders_heap -|- Start Loading Data using distribution method Ctid\n",
      "2025-09-22T00:33:57.329 +02:00 -|- FastTransfer -|- PG16_to_PG17_heap -|- DEBUG -|- tpch.tpch_10.orders_heap -|- Query to Export Data = COPY (SELECT * FROM \"tpch_10\".\"orders\" WHERE 1 = 1 AND CTID BETWEEN '(69004,0)'::tid AND '(86255,0)'::tid) TO STDOUT (FORMAT BINARY)\n",
      "2025-09-22T00:33:57.329 +02:00 -|- FastTransfer -|- PG16_to_PG17_heap -|- DEBUG -|- tpch.tpch_10.orders_heap -|- Query to Load Data = COPY \"tpch_10\".\"orders_heap\" FROM STDIN (FORMAT BINARY)\n",
      "2025-09-22T00:33:57.335 +02:00 -|- FastTransfer -|- PG16_to_PG17_heap -|- INFORMATION -|- tpch.tpch_10.orders_heap -|- Start Loading Data using distribution method Ctid\n",
      "2025-09-22T00:33:57.335 +02:00 -|- FastTransfer -|- PG16_to_PG17_heap -|- DEBUG -|- tpch.tpch_10.orders_heap -|- Query to Export Data = COPY (SELECT * FROM \"tpch_10\".\"orders\" WHERE 1 = 1 AND CTID BETWEEN '(86255,0)'::tid AND '(103506,0)'::tid) TO STDOUT (FORMAT BINARY)\n",
      "2025-09-22T00:33:57.335 +02:00 -|- FastTransfer -|- PG16_to_PG17_heap -|- DEBUG -|- tpch.tpch_10.orders_heap -|- Query to Load Data = COPY \"tpch_10\".\"orders_heap\" FROM STDIN (FORMAT BINARY)\n",
      "2025-09-22T00:33:57.345 +02:00 -|- FastTransfer -|- PG16_to_PG17_heap -|- INFORMATION -|- tpch.tpch_10.orders_heap -|- Start Loading Data using distribution method Ctid\n",
      "2025-09-22T00:33:57.345 +02:00 -|- FastTransfer -|- PG16_to_PG17_heap -|- DEBUG -|- tpch.tpch_10.orders_heap -|- Query to Export Data = COPY (SELECT * FROM \"tpch_10\".\"orders\" WHERE 1 = 1 AND CTID BETWEEN '(34502,0)'::tid AND '(51753,0)'::tid) TO STDOUT (FORMAT BINARY)\n",
      "2025-09-22T00:33:57.345 +02:00 -|- FastTransfer -|- PG16_to_PG17_heap -|- DEBUG -|- tpch.tpch_10.orders_heap -|- Query to Load Data = COPY \"tpch_10\".\"orders_heap\" FROM STDIN (FORMAT BINARY)\n",
      "2025-09-22T00:33:57.350 +02:00 -|- FastTransfer -|- PG16_to_PG17_heap -|- INFORMATION -|- tpch.tpch_10.orders_heap -|- Start Loading Data using distribution method Ctid\n",
      "2025-09-22T00:33:57.350 +02:00 -|- FastTransfer -|- PG16_to_PG17_heap -|- DEBUG -|- tpch.tpch_10.orders_heap -|- Query to Export Data = COPY (SELECT * FROM \"tpch_10\".\"orders\" WHERE 1 = 1 AND CTID BETWEEN '(138008,0)'::tid AND '(155259,0)'::tid) TO STDOUT (FORMAT BINARY)\n",
      "2025-09-22T00:33:57.350 +02:00 -|- FastTransfer -|- PG16_to_PG17_heap -|- DEBUG -|- tpch.tpch_10.orders_heap -|- Query to Load Data = COPY \"tpch_10\".\"orders_heap\" FROM STDIN (FORMAT BINARY)\n",
      "2025-09-22T00:33:57.353 +02:00 -|- FastTransfer -|- PG16_to_PG17_heap -|- INFORMATION -|- tpch.tpch_10.orders_heap -|- Start Loading Data using distribution method Ctid\n",
      "2025-09-22T00:33:57.353 +02:00 -|- FastTransfer -|- PG16_to_PG17_heap -|- DEBUG -|- tpch.tpch_10.orders_heap -|- Query to Export Data = COPY (SELECT * FROM \"tpch_10\".\"orders\" WHERE 1 = 1 AND CTID BETWEEN '(120757,0)'::tid AND '(138008,0)'::tid) TO STDOUT (FORMAT BINARY)\n",
      "2025-09-22T00:33:57.353 +02:00 -|- FastTransfer -|- PG16_to_PG17_heap -|- DEBUG -|- tpch.tpch_10.orders_heap -|- Query to Load Data = COPY \"tpch_10\".\"orders_heap\" FROM STDIN (FORMAT BINARY)\n",
      "2025-09-22T00:33:57.356 +02:00 -|- FastTransfer -|- PG16_to_PG17_heap -|- INFORMATION -|- tpch.tpch_10.orders_heap -|- Start Loading Data using distribution method Ctid\n",
      "2025-09-22T00:33:57.356 +02:00 -|- FastTransfer -|- PG16_to_PG17_heap -|- DEBUG -|- tpch.tpch_10.orders_heap -|- Query to Export Data = COPY (SELECT * FROM \"tpch_10\".\"orders\" WHERE 1 = 1 AND CTID BETWEEN '(0,0)'::tid AND '(17251,0)'::tid) TO STDOUT (FORMAT BINARY)\n",
      "2025-09-22T00:33:57.356 +02:00 -|- FastTransfer -|- PG16_to_PG17_heap -|- DEBUG -|- tpch.tpch_10.orders_heap -|- Query to Load Data = COPY \"tpch_10\".\"orders_heap\" FROM STDIN (FORMAT BINARY)\n",
      "2025-09-22T00:33:57.362 +02:00 -|- FastTransfer -|- PG16_to_PG17_heap -|- INFORMATION -|- tpch.tpch_10.orders_heap -|- Start Loading Data using distribution method Ctid\n",
      "2025-09-22T00:33:57.363 +02:00 -|- FastTransfer -|- PG16_to_PG17_heap -|- DEBUG -|- tpch.tpch_10.orders_heap -|- Query to Export Data = COPY (SELECT * FROM \"tpch_10\".\"orders\" WHERE 1 = 1 AND CTID BETWEEN '(103506,0)'::tid AND '(120757,0)'::tid) TO STDOUT (FORMAT BINARY)\n",
      "2025-09-22T00:33:57.363 +02:00 -|- FastTransfer -|- PG16_to_PG17_heap -|- DEBUG -|- tpch.tpch_10.orders_heap -|- Query to Load Data = COPY \"tpch_10\".\"orders_heap\" FROM STDIN (FORMAT BINARY)\n",
      "2025-09-22T00:33:57.367 +02:00 -|- FastTransfer -|- PG16_to_PG17_heap -|- INFORMATION -|- tpch.tpch_10.orders_heap -|- Start Loading Data using distribution method Ctid\n",
      "2025-09-22T00:33:57.367 +02:00 -|- FastTransfer -|- PG16_to_PG17_heap -|- DEBUG -|- tpch.tpch_10.orders_heap -|- Query to Export Data = COPY (SELECT * FROM \"tpch_10\".\"orders\" WHERE 1 = 1 AND CTID BETWEEN '(155259,0)'::tid AND '(172510,0)'::tid) TO STDOUT (FORMAT BINARY)\n",
      "2025-09-22T00:33:57.367 +02:00 -|- FastTransfer -|- PG16_to_PG17_heap -|- DEBUG -|- tpch.tpch_10.orders_heap -|- Query to Load Data = COPY \"tpch_10\".\"orders_heap\" FROM STDIN (FORMAT BINARY)\n",
      "2025-09-22T00:33:57.370 +02:00 -|- FastTransfer -|- PG16_to_PG17_heap -|- INFORMATION -|- tpch.tpch_10.orders_heap -|- Start Loading Data using distribution method Ctid\n",
      "2025-09-22T00:33:57.370 +02:00 -|- FastTransfer -|- PG16_to_PG17_heap -|- DEBUG -|- tpch.tpch_10.orders_heap -|- Query to Export Data = COPY (SELECT * FROM \"tpch_10\".\"orders\" WHERE 1 = 1 AND CTID BETWEEN '(189761,0)'::tid AND '(207012,0)'::tid) TO STDOUT (FORMAT BINARY)\n",
      "2025-09-22T00:33:57.370 +02:00 -|- FastTransfer -|- PG16_to_PG17_heap -|- DEBUG -|- tpch.tpch_10.orders_heap -|- Query to Load Data = COPY \"tpch_10\".\"orders_heap\" FROM STDIN (FORMAT BINARY)\n",
      "2025-09-22T00:33:57.381 +02:00 -|- FastTransfer -|- PG16_to_PG17_heap -|- INFORMATION -|- tpch.tpch_10.orders_heap -|- Start Loading Data using distribution method Ctid\n",
      "2025-09-22T00:33:57.381 +02:00 -|- FastTransfer -|- PG16_to_PG17_heap -|- DEBUG -|- tpch.tpch_10.orders_heap -|- Query to Export Data = COPY (SELECT * FROM \"tpch_10\".\"orders\" WHERE 1 = 1 AND CTID BETWEEN '(172510,0)'::tid AND '(189761,0)'::tid) TO STDOUT (FORMAT BINARY)\n",
      "2025-09-22T00:33:57.381 +02:00 -|- FastTransfer -|- PG16_to_PG17_heap -|- DEBUG -|- tpch.tpch_10.orders_heap -|- Query to Load Data = COPY \"tpch_10\".\"orders_heap\" FROM STDIN (FORMAT BINARY)\n",
      "2025-09-22T00:33:57.382 +02:00 -|- FastTransfer -|- PG16_to_PG17_heap -|- INFORMATION -|- tpch.tpch_10.orders_heap -|- Start Loading Data using distribution method Ctid\n",
      "2025-09-22T00:33:57.383 +02:00 -|- FastTransfer -|- PG16_to_PG17_heap -|- DEBUG -|- tpch.tpch_10.orders_heap -|- Query to Export Data = COPY (SELECT * FROM \"tpch_10\".\"orders\" WHERE 1 = 1 AND CTID BETWEEN '(224263,0)'::tid AND '(241514,0)'::tid) TO STDOUT (FORMAT BINARY)\n",
      "2025-09-22T00:33:57.383 +02:00 -|- FastTransfer -|- PG16_to_PG17_heap -|- DEBUG -|- tpch.tpch_10.orders_heap -|- Query to Load Data = COPY \"tpch_10\".\"orders_heap\" FROM STDIN (FORMAT BINARY)\n",
      "2025-09-22T00:33:57.383 +02:00 -|- FastTransfer -|- PG16_to_PG17_heap -|- INFORMATION -|- tpch.tpch_10.orders_heap -|- Start Loading Data using distribution method Ctid\n",
      "2025-09-22T00:33:57.383 +02:00 -|- FastTransfer -|- PG16_to_PG17_heap -|- INFORMATION -|- tpch.tpch_10.orders_heap -|- Start Loading Data using distribution method Ctid\n",
      "2025-09-22T00:33:57.383 +02:00 -|- FastTransfer -|- PG16_to_PG17_heap -|- DEBUG -|- tpch.tpch_10.orders_heap -|- Query to Export Data = COPY (SELECT * FROM \"tpch_10\".\"orders\" WHERE 1 = 1 AND CTID BETWEEN '(207012,0)'::tid AND '(224263,0)'::tid) TO STDOUT (FORMAT BINARY)\n",
      "2025-09-22T00:33:57.383 +02:00 -|- FastTransfer -|- PG16_to_PG17_heap -|- DEBUG -|- tpch.tpch_10.orders_heap -|- Query to Load Data = COPY \"tpch_10\".\"orders_heap\" FROM STDIN (FORMAT BINARY)\n",
      "2025-09-22T00:33:57.383 +02:00 -|- FastTransfer -|- PG16_to_PG17_heap -|- DEBUG -|- tpch.tpch_10.orders_heap -|- Query to Export Data = COPY (SELECT * FROM \"tpch_10\".\"orders\" WHERE 1 = 1 AND CTID BETWEEN '(258765,0)'::tid AND '(2147483647,0)'::tid) TO STDOUT (FORMAT BINARY)\n",
      "2025-09-22T00:33:57.384 +02:00 -|- FastTransfer -|- PG16_to_PG17_heap -|- DEBUG -|- tpch.tpch_10.orders_heap -|- Query to Load Data = COPY \"tpch_10\".\"orders_heap\" FROM STDIN (FORMAT BINARY)\n",
      "2025-09-22T00:33:57.390 +02:00 -|- FastTransfer -|- PG16_to_PG17_heap -|- INFORMATION -|- tpch.tpch_10.orders_heap -|- Start Loading Data using distribution method Ctid\n",
      "2025-09-22T00:33:57.390 +02:00 -|- FastTransfer -|- PG16_to_PG17_heap -|- DEBUG -|- tpch.tpch_10.orders_heap -|- Query to Export Data = COPY (SELECT * FROM \"tpch_10\".\"orders\" WHERE 1 = 1 AND CTID BETWEEN '(241514,0)'::tid AND '(258765,0)'::tid) TO STDOUT (FORMAT BINARY)\n",
      "2025-09-22T00:33:57.390 +02:00 -|- FastTransfer -|- PG16_to_PG17_heap -|- DEBUG -|- tpch.tpch_10.orders_heap -|- Query to Load Data = COPY \"tpch_10\".\"orders_heap\" FROM STDIN (FORMAT BINARY)\n",
      "2025-09-22T00:33:59.559 +02:00 -|- FastTransfer -|- PG16_to_PG17_heap -|- INFORMATION -|- tpch.tpch_10.orders_heap -|- Completed Load Query 2 for ctid between 17251 and 34502 : 141977844 Bytes in 2340ms with snapshot 00000005-0000008C-1\n",
      "2025-09-22T00:33:59.997 +02:00 -|- FastTransfer -|- PG16_to_PG17_heap -|- INFORMATION -|- tpch.tpch_10.orders_heap -|- Completed Load Query 6 for ctid between 86255 and 103506 : 141971625 Bytes in 2778ms with snapshot 00000005-0000008C-1\n",
      "2025-09-22T00:34:00.184 +02:00 -|- FastTransfer -|- PG16_to_PG17_heap -|- INFORMATION -|- tpch.tpch_10.orders_heap -|- Completed Load Query 7 for ctid between 103506 and 120757 : 141977880 Bytes in 2964ms with snapshot 00000005-0000008C-1\n",
      "2025-09-22T00:34:00.216 +02:00 -|- FastTransfer -|- PG16_to_PG17_heap -|- INFORMATION -|- tpch.tpch_10.orders_heap -|- Completed Load Query 9 for ctid between 138008 and 155259 : 141986567 Bytes in 2996ms with snapshot 00000005-0000008C-1\n",
      "2025-09-22T00:34:00.325 +02:00 -|- FastTransfer -|- PG16_to_PG17_heap -|- INFORMATION -|- tpch.tpch_10.orders_heap -|- Completed Load Query 5 for ctid between 69004 and 86255 : 141970351 Bytes in 3106ms with snapshot 00000005-0000008C-1\n",
      "2025-09-22T00:34:00.351 +02:00 -|- FastTransfer -|- PG16_to_PG17_heap -|- INFORMATION -|- tpch.tpch_10.orders_heap -|- Completed Load Query 15 for ctid between 241514 and 258765 : 141964919 Bytes in 3129ms with snapshot 00000005-0000008C-1\n",
      "2025-09-22T00:34:00.351 +02:00 -|- FastTransfer -|- PG16_to_PG17_heap -|- INFORMATION -|- tpch.tpch_10.orders_heap -|- Completed Load Query 4 for ctid between 51753 and 69004 : 141967323 Bytes in 3132ms with snapshot 00000005-0000008C-1\n",
      "2025-09-22T00:34:00.351 +02:00 -|- FastTransfer -|- PG16_to_PG17_heap -|- INFORMATION -|- tpch.tpch_10.orders_heap -|- Completed Load Query 11 for ctid between 172510 and 189761 : 141986281 Bytes in 3130ms with snapshot 00000005-0000008C-1\n",
      "2025-09-22T00:34:00.351 +02:00 -|- FastTransfer -|- PG16_to_PG17_heap -|- INFORMATION -|- tpch.tpch_10.orders_heap -|- Completed Load Query 8 for ctid between 120757 and 138008 : 141979440 Bytes in 3131ms with snapshot 00000005-0000008C-1\n",
      "2025-09-22T00:34:00.351 +02:00 -|- FastTransfer -|- PG16_to_PG17_heap -|- INFORMATION -|- tpch.tpch_10.orders_heap -|- Completed Load Query 16 for ctid between 258765 and 2147483647 : 141831708 Bytes in 3129ms with snapshot 00000005-0000008C-1\n",
      "2025-09-22T00:34:00.351 +02:00 -|- FastTransfer -|- PG16_to_PG17_heap -|- INFORMATION -|- tpch.tpch_10.orders_heap -|- Completed Load Query 12 for ctid between 189761 and 207012 : 141965353 Bytes in 3130ms with snapshot 00000005-0000008C-1\n",
      "2025-09-22T00:34:00.351 +02:00 -|- FastTransfer -|- PG16_to_PG17_heap -|- INFORMATION -|- tpch.tpch_10.orders_heap -|- Completed Load Query 1 for ctid between 0 and 17251 : 141991354 Bytes in 3132ms with snapshot 00000005-0000008C-1\n",
      "2025-09-22T00:34:00.351 +02:00 -|- FastTransfer -|- PG16_to_PG17_heap -|- INFORMATION -|- tpch.tpch_10.orders_heap -|- Completed Load Query 10 for ctid between 155259 and 172510 : 141991910 Bytes in 3131ms with snapshot 00000005-0000008C-1\n",
      "2025-09-22T00:34:00.351 +02:00 -|- FastTransfer -|- PG16_to_PG17_heap -|- INFORMATION -|- tpch.tpch_10.orders_heap -|- Completed Load Query 3 for ctid between 34502 and 51753 : 141969998 Bytes in 3132ms with snapshot 00000005-0000008C-1\n",
      "2025-09-22T00:34:00.351 +02:00 -|- FastTransfer -|- PG16_to_PG17_heap -|- INFORMATION -|- tpch.tpch_10.orders_heap -|- Completed Load Query 14 for ctid between 224263 and 241514 : 141980901 Bytes in 3130ms with snapshot 00000005-0000008C-1\n",
      "2025-09-22T00:34:00.351 +02:00 -|- FastTransfer -|- PG16_to_PG17_heap -|- INFORMATION -|- tpch.tpch_10.orders_heap -|- Completed Load Query 13 for ctid between 207012 and 224263 : 141979777 Bytes in 3130ms with snapshot 00000005-0000008C-1\n",
      "2025-09-22T00:34:00.352 +02:00 -|- FastTransfer -|- PG16_to_PG17_heap -|- INFORMATION -|- tpch.tpch_10.orders_heap -|- Total size : 2271493231 Bytes\n",
      "2025-09-22T00:34:00.352 +02:00 -|- FastTransfer -|- PG16_to_PG17_heap -|- INFORMATION -|- tpch.tpch_10.orders_heap -|- Throughput : 654835682 Bytes/s\n",
      "2025-09-22T00:34:00.352 +02:00 -|- FastTransfer -|- PG16_to_PG17_heap -|- INFORMATION -|- tpch.tpch_10.orders_heap -|- Transfert time : Elapsed=3468 ms\n",
      "2025-09-22T00:34:00.352 +02:00 -|- FastTransfer -|- PG16_to_PG17_heap -|- INFORMATION -|- tpch.tpch_10.orders_heap -|- Total time : Elapsed=3762 ms\n",
      "2025-09-22T00:34:00.352 +02:00 -|- FastTransfer -|- PG16_to_PG17_heap -|- INFORMATION -|- tpch.tpch_10.orders_heap -|- Completed Load\n"
     ]
    }
   ],
   "source": [
    "\n",
    "cd D:\\FastTransfer\n",
    "\n",
    ".\\FastTransfer.exe `\n",
    "--sourceconnectiontype \"pgcopy\" `\n",
    "--sourceserver \"localhost:15432\" `\n",
    "--sourcedatabase \"tpch\" `\n",
    "--sourceuser \"FastUser\" `\n",
    "--sourcepassword \"FastPassword\" `\n",
    "--sourceschema \"tpch_10\" `\n",
    "--sourcetable \"orders\" `\n",
    "`\n",
    "--targetconnectiontype \"pgcopy\" `\n",
    "--targetserver \"localhost:25432\" `\n",
    "--targetuser \"FastUser\" `\n",
    "--targetpassword \"FastPassword\" `\n",
    "--targetdatabase \"tpch\" `\n",
    "--targetschema \"tpch_10\" `\n",
    "--targettable \"orders_heap\" `\n",
    "`\n",
    "--loadmode \"Truncate\" `\n",
    "--mapmethod \"Name\" `\n",
    "--method \"Ctid\" `\n",
    "--degree -2 `\n",
    "--runid \"PG16_to_PG17_heap\""
   ]
  },
  {
   "cell_type": "code",
   "execution_count": 1,
   "id": "5144fced",
   "metadata": {
    "language_info": {
     "name": "polyglot-notebook"
    },
    "polyglot_notebook": {
     "kernelName": "sql-pgsql17"
    }
   },
   "outputs": [
    {
     "data": {
      "text/csv": [
       "count_rows_in_heap\r\n",
       "15000000\r\n"
      ],
      "text/html": [
       "<table><thead><tr><td><span>count_rows_in_heap</span></td></tr></thead><tbody><tr><td><div class=\"dni-plaintext\"><pre>15000000</pre></div></td></tr></tbody></table><style>\r\n",
       ".dni-code-hint {\r\n",
       "    font-style: italic;\r\n",
       "    overflow: hidden;\r\n",
       "    white-space: nowrap;\r\n",
       "}\r\n",
       ".dni-treeview {\r\n",
       "    white-space: nowrap;\r\n",
       "}\r\n",
       ".dni-treeview td {\r\n",
       "    vertical-align: top;\r\n",
       "    text-align: start;\r\n",
       "}\r\n",
       "details.dni-treeview {\r\n",
       "    padding-left: 1em;\r\n",
       "}\r\n",
       "table td {\r\n",
       "    text-align: start;\r\n",
       "}\r\n",
       "table tr { \r\n",
       "    vertical-align: top; \r\n",
       "    margin: 0em 0px;\r\n",
       "}\r\n",
       "table tr td pre \r\n",
       "{ \r\n",
       "    vertical-align: top !important; \r\n",
       "    margin: 0em 0px !important;\r\n",
       "} \r\n",
       "table th {\r\n",
       "    text-align: start;\r\n",
       "}\r\n",
       "</style>"
      ]
     },
     "metadata": {},
     "output_type": "display_data"
    }
   ],
   "source": [
    "\n",
    "SELECT count(*) count_rows_in_heap from tpch_10.orders_heap;"
   ]
  },
  {
   "cell_type": "code",
   "execution_count": 16,
   "id": "b9ef8968",
   "metadata": {
    "language_info": {
     "name": "polyglot-notebook"
    },
    "polyglot_notebook": {
     "kernelName": "sql-pgsql17"
    }
   },
   "outputs": [
    {
     "data": {
      "text/csv": [
       "o_orderkey,o_custkey,o_orderstatus,o_totalprice,o_orderdate,o_orderpriority,o_clerk,o_shippriority,o_comment\r\n",
       "33660512,775268,F,57043.01,1994-09-30T00:00:00.0000000,\"4-NOT SPECIFIED\",Clerk#000003931,0,\" special, regular requests use. \"\r\n",
       "33660514,1403410,F,69873.94,1994-04-22T00:00:00.0000000,\"4-NOT SPECIFIED\",Clerk#000008318,0,\"final deposits abou\"\r\n",
       "41281026,1211515,F,180962.41,1994-09-01T00:00:00.0000000,\"4-NOT SPECIFIED\",Clerk#000005558,0,\"lithely final packages cajole daring\"\r\n",
       "41281028,340883,F,243024.32,1994-04-23T00:00:00.0000000,\"1-URGENT       \",Clerk#000000631,0,\"nding packages. carefully bold pinto beans are furiously busily\"\r\n",
       "33660550,192962,F,35781.16,1994-01-19T00:00:00.0000000,\"2-HIGH         \",Clerk#000004242,0,\" final accounts sleep final, ironic pin\"\r\n"
      ],
      "text/html": [
       "<table><thead><tr><td><span>o_orderkey</span></td><td><span>o_custkey</span></td><td><span>o_orderstatus</span></td><td><span>o_totalprice</span></td><td><span>o_orderdate</span></td><td><span>o_orderpriority</span></td><td><span>o_clerk</span></td><td><span>o_shippriority</span></td><td><span>o_comment</span></td></tr></thead><tbody><tr><td><div class=\"dni-plaintext\"><pre>33660512</pre></div></td><td><div class=\"dni-plaintext\"><pre>775268</pre></div></td><td>F</td><td><div class=\"dni-plaintext\"><pre>57043.01</pre></div></td><td><span>1994-09-30 00:00:00Z</span></td><td>4-NOT SPECIFIED</td><td>Clerk#000003931</td><td><div class=\"dni-plaintext\"><pre>0</pre></div></td><td> special, regular requests use. </td></tr><tr><td><div class=\"dni-plaintext\"><pre>33660514</pre></div></td><td><div class=\"dni-plaintext\"><pre>1403410</pre></div></td><td>F</td><td><div class=\"dni-plaintext\"><pre>69873.94</pre></div></td><td><span>1994-04-22 00:00:00Z</span></td><td>4-NOT SPECIFIED</td><td>Clerk#000008318</td><td><div class=\"dni-plaintext\"><pre>0</pre></div></td><td>final deposits abou</td></tr><tr><td><div class=\"dni-plaintext\"><pre>41281026</pre></div></td><td><div class=\"dni-plaintext\"><pre>1211515</pre></div></td><td>F</td><td><div class=\"dni-plaintext\"><pre>180962.41</pre></div></td><td><span>1994-09-01 00:00:00Z</span></td><td>4-NOT SPECIFIED</td><td>Clerk#000005558</td><td><div class=\"dni-plaintext\"><pre>0</pre></div></td><td>lithely final packages cajole daring</td></tr><tr><td><div class=\"dni-plaintext\"><pre>41281028</pre></div></td><td><div class=\"dni-plaintext\"><pre>340883</pre></div></td><td>F</td><td><div class=\"dni-plaintext\"><pre>243024.32</pre></div></td><td><span>1994-04-23 00:00:00Z</span></td><td>1-URGENT       </td><td>Clerk#000000631</td><td><div class=\"dni-plaintext\"><pre>0</pre></div></td><td>nding packages. carefully bold pinto beans are furiously busily</td></tr><tr><td><div class=\"dni-plaintext\"><pre>33660550</pre></div></td><td><div class=\"dni-plaintext\"><pre>192962</pre></div></td><td>F</td><td><div class=\"dni-plaintext\"><pre>35781.16</pre></div></td><td><span>1994-01-19 00:00:00Z</span></td><td>2-HIGH         </td><td>Clerk#000004242</td><td><div class=\"dni-plaintext\"><pre>0</pre></div></td><td> final accounts sleep final, ironic pin</td></tr></tbody></table><style>\r\n",
       ".dni-code-hint {\r\n",
       "    font-style: italic;\r\n",
       "    overflow: hidden;\r\n",
       "    white-space: nowrap;\r\n",
       "}\r\n",
       ".dni-treeview {\r\n",
       "    white-space: nowrap;\r\n",
       "}\r\n",
       ".dni-treeview td {\r\n",
       "    vertical-align: top;\r\n",
       "    text-align: start;\r\n",
       "}\r\n",
       "details.dni-treeview {\r\n",
       "    padding-left: 1em;\r\n",
       "}\r\n",
       "table td {\r\n",
       "    text-align: start;\r\n",
       "}\r\n",
       "table tr { \r\n",
       "    vertical-align: top; \r\n",
       "    margin: 0em 0px;\r\n",
       "}\r\n",
       "table tr td pre \r\n",
       "{ \r\n",
       "    vertical-align: top !important; \r\n",
       "    margin: 0em 0px !important;\r\n",
       "} \r\n",
       "table th {\r\n",
       "    text-align: start;\r\n",
       "}\r\n",
       "</style>"
      ]
     },
     "metadata": {},
     "output_type": "display_data"
    }
   ],
   "source": [
    "SELECT * from tpch_10.orders_heap LIMIT 5;"
   ]
  },
  {
   "cell_type": "markdown",
   "id": "ec9b966d",
   "metadata": {},
   "source": [
    "#### Test using a bigger table : LineItem (60M Rows x 16 columns - 16GB) "
   ]
  },
  {
   "cell_type": "code",
   "execution_count": null,
   "metadata": {
    "language_info": {
     "name": "polyglot-notebook"
    },
    "polyglot_notebook": {
     "kernelName": "csharp"
    }
   },
   "outputs": [],
   "source": []
  },
  {
   "cell_type": "code",
   "execution_count": 18,
   "id": "943d9c54",
   "metadata": {
    "polyglot_notebook": {
     "kernelName": "pwsh"
    }
   },
   "outputs": [
    {
     "name": "stdout",
     "output_type": "stream",
     "text": [
      "2025-09-22T00:45:50.942 +02:00 -|- FastTransfer -|- PG16_to_PG17_60M_rowsx16_columns -|- DEBUG -|- tpch.tpch_10.lineitem_heap_unlogged -|- Using log settings from FastTransfer_Settings.json\n",
      "2025-09-22T00:45:50.954 +02:00 -|- FastTransfer -|- PG16_to_PG17_60M_rowsx16_columns -|- INFORMATION -|- tpch.tpch_10.lineitem_heap_unlogged -|- FastTransfer – running in normal mode.\n",
      "2025-09-22T00:45:50.973 +02:00 -|- FastTransfer -|- PG16_to_PG17_60M_rowsx16_columns -|- INFORMATION -|- tpch.tpch_10.lineitem_heap_unlogged -|- License for Architecture & Performance validated successfully. License valid until 2026-09-05\n",
      "2025-09-22T00:45:50.973 +02:00 -|- FastTransfer -|- PG16_to_PG17_60M_rowsx16_columns -|- INFORMATION -|- tpch.tpch_10.lineitem_heap_unlogged -|- Starting\n",
      "2025-09-22T00:45:50.973 +02:00 -|- FastTransfer -|- PG16_to_PG17_60M_rowsx16_columns -|- INFORMATION -|- tpch.tpch_10.lineitem_heap_unlogged -|- FastTransfer Version : 0.13.9.0 Architecture : X64 - Framework : .NET 8.0.19\n",
      "2025-09-22T00:45:50.973 +02:00 -|- FastTransfer -|- PG16_to_PG17_60M_rowsx16_columns -|- INFORMATION -|- tpch.tpch_10.lineitem_heap_unlogged -|- OS : Microsoft Windows 10.0.26100\n",
      "2025-09-22T00:45:50.973 +02:00 -|- FastTransfer -|- PG16_to_PG17_60M_rowsx16_columns -|- INFORMATION -|- tpch.tpch_10.lineitem_heap_unlogged -|- Process ID : 70056\n",
      "2025-09-22T00:45:50.973 +02:00 -|- FastTransfer -|- PG16_to_PG17_60M_rowsx16_columns -|- INFORMATION -|- tpch.tpch_10.lineitem_heap_unlogged -|- Provided Run ID : PG16_to_PG17_60M_rowsx16_columns\n",
      "2025-09-22T00:45:50.973 +02:00 -|- FastTransfer -|- PG16_to_PG17_60M_rowsx16_columns -|- INFORMATION -|- tpch.tpch_10.lineitem_heap_unlogged -|- Source Connection Type : pgcopy\n",
      "2025-09-22T00:45:50.973 +02:00 -|- FastTransfer -|- PG16_to_PG17_60M_rowsx16_columns -|- INFORMATION -|- tpch.tpch_10.lineitem_heap_unlogged -|- Source SqlInstance : localhost:15432\n",
      "2025-09-22T00:45:50.973 +02:00 -|- FastTransfer -|- PG16_to_PG17_60M_rowsx16_columns -|- INFORMATION -|- tpch.tpch_10.lineitem_heap_unlogged -|- Source Database : tpch\n",
      "2025-09-22T00:45:50.974 +02:00 -|- FastTransfer -|- PG16_to_PG17_60M_rowsx16_columns -|- INFORMATION -|- tpch.tpch_10.lineitem_heap_unlogged -|- Source Trusted Connection : False\n",
      "2025-09-22T00:45:50.974 +02:00 -|- FastTransfer -|- PG16_to_PG17_60M_rowsx16_columns -|- INFORMATION -|- tpch.tpch_10.lineitem_heap_unlogged -|- Source User : FastUser\n",
      "2025-09-22T00:45:50.974 +02:00 -|- FastTransfer -|- PG16_to_PG17_60M_rowsx16_columns -|- INFORMATION -|- tpch.tpch_10.lineitem_heap_unlogged -|- Source Schema : tpch_10\n",
      "2025-09-22T00:45:50.974 +02:00 -|- FastTransfer -|- PG16_to_PG17_60M_rowsx16_columns -|- INFORMATION -|- tpch.tpch_10.lineitem_heap_unlogged -|- Source Table : lineitem\n",
      "2025-09-22T00:45:50.974 +02:00 -|- FastTransfer -|- PG16_to_PG17_60M_rowsx16_columns -|- INFORMATION -|- tpch.tpch_10.lineitem_heap_unlogged -|- Target Type : pgcopy\n",
      "2025-09-22T00:45:50.974 +02:00 -|- FastTransfer -|- PG16_to_PG17_60M_rowsx16_columns -|- INFORMATION -|- tpch.tpch_10.lineitem_heap_unlogged -|- Target Server : localhost:25432\n",
      "2025-09-22T00:45:50.974 +02:00 -|- FastTransfer -|- PG16_to_PG17_60M_rowsx16_columns -|- INFORMATION -|- tpch.tpch_10.lineitem_heap_unlogged -|- Target Database : tpch\n",
      "2025-09-22T00:45:50.974 +02:00 -|- FastTransfer -|- PG16_to_PG17_60M_rowsx16_columns -|- INFORMATION -|- tpch.tpch_10.lineitem_heap_unlogged -|- Target Schema : tpch_10\n",
      "2025-09-22T00:45:50.974 +02:00 -|- FastTransfer -|- PG16_to_PG17_60M_rowsx16_columns -|- INFORMATION -|- tpch.tpch_10.lineitem_heap_unlogged -|- Target Table : lineitem_heap_unlogged\n",
      "2025-09-22T00:45:50.974 +02:00 -|- FastTransfer -|- PG16_to_PG17_60M_rowsx16_columns -|- INFORMATION -|- tpch.tpch_10.lineitem_heap_unlogged -|- Target Trusted Connection : False\n",
      "2025-09-22T00:45:50.974 +02:00 -|- FastTransfer -|- PG16_to_PG17_60M_rowsx16_columns -|- INFORMATION -|- tpch.tpch_10.lineitem_heap_unlogged -|- Target User : FastUser\n",
      "2025-09-22T00:45:50.974 +02:00 -|- FastTransfer -|- PG16_to_PG17_60M_rowsx16_columns -|- INFORMATION -|- tpch.tpch_10.lineitem_heap_unlogged -|- Columns Map Method : Name\n",
      "2025-09-22T00:45:50.974 +02:00 -|- FastTransfer -|- PG16_to_PG17_60M_rowsx16_columns -|- INFORMATION -|- tpch.tpch_10.lineitem_heap_unlogged -|- Degree : -2\n",
      "2025-09-22T00:45:50.974 +02:00 -|- FastTransfer -|- PG16_to_PG17_60M_rowsx16_columns -|- INFORMATION -|- tpch.tpch_10.lineitem_heap_unlogged -|- Distribute Method : Ctid\n",
      "2025-09-22T00:45:50.974 +02:00 -|- FastTransfer -|- PG16_to_PG17_60M_rowsx16_columns -|- INFORMATION -|- tpch.tpch_10.lineitem_heap_unlogged -|- Bulkcopy Batch Size : 1048576\n",
      "2025-09-22T00:45:50.974 +02:00 -|- FastTransfer -|- PG16_to_PG17_60M_rowsx16_columns -|- INFORMATION -|- tpch.tpch_10.lineitem_heap_unlogged -|- Load Mode : Truncate\n",
      "2025-09-22T00:45:50.974 +02:00 -|- FastTransfer -|- PG16_to_PG17_60M_rowsx16_columns -|- INFORMATION -|- tpch.tpch_10.lineitem_heap_unlogged -|- Use Work Tables : False\n",
      "2025-09-22T00:45:50.975 +02:00 -|- FastTransfer -|- PG16_to_PG17_60M_rowsx16_columns -|- INFORMATION -|- tpch.tpch_10.lineitem_heap_unlogged -|- Encoding used : Unicode (UTF-8) - 65001 - utf-8\n",
      "2025-09-22T00:45:50.981 +02:00 -|- FastTransfer -|- PG16_to_PG17_60M_rowsx16_columns -|- DEBUG -|- tpch.tpch_10.lineitem_heap_unlogged -|- serverport: localhost : 15432\n",
      "2025-09-22T00:45:50.981 +02:00 -|- FastTransfer -|- PG16_to_PG17_60M_rowsx16_columns -|- DEBUG -|- tpch.tpch_10.lineitem_heap_unlogged -|- serverport: localhost : 25432\n",
      "2025-09-22T00:45:51.059 +02:00 -|- FastTransfer -|- PG16_to_PG17_60M_rowsx16_columns -|- INFORMATION -|- tpch.tpch_10.lineitem_heap_unlogged -|- Source Connection String : Host=localhost;Port=15432;Database=tpch;Trust Server Certificate=True;Application Name=FastTransfer;Timeout=15;Command Timeout=10800;Username=FastUser;Password=xxxxx\n",
      "2025-09-22T00:45:51.059 +02:00 -|- FastTransfer -|- PG16_to_PG17_60M_rowsx16_columns -|- INFORMATION -|- tpch.tpch_10.lineitem_heap_unlogged -|- Target Connection String : Host=localhost;Port=25432;Database=tpch;Trust Server Certificate=True;Application Name=FastTransfer;Timeout=15;Command Timeout=10800;Username=FastUser;Password=xxxxx\n",
      "2025-09-22T00:45:51.059 +02:00 -|- FastTransfer -|- PG16_to_PG17_60M_rowsx16_columns -|- INFORMATION -|- tpch.tpch_10.lineitem_heap_unlogged -|- Source Database Version : PostgreSQL 16.1, compiled by Visual C++ build 1937, 64-bit\n",
      "2025-09-22T00:45:51.059 +02:00 -|- FastTransfer -|- PG16_to_PG17_60M_rowsx16_columns -|- INFORMATION -|- tpch.tpch_10.lineitem_heap_unlogged -|- Target Database Version : PostgreSQL 17.2 on x86_64-windows, compiled by msvc-19.42.34435, 64-bit\n",
      "2025-09-22T00:45:51.059 +02:00 -|- FastTransfer -|- PG16_to_PG17_60M_rowsx16_columns -|- VERBOSE -|- tpch.tpch_10.lineitem_heap_unlogged -|- Dialect used : SqlParser.Dialects.PostgreSqlDialect\n",
      "2025-09-22T00:45:51.063 +02:00 -|- FastTransfer -|- PG16_to_PG17_60M_rowsx16_columns -|- VERBOSE -|- tpch.tpch_10.lineitem_heap_unlogged -|- AST - Full Query : SELECT * FROM \"tpch_10\".\"lineitem\"\n",
      "2025-09-22T00:45:51.063 +02:00 -|- FastTransfer -|- PG16_to_PG17_60M_rowsx16_columns -|- VERBOSE -|- tpch.tpch_10.lineitem_heap_unlogged -|- AST - Select Statement : SELECT * FROM \"tpch_10\".\"lineitem\"\n",
      "2025-09-22T00:45:51.063 +02:00 -|- FastTransfer -|- PG16_to_PG17_60M_rowsx16_columns -|- VERBOSE -|- tpch.tpch_10.lineitem_heap_unlogged -|- Columns : *\n",
      "2025-09-22T00:45:51.063 +02:00 -|- FastTransfer -|- PG16_to_PG17_60M_rowsx16_columns -|- VERBOSE -|- tpch.tpch_10.lineitem_heap_unlogged -|- From Clause : \"tpch_10\".\"lineitem\"\n",
      "2025-09-22T00:45:51.063 +02:00 -|- FastTransfer -|- PG16_to_PG17_60M_rowsx16_columns -|- VERBOSE -|- tpch.tpch_10.lineitem_heap_unlogged -|- Where Clause : No Where Clause\n",
      "2025-09-22T00:45:51.063 +02:00 -|- FastTransfer -|- PG16_to_PG17_60M_rowsx16_columns -|- VERBOSE -|- tpch.tpch_10.lineitem_heap_unlogged -|- Group By : No Group By\n",
      "2025-09-22T00:45:51.064 +02:00 -|- FastTransfer -|- PG16_to_PG17_60M_rowsx16_columns -|- VERBOSE -|- tpch.tpch_10.lineitem_heap_unlogged -|- Having : No Having\n",
      "2025-09-22T00:45:51.064 +02:00 -|- FastTransfer -|- PG16_to_PG17_60M_rowsx16_columns -|- VERBOSE -|- tpch.tpch_10.lineitem_heap_unlogged -|- Order By : No Order By\n",
      "2025-09-22T00:45:51.064 +02:00 -|- FastTransfer -|- PG16_to_PG17_60M_rowsx16_columns -|- VERBOSE -|- tpch.tpch_10.lineitem_heap_unlogged -|- Limit/top : No Limit\n",
      "2025-09-22T00:45:51.064 +02:00 -|- FastTransfer -|- PG16_to_PG17_60M_rowsx16_columns -|- VERBOSE -|- tpch.tpch_10.lineitem_heap_unlogged -|- Distinct : No Distinct\n",
      "2025-09-22T00:45:51.064 +02:00 -|- FastTransfer -|- PG16_to_PG17_60M_rowsx16_columns -|- DEBUG -|- tpch.tpch_10.lineitem_heap_unlogged -|- Query to Truncate Target Table = TRUNCATE TABLE \"tpch_10\".\"lineitem_heap_unlogged\"\n",
      "2025-09-22T00:45:51.071 +02:00 -|- FastTransfer -|- PG16_to_PG17_60M_rowsx16_columns -|- INFORMATION -|- tpch.tpch_10.lineitem_heap_unlogged -|- Degree of parallelism was computed to 16 (=> 32\\2)\n",
      "2025-09-22T00:45:51.071 +02:00 -|- FastTransfer -|- PG16_to_PG17_60M_rowsx16_columns -|- DEBUG -|- tpch.tpch_10.lineitem_heap_unlogged -|- Query to Retrieve Snapshot ID = BEGIN TRANSACTION ISOLATION LEVEL REPEATABLE READ;SELECT pg_export_snapshot() snapshotid\n",
      "2025-09-22T00:45:51.074 +02:00 -|- FastTransfer -|- PG16_to_PG17_60M_rowsx16_columns -|- INFORMATION -|- tpch.tpch_10.lineitem_heap_unlogged -|- Snapshot ID = 00000005-000000A9-1\n",
      "2025-09-22T00:45:51.074 +02:00 -|- FastTransfer -|- PG16_to_PG17_60M_rowsx16_columns -|- DEBUG -|- tpch.tpch_10.lineitem_heap_unlogged -|- Query to Retrieve Max CTID = BEGIN TRANSACTION ISOLATION LEVEL REPEATABLE READ READ ONLY;SET TRANSACTION SNAPSHOT '00000005-000000A9-1';SELECT MAX(ctid) maxctid FROM \"tpch_10\".\"lineitem\"\n",
      "2025-09-22T00:45:54.366 +02:00 -|- FastTransfer -|- PG16_to_PG17_60M_rowsx16_columns -|- INFORMATION -|- tpch.tpch_10.lineitem_heap_unlogged -|- Max CTID for table \"tpch_10\".\"lineitem\" @snapshotid=00000005-000000A9-1 = (1214184,49)\n",
      "2025-09-22T00:45:54.367 +02:00 -|- FastTransfer -|- PG16_to_PG17_60M_rowsx16_columns -|- DEBUG -|- tpch.tpch_10.lineitem_heap_unlogged -|- New Query : SELECT * FROM \"tpch_10\".\"lineitem\" WHERE 1 = 1 AND CTID BETWEEN '(0,0)'::tid AND '(75886,0)'::tid\n",
      "2025-09-22T00:45:54.367 +02:00 -|- FastTransfer -|- PG16_to_PG17_60M_rowsx16_columns -|- DEBUG -|- tpch.tpch_10.lineitem_heap_unlogged -|- New Query : SELECT * FROM \"tpch_10\".\"lineitem\" WHERE 1 = 1 AND CTID BETWEEN '(75886,0)'::tid AND '(151772,0)'::tid\n",
      "2025-09-22T00:45:54.367 +02:00 -|- FastTransfer -|- PG16_to_PG17_60M_rowsx16_columns -|- DEBUG -|- tpch.tpch_10.lineitem_heap_unlogged -|- New Query : SELECT * FROM \"tpch_10\".\"lineitem\" WHERE 1 = 1 AND CTID BETWEEN '(379430,0)'::tid AND '(455316,0)'::tid\n",
      "2025-09-22T00:45:54.367 +02:00 -|- FastTransfer -|- PG16_to_PG17_60M_rowsx16_columns -|- DEBUG -|- tpch.tpch_10.lineitem_heap_unlogged -|- New Query : SELECT * FROM \"tpch_10\".\"lineitem\" WHERE 1 = 1 AND CTID BETWEEN '(151772,0)'::tid AND '(227658,0)'::tid\n",
      "2025-09-22T00:45:54.367 +02:00 -|- FastTransfer -|- PG16_to_PG17_60M_rowsx16_columns -|- DEBUG -|- tpch.tpch_10.lineitem_heap_unlogged -|- New Query : SELECT * FROM \"tpch_10\".\"lineitem\" WHERE 1 = 1 AND CTID BETWEEN '(303544,0)'::tid AND '(379430,0)'::tid\n",
      "2025-09-22T00:45:54.367 +02:00 -|- FastTransfer -|- PG16_to_PG17_60M_rowsx16_columns -|- DEBUG -|- tpch.tpch_10.lineitem_heap_unlogged -|- New Query : SELECT * FROM \"tpch_10\".\"lineitem\" WHERE 1 = 1 AND CTID BETWEEN '(227658,0)'::tid AND '(303544,0)'::tid\n",
      "2025-09-22T00:45:54.367 +02:00 -|- FastTransfer -|- PG16_to_PG17_60M_rowsx16_columns -|- DEBUG -|- tpch.tpch_10.lineitem_heap_unlogged -|- New Query : SELECT * FROM \"tpch_10\".\"lineitem\" WHERE 1 = 1 AND CTID BETWEEN '(455316,0)'::tid AND '(531202,0)'::tid\n",
      "2025-09-22T00:45:54.367 +02:00 -|- FastTransfer -|- PG16_to_PG17_60M_rowsx16_columns -|- DEBUG -|- tpch.tpch_10.lineitem_heap_unlogged -|- New Query : SELECT * FROM \"tpch_10\".\"lineitem\" WHERE 1 = 1 AND CTID BETWEEN '(531202,0)'::tid AND '(607088,0)'::tid\n",
      "2025-09-22T00:45:54.367 +02:00 -|- FastTransfer -|- PG16_to_PG17_60M_rowsx16_columns -|- DEBUG -|- tpch.tpch_10.lineitem_heap_unlogged -|- New Query : SELECT * FROM \"tpch_10\".\"lineitem\" WHERE 1 = 1 AND CTID BETWEEN '(607088,0)'::tid AND '(682974,0)'::tid\n",
      "2025-09-22T00:45:54.368 +02:00 -|- FastTransfer -|- PG16_to_PG17_60M_rowsx16_columns -|- DEBUG -|- tpch.tpch_10.lineitem_heap_unlogged -|- New Query : SELECT * FROM \"tpch_10\".\"lineitem\" WHERE 1 = 1 AND CTID BETWEEN '(682974,0)'::tid AND '(758860,0)'::tid\n",
      "2025-09-22T00:45:54.368 +02:00 -|- FastTransfer -|- PG16_to_PG17_60M_rowsx16_columns -|- DEBUG -|- tpch.tpch_10.lineitem_heap_unlogged -|- New Query : SELECT * FROM \"tpch_10\".\"lineitem\" WHERE 1 = 1 AND CTID BETWEEN '(758860,0)'::tid AND '(834746,0)'::tid\n",
      "2025-09-22T00:45:54.368 +02:00 -|- FastTransfer -|- PG16_to_PG17_60M_rowsx16_columns -|- INFORMATION -|- tpch.tpch_10.lineitem_heap_unlogged -|- Start Loading Data using distribution method Ctid\n",
      "2025-09-22T00:45:54.368 +02:00 -|- FastTransfer -|- PG16_to_PG17_60M_rowsx16_columns -|- DEBUG -|- tpch.tpch_10.lineitem_heap_unlogged -|- New Query : SELECT * FROM \"tpch_10\".\"lineitem\" WHERE 1 = 1 AND CTID BETWEEN '(834746,0)'::tid AND '(910632,0)'::tid\n",
      "2025-09-22T00:45:54.368 +02:00 -|- FastTransfer -|- PG16_to_PG17_60M_rowsx16_columns -|- DEBUG -|- tpch.tpch_10.lineitem_heap_unlogged -|- Query to Export Data = COPY (SELECT * FROM \"tpch_10\".\"lineitem\" WHERE 1 = 1 AND CTID BETWEEN '(0,0)'::tid AND '(75886,0)'::tid) TO STDOUT (FORMAT BINARY)\n",
      "2025-09-22T00:45:54.368 +02:00 -|- FastTransfer -|- PG16_to_PG17_60M_rowsx16_columns -|- DEBUG -|- tpch.tpch_10.lineitem_heap_unlogged -|- Query to Load Data = COPY \"tpch_10\".\"lineitem_heap_unlogged\" FROM STDIN (FORMAT BINARY)\n",
      "2025-09-22T00:45:54.368 +02:00 -|- FastTransfer -|- PG16_to_PG17_60M_rowsx16_columns -|- DEBUG -|- tpch.tpch_10.lineitem_heap_unlogged -|- New Query : SELECT * FROM \"tpch_10\".\"lineitem\" WHERE 1 = 1 AND CTID BETWEEN '(910632,0)'::tid AND '(986518,0)'::tid\n",
      "2025-09-22T00:45:54.368 +02:00 -|- FastTransfer -|- PG16_to_PG17_60M_rowsx16_columns -|- DEBUG -|- tpch.tpch_10.lineitem_heap_unlogged -|- New Query : SELECT * FROM \"tpch_10\".\"lineitem\" WHERE 1 = 1 AND CTID BETWEEN '(986518,0)'::tid AND '(1062404,0)'::tid\n",
      "2025-09-22T00:45:54.369 +02:00 -|- FastTransfer -|- PG16_to_PG17_60M_rowsx16_columns -|- DEBUG -|- tpch.tpch_10.lineitem_heap_unlogged -|- New Query : SELECT * FROM \"tpch_10\".\"lineitem\" WHERE 1 = 1 AND CTID BETWEEN '(1062404,0)'::tid AND '(1138290,0)'::tid\n",
      "2025-09-22T00:45:54.369 +02:00 -|- FastTransfer -|- PG16_to_PG17_60M_rowsx16_columns -|- DEBUG -|- tpch.tpch_10.lineitem_heap_unlogged -|- New Query : SELECT * FROM \"tpch_10\".\"lineitem\" WHERE 1 = 1 AND CTID BETWEEN '(1138290,0)'::tid AND '(2147483647,0)'::tid\n",
      "2025-09-22T00:45:54.450 +02:00 -|- FastTransfer -|- PG16_to_PG17_60M_rowsx16_columns -|- INFORMATION -|- tpch.tpch_10.lineitem_heap_unlogged -|- Start Loading Data using distribution method Ctid\n",
      "2025-09-22T00:45:54.450 +02:00 -|- FastTransfer -|- PG16_to_PG17_60M_rowsx16_columns -|- DEBUG -|- tpch.tpch_10.lineitem_heap_unlogged -|- Query to Export Data = COPY (SELECT * FROM \"tpch_10\".\"lineitem\" WHERE 1 = 1 AND CTID BETWEEN '(379430,0)'::tid AND '(455316,0)'::tid) TO STDOUT (FORMAT BINARY)\n",
      "2025-09-22T00:45:54.450 +02:00 -|- FastTransfer -|- PG16_to_PG17_60M_rowsx16_columns -|- DEBUG -|- tpch.tpch_10.lineitem_heap_unlogged -|- Query to Load Data = COPY \"tpch_10\".\"lineitem_heap_unlogged\" FROM STDIN (FORMAT BINARY)\n",
      "2025-09-22T00:45:54.474 +02:00 -|- FastTransfer -|- PG16_to_PG17_60M_rowsx16_columns -|- INFORMATION -|- tpch.tpch_10.lineitem_heap_unlogged -|- Start Loading Data using distribution method Ctid\n",
      "2025-09-22T00:45:54.474 +02:00 -|- FastTransfer -|- PG16_to_PG17_60M_rowsx16_columns -|- DEBUG -|- tpch.tpch_10.lineitem_heap_unlogged -|- Query to Export Data = COPY (SELECT * FROM \"tpch_10\".\"lineitem\" WHERE 1 = 1 AND CTID BETWEEN '(607088,0)'::tid AND '(682974,0)'::tid) TO STDOUT (FORMAT BINARY)\n",
      "2025-09-22T00:45:54.474 +02:00 -|- FastTransfer -|- PG16_to_PG17_60M_rowsx16_columns -|- DEBUG -|- tpch.tpch_10.lineitem_heap_unlogged -|- Query to Load Data = COPY \"tpch_10\".\"lineitem_heap_unlogged\" FROM STDIN (FORMAT BINARY)\n",
      "2025-09-22T00:45:54.479 +02:00 -|- FastTransfer -|- PG16_to_PG17_60M_rowsx16_columns -|- INFORMATION -|- tpch.tpch_10.lineitem_heap_unlogged -|- Start Loading Data using distribution method Ctid\n",
      "2025-09-22T00:45:54.479 +02:00 -|- FastTransfer -|- PG16_to_PG17_60M_rowsx16_columns -|- DEBUG -|- tpch.tpch_10.lineitem_heap_unlogged -|- Query to Export Data = COPY (SELECT * FROM \"tpch_10\".\"lineitem\" WHERE 1 = 1 AND CTID BETWEEN '(682974,0)'::tid AND '(758860,0)'::tid) TO STDOUT (FORMAT BINARY)\n",
      "2025-09-22T00:45:54.479 +02:00 -|- FastTransfer -|- PG16_to_PG17_60M_rowsx16_columns -|- DEBUG -|- tpch.tpch_10.lineitem_heap_unlogged -|- Query to Load Data = COPY \"tpch_10\".\"lineitem_heap_unlogged\" FROM STDIN (FORMAT BINARY)\n",
      "2025-09-22T00:45:54.492 +02:00 -|- FastTransfer -|- PG16_to_PG17_60M_rowsx16_columns -|- INFORMATION -|- tpch.tpch_10.lineitem_heap_unlogged -|- Start Loading Data using distribution method Ctid\n",
      "2025-09-22T00:45:54.492 +02:00 -|- FastTransfer -|- PG16_to_PG17_60M_rowsx16_columns -|- DEBUG -|- tpch.tpch_10.lineitem_heap_unlogged -|- Query to Export Data = COPY (SELECT * FROM \"tpch_10\".\"lineitem\" WHERE 1 = 1 AND CTID BETWEEN '(75886,0)'::tid AND '(151772,0)'::tid) TO STDOUT (FORMAT BINARY)\n",
      "2025-09-22T00:45:54.493 +02:00 -|- FastTransfer -|- PG16_to_PG17_60M_rowsx16_columns -|- DEBUG -|- tpch.tpch_10.lineitem_heap_unlogged -|- Query to Load Data = COPY \"tpch_10\".\"lineitem_heap_unlogged\" FROM STDIN (FORMAT BINARY)\n",
      "2025-09-22T00:45:54.493 +02:00 -|- FastTransfer -|- PG16_to_PG17_60M_rowsx16_columns -|- INFORMATION -|- tpch.tpch_10.lineitem_heap_unlogged -|- Start Loading Data using distribution method Ctid\n",
      "2025-09-22T00:45:54.493 +02:00 -|- FastTransfer -|- PG16_to_PG17_60M_rowsx16_columns -|- DEBUG -|- tpch.tpch_10.lineitem_heap_unlogged -|- Query to Export Data = COPY (SELECT * FROM \"tpch_10\".\"lineitem\" WHERE 1 = 1 AND CTID BETWEEN '(834746,0)'::tid AND '(910632,0)'::tid) TO STDOUT (FORMAT BINARY)\n",
      "2025-09-22T00:45:54.493 +02:00 -|- FastTransfer -|- PG16_to_PG17_60M_rowsx16_columns -|- DEBUG -|- tpch.tpch_10.lineitem_heap_unlogged -|- Query to Load Data = COPY \"tpch_10\".\"lineitem_heap_unlogged\" FROM STDIN (FORMAT BINARY)\n",
      "2025-09-22T00:45:54.496 +02:00 -|- FastTransfer -|- PG16_to_PG17_60M_rowsx16_columns -|- INFORMATION -|- tpch.tpch_10.lineitem_heap_unlogged -|- Start Loading Data using distribution method Ctid\n",
      "2025-09-22T00:45:54.496 +02:00 -|- FastTransfer -|- PG16_to_PG17_60M_rowsx16_columns -|- DEBUG -|- tpch.tpch_10.lineitem_heap_unlogged -|- Query to Export Data = COPY (SELECT * FROM \"tpch_10\".\"lineitem\" WHERE 1 = 1 AND CTID BETWEEN '(758860,0)'::tid AND '(834746,0)'::tid) TO STDOUT (FORMAT BINARY)\n",
      "2025-09-22T00:45:54.496 +02:00 -|- FastTransfer -|- PG16_to_PG17_60M_rowsx16_columns -|- DEBUG -|- tpch.tpch_10.lineitem_heap_unlogged -|- Query to Load Data = COPY \"tpch_10\".\"lineitem_heap_unlogged\" FROM STDIN (FORMAT BINARY)\n",
      "2025-09-22T00:45:54.500 +02:00 -|- FastTransfer -|- PG16_to_PG17_60M_rowsx16_columns -|- INFORMATION -|- tpch.tpch_10.lineitem_heap_unlogged -|- Start Loading Data using distribution method Ctid\n",
      "2025-09-22T00:45:54.500 +02:00 -|- FastTransfer -|- PG16_to_PG17_60M_rowsx16_columns -|- DEBUG -|- tpch.tpch_10.lineitem_heap_unlogged -|- Query to Export Data = COPY (SELECT * FROM \"tpch_10\".\"lineitem\" WHERE 1 = 1 AND CTID BETWEEN '(531202,0)'::tid AND '(607088,0)'::tid) TO STDOUT (FORMAT BINARY)\n",
      "2025-09-22T00:45:54.500 +02:00 -|- FastTransfer -|- PG16_to_PG17_60M_rowsx16_columns -|- DEBUG -|- tpch.tpch_10.lineitem_heap_unlogged -|- Query to Load Data = COPY \"tpch_10\".\"lineitem_heap_unlogged\" FROM STDIN (FORMAT BINARY)\n",
      "2025-09-22T00:45:54.506 +02:00 -|- FastTransfer -|- PG16_to_PG17_60M_rowsx16_columns -|- INFORMATION -|- tpch.tpch_10.lineitem_heap_unlogged -|- Start Loading Data using distribution method Ctid\n",
      "2025-09-22T00:45:54.506 +02:00 -|- FastTransfer -|- PG16_to_PG17_60M_rowsx16_columns -|- DEBUG -|- tpch.tpch_10.lineitem_heap_unlogged -|- Query to Export Data = COPY (SELECT * FROM \"tpch_10\".\"lineitem\" WHERE 1 = 1 AND CTID BETWEEN '(455316,0)'::tid AND '(531202,0)'::tid) TO STDOUT (FORMAT BINARY)\n",
      "2025-09-22T00:45:54.506 +02:00 -|- FastTransfer -|- PG16_to_PG17_60M_rowsx16_columns -|- DEBUG -|- tpch.tpch_10.lineitem_heap_unlogged -|- Query to Load Data = COPY \"tpch_10\".\"lineitem_heap_unlogged\" FROM STDIN (FORMAT BINARY)\n",
      "2025-09-22T00:45:54.516 +02:00 -|- FastTransfer -|- PG16_to_PG17_60M_rowsx16_columns -|- INFORMATION -|- tpch.tpch_10.lineitem_heap_unlogged -|- Start Loading Data using distribution method Ctid\n",
      "2025-09-22T00:45:54.517 +02:00 -|- FastTransfer -|- PG16_to_PG17_60M_rowsx16_columns -|- DEBUG -|- tpch.tpch_10.lineitem_heap_unlogged -|- Query to Export Data = COPY (SELECT * FROM \"tpch_10\".\"lineitem\" WHERE 1 = 1 AND CTID BETWEEN '(151772,0)'::tid AND '(227658,0)'::tid) TO STDOUT (FORMAT BINARY)\n",
      "2025-09-22T00:45:54.517 +02:00 -|- FastTransfer -|- PG16_to_PG17_60M_rowsx16_columns -|- DEBUG -|- tpch.tpch_10.lineitem_heap_unlogged -|- Query to Load Data = COPY \"tpch_10\".\"lineitem_heap_unlogged\" FROM STDIN (FORMAT BINARY)\n",
      "2025-09-22T00:45:54.523 +02:00 -|- FastTransfer -|- PG16_to_PG17_60M_rowsx16_columns -|- INFORMATION -|- tpch.tpch_10.lineitem_heap_unlogged -|- Start Loading Data using distribution method Ctid\n",
      "2025-09-22T00:45:54.523 +02:00 -|- FastTransfer -|- PG16_to_PG17_60M_rowsx16_columns -|- DEBUG -|- tpch.tpch_10.lineitem_heap_unlogged -|- Query to Export Data = COPY (SELECT * FROM \"tpch_10\".\"lineitem\" WHERE 1 = 1 AND CTID BETWEEN '(227658,0)'::tid AND '(303544,0)'::tid) TO STDOUT (FORMAT BINARY)\n",
      "2025-09-22T00:45:54.523 +02:00 -|- FastTransfer -|- PG16_to_PG17_60M_rowsx16_columns -|- DEBUG -|- tpch.tpch_10.lineitem_heap_unlogged -|- Query to Load Data = COPY \"tpch_10\".\"lineitem_heap_unlogged\" FROM STDIN (FORMAT BINARY)\n",
      "2025-09-22T00:45:54.528 +02:00 -|- FastTransfer -|- PG16_to_PG17_60M_rowsx16_columns -|- INFORMATION -|- tpch.tpch_10.lineitem_heap_unlogged -|- Start Loading Data using distribution method Ctid\n",
      "2025-09-22T00:45:54.528 +02:00 -|- FastTransfer -|- PG16_to_PG17_60M_rowsx16_columns -|- DEBUG -|- tpch.tpch_10.lineitem_heap_unlogged -|- Query to Export Data = COPY (SELECT * FROM \"tpch_10\".\"lineitem\" WHERE 1 = 1 AND CTID BETWEEN '(303544,0)'::tid AND '(379430,0)'::tid) TO STDOUT (FORMAT BINARY)\n",
      "2025-09-22T00:45:54.531 +02:00 -|- FastTransfer -|- PG16_to_PG17_60M_rowsx16_columns -|- DEBUG -|- tpch.tpch_10.lineitem_heap_unlogged -|- Query to Load Data = COPY \"tpch_10\".\"lineitem_heap_unlogged\" FROM STDIN (FORMAT BINARY)\n",
      "2025-09-22T00:45:54.534 +02:00 -|- FastTransfer -|- PG16_to_PG17_60M_rowsx16_columns -|- INFORMATION -|- tpch.tpch_10.lineitem_heap_unlogged -|- Start Loading Data using distribution method Ctid\n",
      "2025-09-22T00:45:54.535 +02:00 -|- FastTransfer -|- PG16_to_PG17_60M_rowsx16_columns -|- DEBUG -|- tpch.tpch_10.lineitem_heap_unlogged -|- Query to Export Data = COPY (SELECT * FROM \"tpch_10\".\"lineitem\" WHERE 1 = 1 AND CTID BETWEEN '(1062404,0)'::tid AND '(1138290,0)'::tid) TO STDOUT (FORMAT BINARY)\n",
      "2025-09-22T00:45:54.535 +02:00 -|- FastTransfer -|- PG16_to_PG17_60M_rowsx16_columns -|- DEBUG -|- tpch.tpch_10.lineitem_heap_unlogged -|- Query to Load Data = COPY \"tpch_10\".\"lineitem_heap_unlogged\" FROM STDIN (FORMAT BINARY)\n",
      "2025-09-22T00:45:54.541 +02:00 -|- FastTransfer -|- PG16_to_PG17_60M_rowsx16_columns -|- INFORMATION -|- tpch.tpch_10.lineitem_heap_unlogged -|- Start Loading Data using distribution method Ctid\n",
      "2025-09-22T00:45:54.541 +02:00 -|- FastTransfer -|- PG16_to_PG17_60M_rowsx16_columns -|- DEBUG -|- tpch.tpch_10.lineitem_heap_unlogged -|- Query to Export Data = COPY (SELECT * FROM \"tpch_10\".\"lineitem\" WHERE 1 = 1 AND CTID BETWEEN '(1138290,0)'::tid AND '(2147483647,0)'::tid) TO STDOUT (FORMAT BINARY)\n",
      "2025-09-22T00:45:54.541 +02:00 -|- FastTransfer -|- PG16_to_PG17_60M_rowsx16_columns -|- DEBUG -|- tpch.tpch_10.lineitem_heap_unlogged -|- Query to Load Data = COPY \"tpch_10\".\"lineitem_heap_unlogged\" FROM STDIN (FORMAT BINARY)\n",
      "2025-09-22T00:45:54.545 +02:00 -|- FastTransfer -|- PG16_to_PG17_60M_rowsx16_columns -|- INFORMATION -|- tpch.tpch_10.lineitem_heap_unlogged -|- Start Loading Data using distribution method Ctid\n",
      "2025-09-22T00:45:54.546 +02:00 -|- FastTransfer -|- PG16_to_PG17_60M_rowsx16_columns -|- DEBUG -|- tpch.tpch_10.lineitem_heap_unlogged -|- Query to Export Data = COPY (SELECT * FROM \"tpch_10\".\"lineitem\" WHERE 1 = 1 AND CTID BETWEEN '(986518,0)'::tid AND '(1062404,0)'::tid) TO STDOUT (FORMAT BINARY)\n",
      "2025-09-22T00:45:54.546 +02:00 -|- FastTransfer -|- PG16_to_PG17_60M_rowsx16_columns -|- DEBUG -|- tpch.tpch_10.lineitem_heap_unlogged -|- Query to Load Data = COPY \"tpch_10\".\"lineitem_heap_unlogged\" FROM STDIN (FORMAT BINARY)\n",
      "2025-09-22T00:45:54.546 +02:00 -|- FastTransfer -|- PG16_to_PG17_60M_rowsx16_columns -|- INFORMATION -|- tpch.tpch_10.lineitem_heap_unlogged -|- Start Loading Data using distribution method Ctid\n",
      "2025-09-22T00:45:54.546 +02:00 -|- FastTransfer -|- PG16_to_PG17_60M_rowsx16_columns -|- DEBUG -|- tpch.tpch_10.lineitem_heap_unlogged -|- Query to Export Data = COPY (SELECT * FROM \"tpch_10\".\"lineitem\" WHERE 1 = 1 AND CTID BETWEEN '(910632,0)'::tid AND '(986518,0)'::tid) TO STDOUT (FORMAT BINARY)\n",
      "2025-09-22T00:45:54.546 +02:00 -|- FastTransfer -|- PG16_to_PG17_60M_rowsx16_columns -|- DEBUG -|- tpch.tpch_10.lineitem_heap_unlogged -|- Query to Load Data = COPY \"tpch_10\".\"lineitem_heap_unlogged\" FROM STDIN (FORMAT BINARY)\n",
      "2025-09-22T00:46:07.330 +02:00 -|- FastTransfer -|- PG16_to_PG17_60M_rowsx16_columns -|- INFORMATION -|- tpch.tpch_10.lineitem_heap_unlogged -|- Completed Load Query 16 for ctid between 1138290 and 2147483647 : 797709252 Bytes in 12961ms with snapshot 00000005-000000A9-1\n",
      "2025-09-22T00:46:07.334 +02:00 -|- FastTransfer -|- PG16_to_PG17_60M_rowsx16_columns -|- INFORMATION -|- tpch.tpch_10.lineitem_heap_unlogged -|- Completed Load Query 11 for ctid between 758860 and 834746 : 797597157 Bytes in 12966ms with snapshot 00000005-000000A9-1\n",
      "2025-09-22T00:46:07.413 +02:00 -|- FastTransfer -|- PG16_to_PG17_60M_rowsx16_columns -|- INFORMATION -|- tpch.tpch_10.lineitem_heap_unlogged -|- Completed Load Query 9 for ctid between 607088 and 682974 : 797625364 Bytes in 13045ms with snapshot 00000005-000000A9-1\n",
      "2025-09-22T00:46:07.422 +02:00 -|- FastTransfer -|- PG16_to_PG17_60M_rowsx16_columns -|- INFORMATION -|- tpch.tpch_10.lineitem_heap_unlogged -|- Completed Load Query 4 for ctid between 227658 and 303544 : 797605570 Bytes in 13055ms with snapshot 00000005-000000A9-1\n",
      "2025-09-22T00:46:07.487 +02:00 -|- FastTransfer -|- PG16_to_PG17_60M_rowsx16_columns -|- INFORMATION -|- tpch.tpch_10.lineitem_heap_unlogged -|- Completed Load Query 6 for ctid between 379430 and 455316 : 797577743 Bytes in 13120ms with snapshot 00000005-000000A9-1\n",
      "2025-09-22T00:46:07.487 +02:00 -|- FastTransfer -|- PG16_to_PG17_60M_rowsx16_columns -|- INFORMATION -|- tpch.tpch_10.lineitem_heap_unlogged -|- Completed Load Query 10 for ctid between 682974 and 758860 : 797597362 Bytes in 13120ms with snapshot 00000005-000000A9-1\n",
      "2025-09-22T00:46:07.510 +02:00 -|- FastTransfer -|- PG16_to_PG17_60M_rowsx16_columns -|- INFORMATION -|- tpch.tpch_10.lineitem_heap_unlogged -|- Completed Load Query 2 for ctid between 75886 and 151772 : 797576467 Bytes in 13142ms with snapshot 00000005-000000A9-1\n",
      "2025-09-22T00:46:07.528 +02:00 -|- FastTransfer -|- PG16_to_PG17_60M_rowsx16_columns -|- INFORMATION -|- tpch.tpch_10.lineitem_heap_unlogged -|- Completed Load Query 12 for ctid between 834746 and 910632 : 797647869 Bytes in 13160ms with snapshot 00000005-000000A9-1\n",
      "2025-09-22T00:46:07.535 +02:00 -|- FastTransfer -|- PG16_to_PG17_60M_rowsx16_columns -|- INFORMATION -|- tpch.tpch_10.lineitem_heap_unlogged -|- Completed Load Query 7 for ctid between 455316 and 531202 : 797603093 Bytes in 13167ms with snapshot 00000005-000000A9-1\n",
      "2025-09-22T00:46:07.609 +02:00 -|- FastTransfer -|- PG16_to_PG17_60M_rowsx16_columns -|- INFORMATION -|- tpch.tpch_10.lineitem_heap_unlogged -|- Completed Load Query 15 for ctid between 1062404 and 1138290 : 797624021 Bytes in 13240ms with snapshot 00000005-000000A9-1\n",
      "2025-09-22T00:46:07.612 +02:00 -|- FastTransfer -|- PG16_to_PG17_60M_rowsx16_columns -|- INFORMATION -|- tpch.tpch_10.lineitem_heap_unlogged -|- Completed Load Query 13 for ctid between 910632 and 986518 : 797604956 Bytes in 13244ms with snapshot 00000005-000000A9-1\n",
      "2025-09-22T00:46:07.625 +02:00 -|- FastTransfer -|- PG16_to_PG17_60M_rowsx16_columns -|- INFORMATION -|- tpch.tpch_10.lineitem_heap_unlogged -|- Completed Load Query 3 for ctid between 151772 and 227658 : 797552846 Bytes in 13258ms with snapshot 00000005-000000A9-1\n",
      "2025-09-22T00:46:07.645 +02:00 -|- FastTransfer -|- PG16_to_PG17_60M_rowsx16_columns -|- INFORMATION -|- tpch.tpch_10.lineitem_heap_unlogged -|- Completed Load Query 5 for ctid between 303544 and 379430 : 797585217 Bytes in 13277ms with snapshot 00000005-000000A9-1\n",
      "2025-09-22T00:46:07.652 +02:00 -|- FastTransfer -|- PG16_to_PG17_60M_rowsx16_columns -|- INFORMATION -|- tpch.tpch_10.lineitem_heap_unlogged -|- Completed Load Query 14 for ctid between 986518 and 1062404 : 797614316 Bytes in 13284ms with snapshot 00000005-000000A9-1\n",
      "2025-09-22T00:46:07.804 +02:00 -|- FastTransfer -|- PG16_to_PG17_60M_rowsx16_columns -|- INFORMATION -|- tpch.tpch_10.lineitem_heap_unlogged -|- Completed Load Query 1 for ctid between 0 and 75886 : 797585779 Bytes in 13436ms with snapshot 00000005-000000A9-1\n",
      "2025-09-22T00:46:07.917 +02:00 -|- FastTransfer -|- PG16_to_PG17_60M_rowsx16_columns -|- INFORMATION -|- tpch.tpch_10.lineitem_heap_unlogged -|- Completed Load Query 8 for ctid between 531202 and 607088 : 797612434 Bytes in 13549ms with snapshot 00000005-000000A9-1\n",
      "2025-09-22T00:46:07.921 +02:00 -|- FastTransfer -|- PG16_to_PG17_60M_rowsx16_columns -|- INFORMATION -|- tpch.tpch_10.lineitem_heap_unlogged -|- Total size : 12761719446 Bytes\n",
      "2025-09-22T00:46:07.921 +02:00 -|- FastTransfer -|- PG16_to_PG17_60M_rowsx16_columns -|- INFORMATION -|- tpch.tpch_10.lineitem_heap_unlogged -|- Throughput : 757461535 Bytes/s\n",
      "2025-09-22T00:46:07.921 +02:00 -|- FastTransfer -|- PG16_to_PG17_60M_rowsx16_columns -|- INFORMATION -|- tpch.tpch_10.lineitem_heap_unlogged -|- Transfert time : Elapsed=16850 ms\n",
      "2025-09-22T00:46:07.921 +02:00 -|- FastTransfer -|- PG16_to_PG17_60M_rowsx16_columns -|- INFORMATION -|- tpch.tpch_10.lineitem_heap_unlogged -|- Total time : Elapsed=17152 ms\n",
      "2025-09-22T00:46:07.921 +02:00 -|- FastTransfer -|- PG16_to_PG17_60M_rowsx16_columns -|- INFORMATION -|- tpch.tpch_10.lineitem_heap_unlogged -|- Completed Load\n"
     ]
    }
   ],
   "source": [
    "cd D:\\FastTransfer\n",
    "\n",
    ".\\FastTransfer.exe `\n",
    "--sourceconnectiontype \"pgcopy\" `\n",
    "--sourceserver \"localhost:15432\" `\n",
    "--sourcedatabase \"tpch\" `\n",
    "--sourceuser \"FastUser\" `\n",
    "--sourcepassword \"FastPassword\" `\n",
    "--sourceschema \"tpch_10\" `\n",
    "--sourcetable \"lineitem\" `\n",
    "`\n",
    "--targetconnectiontype \"pgcopy\" `\n",
    "--targetserver \"localhost:25432\" `\n",
    "--targetuser \"FastUser\" `\n",
    "--targetpassword \"FastPassword\" `\n",
    "--targetdatabase \"tpch\" `\n",
    "--targetschema \"tpch_10\" `\n",
    "--targettable \"lineitem_heap_unlogged\" `\n",
    "`\n",
    "--loadmode \"Truncate\" `\n",
    "--mapmethod \"Name\" `\n",
    "--method \"Ctid\" `\n",
    "--degree -2 `\n",
    "--runid \"PG16_to_PG17_60M_rowsx16_columns\""
   ]
  },
  {
   "cell_type": "markdown",
   "id": "ac62e25c",
   "metadata": {
    "polyglot_notebook": {
     "kernelName": "csharp"
    }
   },
   "source": [
    "#### Results with Ctid :\n",
    "\n",
    "| PG16 ==> PG17 (Ctid method) \t\t\t\t| Elapsed Time (seconds)|Cells/sec \t|Parallel Dispatch Method\n",
    "|-----------------------------------------------------------------------|:---------------------:|----------:| :--: |\n",
    "| FastTransfer Load LINEITEM (60M Rows x 16c columns) HEAP Target       | 17.1     \t\t\t|56_140_350    | Ctid |\n",
    "| FastTransfer Load ORDERS   (15M Rows x  9c columns) HEAP Target \t\t| 3.7     \t\t\t\t|36_486_486    | Ctid |\n"
   ]
  },
  {
   "cell_type": "markdown",
   "id": "f7285241",
   "metadata": {},
   "source": [
    "The speed (in cells/sec) is more important with LINEITEM load because the table is bigger and the startup time take a smaller role/space in the total time than it take with ORDERS load."
   ]
  }
 ],
 "metadata": {
  "kernelspec": {
   "display_name": ".NET (C#)",
   "language": "C#",
   "name": ".net-csharp"
  },
  "language_info": {
   "name": "polyglot-notebook"
  },
  "polyglot_notebook": {
   "kernelInfo": {
    "defaultKernelName": "csharp",
    "items": [
     {
      "aliases": [],
      "name": "csharp"
     },
     {
      "aliases": [],
      "languageName": "pwsh",
      "name": "pwsh"
     },
     {
      "aliases": [],
      "languageName": "PostgreSQL",
      "name": "sql-pgsql17"
     },
     {
      "aliases": [],
      "languageName": "T-SQL",
      "name": "sql-SS2025_tpch_test"
     }
    ]
   }
  }
 },
 "nbformat": 4,
 "nbformat_minor": 5
}
