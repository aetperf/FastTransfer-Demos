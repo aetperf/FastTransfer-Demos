{
 "cells": [
  {
   "cell_type": "markdown",
   "id": "ed7e8fc1",
   "metadata": {
    "polyglot_notebook": {
     "kernelName": "pwsh"
    }
   },
   "source": [
    "```\n",
    "███████  █████  ███████ ████████ ████████ ██████   █████  ███    ██ ███████ ███████ ███████ ██████  \n",
    "██      ██   ██ ██         ██       ██    ██   ██ ██   ██ ████   ██ ██      ██      ██      ██   ██ \n",
    "█████   ███████ ███████    ██       ██    ██████  ███████ ██ ██  ██ ███████ █████   █████   ██████  \n",
    "██      ██   ██      ██    ██       ██    ██   ██ ██   ██ ██  ██ ██      ██ ██      ██      ██   ██ \n",
    "██      ██   ██ ███████    ██       ██    ██   ██ ██   ██ ██   ████ ███████ ██      ███████ ██   ██ "
   ]
  },
  {
   "cell_type": "markdown",
   "id": "b5a1077a",
   "metadata": {},
   "source": [
    "# Demo 1 - Source Oracle - Target PGSQL17"
   ]
  },
  {
   "cell_type": "code",
   "execution_count": 1,
   "metadata": {
    "language_info": {
     "name": "polyglot-notebook"
    },
    "polyglot_notebook": {
     "kernelName": "pwsh"
    }
   },
   "outputs": [
    {
     "name": "stdout",
     "output_type": "stream",
     "text": [
      "Tool 'microsoft.dotnet-interactive' is already installed.\r\n"
     ]
    }
   ],
   "source": [
    "dotnet tool install --global Microsoft.dotnet-interactive --version 1.0.632301"
   ]
  },
  {
   "cell_type": "code",
   "execution_count": 2,
   "id": "f79f5dc1",
   "metadata": {
    "polyglot_notebook": {
     "kernelName": "csharp"
    }
   },
   "outputs": [
    {
     "data": {
      "text/html": [
       "<div><div></div><div></div><div><strong>Installed Packages</strong><ul><li><span>Microsoft.DotNet.Interactive.PostgreSQL, 1.0.0-beta.25323.1</span></li></ul></div></div>"
      ]
     },
     "metadata": {},
     "output_type": "display_data"
    },
    {
     "data": {
      "text/plain": [
       "Loading extension script from `C:\\Users\\romai\\.nuget\\packages\\microsoft.dotnet.interactive.postgresql\\1.0.0-beta.25323.1\\interactive-extensions\\dotnet\\extension.dib`"
      ]
     },
     "metadata": {},
     "output_type": "display_data"
    },
    {
     "data": {
      "text/html": [
       "<details><summary>Query PostgreSQL databases.</summary>\r\n",
       "    <p>This extension adds support for connecting to PostgreSql databases using the <code>#!connect postgres</code> magic command.</p>\r\n",
       "    </details>"
      ]
     },
     "metadata": {},
     "output_type": "display_data"
    }
   ],
   "source": [
    "#r \"nuget:Microsoft.DotNet.Interactive.PostgreSQL , *-*\""
   ]
  },
  {
   "cell_type": "markdown",
   "id": "8486177e",
   "metadata": {},
   "source": [
    "## Working on TPCH SF10 ORDERS (15M rows)"
   ]
  },
  {
   "cell_type": "markdown",
   "id": "c2950409",
   "metadata": {},
   "source": [
    "### PGSQL 16 to PG 17"
   ]
  },
  {
   "cell_type": "code",
   "execution_count": 3,
   "id": "a6099083",
   "metadata": {
    "polyglot_notebook": {
     "kernelName": "csharp"
    }
   },
   "outputs": [
    {
     "data": {
      "text/plain": [
       "Kernel added: #!sql-pgsql17"
      ]
     },
     "metadata": {},
     "output_type": "display_data"
    }
   ],
   "source": [
    "// Connect to PostgreSQL target database\n",
    "#!connect postgres \"Host=localhost;Port=25432;Database=tpch;Username=FastUser;Password=FastPassword\" --kernel-name pgsql17"
   ]
  },
  {
   "cell_type": "markdown",
   "id": "9838fd82",
   "metadata": {},
   "source": [
    "#### Target orders_3 with a clustered ColumnStoreIndex"
   ]
  },
  {
   "cell_type": "code",
   "execution_count": 4,
   "id": "d1094a0b",
   "metadata": {
    "language_info": {
     "name": "polyglot-notebook"
    },
    "polyglot_notebook": {
     "kernelName": "sql-pgsql17"
    }
   },
   "outputs": [
    {
     "data": {
      "text/csv": [
       "count_target_table_rows\r\n",
       "0\r\n"
      ],
      "text/html": [
       "<table><thead><tr><td><span>count_target_table_rows</span></td></tr></thead><tbody><tr><td><div class=\"dni-plaintext\"><pre>0</pre></div></td></tr></tbody></table><style>\r\n",
       ".dni-code-hint {\r\n",
       "    font-style: italic;\r\n",
       "    overflow: hidden;\r\n",
       "    white-space: nowrap;\r\n",
       "}\r\n",
       ".dni-treeview {\r\n",
       "    white-space: nowrap;\r\n",
       "}\r\n",
       ".dni-treeview td {\r\n",
       "    vertical-align: top;\r\n",
       "    text-align: start;\r\n",
       "}\r\n",
       "details.dni-treeview {\r\n",
       "    padding-left: 1em;\r\n",
       "}\r\n",
       "table td {\r\n",
       "    text-align: start;\r\n",
       "}\r\n",
       "table tr { \r\n",
       "    vertical-align: top; \r\n",
       "    margin: 0em 0px;\r\n",
       "}\r\n",
       "table tr td pre \r\n",
       "{ \r\n",
       "    vertical-align: top !important; \r\n",
       "    margin: 0em 0px !important;\r\n",
       "} \r\n",
       "table th {\r\n",
       "    text-align: start;\r\n",
       "}\r\n",
       "</style>"
      ]
     },
     "metadata": {},
     "output_type": "display_data"
    }
   ],
   "source": [
    "TRUNCATE TABLE tpch_10.orders;\n",
    "SELECT count(*) count_target_table_rows from tpch_10.orders;\n",
    "\n",
    "ALTER TABLE tpch_10.orders SET UNLOGGED;"
   ]
  },
  {
   "cell_type": "markdown",
   "id": "fc721e5c",
   "metadata": {},
   "source": [
    "### Describe Oracle Source Table\n",
    "```"
   ]
  },
  {
   "cell_type": "code",
   "execution_count": 5,
   "metadata": {
    "language_info": {
     "name": "polyglot-notebook"
    },
    "polyglot_notebook": {
     "kernelName": "pwsh"
    }
   },
   "outputs": [
    {
     "name": "stdout",
     "output_type": "stream",
     "text": [
      " Nom\t\t\t\t\t   NULL ?   Type\n",
      " ----------------------------------------- -------- ----------------------------\n",
      " O_ORDERKEY\t\t\t\t   NOT NULL NUMBER(38)\n",
      " O_CUSTKEY\t\t\t\t   NOT NULL NUMBER(19)\n",
      " O_ORDERSTATUS\t\t\t\t\t    CHAR(1)\n",
      " O_TOTALPRICE\t\t\t\t\t    NUMBER(19,3)\n",
      " O_ORDERDATE\t\t\t\t\t    DATE\n",
      " O_ORDERPRIORITY\t\t\t\t    CHAR(15)\n",
      " O_CLERK\t\t\t\t\t    CHAR(15)\n",
      " O_SHIPPRIORITY \t\t\t\t    NUMBER(38)\n",
      " O_COMMENT\t\t\t\t\t    VARCHAR2(79)\n",
      "\n"
     ]
    }
   ],
   "source": [
    "echo 'DESC tpch_in.orders_flat;' | sqlplus -S TPCH_IN/TPCH_IN@//localhost:1521/ORCLPDB"
   ]
  },
  {
   "cell_type": "markdown",
   "id": "9c51f2be",
   "metadata": {},
   "source": [
    "## Test with Method RowId (oracle source only)"
   ]
  },
  {
   "cell_type": "markdown",
   "id": "84121c68",
   "metadata": {},
   "source": [
    "In Oracle, a ROWID is a unique physical address identifying a row’s exact storage location.\n",
    "\n",
    "You can SELECT it and even filter data using this hidden column. FastTransfer use the RowId column to select data by chunck on oracle source."
   ]
  },
  {
   "cell_type": "code",
   "execution_count": 6,
   "id": "6f2f4100",
   "metadata": {
    "polyglot_notebook": {
     "kernelName": "pwsh"
    }
   },
   "outputs": [
    {
     "name": "stdout",
     "output_type": "stream",
     "text": [
      "2025-09-24T12:00:30.094 +02:00 -|- FastTransfer -|- ORA21_to_PG17 -|- INFORMATION -|- tpch.tpch_10.orders -|- FastTransfer - running in trial mode – will expires on 2025‑10‑20 (25 day(s) left).\n",
      "2025-09-24T12:00:30.103 +02:00 -|- FastTransfer -|- ORA21_to_PG17 -|- INFORMATION -|- tpch.tpch_10.orders -|- Starting\n",
      "2025-09-24T12:00:30.103 +02:00 -|- FastTransfer -|- ORA21_to_PG17 -|- INFORMATION -|- tpch.tpch_10.orders -|- FastTransfer Version : 0.13.10.0 Architecture : X64 - Framework : .NET 8.0.19\n",
      "2025-09-24T12:00:30.103 +02:00 -|- FastTransfer -|- ORA21_to_PG17 -|- INFORMATION -|- tpch.tpch_10.orders -|- OS : Microsoft Windows 10.0.26100\n",
      "2025-09-24T12:00:30.104 +02:00 -|- FastTransfer -|- ORA21_to_PG17 -|- INFORMATION -|- tpch.tpch_10.orders -|- Process ID : 49052\n",
      "2025-09-24T12:00:30.104 +02:00 -|- FastTransfer -|- ORA21_to_PG17 -|- INFORMATION -|- tpch.tpch_10.orders -|- Provided Run ID : ORA21_to_PG17\n",
      "2025-09-24T12:00:30.104 +02:00 -|- FastTransfer -|- ORA21_to_PG17 -|- INFORMATION -|- tpch.tpch_10.orders -|- Source Connection Type : oraodp\n",
      "2025-09-24T12:00:30.104 +02:00 -|- FastTransfer -|- ORA21_to_PG17 -|- INFORMATION -|- tpch.tpch_10.orders -|- Source SqlInstance : localhost:1521/ORCLPDB\n",
      "2025-09-24T12:00:30.104 +02:00 -|- FastTransfer -|- ORA21_to_PG17 -|- INFORMATION -|- tpch.tpch_10.orders -|- Source Database : ORCLPDB\n",
      "2025-09-24T12:00:30.104 +02:00 -|- FastTransfer -|- ORA21_to_PG17 -|- INFORMATION -|- tpch.tpch_10.orders -|- Source Trusted Connection : False\n",
      "2025-09-24T12:00:30.104 +02:00 -|- FastTransfer -|- ORA21_to_PG17 -|- INFORMATION -|- tpch.tpch_10.orders -|- Source User : TPCH_IN\n",
      "2025-09-24T12:00:30.104 +02:00 -|- FastTransfer -|- ORA21_to_PG17 -|- INFORMATION -|- tpch.tpch_10.orders -|- Source Schema : TPCH_IN\n",
      "2025-09-24T12:00:30.104 +02:00 -|- FastTransfer -|- ORA21_to_PG17 -|- INFORMATION -|- tpch.tpch_10.orders -|- Source Table : ORDERS_FLAT\n",
      "2025-09-24T12:00:30.104 +02:00 -|- FastTransfer -|- ORA21_to_PG17 -|- INFORMATION -|- tpch.tpch_10.orders -|- Target Type : pgcopy\n",
      "2025-09-24T12:00:30.104 +02:00 -|- FastTransfer -|- ORA21_to_PG17 -|- INFORMATION -|- tpch.tpch_10.orders -|- Target Server : localhost:25432\n",
      "2025-09-24T12:00:30.104 +02:00 -|- FastTransfer -|- ORA21_to_PG17 -|- INFORMATION -|- tpch.tpch_10.orders -|- Target Database : tpch\n",
      "2025-09-24T12:00:30.104 +02:00 -|- FastTransfer -|- ORA21_to_PG17 -|- INFORMATION -|- tpch.tpch_10.orders -|- Target Schema : tpch_10\n",
      "2025-09-24T12:00:30.104 +02:00 -|- FastTransfer -|- ORA21_to_PG17 -|- INFORMATION -|- tpch.tpch_10.orders -|- Target Table : orders\n",
      "2025-09-24T12:00:30.104 +02:00 -|- FastTransfer -|- ORA21_to_PG17 -|- INFORMATION -|- tpch.tpch_10.orders -|- Target Trusted Connection : False\n",
      "2025-09-24T12:00:30.104 +02:00 -|- FastTransfer -|- ORA21_to_PG17 -|- INFORMATION -|- tpch.tpch_10.orders -|- Target User : FastUser\n",
      "2025-09-24T12:00:30.104 +02:00 -|- FastTransfer -|- ORA21_to_PG17 -|- INFORMATION -|- tpch.tpch_10.orders -|- Columns Map Method : Name\n",
      "2025-09-24T12:00:30.104 +02:00 -|- FastTransfer -|- ORA21_to_PG17 -|- INFORMATION -|- tpch.tpch_10.orders -|- Degree : -2\n",
      "2025-09-24T12:00:30.104 +02:00 -|- FastTransfer -|- ORA21_to_PG17 -|- INFORMATION -|- tpch.tpch_10.orders -|- Distribute Method : Rowid\n",
      "2025-09-24T12:00:30.105 +02:00 -|- FastTransfer -|- ORA21_to_PG17 -|- INFORMATION -|- tpch.tpch_10.orders -|- Bulkcopy Batch Size : 1048576\n",
      "2025-09-24T12:00:30.105 +02:00 -|- FastTransfer -|- ORA21_to_PG17 -|- INFORMATION -|- tpch.tpch_10.orders -|- Load Mode : Truncate\n",
      "2025-09-24T12:00:30.105 +02:00 -|- FastTransfer -|- ORA21_to_PG17 -|- INFORMATION -|- tpch.tpch_10.orders -|- Use Work Tables : False\n",
      "2025-09-24T12:00:30.105 +02:00 -|- FastTransfer -|- ORA21_to_PG17 -|- INFORMATION -|- tpch.tpch_10.orders -|- Encoding used : Unicode (UTF-8) - 65001 - utf-8\n",
      "2025-09-24T12:00:30.321 +02:00 -|- FastTransfer -|- ORA21_to_PG17 -|- INFORMATION -|- tpch.tpch_10.orders -|- Source Connection String : USER ID=TPCH_IN;PASSWORD=xxxxx;DATA SOURCE=localhost:1521/ORCLPDB;POOLING=False;CONNECTION TIMEOUT=120\n",
      "2025-09-24T12:00:30.321 +02:00 -|- FastTransfer -|- ORA21_to_PG17 -|- INFORMATION -|- tpch.tpch_10.orders -|- Target Connection String : Host=localhost;Port=25432;Database=tpch;Trust Server Certificate=True;Application Name=FastTransfer;Timeout=15;Command Timeout=10800;Username=FastUser;Password=xxxxx\n",
      "2025-09-24T12:00:30.321 +02:00 -|- FastTransfer -|- ORA21_to_PG17 -|- INFORMATION -|- tpch.tpch_10.orders -|- Source Database Version : Oracle Database 21c Enterprise Edition Release 21.0.0.0.0 - Production\n",
      "2025-09-24T12:00:30.321 +02:00 -|- FastTransfer -|- ORA21_to_PG17 -|- INFORMATION -|- tpch.tpch_10.orders -|- Target Database Version : PostgreSQL 17.2 on x86_64-windows, compiled by msvc-19.42.34435, 64-bit\n",
      "2025-09-24T12:00:30.359 +02:00 -|- FastTransfer -|- ORA21_to_PG17 -|- INFORMATION -|- tpch.tpch_10.orders -|- Degree of parallelism was computed to 16 (=> 32\\2)\n",
      "2025-09-24T12:00:33.059 +02:00 -|- FastTransfer -|- ORA21_to_PG17 -|- INFORMATION -|- tpch.tpch_10.orders -|- Start Loading Data using distribution method Rowid\n",
      "2025-09-24T12:00:33.108 +02:00 -|- FastTransfer -|- ORA21_to_PG17 -|- INFORMATION -|- tpch.tpch_10.orders -|- Start Loading Data using distribution method Rowid\n",
      "2025-09-24T12:00:33.138 +02:00 -|- FastTransfer -|- ORA21_to_PG17 -|- INFORMATION -|- tpch.tpch_10.orders -|- Start Loading Data using distribution method Rowid\n",
      "2025-09-24T12:00:33.173 +02:00 -|- FastTransfer -|- ORA21_to_PG17 -|- INFORMATION -|- tpch.tpch_10.orders -|- Start Loading Data using distribution method Rowid\n",
      "2025-09-24T12:00:33.218 +02:00 -|- FastTransfer -|- ORA21_to_PG17 -|- INFORMATION -|- tpch.tpch_10.orders -|- Start Loading Data using distribution method Rowid\n",
      "2025-09-24T12:00:33.253 +02:00 -|- FastTransfer -|- ORA21_to_PG17 -|- INFORMATION -|- tpch.tpch_10.orders -|- Start Loading Data using distribution method Rowid\n",
      "2025-09-24T12:00:33.289 +02:00 -|- FastTransfer -|- ORA21_to_PG17 -|- INFORMATION -|- tpch.tpch_10.orders -|- Start Loading Data using distribution method Rowid\n",
      "2025-09-24T12:00:33.324 +02:00 -|- FastTransfer -|- ORA21_to_PG17 -|- INFORMATION -|- tpch.tpch_10.orders -|- Start Loading Data using distribution method Rowid\n",
      "2025-09-24T12:00:33.360 +02:00 -|- FastTransfer -|- ORA21_to_PG17 -|- INFORMATION -|- tpch.tpch_10.orders -|- Start Loading Data using distribution method Rowid\n",
      "2025-09-24T12:00:33.392 +02:00 -|- FastTransfer -|- ORA21_to_PG17 -|- INFORMATION -|- tpch.tpch_10.orders -|- Start Loading Data using distribution method Rowid\n",
      "2025-09-24T12:00:33.427 +02:00 -|- FastTransfer -|- ORA21_to_PG17 -|- INFORMATION -|- tpch.tpch_10.orders -|- Start Loading Data using distribution method Rowid\n",
      "2025-09-24T12:00:33.455 +02:00 -|- FastTransfer -|- ORA21_to_PG17 -|- INFORMATION -|- tpch.tpch_10.orders -|- Start Loading Data using distribution method Rowid\n",
      "2025-09-24T12:00:33.485 +02:00 -|- FastTransfer -|- ORA21_to_PG17 -|- INFORMATION -|- tpch.tpch_10.orders -|- Start Loading Data using distribution method Rowid\n",
      "2025-09-24T12:00:33.510 +02:00 -|- FastTransfer -|- ORA21_to_PG17 -|- INFORMATION -|- tpch.tpch_10.orders -|- Start Loading Data using distribution method Rowid\n",
      "2025-09-24T12:00:33.543 +02:00 -|- FastTransfer -|- ORA21_to_PG17 -|- INFORMATION -|- tpch.tpch_10.orders -|- Start Loading Data using distribution method Rowid\n",
      "2025-09-24T12:00:33.688 +02:00 -|- FastTransfer -|- ORA21_to_PG17 -|- INFORMATION -|- tpch.tpch_10.orders -|- Start Loading Data using distribution method Rowid\n",
      "2025-09-24T12:00:33.736 +02:00 -|- FastTransfer -|- ORA21_to_PG17 -|- INFORMATION -|- tpch.tpch_10.orders -|- Start Loading Data using distribution method Rowid\n",
      "2025-09-24T12:00:40.837 +02:00 -|- FastTransfer -|- ORA21_to_PG17 -|- INFORMATION -|- tpch.tpch_10.orders -|- Completed Load Query 5 for rowid between AAAS+UAAMAADD6AAAA and AAAS+UAAMAADF3/H// : 499451 rows x 9 columns in 7817ms\n",
      "2025-09-24T12:00:42.068 +02:00 -|- FastTransfer -|- ORA21_to_PG17 -|- INFORMATION -|- tpch.tpch_10.orders -|- Completed Load Query 16 for rowid between AAAS+UAANAAAkyAAAA and AAAS+UAANAAAnSHH// : 633936 rows x 9 columns in 9047ms\n",
      "2025-09-24T12:00:43.064 +02:00 -|- FastTransfer -|- ORA21_to_PG17 -|- INFORMATION -|- tpch.tpch_10.orders -|- Completed Load Query 3 for rowid between AAAS+UAAMAABx8AAAA and AAAS+UAAMAAC/3/H// : 743256 rows x 9 columns in 10043ms\n",
      "2025-09-24T12:00:43.893 +02:00 -|- FastTransfer -|- ORA21_to_PG17 -|- INFORMATION -|- tpch.tpch_10.orders -|- Completed Load Query 14 for rowid between AAAS+UAANAAAdiAAAA and AAAS+UAANAAAgx/H// : 823618 rows x 9 columns in 10873ms\n",
      "2025-09-24T12:00:44.306 +02:00 -|- FastTransfer -|- ORA21_to_PG17 -|- INFORMATION -|- tpch.tpch_10.orders -|- Completed Load Query 11 for rowid between AAAS+UAANAAASiAAAA and AAAS+UAANAAAWB/H// : 885525 rows x 9 columns in 11286ms\n",
      "2025-09-24T12:00:44.429 +02:00 -|- FastTransfer -|- ORA21_to_PG17 -|- INFORMATION -|- tpch.tpch_10.orders -|- Completed Load Query 6 for rowid between AAAS+UAANAAAACAAAA and AAAS+UAANAAADh/H// : 880912 rows x 9 columns in 11408ms\n",
      "2025-09-24T12:00:44.744 +02:00 -|- FastTransfer -|- ORA21_to_PG17 -|- INFORMATION -|- tpch.tpch_10.orders -|- Completed Load Query 1 for rowid between AAAS+UAAMAABRKAAAA and AAAS+UAAMAABYb/H// : 935604 rows x 9 columns in 11724ms\n",
      "2025-09-24T12:00:44.745 +02:00 -|- FastTransfer -|- ORA21_to_PG17 -|- INFORMATION -|- tpch.tpch_10.orders -|- Completed Load Query 0 for rowid between AAAS+UAAMAABK8AAAA and AAAS+UAAMAABRJ/H// : 935700 rows x 9 columns in 11724ms\n",
      "2025-09-24T12:00:44.767 +02:00 -|- FastTransfer -|- ORA21_to_PG17 -|- INFORMATION -|- tpch.tpch_10.orders -|- Completed Load Query 13 for rowid between AAAS+UAANAAAZyAAAA and AAAS+UAANAAAdh/H// : 948708 rows x 9 columns in 11746ms\n",
      "2025-09-24T12:00:44.802 +02:00 -|- FastTransfer -|- ORA21_to_PG17 -|- INFORMATION -|- tpch.tpch_10.orders -|- Completed Load Query 9 for rowid between AAAS+UAANAAALCAAAA and AAAS+UAANAAAOx/H// : 948369 rows x 9 columns in 11781ms\n",
      "2025-09-24T12:00:44.832 +02:00 -|- FastTransfer -|- ORA21_to_PG17 -|- INFORMATION -|- tpch.tpch_10.orders -|- Completed Load Query 12 for rowid between AAAS+UAANAAAWCAAAA and AAAS+UAANAAAZx/H// : 948826 rows x 9 columns in 11811ms\n",
      "2025-09-24T12:00:44.858 +02:00 -|- FastTransfer -|- ORA21_to_PG17 -|- INFORMATION -|- tpch.tpch_10.orders -|- Completed Load Query 2 for rowid between AAAS+UAAMAABYcAAAA and AAAS+UAAMAABx7/H// : 941358 rows x 9 columns in 11838ms\n",
      "2025-09-24T12:00:44.872 +02:00 -|- FastTransfer -|- ORA21_to_PG17 -|- INFORMATION -|- tpch.tpch_10.orders -|- Completed Load Query 7 for rowid between AAAS+UAANAAADiAAAA and AAAS+UAANAAAHR/H// : 948359 rows x 9 columns in 11851ms\n",
      "2025-09-24T12:00:44.908 +02:00 -|- FastTransfer -|- ORA21_to_PG17 -|- INFORMATION -|- tpch.tpch_10.orders -|- Completed Load Query 10 for rowid between AAAS+UAANAAAOyAAAA and AAAS+UAANAAASh/H// : 948607 rows x 9 columns in 11888ms\n",
      "2025-09-24T12:00:44.953 +02:00 -|- FastTransfer -|- ORA21_to_PG17 -|- INFORMATION -|- tpch.tpch_10.orders -|- Completed Load Query 8 for rowid between AAAS+UAANAAAHSAAAA and AAAS+UAANAAALB/H// : 948735 rows x 9 columns in 11932ms\n",
      "2025-09-24T12:00:45.143 +02:00 -|- FastTransfer -|- ORA21_to_PG17 -|- INFORMATION -|- tpch.tpch_10.orders -|- Completed Load Query 4 for rowid between AAAS+UAAMAAC/6AAAA and AAAS+UAAMAADD5/H// : 1014594 rows x 9 columns in 12123ms\n",
      "2025-09-24T12:00:45.205 +02:00 -|- FastTransfer -|- ORA21_to_PG17 -|- INFORMATION -|- tpch.tpch_10.orders -|- Completed Load Query 15 for rowid between AAAS+UAANAAAgyAAAA and AAAS+UAANAAAkx/H// : 1014442 rows x 9 columns in 12185ms\n",
      "2025-09-24T12:00:45.206 +02:00 -|- FastTransfer -|- ORA21_to_PG17 -|- INFORMATION -|- tpch.tpch_10.orders -|- Total rows : 15000000\n",
      "2025-09-24T12:00:45.206 +02:00 -|- FastTransfer -|- ORA21_to_PG17 -|- INFORMATION -|- tpch.tpch_10.orders -|- Total columns : 9\n",
      "2025-09-24T12:00:45.206 +02:00 -|- FastTransfer -|- ORA21_to_PG17 -|- INFORMATION -|- tpch.tpch_10.orders -|- Total cells : 135000000\n",
      "2025-09-24T12:00:45.206 +02:00 -|- FastTransfer -|- ORA21_to_PG17 -|- INFORMATION -|- tpch.tpch_10.orders -|- Rows Throughput : 1010317 rows/s\n",
      "2025-09-24T12:00:45.206 +02:00 -|- FastTransfer -|- ORA21_to_PG17 -|- INFORMATION -|- tpch.tpch_10.orders -|- Cells Throughput : 9092858 cells/s\n",
      "2025-09-24T12:00:45.206 +02:00 -|- FastTransfer -|- ORA21_to_PG17 -|- INFORMATION -|- tpch.tpch_10.orders -|- Transfert time : Elapsed=14846 ms\n",
      "2025-09-24T12:00:45.206 +02:00 -|- FastTransfer -|- ORA21_to_PG17 -|- INFORMATION -|- tpch.tpch_10.orders -|- Total time : Elapsed=15279 ms\n",
      "2025-09-24T12:00:45.206 +02:00 -|- FastTransfer -|- ORA21_to_PG17 -|- INFORMATION -|- tpch.tpch_10.orders -|- Completed Load\n"
     ]
    }
   ],
   "source": [
    "\n",
    "cd D:\\FastTransfer\n",
    "\n",
    ".\\FastTransfer.exe `\n",
    "--sourceconnectiontype \"oraodp\" `\n",
    "--sourceserver \"localhost:1521/ORCLPDB\" `\n",
    "--sourcedatabase \"ORCLPDB\" `\n",
    "--sourceuser \"TPCH_IN\" `\n",
    "--sourcepassword \"TPCH_IN\" `\n",
    "--sourceschema \"TPCH_IN\" `\n",
    "--sourcetable \"ORDERS_FLAT\" `\n",
    "`\n",
    "--targetconnectiontype \"pgcopy\" `\n",
    "--targetserver \"localhost:25432\" `\n",
    "--targetuser \"FastUser\" `\n",
    "--targetpassword \"FastPassword\" `\n",
    "--targetdatabase \"tpch\" `\n",
    "--targetschema \"tpch_10\" `\n",
    "--targettable \"orders\" `\n",
    "`\n",
    "--loadmode \"Truncate\" `\n",
    "--mapmethod \"Name\" `\n",
    "--method \"Rowid\" `\n",
    "--degree -2 `\n",
    "--runid \"ORA21_to_PG17\""
   ]
  },
  {
   "cell_type": "code",
   "execution_count": 8,
   "id": "c2da48be",
   "metadata": {
    "language_info": {
     "name": "polyglot-notebook"
    },
    "polyglot_notebook": {
     "kernelName": "sql-pgsql17"
    }
   },
   "outputs": [
    {
     "data": {
      "text/csv": [
       "count_target_table_rows\r\n",
       "15000000\r\n"
      ],
      "text/html": [
       "<table><thead><tr><td><span>count_target_table_rows</span></td></tr></thead><tbody><tr><td><div class=\"dni-plaintext\"><pre>15000000</pre></div></td></tr></tbody></table><style>\r\n",
       ".dni-code-hint {\r\n",
       "    font-style: italic;\r\n",
       "    overflow: hidden;\r\n",
       "    white-space: nowrap;\r\n",
       "}\r\n",
       ".dni-treeview {\r\n",
       "    white-space: nowrap;\r\n",
       "}\r\n",
       ".dni-treeview td {\r\n",
       "    vertical-align: top;\r\n",
       "    text-align: start;\r\n",
       "}\r\n",
       "details.dni-treeview {\r\n",
       "    padding-left: 1em;\r\n",
       "}\r\n",
       "table td {\r\n",
       "    text-align: start;\r\n",
       "}\r\n",
       "table tr { \r\n",
       "    vertical-align: top; \r\n",
       "    margin: 0em 0px;\r\n",
       "}\r\n",
       "table tr td pre \r\n",
       "{ \r\n",
       "    vertical-align: top !important; \r\n",
       "    margin: 0em 0px !important;\r\n",
       "} \r\n",
       "table th {\r\n",
       "    text-align: start;\r\n",
       "}\r\n",
       "</style>"
      ]
     },
     "metadata": {},
     "output_type": "display_data"
    }
   ],
   "source": [
    "SELECT count(*) count_target_table_rows from tpch_10.orders;"
   ]
  },
  {
   "cell_type": "code",
   "execution_count": 17,
   "id": "be656251",
   "metadata": {
    "language_info": {
     "name": "polyglot-notebook"
    },
    "polyglot_notebook": {
     "kernelName": "sql-pgsql17"
    }
   },
   "outputs": [
    {
     "data": {
      "text/csv": [
       "o_orderkey,o_custkey,o_orderstatus,o_totalprice,o_orderdate,o_orderpriority,o_clerk,o_shippriority,o_comment\r\n",
       "24552903,1313752,F,305754.99,1992-03-05T00:00:00.0000000,\"3-MEDIUM       \",Clerk#000007605,0,\"ly regular requests within the furiously regul\"\r\n",
       "24575648,978844,F,175154.42,1992-12-10T00:00:00.0000000,\"2-HIGH         \",Clerk#000001182,0,\"y across the requests. quickly special accounts cajole fluffily \"\r\n",
       "24575651,624299,F,116155.58,1992-02-09T00:00:00.0000000,\"4-NOT SPECIFIED\",Clerk#000009852,0,\" ironic packages. fluffily express courts are across the slyly ironic theodo\"\r\n",
       "24575682,201691,F,116158.29,1992-06-14T00:00:00.0000000,\"4-NOT SPECIFIED\",Clerk#000004253,0,\"t the blithely final pinto beans; furio\"\r\n",
       "24575712,1435832,F,330511.13,1992-11-27T00:00:00.0000000,\"1-URGENT       \",Clerk#000008569,0,\"its. regular foxes boost quickly. slyly special dugouts sleep blithe\"\r\n"
      ],
      "text/html": [
       "<table><thead><tr><td><span>o_orderkey</span></td><td><span>o_custkey</span></td><td><span>o_orderstatus</span></td><td><span>o_totalprice</span></td><td><span>o_orderdate</span></td><td><span>o_orderpriority</span></td><td><span>o_clerk</span></td><td><span>o_shippriority</span></td><td><span>o_comment</span></td></tr></thead><tbody><tr><td><div class=\"dni-plaintext\"><pre>24552903</pre></div></td><td><div class=\"dni-plaintext\"><pre>1313752</pre></div></td><td>F</td><td><div class=\"dni-plaintext\"><pre>305754.99</pre></div></td><td><span>1992-03-05 00:00:00Z</span></td><td>3-MEDIUM       </td><td>Clerk#000007605</td><td><div class=\"dni-plaintext\"><pre>0</pre></div></td><td>ly regular requests within the furiously regul</td></tr><tr><td><div class=\"dni-plaintext\"><pre>24575648</pre></div></td><td><div class=\"dni-plaintext\"><pre>978844</pre></div></td><td>F</td><td><div class=\"dni-plaintext\"><pre>175154.42</pre></div></td><td><span>1992-12-10 00:00:00Z</span></td><td>2-HIGH         </td><td>Clerk#000001182</td><td><div class=\"dni-plaintext\"><pre>0</pre></div></td><td>y across the requests. quickly special accounts cajole fluffily </td></tr><tr><td><div class=\"dni-plaintext\"><pre>24575651</pre></div></td><td><div class=\"dni-plaintext\"><pre>624299</pre></div></td><td>F</td><td><div class=\"dni-plaintext\"><pre>116155.58</pre></div></td><td><span>1992-02-09 00:00:00Z</span></td><td>4-NOT SPECIFIED</td><td>Clerk#000009852</td><td><div class=\"dni-plaintext\"><pre>0</pre></div></td><td> ironic packages. fluffily express courts are across the slyly ironic theodo</td></tr><tr><td><div class=\"dni-plaintext\"><pre>24575682</pre></div></td><td><div class=\"dni-plaintext\"><pre>201691</pre></div></td><td>F</td><td><div class=\"dni-plaintext\"><pre>116158.29</pre></div></td><td><span>1992-06-14 00:00:00Z</span></td><td>4-NOT SPECIFIED</td><td>Clerk#000004253</td><td><div class=\"dni-plaintext\"><pre>0</pre></div></td><td>t the blithely final pinto beans; furio</td></tr><tr><td><div class=\"dni-plaintext\"><pre>24575712</pre></div></td><td><div class=\"dni-plaintext\"><pre>1435832</pre></div></td><td>F</td><td><div class=\"dni-plaintext\"><pre>330511.13</pre></div></td><td><span>1992-11-27 00:00:00Z</span></td><td>1-URGENT       </td><td>Clerk#000008569</td><td><div class=\"dni-plaintext\"><pre>0</pre></div></td><td>its. regular foxes boost quickly. slyly special dugouts sleep blithe</td></tr></tbody></table><style>\r\n",
       ".dni-code-hint {\r\n",
       "    font-style: italic;\r\n",
       "    overflow: hidden;\r\n",
       "    white-space: nowrap;\r\n",
       "}\r\n",
       ".dni-treeview {\r\n",
       "    white-space: nowrap;\r\n",
       "}\r\n",
       ".dni-treeview td {\r\n",
       "    vertical-align: top;\r\n",
       "    text-align: start;\r\n",
       "}\r\n",
       "details.dni-treeview {\r\n",
       "    padding-left: 1em;\r\n",
       "}\r\n",
       "table td {\r\n",
       "    text-align: start;\r\n",
       "}\r\n",
       "table tr { \r\n",
       "    vertical-align: top; \r\n",
       "    margin: 0em 0px;\r\n",
       "}\r\n",
       "table tr td pre \r\n",
       "{ \r\n",
       "    vertical-align: top !important; \r\n",
       "    margin: 0em 0px !important;\r\n",
       "} \r\n",
       "table th {\r\n",
       "    text-align: start;\r\n",
       "}\r\n",
       "</style>"
      ]
     },
     "metadata": {},
     "output_type": "display_data"
    }
   ],
   "source": [
    "SELECT * FROM tpch_10.orders LIMIT 5;"
   ]
  },
  {
   "cell_type": "markdown",
   "id": "ce045f68",
   "metadata": {},
   "source": [
    "#### Target orders_heap : Heap Table"
   ]
  },
  {
   "cell_type": "code",
   "execution_count": 10,
   "id": "0374251a",
   "metadata": {
    "language_info": {
     "name": "polyglot-notebook"
    },
    "polyglot_notebook": {
     "kernelName": "sql-pgsql17"
    }
   },
   "outputs": [
    {
     "data": {
      "text/csv": [
       "count_orders_heap\r\n",
       "0\r\n"
      ],
      "text/html": [
       "<table><thead><tr><td><span>count_orders_heap</span></td></tr></thead><tbody><tr><td><div class=\"dni-plaintext\"><pre>0</pre></div></td></tr></tbody></table><style>\r\n",
       ".dni-code-hint {\r\n",
       "    font-style: italic;\r\n",
       "    overflow: hidden;\r\n",
       "    white-space: nowrap;\r\n",
       "}\r\n",
       ".dni-treeview {\r\n",
       "    white-space: nowrap;\r\n",
       "}\r\n",
       ".dni-treeview td {\r\n",
       "    vertical-align: top;\r\n",
       "    text-align: start;\r\n",
       "}\r\n",
       "details.dni-treeview {\r\n",
       "    padding-left: 1em;\r\n",
       "}\r\n",
       "table td {\r\n",
       "    text-align: start;\r\n",
       "}\r\n",
       "table tr { \r\n",
       "    vertical-align: top; \r\n",
       "    margin: 0em 0px;\r\n",
       "}\r\n",
       "table tr td pre \r\n",
       "{ \r\n",
       "    vertical-align: top !important; \r\n",
       "    margin: 0em 0px !important;\r\n",
       "} \r\n",
       "table th {\r\n",
       "    text-align: start;\r\n",
       "}\r\n",
       "</style>"
      ]
     },
     "metadata": {},
     "output_type": "display_data"
    }
   ],
   "source": [
    "DROP TABLE IF EXISTS tpch_10.orders_heap;\n",
    "\n",
    "CREATE TABLE tpch_10.orders_heap AS\n",
    "SELECT * \n",
    "FROM tpch_10.orders\n",
    "WHERE 1=0;\n",
    "\n",
    "ALTER TABLE tpch_10.orders_heap SET UNLOGGED;\n",
    "\n",
    "SELECT count(*) count_orders_heap from tpch_10.orders_heap;"
   ]
  },
  {
   "cell_type": "code",
   "execution_count": 6,
   "id": "e594e80e",
   "metadata": {
    "polyglot_notebook": {
     "kernelName": "pwsh"
    }
   },
   "outputs": [
    {
     "name": "stdout",
     "output_type": "stream",
     "text": [
      "2025-09-22T23:57:35.147 +02:00 -|- FastTransfer -|- ORA21_to_PG17_heap -|- INFORMATION -|- tpch.tpch_10.orders_heap -|- FastTransfer - running in trial mode – will expires on 2025‑10‑20 (27 day(s) left).\n",
      "2025-09-22T23:57:35.155 +02:00 -|- FastTransfer -|- ORA21_to_PG17_heap -|- INFORMATION -|- tpch.tpch_10.orders_heap -|- Starting\n",
      "2025-09-22T23:57:35.155 +02:00 -|- FastTransfer -|- ORA21_to_PG17_heap -|- INFORMATION -|- tpch.tpch_10.orders_heap -|- FastTransfer Version : 0.13.10.0 Architecture : X64 - Framework : .NET 8.0.19\n",
      "2025-09-22T23:57:35.155 +02:00 -|- FastTransfer -|- ORA21_to_PG17_heap -|- INFORMATION -|- tpch.tpch_10.orders_heap -|- OS : Microsoft Windows 10.0.26100\n",
      "2025-09-22T23:57:35.156 +02:00 -|- FastTransfer -|- ORA21_to_PG17_heap -|- INFORMATION -|- tpch.tpch_10.orders_heap -|- Process ID : 93976\n",
      "2025-09-22T23:57:35.156 +02:00 -|- FastTransfer -|- ORA21_to_PG17_heap -|- INFORMATION -|- tpch.tpch_10.orders_heap -|- Provided Run ID : ORA21_to_PG17_heap\n",
      "2025-09-22T23:57:35.156 +02:00 -|- FastTransfer -|- ORA21_to_PG17_heap -|- INFORMATION -|- tpch.tpch_10.orders_heap -|- Source Connection Type : oraodp\n",
      "2025-09-22T23:57:35.156 +02:00 -|- FastTransfer -|- ORA21_to_PG17_heap -|- INFORMATION -|- tpch.tpch_10.orders_heap -|- Source SqlInstance : localhost:1521/ORCLPDB\n",
      "2025-09-22T23:57:35.156 +02:00 -|- FastTransfer -|- ORA21_to_PG17_heap -|- INFORMATION -|- tpch.tpch_10.orders_heap -|- Source Database : ORCLPDB\n",
      "2025-09-22T23:57:35.156 +02:00 -|- FastTransfer -|- ORA21_to_PG17_heap -|- INFORMATION -|- tpch.tpch_10.orders_heap -|- Source Trusted Connection : False\n",
      "2025-09-22T23:57:35.156 +02:00 -|- FastTransfer -|- ORA21_to_PG17_heap -|- INFORMATION -|- tpch.tpch_10.orders_heap -|- Source User : TPCH_IN\n",
      "2025-09-22T23:57:35.156 +02:00 -|- FastTransfer -|- ORA21_to_PG17_heap -|- INFORMATION -|- tpch.tpch_10.orders_heap -|- Source Schema : TPCH_IN\n",
      "2025-09-22T23:57:35.156 +02:00 -|- FastTransfer -|- ORA21_to_PG17_heap -|- INFORMATION -|- tpch.tpch_10.orders_heap -|- Source Table : ORDERS_FLAT\n",
      "2025-09-22T23:57:35.156 +02:00 -|- FastTransfer -|- ORA21_to_PG17_heap -|- INFORMATION -|- tpch.tpch_10.orders_heap -|- Target Type : pgcopy\n",
      "2025-09-22T23:57:35.156 +02:00 -|- FastTransfer -|- ORA21_to_PG17_heap -|- INFORMATION -|- tpch.tpch_10.orders_heap -|- Target Server : localhost:25432\n",
      "2025-09-22T23:57:35.156 +02:00 -|- FastTransfer -|- ORA21_to_PG17_heap -|- INFORMATION -|- tpch.tpch_10.orders_heap -|- Target Database : tpch\n",
      "2025-09-22T23:57:35.156 +02:00 -|- FastTransfer -|- ORA21_to_PG17_heap -|- INFORMATION -|- tpch.tpch_10.orders_heap -|- Target Schema : tpch_10\n",
      "2025-09-22T23:57:35.156 +02:00 -|- FastTransfer -|- ORA21_to_PG17_heap -|- INFORMATION -|- tpch.tpch_10.orders_heap -|- Target Table : orders_heap\n",
      "2025-09-22T23:57:35.156 +02:00 -|- FastTransfer -|- ORA21_to_PG17_heap -|- INFORMATION -|- tpch.tpch_10.orders_heap -|- Target Trusted Connection : False\n",
      "2025-09-22T23:57:35.156 +02:00 -|- FastTransfer -|- ORA21_to_PG17_heap -|- INFORMATION -|- tpch.tpch_10.orders_heap -|- Target User : FastUser\n",
      "2025-09-22T23:57:35.156 +02:00 -|- FastTransfer -|- ORA21_to_PG17_heap -|- INFORMATION -|- tpch.tpch_10.orders_heap -|- Columns Map Method : Name\n",
      "2025-09-22T23:57:35.156 +02:00 -|- FastTransfer -|- ORA21_to_PG17_heap -|- INFORMATION -|- tpch.tpch_10.orders_heap -|- Degree : -2\n",
      "2025-09-22T23:57:35.156 +02:00 -|- FastTransfer -|- ORA21_to_PG17_heap -|- INFORMATION -|- tpch.tpch_10.orders_heap -|- Distribute Method : Rowid\n",
      "2025-09-22T23:57:35.156 +02:00 -|- FastTransfer -|- ORA21_to_PG17_heap -|- INFORMATION -|- tpch.tpch_10.orders_heap -|- Bulkcopy Batch Size : 1048576\n",
      "2025-09-22T23:57:35.156 +02:00 -|- FastTransfer -|- ORA21_to_PG17_heap -|- INFORMATION -|- tpch.tpch_10.orders_heap -|- Load Mode : Truncate\n",
      "2025-09-22T23:57:35.156 +02:00 -|- FastTransfer -|- ORA21_to_PG17_heap -|- INFORMATION -|- tpch.tpch_10.orders_heap -|- Use Work Tables : False\n",
      "2025-09-22T23:57:35.157 +02:00 -|- FastTransfer -|- ORA21_to_PG17_heap -|- INFORMATION -|- tpch.tpch_10.orders_heap -|- Encoding used : Unicode (UTF-8) - 65001 - utf-8\n",
      "2025-09-22T23:57:35.334 +02:00 -|- FastTransfer -|- ORA21_to_PG17_heap -|- INFORMATION -|- tpch.tpch_10.orders_heap -|- Source Connection String : USER ID=TPCH_IN;PASSWORD=xxxxx;DATA SOURCE=localhost:1521/ORCLPDB;POOLING=False;CONNECTION TIMEOUT=120\n",
      "2025-09-22T23:57:35.334 +02:00 -|- FastTransfer -|- ORA21_to_PG17_heap -|- INFORMATION -|- tpch.tpch_10.orders_heap -|- Target Connection String : Host=localhost;Port=25432;Database=tpch;Trust Server Certificate=True;Application Name=FastTransfer;Timeout=15;Command Timeout=10800;Username=FastUser;Password=xxxxx\n",
      "2025-09-22T23:57:35.334 +02:00 -|- FastTransfer -|- ORA21_to_PG17_heap -|- INFORMATION -|- tpch.tpch_10.orders_heap -|- Source Database Version : Oracle Database 21c Enterprise Edition Release 21.0.0.0.0 - Production\n",
      "2025-09-22T23:57:35.334 +02:00 -|- FastTransfer -|- ORA21_to_PG17_heap -|- INFORMATION -|- tpch.tpch_10.orders_heap -|- Target Database Version : PostgreSQL 17.2 on x86_64-windows, compiled by msvc-19.42.34435, 64-bit\n",
      "2025-09-22T23:57:36.519 +02:00 -|- FastTransfer -|- ORA21_to_PG17_heap -|- INFORMATION -|- tpch.tpch_10.orders_heap -|- Degree of parallelism was computed to 16 (=> 32\\2)\n",
      "2025-09-22T23:57:36.660 +02:00 -|- FastTransfer -|- ORA21_to_PG17_heap -|- INFORMATION -|- tpch.tpch_10.orders_heap -|- Start Loading Data using distribution method Rowid\n",
      "2025-09-22T23:57:36.732 +02:00 -|- FastTransfer -|- ORA21_to_PG17_heap -|- INFORMATION -|- tpch.tpch_10.orders_heap -|- Start Loading Data using distribution method Rowid\n",
      "2025-09-22T23:57:36.776 +02:00 -|- FastTransfer -|- ORA21_to_PG17_heap -|- INFORMATION -|- tpch.tpch_10.orders_heap -|- Start Loading Data using distribution method Rowid\n",
      "2025-09-22T23:57:36.862 +02:00 -|- FastTransfer -|- ORA21_to_PG17_heap -|- INFORMATION -|- tpch.tpch_10.orders_heap -|- Start Loading Data using distribution method Rowid\n",
      "2025-09-22T23:57:36.900 +02:00 -|- FastTransfer -|- ORA21_to_PG17_heap -|- INFORMATION -|- tpch.tpch_10.orders_heap -|- Start Loading Data using distribution method Rowid\n",
      "2025-09-22T23:57:36.925 +02:00 -|- FastTransfer -|- ORA21_to_PG17_heap -|- INFORMATION -|- tpch.tpch_10.orders_heap -|- Start Loading Data using distribution method Rowid\n",
      "2025-09-22T23:57:36.944 +02:00 -|- FastTransfer -|- ORA21_to_PG17_heap -|- INFORMATION -|- tpch.tpch_10.orders_heap -|- Start Loading Data using distribution method Rowid\n",
      "2025-09-22T23:57:36.976 +02:00 -|- FastTransfer -|- ORA21_to_PG17_heap -|- INFORMATION -|- tpch.tpch_10.orders_heap -|- Start Loading Data using distribution method Rowid\n",
      "2025-09-22T23:57:37.029 +02:00 -|- FastTransfer -|- ORA21_to_PG17_heap -|- INFORMATION -|- tpch.tpch_10.orders_heap -|- Start Loading Data using distribution method Rowid\n",
      "2025-09-22T23:57:37.046 +02:00 -|- FastTransfer -|- ORA21_to_PG17_heap -|- INFORMATION -|- tpch.tpch_10.orders_heap -|- Start Loading Data using distribution method Rowid\n",
      "2025-09-22T23:57:37.071 +02:00 -|- FastTransfer -|- ORA21_to_PG17_heap -|- INFORMATION -|- tpch.tpch_10.orders_heap -|- Start Loading Data using distribution method Rowid\n",
      "2025-09-22T23:57:37.090 +02:00 -|- FastTransfer -|- ORA21_to_PG17_heap -|- INFORMATION -|- tpch.tpch_10.orders_heap -|- Start Loading Data using distribution method Rowid\n",
      "2025-09-22T23:57:37.138 +02:00 -|- FastTransfer -|- ORA21_to_PG17_heap -|- INFORMATION -|- tpch.tpch_10.orders_heap -|- Start Loading Data using distribution method Rowid\n",
      "2025-09-22T23:57:37.147 +02:00 -|- FastTransfer -|- ORA21_to_PG17_heap -|- INFORMATION -|- tpch.tpch_10.orders_heap -|- Start Loading Data using distribution method Rowid\n",
      "2025-09-22T23:57:37.167 +02:00 -|- FastTransfer -|- ORA21_to_PG17_heap -|- INFORMATION -|- tpch.tpch_10.orders_heap -|- Start Loading Data using distribution method Rowid\n",
      "2025-09-22T23:57:37.188 +02:00 -|- FastTransfer -|- ORA21_to_PG17_heap -|- INFORMATION -|- tpch.tpch_10.orders_heap -|- Start Loading Data using distribution method Rowid\n",
      "2025-09-22T23:57:37.207 +02:00 -|- FastTransfer -|- ORA21_to_PG17_heap -|- INFORMATION -|- tpch.tpch_10.orders_heap -|- Start Loading Data using distribution method Rowid\n",
      "2025-09-22T23:57:42.057 +02:00 -|- FastTransfer -|- ORA21_to_PG17_heap -|- INFORMATION -|- tpch.tpch_10.orders_heap -|- Completed Load Query 5 for rowid between AAAS+UAAMAADD6AAAA and AAAS+UAAMAADF3/H// : 499451 rows x 9 columns in 5457ms\n",
      "2025-09-22T23:57:43.115 +02:00 -|- FastTransfer -|- ORA21_to_PG17_heap -|- INFORMATION -|- tpch.tpch_10.orders_heap -|- Completed Load Query 16 for rowid between AAAS+UAANAAAkyAAAA and AAAS+UAANAAAnSHH// : 633936 rows x 9 columns in 6513ms\n",
      "2025-09-22T23:57:43.933 +02:00 -|- FastTransfer -|- ORA21_to_PG17_heap -|- INFORMATION -|- tpch.tpch_10.orders_heap -|- Completed Load Query 3 for rowid between AAAS+UAAMAABx8AAAA and AAAS+UAAMAAC/3/H// : 743256 rows x 9 columns in 7333ms\n",
      "2025-09-22T23:57:44.599 +02:00 -|- FastTransfer -|- ORA21_to_PG17_heap -|- INFORMATION -|- tpch.tpch_10.orders_heap -|- Completed Load Query 14 for rowid between AAAS+UAANAAAdiAAAA and AAAS+UAANAAAgx/H// : 823618 rows x 9 columns in 7997ms\n",
      "2025-09-22T23:57:45.141 +02:00 -|- FastTransfer -|- ORA21_to_PG17_heap -|- INFORMATION -|- tpch.tpch_10.orders_heap -|- Completed Load Query 6 for rowid between AAAS+UAANAAAACAAAA and AAAS+UAANAAADh/H// : 880912 rows x 9 columns in 8540ms\n",
      "2025-09-22T23:57:45.234 +02:00 -|- FastTransfer -|- ORA21_to_PG17_heap -|- INFORMATION -|- tpch.tpch_10.orders_heap -|- Completed Load Query 11 for rowid between AAAS+UAANAAASiAAAA and AAAS+UAANAAAWB/H// : 885525 rows x 9 columns in 8632ms\n",
      "2025-09-22T23:57:45.364 +02:00 -|- FastTransfer -|- ORA21_to_PG17_heap -|- INFORMATION -|- tpch.tpch_10.orders_heap -|- Completed Load Query 2 for rowid between AAAS+UAAMAABYcAAAA and AAAS+UAAMAABx7/H// : 941358 rows x 9 columns in 8763ms\n",
      "2025-09-22T23:57:45.436 +02:00 -|- FastTransfer -|- ORA21_to_PG17_heap -|- INFORMATION -|- tpch.tpch_10.orders_heap -|- Completed Load Query 1 for rowid between AAAS+UAAMAABRKAAAA and AAAS+UAAMAABYb/H// : 935604 rows x 9 columns in 8835ms\n",
      "2025-09-22T23:57:45.476 +02:00 -|- FastTransfer -|- ORA21_to_PG17_heap -|- INFORMATION -|- tpch.tpch_10.orders_heap -|- Completed Load Query 0 for rowid between AAAS+UAAMAABK8AAAA and AAAS+UAAMAABRJ/H// : 935700 rows x 9 columns in 8875ms\n",
      "2025-09-22T23:57:45.500 +02:00 -|- FastTransfer -|- ORA21_to_PG17_heap -|- INFORMATION -|- tpch.tpch_10.orders_heap -|- Completed Load Query 8 for rowid between AAAS+UAANAAAHSAAAA and AAAS+UAANAAALB/H// : 948735 rows x 9 columns in 8899ms\n",
      "2025-09-22T23:57:45.526 +02:00 -|- FastTransfer -|- ORA21_to_PG17_heap -|- INFORMATION -|- tpch.tpch_10.orders_heap -|- Completed Load Query 13 for rowid between AAAS+UAANAAAZyAAAA and AAAS+UAANAAAdh/H// : 948708 rows x 9 columns in 8925ms\n",
      "2025-09-22T23:57:45.535 +02:00 -|- FastTransfer -|- ORA21_to_PG17_heap -|- INFORMATION -|- tpch.tpch_10.orders_heap -|- Completed Load Query 9 for rowid between AAAS+UAANAAALCAAAA and AAAS+UAANAAAOx/H// : 948369 rows x 9 columns in 8934ms\n",
      "2025-09-22T23:57:45.539 +02:00 -|- FastTransfer -|- ORA21_to_PG17_heap -|- INFORMATION -|- tpch.tpch_10.orders_heap -|- Completed Load Query 10 for rowid between AAAS+UAANAAAOyAAAA and AAAS+UAANAAASh/H// : 948607 rows x 9 columns in 8938ms\n",
      "2025-09-22T23:57:45.542 +02:00 -|- FastTransfer -|- ORA21_to_PG17_heap -|- INFORMATION -|- tpch.tpch_10.orders_heap -|- Completed Load Query 12 for rowid between AAAS+UAANAAAWCAAAA and AAAS+UAANAAAZx/H// : 948826 rows x 9 columns in 8940ms\n",
      "2025-09-22T23:57:45.566 +02:00 -|- FastTransfer -|- ORA21_to_PG17_heap -|- INFORMATION -|- tpch.tpch_10.orders_heap -|- Completed Load Query 7 for rowid between AAAS+UAANAAADiAAAA and AAAS+UAANAAAHR/H// : 948359 rows x 9 columns in 8965ms\n",
      "2025-09-22T23:57:45.841 +02:00 -|- FastTransfer -|- ORA21_to_PG17_heap -|- INFORMATION -|- tpch.tpch_10.orders_heap -|- Completed Load Query 4 for rowid between AAAS+UAAMAAC/6AAAA and AAAS+UAAMAADD5/H// : 1014594 rows x 9 columns in 9241ms\n",
      "2025-09-22T23:57:45.938 +02:00 -|- FastTransfer -|- ORA21_to_PG17_heap -|- INFORMATION -|- tpch.tpch_10.orders_heap -|- Completed Load Query 15 for rowid between AAAS+UAANAAAgyAAAA and AAAS+UAANAAAkx/H// : 1014442 rows x 9 columns in 9336ms\n",
      "2025-09-22T23:57:45.939 +02:00 -|- FastTransfer -|- ORA21_to_PG17_heap -|- INFORMATION -|- tpch.tpch_10.orders_heap -|- Total rows : 15000000\n",
      "2025-09-22T23:57:45.939 +02:00 -|- FastTransfer -|- ORA21_to_PG17_heap -|- INFORMATION -|- tpch.tpch_10.orders_heap -|- Total columns : 9\n",
      "2025-09-22T23:57:45.939 +02:00 -|- FastTransfer -|- ORA21_to_PG17_heap -|- INFORMATION -|- tpch.tpch_10.orders_heap -|- Total cells : 135000000\n",
      "2025-09-22T23:57:45.939 +02:00 -|- FastTransfer -|- ORA21_to_PG17_heap -|- INFORMATION -|- tpch.tpch_10.orders_heap -|- Rows Throughput : 1592366 rows/s\n",
      "2025-09-22T23:57:45.939 +02:00 -|- FastTransfer -|- ORA21_to_PG17_heap -|- INFORMATION -|- tpch.tpch_10.orders_heap -|- Cells Throughput : 14331311 cells/s\n",
      "2025-09-22T23:57:45.940 +02:00 -|- FastTransfer -|- ORA21_to_PG17_heap -|- INFORMATION -|- tpch.tpch_10.orders_heap -|- Transfert time : Elapsed=9420 ms\n",
      "2025-09-22T23:57:45.940 +02:00 -|- FastTransfer -|- ORA21_to_PG17_heap -|- INFORMATION -|- tpch.tpch_10.orders_heap -|- Total time : Elapsed=10940 ms\n",
      "2025-09-22T23:57:45.940 +02:00 -|- FastTransfer -|- ORA21_to_PG17_heap -|- INFORMATION -|- tpch.tpch_10.orders_heap -|- Completed Load\n"
     ]
    }
   ],
   "source": [
    "\n",
    "cd D:\\FastTransfer\n",
    "\n",
    ".\\FastTransfer.exe `\n",
    "--sourceconnectiontype \"oraodp\" `\n",
    "--sourceserver \"localhost:1521/ORCLPDB\" `\n",
    "--sourcedatabase \"ORCLPDB\" `\n",
    "--sourceuser \"TPCH_IN\" `\n",
    "--sourcepassword \"TPCH_IN\" `\n",
    "--sourceschema \"TPCH_IN\" `\n",
    "--sourcetable \"ORDERS_FLAT\" `\n",
    "`\n",
    "--targetconnectiontype \"pgcopy\" `\n",
    "--targetserver \"localhost:25432\" `\n",
    "--targetuser \"FastUser\" `\n",
    "--targetpassword \"FastPassword\" `\n",
    "--targetdatabase \"tpch\" `\n",
    "--targetschema \"tpch_10\" `\n",
    "--targettable \"orders_heap\" `\n",
    "`\n",
    "--loadmode \"Truncate\" `\n",
    "--mapmethod \"Name\" `\n",
    "--method \"Rowid\" `\n",
    "--degree -2 `\n",
    "--runid \"ORA21_to_PG17_heap\""
   ]
  },
  {
   "cell_type": "code",
   "execution_count": 12,
   "id": "5144fced",
   "metadata": {
    "language_info": {
     "name": "polyglot-notebook"
    },
    "polyglot_notebook": {
     "kernelName": "sql-pgsql17"
    }
   },
   "outputs": [
    {
     "data": {
      "text/csv": [
       "count_rows_in_heap\r\n",
       "15000000\r\n"
      ],
      "text/html": [
       "<table><thead><tr><td><span>count_rows_in_heap</span></td></tr></thead><tbody><tr><td><div class=\"dni-plaintext\"><pre>15000000</pre></div></td></tr></tbody></table><style>\r\n",
       ".dni-code-hint {\r\n",
       "    font-style: italic;\r\n",
       "    overflow: hidden;\r\n",
       "    white-space: nowrap;\r\n",
       "}\r\n",
       ".dni-treeview {\r\n",
       "    white-space: nowrap;\r\n",
       "}\r\n",
       ".dni-treeview td {\r\n",
       "    vertical-align: top;\r\n",
       "    text-align: start;\r\n",
       "}\r\n",
       "details.dni-treeview {\r\n",
       "    padding-left: 1em;\r\n",
       "}\r\n",
       "table td {\r\n",
       "    text-align: start;\r\n",
       "}\r\n",
       "table tr { \r\n",
       "    vertical-align: top; \r\n",
       "    margin: 0em 0px;\r\n",
       "}\r\n",
       "table tr td pre \r\n",
       "{ \r\n",
       "    vertical-align: top !important; \r\n",
       "    margin: 0em 0px !important;\r\n",
       "} \r\n",
       "table th {\r\n",
       "    text-align: start;\r\n",
       "}\r\n",
       "</style>"
      ]
     },
     "metadata": {},
     "output_type": "display_data"
    }
   ],
   "source": [
    "\n",
    "SELECT count(*) count_rows_in_heap from tpch_10.orders_heap;"
   ]
  },
  {
   "cell_type": "code",
   "execution_count": 13,
   "id": "b9ef8968",
   "metadata": {
    "language_info": {
     "name": "polyglot-notebook"
    },
    "polyglot_notebook": {
     "kernelName": "sql-pgsql17"
    }
   },
   "outputs": [
    {
     "data": {
      "text/csv": [
       "o_orderkey,o_custkey,o_orderstatus,o_totalprice,o_orderdate,o_orderpriority,o_clerk,o_shippriority,o_comment\r\n",
       "31572036,630257,F,74496.62,1993-01-09T00:00:00.0000000,\"4-NOT SPECIFIED\",Clerk#000007201,0,\" slyly according to the regular, regular accounts. furiousl\"\r\n",
       "31572037,1226720,F,140196.16,1993-02-19T00:00:00.0000000,\"1-URGENT       \",Clerk#000004945,0,\"ar ideas use sometimes even requests. fluffily ruthless packages haggle. \"\r\n",
       "9136614,1449592,F,157666.74,1993-12-30T00:00:00.0000000,\"4-NOT SPECIFIED\",Clerk#000000520,0,\"he quickly final ideas cajole slyly across the regular realms. ent\"\r\n",
       "31572069,1320178,F,70886.66,1993-05-20T00:00:00.0000000,\"4-NOT SPECIFIED\",Clerk#000003731,0,\"arefully pending theodolit\"\r\n",
       "31572070,215563,F,211005.1,1993-06-02T00:00:00.0000000,\"2-HIGH         \",Clerk#000004420,0,\"ronic deposits are. slyly si\"\r\n"
      ],
      "text/html": [
       "<table><thead><tr><td><span>o_orderkey</span></td><td><span>o_custkey</span></td><td><span>o_orderstatus</span></td><td><span>o_totalprice</span></td><td><span>o_orderdate</span></td><td><span>o_orderpriority</span></td><td><span>o_clerk</span></td><td><span>o_shippriority</span></td><td><span>o_comment</span></td></tr></thead><tbody><tr><td><div class=\"dni-plaintext\"><pre>31572036</pre></div></td><td><div class=\"dni-plaintext\"><pre>630257</pre></div></td><td>F</td><td><div class=\"dni-plaintext\"><pre>74496.62</pre></div></td><td><span>1993-01-09 00:00:00Z</span></td><td>4-NOT SPECIFIED</td><td>Clerk#000007201</td><td><div class=\"dni-plaintext\"><pre>0</pre></div></td><td> slyly according to the regular, regular accounts. furiousl</td></tr><tr><td><div class=\"dni-plaintext\"><pre>31572037</pre></div></td><td><div class=\"dni-plaintext\"><pre>1226720</pre></div></td><td>F</td><td><div class=\"dni-plaintext\"><pre>140196.16</pre></div></td><td><span>1993-02-19 00:00:00Z</span></td><td>1-URGENT       </td><td>Clerk#000004945</td><td><div class=\"dni-plaintext\"><pre>0</pre></div></td><td>ar ideas use sometimes even requests. fluffily ruthless packages haggle. </td></tr><tr><td><div class=\"dni-plaintext\"><pre>9136614</pre></div></td><td><div class=\"dni-plaintext\"><pre>1449592</pre></div></td><td>F</td><td><div class=\"dni-plaintext\"><pre>157666.74</pre></div></td><td><span>1993-12-30 00:00:00Z</span></td><td>4-NOT SPECIFIED</td><td>Clerk#000000520</td><td><div class=\"dni-plaintext\"><pre>0</pre></div></td><td>he quickly final ideas cajole slyly across the regular realms. ent</td></tr><tr><td><div class=\"dni-plaintext\"><pre>31572069</pre></div></td><td><div class=\"dni-plaintext\"><pre>1320178</pre></div></td><td>F</td><td><div class=\"dni-plaintext\"><pre>70886.66</pre></div></td><td><span>1993-05-20 00:00:00Z</span></td><td>4-NOT SPECIFIED</td><td>Clerk#000003731</td><td><div class=\"dni-plaintext\"><pre>0</pre></div></td><td>arefully pending theodolit</td></tr><tr><td><div class=\"dni-plaintext\"><pre>31572070</pre></div></td><td><div class=\"dni-plaintext\"><pre>215563</pre></div></td><td>F</td><td><div class=\"dni-plaintext\"><pre>211005.1</pre></div></td><td><span>1993-06-02 00:00:00Z</span></td><td>2-HIGH         </td><td>Clerk#000004420</td><td><div class=\"dni-plaintext\"><pre>0</pre></div></td><td>ronic deposits are. slyly si</td></tr></tbody></table><style>\r\n",
       ".dni-code-hint {\r\n",
       "    font-style: italic;\r\n",
       "    overflow: hidden;\r\n",
       "    white-space: nowrap;\r\n",
       "}\r\n",
       ".dni-treeview {\r\n",
       "    white-space: nowrap;\r\n",
       "}\r\n",
       ".dni-treeview td {\r\n",
       "    vertical-align: top;\r\n",
       "    text-align: start;\r\n",
       "}\r\n",
       "details.dni-treeview {\r\n",
       "    padding-left: 1em;\r\n",
       "}\r\n",
       "table td {\r\n",
       "    text-align: start;\r\n",
       "}\r\n",
       "table tr { \r\n",
       "    vertical-align: top; \r\n",
       "    margin: 0em 0px;\r\n",
       "}\r\n",
       "table tr td pre \r\n",
       "{ \r\n",
       "    vertical-align: top !important; \r\n",
       "    margin: 0em 0px !important;\r\n",
       "} \r\n",
       "table th {\r\n",
       "    text-align: start;\r\n",
       "}\r\n",
       "</style>"
      ]
     },
     "metadata": {},
     "output_type": "display_data"
    }
   ],
   "source": [
    "SELECT * from tpch_10.orders_heap LIMIT 5;"
   ]
  },
  {
   "cell_type": "markdown",
   "id": "ec9b966d",
   "metadata": {},
   "source": [
    "#### Test using a bigger table : LineItem (60M Rows x 16 columns - 16GB) "
   ]
  },
  {
   "cell_type": "code",
   "execution_count": 15,
   "metadata": {
    "language_info": {
     "name": "polyglot-notebook"
    },
    "polyglot_notebook": {
     "kernelName": "pwsh"
    }
   },
   "outputs": [
    {
     "name": "stdout",
     "output_type": "stream",
     "text": [
      " Nom\t\t\t\t\t   NULL ?   Type\n",
      " ----------------------------------------- -------- ----------------------------\n",
      " L_ORDERKEY\t\t\t\t   NOT NULL NUMBER\n",
      " L_PARTKEY\t\t\t\t   NOT NULL NUMBER\n",
      " L_SUPPKEY\t\t\t\t   NOT NULL NUMBER\n",
      " L_LINENUMBER\t\t\t\t   NOT NULL NUMBER\n",
      " L_QUANTITY\t\t\t\t   NOT NULL NUMBER(12,2)\n",
      " L_EXTENDEDPRICE\t\t\t   NOT NULL NUMBER(15,2)\n",
      " L_DISCOUNT\t\t\t\t   NOT NULL NUMBER(4,2)\n",
      " L_TAX\t\t\t\t\t   NOT NULL NUMBER(4,2)\n",
      " L_RETURNFLAG\t\t\t\t   NOT NULL CHAR(1)\n",
      " L_LINESTATUS\t\t\t\t   NOT NULL CHAR(1)\n",
      " L_SHIPDATE\t\t\t\t   NOT NULL DATE\n",
      " L_COMMITDATE\t\t\t\t   NOT NULL DATE\n",
      " L_RECEIPTDATE\t\t\t\t   NOT NULL DATE\n",
      " L_SHIPINSTRUCT \t\t\t   NOT NULL CHAR(25)\n",
      " L_SHIPMODE\t\t\t\t   NOT NULL CHAR(10)\n",
      " L_COMMENT\t\t\t\t\t    VARCHAR2(44)\n",
      "\n"
     ]
    }
   ],
   "source": [
    "echo 'DESC tpch_in.lineitem_iot' | sqlplus -S TPCH_IN/TPCH_IN@//localhost:1521/ORCLPDB"
   ]
  },
  {
   "cell_type": "code",
   "execution_count": 20,
   "id": "943d9c54",
   "metadata": {
    "polyglot_notebook": {
     "kernelName": "pwsh"
    }
   },
   "outputs": [
    {
     "name": "stdout",
     "output_type": "stream",
     "text": [
      "2025-09-23T00:06:53.286 +02:00 -|- FastTransfer -|- ORA21_to_PG17_60M_rowsx16_columns -|- INFORMATION -|- tpch.tpch_10.lineitem_heap_unlogged -|- FastTransfer - running in trial mode – will expires on 2025‑10‑20 (27 day(s) left).\n",
      "2025-09-23T00:06:53.296 +02:00 -|- FastTransfer -|- ORA21_to_PG17_60M_rowsx16_columns -|- INFORMATION -|- tpch.tpch_10.lineitem_heap_unlogged -|- Starting\n",
      "2025-09-23T00:06:53.296 +02:00 -|- FastTransfer -|- ORA21_to_PG17_60M_rowsx16_columns -|- INFORMATION -|- tpch.tpch_10.lineitem_heap_unlogged -|- FastTransfer Version : 0.13.10.0 Architecture : X64 - Framework : .NET 8.0.19\n",
      "2025-09-23T00:06:53.296 +02:00 -|- FastTransfer -|- ORA21_to_PG17_60M_rowsx16_columns -|- INFORMATION -|- tpch.tpch_10.lineitem_heap_unlogged -|- OS : Microsoft Windows 10.0.26100\n",
      "2025-09-23T00:06:53.297 +02:00 -|- FastTransfer -|- ORA21_to_PG17_60M_rowsx16_columns -|- INFORMATION -|- tpch.tpch_10.lineitem_heap_unlogged -|- Process ID : 79164\n",
      "2025-09-23T00:06:53.297 +02:00 -|- FastTransfer -|- ORA21_to_PG17_60M_rowsx16_columns -|- INFORMATION -|- tpch.tpch_10.lineitem_heap_unlogged -|- Provided Run ID : ORA21_to_PG17_60M_rowsx16_columns\n",
      "2025-09-23T00:06:53.297 +02:00 -|- FastTransfer -|- ORA21_to_PG17_60M_rowsx16_columns -|- INFORMATION -|- tpch.tpch_10.lineitem_heap_unlogged -|- Source Connection Type : oraodp\n",
      "2025-09-23T00:06:53.297 +02:00 -|- FastTransfer -|- ORA21_to_PG17_60M_rowsx16_columns -|- INFORMATION -|- tpch.tpch_10.lineitem_heap_unlogged -|- Source SqlInstance : localhost:1521/ORCLPDB\n",
      "2025-09-23T00:06:53.297 +02:00 -|- FastTransfer -|- ORA21_to_PG17_60M_rowsx16_columns -|- INFORMATION -|- tpch.tpch_10.lineitem_heap_unlogged -|- Source Database : ORCLPDB\n",
      "2025-09-23T00:06:53.297 +02:00 -|- FastTransfer -|- ORA21_to_PG17_60M_rowsx16_columns -|- INFORMATION -|- tpch.tpch_10.lineitem_heap_unlogged -|- Source Trusted Connection : False\n",
      "2025-09-23T00:06:53.297 +02:00 -|- FastTransfer -|- ORA21_to_PG17_60M_rowsx16_columns -|- INFORMATION -|- tpch.tpch_10.lineitem_heap_unlogged -|- Source User : TPCH_IN\n",
      "2025-09-23T00:06:53.297 +02:00 -|- FastTransfer -|- ORA21_to_PG17_60M_rowsx16_columns -|- INFORMATION -|- tpch.tpch_10.lineitem_heap_unlogged -|- Source Schema : TPCH_IN\n",
      "2025-09-23T00:06:53.297 +02:00 -|- FastTransfer -|- ORA21_to_PG17_60M_rowsx16_columns -|- INFORMATION -|- tpch.tpch_10.lineitem_heap_unlogged -|- Source Table : LINEITEM\n",
      "2025-09-23T00:06:53.297 +02:00 -|- FastTransfer -|- ORA21_to_PG17_60M_rowsx16_columns -|- INFORMATION -|- tpch.tpch_10.lineitem_heap_unlogged -|- Target Type : pgcopy\n",
      "2025-09-23T00:06:53.297 +02:00 -|- FastTransfer -|- ORA21_to_PG17_60M_rowsx16_columns -|- INFORMATION -|- tpch.tpch_10.lineitem_heap_unlogged -|- Target Server : localhost:25432\n",
      "2025-09-23T00:06:53.297 +02:00 -|- FastTransfer -|- ORA21_to_PG17_60M_rowsx16_columns -|- INFORMATION -|- tpch.tpch_10.lineitem_heap_unlogged -|- Target Database : tpch\n",
      "2025-09-23T00:06:53.297 +02:00 -|- FastTransfer -|- ORA21_to_PG17_60M_rowsx16_columns -|- INFORMATION -|- tpch.tpch_10.lineitem_heap_unlogged -|- Target Schema : tpch_10\n",
      "2025-09-23T00:06:53.297 +02:00 -|- FastTransfer -|- ORA21_to_PG17_60M_rowsx16_columns -|- INFORMATION -|- tpch.tpch_10.lineitem_heap_unlogged -|- Target Table : lineitem_heap_unlogged\n",
      "2025-09-23T00:06:53.297 +02:00 -|- FastTransfer -|- ORA21_to_PG17_60M_rowsx16_columns -|- INFORMATION -|- tpch.tpch_10.lineitem_heap_unlogged -|- Target Trusted Connection : False\n",
      "2025-09-23T00:06:53.297 +02:00 -|- FastTransfer -|- ORA21_to_PG17_60M_rowsx16_columns -|- INFORMATION -|- tpch.tpch_10.lineitem_heap_unlogged -|- Target User : FastUser\n",
      "2025-09-23T00:06:53.297 +02:00 -|- FastTransfer -|- ORA21_to_PG17_60M_rowsx16_columns -|- INFORMATION -|- tpch.tpch_10.lineitem_heap_unlogged -|- Columns Map Method : Name\n",
      "2025-09-23T00:06:53.297 +02:00 -|- FastTransfer -|- ORA21_to_PG17_60M_rowsx16_columns -|- INFORMATION -|- tpch.tpch_10.lineitem_heap_unlogged -|- Degree : -2\n",
      "2025-09-23T00:06:53.297 +02:00 -|- FastTransfer -|- ORA21_to_PG17_60M_rowsx16_columns -|- INFORMATION -|- tpch.tpch_10.lineitem_heap_unlogged -|- Distribute Method : Rowid\n",
      "2025-09-23T00:06:53.297 +02:00 -|- FastTransfer -|- ORA21_to_PG17_60M_rowsx16_columns -|- INFORMATION -|- tpch.tpch_10.lineitem_heap_unlogged -|- Bulkcopy Batch Size : 1048576\n",
      "2025-09-23T00:06:53.297 +02:00 -|- FastTransfer -|- ORA21_to_PG17_60M_rowsx16_columns -|- INFORMATION -|- tpch.tpch_10.lineitem_heap_unlogged -|- Load Mode : Truncate\n",
      "2025-09-23T00:06:53.297 +02:00 -|- FastTransfer -|- ORA21_to_PG17_60M_rowsx16_columns -|- INFORMATION -|- tpch.tpch_10.lineitem_heap_unlogged -|- Use Work Tables : False\n",
      "2025-09-23T00:06:53.298 +02:00 -|- FastTransfer -|- ORA21_to_PG17_60M_rowsx16_columns -|- INFORMATION -|- tpch.tpch_10.lineitem_heap_unlogged -|- Encoding used : Unicode (UTF-8) - 65001 - utf-8\n",
      "2025-09-23T00:06:53.492 +02:00 -|- FastTransfer -|- ORA21_to_PG17_60M_rowsx16_columns -|- INFORMATION -|- tpch.tpch_10.lineitem_heap_unlogged -|- Source Connection String : USER ID=TPCH_IN;PASSWORD=xxxxx;DATA SOURCE=localhost:1521/ORCLPDB;POOLING=False;CONNECTION TIMEOUT=120\n",
      "2025-09-23T00:06:53.492 +02:00 -|- FastTransfer -|- ORA21_to_PG17_60M_rowsx16_columns -|- INFORMATION -|- tpch.tpch_10.lineitem_heap_unlogged -|- Target Connection String : Host=localhost;Port=25432;Database=tpch;Trust Server Certificate=True;Application Name=FastTransfer;Timeout=15;Command Timeout=10800;Username=FastUser;Password=xxxxx\n",
      "2025-09-23T00:06:53.493 +02:00 -|- FastTransfer -|- ORA21_to_PG17_60M_rowsx16_columns -|- INFORMATION -|- tpch.tpch_10.lineitem_heap_unlogged -|- Source Database Version : Oracle Database 21c Enterprise Edition Release 21.0.0.0.0 - Production\n",
      "2025-09-23T00:06:53.493 +02:00 -|- FastTransfer -|- ORA21_to_PG17_60M_rowsx16_columns -|- INFORMATION -|- tpch.tpch_10.lineitem_heap_unlogged -|- Target Database Version : PostgreSQL 17.2 on x86_64-windows, compiled by msvc-19.42.34435, 64-bit\n",
      "2025-09-23T00:06:55.295 +02:00 -|- FastTransfer -|- ORA21_to_PG17_60M_rowsx16_columns -|- INFORMATION -|- tpch.tpch_10.lineitem_heap_unlogged -|- Degree of parallelism was computed to 16 (=> 32\\2)\n",
      "2025-09-23T00:06:57.970 +02:00 -|- FastTransfer -|- ORA21_to_PG17_60M_rowsx16_columns -|- INFORMATION -|- tpch.tpch_10.lineitem_heap_unlogged -|- Start Loading Data using distribution method Rowid\n",
      "2025-09-23T00:06:58.032 +02:00 -|- FastTransfer -|- ORA21_to_PG17_60M_rowsx16_columns -|- INFORMATION -|- tpch.tpch_10.lineitem_heap_unlogged -|- Start Loading Data using distribution method Rowid\n",
      "2025-09-23T00:06:58.075 +02:00 -|- FastTransfer -|- ORA21_to_PG17_60M_rowsx16_columns -|- INFORMATION -|- tpch.tpch_10.lineitem_heap_unlogged -|- Start Loading Data using distribution method Rowid\n",
      "2025-09-23T00:06:58.121 +02:00 -|- FastTransfer -|- ORA21_to_PG17_60M_rowsx16_columns -|- INFORMATION -|- tpch.tpch_10.lineitem_heap_unlogged -|- Start Loading Data using distribution method Rowid\n",
      "2025-09-23T00:06:58.166 +02:00 -|- FastTransfer -|- ORA21_to_PG17_60M_rowsx16_columns -|- INFORMATION -|- tpch.tpch_10.lineitem_heap_unlogged -|- Start Loading Data using distribution method Rowid\n",
      "2025-09-23T00:06:58.213 +02:00 -|- FastTransfer -|- ORA21_to_PG17_60M_rowsx16_columns -|- INFORMATION -|- tpch.tpch_10.lineitem_heap_unlogged -|- Start Loading Data using distribution method Rowid\n",
      "2025-09-23T00:06:58.254 +02:00 -|- FastTransfer -|- ORA21_to_PG17_60M_rowsx16_columns -|- INFORMATION -|- tpch.tpch_10.lineitem_heap_unlogged -|- Start Loading Data using distribution method Rowid\n",
      "2025-09-23T00:06:58.290 +02:00 -|- FastTransfer -|- ORA21_to_PG17_60M_rowsx16_columns -|- INFORMATION -|- tpch.tpch_10.lineitem_heap_unlogged -|- Start Loading Data using distribution method Rowid\n",
      "2025-09-23T00:06:58.338 +02:00 -|- FastTransfer -|- ORA21_to_PG17_60M_rowsx16_columns -|- INFORMATION -|- tpch.tpch_10.lineitem_heap_unlogged -|- Start Loading Data using distribution method Rowid\n",
      "2025-09-23T00:06:58.367 +02:00 -|- FastTransfer -|- ORA21_to_PG17_60M_rowsx16_columns -|- INFORMATION -|- tpch.tpch_10.lineitem_heap_unlogged -|- Start Loading Data using distribution method Rowid\n",
      "2025-09-23T00:06:58.404 +02:00 -|- FastTransfer -|- ORA21_to_PG17_60M_rowsx16_columns -|- INFORMATION -|- tpch.tpch_10.lineitem_heap_unlogged -|- Start Loading Data using distribution method Rowid\n",
      "2025-09-23T00:06:58.444 +02:00 -|- FastTransfer -|- ORA21_to_PG17_60M_rowsx16_columns -|- INFORMATION -|- tpch.tpch_10.lineitem_heap_unlogged -|- Start Loading Data using distribution method Rowid\n",
      "2025-09-23T00:06:58.472 +02:00 -|- FastTransfer -|- ORA21_to_PG17_60M_rowsx16_columns -|- INFORMATION -|- tpch.tpch_10.lineitem_heap_unlogged -|- Start Loading Data using distribution method Rowid\n",
      "2025-09-23T00:06:58.515 +02:00 -|- FastTransfer -|- ORA21_to_PG17_60M_rowsx16_columns -|- INFORMATION -|- tpch.tpch_10.lineitem_heap_unlogged -|- Start Loading Data using distribution method Rowid\n",
      "2025-09-23T00:06:58.538 +02:00 -|- FastTransfer -|- ORA21_to_PG17_60M_rowsx16_columns -|- INFORMATION -|- tpch.tpch_10.lineitem_heap_unlogged -|- Start Loading Data using distribution method Rowid\n",
      "2025-09-23T00:06:58.568 +02:00 -|- FastTransfer -|- ORA21_to_PG17_60M_rowsx16_columns -|- INFORMATION -|- tpch.tpch_10.lineitem_heap_unlogged -|- Start Loading Data using distribution method Rowid\n",
      "2025-09-23T00:06:58.589 +02:00 -|- FastTransfer -|- ORA21_to_PG17_60M_rowsx16_columns -|- INFORMATION -|- tpch.tpch_10.lineitem_heap_unlogged -|- Start Loading Data using distribution method Rowid\n",
      "2025-09-23T00:07:33.326 +02:00 -|- FastTransfer -|- ORA21_to_PG17_60M_rowsx16_columns -|- INFORMATION -|- tpch.tpch_10.lineitem_heap_unlogged -|- Completed Load Query 3 for rowid between AAATWhAAMAACuyAAAA and AAATWhAAMAADfj/H// : 2044425 rows x 16 columns in 35420ms\n",
      "2025-09-23T00:07:35.795 +02:00 -|- FastTransfer -|- ORA21_to_PG17_60M_rowsx16_columns -|- INFORMATION -|- tpch.tpch_10.lineitem_heap_unlogged -|- Completed Load Query 16 for rowid between AAATWhAANAAFUCAAAA and AAATWhAANAAFgB/H// : 2191838 rows x 16 columns in 37889ms\n",
      "2025-09-23T00:07:52.384 +02:00 -|- FastTransfer -|- ORA21_to_PG17_60M_rowsx16_columns -|- INFORMATION -|- tpch.tpch_10.lineitem_heap_unlogged -|- Completed Load Query 4 for rowid between AAATWhAANAAAnWAAAA and AAATWhAANAABrf/H// : 3395325 rows x 16 columns in 54478ms\n",
      "2025-09-23T00:07:53.274 +02:00 -|- FastTransfer -|- ORA21_to_PG17_60M_rowsx16_columns -|- INFORMATION -|- tpch.tpch_10.lineitem_heap_unlogged -|- Completed Load Query 1 for rowid between AAATWhAAMAAAeUAAAA and AAATWhAAMAAAzD/H// : 3467534 rows x 16 columns in 55368ms\n",
      "2025-09-23T00:07:54.622 +02:00 -|- FastTransfer -|- ORA21_to_PG17_60M_rowsx16_columns -|- INFORMATION -|- tpch.tpch_10.lineitem_heap_unlogged -|- Completed Load Query 9 for rowid between AAATWhAANAADBwAAAA and AAATWhAANAADTv/H// : 3583984 rows x 16 columns in 56716ms\n",
      "2025-09-23T00:07:54.878 +02:00 -|- FastTransfer -|- ORA21_to_PG17_60M_rowsx16_columns -|- INFORMATION -|- tpch.tpch_10.lineitem_heap_unlogged -|- Completed Load Query 8 for rowid between AAATWhAANAACrwAAAA and AAATWhAANAAC/v/H// : 3583999 rows x 16 columns in 56972ms\n",
      "2025-09-23T00:07:55.056 +02:00 -|- FastTransfer -|- ORA21_to_PG17_60M_rowsx16_columns -|- INFORMATION -|- tpch.tpch_10.lineitem_heap_unlogged -|- Completed Load Query 12 for rowid between AAATWhAANAAEACAAAA and AAATWhAANAAEUB/H// : 3583776 rows x 16 columns in 57150ms\n",
      "2025-09-23T00:07:55.141 +02:00 -|- FastTransfer -|- ORA21_to_PG17_60M_rowsx16_columns -|- INFORMATION -|- tpch.tpch_10.lineitem_heap_unlogged -|- Completed Load Query 6 for rowid between AAATWhAANAACBiAAAA and AAATWhAANAACUv/H// : 3585531 rows x 16 columns in 57235ms\n",
      "2025-09-23T00:07:55.337 +02:00 -|- FastTransfer -|- ORA21_to_PG17_60M_rowsx16_columns -|- INFORMATION -|- tpch.tpch_10.lineitem_heap_unlogged -|- Completed Load Query 14 for rowid between AAATWhAANAAEqCAAAA and AAATWhAANAAE+B/H// : 3584343 rows x 16 columns in 57431ms\n",
      "2025-09-23T00:07:55.532 +02:00 -|- FastTransfer -|- ORA21_to_PG17_60M_rowsx16_columns -|- INFORMATION -|- tpch.tpch_10.lineitem_heap_unlogged -|- Completed Load Query 15 for rowid between AAATWhAANAAFACAAAA and AAATWhAANAAFSB/H// : 3583953 rows x 16 columns in 57625ms\n",
      "2025-09-23T00:07:55.557 +02:00 -|- FastTransfer -|- ORA21_to_PG17_60M_rowsx16_columns -|- INFORMATION -|- tpch.tpch_10.lineitem_heap_unlogged -|- Completed Load Query 11 for rowid between AAATWhAANAADrwAAAA and AAATWhAANAAEAB/H// : 3646808 rows x 16 columns in 57651ms\n",
      "2025-09-23T00:07:56.015 +02:00 -|- FastTransfer -|- ORA21_to_PG17_60M_rowsx16_columns -|- INFORMATION -|- tpch.tpch_10.lineitem_heap_unlogged -|- Completed Load Query 0 for rowid between AAATWhAAMAAAD4AAAA and AAATWhAAMAAAeT/H// : 3738310 rows x 16 columns in 58109ms\n",
      "2025-09-23T00:07:57.477 +02:00 -|- FastTransfer -|- ORA21_to_PG17_60M_rowsx16_columns -|- INFORMATION -|- tpch.tpch_10.lineitem_heap_unlogged -|- Completed Load Query 2 for rowid between AAATWhAAMAAAzkAAAA and AAATWhAAMAACux/H// : 3913954 rows x 16 columns in 59571ms\n",
      "2025-09-23T00:07:57.980 +02:00 -|- FastTransfer -|- ORA21_to_PG17_60M_rowsx16_columns -|- INFORMATION -|- tpch.tpch_10.lineitem_heap_unlogged -|- Completed Load Query 5 for rowid between AAATWhAANAABrwAAAA and AAATWhAANAACBB/H// : 3985691 rows x 16 columns in 60074ms\n",
      "2025-09-23T00:07:58.314 +02:00 -|- FastTransfer -|- ORA21_to_PG17_60M_rowsx16_columns -|- INFORMATION -|- tpch.tpch_10.lineitem_heap_unlogged -|- Completed Load Query 10 for rowid between AAATWhAANAADVwAAAA and AAATWhAANAADrv/H// : 4032353 rows x 16 columns in 60408ms\n",
      "2025-09-23T00:07:58.324 +02:00 -|- FastTransfer -|- ORA21_to_PG17_60M_rowsx16_columns -|- INFORMATION -|- tpch.tpch_10.lineitem_heap_unlogged -|- Completed Load Query 13 for rowid between AAATWhAANAAEUCAAAA and AAATWhAANAAEqB/H// : 4032261 rows x 16 columns in 60418ms\n",
      "2025-09-23T00:07:58.385 +02:00 -|- FastTransfer -|- ORA21_to_PG17_60M_rowsx16_columns -|- INFORMATION -|- tpch.tpch_10.lineitem_heap_unlogged -|- Completed Load Query 7 for rowid between AAATWhAANAACVQAAAA and AAATWhAANAACrP/H// : 4031967 rows x 16 columns in 60479ms\n",
      "2025-09-23T00:07:58.386 +02:00 -|- FastTransfer -|- ORA21_to_PG17_60M_rowsx16_columns -|- INFORMATION -|- tpch.tpch_10.lineitem_heap_unlogged -|- Total rows : 59986052\n",
      "2025-09-23T00:07:58.386 +02:00 -|- FastTransfer -|- ORA21_to_PG17_60M_rowsx16_columns -|- INFORMATION -|- tpch.tpch_10.lineitem_heap_unlogged -|- Total columns : 16\n",
      "2025-09-23T00:07:58.386 +02:00 -|- FastTransfer -|- ORA21_to_PG17_60M_rowsx16_columns -|- INFORMATION -|- tpch.tpch_10.lineitem_heap_unlogged -|- Total cells : 959776832\n",
      "2025-09-23T00:07:58.386 +02:00 -|- FastTransfer -|- ORA21_to_PG17_60M_rowsx16_columns -|- INFORMATION -|- tpch.tpch_10.lineitem_heap_unlogged -|- Rows Throughput : 950780 rows/s\n",
      "2025-09-23T00:07:58.386 +02:00 -|- FastTransfer -|- ORA21_to_PG17_60M_rowsx16_columns -|- INFORMATION -|- tpch.tpch_10.lineitem_heap_unlogged -|- Cells Throughput : 15212496 cells/s\n",
      "2025-09-23T00:07:58.386 +02:00 -|- FastTransfer -|- ORA21_to_PG17_60M_rowsx16_columns -|- INFORMATION -|- tpch.tpch_10.lineitem_heap_unlogged -|- Transfert time : Elapsed=63091 ms\n",
      "2025-09-23T00:07:58.386 +02:00 -|- FastTransfer -|- ORA21_to_PG17_60M_rowsx16_columns -|- INFORMATION -|- tpch.tpch_10.lineitem_heap_unlogged -|- Total time : Elapsed=65257 ms\n",
      "2025-09-23T00:07:58.386 +02:00 -|- FastTransfer -|- ORA21_to_PG17_60M_rowsx16_columns -|- INFORMATION -|- tpch.tpch_10.lineitem_heap_unlogged -|- Completed Load\n"
     ]
    }
   ],
   "source": [
    "cd D:\\FastTransfer\n",
    "\n",
    ".\\FastTransfer.exe `\n",
    "--sourceconnectiontype \"oraodp\" `\n",
    "--sourceserver \"localhost:1521/ORCLPDB\" `\n",
    "--sourcedatabase \"ORCLPDB\" `\n",
    "--sourceuser \"TPCH_IN\" `\n",
    "--sourcepassword \"TPCH_IN\" `\n",
    "--sourceschema \"TPCH_IN\" `\n",
    "--sourcetable \"LINEITEM\" `\n",
    "`\n",
    "--targetconnectiontype \"pgcopy\" `\n",
    "--targetserver \"localhost:25432\" `\n",
    "--targetuser \"FastUser\" `\n",
    "--targetpassword \"FastPassword\" `\n",
    "--targetdatabase \"tpch\" `\n",
    "--targetschema \"tpch_10\" `\n",
    "--targettable \"lineitem_heap_unlogged\" `\n",
    "`\n",
    "--loadmode \"Truncate\" `\n",
    "--mapmethod \"Name\" `\n",
    "--method \"Rowid\" `\n",
    "--degree -2 `\n",
    "--runid \"ORA21_to_PG17_60M_rowsx16_columns\""
   ]
  },
  {
   "cell_type": "markdown",
   "id": "ac62e25c",
   "metadata": {
    "polyglot_notebook": {
     "kernelName": "csharp"
    }
   },
   "source": [
    "#### Results with Oracle Sources:\n",
    "\n",
    "| ORA21c ==> PG17  \t\t\t\t| Elapsed Time (seconds)|Cells/sec \t    |Parallel Dispatch Method | degree |\n",
    "|-----------------------------------------------------------------------|:---------------------:|----------:| :--: | :--: |\n",
    "| FastTransfer Load LINEITEM (60M Rows x 16c columns) HEAP Target       | 65.6s     \t\t\t|15_212_496    | Rowid | 16 (-2) |\n",
    "| FastTransfer Load ORDERS   (15M Rows x  9c columns) HEAP Target \t\t| 10.9s     \t\t\t|14_331_311     | Rowid | 16 (-2) | \n"
   ]
  }
 ],
 "metadata": {
  "kernelspec": {
   "display_name": ".NET (C#)",
   "language": "C#",
   "name": ".net-csharp"
  },
  "language_info": {
   "name": "polyglot-notebook"
  },
  "polyglot_notebook": {
   "kernelInfo": {
    "defaultKernelName": "csharp",
    "items": [
     {
      "aliases": [],
      "name": "csharp"
     },
     {
      "aliases": [],
      "languageName": "pwsh",
      "name": "pwsh"
     },
     {
      "aliases": [],
      "languageName": "PostgreSQL",
      "name": "sql-pgsql17"
     },
     {
      "aliases": [],
      "languageName": "T-SQL",
      "name": "sql-SS2025_tpch_test"
     }
    ]
   }
  }
 },
 "nbformat": 4,
 "nbformat_minor": 5
}
