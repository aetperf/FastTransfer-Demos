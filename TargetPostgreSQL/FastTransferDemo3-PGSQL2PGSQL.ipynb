{
 "cells": [
  {
   "cell_type": "markdown",
   "id": "ed7e8fc1",
   "metadata": {
    "polyglot_notebook": {
     "kernelName": "pwsh"
    }
   },
   "source": [
    "```\n",
    "███████  █████  ███████ ████████ ████████ ██████   █████  ███    ██ ███████ ███████ ███████ ██████  \n",
    "██      ██   ██ ██         ██       ██    ██   ██ ██   ██ ████   ██ ██      ██      ██      ██   ██ \n",
    "█████   ███████ ███████    ██       ██    ██████  ███████ ██ ██  ██ ███████ █████   █████   ██████  \n",
    "██      ██   ██      ██    ██       ██    ██   ██ ██   ██ ██  ██ ██      ██ ██      ██      ██   ██ \n",
    "██      ██   ██ ███████    ██       ██    ██   ██ ██   ██ ██   ████ ███████ ██      ███████ ██   ██ "
   ]
  },
  {
   "cell_type": "markdown",
   "id": "b5a1077a",
   "metadata": {},
   "source": [
    "# Demo 3 - Source PGSQL16 - Target PGSQL17"
   ]
  },
  {
   "cell_type": "code",
   "execution_count": 1,
   "id": "f79f5dc1",
   "metadata": {
    "polyglot_notebook": {
     "kernelName": "csharp"
    }
   },
   "outputs": [
    {
     "data": {
      "text/html": [
       "<div><div></div><div></div><div><strong>Installed Packages</strong><ul><li><span>Microsoft.DotNet.Interactive.PostgreSQL, 1.0.0-beta.25323.1</span></li></ul></div></div>"
      ]
     },
     "metadata": {},
     "output_type": "display_data"
    },
    {
     "data": {
      "text/plain": [
       "Loading extension script from `C:\\Users\\romai\\.nuget\\packages\\microsoft.dotnet.interactive.postgresql\\1.0.0-beta.25323.1\\interactive-extensions\\dotnet\\extension.dib`"
      ]
     },
     "metadata": {},
     "output_type": "display_data"
    },
    {
     "data": {
      "text/html": [
       "<details><summary>Query PostgreSQL databases.</summary>\r\n",
       "    <p>This extension adds support for connecting to PostgreSql databases using the <code>#!connect postgres</code> magic command.</p>\r\n",
       "    </details>"
      ]
     },
     "metadata": {},
     "output_type": "display_data"
    }
   ],
   "source": [
    "#r \"nuget:Microsoft.DotNet.Interactive.PostgreSQL , *-*\""
   ]
  },
  {
   "cell_type": "markdown",
   "id": "8486177e",
   "metadata": {},
   "source": [
    "## Working on TPCH SF10 ORDERS (15M rows)"
   ]
  },
  {
   "cell_type": "markdown",
   "id": "c2950409",
   "metadata": {},
   "source": [
    "### PGSQL 16 to PG 17"
   ]
  },
  {
   "cell_type": "code",
   "execution_count": 2,
   "id": "a6099083",
   "metadata": {
    "polyglot_notebook": {
     "kernelName": "csharp"
    }
   },
   "outputs": [
    {
     "data": {
      "text/plain": [
       "Kernel added: #!sql-pgsql17"
      ]
     },
     "metadata": {},
     "output_type": "display_data"
    }
   ],
   "source": [
    "// Connect to PostgreSQL target database\n",
    "#!connect postgres \"Host=localhost;Port=25432;Database=tpch;Username=FastUser;Password=FastPassword;CommandTimeout=1500\" --kernel-name pgsql17"
   ]
  },
  {
   "cell_type": "markdown",
   "id": "db3a8822",
   "metadata": {},
   "source": [
    "## Copy data from postgresql 16 to postgresql 17 using dblink (to compare)"
   ]
  },
  {
   "cell_type": "markdown",
   "id": "9838fd82",
   "metadata": {},
   "source": [
    "#### Target orders_3 with a clustered ColumnStoreIndex"
   ]
  },
  {
   "cell_type": "code",
   "execution_count": 24,
   "id": "d1094a0b",
   "metadata": {
    "language_info": {
     "name": "polyglot-notebook"
    },
    "polyglot_notebook": {
     "kernelName": "sql-pgsql17"
    }
   },
   "outputs": [
    {
     "data": {
      "text/csv": [
       "count_target_table_rows\r\n",
       "0\r\n"
      ],
      "text/html": [
       "<table><thead><tr><td><span>count_target_table_rows</span></td></tr></thead><tbody><tr><td><div class=\"dni-plaintext\"><pre>0</pre></div></td></tr></tbody></table><style>\r\n",
       ".dni-code-hint {\r\n",
       "    font-style: italic;\r\n",
       "    overflow: hidden;\r\n",
       "    white-space: nowrap;\r\n",
       "}\r\n",
       ".dni-treeview {\r\n",
       "    white-space: nowrap;\r\n",
       "}\r\n",
       ".dni-treeview td {\r\n",
       "    vertical-align: top;\r\n",
       "    text-align: start;\r\n",
       "}\r\n",
       "details.dni-treeview {\r\n",
       "    padding-left: 1em;\r\n",
       "}\r\n",
       "table td {\r\n",
       "    text-align: start;\r\n",
       "}\r\n",
       "table tr { \r\n",
       "    vertical-align: top; \r\n",
       "    margin: 0em 0px;\r\n",
       "}\r\n",
       "table tr td pre \r\n",
       "{ \r\n",
       "    vertical-align: top !important; \r\n",
       "    margin: 0em 0px !important;\r\n",
       "} \r\n",
       "table th {\r\n",
       "    text-align: start;\r\n",
       "}\r\n",
       "</style>"
      ]
     },
     "metadata": {},
     "output_type": "display_data"
    }
   ],
   "source": [
    "TRUNCATE TABLE tpch_10.orders;\n",
    "SELECT count(*) count_target_table_rows from tpch_10.orders;\n",
    "\n",
    "ALTER TABLE tpch_10.orders SET UNLOGGED;"
   ]
  },
  {
   "cell_type": "code",
   "execution_count": null,
   "metadata": {
    "language_info": {
     "name": "polyglot-notebook"
    },
    "polyglot_notebook": {
     "kernelName": "sql-pgsql17"
    }
   },
   "outputs": [
    {
     "data": {
      "text/csv": [
       "\r\n"
      ],
      "text/html": [
       "<table><thead><tr></tr></thead><tbody></tbody></table><style>\r\n",
       ".dni-code-hint {\r\n",
       "    font-style: italic;\r\n",
       "    overflow: hidden;\r\n",
       "    white-space: nowrap;\r\n",
       "}\r\n",
       ".dni-treeview {\r\n",
       "    white-space: nowrap;\r\n",
       "}\r\n",
       ".dni-treeview td {\r\n",
       "    vertical-align: top;\r\n",
       "    text-align: start;\r\n",
       "}\r\n",
       "details.dni-treeview {\r\n",
       "    padding-left: 1em;\r\n",
       "}\r\n",
       "table td {\r\n",
       "    text-align: start;\r\n",
       "}\r\n",
       "table tr { \r\n",
       "    vertical-align: top; \r\n",
       "    margin: 0em 0px;\r\n",
       "}\r\n",
       "table tr td pre \r\n",
       "{ \r\n",
       "    vertical-align: top !important; \r\n",
       "    margin: 0em 0px !important;\r\n",
       "} \r\n",
       "table th {\r\n",
       "    text-align: start;\r\n",
       "}\r\n",
       "</style>"
      ]
     },
     "metadata": {},
     "output_type": "display_data"
    }
   ],
   "source": [
    "DROP FOREIGN TABLE IF EXISTS \"pg16_orders\";\n",
    "DROP USER MAPPING if exists for \"FastUser\" server \"pg16tpch\";\n",
    "DROP SERVER if exists \"pg16tpch\";"
   ]
  },
  {
   "cell_type": "code",
   "execution_count": 14,
   "metadata": {
    "language_info": {
     "name": "polyglot-notebook"
    },
    "polyglot_notebook": {
     "kernelName": "sql-pgsql17"
    }
   },
   "outputs": [
    {
     "data": {
      "text/csv": [
       "\r\n"
      ],
      "text/html": [
       "<table><thead><tr></tr></thead><tbody></tbody></table><style>\r\n",
       ".dni-code-hint {\r\n",
       "    font-style: italic;\r\n",
       "    overflow: hidden;\r\n",
       "    white-space: nowrap;\r\n",
       "}\r\n",
       ".dni-treeview {\r\n",
       "    white-space: nowrap;\r\n",
       "}\r\n",
       ".dni-treeview td {\r\n",
       "    vertical-align: top;\r\n",
       "    text-align: start;\r\n",
       "}\r\n",
       "details.dni-treeview {\r\n",
       "    padding-left: 1em;\r\n",
       "}\r\n",
       "table td {\r\n",
       "    text-align: start;\r\n",
       "}\r\n",
       "table tr { \r\n",
       "    vertical-align: top; \r\n",
       "    margin: 0em 0px;\r\n",
       "}\r\n",
       "table tr td pre \r\n",
       "{ \r\n",
       "    vertical-align: top !important; \r\n",
       "    margin: 0em 0px !important;\r\n",
       "} \r\n",
       "table th {\r\n",
       "    text-align: start;\r\n",
       "}\r\n",
       "</style>"
      ]
     },
     "metadata": {},
     "output_type": "display_data"
    }
   ],
   "source": [
    "CREATE SERVER \"pg16tpch\" FOREIGN DATA WRAPPER postgres_fdw OPTIONS (host 'localhost', dbname 'tpch', port '15432');\n",
    "CREATE USER MAPPING IF NOT EXISTS FOR \"FastUser\" SERVER pg16tpch OPTIONS (user 'FastUser', password 'FastPassword');"
   ]
  },
  {
   "cell_type": "code",
   "execution_count": 15,
   "metadata": {
    "language_info": {
     "name": "polyglot-notebook"
    },
    "polyglot_notebook": {
     "kernelName": "sql-pgsql17"
    }
   },
   "outputs": [
    {
     "data": {
      "text/csv": [
       "\r\n"
      ],
      "text/html": [
       "<table><thead><tr></tr></thead><tbody></tbody></table><style>\r\n",
       ".dni-code-hint {\r\n",
       "    font-style: italic;\r\n",
       "    overflow: hidden;\r\n",
       "    white-space: nowrap;\r\n",
       "}\r\n",
       ".dni-treeview {\r\n",
       "    white-space: nowrap;\r\n",
       "}\r\n",
       ".dni-treeview td {\r\n",
       "    vertical-align: top;\r\n",
       "    text-align: start;\r\n",
       "}\r\n",
       "details.dni-treeview {\r\n",
       "    padding-left: 1em;\r\n",
       "}\r\n",
       "table td {\r\n",
       "    text-align: start;\r\n",
       "}\r\n",
       "table tr { \r\n",
       "    vertical-align: top; \r\n",
       "    margin: 0em 0px;\r\n",
       "}\r\n",
       "table tr td pre \r\n",
       "{ \r\n",
       "    vertical-align: top !important; \r\n",
       "    margin: 0em 0px !important;\r\n",
       "} \r\n",
       "table th {\r\n",
       "    text-align: start;\r\n",
       "}\r\n",
       "</style>"
      ]
     },
     "metadata": {},
     "output_type": "display_data"
    }
   ],
   "source": [
    "-- Create external table in pg17 (target) to read data from pg16 (source)\n",
    "DROP FOREIGN TABLE IF EXISTS pg16_orders;\n",
    "CREATE FOREIGN TABLE IF NOT EXISTS pg16_orders (\n",
    "    o_orderkey integer,\n",
    "    o_custkey integer,\n",
    "    o_orderstatus char(1),\n",
    "    o_totalprice numeric(15,2),\n",
    "    o_orderdate date,\n",
    "    o_orderpriority char(15),\n",
    "    o_clerk char(15),\n",
    "    o_shippriority integer,\n",
    "    o_comment varchar(79)\n",
    ") SERVER pg16tpch OPTIONS (schema_name 'tpch_10', table_name 'orders');"
   ]
  },
  {
   "cell_type": "markdown",
   "id": "6c9434a4",
   "metadata": {},
   "source": [
    "### Copy data from postgresql 16 to postgresql 17 using the external table ==>\n"
   ]
  },
  {
   "cell_type": "code",
   "execution_count": 25,
   "metadata": {
    "language_info": {
     "name": "polyglot-notebook"
    },
    "polyglot_notebook": {
     "kernelName": "sql-pgsql17"
    }
   },
   "outputs": [
    {
     "data": {
      "text/csv": [
       "\r\n"
      ],
      "text/html": [
       "<table><thead><tr></tr></thead><tbody></tbody></table><style>\r\n",
       ".dni-code-hint {\r\n",
       "    font-style: italic;\r\n",
       "    overflow: hidden;\r\n",
       "    white-space: nowrap;\r\n",
       "}\r\n",
       ".dni-treeview {\r\n",
       "    white-space: nowrap;\r\n",
       "}\r\n",
       ".dni-treeview td {\r\n",
       "    vertical-align: top;\r\n",
       "    text-align: start;\r\n",
       "}\r\n",
       "details.dni-treeview {\r\n",
       "    padding-left: 1em;\r\n",
       "}\r\n",
       "table td {\r\n",
       "    text-align: start;\r\n",
       "}\r\n",
       "table tr { \r\n",
       "    vertical-align: top; \r\n",
       "    margin: 0em 0px;\r\n",
       "}\r\n",
       "table tr td pre \r\n",
       "{ \r\n",
       "    vertical-align: top !important; \r\n",
       "    margin: 0em 0px !important;\r\n",
       "} \r\n",
       "table th {\r\n",
       "    text-align: start;\r\n",
       "}\r\n",
       "</style>"
      ]
     },
     "metadata": {},
     "output_type": "display_data"
    }
   ],
   "source": [
    "INSERT INTO tpch_10.orders\n",
    "SELECT * FROM pg16_orders;"
   ]
  },
  {
   "cell_type": "code",
   "execution_count": 17,
   "metadata": {
    "language_info": {
     "name": "polyglot-notebook"
    },
    "polyglot_notebook": {
     "kernelName": "sql-pgsql17"
    }
   },
   "outputs": [
    {
     "data": {
      "text/csv": [
       "count_target_table_rows_after_insert\r\n",
       "15000000\r\n"
      ],
      "text/html": [
       "<table><thead><tr><td><span>count_target_table_rows_after_insert</span></td></tr></thead><tbody><tr><td><div class=\"dni-plaintext\"><pre>15000000</pre></div></td></tr></tbody></table><style>\r\n",
       ".dni-code-hint {\r\n",
       "    font-style: italic;\r\n",
       "    overflow: hidden;\r\n",
       "    white-space: nowrap;\r\n",
       "}\r\n",
       ".dni-treeview {\r\n",
       "    white-space: nowrap;\r\n",
       "}\r\n",
       ".dni-treeview td {\r\n",
       "    vertical-align: top;\r\n",
       "    text-align: start;\r\n",
       "}\r\n",
       "details.dni-treeview {\r\n",
       "    padding-left: 1em;\r\n",
       "}\r\n",
       "table td {\r\n",
       "    text-align: start;\r\n",
       "}\r\n",
       "table tr { \r\n",
       "    vertical-align: top; \r\n",
       "    margin: 0em 0px;\r\n",
       "}\r\n",
       "table tr td pre \r\n",
       "{ \r\n",
       "    vertical-align: top !important; \r\n",
       "    margin: 0em 0px !important;\r\n",
       "} \r\n",
       "table th {\r\n",
       "    text-align: start;\r\n",
       "}\r\n",
       "</style>"
      ]
     },
     "metadata": {},
     "output_type": "display_data"
    }
   ],
   "source": [
    "SELECT count(*) count_target_table_rows_after_insert from tpch_10.orders;"
   ]
  },
  {
   "cell_type": "markdown",
   "id": "9c51f2be",
   "metadata": {},
   "source": [
    "## Test FastTransfer with Method Ctid (postgresql only)"
   ]
  },
  {
   "cell_type": "markdown",
   "id": "84121c68",
   "metadata": {},
   "source": [
    "CTID is a system hidden column that stores the physical location (block number and tuple offset) of a row version within its table.\n",
    "\n",
    "You can SELECT it and even filter data using this hidden column. FastTransfer use the Ctid column to select data by chunck. It also create a micro-postgresql-snapshot before openning several connections to the source in order to have a stable source for each threads that will extract a portion of the data. "
   ]
  },
  {
   "cell_type": "code",
   "execution_count": 34,
   "id": "6f2f4100",
   "metadata": {
    "polyglot_notebook": {
     "kernelName": "pwsh"
    }
   },
   "outputs": [
    {
     "name": "stdout",
     "output_type": "stream",
     "text": [
      "2025-09-22T15:54:26.447 +02:00 -|- FastTransfer -|- PG16_to_PG17 -|- INFORMATION -|- tpch.tpch_10.orders -|- FastTransfer - running in trial mode – will expires on 2025‑10‑20 (27 day(s) left).\n",
      "2025-09-22T15:54:26.455 +02:00 -|- FastTransfer -|- PG16_to_PG17 -|- INFORMATION -|- tpch.tpch_10.orders -|- Starting\n",
      "2025-09-22T15:54:26.456 +02:00 -|- FastTransfer -|- PG16_to_PG17 -|- INFORMATION -|- tpch.tpch_10.orders -|- FastTransfer Version : 0.13.10.0 Architecture : X64 - Framework : .NET 8.0.19\n",
      "2025-09-22T15:54:26.456 +02:00 -|- FastTransfer -|- PG16_to_PG17 -|- INFORMATION -|- tpch.tpch_10.orders -|- OS : Microsoft Windows 10.0.26100\n",
      "2025-09-22T15:54:26.456 +02:00 -|- FastTransfer -|- PG16_to_PG17 -|- INFORMATION -|- tpch.tpch_10.orders -|- Process ID : 74280\n",
      "2025-09-22T15:54:26.456 +02:00 -|- FastTransfer -|- PG16_to_PG17 -|- INFORMATION -|- tpch.tpch_10.orders -|- Provided Run ID : PG16_to_PG17\n",
      "2025-09-22T15:54:26.456 +02:00 -|- FastTransfer -|- PG16_to_PG17 -|- INFORMATION -|- tpch.tpch_10.orders -|- Source Connection Type : pgcopy\n",
      "2025-09-22T15:54:26.456 +02:00 -|- FastTransfer -|- PG16_to_PG17 -|- INFORMATION -|- tpch.tpch_10.orders -|- Source SqlInstance : localhost:15432\n",
      "2025-09-22T15:54:26.456 +02:00 -|- FastTransfer -|- PG16_to_PG17 -|- INFORMATION -|- tpch.tpch_10.orders -|- Source Database : tpch\n",
      "2025-09-22T15:54:26.456 +02:00 -|- FastTransfer -|- PG16_to_PG17 -|- INFORMATION -|- tpch.tpch_10.orders -|- Source Trusted Connection : False\n",
      "2025-09-22T15:54:26.456 +02:00 -|- FastTransfer -|- PG16_to_PG17 -|- INFORMATION -|- tpch.tpch_10.orders -|- Source User : FastUser\n",
      "2025-09-22T15:54:26.456 +02:00 -|- FastTransfer -|- PG16_to_PG17 -|- INFORMATION -|- tpch.tpch_10.orders -|- Source Schema : tpch_10\n",
      "2025-09-22T15:54:26.456 +02:00 -|- FastTransfer -|- PG16_to_PG17 -|- INFORMATION -|- tpch.tpch_10.orders -|- Source Table : orders\n",
      "2025-09-22T15:54:26.456 +02:00 -|- FastTransfer -|- PG16_to_PG17 -|- INFORMATION -|- tpch.tpch_10.orders -|- Target Type : pgcopy\n",
      "2025-09-22T15:54:26.456 +02:00 -|- FastTransfer -|- PG16_to_PG17 -|- INFORMATION -|- tpch.tpch_10.orders -|- Target Server : localhost:25432\n",
      "2025-09-22T15:54:26.456 +02:00 -|- FastTransfer -|- PG16_to_PG17 -|- INFORMATION -|- tpch.tpch_10.orders -|- Target Database : tpch\n",
      "2025-09-22T15:54:26.456 +02:00 -|- FastTransfer -|- PG16_to_PG17 -|- INFORMATION -|- tpch.tpch_10.orders -|- Target Schema : tpch_10\n",
      "2025-09-22T15:54:26.456 +02:00 -|- FastTransfer -|- PG16_to_PG17 -|- INFORMATION -|- tpch.tpch_10.orders -|- Target Table : orders\n",
      "2025-09-22T15:54:26.456 +02:00 -|- FastTransfer -|- PG16_to_PG17 -|- INFORMATION -|- tpch.tpch_10.orders -|- Target Trusted Connection : False\n",
      "2025-09-22T15:54:26.456 +02:00 -|- FastTransfer -|- PG16_to_PG17 -|- INFORMATION -|- tpch.tpch_10.orders -|- Target User : FastUser\n",
      "2025-09-22T15:54:26.456 +02:00 -|- FastTransfer -|- PG16_to_PG17 -|- INFORMATION -|- tpch.tpch_10.orders -|- Columns Map Method : Name\n",
      "2025-09-22T15:54:26.457 +02:00 -|- FastTransfer -|- PG16_to_PG17 -|- INFORMATION -|- tpch.tpch_10.orders -|- Degree : -3\n",
      "2025-09-22T15:54:26.457 +02:00 -|- FastTransfer -|- PG16_to_PG17 -|- INFORMATION -|- tpch.tpch_10.orders -|- Distribute Method : Ctid\n",
      "2025-09-22T15:54:26.457 +02:00 -|- FastTransfer -|- PG16_to_PG17 -|- INFORMATION -|- tpch.tpch_10.orders -|- Bulkcopy Batch Size : 1048576\n",
      "2025-09-22T15:54:26.457 +02:00 -|- FastTransfer -|- PG16_to_PG17 -|- INFORMATION -|- tpch.tpch_10.orders -|- Load Mode : Truncate\n",
      "2025-09-22T15:54:26.457 +02:00 -|- FastTransfer -|- PG16_to_PG17 -|- INFORMATION -|- tpch.tpch_10.orders -|- Use Work Tables : False\n",
      "2025-09-22T15:54:26.458 +02:00 -|- FastTransfer -|- PG16_to_PG17 -|- INFORMATION -|- tpch.tpch_10.orders -|- Encoding used : Unicode (UTF-8) - 65001 - utf-8\n",
      "2025-09-22T15:54:26.541 +02:00 -|- FastTransfer -|- PG16_to_PG17 -|- INFORMATION -|- tpch.tpch_10.orders -|- Source Connection String : Host=localhost;Port=15432;Database=tpch;Trust Server Certificate=True;Application Name=FastTransfer;Timeout=15;Command Timeout=10800;Username=FastUser;Password=xxxxx\n",
      "2025-09-22T15:54:26.541 +02:00 -|- FastTransfer -|- PG16_to_PG17 -|- INFORMATION -|- tpch.tpch_10.orders -|- Target Connection String : Host=localhost;Port=25432;Database=tpch;Trust Server Certificate=True;Application Name=FastTransfer;Timeout=15;Command Timeout=10800;Username=FastUser;Password=xxxxx\n",
      "2025-09-22T15:54:26.541 +02:00 -|- FastTransfer -|- PG16_to_PG17 -|- INFORMATION -|- tpch.tpch_10.orders -|- Source Database Version : PostgreSQL 16.1, compiled by Visual C++ build 1937, 64-bit\n",
      "2025-09-22T15:54:26.541 +02:00 -|- FastTransfer -|- PG16_to_PG17 -|- INFORMATION -|- tpch.tpch_10.orders -|- Target Database Version : PostgreSQL 17.2 on x86_64-windows, compiled by msvc-19.42.34435, 64-bit\n",
      "2025-09-22T15:54:26.774 +02:00 -|- FastTransfer -|- PG16_to_PG17 -|- INFORMATION -|- tpch.tpch_10.orders -|- Degree of parallelism was computed to 10 (=> 32\\3)\n",
      "2025-09-22T15:54:26.777 +02:00 -|- FastTransfer -|- PG16_to_PG17 -|- INFORMATION -|- tpch.tpch_10.orders -|- Snapshot ID = 00000003-00000038-1 Created in 3 ms\n",
      "2025-09-22T15:54:27.152 +02:00 -|- FastTransfer -|- PG16_to_PG17 -|- INFORMATION -|- tpch.tpch_10.orders -|- Completed CTID Max Retrieval in 0 ms\n",
      "2025-09-22T15:54:27.152 +02:00 -|- FastTransfer -|- PG16_to_PG17 -|- INFORMATION -|- tpch.tpch_10.orders -|- Max CTID for table \"tpch_10\".\"orders\" @snapshotid=00000003-00000038-1 = (276024,54)\n",
      "2025-09-22T15:54:27.154 +02:00 -|- FastTransfer -|- PG16_to_PG17 -|- INFORMATION -|- tpch.tpch_10.orders -|- Start Loading Data using distribution method Ctid\n",
      "2025-09-22T15:54:27.226 +02:00 -|- FastTransfer -|- PG16_to_PG17 -|- INFORMATION -|- tpch.tpch_10.orders -|- Start Loading Data using distribution method Ctid\n",
      "2025-09-22T15:54:27.227 +02:00 -|- FastTransfer -|- PG16_to_PG17 -|- INFORMATION -|- tpch.tpch_10.orders -|- Start Loading Data using distribution method Ctid\n",
      "2025-09-22T15:54:27.229 +02:00 -|- FastTransfer -|- PG16_to_PG17 -|- INFORMATION -|- tpch.tpch_10.orders -|- Start Loading Data using distribution method Ctid\n",
      "2025-09-22T15:54:27.239 +02:00 -|- FastTransfer -|- PG16_to_PG17 -|- INFORMATION -|- tpch.tpch_10.orders -|- Start Loading Data using distribution method Ctid\n",
      "2025-09-22T15:54:27.240 +02:00 -|- FastTransfer -|- PG16_to_PG17 -|- INFORMATION -|- tpch.tpch_10.orders -|- Start Loading Data using distribution method Ctid\n",
      "2025-09-22T15:54:27.245 +02:00 -|- FastTransfer -|- PG16_to_PG17 -|- INFORMATION -|- tpch.tpch_10.orders -|- Start Loading Data using distribution method Ctid\n",
      "2025-09-22T15:54:27.245 +02:00 -|- FastTransfer -|- PG16_to_PG17 -|- INFORMATION -|- tpch.tpch_10.orders -|- Start Loading Data using distribution method Ctid\n",
      "2025-09-22T15:54:27.255 +02:00 -|- FastTransfer -|- PG16_to_PG17 -|- INFORMATION -|- tpch.tpch_10.orders -|- Start Loading Data using distribution method Ctid\n",
      "2025-09-22T15:54:27.256 +02:00 -|- FastTransfer -|- PG16_to_PG17 -|- INFORMATION -|- tpch.tpch_10.orders -|- Start Loading Data using distribution method Ctid\n",
      "2025-09-22T15:54:31.774 +02:00 -|- FastTransfer -|- PG16_to_PG17 -|- INFORMATION -|- tpch.tpch_10.orders -|- Completed Load Query 3 for ctid between 55204 and 82806 : 227158086 Bytes in 4619ms with snapshot 00000003-00000038-1\n",
      "2025-09-22T15:54:31.893 +02:00 -|- FastTransfer -|- PG16_to_PG17 -|- INFORMATION -|- tpch.tpch_10.orders -|- Completed Load Query 4 for ctid between 82806 and 110408 : 227163515 Bytes in 4738ms with snapshot 00000003-00000038-1\n",
      "2025-09-22T15:54:31.924 +02:00 -|- FastTransfer -|- PG16_to_PG17 -|- INFORMATION -|- tpch.tpch_10.orders -|- Completed Load Query 10 for ctid between 248418 and 2147483647 : 226989801 Bytes in 4768ms with snapshot 00000003-00000038-1\n",
      "2025-09-22T15:54:31.924 +02:00 -|- FastTransfer -|- PG16_to_PG17 -|- INFORMATION -|- tpch.tpch_10.orders -|- Completed Load Query 6 for ctid between 138010 and 165612 : 227181328 Bytes in 4770ms with snapshot 00000003-00000038-1\n",
      "2025-09-22T15:54:31.963 +02:00 -|- FastTransfer -|- PG16_to_PG17 -|- INFORMATION -|- tpch.tpch_10.orders -|- Completed Load Query 9 for ctid between 220816 and 248418 : 227156409 Bytes in 4808ms with snapshot 00000003-00000038-1\n",
      "2025-09-22T15:54:31.970 +02:00 -|- FastTransfer -|- PG16_to_PG17 -|- INFORMATION -|- tpch.tpch_10.orders -|- Completed Load Query 2 for ctid between 27602 and 55204 : 227149886 Bytes in 4816ms with snapshot 00000003-00000038-1\n",
      "2025-09-22T15:54:31.996 +02:00 -|- FastTransfer -|- PG16_to_PG17 -|- INFORMATION -|- tpch.tpch_10.orders -|- Completed Load Query 8 for ctid between 193214 and 220816 : 227159001 Bytes in 4841ms with snapshot 00000003-00000038-1\n",
      "2025-09-22T15:54:32.013 +02:00 -|- FastTransfer -|- PG16_to_PG17 -|- INFORMATION -|- tpch.tpch_10.orders -|- Completed Load Query 7 for ctid between 165612 and 193214 : 227184412 Bytes in 4858ms with snapshot 00000003-00000038-1\n",
      "2025-09-22T15:54:32.028 +02:00 -|- FastTransfer -|- PG16_to_PG17 -|- INFORMATION -|- tpch.tpch_10.orders -|- Completed Load Query 1 for ctid between 0 and 27602 : 227183981 Bytes in 4874ms with snapshot 00000003-00000038-1\n",
      "2025-09-22T15:54:32.035 +02:00 -|- FastTransfer -|- PG16_to_PG17 -|- INFORMATION -|- tpch.tpch_10.orders -|- Completed Load Query 5 for ctid between 110408 and 138010 : 227166686 Bytes in 4881ms with snapshot 00000003-00000038-1\n",
      "2025-09-22T15:54:32.036 +02:00 -|- FastTransfer -|- PG16_to_PG17 -|- INFORMATION -|- tpch.tpch_10.orders -|- Total size : 2271493105 Bytes\n",
      "2025-09-22T15:54:32.036 +02:00 -|- FastTransfer -|- PG16_to_PG17 -|- INFORMATION -|- tpch.tpch_10.orders -|- Throughput : 431689832 Bytes/s\n",
      "2025-09-22T15:54:32.036 +02:00 -|- FastTransfer -|- PG16_to_PG17 -|- INFORMATION -|- tpch.tpch_10.orders -|- Transfert time : Elapsed=5261 ms\n",
      "2025-09-22T15:54:32.036 +02:00 -|- FastTransfer -|- PG16_to_PG17 -|- INFORMATION -|- tpch.tpch_10.orders -|- Total time : Elapsed=5741 ms\n",
      "2025-09-22T15:54:32.036 +02:00 -|- FastTransfer -|- PG16_to_PG17 -|- INFORMATION -|- tpch.tpch_10.orders -|- Completed Load\n"
     ]
    }
   ],
   "source": [
    "cd D:\\FastTransfer\n",
    "\n",
    ".\\FastTransfer.exe `\n",
    "--sourceconnectiontype \"pgcopy\" `\n",
    "--sourceserver \"localhost:15432\" `\n",
    "--sourcedatabase \"tpch\" `\n",
    "--sourceuser \"FastUser\" `\n",
    "--sourcepassword \"FastPassword\" `\n",
    "--sourceschema \"tpch_10\" `\n",
    "--sourcetable \"orders\" `\n",
    "`\n",
    "--targetconnectiontype \"pgcopy\" `\n",
    "--targetserver \"localhost:25432\" `\n",
    "--targetuser \"FastUser\" `\n",
    "--targetpassword \"FastPassword\" `\n",
    "--targetdatabase \"tpch\" `\n",
    "--targetschema \"tpch_10\" `\n",
    "--targettable \"orders\" `\n",
    "`\n",
    "--loadmode \"Truncate\" `\n",
    "--mapmethod \"Name\" `\n",
    "--method \"Ctid\" `\n",
    "--degree -3 `\n",
    "--runid \"PG16_to_PG17\""
   ]
  },
  {
   "cell_type": "code",
   "execution_count": 8,
   "id": "c2da48be",
   "metadata": {
    "language_info": {
     "name": "polyglot-notebook"
    },
    "polyglot_notebook": {
     "kernelName": "sql-pgsql17"
    }
   },
   "outputs": [
    {
     "data": {
      "text/csv": [
       "count_target_table_rows\r\n",
       "15000000\r\n"
      ],
      "text/html": [
       "<table><thead><tr><td><span>count_target_table_rows</span></td></tr></thead><tbody><tr><td><div class=\"dni-plaintext\"><pre>15000000</pre></div></td></tr></tbody></table><style>\r\n",
       ".dni-code-hint {\r\n",
       "    font-style: italic;\r\n",
       "    overflow: hidden;\r\n",
       "    white-space: nowrap;\r\n",
       "}\r\n",
       ".dni-treeview {\r\n",
       "    white-space: nowrap;\r\n",
       "}\r\n",
       ".dni-treeview td {\r\n",
       "    vertical-align: top;\r\n",
       "    text-align: start;\r\n",
       "}\r\n",
       "details.dni-treeview {\r\n",
       "    padding-left: 1em;\r\n",
       "}\r\n",
       "table td {\r\n",
       "    text-align: start;\r\n",
       "}\r\n",
       "table tr { \r\n",
       "    vertical-align: top; \r\n",
       "    margin: 0em 0px;\r\n",
       "}\r\n",
       "table tr td pre \r\n",
       "{ \r\n",
       "    vertical-align: top !important; \r\n",
       "    margin: 0em 0px !important;\r\n",
       "} \r\n",
       "table th {\r\n",
       "    text-align: start;\r\n",
       "}\r\n",
       "</style>"
      ]
     },
     "metadata": {},
     "output_type": "display_data"
    }
   ],
   "source": [
    "SELECT count(*) count_target_table_rows from tpch_10.orders;"
   ]
  },
  {
   "cell_type": "code",
   "execution_count": 17,
   "metadata": {
    "language_info": {
     "name": "polyglot-notebook"
    },
    "polyglot_notebook": {
     "kernelName": "sql-pgsql17"
    }
   },
   "outputs": [
    {
     "data": {
      "text/csv": [
       "o_orderkey,o_custkey,o_orderstatus,o_totalprice,o_orderdate,o_orderpriority,o_clerk,o_shippriority,o_comment\r\n",
       "24552903,1313752,F,305754.99,1992-03-05T00:00:00.0000000,\"3-MEDIUM       \",Clerk#000007605,0,\"ly regular requests within the furiously regul\"\r\n",
       "24575648,978844,F,175154.42,1992-12-10T00:00:00.0000000,\"2-HIGH         \",Clerk#000001182,0,\"y across the requests. quickly special accounts cajole fluffily \"\r\n",
       "24575651,624299,F,116155.58,1992-02-09T00:00:00.0000000,\"4-NOT SPECIFIED\",Clerk#000009852,0,\" ironic packages. fluffily express courts are across the slyly ironic theodo\"\r\n",
       "24575682,201691,F,116158.29,1992-06-14T00:00:00.0000000,\"4-NOT SPECIFIED\",Clerk#000004253,0,\"t the blithely final pinto beans; furio\"\r\n",
       "24575712,1435832,F,330511.13,1992-11-27T00:00:00.0000000,\"1-URGENT       \",Clerk#000008569,0,\"its. regular foxes boost quickly. slyly special dugouts sleep blithe\"\r\n"
      ],
      "text/html": [
       "<table><thead><tr><td><span>o_orderkey</span></td><td><span>o_custkey</span></td><td><span>o_orderstatus</span></td><td><span>o_totalprice</span></td><td><span>o_orderdate</span></td><td><span>o_orderpriority</span></td><td><span>o_clerk</span></td><td><span>o_shippriority</span></td><td><span>o_comment</span></td></tr></thead><tbody><tr><td><div class=\"dni-plaintext\"><pre>24552903</pre></div></td><td><div class=\"dni-plaintext\"><pre>1313752</pre></div></td><td>F</td><td><div class=\"dni-plaintext\"><pre>305754.99</pre></div></td><td><span>1992-03-05 00:00:00Z</span></td><td>3-MEDIUM       </td><td>Clerk#000007605</td><td><div class=\"dni-plaintext\"><pre>0</pre></div></td><td>ly regular requests within the furiously regul</td></tr><tr><td><div class=\"dni-plaintext\"><pre>24575648</pre></div></td><td><div class=\"dni-plaintext\"><pre>978844</pre></div></td><td>F</td><td><div class=\"dni-plaintext\"><pre>175154.42</pre></div></td><td><span>1992-12-10 00:00:00Z</span></td><td>2-HIGH         </td><td>Clerk#000001182</td><td><div class=\"dni-plaintext\"><pre>0</pre></div></td><td>y across the requests. quickly special accounts cajole fluffily </td></tr><tr><td><div class=\"dni-plaintext\"><pre>24575651</pre></div></td><td><div class=\"dni-plaintext\"><pre>624299</pre></div></td><td>F</td><td><div class=\"dni-plaintext\"><pre>116155.58</pre></div></td><td><span>1992-02-09 00:00:00Z</span></td><td>4-NOT SPECIFIED</td><td>Clerk#000009852</td><td><div class=\"dni-plaintext\"><pre>0</pre></div></td><td> ironic packages. fluffily express courts are across the slyly ironic theodo</td></tr><tr><td><div class=\"dni-plaintext\"><pre>24575682</pre></div></td><td><div class=\"dni-plaintext\"><pre>201691</pre></div></td><td>F</td><td><div class=\"dni-plaintext\"><pre>116158.29</pre></div></td><td><span>1992-06-14 00:00:00Z</span></td><td>4-NOT SPECIFIED</td><td>Clerk#000004253</td><td><div class=\"dni-plaintext\"><pre>0</pre></div></td><td>t the blithely final pinto beans; furio</td></tr><tr><td><div class=\"dni-plaintext\"><pre>24575712</pre></div></td><td><div class=\"dni-plaintext\"><pre>1435832</pre></div></td><td>F</td><td><div class=\"dni-plaintext\"><pre>330511.13</pre></div></td><td><span>1992-11-27 00:00:00Z</span></td><td>1-URGENT       </td><td>Clerk#000008569</td><td><div class=\"dni-plaintext\"><pre>0</pre></div></td><td>its. regular foxes boost quickly. slyly special dugouts sleep blithe</td></tr></tbody></table><style>\r\n",
       ".dni-code-hint {\r\n",
       "    font-style: italic;\r\n",
       "    overflow: hidden;\r\n",
       "    white-space: nowrap;\r\n",
       "}\r\n",
       ".dni-treeview {\r\n",
       "    white-space: nowrap;\r\n",
       "}\r\n",
       ".dni-treeview td {\r\n",
       "    vertical-align: top;\r\n",
       "    text-align: start;\r\n",
       "}\r\n",
       "details.dni-treeview {\r\n",
       "    padding-left: 1em;\r\n",
       "}\r\n",
       "table td {\r\n",
       "    text-align: start;\r\n",
       "}\r\n",
       "table tr { \r\n",
       "    vertical-align: top; \r\n",
       "    margin: 0em 0px;\r\n",
       "}\r\n",
       "table tr td pre \r\n",
       "{ \r\n",
       "    vertical-align: top !important; \r\n",
       "    margin: 0em 0px !important;\r\n",
       "} \r\n",
       "table th {\r\n",
       "    text-align: start;\r\n",
       "}\r\n",
       "</style>"
      ]
     },
     "metadata": {},
     "output_type": "display_data"
    }
   ],
   "source": [
    "SELECT * FROM tpch_10.orders LIMIT 5;"
   ]
  },
  {
   "cell_type": "markdown",
   "id": "ce045f68",
   "metadata": {},
   "source": [
    "#### Target orders_heap : Heap Table"
   ]
  },
  {
   "cell_type": "code",
   "execution_count": 22,
   "id": "0374251a",
   "metadata": {
    "language_info": {
     "name": "polyglot-notebook"
    },
    "polyglot_notebook": {
     "kernelName": "sql-pgsql17"
    }
   },
   "outputs": [
    {
     "data": {
      "text/csv": [
       "count_orders_heap\r\n",
       "0\r\n"
      ],
      "text/html": [
       "<table><thead><tr><td><span>count_orders_heap</span></td></tr></thead><tbody><tr><td><div class=\"dni-plaintext\"><pre>0</pre></div></td></tr></tbody></table><style>\r\n",
       ".dni-code-hint {\r\n",
       "    font-style: italic;\r\n",
       "    overflow: hidden;\r\n",
       "    white-space: nowrap;\r\n",
       "}\r\n",
       ".dni-treeview {\r\n",
       "    white-space: nowrap;\r\n",
       "}\r\n",
       ".dni-treeview td {\r\n",
       "    vertical-align: top;\r\n",
       "    text-align: start;\r\n",
       "}\r\n",
       "details.dni-treeview {\r\n",
       "    padding-left: 1em;\r\n",
       "}\r\n",
       "table td {\r\n",
       "    text-align: start;\r\n",
       "}\r\n",
       "table tr { \r\n",
       "    vertical-align: top; \r\n",
       "    margin: 0em 0px;\r\n",
       "}\r\n",
       "table tr td pre \r\n",
       "{ \r\n",
       "    vertical-align: top !important; \r\n",
       "    margin: 0em 0px !important;\r\n",
       "} \r\n",
       "table th {\r\n",
       "    text-align: start;\r\n",
       "}\r\n",
       "</style>"
      ]
     },
     "metadata": {},
     "output_type": "display_data"
    }
   ],
   "source": [
    "DROP TABLE IF EXISTS tpch_10.orders_heap;\n",
    "\n",
    "CREATE TABLE tpch_10.orders_heap AS\n",
    "SELECT * \n",
    "FROM tpch_10.orders\n",
    "WHERE 1=0;\n",
    "\n",
    "ALTER TABLE tpch_10.orders_heap SET UNLOGGED;\n",
    "\n",
    "SELECT count(*) count_orders_heap from tpch_10.orders_heap;"
   ]
  },
  {
   "cell_type": "code",
   "execution_count": 27,
   "metadata": {
    "language_info": {
     "name": "polyglot-notebook"
    },
    "polyglot_notebook": {
     "kernelName": "sql-pgsql17"
    }
   },
   "outputs": [
    {
     "data": {
      "text/csv": [
       "\r\n"
      ],
      "text/html": [
       "<table><thead><tr></tr></thead><tbody></tbody></table><style>\r\n",
       ".dni-code-hint {\r\n",
       "    font-style: italic;\r\n",
       "    overflow: hidden;\r\n",
       "    white-space: nowrap;\r\n",
       "}\r\n",
       ".dni-treeview {\r\n",
       "    white-space: nowrap;\r\n",
       "}\r\n",
       ".dni-treeview td {\r\n",
       "    vertical-align: top;\r\n",
       "    text-align: start;\r\n",
       "}\r\n",
       "details.dni-treeview {\r\n",
       "    padding-left: 1em;\r\n",
       "}\r\n",
       "table td {\r\n",
       "    text-align: start;\r\n",
       "}\r\n",
       "table tr { \r\n",
       "    vertical-align: top; \r\n",
       "    margin: 0em 0px;\r\n",
       "}\r\n",
       "table tr td pre \r\n",
       "{ \r\n",
       "    vertical-align: top !important; \r\n",
       "    margin: 0em 0px !important;\r\n",
       "} \r\n",
       "table th {\r\n",
       "    text-align: start;\r\n",
       "}\r\n",
       "</style>"
      ]
     },
     "metadata": {},
     "output_type": "display_data"
    }
   ],
   "source": [
    "TRUNCATE TABLE tpch_10.orders_heap;\n",
    "INSERT INTO tpch_10.orders_heap\n",
    "SELECT * FROM pg16_orders;\n"
   ]
  },
  {
   "cell_type": "code",
   "execution_count": 29,
   "id": "e594e80e",
   "metadata": {
    "polyglot_notebook": {
     "kernelName": "pwsh"
    }
   },
   "outputs": [
    {
     "name": "stdout",
     "output_type": "stream",
     "text": [
      "2025-09-22T15:47:53.990 +02:00 -|- FastTransfer -|- PG16_to_PG17_heap -|- INFORMATION -|- tpch.tpch_10.orders_heap -|- FastTransfer - running in trial mode – will expires on 2025‑10‑20 (27 day(s) left).\n",
      "2025-09-22T15:47:53.999 +02:00 -|- FastTransfer -|- PG16_to_PG17_heap -|- INFORMATION -|- tpch.tpch_10.orders_heap -|- Starting\n",
      "2025-09-22T15:47:53.999 +02:00 -|- FastTransfer -|- PG16_to_PG17_heap -|- INFORMATION -|- tpch.tpch_10.orders_heap -|- FastTransfer Version : 0.13.10.0 Architecture : X64 - Framework : .NET 8.0.19\n",
      "2025-09-22T15:47:53.999 +02:00 -|- FastTransfer -|- PG16_to_PG17_heap -|- INFORMATION -|- tpch.tpch_10.orders_heap -|- OS : Microsoft Windows 10.0.26100\n",
      "2025-09-22T15:47:53.999 +02:00 -|- FastTransfer -|- PG16_to_PG17_heap -|- INFORMATION -|- tpch.tpch_10.orders_heap -|- Process ID : 63152\n",
      "2025-09-22T15:47:53.999 +02:00 -|- FastTransfer -|- PG16_to_PG17_heap -|- INFORMATION -|- tpch.tpch_10.orders_heap -|- Provided Run ID : PG16_to_PG17_heap\n",
      "2025-09-22T15:47:53.999 +02:00 -|- FastTransfer -|- PG16_to_PG17_heap -|- INFORMATION -|- tpch.tpch_10.orders_heap -|- Source Connection Type : pgcopy\n",
      "2025-09-22T15:47:53.999 +02:00 -|- FastTransfer -|- PG16_to_PG17_heap -|- INFORMATION -|- tpch.tpch_10.orders_heap -|- Source SqlInstance : localhost:15432\n",
      "2025-09-22T15:47:53.999 +02:00 -|- FastTransfer -|- PG16_to_PG17_heap -|- INFORMATION -|- tpch.tpch_10.orders_heap -|- Source Database : tpch\n",
      "2025-09-22T15:47:53.999 +02:00 -|- FastTransfer -|- PG16_to_PG17_heap -|- INFORMATION -|- tpch.tpch_10.orders_heap -|- Source Trusted Connection : False\n",
      "2025-09-22T15:47:53.999 +02:00 -|- FastTransfer -|- PG16_to_PG17_heap -|- INFORMATION -|- tpch.tpch_10.orders_heap -|- Source User : FastUser\n",
      "2025-09-22T15:47:53.999 +02:00 -|- FastTransfer -|- PG16_to_PG17_heap -|- INFORMATION -|- tpch.tpch_10.orders_heap -|- Source Schema : tpch_10\n",
      "2025-09-22T15:47:53.999 +02:00 -|- FastTransfer -|- PG16_to_PG17_heap -|- INFORMATION -|- tpch.tpch_10.orders_heap -|- Source Table : orders\n",
      "2025-09-22T15:47:53.999 +02:00 -|- FastTransfer -|- PG16_to_PG17_heap -|- INFORMATION -|- tpch.tpch_10.orders_heap -|- Target Type : pgcopy\n",
      "2025-09-22T15:47:53.999 +02:00 -|- FastTransfer -|- PG16_to_PG17_heap -|- INFORMATION -|- tpch.tpch_10.orders_heap -|- Target Server : localhost:25432\n",
      "2025-09-22T15:47:53.999 +02:00 -|- FastTransfer -|- PG16_to_PG17_heap -|- INFORMATION -|- tpch.tpch_10.orders_heap -|- Target Database : tpch\n",
      "2025-09-22T15:47:53.999 +02:00 -|- FastTransfer -|- PG16_to_PG17_heap -|- INFORMATION -|- tpch.tpch_10.orders_heap -|- Target Schema : tpch_10\n",
      "2025-09-22T15:47:53.999 +02:00 -|- FastTransfer -|- PG16_to_PG17_heap -|- INFORMATION -|- tpch.tpch_10.orders_heap -|- Target Table : orders_heap\n",
      "2025-09-22T15:47:53.999 +02:00 -|- FastTransfer -|- PG16_to_PG17_heap -|- INFORMATION -|- tpch.tpch_10.orders_heap -|- Target Trusted Connection : False\n",
      "2025-09-22T15:47:53.999 +02:00 -|- FastTransfer -|- PG16_to_PG17_heap -|- INFORMATION -|- tpch.tpch_10.orders_heap -|- Target User : FastUser\n",
      "2025-09-22T15:47:53.999 +02:00 -|- FastTransfer -|- PG16_to_PG17_heap -|- INFORMATION -|- tpch.tpch_10.orders_heap -|- Columns Map Method : Name\n",
      "2025-09-22T15:47:53.999 +02:00 -|- FastTransfer -|- PG16_to_PG17_heap -|- INFORMATION -|- tpch.tpch_10.orders_heap -|- Degree : 12\n",
      "2025-09-22T15:47:53.999 +02:00 -|- FastTransfer -|- PG16_to_PG17_heap -|- INFORMATION -|- tpch.tpch_10.orders_heap -|- Distribute Method : Ctid\n",
      "2025-09-22T15:47:53.999 +02:00 -|- FastTransfer -|- PG16_to_PG17_heap -|- INFORMATION -|- tpch.tpch_10.orders_heap -|- Bulkcopy Batch Size : 1048576\n",
      "2025-09-22T15:47:54.000 +02:00 -|- FastTransfer -|- PG16_to_PG17_heap -|- INFORMATION -|- tpch.tpch_10.orders_heap -|- Load Mode : Truncate\n",
      "2025-09-22T15:47:54.000 +02:00 -|- FastTransfer -|- PG16_to_PG17_heap -|- INFORMATION -|- tpch.tpch_10.orders_heap -|- Use Work Tables : False\n",
      "2025-09-22T15:47:54.000 +02:00 -|- FastTransfer -|- PG16_to_PG17_heap -|- INFORMATION -|- tpch.tpch_10.orders_heap -|- Encoding used : Unicode (UTF-8) - 65001 - utf-8\n",
      "2025-09-22T15:47:54.080 +02:00 -|- FastTransfer -|- PG16_to_PG17_heap -|- INFORMATION -|- tpch.tpch_10.orders_heap -|- Source Connection String : Host=localhost;Port=15432;Database=tpch;Trust Server Certificate=True;Application Name=FastTransfer;Timeout=15;Command Timeout=10800;Username=FastUser;Password=xxxxx\n",
      "2025-09-22T15:47:54.080 +02:00 -|- FastTransfer -|- PG16_to_PG17_heap -|- INFORMATION -|- tpch.tpch_10.orders_heap -|- Target Connection String : Host=localhost;Port=25432;Database=tpch;Trust Server Certificate=True;Application Name=FastTransfer;Timeout=15;Command Timeout=10800;Username=FastUser;Password=xxxxx\n",
      "2025-09-22T15:47:54.080 +02:00 -|- FastTransfer -|- PG16_to_PG17_heap -|- INFORMATION -|- tpch.tpch_10.orders_heap -|- Source Database Version : PostgreSQL 16.1, compiled by Visual C++ build 1937, 64-bit\n",
      "2025-09-22T15:47:54.080 +02:00 -|- FastTransfer -|- PG16_to_PG17_heap -|- INFORMATION -|- tpch.tpch_10.orders_heap -|- Target Database Version : PostgreSQL 17.2 on x86_64-windows, compiled by msvc-19.42.34435, 64-bit\n",
      "2025-09-22T15:47:54.245 +02:00 -|- FastTransfer -|- PG16_to_PG17_heap -|- INFORMATION -|- tpch.tpch_10.orders_heap -|- Snapshot ID = 00000003-00000013-1 Created in 3 ms\n",
      "2025-09-22T15:47:54.567 +02:00 -|- FastTransfer -|- PG16_to_PG17_heap -|- INFORMATION -|- tpch.tpch_10.orders_heap -|- Completed CTID Max Retrieval in 0 ms\n",
      "2025-09-22T15:47:54.567 +02:00 -|- FastTransfer -|- PG16_to_PG17_heap -|- INFORMATION -|- tpch.tpch_10.orders_heap -|- Max CTID for table \"tpch_10\".\"orders\" @snapshotid=00000003-00000013-1 = (276024,54)\n",
      "2025-09-22T15:47:54.569 +02:00 -|- FastTransfer -|- PG16_to_PG17_heap -|- INFORMATION -|- tpch.tpch_10.orders_heap -|- Start Loading Data using distribution method Ctid\n",
      "2025-09-22T15:47:54.657 +02:00 -|- FastTransfer -|- PG16_to_PG17_heap -|- INFORMATION -|- tpch.tpch_10.orders_heap -|- Start Loading Data using distribution method Ctid\n",
      "2025-09-22T15:47:54.667 +02:00 -|- FastTransfer -|- PG16_to_PG17_heap -|- INFORMATION -|- tpch.tpch_10.orders_heap -|- Start Loading Data using distribution method Ctid\n",
      "2025-09-22T15:47:54.674 +02:00 -|- FastTransfer -|- PG16_to_PG17_heap -|- INFORMATION -|- tpch.tpch_10.orders_heap -|- Start Loading Data using distribution method Ctid\n",
      "2025-09-22T15:47:54.675 +02:00 -|- FastTransfer -|- PG16_to_PG17_heap -|- INFORMATION -|- tpch.tpch_10.orders_heap -|- Start Loading Data using distribution method Ctid\n",
      "2025-09-22T15:47:54.676 +02:00 -|- FastTransfer -|- PG16_to_PG17_heap -|- INFORMATION -|- tpch.tpch_10.orders_heap -|- Start Loading Data using distribution method Ctid\n",
      "2025-09-22T15:47:54.690 +02:00 -|- FastTransfer -|- PG16_to_PG17_heap -|- INFORMATION -|- tpch.tpch_10.orders_heap -|- Start Loading Data using distribution method Ctid\n",
      "2025-09-22T15:47:54.690 +02:00 -|- FastTransfer -|- PG16_to_PG17_heap -|- INFORMATION -|- tpch.tpch_10.orders_heap -|- Start Loading Data using distribution method Ctid\n",
      "2025-09-22T15:47:54.696 +02:00 -|- FastTransfer -|- PG16_to_PG17_heap -|- INFORMATION -|- tpch.tpch_10.orders_heap -|- Start Loading Data using distribution method Ctid\n",
      "2025-09-22T15:47:54.699 +02:00 -|- FastTransfer -|- PG16_to_PG17_heap -|- INFORMATION -|- tpch.tpch_10.orders_heap -|- Start Loading Data using distribution method Ctid\n",
      "2025-09-22T15:47:54.712 +02:00 -|- FastTransfer -|- PG16_to_PG17_heap -|- INFORMATION -|- tpch.tpch_10.orders_heap -|- Start Loading Data using distribution method Ctid\n",
      "2025-09-22T15:47:54.713 +02:00 -|- FastTransfer -|- PG16_to_PG17_heap -|- INFORMATION -|- tpch.tpch_10.orders_heap -|- Start Loading Data using distribution method Ctid\n",
      "2025-09-22T15:47:56.877 +02:00 -|- FastTransfer -|- PG16_to_PG17_heap -|- INFORMATION -|- tpch.tpch_10.orders_heap -|- Completed Load Query 3 for ctid between 46004 and 69006 : 189289363 Bytes in 2308ms with snapshot 00000003-00000013-1\n",
      "2025-09-22T15:47:57.098 +02:00 -|- FastTransfer -|- PG16_to_PG17_heap -|- INFORMATION -|- tpch.tpch_10.orders_heap -|- Completed Load Query 4 for ctid between 69006 and 92008 : 189296562 Bytes in 2529ms with snapshot 00000003-00000013-1\n",
      "2025-09-22T15:47:57.115 +02:00 -|- FastTransfer -|- PG16_to_PG17_heap -|- INFORMATION -|- tpch.tpch_10.orders_heap -|- Completed Load Query 10 for ctid between 207018 and 230020 : 189315235 Bytes in 2546ms with snapshot 00000003-00000013-1\n",
      "2025-09-22T15:47:57.117 +02:00 -|- FastTransfer -|- PG16_to_PG17_heap -|- INFORMATION -|- tpch.tpch_10.orders_heap -|- Completed Load Query 6 for ctid between 115010 and 138012 : 189309979 Bytes in 2548ms with snapshot 00000003-00000013-1\n",
      "2025-09-22T15:47:57.125 +02:00 -|- FastTransfer -|- PG16_to_PG17_heap -|- INFORMATION -|- tpch.tpch_10.orders_heap -|- Completed Load Query 5 for ctid between 92008 and 115010 : 189308937 Bytes in 2556ms with snapshot 00000003-00000013-1\n",
      "2025-09-22T15:47:57.140 +02:00 -|- FastTransfer -|- PG16_to_PG17_heap -|- INFORMATION -|- tpch.tpch_10.orders_heap -|- Completed Load Query 7 for ctid between 138012 and 161014 : 189316795 Bytes in 2571ms with snapshot 00000003-00000013-1\n",
      "2025-09-22T15:47:57.147 +02:00 -|- FastTransfer -|- PG16_to_PG17_heap -|- INFORMATION -|- tpch.tpch_10.orders_heap -|- Completed Load Query 1 for ctid between 0 and 23002 : 189323208 Bytes in 2578ms with snapshot 00000003-00000013-1\n",
      "2025-09-22T15:47:57.147 +02:00 -|- FastTransfer -|- PG16_to_PG17_heap -|- INFORMATION -|- tpch.tpch_10.orders_heap -|- Completed Load Query 9 for ctid between 184016 and 207018 : 189299968 Bytes in 2578ms with snapshot 00000003-00000013-1\n",
      "2025-09-22T15:47:57.153 +02:00 -|- FastTransfer -|- PG16_to_PG17_heap -|- INFORMATION -|- tpch.tpch_10.orders_heap -|- Completed Load Query 8 for ctid between 161014 and 184016 : 189330141 Bytes in 2584ms with snapshot 00000003-00000013-1\n",
      "2025-09-22T15:47:57.154 +02:00 -|- FastTransfer -|- PG16_to_PG17_heap -|- INFORMATION -|- tpch.tpch_10.orders_heap -|- Completed Load Query 2 for ctid between 23002 and 46004 : 189310536 Bytes in 2585ms with snapshot 00000003-00000013-1\n",
      "2025-09-22T15:47:57.158 +02:00 -|- FastTransfer -|- PG16_to_PG17_heap -|- INFORMATION -|- tpch.tpch_10.orders_heap -|- Completed Load Query 12 for ctid between 253022 and 2147483647 : 189098686 Bytes in 2588ms with snapshot 00000003-00000013-1\n",
      "2025-09-22T15:47:57.159 +02:00 -|- FastTransfer -|- PG16_to_PG17_heap -|- INFORMATION -|- tpch.tpch_10.orders_heap -|- Completed Load Query 11 for ctid between 230020 and 253022 : 189293737 Bytes in 2589ms with snapshot 00000003-00000013-1\n",
      "2025-09-22T15:47:57.160 +02:00 -|- FastTransfer -|- PG16_to_PG17_heap -|- INFORMATION -|- tpch.tpch_10.orders_heap -|- Total size : 2271493147 Bytes\n",
      "2025-09-22T15:47:57.160 +02:00 -|- FastTransfer -|- PG16_to_PG17_heap -|- INFORMATION -|- tpch.tpch_10.orders_heap -|- Throughput : 778341124 Bytes/s\n",
      "2025-09-22T15:47:57.160 +02:00 -|- FastTransfer -|- PG16_to_PG17_heap -|- INFORMATION -|- tpch.tpch_10.orders_heap -|- Transfert time : Elapsed=2918 ms\n",
      "2025-09-22T15:47:57.160 +02:00 -|- FastTransfer -|- PG16_to_PG17_heap -|- INFORMATION -|- tpch.tpch_10.orders_heap -|- Total time : Elapsed=3319 ms\n",
      "2025-09-22T15:47:57.160 +02:00 -|- FastTransfer -|- PG16_to_PG17_heap -|- INFORMATION -|- tpch.tpch_10.orders_heap -|- Completed Load\n"
     ]
    }
   ],
   "source": [
    "cd D:\\FastTransfer\n",
    "\n",
    ".\\FastTransfer.exe `\n",
    "--sourceconnectiontype \"pgcopy\" `\n",
    "--sourceserver \"localhost:15432\" `\n",
    "--sourcedatabase \"tpch\" `\n",
    "--sourceuser \"FastUser\" `\n",
    "--sourcepassword \"FastPassword\" `\n",
    "--sourceschema \"tpch_10\" `\n",
    "--sourcetable \"orders\" `\n",
    "`\n",
    "--targetconnectiontype \"pgcopy\" `\n",
    "--targetserver \"localhost:25432\" `\n",
    "--targetuser \"FastUser\" `\n",
    "--targetpassword \"FastPassword\" `\n",
    "--targetdatabase \"tpch\" `\n",
    "--targetschema \"tpch_10\" `\n",
    "--targettable \"orders_heap\" `\n",
    "`\n",
    "--loadmode \"Truncate\" `\n",
    "--mapmethod \"Name\" `\n",
    "--method \"Ctid\" `\n",
    "--degree 12 `\n",
    "--runid \"PG16_to_PG17_heap\""
   ]
  },
  {
   "cell_type": "code",
   "execution_count": 12,
   "id": "5144fced",
   "metadata": {
    "language_info": {
     "name": "polyglot-notebook"
    },
    "polyglot_notebook": {
     "kernelName": "sql-pgsql17"
    }
   },
   "outputs": [
    {
     "data": {
      "text/csv": [
       "count_rows_in_heap\r\n",
       "15000000\r\n"
      ],
      "text/html": [
       "<table><thead><tr><td><span>count_rows_in_heap</span></td></tr></thead><tbody><tr><td><div class=\"dni-plaintext\"><pre>15000000</pre></div></td></tr></tbody></table><style>\r\n",
       ".dni-code-hint {\r\n",
       "    font-style: italic;\r\n",
       "    overflow: hidden;\r\n",
       "    white-space: nowrap;\r\n",
       "}\r\n",
       ".dni-treeview {\r\n",
       "    white-space: nowrap;\r\n",
       "}\r\n",
       ".dni-treeview td {\r\n",
       "    vertical-align: top;\r\n",
       "    text-align: start;\r\n",
       "}\r\n",
       "details.dni-treeview {\r\n",
       "    padding-left: 1em;\r\n",
       "}\r\n",
       "table td {\r\n",
       "    text-align: start;\r\n",
       "}\r\n",
       "table tr { \r\n",
       "    vertical-align: top; \r\n",
       "    margin: 0em 0px;\r\n",
       "}\r\n",
       "table tr td pre \r\n",
       "{ \r\n",
       "    vertical-align: top !important; \r\n",
       "    margin: 0em 0px !important;\r\n",
       "} \r\n",
       "table th {\r\n",
       "    text-align: start;\r\n",
       "}\r\n",
       "</style>"
      ]
     },
     "metadata": {},
     "output_type": "display_data"
    }
   ],
   "source": [
    "\n",
    "SELECT count(*) count_rows_in_heap from tpch_10.orders_heap;"
   ]
  },
  {
   "cell_type": "code",
   "execution_count": 16,
   "id": "b9ef8968",
   "metadata": {
    "language_info": {
     "name": "polyglot-notebook"
    },
    "polyglot_notebook": {
     "kernelName": "sql-pgsql17"
    }
   },
   "outputs": [
    {
     "data": {
      "text/csv": [
       "o_orderkey,o_custkey,o_orderstatus,o_totalprice,o_orderdate,o_orderpriority,o_clerk,o_shippriority,o_comment\r\n",
       "33660512,775268,F,57043.01,1994-09-30T00:00:00.0000000,\"4-NOT SPECIFIED\",Clerk#000003931,0,\" special, regular requests use. \"\r\n",
       "33660514,1403410,F,69873.94,1994-04-22T00:00:00.0000000,\"4-NOT SPECIFIED\",Clerk#000008318,0,\"final deposits abou\"\r\n",
       "41281026,1211515,F,180962.41,1994-09-01T00:00:00.0000000,\"4-NOT SPECIFIED\",Clerk#000005558,0,\"lithely final packages cajole daring\"\r\n",
       "41281028,340883,F,243024.32,1994-04-23T00:00:00.0000000,\"1-URGENT       \",Clerk#000000631,0,\"nding packages. carefully bold pinto beans are furiously busily\"\r\n",
       "33660550,192962,F,35781.16,1994-01-19T00:00:00.0000000,\"2-HIGH         \",Clerk#000004242,0,\" final accounts sleep final, ironic pin\"\r\n"
      ],
      "text/html": [
       "<table><thead><tr><td><span>o_orderkey</span></td><td><span>o_custkey</span></td><td><span>o_orderstatus</span></td><td><span>o_totalprice</span></td><td><span>o_orderdate</span></td><td><span>o_orderpriority</span></td><td><span>o_clerk</span></td><td><span>o_shippriority</span></td><td><span>o_comment</span></td></tr></thead><tbody><tr><td><div class=\"dni-plaintext\"><pre>33660512</pre></div></td><td><div class=\"dni-plaintext\"><pre>775268</pre></div></td><td>F</td><td><div class=\"dni-plaintext\"><pre>57043.01</pre></div></td><td><span>1994-09-30 00:00:00Z</span></td><td>4-NOT SPECIFIED</td><td>Clerk#000003931</td><td><div class=\"dni-plaintext\"><pre>0</pre></div></td><td> special, regular requests use. </td></tr><tr><td><div class=\"dni-plaintext\"><pre>33660514</pre></div></td><td><div class=\"dni-plaintext\"><pre>1403410</pre></div></td><td>F</td><td><div class=\"dni-plaintext\"><pre>69873.94</pre></div></td><td><span>1994-04-22 00:00:00Z</span></td><td>4-NOT SPECIFIED</td><td>Clerk#000008318</td><td><div class=\"dni-plaintext\"><pre>0</pre></div></td><td>final deposits abou</td></tr><tr><td><div class=\"dni-plaintext\"><pre>41281026</pre></div></td><td><div class=\"dni-plaintext\"><pre>1211515</pre></div></td><td>F</td><td><div class=\"dni-plaintext\"><pre>180962.41</pre></div></td><td><span>1994-09-01 00:00:00Z</span></td><td>4-NOT SPECIFIED</td><td>Clerk#000005558</td><td><div class=\"dni-plaintext\"><pre>0</pre></div></td><td>lithely final packages cajole daring</td></tr><tr><td><div class=\"dni-plaintext\"><pre>41281028</pre></div></td><td><div class=\"dni-plaintext\"><pre>340883</pre></div></td><td>F</td><td><div class=\"dni-plaintext\"><pre>243024.32</pre></div></td><td><span>1994-04-23 00:00:00Z</span></td><td>1-URGENT       </td><td>Clerk#000000631</td><td><div class=\"dni-plaintext\"><pre>0</pre></div></td><td>nding packages. carefully bold pinto beans are furiously busily</td></tr><tr><td><div class=\"dni-plaintext\"><pre>33660550</pre></div></td><td><div class=\"dni-plaintext\"><pre>192962</pre></div></td><td>F</td><td><div class=\"dni-plaintext\"><pre>35781.16</pre></div></td><td><span>1994-01-19 00:00:00Z</span></td><td>2-HIGH         </td><td>Clerk#000004242</td><td><div class=\"dni-plaintext\"><pre>0</pre></div></td><td> final accounts sleep final, ironic pin</td></tr></tbody></table><style>\r\n",
       ".dni-code-hint {\r\n",
       "    font-style: italic;\r\n",
       "    overflow: hidden;\r\n",
       "    white-space: nowrap;\r\n",
       "}\r\n",
       ".dni-treeview {\r\n",
       "    white-space: nowrap;\r\n",
       "}\r\n",
       ".dni-treeview td {\r\n",
       "    vertical-align: top;\r\n",
       "    text-align: start;\r\n",
       "}\r\n",
       "details.dni-treeview {\r\n",
       "    padding-left: 1em;\r\n",
       "}\r\n",
       "table td {\r\n",
       "    text-align: start;\r\n",
       "}\r\n",
       "table tr { \r\n",
       "    vertical-align: top; \r\n",
       "    margin: 0em 0px;\r\n",
       "}\r\n",
       "table tr td pre \r\n",
       "{ \r\n",
       "    vertical-align: top !important; \r\n",
       "    margin: 0em 0px !important;\r\n",
       "} \r\n",
       "table th {\r\n",
       "    text-align: start;\r\n",
       "}\r\n",
       "</style>"
      ]
     },
     "metadata": {},
     "output_type": "display_data"
    }
   ],
   "source": [
    "SELECT * from tpch_10.orders_heap LIMIT 5;"
   ]
  },
  {
   "cell_type": "markdown",
   "id": "ec9b966d",
   "metadata": {},
   "source": [
    "#### Test using a bigger table : LineItem (60M Rows x 16 columns - 16GB) "
   ]
  },
  {
   "cell_type": "code",
   "execution_count": 31,
   "id": "943d9c54",
   "metadata": {
    "polyglot_notebook": {
     "kernelName": "pwsh"
    }
   },
   "outputs": [
    {
     "name": "stdout",
     "output_type": "stream",
     "text": [
      "2025-09-22T15:52:14.264 +02:00 -|- FastTransfer -|- PG16_to_PG17_60M_rowsx16_columns -|- INFORMATION -|- tpch.tpch_10.lineitem_heap_unlogged -|- FastTransfer - running in trial mode – will expires on 2025‑10‑20 (27 day(s) left).\n",
      "2025-09-22T15:52:14.273 +02:00 -|- FastTransfer -|- PG16_to_PG17_60M_rowsx16_columns -|- INFORMATION -|- tpch.tpch_10.lineitem_heap_unlogged -|- Starting\n",
      "2025-09-22T15:52:14.273 +02:00 -|- FastTransfer -|- PG16_to_PG17_60M_rowsx16_columns -|- INFORMATION -|- tpch.tpch_10.lineitem_heap_unlogged -|- FastTransfer Version : 0.13.10.0 Architecture : X64 - Framework : .NET 8.0.19\n",
      "2025-09-22T15:52:14.273 +02:00 -|- FastTransfer -|- PG16_to_PG17_60M_rowsx16_columns -|- INFORMATION -|- tpch.tpch_10.lineitem_heap_unlogged -|- OS : Microsoft Windows 10.0.26100\n",
      "2025-09-22T15:52:14.274 +02:00 -|- FastTransfer -|- PG16_to_PG17_60M_rowsx16_columns -|- INFORMATION -|- tpch.tpch_10.lineitem_heap_unlogged -|- Process ID : 82340\n",
      "2025-09-22T15:52:14.274 +02:00 -|- FastTransfer -|- PG16_to_PG17_60M_rowsx16_columns -|- INFORMATION -|- tpch.tpch_10.lineitem_heap_unlogged -|- Provided Run ID : PG16_to_PG17_60M_rowsx16_columns\n",
      "2025-09-22T15:52:14.274 +02:00 -|- FastTransfer -|- PG16_to_PG17_60M_rowsx16_columns -|- INFORMATION -|- tpch.tpch_10.lineitem_heap_unlogged -|- Source Connection Type : pgcopy\n",
      "2025-09-22T15:52:14.274 +02:00 -|- FastTransfer -|- PG16_to_PG17_60M_rowsx16_columns -|- INFORMATION -|- tpch.tpch_10.lineitem_heap_unlogged -|- Source SqlInstance : localhost:15432\n",
      "2025-09-22T15:52:14.274 +02:00 -|- FastTransfer -|- PG16_to_PG17_60M_rowsx16_columns -|- INFORMATION -|- tpch.tpch_10.lineitem_heap_unlogged -|- Source Database : tpch\n",
      "2025-09-22T15:52:14.274 +02:00 -|- FastTransfer -|- PG16_to_PG17_60M_rowsx16_columns -|- INFORMATION -|- tpch.tpch_10.lineitem_heap_unlogged -|- Source Trusted Connection : False\n",
      "2025-09-22T15:52:14.274 +02:00 -|- FastTransfer -|- PG16_to_PG17_60M_rowsx16_columns -|- INFORMATION -|- tpch.tpch_10.lineitem_heap_unlogged -|- Source User : FastUser\n",
      "2025-09-22T15:52:14.274 +02:00 -|- FastTransfer -|- PG16_to_PG17_60M_rowsx16_columns -|- INFORMATION -|- tpch.tpch_10.lineitem_heap_unlogged -|- Source Schema : tpch_10\n",
      "2025-09-22T15:52:14.274 +02:00 -|- FastTransfer -|- PG16_to_PG17_60M_rowsx16_columns -|- INFORMATION -|- tpch.tpch_10.lineitem_heap_unlogged -|- Source Table : lineitem\n",
      "2025-09-22T15:52:14.274 +02:00 -|- FastTransfer -|- PG16_to_PG17_60M_rowsx16_columns -|- INFORMATION -|- tpch.tpch_10.lineitem_heap_unlogged -|- Target Type : pgcopy\n",
      "2025-09-22T15:52:14.274 +02:00 -|- FastTransfer -|- PG16_to_PG17_60M_rowsx16_columns -|- INFORMATION -|- tpch.tpch_10.lineitem_heap_unlogged -|- Target Server : localhost:25432\n",
      "2025-09-22T15:52:14.274 +02:00 -|- FastTransfer -|- PG16_to_PG17_60M_rowsx16_columns -|- INFORMATION -|- tpch.tpch_10.lineitem_heap_unlogged -|- Target Database : tpch\n",
      "2025-09-22T15:52:14.274 +02:00 -|- FastTransfer -|- PG16_to_PG17_60M_rowsx16_columns -|- INFORMATION -|- tpch.tpch_10.lineitem_heap_unlogged -|- Target Schema : tpch_10\n",
      "2025-09-22T15:52:14.274 +02:00 -|- FastTransfer -|- PG16_to_PG17_60M_rowsx16_columns -|- INFORMATION -|- tpch.tpch_10.lineitem_heap_unlogged -|- Target Table : lineitem_heap_unlogged\n",
      "2025-09-22T15:52:14.274 +02:00 -|- FastTransfer -|- PG16_to_PG17_60M_rowsx16_columns -|- INFORMATION -|- tpch.tpch_10.lineitem_heap_unlogged -|- Target Trusted Connection : False\n",
      "2025-09-22T15:52:14.274 +02:00 -|- FastTransfer -|- PG16_to_PG17_60M_rowsx16_columns -|- INFORMATION -|- tpch.tpch_10.lineitem_heap_unlogged -|- Target User : FastUser\n",
      "2025-09-22T15:52:14.274 +02:00 -|- FastTransfer -|- PG16_to_PG17_60M_rowsx16_columns -|- INFORMATION -|- tpch.tpch_10.lineitem_heap_unlogged -|- Columns Map Method : Name\n",
      "2025-09-22T15:52:14.274 +02:00 -|- FastTransfer -|- PG16_to_PG17_60M_rowsx16_columns -|- INFORMATION -|- tpch.tpch_10.lineitem_heap_unlogged -|- Degree : 12\n",
      "2025-09-22T15:52:14.274 +02:00 -|- FastTransfer -|- PG16_to_PG17_60M_rowsx16_columns -|- INFORMATION -|- tpch.tpch_10.lineitem_heap_unlogged -|- Distribute Method : Ctid\n",
      "2025-09-22T15:52:14.274 +02:00 -|- FastTransfer -|- PG16_to_PG17_60M_rowsx16_columns -|- INFORMATION -|- tpch.tpch_10.lineitem_heap_unlogged -|- Bulkcopy Batch Size : 1048576\n",
      "2025-09-22T15:52:14.274 +02:00 -|- FastTransfer -|- PG16_to_PG17_60M_rowsx16_columns -|- INFORMATION -|- tpch.tpch_10.lineitem_heap_unlogged -|- Load Mode : Truncate\n",
      "2025-09-22T15:52:14.274 +02:00 -|- FastTransfer -|- PG16_to_PG17_60M_rowsx16_columns -|- INFORMATION -|- tpch.tpch_10.lineitem_heap_unlogged -|- Use Work Tables : False\n",
      "2025-09-22T15:52:14.275 +02:00 -|- FastTransfer -|- PG16_to_PG17_60M_rowsx16_columns -|- INFORMATION -|- tpch.tpch_10.lineitem_heap_unlogged -|- Encoding used : Unicode (UTF-8) - 65001 - utf-8\n",
      "2025-09-22T15:52:14.359 +02:00 -|- FastTransfer -|- PG16_to_PG17_60M_rowsx16_columns -|- INFORMATION -|- tpch.tpch_10.lineitem_heap_unlogged -|- Source Connection String : Host=localhost;Port=15432;Database=tpch;Trust Server Certificate=True;Application Name=FastTransfer;Timeout=15;Command Timeout=10800;Username=FastUser;Password=xxxxx\n",
      "2025-09-22T15:52:14.359 +02:00 -|- FastTransfer -|- PG16_to_PG17_60M_rowsx16_columns -|- INFORMATION -|- tpch.tpch_10.lineitem_heap_unlogged -|- Target Connection String : Host=localhost;Port=25432;Database=tpch;Trust Server Certificate=True;Application Name=FastTransfer;Timeout=15;Command Timeout=10800;Username=FastUser;Password=xxxxx\n",
      "2025-09-22T15:52:14.359 +02:00 -|- FastTransfer -|- PG16_to_PG17_60M_rowsx16_columns -|- INFORMATION -|- tpch.tpch_10.lineitem_heap_unlogged -|- Source Database Version : PostgreSQL 16.1, compiled by Visual C++ build 1937, 64-bit\n",
      "2025-09-22T15:52:14.359 +02:00 -|- FastTransfer -|- PG16_to_PG17_60M_rowsx16_columns -|- INFORMATION -|- tpch.tpch_10.lineitem_heap_unlogged -|- Target Database Version : PostgreSQL 17.2 on x86_64-windows, compiled by msvc-19.42.34435, 64-bit\n",
      "2025-09-22T15:52:15.071 +02:00 -|- FastTransfer -|- PG16_to_PG17_60M_rowsx16_columns -|- INFORMATION -|- tpch.tpch_10.lineitem_heap_unlogged -|- Snapshot ID = 00000003-00000027-1 Created in 3 ms\n",
      "2025-09-22T15:52:16.446 +02:00 -|- FastTransfer -|- PG16_to_PG17_60M_rowsx16_columns -|- INFORMATION -|- tpch.tpch_10.lineitem_heap_unlogged -|- Completed CTID Max Retrieval in 0 ms\n",
      "2025-09-22T15:52:16.446 +02:00 -|- FastTransfer -|- PG16_to_PG17_60M_rowsx16_columns -|- INFORMATION -|- tpch.tpch_10.lineitem_heap_unlogged -|- Max CTID for table \"tpch_10\".\"lineitem\" @snapshotid=00000003-00000027-1 = (1214184,49)\n",
      "2025-09-22T15:52:16.449 +02:00 -|- FastTransfer -|- PG16_to_PG17_60M_rowsx16_columns -|- INFORMATION -|- tpch.tpch_10.lineitem_heap_unlogged -|- Start Loading Data using distribution method Ctid\n",
      "2025-09-22T15:52:16.539 +02:00 -|- FastTransfer -|- PG16_to_PG17_60M_rowsx16_columns -|- INFORMATION -|- tpch.tpch_10.lineitem_heap_unlogged -|- Start Loading Data using distribution method Ctid\n",
      "2025-09-22T15:52:16.543 +02:00 -|- FastTransfer -|- PG16_to_PG17_60M_rowsx16_columns -|- INFORMATION -|- tpch.tpch_10.lineitem_heap_unlogged -|- Start Loading Data using distribution method Ctid\n",
      "2025-09-22T15:52:16.543 +02:00 -|- FastTransfer -|- PG16_to_PG17_60M_rowsx16_columns -|- INFORMATION -|- tpch.tpch_10.lineitem_heap_unlogged -|- Start Loading Data using distribution method Ctid\n",
      "2025-09-22T15:52:16.550 +02:00 -|- FastTransfer -|- PG16_to_PG17_60M_rowsx16_columns -|- INFORMATION -|- tpch.tpch_10.lineitem_heap_unlogged -|- Start Loading Data using distribution method Ctid\n",
      "2025-09-22T15:52:16.551 +02:00 -|- FastTransfer -|- PG16_to_PG17_60M_rowsx16_columns -|- INFORMATION -|- tpch.tpch_10.lineitem_heap_unlogged -|- Start Loading Data using distribution method Ctid\n",
      "2025-09-22T15:52:16.556 +02:00 -|- FastTransfer -|- PG16_to_PG17_60M_rowsx16_columns -|- INFORMATION -|- tpch.tpch_10.lineitem_heap_unlogged -|- Start Loading Data using distribution method Ctid\n",
      "2025-09-22T15:52:16.558 +02:00 -|- FastTransfer -|- PG16_to_PG17_60M_rowsx16_columns -|- INFORMATION -|- tpch.tpch_10.lineitem_heap_unlogged -|- Start Loading Data using distribution method Ctid\n",
      "2025-09-22T15:52:16.561 +02:00 -|- FastTransfer -|- PG16_to_PG17_60M_rowsx16_columns -|- INFORMATION -|- tpch.tpch_10.lineitem_heap_unlogged -|- Start Loading Data using distribution method Ctid\n",
      "2025-09-22T15:52:16.576 +02:00 -|- FastTransfer -|- PG16_to_PG17_60M_rowsx16_columns -|- INFORMATION -|- tpch.tpch_10.lineitem_heap_unlogged -|- Start Loading Data using distribution method Ctid\n",
      "2025-09-22T15:52:16.583 +02:00 -|- FastTransfer -|- PG16_to_PG17_60M_rowsx16_columns -|- INFORMATION -|- tpch.tpch_10.lineitem_heap_unlogged -|- Start Loading Data using distribution method Ctid\n",
      "2025-09-22T15:52:16.586 +02:00 -|- FastTransfer -|- PG16_to_PG17_60M_rowsx16_columns -|- INFORMATION -|- tpch.tpch_10.lineitem_heap_unlogged -|- Start Loading Data using distribution method Ctid\n",
      "2025-09-22T15:52:29.453 +02:00 -|- FastTransfer -|- PG16_to_PG17_60M_rowsx16_columns -|- INFORMATION -|- tpch.tpch_10.lineitem_heap_unlogged -|- Completed Load Query 6 for ctid between 505910 and 607092 : 1063470304 Bytes in 13004ms with snapshot 00000003-00000027-1\n",
      "2025-09-22T15:52:29.630 +02:00 -|- FastTransfer -|- PG16_to_PG17_60M_rowsx16_columns -|- INFORMATION -|- tpch.tpch_10.lineitem_heap_unlogged -|- Completed Load Query 10 for ctid between 910638 and 1011820 : 1063483057 Bytes in 13181ms with snapshot 00000003-00000027-1\n",
      "2025-09-22T15:52:29.751 +02:00 -|- FastTransfer -|- PG16_to_PG17_60M_rowsx16_columns -|- INFORMATION -|- tpch.tpch_10.lineitem_heap_unlogged -|- Completed Load Query 11 for ctid between 1011820 and 1113002 : 1063503340 Bytes in 13302ms with snapshot 00000003-00000027-1\n",
      "2025-09-22T15:52:29.768 +02:00 -|- FastTransfer -|- PG16_to_PG17_60M_rowsx16_columns -|- INFORMATION -|- tpch.tpch_10.lineitem_heap_unlogged -|- Completed Load Query 5 for ctid between 404728 and 505910 : 1063471288 Bytes in 13319ms with snapshot 00000003-00000027-1\n",
      "2025-09-22T15:52:29.775 +02:00 -|- FastTransfer -|- PG16_to_PG17_60M_rowsx16_columns -|- INFORMATION -|- tpch.tpch_10.lineitem_heap_unlogged -|- Completed Load Query 1 for ctid between 0 and 101182 : 1063456964 Bytes in 13326ms with snapshot 00000003-00000027-1\n",
      "2025-09-22T15:52:29.785 +02:00 -|- FastTransfer -|- PG16_to_PG17_60M_rowsx16_columns -|- INFORMATION -|- tpch.tpch_10.lineitem_heap_unlogged -|- Completed Load Query 3 for ctid between 202364 and 303546 : 1063454782 Bytes in 13337ms with snapshot 00000003-00000027-1\n",
      "2025-09-22T15:52:29.938 +02:00 -|- FastTransfer -|- PG16_to_PG17_60M_rowsx16_columns -|- INFORMATION -|- tpch.tpch_10.lineitem_heap_unlogged -|- Completed Load Query 7 for ctid between 607092 and 708274 : 1063503852 Bytes in 13489ms with snapshot 00000003-00000027-1\n",
      "2025-09-22T15:52:29.971 +02:00 -|- FastTransfer -|- PG16_to_PG17_60M_rowsx16_columns -|- INFORMATION -|- tpch.tpch_10.lineitem_heap_unlogged -|- Completed Load Query 9 for ctid between 809456 and 910638 : 1063531070 Bytes in 13523ms with snapshot 00000003-00000027-1\n",
      "2025-09-22T15:52:29.981 +02:00 -|- FastTransfer -|- PG16_to_PG17_60M_rowsx16_columns -|- INFORMATION -|- tpch.tpch_10.lineitem_heap_unlogged -|- Completed Load Query 4 for ctid between 303546 and 404728 : 1063457865 Bytes in 13533ms with snapshot 00000003-00000027-1\n",
      "2025-09-22T15:52:30.003 +02:00 -|- FastTransfer -|- PG16_to_PG17_60M_rowsx16_columns -|- INFORMATION -|- tpch.tpch_10.lineitem_heap_unlogged -|- Completed Load Query 2 for ctid between 101182 and 202364 : 1063429896 Bytes in 13555ms with snapshot 00000003-00000027-1\n",
      "2025-09-22T15:52:30.044 +02:00 -|- FastTransfer -|- PG16_to_PG17_60M_rowsx16_columns -|- INFORMATION -|- tpch.tpch_10.lineitem_heap_unlogged -|- Completed Load Query 8 for ctid between 708274 and 809456 : 1063453753 Bytes in 13595ms with snapshot 00000003-00000027-1\n",
      "2025-09-22T15:52:30.190 +02:00 -|- FastTransfer -|- PG16_to_PG17_60M_rowsx16_columns -|- INFORMATION -|- tpch.tpch_10.lineitem_heap_unlogged -|- Completed Load Query 12 for ctid between 1113002 and 2147483647 : 1063503191 Bytes in 13740ms with snapshot 00000003-00000027-1\n",
      "2025-09-22T15:52:30.190 +02:00 -|- FastTransfer -|- PG16_to_PG17_60M_rowsx16_columns -|- INFORMATION -|- tpch.tpch_10.lineitem_heap_unlogged -|- Total size : 12761719362 Bytes\n",
      "2025-09-22T15:52:30.190 +02:00 -|- FastTransfer -|- PG16_to_PG17_60M_rowsx16_columns -|- INFORMATION -|- tpch.tpch_10.lineitem_heap_unlogged -|- Throughput : 843869755 Bytes/s\n",
      "2025-09-22T15:52:30.190 +02:00 -|- FastTransfer -|- PG16_to_PG17_60M_rowsx16_columns -|- INFORMATION -|- tpch.tpch_10.lineitem_heap_unlogged -|- Transfert time : Elapsed=15122 ms\n",
      "2025-09-22T15:52:30.190 +02:00 -|- FastTransfer -|- PG16_to_PG17_60M_rowsx16_columns -|- INFORMATION -|- tpch.tpch_10.lineitem_heap_unlogged -|- Total time : Elapsed=16076 ms\n",
      "2025-09-22T15:52:30.190 +02:00 -|- FastTransfer -|- PG16_to_PG17_60M_rowsx16_columns -|- INFORMATION -|- tpch.tpch_10.lineitem_heap_unlogged -|- Completed Load\n"
     ]
    }
   ],
   "source": [
    "cd D:\\FastTransfer\n",
    "\n",
    ".\\FastTransfer.exe `\n",
    "--sourceconnectiontype \"pgcopy\" `\n",
    "--sourceserver \"localhost:15432\" `\n",
    "--sourcedatabase \"tpch\" `\n",
    "--sourceuser \"FastUser\" `\n",
    "--sourcepassword \"FastPassword\" `\n",
    "--sourceschema \"tpch_10\" `\n",
    "--sourcetable \"lineitem\" `\n",
    "`\n",
    "--targetconnectiontype \"pgcopy\" `\n",
    "--targetserver \"localhost:25432\" `\n",
    "--targetuser \"FastUser\" `\n",
    "--targetpassword \"FastPassword\" `\n",
    "--targetdatabase \"tpch\" `\n",
    "--targetschema \"tpch_10\" `\n",
    "--targettable \"lineitem_heap_unlogged\" `\n",
    "`\n",
    "--loadmode \"Truncate\" `\n",
    "--mapmethod \"Name\" `\n",
    "--method \"Ctid\" `\n",
    "--degree 12 `\n",
    "--runid \"PG16_to_PG17_60M_rowsx16_columns\""
   ]
  },
  {
   "cell_type": "markdown",
   "metadata": {
    "polyglot_notebook": {
     "kernelName": "csharp"
    }
   },
   "source": [
    "#### Results with Ctid pgcopy ==> pgcopy (binary copy method) :\n",
    "\n",
    "| PG16 ==> PG17 (Ctid method) \t\t\t\t| Elapsed Time (seconds)|Cells/sec \t|Parallel Dispatch Method|degree of parallelism\n",
    "|-----------------------------------------------------------------------|:---------------------:|----------:| :--: | :--: |\n",
    "| FastTransfer Load LINEITEM (60M Rows x 16c columns) HEAP Target       | 16.0     \t\t\t|60_000_000    | Ctid | 12 |\n",
    "| FastTransfer Load ORDERS   (15M Rows x  9c columns) Target with PK \t\t| 5.7     \t\t\t\t|23_684_210    | Ctid | 10 (-3) |\n",
    "| FastTransfer Load ORDERS   (15M Rows x  9c columns) HEAP Target \t\t| 3.3     \t\t\t\t|40_909_090    | Ctid | 12 |\n"
   ]
  },
  {
   "cell_type": "markdown",
   "id": "f7285241",
   "metadata": {},
   "source": [
    "The speed of loads (in cells/sec) is higher with LINEITEM than with ORDERS because the LINEITEM table is bigger and the startup and preparation time take a smaller role/space in the total time than it take with ORDERS load."
   ]
  },
  {
   "cell_type": "markdown",
   "id": "6cb22c0f",
   "metadata": {},
   "source": [
    "#### Results with foreign table + insert (legacy method) :\n",
    "| PG16 ==> PG17 (Foreign Table + Insert method) \t| Elapsed Time (seconds)|Cells/sec \t|Parallel Dispatch Method\n",
    "|-----------------------------------------------------------------------|:---------------------:|----------:| :--: |\n",
    "| Postgresql fdw table  (15M Rows x  9c columns) Target with PK | 58.8     \t\t\t|2_295_918     | N/A |\n",
    "| Postgresql fdw table  (15M Rows x  9c columns) HEAP Target | 40.1     \t\t\t|3_366_583     | N/A |"
   ]
  }
 ],
 "metadata": {
  "kernelspec": {
   "display_name": ".NET (C#)",
   "language": "C#",
   "name": ".net-csharp"
  },
  "language_info": {
   "name": "polyglot-notebook"
  },
  "polyglot_notebook": {
   "kernelInfo": {
    "defaultKernelName": "csharp",
    "items": [
     {
      "aliases": [],
      "name": "csharp"
     },
     {
      "aliases": [],
      "languageName": "pwsh",
      "name": "pwsh"
     },
     {
      "aliases": [],
      "languageName": "PostgreSQL",
      "name": "sql-pgsql17"
     },
     {
      "aliases": [],
      "languageName": "T-SQL",
      "name": "sql-SS2025_tpch_test"
     }
    ]
   }
  }
 },
 "nbformat": 4,
 "nbformat_minor": 5
}
