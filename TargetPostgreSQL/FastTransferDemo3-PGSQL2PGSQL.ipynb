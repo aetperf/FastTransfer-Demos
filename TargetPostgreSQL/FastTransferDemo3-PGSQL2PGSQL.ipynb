{
 "cells": [
  {
   "cell_type": "markdown",
   "id": "ed7e8fc1",
   "metadata": {
    "polyglot_notebook": {
     "kernelName": "pwsh"
    }
   },
   "source": [
    "```\n",
    "███████  █████  ███████ ████████ ████████ ██████   █████  ███    ██ ███████ ███████ ███████ ██████  \n",
    "██      ██   ██ ██         ██       ██    ██   ██ ██   ██ ████   ██ ██      ██      ██      ██   ██ \n",
    "█████   ███████ ███████    ██       ██    ██████  ███████ ██ ██  ██ ███████ █████   █████   ██████  \n",
    "██      ██   ██      ██    ██       ██    ██   ██ ██   ██ ██  ██ ██      ██ ██      ██      ██   ██ \n",
    "██      ██   ██ ███████    ██       ██    ██   ██ ██   ██ ██   ████ ███████ ██      ███████ ██   ██ "
   ]
  },
  {
   "cell_type": "markdown",
   "id": "b5a1077a",
   "metadata": {},
   "source": [
    "# Demo 3 - Source PGSQL16 - Target PGSQL17"
   ]
  },
  {
   "cell_type": "code",
   "execution_count": 1,
   "id": "f79f5dc1",
   "metadata": {
    "polyglot_notebook": {
     "kernelName": "csharp"
    }
   },
   "outputs": [
    {
     "data": {
      "text/html": [
       "<div><div></div><div></div><div><strong>Installed Packages</strong><ul><li><span>Microsoft.DotNet.Interactive.PostgreSQL, 1.0.0-beta.25323.1</span></li></ul></div></div>"
      ]
     },
     "metadata": {},
     "output_type": "display_data"
    },
    {
     "data": {
      "text/plain": [
       "Loading extension script from `C:\\Users\\romai\\.nuget\\packages\\microsoft.dotnet.interactive.postgresql\\1.0.0-beta.25323.1\\interactive-extensions\\dotnet\\extension.dib`"
      ]
     },
     "metadata": {},
     "output_type": "display_data"
    },
    {
     "data": {
      "text/html": [
       "<details><summary>Query PostgreSQL databases.</summary>\r\n",
       "    <p>This extension adds support for connecting to PostgreSql databases using the <code>#!connect postgres</code> magic command.</p>\r\n",
       "    </details>"
      ]
     },
     "metadata": {},
     "output_type": "display_data"
    }
   ],
   "source": [
    "#r \"nuget:Microsoft.DotNet.Interactive.PostgreSQL , *-*\""
   ]
  },
  {
   "cell_type": "markdown",
   "id": "8486177e",
   "metadata": {},
   "source": [
    "## Working on TPCH SF10 ORDERS (15M rows)"
   ]
  },
  {
   "cell_type": "markdown",
   "id": "c2950409",
   "metadata": {},
   "source": [
    "### PGSQL 16 to PG 17"
   ]
  },
  {
   "cell_type": "code",
   "execution_count": 2,
   "id": "a6099083",
   "metadata": {
    "polyglot_notebook": {
     "kernelName": "csharp"
    }
   },
   "outputs": [
    {
     "data": {
      "text/plain": [
       "Kernel added: #!sql-pgsql17"
      ]
     },
     "metadata": {},
     "output_type": "display_data"
    }
   ],
   "source": [
    "// Connect to PostgreSQL target database\n",
    "#!connect postgres \"Host=localhost;Port=25432;Database=tpch;Username=FastUser;Password=FastPassword;CommandTimeout=1500\" --kernel-name pgsql17"
   ]
  },
  {
   "cell_type": "markdown",
   "id": "db3a8822",
   "metadata": {},
   "source": [
    "## Copy data from postgresql 16 to postgresql 17 using dblink (to compare)"
   ]
  },
  {
   "cell_type": "markdown",
   "id": "9838fd82",
   "metadata": {},
   "source": [
    "#### Target orders_3 with a clustered ColumnStoreIndex"
   ]
  },
  {
   "cell_type": "code",
   "execution_count": 3,
   "id": "d1094a0b",
   "metadata": {
    "language_info": {
     "name": "polyglot-notebook"
    },
    "polyglot_notebook": {
     "kernelName": "sql-pgsql17"
    }
   },
   "outputs": [
    {
     "data": {
      "text/csv": [
       "count_target_table_rows\r\n",
       "0\r\n"
      ],
      "text/html": [
       "<table><thead><tr><td><span>count_target_table_rows</span></td></tr></thead><tbody><tr><td><div class=\"dni-plaintext\"><pre>0</pre></div></td></tr></tbody></table><style>\r\n",
       ".dni-code-hint {\r\n",
       "    font-style: italic;\r\n",
       "    overflow: hidden;\r\n",
       "    white-space: nowrap;\r\n",
       "}\r\n",
       ".dni-treeview {\r\n",
       "    white-space: nowrap;\r\n",
       "}\r\n",
       ".dni-treeview td {\r\n",
       "    vertical-align: top;\r\n",
       "    text-align: start;\r\n",
       "}\r\n",
       "details.dni-treeview {\r\n",
       "    padding-left: 1em;\r\n",
       "}\r\n",
       "table td {\r\n",
       "    text-align: start;\r\n",
       "}\r\n",
       "table tr { \r\n",
       "    vertical-align: top; \r\n",
       "    margin: 0em 0px;\r\n",
       "}\r\n",
       "table tr td pre \r\n",
       "{ \r\n",
       "    vertical-align: top !important; \r\n",
       "    margin: 0em 0px !important;\r\n",
       "} \r\n",
       "table th {\r\n",
       "    text-align: start;\r\n",
       "}\r\n",
       "</style>"
      ]
     },
     "metadata": {},
     "output_type": "display_data"
    }
   ],
   "source": [
    "TRUNCATE TABLE tpch_10.orders;\n",
    "SELECT count(*) count_target_table_rows from tpch_10.orders;\n",
    "\n",
    "ALTER TABLE tpch_10.orders SET UNLOGGED;"
   ]
  },
  {
   "cell_type": "code",
   "execution_count": null,
   "metadata": {
    "language_info": {
     "name": "polyglot-notebook"
    },
    "polyglot_notebook": {
     "kernelName": "sql-pgsql17"
    }
   },
   "outputs": [
    {
     "data": {
      "text/csv": [
       "\r\n"
      ],
      "text/html": [
       "<table><thead><tr></tr></thead><tbody></tbody></table><style>\r\n",
       ".dni-code-hint {\r\n",
       "    font-style: italic;\r\n",
       "    overflow: hidden;\r\n",
       "    white-space: nowrap;\r\n",
       "}\r\n",
       ".dni-treeview {\r\n",
       "    white-space: nowrap;\r\n",
       "}\r\n",
       ".dni-treeview td {\r\n",
       "    vertical-align: top;\r\n",
       "    text-align: start;\r\n",
       "}\r\n",
       "details.dni-treeview {\r\n",
       "    padding-left: 1em;\r\n",
       "}\r\n",
       "table td {\r\n",
       "    text-align: start;\r\n",
       "}\r\n",
       "table tr { \r\n",
       "    vertical-align: top; \r\n",
       "    margin: 0em 0px;\r\n",
       "}\r\n",
       "table tr td pre \r\n",
       "{ \r\n",
       "    vertical-align: top !important; \r\n",
       "    margin: 0em 0px !important;\r\n",
       "} \r\n",
       "table th {\r\n",
       "    text-align: start;\r\n",
       "}\r\n",
       "</style>"
      ]
     },
     "metadata": {},
     "output_type": "display_data"
    }
   ],
   "source": [
    "DROP FOREIGN TABLE IF EXISTS \"pg16_orders\";\n",
    "DROP USER MAPPING if exists for \"FastUser\" server \"pg16tpch\";\n",
    "DROP SERVER if exists \"pg16tpch\";"
   ]
  },
  {
   "cell_type": "code",
   "execution_count": 14,
   "metadata": {
    "language_info": {
     "name": "polyglot-notebook"
    },
    "polyglot_notebook": {
     "kernelName": "sql-pgsql17"
    }
   },
   "outputs": [
    {
     "data": {
      "text/csv": [
       "\r\n"
      ],
      "text/html": [
       "<table><thead><tr></tr></thead><tbody></tbody></table><style>\r\n",
       ".dni-code-hint {\r\n",
       "    font-style: italic;\r\n",
       "    overflow: hidden;\r\n",
       "    white-space: nowrap;\r\n",
       "}\r\n",
       ".dni-treeview {\r\n",
       "    white-space: nowrap;\r\n",
       "}\r\n",
       ".dni-treeview td {\r\n",
       "    vertical-align: top;\r\n",
       "    text-align: start;\r\n",
       "}\r\n",
       "details.dni-treeview {\r\n",
       "    padding-left: 1em;\r\n",
       "}\r\n",
       "table td {\r\n",
       "    text-align: start;\r\n",
       "}\r\n",
       "table tr { \r\n",
       "    vertical-align: top; \r\n",
       "    margin: 0em 0px;\r\n",
       "}\r\n",
       "table tr td pre \r\n",
       "{ \r\n",
       "    vertical-align: top !important; \r\n",
       "    margin: 0em 0px !important;\r\n",
       "} \r\n",
       "table th {\r\n",
       "    text-align: start;\r\n",
       "}\r\n",
       "</style>"
      ]
     },
     "metadata": {},
     "output_type": "display_data"
    }
   ],
   "source": [
    "CREATE SERVER \"pg16tpch\" FOREIGN DATA WRAPPER postgres_fdw OPTIONS (host 'localhost', dbname 'tpch', port '15432');\n",
    "CREATE USER MAPPING IF NOT EXISTS FOR \"FastUser\" SERVER pg16tpch OPTIONS (user 'FastUser', password 'FastPassword');"
   ]
  },
  {
   "cell_type": "code",
   "execution_count": 15,
   "metadata": {
    "language_info": {
     "name": "polyglot-notebook"
    },
    "polyglot_notebook": {
     "kernelName": "sql-pgsql17"
    }
   },
   "outputs": [
    {
     "data": {
      "text/csv": [
       "\r\n"
      ],
      "text/html": [
       "<table><thead><tr></tr></thead><tbody></tbody></table><style>\r\n",
       ".dni-code-hint {\r\n",
       "    font-style: italic;\r\n",
       "    overflow: hidden;\r\n",
       "    white-space: nowrap;\r\n",
       "}\r\n",
       ".dni-treeview {\r\n",
       "    white-space: nowrap;\r\n",
       "}\r\n",
       ".dni-treeview td {\r\n",
       "    vertical-align: top;\r\n",
       "    text-align: start;\r\n",
       "}\r\n",
       "details.dni-treeview {\r\n",
       "    padding-left: 1em;\r\n",
       "}\r\n",
       "table td {\r\n",
       "    text-align: start;\r\n",
       "}\r\n",
       "table tr { \r\n",
       "    vertical-align: top; \r\n",
       "    margin: 0em 0px;\r\n",
       "}\r\n",
       "table tr td pre \r\n",
       "{ \r\n",
       "    vertical-align: top !important; \r\n",
       "    margin: 0em 0px !important;\r\n",
       "} \r\n",
       "table th {\r\n",
       "    text-align: start;\r\n",
       "}\r\n",
       "</style>"
      ]
     },
     "metadata": {},
     "output_type": "display_data"
    }
   ],
   "source": [
    "-- Create external table in pg17 (target) to read data from pg16 (source)\n",
    "DROP FOREIGN TABLE IF EXISTS pg16_orders;\n",
    "CREATE FOREIGN TABLE IF NOT EXISTS pg16_orders (\n",
    "    o_orderkey integer,\n",
    "    o_custkey integer,\n",
    "    o_orderstatus char(1),\n",
    "    o_totalprice numeric(15,2),\n",
    "    o_orderdate date,\n",
    "    o_orderpriority char(15),\n",
    "    o_clerk char(15),\n",
    "    o_shippriority integer,\n",
    "    o_comment varchar(79)\n",
    ") SERVER pg16tpch OPTIONS (schema_name 'tpch_10', table_name 'orders');"
   ]
  },
  {
   "cell_type": "markdown",
   "id": "6c9434a4",
   "metadata": {},
   "source": [
    "### Copy data from postgresql 16 to postgresql 17 using the external table ==>\n"
   ]
  },
  {
   "cell_type": "code",
   "execution_count": null,
   "metadata": {
    "language_info": {
     "name": "polyglot-notebook"
    },
    "polyglot_notebook": {
     "kernelName": "sql-pgsql17"
    }
   },
   "outputs": [
    {
     "data": {
      "text/csv": [
       "\r\n"
      ],
      "text/html": [
       "<table><thead><tr></tr></thead><tbody></tbody></table><style>\r\n",
       ".dni-code-hint {\r\n",
       "    font-style: italic;\r\n",
       "    overflow: hidden;\r\n",
       "    white-space: nowrap;\r\n",
       "}\r\n",
       ".dni-treeview {\r\n",
       "    white-space: nowrap;\r\n",
       "}\r\n",
       ".dni-treeview td {\r\n",
       "    vertical-align: top;\r\n",
       "    text-align: start;\r\n",
       "}\r\n",
       "details.dni-treeview {\r\n",
       "    padding-left: 1em;\r\n",
       "}\r\n",
       "table td {\r\n",
       "    text-align: start;\r\n",
       "}\r\n",
       "table tr { \r\n",
       "    vertical-align: top; \r\n",
       "    margin: 0em 0px;\r\n",
       "}\r\n",
       "table tr td pre \r\n",
       "{ \r\n",
       "    vertical-align: top !important; \r\n",
       "    margin: 0em 0px !important;\r\n",
       "} \r\n",
       "table th {\r\n",
       "    text-align: start;\r\n",
       "}\r\n",
       "</style>"
      ]
     },
     "metadata": {},
     "output_type": "display_data"
    }
   ],
   "source": [
    "INSERT INTO tpch_10.orders\n",
    "SELECT * FROM pg16_orders;"
   ]
  },
  {
   "cell_type": "code",
   "execution_count": 17,
   "metadata": {
    "language_info": {
     "name": "polyglot-notebook"
    },
    "polyglot_notebook": {
     "kernelName": "sql-pgsql17"
    }
   },
   "outputs": [
    {
     "data": {
      "text/csv": [
       "count_target_table_rows_after_insert\r\n",
       "15000000\r\n"
      ],
      "text/html": [
       "<table><thead><tr><td><span>count_target_table_rows_after_insert</span></td></tr></thead><tbody><tr><td><div class=\"dni-plaintext\"><pre>15000000</pre></div></td></tr></tbody></table><style>\r\n",
       ".dni-code-hint {\r\n",
       "    font-style: italic;\r\n",
       "    overflow: hidden;\r\n",
       "    white-space: nowrap;\r\n",
       "}\r\n",
       ".dni-treeview {\r\n",
       "    white-space: nowrap;\r\n",
       "}\r\n",
       ".dni-treeview td {\r\n",
       "    vertical-align: top;\r\n",
       "    text-align: start;\r\n",
       "}\r\n",
       "details.dni-treeview {\r\n",
       "    padding-left: 1em;\r\n",
       "}\r\n",
       "table td {\r\n",
       "    text-align: start;\r\n",
       "}\r\n",
       "table tr { \r\n",
       "    vertical-align: top; \r\n",
       "    margin: 0em 0px;\r\n",
       "}\r\n",
       "table tr td pre \r\n",
       "{ \r\n",
       "    vertical-align: top !important; \r\n",
       "    margin: 0em 0px !important;\r\n",
       "} \r\n",
       "table th {\r\n",
       "    text-align: start;\r\n",
       "}\r\n",
       "</style>"
      ]
     },
     "metadata": {},
     "output_type": "display_data"
    }
   ],
   "source": [
    "SELECT count(*) count_target_table_rows_after_insert from tpch_10.orders;"
   ]
  },
  {
   "cell_type": "markdown",
   "id": "9c51f2be",
   "metadata": {},
   "source": [
    "## Test FastTransfer with Method Ctid (postgresql only)"
   ]
  },
  {
   "cell_type": "markdown",
   "id": "84121c68",
   "metadata": {},
   "source": [
    "CTID is a system hidden column that stores the physical location (block number and tuple offset) of a row version within its table.\n",
    "\n",
    "You can SELECT it and even filter data using this hidden column. FastTransfer use the Ctid column to select data by chunck. It also create a micro-postgresql-snapshot before openning several connections to the source in order to have a stable source for each threads that will extract a portion of the data. "
   ]
  },
  {
   "cell_type": "code",
   "execution_count": null,
   "id": "6f2f4100",
   "metadata": {
    "polyglot_notebook": {
     "kernelName": "pwsh"
    }
   },
   "outputs": [
    {
     "name": "stdout",
     "output_type": "stream",
     "text": [
      "2025-09-22T00:33:45.587 +02:00 -|- FastTransfer -|- PG16_to_PG17 -|- DEBUG -|- tpch.tpch_10.orders -|- Using log settings from FastTransfer_Settings.json\n",
      "2025-09-22T00:33:45.596 +02:00 -|- FastTransfer -|- PG16_to_PG17 -|- INFORMATION -|- tpch.tpch_10.orders -|- FastTransfer – running in normal mode.\n",
      "2025-09-22T00:33:45.615 +02:00 -|- FastTransfer -|- PG16_to_PG17 -|- INFORMATION -|- tpch.tpch_10.orders -|- License for Architecture & Performance validated successfully. License valid until 2026-09-05\n",
      "2025-09-22T00:33:45.615 +02:00 -|- FastTransfer -|- PG16_to_PG17 -|- INFORMATION -|- tpch.tpch_10.orders -|- Starting\n",
      "2025-09-22T00:33:45.615 +02:00 -|- FastTransfer -|- PG16_to_PG17 -|- INFORMATION -|- tpch.tpch_10.orders -|- FastTransfer Version : 0.13.9.0 Architecture : X64 - Framework : .NET 8.0.19\n",
      "2025-09-22T00:33:45.616 +02:00 -|- FastTransfer -|- PG16_to_PG17 -|- INFORMATION -|- tpch.tpch_10.orders -|- OS : Microsoft Windows 10.0.26100\n",
      "2025-09-22T00:33:45.616 +02:00 -|- FastTransfer -|- PG16_to_PG17 -|- INFORMATION -|- tpch.tpch_10.orders -|- Process ID : 89724\n",
      "2025-09-22T00:33:45.616 +02:00 -|- FastTransfer -|- PG16_to_PG17 -|- INFORMATION -|- tpch.tpch_10.orders -|- Provided Run ID : PG16_to_PG17\n",
      "2025-09-22T00:33:45.616 +02:00 -|- FastTransfer -|- PG16_to_PG17 -|- INFORMATION -|- tpch.tpch_10.orders -|- Source Connection Type : pgcopy\n",
      "2025-09-22T00:33:45.616 +02:00 -|- FastTransfer -|- PG16_to_PG17 -|- INFORMATION -|- tpch.tpch_10.orders -|- Source SqlInstance : localhost:15432\n",
      "2025-09-22T00:33:45.616 +02:00 -|- FastTransfer -|- PG16_to_PG17 -|- INFORMATION -|- tpch.tpch_10.orders -|- Source Database : tpch\n",
      "2025-09-22T00:33:45.616 +02:00 -|- FastTransfer -|- PG16_to_PG17 -|- INFORMATION -|- tpch.tpch_10.orders -|- Source Trusted Connection : False\n",
      "2025-09-22T00:33:45.616 +02:00 -|- FastTransfer -|- PG16_to_PG17 -|- INFORMATION -|- tpch.tpch_10.orders -|- Source User : FastUser\n",
      "2025-09-22T00:33:45.616 +02:00 -|- FastTransfer -|- PG16_to_PG17 -|- INFORMATION -|- tpch.tpch_10.orders -|- Source Schema : tpch_10\n",
      "2025-09-22T00:33:45.616 +02:00 -|- FastTransfer -|- PG16_to_PG17 -|- INFORMATION -|- tpch.tpch_10.orders -|- Source Table : orders\n",
      "2025-09-22T00:33:45.616 +02:00 -|- FastTransfer -|- PG16_to_PG17 -|- INFORMATION -|- tpch.tpch_10.orders -|- Target Type : pgcopy\n",
      "2025-09-22T00:33:45.616 +02:00 -|- FastTransfer -|- PG16_to_PG17 -|- INFORMATION -|- tpch.tpch_10.orders -|- Target Server : localhost:25432\n",
      "2025-09-22T00:33:45.616 +02:00 -|- FastTransfer -|- PG16_to_PG17 -|- INFORMATION -|- tpch.tpch_10.orders -|- Target Database : tpch\n",
      "2025-09-22T00:33:45.616 +02:00 -|- FastTransfer -|- PG16_to_PG17 -|- INFORMATION -|- tpch.tpch_10.orders -|- Target Schema : tpch_10\n",
      "2025-09-22T00:33:45.616 +02:00 -|- FastTransfer -|- PG16_to_PG17 -|- INFORMATION -|- tpch.tpch_10.orders -|- Target Table : orders\n",
      "2025-09-22T00:33:45.616 +02:00 -|- FastTransfer -|- PG16_to_PG17 -|- INFORMATION -|- tpch.tpch_10.orders -|- Target Trusted Connection : False\n",
      "2025-09-22T00:33:45.616 +02:00 -|- FastTransfer -|- PG16_to_PG17 -|- INFORMATION -|- tpch.tpch_10.orders -|- Target User : FastUser\n",
      "2025-09-22T00:33:45.616 +02:00 -|- FastTransfer -|- PG16_to_PG17 -|- INFORMATION -|- tpch.tpch_10.orders -|- Columns Map Method : Name\n",
      "2025-09-22T00:33:45.616 +02:00 -|- FastTransfer -|- PG16_to_PG17 -|- INFORMATION -|- tpch.tpch_10.orders -|- Degree : -2\n",
      "2025-09-22T00:33:45.616 +02:00 -|- FastTransfer -|- PG16_to_PG17 -|- INFORMATION -|- tpch.tpch_10.orders -|- Distribute Method : Ctid\n",
      "2025-09-22T00:33:45.616 +02:00 -|- FastTransfer -|- PG16_to_PG17 -|- INFORMATION -|- tpch.tpch_10.orders -|- Bulkcopy Batch Size : 1048576\n",
      "2025-09-22T00:33:45.616 +02:00 -|- FastTransfer -|- PG16_to_PG17 -|- INFORMATION -|- tpch.tpch_10.orders -|- Load Mode : Truncate\n",
      "2025-09-22T00:33:45.616 +02:00 -|- FastTransfer -|- PG16_to_PG17 -|- INFORMATION -|- tpch.tpch_10.orders -|- Use Work Tables : False\n",
      "2025-09-22T00:33:45.617 +02:00 -|- FastTransfer -|- PG16_to_PG17 -|- INFORMATION -|- tpch.tpch_10.orders -|- Encoding used : Unicode (UTF-8) - 65001 - utf-8\n",
      "2025-09-22T00:33:45.622 +02:00 -|- FastTransfer -|- PG16_to_PG17 -|- DEBUG -|- tpch.tpch_10.orders -|- serverport: localhost : 15432\n",
      "2025-09-22T00:33:45.622 +02:00 -|- FastTransfer -|- PG16_to_PG17 -|- DEBUG -|- tpch.tpch_10.orders -|- serverport: localhost : 25432\n",
      "2025-09-22T00:33:45.698 +02:00 -|- FastTransfer -|- PG16_to_PG17 -|- INFORMATION -|- tpch.tpch_10.orders -|- Source Connection String : Host=localhost;Port=15432;Database=tpch;Trust Server Certificate=True;Application Name=FastTransfer;Timeout=15;Command Timeout=10800;Username=FastUser;Password=xxxxx\n",
      "2025-09-22T00:33:45.698 +02:00 -|- FastTransfer -|- PG16_to_PG17 -|- INFORMATION -|- tpch.tpch_10.orders -|- Target Connection String : Host=localhost;Port=25432;Database=tpch;Trust Server Certificate=True;Application Name=FastTransfer;Timeout=15;Command Timeout=10800;Username=FastUser;Password=xxxxx\n",
      "2025-09-22T00:33:45.698 +02:00 -|- FastTransfer -|- PG16_to_PG17 -|- INFORMATION -|- tpch.tpch_10.orders -|- Source Database Version : PostgreSQL 16.1, compiled by Visual C++ build 1937, 64-bit\n",
      "2025-09-22T00:33:45.698 +02:00 -|- FastTransfer -|- PG16_to_PG17 -|- INFORMATION -|- tpch.tpch_10.orders -|- Target Database Version : PostgreSQL 17.2 on x86_64-windows, compiled by msvc-19.42.34435, 64-bit\n",
      "2025-09-22T00:33:45.698 +02:00 -|- FastTransfer -|- PG16_to_PG17 -|- VERBOSE -|- tpch.tpch_10.orders -|- Dialect used : SqlParser.Dialects.PostgreSqlDialect\n",
      "2025-09-22T00:33:45.702 +02:00 -|- FastTransfer -|- PG16_to_PG17 -|- VERBOSE -|- tpch.tpch_10.orders -|- AST - Full Query : SELECT * FROM \"tpch_10\".\"orders\"\n",
      "2025-09-22T00:33:45.702 +02:00 -|- FastTransfer -|- PG16_to_PG17 -|- VERBOSE -|- tpch.tpch_10.orders -|- AST - Select Statement : SELECT * FROM \"tpch_10\".\"orders\"\n",
      "2025-09-22T00:33:45.702 +02:00 -|- FastTransfer -|- PG16_to_PG17 -|- VERBOSE -|- tpch.tpch_10.orders -|- Columns : *\n",
      "2025-09-22T00:33:45.702 +02:00 -|- FastTransfer -|- PG16_to_PG17 -|- VERBOSE -|- tpch.tpch_10.orders -|- From Clause : \"tpch_10\".\"orders\"\n",
      "2025-09-22T00:33:45.702 +02:00 -|- FastTransfer -|- PG16_to_PG17 -|- VERBOSE -|- tpch.tpch_10.orders -|- Where Clause : No Where Clause\n",
      "2025-09-22T00:33:45.702 +02:00 -|- FastTransfer -|- PG16_to_PG17 -|- VERBOSE -|- tpch.tpch_10.orders -|- Group By : No Group By\n",
      "2025-09-22T00:33:45.702 +02:00 -|- FastTransfer -|- PG16_to_PG17 -|- VERBOSE -|- tpch.tpch_10.orders -|- Having : No Having\n",
      "2025-09-22T00:33:45.702 +02:00 -|- FastTransfer -|- PG16_to_PG17 -|- VERBOSE -|- tpch.tpch_10.orders -|- Order By : No Order By\n",
      "2025-09-22T00:33:45.703 +02:00 -|- FastTransfer -|- PG16_to_PG17 -|- VERBOSE -|- tpch.tpch_10.orders -|- Limit/top : No Limit\n",
      "2025-09-22T00:33:45.703 +02:00 -|- FastTransfer -|- PG16_to_PG17 -|- VERBOSE -|- tpch.tpch_10.orders -|- Distinct : No Distinct\n",
      "2025-09-22T00:33:45.703 +02:00 -|- FastTransfer -|- PG16_to_PG17 -|- DEBUG -|- tpch.tpch_10.orders -|- Query to Truncate Target Table = TRUNCATE TABLE \"tpch_10\".\"orders\"\n",
      "2025-09-22T00:33:45.737 +02:00 -|- FastTransfer -|- PG16_to_PG17 -|- INFORMATION -|- tpch.tpch_10.orders -|- Degree of parallelism was computed to 16 (=> 32\\2)\n",
      "2025-09-22T00:33:45.737 +02:00 -|- FastTransfer -|- PG16_to_PG17 -|- DEBUG -|- tpch.tpch_10.orders -|- Query to Retrieve Snapshot ID = BEGIN TRANSACTION ISOLATION LEVEL REPEATABLE READ;SELECT pg_export_snapshot() snapshotid\n",
      "2025-09-22T00:33:45.740 +02:00 -|- FastTransfer -|- PG16_to_PG17 -|- INFORMATION -|- tpch.tpch_10.orders -|- Snapshot ID = 00000005-00000087-1\n",
      "2025-09-22T00:33:45.740 +02:00 -|- FastTransfer -|- PG16_to_PG17 -|- DEBUG -|- tpch.tpch_10.orders -|- Query to Retrieve Max CTID = BEGIN TRANSACTION ISOLATION LEVEL REPEATABLE READ READ ONLY;SET TRANSACTION SNAPSHOT '00000005-00000087-1';SELECT MAX(ctid) maxctid FROM \"tpch_10\".\"orders\"\n",
      "2025-09-22T00:33:46.065 +02:00 -|- FastTransfer -|- PG16_to_PG17 -|- INFORMATION -|- tpch.tpch_10.orders -|- Max CTID for table \"tpch_10\".\"orders\" @snapshotid=00000005-00000087-1 = (276024,54)\n",
      "2025-09-22T00:33:46.067 +02:00 -|- FastTransfer -|- PG16_to_PG17 -|- DEBUG -|- tpch.tpch_10.orders -|- New Query : SELECT * FROM \"tpch_10\".\"orders\" WHERE 1 = 1 AND CTID BETWEEN '(34502,0)'::tid AND '(51753,0)'::tid\n",
      "2025-09-22T00:33:46.067 +02:00 -|- FastTransfer -|- PG16_to_PG17 -|- DEBUG -|- tpch.tpch_10.orders -|- New Query : SELECT * FROM \"tpch_10\".\"orders\" WHERE 1 = 1 AND CTID BETWEEN '(69004,0)'::tid AND '(86255,0)'::tid\n",
      "2025-09-22T00:33:46.067 +02:00 -|- FastTransfer -|- PG16_to_PG17 -|- DEBUG -|- tpch.tpch_10.orders -|- New Query : SELECT * FROM \"tpch_10\".\"orders\" WHERE 1 = 1 AND CTID BETWEEN '(0,0)'::tid AND '(17251,0)'::tid\n",
      "2025-09-22T00:33:46.067 +02:00 -|- FastTransfer -|- PG16_to_PG17 -|- DEBUG -|- tpch.tpch_10.orders -|- New Query : SELECT * FROM \"tpch_10\".\"orders\" WHERE 1 = 1 AND CTID BETWEEN '(17251,0)'::tid AND '(34502,0)'::tid\n",
      "2025-09-22T00:33:46.067 +02:00 -|- FastTransfer -|- PG16_to_PG17 -|- DEBUG -|- tpch.tpch_10.orders -|- New Query : SELECT * FROM \"tpch_10\".\"orders\" WHERE 1 = 1 AND CTID BETWEEN '(86255,0)'::tid AND '(103506,0)'::tid\n",
      "2025-09-22T00:33:46.067 +02:00 -|- FastTransfer -|- PG16_to_PG17 -|- DEBUG -|- tpch.tpch_10.orders -|- New Query : SELECT * FROM \"tpch_10\".\"orders\" WHERE 1 = 1 AND CTID BETWEEN '(51753,0)'::tid AND '(69004,0)'::tid\n",
      "2025-09-22T00:33:46.067 +02:00 -|- FastTransfer -|- PG16_to_PG17 -|- DEBUG -|- tpch.tpch_10.orders -|- New Query : SELECT * FROM \"tpch_10\".\"orders\" WHERE 1 = 1 AND CTID BETWEEN '(103506,0)'::tid AND '(120757,0)'::tid\n",
      "2025-09-22T00:33:46.067 +02:00 -|- FastTransfer -|- PG16_to_PG17 -|- DEBUG -|- tpch.tpch_10.orders -|- New Query : SELECT * FROM \"tpch_10\".\"orders\" WHERE 1 = 1 AND CTID BETWEEN '(120757,0)'::tid AND '(138008,0)'::tid\n",
      "2025-09-22T00:33:46.068 +02:00 -|- FastTransfer -|- PG16_to_PG17 -|- INFORMATION -|- tpch.tpch_10.orders -|- Start Loading Data using distribution method Ctid\n",
      "2025-09-22T00:33:46.068 +02:00 -|- FastTransfer -|- PG16_to_PG17 -|- DEBUG -|- tpch.tpch_10.orders -|- Query to Export Data = COPY (SELECT * FROM \"tpch_10\".\"orders\" WHERE 1 = 1 AND CTID BETWEEN '(120757,0)'::tid AND '(138008,0)'::tid) TO STDOUT (FORMAT BINARY)\n",
      "2025-09-22T00:33:46.068 +02:00 -|- FastTransfer -|- PG16_to_PG17 -|- DEBUG -|- tpch.tpch_10.orders -|- Query to Load Data = COPY \"tpch_10\".\"orders\" FROM STDIN (FORMAT BINARY)\n",
      "2025-09-22T00:33:46.068 +02:00 -|- FastTransfer -|- PG16_to_PG17 -|- DEBUG -|- tpch.tpch_10.orders -|- New Query : SELECT * FROM \"tpch_10\".\"orders\" WHERE 1 = 1 AND CTID BETWEEN '(138008,0)'::tid AND '(155259,0)'::tid\n",
      "2025-09-22T00:33:46.068 +02:00 -|- FastTransfer -|- PG16_to_PG17 -|- DEBUG -|- tpch.tpch_10.orders -|- New Query : SELECT * FROM \"tpch_10\".\"orders\" WHERE 1 = 1 AND CTID BETWEEN '(155259,0)'::tid AND '(172510,0)'::tid\n",
      "2025-09-22T00:33:46.068 +02:00 -|- FastTransfer -|- PG16_to_PG17 -|- DEBUG -|- tpch.tpch_10.orders -|- New Query : SELECT * FROM \"tpch_10\".\"orders\" WHERE 1 = 1 AND CTID BETWEEN '(172510,0)'::tid AND '(189761,0)'::tid\n",
      "2025-09-22T00:33:46.069 +02:00 -|- FastTransfer -|- PG16_to_PG17 -|- DEBUG -|- tpch.tpch_10.orders -|- New Query : SELECT * FROM \"tpch_10\".\"orders\" WHERE 1 = 1 AND CTID BETWEEN '(189761,0)'::tid AND '(207012,0)'::tid\n",
      "2025-09-22T00:33:46.069 +02:00 -|- FastTransfer -|- PG16_to_PG17 -|- DEBUG -|- tpch.tpch_10.orders -|- New Query : SELECT * FROM \"tpch_10\".\"orders\" WHERE 1 = 1 AND CTID BETWEEN '(207012,0)'::tid AND '(224263,0)'::tid\n",
      "2025-09-22T00:33:46.069 +02:00 -|- FastTransfer -|- PG16_to_PG17 -|- DEBUG -|- tpch.tpch_10.orders -|- New Query : SELECT * FROM \"tpch_10\".\"orders\" WHERE 1 = 1 AND CTID BETWEEN '(224263,0)'::tid AND '(241514,0)'::tid\n",
      "2025-09-22T00:33:46.070 +02:00 -|- FastTransfer -|- PG16_to_PG17 -|- DEBUG -|- tpch.tpch_10.orders -|- New Query : SELECT * FROM \"tpch_10\".\"orders\" WHERE 1 = 1 AND CTID BETWEEN '(241514,0)'::tid AND '(258765,0)'::tid\n",
      "2025-09-22T00:33:46.070 +02:00 -|- FastTransfer -|- PG16_to_PG17 -|- DEBUG -|- tpch.tpch_10.orders -|- New Query : SELECT * FROM \"tpch_10\".\"orders\" WHERE 1 = 1 AND CTID BETWEEN '(258765,0)'::tid AND '(2147483647,0)'::tid\n",
      "2025-09-22T00:33:46.173 +02:00 -|- FastTransfer -|- PG16_to_PG17 -|- INFORMATION -|- tpch.tpch_10.orders -|- Start Loading Data using distribution method Ctid\n",
      "2025-09-22T00:33:46.173 +02:00 -|- FastTransfer -|- PG16_to_PG17 -|- DEBUG -|- tpch.tpch_10.orders -|- Query to Export Data = COPY (SELECT * FROM \"tpch_10\".\"orders\" WHERE 1 = 1 AND CTID BETWEEN '(0,0)'::tid AND '(17251,0)'::tid) TO STDOUT (FORMAT BINARY)\n",
      "2025-09-22T00:33:46.173 +02:00 -|- FastTransfer -|- PG16_to_PG17 -|- DEBUG -|- tpch.tpch_10.orders -|- Query to Load Data = COPY \"tpch_10\".\"orders\" FROM STDIN (FORMAT BINARY)\n",
      "2025-09-22T00:33:46.181 +02:00 -|- FastTransfer -|- PG16_to_PG17 -|- INFORMATION -|- tpch.tpch_10.orders -|- Start Loading Data using distribution method Ctid\n",
      "2025-09-22T00:33:46.182 +02:00 -|- FastTransfer -|- PG16_to_PG17 -|- DEBUG -|- tpch.tpch_10.orders -|- Query to Export Data = COPY (SELECT * FROM \"tpch_10\".\"orders\" WHERE 1 = 1 AND CTID BETWEEN '(69004,0)'::tid AND '(86255,0)'::tid) TO STDOUT (FORMAT BINARY)\n",
      "2025-09-22T00:33:46.182 +02:00 -|- FastTransfer -|- PG16_to_PG17 -|- DEBUG -|- tpch.tpch_10.orders -|- Query to Load Data = COPY \"tpch_10\".\"orders\" FROM STDIN (FORMAT BINARY)\n",
      "2025-09-22T00:33:46.182 +02:00 -|- FastTransfer -|- PG16_to_PG17 -|- INFORMATION -|- tpch.tpch_10.orders -|- Start Loading Data using distribution method Ctid\n",
      "2025-09-22T00:33:46.182 +02:00 -|- FastTransfer -|- PG16_to_PG17 -|- DEBUG -|- tpch.tpch_10.orders -|- Query to Export Data = COPY (SELECT * FROM \"tpch_10\".\"orders\" WHERE 1 = 1 AND CTID BETWEEN '(86255,0)'::tid AND '(103506,0)'::tid) TO STDOUT (FORMAT BINARY)\n",
      "2025-09-22T00:33:46.182 +02:00 -|- FastTransfer -|- PG16_to_PG17 -|- DEBUG -|- tpch.tpch_10.orders -|- Query to Load Data = COPY \"tpch_10\".\"orders\" FROM STDIN (FORMAT BINARY)\n",
      "2025-09-22T00:33:46.190 +02:00 -|- FastTransfer -|- PG16_to_PG17 -|- INFORMATION -|- tpch.tpch_10.orders -|- Start Loading Data using distribution method Ctid\n",
      "2025-09-22T00:33:46.190 +02:00 -|- FastTransfer -|- PG16_to_PG17 -|- DEBUG -|- tpch.tpch_10.orders -|- Query to Export Data = COPY (SELECT * FROM \"tpch_10\".\"orders\" WHERE 1 = 1 AND CTID BETWEEN '(103506,0)'::tid AND '(120757,0)'::tid) TO STDOUT (FORMAT BINARY)\n",
      "2025-09-22T00:33:46.190 +02:00 -|- FastTransfer -|- PG16_to_PG17 -|- DEBUG -|- tpch.tpch_10.orders -|- Query to Load Data = COPY \"tpch_10\".\"orders\" FROM STDIN (FORMAT BINARY)\n",
      "2025-09-22T00:33:46.194 +02:00 -|- FastTransfer -|- PG16_to_PG17 -|- INFORMATION -|- tpch.tpch_10.orders -|- Start Loading Data using distribution method Ctid\n",
      "2025-09-22T00:33:46.194 +02:00 -|- FastTransfer -|- PG16_to_PG17 -|- DEBUG -|- tpch.tpch_10.orders -|- Query to Export Data = COPY (SELECT * FROM \"tpch_10\".\"orders\" WHERE 1 = 1 AND CTID BETWEEN '(34502,0)'::tid AND '(51753,0)'::tid) TO STDOUT (FORMAT BINARY)\n",
      "2025-09-22T00:33:46.194 +02:00 -|- FastTransfer -|- PG16_to_PG17 -|- DEBUG -|- tpch.tpch_10.orders -|- Query to Load Data = COPY \"tpch_10\".\"orders\" FROM STDIN (FORMAT BINARY)\n",
      "2025-09-22T00:33:46.199 +02:00 -|- FastTransfer -|- PG16_to_PG17 -|- INFORMATION -|- tpch.tpch_10.orders -|- Start Loading Data using distribution method Ctid\n",
      "2025-09-22T00:33:46.199 +02:00 -|- FastTransfer -|- PG16_to_PG17 -|- DEBUG -|- tpch.tpch_10.orders -|- Query to Export Data = COPY (SELECT * FROM \"tpch_10\".\"orders\" WHERE 1 = 1 AND CTID BETWEEN '(138008,0)'::tid AND '(155259,0)'::tid) TO STDOUT (FORMAT BINARY)\n",
      "2025-09-22T00:33:46.199 +02:00 -|- FastTransfer -|- PG16_to_PG17 -|- DEBUG -|- tpch.tpch_10.orders -|- Query to Load Data = COPY \"tpch_10\".\"orders\" FROM STDIN (FORMAT BINARY)\n",
      "2025-09-22T00:33:46.205 +02:00 -|- FastTransfer -|- PG16_to_PG17 -|- INFORMATION -|- tpch.tpch_10.orders -|- Start Loading Data using distribution method Ctid\n",
      "2025-09-22T00:33:46.205 +02:00 -|- FastTransfer -|- PG16_to_PG17 -|- DEBUG -|- tpch.tpch_10.orders -|- Query to Export Data = COPY (SELECT * FROM \"tpch_10\".\"orders\" WHERE 1 = 1 AND CTID BETWEEN '(155259,0)'::tid AND '(172510,0)'::tid) TO STDOUT (FORMAT BINARY)\n",
      "2025-09-22T00:33:46.205 +02:00 -|- FastTransfer -|- PG16_to_PG17 -|- DEBUG -|- tpch.tpch_10.orders -|- Query to Load Data = COPY \"tpch_10\".\"orders\" FROM STDIN (FORMAT BINARY)\n",
      "2025-09-22T00:33:46.206 +02:00 -|- FastTransfer -|- PG16_to_PG17 -|- INFORMATION -|- tpch.tpch_10.orders -|- Start Loading Data using distribution method Ctid\n",
      "2025-09-22T00:33:46.207 +02:00 -|- FastTransfer -|- PG16_to_PG17 -|- DEBUG -|- tpch.tpch_10.orders -|- Query to Export Data = COPY (SELECT * FROM \"tpch_10\".\"orders\" WHERE 1 = 1 AND CTID BETWEEN '(51753,0)'::tid AND '(69004,0)'::tid) TO STDOUT (FORMAT BINARY)\n",
      "2025-09-22T00:33:46.207 +02:00 -|- FastTransfer -|- PG16_to_PG17 -|- DEBUG -|- tpch.tpch_10.orders -|- Query to Load Data = COPY \"tpch_10\".\"orders\" FROM STDIN (FORMAT BINARY)\n",
      "2025-09-22T00:33:46.216 +02:00 -|- FastTransfer -|- PG16_to_PG17 -|- INFORMATION -|- tpch.tpch_10.orders -|- Start Loading Data using distribution method Ctid\n",
      "2025-09-22T00:33:46.216 +02:00 -|- FastTransfer -|- PG16_to_PG17 -|- DEBUG -|- tpch.tpch_10.orders -|- Query to Export Data = COPY (SELECT * FROM \"tpch_10\".\"orders\" WHERE 1 = 1 AND CTID BETWEEN '(17251,0)'::tid AND '(34502,0)'::tid) TO STDOUT (FORMAT BINARY)\n",
      "2025-09-22T00:33:46.216 +02:00 -|- FastTransfer -|- PG16_to_PG17 -|- DEBUG -|- tpch.tpch_10.orders -|- Query to Load Data = COPY \"tpch_10\".\"orders\" FROM STDIN (FORMAT BINARY)\n",
      "2025-09-22T00:33:46.225 +02:00 -|- FastTransfer -|- PG16_to_PG17 -|- INFORMATION -|- tpch.tpch_10.orders -|- Start Loading Data using distribution method Ctid\n",
      "2025-09-22T00:33:46.225 +02:00 -|- FastTransfer -|- PG16_to_PG17 -|- DEBUG -|- tpch.tpch_10.orders -|- Query to Export Data = COPY (SELECT * FROM \"tpch_10\".\"orders\" WHERE 1 = 1 AND CTID BETWEEN '(172510,0)'::tid AND '(189761,0)'::tid) TO STDOUT (FORMAT BINARY)\n",
      "2025-09-22T00:33:46.225 +02:00 -|- FastTransfer -|- PG16_to_PG17 -|- DEBUG -|- tpch.tpch_10.orders -|- Query to Load Data = COPY \"tpch_10\".\"orders\" FROM STDIN (FORMAT BINARY)\n",
      "2025-09-22T00:33:46.233 +02:00 -|- FastTransfer -|- PG16_to_PG17 -|- INFORMATION -|- tpch.tpch_10.orders -|- Start Loading Data using distribution method Ctid\n",
      "2025-09-22T00:33:46.234 +02:00 -|- FastTransfer -|- PG16_to_PG17 -|- DEBUG -|- tpch.tpch_10.orders -|- Query to Export Data = COPY (SELECT * FROM \"tpch_10\".\"orders\" WHERE 1 = 1 AND CTID BETWEEN '(207012,0)'::tid AND '(224263,0)'::tid) TO STDOUT (FORMAT BINARY)\n",
      "2025-09-22T00:33:46.234 +02:00 -|- FastTransfer -|- PG16_to_PG17 -|- DEBUG -|- tpch.tpch_10.orders -|- Query to Load Data = COPY \"tpch_10\".\"orders\" FROM STDIN (FORMAT BINARY)\n",
      "2025-09-22T00:33:46.235 +02:00 -|- FastTransfer -|- PG16_to_PG17 -|- INFORMATION -|- tpch.tpch_10.orders -|- Start Loading Data using distribution method Ctid\n",
      "2025-09-22T00:33:46.235 +02:00 -|- FastTransfer -|- PG16_to_PG17 -|- DEBUG -|- tpch.tpch_10.orders -|- Query to Export Data = COPY (SELECT * FROM \"tpch_10\".\"orders\" WHERE 1 = 1 AND CTID BETWEEN '(224263,0)'::tid AND '(241514,0)'::tid) TO STDOUT (FORMAT BINARY)\n",
      "2025-09-22T00:33:46.235 +02:00 -|- FastTransfer -|- PG16_to_PG17 -|- DEBUG -|- tpch.tpch_10.orders -|- Query to Load Data = COPY \"tpch_10\".\"orders\" FROM STDIN (FORMAT BINARY)\n",
      "2025-09-22T00:33:46.238 +02:00 -|- FastTransfer -|- PG16_to_PG17 -|- INFORMATION -|- tpch.tpch_10.orders -|- Start Loading Data using distribution method Ctid\n",
      "2025-09-22T00:33:46.238 +02:00 -|- FastTransfer -|- PG16_to_PG17 -|- DEBUG -|- tpch.tpch_10.orders -|- Query to Export Data = COPY (SELECT * FROM \"tpch_10\".\"orders\" WHERE 1 = 1 AND CTID BETWEEN '(189761,0)'::tid AND '(207012,0)'::tid) TO STDOUT (FORMAT BINARY)\n",
      "2025-09-22T00:33:46.239 +02:00 -|- FastTransfer -|- PG16_to_PG17 -|- DEBUG -|- tpch.tpch_10.orders -|- Query to Load Data = COPY \"tpch_10\".\"orders\" FROM STDIN (FORMAT BINARY)\n",
      "2025-09-22T00:33:46.245 +02:00 -|- FastTransfer -|- PG16_to_PG17 -|- INFORMATION -|- tpch.tpch_10.orders -|- Start Loading Data using distribution method Ctid\n",
      "2025-09-22T00:33:46.245 +02:00 -|- FastTransfer -|- PG16_to_PG17 -|- DEBUG -|- tpch.tpch_10.orders -|- Query to Export Data = COPY (SELECT * FROM \"tpch_10\".\"orders\" WHERE 1 = 1 AND CTID BETWEEN '(258765,0)'::tid AND '(2147483647,0)'::tid) TO STDOUT (FORMAT BINARY)\n",
      "2025-09-22T00:33:46.245 +02:00 -|- FastTransfer -|- PG16_to_PG17 -|- DEBUG -|- tpch.tpch_10.orders -|- Query to Load Data = COPY \"tpch_10\".\"orders\" FROM STDIN (FORMAT BINARY)\n",
      "2025-09-22T00:33:46.246 +02:00 -|- FastTransfer -|- PG16_to_PG17 -|- INFORMATION -|- tpch.tpch_10.orders -|- Start Loading Data using distribution method Ctid\n",
      "2025-09-22T00:33:46.246 +02:00 -|- FastTransfer -|- PG16_to_PG17 -|- DEBUG -|- tpch.tpch_10.orders -|- Query to Export Data = COPY (SELECT * FROM \"tpch_10\".\"orders\" WHERE 1 = 1 AND CTID BETWEEN '(241514,0)'::tid AND '(258765,0)'::tid) TO STDOUT (FORMAT BINARY)\n",
      "2025-09-22T00:33:46.246 +02:00 -|- FastTransfer -|- PG16_to_PG17 -|- DEBUG -|- tpch.tpch_10.orders -|- Query to Load Data = COPY \"tpch_10\".\"orders\" FROM STDIN (FORMAT BINARY)\n",
      "2025-09-22T00:33:50.234 +02:00 -|- FastTransfer -|- PG16_to_PG17 -|- INFORMATION -|- tpch.tpch_10.orders -|- Completed Load Query 8 for ctid between 120757 and 138008 : 141979440 Bytes in 4166ms with snapshot 00000005-00000087-1\n",
      "2025-09-22T00:33:50.579 +02:00 -|- FastTransfer -|- PG16_to_PG17 -|- INFORMATION -|- tpch.tpch_10.orders -|- Completed Load Query 5 for ctid between 69004 and 86255 : 141970351 Bytes in 4512ms with snapshot 00000005-00000087-1\n",
      "2025-09-22T00:33:50.587 +02:00 -|- FastTransfer -|- PG16_to_PG17 -|- INFORMATION -|- tpch.tpch_10.orders -|- Completed Load Query 7 for ctid between 103506 and 120757 : 141977880 Bytes in 4519ms with snapshot 00000005-00000087-1\n",
      "2025-09-22T00:33:50.678 +02:00 -|- FastTransfer -|- PG16_to_PG17 -|- INFORMATION -|- tpch.tpch_10.orders -|- Completed Load Query 6 for ctid between 86255 and 103506 : 141971625 Bytes in 4610ms with snapshot 00000005-00000087-1\n",
      "2025-09-22T00:33:50.688 +02:00 -|- FastTransfer -|- PG16_to_PG17 -|- INFORMATION -|- tpch.tpch_10.orders -|- Completed Load Query 1 for ctid between 0 and 17251 : 141991354 Bytes in 4621ms with snapshot 00000005-00000087-1\n",
      "2025-09-22T00:33:50.699 +02:00 -|- FastTransfer -|- PG16_to_PG17 -|- INFORMATION -|- tpch.tpch_10.orders -|- Completed Load Query 9 for ctid between 138008 and 155259 : 141986567 Bytes in 4631ms with snapshot 00000005-00000087-1\n",
      "2025-09-22T00:33:50.707 +02:00 -|- FastTransfer -|- PG16_to_PG17 -|- INFORMATION -|- tpch.tpch_10.orders -|- Completed Load Query 3 for ctid between 34502 and 51753 : 141969998 Bytes in 4640ms with snapshot 00000005-00000087-1\n",
      "2025-09-22T00:33:50.710 +02:00 -|- FastTransfer -|- PG16_to_PG17 -|- INFORMATION -|- tpch.tpch_10.orders -|- Completed Load Query 2 for ctid between 17251 and 34502 : 141977844 Bytes in 4643ms with snapshot 00000005-00000087-1\n",
      "2025-09-22T00:33:50.718 +02:00 -|- FastTransfer -|- PG16_to_PG17 -|- INFORMATION -|- tpch.tpch_10.orders -|- Completed Load Query 12 for ctid between 189761 and 207012 : 141965353 Bytes in 4648ms with snapshot 00000005-00000087-1\n",
      "2025-09-22T00:33:50.728 +02:00 -|- FastTransfer -|- PG16_to_PG17 -|- INFORMATION -|- tpch.tpch_10.orders -|- Completed Load Query 13 for ctid between 207012 and 224263 : 141979777 Bytes in 4658ms with snapshot 00000005-00000087-1\n",
      "2025-09-22T00:33:50.729 +02:00 -|- FastTransfer -|- PG16_to_PG17 -|- INFORMATION -|- tpch.tpch_10.orders -|- Completed Load Query 11 for ctid between 172510 and 189761 : 141986281 Bytes in 4660ms with snapshot 00000005-00000087-1\n",
      "2025-09-22T00:33:50.731 +02:00 -|- FastTransfer -|- PG16_to_PG17 -|- INFORMATION -|- tpch.tpch_10.orders -|- Completed Load Query 16 for ctid between 258765 and 2147483647 : 141831708 Bytes in 4661ms with snapshot 00000005-00000087-1\n",
      "2025-09-22T00:33:50.743 +02:00 -|- FastTransfer -|- PG16_to_PG17 -|- INFORMATION -|- tpch.tpch_10.orders -|- Completed Load Query 10 for ctid between 155259 and 172510 : 141991910 Bytes in 4674ms with snapshot 00000005-00000087-1\n",
      "2025-09-22T00:33:50.748 +02:00 -|- FastTransfer -|- PG16_to_PG17 -|- INFORMATION -|- tpch.tpch_10.orders -|- Completed Load Query 4 for ctid between 51753 and 69004 : 141967323 Bytes in 4681ms with snapshot 00000005-00000087-1\n",
      "2025-09-22T00:33:50.749 +02:00 -|- FastTransfer -|- PG16_to_PG17 -|- INFORMATION -|- tpch.tpch_10.orders -|- Completed Load Query 15 for ctid between 241514 and 258765 : 141964919 Bytes in 4679ms with snapshot 00000005-00000087-1\n",
      "2025-09-22T00:33:50.776 +02:00 -|- FastTransfer -|- PG16_to_PG17 -|- INFORMATION -|- tpch.tpch_10.orders -|- Completed Load Query 14 for ctid between 224263 and 241514 : 141980901 Bytes in 4706ms with snapshot 00000005-00000087-1\n",
      "2025-09-22T00:33:50.777 +02:00 -|- FastTransfer -|- PG16_to_PG17 -|- INFORMATION -|- tpch.tpch_10.orders -|- Total size : 2271493231 Bytes\n",
      "2025-09-22T00:33:50.777 +02:00 -|- FastTransfer -|- PG16_to_PG17 -|- INFORMATION -|- tpch.tpch_10.orders -|- Throughput : 450664389 Bytes/s\n",
      "2025-09-22T00:33:50.777 +02:00 -|- FastTransfer -|- PG16_to_PG17 -|- INFORMATION -|- tpch.tpch_10.orders -|- Transfert time : Elapsed=5040 ms\n",
      "2025-09-22T00:33:50.777 +02:00 -|- FastTransfer -|- PG16_to_PG17 -|- INFORMATION -|- tpch.tpch_10.orders -|- Total time : Elapsed=5351 ms\n",
      "2025-09-22T00:33:50.777 +02:00 -|- FastTransfer -|- PG16_to_PG17 -|- INFORMATION -|- tpch.tpch_10.orders -|- Completed Load\n"
     ]
    }
   ],
   "source": [
    "cd D:\\FastTransfer\n",
    "\n",
    ".\\FastTransfer.exe `\n",
    "--sourceconnectiontype \"pgcopy\" `\n",
    "--sourceserver \"localhost:15432\" `\n",
    "--sourcedatabase \"tpch\" `\n",
    "--sourceuser \"FastUser\" `\n",
    "--sourcepassword \"FastPassword\" `\n",
    "--sourceschema \"tpch_10\" `\n",
    "--sourcetable \"orders\" `\n",
    "`\n",
    "--targetconnectiontype \"pgcopy\" `\n",
    "--targetserver \"localhost:25432\" `\n",
    "--targetuser \"FastUser\" `\n",
    "--targetpassword \"FastPassword\" `\n",
    "--targetdatabase \"tpch\" `\n",
    "--targetschema \"tpch_10\" `\n",
    "--targettable \"orders\" `\n",
    "`\n",
    "--loadmode \"Truncate\" `\n",
    "--mapmethod \"Name\" `\n",
    "--method \"Ctid\" `\n",
    "--degree -2 `\n",
    "--runid \"PG16_to_PG17\""
   ]
  },
  {
   "cell_type": "code",
   "execution_count": 8,
   "id": "c2da48be",
   "metadata": {
    "language_info": {
     "name": "polyglot-notebook"
    },
    "polyglot_notebook": {
     "kernelName": "sql-pgsql17"
    }
   },
   "outputs": [
    {
     "data": {
      "text/csv": [
       "count_target_table_rows\r\n",
       "15000000\r\n"
      ],
      "text/html": [
       "<table><thead><tr><td><span>count_target_table_rows</span></td></tr></thead><tbody><tr><td><div class=\"dni-plaintext\"><pre>15000000</pre></div></td></tr></tbody></table><style>\r\n",
       ".dni-code-hint {\r\n",
       "    font-style: italic;\r\n",
       "    overflow: hidden;\r\n",
       "    white-space: nowrap;\r\n",
       "}\r\n",
       ".dni-treeview {\r\n",
       "    white-space: nowrap;\r\n",
       "}\r\n",
       ".dni-treeview td {\r\n",
       "    vertical-align: top;\r\n",
       "    text-align: start;\r\n",
       "}\r\n",
       "details.dni-treeview {\r\n",
       "    padding-left: 1em;\r\n",
       "}\r\n",
       "table td {\r\n",
       "    text-align: start;\r\n",
       "}\r\n",
       "table tr { \r\n",
       "    vertical-align: top; \r\n",
       "    margin: 0em 0px;\r\n",
       "}\r\n",
       "table tr td pre \r\n",
       "{ \r\n",
       "    vertical-align: top !important; \r\n",
       "    margin: 0em 0px !important;\r\n",
       "} \r\n",
       "table th {\r\n",
       "    text-align: start;\r\n",
       "}\r\n",
       "</style>"
      ]
     },
     "metadata": {},
     "output_type": "display_data"
    }
   ],
   "source": [
    "SELECT count(*) count_target_table_rows from tpch_10.orders;"
   ]
  },
  {
   "cell_type": "code",
   "execution_count": 17,
   "metadata": {
    "language_info": {
     "name": "polyglot-notebook"
    },
    "polyglot_notebook": {
     "kernelName": "sql-pgsql17"
    }
   },
   "outputs": [
    {
     "data": {
      "text/csv": [
       "o_orderkey,o_custkey,o_orderstatus,o_totalprice,o_orderdate,o_orderpriority,o_clerk,o_shippriority,o_comment\r\n",
       "24552903,1313752,F,305754.99,1992-03-05T00:00:00.0000000,\"3-MEDIUM       \",Clerk#000007605,0,\"ly regular requests within the furiously regul\"\r\n",
       "24575648,978844,F,175154.42,1992-12-10T00:00:00.0000000,\"2-HIGH         \",Clerk#000001182,0,\"y across the requests. quickly special accounts cajole fluffily \"\r\n",
       "24575651,624299,F,116155.58,1992-02-09T00:00:00.0000000,\"4-NOT SPECIFIED\",Clerk#000009852,0,\" ironic packages. fluffily express courts are across the slyly ironic theodo\"\r\n",
       "24575682,201691,F,116158.29,1992-06-14T00:00:00.0000000,\"4-NOT SPECIFIED\",Clerk#000004253,0,\"t the blithely final pinto beans; furio\"\r\n",
       "24575712,1435832,F,330511.13,1992-11-27T00:00:00.0000000,\"1-URGENT       \",Clerk#000008569,0,\"its. regular foxes boost quickly. slyly special dugouts sleep blithe\"\r\n"
      ],
      "text/html": [
       "<table><thead><tr><td><span>o_orderkey</span></td><td><span>o_custkey</span></td><td><span>o_orderstatus</span></td><td><span>o_totalprice</span></td><td><span>o_orderdate</span></td><td><span>o_orderpriority</span></td><td><span>o_clerk</span></td><td><span>o_shippriority</span></td><td><span>o_comment</span></td></tr></thead><tbody><tr><td><div class=\"dni-plaintext\"><pre>24552903</pre></div></td><td><div class=\"dni-plaintext\"><pre>1313752</pre></div></td><td>F</td><td><div class=\"dni-plaintext\"><pre>305754.99</pre></div></td><td><span>1992-03-05 00:00:00Z</span></td><td>3-MEDIUM       </td><td>Clerk#000007605</td><td><div class=\"dni-plaintext\"><pre>0</pre></div></td><td>ly regular requests within the furiously regul</td></tr><tr><td><div class=\"dni-plaintext\"><pre>24575648</pre></div></td><td><div class=\"dni-plaintext\"><pre>978844</pre></div></td><td>F</td><td><div class=\"dni-plaintext\"><pre>175154.42</pre></div></td><td><span>1992-12-10 00:00:00Z</span></td><td>2-HIGH         </td><td>Clerk#000001182</td><td><div class=\"dni-plaintext\"><pre>0</pre></div></td><td>y across the requests. quickly special accounts cajole fluffily </td></tr><tr><td><div class=\"dni-plaintext\"><pre>24575651</pre></div></td><td><div class=\"dni-plaintext\"><pre>624299</pre></div></td><td>F</td><td><div class=\"dni-plaintext\"><pre>116155.58</pre></div></td><td><span>1992-02-09 00:00:00Z</span></td><td>4-NOT SPECIFIED</td><td>Clerk#000009852</td><td><div class=\"dni-plaintext\"><pre>0</pre></div></td><td> ironic packages. fluffily express courts are across the slyly ironic theodo</td></tr><tr><td><div class=\"dni-plaintext\"><pre>24575682</pre></div></td><td><div class=\"dni-plaintext\"><pre>201691</pre></div></td><td>F</td><td><div class=\"dni-plaintext\"><pre>116158.29</pre></div></td><td><span>1992-06-14 00:00:00Z</span></td><td>4-NOT SPECIFIED</td><td>Clerk#000004253</td><td><div class=\"dni-plaintext\"><pre>0</pre></div></td><td>t the blithely final pinto beans; furio</td></tr><tr><td><div class=\"dni-plaintext\"><pre>24575712</pre></div></td><td><div class=\"dni-plaintext\"><pre>1435832</pre></div></td><td>F</td><td><div class=\"dni-plaintext\"><pre>330511.13</pre></div></td><td><span>1992-11-27 00:00:00Z</span></td><td>1-URGENT       </td><td>Clerk#000008569</td><td><div class=\"dni-plaintext\"><pre>0</pre></div></td><td>its. regular foxes boost quickly. slyly special dugouts sleep blithe</td></tr></tbody></table><style>\r\n",
       ".dni-code-hint {\r\n",
       "    font-style: italic;\r\n",
       "    overflow: hidden;\r\n",
       "    white-space: nowrap;\r\n",
       "}\r\n",
       ".dni-treeview {\r\n",
       "    white-space: nowrap;\r\n",
       "}\r\n",
       ".dni-treeview td {\r\n",
       "    vertical-align: top;\r\n",
       "    text-align: start;\r\n",
       "}\r\n",
       "details.dni-treeview {\r\n",
       "    padding-left: 1em;\r\n",
       "}\r\n",
       "table td {\r\n",
       "    text-align: start;\r\n",
       "}\r\n",
       "table tr { \r\n",
       "    vertical-align: top; \r\n",
       "    margin: 0em 0px;\r\n",
       "}\r\n",
       "table tr td pre \r\n",
       "{ \r\n",
       "    vertical-align: top !important; \r\n",
       "    margin: 0em 0px !important;\r\n",
       "} \r\n",
       "table th {\r\n",
       "    text-align: start;\r\n",
       "}\r\n",
       "</style>"
      ]
     },
     "metadata": {},
     "output_type": "display_data"
    }
   ],
   "source": [
    "SELECT * FROM tpch_10.orders LIMIT 5;"
   ]
  },
  {
   "cell_type": "markdown",
   "id": "ce045f68",
   "metadata": {},
   "source": [
    "#### Target orders_heap : Heap Table"
   ]
  },
  {
   "cell_type": "code",
   "execution_count": 22,
   "id": "0374251a",
   "metadata": {
    "language_info": {
     "name": "polyglot-notebook"
    },
    "polyglot_notebook": {
     "kernelName": "sql-pgsql17"
    }
   },
   "outputs": [
    {
     "data": {
      "text/csv": [
       "count_orders_heap\r\n",
       "0\r\n"
      ],
      "text/html": [
       "<table><thead><tr><td><span>count_orders_heap</span></td></tr></thead><tbody><tr><td><div class=\"dni-plaintext\"><pre>0</pre></div></td></tr></tbody></table><style>\r\n",
       ".dni-code-hint {\r\n",
       "    font-style: italic;\r\n",
       "    overflow: hidden;\r\n",
       "    white-space: nowrap;\r\n",
       "}\r\n",
       ".dni-treeview {\r\n",
       "    white-space: nowrap;\r\n",
       "}\r\n",
       ".dni-treeview td {\r\n",
       "    vertical-align: top;\r\n",
       "    text-align: start;\r\n",
       "}\r\n",
       "details.dni-treeview {\r\n",
       "    padding-left: 1em;\r\n",
       "}\r\n",
       "table td {\r\n",
       "    text-align: start;\r\n",
       "}\r\n",
       "table tr { \r\n",
       "    vertical-align: top; \r\n",
       "    margin: 0em 0px;\r\n",
       "}\r\n",
       "table tr td pre \r\n",
       "{ \r\n",
       "    vertical-align: top !important; \r\n",
       "    margin: 0em 0px !important;\r\n",
       "} \r\n",
       "table th {\r\n",
       "    text-align: start;\r\n",
       "}\r\n",
       "</style>"
      ]
     },
     "metadata": {},
     "output_type": "display_data"
    }
   ],
   "source": [
    "DROP TABLE IF EXISTS tpch_10.orders_heap;\n",
    "\n",
    "CREATE TABLE tpch_10.orders_heap AS\n",
    "SELECT * \n",
    "FROM tpch_10.orders\n",
    "WHERE 1=0;\n",
    "\n",
    "ALTER TABLE tpch_10.orders_heap SET UNLOGGED;\n",
    "\n",
    "SELECT count(*) count_orders_heap from tpch_10.orders_heap;"
   ]
  },
  {
   "cell_type": "code",
   "execution_count": 23,
   "metadata": {
    "language_info": {
     "name": "polyglot-notebook"
    },
    "polyglot_notebook": {
     "kernelName": "sql-pgsql17"
    }
   },
   "outputs": [
    {
     "data": {
      "text/csv": [
       "\r\n"
      ],
      "text/html": [
       "<table><thead><tr></tr></thead><tbody></tbody></table><style>\r\n",
       ".dni-code-hint {\r\n",
       "    font-style: italic;\r\n",
       "    overflow: hidden;\r\n",
       "    white-space: nowrap;\r\n",
       "}\r\n",
       ".dni-treeview {\r\n",
       "    white-space: nowrap;\r\n",
       "}\r\n",
       ".dni-treeview td {\r\n",
       "    vertical-align: top;\r\n",
       "    text-align: start;\r\n",
       "}\r\n",
       "details.dni-treeview {\r\n",
       "    padding-left: 1em;\r\n",
       "}\r\n",
       "table td {\r\n",
       "    text-align: start;\r\n",
       "}\r\n",
       "table tr { \r\n",
       "    vertical-align: top; \r\n",
       "    margin: 0em 0px;\r\n",
       "}\r\n",
       "table tr td pre \r\n",
       "{ \r\n",
       "    vertical-align: top !important; \r\n",
       "    margin: 0em 0px !important;\r\n",
       "} \r\n",
       "table th {\r\n",
       "    text-align: start;\r\n",
       "}\r\n",
       "</style>"
      ]
     },
     "metadata": {},
     "output_type": "display_data"
    }
   ],
   "source": [
    "INSERT INTO tpch_10.orders_heap\n",
    "SELECT * FROM pg16_orders;\n"
   ]
  },
  {
   "cell_type": "code",
   "execution_count": null,
   "id": "e594e80e",
   "metadata": {
    "polyglot_notebook": {
     "kernelName": "pwsh"
    }
   },
   "outputs": [
    {
     "name": "stdout",
     "output_type": "stream",
     "text": [
      "2025-09-22T12:00:58.654 +02:00 -|-  -|- PG16_to_PG17_heap -|- INFORMATION -|- tpch.tpch_10.orders_heap -|- The FastTransfer_Settings.json file does not exist. Using default settings. Console Only\n",
      "2025-09-22T12:00:58.665 +02:00 -|-  -|- PG16_to_PG17_heap -|- INFORMATION -|- tpch.tpch_10.orders_heap -|- FastTransfer - running in trial mode – will expires on 2025‑10‑23 (30 day(s) left).\n",
      "2025-09-22T12:00:58.665 +02:00 -|-  -|- PG16_to_PG17_heap -|- INFORMATION -|- tpch.tpch_10.orders_heap -|- Starting\n",
      "2025-09-22T12:00:58.665 +02:00 -|-  -|- PG16_to_PG17_heap -|- INFORMATION -|- tpch.tpch_10.orders_heap -|- FastTransfer Version : 0.13.11.0 Architecture : X64 - Framework : .NET 8.0.19\n",
      "2025-09-22T12:00:58.665 +02:00 -|-  -|- PG16_to_PG17_heap -|- INFORMATION -|- tpch.tpch_10.orders_heap -|- OS : Microsoft Windows 10.0.26100\n",
      "2025-09-22T12:00:58.665 +02:00 -|-  -|- PG16_to_PG17_heap -|- INFORMATION -|- tpch.tpch_10.orders_heap -|- Process ID : 20452\n",
      "2025-09-22T12:00:58.665 +02:00 -|-  -|- PG16_to_PG17_heap -|- INFORMATION -|- tpch.tpch_10.orders_heap -|- Provided Run ID : PG16_to_PG17_heap\n",
      "2025-09-22T12:00:58.665 +02:00 -|-  -|- PG16_to_PG17_heap -|- INFORMATION -|- tpch.tpch_10.orders_heap -|- Source Connection Type : pgcopy\n",
      "2025-09-22T12:00:58.665 +02:00 -|-  -|- PG16_to_PG17_heap -|- INFORMATION -|- tpch.tpch_10.orders_heap -|- Source SqlInstance : localhost:15432\n",
      "2025-09-22T12:00:58.665 +02:00 -|-  -|- PG16_to_PG17_heap -|- INFORMATION -|- tpch.tpch_10.orders_heap -|- Source Database : tpch\n",
      "2025-09-22T12:00:58.665 +02:00 -|-  -|- PG16_to_PG17_heap -|- INFORMATION -|- tpch.tpch_10.orders_heap -|- Source Trusted Connection : False\n",
      "2025-09-22T12:00:58.665 +02:00 -|-  -|- PG16_to_PG17_heap -|- INFORMATION -|- tpch.tpch_10.orders_heap -|- Source User : FastUser\n",
      "2025-09-22T12:00:58.665 +02:00 -|-  -|- PG16_to_PG17_heap -|- INFORMATION -|- tpch.tpch_10.orders_heap -|- Source Schema : tpch_10\n",
      "2025-09-22T12:00:58.665 +02:00 -|-  -|- PG16_to_PG17_heap -|- INFORMATION -|- tpch.tpch_10.orders_heap -|- Source Table : orders\n",
      "2025-09-22T12:00:58.665 +02:00 -|-  -|- PG16_to_PG17_heap -|- INFORMATION -|- tpch.tpch_10.orders_heap -|- Target Type : pgcopy\n",
      "2025-09-22T12:00:58.665 +02:00 -|-  -|- PG16_to_PG17_heap -|- INFORMATION -|- tpch.tpch_10.orders_heap -|- Target Server : localhost:25432\n",
      "2025-09-22T12:00:58.665 +02:00 -|-  -|- PG16_to_PG17_heap -|- INFORMATION -|- tpch.tpch_10.orders_heap -|- Target Database : tpch\n",
      "2025-09-22T12:00:58.665 +02:00 -|-  -|- PG16_to_PG17_heap -|- INFORMATION -|- tpch.tpch_10.orders_heap -|- Target Schema : tpch_10\n",
      "2025-09-22T12:00:58.665 +02:00 -|-  -|- PG16_to_PG17_heap -|- INFORMATION -|- tpch.tpch_10.orders_heap -|- Target Table : orders_heap\n",
      "2025-09-22T12:00:58.665 +02:00 -|-  -|- PG16_to_PG17_heap -|- INFORMATION -|- tpch.tpch_10.orders_heap -|- Target Trusted Connection : False\n",
      "2025-09-22T12:00:58.665 +02:00 -|-  -|- PG16_to_PG17_heap -|- INFORMATION -|- tpch.tpch_10.orders_heap -|- Target User : FastUser\n",
      "2025-09-22T12:00:58.665 +02:00 -|-  -|- PG16_to_PG17_heap -|- INFORMATION -|- tpch.tpch_10.orders_heap -|- Columns Map Method : Name\n",
      "2025-09-22T12:00:58.666 +02:00 -|-  -|- PG16_to_PG17_heap -|- INFORMATION -|- tpch.tpch_10.orders_heap -|- Degree : -2\n",
      "2025-09-22T12:00:58.666 +02:00 -|-  -|- PG16_to_PG17_heap -|- INFORMATION -|- tpch.tpch_10.orders_heap -|- Distribute Method : Ctid\n",
      "2025-09-22T12:00:58.666 +02:00 -|-  -|- PG16_to_PG17_heap -|- INFORMATION -|- tpch.tpch_10.orders_heap -|- Bulkcopy Batch Size : 1048576\n",
      "2025-09-22T12:00:58.666 +02:00 -|-  -|- PG16_to_PG17_heap -|- INFORMATION -|- tpch.tpch_10.orders_heap -|- Load Mode : Truncate\n",
      "2025-09-22T12:00:58.666 +02:00 -|-  -|- PG16_to_PG17_heap -|- INFORMATION -|- tpch.tpch_10.orders_heap -|- Use Work Tables : False\n",
      "2025-09-22T12:00:58.669 +02:00 -|-  -|- PG16_to_PG17_heap -|- INFORMATION -|- tpch.tpch_10.orders_heap -|- Encoding used : Unicode (UTF-8) - 65001 - utf-8\n",
      "2025-09-22T12:00:58.671 +02:00 -|-  -|- PG16_to_PG17_heap -|- INFORMATION -|- tpch.tpch_10.orders_heap -|- Process Priority set to Above Normal\n",
      "2025-09-22T12:00:58.840 +02:00 -|-  -|- PG16_to_PG17_heap -|- INFORMATION -|- tpch.tpch_10.orders_heap -|- Source Connection String : Host=localhost;Port=15432;Database=tpch;Trust Server Certificate=True;Application Name=FastTransfer;Timeout=15;Command Timeout=10800;Username=FastUser;Password=xxxxx\n",
      "2025-09-22T12:00:58.840 +02:00 -|-  -|- PG16_to_PG17_heap -|- INFORMATION -|- tpch.tpch_10.orders_heap -|- Target Connection String : Host=localhost;Port=25432;Database=tpch;Trust Server Certificate=True;Application Name=FastTransfer;Timeout=15;Command Timeout=10800;Username=FastUser;Password=xxxxx\n",
      "2025-09-22T12:00:58.840 +02:00 -|-  -|- PG16_to_PG17_heap -|- INFORMATION -|- tpch.tpch_10.orders_heap -|- Source Database Version : PostgreSQL 16.1, compiled by Visual C++ build 1937, 64-bit\n",
      "2025-09-22T12:00:58.840 +02:00 -|-  -|- PG16_to_PG17_heap -|- INFORMATION -|- tpch.tpch_10.orders_heap -|- Target Database Version : PostgreSQL 17.2 on x86_64-windows, compiled by msvc-19.42.34435, 64-bit\n",
      "2025-09-22T12:00:58.996 +02:00 -|-  -|- PG16_to_PG17_heap -|- INFORMATION -|- tpch.tpch_10.orders_heap -|- Degree of parallelism was computed to 16 (=> 32\\2)\n",
      "2025-09-22T12:00:59.002 +02:00 -|-  -|- PG16_to_PG17_heap -|- INFORMATION -|- tpch.tpch_10.orders_heap -|- Snapshot ID = 00000003-000001DA-1 Created in 4 ms\n",
      "2025-09-22T12:00:59.322 +02:00 -|-  -|- PG16_to_PG17_heap -|- INFORMATION -|- tpch.tpch_10.orders_heap -|- Completed CTID Max Retrieval in 0 ms\n",
      "2025-09-22T12:00:59.322 +02:00 -|-  -|- PG16_to_PG17_heap -|- INFORMATION -|- tpch.tpch_10.orders_heap -|- Max CTID for table \"tpch_10\".\"orders\" @snapshotid=00000003-000001DA-1 = (276024,54)\n",
      "2025-09-22T12:00:59.331 +02:00 -|-  -|- PG16_to_PG17_heap -|- INFORMATION -|- tpch.tpch_10.orders_heap -|- Start Loading Data using distribution method Ctid\n",
      "2025-09-22T12:00:59.435 +02:00 -|-  -|- PG16_to_PG17_heap -|- INFORMATION -|- tpch.tpch_10.orders_heap -|- Start Loading Data using distribution method Ctid\n",
      "2025-09-22T12:00:59.445 +02:00 -|-  -|- PG16_to_PG17_heap -|- INFORMATION -|- tpch.tpch_10.orders_heap -|- Start Loading Data using distribution method Ctid\n",
      "2025-09-22T12:00:59.445 +02:00 -|-  -|- PG16_to_PG17_heap -|- INFORMATION -|- tpch.tpch_10.orders_heap -|- Start Loading Data using distribution method Ctid\n",
      "2025-09-22T12:00:59.452 +02:00 -|-  -|- PG16_to_PG17_heap -|- INFORMATION -|- tpch.tpch_10.orders_heap -|- Start Loading Data using distribution method Ctid\n",
      "2025-09-22T12:00:59.458 +02:00 -|-  -|- PG16_to_PG17_heap -|- INFORMATION -|- tpch.tpch_10.orders_heap -|- Start Loading Data using distribution method Ctid\n",
      "2025-09-22T12:00:59.464 +02:00 -|-  -|- PG16_to_PG17_heap -|- INFORMATION -|- tpch.tpch_10.orders_heap -|- Start Loading Data using distribution method Ctid\n",
      "2025-09-22T12:00:59.466 +02:00 -|-  -|- PG16_to_PG17_heap -|- INFORMATION -|- tpch.tpch_10.orders_heap -|- Start Loading Data using distribution method Ctid\n",
      "2025-09-22T12:00:59.466 +02:00 -|-  -|- PG16_to_PG17_heap -|- INFORMATION -|- tpch.tpch_10.orders_heap -|- Start Loading Data using distribution method Ctid\n",
      "2025-09-22T12:00:59.479 +02:00 -|-  -|- PG16_to_PG17_heap -|- INFORMATION -|- tpch.tpch_10.orders_heap -|- Start Loading Data using distribution method Ctid\n",
      "2025-09-22T12:00:59.481 +02:00 -|-  -|- PG16_to_PG17_heap -|- INFORMATION -|- tpch.tpch_10.orders_heap -|- Start Loading Data using distribution method Ctid\n",
      "2025-09-22T12:00:59.486 +02:00 -|-  -|- PG16_to_PG17_heap -|- INFORMATION -|- tpch.tpch_10.orders_heap -|- Start Loading Data using distribution method Ctid\n",
      "2025-09-22T12:00:59.487 +02:00 -|-  -|- PG16_to_PG17_heap -|- INFORMATION -|- tpch.tpch_10.orders_heap -|- Start Loading Data using distribution method Ctid\n",
      "2025-09-22T12:00:59.496 +02:00 -|-  -|- PG16_to_PG17_heap -|- INFORMATION -|- tpch.tpch_10.orders_heap -|- Start Loading Data using distribution method Ctid\n",
      "2025-09-22T12:00:59.502 +02:00 -|-  -|- PG16_to_PG17_heap -|- INFORMATION -|- tpch.tpch_10.orders_heap -|- Start Loading Data using distribution method Ctid\n",
      "2025-09-22T12:00:59.597 +02:00 -|-  -|- PG16_to_PG17_heap -|- INFORMATION -|- tpch.tpch_10.orders_heap -|- Start Loading Data using distribution method Ctid\n",
      "2025-09-22T12:01:01.724 +02:00 -|-  -|- PG16_to_PG17_heap -|- INFORMATION -|- tpch.tpch_10.orders_heap -|- Completed Load Query 14 for ctid between 224263 and 241514 : 141980901 Bytes in 2393ms with snapshot 00000003-000001DA-1\n",
      "2025-09-22T12:01:01.874 +02:00 -|-  -|- PG16_to_PG17_heap -|- INFORMATION -|- tpch.tpch_10.orders_heap -|- Completed Load Query 2 for ctid between 17251 and 34502 : 141977844 Bytes in 2543ms with snapshot 00000003-000001DA-1\n",
      "2025-09-22T12:01:01.904 +02:00 -|-  -|- PG16_to_PG17_heap -|- INFORMATION -|- tpch.tpch_10.orders_heap -|- Completed Load Query 10 for ctid between 155259 and 172510 : 141991910 Bytes in 2574ms with snapshot 00000003-000001DA-1\n",
      "2025-09-22T12:01:01.920 +02:00 -|-  -|- PG16_to_PG17_heap -|- INFORMATION -|- tpch.tpch_10.orders_heap -|- Completed Load Query 7 for ctid between 103506 and 120757 : 141977880 Bytes in 2589ms with snapshot 00000003-000001DA-1\n",
      "2025-09-22T12:01:01.945 +02:00 -|-  -|- PG16_to_PG17_heap -|- INFORMATION -|- tpch.tpch_10.orders_heap -|- Completed Load Query 4 for ctid between 51753 and 69004 : 141967323 Bytes in 2615ms with snapshot 00000003-000001DA-1\n",
      "2025-09-22T12:01:01.953 +02:00 -|-  -|- PG16_to_PG17_heap -|- INFORMATION -|- tpch.tpch_10.orders_heap -|- Completed Load Query 9 for ctid between 138008 and 155259 : 141986567 Bytes in 2623ms with snapshot 00000003-000001DA-1\n",
      "2025-09-22T12:01:01.957 +02:00 -|-  -|- PG16_to_PG17_heap -|- INFORMATION -|- tpch.tpch_10.orders_heap -|- Completed Load Query 12 for ctid between 189761 and 207012 : 141965353 Bytes in 2626ms with snapshot 00000003-000001DA-1\n",
      "2025-09-22T12:01:01.971 +02:00 -|-  -|- PG16_to_PG17_heap -|- INFORMATION -|- tpch.tpch_10.orders_heap -|- Completed Load Query 1 for ctid between 0 and 17251 : 141991354 Bytes in 2640ms with snapshot 00000003-000001DA-1\n",
      "2025-09-22T12:01:01.971 +02:00 -|-  -|- PG16_to_PG17_heap -|- INFORMATION -|- tpch.tpch_10.orders_heap -|- Completed Load Query 16 for ctid between 258765 and 2147483647 : 141831708 Bytes in 2640ms with snapshot 00000003-000001DA-1\n",
      "2025-09-22T12:01:01.974 +02:00 -|-  -|- PG16_to_PG17_heap -|- INFORMATION -|- tpch.tpch_10.orders_heap -|- Completed Load Query 13 for ctid between 207012 and 224263 : 141979777 Bytes in 2644ms with snapshot 00000003-000001DA-1\n",
      "2025-09-22T12:01:01.983 +02:00 -|-  -|- PG16_to_PG17_heap -|- INFORMATION -|- tpch.tpch_10.orders_heap -|- Completed Load Query 5 for ctid between 69004 and 86255 : 141970351 Bytes in 2653ms with snapshot 00000003-000001DA-1\n",
      "2025-09-22T12:01:01.999 +02:00 -|-  -|- PG16_to_PG17_heap -|- INFORMATION -|- tpch.tpch_10.orders_heap -|- Completed Load Query 6 for ctid between 86255 and 103506 : 141971625 Bytes in 2668ms with snapshot 00000003-000001DA-1\n",
      "2025-09-22T12:01:02.001 +02:00 -|-  -|- PG16_to_PG17_heap -|- INFORMATION -|- tpch.tpch_10.orders_heap -|- Completed Load Query 3 for ctid between 34502 and 51753 : 141969998 Bytes in 2671ms with snapshot 00000003-000001DA-1\n",
      "2025-09-22T12:01:02.002 +02:00 -|-  -|- PG16_to_PG17_heap -|- INFORMATION -|- tpch.tpch_10.orders_heap -|- Completed Load Query 8 for ctid between 120757 and 138008 : 141979440 Bytes in 2672ms with snapshot 00000003-000001DA-1\n",
      "2025-09-22T12:01:02.009 +02:00 -|-  -|- PG16_to_PG17_heap -|- INFORMATION -|- tpch.tpch_10.orders_heap -|- Completed Load Query 11 for ctid between 172510 and 189761 : 141986281 Bytes in 2679ms with snapshot 00000003-000001DA-1\n",
      "2025-09-22T12:01:02.009 +02:00 -|-  -|- PG16_to_PG17_heap -|- INFORMATION -|- tpch.tpch_10.orders_heap -|- Completed Load Query 15 for ctid between 241514 and 258765 : 141964919 Bytes in 2679ms with snapshot 00000003-000001DA-1\n",
      "2025-09-22T12:01:02.011 +02:00 -|-  -|- PG16_to_PG17_heap -|- INFORMATION -|- tpch.tpch_10.orders_heap -|- Total size : 2271493231 Bytes\n",
      "2025-09-22T12:01:02.011 +02:00 -|-  -|- PG16_to_PG17_heap -|- INFORMATION -|- tpch.tpch_10.orders_heap -|- Throughput : 753289314 Bytes/s\n",
      "2025-09-22T12:01:02.011 +02:00 -|-  -|- PG16_to_PG17_heap -|- INFORMATION -|- tpch.tpch_10.orders_heap -|- Transfert time : Elapsed=3015 ms\n",
      "2025-09-22T12:01:02.011 +02:00 -|-  -|- PG16_to_PG17_heap -|- INFORMATION -|- tpch.tpch_10.orders_heap -|- Total time : Elapsed=3447 ms\n",
      "2025-09-22T12:01:02.011 +02:00 -|-  -|- PG16_to_PG17_heap -|- INFORMATION -|- tpch.tpch_10.orders_heap -|- Completed Load\n"
     ]
    }
   ],
   "source": [
    "cd D:\\FastTransfer\n",
    "\n",
    ".\\FastTransfer.exe `\n",
    "--sourceconnectiontype \"pgcopy\" `\n",
    "--sourceserver \"localhost:15432\" `\n",
    "--sourcedatabase \"tpch\" `\n",
    "--sourceuser \"FastUser\" `\n",
    "--sourcepassword \"FastPassword\" `\n",
    "--sourceschema \"tpch_10\" `\n",
    "--sourcetable \"orders\" `\n",
    "`\n",
    "--targetconnectiontype \"pgcopy\" `\n",
    "--targetserver \"localhost:25432\" `\n",
    "--targetuser \"FastUser\" `\n",
    "--targetpassword \"FastPassword\" `\n",
    "--targetdatabase \"tpch\" `\n",
    "--targetschema \"tpch_10\" `\n",
    "--targettable \"orders_heap\" `\n",
    "`\n",
    "--loadmode \"Truncate\" `\n",
    "--mapmethod \"Name\" `\n",
    "--method \"Ctid\" `\n",
    "--degree -2 `\n",
    "--runid \"PG16_to_PG17_heap\""
   ]
  },
  {
   "cell_type": "code",
   "execution_count": 12,
   "id": "5144fced",
   "metadata": {
    "language_info": {
     "name": "polyglot-notebook"
    },
    "polyglot_notebook": {
     "kernelName": "sql-pgsql17"
    }
   },
   "outputs": [
    {
     "data": {
      "text/csv": [
       "count_rows_in_heap\r\n",
       "15000000\r\n"
      ],
      "text/html": [
       "<table><thead><tr><td><span>count_rows_in_heap</span></td></tr></thead><tbody><tr><td><div class=\"dni-plaintext\"><pre>15000000</pre></div></td></tr></tbody></table><style>\r\n",
       ".dni-code-hint {\r\n",
       "    font-style: italic;\r\n",
       "    overflow: hidden;\r\n",
       "    white-space: nowrap;\r\n",
       "}\r\n",
       ".dni-treeview {\r\n",
       "    white-space: nowrap;\r\n",
       "}\r\n",
       ".dni-treeview td {\r\n",
       "    vertical-align: top;\r\n",
       "    text-align: start;\r\n",
       "}\r\n",
       "details.dni-treeview {\r\n",
       "    padding-left: 1em;\r\n",
       "}\r\n",
       "table td {\r\n",
       "    text-align: start;\r\n",
       "}\r\n",
       "table tr { \r\n",
       "    vertical-align: top; \r\n",
       "    margin: 0em 0px;\r\n",
       "}\r\n",
       "table tr td pre \r\n",
       "{ \r\n",
       "    vertical-align: top !important; \r\n",
       "    margin: 0em 0px !important;\r\n",
       "} \r\n",
       "table th {\r\n",
       "    text-align: start;\r\n",
       "}\r\n",
       "</style>"
      ]
     },
     "metadata": {},
     "output_type": "display_data"
    }
   ],
   "source": [
    "\n",
    "SELECT count(*) count_rows_in_heap from tpch_10.orders_heap;"
   ]
  },
  {
   "cell_type": "code",
   "execution_count": 16,
   "id": "b9ef8968",
   "metadata": {
    "language_info": {
     "name": "polyglot-notebook"
    },
    "polyglot_notebook": {
     "kernelName": "sql-pgsql17"
    }
   },
   "outputs": [
    {
     "data": {
      "text/csv": [
       "o_orderkey,o_custkey,o_orderstatus,o_totalprice,o_orderdate,o_orderpriority,o_clerk,o_shippriority,o_comment\r\n",
       "33660512,775268,F,57043.01,1994-09-30T00:00:00.0000000,\"4-NOT SPECIFIED\",Clerk#000003931,0,\" special, regular requests use. \"\r\n",
       "33660514,1403410,F,69873.94,1994-04-22T00:00:00.0000000,\"4-NOT SPECIFIED\",Clerk#000008318,0,\"final deposits abou\"\r\n",
       "41281026,1211515,F,180962.41,1994-09-01T00:00:00.0000000,\"4-NOT SPECIFIED\",Clerk#000005558,0,\"lithely final packages cajole daring\"\r\n",
       "41281028,340883,F,243024.32,1994-04-23T00:00:00.0000000,\"1-URGENT       \",Clerk#000000631,0,\"nding packages. carefully bold pinto beans are furiously busily\"\r\n",
       "33660550,192962,F,35781.16,1994-01-19T00:00:00.0000000,\"2-HIGH         \",Clerk#000004242,0,\" final accounts sleep final, ironic pin\"\r\n"
      ],
      "text/html": [
       "<table><thead><tr><td><span>o_orderkey</span></td><td><span>o_custkey</span></td><td><span>o_orderstatus</span></td><td><span>o_totalprice</span></td><td><span>o_orderdate</span></td><td><span>o_orderpriority</span></td><td><span>o_clerk</span></td><td><span>o_shippriority</span></td><td><span>o_comment</span></td></tr></thead><tbody><tr><td><div class=\"dni-plaintext\"><pre>33660512</pre></div></td><td><div class=\"dni-plaintext\"><pre>775268</pre></div></td><td>F</td><td><div class=\"dni-plaintext\"><pre>57043.01</pre></div></td><td><span>1994-09-30 00:00:00Z</span></td><td>4-NOT SPECIFIED</td><td>Clerk#000003931</td><td><div class=\"dni-plaintext\"><pre>0</pre></div></td><td> special, regular requests use. </td></tr><tr><td><div class=\"dni-plaintext\"><pre>33660514</pre></div></td><td><div class=\"dni-plaintext\"><pre>1403410</pre></div></td><td>F</td><td><div class=\"dni-plaintext\"><pre>69873.94</pre></div></td><td><span>1994-04-22 00:00:00Z</span></td><td>4-NOT SPECIFIED</td><td>Clerk#000008318</td><td><div class=\"dni-plaintext\"><pre>0</pre></div></td><td>final deposits abou</td></tr><tr><td><div class=\"dni-plaintext\"><pre>41281026</pre></div></td><td><div class=\"dni-plaintext\"><pre>1211515</pre></div></td><td>F</td><td><div class=\"dni-plaintext\"><pre>180962.41</pre></div></td><td><span>1994-09-01 00:00:00Z</span></td><td>4-NOT SPECIFIED</td><td>Clerk#000005558</td><td><div class=\"dni-plaintext\"><pre>0</pre></div></td><td>lithely final packages cajole daring</td></tr><tr><td><div class=\"dni-plaintext\"><pre>41281028</pre></div></td><td><div class=\"dni-plaintext\"><pre>340883</pre></div></td><td>F</td><td><div class=\"dni-plaintext\"><pre>243024.32</pre></div></td><td><span>1994-04-23 00:00:00Z</span></td><td>1-URGENT       </td><td>Clerk#000000631</td><td><div class=\"dni-plaintext\"><pre>0</pre></div></td><td>nding packages. carefully bold pinto beans are furiously busily</td></tr><tr><td><div class=\"dni-plaintext\"><pre>33660550</pre></div></td><td><div class=\"dni-plaintext\"><pre>192962</pre></div></td><td>F</td><td><div class=\"dni-plaintext\"><pre>35781.16</pre></div></td><td><span>1994-01-19 00:00:00Z</span></td><td>2-HIGH         </td><td>Clerk#000004242</td><td><div class=\"dni-plaintext\"><pre>0</pre></div></td><td> final accounts sleep final, ironic pin</td></tr></tbody></table><style>\r\n",
       ".dni-code-hint {\r\n",
       "    font-style: italic;\r\n",
       "    overflow: hidden;\r\n",
       "    white-space: nowrap;\r\n",
       "}\r\n",
       ".dni-treeview {\r\n",
       "    white-space: nowrap;\r\n",
       "}\r\n",
       ".dni-treeview td {\r\n",
       "    vertical-align: top;\r\n",
       "    text-align: start;\r\n",
       "}\r\n",
       "details.dni-treeview {\r\n",
       "    padding-left: 1em;\r\n",
       "}\r\n",
       "table td {\r\n",
       "    text-align: start;\r\n",
       "}\r\n",
       "table tr { \r\n",
       "    vertical-align: top; \r\n",
       "    margin: 0em 0px;\r\n",
       "}\r\n",
       "table tr td pre \r\n",
       "{ \r\n",
       "    vertical-align: top !important; \r\n",
       "    margin: 0em 0px !important;\r\n",
       "} \r\n",
       "table th {\r\n",
       "    text-align: start;\r\n",
       "}\r\n",
       "</style>"
      ]
     },
     "metadata": {},
     "output_type": "display_data"
    }
   ],
   "source": [
    "SELECT * from tpch_10.orders_heap LIMIT 5;"
   ]
  },
  {
   "cell_type": "markdown",
   "id": "ec9b966d",
   "metadata": {},
   "source": [
    "#### Test using a bigger table : LineItem (60M Rows x 16 columns - 16GB) "
   ]
  },
  {
   "cell_type": "code",
   "execution_count": null,
   "id": "943d9c54",
   "metadata": {
    "polyglot_notebook": {
     "kernelName": "pwsh"
    }
   },
   "outputs": [
    {
     "name": "stdout",
     "output_type": "stream",
     "text": [
      "2025-09-22T12:01:32.394 +02:00 -|-  -|- PG16_to_PG17_60M_rowsx16_columns -|- INFORMATION -|- tpch.tpch_10.lineitem_heap_unlogged -|- The FastTransfer_Settings.json file does not exist. Using default settings. Console Only\n",
      "2025-09-22T12:01:32.404 +02:00 -|-  -|- PG16_to_PG17_60M_rowsx16_columns -|- INFORMATION -|- tpch.tpch_10.lineitem_heap_unlogged -|- FastTransfer - running in trial mode – will expires on 2025‑10‑23 (30 day(s) left).\n",
      "2025-09-22T12:01:32.405 +02:00 -|-  -|- PG16_to_PG17_60M_rowsx16_columns -|- INFORMATION -|- tpch.tpch_10.lineitem_heap_unlogged -|- Starting\n",
      "2025-09-22T12:01:32.405 +02:00 -|-  -|- PG16_to_PG17_60M_rowsx16_columns -|- INFORMATION -|- tpch.tpch_10.lineitem_heap_unlogged -|- FastTransfer Version : 0.13.11.0 Architecture : X64 - Framework : .NET 8.0.19\n",
      "2025-09-22T12:01:32.405 +02:00 -|-  -|- PG16_to_PG17_60M_rowsx16_columns -|- INFORMATION -|- tpch.tpch_10.lineitem_heap_unlogged -|- OS : Microsoft Windows 10.0.26100\n",
      "2025-09-22T12:01:32.405 +02:00 -|-  -|- PG16_to_PG17_60M_rowsx16_columns -|- INFORMATION -|- tpch.tpch_10.lineitem_heap_unlogged -|- Process ID : 3972\n",
      "2025-09-22T12:01:32.405 +02:00 -|-  -|- PG16_to_PG17_60M_rowsx16_columns -|- INFORMATION -|- tpch.tpch_10.lineitem_heap_unlogged -|- Provided Run ID : PG16_to_PG17_60M_rowsx16_columns\n",
      "2025-09-22T12:01:32.405 +02:00 -|-  -|- PG16_to_PG17_60M_rowsx16_columns -|- INFORMATION -|- tpch.tpch_10.lineitem_heap_unlogged -|- Source Connection Type : pgcopy\n",
      "2025-09-22T12:01:32.405 +02:00 -|-  -|- PG16_to_PG17_60M_rowsx16_columns -|- INFORMATION -|- tpch.tpch_10.lineitem_heap_unlogged -|- Source SqlInstance : localhost:15432\n",
      "2025-09-22T12:01:32.405 +02:00 -|-  -|- PG16_to_PG17_60M_rowsx16_columns -|- INFORMATION -|- tpch.tpch_10.lineitem_heap_unlogged -|- Source Database : tpch\n",
      "2025-09-22T12:01:32.405 +02:00 -|-  -|- PG16_to_PG17_60M_rowsx16_columns -|- INFORMATION -|- tpch.tpch_10.lineitem_heap_unlogged -|- Source Trusted Connection : False\n",
      "2025-09-22T12:01:32.405 +02:00 -|-  -|- PG16_to_PG17_60M_rowsx16_columns -|- INFORMATION -|- tpch.tpch_10.lineitem_heap_unlogged -|- Source User : FastUser\n",
      "2025-09-22T12:01:32.405 +02:00 -|-  -|- PG16_to_PG17_60M_rowsx16_columns -|- INFORMATION -|- tpch.tpch_10.lineitem_heap_unlogged -|- Source Schema : tpch_10\n",
      "2025-09-22T12:01:32.405 +02:00 -|-  -|- PG16_to_PG17_60M_rowsx16_columns -|- INFORMATION -|- tpch.tpch_10.lineitem_heap_unlogged -|- Source Table : lineitem\n",
      "2025-09-22T12:01:32.405 +02:00 -|-  -|- PG16_to_PG17_60M_rowsx16_columns -|- INFORMATION -|- tpch.tpch_10.lineitem_heap_unlogged -|- Target Type : pgcopy\n",
      "2025-09-22T12:01:32.405 +02:00 -|-  -|- PG16_to_PG17_60M_rowsx16_columns -|- INFORMATION -|- tpch.tpch_10.lineitem_heap_unlogged -|- Target Server : localhost:25432\n",
      "2025-09-22T12:01:32.405 +02:00 -|-  -|- PG16_to_PG17_60M_rowsx16_columns -|- INFORMATION -|- tpch.tpch_10.lineitem_heap_unlogged -|- Target Database : tpch\n",
      "2025-09-22T12:01:32.405 +02:00 -|-  -|- PG16_to_PG17_60M_rowsx16_columns -|- INFORMATION -|- tpch.tpch_10.lineitem_heap_unlogged -|- Target Schema : tpch_10\n",
      "2025-09-22T12:01:32.405 +02:00 -|-  -|- PG16_to_PG17_60M_rowsx16_columns -|- INFORMATION -|- tpch.tpch_10.lineitem_heap_unlogged -|- Target Table : lineitem_heap_unlogged\n",
      "2025-09-22T12:01:32.405 +02:00 -|-  -|- PG16_to_PG17_60M_rowsx16_columns -|- INFORMATION -|- tpch.tpch_10.lineitem_heap_unlogged -|- Target Trusted Connection : False\n",
      "2025-09-22T12:01:32.405 +02:00 -|-  -|- PG16_to_PG17_60M_rowsx16_columns -|- INFORMATION -|- tpch.tpch_10.lineitem_heap_unlogged -|- Target User : FastUser\n",
      "2025-09-22T12:01:32.405 +02:00 -|-  -|- PG16_to_PG17_60M_rowsx16_columns -|- INFORMATION -|- tpch.tpch_10.lineitem_heap_unlogged -|- Columns Map Method : Name\n",
      "2025-09-22T12:01:32.405 +02:00 -|-  -|- PG16_to_PG17_60M_rowsx16_columns -|- INFORMATION -|- tpch.tpch_10.lineitem_heap_unlogged -|- Degree : -2\n",
      "2025-09-22T12:01:32.405 +02:00 -|-  -|- PG16_to_PG17_60M_rowsx16_columns -|- INFORMATION -|- tpch.tpch_10.lineitem_heap_unlogged -|- Distribute Method : Ctid\n",
      "2025-09-22T12:01:32.405 +02:00 -|-  -|- PG16_to_PG17_60M_rowsx16_columns -|- INFORMATION -|- tpch.tpch_10.lineitem_heap_unlogged -|- Bulkcopy Batch Size : 1048576\n",
      "2025-09-22T12:01:32.405 +02:00 -|-  -|- PG16_to_PG17_60M_rowsx16_columns -|- INFORMATION -|- tpch.tpch_10.lineitem_heap_unlogged -|- Load Mode : Truncate\n",
      "2025-09-22T12:01:32.405 +02:00 -|-  -|- PG16_to_PG17_60M_rowsx16_columns -|- INFORMATION -|- tpch.tpch_10.lineitem_heap_unlogged -|- Use Work Tables : False\n",
      "2025-09-22T12:01:32.408 +02:00 -|-  -|- PG16_to_PG17_60M_rowsx16_columns -|- INFORMATION -|- tpch.tpch_10.lineitem_heap_unlogged -|- Encoding used : Unicode (UTF-8) - 65001 - utf-8\n",
      "2025-09-22T12:01:32.410 +02:00 -|-  -|- PG16_to_PG17_60M_rowsx16_columns -|- INFORMATION -|- tpch.tpch_10.lineitem_heap_unlogged -|- Process Priority set to Above Normal\n",
      "2025-09-22T12:01:32.571 +02:00 -|-  -|- PG16_to_PG17_60M_rowsx16_columns -|- INFORMATION -|- tpch.tpch_10.lineitem_heap_unlogged -|- Source Connection String : Host=localhost;Port=15432;Database=tpch;Trust Server Certificate=True;Application Name=FastTransfer;Timeout=15;Command Timeout=10800;Username=FastUser;Password=xxxxx\n",
      "2025-09-22T12:01:32.572 +02:00 -|-  -|- PG16_to_PG17_60M_rowsx16_columns -|- INFORMATION -|- tpch.tpch_10.lineitem_heap_unlogged -|- Target Connection String : Host=localhost;Port=25432;Database=tpch;Trust Server Certificate=True;Application Name=FastTransfer;Timeout=15;Command Timeout=10800;Username=FastUser;Password=xxxxx\n",
      "2025-09-22T12:01:32.572 +02:00 -|-  -|- PG16_to_PG17_60M_rowsx16_columns -|- INFORMATION -|- tpch.tpch_10.lineitem_heap_unlogged -|- Source Database Version : PostgreSQL 16.1, compiled by Visual C++ build 1937, 64-bit\n",
      "2025-09-22T12:01:32.572 +02:00 -|-  -|- PG16_to_PG17_60M_rowsx16_columns -|- INFORMATION -|- tpch.tpch_10.lineitem_heap_unlogged -|- Target Database Version : PostgreSQL 17.2 on x86_64-windows, compiled by msvc-19.42.34435, 64-bit\n",
      "2025-09-22T12:01:32.602 +02:00 -|-  -|- PG16_to_PG17_60M_rowsx16_columns -|- INFORMATION -|- tpch.tpch_10.lineitem_heap_unlogged -|- Degree of parallelism was computed to 16 (=> 32\\2)\n",
      "2025-09-22T12:01:32.608 +02:00 -|-  -|- PG16_to_PG17_60M_rowsx16_columns -|- INFORMATION -|- tpch.tpch_10.lineitem_heap_unlogged -|- Snapshot ID = 00000003-000001E1-1 Created in 4 ms\n",
      "2025-09-22T12:01:35.296 +02:00 -|-  -|- PG16_to_PG17_60M_rowsx16_columns -|- INFORMATION -|- tpch.tpch_10.lineitem_heap_unlogged -|- Completed CTID Max Retrieval in 0 ms\n",
      "2025-09-22T12:01:35.296 +02:00 -|-  -|- PG16_to_PG17_60M_rowsx16_columns -|- INFORMATION -|- tpch.tpch_10.lineitem_heap_unlogged -|- Max CTID for table \"tpch_10\".\"lineitem\" @snapshotid=00000003-000001E1-1 = (1214184,49)\n",
      "2025-09-22T12:01:35.305 +02:00 -|-  -|- PG16_to_PG17_60M_rowsx16_columns -|- INFORMATION -|- tpch.tpch_10.lineitem_heap_unlogged -|- Start Loading Data using distribution method Ctid\n",
      "2025-09-22T12:01:35.401 +02:00 -|-  -|- PG16_to_PG17_60M_rowsx16_columns -|- INFORMATION -|- tpch.tpch_10.lineitem_heap_unlogged -|- Start Loading Data using distribution method Ctid\n",
      "2025-09-22T12:01:35.414 +02:00 -|-  -|- PG16_to_PG17_60M_rowsx16_columns -|- INFORMATION -|- tpch.tpch_10.lineitem_heap_unlogged -|- Start Loading Data using distribution method Ctid\n",
      "2025-09-22T12:01:35.419 +02:00 -|-  -|- PG16_to_PG17_60M_rowsx16_columns -|- INFORMATION -|- tpch.tpch_10.lineitem_heap_unlogged -|- Start Loading Data using distribution method Ctid\n",
      "2025-09-22T12:01:35.420 +02:00 -|-  -|- PG16_to_PG17_60M_rowsx16_columns -|- INFORMATION -|- tpch.tpch_10.lineitem_heap_unlogged -|- Start Loading Data using distribution method Ctid\n",
      "2025-09-22T12:01:35.424 +02:00 -|-  -|- PG16_to_PG17_60M_rowsx16_columns -|- INFORMATION -|- tpch.tpch_10.lineitem_heap_unlogged -|- Start Loading Data using distribution method Ctid\n",
      "2025-09-22T12:01:35.431 +02:00 -|-  -|- PG16_to_PG17_60M_rowsx16_columns -|- INFORMATION -|- tpch.tpch_10.lineitem_heap_unlogged -|- Start Loading Data using distribution method Ctid\n",
      "2025-09-22T12:01:35.434 +02:00 -|-  -|- PG16_to_PG17_60M_rowsx16_columns -|- INFORMATION -|- tpch.tpch_10.lineitem_heap_unlogged -|- Start Loading Data using distribution method Ctid\n",
      "2025-09-22T12:01:35.444 +02:00 -|-  -|- PG16_to_PG17_60M_rowsx16_columns -|- INFORMATION -|- tpch.tpch_10.lineitem_heap_unlogged -|- Start Loading Data using distribution method Ctid\n",
      "2025-09-22T12:01:35.445 +02:00 -|-  -|- PG16_to_PG17_60M_rowsx16_columns -|- INFORMATION -|- tpch.tpch_10.lineitem_heap_unlogged -|- Start Loading Data using distribution method Ctid\n",
      "2025-09-22T12:01:35.454 +02:00 -|-  -|- PG16_to_PG17_60M_rowsx16_columns -|- INFORMATION -|- tpch.tpch_10.lineitem_heap_unlogged -|- Start Loading Data using distribution method Ctid\n",
      "2025-09-22T12:01:35.457 +02:00 -|-  -|- PG16_to_PG17_60M_rowsx16_columns -|- INFORMATION -|- tpch.tpch_10.lineitem_heap_unlogged -|- Start Loading Data using distribution method Ctid\n",
      "2025-09-22T12:01:35.459 +02:00 -|-  -|- PG16_to_PG17_60M_rowsx16_columns -|- INFORMATION -|- tpch.tpch_10.lineitem_heap_unlogged -|- Start Loading Data using distribution method Ctid\n",
      "2025-09-22T12:01:35.463 +02:00 -|-  -|- PG16_to_PG17_60M_rowsx16_columns -|- INFORMATION -|- tpch.tpch_10.lineitem_heap_unlogged -|- Start Loading Data using distribution method Ctid\n",
      "2025-09-22T12:01:35.470 +02:00 -|-  -|- PG16_to_PG17_60M_rowsx16_columns -|- INFORMATION -|- tpch.tpch_10.lineitem_heap_unlogged -|- Start Loading Data using distribution method Ctid\n",
      "2025-09-22T12:01:35.474 +02:00 -|-  -|- PG16_to_PG17_60M_rowsx16_columns -|- INFORMATION -|- tpch.tpch_10.lineitem_heap_unlogged -|- Start Loading Data using distribution method Ctid\n",
      "2025-09-22T12:01:48.477 +02:00 -|-  -|- PG16_to_PG17_60M_rowsx16_columns -|- INFORMATION -|- tpch.tpch_10.lineitem_heap_unlogged -|- Completed Load Query 7 for ctid between 455316 and 531202 : 797603093 Bytes in 13172ms with snapshot 00000003-000001E1-1\n",
      "2025-09-22T12:01:48.518 +02:00 -|-  -|- PG16_to_PG17_60M_rowsx16_columns -|- INFORMATION -|- tpch.tpch_10.lineitem_heap_unlogged -|- Completed Load Query 12 for ctid between 834746 and 910632 : 797647869 Bytes in 13213ms with snapshot 00000003-000001E1-1\n",
      "2025-09-22T12:01:48.519 +02:00 -|-  -|- PG16_to_PG17_60M_rowsx16_columns -|- INFORMATION -|- tpch.tpch_10.lineitem_heap_unlogged -|- Completed Load Query 11 for ctid between 758860 and 834746 : 797597157 Bytes in 13215ms with snapshot 00000003-000001E1-1\n",
      "2025-09-22T12:01:48.662 +02:00 -|-  -|- PG16_to_PG17_60M_rowsx16_columns -|- INFORMATION -|- tpch.tpch_10.lineitem_heap_unlogged -|- Completed Load Query 3 for ctid between 151772 and 227658 : 797552846 Bytes in 13357ms with snapshot 00000003-000001E1-1\n",
      "2025-09-22T12:01:48.683 +02:00 -|-  -|- PG16_to_PG17_60M_rowsx16_columns -|- INFORMATION -|- tpch.tpch_10.lineitem_heap_unlogged -|- Completed Load Query 16 for ctid between 1138290 and 2147483647 : 797709252 Bytes in 13378ms with snapshot 00000003-000001E1-1\n",
      "2025-09-22T12:01:48.703 +02:00 -|-  -|- PG16_to_PG17_60M_rowsx16_columns -|- INFORMATION -|- tpch.tpch_10.lineitem_heap_unlogged -|- Completed Load Query 9 for ctid between 607088 and 682974 : 797625364 Bytes in 13398ms with snapshot 00000003-000001E1-1\n",
      "2025-09-22T12:01:48.717 +02:00 -|-  -|- PG16_to_PG17_60M_rowsx16_columns -|- INFORMATION -|- tpch.tpch_10.lineitem_heap_unlogged -|- Completed Load Query 2 for ctid between 75886 and 151772 : 797576467 Bytes in 13413ms with snapshot 00000003-000001E1-1\n",
      "2025-09-22T12:01:48.724 +02:00 -|-  -|- PG16_to_PG17_60M_rowsx16_columns -|- INFORMATION -|- tpch.tpch_10.lineitem_heap_unlogged -|- Completed Load Query 8 for ctid between 531202 and 607088 : 797612434 Bytes in 13419ms with snapshot 00000003-000001E1-1\n",
      "2025-09-22T12:01:48.756 +02:00 -|-  -|- PG16_to_PG17_60M_rowsx16_columns -|- INFORMATION -|- tpch.tpch_10.lineitem_heap_unlogged -|- Completed Load Query 13 for ctid between 910632 and 986518 : 797604956 Bytes in 13451ms with snapshot 00000003-000001E1-1\n",
      "2025-09-22T12:01:48.791 +02:00 -|-  -|- PG16_to_PG17_60M_rowsx16_columns -|- INFORMATION -|- tpch.tpch_10.lineitem_heap_unlogged -|- Completed Load Query 5 for ctid between 303544 and 379430 : 797585217 Bytes in 13487ms with snapshot 00000003-000001E1-1\n",
      "2025-09-22T12:01:48.796 +02:00 -|-  -|- PG16_to_PG17_60M_rowsx16_columns -|- INFORMATION -|- tpch.tpch_10.lineitem_heap_unlogged -|- Completed Load Query 4 for ctid between 227658 and 303544 : 797605570 Bytes in 13491ms with snapshot 00000003-000001E1-1\n",
      "2025-09-22T12:01:48.811 +02:00 -|-  -|- PG16_to_PG17_60M_rowsx16_columns -|- INFORMATION -|- tpch.tpch_10.lineitem_heap_unlogged -|- Completed Load Query 14 for ctid between 986518 and 1062404 : 797614316 Bytes in 13506ms with snapshot 00000003-000001E1-1\n",
      "2025-09-22T12:01:48.815 +02:00 -|-  -|- PG16_to_PG17_60M_rowsx16_columns -|- INFORMATION -|- tpch.tpch_10.lineitem_heap_unlogged -|- Completed Load Query 10 for ctid between 682974 and 758860 : 797597362 Bytes in 13510ms with snapshot 00000003-000001E1-1\n",
      "2025-09-22T12:01:48.818 +02:00 -|-  -|- PG16_to_PG17_60M_rowsx16_columns -|- INFORMATION -|- tpch.tpch_10.lineitem_heap_unlogged -|- Completed Load Query 6 for ctid between 379430 and 455316 : 797577743 Bytes in 13514ms with snapshot 00000003-000001E1-1\n",
      "2025-09-22T12:01:48.905 +02:00 -|-  -|- PG16_to_PG17_60M_rowsx16_columns -|- INFORMATION -|- tpch.tpch_10.lineitem_heap_unlogged -|- Completed Load Query 15 for ctid between 1062404 and 1138290 : 797624021 Bytes in 13600ms with snapshot 00000003-000001E1-1\n",
      "2025-09-22T12:01:48.933 +02:00 -|-  -|- PG16_to_PG17_60M_rowsx16_columns -|- INFORMATION -|- tpch.tpch_10.lineitem_heap_unlogged -|- Completed Load Query 1 for ctid between 0 and 75886 : 797585779 Bytes in 13629ms with snapshot 00000003-000001E1-1\n",
      "2025-09-22T12:01:48.936 +02:00 -|-  -|- PG16_to_PG17_60M_rowsx16_columns -|- INFORMATION -|- tpch.tpch_10.lineitem_heap_unlogged -|- Total size : 12761719446 Bytes\n",
      "2025-09-22T12:01:48.936 +02:00 -|-  -|- PG16_to_PG17_60M_rowsx16_columns -|- INFORMATION -|- tpch.tpch_10.lineitem_heap_unlogged -|- Throughput : 781273703 Bytes/s\n",
      "2025-09-22T12:01:48.936 +02:00 -|-  -|- PG16_to_PG17_60M_rowsx16_columns -|- INFORMATION -|- tpch.tpch_10.lineitem_heap_unlogged -|- Transfert time : Elapsed=16334 ms\n",
      "2025-09-22T12:01:48.936 +02:00 -|-  -|- PG16_to_PG17_60M_rowsx16_columns -|- INFORMATION -|- tpch.tpch_10.lineitem_heap_unlogged -|- Total time : Elapsed=16635 ms\n",
      "2025-09-22T12:01:48.936 +02:00 -|-  -|- PG16_to_PG17_60M_rowsx16_columns -|- INFORMATION -|- tpch.tpch_10.lineitem_heap_unlogged -|- Completed Load\n"
     ]
    }
   ],
   "source": [
    "cd D:\\FastTransfer\n",
    "\n",
    ".\\FastTransfer.exe `\n",
    "--sourceconnectiontype \"pgcopy\" `\n",
    "--sourceserver \"localhost:15432\" `\n",
    "--sourcedatabase \"tpch\" `\n",
    "--sourceuser \"FastUser\" `\n",
    "--sourcepassword \"FastPassword\" `\n",
    "--sourceschema \"tpch_10\" `\n",
    "--sourcetable \"lineitem\" `\n",
    "`\n",
    "--targetconnectiontype \"pgcopy\" `\n",
    "--targetserver \"localhost:25432\" `\n",
    "--targetuser \"FastUser\" `\n",
    "--targetpassword \"FastPassword\" `\n",
    "--targetdatabase \"tpch\" `\n",
    "--targetschema \"tpch_10\" `\n",
    "--targettable \"lineitem_heap_unlogged\" `\n",
    "`\n",
    "--loadmode \"Truncate\" `\n",
    "--mapmethod \"Name\" `\n",
    "--method \"Ctid\" `\n",
    "--degree -2 `\n",
    "--runid \"PG16_to_PG17_60M_rowsx16_columns\""
   ]
  },
  {
   "cell_type": "markdown",
   "metadata": {
    "polyglot_notebook": {
     "kernelName": "csharp"
    }
   },
   "source": [
    "#### Results with Ctid pgcopy ==> pgcopy (binary copy method) :\n",
    "\n",
    "| PG16 ==> PG17 (Ctid method) \t\t\t\t| Elapsed Time (seconds)|Cells/sec \t|Parallel Dispatch Method|degree of parallelism\n",
    "|-----------------------------------------------------------------------|:---------------------:|----------:| :--: | :--: |\n",
    "| FastTransfer Load LINEITEM (60M Rows x 16c columns) HEAP Target       | 16.6     \t\t\t|57_831_325    | Ctid | 16 |\n",
    "| FastTransfer Load ORDERS   (15M Rows x  9c columns) HEAP Target \t\t| 3.4     \t\t\t\t|39_705_882    | Ctid | 16 |\n",
    "| FastTransfer Load ORDERS   (15M Rows x  9c columns) Target with PK \t\t| 5.3     \t\t\t\t|25_471_678    | Ctid | 16 |\n",
    "\n",
    "\n",
    "#### Results with foreign table + insert (legacy method) :\n",
    "| PG16 ==> PG17 (Foreign Table + Insert method) \t| Elapsed Time (seconds)|Cells/sec \t|Parallel Dispatch Method\n",
    "|-----------------------------------------------------------------------|:---------------------:|----------:| :--: |\n",
    "| Postgresql fdw table  (15M Rows x  9c columns) Target with PK | 82.3     \t\t\t|1_646_341     | N/A |\n",
    "| Postgresql fdw table  (15M Rows x  9c columns) HEAP Target | 51.8     \t\t\t|2_606_177     | N/A |\n",
    "\n"
   ]
  },
  {
   "cell_type": "markdown",
   "id": "1fdc0155",
   "metadata": {},
   "source": []
  },
  {
   "cell_type": "markdown",
   "id": "f7285241",
   "metadata": {},
   "source": [
    "The speed of loads (in cells/sec) is higher with LINEITEM than with ORDERS because the LINEITEM table is bigger and the startup time take a smaller role/space in the total time than it take with ORDERS load."
   ]
  }
 ],
 "metadata": {
  "kernelspec": {
   "display_name": ".NET (C#)",
   "language": "C#",
   "name": ".net-csharp"
  },
  "language_info": {
   "name": "polyglot-notebook"
  },
  "polyglot_notebook": {
   "kernelInfo": {
    "defaultKernelName": "csharp",
    "items": [
     {
      "aliases": [],
      "name": "csharp"
     },
     {
      "aliases": [],
      "languageName": "pwsh",
      "name": "pwsh"
     },
     {
      "aliases": [],
      "languageName": "PostgreSQL",
      "name": "sql-pgsql17"
     },
     {
      "aliases": [],
      "languageName": "T-SQL",
      "name": "sql-SS2025_tpch_test"
     }
    ]
   }
  }
 },
 "nbformat": 4,
 "nbformat_minor": 5
}
