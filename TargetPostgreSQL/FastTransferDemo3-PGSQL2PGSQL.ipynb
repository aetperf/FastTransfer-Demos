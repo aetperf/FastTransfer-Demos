{
 "cells": [
  {
   "cell_type": "markdown",
   "id": "ed7e8fc1",
   "metadata": {
    "polyglot_notebook": {
     "kernelName": "pwsh"
    }
   },
   "source": [
    "```\n",
    "███████  █████  ███████ ████████ ████████ ██████   █████  ███    ██ ███████ ███████ ███████ ██████  \n",
    "██      ██   ██ ██         ██       ██    ██   ██ ██   ██ ████   ██ ██      ██      ██      ██   ██ \n",
    "█████   ███████ ███████    ██       ██    ██████  ███████ ██ ██  ██ ███████ █████   █████   ██████  \n",
    "██      ██   ██      ██    ██       ██    ██   ██ ██   ██ ██  ██ ██      ██ ██      ██      ██   ██ \n",
    "██      ██   ██ ███████    ██       ██    ██   ██ ██   ██ ██   ████ ███████ ██      ███████ ██   ██ "
   ]
  },
  {
   "cell_type": "markdown",
   "id": "b5a1077a",
   "metadata": {},
   "source": [
    "# Demo 3 - Source PGSQL16 - Target PGSQL17"
   ]
  },
  {
   "cell_type": "code",
   "execution_count": 1,
   "id": "f79f5dc1",
   "metadata": {
    "polyglot_notebook": {
     "kernelName": "csharp"
    }
   },
   "outputs": [
    {
     "data": {
      "text/html": [
       "<div><div></div><div></div><div><strong>Installed Packages</strong><ul><li><span>Microsoft.DotNet.Interactive.PostgreSQL, 1.0.0-beta.25323.1</span></li></ul></div></div>"
      ]
     },
     "metadata": {},
     "output_type": "display_data"
    },
    {
     "data": {
      "text/plain": [
       "Loading extension script from `C:\\Users\\romai\\.nuget\\packages\\microsoft.dotnet.interactive.postgresql\\1.0.0-beta.25323.1\\interactive-extensions\\dotnet\\extension.dib`"
      ]
     },
     "metadata": {},
     "output_type": "display_data"
    },
    {
     "data": {
      "text/html": [
       "<details><summary>Query PostgreSQL databases.</summary>\r\n",
       "    <p>This extension adds support for connecting to PostgreSql databases using the <code>#!connect postgres</code> magic command.</p>\r\n",
       "    </details>"
      ]
     },
     "metadata": {},
     "output_type": "display_data"
    }
   ],
   "source": [
    "#r \"nuget:Microsoft.DotNet.Interactive.PostgreSQL , *-*\""
   ]
  },
  {
   "cell_type": "markdown",
   "id": "8486177e",
   "metadata": {},
   "source": [
    "## Working on TPCH SF10 ORDERS (15M rows)"
   ]
  },
  {
   "cell_type": "markdown",
   "id": "c2950409",
   "metadata": {},
   "source": [
    "### PGSQL 16 to PG 17"
   ]
  },
  {
   "cell_type": "code",
   "execution_count": 2,
   "id": "a6099083",
   "metadata": {
    "polyglot_notebook": {
     "kernelName": "csharp"
    }
   },
   "outputs": [
    {
     "data": {
      "text/plain": [
       "Kernel added: #!sql-pgsql17"
      ]
     },
     "metadata": {},
     "output_type": "display_data"
    }
   ],
   "source": [
    "// Connect to PostgreSQL target database\n",
    "#!connect postgres \"Host=localhost;Port=25432;Database=tpch;Username=FastUser;Password=FastPassword;CommandTimeout=1500\" --kernel-name pgsql17"
   ]
  },
  {
   "cell_type": "markdown",
   "id": "db3a8822",
   "metadata": {},
   "source": [
    "## Copy data from postgresql 16 to postgresql 17 using dblink (to compare)"
   ]
  },
  {
   "cell_type": "markdown",
   "id": "9838fd82",
   "metadata": {},
   "source": [
    "#### Target orders_3 with a clustered ColumnStoreIndex"
   ]
  },
  {
   "cell_type": "code",
   "execution_count": 3,
   "id": "d1094a0b",
   "metadata": {
    "language_info": {
     "name": "polyglot-notebook"
    },
    "polyglot_notebook": {
     "kernelName": "sql-pgsql17"
    }
   },
   "outputs": [
    {
     "data": {
      "text/csv": [
       "count_target_table_rows\r\n",
       "0\r\n"
      ],
      "text/html": [
       "<table><thead><tr><td><span>count_target_table_rows</span></td></tr></thead><tbody><tr><td><div class=\"dni-plaintext\"><pre>0</pre></div></td></tr></tbody></table><style>\r\n",
       ".dni-code-hint {\r\n",
       "    font-style: italic;\r\n",
       "    overflow: hidden;\r\n",
       "    white-space: nowrap;\r\n",
       "}\r\n",
       ".dni-treeview {\r\n",
       "    white-space: nowrap;\r\n",
       "}\r\n",
       ".dni-treeview td {\r\n",
       "    vertical-align: top;\r\n",
       "    text-align: start;\r\n",
       "}\r\n",
       "details.dni-treeview {\r\n",
       "    padding-left: 1em;\r\n",
       "}\r\n",
       "table td {\r\n",
       "    text-align: start;\r\n",
       "}\r\n",
       "table tr { \r\n",
       "    vertical-align: top; \r\n",
       "    margin: 0em 0px;\r\n",
       "}\r\n",
       "table tr td pre \r\n",
       "{ \r\n",
       "    vertical-align: top !important; \r\n",
       "    margin: 0em 0px !important;\r\n",
       "} \r\n",
       "table th {\r\n",
       "    text-align: start;\r\n",
       "}\r\n",
       "</style>"
      ]
     },
     "metadata": {},
     "output_type": "display_data"
    }
   ],
   "source": [
    "TRUNCATE TABLE tpch_10.orders;\n",
    "SELECT count(*) count_target_table_rows from tpch_10.orders;\n",
    "\n",
    "ALTER TABLE tpch_10.orders SET UNLOGGED;"
   ]
  },
  {
   "cell_type": "code",
   "execution_count": 4,
   "metadata": {
    "language_info": {
     "name": "polyglot-notebook"
    },
    "polyglot_notebook": {
     "kernelName": "sql-pgsql17"
    }
   },
   "outputs": [
    {
     "data": {
      "text/csv": [
       "\r\n"
      ],
      "text/html": [
       "<table><thead><tr></tr></thead><tbody></tbody></table><style>\r\n",
       ".dni-code-hint {\r\n",
       "    font-style: italic;\r\n",
       "    overflow: hidden;\r\n",
       "    white-space: nowrap;\r\n",
       "}\r\n",
       ".dni-treeview {\r\n",
       "    white-space: nowrap;\r\n",
       "}\r\n",
       ".dni-treeview td {\r\n",
       "    vertical-align: top;\r\n",
       "    text-align: start;\r\n",
       "}\r\n",
       "details.dni-treeview {\r\n",
       "    padding-left: 1em;\r\n",
       "}\r\n",
       "table td {\r\n",
       "    text-align: start;\r\n",
       "}\r\n",
       "table tr { \r\n",
       "    vertical-align: top; \r\n",
       "    margin: 0em 0px;\r\n",
       "}\r\n",
       "table tr td pre \r\n",
       "{ \r\n",
       "    vertical-align: top !important; \r\n",
       "    margin: 0em 0px !important;\r\n",
       "} \r\n",
       "table th {\r\n",
       "    text-align: start;\r\n",
       "}\r\n",
       "</style>"
      ]
     },
     "metadata": {},
     "output_type": "display_data"
    }
   ],
   "source": [
    "DROP FOREIGN TABLE IF EXISTS \"pg16_orders\";\n",
    "DROP USER MAPPING if exists for \"FastUser\" server \"pg16tpch\";\n",
    "DROP SERVER if exists \"pg16tpch\";"
   ]
  },
  {
   "cell_type": "code",
   "execution_count": 5,
   "metadata": {
    "language_info": {
     "name": "polyglot-notebook"
    },
    "polyglot_notebook": {
     "kernelName": "sql-pgsql17"
    }
   },
   "outputs": [
    {
     "data": {
      "text/csv": [
       "\r\n"
      ],
      "text/html": [
       "<table><thead><tr></tr></thead><tbody></tbody></table><style>\r\n",
       ".dni-code-hint {\r\n",
       "    font-style: italic;\r\n",
       "    overflow: hidden;\r\n",
       "    white-space: nowrap;\r\n",
       "}\r\n",
       ".dni-treeview {\r\n",
       "    white-space: nowrap;\r\n",
       "}\r\n",
       ".dni-treeview td {\r\n",
       "    vertical-align: top;\r\n",
       "    text-align: start;\r\n",
       "}\r\n",
       "details.dni-treeview {\r\n",
       "    padding-left: 1em;\r\n",
       "}\r\n",
       "table td {\r\n",
       "    text-align: start;\r\n",
       "}\r\n",
       "table tr { \r\n",
       "    vertical-align: top; \r\n",
       "    margin: 0em 0px;\r\n",
       "}\r\n",
       "table tr td pre \r\n",
       "{ \r\n",
       "    vertical-align: top !important; \r\n",
       "    margin: 0em 0px !important;\r\n",
       "} \r\n",
       "table th {\r\n",
       "    text-align: start;\r\n",
       "}\r\n",
       "</style>"
      ]
     },
     "metadata": {},
     "output_type": "display_data"
    }
   ],
   "source": [
    "CREATE SERVER \"pg16tpch\" FOREIGN DATA WRAPPER postgres_fdw OPTIONS (host 'localhost', dbname 'tpch', port '15432');\n",
    "CREATE USER MAPPING IF NOT EXISTS FOR \"FastUser\" SERVER pg16tpch OPTIONS (user 'FastUser', password 'FastPassword');"
   ]
  },
  {
   "cell_type": "code",
   "execution_count": 6,
   "metadata": {
    "language_info": {
     "name": "polyglot-notebook"
    },
    "polyglot_notebook": {
     "kernelName": "sql-pgsql17"
    }
   },
   "outputs": [
    {
     "data": {
      "text/csv": [
       "\r\n"
      ],
      "text/html": [
       "<table><thead><tr></tr></thead><tbody></tbody></table><style>\r\n",
       ".dni-code-hint {\r\n",
       "    font-style: italic;\r\n",
       "    overflow: hidden;\r\n",
       "    white-space: nowrap;\r\n",
       "}\r\n",
       ".dni-treeview {\r\n",
       "    white-space: nowrap;\r\n",
       "}\r\n",
       ".dni-treeview td {\r\n",
       "    vertical-align: top;\r\n",
       "    text-align: start;\r\n",
       "}\r\n",
       "details.dni-treeview {\r\n",
       "    padding-left: 1em;\r\n",
       "}\r\n",
       "table td {\r\n",
       "    text-align: start;\r\n",
       "}\r\n",
       "table tr { \r\n",
       "    vertical-align: top; \r\n",
       "    margin: 0em 0px;\r\n",
       "}\r\n",
       "table tr td pre \r\n",
       "{ \r\n",
       "    vertical-align: top !important; \r\n",
       "    margin: 0em 0px !important;\r\n",
       "} \r\n",
       "table th {\r\n",
       "    text-align: start;\r\n",
       "}\r\n",
       "</style>"
      ]
     },
     "metadata": {},
     "output_type": "display_data"
    }
   ],
   "source": [
    "-- Create external table in pg17 (target) to read data from pg16 (source)\n",
    "DROP FOREIGN TABLE IF EXISTS pg16_orders;\n",
    "CREATE FOREIGN TABLE IF NOT EXISTS pg16_orders (\n",
    "    o_orderkey integer,\n",
    "    o_custkey integer,\n",
    "    o_orderstatus char(1),\n",
    "    o_totalprice numeric(15,2),\n",
    "    o_orderdate date,\n",
    "    o_orderpriority char(15),\n",
    "    o_clerk char(15),\n",
    "    o_shippriority integer,\n",
    "    o_comment varchar(79)\n",
    ") SERVER pg16tpch OPTIONS (schema_name 'tpch_10', table_name 'orders');"
   ]
  },
  {
   "cell_type": "markdown",
   "id": "6c9434a4",
   "metadata": {},
   "source": [
    "### Copy data from postgresql 16 to postgresql 17 using the external table ==>\n"
   ]
  },
  {
   "cell_type": "code",
   "execution_count": 7,
   "metadata": {
    "language_info": {
     "name": "polyglot-notebook"
    },
    "polyglot_notebook": {
     "kernelName": "sql-pgsql17"
    }
   },
   "outputs": [
    {
     "data": {
      "text/csv": [
       "\r\n"
      ],
      "text/html": [
       "<table><thead><tr></tr></thead><tbody></tbody></table><style>\r\n",
       ".dni-code-hint {\r\n",
       "    font-style: italic;\r\n",
       "    overflow: hidden;\r\n",
       "    white-space: nowrap;\r\n",
       "}\r\n",
       ".dni-treeview {\r\n",
       "    white-space: nowrap;\r\n",
       "}\r\n",
       ".dni-treeview td {\r\n",
       "    vertical-align: top;\r\n",
       "    text-align: start;\r\n",
       "}\r\n",
       "details.dni-treeview {\r\n",
       "    padding-left: 1em;\r\n",
       "}\r\n",
       "table td {\r\n",
       "    text-align: start;\r\n",
       "}\r\n",
       "table tr { \r\n",
       "    vertical-align: top; \r\n",
       "    margin: 0em 0px;\r\n",
       "}\r\n",
       "table tr td pre \r\n",
       "{ \r\n",
       "    vertical-align: top !important; \r\n",
       "    margin: 0em 0px !important;\r\n",
       "} \r\n",
       "table th {\r\n",
       "    text-align: start;\r\n",
       "}\r\n",
       "</style>"
      ]
     },
     "metadata": {},
     "output_type": "display_data"
    }
   ],
   "source": [
    "INSERT INTO tpch_10.orders\n",
    "SELECT * FROM pg16_orders;"
   ]
  },
  {
   "cell_type": "code",
   "execution_count": 8,
   "metadata": {
    "language_info": {
     "name": "polyglot-notebook"
    },
    "polyglot_notebook": {
     "kernelName": "sql-pgsql17"
    }
   },
   "outputs": [
    {
     "data": {
      "text/csv": [
       "count_target_table_rows_after_insert\r\n",
       "15000000\r\n"
      ],
      "text/html": [
       "<table><thead><tr><td><span>count_target_table_rows_after_insert</span></td></tr></thead><tbody><tr><td><div class=\"dni-plaintext\"><pre>15000000</pre></div></td></tr></tbody></table><style>\r\n",
       ".dni-code-hint {\r\n",
       "    font-style: italic;\r\n",
       "    overflow: hidden;\r\n",
       "    white-space: nowrap;\r\n",
       "}\r\n",
       ".dni-treeview {\r\n",
       "    white-space: nowrap;\r\n",
       "}\r\n",
       ".dni-treeview td {\r\n",
       "    vertical-align: top;\r\n",
       "    text-align: start;\r\n",
       "}\r\n",
       "details.dni-treeview {\r\n",
       "    padding-left: 1em;\r\n",
       "}\r\n",
       "table td {\r\n",
       "    text-align: start;\r\n",
       "}\r\n",
       "table tr { \r\n",
       "    vertical-align: top; \r\n",
       "    margin: 0em 0px;\r\n",
       "}\r\n",
       "table tr td pre \r\n",
       "{ \r\n",
       "    vertical-align: top !important; \r\n",
       "    margin: 0em 0px !important;\r\n",
       "} \r\n",
       "table th {\r\n",
       "    text-align: start;\r\n",
       "}\r\n",
       "</style>"
      ]
     },
     "metadata": {},
     "output_type": "display_data"
    }
   ],
   "source": [
    "SELECT count(*) count_target_table_rows_after_insert from tpch_10.orders;"
   ]
  },
  {
   "cell_type": "markdown",
   "id": "9c51f2be",
   "metadata": {},
   "source": [
    "## Test FastTransfer with Method Ctid (postgresql only)"
   ]
  },
  {
   "cell_type": "markdown",
   "id": "84121c68",
   "metadata": {},
   "source": [
    "CTID is a system hidden column that stores the physical location (block number and tuple offset) of a row version within its table.\n",
    "\n",
    "You can SELECT it and even filter data using this hidden column. FastTransfer use the Ctid column to select data by chunck. It also create a micro-postgresql-snapshot before openning several connections to the source in order to have a stable source for each threads that will extract a portion of the data. "
   ]
  },
  {
   "cell_type": "code",
   "execution_count": 3,
   "id": "6f2f4100",
   "metadata": {
    "polyglot_notebook": {
     "kernelName": "pwsh"
    }
   },
   "outputs": [
    {
     "name": "stdout",
     "output_type": "stream",
     "text": [
      "2025-10-03T11:40:36.298 +02:00 -|- FastTransfer -|- PG16_to_PG17 -|- INFORMATION -|- tpch.tpch_10.orders -|- FastTransfer - running in trial mode – will expires on 2025‑10‑27 (23 day(s) left).\n",
      "2025-10-03T11:40:36.306 +02:00 -|- FastTransfer -|- PG16_to_PG17 -|- INFORMATION -|- tpch.tpch_10.orders -|- Starting\n",
      "2025-10-03T11:40:36.307 +02:00 -|- FastTransfer -|- PG16_to_PG17 -|- INFORMATION -|- tpch.tpch_10.orders -|- FastTransfer Version : 0.13.12.0 Architecture : X64 - Framework : .NET 8.0.20\n",
      "2025-10-03T11:40:36.307 +02:00 -|- FastTransfer -|- PG16_to_PG17 -|- INFORMATION -|- tpch.tpch_10.orders -|- OS : Microsoft Windows 10.0.26100\n",
      "2025-10-03T11:40:36.307 +02:00 -|- FastTransfer -|- PG16_to_PG17 -|- INFORMATION -|- tpch.tpch_10.orders -|- Process ID : 95872\n",
      "2025-10-03T11:40:36.307 +02:00 -|- FastTransfer -|- PG16_to_PG17 -|- INFORMATION -|- tpch.tpch_10.orders -|- Provided Run ID : PG16_to_PG17\n",
      "2025-10-03T11:40:36.307 +02:00 -|- FastTransfer -|- PG16_to_PG17 -|- INFORMATION -|- tpch.tpch_10.orders -|- Source Connection Type : pgcopy\n",
      "2025-10-03T11:40:36.307 +02:00 -|- FastTransfer -|- PG16_to_PG17 -|- INFORMATION -|- tpch.tpch_10.orders -|- Source SqlInstance : localhost:15432\n",
      "2025-10-03T11:40:36.307 +02:00 -|- FastTransfer -|- PG16_to_PG17 -|- INFORMATION -|- tpch.tpch_10.orders -|- Source Database : tpch\n",
      "2025-10-03T11:40:36.307 +02:00 -|- FastTransfer -|- PG16_to_PG17 -|- INFORMATION -|- tpch.tpch_10.orders -|- Source Trusted Connection : False\n",
      "2025-10-03T11:40:36.307 +02:00 -|- FastTransfer -|- PG16_to_PG17 -|- INFORMATION -|- tpch.tpch_10.orders -|- Source User : FastUser\n",
      "2025-10-03T11:40:36.307 +02:00 -|- FastTransfer -|- PG16_to_PG17 -|- INFORMATION -|- tpch.tpch_10.orders -|- Source Schema : tpch_10\n",
      "2025-10-03T11:40:36.307 +02:00 -|- FastTransfer -|- PG16_to_PG17 -|- INFORMATION -|- tpch.tpch_10.orders -|- Source Table : orders\n",
      "2025-10-03T11:40:36.307 +02:00 -|- FastTransfer -|- PG16_to_PG17 -|- INFORMATION -|- tpch.tpch_10.orders -|- Target Type : pgcopy\n",
      "2025-10-03T11:40:36.307 +02:00 -|- FastTransfer -|- PG16_to_PG17 -|- INFORMATION -|- tpch.tpch_10.orders -|- Target Server : localhost:25432\n",
      "2025-10-03T11:40:36.307 +02:00 -|- FastTransfer -|- PG16_to_PG17 -|- INFORMATION -|- tpch.tpch_10.orders -|- Target Database : tpch\n",
      "2025-10-03T11:40:36.307 +02:00 -|- FastTransfer -|- PG16_to_PG17 -|- INFORMATION -|- tpch.tpch_10.orders -|- Target Schema : tpch_10\n",
      "2025-10-03T11:40:36.307 +02:00 -|- FastTransfer -|- PG16_to_PG17 -|- INFORMATION -|- tpch.tpch_10.orders -|- Target Table : orders\n",
      "2025-10-03T11:40:36.307 +02:00 -|- FastTransfer -|- PG16_to_PG17 -|- INFORMATION -|- tpch.tpch_10.orders -|- Target Trusted Connection : False\n",
      "2025-10-03T11:40:36.307 +02:00 -|- FastTransfer -|- PG16_to_PG17 -|- INFORMATION -|- tpch.tpch_10.orders -|- Target User : FastUser\n",
      "2025-10-03T11:40:36.307 +02:00 -|- FastTransfer -|- PG16_to_PG17 -|- INFORMATION -|- tpch.tpch_10.orders -|- Columns Map Method : Name\n",
      "2025-10-03T11:40:36.308 +02:00 -|- FastTransfer -|- PG16_to_PG17 -|- INFORMATION -|- tpch.tpch_10.orders -|- Degree : -3\n",
      "2025-10-03T11:40:36.308 +02:00 -|- FastTransfer -|- PG16_to_PG17 -|- INFORMATION -|- tpch.tpch_10.orders -|- Distribute Method : Ctid\n",
      "2025-10-03T11:40:36.308 +02:00 -|- FastTransfer -|- PG16_to_PG17 -|- INFORMATION -|- tpch.tpch_10.orders -|- Bulkcopy Batch Size : 1048576\n",
      "2025-10-03T11:40:36.308 +02:00 -|- FastTransfer -|- PG16_to_PG17 -|- INFORMATION -|- tpch.tpch_10.orders -|- Load Mode : Truncate\n",
      "2025-10-03T11:40:36.308 +02:00 -|- FastTransfer -|- PG16_to_PG17 -|- INFORMATION -|- tpch.tpch_10.orders -|- Use Work Tables : False\n",
      "2025-10-03T11:40:36.308 +02:00 -|- FastTransfer -|- PG16_to_PG17 -|- INFORMATION -|- tpch.tpch_10.orders -|- Encoding used : Unicode (UTF-8) - 65001 - utf-8\n",
      "2025-10-03T11:40:36.309 +02:00 -|- FastTransfer -|- PG16_to_PG17 -|- INFORMATION -|- tpch.tpch_10.orders -|- Process Priority set to High\n",
      "2025-10-03T11:40:36.386 +02:00 -|- FastTransfer -|- PG16_to_PG17 -|- INFORMATION -|- tpch.tpch_10.orders -|- Source Connection String : Host=localhost;Port=15432;Database=tpch;Trust Server Certificate=True;Application Name=FastTransfer;Timeout=15;Command Timeout=10800;Username=FastUser;Password=xxxxx\n",
      "2025-10-03T11:40:36.386 +02:00 -|- FastTransfer -|- PG16_to_PG17 -|- INFORMATION -|- tpch.tpch_10.orders -|- Target Connection String : Host=localhost;Port=25432;Database=tpch;Trust Server Certificate=True;Application Name=FastTransfer;Timeout=15;Command Timeout=10800;Username=FastUser;Password=xxxxx\n",
      "2025-10-03T11:40:36.386 +02:00 -|- FastTransfer -|- PG16_to_PG17 -|- INFORMATION -|- tpch.tpch_10.orders -|- Source Database Version : PostgreSQL 16.1, compiled by Visual C++ build 1937, 64-bit\n",
      "2025-10-03T11:40:36.387 +02:00 -|- FastTransfer -|- PG16_to_PG17 -|- INFORMATION -|- tpch.tpch_10.orders -|- Target Database Version : PostgreSQL 17.2 on x86_64-windows, compiled by msvc-19.42.34435, 64-bit\n",
      "2025-10-03T11:40:36.425 +02:00 -|- FastTransfer -|- PG16_to_PG17 -|- INFORMATION -|- tpch.tpch_10.orders -|- Degree of parallelism was computed to 10 (=> 32\\3)\n",
      "2025-10-03T11:40:36.428 +02:00 -|- FastTransfer -|- PG16_to_PG17 -|- INFORMATION -|- tpch.tpch_10.orders -|- Snapshot ID = 0000000E-0000001A-1 Created in 2 ms\n",
      "2025-10-03T11:40:36.633 +02:00 -|- FastTransfer -|- PG16_to_PG17 -|- INFORMATION -|- tpch.tpch_10.orders -|- Completed CTID Max Retrieval in 0 ms\n",
      "2025-10-03T11:40:36.633 +02:00 -|- FastTransfer -|- PG16_to_PG17 -|- INFORMATION -|- tpch.tpch_10.orders -|- Max CTID for table \"tpch_10\".\"orders\" @snapshotid=0000000E-0000001A-1 = (275523,12)\n",
      "2025-10-03T11:40:36.635 +02:00 -|- FastTransfer -|- PG16_to_PG17 -|- INFORMATION -|- tpch.tpch_10.orders -|- Start Loading Data using distribution method Ctid\n",
      "2025-10-03T11:40:36.690 +02:00 -|- FastTransfer -|- PG16_to_PG17 -|- INFORMATION -|- tpch.tpch_10.orders -|- Start Loading Data using distribution method Ctid\n",
      "2025-10-03T11:40:36.709 +02:00 -|- FastTransfer -|- PG16_to_PG17 -|- INFORMATION -|- tpch.tpch_10.orders -|- Start Loading Data using distribution method Ctid\n",
      "2025-10-03T11:40:36.714 +02:00 -|- FastTransfer -|- PG16_to_PG17 -|- INFORMATION -|- tpch.tpch_10.orders -|- Start Loading Data using distribution method Ctid\n",
      "2025-10-03T11:40:36.715 +02:00 -|- FastTransfer -|- PG16_to_PG17 -|- INFORMATION -|- tpch.tpch_10.orders -|- Start Loading Data using distribution method Ctid\n",
      "2025-10-03T11:40:36.723 +02:00 -|- FastTransfer -|- PG16_to_PG17 -|- INFORMATION -|- tpch.tpch_10.orders -|- Start Loading Data using distribution method Ctid\n",
      "2025-10-03T11:40:36.727 +02:00 -|- FastTransfer -|- PG16_to_PG17 -|- INFORMATION -|- tpch.tpch_10.orders -|- Start Loading Data using distribution method Ctid\n",
      "2025-10-03T11:40:36.731 +02:00 -|- FastTransfer -|- PG16_to_PG17 -|- INFORMATION -|- tpch.tpch_10.orders -|- Start Loading Data using distribution method Ctid\n",
      "2025-10-03T11:40:36.732 +02:00 -|- FastTransfer -|- PG16_to_PG17 -|- INFORMATION -|- tpch.tpch_10.orders -|- Start Loading Data using distribution method Ctid\n",
      "2025-10-03T11:40:36.808 +02:00 -|- FastTransfer -|- PG16_to_PG17 -|- INFORMATION -|- tpch.tpch_10.orders -|- Start Loading Data using distribution method Ctid\n",
      "2025-10-03T11:40:40.779 +02:00 -|- FastTransfer -|- PG16_to_PG17 -|- INFORMATION -|- tpch.tpch_10.orders -|- Completed Load Query 1 for ctid between 0 and 27552 : 224184474 Bytes in 4144ms with snapshot 0000000E-0000001A-1\n",
      "2025-10-03T11:40:40.833 +02:00 -|- FastTransfer -|- PG16_to_PG17 -|- INFORMATION -|- tpch.tpch_10.orders -|- Completed Load Query 8 for ctid between 192864 and 220416 : 224176120 Bytes in 4198ms with snapshot 0000000E-0000001A-1\n",
      "2025-10-03T11:40:40.855 +02:00 -|- FastTransfer -|- PG16_to_PG17 -|- INFORMATION -|- tpch.tpch_10.orders -|- Completed Load Query 6 for ctid between 137760 and 165312 : 224179757 Bytes in 4220ms with snapshot 0000000E-0000001A-1\n",
      "2025-10-03T11:40:40.857 +02:00 -|- FastTransfer -|- PG16_to_PG17 -|- INFORMATION -|- tpch.tpch_10.orders -|- Completed Load Query 3 for ctid between 55104 and 82656 : 224173810 Bytes in 4222ms with snapshot 0000000E-0000001A-1\n",
      "2025-10-03T11:40:40.874 +02:00 -|- FastTransfer -|- PG16_to_PG17 -|- INFORMATION -|- tpch.tpch_10.orders -|- Completed Load Query 4 for ctid between 82656 and 110208 : 224178278 Bytes in 4239ms with snapshot 0000000E-0000001A-1\n",
      "2025-10-03T11:40:40.892 +02:00 -|- FastTransfer -|- PG16_to_PG17 -|- INFORMATION -|- tpch.tpch_10.orders -|- Completed Load Query 7 for ctid between 165312 and 192864 : 224164017 Bytes in 4257ms with snapshot 0000000E-0000001A-1\n",
      "2025-10-03T11:40:40.895 +02:00 -|- FastTransfer -|- PG16_to_PG17 -|- INFORMATION -|- tpch.tpch_10.orders -|- Completed Load Query 9 for ctid between 220416 and 247968 : 224173701 Bytes in 4259ms with snapshot 0000000E-0000001A-1\n",
      "2025-10-03T11:40:40.899 +02:00 -|- FastTransfer -|- PG16_to_PG17 -|- INFORMATION -|- tpch.tpch_10.orders -|- Completed Load Query 2 for ctid between 27552 and 55104 : 224173541 Bytes in 4264ms with snapshot 0000000E-0000001A-1\n",
      "2025-10-03T11:40:40.918 +02:00 -|- FastTransfer -|- PG16_to_PG17 -|- INFORMATION -|- tpch.tpch_10.orders -|- Completed Load Query 10 for ctid between 247968 and 2147483647 : 224206645 Bytes in 4282ms with snapshot 0000000E-0000001A-1\n",
      "2025-10-03T11:40:40.975 +02:00 -|- FastTransfer -|- PG16_to_PG17 -|- INFORMATION -|- tpch.tpch_10.orders -|- Completed Load Query 5 for ctid between 110208 and 137760 : 224180956 Bytes in 4340ms with snapshot 0000000E-0000001A-1\n",
      "2025-10-03T11:40:40.976 +02:00 -|- FastTransfer -|- PG16_to_PG17 -|- INFORMATION -|- tpch.tpch_10.orders -|- Total size : 2241791299 Bytes\n",
      "2025-10-03T11:40:40.976 +02:00 -|- FastTransfer -|- PG16_to_PG17 -|- INFORMATION -|- tpch.tpch_10.orders -|- Throughput : 492561226 Bytes/s\n",
      "2025-10-03T11:40:40.976 +02:00 -|- FastTransfer -|- PG16_to_PG17 -|- INFORMATION -|- tpch.tpch_10.orders -|- Transfert time : Elapsed=4551 ms\n",
      "2025-10-03T11:40:40.976 +02:00 -|- FastTransfer -|- PG16_to_PG17 -|- INFORMATION -|- tpch.tpch_10.orders -|- Total time : Elapsed=4834 ms\n",
      "2025-10-03T11:40:40.976 +02:00 -|- FastTransfer -|- PG16_to_PG17 -|- INFORMATION -|- tpch.tpch_10.orders -|- Completed Load\n"
     ]
    }
   ],
   "source": [
    "cd D:\\FastTransfer\n",
    "\n",
    ".\\FastTransfer.exe `\n",
    "--sourceconnectiontype \"pgcopy\" `\n",
    "--sourceserver \"localhost:15432\" `\n",
    "--sourcedatabase \"tpch\" `\n",
    "--sourceuser \"FastUser\" `\n",
    "--sourcepassword \"FastPassword\" `\n",
    "--sourceschema \"tpch_10\" `\n",
    "--sourcetable \"orders\" `\n",
    "`\n",
    "--targetconnectiontype \"pgcopy\" `\n",
    "--targetserver \"localhost:25432\" `\n",
    "--targetuser \"FastUser\" `\n",
    "--targetpassword \"FastPassword\" `\n",
    "--targetdatabase \"tpch\" `\n",
    "--targetschema \"tpch_10\" `\n",
    "--targettable \"orders\" `\n",
    "`\n",
    "--loadmode \"Truncate\" `\n",
    "--mapmethod \"Name\" `\n",
    "--method \"Ctid\" `\n",
    "--degree -3 `\n",
    "--runid \"PG16_to_PG17\""
   ]
  },
  {
   "cell_type": "code",
   "execution_count": 10,
   "id": "c2da48be",
   "metadata": {
    "language_info": {
     "name": "polyglot-notebook"
    },
    "polyglot_notebook": {
     "kernelName": "sql-pgsql17"
    }
   },
   "outputs": [
    {
     "data": {
      "text/csv": [
       "count_target_table_rows\r\n",
       "15000000\r\n"
      ],
      "text/html": [
       "<table><thead><tr><td><span>count_target_table_rows</span></td></tr></thead><tbody><tr><td><div class=\"dni-plaintext\"><pre>15000000</pre></div></td></tr></tbody></table><style>\r\n",
       ".dni-code-hint {\r\n",
       "    font-style: italic;\r\n",
       "    overflow: hidden;\r\n",
       "    white-space: nowrap;\r\n",
       "}\r\n",
       ".dni-treeview {\r\n",
       "    white-space: nowrap;\r\n",
       "}\r\n",
       ".dni-treeview td {\r\n",
       "    vertical-align: top;\r\n",
       "    text-align: start;\r\n",
       "}\r\n",
       "details.dni-treeview {\r\n",
       "    padding-left: 1em;\r\n",
       "}\r\n",
       "table td {\r\n",
       "    text-align: start;\r\n",
       "}\r\n",
       "table tr { \r\n",
       "    vertical-align: top; \r\n",
       "    margin: 0em 0px;\r\n",
       "}\r\n",
       "table tr td pre \r\n",
       "{ \r\n",
       "    vertical-align: top !important; \r\n",
       "    margin: 0em 0px !important;\r\n",
       "} \r\n",
       "table th {\r\n",
       "    text-align: start;\r\n",
       "}\r\n",
       "</style>"
      ]
     },
     "metadata": {},
     "output_type": "display_data"
    }
   ],
   "source": [
    "SELECT count(*) count_target_table_rows from tpch_10.orders;"
   ]
  },
  {
   "cell_type": "code",
   "execution_count": 11,
   "metadata": {
    "language_info": {
     "name": "polyglot-notebook"
    },
    "polyglot_notebook": {
     "kernelName": "sql-pgsql17"
    }
   },
   "outputs": [
    {
     "data": {
      "text/csv": [
       "o_orderkey,o_custkey,o_orderstatus,o_totalprice,o_orderdate,o_orderpriority,o_clerk,o_shippriority,o_comment\r\n",
       "23800896,1245896,F,57080.000,1994-10-03T00:00:00.0000000,\"2-HIGH         \",Clerk#000005799,0,\" gifts. special accounts grow blithely al\"\r\n",
       "23800897,1257877,O,136200.000,1997-02-20T00:00:00.0000000,\"3-MEDIUM       \",Clerk#000004630,0,\" quickly final pack\"\r\n",
       "23800898,128710,O,201374.000,1997-05-20T00:00:00.0000000,\"5-LOW          \",Clerk#000000178,0,\"lites haggle blithely unusual accounts. sly\"\r\n",
       "23800899,228931,F,153592.000,1993-08-01T00:00:00.0000000,\"3-MEDIUM       \",Clerk#000008291,0,\"ckages nod even instructions. fluffily ironic accounts cajole above the\"\r\n",
       "23800900,114088,O,72678.000,1996-06-20T00:00:00.0000000,\"5-LOW          \",Clerk#000005197,0,\"pearls wake final theodolites. unusual instructions sleep blithely.\"\r\n"
      ],
      "text/html": [
       "<table><thead><tr><td><span>o_orderkey</span></td><td><span>o_custkey</span></td><td><span>o_orderstatus</span></td><td><span>o_totalprice</span></td><td><span>o_orderdate</span></td><td><span>o_orderpriority</span></td><td><span>o_clerk</span></td><td><span>o_shippriority</span></td><td><span>o_comment</span></td></tr></thead><tbody><tr><td><div class=\"dni-plaintext\"><pre>23800896</pre></div></td><td><div class=\"dni-plaintext\"><pre>1245896</pre></div></td><td>F</td><td><div class=\"dni-plaintext\"><pre>57080.000</pre></div></td><td><span>1994-10-03 00:00:00Z</span></td><td>2-HIGH         </td><td>Clerk#000005799</td><td><div class=\"dni-plaintext\"><pre>0</pre></div></td><td> gifts. special accounts grow blithely al</td></tr><tr><td><div class=\"dni-plaintext\"><pre>23800897</pre></div></td><td><div class=\"dni-plaintext\"><pre>1257877</pre></div></td><td>O</td><td><div class=\"dni-plaintext\"><pre>136200.000</pre></div></td><td><span>1997-02-20 00:00:00Z</span></td><td>3-MEDIUM       </td><td>Clerk#000004630</td><td><div class=\"dni-plaintext\"><pre>0</pre></div></td><td> quickly final pack</td></tr><tr><td><div class=\"dni-plaintext\"><pre>23800898</pre></div></td><td><div class=\"dni-plaintext\"><pre>128710</pre></div></td><td>O</td><td><div class=\"dni-plaintext\"><pre>201374.000</pre></div></td><td><span>1997-05-20 00:00:00Z</span></td><td>5-LOW          </td><td>Clerk#000000178</td><td><div class=\"dni-plaintext\"><pre>0</pre></div></td><td>lites haggle blithely unusual accounts. sly</td></tr><tr><td><div class=\"dni-plaintext\"><pre>23800899</pre></div></td><td><div class=\"dni-plaintext\"><pre>228931</pre></div></td><td>F</td><td><div class=\"dni-plaintext\"><pre>153592.000</pre></div></td><td><span>1993-08-01 00:00:00Z</span></td><td>3-MEDIUM       </td><td>Clerk#000008291</td><td><div class=\"dni-plaintext\"><pre>0</pre></div></td><td>ckages nod even instructions. fluffily ironic accounts cajole above the</td></tr><tr><td><div class=\"dni-plaintext\"><pre>23800900</pre></div></td><td><div class=\"dni-plaintext\"><pre>114088</pre></div></td><td>O</td><td><div class=\"dni-plaintext\"><pre>72678.000</pre></div></td><td><span>1996-06-20 00:00:00Z</span></td><td>5-LOW          </td><td>Clerk#000005197</td><td><div class=\"dni-plaintext\"><pre>0</pre></div></td><td>pearls wake final theodolites. unusual instructions sleep blithely.</td></tr></tbody></table><style>\r\n",
       ".dni-code-hint {\r\n",
       "    font-style: italic;\r\n",
       "    overflow: hidden;\r\n",
       "    white-space: nowrap;\r\n",
       "}\r\n",
       ".dni-treeview {\r\n",
       "    white-space: nowrap;\r\n",
       "}\r\n",
       ".dni-treeview td {\r\n",
       "    vertical-align: top;\r\n",
       "    text-align: start;\r\n",
       "}\r\n",
       "details.dni-treeview {\r\n",
       "    padding-left: 1em;\r\n",
       "}\r\n",
       "table td {\r\n",
       "    text-align: start;\r\n",
       "}\r\n",
       "table tr { \r\n",
       "    vertical-align: top; \r\n",
       "    margin: 0em 0px;\r\n",
       "}\r\n",
       "table tr td pre \r\n",
       "{ \r\n",
       "    vertical-align: top !important; \r\n",
       "    margin: 0em 0px !important;\r\n",
       "} \r\n",
       "table th {\r\n",
       "    text-align: start;\r\n",
       "}\r\n",
       "</style>"
      ]
     },
     "metadata": {},
     "output_type": "display_data"
    }
   ],
   "source": [
    "SELECT * FROM tpch_10.orders LIMIT 5;"
   ]
  },
  {
   "cell_type": "markdown",
   "id": "ce045f68",
   "metadata": {},
   "source": [
    "#### Target orders_heap : Heap Table"
   ]
  },
  {
   "cell_type": "code",
   "execution_count": 12,
   "id": "0374251a",
   "metadata": {
    "language_info": {
     "name": "polyglot-notebook"
    },
    "polyglot_notebook": {
     "kernelName": "sql-pgsql17"
    }
   },
   "outputs": [
    {
     "data": {
      "text/csv": [
       "count_orders_heap\r\n",
       "0\r\n"
      ],
      "text/html": [
       "<table><thead><tr><td><span>count_orders_heap</span></td></tr></thead><tbody><tr><td><div class=\"dni-plaintext\"><pre>0</pre></div></td></tr></tbody></table><style>\r\n",
       ".dni-code-hint {\r\n",
       "    font-style: italic;\r\n",
       "    overflow: hidden;\r\n",
       "    white-space: nowrap;\r\n",
       "}\r\n",
       ".dni-treeview {\r\n",
       "    white-space: nowrap;\r\n",
       "}\r\n",
       ".dni-treeview td {\r\n",
       "    vertical-align: top;\r\n",
       "    text-align: start;\r\n",
       "}\r\n",
       "details.dni-treeview {\r\n",
       "    padding-left: 1em;\r\n",
       "}\r\n",
       "table td {\r\n",
       "    text-align: start;\r\n",
       "}\r\n",
       "table tr { \r\n",
       "    vertical-align: top; \r\n",
       "    margin: 0em 0px;\r\n",
       "}\r\n",
       "table tr td pre \r\n",
       "{ \r\n",
       "    vertical-align: top !important; \r\n",
       "    margin: 0em 0px !important;\r\n",
       "} \r\n",
       "table th {\r\n",
       "    text-align: start;\r\n",
       "}\r\n",
       "</style>"
      ]
     },
     "metadata": {},
     "output_type": "display_data"
    }
   ],
   "source": [
    "DROP TABLE IF EXISTS tpch_10.orders_heap;\n",
    "\n",
    "CREATE TABLE tpch_10.orders_heap AS\n",
    "SELECT * \n",
    "FROM tpch_10.orders\n",
    "WHERE 1=0;\n",
    "\n",
    "ALTER TABLE tpch_10.orders_heap SET UNLOGGED;\n",
    "\n",
    "SELECT count(*) count_orders_heap from tpch_10.orders_heap;"
   ]
  },
  {
   "cell_type": "code",
   "execution_count": null,
   "metadata": {
    "language_info": {
     "name": "polyglot-notebook"
    },
    "polyglot_notebook": {
     "kernelName": "sql-pgsql17"
    }
   },
   "outputs": [],
   "source": [
    "TRUNCATE TABLE tpch_10.orders_heap;\n",
    "INSERT INTO tpch_10.orders_heap\n",
    "SELECT * FROM pg16_orders;\n"
   ]
  },
  {
   "cell_type": "code",
   "execution_count": 2,
   "id": "e594e80e",
   "metadata": {
    "polyglot_notebook": {
     "kernelName": "pwsh"
    }
   },
   "outputs": [
    {
     "name": "stdout",
     "output_type": "stream",
     "text": [
      "2025-10-03T11:39:59.696 +02:00 -|- FastTransfer -|- PG16_to_PG17_heap -|- INFORMATION -|- tpch.tpch_10.orders_heap -|- FastTransfer - running in trial mode – will expires on 2025‑10‑27 (23 day(s) left).\n",
      "2025-10-03T11:39:59.705 +02:00 -|- FastTransfer -|- PG16_to_PG17_heap -|- INFORMATION -|- tpch.tpch_10.orders_heap -|- Starting\n",
      "2025-10-03T11:39:59.705 +02:00 -|- FastTransfer -|- PG16_to_PG17_heap -|- INFORMATION -|- tpch.tpch_10.orders_heap -|- FastTransfer Version : 0.13.12.0 Architecture : X64 - Framework : .NET 8.0.20\n",
      "2025-10-03T11:39:59.705 +02:00 -|- FastTransfer -|- PG16_to_PG17_heap -|- INFORMATION -|- tpch.tpch_10.orders_heap -|- OS : Microsoft Windows 10.0.26100\n",
      "2025-10-03T11:39:59.705 +02:00 -|- FastTransfer -|- PG16_to_PG17_heap -|- INFORMATION -|- tpch.tpch_10.orders_heap -|- Process ID : 67680\n",
      "2025-10-03T11:39:59.706 +02:00 -|- FastTransfer -|- PG16_to_PG17_heap -|- INFORMATION -|- tpch.tpch_10.orders_heap -|- Provided Run ID : PG16_to_PG17_heap\n",
      "2025-10-03T11:39:59.706 +02:00 -|- FastTransfer -|- PG16_to_PG17_heap -|- INFORMATION -|- tpch.tpch_10.orders_heap -|- Source Connection Type : pgcopy\n",
      "2025-10-03T11:39:59.706 +02:00 -|- FastTransfer -|- PG16_to_PG17_heap -|- INFORMATION -|- tpch.tpch_10.orders_heap -|- Source SqlInstance : localhost:15432\n",
      "2025-10-03T11:39:59.706 +02:00 -|- FastTransfer -|- PG16_to_PG17_heap -|- INFORMATION -|- tpch.tpch_10.orders_heap -|- Source Database : tpch\n",
      "2025-10-03T11:39:59.706 +02:00 -|- FastTransfer -|- PG16_to_PG17_heap -|- INFORMATION -|- tpch.tpch_10.orders_heap -|- Source Trusted Connection : False\n",
      "2025-10-03T11:39:59.706 +02:00 -|- FastTransfer -|- PG16_to_PG17_heap -|- INFORMATION -|- tpch.tpch_10.orders_heap -|- Source User : FastUser\n",
      "2025-10-03T11:39:59.706 +02:00 -|- FastTransfer -|- PG16_to_PG17_heap -|- INFORMATION -|- tpch.tpch_10.orders_heap -|- Source Schema : tpch_10\n",
      "2025-10-03T11:39:59.706 +02:00 -|- FastTransfer -|- PG16_to_PG17_heap -|- INFORMATION -|- tpch.tpch_10.orders_heap -|- Source Table : orders\n",
      "2025-10-03T11:39:59.706 +02:00 -|- FastTransfer -|- PG16_to_PG17_heap -|- INFORMATION -|- tpch.tpch_10.orders_heap -|- Target Type : pgcopy\n",
      "2025-10-03T11:39:59.706 +02:00 -|- FastTransfer -|- PG16_to_PG17_heap -|- INFORMATION -|- tpch.tpch_10.orders_heap -|- Target Server : localhost:25432\n",
      "2025-10-03T11:39:59.706 +02:00 -|- FastTransfer -|- PG16_to_PG17_heap -|- INFORMATION -|- tpch.tpch_10.orders_heap -|- Target Database : tpch\n",
      "2025-10-03T11:39:59.706 +02:00 -|- FastTransfer -|- PG16_to_PG17_heap -|- INFORMATION -|- tpch.tpch_10.orders_heap -|- Target Schema : tpch_10\n",
      "2025-10-03T11:39:59.706 +02:00 -|- FastTransfer -|- PG16_to_PG17_heap -|- INFORMATION -|- tpch.tpch_10.orders_heap -|- Target Table : orders_heap\n",
      "2025-10-03T11:39:59.706 +02:00 -|- FastTransfer -|- PG16_to_PG17_heap -|- INFORMATION -|- tpch.tpch_10.orders_heap -|- Target Trusted Connection : False\n",
      "2025-10-03T11:39:59.706 +02:00 -|- FastTransfer -|- PG16_to_PG17_heap -|- INFORMATION -|- tpch.tpch_10.orders_heap -|- Target User : FastUser\n",
      "2025-10-03T11:39:59.706 +02:00 -|- FastTransfer -|- PG16_to_PG17_heap -|- INFORMATION -|- tpch.tpch_10.orders_heap -|- Columns Map Method : Name\n",
      "2025-10-03T11:39:59.706 +02:00 -|- FastTransfer -|- PG16_to_PG17_heap -|- INFORMATION -|- tpch.tpch_10.orders_heap -|- Degree : 12\n",
      "2025-10-03T11:39:59.706 +02:00 -|- FastTransfer -|- PG16_to_PG17_heap -|- INFORMATION -|- tpch.tpch_10.orders_heap -|- Distribute Method : Ctid\n",
      "2025-10-03T11:39:59.706 +02:00 -|- FastTransfer -|- PG16_to_PG17_heap -|- INFORMATION -|- tpch.tpch_10.orders_heap -|- Bulkcopy Batch Size : 1048576\n",
      "2025-10-03T11:39:59.706 +02:00 -|- FastTransfer -|- PG16_to_PG17_heap -|- INFORMATION -|- tpch.tpch_10.orders_heap -|- Load Mode : Truncate\n",
      "2025-10-03T11:39:59.706 +02:00 -|- FastTransfer -|- PG16_to_PG17_heap -|- INFORMATION -|- tpch.tpch_10.orders_heap -|- Use Work Tables : False\n",
      "2025-10-03T11:39:59.706 +02:00 -|- FastTransfer -|- PG16_to_PG17_heap -|- INFORMATION -|- tpch.tpch_10.orders_heap -|- Encoding used : Unicode (UTF-8) - 65001 - utf-8\n",
      "2025-10-03T11:39:59.707 +02:00 -|- FastTransfer -|- PG16_to_PG17_heap -|- INFORMATION -|- tpch.tpch_10.orders_heap -|- Process Priority set to High\n",
      "2025-10-03T11:39:59.788 +02:00 -|- FastTransfer -|- PG16_to_PG17_heap -|- INFORMATION -|- tpch.tpch_10.orders_heap -|- Source Connection String : Host=localhost;Port=15432;Database=tpch;Trust Server Certificate=True;Application Name=FastTransfer;Timeout=15;Command Timeout=10800;Username=FastUser;Password=xxxxx\n",
      "2025-10-03T11:39:59.788 +02:00 -|- FastTransfer -|- PG16_to_PG17_heap -|- INFORMATION -|- tpch.tpch_10.orders_heap -|- Target Connection String : Host=localhost;Port=25432;Database=tpch;Trust Server Certificate=True;Application Name=FastTransfer;Timeout=15;Command Timeout=10800;Username=FastUser;Password=xxxxx\n",
      "2025-10-03T11:39:59.788 +02:00 -|- FastTransfer -|- PG16_to_PG17_heap -|- INFORMATION -|- tpch.tpch_10.orders_heap -|- Source Database Version : PostgreSQL 16.1, compiled by Visual C++ build 1937, 64-bit\n",
      "2025-10-03T11:39:59.788 +02:00 -|- FastTransfer -|- PG16_to_PG17_heap -|- INFORMATION -|- tpch.tpch_10.orders_heap -|- Target Database Version : PostgreSQL 17.2 on x86_64-windows, compiled by msvc-19.42.34435, 64-bit\n",
      "2025-10-03T11:39:59.947 +02:00 -|- FastTransfer -|- PG16_to_PG17_heap -|- INFORMATION -|- tpch.tpch_10.orders_heap -|- Snapshot ID = 0000000E-00000013-1 Created in 2 ms\n",
      "2025-10-03T11:40:00.201 +02:00 -|- FastTransfer -|- PG16_to_PG17_heap -|- INFORMATION -|- tpch.tpch_10.orders_heap -|- Completed CTID Max Retrieval in 0 ms\n",
      "2025-10-03T11:40:00.202 +02:00 -|- FastTransfer -|- PG16_to_PG17_heap -|- INFORMATION -|- tpch.tpch_10.orders_heap -|- Max CTID for table \"tpch_10\".\"orders\" @snapshotid=0000000E-00000013-1 = (275523,12)\n",
      "2025-10-03T11:40:00.203 +02:00 -|- FastTransfer -|- PG16_to_PG17_heap -|- INFORMATION -|- tpch.tpch_10.orders_heap -|- Start Loading Data using distribution method Ctid\n",
      "2025-10-03T11:40:00.283 +02:00 -|- FastTransfer -|- PG16_to_PG17_heap -|- INFORMATION -|- tpch.tpch_10.orders_heap -|- Start Loading Data using distribution method Ctid\n",
      "2025-10-03T11:40:00.287 +02:00 -|- FastTransfer -|- PG16_to_PG17_heap -|- INFORMATION -|- tpch.tpch_10.orders_heap -|- Start Loading Data using distribution method Ctid\n",
      "2025-10-03T11:40:00.296 +02:00 -|- FastTransfer -|- PG16_to_PG17_heap -|- INFORMATION -|- tpch.tpch_10.orders_heap -|- Start Loading Data using distribution method Ctid\n",
      "2025-10-03T11:40:00.296 +02:00 -|- FastTransfer -|- PG16_to_PG17_heap -|- INFORMATION -|- tpch.tpch_10.orders_heap -|- Start Loading Data using distribution method Ctid\n",
      "2025-10-03T11:40:00.296 +02:00 -|- FastTransfer -|- PG16_to_PG17_heap -|- INFORMATION -|- tpch.tpch_10.orders_heap -|- Start Loading Data using distribution method Ctid\n",
      "2025-10-03T11:40:00.306 +02:00 -|- FastTransfer -|- PG16_to_PG17_heap -|- INFORMATION -|- tpch.tpch_10.orders_heap -|- Start Loading Data using distribution method Ctid\n",
      "2025-10-03T11:40:00.308 +02:00 -|- FastTransfer -|- PG16_to_PG17_heap -|- INFORMATION -|- tpch.tpch_10.orders_heap -|- Start Loading Data using distribution method Ctid\n",
      "2025-10-03T11:40:00.308 +02:00 -|- FastTransfer -|- PG16_to_PG17_heap -|- INFORMATION -|- tpch.tpch_10.orders_heap -|- Start Loading Data using distribution method Ctid\n",
      "2025-10-03T11:40:00.308 +02:00 -|- FastTransfer -|- PG16_to_PG17_heap -|- INFORMATION -|- tpch.tpch_10.orders_heap -|- Start Loading Data using distribution method Ctid\n",
      "2025-10-03T11:40:00.317 +02:00 -|- FastTransfer -|- PG16_to_PG17_heap -|- INFORMATION -|- tpch.tpch_10.orders_heap -|- Start Loading Data using distribution method Ctid\n",
      "2025-10-03T11:40:00.387 +02:00 -|- FastTransfer -|- PG16_to_PG17_heap -|- INFORMATION -|- tpch.tpch_10.orders_heap -|- Start Loading Data using distribution method Ctid\n",
      "2025-10-03T11:40:02.487 +02:00 -|- FastTransfer -|- PG16_to_PG17_heap -|- INFORMATION -|- tpch.tpch_10.orders_heap -|- Completed Load Query 3 for ctid between 45920 and 68880 : 186810413 Bytes in 2283ms with snapshot 0000000E-00000013-1\n",
      "2025-10-03T11:40:02.616 +02:00 -|- FastTransfer -|- PG16_to_PG17_heap -|- INFORMATION -|- tpch.tpch_10.orders_heap -|- Completed Load Query 2 for ctid between 22960 and 45920 : 186813109 Bytes in 2413ms with snapshot 0000000E-00000013-1\n",
      "2025-10-03T11:40:02.634 +02:00 -|- FastTransfer -|- PG16_to_PG17_heap -|- INFORMATION -|- tpch.tpch_10.orders_heap -|- Completed Load Query 10 for ctid between 206640 and 229600 : 186821723 Bytes in 2429ms with snapshot 0000000E-00000013-1\n",
      "2025-10-03T11:40:02.644 +02:00 -|- FastTransfer -|- PG16_to_PG17_heap -|- INFORMATION -|- tpch.tpch_10.orders_heap -|- Completed Load Query 11 for ctid between 229600 and 252560 : 186801801 Bytes in 2439ms with snapshot 0000000E-00000013-1\n",
      "2025-10-03T11:40:02.648 +02:00 -|- FastTransfer -|- PG16_to_PG17_heap -|- INFORMATION -|- tpch.tpch_10.orders_heap -|- Completed Load Query 4 for ctid between 68880 and 91840 : 186812451 Bytes in 2445ms with snapshot 0000000E-00000013-1\n",
      "2025-10-03T11:40:02.655 +02:00 -|- FastTransfer -|- PG16_to_PG17_heap -|- INFORMATION -|- tpch.tpch_10.orders_heap -|- Completed Load Query 9 for ctid between 183680 and 206640 : 186812446 Bytes in 2450ms with snapshot 0000000E-00000013-1\n",
      "2025-10-03T11:40:02.656 +02:00 -|- FastTransfer -|- PG16_to_PG17_heap -|- INFORMATION -|- tpch.tpch_10.orders_heap -|- Completed Load Query 12 for ctid between 252560 and 2147483647 : 186847874 Bytes in 2450ms with snapshot 0000000E-00000013-1\n",
      "2025-10-03T11:40:02.668 +02:00 -|- FastTransfer -|- PG16_to_PG17_heap -|- INFORMATION -|- tpch.tpch_10.orders_heap -|- Completed Load Query 5 for ctid between 91840 and 114800 : 186823348 Bytes in 2464ms with snapshot 0000000E-00000013-1\n",
      "2025-10-03T11:40:02.670 +02:00 -|- FastTransfer -|- PG16_to_PG17_heap -|- INFORMATION -|- tpch.tpch_10.orders_heap -|- Completed Load Query 7 for ctid between 137760 and 160720 : 186816010 Bytes in 2466ms with snapshot 0000000E-00000013-1\n",
      "2025-10-03T11:40:02.670 +02:00 -|- FastTransfer -|- PG16_to_PG17_heap -|- INFORMATION -|- tpch.tpch_10.orders_heap -|- Completed Load Query 8 for ctid between 160720 and 183680 : 186800407 Bytes in 2465ms with snapshot 0000000E-00000013-1\n",
      "2025-10-03T11:40:02.682 +02:00 -|- FastTransfer -|- PG16_to_PG17_heap -|- INFORMATION -|- tpch.tpch_10.orders_heap -|- Completed Load Query 6 for ctid between 114800 and 137760 : 186812180 Bytes in 2478ms with snapshot 0000000E-00000013-1\n",
      "2025-10-03T11:40:02.709 +02:00 -|- FastTransfer -|- PG16_to_PG17_heap -|- INFORMATION -|- tpch.tpch_10.orders_heap -|- Completed Load Query 1 for ctid between 0 and 22960 : 186819579 Bytes in 2506ms with snapshot 0000000E-00000013-1\n",
      "2025-10-03T11:40:02.710 +02:00 -|- FastTransfer -|- PG16_to_PG17_heap -|- INFORMATION -|- tpch.tpch_10.orders_heap -|- Total size : 2241791341 Bytes\n",
      "2025-10-03T11:40:02.710 +02:00 -|- FastTransfer -|- PG16_to_PG17_heap -|- INFORMATION -|- tpch.tpch_10.orders_heap -|- Throughput : 810294217 Bytes/s\n",
      "2025-10-03T11:40:02.710 +02:00 -|- FastTransfer -|- PG16_to_PG17_heap -|- INFORMATION -|- tpch.tpch_10.orders_heap -|- Transfert time : Elapsed=2766 ms\n",
      "2025-10-03T11:40:02.710 +02:00 -|- FastTransfer -|- PG16_to_PG17_heap -|- INFORMATION -|- tpch.tpch_10.orders_heap -|- Total time : Elapsed=3168 ms\n",
      "2025-10-03T11:40:02.710 +02:00 -|- FastTransfer -|- PG16_to_PG17_heap -|- INFORMATION -|- tpch.tpch_10.orders_heap -|- Completed Load\n"
     ]
    }
   ],
   "source": [
    "cd D:\\FastTransfer\n",
    "\n",
    ".\\FastTransfer.exe `\n",
    "--sourceconnectiontype \"pgcopy\" `\n",
    "--sourceserver \"localhost:15432\" `\n",
    "--sourcedatabase \"tpch\" `\n",
    "--sourceuser \"FastUser\" `\n",
    "--sourcepassword \"FastPassword\" `\n",
    "--sourceschema \"tpch_10\" `\n",
    "--sourcetable \"orders\" `\n",
    "`\n",
    "--targetconnectiontype \"pgcopy\" `\n",
    "--targetserver \"localhost:25432\" `\n",
    "--targetuser \"FastUser\" `\n",
    "--targetpassword \"FastPassword\" `\n",
    "--targetdatabase \"tpch\" `\n",
    "--targetschema \"tpch_10\" `\n",
    "--targettable \"orders_heap\" `\n",
    "`\n",
    "--loadmode \"Truncate\" `\n",
    "--mapmethod \"Name\" `\n",
    "--method \"Ctid\" `\n",
    "--degree 12 `\n",
    "--runid \"PG16_to_PG17_heap\""
   ]
  },
  {
   "cell_type": "code",
   "execution_count": 14,
   "id": "5144fced",
   "metadata": {
    "language_info": {
     "name": "polyglot-notebook"
    },
    "polyglot_notebook": {
     "kernelName": "sql-pgsql17"
    }
   },
   "outputs": [
    {
     "data": {
      "text/csv": [
       "count_rows_in_heap\r\n",
       "15000000\r\n"
      ],
      "text/html": [
       "<table><thead><tr><td><span>count_rows_in_heap</span></td></tr></thead><tbody><tr><td><div class=\"dni-plaintext\"><pre>15000000</pre></div></td></tr></tbody></table><style>\r\n",
       ".dni-code-hint {\r\n",
       "    font-style: italic;\r\n",
       "    overflow: hidden;\r\n",
       "    white-space: nowrap;\r\n",
       "}\r\n",
       ".dni-treeview {\r\n",
       "    white-space: nowrap;\r\n",
       "}\r\n",
       ".dni-treeview td {\r\n",
       "    vertical-align: top;\r\n",
       "    text-align: start;\r\n",
       "}\r\n",
       "details.dni-treeview {\r\n",
       "    padding-left: 1em;\r\n",
       "}\r\n",
       "table td {\r\n",
       "    text-align: start;\r\n",
       "}\r\n",
       "table tr { \r\n",
       "    vertical-align: top; \r\n",
       "    margin: 0em 0px;\r\n",
       "}\r\n",
       "table tr td pre \r\n",
       "{ \r\n",
       "    vertical-align: top !important; \r\n",
       "    margin: 0em 0px !important;\r\n",
       "} \r\n",
       "table th {\r\n",
       "    text-align: start;\r\n",
       "}\r\n",
       "</style>"
      ]
     },
     "metadata": {},
     "output_type": "display_data"
    }
   ],
   "source": [
    "\n",
    "SELECT count(*) count_rows_in_heap from tpch_10.orders_heap;"
   ]
  },
  {
   "cell_type": "code",
   "execution_count": 15,
   "id": "b9ef8968",
   "metadata": {
    "language_info": {
     "name": "polyglot-notebook"
    },
    "polyglot_notebook": {
     "kernelName": "sql-pgsql17"
    }
   },
   "outputs": [
    {
     "data": {
      "text/csv": [
       "o_orderkey,o_custkey,o_orderstatus,o_totalprice,o_orderdate,o_orderpriority,o_clerk,o_shippriority,o_comment\r\n",
       "42469217,1461151,O,298887.000,1998-06-06T00:00:00.0000000,\"3-MEDIUM       \",Clerk#000007344,0,\"ly express dependencies boo\"\r\n",
       "42469218,1037713,O,191035.000,1997-07-23T00:00:00.0000000,\"3-MEDIUM       \",Clerk#000001497,0,\" never unusual packages sleep slyly. furiously even deposits sleep qu\"\r\n",
       "42469219,339392,F,82942.000,1993-06-15T00:00:00.0000000,\"5-LOW          \",Clerk#000006633,0,\"carefully even accounts serve car\"\r\n",
       "42469220,1149826,O,105800.000,1997-02-06T00:00:00.0000000,\"1-URGENT       \",Clerk#000007476,0,\" braids integrate carefully express accounts. accounts among the slyly e\"\r\n",
       "42469221,595162,O,141853.000,1996-09-01T00:00:00.0000000,\"3-MEDIUM       \",Clerk#000003886,0,\"c packages. blithely regular requests boost about the ironic dolp\"\r\n"
      ],
      "text/html": [
       "<table><thead><tr><td><span>o_orderkey</span></td><td><span>o_custkey</span></td><td><span>o_orderstatus</span></td><td><span>o_totalprice</span></td><td><span>o_orderdate</span></td><td><span>o_orderpriority</span></td><td><span>o_clerk</span></td><td><span>o_shippriority</span></td><td><span>o_comment</span></td></tr></thead><tbody><tr><td><div class=\"dni-plaintext\"><pre>42469217</pre></div></td><td><div class=\"dni-plaintext\"><pre>1461151</pre></div></td><td>O</td><td><div class=\"dni-plaintext\"><pre>298887.000</pre></div></td><td><span>1998-06-06 00:00:00Z</span></td><td>3-MEDIUM       </td><td>Clerk#000007344</td><td><div class=\"dni-plaintext\"><pre>0</pre></div></td><td>ly express dependencies boo</td></tr><tr><td><div class=\"dni-plaintext\"><pre>42469218</pre></div></td><td><div class=\"dni-plaintext\"><pre>1037713</pre></div></td><td>O</td><td><div class=\"dni-plaintext\"><pre>191035.000</pre></div></td><td><span>1997-07-23 00:00:00Z</span></td><td>3-MEDIUM       </td><td>Clerk#000001497</td><td><div class=\"dni-plaintext\"><pre>0</pre></div></td><td> never unusual packages sleep slyly. furiously even deposits sleep qu</td></tr><tr><td><div class=\"dni-plaintext\"><pre>42469219</pre></div></td><td><div class=\"dni-plaintext\"><pre>339392</pre></div></td><td>F</td><td><div class=\"dni-plaintext\"><pre>82942.000</pre></div></td><td><span>1993-06-15 00:00:00Z</span></td><td>5-LOW          </td><td>Clerk#000006633</td><td><div class=\"dni-plaintext\"><pre>0</pre></div></td><td>carefully even accounts serve car</td></tr><tr><td><div class=\"dni-plaintext\"><pre>42469220</pre></div></td><td><div class=\"dni-plaintext\"><pre>1149826</pre></div></td><td>O</td><td><div class=\"dni-plaintext\"><pre>105800.000</pre></div></td><td><span>1997-02-06 00:00:00Z</span></td><td>1-URGENT       </td><td>Clerk#000007476</td><td><div class=\"dni-plaintext\"><pre>0</pre></div></td><td> braids integrate carefully express accounts. accounts among the slyly e</td></tr><tr><td><div class=\"dni-plaintext\"><pre>42469221</pre></div></td><td><div class=\"dni-plaintext\"><pre>595162</pre></div></td><td>O</td><td><div class=\"dni-plaintext\"><pre>141853.000</pre></div></td><td><span>1996-09-01 00:00:00Z</span></td><td>3-MEDIUM       </td><td>Clerk#000003886</td><td><div class=\"dni-plaintext\"><pre>0</pre></div></td><td>c packages. blithely regular requests boost about the ironic dolp</td></tr></tbody></table><style>\r\n",
       ".dni-code-hint {\r\n",
       "    font-style: italic;\r\n",
       "    overflow: hidden;\r\n",
       "    white-space: nowrap;\r\n",
       "}\r\n",
       ".dni-treeview {\r\n",
       "    white-space: nowrap;\r\n",
       "}\r\n",
       ".dni-treeview td {\r\n",
       "    vertical-align: top;\r\n",
       "    text-align: start;\r\n",
       "}\r\n",
       "details.dni-treeview {\r\n",
       "    padding-left: 1em;\r\n",
       "}\r\n",
       "table td {\r\n",
       "    text-align: start;\r\n",
       "}\r\n",
       "table tr { \r\n",
       "    vertical-align: top; \r\n",
       "    margin: 0em 0px;\r\n",
       "}\r\n",
       "table tr td pre \r\n",
       "{ \r\n",
       "    vertical-align: top !important; \r\n",
       "    margin: 0em 0px !important;\r\n",
       "} \r\n",
       "table th {\r\n",
       "    text-align: start;\r\n",
       "}\r\n",
       "</style>"
      ]
     },
     "metadata": {},
     "output_type": "display_data"
    }
   ],
   "source": [
    "SELECT * from tpch_10.orders_heap LIMIT 5;"
   ]
  },
  {
   "cell_type": "markdown",
   "id": "ec9b966d",
   "metadata": {},
   "source": [
    "#### Test using a bigger table : LineItem (60M Rows x 16 columns - 16GB) "
   ]
  },
  {
   "cell_type": "code",
   "execution_count": 5,
   "id": "943d9c54",
   "metadata": {
    "polyglot_notebook": {
     "kernelName": "pwsh"
    }
   },
   "outputs": [
    {
     "name": "stdout",
     "output_type": "stream",
     "text": [
      "2025-10-03T11:42:22.443 +02:00 -|- FastTransfer -|- PG16_to_PG17_60M_rowsx16_columns -|- INFORMATION -|- tpch.tpch_10.lineitem_heap_unlogged -|- FastTransfer - running in trial mode – will expires on 2025‑10‑27 (23 day(s) left).\n",
      "2025-10-03T11:42:22.452 +02:00 -|- FastTransfer -|- PG16_to_PG17_60M_rowsx16_columns -|- INFORMATION -|- tpch.tpch_10.lineitem_heap_unlogged -|- Starting\n",
      "2025-10-03T11:42:22.452 +02:00 -|- FastTransfer -|- PG16_to_PG17_60M_rowsx16_columns -|- INFORMATION -|- tpch.tpch_10.lineitem_heap_unlogged -|- FastTransfer Version : 0.13.12.0 Architecture : X64 - Framework : .NET 8.0.20\n",
      "2025-10-03T11:42:22.452 +02:00 -|- FastTransfer -|- PG16_to_PG17_60M_rowsx16_columns -|- INFORMATION -|- tpch.tpch_10.lineitem_heap_unlogged -|- OS : Microsoft Windows 10.0.26100\n",
      "2025-10-03T11:42:22.452 +02:00 -|- FastTransfer -|- PG16_to_PG17_60M_rowsx16_columns -|- INFORMATION -|- tpch.tpch_10.lineitem_heap_unlogged -|- Process ID : 65196\n",
      "2025-10-03T11:42:22.452 +02:00 -|- FastTransfer -|- PG16_to_PG17_60M_rowsx16_columns -|- INFORMATION -|- tpch.tpch_10.lineitem_heap_unlogged -|- Provided Run ID : PG16_to_PG17_60M_rowsx16_columns\n",
      "2025-10-03T11:42:22.452 +02:00 -|- FastTransfer -|- PG16_to_PG17_60M_rowsx16_columns -|- INFORMATION -|- tpch.tpch_10.lineitem_heap_unlogged -|- Source Connection Type : pgcopy\n",
      "2025-10-03T11:42:22.452 +02:00 -|- FastTransfer -|- PG16_to_PG17_60M_rowsx16_columns -|- INFORMATION -|- tpch.tpch_10.lineitem_heap_unlogged -|- Source SqlInstance : localhost:15432\n",
      "2025-10-03T11:42:22.452 +02:00 -|- FastTransfer -|- PG16_to_PG17_60M_rowsx16_columns -|- INFORMATION -|- tpch.tpch_10.lineitem_heap_unlogged -|- Source Database : tpch\n",
      "2025-10-03T11:42:22.452 +02:00 -|- FastTransfer -|- PG16_to_PG17_60M_rowsx16_columns -|- INFORMATION -|- tpch.tpch_10.lineitem_heap_unlogged -|- Source Trusted Connection : False\n",
      "2025-10-03T11:42:22.452 +02:00 -|- FastTransfer -|- PG16_to_PG17_60M_rowsx16_columns -|- INFORMATION -|- tpch.tpch_10.lineitem_heap_unlogged -|- Source User : FastUser\n",
      "2025-10-03T11:42:22.452 +02:00 -|- FastTransfer -|- PG16_to_PG17_60M_rowsx16_columns -|- INFORMATION -|- tpch.tpch_10.lineitem_heap_unlogged -|- Source Schema : tpch_10\n",
      "2025-10-03T11:42:22.452 +02:00 -|- FastTransfer -|- PG16_to_PG17_60M_rowsx16_columns -|- INFORMATION -|- tpch.tpch_10.lineitem_heap_unlogged -|- Source Table : lineitem\n",
      "2025-10-03T11:42:22.452 +02:00 -|- FastTransfer -|- PG16_to_PG17_60M_rowsx16_columns -|- INFORMATION -|- tpch.tpch_10.lineitem_heap_unlogged -|- Target Type : pgcopy\n",
      "2025-10-03T11:42:22.452 +02:00 -|- FastTransfer -|- PG16_to_PG17_60M_rowsx16_columns -|- INFORMATION -|- tpch.tpch_10.lineitem_heap_unlogged -|- Target Server : localhost:25432\n",
      "2025-10-03T11:42:22.452 +02:00 -|- FastTransfer -|- PG16_to_PG17_60M_rowsx16_columns -|- INFORMATION -|- tpch.tpch_10.lineitem_heap_unlogged -|- Target Database : tpch\n",
      "2025-10-03T11:42:22.453 +02:00 -|- FastTransfer -|- PG16_to_PG17_60M_rowsx16_columns -|- INFORMATION -|- tpch.tpch_10.lineitem_heap_unlogged -|- Target Schema : tpch_10\n",
      "2025-10-03T11:42:22.453 +02:00 -|- FastTransfer -|- PG16_to_PG17_60M_rowsx16_columns -|- INFORMATION -|- tpch.tpch_10.lineitem_heap_unlogged -|- Target Table : lineitem_heap_unlogged\n",
      "2025-10-03T11:42:22.453 +02:00 -|- FastTransfer -|- PG16_to_PG17_60M_rowsx16_columns -|- INFORMATION -|- tpch.tpch_10.lineitem_heap_unlogged -|- Target Trusted Connection : False\n",
      "2025-10-03T11:42:22.453 +02:00 -|- FastTransfer -|- PG16_to_PG17_60M_rowsx16_columns -|- INFORMATION -|- tpch.tpch_10.lineitem_heap_unlogged -|- Target User : FastUser\n",
      "2025-10-03T11:42:22.453 +02:00 -|- FastTransfer -|- PG16_to_PG17_60M_rowsx16_columns -|- INFORMATION -|- tpch.tpch_10.lineitem_heap_unlogged -|- Columns Map Method : Name\n",
      "2025-10-03T11:42:22.453 +02:00 -|- FastTransfer -|- PG16_to_PG17_60M_rowsx16_columns -|- INFORMATION -|- tpch.tpch_10.lineitem_heap_unlogged -|- Degree : 12\n",
      "2025-10-03T11:42:22.453 +02:00 -|- FastTransfer -|- PG16_to_PG17_60M_rowsx16_columns -|- INFORMATION -|- tpch.tpch_10.lineitem_heap_unlogged -|- Distribute Method : Ctid\n",
      "2025-10-03T11:42:22.453 +02:00 -|- FastTransfer -|- PG16_to_PG17_60M_rowsx16_columns -|- INFORMATION -|- tpch.tpch_10.lineitem_heap_unlogged -|- Bulkcopy Batch Size : 1048576\n",
      "2025-10-03T11:42:22.453 +02:00 -|- FastTransfer -|- PG16_to_PG17_60M_rowsx16_columns -|- INFORMATION -|- tpch.tpch_10.lineitem_heap_unlogged -|- Load Mode : Truncate\n",
      "2025-10-03T11:42:22.453 +02:00 -|- FastTransfer -|- PG16_to_PG17_60M_rowsx16_columns -|- INFORMATION -|- tpch.tpch_10.lineitem_heap_unlogged -|- Use Work Tables : False\n",
      "2025-10-03T11:42:22.453 +02:00 -|- FastTransfer -|- PG16_to_PG17_60M_rowsx16_columns -|- INFORMATION -|- tpch.tpch_10.lineitem_heap_unlogged -|- Encoding used : Unicode (UTF-8) - 65001 - utf-8\n",
      "2025-10-03T11:42:22.454 +02:00 -|- FastTransfer -|- PG16_to_PG17_60M_rowsx16_columns -|- INFORMATION -|- tpch.tpch_10.lineitem_heap_unlogged -|- Process Priority set to High\n",
      "2025-10-03T11:42:22.643 +02:00 -|- FastTransfer -|- PG16_to_PG17_60M_rowsx16_columns -|- INFORMATION -|- tpch.tpch_10.lineitem_heap_unlogged -|- Source Connection String : Host=localhost;Port=15432;Database=tpch;Trust Server Certificate=True;Application Name=FastTransfer;Timeout=15;Command Timeout=10800;Username=FastUser;Password=xxxxx\n",
      "2025-10-03T11:42:22.643 +02:00 -|- FastTransfer -|- PG16_to_PG17_60M_rowsx16_columns -|- INFORMATION -|- tpch.tpch_10.lineitem_heap_unlogged -|- Target Connection String : Host=localhost;Port=25432;Database=tpch;Trust Server Certificate=True;Application Name=FastTransfer;Timeout=15;Command Timeout=10800;Username=FastUser;Password=xxxxx\n",
      "2025-10-03T11:42:22.643 +02:00 -|- FastTransfer -|- PG16_to_PG17_60M_rowsx16_columns -|- INFORMATION -|- tpch.tpch_10.lineitem_heap_unlogged -|- Source Database Version : PostgreSQL 16.1, compiled by Visual C++ build 1937, 64-bit\n",
      "2025-10-03T11:42:22.643 +02:00 -|- FastTransfer -|- PG16_to_PG17_60M_rowsx16_columns -|- INFORMATION -|- tpch.tpch_10.lineitem_heap_unlogged -|- Target Database Version : PostgreSQL 17.2 on x86_64-windows, compiled by msvc-19.42.34435, 64-bit\n",
      "2025-10-03T11:42:23.378 +02:00 -|- FastTransfer -|- PG16_to_PG17_60M_rowsx16_columns -|- INFORMATION -|- tpch.tpch_10.lineitem_heap_unlogged -|- Snapshot ID = 0000000D-00000058-1 Created in 3 ms\n",
      "2025-10-03T11:42:24.772 +02:00 -|- FastTransfer -|- PG16_to_PG17_60M_rowsx16_columns -|- INFORMATION -|- tpch.tpch_10.lineitem_heap_unlogged -|- Completed CTID Max Retrieval in 0 ms\n",
      "2025-10-03T11:42:24.772 +02:00 -|- FastTransfer -|- PG16_to_PG17_60M_rowsx16_columns -|- INFORMATION -|- tpch.tpch_10.lineitem_heap_unlogged -|- Max CTID for table \"tpch_10\".\"lineitem\" @snapshotid=0000000D-00000058-1 = (1214184,49)\n",
      "2025-10-03T11:42:24.775 +02:00 -|- FastTransfer -|- PG16_to_PG17_60M_rowsx16_columns -|- INFORMATION -|- tpch.tpch_10.lineitem_heap_unlogged -|- Start Loading Data using distribution method Ctid\n",
      "2025-10-03T11:42:24.850 +02:00 -|- FastTransfer -|- PG16_to_PG17_60M_rowsx16_columns -|- INFORMATION -|- tpch.tpch_10.lineitem_heap_unlogged -|- Start Loading Data using distribution method Ctid\n",
      "2025-10-03T11:42:24.854 +02:00 -|- FastTransfer -|- PG16_to_PG17_60M_rowsx16_columns -|- INFORMATION -|- tpch.tpch_10.lineitem_heap_unlogged -|- Start Loading Data using distribution method Ctid\n",
      "2025-10-03T11:42:24.861 +02:00 -|- FastTransfer -|- PG16_to_PG17_60M_rowsx16_columns -|- INFORMATION -|- tpch.tpch_10.lineitem_heap_unlogged -|- Start Loading Data using distribution method Ctid\n",
      "2025-10-03T11:42:24.872 +02:00 -|- FastTransfer -|- PG16_to_PG17_60M_rowsx16_columns -|- INFORMATION -|- tpch.tpch_10.lineitem_heap_unlogged -|- Start Loading Data using distribution method Ctid\n",
      "2025-10-03T11:42:24.872 +02:00 -|- FastTransfer -|- PG16_to_PG17_60M_rowsx16_columns -|- INFORMATION -|- tpch.tpch_10.lineitem_heap_unlogged -|- Start Loading Data using distribution method Ctid\n",
      "2025-10-03T11:42:24.881 +02:00 -|- FastTransfer -|- PG16_to_PG17_60M_rowsx16_columns -|- INFORMATION -|- tpch.tpch_10.lineitem_heap_unlogged -|- Start Loading Data using distribution method Ctid\n",
      "2025-10-03T11:42:24.893 +02:00 -|- FastTransfer -|- PG16_to_PG17_60M_rowsx16_columns -|- INFORMATION -|- tpch.tpch_10.lineitem_heap_unlogged -|- Start Loading Data using distribution method Ctid\n",
      "2025-10-03T11:42:24.893 +02:00 -|- FastTransfer -|- PG16_to_PG17_60M_rowsx16_columns -|- INFORMATION -|- tpch.tpch_10.lineitem_heap_unlogged -|- Start Loading Data using distribution method Ctid\n",
      "2025-10-03T11:42:24.895 +02:00 -|- FastTransfer -|- PG16_to_PG17_60M_rowsx16_columns -|- INFORMATION -|- tpch.tpch_10.lineitem_heap_unlogged -|- Start Loading Data using distribution method Ctid\n",
      "2025-10-03T11:42:24.903 +02:00 -|- FastTransfer -|- PG16_to_PG17_60M_rowsx16_columns -|- INFORMATION -|- tpch.tpch_10.lineitem_heap_unlogged -|- Start Loading Data using distribution method Ctid\n",
      "2025-10-03T11:42:24.906 +02:00 -|- FastTransfer -|- PG16_to_PG17_60M_rowsx16_columns -|- INFORMATION -|- tpch.tpch_10.lineitem_heap_unlogged -|- Start Loading Data using distribution method Ctid\n",
      "2025-10-03T11:42:37.830 +02:00 -|- FastTransfer -|- PG16_to_PG17_60M_rowsx16_columns -|- INFORMATION -|- tpch.tpch_10.lineitem_heap_unlogged -|- Completed Load Query 9 for ctid between 809456 and 910638 : 1063531070 Bytes in 13055ms with snapshot 0000000D-00000058-1\n",
      "2025-10-03T11:42:37.883 +02:00 -|- FastTransfer -|- PG16_to_PG17_60M_rowsx16_columns -|- INFORMATION -|- tpch.tpch_10.lineitem_heap_unlogged -|- Completed Load Query 8 for ctid between 708274 and 809456 : 1063453753 Bytes in 13109ms with snapshot 0000000D-00000058-1\n",
      "2025-10-03T11:42:37.929 +02:00 -|- FastTransfer -|- PG16_to_PG17_60M_rowsx16_columns -|- INFORMATION -|- tpch.tpch_10.lineitem_heap_unlogged -|- Completed Load Query 7 for ctid between 607092 and 708274 : 1063503852 Bytes in 13154ms with snapshot 0000000D-00000058-1\n",
      "2025-10-03T11:42:37.971 +02:00 -|- FastTransfer -|- PG16_to_PG17_60M_rowsx16_columns -|- INFORMATION -|- tpch.tpch_10.lineitem_heap_unlogged -|- Completed Load Query 3 for ctid between 202364 and 303546 : 1063454782 Bytes in 13196ms with snapshot 0000000D-00000058-1\n",
      "2025-10-03T11:42:37.979 +02:00 -|- FastTransfer -|- PG16_to_PG17_60M_rowsx16_columns -|- INFORMATION -|- tpch.tpch_10.lineitem_heap_unlogged -|- Completed Load Query 11 for ctid between 1011820 and 1113002 : 1063503340 Bytes in 13204ms with snapshot 0000000D-00000058-1\n",
      "2025-10-03T11:42:38.059 +02:00 -|- FastTransfer -|- PG16_to_PG17_60M_rowsx16_columns -|- INFORMATION -|- tpch.tpch_10.lineitem_heap_unlogged -|- Completed Load Query 4 for ctid between 303546 and 404728 : 1063457865 Bytes in 13285ms with snapshot 0000000D-00000058-1\n",
      "2025-10-03T11:42:38.091 +02:00 -|- FastTransfer -|- PG16_to_PG17_60M_rowsx16_columns -|- INFORMATION -|- tpch.tpch_10.lineitem_heap_unlogged -|- Completed Load Query 10 for ctid between 910638 and 1011820 : 1063483057 Bytes in 13316ms with snapshot 0000000D-00000058-1\n",
      "2025-10-03T11:42:38.133 +02:00 -|- FastTransfer -|- PG16_to_PG17_60M_rowsx16_columns -|- INFORMATION -|- tpch.tpch_10.lineitem_heap_unlogged -|- Completed Load Query 6 for ctid between 505910 and 607092 : 1063470304 Bytes in 13359ms with snapshot 0000000D-00000058-1\n",
      "2025-10-03T11:42:38.147 +02:00 -|- FastTransfer -|- PG16_to_PG17_60M_rowsx16_columns -|- INFORMATION -|- tpch.tpch_10.lineitem_heap_unlogged -|- Completed Load Query 2 for ctid between 101182 and 202364 : 1063429896 Bytes in 13372ms with snapshot 0000000D-00000058-1\n",
      "2025-10-03T11:42:38.161 +02:00 -|- FastTransfer -|- PG16_to_PG17_60M_rowsx16_columns -|- INFORMATION -|- tpch.tpch_10.lineitem_heap_unlogged -|- Completed Load Query 5 for ctid between 404728 and 505910 : 1063471288 Bytes in 13386ms with snapshot 0000000D-00000058-1\n",
      "2025-10-03T11:42:38.228 +02:00 -|- FastTransfer -|- PG16_to_PG17_60M_rowsx16_columns -|- INFORMATION -|- tpch.tpch_10.lineitem_heap_unlogged -|- Completed Load Query 12 for ctid between 1113002 and 2147483647 : 1063503191 Bytes in 13452ms with snapshot 0000000D-00000058-1\n",
      "2025-10-03T11:42:38.452 +02:00 -|- FastTransfer -|- PG16_to_PG17_60M_rowsx16_columns -|- INFORMATION -|- tpch.tpch_10.lineitem_heap_unlogged -|- Completed Load Query 1 for ctid between 0 and 101182 : 1063456964 Bytes in 13678ms with snapshot 0000000D-00000058-1\n",
      "2025-10-03T11:42:38.453 +02:00 -|- FastTransfer -|- PG16_to_PG17_60M_rowsx16_columns -|- INFORMATION -|- tpch.tpch_10.lineitem_heap_unlogged -|- Total size : 12761719362 Bytes\n",
      "2025-10-03T11:42:38.453 +02:00 -|- FastTransfer -|- PG16_to_PG17_60M_rowsx16_columns -|- INFORMATION -|- tpch.tpch_10.lineitem_heap_unlogged -|- Throughput : 846317726 Bytes/s\n",
      "2025-10-03T11:42:38.453 +02:00 -|- FastTransfer -|- PG16_to_PG17_60M_rowsx16_columns -|- INFORMATION -|- tpch.tpch_10.lineitem_heap_unlogged -|- Transfert time : Elapsed=15079 ms\n",
      "2025-10-03T11:42:38.453 +02:00 -|- FastTransfer -|- PG16_to_PG17_60M_rowsx16_columns -|- INFORMATION -|- tpch.tpch_10.lineitem_heap_unlogged -|- Total time : Elapsed=16153 ms\n",
      "2025-10-03T11:42:38.453 +02:00 -|- FastTransfer -|- PG16_to_PG17_60M_rowsx16_columns -|- INFORMATION -|- tpch.tpch_10.lineitem_heap_unlogged -|- Completed Load\n"
     ]
    }
   ],
   "source": [
    "cd D:\\FastTransfer\n",
    "\n",
    ".\\FastTransfer.exe `\n",
    "--sourceconnectiontype \"pgcopy\" `\n",
    "--sourceserver \"localhost:15432\" `\n",
    "--sourcedatabase \"tpch\" `\n",
    "--sourceuser \"FastUser\" `\n",
    "--sourcepassword \"FastPassword\" `\n",
    "--sourceschema \"tpch_10\" `\n",
    "--sourcetable \"lineitem\" `\n",
    "`\n",
    "--targetconnectiontype \"pgcopy\" `\n",
    "--targetserver \"localhost:25432\" `\n",
    "--targetuser \"FastUser\" `\n",
    "--targetpassword \"FastPassword\" `\n",
    "--targetdatabase \"tpch\" `\n",
    "--targetschema \"tpch_10\" `\n",
    "--targettable \"lineitem_heap_unlogged\" `\n",
    "`\n",
    "--loadmode \"Truncate\" `\n",
    "--mapmethod \"Name\" `\n",
    "--method \"Ctid\" `\n",
    "--degree 12 `\n",
    "--runid \"PG16_to_PG17_60M_rowsx16_columns\""
   ]
  },
  {
   "cell_type": "markdown",
   "metadata": {
    "polyglot_notebook": {
     "kernelName": "csharp"
    }
   },
   "source": [
    "#### Results with Ctid pgcopy ==> pgcopy (binary copy method) :\n",
    "\n",
    "| PG16 ==> PG17 (Ctid method) \t\t\t\t| Elapsed Time (seconds)|Cells/sec \t|Parallel Dispatch Method|degree of parallelism\n",
    "|-----------------------------------------------------------------------|:---------------------:|----------:| :--: | :--: |\n",
    "| FastTransfer Load LINEITEM (60M Rows x 16c columns) HEAP Target       | 16.1     \t\t\t|60_000_000    | Ctid | 12 |\n",
    "| FastTransfer Load ORDERS   (15M Rows x  9c columns) Target with PK \t\t| 5.7     \t\t\t\t|23_684_210    | Ctid | 10 (-3) |\n",
    "| FastTransfer Load ORDERS   (15M Rows x  9c columns) HEAP Target \t\t| 3.3     \t\t\t\t|40_909_090    | Ctid | 12 |\n"
   ]
  },
  {
   "cell_type": "markdown",
   "id": "f7285241",
   "metadata": {},
   "source": [
    "The speed of loads (in cells/sec) is higher with LINEITEM than with ORDERS because the LINEITEM table is bigger and the startup and preparation time take a smaller role/space in the total time than it take with ORDERS load."
   ]
  },
  {
   "cell_type": "markdown",
   "id": "6cb22c0f",
   "metadata": {},
   "source": [
    "#### Results with foreign table + insert (legacy method) :\n",
    "| PG16 ==> PG17 (Foreign Table + Insert method) \t| Elapsed Time (seconds)|Cells/sec \t|Parallel Dispatch Method\n",
    "|-----------------------------------------------------------------------|:---------------------:|----------:| :--: |\n",
    "| Postgresql fdw table  (15M Rows x  9c columns) Target with PK | 58.8     \t\t\t|2_295_918     | N/A |\n",
    "| Postgresql fdw table  (15M Rows x  9c columns) HEAP Target | 40.1     \t\t\t|3_366_583     | N/A |"
   ]
  }
 ],
 "metadata": {
  "kernelspec": {
   "display_name": ".NET (C#)",
   "language": "C#",
   "name": ".net-csharp"
  },
  "language_info": {
   "name": "polyglot-notebook"
  },
  "polyglot_notebook": {
   "kernelInfo": {
    "defaultKernelName": "csharp",
    "items": [
     {
      "aliases": [],
      "name": "csharp"
     },
     {
      "aliases": [],
      "languageName": "pwsh",
      "name": "pwsh"
     },
     {
      "aliases": [],
      "languageName": "PostgreSQL",
      "name": "sql-pgsql17"
     },
     {
      "aliases": [],
      "languageName": "T-SQL",
      "name": "sql-SS2025_tpch_test"
     }
    ]
   }
  }
 },
 "nbformat": 4,
 "nbformat_minor": 5
}
