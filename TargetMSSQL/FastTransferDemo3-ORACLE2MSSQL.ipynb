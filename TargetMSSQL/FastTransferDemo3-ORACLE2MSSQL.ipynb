{
 "cells": [
  {
   "cell_type": "markdown",
   "id": "eaa594fd",
   "metadata": {},
   "source": [
    "\n",
    "```\n",
    "███████  █████  ███████ ████████ ████████ ██████   █████  ███    ██ ███████ ███████ ███████ ██████  \n",
    "██      ██   ██ ██         ██       ██    ██   ██ ██   ██ ████   ██ ██      ██      ██      ██   ██ \n",
    "█████   ███████ ███████    ██       ██    ██████  ███████ ██ ██  ██ ███████ █████   █████   ██████  \n",
    "██      ██   ██      ██    ██       ██    ██   ██ ██   ██ ██  ██ ██      ██ ██      ██      ██   ██ \n",
    "██      ██   ██ ███████    ██       ██    ██   ██ ██   ██ ██   ████ ███████ ██      ███████ ██   ██ \n",
    "                                                                                        "
   ]
  },
  {
   "cell_type": "markdown",
   "id": "9f4ce60e",
   "metadata": {
    "polyglot_notebook": {
     "kernelName": "csharp"
    }
   },
   "source": [
    "# Demo 3 - Oracle to MSSQL"
   ]
  },
  {
   "cell_type": "markdown",
   "id": "ea3b3ddb",
   "metadata": {},
   "source": [
    "## Oracle has a special method for parallelism (RowId) "
   ]
  },
  {
   "cell_type": "markdown",
   "id": "6334908c",
   "metadata": {},
   "source": [
    "For Oracle sources you can use the RowId method in adding to other methods (RangeId, Ntile, Random, DataDriven). the RowId Method is specific to Oracle and does'nt need a distribute key column.\n",
    "\n",
    "**To use this method the oracle user used by FastTransfer must be granted to the SELECT_CATALOG_ROLE**. Ask a DBA to grant the user you will use to connect to the Oracle database. Exemple if the user is named FASTUSER :\n",
    "\n",
    "```sql\n",
    "GRANT SELECT_CATALOG_ROLE TO FASTUSER;"
   ]
  },
  {
   "cell_type": "markdown",
   "id": "55d58837",
   "metadata": {},
   "source": [
    "### Ideas behing the RowId Method"
   ]
  },
  {
   "cell_type": "markdown",
   "id": "1a22b8ba",
   "metadata": {},
   "source": [
    "Oracle manage a catalog of rowids range of each table. FastTransfer can used this data to define ranges of rowids and extract several chunks in parallel."
   ]
  },
  {
   "cell_type": "code",
   "execution_count": 1,
   "metadata": {
    "polyglot_notebook": {
     "kernelName": "pwsh"
    },
    "tags": [
     "oracle2mssql"
    ],
    "vscode": {
     "languageId": "polyglot-notebook"
    }
   },
   "outputs": [
    {
     "name": "stdout",
     "output_type": "stream",
     "text": [
      "2025-06-15T21:12:04.848 +02:00 -|- FastTransfer -|- 84267769-576f-4b01-b7ab-7d8d3b8b7c40 -|- INFORMATION -|- tpch_test.dbo.orders -|- FastTransfer - running in trial mode – will expires on 2025‑07‑14 (28 day(s) left).\n",
      "2025-06-15T21:12:04.857 +02:00 -|- FastTransfer -|- 84267769-576f-4b01-b7ab-7d8d3b8b7c40 -|- INFORMATION -|- tpch_test.dbo.orders -|- Starting\n",
      "2025-06-15T21:12:04.858 +02:00 -|- FastTransfer -|- 84267769-576f-4b01-b7ab-7d8d3b8b7c40 -|- INFORMATION -|- tpch_test.dbo.orders -|- FastTransfer Version : 0.13.6.0 Architecture : X64 - Framework : .NET 8.0.16\n",
      "2025-06-15T21:12:04.858 +02:00 -|- FastTransfer -|- 84267769-576f-4b01-b7ab-7d8d3b8b7c40 -|- INFORMATION -|- tpch_test.dbo.orders -|- OS : Microsoft Windows 10.0.26100\n",
      "2025-06-15T21:12:04.858 +02:00 -|- FastTransfer -|- 84267769-576f-4b01-b7ab-7d8d3b8b7c40 -|- INFORMATION -|- tpch_test.dbo.orders -|- Process ID : 6900\n",
      "2025-06-15T21:12:04.858 +02:00 -|- FastTransfer -|- 84267769-576f-4b01-b7ab-7d8d3b8b7c40 -|- INFORMATION -|- tpch_test.dbo.orders -|- Generated Run ID : 84267769-576f-4b01-b7ab-7d8d3b8b7c40\n",
      "2025-06-15T21:12:04.858 +02:00 -|- FastTransfer -|- 84267769-576f-4b01-b7ab-7d8d3b8b7c40 -|- INFORMATION -|- tpch_test.dbo.orders -|- Source Connection Type : oraodp\n",
      "2025-06-15T21:12:04.858 +02:00 -|- FastTransfer -|- 84267769-576f-4b01-b7ab-7d8d3b8b7c40 -|- INFORMATION -|- tpch_test.dbo.orders -|- Source SqlInstance : LOCALHOST:1521/ORCLPDB\n",
      "2025-06-15T21:12:04.858 +02:00 -|- FastTransfer -|- 84267769-576f-4b01-b7ab-7d8d3b8b7c40 -|- INFORMATION -|- tpch_test.dbo.orders -|- Source Database : ORCLPDB\n",
      "2025-06-15T21:12:04.858 +02:00 -|- FastTransfer -|- 84267769-576f-4b01-b7ab-7d8d3b8b7c40 -|- INFORMATION -|- tpch_test.dbo.orders -|- Source Trusted Connection : False\n",
      "2025-06-15T21:12:04.858 +02:00 -|- FastTransfer -|- 84267769-576f-4b01-b7ab-7d8d3b8b7c40 -|- INFORMATION -|- tpch_test.dbo.orders -|- Source User : TPCH_IN\n",
      "2025-06-15T21:12:04.858 +02:00 -|- FastTransfer -|- 84267769-576f-4b01-b7ab-7d8d3b8b7c40 -|- INFORMATION -|- tpch_test.dbo.orders -|- Source Schema : TPCH_IN\n",
      "2025-06-15T21:12:04.858 +02:00 -|- FastTransfer -|- 84267769-576f-4b01-b7ab-7d8d3b8b7c40 -|- INFORMATION -|- tpch_test.dbo.orders -|- Source Table : ORDERS_FLAT\n",
      "2025-06-15T21:12:04.858 +02:00 -|- FastTransfer -|- 84267769-576f-4b01-b7ab-7d8d3b8b7c40 -|- INFORMATION -|- tpch_test.dbo.orders -|- Target Type : msbulk\n",
      "2025-06-15T21:12:04.858 +02:00 -|- FastTransfer -|- 84267769-576f-4b01-b7ab-7d8d3b8b7c40 -|- INFORMATION -|- tpch_test.dbo.orders -|- Target Server : localhost\n",
      "2025-06-15T21:12:04.858 +02:00 -|- FastTransfer -|- 84267769-576f-4b01-b7ab-7d8d3b8b7c40 -|- INFORMATION -|- tpch_test.dbo.orders -|- Target Database : tpch_test\n",
      "2025-06-15T21:12:04.858 +02:00 -|- FastTransfer -|- 84267769-576f-4b01-b7ab-7d8d3b8b7c40 -|- INFORMATION -|- tpch_test.dbo.orders -|- Target Schema : dbo\n",
      "2025-06-15T21:12:04.858 +02:00 -|- FastTransfer -|- 84267769-576f-4b01-b7ab-7d8d3b8b7c40 -|- INFORMATION -|- tpch_test.dbo.orders -|- Target Table : orders\n",
      "2025-06-15T21:12:04.858 +02:00 -|- FastTransfer -|- 84267769-576f-4b01-b7ab-7d8d3b8b7c40 -|- INFORMATION -|- tpch_test.dbo.orders -|- Target Trusted Connection : True\n",
      "2025-06-15T21:12:04.858 +02:00 -|- FastTransfer -|- 84267769-576f-4b01-b7ab-7d8d3b8b7c40 -|- INFORMATION -|- tpch_test.dbo.orders -|- Columns Map Method : Position\n",
      "2025-06-15T21:12:04.858 +02:00 -|- FastTransfer -|- 84267769-576f-4b01-b7ab-7d8d3b8b7c40 -|- INFORMATION -|- tpch_test.dbo.orders -|- Degree : 12\n",
      "2025-06-15T21:12:04.858 +02:00 -|- FastTransfer -|- 84267769-576f-4b01-b7ab-7d8d3b8b7c40 -|- INFORMATION -|- tpch_test.dbo.orders -|- Distribute Method : Rowid\n",
      "2025-06-15T21:12:04.858 +02:00 -|- FastTransfer -|- 84267769-576f-4b01-b7ab-7d8d3b8b7c40 -|- INFORMATION -|- tpch_test.dbo.orders -|- Bulkcopy Batch Size : 1048576\n",
      "2025-06-15T21:12:04.858 +02:00 -|- FastTransfer -|- 84267769-576f-4b01-b7ab-7d8d3b8b7c40 -|- INFORMATION -|- tpch_test.dbo.orders -|- Load Mode : Truncate\n",
      "2025-06-15T21:12:04.858 +02:00 -|- FastTransfer -|- 84267769-576f-4b01-b7ab-7d8d3b8b7c40 -|- INFORMATION -|- tpch_test.dbo.orders -|- Use Work Tables : False\n",
      "2025-06-15T21:12:04.859 +02:00 -|- FastTransfer -|- 84267769-576f-4b01-b7ab-7d8d3b8b7c40 -|- INFORMATION -|- tpch_test.dbo.orders -|- Encoding used : Unicode (UTF-8) - 65001 - utf-8\n",
      "2025-06-15T21:12:05.032 +02:00 -|- FastTransfer -|- 84267769-576f-4b01-b7ab-7d8d3b8b7c40 -|- INFORMATION -|- tpch_test.dbo.orders -|- Source Connection String : USER ID=TPCH_IN;PASSWORD=xxxxx;DATA SOURCE=LOCALHOST:1521/ORCLPDB;POOLING=False;CONNECTION TIMEOUT=120\n",
      "2025-06-15T21:12:05.032 +02:00 -|- FastTransfer -|- 84267769-576f-4b01-b7ab-7d8d3b8b7c40 -|- INFORMATION -|- tpch_test.dbo.orders -|- Target Connection String : Data Source=localhost;Initial Catalog=tpch_test;Integrated Security=True;Connect Timeout=120;Encrypt=True;Trust Server Certificate=True;Application Name=FastTransfer;Application Intent=ReadWrite;Command Timeout=10800\n",
      "2025-06-15T21:12:05.032 +02:00 -|- FastTransfer -|- 84267769-576f-4b01-b7ab-7d8d3b8b7c40 -|- INFORMATION -|- tpch_test.dbo.orders -|- Source Database Version : Oracle Database 21c Enterprise Edition Release 21.0.0.0.0 - Production\n",
      "2025-06-15T21:12:05.032 +02:00 -|- FastTransfer -|- 84267769-576f-4b01-b7ab-7d8d3b8b7c40 -|- INFORMATION -|- tpch_test.dbo.orders -|- Target Database Version : Microsoft SQL Server 2022 (RTM-CU17) (KB5048038) - 16.0.4175.1 (X64)  \tDec 13 2024 09:01:53  \tCopyright (C) 2022 Microsoft Corporation \tDeveloper Edition (64-bit) on Windows 10 Pro 10.0 <X64> (Build 26100: ) (Hypervisor) \n",
      "2025-06-15T21:12:05.176 +02:00 -|- FastTransfer -|- 84267769-576f-4b01-b7ab-7d8d3b8b7c40 -|- INFORMATION -|- tpch_test.dbo.orders -|- Start Loading Data using distribution method Rowid\n",
      "2025-06-15T21:12:05.182 +02:00 -|- FastTransfer -|- 84267769-576f-4b01-b7ab-7d8d3b8b7c40 -|- INFORMATION -|- tpch_test.dbo.orders -|- Table \"dbo\".\"orders\" has no Clustered Index. BulkCopy will use KeepNulls and UseInternalTransaction and Tablock\n",
      "2025-06-15T21:12:05.182 +02:00 -|- FastTransfer -|- 84267769-576f-4b01-b7ab-7d8d3b8b7c40 -|- INFORMATION -|- tpch_test.dbo.orders -|- BulkCopy to \"dbo\".\"orders\" with BatchSize = 1048576, Timeout = 3600\n",
      "2025-06-15T21:12:05.223 +02:00 -|- FastTransfer -|- 84267769-576f-4b01-b7ab-7d8d3b8b7c40 -|- INFORMATION -|- tpch_test.dbo.orders -|- Start Loading Data using distribution method Rowid\n",
      "2025-06-15T21:12:05.227 +02:00 -|- FastTransfer -|- 84267769-576f-4b01-b7ab-7d8d3b8b7c40 -|- INFORMATION -|- tpch_test.dbo.orders -|- Table \"dbo\".\"orders\" has no Clustered Index. BulkCopy will use KeepNulls and UseInternalTransaction and Tablock\n",
      "2025-06-15T21:12:05.227 +02:00 -|- FastTransfer -|- 84267769-576f-4b01-b7ab-7d8d3b8b7c40 -|- INFORMATION -|- tpch_test.dbo.orders -|- BulkCopy to \"dbo\".\"orders\" with BatchSize = 1048576, Timeout = 3600\n",
      "2025-06-15T21:12:05.288 +02:00 -|- FastTransfer -|- 84267769-576f-4b01-b7ab-7d8d3b8b7c40 -|- INFORMATION -|- tpch_test.dbo.orders -|- Start Loading Data using distribution method Rowid\n",
      "2025-06-15T21:12:05.288 +02:00 -|- FastTransfer -|- 84267769-576f-4b01-b7ab-7d8d3b8b7c40 -|- INFORMATION -|- tpch_test.dbo.orders -|- Table \"dbo\".\"orders\" has no Clustered Index. BulkCopy will use KeepNulls and UseInternalTransaction and Tablock\n",
      "2025-06-15T21:12:05.288 +02:00 -|- FastTransfer -|- 84267769-576f-4b01-b7ab-7d8d3b8b7c40 -|- INFORMATION -|- tpch_test.dbo.orders -|- BulkCopy to \"dbo\".\"orders\" with BatchSize = 1048576, Timeout = 3600\n",
      "2025-06-15T21:12:05.312 +02:00 -|- FastTransfer -|- 84267769-576f-4b01-b7ab-7d8d3b8b7c40 -|- INFORMATION -|- tpch_test.dbo.orders -|- Start Loading Data using distribution method Rowid\n",
      "2025-06-15T21:12:05.312 +02:00 -|- FastTransfer -|- 84267769-576f-4b01-b7ab-7d8d3b8b7c40 -|- INFORMATION -|- tpch_test.dbo.orders -|- Table \"dbo\".\"orders\" has no Clustered Index. BulkCopy will use KeepNulls and UseInternalTransaction and Tablock\n",
      "2025-06-15T21:12:05.312 +02:00 -|- FastTransfer -|- 84267769-576f-4b01-b7ab-7d8d3b8b7c40 -|- INFORMATION -|- tpch_test.dbo.orders -|- BulkCopy to \"dbo\".\"orders\" with BatchSize = 1048576, Timeout = 3600\n",
      "2025-06-15T21:12:05.347 +02:00 -|- FastTransfer -|- 84267769-576f-4b01-b7ab-7d8d3b8b7c40 -|- INFORMATION -|- tpch_test.dbo.orders -|- Start Loading Data using distribution method Rowid\n",
      "2025-06-15T21:12:05.347 +02:00 -|- FastTransfer -|- 84267769-576f-4b01-b7ab-7d8d3b8b7c40 -|- INFORMATION -|- tpch_test.dbo.orders -|- Table \"dbo\".\"orders\" has no Clustered Index. BulkCopy will use KeepNulls and UseInternalTransaction and Tablock\n",
      "2025-06-15T21:12:05.347 +02:00 -|- FastTransfer -|- 84267769-576f-4b01-b7ab-7d8d3b8b7c40 -|- INFORMATION -|- tpch_test.dbo.orders -|- BulkCopy to \"dbo\".\"orders\" with BatchSize = 1048576, Timeout = 3600\n",
      "2025-06-15T21:12:05.368 +02:00 -|- FastTransfer -|- 84267769-576f-4b01-b7ab-7d8d3b8b7c40 -|- INFORMATION -|- tpch_test.dbo.orders -|- Start Loading Data using distribution method Rowid\n",
      "2025-06-15T21:12:05.369 +02:00 -|- FastTransfer -|- 84267769-576f-4b01-b7ab-7d8d3b8b7c40 -|- INFORMATION -|- tpch_test.dbo.orders -|- Table \"dbo\".\"orders\" has no Clustered Index. BulkCopy will use KeepNulls and UseInternalTransaction and Tablock\n",
      "2025-06-15T21:12:05.369 +02:00 -|- FastTransfer -|- 84267769-576f-4b01-b7ab-7d8d3b8b7c40 -|- INFORMATION -|- tpch_test.dbo.orders -|- BulkCopy to \"dbo\".\"orders\" with BatchSize = 1048576, Timeout = 3600\n",
      "2025-06-15T21:12:05.387 +02:00 -|- FastTransfer -|- 84267769-576f-4b01-b7ab-7d8d3b8b7c40 -|- INFORMATION -|- tpch_test.dbo.orders -|- Start Loading Data using distribution method Rowid\n",
      "2025-06-15T21:12:05.387 +02:00 -|- FastTransfer -|- 84267769-576f-4b01-b7ab-7d8d3b8b7c40 -|- INFORMATION -|- tpch_test.dbo.orders -|- Table \"dbo\".\"orders\" has no Clustered Index. BulkCopy will use KeepNulls and UseInternalTransaction and Tablock\n",
      "2025-06-15T21:12:05.387 +02:00 -|- FastTransfer -|- 84267769-576f-4b01-b7ab-7d8d3b8b7c40 -|- INFORMATION -|- tpch_test.dbo.orders -|- BulkCopy to \"dbo\".\"orders\" with BatchSize = 1048576, Timeout = 3600\n",
      "2025-06-15T21:12:05.420 +02:00 -|- FastTransfer -|- 84267769-576f-4b01-b7ab-7d8d3b8b7c40 -|- INFORMATION -|- tpch_test.dbo.orders -|- Start Loading Data using distribution method Rowid\n",
      "2025-06-15T21:12:05.420 +02:00 -|- FastTransfer -|- 84267769-576f-4b01-b7ab-7d8d3b8b7c40 -|- INFORMATION -|- tpch_test.dbo.orders -|- Table \"dbo\".\"orders\" has no Clustered Index. BulkCopy will use KeepNulls and UseInternalTransaction and Tablock\n",
      "2025-06-15T21:12:05.420 +02:00 -|- FastTransfer -|- 84267769-576f-4b01-b7ab-7d8d3b8b7c40 -|- INFORMATION -|- tpch_test.dbo.orders -|- BulkCopy to \"dbo\".\"orders\" with BatchSize = 1048576, Timeout = 3600\n",
      "2025-06-15T21:12:05.446 +02:00 -|- FastTransfer -|- 84267769-576f-4b01-b7ab-7d8d3b8b7c40 -|- INFORMATION -|- tpch_test.dbo.orders -|- Start Loading Data using distribution method Rowid\n",
      "2025-06-15T21:12:05.447 +02:00 -|- FastTransfer -|- 84267769-576f-4b01-b7ab-7d8d3b8b7c40 -|- INFORMATION -|- tpch_test.dbo.orders -|- Table \"dbo\".\"orders\" has no Clustered Index. BulkCopy will use KeepNulls and UseInternalTransaction and Tablock\n",
      "2025-06-15T21:12:05.447 +02:00 -|- FastTransfer -|- 84267769-576f-4b01-b7ab-7d8d3b8b7c40 -|- INFORMATION -|- tpch_test.dbo.orders -|- BulkCopy to \"dbo\".\"orders\" with BatchSize = 1048576, Timeout = 3600\n",
      "2025-06-15T21:12:05.468 +02:00 -|- FastTransfer -|- 84267769-576f-4b01-b7ab-7d8d3b8b7c40 -|- INFORMATION -|- tpch_test.dbo.orders -|- Start Loading Data using distribution method Rowid\n",
      "2025-06-15T21:12:05.468 +02:00 -|- FastTransfer -|- 84267769-576f-4b01-b7ab-7d8d3b8b7c40 -|- INFORMATION -|- tpch_test.dbo.orders -|- Table \"dbo\".\"orders\" has no Clustered Index. BulkCopy will use KeepNulls and UseInternalTransaction and Tablock\n",
      "2025-06-15T21:12:05.468 +02:00 -|- FastTransfer -|- 84267769-576f-4b01-b7ab-7d8d3b8b7c40 -|- INFORMATION -|- tpch_test.dbo.orders -|- BulkCopy to \"dbo\".\"orders\" with BatchSize = 1048576, Timeout = 3600\n",
      "2025-06-15T21:12:05.505 +02:00 -|- FastTransfer -|- 84267769-576f-4b01-b7ab-7d8d3b8b7c40 -|- INFORMATION -|- tpch_test.dbo.orders -|- Start Loading Data using distribution method Rowid\n",
      "2025-06-15T21:12:05.505 +02:00 -|- FastTransfer -|- 84267769-576f-4b01-b7ab-7d8d3b8b7c40 -|- INFORMATION -|- tpch_test.dbo.orders -|- Table \"dbo\".\"orders\" has no Clustered Index. BulkCopy will use KeepNulls and UseInternalTransaction and Tablock\n",
      "2025-06-15T21:12:05.505 +02:00 -|- FastTransfer -|- 84267769-576f-4b01-b7ab-7d8d3b8b7c40 -|- INFORMATION -|- tpch_test.dbo.orders -|- BulkCopy to \"dbo\".\"orders\" with BatchSize = 1048576, Timeout = 3600\n",
      "2025-06-15T21:12:05.515 +02:00 -|- FastTransfer -|- 84267769-576f-4b01-b7ab-7d8d3b8b7c40 -|- INFORMATION -|- tpch_test.dbo.orders -|- Start Loading Data using distribution method Rowid\n",
      "2025-06-15T21:12:05.516 +02:00 -|- FastTransfer -|- 84267769-576f-4b01-b7ab-7d8d3b8b7c40 -|- INFORMATION -|- tpch_test.dbo.orders -|- Table \"dbo\".\"orders\" has no Clustered Index. BulkCopy will use KeepNulls and UseInternalTransaction and Tablock\n",
      "2025-06-15T21:12:05.516 +02:00 -|- FastTransfer -|- 84267769-576f-4b01-b7ab-7d8d3b8b7c40 -|- INFORMATION -|- tpch_test.dbo.orders -|- BulkCopy to \"dbo\".\"orders\" with BatchSize = 1048576, Timeout = 3600\n",
      "2025-06-15T21:12:05.546 +02:00 -|- FastTransfer -|- 84267769-576f-4b01-b7ab-7d8d3b8b7c40 -|- INFORMATION -|- tpch_test.dbo.orders -|- Start Loading Data using distribution method Rowid\n",
      "2025-06-15T21:12:05.549 +02:00 -|- FastTransfer -|- 84267769-576f-4b01-b7ab-7d8d3b8b7c40 -|- INFORMATION -|- tpch_test.dbo.orders -|- Table \"dbo\".\"orders\" has no Clustered Index. BulkCopy will use KeepNulls and UseInternalTransaction and Tablock\n",
      "2025-06-15T21:12:05.549 +02:00 -|- FastTransfer -|- 84267769-576f-4b01-b7ab-7d8d3b8b7c40 -|- INFORMATION -|- tpch_test.dbo.orders -|- BulkCopy to \"dbo\".\"orders\" with BatchSize = 1048576, Timeout = 3600\n",
      "2025-06-15T21:12:08.823 +02:00 -|- FastTransfer -|- 84267769-576f-4b01-b7ab-7d8d3b8b7c40 -|- INFORMATION -|- tpch_test.dbo.orders -|- Completed Load Query 4 for rowid between AAAS+UAAMAADD6AAAA and AAAS+UAAMAADF3/H// : 499451 rows x 9 columns in 3703ms\n",
      "2025-06-15T21:12:10.306 +02:00 -|- FastTransfer -|- 84267769-576f-4b01-b7ab-7d8d3b8b7c40 -|- INFORMATION -|- tpch_test.dbo.orders -|- Completed Load Query 11 for rowid between AAAS+UAANAAAdiAAAA and AAAS+UAANAAAgx/H// : 823618 rows x 9 columns in 5185ms\n",
      "2025-06-15T21:12:11.300 +02:00 -|- FastTransfer -|- 84267769-576f-4b01-b7ab-7d8d3b8b7c40 -|- INFORMATION -|- tpch_test.dbo.orders -|- Completed Load Query 3 for rowid between AAAS+UAAMAAC/6AAAA and AAAS+UAAMAADD5/H// : 1014594 rows x 9 columns in 6179ms\n",
      "2025-06-15T21:12:11.574 +02:00 -|- FastTransfer -|- 84267769-576f-4b01-b7ab-7d8d3b8b7c40 -|- INFORMATION -|- tpch_test.dbo.orders -|- Completed Load Query 2 for rowid between AAAS+UAAMAABlAAAAA and AAAS+UAAMAAC/3/H// : 1059768 rows x 9 columns in 6453ms\n",
      "2025-06-15T21:12:12.132 +02:00 -|- FastTransfer -|- 84267769-576f-4b01-b7ab-7d8d3b8b7c40 -|- INFORMATION -|- tpch_test.dbo.orders -|- Completed Load Query 9 for rowid between AAAS+UAANAAATyAAAA and AAAS+UAANAAAYh/H// : 1201943 rows x 9 columns in 7011ms\n",
      "2025-06-15T21:12:12.169 +02:00 -|- FastTransfer -|- 84267769-576f-4b01-b7ab-7d8d3b8b7c40 -|- INFORMATION -|- tpch_test.dbo.orders -|- Completed Load Query 5 for rowid between AAAS+UAANAAAACAAAA and AAAS+UAANAAAEx/H// : 1197102 rows x 9 columns in 7049ms\n",
      "2025-06-15T21:12:12.238 +02:00 -|- FastTransfer -|- 84267769-576f-4b01-b7ab-7d8d3b8b7c40 -|- INFORMATION -|- tpch_test.dbo.orders -|- Completed Load Query 0 for rowid between AAAS+UAAMAABK8AAAA and AAAS+UAAMAABTt/H// : 1244727 rows x 9 columns in 7118ms\n",
      "2025-06-15T21:12:12.330 +02:00 -|- FastTransfer -|- 84267769-576f-4b01-b7ab-7d8d3b8b7c40 -|- INFORMATION -|- tpch_test.dbo.orders -|- Completed Load Query 1 for rowid between AAAS+UAAMAABTuAAAA and AAAS+UAAMAABk//H// : 1251423 rows x 9 columns in 7209ms\n",
      "2025-06-15T21:12:12.358 +02:00 -|- FastTransfer -|- 84267769-576f-4b01-b7ab-7d8d3b8b7c40 -|- INFORMATION -|- tpch_test.dbo.orders -|- Completed Load Query 7 for rowid between AAAS+UAANAAAJyAAAA and AAAS+UAANAAAOx/H// : 1264578 rows x 9 columns in 7238ms\n",
      "2025-06-15T21:12:12.382 +02:00 -|- FastTransfer -|- 84267769-576f-4b01-b7ab-7d8d3b8b7c40 -|- INFORMATION -|- tpch_test.dbo.orders -|- Completed Load Query 6 for rowid between AAAS+UAANAAAEyAAAA and AAAS+UAANAAAJx/H// : 1264695 rows x 9 columns in 7261ms\n",
      "2025-06-15T21:12:12.385 +02:00 -|- FastTransfer -|- 84267769-576f-4b01-b7ab-7d8d3b8b7c40 -|- INFORMATION -|- tpch_test.dbo.orders -|- Completed Load Query 8 for rowid between AAAS+UAANAAAOyAAAA and AAAS+UAANAAATx/H// : 1264803 rows x 9 columns in 7264ms\n",
      "2025-06-15T21:12:12.441 +02:00 -|- FastTransfer -|- 84267769-576f-4b01-b7ab-7d8d3b8b7c40 -|- INFORMATION -|- tpch_test.dbo.orders -|- Completed Load Query 10 for rowid between AAAS+UAANAAAYiAAAA and AAAS+UAANAAAdh/H// : 1264920 rows x 9 columns in 7320ms\n",
      "2025-06-15T21:12:13.720 +02:00 -|- FastTransfer -|- 84267769-576f-4b01-b7ab-7d8d3b8b7c40 -|- INFORMATION -|- tpch_test.dbo.orders -|- Completed Load Query 12 for rowid between AAAS+UAANAAAgyAAAA and AAAS+UAANAAAnSHH// : 1648378 rows x 9 columns in 8599ms\n",
      "2025-06-15T21:12:13.721 +02:00 -|- FastTransfer -|- 84267769-576f-4b01-b7ab-7d8d3b8b7c40 -|- INFORMATION -|- tpch_test.dbo.orders -|- Total rows : 15000000\n",
      "2025-06-15T21:12:13.721 +02:00 -|- FastTransfer -|- 84267769-576f-4b01-b7ab-7d8d3b8b7c40 -|- INFORMATION -|- tpch_test.dbo.orders -|- Total columns : 9\n",
      "2025-06-15T21:12:13.721 +02:00 -|- FastTransfer -|- 84267769-576f-4b01-b7ab-7d8d3b8b7c40 -|- INFORMATION -|- tpch_test.dbo.orders -|- Total cells : 135000000\n",
      "2025-06-15T21:12:13.721 +02:00 -|- FastTransfer -|- 84267769-576f-4b01-b7ab-7d8d3b8b7c40 -|- INFORMATION -|- tpch_test.dbo.orders -|- Rows Throughput : 1727598 rows/s\n",
      "2025-06-15T21:12:13.721 +02:00 -|- FastTransfer -|- 84267769-576f-4b01-b7ab-7d8d3b8b7c40 -|- INFORMATION -|- tpch_test.dbo.orders -|- Cells Throughput : 15548399 cells/s\n",
      "2025-06-15T21:12:13.721 +02:00 -|- FastTransfer -|- 84267769-576f-4b01-b7ab-7d8d3b8b7c40 -|- INFORMATION -|- tpch_test.dbo.orders -|- Transfert time : Elapsed=8682 ms\n",
      "2025-06-15T21:12:13.721 +02:00 -|- FastTransfer -|- 84267769-576f-4b01-b7ab-7d8d3b8b7c40 -|- INFORMATION -|- tpch_test.dbo.orders -|- Total time : Elapsed=9022 ms\n",
      "2025-06-15T21:12:13.721 +02:00 -|- FastTransfer -|- 84267769-576f-4b01-b7ab-7d8d3b8b7c40 -|- INFORMATION -|- tpch_test.dbo.orders -|- Completed Load\n"
     ]
    }
   ],
   "source": [
    "cd D:\\FastTransfer\\\n",
    "\n",
    ".\\FastTransfer.exe `\n",
    "    --sourceconnectiontype \"oraodp\" `\n",
    "    --sourceserver \"LOCALHOST:1521/ORCLPDB\" `\n",
    "    --sourcedatabase \"ORCLPDB\" `\n",
    "    --sourceuser \"TPCH_IN\" `\n",
    "    --sourcepassword \"TPCH_IN\" `\n",
    "    --sourceschema \"TPCH_IN\" `\n",
    "    --sourcetable \"ORDERS_FLAT\" `\n",
    "    --targetconnectiontype \"msbulk\" `\n",
    "    --targetserver \"localhost\" `\n",
    "    --targetdatabase \"tpch_test\" `\n",
    "    --targettrusted `\n",
    "    --targetschema \"dbo\" `\n",
    "    --targettable \"orders\" `\n",
    "    --method \"Rowid\" `\n",
    "    --loadmode \"Truncate\" `\n",
    "    --degree 12"
   ]
  }
 ],
 "metadata": {
  "kernelspec": {
   "display_name": ".NET (C#)",
   "language": "C#",
   "name": ".net-csharp"
  },
  "language_info": {
   "name": "python"
  },
  "polyglot_notebook": {
   "kernelInfo": {
    "defaultKernelName": "csharp",
    "items": [
     {
      "aliases": [],
      "name": "csharp"
     },
     {
      "aliases": [],
      "languageName": "T-SQL",
      "name": "sql-SS2022-FastWrappers-TSQL-DB"
     }
    ]
   }
  }
 },
 "nbformat": 4,
 "nbformat_minor": 5
}
