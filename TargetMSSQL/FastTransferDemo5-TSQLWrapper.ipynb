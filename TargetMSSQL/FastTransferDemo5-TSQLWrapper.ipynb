{
 "cells": [
  {
   "cell_type": "markdown",
   "id": "eaa594fd",
   "metadata": {},
   "source": [
    "\n",
    "```\n",
    "███████  █████  ███████ ████████ ████████ ██████   █████  ███    ██ ███████ ███████ ███████ ██████  \n",
    "██      ██   ██ ██         ██       ██    ██   ██ ██   ██ ████   ██ ██      ██      ██      ██   ██ \n",
    "█████   ███████ ███████    ██       ██    ██████  ███████ ██ ██  ██ ███████ █████   █████   ██████  \n",
    "██      ██   ██      ██    ██       ██    ██   ██ ██   ██ ██  ██ ██      ██ ██      ██      ██   ██ \n",
    "██      ██   ██ ███████    ██       ██    ██   ██ ██   ██ ██   ████ ███████ ██      ███████ ██   ██ \n",
    "                                                                                        "
   ]
  },
  {
   "cell_type": "markdown",
   "id": "9f4ce60e",
   "metadata": {
    "polyglot_notebook": {
     "kernelName": "csharp"
    }
   },
   "source": [
    "# Demo 5 - TSQL Wrapper"
   ]
  },
  {
   "cell_type": "code",
   "execution_count": 1,
   "id": "9f4ce60e",
   "metadata": {
    "polyglot_notebook": {
     "kernelName": "csharp"
    },
    "vscode": {
     "languageId": "polyglot-notebook"
    }
   },
   "outputs": [
    {
     "data": {
      "text/html": [
       "<div><div></div><div></div><div><strong>Installed Packages</strong><ul><li><span>Microsoft.DotNet.Interactive.SqlServer, 1.0.0-beta.25177.1</span></li></ul></div></div>"
      ]
     },
     "metadata": {},
     "output_type": "display_data"
    },
    {
     "data": {
      "text/plain": [
       "Loading extension script from `C:\\Users\\romai\\.nuget\\packages\\microsoft.dotnet.interactive.sqlserver\\1.0.0-beta.25177.1\\interactive-extensions\\dotnet\\extension.dib`"
      ]
     },
     "metadata": {},
     "output_type": "display_data"
    },
    {
     "data": {
      "text/html": [
       "<details><summary>Query Microsoft SQL Server databases.</summary>\r\n",
       "<p>This extension adds support for connecting to Microsoft SQL Server databases using the <code>#!connect mssql</code> magic command. For more information, run a cell using the <code>#!sql</code> magic command.</p>\r\n",
       "</details>"
      ]
     },
     "metadata": {},
     "output_type": "display_data"
    }
   ],
   "source": [
    "#r \"nuget:Microsoft.DotNet.Interactive.SqlServer, *-*\""
   ]
  },
  {
   "cell_type": "code",
   "execution_count": 2,
   "id": "d1056ec7",
   "metadata": {
    "polyglot_notebook": {
     "kernelName": "csharp"
    },
    "vscode": {
     "languageId": "polyglot-notebook"
    }
   },
   "outputs": [
    {
     "data": {
      "text/plain": [
       "Kernel added: #!sql-SS2022-FastWrappers-TSQL-DB"
      ]
     },
     "metadata": {},
     "output_type": "display_data"
    }
   ],
   "source": [
    "#!connect mssql --kernel-name SS2022-FastWrappers-TSQL-DB --connection-string \"Data Source=localhost;Initial Catalog=FastWrappers-TSQL;Integrated Security=True;Connect Timeout=120;Encrypt=True;Trust Server Certificate=True;Application Name=NoteBook;Application Intent=ReadWrite;Command Timeout=10800\""
   ]
  },
  {
   "cell_type": "markdown",
   "id": "ea3b3ddb",
   "metadata": {},
   "source": [
    "## Free and Open Source T-SQL (CLR) Wrapper"
   ]
  },
  {
   "cell_type": "markdown",
   "id": "6334908c",
   "metadata": {},
   "source": [
    "Get source here : https://github.com/aetperf/FastWrappers-TSQL"
   ]
  },
  {
   "cell_type": "markdown",
   "id": "55d58837",
   "metadata": {},
   "source": [
    "### Ideas behing the TSQL-wrapper for FastTransfer"
   ]
  },
  {
   "cell_type": "markdown",
   "id": "1a22b8ba",
   "metadata": {},
   "source": [
    "With the xp_RunFastTransfer_secure (a CLR procedure) you can **call FastTransfer from T-SQL**. This allow you to copy (or import) data into your sources without any drivers to install (Oracle, MSSQL, PostgreSQL, MySQL, Netezza, Teradata, ClikHouse, DuckDB (and by the way CSV, JSON, Parquet files)). "
   ]
  },
  {
   "cell_type": "markdown",
   "id": "4fc6a154",
   "metadata": {},
   "source": [
    "### Copy Data from MSSQL 2022 to MSSQL 2025 using xp_RunFastTransfer_secure"
   ]
  },
  {
   "cell_type": "markdown",
   "id": "a96f7601",
   "metadata": {},
   "source": [
    "First : To secure procedure call you will need to encode login/user password using a CLR function. For exemple :"
   ]
  },
  {
   "cell_type": "code",
   "execution_count": 4,
   "id": "fb13d4f8",
   "metadata": {
    "polyglot_notebook": {
     "kernelName": "sql-SS2022-FastWrappers-TSQL-DB"
    },
    "vscode": {
     "languageId": "polyglot-notebook"
    }
   },
   "outputs": [
    {
     "data": {
      "text/plain": [
       "(1 ligne affectée)"
      ]
     },
     "metadata": {},
     "output_type": "display_data"
    },
    {
     "data": {
      "text/csv": [
       "encodedPassword\r\n",
       "wi1/VHz9s+fp45186iLYYQ==\r\n"
      ],
      "text/html": [
       "<table><thead><tr><td><span>encodedPassword</span></td></tr></thead><tbody><tr><td>wi1/VHz9s+fp45186iLYYQ==</td></tr></tbody></table><style>\r\n",
       ".dni-code-hint {\r\n",
       "    font-style: italic;\r\n",
       "    overflow: hidden;\r\n",
       "    white-space: nowrap;\r\n",
       "}\r\n",
       ".dni-treeview {\r\n",
       "    white-space: nowrap;\r\n",
       "}\r\n",
       ".dni-treeview td {\r\n",
       "    vertical-align: top;\r\n",
       "    text-align: start;\r\n",
       "}\r\n",
       "details.dni-treeview {\r\n",
       "    padding-left: 1em;\r\n",
       "}\r\n",
       "table td {\r\n",
       "    text-align: start;\r\n",
       "}\r\n",
       "table tr { \r\n",
       "    vertical-align: top; \r\n",
       "    margin: 0em 0px;\r\n",
       "}\r\n",
       "table tr td pre \r\n",
       "{ \r\n",
       "    vertical-align: top !important; \r\n",
       "    margin: 0em 0px !important;\r\n",
       "} \r\n",
       "table th {\r\n",
       "    text-align: start;\r\n",
       "}\r\n",
       "</style>"
      ]
     },
     "metadata": {},
     "output_type": "display_data"
    }
   ],
   "source": [
    "Select [FastWrappers-TSQL].[dbo].[EncryptString]('FastPassword') as encodedPassword"
   ]
  },
  {
   "cell_type": "code",
   "execution_count": 5,
   "id": "e391c252",
   "metadata": {
    "polyglot_notebook": {
     "kernelName": "sql-SS2022-FastWrappers-TSQL-DB"
    },
    "vscode": {
     "languageId": "polyglot-notebook"
    }
   },
   "outputs": [
    {
     "data": {
      "text/plain": [
       "(1 ligne affectée)"
      ]
     },
     "metadata": {},
     "output_type": "display_data"
    },
    {
     "data": {
      "text/csv": [
       "targetdatabase,targetSchema,targetTable,TotalRows,TotalColumns,TotalCells,TotalTimeMs,Status,StdErr\r\n",
       "tpch_test,dbo,orders_3,15000000,10,150000000,12022,0,\r\n"
      ],
      "text/html": [
       "<table><thead><tr><td><span>targetdatabase</span></td><td><span>targetSchema</span></td><td><span>targetTable</span></td><td><span>TotalRows</span></td><td><span>TotalColumns</span></td><td><span>TotalCells</span></td><td><span>TotalTimeMs</span></td><td><span>Status</span></td><td><span>StdErr</span></td></tr></thead><tbody><tr><td>tpch_test</td><td>dbo</td><td>orders_3</td><td><div class=\"dni-plaintext\"><pre>15000000</pre></div></td><td><div class=\"dni-plaintext\"><pre>10</pre></div></td><td><div class=\"dni-plaintext\"><pre>150000000</pre></div></td><td><div class=\"dni-plaintext\"><pre>12022</pre></div></td><td><div class=\"dni-plaintext\"><pre>0</pre></div></td><td></td></tr></tbody></table><style>\r\n",
       ".dni-code-hint {\r\n",
       "    font-style: italic;\r\n",
       "    overflow: hidden;\r\n",
       "    white-space: nowrap;\r\n",
       "}\r\n",
       ".dni-treeview {\r\n",
       "    white-space: nowrap;\r\n",
       "}\r\n",
       ".dni-treeview td {\r\n",
       "    vertical-align: top;\r\n",
       "    text-align: start;\r\n",
       "}\r\n",
       "details.dni-treeview {\r\n",
       "    padding-left: 1em;\r\n",
       "}\r\n",
       "table td {\r\n",
       "    text-align: start;\r\n",
       "}\r\n",
       "table tr { \r\n",
       "    vertical-align: top; \r\n",
       "    margin: 0em 0px;\r\n",
       "}\r\n",
       "table tr td pre \r\n",
       "{ \r\n",
       "    vertical-align: top !important; \r\n",
       "    margin: 0em 0px !important;\r\n",
       "} \r\n",
       "table th {\r\n",
       "    text-align: start;\r\n",
       "}\r\n",
       "</style>"
      ]
     },
     "metadata": {},
     "output_type": "display_data"
    }
   ],
   "source": [
    "EXEC [FastWrappers-TSQL].dbo.xp_RunFastTransfer_secure\n",
    "\t@fastTransferDir = 'C:\\FastTransfer\\win-x64\\latest',\n",
    "    @sourceConnectionType = 'mssql',\n",
    "\t@sourceServer = 'localhost',\n",
    "\t@sourceUser = 'FastUser',\n",
    "\t@sourcePasswordSecure = 'wi1/VHz9s+fp45186iLYYQ==',\n",
    "\t@sourceDatabase = 'tpch_test',\n",
    "\t@sourceSchema = 'dbo',\n",
    "\t@sourceTable = 'orders',\n",
    "\t@targetConnectionType = 'msbulk',\n",
    "\t@targetServer = 'localhost\\SS2025',\n",
    "\t@targetUser = 'FastUser',\n",
    "\t@targetPasswordSecure = 'wi1/VHz9s+fp45186iLYYQ==',\n",
    "\t@targetDatabase = 'tpch_test',\n",
    "\t@targetSchema = 'dbo',\n",
    "\t@targetTable = 'orders_3',\n",
    "\t@loadmode = 'Truncate',\n",
    "\t@batchSize = 130000,\n",
    "\t@method = 'RangeId',\n",
    "\t@distributeKeyColumn = 'o_orderkey',\n",
    "\t@degree = 12,\n",
    "\t@mapmethod = 'Name',\n",
    "\t@runId = 'test_MSSQL_to_MSSQL_P12_RangeId'"
   ]
  },
  {
   "cell_type": "markdown",
   "id": "9bcfa0f9",
   "metadata": {
    "polyglot_notebook": {
     "kernelName": "sql-SS2022-FastWrappers-TSQL-DB"
    },
    "vscode": {
     "languageId": "polyglot-notebook"
    }
   },
   "source": [
    "### Copy Data from PGSQL To MSSQL using xp_RunFastTransfer_secure"
   ]
  },
  {
   "cell_type": "code",
   "execution_count": 9,
   "id": "1c5754a3",
   "metadata": {
    "polyglot_notebook": {
     "kernelName": "sql-SS2022-FastWrappers-TSQL-DB"
    },
    "vscode": {
     "languageId": "polyglot-notebook"
    }
   },
   "outputs": [
    {
     "data": {
      "text/plain": [
       "(1 ligne affectée)"
      ]
     },
     "metadata": {},
     "output_type": "display_data"
    },
    {
     "data": {
      "text/csv": [
       "targetdatabase,targetSchema,targetTable,TotalRows,TotalColumns,TotalCells,TotalTimeMs,Status,StdErr\r\n",
       "tpch_test,dbo,orders_3,15000000,9,135000000,8018,0,\r\n"
      ],
      "text/html": [
       "<table><thead><tr><td><span>targetdatabase</span></td><td><span>targetSchema</span></td><td><span>targetTable</span></td><td><span>TotalRows</span></td><td><span>TotalColumns</span></td><td><span>TotalCells</span></td><td><span>TotalTimeMs</span></td><td><span>Status</span></td><td><span>StdErr</span></td></tr></thead><tbody><tr><td>tpch_test</td><td>dbo</td><td>orders_3</td><td><div class=\"dni-plaintext\"><pre>15000000</pre></div></td><td><div class=\"dni-plaintext\"><pre>9</pre></div></td><td><div class=\"dni-plaintext\"><pre>135000000</pre></div></td><td><div class=\"dni-plaintext\"><pre>8018</pre></div></td><td><div class=\"dni-plaintext\"><pre>0</pre></div></td><td></td></tr></tbody></table><style>\r\n",
       ".dni-code-hint {\r\n",
       "    font-style: italic;\r\n",
       "    overflow: hidden;\r\n",
       "    white-space: nowrap;\r\n",
       "}\r\n",
       ".dni-treeview {\r\n",
       "    white-space: nowrap;\r\n",
       "}\r\n",
       ".dni-treeview td {\r\n",
       "    vertical-align: top;\r\n",
       "    text-align: start;\r\n",
       "}\r\n",
       "details.dni-treeview {\r\n",
       "    padding-left: 1em;\r\n",
       "}\r\n",
       "table td {\r\n",
       "    text-align: start;\r\n",
       "}\r\n",
       "table tr { \r\n",
       "    vertical-align: top; \r\n",
       "    margin: 0em 0px;\r\n",
       "}\r\n",
       "table tr td pre \r\n",
       "{ \r\n",
       "    vertical-align: top !important; \r\n",
       "    margin: 0em 0px !important;\r\n",
       "} \r\n",
       "table th {\r\n",
       "    text-align: start;\r\n",
       "}\r\n",
       "</style>"
      ]
     },
     "metadata": {},
     "output_type": "display_data"
    }
   ],
   "source": [
    "EXEC [FastWrappers-TSQL].dbo.xp_RunFastTransfer_secure\n",
    "\t@fastTransferDir = 'C:\\FastTransfer\\win-x64\\latest',\n",
    "    @sourceConnectionType = 'pgsql',\n",
    "\t@sourceServer = 'localhost:15432',\n",
    "\t@sourceUser = 'FastUser',\n",
    "\t@sourcePasswordSecure = 'wi1/VHz9s+fp45186iLYYQ==',\n",
    "\t@sourceDatabase = 'tpch',\n",
    "\t@sourceSchema = 'tpch_10',\n",
    "\t@sourceTable = 'orders',\n",
    "\t@targetConnectionType = 'msbulk',\n",
    "\t@targetServer = 'localhost\\SS2025',\n",
    "\t@targetUser = 'FastUser',\n",
    "\t@targetPasswordSecure = 'wi1/VHz9s+fp45186iLYYQ==',\n",
    "\t@targetDatabase = 'tpch_test',\n",
    "\t@targetSchema = 'dbo',\n",
    "\t@targetTable = 'orders_3',\n",
    "\t@loadmode = 'Truncate',\n",
    "\t@batchSize = 130000,\n",
    "\t@method = 'Ctid',\n",
    "\t@degree = 12,\n",
    "\t@mapmethod = 'Name',\n",
    "\t@runId = 'PG16_to_MSSQL_P12_Ctid_using_CLRPROC'"
   ]
  }
 ],
 "metadata": {
  "kernelspec": {
   "display_name": ".NET (C#)",
   "language": "C#",
   "name": ".net-csharp"
  },
  "language_info": {
   "name": "python"
  },
  "polyglot_notebook": {
   "kernelInfo": {
    "defaultKernelName": "csharp",
    "items": [
     {
      "aliases": [],
      "name": "csharp"
     }
    ]
   }
  }
 },
 "nbformat": 4,
 "nbformat_minor": 5
}
