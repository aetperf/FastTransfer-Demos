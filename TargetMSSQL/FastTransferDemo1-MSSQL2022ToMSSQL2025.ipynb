{
 "cells": [
  {
   "cell_type": "markdown",
   "id": "ed7e8fc1",
   "metadata": {
    "polyglot_notebook": {
     "kernelName": "pwsh"
    }
   },
   "source": [
    "```\n",
    "███████  █████  ███████ ████████ ████████ ██████   █████  ███    ██ ███████ ███████ ███████ ██████  \n",
    "██      ██   ██ ██         ██       ██    ██   ██ ██   ██ ████   ██ ██      ██      ██      ██   ██ \n",
    "█████   ███████ ███████    ██       ██    ██████  ███████ ██ ██  ██ ███████ █████   █████   ██████  \n",
    "██      ██   ██      ██    ██       ██    ██   ██ ██   ██ ██  ██ ██      ██ ██      ██      ██   ██ \n",
    "██      ██   ██ ███████    ██       ██    ██   ██ ██   ██ ██   ████ ███████ ██      ███████ ██   ██ "
   ]
  },
  {
   "cell_type": "markdown",
   "id": "e0a3df88",
   "metadata": {},
   "source": [
    "# Demo 1 : Copy From MSSQL 2022 to MSSQL 2025"
   ]
  },
  {
   "cell_type": "code",
   "execution_count": 1,
   "id": "f79f5dc1",
   "metadata": {
    "polyglot_notebook": {
     "kernelName": "csharp"
    }
   },
   "outputs": [
    {
     "data": {
      "text/html": [
       "<div><div></div><div></div><div><strong>Installed Packages</strong><ul><li><span>Microsoft.DotNet.Interactive.SqlServer, 1.0.0-beta.25323.1</span></li></ul></div></div>"
      ]
     },
     "metadata": {},
     "output_type": "display_data"
    },
    {
     "data": {
      "text/plain": [
       "Loading extension script from `C:\\Users\\romai\\.nuget\\packages\\microsoft.dotnet.interactive.sqlserver\\1.0.0-beta.25323.1\\interactive-extensions\\dotnet\\extension.dib`"
      ]
     },
     "metadata": {},
     "output_type": "display_data"
    },
    {
     "data": {
      "text/html": [
       "<details><summary>Query Microsoft SQL Server databases.</summary>\r\n",
       "<p>This extension adds support for connecting to Microsoft SQL Server databases using the <code>#!connect mssql</code> magic command. For more information, run a cell using the <code>#!sql</code> magic command.</p>\r\n",
       "</details>"
      ]
     },
     "metadata": {},
     "output_type": "display_data"
    }
   ],
   "source": [
    "#r \"nuget:Microsoft.DotNet.Interactive.SqlServer, *-*\""
   ]
  },
  {
   "cell_type": "markdown",
   "id": "8486177e",
   "metadata": {},
   "source": [
    "## Working on TPCH SF10 ORDERS (15M rows)"
   ]
  },
  {
   "cell_type": "markdown",
   "id": "c2950409",
   "metadata": {},
   "source": [
    "### MSSQL 2022 Instance to MSSQL 2025 Instance"
   ]
  },
  {
   "cell_type": "code",
   "execution_count": 2,
   "id": "a6099083",
   "metadata": {
    "polyglot_notebook": {
     "kernelName": "csharp"
    }
   },
   "outputs": [
    {
     "data": {
      "text/plain": [
       "Kernel added: #!sql-SS2025_tpch_test"
      ]
     },
     "metadata": {},
     "output_type": "display_data"
    }
   ],
   "source": [
    "#!connect mssql --kernel-name SS2025_tpch_test --connection-string \"Data Source=localhost\\SS2025;Initial Catalog=tpch_test;Integrated Security=True;Connect Timeout=120;Encrypt=True;Trust Server Certificate=True;Application Name=NoteBook;Application Intent=ReadWrite;Command Timeout=10800\""
   ]
  },
  {
   "cell_type": "markdown",
   "id": "9838fd82",
   "metadata": {},
   "source": [
    "#### Target orders_3 with a clustered ColumnStoreIndex"
   ]
  },
  {
   "cell_type": "code",
   "execution_count": 6,
   "id": "d1094a0b",
   "metadata": {
    "polyglot_notebook": {
     "kernelName": "sql-SS2025_tpch_test"
    }
   },
   "outputs": [
    {
     "data": {
      "text/plain": [
       "(1 ligne affectée)"
      ]
     },
     "metadata": {},
     "output_type": "display_data"
    },
    {
     "data": {
      "text/csv": [
       "count_target_table_rows\r\n",
       "0\r\n"
      ],
      "text/html": [
       "<table><thead><tr><td><span>count_target_table_rows</span></td></tr></thead><tbody><tr><td><div class=\"dni-plaintext\"><pre>0</pre></div></td></tr></tbody></table><style>\r\n",
       ".dni-code-hint {\r\n",
       "    font-style: italic;\r\n",
       "    overflow: hidden;\r\n",
       "    white-space: nowrap;\r\n",
       "}\r\n",
       ".dni-treeview {\r\n",
       "    white-space: nowrap;\r\n",
       "}\r\n",
       ".dni-treeview td {\r\n",
       "    vertical-align: top;\r\n",
       "    text-align: start;\r\n",
       "}\r\n",
       "details.dni-treeview {\r\n",
       "    padding-left: 1em;\r\n",
       "}\r\n",
       "table td {\r\n",
       "    text-align: start;\r\n",
       "}\r\n",
       "table tr { \r\n",
       "    vertical-align: top; \r\n",
       "    margin: 0em 0px;\r\n",
       "}\r\n",
       "table tr td pre \r\n",
       "{ \r\n",
       "    vertical-align: top !important; \r\n",
       "    margin: 0em 0px !important;\r\n",
       "} \r\n",
       "table th {\r\n",
       "    text-align: start;\r\n",
       "}\r\n",
       "</style>"
      ]
     },
     "metadata": {},
     "output_type": "display_data"
    }
   ],
   "source": [
    "TRUNCATE TABLE orders;\n",
    "SELECT count(*) count_target_table_rows from orders;"
   ]
  },
  {
   "cell_type": "markdown",
   "id": "7b0035af",
   "metadata": {},
   "source": [
    "The next cell is a powershell call of FastTransfer.exe. FastTransfer also exists in a Linux AMD64 and Linux ARM64 edition with the same arguments.\n",
    "\n",
    "You can notice the **negative degree of parallelism** : -2 ==> FastTransfer will take 1/2 of total number of cores of the host as the computed degree of parallelism.\n",
    "The method use to dispatch data in several channels/chunks is **Ntile**. A method that will spread data using a distribute key column and an homogeneous number of rows between channels/chunks"
   ]
  },
  {
   "cell_type": "code",
   "execution_count": 8,
   "id": "6f2f4100",
   "metadata": {
    "polyglot_notebook": {
     "kernelName": "pwsh"
    }
   },
   "outputs": [
    {
     "name": "stdout",
     "output_type": "stream",
     "text": [
      "2025-09-01T22:24:31.239 +02:00 -|- FastTransfer -|- MSS22_to_MSS25 -|- INFORMATION -|- tpch_test.dbo.orders -|- FastTransfer - running in trial mode – will expires on 2025‑09‑19 (17 day(s) left).\n",
      "2025-09-01T22:24:31.249 +02:00 -|- FastTransfer -|- MSS22_to_MSS25 -|- INFORMATION -|- tpch_test.dbo.orders -|- Starting\n",
      "2025-09-01T22:24:31.249 +02:00 -|- FastTransfer -|- MSS22_to_MSS25 -|- INFORMATION -|- tpch_test.dbo.orders -|- FastTransfer Version : 0.13.9.0 Architecture : X64 - Framework : .NET 8.0.19\n",
      "2025-09-01T22:24:31.249 +02:00 -|- FastTransfer -|- MSS22_to_MSS25 -|- INFORMATION -|- tpch_test.dbo.orders -|- OS : Microsoft Windows 10.0.26100\n",
      "2025-09-01T22:24:31.249 +02:00 -|- FastTransfer -|- MSS22_to_MSS25 -|- INFORMATION -|- tpch_test.dbo.orders -|- Process ID : 33020\n",
      "2025-09-01T22:24:31.249 +02:00 -|- FastTransfer -|- MSS22_to_MSS25 -|- INFORMATION -|- tpch_test.dbo.orders -|- Provided Run ID : MSS22_to_MSS25\n",
      "2025-09-01T22:24:31.250 +02:00 -|- FastTransfer -|- MSS22_to_MSS25 -|- INFORMATION -|- tpch_test.dbo.orders -|- Source Connection Type : mssql\n",
      "2025-09-01T22:24:31.250 +02:00 -|- FastTransfer -|- MSS22_to_MSS25 -|- INFORMATION -|- tpch_test.dbo.orders -|- Source SqlInstance : localhost\n",
      "2025-09-01T22:24:31.250 +02:00 -|- FastTransfer -|- MSS22_to_MSS25 -|- INFORMATION -|- tpch_test.dbo.orders -|- Source Database : tpch10_collation_bin2\n",
      "2025-09-01T22:24:31.250 +02:00 -|- FastTransfer -|- MSS22_to_MSS25 -|- INFORMATION -|- tpch_test.dbo.orders -|- Source Trusted Connection : True\n",
      "2025-09-01T22:24:31.250 +02:00 -|- FastTransfer -|- MSS22_to_MSS25 -|- INFORMATION -|- tpch_test.dbo.orders -|- Source Schema : dbo\n",
      "2025-09-01T22:24:31.250 +02:00 -|- FastTransfer -|- MSS22_to_MSS25 -|- INFORMATION -|- tpch_test.dbo.orders -|- Source Table : orders_15M\n",
      "2025-09-01T22:24:31.250 +02:00 -|- FastTransfer -|- MSS22_to_MSS25 -|- INFORMATION -|- tpch_test.dbo.orders -|- Target Type : msbulk\n",
      "2025-09-01T22:24:31.250 +02:00 -|- FastTransfer -|- MSS22_to_MSS25 -|- INFORMATION -|- tpch_test.dbo.orders -|- Target Server : localhost\\SS2025\n",
      "2025-09-01T22:24:31.250 +02:00 -|- FastTransfer -|- MSS22_to_MSS25 -|- INFORMATION -|- tpch_test.dbo.orders -|- Target Database : tpch_test\n",
      "2025-09-01T22:24:31.250 +02:00 -|- FastTransfer -|- MSS22_to_MSS25 -|- INFORMATION -|- tpch_test.dbo.orders -|- Target Schema : dbo\n",
      "2025-09-01T22:24:31.250 +02:00 -|- FastTransfer -|- MSS22_to_MSS25 -|- INFORMATION -|- tpch_test.dbo.orders -|- Target Table : orders\n",
      "2025-09-01T22:24:31.250 +02:00 -|- FastTransfer -|- MSS22_to_MSS25 -|- INFORMATION -|- tpch_test.dbo.orders -|- Target Trusted Connection : True\n",
      "2025-09-01T22:24:31.250 +02:00 -|- FastTransfer -|- MSS22_to_MSS25 -|- INFORMATION -|- tpch_test.dbo.orders -|- Columns Map Method : Name\n",
      "2025-09-01T22:24:31.250 +02:00 -|- FastTransfer -|- MSS22_to_MSS25 -|- INFORMATION -|- tpch_test.dbo.orders -|- Degree : -2\n",
      "2025-09-01T22:24:31.250 +02:00 -|- FastTransfer -|- MSS22_to_MSS25 -|- INFORMATION -|- tpch_test.dbo.orders -|- Distribute Method : Ntile\n",
      "2025-09-01T22:24:31.250 +02:00 -|- FastTransfer -|- MSS22_to_MSS25 -|- INFORMATION -|- tpch_test.dbo.orders -|- Distribute Column : o_orderkey\n",
      "2025-09-01T22:24:31.250 +02:00 -|- FastTransfer -|- MSS22_to_MSS25 -|- INFORMATION -|- tpch_test.dbo.orders -|- Bulkcopy Batch Size : 1048576\n",
      "2025-09-01T22:24:31.250 +02:00 -|- FastTransfer -|- MSS22_to_MSS25 -|- INFORMATION -|- tpch_test.dbo.orders -|- Load Mode : Truncate\n",
      "2025-09-01T22:24:31.250 +02:00 -|- FastTransfer -|- MSS22_to_MSS25 -|- INFORMATION -|- tpch_test.dbo.orders -|- Use Work Tables : False\n",
      "2025-09-01T22:24:31.251 +02:00 -|- FastTransfer -|- MSS22_to_MSS25 -|- INFORMATION -|- tpch_test.dbo.orders -|- Encoding used : Unicode (UTF-8) - 65001 - utf-8\n",
      "2025-09-01T22:24:31.268 +02:00 -|- FastTransfer -|- MSS22_to_MSS25 -|- INFORMATION -|- tpch_test.dbo.orders -|- Source Connection String : Data Source=localhost;Initial Catalog=tpch10_collation_bin2;Integrated Security=True;Connect Timeout=120;Encrypt=True;Trust Server Certificate=True;Application Name=FastTransfer;Application Intent=ReadOnly;Command Timeout=10800\n",
      "2025-09-01T22:24:31.268 +02:00 -|- FastTransfer -|- MSS22_to_MSS25 -|- INFORMATION -|- tpch_test.dbo.orders -|- Target Connection String : Data Source=localhost\\SS2025;Initial Catalog=tpch_test;Integrated Security=True;Connect Timeout=120;Encrypt=True;Trust Server Certificate=True;Application Name=FastTransfer;Application Intent=ReadWrite;Command Timeout=10800\n",
      "2025-09-01T22:24:31.268 +02:00 -|- FastTransfer -|- MSS22_to_MSS25 -|- INFORMATION -|- tpch_test.dbo.orders -|- Source Database Version : Microsoft SQL Server 2022 (RTM-CU20-GDR) (KB5063814) - 16.0.4210.1 (X64)  \tJul 11 2025 13:04:02  \tCopyright (C) 2022 Microsoft Corporation \tDeveloper Edition (64-bit) on Windows 10 Pro 10.0 <X64> (Build 26100: ) (Hypervisor) \n",
      "2025-09-01T22:24:31.268 +02:00 -|- FastTransfer -|- MSS22_to_MSS25 -|- INFORMATION -|- tpch_test.dbo.orders -|- Target Database Version : Microsoft SQL Server 2025 (CTP2.1) - 17.0.800.3 (X64)  \tJun 12 2025 14:47:57  \tCopyright (C) 2025 Microsoft Corporation \tEnterprise Developer Edition (64-bit) on Windows 10 Pro 10.0 <X64> (Build 26100: ) (Hypervisor) \n",
      "2025-09-01T22:24:31.275 +02:00 -|- FastTransfer -|- MSS22_to_MSS25 -|- INFORMATION -|- tpch_test.dbo.orders -|- Degree of parallelism was computed to 16 (=> 32\\2)\n",
      "2025-09-01T22:24:31.747 +02:00 -|- FastTransfer -|- MSS22_to_MSS25 -|- INFORMATION -|- tpch_test.dbo.orders -|- Ntile DataSegments Computation Completed in 471 ms\n",
      "2025-09-01T22:24:31.750 +02:00 -|- FastTransfer -|- MSS22_to_MSS25 -|- INFORMATION -|- tpch_test.dbo.orders -|- Start Loading Data using distribution method NTile\n",
      "2025-09-01T22:24:31.751 +02:00 -|- FastTransfer -|- MSS22_to_MSS25 -|- INFORMATION -|- tpch_test.dbo.orders -|- Table \"dbo\".\"orders\" has a Clustered Index. BulkCopy will use KeepNulls and UseInternalTransaction and avoid Tablock\n",
      "2025-09-01T22:24:31.751 +02:00 -|- FastTransfer -|- MSS22_to_MSS25 -|- INFORMATION -|- tpch_test.dbo.orders -|- BulkCopy to \"dbo\".\"orders\" with BatchSize = 1048576, Timeout = 3600\n",
      "2025-09-01T22:24:31.754 +02:00 -|- FastTransfer -|- MSS22_to_MSS25 -|- WARNING -|- tpch_test.dbo.orders -|- Only 9 out of 10 columns were mapped by name to the target table \"dbo\".\"orders\"\n",
      "2025-09-01T22:24:31.760 +02:00 -|- FastTransfer -|- MSS22_to_MSS25 -|- INFORMATION -|- tpch_test.dbo.orders -|- Start Loading Data using distribution method NTile\n",
      "2025-09-01T22:24:31.760 +02:00 -|- FastTransfer -|- MSS22_to_MSS25 -|- INFORMATION -|- tpch_test.dbo.orders -|- Table \"dbo\".\"orders\" has a Clustered Index. BulkCopy will use KeepNulls and UseInternalTransaction and avoid Tablock\n",
      "2025-09-01T22:24:31.760 +02:00 -|- FastTransfer -|- MSS22_to_MSS25 -|- INFORMATION -|- tpch_test.dbo.orders -|- BulkCopy to \"dbo\".\"orders\" with BatchSize = 1048576, Timeout = 3600\n",
      "2025-09-01T22:24:31.762 +02:00 -|- FastTransfer -|- MSS22_to_MSS25 -|- WARNING -|- tpch_test.dbo.orders -|- Only 9 out of 10 columns were mapped by name to the target table \"dbo\".\"orders\"\n",
      "2025-09-01T22:24:31.763 +02:00 -|- FastTransfer -|- MSS22_to_MSS25 -|- INFORMATION -|- tpch_test.dbo.orders -|- Start Loading Data using distribution method NTile\n",
      "2025-09-01T22:24:31.763 +02:00 -|- FastTransfer -|- MSS22_to_MSS25 -|- INFORMATION -|- tpch_test.dbo.orders -|- Table \"dbo\".\"orders\" has a Clustered Index. BulkCopy will use KeepNulls and UseInternalTransaction and avoid Tablock\n",
      "2025-09-01T22:24:31.763 +02:00 -|- FastTransfer -|- MSS22_to_MSS25 -|- INFORMATION -|- tpch_test.dbo.orders -|- BulkCopy to \"dbo\".\"orders\" with BatchSize = 1048576, Timeout = 3600\n",
      "2025-09-01T22:24:31.766 +02:00 -|- FastTransfer -|- MSS22_to_MSS25 -|- WARNING -|- tpch_test.dbo.orders -|- Only 9 out of 10 columns were mapped by name to the target table \"dbo\".\"orders\"\n",
      "2025-09-01T22:24:31.768 +02:00 -|- FastTransfer -|- MSS22_to_MSS25 -|- INFORMATION -|- tpch_test.dbo.orders -|- Start Loading Data using distribution method NTile\n",
      "2025-09-01T22:24:31.769 +02:00 -|- FastTransfer -|- MSS22_to_MSS25 -|- INFORMATION -|- tpch_test.dbo.orders -|- Table \"dbo\".\"orders\" has a Clustered Index. BulkCopy will use KeepNulls and UseInternalTransaction and avoid Tablock\n",
      "2025-09-01T22:24:31.769 +02:00 -|- FastTransfer -|- MSS22_to_MSS25 -|- INFORMATION -|- tpch_test.dbo.orders -|- BulkCopy to \"dbo\".\"orders\" with BatchSize = 1048576, Timeout = 3600\n",
      "2025-09-01T22:24:31.771 +02:00 -|- FastTransfer -|- MSS22_to_MSS25 -|- INFORMATION -|- tpch_test.dbo.orders -|- Start Loading Data using distribution method NTile\n",
      "2025-09-01T22:24:31.771 +02:00 -|- FastTransfer -|- MSS22_to_MSS25 -|- WARNING -|- tpch_test.dbo.orders -|- Only 9 out of 10 columns were mapped by name to the target table \"dbo\".\"orders\"\n",
      "2025-09-01T22:24:31.771 +02:00 -|- FastTransfer -|- MSS22_to_MSS25 -|- INFORMATION -|- tpch_test.dbo.orders -|- Table \"dbo\".\"orders\" has a Clustered Index. BulkCopy will use KeepNulls and UseInternalTransaction and avoid Tablock\n",
      "2025-09-01T22:24:31.771 +02:00 -|- FastTransfer -|- MSS22_to_MSS25 -|- INFORMATION -|- tpch_test.dbo.orders -|- BulkCopy to \"dbo\".\"orders\" with BatchSize = 1048576, Timeout = 3600\n",
      "2025-09-01T22:24:31.773 +02:00 -|- FastTransfer -|- MSS22_to_MSS25 -|- WARNING -|- tpch_test.dbo.orders -|- Only 9 out of 10 columns were mapped by name to the target table \"dbo\".\"orders\"\n",
      "2025-09-01T22:24:31.780 +02:00 -|- FastTransfer -|- MSS22_to_MSS25 -|- INFORMATION -|- tpch_test.dbo.orders -|- Start Loading Data using distribution method NTile\n",
      "2025-09-01T22:24:31.781 +02:00 -|- FastTransfer -|- MSS22_to_MSS25 -|- INFORMATION -|- tpch_test.dbo.orders -|- Table \"dbo\".\"orders\" has a Clustered Index. BulkCopy will use KeepNulls and UseInternalTransaction and avoid Tablock\n",
      "2025-09-01T22:24:31.781 +02:00 -|- FastTransfer -|- MSS22_to_MSS25 -|- INFORMATION -|- tpch_test.dbo.orders -|- BulkCopy to \"dbo\".\"orders\" with BatchSize = 1048576, Timeout = 3600\n",
      "2025-09-01T22:24:31.784 +02:00 -|- FastTransfer -|- MSS22_to_MSS25 -|- WARNING -|- tpch_test.dbo.orders -|- Only 9 out of 10 columns were mapped by name to the target table \"dbo\".\"orders\"\n",
      "2025-09-01T22:24:31.785 +02:00 -|- FastTransfer -|- MSS22_to_MSS25 -|- INFORMATION -|- tpch_test.dbo.orders -|- Start Loading Data using distribution method NTile\n",
      "2025-09-01T22:24:31.785 +02:00 -|- FastTransfer -|- MSS22_to_MSS25 -|- INFORMATION -|- tpch_test.dbo.orders -|- Table \"dbo\".\"orders\" has a Clustered Index. BulkCopy will use KeepNulls and UseInternalTransaction and avoid Tablock\n",
      "2025-09-01T22:24:31.785 +02:00 -|- FastTransfer -|- MSS22_to_MSS25 -|- INFORMATION -|- tpch_test.dbo.orders -|- BulkCopy to \"dbo\".\"orders\" with BatchSize = 1048576, Timeout = 3600\n",
      "2025-09-01T22:24:31.789 +02:00 -|- FastTransfer -|- MSS22_to_MSS25 -|- WARNING -|- tpch_test.dbo.orders -|- Only 9 out of 10 columns were mapped by name to the target table \"dbo\".\"orders\"\n",
      "2025-09-01T22:24:31.792 +02:00 -|- FastTransfer -|- MSS22_to_MSS25 -|- INFORMATION -|- tpch_test.dbo.orders -|- Start Loading Data using distribution method NTile\n",
      "2025-09-01T22:24:31.793 +02:00 -|- FastTransfer -|- MSS22_to_MSS25 -|- INFORMATION -|- tpch_test.dbo.orders -|- Table \"dbo\".\"orders\" has a Clustered Index. BulkCopy will use KeepNulls and UseInternalTransaction and avoid Tablock\n",
      "2025-09-01T22:24:31.793 +02:00 -|- FastTransfer -|- MSS22_to_MSS25 -|- INFORMATION -|- tpch_test.dbo.orders -|- BulkCopy to \"dbo\".\"orders\" with BatchSize = 1048576, Timeout = 3600\n",
      "2025-09-01T22:24:31.795 +02:00 -|- FastTransfer -|- MSS22_to_MSS25 -|- INFORMATION -|- tpch_test.dbo.orders -|- Start Loading Data using distribution method NTile\n",
      "2025-09-01T22:24:31.796 +02:00 -|- FastTransfer -|- MSS22_to_MSS25 -|- WARNING -|- tpch_test.dbo.orders -|- Only 9 out of 10 columns were mapped by name to the target table \"dbo\".\"orders\"\n",
      "2025-09-01T22:24:31.796 +02:00 -|- FastTransfer -|- MSS22_to_MSS25 -|- INFORMATION -|- tpch_test.dbo.orders -|- Table \"dbo\".\"orders\" has a Clustered Index. BulkCopy will use KeepNulls and UseInternalTransaction and avoid Tablock\n",
      "2025-09-01T22:24:31.796 +02:00 -|- FastTransfer -|- MSS22_to_MSS25 -|- INFORMATION -|- tpch_test.dbo.orders -|- BulkCopy to \"dbo\".\"orders\" with BatchSize = 1048576, Timeout = 3600\n",
      "2025-09-01T22:24:31.799 +02:00 -|- FastTransfer -|- MSS22_to_MSS25 -|- WARNING -|- tpch_test.dbo.orders -|- Only 9 out of 10 columns were mapped by name to the target table \"dbo\".\"orders\"\n",
      "2025-09-01T22:24:31.803 +02:00 -|- FastTransfer -|- MSS22_to_MSS25 -|- INFORMATION -|- tpch_test.dbo.orders -|- Start Loading Data using distribution method NTile\n",
      "2025-09-01T22:24:31.803 +02:00 -|- FastTransfer -|- MSS22_to_MSS25 -|- INFORMATION -|- tpch_test.dbo.orders -|- Table \"dbo\".\"orders\" has a Clustered Index. BulkCopy will use KeepNulls and UseInternalTransaction and avoid Tablock\n",
      "2025-09-01T22:24:31.804 +02:00 -|- FastTransfer -|- MSS22_to_MSS25 -|- INFORMATION -|- tpch_test.dbo.orders -|- BulkCopy to \"dbo\".\"orders\" with BatchSize = 1048576, Timeout = 3600\n",
      "2025-09-01T22:24:31.809 +02:00 -|- FastTransfer -|- MSS22_to_MSS25 -|- WARNING -|- tpch_test.dbo.orders -|- Only 9 out of 10 columns were mapped by name to the target table \"dbo\".\"orders\"\n",
      "2025-09-01T22:24:31.811 +02:00 -|- FastTransfer -|- MSS22_to_MSS25 -|- INFORMATION -|- tpch_test.dbo.orders -|- Start Loading Data using distribution method NTile\n",
      "2025-09-01T22:24:31.812 +02:00 -|- FastTransfer -|- MSS22_to_MSS25 -|- INFORMATION -|- tpch_test.dbo.orders -|- Table \"dbo\".\"orders\" has a Clustered Index. BulkCopy will use KeepNulls and UseInternalTransaction and avoid Tablock\n",
      "2025-09-01T22:24:31.812 +02:00 -|- FastTransfer -|- MSS22_to_MSS25 -|- INFORMATION -|- tpch_test.dbo.orders -|- BulkCopy to \"dbo\".\"orders\" with BatchSize = 1048576, Timeout = 3600\n",
      "2025-09-01T22:24:31.816 +02:00 -|- FastTransfer -|- MSS22_to_MSS25 -|- WARNING -|- tpch_test.dbo.orders -|- Only 9 out of 10 columns were mapped by name to the target table \"dbo\".\"orders\"\n",
      "2025-09-01T22:24:31.820 +02:00 -|- FastTransfer -|- MSS22_to_MSS25 -|- INFORMATION -|- tpch_test.dbo.orders -|- Start Loading Data using distribution method NTile\n",
      "2025-09-01T22:24:31.820 +02:00 -|- FastTransfer -|- MSS22_to_MSS25 -|- INFORMATION -|- tpch_test.dbo.orders -|- Table \"dbo\".\"orders\" has a Clustered Index. BulkCopy will use KeepNulls and UseInternalTransaction and avoid Tablock\n",
      "2025-09-01T22:24:31.820 +02:00 -|- FastTransfer -|- MSS22_to_MSS25 -|- INFORMATION -|- tpch_test.dbo.orders -|- BulkCopy to \"dbo\".\"orders\" with BatchSize = 1048576, Timeout = 3600\n",
      "2025-09-01T22:24:31.823 +02:00 -|- FastTransfer -|- MSS22_to_MSS25 -|- WARNING -|- tpch_test.dbo.orders -|- Only 9 out of 10 columns were mapped by name to the target table \"dbo\".\"orders\"\n",
      "2025-09-01T22:24:31.823 +02:00 -|- FastTransfer -|- MSS22_to_MSS25 -|- INFORMATION -|- tpch_test.dbo.orders -|- Start Loading Data using distribution method NTile\n",
      "2025-09-01T22:24:31.824 +02:00 -|- FastTransfer -|- MSS22_to_MSS25 -|- INFORMATION -|- tpch_test.dbo.orders -|- Table \"dbo\".\"orders\" has a Clustered Index. BulkCopy will use KeepNulls and UseInternalTransaction and avoid Tablock\n",
      "2025-09-01T22:24:31.824 +02:00 -|- FastTransfer -|- MSS22_to_MSS25 -|- INFORMATION -|- tpch_test.dbo.orders -|- BulkCopy to \"dbo\".\"orders\" with BatchSize = 1048576, Timeout = 3600\n",
      "2025-09-01T22:24:31.827 +02:00 -|- FastTransfer -|- MSS22_to_MSS25 -|- WARNING -|- tpch_test.dbo.orders -|- Only 9 out of 10 columns were mapped by name to the target table \"dbo\".\"orders\"\n",
      "2025-09-01T22:24:31.831 +02:00 -|- FastTransfer -|- MSS22_to_MSS25 -|- INFORMATION -|- tpch_test.dbo.orders -|- Start Loading Data using distribution method NTile\n",
      "2025-09-01T22:24:31.832 +02:00 -|- FastTransfer -|- MSS22_to_MSS25 -|- INFORMATION -|- tpch_test.dbo.orders -|- Table \"dbo\".\"orders\" has a Clustered Index. BulkCopy will use KeepNulls and UseInternalTransaction and avoid Tablock\n",
      "2025-09-01T22:24:31.832 +02:00 -|- FastTransfer -|- MSS22_to_MSS25 -|- INFORMATION -|- tpch_test.dbo.orders -|- BulkCopy to \"dbo\".\"orders\" with BatchSize = 1048576, Timeout = 3600\n",
      "2025-09-01T22:24:31.835 +02:00 -|- FastTransfer -|- MSS22_to_MSS25 -|- WARNING -|- tpch_test.dbo.orders -|- Only 9 out of 10 columns were mapped by name to the target table \"dbo\".\"orders\"\n",
      "2025-09-01T22:24:31.839 +02:00 -|- FastTransfer -|- MSS22_to_MSS25 -|- INFORMATION -|- tpch_test.dbo.orders -|- Start Loading Data using distribution method NTile\n",
      "2025-09-01T22:24:31.841 +02:00 -|- FastTransfer -|- MSS22_to_MSS25 -|- INFORMATION -|- tpch_test.dbo.orders -|- Table \"dbo\".\"orders\" has a Clustered Index. BulkCopy will use KeepNulls and UseInternalTransaction and avoid Tablock\n",
      "2025-09-01T22:24:31.841 +02:00 -|- FastTransfer -|- MSS22_to_MSS25 -|- INFORMATION -|- tpch_test.dbo.orders -|- BulkCopy to \"dbo\".\"orders\" with BatchSize = 1048576, Timeout = 3600\n",
      "2025-09-01T22:24:31.844 +02:00 -|- FastTransfer -|- MSS22_to_MSS25 -|- INFORMATION -|- tpch_test.dbo.orders -|- Start Loading Data using distribution method NTile\n",
      "2025-09-01T22:24:31.844 +02:00 -|- FastTransfer -|- MSS22_to_MSS25 -|- INFORMATION -|- tpch_test.dbo.orders -|- Table \"dbo\".\"orders\" has a Clustered Index. BulkCopy will use KeepNulls and UseInternalTransaction and avoid Tablock\n",
      "2025-09-01T22:24:31.844 +02:00 -|- FastTransfer -|- MSS22_to_MSS25 -|- WARNING -|- tpch_test.dbo.orders -|- Only 9 out of 10 columns were mapped by name to the target table \"dbo\".\"orders\"\n",
      "2025-09-01T22:24:31.844 +02:00 -|- FastTransfer -|- MSS22_to_MSS25 -|- INFORMATION -|- tpch_test.dbo.orders -|- BulkCopy to \"dbo\".\"orders\" with BatchSize = 1048576, Timeout = 3600\n",
      "2025-09-01T22:24:31.848 +02:00 -|- FastTransfer -|- MSS22_to_MSS25 -|- WARNING -|- tpch_test.dbo.orders -|- Only 9 out of 10 columns were mapped by name to the target table \"dbo\".\"orders\"\n",
      "2025-09-01T22:24:38.679 +02:00 -|- FastTransfer -|- MSS22_to_MSS25 -|- INFORMATION -|- tpch_test.dbo.orders -|- Completed Load Query 3 for o_orderkey between 12095556 and 16128901 : 937501 rows x 9 columns in 6929ms\n",
      "2025-09-01T22:24:38.690 +02:00 -|- FastTransfer -|- MSS22_to_MSS25 -|- INFORMATION -|- tpch_test.dbo.orders -|- Completed Load Query 2 for o_orderkey between 8063200 and 12095555 : 937501 rows x 9 columns in 6940ms\n",
      "2025-09-01T22:24:38.693 +02:00 -|- FastTransfer -|- MSS22_to_MSS25 -|- INFORMATION -|- tpch_test.dbo.orders -|- Completed Load Query 13 for o_orderkey between 52413184 and 56445281 : 937501 rows x 9 columns in 6942ms\n",
      "2025-09-01T22:24:38.703 +02:00 -|- FastTransfer -|- MSS22_to_MSS25 -|- INFORMATION -|- tpch_test.dbo.orders -|- Completed Load Query 11 for o_orderkey between 44350020 and 48381669 : 937501 rows x 9 columns in 6952ms\n",
      "2025-09-01T22:24:38.721 +02:00 -|- FastTransfer -|- MSS22_to_MSS25 -|- INFORMATION -|- tpch_test.dbo.orders -|- Completed Load Query 14 for o_orderkey between 56445282 and 66373955 : 937501 rows x 9 columns in 6970ms\n",
      "2025-09-01T22:24:38.731 +02:00 -|- FastTransfer -|- MSS22_to_MSS25 -|- INFORMATION -|- tpch_test.dbo.orders -|- Completed Load Query 5 for o_orderkey between 20160224 and 24192837 : 937501 rows x 9 columns in 6981ms\n",
      "2025-09-01T22:24:38.785 +02:00 -|- FastTransfer -|- MSS22_to_MSS25 -|- INFORMATION -|- tpch_test.dbo.orders -|- Completed Load Query 4 for o_orderkey between 16128902 and 20160199 : 937501 rows x 9 columns in 7035ms\n",
      "2025-09-01T22:24:38.792 +02:00 -|- FastTransfer -|- MSS22_to_MSS25 -|- INFORMATION -|- tpch_test.dbo.orders -|- Completed Load Query 8 for o_orderkey between 32255682 and 36288229 : 937501 rows x 9 columns in 7043ms\n",
      "2025-09-01T22:24:38.851 +02:00 -|- FastTransfer -|- MSS22_to_MSS25 -|- INFORMATION -|- tpch_test.dbo.orders -|- Completed Load Query 6 for o_orderkey between 24192838 and 28226534 : 937501 rows x 9 columns in 7101ms\n",
      "2025-09-01T22:24:38.975 +02:00 -|- FastTransfer -|- MSS22_to_MSS25 -|- INFORMATION -|- tpch_test.dbo.orders -|- Completed Load Query 1 for o_orderkey between 4030402 and 8063175 : 937501 rows x 9 columns in 7225ms\n",
      "2025-09-01T22:24:38.984 +02:00 -|- FastTransfer -|- MSS22_to_MSS25 -|- INFORMATION -|- tpch_test.dbo.orders -|- Completed Load Query 12 for o_orderkey between 48381670 and 52413159 : 937501 rows x 9 columns in 7234ms\n",
      "2025-09-01T22:24:38.994 +02:00 -|- FastTransfer -|- MSS22_to_MSS25 -|- INFORMATION -|- tpch_test.dbo.orders -|- Completed Load Query 9 for o_orderkey between 36288230 and 40319808 : 937501 rows x 9 columns in 7244ms\n",
      "2025-09-01T22:24:39.072 +02:00 -|- FastTransfer -|- MSS22_to_MSS25 -|- INFORMATION -|- tpch_test.dbo.orders -|- Completed Load Query 0 for o_orderkey between 1 and 4030401 : 937500 rows x 9 columns in 7323ms\n",
      "2025-09-01T22:24:39.374 +02:00 -|- FastTransfer -|- MSS22_to_MSS25 -|- INFORMATION -|- tpch_test.dbo.orders -|- Completed Load Query 15 for o_orderkey between 66374081 and 119999974 : 937486 rows x 9 columns in 7623ms\n",
      "2025-09-01T22:24:39.419 +02:00 -|- FastTransfer -|- MSS22_to_MSS25 -|- INFORMATION -|- tpch_test.dbo.orders -|- Completed Load Query 10 for o_orderkey between 40319809 and 44350019 : 937501 rows x 9 columns in 7668ms\n",
      "2025-09-01T22:24:39.445 +02:00 -|- FastTransfer -|- MSS22_to_MSS25 -|- INFORMATION -|- tpch_test.dbo.orders -|- Completed Load Query 7 for o_orderkey between 28226535 and 32255681 : 937501 rows x 9 columns in 7696ms\n",
      "2025-09-01T22:24:39.446 +02:00 -|- FastTransfer -|- MSS22_to_MSS25 -|- INFORMATION -|- tpch_test.dbo.orders -|- Total rows : 15000000\n",
      "2025-09-01T22:24:39.447 +02:00 -|- FastTransfer -|- MSS22_to_MSS25 -|- INFORMATION -|- tpch_test.dbo.orders -|- Total columns : 9\n",
      "2025-09-01T22:24:39.447 +02:00 -|- FastTransfer -|- MSS22_to_MSS25 -|- INFORMATION -|- tpch_test.dbo.orders -|- Total cells : 135000000\n",
      "2025-09-01T22:24:39.447 +02:00 -|- FastTransfer -|- MSS22_to_MSS25 -|- INFORMATION -|- tpch_test.dbo.orders -|- Rows Throughput : 1835740 rows/s\n",
      "2025-09-01T22:24:39.447 +02:00 -|- FastTransfer -|- MSS22_to_MSS25 -|- INFORMATION -|- tpch_test.dbo.orders -|- Cells Throughput : 16521677 cells/s\n",
      "2025-09-01T22:24:39.447 +02:00 -|- FastTransfer -|- MSS22_to_MSS25 -|- INFORMATION -|- tpch_test.dbo.orders -|- Transfert time : Elapsed=8171 ms\n",
      "2025-09-01T22:24:39.447 +02:00 -|- FastTransfer -|- MSS22_to_MSS25 -|- INFORMATION -|- tpch_test.dbo.orders -|- Total time : Elapsed=8415 ms\n",
      "2025-09-01T22:24:39.447 +02:00 -|- FastTransfer -|- MSS22_to_MSS25 -|- INFORMATION -|- tpch_test.dbo.orders -|- Completed Load\n"
     ]
    }
   ],
   "source": [
    "\n",
    "cd D:\\FastTransfer\n",
    "\n",
    ".\\FastTransfer.exe `\n",
    "--sourceconnectiontype \"mssql\" `\n",
    "--sourceserver \"localhost\" `\n",
    "--sourcedatabase \"tpch10_collation_bin2\" `\n",
    "--sourcetrusted `\n",
    "--sourceschema \"dbo\" `\n",
    "--sourcetable \"orders_15M\" `\n",
    "`\n",
    "--targetconnectiontype \"msbulk\" `\n",
    "--targetserver \"localhost\\SS2025\" `\n",
    "--targettrusted `\n",
    "--targetdatabase \"tpch_test\" `\n",
    "--targetschema \"dbo\" `\n",
    "--targettable \"orders\" `\n",
    "`\n",
    "--loadmode \"Truncate\" `\n",
    "--mapmethod \"Name\" `\n",
    "--method \"Ntile\" `\n",
    "--distributekeycolumn \"o_orderkey\" `\n",
    "--degree -2 `\n",
    "--runid \"MSS22_to_MSS25\""
   ]
  },
  {
   "cell_type": "code",
   "execution_count": 9,
   "id": "c2da48be",
   "metadata": {
    "polyglot_notebook": {
     "kernelName": "sql-SS2025_tpch_test"
    }
   },
   "outputs": [
    {
     "data": {
      "text/plain": [
       "(1 ligne affectée)"
      ]
     },
     "metadata": {},
     "output_type": "display_data"
    },
    {
     "data": {
      "text/csv": [
       "count_target_table_rows\r\n",
       "15,000,000\r\n"
      ],
      "text/html": [
       "<table><thead><tr><td><span>count_target_table_rows</span></td></tr></thead><tbody><tr><td>15,000,000</td></tr></tbody></table><style>\r\n",
       ".dni-code-hint {\r\n",
       "    font-style: italic;\r\n",
       "    overflow: hidden;\r\n",
       "    white-space: nowrap;\r\n",
       "}\r\n",
       ".dni-treeview {\r\n",
       "    white-space: nowrap;\r\n",
       "}\r\n",
       ".dni-treeview td {\r\n",
       "    vertical-align: top;\r\n",
       "    text-align: start;\r\n",
       "}\r\n",
       "details.dni-treeview {\r\n",
       "    padding-left: 1em;\r\n",
       "}\r\n",
       "table td {\r\n",
       "    text-align: start;\r\n",
       "}\r\n",
       "table tr { \r\n",
       "    vertical-align: top; \r\n",
       "    margin: 0em 0px;\r\n",
       "}\r\n",
       "table tr td pre \r\n",
       "{ \r\n",
       "    vertical-align: top !important; \r\n",
       "    margin: 0em 0px !important;\r\n",
       "} \r\n",
       "table th {\r\n",
       "    text-align: start;\r\n",
       "}\r\n",
       "</style>"
      ]
     },
     "metadata": {},
     "output_type": "display_data"
    }
   ],
   "source": [
    "SELECT FORMAT(count(*),'###,###,###') count_target_table_rows from orders;"
   ]
  },
  {
   "cell_type": "markdown",
   "id": "ce045f68",
   "metadata": {},
   "source": [
    "#### Target orders_4_no_index : Heap Table"
   ]
  },
  {
   "cell_type": "code",
   "execution_count": 11,
   "id": "0374251a",
   "metadata": {
    "polyglot_notebook": {
     "kernelName": "sql-SS2025_tpch_test"
    }
   },
   "outputs": [
    {
     "data": {
      "text/plain": [
       "(0 lignes affectées)"
      ]
     },
     "metadata": {},
     "output_type": "display_data"
    },
    {
     "data": {
      "text/plain": [
       "(1 ligne affectée)"
      ]
     },
     "metadata": {},
     "output_type": "display_data"
    },
    {
     "data": {
      "text/csv": [
       "count_orders_4_no_index\r\n",
       "\r\n"
      ],
      "text/html": [
       "<table><thead><tr><td><span>count_orders_4_no_index</span></td></tr></thead><tbody><tr><td></td></tr></tbody></table><style>\r\n",
       ".dni-code-hint {\r\n",
       "    font-style: italic;\r\n",
       "    overflow: hidden;\r\n",
       "    white-space: nowrap;\r\n",
       "}\r\n",
       ".dni-treeview {\r\n",
       "    white-space: nowrap;\r\n",
       "}\r\n",
       ".dni-treeview td {\r\n",
       "    vertical-align: top;\r\n",
       "    text-align: start;\r\n",
       "}\r\n",
       "details.dni-treeview {\r\n",
       "    padding-left: 1em;\r\n",
       "}\r\n",
       "table td {\r\n",
       "    text-align: start;\r\n",
       "}\r\n",
       "table tr { \r\n",
       "    vertical-align: top; \r\n",
       "    margin: 0em 0px;\r\n",
       "}\r\n",
       "table tr td pre \r\n",
       "{ \r\n",
       "    vertical-align: top !important; \r\n",
       "    margin: 0em 0px !important;\r\n",
       "} \r\n",
       "table th {\r\n",
       "    text-align: start;\r\n",
       "}\r\n",
       "</style>"
      ]
     },
     "metadata": {},
     "output_type": "display_data"
    }
   ],
   "source": [
    "DROP TABLE IF EXISTS orders_4_no_index;\n",
    "\n",
    "SELECT * \n",
    "INTO orders_4_no_index\n",
    "FROM orders\n",
    "WHERE 1=0;\n",
    "\n",
    "SELECT FORMAT(count(*),'###,###,###') count_orders_4_no_index from orders_4_no_index;"
   ]
  },
  {
   "cell_type": "code",
   "execution_count": 12,
   "id": "e594e80e",
   "metadata": {
    "polyglot_notebook": {
     "kernelName": "pwsh"
    }
   },
   "outputs": [
    {
     "name": "stdout",
     "output_type": "stream",
     "text": [
      "2025-09-01T22:26:31.996 +02:00 -|- FastTransfer -|- MSS22_to_MSS25 -|- INFORMATION -|- tpch_test.dbo.orders_4_no_index -|- FastTransfer - running in trial mode – will expires on 2025‑09‑19 (17 day(s) left).\n",
      "2025-09-01T22:26:32.010 +02:00 -|- FastTransfer -|- MSS22_to_MSS25 -|- INFORMATION -|- tpch_test.dbo.orders_4_no_index -|- Starting\n",
      "2025-09-01T22:26:32.010 +02:00 -|- FastTransfer -|- MSS22_to_MSS25 -|- INFORMATION -|- tpch_test.dbo.orders_4_no_index -|- FastTransfer Version : 0.13.9.0 Architecture : X64 - Framework : .NET 8.0.19\n",
      "2025-09-01T22:26:32.010 +02:00 -|- FastTransfer -|- MSS22_to_MSS25 -|- INFORMATION -|- tpch_test.dbo.orders_4_no_index -|- OS : Microsoft Windows 10.0.26100\n",
      "2025-09-01T22:26:32.010 +02:00 -|- FastTransfer -|- MSS22_to_MSS25 -|- INFORMATION -|- tpch_test.dbo.orders_4_no_index -|- Process ID : 48012\n",
      "2025-09-01T22:26:32.010 +02:00 -|- FastTransfer -|- MSS22_to_MSS25 -|- INFORMATION -|- tpch_test.dbo.orders_4_no_index -|- Provided Run ID : MSS22_to_MSS25\n",
      "2025-09-01T22:26:32.010 +02:00 -|- FastTransfer -|- MSS22_to_MSS25 -|- INFORMATION -|- tpch_test.dbo.orders_4_no_index -|- Source Connection Type : mssql\n",
      "2025-09-01T22:26:32.010 +02:00 -|- FastTransfer -|- MSS22_to_MSS25 -|- INFORMATION -|- tpch_test.dbo.orders_4_no_index -|- Source SqlInstance : localhost\n",
      "2025-09-01T22:26:32.011 +02:00 -|- FastTransfer -|- MSS22_to_MSS25 -|- INFORMATION -|- tpch_test.dbo.orders_4_no_index -|- Source Database : tpch10_collation_bin2\n",
      "2025-09-01T22:26:32.011 +02:00 -|- FastTransfer -|- MSS22_to_MSS25 -|- INFORMATION -|- tpch_test.dbo.orders_4_no_index -|- Source Trusted Connection : True\n",
      "2025-09-01T22:26:32.011 +02:00 -|- FastTransfer -|- MSS22_to_MSS25 -|- INFORMATION -|- tpch_test.dbo.orders_4_no_index -|- Source Schema : dbo\n",
      "2025-09-01T22:26:32.011 +02:00 -|- FastTransfer -|- MSS22_to_MSS25 -|- INFORMATION -|- tpch_test.dbo.orders_4_no_index -|- Source Table : orders_15M\n",
      "2025-09-01T22:26:32.011 +02:00 -|- FastTransfer -|- MSS22_to_MSS25 -|- INFORMATION -|- tpch_test.dbo.orders_4_no_index -|- Target Type : msbulk\n",
      "2025-09-01T22:26:32.011 +02:00 -|- FastTransfer -|- MSS22_to_MSS25 -|- INFORMATION -|- tpch_test.dbo.orders_4_no_index -|- Target Server : localhost\\SS2025\n",
      "2025-09-01T22:26:32.011 +02:00 -|- FastTransfer -|- MSS22_to_MSS25 -|- INFORMATION -|- tpch_test.dbo.orders_4_no_index -|- Target Database : tpch_test\n",
      "2025-09-01T22:26:32.011 +02:00 -|- FastTransfer -|- MSS22_to_MSS25 -|- INFORMATION -|- tpch_test.dbo.orders_4_no_index -|- Target Schema : dbo\n",
      "2025-09-01T22:26:32.011 +02:00 -|- FastTransfer -|- MSS22_to_MSS25 -|- INFORMATION -|- tpch_test.dbo.orders_4_no_index -|- Target Table : orders_4_no_index\n",
      "2025-09-01T22:26:32.011 +02:00 -|- FastTransfer -|- MSS22_to_MSS25 -|- INFORMATION -|- tpch_test.dbo.orders_4_no_index -|- Target Trusted Connection : True\n",
      "2025-09-01T22:26:32.011 +02:00 -|- FastTransfer -|- MSS22_to_MSS25 -|- INFORMATION -|- tpch_test.dbo.orders_4_no_index -|- Columns Map Method : Name\n",
      "2025-09-01T22:26:32.011 +02:00 -|- FastTransfer -|- MSS22_to_MSS25 -|- INFORMATION -|- tpch_test.dbo.orders_4_no_index -|- Degree : -2\n",
      "2025-09-01T22:26:32.011 +02:00 -|- FastTransfer -|- MSS22_to_MSS25 -|- INFORMATION -|- tpch_test.dbo.orders_4_no_index -|- Distribute Method : Ntile\n",
      "2025-09-01T22:26:32.011 +02:00 -|- FastTransfer -|- MSS22_to_MSS25 -|- INFORMATION -|- tpch_test.dbo.orders_4_no_index -|- Distribute Column : o_orderkey\n",
      "2025-09-01T22:26:32.011 +02:00 -|- FastTransfer -|- MSS22_to_MSS25 -|- INFORMATION -|- tpch_test.dbo.orders_4_no_index -|- Bulkcopy Batch Size : 1048576\n",
      "2025-09-01T22:26:32.011 +02:00 -|- FastTransfer -|- MSS22_to_MSS25 -|- INFORMATION -|- tpch_test.dbo.orders_4_no_index -|- Load Mode : Truncate\n",
      "2025-09-01T22:26:32.011 +02:00 -|- FastTransfer -|- MSS22_to_MSS25 -|- INFORMATION -|- tpch_test.dbo.orders_4_no_index -|- Use Work Tables : False\n",
      "2025-09-01T22:26:32.012 +02:00 -|- FastTransfer -|- MSS22_to_MSS25 -|- INFORMATION -|- tpch_test.dbo.orders_4_no_index -|- Encoding used : Unicode (UTF-8) - 65001 - utf-8\n",
      "2025-09-01T22:26:32.031 +02:00 -|- FastTransfer -|- MSS22_to_MSS25 -|- INFORMATION -|- tpch_test.dbo.orders_4_no_index -|- Source Connection String : Data Source=localhost;Initial Catalog=tpch10_collation_bin2;Integrated Security=True;Connect Timeout=120;Encrypt=True;Trust Server Certificate=True;Application Name=FastTransfer;Application Intent=ReadOnly;Command Timeout=10800\n",
      "2025-09-01T22:26:32.031 +02:00 -|- FastTransfer -|- MSS22_to_MSS25 -|- INFORMATION -|- tpch_test.dbo.orders_4_no_index -|- Target Connection String : Data Source=localhost\\SS2025;Initial Catalog=tpch_test;Integrated Security=True;Connect Timeout=120;Encrypt=True;Trust Server Certificate=True;Application Name=FastTransfer;Application Intent=ReadWrite;Command Timeout=10800\n",
      "2025-09-01T22:26:32.031 +02:00 -|- FastTransfer -|- MSS22_to_MSS25 -|- INFORMATION -|- tpch_test.dbo.orders_4_no_index -|- Source Database Version : Microsoft SQL Server 2022 (RTM-CU20-GDR) (KB5063814) - 16.0.4210.1 (X64)  \tJul 11 2025 13:04:02  \tCopyright (C) 2022 Microsoft Corporation \tDeveloper Edition (64-bit) on Windows 10 Pro 10.0 <X64> (Build 26100: ) (Hypervisor) \n",
      "2025-09-01T22:26:32.031 +02:00 -|- FastTransfer -|- MSS22_to_MSS25 -|- INFORMATION -|- tpch_test.dbo.orders_4_no_index -|- Target Database Version : Microsoft SQL Server 2025 (CTP2.1) - 17.0.800.3 (X64)  \tJun 12 2025 14:47:57  \tCopyright (C) 2025 Microsoft Corporation \tEnterprise Developer Edition (64-bit) on Windows 10 Pro 10.0 <X64> (Build 26100: ) (Hypervisor) \n",
      "2025-09-01T22:26:32.039 +02:00 -|- FastTransfer -|- MSS22_to_MSS25 -|- INFORMATION -|- tpch_test.dbo.orders_4_no_index -|- Degree of parallelism was computed to 16 (=> 32\\2)\n",
      "2025-09-01T22:26:32.567 +02:00 -|- FastTransfer -|- MSS22_to_MSS25 -|- INFORMATION -|- tpch_test.dbo.orders_4_no_index -|- Ntile DataSegments Computation Completed in 527 ms\n",
      "2025-09-01T22:26:32.570 +02:00 -|- FastTransfer -|- MSS22_to_MSS25 -|- INFORMATION -|- tpch_test.dbo.orders_4_no_index -|- Start Loading Data using distribution method NTile\n",
      "2025-09-01T22:26:32.578 +02:00 -|- FastTransfer -|- MSS22_to_MSS25 -|- INFORMATION -|- tpch_test.dbo.orders_4_no_index -|- Table \"dbo\".\"orders_4_no_index\" has no Clustered Index. BulkCopy will use KeepNulls and UseInternalTransaction and Tablock\n",
      "2025-09-01T22:26:32.579 +02:00 -|- FastTransfer -|- MSS22_to_MSS25 -|- INFORMATION -|- tpch_test.dbo.orders_4_no_index -|- BulkCopy to \"dbo\".\"orders_4_no_index\" with BatchSize = 1048576, Timeout = 3600\n",
      "2025-09-01T22:26:32.581 +02:00 -|- FastTransfer -|- MSS22_to_MSS25 -|- INFORMATION -|- tpch_test.dbo.orders_4_no_index -|- Start Loading Data using distribution method NTile\n",
      "2025-09-01T22:26:32.582 +02:00 -|- FastTransfer -|- MSS22_to_MSS25 -|- INFORMATION -|- tpch_test.dbo.orders_4_no_index -|- Table \"dbo\".\"orders_4_no_index\" has no Clustered Index. BulkCopy will use KeepNulls and UseInternalTransaction and Tablock\n",
      "2025-09-01T22:26:32.582 +02:00 -|- FastTransfer -|- MSS22_to_MSS25 -|- INFORMATION -|- tpch_test.dbo.orders_4_no_index -|- BulkCopy to \"dbo\".\"orders_4_no_index\" with BatchSize = 1048576, Timeout = 3600\n",
      "2025-09-01T22:26:32.583 +02:00 -|- FastTransfer -|- MSS22_to_MSS25 -|- INFORMATION -|- tpch_test.dbo.orders_4_no_index -|- Start Loading Data using distribution method NTile\n",
      "2025-09-01T22:26:32.583 +02:00 -|- FastTransfer -|- MSS22_to_MSS25 -|- INFORMATION -|- tpch_test.dbo.orders_4_no_index -|- Table \"dbo\".\"orders_4_no_index\" has no Clustered Index. BulkCopy will use KeepNulls and UseInternalTransaction and Tablock\n",
      "2025-09-01T22:26:32.583 +02:00 -|- FastTransfer -|- MSS22_to_MSS25 -|- INFORMATION -|- tpch_test.dbo.orders_4_no_index -|- BulkCopy to \"dbo\".\"orders_4_no_index\" with BatchSize = 1048576, Timeout = 3600\n",
      "2025-09-01T22:26:32.588 +02:00 -|- FastTransfer -|- MSS22_to_MSS25 -|- WARNING -|- tpch_test.dbo.orders_4_no_index -|- Only 9 out of 10 columns were mapped by name to the target table \"dbo\".\"orders_4_no_index\"\n",
      "2025-09-01T22:26:32.591 +02:00 -|- FastTransfer -|- MSS22_to_MSS25 -|- WARNING -|- tpch_test.dbo.orders_4_no_index -|- Only 9 out of 10 columns were mapped by name to the target table \"dbo\".\"orders_4_no_index\"\n",
      "2025-09-01T22:26:32.592 +02:00 -|- FastTransfer -|- MSS22_to_MSS25 -|- WARNING -|- tpch_test.dbo.orders_4_no_index -|- Only 9 out of 10 columns were mapped by name to the target table \"dbo\".\"orders_4_no_index\"\n",
      "2025-09-01T22:26:32.593 +02:00 -|- FastTransfer -|- MSS22_to_MSS25 -|- INFORMATION -|- tpch_test.dbo.orders_4_no_index -|- Start Loading Data using distribution method NTile\n",
      "2025-09-01T22:26:32.594 +02:00 -|- FastTransfer -|- MSS22_to_MSS25 -|- INFORMATION -|- tpch_test.dbo.orders_4_no_index -|- Table \"dbo\".\"orders_4_no_index\" has no Clustered Index. BulkCopy will use KeepNulls and UseInternalTransaction and Tablock\n",
      "2025-09-01T22:26:32.594 +02:00 -|- FastTransfer -|- MSS22_to_MSS25 -|- INFORMATION -|- tpch_test.dbo.orders_4_no_index -|- BulkCopy to \"dbo\".\"orders_4_no_index\" with BatchSize = 1048576, Timeout = 3600\n",
      "2025-09-01T22:26:32.595 +02:00 -|- FastTransfer -|- MSS22_to_MSS25 -|- WARNING -|- tpch_test.dbo.orders_4_no_index -|- Only 9 out of 10 columns were mapped by name to the target table \"dbo\".\"orders_4_no_index\"\n",
      "2025-09-01T22:26:32.596 +02:00 -|- FastTransfer -|- MSS22_to_MSS25 -|- INFORMATION -|- tpch_test.dbo.orders_4_no_index -|- Start Loading Data using distribution method NTile\n",
      "2025-09-01T22:26:32.596 +02:00 -|- FastTransfer -|- MSS22_to_MSS25 -|- INFORMATION -|- tpch_test.dbo.orders_4_no_index -|- Table \"dbo\".\"orders_4_no_index\" has no Clustered Index. BulkCopy will use KeepNulls and UseInternalTransaction and Tablock\n",
      "2025-09-01T22:26:32.596 +02:00 -|- FastTransfer -|- MSS22_to_MSS25 -|- INFORMATION -|- tpch_test.dbo.orders_4_no_index -|- BulkCopy to \"dbo\".\"orders_4_no_index\" with BatchSize = 1048576, Timeout = 3600\n",
      "2025-09-01T22:26:32.598 +02:00 -|- FastTransfer -|- MSS22_to_MSS25 -|- WARNING -|- tpch_test.dbo.orders_4_no_index -|- Only 9 out of 10 columns were mapped by name to the target table \"dbo\".\"orders_4_no_index\"\n",
      "2025-09-01T22:26:32.602 +02:00 -|- FastTransfer -|- MSS22_to_MSS25 -|- INFORMATION -|- tpch_test.dbo.orders_4_no_index -|- Start Loading Data using distribution method NTile\n",
      "2025-09-01T22:26:32.603 +02:00 -|- FastTransfer -|- MSS22_to_MSS25 -|- INFORMATION -|- tpch_test.dbo.orders_4_no_index -|- Table \"dbo\".\"orders_4_no_index\" has no Clustered Index. BulkCopy will use KeepNulls and UseInternalTransaction and Tablock\n",
      "2025-09-01T22:26:32.603 +02:00 -|- FastTransfer -|- MSS22_to_MSS25 -|- INFORMATION -|- tpch_test.dbo.orders_4_no_index -|- BulkCopy to \"dbo\".\"orders_4_no_index\" with BatchSize = 1048576, Timeout = 3600\n",
      "2025-09-01T22:26:32.604 +02:00 -|- FastTransfer -|- MSS22_to_MSS25 -|- WARNING -|- tpch_test.dbo.orders_4_no_index -|- Only 9 out of 10 columns were mapped by name to the target table \"dbo\".\"orders_4_no_index\"\n",
      "2025-09-01T22:26:32.605 +02:00 -|- FastTransfer -|- MSS22_to_MSS25 -|- INFORMATION -|- tpch_test.dbo.orders_4_no_index -|- Start Loading Data using distribution method NTile\n",
      "2025-09-01T22:26:32.605 +02:00 -|- FastTransfer -|- MSS22_to_MSS25 -|- INFORMATION -|- tpch_test.dbo.orders_4_no_index -|- Table \"dbo\".\"orders_4_no_index\" has no Clustered Index. BulkCopy will use KeepNulls and UseInternalTransaction and Tablock\n",
      "2025-09-01T22:26:32.605 +02:00 -|- FastTransfer -|- MSS22_to_MSS25 -|- INFORMATION -|- tpch_test.dbo.orders_4_no_index -|- BulkCopy to \"dbo\".\"orders_4_no_index\" with BatchSize = 1048576, Timeout = 3600\n",
      "2025-09-01T22:26:32.607 +02:00 -|- FastTransfer -|- MSS22_to_MSS25 -|- WARNING -|- tpch_test.dbo.orders_4_no_index -|- Only 9 out of 10 columns were mapped by name to the target table \"dbo\".\"orders_4_no_index\"\n",
      "2025-09-01T22:26:32.608 +02:00 -|- FastTransfer -|- MSS22_to_MSS25 -|- INFORMATION -|- tpch_test.dbo.orders_4_no_index -|- Start Loading Data using distribution method NTile\n",
      "2025-09-01T22:26:32.609 +02:00 -|- FastTransfer -|- MSS22_to_MSS25 -|- INFORMATION -|- tpch_test.dbo.orders_4_no_index -|- Table \"dbo\".\"orders_4_no_index\" has no Clustered Index. BulkCopy will use KeepNulls and UseInternalTransaction and Tablock\n",
      "2025-09-01T22:26:32.609 +02:00 -|- FastTransfer -|- MSS22_to_MSS25 -|- INFORMATION -|- tpch_test.dbo.orders_4_no_index -|- BulkCopy to \"dbo\".\"orders_4_no_index\" with BatchSize = 1048576, Timeout = 3600\n",
      "2025-09-01T22:26:32.611 +02:00 -|- FastTransfer -|- MSS22_to_MSS25 -|- WARNING -|- tpch_test.dbo.orders_4_no_index -|- Only 9 out of 10 columns were mapped by name to the target table \"dbo\".\"orders_4_no_index\"\n",
      "2025-09-01T22:26:32.616 +02:00 -|- FastTransfer -|- MSS22_to_MSS25 -|- INFORMATION -|- tpch_test.dbo.orders_4_no_index -|- Start Loading Data using distribution method NTile\n",
      "2025-09-01T22:26:32.617 +02:00 -|- FastTransfer -|- MSS22_to_MSS25 -|- INFORMATION -|- tpch_test.dbo.orders_4_no_index -|- Table \"dbo\".\"orders_4_no_index\" has no Clustered Index. BulkCopy will use KeepNulls and UseInternalTransaction and Tablock\n",
      "2025-09-01T22:26:32.617 +02:00 -|- FastTransfer -|- MSS22_to_MSS25 -|- INFORMATION -|- tpch_test.dbo.orders_4_no_index -|- BulkCopy to \"dbo\".\"orders_4_no_index\" with BatchSize = 1048576, Timeout = 3600\n",
      "2025-09-01T22:26:32.619 +02:00 -|- FastTransfer -|- MSS22_to_MSS25 -|- WARNING -|- tpch_test.dbo.orders_4_no_index -|- Only 9 out of 10 columns were mapped by name to the target table \"dbo\".\"orders_4_no_index\"\n",
      "2025-09-01T22:26:32.619 +02:00 -|- FastTransfer -|- MSS22_to_MSS25 -|- INFORMATION -|- tpch_test.dbo.orders_4_no_index -|- Start Loading Data using distribution method NTile\n",
      "2025-09-01T22:26:32.620 +02:00 -|- FastTransfer -|- MSS22_to_MSS25 -|- INFORMATION -|- tpch_test.dbo.orders_4_no_index -|- Table \"dbo\".\"orders_4_no_index\" has no Clustered Index. BulkCopy will use KeepNulls and UseInternalTransaction and Tablock\n",
      "2025-09-01T22:26:32.620 +02:00 -|- FastTransfer -|- MSS22_to_MSS25 -|- INFORMATION -|- tpch_test.dbo.orders_4_no_index -|- BulkCopy to \"dbo\".\"orders_4_no_index\" with BatchSize = 1048576, Timeout = 3600\n",
      "2025-09-01T22:26:32.622 +02:00 -|- FastTransfer -|- MSS22_to_MSS25 -|- WARNING -|- tpch_test.dbo.orders_4_no_index -|- Only 9 out of 10 columns were mapped by name to the target table \"dbo\".\"orders_4_no_index\"\n",
      "2025-09-01T22:26:32.629 +02:00 -|- FastTransfer -|- MSS22_to_MSS25 -|- INFORMATION -|- tpch_test.dbo.orders_4_no_index -|- Start Loading Data using distribution method NTile\n",
      "2025-09-01T22:26:32.630 +02:00 -|- FastTransfer -|- MSS22_to_MSS25 -|- INFORMATION -|- tpch_test.dbo.orders_4_no_index -|- Table \"dbo\".\"orders_4_no_index\" has no Clustered Index. BulkCopy will use KeepNulls and UseInternalTransaction and Tablock\n",
      "2025-09-01T22:26:32.630 +02:00 -|- FastTransfer -|- MSS22_to_MSS25 -|- INFORMATION -|- tpch_test.dbo.orders_4_no_index -|- BulkCopy to \"dbo\".\"orders_4_no_index\" with BatchSize = 1048576, Timeout = 3600\n",
      "2025-09-01T22:26:32.631 +02:00 -|- FastTransfer -|- MSS22_to_MSS25 -|- WARNING -|- tpch_test.dbo.orders_4_no_index -|- Only 9 out of 10 columns were mapped by name to the target table \"dbo\".\"orders_4_no_index\"\n",
      "2025-09-01T22:26:32.633 +02:00 -|- FastTransfer -|- MSS22_to_MSS25 -|- INFORMATION -|- tpch_test.dbo.orders_4_no_index -|- Start Loading Data using distribution method NTile\n",
      "2025-09-01T22:26:32.633 +02:00 -|- FastTransfer -|- MSS22_to_MSS25 -|- INFORMATION -|- tpch_test.dbo.orders_4_no_index -|- Table \"dbo\".\"orders_4_no_index\" has no Clustered Index. BulkCopy will use KeepNulls and UseInternalTransaction and Tablock\n",
      "2025-09-01T22:26:32.634 +02:00 -|- FastTransfer -|- MSS22_to_MSS25 -|- INFORMATION -|- tpch_test.dbo.orders_4_no_index -|- BulkCopy to \"dbo\".\"orders_4_no_index\" with BatchSize = 1048576, Timeout = 3600\n",
      "2025-09-01T22:26:32.641 +02:00 -|- FastTransfer -|- MSS22_to_MSS25 -|- WARNING -|- tpch_test.dbo.orders_4_no_index -|- Only 9 out of 10 columns were mapped by name to the target table \"dbo\".\"orders_4_no_index\"\n",
      "2025-09-01T22:26:32.642 +02:00 -|- FastTransfer -|- MSS22_to_MSS25 -|- INFORMATION -|- tpch_test.dbo.orders_4_no_index -|- Start Loading Data using distribution method NTile\n",
      "2025-09-01T22:26:32.643 +02:00 -|- FastTransfer -|- MSS22_to_MSS25 -|- INFORMATION -|- tpch_test.dbo.orders_4_no_index -|- Table \"dbo\".\"orders_4_no_index\" has no Clustered Index. BulkCopy will use KeepNulls and UseInternalTransaction and Tablock\n",
      "2025-09-01T22:26:32.643 +02:00 -|- FastTransfer -|- MSS22_to_MSS25 -|- INFORMATION -|- tpch_test.dbo.orders_4_no_index -|- BulkCopy to \"dbo\".\"orders_4_no_index\" with BatchSize = 1048576, Timeout = 3600\n",
      "2025-09-01T22:26:32.644 +02:00 -|- FastTransfer -|- MSS22_to_MSS25 -|- WARNING -|- tpch_test.dbo.orders_4_no_index -|- Only 9 out of 10 columns were mapped by name to the target table \"dbo\".\"orders_4_no_index\"\n",
      "2025-09-01T22:26:32.651 +02:00 -|- FastTransfer -|- MSS22_to_MSS25 -|- INFORMATION -|- tpch_test.dbo.orders_4_no_index -|- Start Loading Data using distribution method NTile\n",
      "2025-09-01T22:26:32.652 +02:00 -|- FastTransfer -|- MSS22_to_MSS25 -|- INFORMATION -|- tpch_test.dbo.orders_4_no_index -|- Table \"dbo\".\"orders_4_no_index\" has no Clustered Index. BulkCopy will use KeepNulls and UseInternalTransaction and Tablock\n",
      "2025-09-01T22:26:32.652 +02:00 -|- FastTransfer -|- MSS22_to_MSS25 -|- INFORMATION -|- tpch_test.dbo.orders_4_no_index -|- BulkCopy to \"dbo\".\"orders_4_no_index\" with BatchSize = 1048576, Timeout = 3600\n",
      "2025-09-01T22:26:32.653 +02:00 -|- FastTransfer -|- MSS22_to_MSS25 -|- WARNING -|- tpch_test.dbo.orders_4_no_index -|- Only 9 out of 10 columns were mapped by name to the target table \"dbo\".\"orders_4_no_index\"\n",
      "2025-09-01T22:26:32.655 +02:00 -|- FastTransfer -|- MSS22_to_MSS25 -|- INFORMATION -|- tpch_test.dbo.orders_4_no_index -|- Start Loading Data using distribution method NTile\n",
      "2025-09-01T22:26:32.656 +02:00 -|- FastTransfer -|- MSS22_to_MSS25 -|- INFORMATION -|- tpch_test.dbo.orders_4_no_index -|- Table \"dbo\".\"orders_4_no_index\" has no Clustered Index. BulkCopy will use KeepNulls and UseInternalTransaction and Tablock\n",
      "2025-09-01T22:26:32.656 +02:00 -|- FastTransfer -|- MSS22_to_MSS25 -|- INFORMATION -|- tpch_test.dbo.orders_4_no_index -|- BulkCopy to \"dbo\".\"orders_4_no_index\" with BatchSize = 1048576, Timeout = 3600\n",
      "2025-09-01T22:26:32.657 +02:00 -|- FastTransfer -|- MSS22_to_MSS25 -|- WARNING -|- tpch_test.dbo.orders_4_no_index -|- Only 9 out of 10 columns were mapped by name to the target table \"dbo\".\"orders_4_no_index\"\n",
      "2025-09-01T22:26:32.666 +02:00 -|- FastTransfer -|- MSS22_to_MSS25 -|- INFORMATION -|- tpch_test.dbo.orders_4_no_index -|- Start Loading Data using distribution method NTile\n",
      "2025-09-01T22:26:32.666 +02:00 -|- FastTransfer -|- MSS22_to_MSS25 -|- INFORMATION -|- tpch_test.dbo.orders_4_no_index -|- Table \"dbo\".\"orders_4_no_index\" has no Clustered Index. BulkCopy will use KeepNulls and UseInternalTransaction and Tablock\n",
      "2025-09-01T22:26:32.667 +02:00 -|- FastTransfer -|- MSS22_to_MSS25 -|- INFORMATION -|- tpch_test.dbo.orders_4_no_index -|- BulkCopy to \"dbo\".\"orders_4_no_index\" with BatchSize = 1048576, Timeout = 3600\n",
      "2025-09-01T22:26:32.670 +02:00 -|- FastTransfer -|- MSS22_to_MSS25 -|- WARNING -|- tpch_test.dbo.orders_4_no_index -|- Only 9 out of 10 columns were mapped by name to the target table \"dbo\".\"orders_4_no_index\"\n",
      "2025-09-01T22:26:36.717 +02:00 -|- FastTransfer -|- MSS22_to_MSS25 -|- INFORMATION -|- tpch_test.dbo.orders_4_no_index -|- Completed Load Query 2 for o_orderkey between 8063200 and 12095555 : 937501 rows x 9 columns in 4147ms\n",
      "2025-09-01T22:26:36.725 +02:00 -|- FastTransfer -|- MSS22_to_MSS25 -|- INFORMATION -|- tpch_test.dbo.orders_4_no_index -|- Completed Load Query 11 for o_orderkey between 44350020 and 48381669 : 937501 rows x 9 columns in 4154ms\n",
      "2025-09-01T22:26:36.735 +02:00 -|- FastTransfer -|- MSS22_to_MSS25 -|- INFORMATION -|- tpch_test.dbo.orders_4_no_index -|- Completed Load Query 12 for o_orderkey between 48381670 and 52413159 : 937501 rows x 9 columns in 4164ms\n",
      "2025-09-01T22:26:36.764 +02:00 -|- FastTransfer -|- MSS22_to_MSS25 -|- INFORMATION -|- tpch_test.dbo.orders_4_no_index -|- Completed Load Query 0 for o_orderkey between 1 and 4030401 : 937500 rows x 9 columns in 4195ms\n",
      "2025-09-01T22:26:36.780 +02:00 -|- FastTransfer -|- MSS22_to_MSS25 -|- INFORMATION -|- tpch_test.dbo.orders_4_no_index -|- Completed Load Query 13 for o_orderkey between 52413184 and 56445281 : 937501 rows x 9 columns in 4208ms\n",
      "2025-09-01T22:26:36.794 +02:00 -|- FastTransfer -|- MSS22_to_MSS25 -|- INFORMATION -|- tpch_test.dbo.orders_4_no_index -|- Completed Load Query 1 for o_orderkey between 4030402 and 8063175 : 937501 rows x 9 columns in 4224ms\n",
      "2025-09-01T22:26:36.794 +02:00 -|- FastTransfer -|- MSS22_to_MSS25 -|- INFORMATION -|- tpch_test.dbo.orders_4_no_index -|- Completed Load Query 14 for o_orderkey between 56445282 and 66373955 : 937501 rows x 9 columns in 4222ms\n",
      "2025-09-01T22:26:36.857 +02:00 -|- FastTransfer -|- MSS22_to_MSS25 -|- INFORMATION -|- tpch_test.dbo.orders_4_no_index -|- Completed Load Query 6 for o_orderkey between 24192838 and 28226534 : 937501 rows x 9 columns in 4287ms\n",
      "2025-09-01T22:26:36.857 +02:00 -|- FastTransfer -|- MSS22_to_MSS25 -|- INFORMATION -|- tpch_test.dbo.orders_4_no_index -|- Completed Load Query 10 for o_orderkey between 40319809 and 44350019 : 937501 rows x 9 columns in 4286ms\n",
      "2025-09-01T22:26:36.885 +02:00 -|- FastTransfer -|- MSS22_to_MSS25 -|- INFORMATION -|- tpch_test.dbo.orders_4_no_index -|- Completed Load Query 8 for o_orderkey between 32255682 and 36288229 : 937501 rows x 9 columns in 4314ms\n",
      "2025-09-01T22:26:36.917 +02:00 -|- FastTransfer -|- MSS22_to_MSS25 -|- INFORMATION -|- tpch_test.dbo.orders_4_no_index -|- Completed Load Query 9 for o_orderkey between 36288230 and 40319808 : 937501 rows x 9 columns in 4346ms\n",
      "2025-09-01T22:26:36.957 +02:00 -|- FastTransfer -|- MSS22_to_MSS25 -|- INFORMATION -|- tpch_test.dbo.orders_4_no_index -|- Completed Load Query 4 for o_orderkey between 16128902 and 20160199 : 937501 rows x 9 columns in 4388ms\n",
      "2025-09-01T22:26:36.985 +02:00 -|- FastTransfer -|- MSS22_to_MSS25 -|- INFORMATION -|- tpch_test.dbo.orders_4_no_index -|- Completed Load Query 15 for o_orderkey between 66374081 and 119999974 : 937486 rows x 9 columns in 4413ms\n",
      "2025-09-01T22:26:36.985 +02:00 -|- FastTransfer -|- MSS22_to_MSS25 -|- INFORMATION -|- tpch_test.dbo.orders_4_no_index -|- Completed Load Query 3 for o_orderkey between 12095556 and 16128901 : 937501 rows x 9 columns in 4416ms\n",
      "2025-09-01T22:26:37.159 +02:00 -|- FastTransfer -|- MSS22_to_MSS25 -|- INFORMATION -|- tpch_test.dbo.orders_4_no_index -|- Completed Load Query 7 for o_orderkey between 28226535 and 32255681 : 937501 rows x 9 columns in 4589ms\n",
      "2025-09-01T22:26:37.173 +02:00 -|- FastTransfer -|- MSS22_to_MSS25 -|- INFORMATION -|- tpch_test.dbo.orders_4_no_index -|- Completed Load Query 5 for o_orderkey between 20160224 and 24192837 : 937501 rows x 9 columns in 4603ms\n",
      "2025-09-01T22:26:37.174 +02:00 -|- FastTransfer -|- MSS22_to_MSS25 -|- INFORMATION -|- tpch_test.dbo.orders_4_no_index -|- Total rows : 15000000\n",
      "2025-09-01T22:26:37.174 +02:00 -|- FastTransfer -|- MSS22_to_MSS25 -|- INFORMATION -|- tpch_test.dbo.orders_4_no_index -|- Total columns : 9\n",
      "2025-09-01T22:26:37.174 +02:00 -|- FastTransfer -|- MSS22_to_MSS25 -|- INFORMATION -|- tpch_test.dbo.orders_4_no_index -|- Total cells : 135000000\n",
      "2025-09-01T22:26:37.174 +02:00 -|- FastTransfer -|- MSS22_to_MSS25 -|- INFORMATION -|- tpch_test.dbo.orders_4_no_index -|- Rows Throughput : 2921292 rows/s\n",
      "2025-09-01T22:26:37.174 +02:00 -|- FastTransfer -|- MSS22_to_MSS25 -|- INFORMATION -|- tpch_test.dbo.orders_4_no_index -|- Cells Throughput : 26291659 cells/s\n",
      "2025-09-01T22:26:37.174 +02:00 -|- FastTransfer -|- MSS22_to_MSS25 -|- INFORMATION -|- tpch_test.dbo.orders_4_no_index -|- Transfert time : Elapsed=5134 ms\n",
      "2025-09-01T22:26:37.174 +02:00 -|- FastTransfer -|- MSS22_to_MSS25 -|- INFORMATION -|- tpch_test.dbo.orders_4_no_index -|- Total time : Elapsed=5365 ms\n",
      "2025-09-01T22:26:37.174 +02:00 -|- FastTransfer -|- MSS22_to_MSS25 -|- INFORMATION -|- tpch_test.dbo.orders_4_no_index -|- Completed Load\n"
     ]
    }
   ],
   "source": [
    "\n",
    "cd D:\\FastTransfer\n",
    "\n",
    ".\\FastTransfer.exe `\n",
    "--sourceconnectiontype \"mssql\" `\n",
    "--sourceserver \"localhost\" `\n",
    "--sourcedatabase \"tpch10_collation_bin2\" `\n",
    "--sourcetrusted `\n",
    "--sourceschema \"dbo\" `\n",
    "--sourcetable \"orders_15M\" `\n",
    "`\n",
    "--targetconnectiontype \"msbulk\" `\n",
    "--targetserver \"localhost\\SS2025\" `\n",
    "--targettrusted `\n",
    "--targetdatabase \"tpch_test\" `\n",
    "--targetschema \"dbo\" `\n",
    "--targettable \"orders_4_no_index\" `\n",
    "`\n",
    "--loadmode \"Truncate\" `\n",
    "--mapmethod \"Name\" `\n",
    "--method \"Ntile\" `\n",
    "--distributekeycolumn \"o_orderkey\" `\n",
    "--degree -2 `\n",
    "--runid \"MSS22_to_MSS25\""
   ]
  },
  {
   "cell_type": "code",
   "execution_count": null,
   "id": "5144fced",
   "metadata": {
    "polyglot_notebook": {
     "kernelName": "sql-SS2025_tpch_test"
    }
   },
   "outputs": [
    {
     "data": {
      "text/plain": [
       "(1 ligne affectée)"
      ]
     },
     "metadata": {},
     "output_type": "display_data"
    },
    {
     "data": {
      "text/csv": [
       "count_orders_4_no_index\r\n",
       "15,000,000\r\n"
      ],
      "text/html": [
       "<table><thead><tr><td><span>count_orders_4_no_index</span></td></tr></thead><tbody><tr><td>15,000,000</td></tr></tbody></table><style>\r\n",
       ".dni-code-hint {\r\n",
       "    font-style: italic;\r\n",
       "    overflow: hidden;\r\n",
       "    white-space: nowrap;\r\n",
       "}\r\n",
       ".dni-treeview {\r\n",
       "    white-space: nowrap;\r\n",
       "}\r\n",
       ".dni-treeview td {\r\n",
       "    vertical-align: top;\r\n",
       "    text-align: start;\r\n",
       "}\r\n",
       "details.dni-treeview {\r\n",
       "    padding-left: 1em;\r\n",
       "}\r\n",
       "table td {\r\n",
       "    text-align: start;\r\n",
       "}\r\n",
       "table tr { \r\n",
       "    vertical-align: top; \r\n",
       "    margin: 0em 0px;\r\n",
       "}\r\n",
       "table tr td pre \r\n",
       "{ \r\n",
       "    vertical-align: top !important; \r\n",
       "    margin: 0em 0px !important;\r\n",
       "} \r\n",
       "table th {\r\n",
       "    text-align: start;\r\n",
       "}\r\n",
       "</style>"
      ]
     },
     "metadata": {},
     "output_type": "display_data"
    }
   ],
   "source": [
    "\n",
    "SELECT FORMAT(count(*),'###,###,###') count_orders_4_no_index from orders_4_no_index;"
   ]
  },
  {
   "cell_type": "code",
   "execution_count": 13,
   "id": "b9ef8968",
   "metadata": {
    "polyglot_notebook": {
     "kernelName": "sql-SS2025_tpch_test"
    }
   },
   "outputs": [
    {
     "data": {
      "text/plain": [
       "(5 lignes affectées)"
      ]
     },
     "metadata": {},
     "output_type": "display_data"
    },
    {
     "data": {
      "text/csv": [
       "o_orderkey,o_custkey,o_orderstatus,o_totalprice,o_orderdate,o_orderpriority,o_clerk,o_shippriority,o_comment,ct\r\n",
       "27838881,340615,F,309235.37,1995-01-23T00:00:00.0000000,\"4-NOT SPECIFIED\",Clerk#000000730,0,\"ironic asymptotes are fluffily special accounts. blithely f\",\r\n",
       "27838945,197609,F,125214.60,1992-12-06T00:00:00.0000000,\"4-NOT SPECIFIED\",Clerk#000000634,0,\"blithely unusual depos\",\r\n",
       "27838947,168086,F,35038.63,1994-03-27T00:00:00.0000000,\"4-NOT SPECIFIED\",Clerk#000009909,0,\"furiously pending platelets \",\r\n",
       "27839015,168790,F,83285.11,1993-07-16T00:00:00.0000000,\"4-NOT SPECIFIED\",Clerk#000005659,0,\"even special requests nag slyly accounts. regular pinto beans use blithely th\",\r\n",
       "27839111,894110,F,243357.88,1993-05-10T00:00:00.0000000,\"4-NOT SPECIFIED\",Clerk#000002045,0,\"blithely ironic theodolites integrate slyly blithely final deposits. furi\",\r\n"
      ],
      "text/html": [
       "<table><thead><tr><td><span>o_orderkey</span></td><td><span>o_custkey</span></td><td><span>o_orderstatus</span></td><td><span>o_totalprice</span></td><td><span>o_orderdate</span></td><td><span>o_orderpriority</span></td><td><span>o_clerk</span></td><td><span>o_shippriority</span></td><td><span>o_comment</span></td><td><span>ct</span></td></tr></thead><tbody><tr><td><div class=\"dni-plaintext\"><pre>27838881</pre></div></td><td><div class=\"dni-plaintext\"><pre>340615</pre></div></td><td>F</td><td><div class=\"dni-plaintext\"><pre>309235.37</pre></div></td><td><span>1995-01-23 00:00:00Z</span></td><td>4-NOT SPECIFIED</td><td>Clerk#000000730</td><td><div class=\"dni-plaintext\"><pre>0</pre></div></td><td>ironic asymptotes are fluffily special accounts. blithely f</td><td><div class=\"dni-plaintext\"><pre>&lt;null&gt;</pre></div></td></tr><tr><td><div class=\"dni-plaintext\"><pre>27838945</pre></div></td><td><div class=\"dni-plaintext\"><pre>197609</pre></div></td><td>F</td><td><div class=\"dni-plaintext\"><pre>125214.60</pre></div></td><td><span>1992-12-06 00:00:00Z</span></td><td>4-NOT SPECIFIED</td><td>Clerk#000000634</td><td><div class=\"dni-plaintext\"><pre>0</pre></div></td><td>blithely unusual depos</td><td><div class=\"dni-plaintext\"><pre>&lt;null&gt;</pre></div></td></tr><tr><td><div class=\"dni-plaintext\"><pre>27838947</pre></div></td><td><div class=\"dni-plaintext\"><pre>168086</pre></div></td><td>F</td><td><div class=\"dni-plaintext\"><pre>35038.63</pre></div></td><td><span>1994-03-27 00:00:00Z</span></td><td>4-NOT SPECIFIED</td><td>Clerk#000009909</td><td><div class=\"dni-plaintext\"><pre>0</pre></div></td><td>furiously pending platelets </td><td><div class=\"dni-plaintext\"><pre>&lt;null&gt;</pre></div></td></tr><tr><td><div class=\"dni-plaintext\"><pre>27839015</pre></div></td><td><div class=\"dni-plaintext\"><pre>168790</pre></div></td><td>F</td><td><div class=\"dni-plaintext\"><pre>83285.11</pre></div></td><td><span>1993-07-16 00:00:00Z</span></td><td>4-NOT SPECIFIED</td><td>Clerk#000005659</td><td><div class=\"dni-plaintext\"><pre>0</pre></div></td><td>even special requests nag slyly accounts. regular pinto beans use blithely th</td><td><div class=\"dni-plaintext\"><pre>&lt;null&gt;</pre></div></td></tr><tr><td><div class=\"dni-plaintext\"><pre>27839111</pre></div></td><td><div class=\"dni-plaintext\"><pre>894110</pre></div></td><td>F</td><td><div class=\"dni-plaintext\"><pre>243357.88</pre></div></td><td><span>1993-05-10 00:00:00Z</span></td><td>4-NOT SPECIFIED</td><td>Clerk#000002045</td><td><div class=\"dni-plaintext\"><pre>0</pre></div></td><td>blithely ironic theodolites integrate slyly blithely final deposits. furi</td><td><div class=\"dni-plaintext\"><pre>&lt;null&gt;</pre></div></td></tr></tbody></table><style>\r\n",
       ".dni-code-hint {\r\n",
       "    font-style: italic;\r\n",
       "    overflow: hidden;\r\n",
       "    white-space: nowrap;\r\n",
       "}\r\n",
       ".dni-treeview {\r\n",
       "    white-space: nowrap;\r\n",
       "}\r\n",
       ".dni-treeview td {\r\n",
       "    vertical-align: top;\r\n",
       "    text-align: start;\r\n",
       "}\r\n",
       "details.dni-treeview {\r\n",
       "    padding-left: 1em;\r\n",
       "}\r\n",
       "table td {\r\n",
       "    text-align: start;\r\n",
       "}\r\n",
       "table tr { \r\n",
       "    vertical-align: top; \r\n",
       "    margin: 0em 0px;\r\n",
       "}\r\n",
       "table tr td pre \r\n",
       "{ \r\n",
       "    vertical-align: top !important; \r\n",
       "    margin: 0em 0px !important;\r\n",
       "} \r\n",
       "table th {\r\n",
       "    text-align: start;\r\n",
       "}\r\n",
       "</style>"
      ]
     },
     "metadata": {},
     "output_type": "display_data"
    }
   ],
   "source": [
    "SELECT TOP 5 * from orders_4_no_index;"
   ]
  },
  {
   "cell_type": "code",
   "execution_count": 15,
   "id": "67648669",
   "metadata": {
    "polyglot_notebook": {
     "kernelName": "sql-SS2025_tpch_test"
    }
   },
   "outputs": [
    {
     "data": {
      "text/plain": [
       "(0 lignes affectées)"
      ]
     },
     "metadata": {},
     "output_type": "display_data"
    },
    {
     "data": {
      "text/plain": [
       "(1 ligne affectée)"
      ]
     },
     "metadata": {},
     "output_type": "display_data"
    },
    {
     "data": {
      "text/csv": [
       "count_orders_6_classic_index\r\n",
       "0\r\n"
      ],
      "text/html": [
       "<table><thead><tr><td><span>count_orders_6_classic_index</span></td></tr></thead><tbody><tr><td><div class=\"dni-plaintext\"><pre>0</pre></div></td></tr></tbody></table><style>\r\n",
       ".dni-code-hint {\r\n",
       "    font-style: italic;\r\n",
       "    overflow: hidden;\r\n",
       "    white-space: nowrap;\r\n",
       "}\r\n",
       ".dni-treeview {\r\n",
       "    white-space: nowrap;\r\n",
       "}\r\n",
       ".dni-treeview td {\r\n",
       "    vertical-align: top;\r\n",
       "    text-align: start;\r\n",
       "}\r\n",
       "details.dni-treeview {\r\n",
       "    padding-left: 1em;\r\n",
       "}\r\n",
       "table td {\r\n",
       "    text-align: start;\r\n",
       "}\r\n",
       "table tr { \r\n",
       "    vertical-align: top; \r\n",
       "    margin: 0em 0px;\r\n",
       "}\r\n",
       "table tr td pre \r\n",
       "{ \r\n",
       "    vertical-align: top !important; \r\n",
       "    margin: 0em 0px !important;\r\n",
       "} \r\n",
       "table th {\r\n",
       "    text-align: start;\r\n",
       "}\r\n",
       "</style>"
      ]
     },
     "metadata": {},
     "output_type": "display_data"
    }
   ],
   "source": [
    "DROP TABLE IF EXISTS orders_6_classic_index;\n",
    "\n",
    "SELECT * \n",
    "INTO orders_6_classic_index\n",
    "FROM orders\n",
    "WHERE 1=0;\n",
    "\n",
    "CREATE CLUSTERED INDEX PK_orders_6_classic_index ON  orders_6_classic_index (o_orderkey);\n",
    "\n",
    "SELECT count(*) count_orders_6_classic_index from orders_6_classic_index;"
   ]
  },
  {
   "cell_type": "code",
   "execution_count": null,
   "id": "f1bab56c",
   "metadata": {
    "polyglot_notebook": {
     "kernelName": "pwsh"
    }
   },
   "outputs": [
    {
     "name": "stdout",
     "output_type": "stream",
     "text": [
      "2025-06-13T22:56:09.382 +02:00 -|- FastTransfer -|- MSS22_to_MSS25 -|- INFORMATION -|- tpch_test.dbo.orders_6_classic_index -|- Starting\n",
      "2025-06-13T22:56:09.390 +02:00 -|- FastTransfer -|- MSS22_to_MSS25 -|- INFORMATION -|- tpch_test.dbo.orders_6_classic_index -|- FastTransfer Version : 0.13.4.0 Architecture : X64 - Framework : .NET 8.0.15\n",
      "2025-06-13T22:56:09.391 +02:00 -|- FastTransfer -|- MSS22_to_MSS25 -|- INFORMATION -|- tpch_test.dbo.orders_6_classic_index -|- OS : Microsoft Windows 10.0.26100\n",
      "2025-06-13T22:56:09.391 +02:00 -|- FastTransfer -|- MSS22_to_MSS25 -|- INFORMATION -|- tpch_test.dbo.orders_6_classic_index -|- Process ID : 53420\n",
      "2025-06-13T22:56:09.391 +02:00 -|- FastTransfer -|- MSS22_to_MSS25 -|- INFORMATION -|- tpch_test.dbo.orders_6_classic_index -|- Provided Run ID : MSS22_to_MSS25\n",
      "2025-06-13T22:56:09.391 +02:00 -|- FastTransfer -|- MSS22_to_MSS25 -|- INFORMATION -|- tpch_test.dbo.orders_6_classic_index -|- Source Connection Type : mssql\n",
      "2025-06-13T22:56:09.391 +02:00 -|- FastTransfer -|- MSS22_to_MSS25 -|- INFORMATION -|- tpch_test.dbo.orders_6_classic_index -|- Source SqlInstance : localhost\n",
      "2025-06-13T22:56:09.391 +02:00 -|- FastTransfer -|- MSS22_to_MSS25 -|- INFORMATION -|- tpch_test.dbo.orders_6_classic_index -|- Source Database : tpch10_collation_bin2\n",
      "2025-06-13T22:56:09.391 +02:00 -|- FastTransfer -|- MSS22_to_MSS25 -|- INFORMATION -|- tpch_test.dbo.orders_6_classic_index -|- Source Trusted Connection : True\n",
      "2025-06-13T22:56:09.391 +02:00 -|- FastTransfer -|- MSS22_to_MSS25 -|- INFORMATION -|- tpch_test.dbo.orders_6_classic_index -|- Source Schema : dbo\n",
      "2025-06-13T22:56:09.391 +02:00 -|- FastTransfer -|- MSS22_to_MSS25 -|- INFORMATION -|- tpch_test.dbo.orders_6_classic_index -|- Source Table : orders_15M\n",
      "2025-06-13T22:56:09.391 +02:00 -|- FastTransfer -|- MSS22_to_MSS25 -|- INFORMATION -|- tpch_test.dbo.orders_6_classic_index -|- Target Type : msbulk\n",
      "2025-06-13T22:56:09.391 +02:00 -|- FastTransfer -|- MSS22_to_MSS25 -|- INFORMATION -|- tpch_test.dbo.orders_6_classic_index -|- Target Server : localhost\\SS2025\n",
      "2025-06-13T22:56:09.391 +02:00 -|- FastTransfer -|- MSS22_to_MSS25 -|- INFORMATION -|- tpch_test.dbo.orders_6_classic_index -|- Target Database : tpch_test\n",
      "2025-06-13T22:56:09.391 +02:00 -|- FastTransfer -|- MSS22_to_MSS25 -|- INFORMATION -|- tpch_test.dbo.orders_6_classic_index -|- Target Schema : dbo\n",
      "2025-06-13T22:56:09.391 +02:00 -|- FastTransfer -|- MSS22_to_MSS25 -|- INFORMATION -|- tpch_test.dbo.orders_6_classic_index -|- Target Table : orders_6_classic_index\n",
      "2025-06-13T22:56:09.391 +02:00 -|- FastTransfer -|- MSS22_to_MSS25 -|- INFORMATION -|- tpch_test.dbo.orders_6_classic_index -|- Target Trusted Connection : True\n",
      "2025-06-13T22:56:09.391 +02:00 -|- FastTransfer -|- MSS22_to_MSS25 -|- INFORMATION -|- tpch_test.dbo.orders_6_classic_index -|- Columns Map Method : Name\n",
      "2025-06-13T22:56:09.391 +02:00 -|- FastTransfer -|- MSS22_to_MSS25 -|- INFORMATION -|- tpch_test.dbo.orders_6_classic_index -|- Degree : -2\n",
      "2025-06-13T22:56:09.391 +02:00 -|- FastTransfer -|- MSS22_to_MSS25 -|- INFORMATION -|- tpch_test.dbo.orders_6_classic_index -|- Distribute Method : Ntile\n",
      "2025-06-13T22:56:09.391 +02:00 -|- FastTransfer -|- MSS22_to_MSS25 -|- INFORMATION -|- tpch_test.dbo.orders_6_classic_index -|- Distribute Column : o_orderkey\n",
      "2025-06-13T22:56:09.391 +02:00 -|- FastTransfer -|- MSS22_to_MSS25 -|- INFORMATION -|- tpch_test.dbo.orders_6_classic_index -|- Bulkcopy Batch Size : 1048576\n",
      "2025-06-13T22:56:09.391 +02:00 -|- FastTransfer -|- MSS22_to_MSS25 -|- INFORMATION -|- tpch_test.dbo.orders_6_classic_index -|- Load Mode : Truncate\n",
      "2025-06-13T22:56:09.391 +02:00 -|- FastTransfer -|- MSS22_to_MSS25 -|- INFORMATION -|- tpch_test.dbo.orders_6_classic_index -|- Use Work Tables : False\n",
      "2025-06-13T22:56:09.392 +02:00 -|- FastTransfer -|- MSS22_to_MSS25 -|- INFORMATION -|- tpch_test.dbo.orders_6_classic_index -|- Encoding used : Unicode (UTF-8) - 65001 - utf-8\n",
      "2025-06-13T22:56:09.408 +02:00 -|- FastTransfer -|- MSS22_to_MSS25 -|- INFORMATION -|- tpch_test.dbo.orders_6_classic_index -|- Source Connection String : Data Source=localhost;Initial Catalog=tpch10_collation_bin2;Integrated Security=True;Connect Timeout=120;Encrypt=True;Trust Server Certificate=True;Application Name=FastTransfer;Application Intent=ReadOnly;Command Timeout=10800\n",
      "2025-06-13T22:56:09.408 +02:00 -|- FastTransfer -|- MSS22_to_MSS25 -|- INFORMATION -|- tpch_test.dbo.orders_6_classic_index -|- Target Connection String : Data Source=localhost\\SS2025;Initial Catalog=tpch_test;Integrated Security=True;Connect Timeout=120;Encrypt=True;Trust Server Certificate=True;Application Name=FastTransfer;Application Intent=ReadWrite;Command Timeout=10800\n",
      "2025-06-13T22:56:09.408 +02:00 -|- FastTransfer -|- MSS22_to_MSS25 -|- INFORMATION -|- tpch_test.dbo.orders_6_classic_index -|- Source Database Version : Microsoft SQL Server 2022 (RTM-CU17) (KB5048038) - 16.0.4175.1 (X64)  \tDec 13 2024 09:01:53  \tCopyright (C) 2022 Microsoft Corporation \tDeveloper Edition (64-bit) on Windows 10 Pro 10.0 <X64> (Build 26100: ) (Hypervisor) \n",
      "2025-06-13T22:56:09.408 +02:00 -|- FastTransfer -|- MSS22_to_MSS25 -|- INFORMATION -|- tpch_test.dbo.orders_6_classic_index -|- Target Database Version : Microsoft SQL Server 2025 (CTP2.0) - 17.0.700.9 (X64)  \tMay  8 2025 19:14:27  \tCopyright (C) 2025 Microsoft Corporation \tEnterprise Developer Edition (64-bit) on Windows 10 Pro 10.0 <X64> (Build 26100: ) (Hypervisor) \n",
      "2025-06-13T22:56:09.413 +02:00 -|- FastTransfer -|- MSS22_to_MSS25 -|- INFORMATION -|- tpch_test.dbo.orders_6_classic_index -|- Degree of parallelism was computed to 16 (=> 32\\2)\n",
      "2025-06-13T22:56:10.726 +02:00 -|- FastTransfer -|- MSS22_to_MSS25 -|- INFORMATION -|- tpch_test.dbo.orders_6_classic_index -|- Ntile DataSegments Computation Completed in 1312 ms\n",
      "2025-06-13T22:56:10.729 +02:00 -|- FastTransfer -|- MSS22_to_MSS25 -|- INFORMATION -|- tpch_test.dbo.orders_6_classic_index -|- Start Loading Data using distribution method NTile\n",
      "2025-06-13T22:56:10.730 +02:00 -|- FastTransfer -|- MSS22_to_MSS25 -|- INFORMATION -|- tpch_test.dbo.orders_6_classic_index -|- Table \"dbo\".\"orders_6_classic_index\" has a Clustered Index. BulkCopy will use KeepNulls and UseInternalTransaction and avoid Tablock\n",
      "2025-06-13T22:56:10.730 +02:00 -|- FastTransfer -|- MSS22_to_MSS25 -|- INFORMATION -|- tpch_test.dbo.orders_6_classic_index -|- BulkCopy to \"dbo\".\"orders_6_classic_index\" with BatchSize = 1048576, Timeout = 3600\n",
      "2025-06-13T22:56:10.733 +02:00 -|- FastTransfer -|- MSS22_to_MSS25 -|- WARNING -|- tpch_test.dbo.orders_6_classic_index -|- Only 9 out of 10 columns were mapped by name to the target table \"dbo\".\"orders_6_classic_index\"\n",
      "2025-06-13T22:56:10.739 +02:00 -|- FastTransfer -|- MSS22_to_MSS25 -|- INFORMATION -|- tpch_test.dbo.orders_6_classic_index -|- Start Loading Data using distribution method NTile\n",
      "2025-06-13T22:56:10.739 +02:00 -|- FastTransfer -|- MSS22_to_MSS25 -|- INFORMATION -|- tpch_test.dbo.orders_6_classic_index -|- Table \"dbo\".\"orders_6_classic_index\" has a Clustered Index. BulkCopy will use KeepNulls and UseInternalTransaction and avoid Tablock\n",
      "2025-06-13T22:56:10.739 +02:00 -|- FastTransfer -|- MSS22_to_MSS25 -|- INFORMATION -|- tpch_test.dbo.orders_6_classic_index -|- BulkCopy to \"dbo\".\"orders_6_classic_index\" with BatchSize = 1048576, Timeout = 3600\n",
      "2025-06-13T22:56:10.740 +02:00 -|- FastTransfer -|- MSS22_to_MSS25 -|- WARNING -|- tpch_test.dbo.orders_6_classic_index -|- Only 9 out of 10 columns were mapped by name to the target table \"dbo\".\"orders_6_classic_index\"\n",
      "2025-06-13T22:56:10.742 +02:00 -|- FastTransfer -|- MSS22_to_MSS25 -|- INFORMATION -|- tpch_test.dbo.orders_6_classic_index -|- Start Loading Data using distribution method NTile\n",
      "2025-06-13T22:56:10.742 +02:00 -|- FastTransfer -|- MSS22_to_MSS25 -|- INFORMATION -|- tpch_test.dbo.orders_6_classic_index -|- Table \"dbo\".\"orders_6_classic_index\" has a Clustered Index. BulkCopy will use KeepNulls and UseInternalTransaction and avoid Tablock\n",
      "2025-06-13T22:56:10.742 +02:00 -|- FastTransfer -|- MSS22_to_MSS25 -|- INFORMATION -|- tpch_test.dbo.orders_6_classic_index -|- BulkCopy to \"dbo\".\"orders_6_classic_index\" with BatchSize = 1048576, Timeout = 3600\n",
      "2025-06-13T22:56:10.743 +02:00 -|- FastTransfer -|- MSS22_to_MSS25 -|- WARNING -|- tpch_test.dbo.orders_6_classic_index -|- Only 9 out of 10 columns were mapped by name to the target table \"dbo\".\"orders_6_classic_index\"\n",
      "2025-06-13T22:56:10.746 +02:00 -|- FastTransfer -|- MSS22_to_MSS25 -|- INFORMATION -|- tpch_test.dbo.orders_6_classic_index -|- Start Loading Data using distribution method NTile\n",
      "2025-06-13T22:56:10.746 +02:00 -|- FastTransfer -|- MSS22_to_MSS25 -|- INFORMATION -|- tpch_test.dbo.orders_6_classic_index -|- Table \"dbo\".\"orders_6_classic_index\" has a Clustered Index. BulkCopy will use KeepNulls and UseInternalTransaction and avoid Tablock\n",
      "2025-06-13T22:56:10.746 +02:00 -|- FastTransfer -|- MSS22_to_MSS25 -|- INFORMATION -|- tpch_test.dbo.orders_6_classic_index -|- BulkCopy to \"dbo\".\"orders_6_classic_index\" with BatchSize = 1048576, Timeout = 3600\n",
      "2025-06-13T22:56:10.748 +02:00 -|- FastTransfer -|- MSS22_to_MSS25 -|- WARNING -|- tpch_test.dbo.orders_6_classic_index -|- Only 9 out of 10 columns were mapped by name to the target table \"dbo\".\"orders_6_classic_index\"\n",
      "2025-06-13T22:56:10.749 +02:00 -|- FastTransfer -|- MSS22_to_MSS25 -|- INFORMATION -|- tpch_test.dbo.orders_6_classic_index -|- Start Loading Data using distribution method NTile\n",
      "2025-06-13T22:56:10.749 +02:00 -|- FastTransfer -|- MSS22_to_MSS25 -|- INFORMATION -|- tpch_test.dbo.orders_6_classic_index -|- Table \"dbo\".\"orders_6_classic_index\" has a Clustered Index. BulkCopy will use KeepNulls and UseInternalTransaction and avoid Tablock\n",
      "2025-06-13T22:56:10.749 +02:00 -|- FastTransfer -|- MSS22_to_MSS25 -|- INFORMATION -|- tpch_test.dbo.orders_6_classic_index -|- BulkCopy to \"dbo\".\"orders_6_classic_index\" with BatchSize = 1048576, Timeout = 3600\n",
      "2025-06-13T22:56:10.751 +02:00 -|- FastTransfer -|- MSS22_to_MSS25 -|- WARNING -|- tpch_test.dbo.orders_6_classic_index -|- Only 9 out of 10 columns were mapped by name to the target table \"dbo\".\"orders_6_classic_index\"\n",
      "2025-06-13T22:56:10.755 +02:00 -|- FastTransfer -|- MSS22_to_MSS25 -|- INFORMATION -|- tpch_test.dbo.orders_6_classic_index -|- Start Loading Data using distribution method NTile\n",
      "2025-06-13T22:56:10.756 +02:00 -|- FastTransfer -|- MSS22_to_MSS25 -|- INFORMATION -|- tpch_test.dbo.orders_6_classic_index -|- Table \"dbo\".\"orders_6_classic_index\" has a Clustered Index. BulkCopy will use KeepNulls and UseInternalTransaction and avoid Tablock\n",
      "2025-06-13T22:56:10.756 +02:00 -|- FastTransfer -|- MSS22_to_MSS25 -|- INFORMATION -|- tpch_test.dbo.orders_6_classic_index -|- BulkCopy to \"dbo\".\"orders_6_classic_index\" with BatchSize = 1048576, Timeout = 3600\n",
      "2025-06-13T22:56:10.757 +02:00 -|- FastTransfer -|- MSS22_to_MSS25 -|- WARNING -|- tpch_test.dbo.orders_6_classic_index -|- Only 9 out of 10 columns were mapped by name to the target table \"dbo\".\"orders_6_classic_index\"\n",
      "2025-06-13T22:56:10.758 +02:00 -|- FastTransfer -|- MSS22_to_MSS25 -|- INFORMATION -|- tpch_test.dbo.orders_6_classic_index -|- Start Loading Data using distribution method NTile\n",
      "2025-06-13T22:56:10.759 +02:00 -|- FastTransfer -|- MSS22_to_MSS25 -|- INFORMATION -|- tpch_test.dbo.orders_6_classic_index -|- Table \"dbo\".\"orders_6_classic_index\" has a Clustered Index. BulkCopy will use KeepNulls and UseInternalTransaction and avoid Tablock\n",
      "2025-06-13T22:56:10.759 +02:00 -|- FastTransfer -|- MSS22_to_MSS25 -|- INFORMATION -|- tpch_test.dbo.orders_6_classic_index -|- BulkCopy to \"dbo\".\"orders_6_classic_index\" with BatchSize = 1048576, Timeout = 3600\n",
      "2025-06-13T22:56:10.760 +02:00 -|- FastTransfer -|- MSS22_to_MSS25 -|- WARNING -|- tpch_test.dbo.orders_6_classic_index -|- Only 9 out of 10 columns were mapped by name to the target table \"dbo\".\"orders_6_classic_index\"\n",
      "2025-06-13T22:56:10.766 +02:00 -|- FastTransfer -|- MSS22_to_MSS25 -|- INFORMATION -|- tpch_test.dbo.orders_6_classic_index -|- Start Loading Data using distribution method NTile\n",
      "2025-06-13T22:56:10.767 +02:00 -|- FastTransfer -|- MSS22_to_MSS25 -|- INFORMATION -|- tpch_test.dbo.orders_6_classic_index -|- Table \"dbo\".\"orders_6_classic_index\" has a Clustered Index. BulkCopy will use KeepNulls and UseInternalTransaction and avoid Tablock\n",
      "2025-06-13T22:56:10.767 +02:00 -|- FastTransfer -|- MSS22_to_MSS25 -|- INFORMATION -|- tpch_test.dbo.orders_6_classic_index -|- BulkCopy to \"dbo\".\"orders_6_classic_index\" with BatchSize = 1048576, Timeout = 3600\n",
      "2025-06-13T22:56:10.769 +02:00 -|- FastTransfer -|- MSS22_to_MSS25 -|- WARNING -|- tpch_test.dbo.orders_6_classic_index -|- Only 9 out of 10 columns were mapped by name to the target table \"dbo\".\"orders_6_classic_index\"\n",
      "2025-06-13T22:56:10.770 +02:00 -|- FastTransfer -|- MSS22_to_MSS25 -|- INFORMATION -|- tpch_test.dbo.orders_6_classic_index -|- Start Loading Data using distribution method NTile\n",
      "2025-06-13T22:56:10.770 +02:00 -|- FastTransfer -|- MSS22_to_MSS25 -|- INFORMATION -|- tpch_test.dbo.orders_6_classic_index -|- Table \"dbo\".\"orders_6_classic_index\" has a Clustered Index. BulkCopy will use KeepNulls and UseInternalTransaction and avoid Tablock\n",
      "2025-06-13T22:56:10.770 +02:00 -|- FastTransfer -|- MSS22_to_MSS25 -|- INFORMATION -|- tpch_test.dbo.orders_6_classic_index -|- BulkCopy to \"dbo\".\"orders_6_classic_index\" with BatchSize = 1048576, Timeout = 3600\n",
      "2025-06-13T22:56:10.771 +02:00 -|- FastTransfer -|- MSS22_to_MSS25 -|- WARNING -|- tpch_test.dbo.orders_6_classic_index -|- Only 9 out of 10 columns were mapped by name to the target table \"dbo\".\"orders_6_classic_index\"\n",
      "2025-06-13T22:56:10.778 +02:00 -|- FastTransfer -|- MSS22_to_MSS25 -|- INFORMATION -|- tpch_test.dbo.orders_6_classic_index -|- Start Loading Data using distribution method NTile\n",
      "2025-06-13T22:56:10.779 +02:00 -|- FastTransfer -|- MSS22_to_MSS25 -|- INFORMATION -|- tpch_test.dbo.orders_6_classic_index -|- Table \"dbo\".\"orders_6_classic_index\" has a Clustered Index. BulkCopy will use KeepNulls and UseInternalTransaction and avoid Tablock\n",
      "2025-06-13T22:56:10.779 +02:00 -|- FastTransfer -|- MSS22_to_MSS25 -|- INFORMATION -|- tpch_test.dbo.orders_6_classic_index -|- BulkCopy to \"dbo\".\"orders_6_classic_index\" with BatchSize = 1048576, Timeout = 3600\n",
      "2025-06-13T22:56:10.780 +02:00 -|- FastTransfer -|- MSS22_to_MSS25 -|- WARNING -|- tpch_test.dbo.orders_6_classic_index -|- Only 9 out of 10 columns were mapped by name to the target table \"dbo\".\"orders_6_classic_index\"\n",
      "2025-06-13T22:56:10.791 +02:00 -|- FastTransfer -|- MSS22_to_MSS25 -|- INFORMATION -|- tpch_test.dbo.orders_6_classic_index -|- Start Loading Data using distribution method NTile\n",
      "2025-06-13T22:56:10.791 +02:00 -|- FastTransfer -|- MSS22_to_MSS25 -|- INFORMATION -|- tpch_test.dbo.orders_6_classic_index -|- Table \"dbo\".\"orders_6_classic_index\" has a Clustered Index. BulkCopy will use KeepNulls and UseInternalTransaction and avoid Tablock\n",
      "2025-06-13T22:56:10.791 +02:00 -|- FastTransfer -|- MSS22_to_MSS25 -|- INFORMATION -|- tpch_test.dbo.orders_6_classic_index -|- BulkCopy to \"dbo\".\"orders_6_classic_index\" with BatchSize = 1048576, Timeout = 3600\n",
      "2025-06-13T22:56:10.793 +02:00 -|- FastTransfer -|- MSS22_to_MSS25 -|- WARNING -|- tpch_test.dbo.orders_6_classic_index -|- Only 9 out of 10 columns were mapped by name to the target table \"dbo\".\"orders_6_classic_index\"\n",
      "2025-06-13T22:56:10.794 +02:00 -|- FastTransfer -|- MSS22_to_MSS25 -|- INFORMATION -|- tpch_test.dbo.orders_6_classic_index -|- Start Loading Data using distribution method NTile\n",
      "2025-06-13T22:56:10.795 +02:00 -|- FastTransfer -|- MSS22_to_MSS25 -|- INFORMATION -|- tpch_test.dbo.orders_6_classic_index -|- Table \"dbo\".\"orders_6_classic_index\" has a Clustered Index. BulkCopy will use KeepNulls and UseInternalTransaction and avoid Tablock\n",
      "2025-06-13T22:56:10.795 +02:00 -|- FastTransfer -|- MSS22_to_MSS25 -|- INFORMATION -|- tpch_test.dbo.orders_6_classic_index -|- BulkCopy to \"dbo\".\"orders_6_classic_index\" with BatchSize = 1048576, Timeout = 3600\n",
      "2025-06-13T22:56:10.796 +02:00 -|- FastTransfer -|- MSS22_to_MSS25 -|- WARNING -|- tpch_test.dbo.orders_6_classic_index -|- Only 9 out of 10 columns were mapped by name to the target table \"dbo\".\"orders_6_classic_index\"\n",
      "2025-06-13T22:56:10.808 +02:00 -|- FastTransfer -|- MSS22_to_MSS25 -|- INFORMATION -|- tpch_test.dbo.orders_6_classic_index -|- Start Loading Data using distribution method NTile\n",
      "2025-06-13T22:56:10.808 +02:00 -|- FastTransfer -|- MSS22_to_MSS25 -|- INFORMATION -|- tpch_test.dbo.orders_6_classic_index -|- Table \"dbo\".\"orders_6_classic_index\" has a Clustered Index. BulkCopy will use KeepNulls and UseInternalTransaction and avoid Tablock\n",
      "2025-06-13T22:56:10.808 +02:00 -|- FastTransfer -|- MSS22_to_MSS25 -|- INFORMATION -|- tpch_test.dbo.orders_6_classic_index -|- BulkCopy to \"dbo\".\"orders_6_classic_index\" with BatchSize = 1048576, Timeout = 3600\n",
      "2025-06-13T22:56:10.810 +02:00 -|- FastTransfer -|- MSS22_to_MSS25 -|- WARNING -|- tpch_test.dbo.orders_6_classic_index -|- Only 9 out of 10 columns were mapped by name to the target table \"dbo\".\"orders_6_classic_index\"\n",
      "2025-06-13T22:56:10.811 +02:00 -|- FastTransfer -|- MSS22_to_MSS25 -|- INFORMATION -|- tpch_test.dbo.orders_6_classic_index -|- Start Loading Data using distribution method NTile\n",
      "2025-06-13T22:56:10.811 +02:00 -|- FastTransfer -|- MSS22_to_MSS25 -|- INFORMATION -|- tpch_test.dbo.orders_6_classic_index -|- Table \"dbo\".\"orders_6_classic_index\" has a Clustered Index. BulkCopy will use KeepNulls and UseInternalTransaction and avoid Tablock\n",
      "2025-06-13T22:56:10.812 +02:00 -|- FastTransfer -|- MSS22_to_MSS25 -|- INFORMATION -|- tpch_test.dbo.orders_6_classic_index -|- BulkCopy to \"dbo\".\"orders_6_classic_index\" with BatchSize = 1048576, Timeout = 3600\n",
      "2025-06-13T22:56:10.813 +02:00 -|- FastTransfer -|- MSS22_to_MSS25 -|- WARNING -|- tpch_test.dbo.orders_6_classic_index -|- Only 9 out of 10 columns were mapped by name to the target table \"dbo\".\"orders_6_classic_index\"\n",
      "2025-06-13T22:56:10.820 +02:00 -|- FastTransfer -|- MSS22_to_MSS25 -|- INFORMATION -|- tpch_test.dbo.orders_6_classic_index -|- Start Loading Data using distribution method NTile\n",
      "2025-06-13T22:56:10.820 +02:00 -|- FastTransfer -|- MSS22_to_MSS25 -|- INFORMATION -|- tpch_test.dbo.orders_6_classic_index -|- Table \"dbo\".\"orders_6_classic_index\" has a Clustered Index. BulkCopy will use KeepNulls and UseInternalTransaction and avoid Tablock\n",
      "2025-06-13T22:56:10.820 +02:00 -|- FastTransfer -|- MSS22_to_MSS25 -|- INFORMATION -|- tpch_test.dbo.orders_6_classic_index -|- BulkCopy to \"dbo\".\"orders_6_classic_index\" with BatchSize = 1048576, Timeout = 3600\n",
      "2025-06-13T22:56:10.822 +02:00 -|- FastTransfer -|- MSS22_to_MSS25 -|- WARNING -|- tpch_test.dbo.orders_6_classic_index -|- Only 9 out of 10 columns were mapped by name to the target table \"dbo\".\"orders_6_classic_index\"\n",
      "2025-06-13T22:56:10.823 +02:00 -|- FastTransfer -|- MSS22_to_MSS25 -|- INFORMATION -|- tpch_test.dbo.orders_6_classic_index -|- Start Loading Data using distribution method NTile\n",
      "2025-06-13T22:56:10.823 +02:00 -|- FastTransfer -|- MSS22_to_MSS25 -|- INFORMATION -|- tpch_test.dbo.orders_6_classic_index -|- Table \"dbo\".\"orders_6_classic_index\" has a Clustered Index. BulkCopy will use KeepNulls and UseInternalTransaction and avoid Tablock\n",
      "2025-06-13T22:56:10.824 +02:00 -|- FastTransfer -|- MSS22_to_MSS25 -|- INFORMATION -|- tpch_test.dbo.orders_6_classic_index -|- BulkCopy to \"dbo\".\"orders_6_classic_index\" with BatchSize = 1048576, Timeout = 3600\n",
      "2025-06-13T22:56:10.825 +02:00 -|- FastTransfer -|- MSS22_to_MSS25 -|- WARNING -|- tpch_test.dbo.orders_6_classic_index -|- Only 9 out of 10 columns were mapped by name to the target table \"dbo\".\"orders_6_classic_index\"\n",
      "2025-06-13T22:56:15.516 +02:00 -|- FastTransfer -|- MSS22_to_MSS25 -|- INFORMATION -|- tpch_test.dbo.orders_6_classic_index -|- Completed Load Query 2 for o_orderkey between 8063200 and 12095555 : 937501 rows x 9 columns in 4787ms\n",
      "2025-06-13T22:56:15.541 +02:00 -|- FastTransfer -|- MSS22_to_MSS25 -|- INFORMATION -|- tpch_test.dbo.orders_6_classic_index -|- Completed Load Query 0 for o_orderkey between 1 and 4030401 : 937500 rows x 9 columns in 4812ms\n",
      "2025-06-13T22:56:16.708 +02:00 -|- FastTransfer -|- MSS22_to_MSS25 -|- INFORMATION -|- tpch_test.dbo.orders_6_classic_index -|- Completed Load Query 9 for o_orderkey between 36288230 and 40319808 : 937501 rows x 9 columns in 5978ms\n",
      "2025-06-13T22:56:16.711 +02:00 -|- FastTransfer -|- MSS22_to_MSS25 -|- INFORMATION -|- tpch_test.dbo.orders_6_classic_index -|- Completed Load Query 3 for o_orderkey between 12095556 and 16128901 : 937501 rows x 9 columns in 5983ms\n",
      "2025-06-13T22:56:16.721 +02:00 -|- FastTransfer -|- MSS22_to_MSS25 -|- INFORMATION -|- tpch_test.dbo.orders_6_classic_index -|- Completed Load Query 11 for o_orderkey between 44350020 and 48381669 : 937501 rows x 9 columns in 5990ms\n",
      "2025-06-13T22:56:16.732 +02:00 -|- FastTransfer -|- MSS22_to_MSS25 -|- INFORMATION -|- tpch_test.dbo.orders_6_classic_index -|- Completed Load Query 4 for o_orderkey between 16128902 and 20160199 : 937501 rows x 9 columns in 6003ms\n",
      "2025-06-13T22:56:16.752 +02:00 -|- FastTransfer -|- MSS22_to_MSS25 -|- INFORMATION -|- tpch_test.dbo.orders_6_classic_index -|- Completed Load Query 13 for o_orderkey between 52413184 and 56445281 : 937501 rows x 9 columns in 6021ms\n",
      "2025-06-13T22:56:16.795 +02:00 -|- FastTransfer -|- MSS22_to_MSS25 -|- INFORMATION -|- tpch_test.dbo.orders_6_classic_index -|- Completed Load Query 5 for o_orderkey between 20160224 and 24192837 : 937501 rows x 9 columns in 6066ms\n",
      "2025-06-13T22:56:16.810 +02:00 -|- FastTransfer -|- MSS22_to_MSS25 -|- INFORMATION -|- tpch_test.dbo.orders_6_classic_index -|- Completed Load Query 7 for o_orderkey between 28226535 and 32255681 : 937501 rows x 9 columns in 6080ms\n",
      "2025-06-13T22:56:16.811 +02:00 -|- FastTransfer -|- MSS22_to_MSS25 -|- INFORMATION -|- tpch_test.dbo.orders_6_classic_index -|- Completed Load Query 15 for o_orderkey between 66374081 and 119999974 : 937486 rows x 9 columns in 6079ms\n",
      "2025-06-13T22:56:16.848 +02:00 -|- FastTransfer -|- MSS22_to_MSS25 -|- INFORMATION -|- tpch_test.dbo.orders_6_classic_index -|- Completed Load Query 1 for o_orderkey between 4030402 and 8063175 : 937501 rows x 9 columns in 6119ms\n",
      "2025-06-13T22:56:16.878 +02:00 -|- FastTransfer -|- MSS22_to_MSS25 -|- INFORMATION -|- tpch_test.dbo.orders_6_classic_index -|- Completed Load Query 6 for o_orderkey between 24192838 and 28226534 : 937501 rows x 9 columns in 6148ms\n",
      "2025-06-13T22:56:16.896 +02:00 -|- FastTransfer -|- MSS22_to_MSS25 -|- INFORMATION -|- tpch_test.dbo.orders_6_classic_index -|- Completed Load Query 10 for o_orderkey between 40319809 and 44350019 : 937501 rows x 9 columns in 6165ms\n",
      "2025-06-13T22:56:16.932 +02:00 -|- FastTransfer -|- MSS22_to_MSS25 -|- INFORMATION -|- tpch_test.dbo.orders_6_classic_index -|- Completed Load Query 12 for o_orderkey between 48381670 and 52413159 : 937501 rows x 9 columns in 6201ms\n",
      "2025-06-13T22:56:16.934 +02:00 -|- FastTransfer -|- MSS22_to_MSS25 -|- INFORMATION -|- tpch_test.dbo.orders_6_classic_index -|- Completed Load Query 8 for o_orderkey between 32255682 and 36288229 : 937501 rows x 9 columns in 6204ms\n",
      "2025-06-13T22:56:16.945 +02:00 -|- FastTransfer -|- MSS22_to_MSS25 -|- INFORMATION -|- tpch_test.dbo.orders_6_classic_index -|- Completed Load Query 14 for o_orderkey between 56445282 and 66373955 : 937501 rows x 9 columns in 6214ms\n",
      "2025-06-13T22:56:16.946 +02:00 -|- FastTransfer -|- MSS22_to_MSS25 -|- INFORMATION -|- tpch_test.dbo.orders_6_classic_index -|- Total rows : 15000000\n",
      "2025-06-13T22:56:16.946 +02:00 -|- FastTransfer -|- MSS22_to_MSS25 -|- INFORMATION -|- tpch_test.dbo.orders_6_classic_index -|- Total columns : 9\n",
      "2025-06-13T22:56:16.946 +02:00 -|- FastTransfer -|- MSS22_to_MSS25 -|- INFORMATION -|- tpch_test.dbo.orders_6_classic_index -|- Total cells : 135000000\n",
      "2025-06-13T22:56:16.946 +02:00 -|- FastTransfer -|- MSS22_to_MSS25 -|- INFORMATION -|- tpch_test.dbo.orders_6_classic_index -|- Rows Throughput : 1991243 rows/s\n",
      "2025-06-13T22:56:16.946 +02:00 -|- FastTransfer -|- MSS22_to_MSS25 -|- INFORMATION -|- tpch_test.dbo.orders_6_classic_index -|- Cells Throughput : 17921206 cells/s\n",
      "2025-06-13T22:56:16.946 +02:00 -|- FastTransfer -|- MSS22_to_MSS25 -|- INFORMATION -|- tpch_test.dbo.orders_6_classic_index -|- Transfert time : Elapsed=7533 ms\n",
      "2025-06-13T22:56:16.946 +02:00 -|- FastTransfer -|- MSS22_to_MSS25 -|- INFORMATION -|- tpch_test.dbo.orders_6_classic_index -|- Total time : Elapsed=7732 ms\n",
      "2025-06-13T22:56:16.946 +02:00 -|- FastTransfer -|- MSS22_to_MSS25 -|- INFORMATION -|- tpch_test.dbo.orders_6_classic_index -|- Completed Load\n"
     ]
    }
   ],
   "source": [
    "cd D:\\FastTransfer\n",
    "\n",
    ".\\FastTransfer.exe `\n",
    "--sourceconnectiontype \"mssql\" `\n",
    "--sourceserver \"localhost\" `\n",
    "--sourcedatabase \"tpch10_collation_bin2\" `\n",
    "--sourcetrusted `\n",
    "--sourceschema \"dbo\" `\n",
    "--sourcetable \"orders_15M\" `\n",
    "`\n",
    "--targetconnectiontype \"msbulk\" `\n",
    "--targetserver \"localhost\\SS2025\" `\n",
    "--targettrusted `\n",
    "--targetdatabase \"tpch_test\" `\n",
    "--targetschema \"dbo\" `\n",
    "--targettable \"orders_6_classic_index\" `\n",
    "`\n",
    "--loadmode \"Truncate\" `\n",
    "--mapmethod \"Name\" `\n",
    "--method \"Ntile\" `\n",
    "--distributekeycolumn \"o_orderkey\" `\n",
    "--degree -2 `\n",
    "--runid \"MSS22_to_MSS25\""
   ]
  },
  {
   "cell_type": "markdown",
   "id": "bcc9f359",
   "metadata": {},
   "source": [
    "#### Target orders with a primary key"
   ]
  },
  {
   "cell_type": "code",
   "execution_count": 16,
   "id": "01570a9d",
   "metadata": {
    "polyglot_notebook": {
     "kernelName": "sql-SS2025_tpch_test"
    }
   },
   "outputs": [
    {
     "data": {
      "text/plain": [
       "(0 lignes affectées)"
      ]
     },
     "metadata": {},
     "output_type": "display_data"
    },
    {
     "data": {
      "text/plain": [
       "(1 ligne affectée)"
      ]
     },
     "metadata": {},
     "output_type": "display_data"
    },
    {
     "data": {
      "text/csv": [
       "count_orders_7_primarykey\r\n",
       "0\r\n"
      ],
      "text/html": [
       "<table><thead><tr><td><span>count_orders_7_primarykey</span></td></tr></thead><tbody><tr><td><div class=\"dni-plaintext\"><pre>0</pre></div></td></tr></tbody></table><style>\r\n",
       ".dni-code-hint {\r\n",
       "    font-style: italic;\r\n",
       "    overflow: hidden;\r\n",
       "    white-space: nowrap;\r\n",
       "}\r\n",
       ".dni-treeview {\r\n",
       "    white-space: nowrap;\r\n",
       "}\r\n",
       ".dni-treeview td {\r\n",
       "    vertical-align: top;\r\n",
       "    text-align: start;\r\n",
       "}\r\n",
       "details.dni-treeview {\r\n",
       "    padding-left: 1em;\r\n",
       "}\r\n",
       "table td {\r\n",
       "    text-align: start;\r\n",
       "}\r\n",
       "table tr { \r\n",
       "    vertical-align: top; \r\n",
       "    margin: 0em 0px;\r\n",
       "}\r\n",
       "table tr td pre \r\n",
       "{ \r\n",
       "    vertical-align: top !important; \r\n",
       "    margin: 0em 0px !important;\r\n",
       "} \r\n",
       "table th {\r\n",
       "    text-align: start;\r\n",
       "}\r\n",
       "</style>"
      ]
     },
     "metadata": {},
     "output_type": "display_data"
    }
   ],
   "source": [
    "DROP TABLE IF EXISTS orders_7_primarykey;\n",
    "\n",
    "SELECT * \n",
    "INTO orders_7_primarykey\n",
    "FROM orders\n",
    "WHERE 1=0;\n",
    "\n",
    "ALTER TABLE  orders_7_primarykey ADD CONSTRAINT PK_orders_7_primarykey PRIMARY KEY CLUSTERED (o_orderkey);\n",
    "\n",
    "SELECT count(*) count_orders_7_primarykey from orders_7_primarykey;"
   ]
  },
  {
   "cell_type": "code",
   "execution_count": 17,
   "id": "f6091ae9",
   "metadata": {
    "polyglot_notebook": {
     "kernelName": "pwsh"
    }
   },
   "outputs": [
    {
     "name": "stdout",
     "output_type": "stream",
     "text": [
      "2025-09-01T22:34:09.768 +02:00 -|- FastTransfer -|- MSS22_to_MSS25 -|- INFORMATION -|- tpch_test.dbo.orders_7_primarykey -|- FastTransfer - running in trial mode – will expires on 2025‑09‑19 (17 day(s) left).\n",
      "2025-09-01T22:34:09.778 +02:00 -|- FastTransfer -|- MSS22_to_MSS25 -|- INFORMATION -|- tpch_test.dbo.orders_7_primarykey -|- Starting\n",
      "2025-09-01T22:34:09.778 +02:00 -|- FastTransfer -|- MSS22_to_MSS25 -|- INFORMATION -|- tpch_test.dbo.orders_7_primarykey -|- FastTransfer Version : 0.13.9.0 Architecture : X64 - Framework : .NET 8.0.19\n",
      "2025-09-01T22:34:09.778 +02:00 -|- FastTransfer -|- MSS22_to_MSS25 -|- INFORMATION -|- tpch_test.dbo.orders_7_primarykey -|- OS : Microsoft Windows 10.0.26100\n",
      "2025-09-01T22:34:09.778 +02:00 -|- FastTransfer -|- MSS22_to_MSS25 -|- INFORMATION -|- tpch_test.dbo.orders_7_primarykey -|- Process ID : 30716\n",
      "2025-09-01T22:34:09.778 +02:00 -|- FastTransfer -|- MSS22_to_MSS25 -|- INFORMATION -|- tpch_test.dbo.orders_7_primarykey -|- Provided Run ID : MSS22_to_MSS25\n",
      "2025-09-01T22:34:09.778 +02:00 -|- FastTransfer -|- MSS22_to_MSS25 -|- INFORMATION -|- tpch_test.dbo.orders_7_primarykey -|- Source Connection Type : mssql\n",
      "2025-09-01T22:34:09.778 +02:00 -|- FastTransfer -|- MSS22_to_MSS25 -|- INFORMATION -|- tpch_test.dbo.orders_7_primarykey -|- Source SqlInstance : localhost\n",
      "2025-09-01T22:34:09.778 +02:00 -|- FastTransfer -|- MSS22_to_MSS25 -|- INFORMATION -|- tpch_test.dbo.orders_7_primarykey -|- Source Database : tpch10_collation_bin2\n",
      "2025-09-01T22:34:09.778 +02:00 -|- FastTransfer -|- MSS22_to_MSS25 -|- INFORMATION -|- tpch_test.dbo.orders_7_primarykey -|- Source Trusted Connection : True\n",
      "2025-09-01T22:34:09.778 +02:00 -|- FastTransfer -|- MSS22_to_MSS25 -|- INFORMATION -|- tpch_test.dbo.orders_7_primarykey -|- Source Schema : dbo\n",
      "2025-09-01T22:34:09.778 +02:00 -|- FastTransfer -|- MSS22_to_MSS25 -|- INFORMATION -|- tpch_test.dbo.orders_7_primarykey -|- Source Table : orders_15M\n",
      "2025-09-01T22:34:09.778 +02:00 -|- FastTransfer -|- MSS22_to_MSS25 -|- INFORMATION -|- tpch_test.dbo.orders_7_primarykey -|- Target Type : msbulk\n",
      "2025-09-01T22:34:09.778 +02:00 -|- FastTransfer -|- MSS22_to_MSS25 -|- INFORMATION -|- tpch_test.dbo.orders_7_primarykey -|- Target Server : localhost\\SS2025\n",
      "2025-09-01T22:34:09.778 +02:00 -|- FastTransfer -|- MSS22_to_MSS25 -|- INFORMATION -|- tpch_test.dbo.orders_7_primarykey -|- Target Database : tpch_test\n",
      "2025-09-01T22:34:09.778 +02:00 -|- FastTransfer -|- MSS22_to_MSS25 -|- INFORMATION -|- tpch_test.dbo.orders_7_primarykey -|- Target Schema : dbo\n",
      "2025-09-01T22:34:09.778 +02:00 -|- FastTransfer -|- MSS22_to_MSS25 -|- INFORMATION -|- tpch_test.dbo.orders_7_primarykey -|- Target Table : orders_7_primarykey\n",
      "2025-09-01T22:34:09.778 +02:00 -|- FastTransfer -|- MSS22_to_MSS25 -|- INFORMATION -|- tpch_test.dbo.orders_7_primarykey -|- Target Trusted Connection : True\n",
      "2025-09-01T22:34:09.778 +02:00 -|- FastTransfer -|- MSS22_to_MSS25 -|- INFORMATION -|- tpch_test.dbo.orders_7_primarykey -|- Columns Map Method : Name\n",
      "2025-09-01T22:34:09.779 +02:00 -|- FastTransfer -|- MSS22_to_MSS25 -|- INFORMATION -|- tpch_test.dbo.orders_7_primarykey -|- Degree : -2\n",
      "2025-09-01T22:34:09.779 +02:00 -|- FastTransfer -|- MSS22_to_MSS25 -|- INFORMATION -|- tpch_test.dbo.orders_7_primarykey -|- Distribute Method : Ntile\n",
      "2025-09-01T22:34:09.779 +02:00 -|- FastTransfer -|- MSS22_to_MSS25 -|- INFORMATION -|- tpch_test.dbo.orders_7_primarykey -|- Distribute Column : o_orderkey\n",
      "2025-09-01T22:34:09.779 +02:00 -|- FastTransfer -|- MSS22_to_MSS25 -|- INFORMATION -|- tpch_test.dbo.orders_7_primarykey -|- Bulkcopy Batch Size : 1048576\n",
      "2025-09-01T22:34:09.779 +02:00 -|- FastTransfer -|- MSS22_to_MSS25 -|- INFORMATION -|- tpch_test.dbo.orders_7_primarykey -|- Load Mode : Truncate\n",
      "2025-09-01T22:34:09.779 +02:00 -|- FastTransfer -|- MSS22_to_MSS25 -|- INFORMATION -|- tpch_test.dbo.orders_7_primarykey -|- Use Work Tables : False\n",
      "2025-09-01T22:34:09.779 +02:00 -|- FastTransfer -|- MSS22_to_MSS25 -|- INFORMATION -|- tpch_test.dbo.orders_7_primarykey -|- Encoding used : Unicode (UTF-8) - 65001 - utf-8\n",
      "2025-09-01T22:34:09.797 +02:00 -|- FastTransfer -|- MSS22_to_MSS25 -|- INFORMATION -|- tpch_test.dbo.orders_7_primarykey -|- Source Connection String : Data Source=localhost;Initial Catalog=tpch10_collation_bin2;Integrated Security=True;Connect Timeout=120;Encrypt=True;Trust Server Certificate=True;Application Name=FastTransfer;Application Intent=ReadOnly;Command Timeout=10800\n",
      "2025-09-01T22:34:09.797 +02:00 -|- FastTransfer -|- MSS22_to_MSS25 -|- INFORMATION -|- tpch_test.dbo.orders_7_primarykey -|- Target Connection String : Data Source=localhost\\SS2025;Initial Catalog=tpch_test;Integrated Security=True;Connect Timeout=120;Encrypt=True;Trust Server Certificate=True;Application Name=FastTransfer;Application Intent=ReadWrite;Command Timeout=10800\n",
      "2025-09-01T22:34:09.797 +02:00 -|- FastTransfer -|- MSS22_to_MSS25 -|- INFORMATION -|- tpch_test.dbo.orders_7_primarykey -|- Source Database Version : Microsoft SQL Server 2022 (RTM-CU20-GDR) (KB5063814) - 16.0.4210.1 (X64)  \tJul 11 2025 13:04:02  \tCopyright (C) 2022 Microsoft Corporation \tDeveloper Edition (64-bit) on Windows 10 Pro 10.0 <X64> (Build 26100: ) (Hypervisor) \n",
      "2025-09-01T22:34:09.797 +02:00 -|- FastTransfer -|- MSS22_to_MSS25 -|- INFORMATION -|- tpch_test.dbo.orders_7_primarykey -|- Target Database Version : Microsoft SQL Server 2025 (CTP2.1) - 17.0.800.3 (X64)  \tJun 12 2025 14:47:57  \tCopyright (C) 2025 Microsoft Corporation \tEnterprise Developer Edition (64-bit) on Windows 10 Pro 10.0 <X64> (Build 26100: ) (Hypervisor) \n",
      "2025-09-01T22:34:09.803 +02:00 -|- FastTransfer -|- MSS22_to_MSS25 -|- INFORMATION -|- tpch_test.dbo.orders_7_primarykey -|- Degree of parallelism was computed to 16 (=> 32\\2)\n",
      "2025-09-01T22:34:10.258 +02:00 -|- FastTransfer -|- MSS22_to_MSS25 -|- INFORMATION -|- tpch_test.dbo.orders_7_primarykey -|- Ntile DataSegments Computation Completed in 455 ms\n",
      "2025-09-01T22:34:10.261 +02:00 -|- FastTransfer -|- MSS22_to_MSS25 -|- INFORMATION -|- tpch_test.dbo.orders_7_primarykey -|- Start Loading Data using distribution method NTile\n",
      "2025-09-01T22:34:10.270 +02:00 -|- FastTransfer -|- MSS22_to_MSS25 -|- INFORMATION -|- tpch_test.dbo.orders_7_primarykey -|- Start Loading Data using distribution method NTile\n",
      "2025-09-01T22:34:10.271 +02:00 -|- FastTransfer -|- MSS22_to_MSS25 -|- INFORMATION -|- tpch_test.dbo.orders_7_primarykey -|- Table \"dbo\".\"orders_7_primarykey\" has a Clustered Index. BulkCopy will use KeepNulls and UseInternalTransaction and avoid Tablock\n",
      "2025-09-01T22:34:10.271 +02:00 -|- FastTransfer -|- MSS22_to_MSS25 -|- INFORMATION -|- tpch_test.dbo.orders_7_primarykey -|- Table \"dbo\".\"orders_7_primarykey\" has a Clustered Index. BulkCopy will use KeepNulls and UseInternalTransaction and avoid Tablock\n",
      "2025-09-01T22:34:10.271 +02:00 -|- FastTransfer -|- MSS22_to_MSS25 -|- INFORMATION -|- tpch_test.dbo.orders_7_primarykey -|- BulkCopy to \"dbo\".\"orders_7_primarykey\" with BatchSize = 1048576, Timeout = 3600\n",
      "2025-09-01T22:34:10.271 +02:00 -|- FastTransfer -|- MSS22_to_MSS25 -|- INFORMATION -|- tpch_test.dbo.orders_7_primarykey -|- BulkCopy to \"dbo\".\"orders_7_primarykey\" with BatchSize = 1048576, Timeout = 3600\n",
      "2025-09-01T22:34:10.274 +02:00 -|- FastTransfer -|- MSS22_to_MSS25 -|- INFORMATION -|- tpch_test.dbo.orders_7_primarykey -|- Start Loading Data using distribution method NTile\n",
      "2025-09-01T22:34:10.275 +02:00 -|- FastTransfer -|- MSS22_to_MSS25 -|- INFORMATION -|- tpch_test.dbo.orders_7_primarykey -|- Table \"dbo\".\"orders_7_primarykey\" has a Clustered Index. BulkCopy will use KeepNulls and UseInternalTransaction and avoid Tablock\n",
      "2025-09-01T22:34:10.275 +02:00 -|- FastTransfer -|- MSS22_to_MSS25 -|- INFORMATION -|- tpch_test.dbo.orders_7_primarykey -|- BulkCopy to \"dbo\".\"orders_7_primarykey\" with BatchSize = 1048576, Timeout = 3600\n",
      "2025-09-01T22:34:10.279 +02:00 -|- FastTransfer -|- MSS22_to_MSS25 -|- INFORMATION -|- tpch_test.dbo.orders_7_primarykey -|- Start Loading Data using distribution method NTile\n",
      "2025-09-01T22:34:10.279 +02:00 -|- FastTransfer -|- MSS22_to_MSS25 -|- INFORMATION -|- tpch_test.dbo.orders_7_primarykey -|- Table \"dbo\".\"orders_7_primarykey\" has a Clustered Index. BulkCopy will use KeepNulls and UseInternalTransaction and avoid Tablock\n",
      "2025-09-01T22:34:10.279 +02:00 -|- FastTransfer -|- MSS22_to_MSS25 -|- INFORMATION -|- tpch_test.dbo.orders_7_primarykey -|- BulkCopy to \"dbo\".\"orders_7_primarykey\" with BatchSize = 1048576, Timeout = 3600\n",
      "2025-09-01T22:34:10.281 +02:00 -|- FastTransfer -|- MSS22_to_MSS25 -|- WARNING -|- tpch_test.dbo.orders_7_primarykey -|- Only 9 out of 10 columns were mapped by name to the target table \"dbo\".\"orders_7_primarykey\"\n",
      "2025-09-01T22:34:10.281 +02:00 -|- FastTransfer -|- MSS22_to_MSS25 -|- WARNING -|- tpch_test.dbo.orders_7_primarykey -|- Only 9 out of 10 columns were mapped by name to the target table \"dbo\".\"orders_7_primarykey\"\n",
      "2025-09-01T22:34:10.281 +02:00 -|- FastTransfer -|- MSS22_to_MSS25 -|- INFORMATION -|- tpch_test.dbo.orders_7_primarykey -|- Start Loading Data using distribution method NTile\n",
      "2025-09-01T22:34:10.282 +02:00 -|- FastTransfer -|- MSS22_to_MSS25 -|- INFORMATION -|- tpch_test.dbo.orders_7_primarykey -|- Table \"dbo\".\"orders_7_primarykey\" has a Clustered Index. BulkCopy will use KeepNulls and UseInternalTransaction and avoid Tablock\n",
      "2025-09-01T22:34:10.282 +02:00 -|- FastTransfer -|- MSS22_to_MSS25 -|- INFORMATION -|- tpch_test.dbo.orders_7_primarykey -|- BulkCopy to \"dbo\".\"orders_7_primarykey\" with BatchSize = 1048576, Timeout = 3600\n",
      "2025-09-01T22:34:10.283 +02:00 -|- FastTransfer -|- MSS22_to_MSS25 -|- WARNING -|- tpch_test.dbo.orders_7_primarykey -|- Only 9 out of 10 columns were mapped by name to the target table \"dbo\".\"orders_7_primarykey\"\n",
      "2025-09-01T22:34:10.284 +02:00 -|- FastTransfer -|- MSS22_to_MSS25 -|- WARNING -|- tpch_test.dbo.orders_7_primarykey -|- Only 9 out of 10 columns were mapped by name to the target table \"dbo\".\"orders_7_primarykey\"\n",
      "2025-09-01T22:34:10.287 +02:00 -|- FastTransfer -|- MSS22_to_MSS25 -|- INFORMATION -|- tpch_test.dbo.orders_7_primarykey -|- Start Loading Data using distribution method NTile\n",
      "2025-09-01T22:34:10.288 +02:00 -|- FastTransfer -|- MSS22_to_MSS25 -|- INFORMATION -|- tpch_test.dbo.orders_7_primarykey -|- Table \"dbo\".\"orders_7_primarykey\" has a Clustered Index. BulkCopy will use KeepNulls and UseInternalTransaction and avoid Tablock\n",
      "2025-09-01T22:34:10.288 +02:00 -|- FastTransfer -|- MSS22_to_MSS25 -|- INFORMATION -|- tpch_test.dbo.orders_7_primarykey -|- BulkCopy to \"dbo\".\"orders_7_primarykey\" with BatchSize = 1048576, Timeout = 3600\n",
      "2025-09-01T22:34:10.288 +02:00 -|- FastTransfer -|- MSS22_to_MSS25 -|- WARNING -|- tpch_test.dbo.orders_7_primarykey -|- Only 9 out of 10 columns were mapped by name to the target table \"dbo\".\"orders_7_primarykey\"\n",
      "2025-09-01T22:34:10.290 +02:00 -|- FastTransfer -|- MSS22_to_MSS25 -|- WARNING -|- tpch_test.dbo.orders_7_primarykey -|- Only 9 out of 10 columns were mapped by name to the target table \"dbo\".\"orders_7_primarykey\"\n",
      "2025-09-01T22:34:10.291 +02:00 -|- FastTransfer -|- MSS22_to_MSS25 -|- INFORMATION -|- tpch_test.dbo.orders_7_primarykey -|- Start Loading Data using distribution method NTile\n",
      "2025-09-01T22:34:10.291 +02:00 -|- FastTransfer -|- MSS22_to_MSS25 -|- INFORMATION -|- tpch_test.dbo.orders_7_primarykey -|- Table \"dbo\".\"orders_7_primarykey\" has a Clustered Index. BulkCopy will use KeepNulls and UseInternalTransaction and avoid Tablock\n",
      "2025-09-01T22:34:10.291 +02:00 -|- FastTransfer -|- MSS22_to_MSS25 -|- INFORMATION -|- tpch_test.dbo.orders_7_primarykey -|- BulkCopy to \"dbo\".\"orders_7_primarykey\" with BatchSize = 1048576, Timeout = 3600\n",
      "2025-09-01T22:34:10.292 +02:00 -|- FastTransfer -|- MSS22_to_MSS25 -|- WARNING -|- tpch_test.dbo.orders_7_primarykey -|- Only 9 out of 10 columns were mapped by name to the target table \"dbo\".\"orders_7_primarykey\"\n",
      "2025-09-01T22:34:10.299 +02:00 -|- FastTransfer -|- MSS22_to_MSS25 -|- INFORMATION -|- tpch_test.dbo.orders_7_primarykey -|- Start Loading Data using distribution method NTile\n",
      "2025-09-01T22:34:10.300 +02:00 -|- FastTransfer -|- MSS22_to_MSS25 -|- INFORMATION -|- tpch_test.dbo.orders_7_primarykey -|- Table \"dbo\".\"orders_7_primarykey\" has a Clustered Index. BulkCopy will use KeepNulls and UseInternalTransaction and avoid Tablock\n",
      "2025-09-01T22:34:10.300 +02:00 -|- FastTransfer -|- MSS22_to_MSS25 -|- INFORMATION -|- tpch_test.dbo.orders_7_primarykey -|- BulkCopy to \"dbo\".\"orders_7_primarykey\" with BatchSize = 1048576, Timeout = 3600\n",
      "2025-09-01T22:34:10.301 +02:00 -|- FastTransfer -|- MSS22_to_MSS25 -|- WARNING -|- tpch_test.dbo.orders_7_primarykey -|- Only 9 out of 10 columns were mapped by name to the target table \"dbo\".\"orders_7_primarykey\"\n",
      "2025-09-01T22:34:10.308 +02:00 -|- FastTransfer -|- MSS22_to_MSS25 -|- INFORMATION -|- tpch_test.dbo.orders_7_primarykey -|- Start Loading Data using distribution method NTile\n",
      "2025-09-01T22:34:10.308 +02:00 -|- FastTransfer -|- MSS22_to_MSS25 -|- INFORMATION -|- tpch_test.dbo.orders_7_primarykey -|- Table \"dbo\".\"orders_7_primarykey\" has a Clustered Index. BulkCopy will use KeepNulls and UseInternalTransaction and avoid Tablock\n",
      "2025-09-01T22:34:10.309 +02:00 -|- FastTransfer -|- MSS22_to_MSS25 -|- INFORMATION -|- tpch_test.dbo.orders_7_primarykey -|- BulkCopy to \"dbo\".\"orders_7_primarykey\" with BatchSize = 1048576, Timeout = 3600\n",
      "2025-09-01T22:34:10.311 +02:00 -|- FastTransfer -|- MSS22_to_MSS25 -|- WARNING -|- tpch_test.dbo.orders_7_primarykey -|- Only 9 out of 10 columns were mapped by name to the target table \"dbo\".\"orders_7_primarykey\"\n",
      "2025-09-01T22:34:10.311 +02:00 -|- FastTransfer -|- MSS22_to_MSS25 -|- INFORMATION -|- tpch_test.dbo.orders_7_primarykey -|- Start Loading Data using distribution method NTile\n",
      "2025-09-01T22:34:10.312 +02:00 -|- FastTransfer -|- MSS22_to_MSS25 -|- INFORMATION -|- tpch_test.dbo.orders_7_primarykey -|- Table \"dbo\".\"orders_7_primarykey\" has a Clustered Index. BulkCopy will use KeepNulls and UseInternalTransaction and avoid Tablock\n",
      "2025-09-01T22:34:10.312 +02:00 -|- FastTransfer -|- MSS22_to_MSS25 -|- INFORMATION -|- tpch_test.dbo.orders_7_primarykey -|- BulkCopy to \"dbo\".\"orders_7_primarykey\" with BatchSize = 1048576, Timeout = 3600\n",
      "2025-09-01T22:34:10.314 +02:00 -|- FastTransfer -|- MSS22_to_MSS25 -|- WARNING -|- tpch_test.dbo.orders_7_primarykey -|- Only 9 out of 10 columns were mapped by name to the target table \"dbo\".\"orders_7_primarykey\"\n",
      "2025-09-01T22:34:10.319 +02:00 -|- FastTransfer -|- MSS22_to_MSS25 -|- INFORMATION -|- tpch_test.dbo.orders_7_primarykey -|- Start Loading Data using distribution method NTile\n",
      "2025-09-01T22:34:10.320 +02:00 -|- FastTransfer -|- MSS22_to_MSS25 -|- INFORMATION -|- tpch_test.dbo.orders_7_primarykey -|- Table \"dbo\".\"orders_7_primarykey\" has a Clustered Index. BulkCopy will use KeepNulls and UseInternalTransaction and avoid Tablock\n",
      "2025-09-01T22:34:10.320 +02:00 -|- FastTransfer -|- MSS22_to_MSS25 -|- INFORMATION -|- tpch_test.dbo.orders_7_primarykey -|- BulkCopy to \"dbo\".\"orders_7_primarykey\" with BatchSize = 1048576, Timeout = 3600\n",
      "2025-09-01T22:34:10.321 +02:00 -|- FastTransfer -|- MSS22_to_MSS25 -|- WARNING -|- tpch_test.dbo.orders_7_primarykey -|- Only 9 out of 10 columns were mapped by name to the target table \"dbo\".\"orders_7_primarykey\"\n",
      "2025-09-01T22:34:10.323 +02:00 -|- FastTransfer -|- MSS22_to_MSS25 -|- INFORMATION -|- tpch_test.dbo.orders_7_primarykey -|- Start Loading Data using distribution method NTile\n",
      "2025-09-01T22:34:10.323 +02:00 -|- FastTransfer -|- MSS22_to_MSS25 -|- INFORMATION -|- tpch_test.dbo.orders_7_primarykey -|- Table \"dbo\".\"orders_7_primarykey\" has a Clustered Index. BulkCopy will use KeepNulls and UseInternalTransaction and avoid Tablock\n",
      "2025-09-01T22:34:10.323 +02:00 -|- FastTransfer -|- MSS22_to_MSS25 -|- INFORMATION -|- tpch_test.dbo.orders_7_primarykey -|- BulkCopy to \"dbo\".\"orders_7_primarykey\" with BatchSize = 1048576, Timeout = 3600\n",
      "2025-09-01T22:34:10.330 +02:00 -|- FastTransfer -|- MSS22_to_MSS25 -|- WARNING -|- tpch_test.dbo.orders_7_primarykey -|- Only 9 out of 10 columns were mapped by name to the target table \"dbo\".\"orders_7_primarykey\"\n",
      "2025-09-01T22:34:10.337 +02:00 -|- FastTransfer -|- MSS22_to_MSS25 -|- INFORMATION -|- tpch_test.dbo.orders_7_primarykey -|- Start Loading Data using distribution method NTile\n",
      "2025-09-01T22:34:10.338 +02:00 -|- FastTransfer -|- MSS22_to_MSS25 -|- INFORMATION -|- tpch_test.dbo.orders_7_primarykey -|- Table \"dbo\".\"orders_7_primarykey\" has a Clustered Index. BulkCopy will use KeepNulls and UseInternalTransaction and avoid Tablock\n",
      "2025-09-01T22:34:10.338 +02:00 -|- FastTransfer -|- MSS22_to_MSS25 -|- INFORMATION -|- tpch_test.dbo.orders_7_primarykey -|- BulkCopy to \"dbo\".\"orders_7_primarykey\" with BatchSize = 1048576, Timeout = 3600\n",
      "2025-09-01T22:34:10.341 +02:00 -|- FastTransfer -|- MSS22_to_MSS25 -|- WARNING -|- tpch_test.dbo.orders_7_primarykey -|- Only 9 out of 10 columns were mapped by name to the target table \"dbo\".\"orders_7_primarykey\"\n",
      "2025-09-01T22:34:10.341 +02:00 -|- FastTransfer -|- MSS22_to_MSS25 -|- INFORMATION -|- tpch_test.dbo.orders_7_primarykey -|- Start Loading Data using distribution method NTile\n",
      "2025-09-01T22:34:10.342 +02:00 -|- FastTransfer -|- MSS22_to_MSS25 -|- INFORMATION -|- tpch_test.dbo.orders_7_primarykey -|- Table \"dbo\".\"orders_7_primarykey\" has a Clustered Index. BulkCopy will use KeepNulls and UseInternalTransaction and avoid Tablock\n",
      "2025-09-01T22:34:10.342 +02:00 -|- FastTransfer -|- MSS22_to_MSS25 -|- INFORMATION -|- tpch_test.dbo.orders_7_primarykey -|- BulkCopy to \"dbo\".\"orders_7_primarykey\" with BatchSize = 1048576, Timeout = 3600\n",
      "2025-09-01T22:34:10.344 +02:00 -|- FastTransfer -|- MSS22_to_MSS25 -|- WARNING -|- tpch_test.dbo.orders_7_primarykey -|- Only 9 out of 10 columns were mapped by name to the target table \"dbo\".\"orders_7_primarykey\"\n",
      "2025-09-01T22:34:10.351 +02:00 -|- FastTransfer -|- MSS22_to_MSS25 -|- INFORMATION -|- tpch_test.dbo.orders_7_primarykey -|- Start Loading Data using distribution method NTile\n",
      "2025-09-01T22:34:10.352 +02:00 -|- FastTransfer -|- MSS22_to_MSS25 -|- INFORMATION -|- tpch_test.dbo.orders_7_primarykey -|- Table \"dbo\".\"orders_7_primarykey\" has a Clustered Index. BulkCopy will use KeepNulls and UseInternalTransaction and avoid Tablock\n",
      "2025-09-01T22:34:10.352 +02:00 -|- FastTransfer -|- MSS22_to_MSS25 -|- INFORMATION -|- tpch_test.dbo.orders_7_primarykey -|- BulkCopy to \"dbo\".\"orders_7_primarykey\" with BatchSize = 1048576, Timeout = 3600\n",
      "2025-09-01T22:34:10.354 +02:00 -|- FastTransfer -|- MSS22_to_MSS25 -|- WARNING -|- tpch_test.dbo.orders_7_primarykey -|- Only 9 out of 10 columns were mapped by name to the target table \"dbo\".\"orders_7_primarykey\"\n",
      "2025-09-01T22:34:10.355 +02:00 -|- FastTransfer -|- MSS22_to_MSS25 -|- INFORMATION -|- tpch_test.dbo.orders_7_primarykey -|- Start Loading Data using distribution method NTile\n",
      "2025-09-01T22:34:10.356 +02:00 -|- FastTransfer -|- MSS22_to_MSS25 -|- INFORMATION -|- tpch_test.dbo.orders_7_primarykey -|- Table \"dbo\".\"orders_7_primarykey\" has a Clustered Index. BulkCopy will use KeepNulls and UseInternalTransaction and avoid Tablock\n",
      "2025-09-01T22:34:10.356 +02:00 -|- FastTransfer -|- MSS22_to_MSS25 -|- INFORMATION -|- tpch_test.dbo.orders_7_primarykey -|- BulkCopy to \"dbo\".\"orders_7_primarykey\" with BatchSize = 1048576, Timeout = 3600\n",
      "2025-09-01T22:34:10.358 +02:00 -|- FastTransfer -|- MSS22_to_MSS25 -|- WARNING -|- tpch_test.dbo.orders_7_primarykey -|- Only 9 out of 10 columns were mapped by name to the target table \"dbo\".\"orders_7_primarykey\"\n",
      "2025-09-01T22:34:15.313 +02:00 -|- FastTransfer -|- MSS22_to_MSS25 -|- INFORMATION -|- tpch_test.dbo.orders_7_primarykey -|- Completed Load Query 11 for o_orderkey between 44350020 and 48381669 : 937501 rows x 9 columns in 5052ms\n",
      "2025-09-01T22:34:15.474 +02:00 -|- FastTransfer -|- MSS22_to_MSS25 -|- INFORMATION -|- tpch_test.dbo.orders_7_primarykey -|- Completed Load Query 0 for o_orderkey between 1 and 4030401 : 937500 rows x 9 columns in 5213ms\n",
      "2025-09-01T22:34:15.555 +02:00 -|- FastTransfer -|- MSS22_to_MSS25 -|- INFORMATION -|- tpch_test.dbo.orders_7_primarykey -|- Completed Load Query 2 for o_orderkey between 8063200 and 12095555 : 937501 rows x 9 columns in 5294ms\n",
      "2025-09-01T22:34:16.718 +02:00 -|- FastTransfer -|- MSS22_to_MSS25 -|- INFORMATION -|- tpch_test.dbo.orders_7_primarykey -|- Completed Load Query 14 for o_orderkey between 56445282 and 66373955 : 937501 rows x 9 columns in 6456ms\n",
      "2025-09-01T22:34:16.746 +02:00 -|- FastTransfer -|- MSS22_to_MSS25 -|- INFORMATION -|- tpch_test.dbo.orders_7_primarykey -|- Completed Load Query 12 for o_orderkey between 48381670 and 52413159 : 937501 rows x 9 columns in 6485ms\n",
      "2025-09-01T22:34:16.761 +02:00 -|- FastTransfer -|- MSS22_to_MSS25 -|- INFORMATION -|- tpch_test.dbo.orders_7_primarykey -|- Completed Load Query 13 for o_orderkey between 52413184 and 56445281 : 937501 rows x 9 columns in 6499ms\n",
      "2025-09-01T22:34:16.816 +02:00 -|- FastTransfer -|- MSS22_to_MSS25 -|- INFORMATION -|- tpch_test.dbo.orders_7_primarykey -|- Completed Load Query 9 for o_orderkey between 36288230 and 40319808 : 937501 rows x 9 columns in 6555ms\n",
      "2025-09-01T22:34:16.819 +02:00 -|- FastTransfer -|- MSS22_to_MSS25 -|- INFORMATION -|- tpch_test.dbo.orders_7_primarykey -|- Completed Load Query 4 for o_orderkey between 16128902 and 20160199 : 937501 rows x 9 columns in 6558ms\n",
      "2025-09-01T22:34:16.827 +02:00 -|- FastTransfer -|- MSS22_to_MSS25 -|- INFORMATION -|- tpch_test.dbo.orders_7_primarykey -|- Completed Load Query 3 for o_orderkey between 12095556 and 16128901 : 937501 rows x 9 columns in 6566ms\n",
      "2025-09-01T22:34:16.836 +02:00 -|- FastTransfer -|- MSS22_to_MSS25 -|- INFORMATION -|- tpch_test.dbo.orders_7_primarykey -|- Completed Load Query 5 for o_orderkey between 20160224 and 24192837 : 937501 rows x 9 columns in 6575ms\n",
      "2025-09-01T22:34:16.853 +02:00 -|- FastTransfer -|- MSS22_to_MSS25 -|- INFORMATION -|- tpch_test.dbo.orders_7_primarykey -|- Completed Load Query 1 for o_orderkey between 4030402 and 8063175 : 937501 rows x 9 columns in 6592ms\n",
      "2025-09-01T22:34:16.976 +02:00 -|- FastTransfer -|- MSS22_to_MSS25 -|- INFORMATION -|- tpch_test.dbo.orders_7_primarykey -|- Completed Load Query 6 for o_orderkey between 24192838 and 28226534 : 937501 rows x 9 columns in 6715ms\n",
      "2025-09-01T22:34:16.981 +02:00 -|- FastTransfer -|- MSS22_to_MSS25 -|- INFORMATION -|- tpch_test.dbo.orders_7_primarykey -|- Completed Load Query 8 for o_orderkey between 32255682 and 36288229 : 937501 rows x 9 columns in 6720ms\n",
      "2025-09-01T22:34:17.017 +02:00 -|- FastTransfer -|- MSS22_to_MSS25 -|- INFORMATION -|- tpch_test.dbo.orders_7_primarykey -|- Completed Load Query 7 for o_orderkey between 28226535 and 32255681 : 937501 rows x 9 columns in 6756ms\n",
      "2025-09-01T22:34:17.096 +02:00 -|- FastTransfer -|- MSS22_to_MSS25 -|- INFORMATION -|- tpch_test.dbo.orders_7_primarykey -|- Completed Load Query 15 for o_orderkey between 66374081 and 119999974 : 937486 rows x 9 columns in 6834ms\n",
      "2025-09-01T22:34:17.366 +02:00 -|- FastTransfer -|- MSS22_to_MSS25 -|- INFORMATION -|- tpch_test.dbo.orders_7_primarykey -|- Completed Load Query 10 for o_orderkey between 40319809 and 44350019 : 937501 rows x 9 columns in 7105ms\n",
      "2025-09-01T22:34:17.368 +02:00 -|- FastTransfer -|- MSS22_to_MSS25 -|- INFORMATION -|- tpch_test.dbo.orders_7_primarykey -|- Total rows : 15000000\n",
      "2025-09-01T22:34:17.368 +02:00 -|- FastTransfer -|- MSS22_to_MSS25 -|- INFORMATION -|- tpch_test.dbo.orders_7_primarykey -|- Total columns : 9\n",
      "2025-09-01T22:34:17.368 +02:00 -|- FastTransfer -|- MSS22_to_MSS25 -|- INFORMATION -|- tpch_test.dbo.orders_7_primarykey -|- Total cells : 135000000\n",
      "2025-09-01T22:34:17.368 +02:00 -|- FastTransfer -|- MSS22_to_MSS25 -|- INFORMATION -|- tpch_test.dbo.orders_7_primarykey -|- Rows Throughput : 1982806 rows/s\n",
      "2025-09-01T22:34:17.368 +02:00 -|- FastTransfer -|- MSS22_to_MSS25 -|- INFORMATION -|- tpch_test.dbo.orders_7_primarykey -|- Cells Throughput : 17845276 cells/s\n",
      "2025-09-01T22:34:17.368 +02:00 -|- FastTransfer -|- MSS22_to_MSS25 -|- INFORMATION -|- tpch_test.dbo.orders_7_primarykey -|- Transfert time : Elapsed=7565 ms\n",
      "2025-09-01T22:34:17.368 +02:00 -|- FastTransfer -|- MSS22_to_MSS25 -|- INFORMATION -|- tpch_test.dbo.orders_7_primarykey -|- Total time : Elapsed=7788 ms\n",
      "2025-09-01T22:34:17.368 +02:00 -|- FastTransfer -|- MSS22_to_MSS25 -|- INFORMATION -|- tpch_test.dbo.orders_7_primarykey -|- Completed Load\n"
     ]
    }
   ],
   "source": [
    "cd D:\\FastTransfer\n",
    "\n",
    ".\\FastTransfer.exe `\n",
    "--sourceconnectiontype \"mssql\" `\n",
    "--sourceserver \"localhost\" `\n",
    "--sourcedatabase \"tpch10_collation_bin2\" `\n",
    "--sourcetrusted `\n",
    "--sourceschema \"dbo\" `\n",
    "--sourcetable \"orders_15M\" `\n",
    "`\n",
    "--targetconnectiontype \"msbulk\" `\n",
    "--targetserver \"localhost\\SS2025\" `\n",
    "--targettrusted `\n",
    "--targetdatabase \"tpch_test\" `\n",
    "--targetschema \"dbo\" `\n",
    "--targettable \"orders_7_primarykey\" `\n",
    "`\n",
    "--loadmode \"Truncate\" `\n",
    "--mapmethod \"Name\" `\n",
    "--method \"Ntile\" `\n",
    "--distributekeycolumn \"o_orderkey\" `\n",
    "--degree -2 `\n",
    "--runid \"MSS22_to_MSS25\""
   ]
  },
  {
   "cell_type": "code",
   "execution_count": 18,
   "id": "143c30a0",
   "metadata": {
    "polyglot_notebook": {
     "kernelName": "sql-SS2025_tpch_test"
    }
   },
   "outputs": [
    {
     "data": {
      "text/plain": [
       "(1 ligne affectée)"
      ]
     },
     "metadata": {},
     "output_type": "display_data"
    },
    {
     "data": {
      "text/csv": [
       "count_orders_7_primarykey\r\n",
       "15,000,000\r\n"
      ],
      "text/html": [
       "<table><thead><tr><td><span>count_orders_7_primarykey</span></td></tr></thead><tbody><tr><td>15,000,000</td></tr></tbody></table><style>\r\n",
       ".dni-code-hint {\r\n",
       "    font-style: italic;\r\n",
       "    overflow: hidden;\r\n",
       "    white-space: nowrap;\r\n",
       "}\r\n",
       ".dni-treeview {\r\n",
       "    white-space: nowrap;\r\n",
       "}\r\n",
       ".dni-treeview td {\r\n",
       "    vertical-align: top;\r\n",
       "    text-align: start;\r\n",
       "}\r\n",
       "details.dni-treeview {\r\n",
       "    padding-left: 1em;\r\n",
       "}\r\n",
       "table td {\r\n",
       "    text-align: start;\r\n",
       "}\r\n",
       "table tr { \r\n",
       "    vertical-align: top; \r\n",
       "    margin: 0em 0px;\r\n",
       "}\r\n",
       "table tr td pre \r\n",
       "{ \r\n",
       "    vertical-align: top !important; \r\n",
       "    margin: 0em 0px !important;\r\n",
       "} \r\n",
       "table th {\r\n",
       "    text-align: start;\r\n",
       "}\r\n",
       "</style>"
      ]
     },
     "metadata": {},
     "output_type": "display_data"
    }
   ],
   "source": [
    "SELECT FORMAT(count(*),'###,###,###') count_orders_7_primarykey from orders_7_primarykey;"
   ]
  },
  {
   "cell_type": "markdown",
   "id": "d9846f98",
   "metadata": {},
   "source": [
    "#### Target orders with a primary key and one secondary index"
   ]
  },
  {
   "cell_type": "code",
   "execution_count": null,
   "id": "a2d311b5",
   "metadata": {
    "polyglot_notebook": {
     "kernelName": "sql-SS2025_tpch_test"
    }
   },
   "outputs": [
    {
     "data": {
      "text/plain": [
       "Commandes exécutées."
      ]
     },
     "metadata": {},
     "output_type": "display_data"
    }
   ],
   "source": [
    "CREATE INDEX IX_o_custkey ON orders_7_primarykey(o_custkey);"
   ]
  },
  {
   "cell_type": "code",
   "execution_count": null,
   "id": "39089a48",
   "metadata": {
    "polyglot_notebook": {
     "kernelName": "pwsh"
    }
   },
   "outputs": [
    {
     "name": "stdout",
     "output_type": "stream",
     "text": [
      "2025-06-13T22:56:28.897 +02:00 -|- FastTransfer -|- MSS22_to_MSS25 -|- INFORMATION -|- tpch_test.dbo.orders_7_primarykey -|- Starting\n",
      "2025-06-13T22:56:28.905 +02:00 -|- FastTransfer -|- MSS22_to_MSS25 -|- INFORMATION -|- tpch_test.dbo.orders_7_primarykey -|- FastTransfer Version : 0.13.4.0 Architecture : X64 - Framework : .NET 8.0.15\n",
      "2025-06-13T22:56:28.906 +02:00 -|- FastTransfer -|- MSS22_to_MSS25 -|- INFORMATION -|- tpch_test.dbo.orders_7_primarykey -|- OS : Microsoft Windows 10.0.26100\n",
      "2025-06-13T22:56:28.906 +02:00 -|- FastTransfer -|- MSS22_to_MSS25 -|- INFORMATION -|- tpch_test.dbo.orders_7_primarykey -|- Process ID : 28124\n",
      "2025-06-13T22:56:28.906 +02:00 -|- FastTransfer -|- MSS22_to_MSS25 -|- INFORMATION -|- tpch_test.dbo.orders_7_primarykey -|- Provided Run ID : MSS22_to_MSS25\n",
      "2025-06-13T22:56:28.906 +02:00 -|- FastTransfer -|- MSS22_to_MSS25 -|- INFORMATION -|- tpch_test.dbo.orders_7_primarykey -|- Source Connection Type : mssql\n",
      "2025-06-13T22:56:28.906 +02:00 -|- FastTransfer -|- MSS22_to_MSS25 -|- INFORMATION -|- tpch_test.dbo.orders_7_primarykey -|- Source SqlInstance : localhost\n",
      "2025-06-13T22:56:28.906 +02:00 -|- FastTransfer -|- MSS22_to_MSS25 -|- INFORMATION -|- tpch_test.dbo.orders_7_primarykey -|- Source Database : tpch10_collation_bin2\n",
      "2025-06-13T22:56:28.906 +02:00 -|- FastTransfer -|- MSS22_to_MSS25 -|- INFORMATION -|- tpch_test.dbo.orders_7_primarykey -|- Source Trusted Connection : True\n",
      "2025-06-13T22:56:28.906 +02:00 -|- FastTransfer -|- MSS22_to_MSS25 -|- INFORMATION -|- tpch_test.dbo.orders_7_primarykey -|- Source Schema : dbo\n",
      "2025-06-13T22:56:28.906 +02:00 -|- FastTransfer -|- MSS22_to_MSS25 -|- INFORMATION -|- tpch_test.dbo.orders_7_primarykey -|- Source Table : orders_15M\n",
      "2025-06-13T22:56:28.906 +02:00 -|- FastTransfer -|- MSS22_to_MSS25 -|- INFORMATION -|- tpch_test.dbo.orders_7_primarykey -|- Target Type : msbulk\n",
      "2025-06-13T22:56:28.906 +02:00 -|- FastTransfer -|- MSS22_to_MSS25 -|- INFORMATION -|- tpch_test.dbo.orders_7_primarykey -|- Target Server : localhost\\SS2025\n",
      "2025-06-13T22:56:28.906 +02:00 -|- FastTransfer -|- MSS22_to_MSS25 -|- INFORMATION -|- tpch_test.dbo.orders_7_primarykey -|- Target Database : tpch_test\n",
      "2025-06-13T22:56:28.906 +02:00 -|- FastTransfer -|- MSS22_to_MSS25 -|- INFORMATION -|- tpch_test.dbo.orders_7_primarykey -|- Target Schema : dbo\n",
      "2025-06-13T22:56:28.906 +02:00 -|- FastTransfer -|- MSS22_to_MSS25 -|- INFORMATION -|- tpch_test.dbo.orders_7_primarykey -|- Target Table : orders_7_primarykey\n",
      "2025-06-13T22:56:28.906 +02:00 -|- FastTransfer -|- MSS22_to_MSS25 -|- INFORMATION -|- tpch_test.dbo.orders_7_primarykey -|- Target Trusted Connection : True\n",
      "2025-06-13T22:56:28.906 +02:00 -|- FastTransfer -|- MSS22_to_MSS25 -|- INFORMATION -|- tpch_test.dbo.orders_7_primarykey -|- Columns Map Method : Name\n",
      "2025-06-13T22:56:28.906 +02:00 -|- FastTransfer -|- MSS22_to_MSS25 -|- INFORMATION -|- tpch_test.dbo.orders_7_primarykey -|- Degree : -2\n",
      "2025-06-13T22:56:28.906 +02:00 -|- FastTransfer -|- MSS22_to_MSS25 -|- INFORMATION -|- tpch_test.dbo.orders_7_primarykey -|- Distribute Method : Ntile\n",
      "2025-06-13T22:56:28.906 +02:00 -|- FastTransfer -|- MSS22_to_MSS25 -|- INFORMATION -|- tpch_test.dbo.orders_7_primarykey -|- Distribute Column : o_orderkey\n",
      "2025-06-13T22:56:28.906 +02:00 -|- FastTransfer -|- MSS22_to_MSS25 -|- INFORMATION -|- tpch_test.dbo.orders_7_primarykey -|- Bulkcopy Batch Size : 1048576\n",
      "2025-06-13T22:56:28.906 +02:00 -|- FastTransfer -|- MSS22_to_MSS25 -|- INFORMATION -|- tpch_test.dbo.orders_7_primarykey -|- Load Mode : Truncate\n",
      "2025-06-13T22:56:28.906 +02:00 -|- FastTransfer -|- MSS22_to_MSS25 -|- INFORMATION -|- tpch_test.dbo.orders_7_primarykey -|- Use Work Tables : False\n",
      "2025-06-13T22:56:28.907 +02:00 -|- FastTransfer -|- MSS22_to_MSS25 -|- INFORMATION -|- tpch_test.dbo.orders_7_primarykey -|- Encoding used : Unicode (UTF-8) - 65001 - utf-8\n",
      "2025-06-13T22:56:28.924 +02:00 -|- FastTransfer -|- MSS22_to_MSS25 -|- INFORMATION -|- tpch_test.dbo.orders_7_primarykey -|- Source Connection String : Data Source=localhost;Initial Catalog=tpch10_collation_bin2;Integrated Security=True;Connect Timeout=120;Encrypt=True;Trust Server Certificate=True;Application Name=FastTransfer;Application Intent=ReadOnly;Command Timeout=10800\n",
      "2025-06-13T22:56:28.924 +02:00 -|- FastTransfer -|- MSS22_to_MSS25 -|- INFORMATION -|- tpch_test.dbo.orders_7_primarykey -|- Target Connection String : Data Source=localhost\\SS2025;Initial Catalog=tpch_test;Integrated Security=True;Connect Timeout=120;Encrypt=True;Trust Server Certificate=True;Application Name=FastTransfer;Application Intent=ReadWrite;Command Timeout=10800\n",
      "2025-06-13T22:56:28.924 +02:00 -|- FastTransfer -|- MSS22_to_MSS25 -|- INFORMATION -|- tpch_test.dbo.orders_7_primarykey -|- Source Database Version : Microsoft SQL Server 2022 (RTM-CU17) (KB5048038) - 16.0.4175.1 (X64)  \tDec 13 2024 09:01:53  \tCopyright (C) 2022 Microsoft Corporation \tDeveloper Edition (64-bit) on Windows 10 Pro 10.0 <X64> (Build 26100: ) (Hypervisor) \n",
      "2025-06-13T22:56:28.924 +02:00 -|- FastTransfer -|- MSS22_to_MSS25 -|- INFORMATION -|- tpch_test.dbo.orders_7_primarykey -|- Target Database Version : Microsoft SQL Server 2025 (CTP2.0) - 17.0.700.9 (X64)  \tMay  8 2025 19:14:27  \tCopyright (C) 2025 Microsoft Corporation \tEnterprise Developer Edition (64-bit) on Windows 10 Pro 10.0 <X64> (Build 26100: ) (Hypervisor) \n",
      "2025-06-13T22:56:28.930 +02:00 -|- FastTransfer -|- MSS22_to_MSS25 -|- INFORMATION -|- tpch_test.dbo.orders_7_primarykey -|- Degree of parallelism was computed to 16 (=> 32\\2)\n",
      "2025-06-13T22:56:30.314 +02:00 -|- FastTransfer -|- MSS22_to_MSS25 -|- INFORMATION -|- tpch_test.dbo.orders_7_primarykey -|- Ntile DataSegments Computation Completed in 1384 ms\n",
      "2025-06-13T22:56:30.317 +02:00 -|- FastTransfer -|- MSS22_to_MSS25 -|- INFORMATION -|- tpch_test.dbo.orders_7_primarykey -|- Start Loading Data using distribution method NTile\n",
      "2025-06-13T22:56:30.318 +02:00 -|- FastTransfer -|- MSS22_to_MSS25 -|- INFORMATION -|- tpch_test.dbo.orders_7_primarykey -|- Table \"dbo\".\"orders_7_primarykey\" has a Clustered Index. BulkCopy will use KeepNulls and UseInternalTransaction and avoid Tablock\n",
      "2025-06-13T22:56:30.318 +02:00 -|- FastTransfer -|- MSS22_to_MSS25 -|- INFORMATION -|- tpch_test.dbo.orders_7_primarykey -|- BulkCopy to \"dbo\".\"orders_7_primarykey\" with BatchSize = 1048576, Timeout = 3600\n",
      "2025-06-13T22:56:30.319 +02:00 -|- FastTransfer -|- MSS22_to_MSS25 -|- WARNING -|- tpch_test.dbo.orders_7_primarykey -|- Only 9 out of 10 columns were mapped by name to the target table \"dbo\".\"orders_7_primarykey\"\n",
      "2025-06-13T22:56:30.328 +02:00 -|- FastTransfer -|- MSS22_to_MSS25 -|- INFORMATION -|- tpch_test.dbo.orders_7_primarykey -|- Start Loading Data using distribution method NTile\n",
      "2025-06-13T22:56:30.328 +02:00 -|- FastTransfer -|- MSS22_to_MSS25 -|- INFORMATION -|- tpch_test.dbo.orders_7_primarykey -|- Table \"dbo\".\"orders_7_primarykey\" has a Clustered Index. BulkCopy will use KeepNulls and UseInternalTransaction and avoid Tablock\n",
      "2025-06-13T22:56:30.328 +02:00 -|- FastTransfer -|- MSS22_to_MSS25 -|- INFORMATION -|- tpch_test.dbo.orders_7_primarykey -|- BulkCopy to \"dbo\".\"orders_7_primarykey\" with BatchSize = 1048576, Timeout = 3600\n",
      "2025-06-13T22:56:30.329 +02:00 -|- FastTransfer -|- MSS22_to_MSS25 -|- WARNING -|- tpch_test.dbo.orders_7_primarykey -|- Only 9 out of 10 columns were mapped by name to the target table \"dbo\".\"orders_7_primarykey\"\n",
      "2025-06-13T22:56:30.330 +02:00 -|- FastTransfer -|- MSS22_to_MSS25 -|- INFORMATION -|- tpch_test.dbo.orders_7_primarykey -|- Start Loading Data using distribution method NTile\n",
      "2025-06-13T22:56:30.331 +02:00 -|- FastTransfer -|- MSS22_to_MSS25 -|- INFORMATION -|- tpch_test.dbo.orders_7_primarykey -|- Table \"dbo\".\"orders_7_primarykey\" has a Clustered Index. BulkCopy will use KeepNulls and UseInternalTransaction and avoid Tablock\n",
      "2025-06-13T22:56:30.331 +02:00 -|- FastTransfer -|- MSS22_to_MSS25 -|- INFORMATION -|- tpch_test.dbo.orders_7_primarykey -|- BulkCopy to \"dbo\".\"orders_7_primarykey\" with BatchSize = 1048576, Timeout = 3600\n",
      "2025-06-13T22:56:30.333 +02:00 -|- FastTransfer -|- MSS22_to_MSS25 -|- WARNING -|- tpch_test.dbo.orders_7_primarykey -|- Only 9 out of 10 columns were mapped by name to the target table \"dbo\".\"orders_7_primarykey\"\n",
      "2025-06-13T22:56:30.337 +02:00 -|- FastTransfer -|- MSS22_to_MSS25 -|- INFORMATION -|- tpch_test.dbo.orders_7_primarykey -|- Start Loading Data using distribution method NTile\n",
      "2025-06-13T22:56:30.337 +02:00 -|- FastTransfer -|- MSS22_to_MSS25 -|- INFORMATION -|- tpch_test.dbo.orders_7_primarykey -|- Table \"dbo\".\"orders_7_primarykey\" has a Clustered Index. BulkCopy will use KeepNulls and UseInternalTransaction and avoid Tablock\n",
      "2025-06-13T22:56:30.337 +02:00 -|- FastTransfer -|- MSS22_to_MSS25 -|- INFORMATION -|- tpch_test.dbo.orders_7_primarykey -|- BulkCopy to \"dbo\".\"orders_7_primarykey\" with BatchSize = 1048576, Timeout = 3600\n",
      "2025-06-13T22:56:30.339 +02:00 -|- FastTransfer -|- MSS22_to_MSS25 -|- WARNING -|- tpch_test.dbo.orders_7_primarykey -|- Only 9 out of 10 columns were mapped by name to the target table \"dbo\".\"orders_7_primarykey\"\n",
      "2025-06-13T22:56:30.339 +02:00 -|- FastTransfer -|- MSS22_to_MSS25 -|- INFORMATION -|- tpch_test.dbo.orders_7_primarykey -|- Start Loading Data using distribution method NTile\n",
      "2025-06-13T22:56:30.340 +02:00 -|- FastTransfer -|- MSS22_to_MSS25 -|- INFORMATION -|- tpch_test.dbo.orders_7_primarykey -|- Table \"dbo\".\"orders_7_primarykey\" has a Clustered Index. BulkCopy will use KeepNulls and UseInternalTransaction and avoid Tablock\n",
      "2025-06-13T22:56:30.340 +02:00 -|- FastTransfer -|- MSS22_to_MSS25 -|- INFORMATION -|- tpch_test.dbo.orders_7_primarykey -|- BulkCopy to \"dbo\".\"orders_7_primarykey\" with BatchSize = 1048576, Timeout = 3600\n",
      "2025-06-13T22:56:30.341 +02:00 -|- FastTransfer -|- MSS22_to_MSS25 -|- WARNING -|- tpch_test.dbo.orders_7_primarykey -|- Only 9 out of 10 columns were mapped by name to the target table \"dbo\".\"orders_7_primarykey\"\n",
      "2025-06-13T22:56:30.345 +02:00 -|- FastTransfer -|- MSS22_to_MSS25 -|- INFORMATION -|- tpch_test.dbo.orders_7_primarykey -|- Start Loading Data using distribution method NTile\n",
      "2025-06-13T22:56:30.345 +02:00 -|- FastTransfer -|- MSS22_to_MSS25 -|- INFORMATION -|- tpch_test.dbo.orders_7_primarykey -|- Table \"dbo\".\"orders_7_primarykey\" has a Clustered Index. BulkCopy will use KeepNulls and UseInternalTransaction and avoid Tablock\n",
      "2025-06-13T22:56:30.345 +02:00 -|- FastTransfer -|- MSS22_to_MSS25 -|- INFORMATION -|- tpch_test.dbo.orders_7_primarykey -|- BulkCopy to \"dbo\".\"orders_7_primarykey\" with BatchSize = 1048576, Timeout = 3600\n",
      "2025-06-13T22:56:30.346 +02:00 -|- FastTransfer -|- MSS22_to_MSS25 -|- WARNING -|- tpch_test.dbo.orders_7_primarykey -|- Only 9 out of 10 columns were mapped by name to the target table \"dbo\".\"orders_7_primarykey\"\n",
      "2025-06-13T22:56:30.348 +02:00 -|- FastTransfer -|- MSS22_to_MSS25 -|- INFORMATION -|- tpch_test.dbo.orders_7_primarykey -|- Start Loading Data using distribution method NTile\n",
      "2025-06-13T22:56:30.349 +02:00 -|- FastTransfer -|- MSS22_to_MSS25 -|- INFORMATION -|- tpch_test.dbo.orders_7_primarykey -|- Table \"dbo\".\"orders_7_primarykey\" has a Clustered Index. BulkCopy will use KeepNulls and UseInternalTransaction and avoid Tablock\n",
      "2025-06-13T22:56:30.349 +02:00 -|- FastTransfer -|- MSS22_to_MSS25 -|- INFORMATION -|- tpch_test.dbo.orders_7_primarykey -|- BulkCopy to \"dbo\".\"orders_7_primarykey\" with BatchSize = 1048576, Timeout = 3600\n",
      "2025-06-13T22:56:30.350 +02:00 -|- FastTransfer -|- MSS22_to_MSS25 -|- WARNING -|- tpch_test.dbo.orders_7_primarykey -|- Only 9 out of 10 columns were mapped by name to the target table \"dbo\".\"orders_7_primarykey\"\n",
      "2025-06-13T22:56:30.354 +02:00 -|- FastTransfer -|- MSS22_to_MSS25 -|- INFORMATION -|- tpch_test.dbo.orders_7_primarykey -|- Start Loading Data using distribution method NTile\n",
      "2025-06-13T22:56:30.355 +02:00 -|- FastTransfer -|- MSS22_to_MSS25 -|- INFORMATION -|- tpch_test.dbo.orders_7_primarykey -|- Table \"dbo\".\"orders_7_primarykey\" has a Clustered Index. BulkCopy will use KeepNulls and UseInternalTransaction and avoid Tablock\n",
      "2025-06-13T22:56:30.355 +02:00 -|- FastTransfer -|- MSS22_to_MSS25 -|- INFORMATION -|- tpch_test.dbo.orders_7_primarykey -|- BulkCopy to \"dbo\".\"orders_7_primarykey\" with BatchSize = 1048576, Timeout = 3600\n",
      "2025-06-13T22:56:30.357 +02:00 -|- FastTransfer -|- MSS22_to_MSS25 -|- WARNING -|- tpch_test.dbo.orders_7_primarykey -|- Only 9 out of 10 columns were mapped by name to the target table \"dbo\".\"orders_7_primarykey\"\n",
      "2025-06-13T22:56:30.358 +02:00 -|- FastTransfer -|- MSS22_to_MSS25 -|- INFORMATION -|- tpch_test.dbo.orders_7_primarykey -|- Start Loading Data using distribution method NTile\n",
      "2025-06-13T22:56:30.358 +02:00 -|- FastTransfer -|- MSS22_to_MSS25 -|- INFORMATION -|- tpch_test.dbo.orders_7_primarykey -|- Table \"dbo\".\"orders_7_primarykey\" has a Clustered Index. BulkCopy will use KeepNulls and UseInternalTransaction and avoid Tablock\n",
      "2025-06-13T22:56:30.359 +02:00 -|- FastTransfer -|- MSS22_to_MSS25 -|- INFORMATION -|- tpch_test.dbo.orders_7_primarykey -|- BulkCopy to \"dbo\".\"orders_7_primarykey\" with BatchSize = 1048576, Timeout = 3600\n",
      "2025-06-13T22:56:30.360 +02:00 -|- FastTransfer -|- MSS22_to_MSS25 -|- WARNING -|- tpch_test.dbo.orders_7_primarykey -|- Only 9 out of 10 columns were mapped by name to the target table \"dbo\".\"orders_7_primarykey\"\n",
      "2025-06-13T22:56:30.366 +02:00 -|- FastTransfer -|- MSS22_to_MSS25 -|- INFORMATION -|- tpch_test.dbo.orders_7_primarykey -|- Start Loading Data using distribution method NTile\n",
      "2025-06-13T22:56:30.366 +02:00 -|- FastTransfer -|- MSS22_to_MSS25 -|- INFORMATION -|- tpch_test.dbo.orders_7_primarykey -|- Table \"dbo\".\"orders_7_primarykey\" has a Clustered Index. BulkCopy will use KeepNulls and UseInternalTransaction and avoid Tablock\n",
      "2025-06-13T22:56:30.367 +02:00 -|- FastTransfer -|- MSS22_to_MSS25 -|- INFORMATION -|- tpch_test.dbo.orders_7_primarykey -|- BulkCopy to \"dbo\".\"orders_7_primarykey\" with BatchSize = 1048576, Timeout = 3600\n",
      "2025-06-13T22:56:30.368 +02:00 -|- FastTransfer -|- MSS22_to_MSS25 -|- WARNING -|- tpch_test.dbo.orders_7_primarykey -|- Only 9 out of 10 columns were mapped by name to the target table \"dbo\".\"orders_7_primarykey\"\n",
      "2025-06-13T22:56:30.376 +02:00 -|- FastTransfer -|- MSS22_to_MSS25 -|- INFORMATION -|- tpch_test.dbo.orders_7_primarykey -|- Start Loading Data using distribution method NTile\n",
      "2025-06-13T22:56:30.376 +02:00 -|- FastTransfer -|- MSS22_to_MSS25 -|- INFORMATION -|- tpch_test.dbo.orders_7_primarykey -|- Table \"dbo\".\"orders_7_primarykey\" has a Clustered Index. BulkCopy will use KeepNulls and UseInternalTransaction and avoid Tablock\n",
      "2025-06-13T22:56:30.376 +02:00 -|- FastTransfer -|- MSS22_to_MSS25 -|- INFORMATION -|- tpch_test.dbo.orders_7_primarykey -|- BulkCopy to \"dbo\".\"orders_7_primarykey\" with BatchSize = 1048576, Timeout = 3600\n",
      "2025-06-13T22:56:30.378 +02:00 -|- FastTransfer -|- MSS22_to_MSS25 -|- WARNING -|- tpch_test.dbo.orders_7_primarykey -|- Only 9 out of 10 columns were mapped by name to the target table \"dbo\".\"orders_7_primarykey\"\n",
      "2025-06-13T22:56:30.383 +02:00 -|- FastTransfer -|- MSS22_to_MSS25 -|- INFORMATION -|- tpch_test.dbo.orders_7_primarykey -|- Start Loading Data using distribution method NTile\n",
      "2025-06-13T22:56:30.383 +02:00 -|- FastTransfer -|- MSS22_to_MSS25 -|- INFORMATION -|- tpch_test.dbo.orders_7_primarykey -|- Table \"dbo\".\"orders_7_primarykey\" has a Clustered Index. BulkCopy will use KeepNulls and UseInternalTransaction and avoid Tablock\n",
      "2025-06-13T22:56:30.383 +02:00 -|- FastTransfer -|- MSS22_to_MSS25 -|- INFORMATION -|- tpch_test.dbo.orders_7_primarykey -|- BulkCopy to \"dbo\".\"orders_7_primarykey\" with BatchSize = 1048576, Timeout = 3600\n",
      "2025-06-13T22:56:30.385 +02:00 -|- FastTransfer -|- MSS22_to_MSS25 -|- WARNING -|- tpch_test.dbo.orders_7_primarykey -|- Only 9 out of 10 columns were mapped by name to the target table \"dbo\".\"orders_7_primarykey\"\n",
      "2025-06-13T22:56:30.388 +02:00 -|- FastTransfer -|- MSS22_to_MSS25 -|- INFORMATION -|- tpch_test.dbo.orders_7_primarykey -|- Start Loading Data using distribution method NTile\n",
      "2025-06-13T22:56:30.388 +02:00 -|- FastTransfer -|- MSS22_to_MSS25 -|- INFORMATION -|- tpch_test.dbo.orders_7_primarykey -|- Table \"dbo\".\"orders_7_primarykey\" has a Clustered Index. BulkCopy will use KeepNulls and UseInternalTransaction and avoid Tablock\n",
      "2025-06-13T22:56:30.388 +02:00 -|- FastTransfer -|- MSS22_to_MSS25 -|- INFORMATION -|- tpch_test.dbo.orders_7_primarykey -|- BulkCopy to \"dbo\".\"orders_7_primarykey\" with BatchSize = 1048576, Timeout = 3600\n",
      "2025-06-13T22:56:30.389 +02:00 -|- FastTransfer -|- MSS22_to_MSS25 -|- WARNING -|- tpch_test.dbo.orders_7_primarykey -|- Only 9 out of 10 columns were mapped by name to the target table \"dbo\".\"orders_7_primarykey\"\n",
      "2025-06-13T22:56:30.396 +02:00 -|- FastTransfer -|- MSS22_to_MSS25 -|- INFORMATION -|- tpch_test.dbo.orders_7_primarykey -|- Start Loading Data using distribution method NTile\n",
      "2025-06-13T22:56:30.397 +02:00 -|- FastTransfer -|- MSS22_to_MSS25 -|- INFORMATION -|- tpch_test.dbo.orders_7_primarykey -|- Table \"dbo\".\"orders_7_primarykey\" has a Clustered Index. BulkCopy will use KeepNulls and UseInternalTransaction and avoid Tablock\n",
      "2025-06-13T22:56:30.397 +02:00 -|- FastTransfer -|- MSS22_to_MSS25 -|- INFORMATION -|- tpch_test.dbo.orders_7_primarykey -|- BulkCopy to \"dbo\".\"orders_7_primarykey\" with BatchSize = 1048576, Timeout = 3600\n",
      "2025-06-13T22:56:30.399 +02:00 -|- FastTransfer -|- MSS22_to_MSS25 -|- WARNING -|- tpch_test.dbo.orders_7_primarykey -|- Only 9 out of 10 columns were mapped by name to the target table \"dbo\".\"orders_7_primarykey\"\n",
      "2025-06-13T22:56:30.400 +02:00 -|- FastTransfer -|- MSS22_to_MSS25 -|- INFORMATION -|- tpch_test.dbo.orders_7_primarykey -|- Start Loading Data using distribution method NTile\n",
      "2025-06-13T22:56:30.400 +02:00 -|- FastTransfer -|- MSS22_to_MSS25 -|- INFORMATION -|- tpch_test.dbo.orders_7_primarykey -|- Table \"dbo\".\"orders_7_primarykey\" has a Clustered Index. BulkCopy will use KeepNulls and UseInternalTransaction and avoid Tablock\n",
      "2025-06-13T22:56:30.400 +02:00 -|- FastTransfer -|- MSS22_to_MSS25 -|- INFORMATION -|- tpch_test.dbo.orders_7_primarykey -|- BulkCopy to \"dbo\".\"orders_7_primarykey\" with BatchSize = 1048576, Timeout = 3600\n",
      "2025-06-13T22:56:30.402 +02:00 -|- FastTransfer -|- MSS22_to_MSS25 -|- WARNING -|- tpch_test.dbo.orders_7_primarykey -|- Only 9 out of 10 columns were mapped by name to the target table \"dbo\".\"orders_7_primarykey\"\n",
      "2025-06-13T22:56:30.407 +02:00 -|- FastTransfer -|- MSS22_to_MSS25 -|- INFORMATION -|- tpch_test.dbo.orders_7_primarykey -|- Start Loading Data using distribution method NTile\n",
      "2025-06-13T22:56:30.407 +02:00 -|- FastTransfer -|- MSS22_to_MSS25 -|- INFORMATION -|- tpch_test.dbo.orders_7_primarykey -|- Table \"dbo\".\"orders_7_primarykey\" has a Clustered Index. BulkCopy will use KeepNulls and UseInternalTransaction and avoid Tablock\n",
      "2025-06-13T22:56:30.408 +02:00 -|- FastTransfer -|- MSS22_to_MSS25 -|- INFORMATION -|- tpch_test.dbo.orders_7_primarykey -|- BulkCopy to \"dbo\".\"orders_7_primarykey\" with BatchSize = 1048576, Timeout = 3600\n",
      "2025-06-13T22:56:30.409 +02:00 -|- FastTransfer -|- MSS22_to_MSS25 -|- WARNING -|- tpch_test.dbo.orders_7_primarykey -|- Only 9 out of 10 columns were mapped by name to the target table \"dbo\".\"orders_7_primarykey\"\n",
      "2025-06-13T22:56:35.930 +02:00 -|- FastTransfer -|- MSS22_to_MSS25 -|- INFORMATION -|- tpch_test.dbo.orders_7_primarykey -|- Completed Load Query 0 for o_orderkey between 1 and 4030401 : 937500 rows x 9 columns in 5613ms\n",
      "2025-06-13T22:56:39.695 +02:00 -|- FastTransfer -|- MSS22_to_MSS25 -|- INFORMATION -|- tpch_test.dbo.orders_7_primarykey -|- Completed Load Query 6 for o_orderkey between 24192838 and 28226534 : 937501 rows x 9 columns in 9378ms\n",
      "2025-06-13T22:56:42.647 +02:00 -|- FastTransfer -|- MSS22_to_MSS25 -|- INFORMATION -|- tpch_test.dbo.orders_7_primarykey -|- Completed Load Query 4 for o_orderkey between 16128902 and 20160199 : 937501 rows x 9 columns in 12330ms\n",
      "2025-06-13T22:56:42.780 +02:00 -|- FastTransfer -|- MSS22_to_MSS25 -|- INFORMATION -|- tpch_test.dbo.orders_7_primarykey -|- Completed Load Query 2 for o_orderkey between 8063200 and 12095555 : 937501 rows x 9 columns in 12463ms\n",
      "2025-06-13T22:56:43.565 +02:00 -|- FastTransfer -|- MSS22_to_MSS25 -|- INFORMATION -|- tpch_test.dbo.orders_7_primarykey -|- Completed Load Query 15 for o_orderkey between 66374081 and 119999974 : 937486 rows x 9 columns in 13246ms\n",
      "2025-06-13T22:56:43.929 +02:00 -|- FastTransfer -|- MSS22_to_MSS25 -|- INFORMATION -|- tpch_test.dbo.orders_7_primarykey -|- Completed Load Query 1 for o_orderkey between 4030402 and 8063175 : 937501 rows x 9 columns in 13612ms\n",
      "2025-06-13T22:56:43.933 +02:00 -|- FastTransfer -|- MSS22_to_MSS25 -|- INFORMATION -|- tpch_test.dbo.orders_7_primarykey -|- Completed Load Query 10 for o_orderkey between 40319809 and 44350019 : 937501 rows x 9 columns in 13615ms\n",
      "2025-06-13T22:56:45.186 +02:00 -|- FastTransfer -|- MSS22_to_MSS25 -|- INFORMATION -|- tpch_test.dbo.orders_7_primarykey -|- Completed Load Query 13 for o_orderkey between 52413184 and 56445281 : 937501 rows x 9 columns in 14868ms\n",
      "2025-06-13T22:56:45.263 +02:00 -|- FastTransfer -|- MSS22_to_MSS25 -|- INFORMATION -|- tpch_test.dbo.orders_7_primarykey -|- Completed Load Query 7 for o_orderkey between 28226535 and 32255681 : 937501 rows x 9 columns in 14946ms\n",
      "2025-06-13T22:56:45.771 +02:00 -|- FastTransfer -|- MSS22_to_MSS25 -|- INFORMATION -|- tpch_test.dbo.orders_7_primarykey -|- Completed Load Query 5 for o_orderkey between 20160224 and 24192837 : 937501 rows x 9 columns in 15454ms\n",
      "2025-06-13T22:56:45.777 +02:00 -|- FastTransfer -|- MSS22_to_MSS25 -|- INFORMATION -|- tpch_test.dbo.orders_7_primarykey -|- Completed Load Query 11 for o_orderkey between 44350020 and 48381669 : 937501 rows x 9 columns in 15459ms\n",
      "2025-06-13T22:56:45.988 +02:00 -|- FastTransfer -|- MSS22_to_MSS25 -|- INFORMATION -|- tpch_test.dbo.orders_7_primarykey -|- Completed Load Query 3 for o_orderkey between 12095556 and 16128901 : 937501 rows x 9 columns in 15671ms\n",
      "2025-06-13T22:56:46.062 +02:00 -|- FastTransfer -|- MSS22_to_MSS25 -|- INFORMATION -|- tpch_test.dbo.orders_7_primarykey -|- Completed Load Query 12 for o_orderkey between 48381670 and 52413159 : 937501 rows x 9 columns in 15744ms\n",
      "2025-06-13T22:56:47.278 +02:00 -|- FastTransfer -|- MSS22_to_MSS25 -|- INFORMATION -|- tpch_test.dbo.orders_7_primarykey -|- Completed Load Query 8 for o_orderkey between 32255682 and 36288229 : 937501 rows x 9 columns in 16961ms\n",
      "2025-06-13T22:56:47.399 +02:00 -|- FastTransfer -|- MSS22_to_MSS25 -|- INFORMATION -|- tpch_test.dbo.orders_7_primarykey -|- Completed Load Query 14 for o_orderkey between 56445282 and 66373955 : 937501 rows x 9 columns in 17081ms\n",
      "2025-06-13T22:56:47.964 +02:00 -|- FastTransfer -|- MSS22_to_MSS25 -|- INFORMATION -|- tpch_test.dbo.orders_7_primarykey -|- Completed Load Query 9 for o_orderkey between 36288230 and 40319808 : 937501 rows x 9 columns in 17646ms\n",
      "2025-06-13T22:56:47.967 +02:00 -|- FastTransfer -|- MSS22_to_MSS25 -|- INFORMATION -|- tpch_test.dbo.orders_7_primarykey -|- Total rows : 15000000\n",
      "2025-06-13T22:56:47.967 +02:00 -|- FastTransfer -|- MSS22_to_MSS25 -|- INFORMATION -|- tpch_test.dbo.orders_7_primarykey -|- Total columns : 9\n",
      "2025-06-13T22:56:47.967 +02:00 -|- FastTransfer -|- MSS22_to_MSS25 -|- INFORMATION -|- tpch_test.dbo.orders_7_primarykey -|- Total cells : 135000000\n",
      "2025-06-13T22:56:47.967 +02:00 -|- FastTransfer -|- MSS22_to_MSS25 -|- INFORMATION -|- tpch_test.dbo.orders_7_primarykey -|- Rows Throughput : 787926 rows/s\n",
      "2025-06-13T22:56:47.967 +02:00 -|- FastTransfer -|- MSS22_to_MSS25 -|- INFORMATION -|- tpch_test.dbo.orders_7_primarykey -|- Cells Throughput : 7091346 cells/s\n",
      "2025-06-13T22:56:47.967 +02:00 -|- FastTransfer -|- MSS22_to_MSS25 -|- INFORMATION -|- tpch_test.dbo.orders_7_primarykey -|- Transfert time : Elapsed=19037 ms\n",
      "2025-06-13T22:56:47.967 +02:00 -|- FastTransfer -|- MSS22_to_MSS25 -|- INFORMATION -|- tpch_test.dbo.orders_7_primarykey -|- Total time : Elapsed=19239 ms\n",
      "2025-06-13T22:56:47.967 +02:00 -|- FastTransfer -|- MSS22_to_MSS25 -|- INFORMATION -|- tpch_test.dbo.orders_7_primarykey -|- Completed Load\n"
     ]
    }
   ],
   "source": [
    "cd D:\\FastTransfer\n",
    "\n",
    ".\\FastTransfer.exe `\n",
    "--sourceconnectiontype \"mssql\" `\n",
    "--sourceserver \"localhost\" `\n",
    "--sourcedatabase \"tpch10_collation_bin2\" `\n",
    "--sourcetrusted `\n",
    "--sourceschema \"dbo\" `\n",
    "--sourcetable \"orders_15M\" `\n",
    "`\n",
    "--targetconnectiontype \"msbulk\" `\n",
    "--targetserver \"localhost\\SS2025\" `\n",
    "--targettrusted `\n",
    "--targetdatabase \"tpch_test\" `\n",
    "--targetschema \"dbo\" `\n",
    "--targettable \"orders_7_primarykey\" `\n",
    "`\n",
    "--loadmode \"Truncate\" `\n",
    "--mapmethod \"Name\" `\n",
    "--method \"Ntile\" `\n",
    "--distributekeycolumn \"o_orderkey\" `\n",
    "--degree -2 `\n",
    "--runid \"MSS22_to_MSS25\""
   ]
  },
  {
   "cell_type": "markdown",
   "id": "53939b11",
   "metadata": {},
   "source": [
    "#### Target orders with a primary key and 2 secondary index\n",
    "\n",
    "Check sp_whoisactive results during load"
   ]
  },
  {
   "cell_type": "code",
   "execution_count": null,
   "id": "df137a4b",
   "metadata": {
    "polyglot_notebook": {
     "kernelName": "sql-SS2025_tpch_test"
    }
   },
   "outputs": [
    {
     "data": {
      "text/plain": [
       "Commandes exécutées."
      ]
     },
     "metadata": {},
     "output_type": "display_data"
    }
   ],
   "source": [
    "CREATE INDEX IX_o_orderdate ON orders_7_primarykey(o_orderdate);"
   ]
  },
  {
   "cell_type": "code",
   "execution_count": null,
   "id": "568fb09e",
   "metadata": {
    "polyglot_notebook": {
     "kernelName": "pwsh"
    }
   },
   "outputs": [
    {
     "name": "stdout",
     "output_type": "stream",
     "text": [
      "2025-06-13T22:56:50.743 +02:00 -|- FastTransfer -|- MSS22_to_MSS25 -|- INFORMATION -|- tpch_test.dbo.orders_7_primarykey -|- Starting\n",
      "2025-06-13T22:56:50.752 +02:00 -|- FastTransfer -|- MSS22_to_MSS25 -|- INFORMATION -|- tpch_test.dbo.orders_7_primarykey -|- FastTransfer Version : 0.13.4.0 Architecture : X64 - Framework : .NET 8.0.15\n",
      "2025-06-13T22:56:50.752 +02:00 -|- FastTransfer -|- MSS22_to_MSS25 -|- INFORMATION -|- tpch_test.dbo.orders_7_primarykey -|- OS : Microsoft Windows 10.0.26100\n",
      "2025-06-13T22:56:50.752 +02:00 -|- FastTransfer -|- MSS22_to_MSS25 -|- INFORMATION -|- tpch_test.dbo.orders_7_primarykey -|- Process ID : 50964\n",
      "2025-06-13T22:56:50.752 +02:00 -|- FastTransfer -|- MSS22_to_MSS25 -|- INFORMATION -|- tpch_test.dbo.orders_7_primarykey -|- Provided Run ID : MSS22_to_MSS25\n",
      "2025-06-13T22:56:50.752 +02:00 -|- FastTransfer -|- MSS22_to_MSS25 -|- INFORMATION -|- tpch_test.dbo.orders_7_primarykey -|- Source Connection Type : mssql\n",
      "2025-06-13T22:56:50.752 +02:00 -|- FastTransfer -|- MSS22_to_MSS25 -|- INFORMATION -|- tpch_test.dbo.orders_7_primarykey -|- Source SqlInstance : localhost\n",
      "2025-06-13T22:56:50.752 +02:00 -|- FastTransfer -|- MSS22_to_MSS25 -|- INFORMATION -|- tpch_test.dbo.orders_7_primarykey -|- Source Database : tpch10_collation_bin2\n",
      "2025-06-13T22:56:50.753 +02:00 -|- FastTransfer -|- MSS22_to_MSS25 -|- INFORMATION -|- tpch_test.dbo.orders_7_primarykey -|- Source Trusted Connection : True\n",
      "2025-06-13T22:56:50.753 +02:00 -|- FastTransfer -|- MSS22_to_MSS25 -|- INFORMATION -|- tpch_test.dbo.orders_7_primarykey -|- Source Schema : dbo\n",
      "2025-06-13T22:56:50.753 +02:00 -|- FastTransfer -|- MSS22_to_MSS25 -|- INFORMATION -|- tpch_test.dbo.orders_7_primarykey -|- Source Table : orders_15M\n",
      "2025-06-13T22:56:50.753 +02:00 -|- FastTransfer -|- MSS22_to_MSS25 -|- INFORMATION -|- tpch_test.dbo.orders_7_primarykey -|- Target Type : msbulk\n",
      "2025-06-13T22:56:50.753 +02:00 -|- FastTransfer -|- MSS22_to_MSS25 -|- INFORMATION -|- tpch_test.dbo.orders_7_primarykey -|- Target Server : localhost\\SS2025\n",
      "2025-06-13T22:56:50.753 +02:00 -|- FastTransfer -|- MSS22_to_MSS25 -|- INFORMATION -|- tpch_test.dbo.orders_7_primarykey -|- Target Database : tpch_test\n",
      "2025-06-13T22:56:50.753 +02:00 -|- FastTransfer -|- MSS22_to_MSS25 -|- INFORMATION -|- tpch_test.dbo.orders_7_primarykey -|- Target Schema : dbo\n",
      "2025-06-13T22:56:50.753 +02:00 -|- FastTransfer -|- MSS22_to_MSS25 -|- INFORMATION -|- tpch_test.dbo.orders_7_primarykey -|- Target Table : orders_7_primarykey\n",
      "2025-06-13T22:56:50.753 +02:00 -|- FastTransfer -|- MSS22_to_MSS25 -|- INFORMATION -|- tpch_test.dbo.orders_7_primarykey -|- Target Trusted Connection : True\n",
      "2025-06-13T22:56:50.753 +02:00 -|- FastTransfer -|- MSS22_to_MSS25 -|- INFORMATION -|- tpch_test.dbo.orders_7_primarykey -|- Columns Map Method : Name\n",
      "2025-06-13T22:56:50.753 +02:00 -|- FastTransfer -|- MSS22_to_MSS25 -|- INFORMATION -|- tpch_test.dbo.orders_7_primarykey -|- Degree : -2\n",
      "2025-06-13T22:56:50.753 +02:00 -|- FastTransfer -|- MSS22_to_MSS25 -|- INFORMATION -|- tpch_test.dbo.orders_7_primarykey -|- Distribute Method : Ntile\n",
      "2025-06-13T22:56:50.753 +02:00 -|- FastTransfer -|- MSS22_to_MSS25 -|- INFORMATION -|- tpch_test.dbo.orders_7_primarykey -|- Distribute Column : o_orderkey\n",
      "2025-06-13T22:56:50.753 +02:00 -|- FastTransfer -|- MSS22_to_MSS25 -|- INFORMATION -|- tpch_test.dbo.orders_7_primarykey -|- Bulkcopy Batch Size : 1048576\n",
      "2025-06-13T22:56:50.753 +02:00 -|- FastTransfer -|- MSS22_to_MSS25 -|- INFORMATION -|- tpch_test.dbo.orders_7_primarykey -|- Load Mode : Truncate\n",
      "2025-06-13T22:56:50.753 +02:00 -|- FastTransfer -|- MSS22_to_MSS25 -|- INFORMATION -|- tpch_test.dbo.orders_7_primarykey -|- Use Work Tables : False\n",
      "2025-06-13T22:56:50.753 +02:00 -|- FastTransfer -|- MSS22_to_MSS25 -|- INFORMATION -|- tpch_test.dbo.orders_7_primarykey -|- Encoding used : Unicode (UTF-8) - 65001 - utf-8\n",
      "2025-06-13T22:56:50.768 +02:00 -|- FastTransfer -|- MSS22_to_MSS25 -|- INFORMATION -|- tpch_test.dbo.orders_7_primarykey -|- Source Connection String : Data Source=localhost;Initial Catalog=tpch10_collation_bin2;Integrated Security=True;Connect Timeout=120;Encrypt=True;Trust Server Certificate=True;Application Name=FastTransfer;Application Intent=ReadOnly;Command Timeout=10800\n",
      "2025-06-13T22:56:50.768 +02:00 -|- FastTransfer -|- MSS22_to_MSS25 -|- INFORMATION -|- tpch_test.dbo.orders_7_primarykey -|- Target Connection String : Data Source=localhost\\SS2025;Initial Catalog=tpch_test;Integrated Security=True;Connect Timeout=120;Encrypt=True;Trust Server Certificate=True;Application Name=FastTransfer;Application Intent=ReadWrite;Command Timeout=10800\n",
      "2025-06-13T22:56:50.768 +02:00 -|- FastTransfer -|- MSS22_to_MSS25 -|- INFORMATION -|- tpch_test.dbo.orders_7_primarykey -|- Source Database Version : Microsoft SQL Server 2022 (RTM-CU17) (KB5048038) - 16.0.4175.1 (X64)  \tDec 13 2024 09:01:53  \tCopyright (C) 2022 Microsoft Corporation \tDeveloper Edition (64-bit) on Windows 10 Pro 10.0 <X64> (Build 26100: ) (Hypervisor) \n",
      "2025-06-13T22:56:50.768 +02:00 -|- FastTransfer -|- MSS22_to_MSS25 -|- INFORMATION -|- tpch_test.dbo.orders_7_primarykey -|- Target Database Version : Microsoft SQL Server 2025 (CTP2.0) - 17.0.700.9 (X64)  \tMay  8 2025 19:14:27  \tCopyright (C) 2025 Microsoft Corporation \tEnterprise Developer Edition (64-bit) on Windows 10 Pro 10.0 <X64> (Build 26100: ) (Hypervisor) \n",
      "2025-06-13T22:56:50.774 +02:00 -|- FastTransfer -|- MSS22_to_MSS25 -|- INFORMATION -|- tpch_test.dbo.orders_7_primarykey -|- Degree of parallelism was computed to 16 (=> 32\\2)\n",
      "2025-06-13T22:56:52.148 +02:00 -|- FastTransfer -|- MSS22_to_MSS25 -|- INFORMATION -|- tpch_test.dbo.orders_7_primarykey -|- Ntile DataSegments Computation Completed in 1374 ms\n",
      "2025-06-13T22:56:52.153 +02:00 -|- FastTransfer -|- MSS22_to_MSS25 -|- INFORMATION -|- tpch_test.dbo.orders_7_primarykey -|- Start Loading Data using distribution method NTile\n",
      "2025-06-13T22:56:52.154 +02:00 -|- FastTransfer -|- MSS22_to_MSS25 -|- INFORMATION -|- tpch_test.dbo.orders_7_primarykey -|- Table \"dbo\".\"orders_7_primarykey\" has a Clustered Index. BulkCopy will use KeepNulls and UseInternalTransaction and avoid Tablock\n",
      "2025-06-13T22:56:52.155 +02:00 -|- FastTransfer -|- MSS22_to_MSS25 -|- INFORMATION -|- tpch_test.dbo.orders_7_primarykey -|- BulkCopy to \"dbo\".\"orders_7_primarykey\" with BatchSize = 1048576, Timeout = 3600\n",
      "2025-06-13T22:56:52.156 +02:00 -|- FastTransfer -|- MSS22_to_MSS25 -|- WARNING -|- tpch_test.dbo.orders_7_primarykey -|- Only 9 out of 10 columns were mapped by name to the target table \"dbo\".\"orders_7_primarykey\"\n",
      "2025-06-13T22:56:52.164 +02:00 -|- FastTransfer -|- MSS22_to_MSS25 -|- INFORMATION -|- tpch_test.dbo.orders_7_primarykey -|- Start Loading Data using distribution method NTile\n",
      "2025-06-13T22:56:52.165 +02:00 -|- FastTransfer -|- MSS22_to_MSS25 -|- INFORMATION -|- tpch_test.dbo.orders_7_primarykey -|- Table \"dbo\".\"orders_7_primarykey\" has a Clustered Index. BulkCopy will use KeepNulls and UseInternalTransaction and avoid Tablock\n",
      "2025-06-13T22:56:52.165 +02:00 -|- FastTransfer -|- MSS22_to_MSS25 -|- INFORMATION -|- tpch_test.dbo.orders_7_primarykey -|- BulkCopy to \"dbo\".\"orders_7_primarykey\" with BatchSize = 1048576, Timeout = 3600\n",
      "2025-06-13T22:56:52.166 +02:00 -|- FastTransfer -|- MSS22_to_MSS25 -|- WARNING -|- tpch_test.dbo.orders_7_primarykey -|- Only 9 out of 10 columns were mapped by name to the target table \"dbo\".\"orders_7_primarykey\"\n",
      "2025-06-13T22:56:52.167 +02:00 -|- FastTransfer -|- MSS22_to_MSS25 -|- INFORMATION -|- tpch_test.dbo.orders_7_primarykey -|- Start Loading Data using distribution method NTile\n",
      "2025-06-13T22:56:52.167 +02:00 -|- FastTransfer -|- MSS22_to_MSS25 -|- INFORMATION -|- tpch_test.dbo.orders_7_primarykey -|- Table \"dbo\".\"orders_7_primarykey\" has a Clustered Index. BulkCopy will use KeepNulls and UseInternalTransaction and avoid Tablock\n",
      "2025-06-13T22:56:52.168 +02:00 -|- FastTransfer -|- MSS22_to_MSS25 -|- INFORMATION -|- tpch_test.dbo.orders_7_primarykey -|- BulkCopy to \"dbo\".\"orders_7_primarykey\" with BatchSize = 1048576, Timeout = 3600\n",
      "2025-06-13T22:56:52.169 +02:00 -|- FastTransfer -|- MSS22_to_MSS25 -|- WARNING -|- tpch_test.dbo.orders_7_primarykey -|- Only 9 out of 10 columns were mapped by name to the target table \"dbo\".\"orders_7_primarykey\"\n",
      "2025-06-13T22:56:52.173 +02:00 -|- FastTransfer -|- MSS22_to_MSS25 -|- INFORMATION -|- tpch_test.dbo.orders_7_primarykey -|- Start Loading Data using distribution method NTile\n",
      "2025-06-13T22:56:52.174 +02:00 -|- FastTransfer -|- MSS22_to_MSS25 -|- INFORMATION -|- tpch_test.dbo.orders_7_primarykey -|- Table \"dbo\".\"orders_7_primarykey\" has a Clustered Index. BulkCopy will use KeepNulls and UseInternalTransaction and avoid Tablock\n",
      "2025-06-13T22:56:52.174 +02:00 -|- FastTransfer -|- MSS22_to_MSS25 -|- INFORMATION -|- tpch_test.dbo.orders_7_primarykey -|- BulkCopy to \"dbo\".\"orders_7_primarykey\" with BatchSize = 1048576, Timeout = 3600\n",
      "2025-06-13T22:56:52.175 +02:00 -|- FastTransfer -|- MSS22_to_MSS25 -|- WARNING -|- tpch_test.dbo.orders_7_primarykey -|- Only 9 out of 10 columns were mapped by name to the target table \"dbo\".\"orders_7_primarykey\"\n",
      "2025-06-13T22:56:52.176 +02:00 -|- FastTransfer -|- MSS22_to_MSS25 -|- INFORMATION -|- tpch_test.dbo.orders_7_primarykey -|- Start Loading Data using distribution method NTile\n",
      "2025-06-13T22:56:52.177 +02:00 -|- FastTransfer -|- MSS22_to_MSS25 -|- INFORMATION -|- tpch_test.dbo.orders_7_primarykey -|- Table \"dbo\".\"orders_7_primarykey\" has a Clustered Index. BulkCopy will use KeepNulls and UseInternalTransaction and avoid Tablock\n",
      "2025-06-13T22:56:52.177 +02:00 -|- FastTransfer -|- MSS22_to_MSS25 -|- INFORMATION -|- tpch_test.dbo.orders_7_primarykey -|- BulkCopy to \"dbo\".\"orders_7_primarykey\" with BatchSize = 1048576, Timeout = 3600\n",
      "2025-06-13T22:56:52.178 +02:00 -|- FastTransfer -|- MSS22_to_MSS25 -|- WARNING -|- tpch_test.dbo.orders_7_primarykey -|- Only 9 out of 10 columns were mapped by name to the target table \"dbo\".\"orders_7_primarykey\"\n",
      "2025-06-13T22:56:52.183 +02:00 -|- FastTransfer -|- MSS22_to_MSS25 -|- INFORMATION -|- tpch_test.dbo.orders_7_primarykey -|- Start Loading Data using distribution method NTile\n",
      "2025-06-13T22:56:52.183 +02:00 -|- FastTransfer -|- MSS22_to_MSS25 -|- INFORMATION -|- tpch_test.dbo.orders_7_primarykey -|- Table \"dbo\".\"orders_7_primarykey\" has a Clustered Index. BulkCopy will use KeepNulls and UseInternalTransaction and avoid Tablock\n",
      "2025-06-13T22:56:52.184 +02:00 -|- FastTransfer -|- MSS22_to_MSS25 -|- INFORMATION -|- tpch_test.dbo.orders_7_primarykey -|- BulkCopy to \"dbo\".\"orders_7_primarykey\" with BatchSize = 1048576, Timeout = 3600\n",
      "2025-06-13T22:56:52.185 +02:00 -|- FastTransfer -|- MSS22_to_MSS25 -|- WARNING -|- tpch_test.dbo.orders_7_primarykey -|- Only 9 out of 10 columns were mapped by name to the target table \"dbo\".\"orders_7_primarykey\"\n",
      "2025-06-13T22:56:52.186 +02:00 -|- FastTransfer -|- MSS22_to_MSS25 -|- INFORMATION -|- tpch_test.dbo.orders_7_primarykey -|- Start Loading Data using distribution method NTile\n",
      "2025-06-13T22:56:52.187 +02:00 -|- FastTransfer -|- MSS22_to_MSS25 -|- INFORMATION -|- tpch_test.dbo.orders_7_primarykey -|- Table \"dbo\".\"orders_7_primarykey\" has a Clustered Index. BulkCopy will use KeepNulls and UseInternalTransaction and avoid Tablock\n",
      "2025-06-13T22:56:52.187 +02:00 -|- FastTransfer -|- MSS22_to_MSS25 -|- INFORMATION -|- tpch_test.dbo.orders_7_primarykey -|- BulkCopy to \"dbo\".\"orders_7_primarykey\" with BatchSize = 1048576, Timeout = 3600\n",
      "2025-06-13T22:56:52.188 +02:00 -|- FastTransfer -|- MSS22_to_MSS25 -|- WARNING -|- tpch_test.dbo.orders_7_primarykey -|- Only 9 out of 10 columns were mapped by name to the target table \"dbo\".\"orders_7_primarykey\"\n",
      "2025-06-13T22:56:52.196 +02:00 -|- FastTransfer -|- MSS22_to_MSS25 -|- INFORMATION -|- tpch_test.dbo.orders_7_primarykey -|- Start Loading Data using distribution method NTile\n",
      "2025-06-13T22:56:52.196 +02:00 -|- FastTransfer -|- MSS22_to_MSS25 -|- INFORMATION -|- tpch_test.dbo.orders_7_primarykey -|- Table \"dbo\".\"orders_7_primarykey\" has a Clustered Index. BulkCopy will use KeepNulls and UseInternalTransaction and avoid Tablock\n",
      "2025-06-13T22:56:52.197 +02:00 -|- FastTransfer -|- MSS22_to_MSS25 -|- INFORMATION -|- tpch_test.dbo.orders_7_primarykey -|- BulkCopy to \"dbo\".\"orders_7_primarykey\" with BatchSize = 1048576, Timeout = 3600\n",
      "2025-06-13T22:56:52.198 +02:00 -|- FastTransfer -|- MSS22_to_MSS25 -|- WARNING -|- tpch_test.dbo.orders_7_primarykey -|- Only 9 out of 10 columns were mapped by name to the target table \"dbo\".\"orders_7_primarykey\"\n",
      "2025-06-13T22:56:52.204 +02:00 -|- FastTransfer -|- MSS22_to_MSS25 -|- INFORMATION -|- tpch_test.dbo.orders_7_primarykey -|- Start Loading Data using distribution method NTile\n",
      "2025-06-13T22:56:52.205 +02:00 -|- FastTransfer -|- MSS22_to_MSS25 -|- INFORMATION -|- tpch_test.dbo.orders_7_primarykey -|- Table \"dbo\".\"orders_7_primarykey\" has a Clustered Index. BulkCopy will use KeepNulls and UseInternalTransaction and avoid Tablock\n",
      "2025-06-13T22:56:52.205 +02:00 -|- FastTransfer -|- MSS22_to_MSS25 -|- INFORMATION -|- tpch_test.dbo.orders_7_primarykey -|- BulkCopy to \"dbo\".\"orders_7_primarykey\" with BatchSize = 1048576, Timeout = 3600\n",
      "2025-06-13T22:56:52.211 +02:00 -|- FastTransfer -|- MSS22_to_MSS25 -|- WARNING -|- tpch_test.dbo.orders_7_primarykey -|- Only 9 out of 10 columns were mapped by name to the target table \"dbo\".\"orders_7_primarykey\"\n",
      "2025-06-13T22:56:52.219 +02:00 -|- FastTransfer -|- MSS22_to_MSS25 -|- INFORMATION -|- tpch_test.dbo.orders_7_primarykey -|- Start Loading Data using distribution method NTile\n",
      "2025-06-13T22:56:52.219 +02:00 -|- FastTransfer -|- MSS22_to_MSS25 -|- INFORMATION -|- tpch_test.dbo.orders_7_primarykey -|- Table \"dbo\".\"orders_7_primarykey\" has a Clustered Index. BulkCopy will use KeepNulls and UseInternalTransaction and avoid Tablock\n",
      "2025-06-13T22:56:52.219 +02:00 -|- FastTransfer -|- MSS22_to_MSS25 -|- INFORMATION -|- tpch_test.dbo.orders_7_primarykey -|- BulkCopy to \"dbo\".\"orders_7_primarykey\" with BatchSize = 1048576, Timeout = 3600\n",
      "2025-06-13T22:56:52.221 +02:00 -|- FastTransfer -|- MSS22_to_MSS25 -|- WARNING -|- tpch_test.dbo.orders_7_primarykey -|- Only 9 out of 10 columns were mapped by name to the target table \"dbo\".\"orders_7_primarykey\"\n",
      "2025-06-13T22:56:52.226 +02:00 -|- FastTransfer -|- MSS22_to_MSS25 -|- INFORMATION -|- tpch_test.dbo.orders_7_primarykey -|- Start Loading Data using distribution method NTile\n",
      "2025-06-13T22:56:52.226 +02:00 -|- FastTransfer -|- MSS22_to_MSS25 -|- INFORMATION -|- tpch_test.dbo.orders_7_primarykey -|- Table \"dbo\".\"orders_7_primarykey\" has a Clustered Index. BulkCopy will use KeepNulls and UseInternalTransaction and avoid Tablock\n",
      "2025-06-13T22:56:52.226 +02:00 -|- FastTransfer -|- MSS22_to_MSS25 -|- INFORMATION -|- tpch_test.dbo.orders_7_primarykey -|- BulkCopy to \"dbo\".\"orders_7_primarykey\" with BatchSize = 1048576, Timeout = 3600\n",
      "2025-06-13T22:56:52.227 +02:00 -|- FastTransfer -|- MSS22_to_MSS25 -|- WARNING -|- tpch_test.dbo.orders_7_primarykey -|- Only 9 out of 10 columns were mapped by name to the target table \"dbo\".\"orders_7_primarykey\"\n",
      "2025-06-13T22:56:52.228 +02:00 -|- FastTransfer -|- MSS22_to_MSS25 -|- INFORMATION -|- tpch_test.dbo.orders_7_primarykey -|- Start Loading Data using distribution method NTile\n",
      "2025-06-13T22:56:52.229 +02:00 -|- FastTransfer -|- MSS22_to_MSS25 -|- INFORMATION -|- tpch_test.dbo.orders_7_primarykey -|- Table \"dbo\".\"orders_7_primarykey\" has a Clustered Index. BulkCopy will use KeepNulls and UseInternalTransaction and avoid Tablock\n",
      "2025-06-13T22:56:52.229 +02:00 -|- FastTransfer -|- MSS22_to_MSS25 -|- INFORMATION -|- tpch_test.dbo.orders_7_primarykey -|- BulkCopy to \"dbo\".\"orders_7_primarykey\" with BatchSize = 1048576, Timeout = 3600\n",
      "2025-06-13T22:56:52.230 +02:00 -|- FastTransfer -|- MSS22_to_MSS25 -|- WARNING -|- tpch_test.dbo.orders_7_primarykey -|- Only 9 out of 10 columns were mapped by name to the target table \"dbo\".\"orders_7_primarykey\"\n",
      "2025-06-13T22:56:52.232 +02:00 -|- FastTransfer -|- MSS22_to_MSS25 -|- INFORMATION -|- tpch_test.dbo.orders_7_primarykey -|- Start Loading Data using distribution method NTile\n",
      "2025-06-13T22:56:52.232 +02:00 -|- FastTransfer -|- MSS22_to_MSS25 -|- INFORMATION -|- tpch_test.dbo.orders_7_primarykey -|- Table \"dbo\".\"orders_7_primarykey\" has a Clustered Index. BulkCopy will use KeepNulls and UseInternalTransaction and avoid Tablock\n",
      "2025-06-13T22:56:52.232 +02:00 -|- FastTransfer -|- MSS22_to_MSS25 -|- INFORMATION -|- tpch_test.dbo.orders_7_primarykey -|- BulkCopy to \"dbo\".\"orders_7_primarykey\" with BatchSize = 1048576, Timeout = 3600\n",
      "2025-06-13T22:56:52.234 +02:00 -|- FastTransfer -|- MSS22_to_MSS25 -|- WARNING -|- tpch_test.dbo.orders_7_primarykey -|- Only 9 out of 10 columns were mapped by name to the target table \"dbo\".\"orders_7_primarykey\"\n",
      "2025-06-13T22:56:52.235 +02:00 -|- FastTransfer -|- MSS22_to_MSS25 -|- INFORMATION -|- tpch_test.dbo.orders_7_primarykey -|- Start Loading Data using distribution method NTile\n",
      "2025-06-13T22:56:52.236 +02:00 -|- FastTransfer -|- MSS22_to_MSS25 -|- INFORMATION -|- tpch_test.dbo.orders_7_primarykey -|- Table \"dbo\".\"orders_7_primarykey\" has a Clustered Index. BulkCopy will use KeepNulls and UseInternalTransaction and avoid Tablock\n",
      "2025-06-13T22:56:52.236 +02:00 -|- FastTransfer -|- MSS22_to_MSS25 -|- INFORMATION -|- tpch_test.dbo.orders_7_primarykey -|- BulkCopy to \"dbo\".\"orders_7_primarykey\" with BatchSize = 1048576, Timeout = 3600\n",
      "2025-06-13T22:56:52.237 +02:00 -|- FastTransfer -|- MSS22_to_MSS25 -|- WARNING -|- tpch_test.dbo.orders_7_primarykey -|- Only 9 out of 10 columns were mapped by name to the target table \"dbo\".\"orders_7_primarykey\"\n",
      "2025-06-13T22:56:52.238 +02:00 -|- FastTransfer -|- MSS22_to_MSS25 -|- INFORMATION -|- tpch_test.dbo.orders_7_primarykey -|- Start Loading Data using distribution method NTile\n",
      "2025-06-13T22:56:52.238 +02:00 -|- FastTransfer -|- MSS22_to_MSS25 -|- INFORMATION -|- tpch_test.dbo.orders_7_primarykey -|- Table \"dbo\".\"orders_7_primarykey\" has a Clustered Index. BulkCopy will use KeepNulls and UseInternalTransaction and avoid Tablock\n",
      "2025-06-13T22:56:52.239 +02:00 -|- FastTransfer -|- MSS22_to_MSS25 -|- INFORMATION -|- tpch_test.dbo.orders_7_primarykey -|- BulkCopy to \"dbo\".\"orders_7_primarykey\" with BatchSize = 1048576, Timeout = 3600\n",
      "2025-06-13T22:56:52.240 +02:00 -|- FastTransfer -|- MSS22_to_MSS25 -|- WARNING -|- tpch_test.dbo.orders_7_primarykey -|- Only 9 out of 10 columns were mapped by name to the target table \"dbo\".\"orders_7_primarykey\"\n",
      "2025-06-13T22:56:52.242 +02:00 -|- FastTransfer -|- MSS22_to_MSS25 -|- INFORMATION -|- tpch_test.dbo.orders_7_primarykey -|- Start Loading Data using distribution method NTile\n",
      "2025-06-13T22:56:52.242 +02:00 -|- FastTransfer -|- MSS22_to_MSS25 -|- INFORMATION -|- tpch_test.dbo.orders_7_primarykey -|- Table \"dbo\".\"orders_7_primarykey\" has a Clustered Index. BulkCopy will use KeepNulls and UseInternalTransaction and avoid Tablock\n",
      "2025-06-13T22:56:52.242 +02:00 -|- FastTransfer -|- MSS22_to_MSS25 -|- INFORMATION -|- tpch_test.dbo.orders_7_primarykey -|- BulkCopy to \"dbo\".\"orders_7_primarykey\" with BatchSize = 1048576, Timeout = 3600\n",
      "2025-06-13T22:56:52.243 +02:00 -|- FastTransfer -|- MSS22_to_MSS25 -|- WARNING -|- tpch_test.dbo.orders_7_primarykey -|- Only 9 out of 10 columns were mapped by name to the target table \"dbo\".\"orders_7_primarykey\"\n",
      "2025-06-13T22:57:00.145 +02:00 -|- FastTransfer -|- MSS22_to_MSS25 -|- INFORMATION -|- tpch_test.dbo.orders_7_primarykey -|- Completed Load Query 0 for o_orderkey between 1 and 4030401 : 937500 rows x 9 columns in 7992ms\n",
      "2025-06-13T22:57:07.713 +02:00 -|- FastTransfer -|- MSS22_to_MSS25 -|- INFORMATION -|- tpch_test.dbo.orders_7_primarykey -|- Completed Load Query 15 for o_orderkey between 66374081 and 119999974 : 937486 rows x 9 columns in 15558ms\n",
      "2025-06-13T22:57:08.624 +02:00 -|- FastTransfer -|- MSS22_to_MSS25 -|- INFORMATION -|- tpch_test.dbo.orders_7_primarykey -|- Completed Load Query 2 for o_orderkey between 8063200 and 12095555 : 937501 rows x 9 columns in 16471ms\n",
      "2025-06-13T22:57:14.209 +02:00 -|- FastTransfer -|- MSS22_to_MSS25 -|- INFORMATION -|- tpch_test.dbo.orders_7_primarykey -|- Completed Load Query 5 for o_orderkey between 20160224 and 24192837 : 937501 rows x 9 columns in 22056ms\n",
      "2025-06-13T22:57:16.676 +02:00 -|- FastTransfer -|- MSS22_to_MSS25 -|- INFORMATION -|- tpch_test.dbo.orders_7_primarykey -|- Completed Load Query 3 for o_orderkey between 12095556 and 16128901 : 937501 rows x 9 columns in 24523ms\n",
      "2025-06-13T22:57:19.590 +02:00 -|- FastTransfer -|- MSS22_to_MSS25 -|- INFORMATION -|- tpch_test.dbo.orders_7_primarykey -|- Completed Load Query 12 for o_orderkey between 48381670 and 52413159 : 937501 rows x 9 columns in 27435ms\n",
      "2025-06-13T22:57:21.393 +02:00 -|- FastTransfer -|- MSS22_to_MSS25 -|- INFORMATION -|- tpch_test.dbo.orders_7_primarykey -|- Completed Load Query 4 for o_orderkey between 16128902 and 20160199 : 937501 rows x 9 columns in 29240ms\n",
      "2025-06-13T22:57:26.775 +02:00 -|- FastTransfer -|- MSS22_to_MSS25 -|- INFORMATION -|- tpch_test.dbo.orders_7_primarykey -|- Completed Load Query 9 for o_orderkey between 36288230 and 40319808 : 937501 rows x 9 columns in 34620ms\n",
      "2025-06-13T22:57:27.178 +02:00 -|- FastTransfer -|- MSS22_to_MSS25 -|- INFORMATION -|- tpch_test.dbo.orders_7_primarykey -|- Completed Load Query 6 for o_orderkey between 24192838 and 28226534 : 937501 rows x 9 columns in 35025ms\n",
      "2025-06-13T22:57:29.675 +02:00 -|- FastTransfer -|- MSS22_to_MSS25 -|- INFORMATION -|- tpch_test.dbo.orders_7_primarykey -|- Completed Load Query 7 for o_orderkey between 28226535 and 32255681 : 937501 rows x 9 columns in 37521ms\n",
      "2025-06-13T22:57:34.336 +02:00 -|- FastTransfer -|- MSS22_to_MSS25 -|- INFORMATION -|- tpch_test.dbo.orders_7_primarykey -|- Completed Load Query 10 for o_orderkey between 40319809 and 44350019 : 937501 rows x 9 columns in 42182ms\n",
      "2025-06-13T22:57:34.490 +02:00 -|- FastTransfer -|- MSS22_to_MSS25 -|- INFORMATION -|- tpch_test.dbo.orders_7_primarykey -|- Completed Load Query 8 for o_orderkey between 32255682 and 36288229 : 937501 rows x 9 columns in 42336ms\n",
      "2025-06-13T22:57:38.126 +02:00 -|- FastTransfer -|- MSS22_to_MSS25 -|- INFORMATION -|- tpch_test.dbo.orders_7_primarykey -|- Completed Load Query 11 for o_orderkey between 44350020 and 48381669 : 937501 rows x 9 columns in 45971ms\n",
      "2025-06-13T22:57:42.486 +02:00 -|- FastTransfer -|- MSS22_to_MSS25 -|- INFORMATION -|- tpch_test.dbo.orders_7_primarykey -|- Completed Load Query 13 for o_orderkey between 52413184 and 56445281 : 937501 rows x 9 columns in 50331ms\n",
      "2025-06-13T22:57:46.424 +02:00 -|- FastTransfer -|- MSS22_to_MSS25 -|- INFORMATION -|- tpch_test.dbo.orders_7_primarykey -|- Completed Load Query 14 for o_orderkey between 56445282 and 66373955 : 937501 rows x 9 columns in 54269ms\n",
      "2025-06-13T22:57:48.740 +02:00 -|- FastTransfer -|- MSS22_to_MSS25 -|- INFORMATION -|- tpch_test.dbo.orders_7_primarykey -|- Completed Load Query 1 for o_orderkey between 4030402 and 8063175 : 937501 rows x 9 columns in 56587ms\n",
      "2025-06-13T22:57:48.740 +02:00 -|- FastTransfer -|- MSS22_to_MSS25 -|- INFORMATION -|- tpch_test.dbo.orders_7_primarykey -|- Total rows : 15000000\n",
      "2025-06-13T22:57:48.740 +02:00 -|- FastTransfer -|- MSS22_to_MSS25 -|- INFORMATION -|- tpch_test.dbo.orders_7_primarykey -|- Total columns : 9\n",
      "2025-06-13T22:57:48.741 +02:00 -|- FastTransfer -|- MSS22_to_MSS25 -|- INFORMATION -|- tpch_test.dbo.orders_7_primarykey -|- Total cells : 135000000\n",
      "2025-06-13T22:57:48.741 +02:00 -|- FastTransfer -|- MSS22_to_MSS25 -|- INFORMATION -|- tpch_test.dbo.orders_7_primarykey -|- Rows Throughput : 258768 rows/s\n",
      "2025-06-13T22:57:48.741 +02:00 -|- FastTransfer -|- MSS22_to_MSS25 -|- INFORMATION -|- tpch_test.dbo.orders_7_primarykey -|- Cells Throughput : 2328917 cells/s\n",
      "2025-06-13T22:57:48.741 +02:00 -|- FastTransfer -|- MSS22_to_MSS25 -|- INFORMATION -|- tpch_test.dbo.orders_7_primarykey -|- Transfert time : Elapsed=57966 ms\n",
      "2025-06-13T22:57:48.741 +02:00 -|- FastTransfer -|- MSS22_to_MSS25 -|- INFORMATION -|- tpch_test.dbo.orders_7_primarykey -|- Total time : Elapsed=58163 ms\n",
      "2025-06-13T22:57:48.741 +02:00 -|- FastTransfer -|- MSS22_to_MSS25 -|- INFORMATION -|- tpch_test.dbo.orders_7_primarykey -|- Completed Load\n"
     ]
    }
   ],
   "source": [
    "cd D:\\FastTransfer\n",
    "\n",
    ".\\FastTransfer.exe `\n",
    "--sourceconnectiontype \"mssql\" `\n",
    "--sourceserver \"localhost\" `\n",
    "--sourcedatabase \"tpch10_collation_bin2\" `\n",
    "--sourcetrusted `\n",
    "--sourceschema \"dbo\" `\n",
    "--sourcetable \"orders_15M\" `\n",
    "`\n",
    "--targetconnectiontype \"msbulk\" `\n",
    "--targetserver \"localhost\\SS2025\" `\n",
    "--targettrusted `\n",
    "--targetdatabase \"tpch_test\" `\n",
    "--targetschema \"dbo\" `\n",
    "--targettable \"orders_7_primarykey\" `\n",
    "`\n",
    "--loadmode \"Truncate\" `\n",
    "--mapmethod \"Name\" `\n",
    "--method \"Ntile\" `\n",
    "--distributekeycolumn \"o_orderkey\" `\n",
    "--degree -2 `\n",
    "--runid \"MSS22_to_MSS25\""
   ]
  },
  {
   "cell_type": "markdown",
   "id": "dd7ed540",
   "metadata": {
    "polyglot_notebook": {
     "kernelName": "csharp"
    }
   },
   "source": [
    "| MSSQL 2022 ==> MSSQL 2025  ORDERS (15M Rows x 9 columns)\t\t\t\t| Elapsed Time (seconds)|Cells/sec \t|\n",
    "|-----------------------------------------------------------------------|:---------------------:|----------:|\n",
    "| FastTransfer Load (orders_3 clustered columnstore)      \t\t\t\t| 8.2      \t\t\t\t|16_799_794 |\n",
    "| FastTransfer Load (orders_4 heap) \t\t\t\t\t\t\t\t\t| 5.5      \t\t\t\t|25_106_464 |\n",
    "| FastTransfer Load (orders_6 cluster index ) \t\t\t\t\t\t\t| 7.7      \t\t\t\t|17_921_206 |\n",
    "| FastTransfer Load (orders_7 cluster primarykey) \t\t\t\t\t\t| 7.4      \t\t\t\t|18_528_328 |\n",
    "| FastTransfer Load (orders_7 cluster primarykey + 1 secondary index) \t|19.2      \t\t\t\t| 7_091_346 |\n",
    "| FastTransfer Load (orders_7 cluster primarykey + 2 secondary indexes) |58.1      \t\t\t\t| 2_328_917 |"
   ]
  },
  {
   "cell_type": "markdown",
   "id": "26735668",
   "metadata": {
    "polyglot_notebook": {
     "kernelName": "csharp"
    }
   },
   "source": [
    "## Other parallel technics"
   ]
  },
  {
   "cell_type": "markdown",
   "id": "665b0296",
   "metadata": {},
   "source": [
    "### method=\"DataDriven\" using a standard column (or an expression) for the distributekeycolumn parameter"
   ]
  },
  {
   "cell_type": "markdown",
   "id": "17119491",
   "metadata": {},
   "source": [
    "#### DataDriven using year(o_orderdate) as the distributekeycolumn"
   ]
  },
  {
   "cell_type": "code",
   "execution_count": 4,
   "metadata": {
    "polyglot_notebook": {
     "kernelName": "pwsh"
    }
   },
   "outputs": [
    {
     "name": "stdout",
     "output_type": "stream",
     "text": [
      "2025-06-15T16:16:35.566 +02:00 -|- FastTransfer -|- MSS22_to_MSS25 -|- INFORMATION -|- tpch_test.dbo.orders_4_no_index -|- Starting\n",
      "2025-06-15T16:16:35.575 +02:00 -|- FastTransfer -|- MSS22_to_MSS25 -|- INFORMATION -|- tpch_test.dbo.orders_4_no_index -|- FastTransfer Version : 0.13.4.0 Architecture : X64 - Framework : .NET 8.0.15\n",
      "2025-06-15T16:16:35.575 +02:00 -|- FastTransfer -|- MSS22_to_MSS25 -|- INFORMATION -|- tpch_test.dbo.orders_4_no_index -|- OS : Microsoft Windows 10.0.26100\n",
      "2025-06-15T16:16:35.575 +02:00 -|- FastTransfer -|- MSS22_to_MSS25 -|- INFORMATION -|- tpch_test.dbo.orders_4_no_index -|- Process ID : 31752\n",
      "2025-06-15T16:16:35.575 +02:00 -|- FastTransfer -|- MSS22_to_MSS25 -|- INFORMATION -|- tpch_test.dbo.orders_4_no_index -|- Provided Run ID : MSS22_to_MSS25\n",
      "2025-06-15T16:16:35.575 +02:00 -|- FastTransfer -|- MSS22_to_MSS25 -|- INFORMATION -|- tpch_test.dbo.orders_4_no_index -|- Source Connection Type : mssql\n",
      "2025-06-15T16:16:35.575 +02:00 -|- FastTransfer -|- MSS22_to_MSS25 -|- INFORMATION -|- tpch_test.dbo.orders_4_no_index -|- Source SqlInstance : localhost\n",
      "2025-06-15T16:16:35.575 +02:00 -|- FastTransfer -|- MSS22_to_MSS25 -|- INFORMATION -|- tpch_test.dbo.orders_4_no_index -|- Source Database : tpch10_collation_bin2\n",
      "2025-06-15T16:16:35.576 +02:00 -|- FastTransfer -|- MSS22_to_MSS25 -|- INFORMATION -|- tpch_test.dbo.orders_4_no_index -|- Source Trusted Connection : True\n",
      "2025-06-15T16:16:35.576 +02:00 -|- FastTransfer -|- MSS22_to_MSS25 -|- INFORMATION -|- tpch_test.dbo.orders_4_no_index -|- Source Schema : dbo\n",
      "2025-06-15T16:16:35.576 +02:00 -|- FastTransfer -|- MSS22_to_MSS25 -|- INFORMATION -|- tpch_test.dbo.orders_4_no_index -|- Source Table : orders_15M\n",
      "2025-06-15T16:16:35.576 +02:00 -|- FastTransfer -|- MSS22_to_MSS25 -|- INFORMATION -|- tpch_test.dbo.orders_4_no_index -|- Target Type : msbulk\n",
      "2025-06-15T16:16:35.576 +02:00 -|- FastTransfer -|- MSS22_to_MSS25 -|- INFORMATION -|- tpch_test.dbo.orders_4_no_index -|- Target Server : localhost\\SS2025\n",
      "2025-06-15T16:16:35.576 +02:00 -|- FastTransfer -|- MSS22_to_MSS25 -|- INFORMATION -|- tpch_test.dbo.orders_4_no_index -|- Target Database : tpch_test\n",
      "2025-06-15T16:16:35.576 +02:00 -|- FastTransfer -|- MSS22_to_MSS25 -|- INFORMATION -|- tpch_test.dbo.orders_4_no_index -|- Target Schema : dbo\n",
      "2025-06-15T16:16:35.576 +02:00 -|- FastTransfer -|- MSS22_to_MSS25 -|- INFORMATION -|- tpch_test.dbo.orders_4_no_index -|- Target Table : orders_4_no_index\n",
      "2025-06-15T16:16:35.576 +02:00 -|- FastTransfer -|- MSS22_to_MSS25 -|- INFORMATION -|- tpch_test.dbo.orders_4_no_index -|- Target Trusted Connection : True\n",
      "2025-06-15T16:16:35.576 +02:00 -|- FastTransfer -|- MSS22_to_MSS25 -|- INFORMATION -|- tpch_test.dbo.orders_4_no_index -|- Columns Map Method : Name\n",
      "2025-06-15T16:16:35.576 +02:00 -|- FastTransfer -|- MSS22_to_MSS25 -|- INFORMATION -|- tpch_test.dbo.orders_4_no_index -|- Degree : 10\n",
      "2025-06-15T16:16:35.576 +02:00 -|- FastTransfer -|- MSS22_to_MSS25 -|- INFORMATION -|- tpch_test.dbo.orders_4_no_index -|- Distribute Method : DataDriven\n",
      "2025-06-15T16:16:35.576 +02:00 -|- FastTransfer -|- MSS22_to_MSS25 -|- INFORMATION -|- tpch_test.dbo.orders_4_no_index -|- Distribute Column : year(o_orderdate)\n",
      "2025-06-15T16:16:35.576 +02:00 -|- FastTransfer -|- MSS22_to_MSS25 -|- INFORMATION -|- tpch_test.dbo.orders_4_no_index -|- Bulkcopy Batch Size : 1048576\n",
      "2025-06-15T16:16:35.576 +02:00 -|- FastTransfer -|- MSS22_to_MSS25 -|- INFORMATION -|- tpch_test.dbo.orders_4_no_index -|- Load Mode : Truncate\n",
      "2025-06-15T16:16:35.576 +02:00 -|- FastTransfer -|- MSS22_to_MSS25 -|- INFORMATION -|- tpch_test.dbo.orders_4_no_index -|- Use Work Tables : False\n",
      "2025-06-15T16:16:35.576 +02:00 -|- FastTransfer -|- MSS22_to_MSS25 -|- INFORMATION -|- tpch_test.dbo.orders_4_no_index -|- Encoding used : Unicode (UTF-8) - 65001 - utf-8\n",
      "2025-06-15T16:16:35.594 +02:00 -|- FastTransfer -|- MSS22_to_MSS25 -|- INFORMATION -|- tpch_test.dbo.orders_4_no_index -|- Source Connection String : Data Source=localhost;Initial Catalog=tpch10_collation_bin2;Integrated Security=True;Connect Timeout=120;Encrypt=True;Trust Server Certificate=True;Application Name=FastTransfer;Application Intent=ReadOnly;Command Timeout=10800\n",
      "2025-06-15T16:16:35.594 +02:00 -|- FastTransfer -|- MSS22_to_MSS25 -|- INFORMATION -|- tpch_test.dbo.orders_4_no_index -|- Target Connection String : Data Source=localhost\\SS2025;Initial Catalog=tpch_test;Integrated Security=True;Connect Timeout=120;Encrypt=True;Trust Server Certificate=True;Application Name=FastTransfer;Application Intent=ReadWrite;Command Timeout=10800\n",
      "2025-06-15T16:16:35.594 +02:00 -|- FastTransfer -|- MSS22_to_MSS25 -|- INFORMATION -|- tpch_test.dbo.orders_4_no_index -|- Source Database Version : Microsoft SQL Server 2022 (RTM-CU17) (KB5048038) - 16.0.4175.1 (X64)  \tDec 13 2024 09:01:53  \tCopyright (C) 2022 Microsoft Corporation \tDeveloper Edition (64-bit) on Windows 10 Pro 10.0 <X64> (Build 26100: ) (Hypervisor) \n",
      "2025-06-15T16:16:35.594 +02:00 -|- FastTransfer -|- MSS22_to_MSS25 -|- INFORMATION -|- tpch_test.dbo.orders_4_no_index -|- Target Database Version : Microsoft SQL Server 2025 (CTP2.0) - 17.0.700.9 (X64)  \tMay  8 2025 19:14:27  \tCopyright (C) 2025 Microsoft Corporation \tEnterprise Developer Edition (64-bit) on Windows 10 Pro 10.0 <X64> (Build 26100: ) (Hypervisor) \n",
      "2025-06-15T16:16:36.469 +02:00 -|- FastTransfer -|- MSS22_to_MSS25 -|- INFORMATION -|- tpch_test.dbo.orders_4_no_index -|- Completed DataDriven GetValues : 8 in 869 ms\n",
      "2025-06-15T16:16:36.471 +02:00 -|- FastTransfer -|- MSS22_to_MSS25 -|- INFORMATION -|- tpch_test.dbo.orders_4_no_index -|- Start Loading Data using distribution method DataDriven\n",
      "2025-06-15T16:16:36.472 +02:00 -|- FastTransfer -|- MSS22_to_MSS25 -|- INFORMATION -|- tpch_test.dbo.orders_4_no_index -|- Table \"dbo\".\"orders_4_no_index\" has no Clustered Index. BulkCopy will use KeepNulls and UseInternalTransaction and Tablock\n",
      "2025-06-15T16:16:36.473 +02:00 -|- FastTransfer -|- MSS22_to_MSS25 -|- INFORMATION -|- tpch_test.dbo.orders_4_no_index -|- BulkCopy to \"dbo\".\"orders_4_no_index\" with BatchSize = 1048576, Timeout = 3600\n",
      "2025-06-15T16:16:36.482 +02:00 -|- FastTransfer -|- MSS22_to_MSS25 -|- INFORMATION -|- tpch_test.dbo.orders_4_no_index -|- Start Loading Data using distribution method DataDriven\n",
      "2025-06-15T16:16:36.482 +02:00 -|- FastTransfer -|- MSS22_to_MSS25 -|- INFORMATION -|- tpch_test.dbo.orders_4_no_index -|- Table \"dbo\".\"orders_4_no_index\" has no Clustered Index. BulkCopy will use KeepNulls and UseInternalTransaction and Tablock\n",
      "2025-06-15T16:16:36.482 +02:00 -|- FastTransfer -|- MSS22_to_MSS25 -|- INFORMATION -|- tpch_test.dbo.orders_4_no_index -|- BulkCopy to \"dbo\".\"orders_4_no_index\" with BatchSize = 1048576, Timeout = 3600\n",
      "2025-06-15T16:16:36.485 +02:00 -|- FastTransfer -|- MSS22_to_MSS25 -|- INFORMATION -|- tpch_test.dbo.orders_4_no_index -|- Start Loading Data using distribution method DataDriven\n",
      "2025-06-15T16:16:36.485 +02:00 -|- FastTransfer -|- MSS22_to_MSS25 -|- INFORMATION -|- tpch_test.dbo.orders_4_no_index -|- Table \"dbo\".\"orders_4_no_index\" has no Clustered Index. BulkCopy will use KeepNulls and UseInternalTransaction and Tablock\n",
      "2025-06-15T16:16:36.485 +02:00 -|- FastTransfer -|- MSS22_to_MSS25 -|- INFORMATION -|- tpch_test.dbo.orders_4_no_index -|- BulkCopy to \"dbo\".\"orders_4_no_index\" with BatchSize = 1048576, Timeout = 3600\n",
      "2025-06-15T16:16:36.488 +02:00 -|- FastTransfer -|- MSS22_to_MSS25 -|- WARNING -|- tpch_test.dbo.orders_4_no_index -|- Only 9 out of 10 columns were mapped by name to the target table \"dbo\".\"orders_4_no_index\"\n",
      "2025-06-15T16:16:36.490 +02:00 -|- FastTransfer -|- MSS22_to_MSS25 -|- INFORMATION -|- tpch_test.dbo.orders_4_no_index -|- Start Loading Data using distribution method DataDriven\n",
      "2025-06-15T16:16:36.491 +02:00 -|- FastTransfer -|- MSS22_to_MSS25 -|- INFORMATION -|- tpch_test.dbo.orders_4_no_index -|- Table \"dbo\".\"orders_4_no_index\" has no Clustered Index. BulkCopy will use KeepNulls and UseInternalTransaction and Tablock\n",
      "2025-06-15T16:16:36.491 +02:00 -|- FastTransfer -|- MSS22_to_MSS25 -|- INFORMATION -|- tpch_test.dbo.orders_4_no_index -|- BulkCopy to \"dbo\".\"orders_4_no_index\" with BatchSize = 1048576, Timeout = 3600\n",
      "2025-06-15T16:16:36.493 +02:00 -|- FastTransfer -|- MSS22_to_MSS25 -|- INFORMATION -|- tpch_test.dbo.orders_4_no_index -|- Start Loading Data using distribution method DataDriven\n",
      "2025-06-15T16:16:36.494 +02:00 -|- FastTransfer -|- MSS22_to_MSS25 -|- INFORMATION -|- tpch_test.dbo.orders_4_no_index -|- Table \"dbo\".\"orders_4_no_index\" has no Clustered Index. BulkCopy will use KeepNulls and UseInternalTransaction and Tablock\n",
      "2025-06-15T16:16:36.494 +02:00 -|- FastTransfer -|- MSS22_to_MSS25 -|- INFORMATION -|- tpch_test.dbo.orders_4_no_index -|- BulkCopy to \"dbo\".\"orders_4_no_index\" with BatchSize = 1048576, Timeout = 3600\n",
      "2025-06-15T16:16:36.498 +02:00 -|- FastTransfer -|- MSS22_to_MSS25 -|- INFORMATION -|- tpch_test.dbo.orders_4_no_index -|- Start Loading Data using distribution method DataDriven\n",
      "2025-06-15T16:16:36.499 +02:00 -|- FastTransfer -|- MSS22_to_MSS25 -|- INFORMATION -|- tpch_test.dbo.orders_4_no_index -|- Table \"dbo\".\"orders_4_no_index\" has no Clustered Index. BulkCopy will use KeepNulls and UseInternalTransaction and Tablock\n",
      "2025-06-15T16:16:36.499 +02:00 -|- FastTransfer -|- MSS22_to_MSS25 -|- INFORMATION -|- tpch_test.dbo.orders_4_no_index -|- BulkCopy to \"dbo\".\"orders_4_no_index\" with BatchSize = 1048576, Timeout = 3600\n",
      "2025-06-15T16:16:36.501 +02:00 -|- FastTransfer -|- MSS22_to_MSS25 -|- INFORMATION -|- tpch_test.dbo.orders_4_no_index -|- Start Loading Data using distribution method DataDriven\n",
      "2025-06-15T16:16:36.502 +02:00 -|- FastTransfer -|- MSS22_to_MSS25 -|- INFORMATION -|- tpch_test.dbo.orders_4_no_index -|- Table \"dbo\".\"orders_4_no_index\" has no Clustered Index. BulkCopy will use KeepNulls and UseInternalTransaction and Tablock\n",
      "2025-06-15T16:16:36.502 +02:00 -|- FastTransfer -|- MSS22_to_MSS25 -|- INFORMATION -|- tpch_test.dbo.orders_4_no_index -|- BulkCopy to \"dbo\".\"orders_4_no_index\" with BatchSize = 1048576, Timeout = 3600\n",
      "2025-06-15T16:16:36.545 +02:00 -|- FastTransfer -|- MSS22_to_MSS25 -|- INFORMATION -|- tpch_test.dbo.orders_4_no_index -|- Start Loading Data using distribution method DataDriven\n",
      "2025-06-15T16:16:36.545 +02:00 -|- FastTransfer -|- MSS22_to_MSS25 -|- INFORMATION -|- tpch_test.dbo.orders_4_no_index -|- Table \"dbo\".\"orders_4_no_index\" has no Clustered Index. BulkCopy will use KeepNulls and UseInternalTransaction and Tablock\n",
      "2025-06-15T16:16:36.545 +02:00 -|- FastTransfer -|- MSS22_to_MSS25 -|- INFORMATION -|- tpch_test.dbo.orders_4_no_index -|- BulkCopy to \"dbo\".\"orders_4_no_index\" with BatchSize = 1048576, Timeout = 3600\n",
      "2025-06-15T16:16:36.748 +02:00 -|- FastTransfer -|- MSS22_to_MSS25 -|- WARNING -|- tpch_test.dbo.orders_4_no_index -|- Only 9 out of 10 columns were mapped by name to the target table \"dbo\".\"orders_4_no_index\"\n",
      "2025-06-15T16:16:36.773 +02:00 -|- FastTransfer -|- MSS22_to_MSS25 -|- WARNING -|- tpch_test.dbo.orders_4_no_index -|- Only 9 out of 10 columns were mapped by name to the target table \"dbo\".\"orders_4_no_index\"\n",
      "2025-06-15T16:16:36.840 +02:00 -|- FastTransfer -|- MSS22_to_MSS25 -|- WARNING -|- tpch_test.dbo.orders_4_no_index -|- Only 9 out of 10 columns were mapped by name to the target table \"dbo\".\"orders_4_no_index\"\n",
      "2025-06-15T16:16:36.849 +02:00 -|- FastTransfer -|- MSS22_to_MSS25 -|- WARNING -|- tpch_test.dbo.orders_4_no_index -|- Only 9 out of 10 columns were mapped by name to the target table \"dbo\".\"orders_4_no_index\"\n",
      "2025-06-15T16:16:36.992 +02:00 -|- FastTransfer -|- MSS22_to_MSS25 -|- WARNING -|- tpch_test.dbo.orders_4_no_index -|- Only 9 out of 10 columns were mapped by name to the target table \"dbo\".\"orders_4_no_index\"\n",
      "2025-06-15T16:16:37.232 +02:00 -|- FastTransfer -|- MSS22_to_MSS25 -|- WARNING -|- tpch_test.dbo.orders_4_no_index -|- Only 9 out of 10 columns were mapped by name to the target table \"dbo\".\"orders_4_no_index\"\n",
      "2025-06-15T16:16:37.295 +02:00 -|- FastTransfer -|- MSS22_to_MSS25 -|- WARNING -|- tpch_test.dbo.orders_4_no_index -|- Only 9 out of 10 columns were mapped by name to the target table \"dbo\".\"orders_4_no_index\"\n",
      "2025-06-15T16:16:43.136 +02:00 -|- FastTransfer -|- MSS22_to_MSS25 -|- INFORMATION -|- tpch_test.dbo.orders_4_no_index -|- Completed DataDriven Load sub-process 3 for year(o_orderdate) = 1999 : 1048576 rows x 9 columns in 6665 ms\n",
      "2025-06-15T16:16:43.243 +02:00 -|- FastTransfer -|- MSS22_to_MSS25 -|- INFORMATION -|- tpch_test.dbo.orders_4_no_index -|- Completed DataDriven Load sub-process 4 for year(o_orderdate) = 1992 : 1235101 rows x 9 columns in 6772 ms\n",
      "2025-06-15T16:16:43.335 +02:00 -|- FastTransfer -|- MSS22_to_MSS25 -|- INFORMATION -|- tpch_test.dbo.orders_4_no_index -|- Completed DataDriven Load sub-process 0 for year(o_orderdate) = 1998 : 1327477 rows x 9 columns in 6865 ms\n",
      "2025-06-15T16:16:44.745 +02:00 -|- FastTransfer -|- MSS22_to_MSS25 -|- INFORMATION -|- tpch_test.dbo.orders_4_no_index -|- Completed DataDriven Load sub-process 7 for year(o_orderdate) = 1995 : 2273010 rows x 9 columns in 8273 ms\n",
      "2025-06-15T16:16:45.101 +02:00 -|- FastTransfer -|- MSS22_to_MSS25 -|- INFORMATION -|- tpch_test.dbo.orders_4_no_index -|- Completed DataDriven Load sub-process 6 for year(o_orderdate) = 1993 : 2281075 rows x 9 columns in 8630 ms\n",
      "2025-06-15T16:16:45.106 +02:00 -|- FastTransfer -|- MSS22_to_MSS25 -|- INFORMATION -|- tpch_test.dbo.orders_4_no_index -|- Completed DataDriven Load sub-process 2 for year(o_orderdate) = 1994 : 2276807 rows x 9 columns in 8636 ms\n",
      "2025-06-15T16:16:48.380 +02:00 -|- FastTransfer -|- MSS22_to_MSS25 -|- INFORMATION -|- tpch_test.dbo.orders_4_no_index -|- Completed DataDriven Load sub-process 5 for year(o_orderdate) = 1997 : 2277552 rows x 9 columns in 11909 ms\n",
      "2025-06-15T16:16:48.400 +02:00 -|- FastTransfer -|- MSS22_to_MSS25 -|- INFORMATION -|- tpch_test.dbo.orders_4_no_index -|- Completed DataDriven Load sub-process 1 for year(o_orderdate) = 1996 : 2280402 rows x 9 columns in 11930 ms\n",
      "2025-06-15T16:16:48.401 +02:00 -|- FastTransfer -|- MSS22_to_MSS25 -|- INFORMATION -|- tpch_test.dbo.orders_4_no_index -|- Total rows : 15000000\n",
      "2025-06-15T16:16:48.401 +02:00 -|- FastTransfer -|- MSS22_to_MSS25 -|- INFORMATION -|- tpch_test.dbo.orders_4_no_index -|- Total columns : 9\n",
      "2025-06-15T16:16:48.401 +02:00 -|- FastTransfer -|- MSS22_to_MSS25 -|- INFORMATION -|- tpch_test.dbo.orders_4_no_index -|- Total cells : 135000000\n",
      "2025-06-15T16:16:48.401 +02:00 -|- FastTransfer -|- MSS22_to_MSS25 -|- INFORMATION -|- tpch_test.dbo.orders_4_no_index -|- Rows Throughput : 1171679 rows/s\n",
      "2025-06-15T16:16:48.401 +02:00 -|- FastTransfer -|- MSS22_to_MSS25 -|- INFORMATION -|- tpch_test.dbo.orders_4_no_index -|- Cells Throughput : 10545122 cells/s\n",
      "2025-06-15T16:16:48.401 +02:00 -|- FastTransfer -|- MSS22_to_MSS25 -|- INFORMATION -|- tpch_test.dbo.orders_4_no_index -|- Transfert time : Elapsed=12802 ms\n",
      "2025-06-15T16:16:48.401 +02:00 -|- FastTransfer -|- MSS22_to_MSS25 -|- INFORMATION -|- tpch_test.dbo.orders_4_no_index -|- Total time : Elapsed=13003 ms\n",
      "2025-06-15T16:16:48.401 +02:00 -|- FastTransfer -|- MSS22_to_MSS25 -|- INFORMATION -|- tpch_test.dbo.orders_4_no_index -|- Completed Load\n"
     ]
    }
   ],
   "source": [
    "cd D:\\FastTransfer\n",
    "\n",
    ".\\FastTransfer.exe `\n",
    "--sourceconnectiontype \"mssql\" `\n",
    "--sourceserver \"localhost\" `\n",
    "--sourcedatabase \"tpch10_collation_bin2\" `\n",
    "--sourcetrusted `\n",
    "--sourceschema \"dbo\" `\n",
    "--sourcetable \"orders_15M\" `\n",
    "`\n",
    "--targetconnectiontype \"msbulk\" `\n",
    "--targetserver \"localhost\\SS2025\" `\n",
    "--targettrusted `\n",
    "--targetdatabase \"tpch_test\" `\n",
    "--targetschema \"dbo\" `\n",
    "--targettable \"orders_4_no_index\" `\n",
    "`\n",
    "--loadmode \"Truncate\" `\n",
    "--mapmethod \"Name\" `\n",
    "--method \"DataDriven\" `\n",
    "--distributekeycolumn \"year(o_orderdate)\" `\n",
    "--degree 10 `\n",
    "--runid \"MSS22_to_MSS25\""
   ]
  },
  {
   "cell_type": "markdown",
   "id": "e714af5c",
   "metadata": {},
   "source": [
    "#### DataDriven using partitions as the distributekeycolumn"
   ]
  },
  {
   "cell_type": "code",
   "execution_count": 6,
   "metadata": {
    "polyglot_notebook": {
     "kernelName": "pwsh"
    }
   },
   "outputs": [
    {
     "name": "stdout",
     "output_type": "stream",
     "text": [
      "2025-06-15T16:26:49.479 +02:00 -|- FastTransfer -|- MSS22_to_MSS25_Datadriven_Partition -|- INFORMATION -|- tpch_test.dbo.orders_4_no_index -|- Starting\n",
      "2025-06-15T16:26:49.488 +02:00 -|- FastTransfer -|- MSS22_to_MSS25_Datadriven_Partition -|- INFORMATION -|- tpch_test.dbo.orders_4_no_index -|- FastTransfer Version : 0.13.4.0 Architecture : X64 - Framework : .NET 8.0.15\n",
      "2025-06-15T16:26:49.489 +02:00 -|- FastTransfer -|- MSS22_to_MSS25_Datadriven_Partition -|- INFORMATION -|- tpch_test.dbo.orders_4_no_index -|- OS : Microsoft Windows 10.0.26100\n",
      "2025-06-15T16:26:49.489 +02:00 -|- FastTransfer -|- MSS22_to_MSS25_Datadriven_Partition -|- INFORMATION -|- tpch_test.dbo.orders_4_no_index -|- Process ID : 52244\n",
      "2025-06-15T16:26:49.489 +02:00 -|- FastTransfer -|- MSS22_to_MSS25_Datadriven_Partition -|- INFORMATION -|- tpch_test.dbo.orders_4_no_index -|- Provided Run ID : MSS22_to_MSS25_Datadriven_Partition\n",
      "2025-06-15T16:26:49.489 +02:00 -|- FastTransfer -|- MSS22_to_MSS25_Datadriven_Partition -|- INFORMATION -|- tpch_test.dbo.orders_4_no_index -|- Source Connection Type : mssql\n",
      "2025-06-15T16:26:49.489 +02:00 -|- FastTransfer -|- MSS22_to_MSS25_Datadriven_Partition -|- INFORMATION -|- tpch_test.dbo.orders_4_no_index -|- Source SqlInstance : localhost\n",
      "2025-06-15T16:26:49.489 +02:00 -|- FastTransfer -|- MSS22_to_MSS25_Datadriven_Partition -|- INFORMATION -|- tpch_test.dbo.orders_4_no_index -|- Source Database : tpch_test\n",
      "2025-06-15T16:26:49.489 +02:00 -|- FastTransfer -|- MSS22_to_MSS25_Datadriven_Partition -|- INFORMATION -|- tpch_test.dbo.orders_4_no_index -|- Source Trusted Connection : True\n",
      "2025-06-15T16:26:49.489 +02:00 -|- FastTransfer -|- MSS22_to_MSS25_Datadriven_Partition -|- INFORMATION -|- tpch_test.dbo.orders_4_no_index -|- Source Schema : dbo\n",
      "2025-06-15T16:26:49.489 +02:00 -|- FastTransfer -|- MSS22_to_MSS25_Datadriven_Partition -|- INFORMATION -|- tpch_test.dbo.orders_4_no_index -|- Source Table : orders_part\n",
      "2025-06-15T16:26:49.489 +02:00 -|- FastTransfer -|- MSS22_to_MSS25_Datadriven_Partition -|- INFORMATION -|- tpch_test.dbo.orders_4_no_index -|- Target Type : msbulk\n",
      "2025-06-15T16:26:49.489 +02:00 -|- FastTransfer -|- MSS22_to_MSS25_Datadriven_Partition -|- INFORMATION -|- tpch_test.dbo.orders_4_no_index -|- Target Server : localhost\\SS2025\n",
      "2025-06-15T16:26:49.489 +02:00 -|- FastTransfer -|- MSS22_to_MSS25_Datadriven_Partition -|- INFORMATION -|- tpch_test.dbo.orders_4_no_index -|- Target Database : tpch_test\n",
      "2025-06-15T16:26:49.489 +02:00 -|- FastTransfer -|- MSS22_to_MSS25_Datadriven_Partition -|- INFORMATION -|- tpch_test.dbo.orders_4_no_index -|- Target Schema : dbo\n",
      "2025-06-15T16:26:49.489 +02:00 -|- FastTransfer -|- MSS22_to_MSS25_Datadriven_Partition -|- INFORMATION -|- tpch_test.dbo.orders_4_no_index -|- Target Table : orders_4_no_index\n",
      "2025-06-15T16:26:49.489 +02:00 -|- FastTransfer -|- MSS22_to_MSS25_Datadriven_Partition -|- INFORMATION -|- tpch_test.dbo.orders_4_no_index -|- Target Trusted Connection : True\n",
      "2025-06-15T16:26:49.489 +02:00 -|- FastTransfer -|- MSS22_to_MSS25_Datadriven_Partition -|- INFORMATION -|- tpch_test.dbo.orders_4_no_index -|- Columns Map Method : Name\n",
      "2025-06-15T16:26:49.489 +02:00 -|- FastTransfer -|- MSS22_to_MSS25_Datadriven_Partition -|- INFORMATION -|- tpch_test.dbo.orders_4_no_index -|- Degree : 7\n",
      "2025-06-15T16:26:49.489 +02:00 -|- FastTransfer -|- MSS22_to_MSS25_Datadriven_Partition -|- INFORMATION -|- tpch_test.dbo.orders_4_no_index -|- Distribute Method : DataDriven\n",
      "2025-06-15T16:26:49.489 +02:00 -|- FastTransfer -|- MSS22_to_MSS25_Datadriven_Partition -|- INFORMATION -|- tpch_test.dbo.orders_4_no_index -|- Distribute Column : $PARTITION.PF_DATE(o_orderdate)\n",
      "2025-06-15T16:26:49.489 +02:00 -|- FastTransfer -|- MSS22_to_MSS25_Datadriven_Partition -|- INFORMATION -|- tpch_test.dbo.orders_4_no_index -|- Bulkcopy Batch Size : 1048576\n",
      "2025-06-15T16:26:49.489 +02:00 -|- FastTransfer -|- MSS22_to_MSS25_Datadriven_Partition -|- INFORMATION -|- tpch_test.dbo.orders_4_no_index -|- Load Mode : Truncate\n",
      "2025-06-15T16:26:49.489 +02:00 -|- FastTransfer -|- MSS22_to_MSS25_Datadriven_Partition -|- INFORMATION -|- tpch_test.dbo.orders_4_no_index -|- Use Work Tables : False\n",
      "2025-06-15T16:26:49.490 +02:00 -|- FastTransfer -|- MSS22_to_MSS25_Datadriven_Partition -|- INFORMATION -|- tpch_test.dbo.orders_4_no_index -|- Encoding used : Unicode (UTF-8) - 65001 - utf-8\n",
      "2025-06-15T16:26:49.510 +02:00 -|- FastTransfer -|- MSS22_to_MSS25_Datadriven_Partition -|- INFORMATION -|- tpch_test.dbo.orders_4_no_index -|- Source Connection String : Data Source=localhost;Initial Catalog=tpch_test;Integrated Security=True;Connect Timeout=120;Encrypt=True;Trust Server Certificate=True;Application Name=FastTransfer;Application Intent=ReadOnly;Command Timeout=10800\n",
      "2025-06-15T16:26:49.510 +02:00 -|- FastTransfer -|- MSS22_to_MSS25_Datadriven_Partition -|- INFORMATION -|- tpch_test.dbo.orders_4_no_index -|- Target Connection String : Data Source=localhost\\SS2025;Initial Catalog=tpch_test;Integrated Security=True;Connect Timeout=120;Encrypt=True;Trust Server Certificate=True;Application Name=FastTransfer;Application Intent=ReadWrite;Command Timeout=10800\n",
      "2025-06-15T16:26:49.510 +02:00 -|- FastTransfer -|- MSS22_to_MSS25_Datadriven_Partition -|- INFORMATION -|- tpch_test.dbo.orders_4_no_index -|- Source Database Version : Microsoft SQL Server 2022 (RTM-CU17) (KB5048038) - 16.0.4175.1 (X64)  \tDec 13 2024 09:01:53  \tCopyright (C) 2022 Microsoft Corporation \tDeveloper Edition (64-bit) on Windows 10 Pro 10.0 <X64> (Build 26100: ) (Hypervisor) \n",
      "2025-06-15T16:26:49.510 +02:00 -|- FastTransfer -|- MSS22_to_MSS25_Datadriven_Partition -|- INFORMATION -|- tpch_test.dbo.orders_4_no_index -|- Target Database Version : Microsoft SQL Server 2025 (CTP2.0) - 17.0.700.9 (X64)  \tMay  8 2025 19:14:27  \tCopyright (C) 2025 Microsoft Corporation \tEnterprise Developer Edition (64-bit) on Windows 10 Pro 10.0 <X64> (Build 26100: ) (Hypervisor) \n",
      "2025-06-15T16:26:50.279 +02:00 -|- FastTransfer -|- MSS22_to_MSS25_Datadriven_Partition -|- INFORMATION -|- tpch_test.dbo.orders_4_no_index -|- Completed DataDriven GetValues : 7 in 762 ms\n",
      "2025-06-15T16:26:50.281 +02:00 -|- FastTransfer -|- MSS22_to_MSS25_Datadriven_Partition -|- INFORMATION -|- tpch_test.dbo.orders_4_no_index -|- Start Loading Data using distribution method DataDriven\n",
      "2025-06-15T16:26:50.282 +02:00 -|- FastTransfer -|- MSS22_to_MSS25_Datadriven_Partition -|- INFORMATION -|- tpch_test.dbo.orders_4_no_index -|- Table \"dbo\".\"orders_4_no_index\" has no Clustered Index. BulkCopy will use KeepNulls and UseInternalTransaction and Tablock\n",
      "2025-06-15T16:26:50.282 +02:00 -|- FastTransfer -|- MSS22_to_MSS25_Datadriven_Partition -|- INFORMATION -|- tpch_test.dbo.orders_4_no_index -|- BulkCopy to \"dbo\".\"orders_4_no_index\" with BatchSize = 1048576, Timeout = 3600\n",
      "2025-06-15T16:26:50.288 +02:00 -|- FastTransfer -|- MSS22_to_MSS25_Datadriven_Partition -|- WARNING -|- tpch_test.dbo.orders_4_no_index -|- Column o_orderyear not found in target table \"dbo\".\"orders_4_no_index\". The column will be ignored\n",
      "2025-06-15T16:26:50.288 +02:00 -|- FastTransfer -|- MSS22_to_MSS25_Datadriven_Partition -|- WARNING -|- tpch_test.dbo.orders_4_no_index -|- Only 9 out of 10 columns were mapped by name to the target table \"dbo\".\"orders_4_no_index\"\n",
      "2025-06-15T16:26:50.291 +02:00 -|- FastTransfer -|- MSS22_to_MSS25_Datadriven_Partition -|- INFORMATION -|- tpch_test.dbo.orders_4_no_index -|- Start Loading Data using distribution method DataDriven\n",
      "2025-06-15T16:26:50.291 +02:00 -|- FastTransfer -|- MSS22_to_MSS25_Datadriven_Partition -|- INFORMATION -|- tpch_test.dbo.orders_4_no_index -|- Table \"dbo\".\"orders_4_no_index\" has no Clustered Index. BulkCopy will use KeepNulls and UseInternalTransaction and Tablock\n",
      "2025-06-15T16:26:50.291 +02:00 -|- FastTransfer -|- MSS22_to_MSS25_Datadriven_Partition -|- INFORMATION -|- tpch_test.dbo.orders_4_no_index -|- BulkCopy to \"dbo\".\"orders_4_no_index\" with BatchSize = 1048576, Timeout = 3600\n",
      "2025-06-15T16:26:50.293 +02:00 -|- FastTransfer -|- MSS22_to_MSS25_Datadriven_Partition -|- WARNING -|- tpch_test.dbo.orders_4_no_index -|- Column o_orderyear not found in target table \"dbo\".\"orders_4_no_index\". The column will be ignored\n",
      "2025-06-15T16:26:50.293 +02:00 -|- FastTransfer -|- MSS22_to_MSS25_Datadriven_Partition -|- WARNING -|- tpch_test.dbo.orders_4_no_index -|- Only 9 out of 10 columns were mapped by name to the target table \"dbo\".\"orders_4_no_index\"\n",
      "2025-06-15T16:26:50.294 +02:00 -|- FastTransfer -|- MSS22_to_MSS25_Datadriven_Partition -|- INFORMATION -|- tpch_test.dbo.orders_4_no_index -|- Start Loading Data using distribution method DataDriven\n",
      "2025-06-15T16:26:50.294 +02:00 -|- FastTransfer -|- MSS22_to_MSS25_Datadriven_Partition -|- INFORMATION -|- tpch_test.dbo.orders_4_no_index -|- Table \"dbo\".\"orders_4_no_index\" has no Clustered Index. BulkCopy will use KeepNulls and UseInternalTransaction and Tablock\n",
      "2025-06-15T16:26:50.294 +02:00 -|- FastTransfer -|- MSS22_to_MSS25_Datadriven_Partition -|- INFORMATION -|- tpch_test.dbo.orders_4_no_index -|- BulkCopy to \"dbo\".\"orders_4_no_index\" with BatchSize = 1048576, Timeout = 3600\n",
      "2025-06-15T16:26:50.297 +02:00 -|- FastTransfer -|- MSS22_to_MSS25_Datadriven_Partition -|- WARNING -|- tpch_test.dbo.orders_4_no_index -|- Column o_orderyear not found in target table \"dbo\".\"orders_4_no_index\". The column will be ignored\n",
      "2025-06-15T16:26:50.297 +02:00 -|- FastTransfer -|- MSS22_to_MSS25_Datadriven_Partition -|- WARNING -|- tpch_test.dbo.orders_4_no_index -|- Only 9 out of 10 columns were mapped by name to the target table \"dbo\".\"orders_4_no_index\"\n",
      "2025-06-15T16:26:50.300 +02:00 -|- FastTransfer -|- MSS22_to_MSS25_Datadriven_Partition -|- INFORMATION -|- tpch_test.dbo.orders_4_no_index -|- Start Loading Data using distribution method DataDriven\n",
      "2025-06-15T16:26:50.301 +02:00 -|- FastTransfer -|- MSS22_to_MSS25_Datadriven_Partition -|- INFORMATION -|- tpch_test.dbo.orders_4_no_index -|- Table \"dbo\".\"orders_4_no_index\" has no Clustered Index. BulkCopy will use KeepNulls and UseInternalTransaction and Tablock\n",
      "2025-06-15T16:26:50.301 +02:00 -|- FastTransfer -|- MSS22_to_MSS25_Datadriven_Partition -|- INFORMATION -|- tpch_test.dbo.orders_4_no_index -|- BulkCopy to \"dbo\".\"orders_4_no_index\" with BatchSize = 1048576, Timeout = 3600\n",
      "2025-06-15T16:26:50.303 +02:00 -|- FastTransfer -|- MSS22_to_MSS25_Datadriven_Partition -|- INFORMATION -|- tpch_test.dbo.orders_4_no_index -|- Start Loading Data using distribution method DataDriven\n",
      "2025-06-15T16:26:50.303 +02:00 -|- FastTransfer -|- MSS22_to_MSS25_Datadriven_Partition -|- INFORMATION -|- tpch_test.dbo.orders_4_no_index -|- Table \"dbo\".\"orders_4_no_index\" has no Clustered Index. BulkCopy will use KeepNulls and UseInternalTransaction and Tablock\n",
      "2025-06-15T16:26:50.303 +02:00 -|- FastTransfer -|- MSS22_to_MSS25_Datadriven_Partition -|- INFORMATION -|- tpch_test.dbo.orders_4_no_index -|- BulkCopy to \"dbo\".\"orders_4_no_index\" with BatchSize = 1048576, Timeout = 3600\n",
      "2025-06-15T16:26:50.303 +02:00 -|- FastTransfer -|- MSS22_to_MSS25_Datadriven_Partition -|- WARNING -|- tpch_test.dbo.orders_4_no_index -|- Column o_orderyear not found in target table \"dbo\".\"orders_4_no_index\". The column will be ignored\n",
      "2025-06-15T16:26:50.304 +02:00 -|- FastTransfer -|- MSS22_to_MSS25_Datadriven_Partition -|- WARNING -|- tpch_test.dbo.orders_4_no_index -|- Only 9 out of 10 columns were mapped by name to the target table \"dbo\".\"orders_4_no_index\"\n",
      "2025-06-15T16:26:50.306 +02:00 -|- FastTransfer -|- MSS22_to_MSS25_Datadriven_Partition -|- WARNING -|- tpch_test.dbo.orders_4_no_index -|- Column o_orderyear not found in target table \"dbo\".\"orders_4_no_index\". The column will be ignored\n",
      "2025-06-15T16:26:50.306 +02:00 -|- FastTransfer -|- MSS22_to_MSS25_Datadriven_Partition -|- WARNING -|- tpch_test.dbo.orders_4_no_index -|- Only 9 out of 10 columns were mapped by name to the target table \"dbo\".\"orders_4_no_index\"\n",
      "2025-06-15T16:26:50.310 +02:00 -|- FastTransfer -|- MSS22_to_MSS25_Datadriven_Partition -|- INFORMATION -|- tpch_test.dbo.orders_4_no_index -|- Start Loading Data using distribution method DataDriven\n",
      "2025-06-15T16:26:50.310 +02:00 -|- FastTransfer -|- MSS22_to_MSS25_Datadriven_Partition -|- INFORMATION -|- tpch_test.dbo.orders_4_no_index -|- Table \"dbo\".\"orders_4_no_index\" has no Clustered Index. BulkCopy will use KeepNulls and UseInternalTransaction and Tablock\n",
      "2025-06-15T16:26:50.310 +02:00 -|- FastTransfer -|- MSS22_to_MSS25_Datadriven_Partition -|- INFORMATION -|- tpch_test.dbo.orders_4_no_index -|- BulkCopy to \"dbo\".\"orders_4_no_index\" with BatchSize = 1048576, Timeout = 3600\n",
      "2025-06-15T16:26:50.313 +02:00 -|- FastTransfer -|- MSS22_to_MSS25_Datadriven_Partition -|- WARNING -|- tpch_test.dbo.orders_4_no_index -|- Column o_orderyear not found in target table \"dbo\".\"orders_4_no_index\". The column will be ignored\n",
      "2025-06-15T16:26:50.313 +02:00 -|- FastTransfer -|- MSS22_to_MSS25_Datadriven_Partition -|- WARNING -|- tpch_test.dbo.orders_4_no_index -|- Only 9 out of 10 columns were mapped by name to the target table \"dbo\".\"orders_4_no_index\"\n",
      "2025-06-15T16:26:50.313 +02:00 -|- FastTransfer -|- MSS22_to_MSS25_Datadriven_Partition -|- INFORMATION -|- tpch_test.dbo.orders_4_no_index -|- Start Loading Data using distribution method DataDriven\n",
      "2025-06-15T16:26:50.314 +02:00 -|- FastTransfer -|- MSS22_to_MSS25_Datadriven_Partition -|- INFORMATION -|- tpch_test.dbo.orders_4_no_index -|- Table \"dbo\".\"orders_4_no_index\" has no Clustered Index. BulkCopy will use KeepNulls and UseInternalTransaction and Tablock\n",
      "2025-06-15T16:26:50.314 +02:00 -|- FastTransfer -|- MSS22_to_MSS25_Datadriven_Partition -|- INFORMATION -|- tpch_test.dbo.orders_4_no_index -|- BulkCopy to \"dbo\".\"orders_4_no_index\" with BatchSize = 1048576, Timeout = 3600\n",
      "2025-06-15T16:26:50.316 +02:00 -|- FastTransfer -|- MSS22_to_MSS25_Datadriven_Partition -|- WARNING -|- tpch_test.dbo.orders_4_no_index -|- Column o_orderyear not found in target table \"dbo\".\"orders_4_no_index\". The column will be ignored\n",
      "2025-06-15T16:26:50.316 +02:00 -|- FastTransfer -|- MSS22_to_MSS25_Datadriven_Partition -|- WARNING -|- tpch_test.dbo.orders_4_no_index -|- Only 9 out of 10 columns were mapped by name to the target table \"dbo\".\"orders_4_no_index\"\n",
      "2025-06-15T16:26:53.213 +02:00 -|- FastTransfer -|- MSS22_to_MSS25_Datadriven_Partition -|- INFORMATION -|- tpch_test.dbo.orders_4_no_index -|- Completed DataDriven Load sub-process 6 for $PARTITION.PF_DATE(o_orderdate) = 8 : 1333214 rows x 10 columns in 2931 ms\n",
      "2025-06-15T16:26:54.619 +02:00 -|- FastTransfer -|- MSS22_to_MSS25_Datadriven_Partition -|- INFORMATION -|- tpch_test.dbo.orders_4_no_index -|- Completed DataDriven Load sub-process 3 for $PARTITION.PF_DATE(o_orderdate) = 5 : 2275575 rows x 10 columns in 4338 ms\n",
      "2025-06-15T16:26:54.628 +02:00 -|- FastTransfer -|- MSS22_to_MSS25_Datadriven_Partition -|- INFORMATION -|- tpch_test.dbo.orders_4_no_index -|- Completed DataDriven Load sub-process 1 for $PARTITION.PF_DATE(o_orderdate) = 3 : 2276638 rows x 10 columns in 4347 ms\n",
      "2025-06-15T16:26:54.647 +02:00 -|- FastTransfer -|- MSS22_to_MSS25_Datadriven_Partition -|- INFORMATION -|- tpch_test.dbo.orders_4_no_index -|- Completed DataDriven Load sub-process 2 for $PARTITION.PF_DATE(o_orderdate) = 4 : 2275919 rows x 10 columns in 4367 ms\n",
      "2025-06-15T16:26:54.726 +02:00 -|- FastTransfer -|- MSS22_to_MSS25_Datadriven_Partition -|- INFORMATION -|- tpch_test.dbo.orders_4_no_index -|- Completed DataDriven Load sub-process 5 for $PARTITION.PF_DATE(o_orderdate) = 7 : 2275511 rows x 10 columns in 4445 ms\n",
      "2025-06-15T16:26:54.729 +02:00 -|- FastTransfer -|- MSS22_to_MSS25_Datadriven_Partition -|- INFORMATION -|- tpch_test.dbo.orders_4_no_index -|- Completed DataDriven Load sub-process 4 for $PARTITION.PF_DATE(o_orderdate) = 6 : 2281938 rows x 10 columns in 4449 ms\n",
      "2025-06-15T16:26:54.736 +02:00 -|- FastTransfer -|- MSS22_to_MSS25_Datadriven_Partition -|- INFORMATION -|- tpch_test.dbo.orders_4_no_index -|- Completed DataDriven Load sub-process 0 for $PARTITION.PF_DATE(o_orderdate) = 2 : 2281205 rows x 10 columns in 4456 ms\n",
      "2025-06-15T16:26:54.737 +02:00 -|- FastTransfer -|- MSS22_to_MSS25_Datadriven_Partition -|- INFORMATION -|- tpch_test.dbo.orders_4_no_index -|- Total rows : 15000000\n",
      "2025-06-15T16:26:54.737 +02:00 -|- FastTransfer -|- MSS22_to_MSS25_Datadriven_Partition -|- INFORMATION -|- tpch_test.dbo.orders_4_no_index -|- Total columns : 10\n",
      "2025-06-15T16:26:54.737 +02:00 -|- FastTransfer -|- MSS22_to_MSS25_Datadriven_Partition -|- INFORMATION -|- tpch_test.dbo.orders_4_no_index -|- Total cells : 150000000\n",
      "2025-06-15T16:26:54.737 +02:00 -|- FastTransfer -|- MSS22_to_MSS25_Datadriven_Partition -|- INFORMATION -|- tpch_test.dbo.orders_4_no_index -|- Rows Throughput : 2872787 rows/s\n",
      "2025-06-15T16:26:54.737 +02:00 -|- FastTransfer -|- MSS22_to_MSS25_Datadriven_Partition -|- INFORMATION -|- tpch_test.dbo.orders_4_no_index -|- Cells Throughput : 28727907 cells/s\n",
      "2025-06-15T16:26:54.737 +02:00 -|- FastTransfer -|- MSS22_to_MSS25_Datadriven_Partition -|- INFORMATION -|- tpch_test.dbo.orders_4_no_index -|- Transfert time : Elapsed=5221 ms\n",
      "2025-06-15T16:26:54.737 +02:00 -|- FastTransfer -|- MSS22_to_MSS25_Datadriven_Partition -|- INFORMATION -|- tpch_test.dbo.orders_4_no_index -|- Total time : Elapsed=5433 ms\n",
      "2025-06-15T16:26:54.737 +02:00 -|- FastTransfer -|- MSS22_to_MSS25_Datadriven_Partition -|- INFORMATION -|- tpch_test.dbo.orders_4_no_index -|- Completed Load\n"
     ]
    }
   ],
   "source": [
    "cd D:\\FastTransfer\n",
    "\n",
    ".\\FastTransfer.exe `\n",
    "--sourceconnectiontype \"mssql\" `\n",
    "--sourceserver \"localhost\" `\n",
    "--sourcedatabase \"tpch_test\" `\n",
    "--sourcetrusted `\n",
    "--sourceschema \"dbo\" `\n",
    "--sourcetable \"orders_part\" `\n",
    "`\n",
    "--targetconnectiontype \"msbulk\" `\n",
    "--targetserver \"localhost\\SS2025\" `\n",
    "--targettrusted `\n",
    "--targetdatabase \"tpch_test\" `\n",
    "--targetschema \"dbo\" `\n",
    "--targettable \"orders_4_no_index\" `\n",
    "`\n",
    "--loadmode \"Truncate\" `\n",
    "--mapmethod \"Name\" `\n",
    "--method \"DataDriven\" `\n",
    "--distributekeycolumn \"`$PARTITION.PF_DATE(o_orderdate)\" `\n",
    "--degree 7 `\n",
    "--runid \"MSS22_to_MSS25_Datadriven_Partition\""
   ]
  },
  {
   "cell_type": "markdown",
   "id": "7a4e21cd",
   "metadata": {},
   "source": [
    "#### DataDriven using partitions as the distributekeycolumn and a custom datadrivenquery (simple)"
   ]
  },
  {
   "cell_type": "code",
   "execution_count": 17,
   "metadata": {
    "polyglot_notebook": {
     "kernelName": "pwsh"
    }
   },
   "outputs": [
    {
     "name": "stdout",
     "output_type": "stream",
     "text": [
      "2025-06-15T17:01:12.620 +02:00 -|- FastTransfer -|- MSS22_to_MSS25_Datadriven_Partition -|- INFORMATION -|- tpch_test.dbo.orders_4_no_index -|- FastTransfer - running in trial mode – will expires on 2025‑07‑14 (28 day(s) left).\n",
      "2025-06-15T17:01:12.629 +02:00 -|- FastTransfer -|- MSS22_to_MSS25_Datadriven_Partition -|- INFORMATION -|- tpch_test.dbo.orders_4_no_index -|- Starting\n",
      "2025-06-15T17:01:12.629 +02:00 -|- FastTransfer -|- MSS22_to_MSS25_Datadriven_Partition -|- INFORMATION -|- tpch_test.dbo.orders_4_no_index -|- FastTransfer Version : 0.13.6.0 Architecture : X64 - Framework : .NET 8.0.16\n",
      "2025-06-15T17:01:12.629 +02:00 -|- FastTransfer -|- MSS22_to_MSS25_Datadriven_Partition -|- INFORMATION -|- tpch_test.dbo.orders_4_no_index -|- OS : Microsoft Windows 10.0.26100\n",
      "2025-06-15T17:01:12.629 +02:00 -|- FastTransfer -|- MSS22_to_MSS25_Datadriven_Partition -|- INFORMATION -|- tpch_test.dbo.orders_4_no_index -|- Process ID : 43080\n",
      "2025-06-15T17:01:12.629 +02:00 -|- FastTransfer -|- MSS22_to_MSS25_Datadriven_Partition -|- INFORMATION -|- tpch_test.dbo.orders_4_no_index -|- Provided Run ID : MSS22_to_MSS25_Datadriven_Partition\n",
      "2025-06-15T17:01:12.629 +02:00 -|- FastTransfer -|- MSS22_to_MSS25_Datadriven_Partition -|- INFORMATION -|- tpch_test.dbo.orders_4_no_index -|- Source Connection Type : mssql\n",
      "2025-06-15T17:01:12.629 +02:00 -|- FastTransfer -|- MSS22_to_MSS25_Datadriven_Partition -|- INFORMATION -|- tpch_test.dbo.orders_4_no_index -|- Source SqlInstance : localhost\n",
      "2025-06-15T17:01:12.629 +02:00 -|- FastTransfer -|- MSS22_to_MSS25_Datadriven_Partition -|- INFORMATION -|- tpch_test.dbo.orders_4_no_index -|- Source Database : tpch_test\n",
      "2025-06-15T17:01:12.629 +02:00 -|- FastTransfer -|- MSS22_to_MSS25_Datadriven_Partition -|- INFORMATION -|- tpch_test.dbo.orders_4_no_index -|- Source Trusted Connection : True\n",
      "2025-06-15T17:01:12.629 +02:00 -|- FastTransfer -|- MSS22_to_MSS25_Datadriven_Partition -|- INFORMATION -|- tpch_test.dbo.orders_4_no_index -|- Source Schema : dbo\n",
      "2025-06-15T17:01:12.629 +02:00 -|- FastTransfer -|- MSS22_to_MSS25_Datadriven_Partition -|- INFORMATION -|- tpch_test.dbo.orders_4_no_index -|- Source Table : orders_part\n",
      "2025-06-15T17:01:12.629 +02:00 -|- FastTransfer -|- MSS22_to_MSS25_Datadriven_Partition -|- INFORMATION -|- tpch_test.dbo.orders_4_no_index -|- Target Type : msbulk\n",
      "2025-06-15T17:01:12.629 +02:00 -|- FastTransfer -|- MSS22_to_MSS25_Datadriven_Partition -|- INFORMATION -|- tpch_test.dbo.orders_4_no_index -|- Target Server : localhost\\SS2025\n",
      "2025-06-15T17:01:12.629 +02:00 -|- FastTransfer -|- MSS22_to_MSS25_Datadriven_Partition -|- INFORMATION -|- tpch_test.dbo.orders_4_no_index -|- Target Database : tpch_test\n",
      "2025-06-15T17:01:12.629 +02:00 -|- FastTransfer -|- MSS22_to_MSS25_Datadriven_Partition -|- INFORMATION -|- tpch_test.dbo.orders_4_no_index -|- Target Schema : dbo\n",
      "2025-06-15T17:01:12.629 +02:00 -|- FastTransfer -|- MSS22_to_MSS25_Datadriven_Partition -|- INFORMATION -|- tpch_test.dbo.orders_4_no_index -|- Target Table : orders_4_no_index\n",
      "2025-06-15T17:01:12.629 +02:00 -|- FastTransfer -|- MSS22_to_MSS25_Datadriven_Partition -|- INFORMATION -|- tpch_test.dbo.orders_4_no_index -|- Target Trusted Connection : True\n",
      "2025-06-15T17:01:12.630 +02:00 -|- FastTransfer -|- MSS22_to_MSS25_Datadriven_Partition -|- INFORMATION -|- tpch_test.dbo.orders_4_no_index -|- Columns Map Method : Name\n",
      "2025-06-15T17:01:12.630 +02:00 -|- FastTransfer -|- MSS22_to_MSS25_Datadriven_Partition -|- INFORMATION -|- tpch_test.dbo.orders_4_no_index -|- Degree : 7\n",
      "2025-06-15T17:01:12.630 +02:00 -|- FastTransfer -|- MSS22_to_MSS25_Datadriven_Partition -|- INFORMATION -|- tpch_test.dbo.orders_4_no_index -|- Distribute Method : DataDriven\n",
      "2025-06-15T17:01:12.630 +02:00 -|- FastTransfer -|- MSS22_to_MSS25_Datadriven_Partition -|- INFORMATION -|- tpch_test.dbo.orders_4_no_index -|- Distribute Column : $PARTITION.PF_DATE(o_orderdate)\n",
      "2025-06-15T17:01:12.630 +02:00 -|- FastTransfer -|- MSS22_to_MSS25_Datadriven_Partition -|- INFORMATION -|- tpch_test.dbo.orders_4_no_index -|- Data Driven Query : select value from generate_series(2,8)\n",
      "2025-06-15T17:01:12.630 +02:00 -|- FastTransfer -|- MSS22_to_MSS25_Datadriven_Partition -|- INFORMATION -|- tpch_test.dbo.orders_4_no_index -|- Bulkcopy Batch Size : 1048576\n",
      "2025-06-15T17:01:12.630 +02:00 -|- FastTransfer -|- MSS22_to_MSS25_Datadriven_Partition -|- INFORMATION -|- tpch_test.dbo.orders_4_no_index -|- Load Mode : Truncate\n",
      "2025-06-15T17:01:12.630 +02:00 -|- FastTransfer -|- MSS22_to_MSS25_Datadriven_Partition -|- INFORMATION -|- tpch_test.dbo.orders_4_no_index -|- Use Work Tables : False\n",
      "2025-06-15T17:01:12.630 +02:00 -|- FastTransfer -|- MSS22_to_MSS25_Datadriven_Partition -|- INFORMATION -|- tpch_test.dbo.orders_4_no_index -|- Encoding used : Unicode (UTF-8) - 65001 - utf-8\n",
      "2025-06-15T17:01:12.648 +02:00 -|- FastTransfer -|- MSS22_to_MSS25_Datadriven_Partition -|- INFORMATION -|- tpch_test.dbo.orders_4_no_index -|- Source Connection String : Data Source=localhost;Initial Catalog=tpch_test;Integrated Security=True;Connect Timeout=120;Encrypt=True;Trust Server Certificate=True;Application Name=FastTransfer;Application Intent=ReadOnly;Command Timeout=10800\n",
      "2025-06-15T17:01:12.648 +02:00 -|- FastTransfer -|- MSS22_to_MSS25_Datadriven_Partition -|- INFORMATION -|- tpch_test.dbo.orders_4_no_index -|- Target Connection String : Data Source=localhost\\SS2025;Initial Catalog=tpch_test;Integrated Security=True;Connect Timeout=120;Encrypt=True;Trust Server Certificate=True;Application Name=FastTransfer;Application Intent=ReadWrite;Command Timeout=10800\n",
      "2025-06-15T17:01:12.648 +02:00 -|- FastTransfer -|- MSS22_to_MSS25_Datadriven_Partition -|- INFORMATION -|- tpch_test.dbo.orders_4_no_index -|- Source Database Version : Microsoft SQL Server 2022 (RTM-CU17) (KB5048038) - 16.0.4175.1 (X64)  \tDec 13 2024 09:01:53  \tCopyright (C) 2022 Microsoft Corporation \tDeveloper Edition (64-bit) on Windows 10 Pro 10.0 <X64> (Build 26100: ) (Hypervisor) \n",
      "2025-06-15T17:01:12.648 +02:00 -|- FastTransfer -|- MSS22_to_MSS25_Datadriven_Partition -|- INFORMATION -|- tpch_test.dbo.orders_4_no_index -|- Target Database Version : Microsoft SQL Server 2025 (CTP2.0) - 17.0.700.9 (X64)  \tMay  8 2025 19:14:27  \tCopyright (C) 2025 Microsoft Corporation \tEnterprise Developer Edition (64-bit) on Windows 10 Pro 10.0 <X64> (Build 26100: ) (Hypervisor) \n",
      "2025-06-15T17:01:12.666 +02:00 -|- FastTransfer -|- MSS22_to_MSS25_Datadriven_Partition -|- INFORMATION -|- tpch_test.dbo.orders_4_no_index -|- Completed DataDriven GetValues : 7 in 0 ms\n",
      "2025-06-15T17:01:12.668 +02:00 -|- FastTransfer -|- MSS22_to_MSS25_Datadriven_Partition -|- INFORMATION -|- tpch_test.dbo.orders_4_no_index -|- Start Loading Data using distribution method DataDriven\n",
      "2025-06-15T17:01:12.670 +02:00 -|- FastTransfer -|- MSS22_to_MSS25_Datadriven_Partition -|- INFORMATION -|- tpch_test.dbo.orders_4_no_index -|- Table \"dbo\".\"orders_4_no_index\" has no Clustered Index. BulkCopy will use KeepNulls and UseInternalTransaction and Tablock\n",
      "2025-06-15T17:01:12.670 +02:00 -|- FastTransfer -|- MSS22_to_MSS25_Datadriven_Partition -|- INFORMATION -|- tpch_test.dbo.orders_4_no_index -|- BulkCopy to \"dbo\".\"orders_4_no_index\" with BatchSize = 1048576, Timeout = 3600\n",
      "2025-06-15T17:01:12.672 +02:00 -|- FastTransfer -|- MSS22_to_MSS25_Datadriven_Partition -|- WARNING -|- tpch_test.dbo.orders_4_no_index -|- Column o_orderyear not found in target table \"dbo\".\"orders_4_no_index\". The column will be ignored\n",
      "2025-06-15T17:01:12.672 +02:00 -|- FastTransfer -|- MSS22_to_MSS25_Datadriven_Partition -|- WARNING -|- tpch_test.dbo.orders_4_no_index -|- Only 9 out of 10 columns were mapped by name to the target table \"dbo\".\"orders_4_no_index\"\n",
      "2025-06-15T17:01:12.678 +02:00 -|- FastTransfer -|- MSS22_to_MSS25_Datadriven_Partition -|- INFORMATION -|- tpch_test.dbo.orders_4_no_index -|- Start Loading Data using distribution method DataDriven\n",
      "2025-06-15T17:01:12.679 +02:00 -|- FastTransfer -|- MSS22_to_MSS25_Datadriven_Partition -|- INFORMATION -|- tpch_test.dbo.orders_4_no_index -|- Table \"dbo\".\"orders_4_no_index\" has no Clustered Index. BulkCopy will use KeepNulls and UseInternalTransaction and Tablock\n",
      "2025-06-15T17:01:12.679 +02:00 -|- FastTransfer -|- MSS22_to_MSS25_Datadriven_Partition -|- INFORMATION -|- tpch_test.dbo.orders_4_no_index -|- BulkCopy to \"dbo\".\"orders_4_no_index\" with BatchSize = 1048576, Timeout = 3600\n",
      "2025-06-15T17:01:12.680 +02:00 -|- FastTransfer -|- MSS22_to_MSS25_Datadriven_Partition -|- WARNING -|- tpch_test.dbo.orders_4_no_index -|- Column o_orderyear not found in target table \"dbo\".\"orders_4_no_index\". The column will be ignored\n",
      "2025-06-15T17:01:12.680 +02:00 -|- FastTransfer -|- MSS22_to_MSS25_Datadriven_Partition -|- WARNING -|- tpch_test.dbo.orders_4_no_index -|- Only 9 out of 10 columns were mapped by name to the target table \"dbo\".\"orders_4_no_index\"\n",
      "2025-06-15T17:01:12.681 +02:00 -|- FastTransfer -|- MSS22_to_MSS25_Datadriven_Partition -|- INFORMATION -|- tpch_test.dbo.orders_4_no_index -|- Start Loading Data using distribution method DataDriven\n",
      "2025-06-15T17:01:12.681 +02:00 -|- FastTransfer -|- MSS22_to_MSS25_Datadriven_Partition -|- INFORMATION -|- tpch_test.dbo.orders_4_no_index -|- Table \"dbo\".\"orders_4_no_index\" has no Clustered Index. BulkCopy will use KeepNulls and UseInternalTransaction and Tablock\n",
      "2025-06-15T17:01:12.681 +02:00 -|- FastTransfer -|- MSS22_to_MSS25_Datadriven_Partition -|- INFORMATION -|- tpch_test.dbo.orders_4_no_index -|- BulkCopy to \"dbo\".\"orders_4_no_index\" with BatchSize = 1048576, Timeout = 3600\n",
      "2025-06-15T17:01:12.682 +02:00 -|- FastTransfer -|- MSS22_to_MSS25_Datadriven_Partition -|- WARNING -|- tpch_test.dbo.orders_4_no_index -|- Column o_orderyear not found in target table \"dbo\".\"orders_4_no_index\". The column will be ignored\n",
      "2025-06-15T17:01:12.682 +02:00 -|- FastTransfer -|- MSS22_to_MSS25_Datadriven_Partition -|- WARNING -|- tpch_test.dbo.orders_4_no_index -|- Only 9 out of 10 columns were mapped by name to the target table \"dbo\".\"orders_4_no_index\"\n",
      "2025-06-15T17:01:12.690 +02:00 -|- FastTransfer -|- MSS22_to_MSS25_Datadriven_Partition -|- INFORMATION -|- tpch_test.dbo.orders_4_no_index -|- Start Loading Data using distribution method DataDriven\n",
      "2025-06-15T17:01:12.691 +02:00 -|- FastTransfer -|- MSS22_to_MSS25_Datadriven_Partition -|- INFORMATION -|- tpch_test.dbo.orders_4_no_index -|- Table \"dbo\".\"orders_4_no_index\" has no Clustered Index. BulkCopy will use KeepNulls and UseInternalTransaction and Tablock\n",
      "2025-06-15T17:01:12.691 +02:00 -|- FastTransfer -|- MSS22_to_MSS25_Datadriven_Partition -|- INFORMATION -|- tpch_test.dbo.orders_4_no_index -|- BulkCopy to \"dbo\".\"orders_4_no_index\" with BatchSize = 1048576, Timeout = 3600\n",
      "2025-06-15T17:01:12.692 +02:00 -|- FastTransfer -|- MSS22_to_MSS25_Datadriven_Partition -|- WARNING -|- tpch_test.dbo.orders_4_no_index -|- Column o_orderyear not found in target table \"dbo\".\"orders_4_no_index\". The column will be ignored\n",
      "2025-06-15T17:01:12.692 +02:00 -|- FastTransfer -|- MSS22_to_MSS25_Datadriven_Partition -|- WARNING -|- tpch_test.dbo.orders_4_no_index -|- Only 9 out of 10 columns were mapped by name to the target table \"dbo\".\"orders_4_no_index\"\n",
      "2025-06-15T17:01:12.696 +02:00 -|- FastTransfer -|- MSS22_to_MSS25_Datadriven_Partition -|- INFORMATION -|- tpch_test.dbo.orders_4_no_index -|- Start Loading Data using distribution method DataDriven\n",
      "2025-06-15T17:01:12.697 +02:00 -|- FastTransfer -|- MSS22_to_MSS25_Datadriven_Partition -|- INFORMATION -|- tpch_test.dbo.orders_4_no_index -|- Table \"dbo\".\"orders_4_no_index\" has no Clustered Index. BulkCopy will use KeepNulls and UseInternalTransaction and Tablock\n",
      "2025-06-15T17:01:12.697 +02:00 -|- FastTransfer -|- MSS22_to_MSS25_Datadriven_Partition -|- INFORMATION -|- tpch_test.dbo.orders_4_no_index -|- BulkCopy to \"dbo\".\"orders_4_no_index\" with BatchSize = 1048576, Timeout = 3600\n",
      "2025-06-15T17:01:12.698 +02:00 -|- FastTransfer -|- MSS22_to_MSS25_Datadriven_Partition -|- WARNING -|- tpch_test.dbo.orders_4_no_index -|- Column o_orderyear not found in target table \"dbo\".\"orders_4_no_index\". The column will be ignored\n",
      "2025-06-15T17:01:12.698 +02:00 -|- FastTransfer -|- MSS22_to_MSS25_Datadriven_Partition -|- WARNING -|- tpch_test.dbo.orders_4_no_index -|- Only 9 out of 10 columns were mapped by name to the target table \"dbo\".\"orders_4_no_index\"\n",
      "2025-06-15T17:01:12.700 +02:00 -|- FastTransfer -|- MSS22_to_MSS25_Datadriven_Partition -|- INFORMATION -|- tpch_test.dbo.orders_4_no_index -|- Start Loading Data using distribution method DataDriven\n",
      "2025-06-15T17:01:12.700 +02:00 -|- FastTransfer -|- MSS22_to_MSS25_Datadriven_Partition -|- INFORMATION -|- tpch_test.dbo.orders_4_no_index -|- Table \"dbo\".\"orders_4_no_index\" has no Clustered Index. BulkCopy will use KeepNulls and UseInternalTransaction and Tablock\n",
      "2025-06-15T17:01:12.700 +02:00 -|- FastTransfer -|- MSS22_to_MSS25_Datadriven_Partition -|- INFORMATION -|- tpch_test.dbo.orders_4_no_index -|- BulkCopy to \"dbo\".\"orders_4_no_index\" with BatchSize = 1048576, Timeout = 3600\n",
      "2025-06-15T17:01:12.701 +02:00 -|- FastTransfer -|- MSS22_to_MSS25_Datadriven_Partition -|- WARNING -|- tpch_test.dbo.orders_4_no_index -|- Column o_orderyear not found in target table \"dbo\".\"orders_4_no_index\". The column will be ignored\n",
      "2025-06-15T17:01:12.701 +02:00 -|- FastTransfer -|- MSS22_to_MSS25_Datadriven_Partition -|- WARNING -|- tpch_test.dbo.orders_4_no_index -|- Only 9 out of 10 columns were mapped by name to the target table \"dbo\".\"orders_4_no_index\"\n",
      "2025-06-15T17:01:12.705 +02:00 -|- FastTransfer -|- MSS22_to_MSS25_Datadriven_Partition -|- INFORMATION -|- tpch_test.dbo.orders_4_no_index -|- Start Loading Data using distribution method DataDriven\n",
      "2025-06-15T17:01:12.706 +02:00 -|- FastTransfer -|- MSS22_to_MSS25_Datadriven_Partition -|- INFORMATION -|- tpch_test.dbo.orders_4_no_index -|- Table \"dbo\".\"orders_4_no_index\" has no Clustered Index. BulkCopy will use KeepNulls and UseInternalTransaction and Tablock\n",
      "2025-06-15T17:01:12.709 +02:00 -|- FastTransfer -|- MSS22_to_MSS25_Datadriven_Partition -|- INFORMATION -|- tpch_test.dbo.orders_4_no_index -|- BulkCopy to \"dbo\".\"orders_4_no_index\" with BatchSize = 1048576, Timeout = 3600\n",
      "2025-06-15T17:01:12.710 +02:00 -|- FastTransfer -|- MSS22_to_MSS25_Datadriven_Partition -|- WARNING -|- tpch_test.dbo.orders_4_no_index -|- Column o_orderyear not found in target table \"dbo\".\"orders_4_no_index\". The column will be ignored\n",
      "2025-06-15T17:01:12.710 +02:00 -|- FastTransfer -|- MSS22_to_MSS25_Datadriven_Partition -|- WARNING -|- tpch_test.dbo.orders_4_no_index -|- Only 9 out of 10 columns were mapped by name to the target table \"dbo\".\"orders_4_no_index\"\n",
      "2025-06-15T17:01:15.271 +02:00 -|- FastTransfer -|- MSS22_to_MSS25_Datadriven_Partition -|- INFORMATION -|- tpch_test.dbo.orders_4_no_index -|- Completed DataDriven Load sub-process 6 for $PARTITION.PF_DATE(o_orderdate) = 8 : 1333214 rows x 10 columns in 2602 ms\n",
      "2025-06-15T17:01:16.721 +02:00 -|- FastTransfer -|- MSS22_to_MSS25_Datadriven_Partition -|- INFORMATION -|- tpch_test.dbo.orders_4_no_index -|- Completed DataDriven Load sub-process 3 for $PARTITION.PF_DATE(o_orderdate) = 5 : 2275575 rows x 10 columns in 4053 ms\n",
      "2025-06-15T17:01:16.736 +02:00 -|- FastTransfer -|- MSS22_to_MSS25_Datadriven_Partition -|- INFORMATION -|- tpch_test.dbo.orders_4_no_index -|- Completed DataDriven Load sub-process 2 for $PARTITION.PF_DATE(o_orderdate) = 4 : 2275919 rows x 10 columns in 4068 ms\n",
      "2025-06-15T17:01:16.742 +02:00 -|- FastTransfer -|- MSS22_to_MSS25_Datadriven_Partition -|- INFORMATION -|- tpch_test.dbo.orders_4_no_index -|- Completed DataDriven Load sub-process 0 for $PARTITION.PF_DATE(o_orderdate) = 2 : 2281205 rows x 10 columns in 4075 ms\n",
      "2025-06-15T17:01:16.753 +02:00 -|- FastTransfer -|- MSS22_to_MSS25_Datadriven_Partition -|- INFORMATION -|- tpch_test.dbo.orders_4_no_index -|- Completed DataDriven Load sub-process 1 for $PARTITION.PF_DATE(o_orderdate) = 3 : 2276638 rows x 10 columns in 4085 ms\n",
      "2025-06-15T17:01:16.835 +02:00 -|- FastTransfer -|- MSS22_to_MSS25_Datadriven_Partition -|- INFORMATION -|- tpch_test.dbo.orders_4_no_index -|- Completed DataDriven Load sub-process 4 for $PARTITION.PF_DATE(o_orderdate) = 6 : 2281938 rows x 10 columns in 4167 ms\n",
      "2025-06-15T17:01:16.839 +02:00 -|- FastTransfer -|- MSS22_to_MSS25_Datadriven_Partition -|- INFORMATION -|- tpch_test.dbo.orders_4_no_index -|- Completed DataDriven Load sub-process 5 for $PARTITION.PF_DATE(o_orderdate) = 7 : 2275511 rows x 10 columns in 4171 ms\n",
      "2025-06-15T17:01:16.840 +02:00 -|- FastTransfer -|- MSS22_to_MSS25_Datadriven_Partition -|- INFORMATION -|- tpch_test.dbo.orders_4_no_index -|- Total rows : 15000000\n",
      "2025-06-15T17:01:16.840 +02:00 -|- FastTransfer -|- MSS22_to_MSS25_Datadriven_Partition -|- INFORMATION -|- tpch_test.dbo.orders_4_no_index -|- Total columns : 10\n",
      "2025-06-15T17:01:16.840 +02:00 -|- FastTransfer -|- MSS22_to_MSS25_Datadriven_Partition -|- INFORMATION -|- tpch_test.dbo.orders_4_no_index -|- Total cells : 150000000\n",
      "2025-06-15T17:01:16.840 +02:00 -|- FastTransfer -|- MSS22_to_MSS25_Datadriven_Partition -|- INFORMATION -|- tpch_test.dbo.orders_4_no_index -|- Rows Throughput : 3588708 rows/s\n",
      "2025-06-15T17:01:16.840 +02:00 -|- FastTransfer -|- MSS22_to_MSS25_Datadriven_Partition -|- INFORMATION -|- tpch_test.dbo.orders_4_no_index -|- Cells Throughput : 35887130 cells/s\n",
      "2025-06-15T17:01:16.840 +02:00 -|- FastTransfer -|- MSS22_to_MSS25_Datadriven_Partition -|- INFORMATION -|- tpch_test.dbo.orders_4_no_index -|- Transfert time : Elapsed=4179 ms\n",
      "2025-06-15T17:01:16.840 +02:00 -|- FastTransfer -|- MSS22_to_MSS25_Datadriven_Partition -|- INFORMATION -|- tpch_test.dbo.orders_4_no_index -|- Total time : Elapsed=4376 ms\n",
      "2025-06-15T17:01:16.840 +02:00 -|- FastTransfer -|- MSS22_to_MSS25_Datadriven_Partition -|- INFORMATION -|- tpch_test.dbo.orders_4_no_index -|- Completed Load\n"
     ]
    }
   ],
   "source": [
    "cd D:\\FastTransfer\n",
    "\n",
    ".\\FastTransfer.exe `\n",
    "--sourceconnectiontype \"mssql\" `\n",
    "--sourceserver \"localhost\" `\n",
    "--sourcedatabase \"tpch_test\" `\n",
    "--sourcetrusted `\n",
    "--sourceschema \"dbo\" `\n",
    "--sourcetable \"orders_part\" `\n",
    "`\n",
    "--targetconnectiontype \"msbulk\" `\n",
    "--targetserver \"localhost\\SS2025\" `\n",
    "--targettrusted `\n",
    "--targetdatabase \"tpch_test\" `\n",
    "--targetschema \"dbo\" `\n",
    "--targettable \"orders_4_no_index\" `\n",
    "`\n",
    "--loadmode \"Truncate\" `\n",
    "--mapmethod \"Name\" `\n",
    "--method \"DataDriven\" `\n",
    "--distributekeycolumn \"`$PARTITION.PF_DATE(o_orderdate)\" `\n",
    "--datadrivenquery \"select value from generate_series(2,8)\" `\n",
    "--degree 7 `\n",
    "--runid \"MSS22_to_MSS25_Datadriven_Partition\""
   ]
  },
  {
   "cell_type": "markdown",
   "id": "5c934f39",
   "metadata": {},
   "source": [
    "#### DataDriven using partitions as the distributekeycolumn and a custom datadrivenquery (a little more complex)"
   ]
  },
  {
   "cell_type": "code",
   "execution_count": 5,
   "metadata": {
    "polyglot_notebook": {
     "kernelName": "pwsh"
    }
   },
   "outputs": [
    {
     "name": "stdout",
     "output_type": "stream",
     "text": [
      "2025-06-15T17:34:11.839 +02:00 -|- FastTransfer -|- MSS22_to_MSS25_Datadriven_Partition -|- INFORMATION -|- tpch_test.dbo.orders_4_no_index -|- FastTransfer - running in trial mode – will expires on 2025‑07‑14 (28 day(s) left).\n",
      "2025-06-15T17:34:11.850 +02:00 -|- FastTransfer -|- MSS22_to_MSS25_Datadriven_Partition -|- INFORMATION -|- tpch_test.dbo.orders_4_no_index -|- Starting\n",
      "2025-06-15T17:34:11.851 +02:00 -|- FastTransfer -|- MSS22_to_MSS25_Datadriven_Partition -|- INFORMATION -|- tpch_test.dbo.orders_4_no_index -|- FastTransfer Version : 0.13.6.0 Architecture : X64 - Framework : .NET 8.0.16\n",
      "2025-06-15T17:34:11.851 +02:00 -|- FastTransfer -|- MSS22_to_MSS25_Datadriven_Partition -|- INFORMATION -|- tpch_test.dbo.orders_4_no_index -|- OS : Microsoft Windows 10.0.26100\n",
      "2025-06-15T17:34:11.851 +02:00 -|- FastTransfer -|- MSS22_to_MSS25_Datadriven_Partition -|- INFORMATION -|- tpch_test.dbo.orders_4_no_index -|- Process ID : 41348\n",
      "2025-06-15T17:34:11.851 +02:00 -|- FastTransfer -|- MSS22_to_MSS25_Datadriven_Partition -|- INFORMATION -|- tpch_test.dbo.orders_4_no_index -|- Provided Run ID : MSS22_to_MSS25_Datadriven_Partition\n",
      "2025-06-15T17:34:11.851 +02:00 -|- FastTransfer -|- MSS22_to_MSS25_Datadriven_Partition -|- INFORMATION -|- tpch_test.dbo.orders_4_no_index -|- Source Connection Type : mssql\n",
      "2025-06-15T17:34:11.851 +02:00 -|- FastTransfer -|- MSS22_to_MSS25_Datadriven_Partition -|- INFORMATION -|- tpch_test.dbo.orders_4_no_index -|- Source SqlInstance : localhost\n",
      "2025-06-15T17:34:11.851 +02:00 -|- FastTransfer -|- MSS22_to_MSS25_Datadriven_Partition -|- INFORMATION -|- tpch_test.dbo.orders_4_no_index -|- Source Database : tpch_test\n",
      "2025-06-15T17:34:11.851 +02:00 -|- FastTransfer -|- MSS22_to_MSS25_Datadriven_Partition -|- INFORMATION -|- tpch_test.dbo.orders_4_no_index -|- Source Trusted Connection : True\n",
      "2025-06-15T17:34:11.851 +02:00 -|- FastTransfer -|- MSS22_to_MSS25_Datadriven_Partition -|- INFORMATION -|- tpch_test.dbo.orders_4_no_index -|- Source Schema : dbo\n",
      "2025-06-15T17:34:11.851 +02:00 -|- FastTransfer -|- MSS22_to_MSS25_Datadriven_Partition -|- INFORMATION -|- tpch_test.dbo.orders_4_no_index -|- Source Table : orders_part\n",
      "2025-06-15T17:34:11.851 +02:00 -|- FastTransfer -|- MSS22_to_MSS25_Datadriven_Partition -|- INFORMATION -|- tpch_test.dbo.orders_4_no_index -|- Target Type : msbulk\n",
      "2025-06-15T17:34:11.851 +02:00 -|- FastTransfer -|- MSS22_to_MSS25_Datadriven_Partition -|- INFORMATION -|- tpch_test.dbo.orders_4_no_index -|- Target Server : localhost\\SS2025\n",
      "2025-06-15T17:34:11.851 +02:00 -|- FastTransfer -|- MSS22_to_MSS25_Datadriven_Partition -|- INFORMATION -|- tpch_test.dbo.orders_4_no_index -|- Target Database : tpch_test\n",
      "2025-06-15T17:34:11.851 +02:00 -|- FastTransfer -|- MSS22_to_MSS25_Datadriven_Partition -|- INFORMATION -|- tpch_test.dbo.orders_4_no_index -|- Target Schema : dbo\n",
      "2025-06-15T17:34:11.851 +02:00 -|- FastTransfer -|- MSS22_to_MSS25_Datadriven_Partition -|- INFORMATION -|- tpch_test.dbo.orders_4_no_index -|- Target Table : orders_4_no_index\n",
      "2025-06-15T17:34:11.851 +02:00 -|- FastTransfer -|- MSS22_to_MSS25_Datadriven_Partition -|- INFORMATION -|- tpch_test.dbo.orders_4_no_index -|- Target Trusted Connection : True\n",
      "2025-06-15T17:34:11.851 +02:00 -|- FastTransfer -|- MSS22_to_MSS25_Datadriven_Partition -|- INFORMATION -|- tpch_test.dbo.orders_4_no_index -|- Columns Map Method : Name\n",
      "2025-06-15T17:34:11.851 +02:00 -|- FastTransfer -|- MSS22_to_MSS25_Datadriven_Partition -|- INFORMATION -|- tpch_test.dbo.orders_4_no_index -|- Degree : 7\n",
      "2025-06-15T17:34:11.851 +02:00 -|- FastTransfer -|- MSS22_to_MSS25_Datadriven_Partition -|- INFORMATION -|- tpch_test.dbo.orders_4_no_index -|- Distribute Method : DataDriven\n",
      "2025-06-15T17:34:11.851 +02:00 -|- FastTransfer -|- MSS22_to_MSS25_Datadriven_Partition -|- INFORMATION -|- tpch_test.dbo.orders_4_no_index -|- Distribute Column : $PARTITION.PF_DATE(o_orderdate)\n",
      "2025-06-15T17:34:11.851 +02:00 -|- FastTransfer -|- MSS22_to_MSS25_Datadriven_Partition -|- INFORMATION -|- tpch_test.dbo.orders_4_no_index -|- Data Driven Query : select boundary_id partid \n",
      "from \n",
      "  sys.partition_range_values prv \n",
      "  inner join sys.partition_functions pf on prv.function_id=pf.function_id\n",
      "where \n",
      "  pf.name='PF_DATE'  \n",
      "  and cast(prv.value as date)  > '1996-01-01' and cast(prv.value as date) <= '1999-01-01'\n",
      "2025-06-15T17:34:11.851 +02:00 -|- FastTransfer -|- MSS22_to_MSS25_Datadriven_Partition -|- INFORMATION -|- tpch_test.dbo.orders_4_no_index -|- Bulkcopy Batch Size : 1048576\n",
      "2025-06-15T17:34:11.851 +02:00 -|- FastTransfer -|- MSS22_to_MSS25_Datadriven_Partition -|- INFORMATION -|- tpch_test.dbo.orders_4_no_index -|- Load Mode : Truncate\n",
      "2025-06-15T17:34:11.851 +02:00 -|- FastTransfer -|- MSS22_to_MSS25_Datadriven_Partition -|- INFORMATION -|- tpch_test.dbo.orders_4_no_index -|- Use Work Tables : False\n",
      "2025-06-15T17:34:11.852 +02:00 -|- FastTransfer -|- MSS22_to_MSS25_Datadriven_Partition -|- INFORMATION -|- tpch_test.dbo.orders_4_no_index -|- Encoding used : Unicode (UTF-8) - 65001 - utf-8\n",
      "2025-06-15T17:34:11.871 +02:00 -|- FastTransfer -|- MSS22_to_MSS25_Datadriven_Partition -|- INFORMATION -|- tpch_test.dbo.orders_4_no_index -|- Source Connection String : Data Source=localhost;Initial Catalog=tpch_test;Integrated Security=True;Connect Timeout=120;Encrypt=True;Trust Server Certificate=True;Application Name=FastTransfer;Application Intent=ReadOnly;Command Timeout=10800\n",
      "2025-06-15T17:34:11.872 +02:00 -|- FastTransfer -|- MSS22_to_MSS25_Datadriven_Partition -|- INFORMATION -|- tpch_test.dbo.orders_4_no_index -|- Target Connection String : Data Source=localhost\\SS2025;Initial Catalog=tpch_test;Integrated Security=True;Connect Timeout=120;Encrypt=True;Trust Server Certificate=True;Application Name=FastTransfer;Application Intent=ReadWrite;Command Timeout=10800\n",
      "2025-06-15T17:34:11.872 +02:00 -|- FastTransfer -|- MSS22_to_MSS25_Datadriven_Partition -|- INFORMATION -|- tpch_test.dbo.orders_4_no_index -|- Source Database Version : Microsoft SQL Server 2022 (RTM-CU17) (KB5048038) - 16.0.4175.1 (X64)  \tDec 13 2024 09:01:53  \tCopyright (C) 2022 Microsoft Corporation \tDeveloper Edition (64-bit) on Windows 10 Pro 10.0 <X64> (Build 26100: ) (Hypervisor) \n",
      "2025-06-15T17:34:11.872 +02:00 -|- FastTransfer -|- MSS22_to_MSS25_Datadriven_Partition -|- INFORMATION -|- tpch_test.dbo.orders_4_no_index -|- Target Database Version : Microsoft SQL Server 2025 (CTP2.0) - 17.0.700.9 (X64)  \tMay  8 2025 19:14:27  \tCopyright (C) 2025 Microsoft Corporation \tEnterprise Developer Edition (64-bit) on Windows 10 Pro 10.0 <X64> (Build 26100: ) (Hypervisor) \n",
      "2025-06-15T17:34:11.885 +02:00 -|- FastTransfer -|- MSS22_to_MSS25_Datadriven_Partition -|- INFORMATION -|- tpch_test.dbo.orders_4_no_index -|- Completed DataDriven GetValues : 3 in 2 ms\n",
      "2025-06-15T17:34:11.888 +02:00 -|- FastTransfer -|- MSS22_to_MSS25_Datadriven_Partition -|- INFORMATION -|- tpch_test.dbo.orders_4_no_index -|- Start Loading Data using distribution method DataDriven\n",
      "2025-06-15T17:34:11.889 +02:00 -|- FastTransfer -|- MSS22_to_MSS25_Datadriven_Partition -|- INFORMATION -|- tpch_test.dbo.orders_4_no_index -|- Table \"dbo\".\"orders_4_no_index\" has no Clustered Index. BulkCopy will use KeepNulls and UseInternalTransaction and Tablock\n",
      "2025-06-15T17:34:11.889 +02:00 -|- FastTransfer -|- MSS22_to_MSS25_Datadriven_Partition -|- INFORMATION -|- tpch_test.dbo.orders_4_no_index -|- BulkCopy to \"dbo\".\"orders_4_no_index\" with BatchSize = 1048576, Timeout = 3600\n",
      "2025-06-15T17:34:11.892 +02:00 -|- FastTransfer -|- MSS22_to_MSS25_Datadriven_Partition -|- WARNING -|- tpch_test.dbo.orders_4_no_index -|- Column o_orderyear not found in target table \"dbo\".\"orders_4_no_index\". The column will be ignored\n",
      "2025-06-15T17:34:11.892 +02:00 -|- FastTransfer -|- MSS22_to_MSS25_Datadriven_Partition -|- WARNING -|- tpch_test.dbo.orders_4_no_index -|- Only 9 out of 10 columns were mapped by name to the target table \"dbo\".\"orders_4_no_index\"\n",
      "2025-06-15T17:34:11.900 +02:00 -|- FastTransfer -|- MSS22_to_MSS25_Datadriven_Partition -|- INFORMATION -|- tpch_test.dbo.orders_4_no_index -|- Start Loading Data using distribution method DataDriven\n",
      "2025-06-15T17:34:11.901 +02:00 -|- FastTransfer -|- MSS22_to_MSS25_Datadriven_Partition -|- INFORMATION -|- tpch_test.dbo.orders_4_no_index -|- Table \"dbo\".\"orders_4_no_index\" has no Clustered Index. BulkCopy will use KeepNulls and UseInternalTransaction and Tablock\n",
      "2025-06-15T17:34:11.901 +02:00 -|- FastTransfer -|- MSS22_to_MSS25_Datadriven_Partition -|- INFORMATION -|- tpch_test.dbo.orders_4_no_index -|- BulkCopy to \"dbo\".\"orders_4_no_index\" with BatchSize = 1048576, Timeout = 3600\n",
      "2025-06-15T17:34:11.903 +02:00 -|- FastTransfer -|- MSS22_to_MSS25_Datadriven_Partition -|- INFORMATION -|- tpch_test.dbo.orders_4_no_index -|- Start Loading Data using distribution method DataDriven\n",
      "2025-06-15T17:34:11.903 +02:00 -|- FastTransfer -|- MSS22_to_MSS25_Datadriven_Partition -|- INFORMATION -|- tpch_test.dbo.orders_4_no_index -|- Table \"dbo\".\"orders_4_no_index\" has no Clustered Index. BulkCopy will use KeepNulls and UseInternalTransaction and Tablock\n",
      "2025-06-15T17:34:11.903 +02:00 -|- FastTransfer -|- MSS22_to_MSS25_Datadriven_Partition -|- INFORMATION -|- tpch_test.dbo.orders_4_no_index -|- BulkCopy to \"dbo\".\"orders_4_no_index\" with BatchSize = 1048576, Timeout = 3600\n",
      "2025-06-15T17:34:11.903 +02:00 -|- FastTransfer -|- MSS22_to_MSS25_Datadriven_Partition -|- WARNING -|- tpch_test.dbo.orders_4_no_index -|- Column o_orderyear not found in target table \"dbo\".\"orders_4_no_index\". The column will be ignored\n",
      "2025-06-15T17:34:11.904 +02:00 -|- FastTransfer -|- MSS22_to_MSS25_Datadriven_Partition -|- WARNING -|- tpch_test.dbo.orders_4_no_index -|- Only 9 out of 10 columns were mapped by name to the target table \"dbo\".\"orders_4_no_index\"\n",
      "2025-06-15T17:34:11.904 +02:00 -|- FastTransfer -|- MSS22_to_MSS25_Datadriven_Partition -|- WARNING -|- tpch_test.dbo.orders_4_no_index -|- Column o_orderyear not found in target table \"dbo\".\"orders_4_no_index\". The column will be ignored\n",
      "2025-06-15T17:34:11.904 +02:00 -|- FastTransfer -|- MSS22_to_MSS25_Datadriven_Partition -|- WARNING -|- tpch_test.dbo.orders_4_no_index -|- Only 9 out of 10 columns were mapped by name to the target table \"dbo\".\"orders_4_no_index\"\n",
      "2025-06-15T17:34:14.041 +02:00 -|- FastTransfer -|- MSS22_to_MSS25_Datadriven_Partition -|- INFORMATION -|- tpch_test.dbo.orders_4_no_index -|- Completed DataDriven Load sub-process 2 for $PARTITION.PF_DATE(o_orderdate) = 8 : 1333214 rows x 10 columns in 2152 ms\n",
      "2025-06-15T17:34:15.300 +02:00 -|- FastTransfer -|- MSS22_to_MSS25_Datadriven_Partition -|- INFORMATION -|- tpch_test.dbo.orders_4_no_index -|- Completed DataDriven Load sub-process 1 for $PARTITION.PF_DATE(o_orderdate) = 7 : 2275511 rows x 10 columns in 3412 ms\n",
      "2025-06-15T17:34:15.337 +02:00 -|- FastTransfer -|- MSS22_to_MSS25_Datadriven_Partition -|- INFORMATION -|- tpch_test.dbo.orders_4_no_index -|- Completed DataDriven Load sub-process 0 for $PARTITION.PF_DATE(o_orderdate) = 6 : 2281938 rows x 10 columns in 3450 ms\n",
      "2025-06-15T17:34:15.338 +02:00 -|- FastTransfer -|- MSS22_to_MSS25_Datadriven_Partition -|- INFORMATION -|- tpch_test.dbo.orders_4_no_index -|- Total rows : 5890663\n",
      "2025-06-15T17:34:15.338 +02:00 -|- FastTransfer -|- MSS22_to_MSS25_Datadriven_Partition -|- INFORMATION -|- tpch_test.dbo.orders_4_no_index -|- Total columns : 10\n",
      "2025-06-15T17:34:15.339 +02:00 -|- FastTransfer -|- MSS22_to_MSS25_Datadriven_Partition -|- INFORMATION -|- tpch_test.dbo.orders_4_no_index -|- Total cells : 58906630\n",
      "2025-06-15T17:34:15.339 +02:00 -|- FastTransfer -|- MSS22_to_MSS25_Datadriven_Partition -|- INFORMATION -|- tpch_test.dbo.orders_4_no_index -|- Rows Throughput : 1704438 rows/s\n",
      "2025-06-15T17:34:15.339 +02:00 -|- FastTransfer -|- MSS22_to_MSS25_Datadriven_Partition -|- INFORMATION -|- tpch_test.dbo.orders_4_no_index -|- Cells Throughput : 17044409 cells/s\n",
      "2025-06-15T17:34:15.339 +02:00 -|- FastTransfer -|- MSS22_to_MSS25_Datadriven_Partition -|- INFORMATION -|- tpch_test.dbo.orders_4_no_index -|- Transfert time : Elapsed=3456 ms\n",
      "2025-06-15T17:34:15.339 +02:00 -|- FastTransfer -|- MSS22_to_MSS25_Datadriven_Partition -|- INFORMATION -|- tpch_test.dbo.orders_4_no_index -|- Total time : Elapsed=3644 ms\n",
      "2025-06-15T17:34:15.339 +02:00 -|- FastTransfer -|- MSS22_to_MSS25_Datadriven_Partition -|- INFORMATION -|- tpch_test.dbo.orders_4_no_index -|- Completed Load\n"
     ]
    }
   ],
   "source": [
    "cd D:\\FastTransfer\n",
    "\n",
    ".\\FastTransfer.exe `\n",
    "--sourceconnectiontype \"mssql\" `\n",
    "--sourceserver \"localhost\" `\n",
    "--sourcedatabase \"tpch_test\" `\n",
    "--sourcetrusted `\n",
    "--sourceschema \"dbo\" `\n",
    "--sourcetable \"orders_part\" `\n",
    "`\n",
    "--targetconnectiontype \"msbulk\" `\n",
    "--targetserver \"localhost\\SS2025\" `\n",
    "--targettrusted `\n",
    "--targetdatabase \"tpch_test\" `\n",
    "--targetschema \"dbo\" `\n",
    "--targettable \"orders_4_no_index\" `\n",
    "`\n",
    "--loadmode \"Truncate\" `\n",
    "--mapmethod \"Name\" `\n",
    "--method \"DataDriven\" `\n",
    "--distributekeycolumn \"`$PARTITION.PF_DATE(o_orderdate)\" `\n",
    "--datadrivenquery \"select boundary_id partid \n",
    "from \n",
    "  sys.partition_range_values prv \n",
    "  inner join sys.partition_functions pf on prv.function_id=pf.function_id\n",
    "where \n",
    "  pf.name='PF_DATE'  \n",
    "  and cast(prv.value as date)  > '1996-01-01' and cast(prv.value as date) <= '1999-01-01'\" `\n",
    "--degree 7 `\n",
    "--runid \"MSS22_to_MSS25_Datadriven_Partition\""
   ]
  },
  {
   "cell_type": "markdown",
   "id": "5ebf3a79",
   "metadata": {},
   "source": [
    "### Using RangeId as parallel dispatch method and a filtered query as source"
   ]
  },
  {
   "cell_type": "code",
   "execution_count": 7,
   "metadata": {
    "polyglot_notebook": {
     "kernelName": "pwsh"
    }
   },
   "outputs": [
    {
     "name": "stdout",
     "output_type": "stream",
     "text": [
      "2025-06-15T17:34:51.460 +02:00 -|- FastTransfer -|- MSS22_to_MSS25_RangeId_and_filtered_data -|- INFORMATION -|- tpch_test.dbo.orders_4_no_index -|- FastTransfer - running in trial mode – will expires on 2025‑07‑14 (28 day(s) left).\n",
      "2025-06-15T17:34:51.470 +02:00 -|- FastTransfer -|- MSS22_to_MSS25_RangeId_and_filtered_data -|- INFORMATION -|- tpch_test.dbo.orders_4_no_index -|- Starting\n",
      "2025-06-15T17:34:51.470 +02:00 -|- FastTransfer -|- MSS22_to_MSS25_RangeId_and_filtered_data -|- INFORMATION -|- tpch_test.dbo.orders_4_no_index -|- FastTransfer Version : 0.13.6.0 Architecture : X64 - Framework : .NET 8.0.16\n",
      "2025-06-15T17:34:51.470 +02:00 -|- FastTransfer -|- MSS22_to_MSS25_RangeId_and_filtered_data -|- INFORMATION -|- tpch_test.dbo.orders_4_no_index -|- OS : Microsoft Windows 10.0.26100\n",
      "2025-06-15T17:34:51.470 +02:00 -|- FastTransfer -|- MSS22_to_MSS25_RangeId_and_filtered_data -|- INFORMATION -|- tpch_test.dbo.orders_4_no_index -|- Process ID : 37956\n",
      "2025-06-15T17:34:51.470 +02:00 -|- FastTransfer -|- MSS22_to_MSS25_RangeId_and_filtered_data -|- INFORMATION -|- tpch_test.dbo.orders_4_no_index -|- Provided Run ID : MSS22_to_MSS25_RangeId_and_filtered_data\n",
      "2025-06-15T17:34:51.470 +02:00 -|- FastTransfer -|- MSS22_to_MSS25_RangeId_and_filtered_data -|- INFORMATION -|- tpch_test.dbo.orders_4_no_index -|- Source Connection Type : mssql\n",
      "2025-06-15T17:34:51.470 +02:00 -|- FastTransfer -|- MSS22_to_MSS25_RangeId_and_filtered_data -|- INFORMATION -|- tpch_test.dbo.orders_4_no_index -|- Source SqlInstance : localhost\n",
      "2025-06-15T17:34:51.470 +02:00 -|- FastTransfer -|- MSS22_to_MSS25_RangeId_and_filtered_data -|- INFORMATION -|- tpch_test.dbo.orders_4_no_index -|- Source Database : tpch_test\n",
      "2025-06-15T17:34:51.470 +02:00 -|- FastTransfer -|- MSS22_to_MSS25_RangeId_and_filtered_data -|- INFORMATION -|- tpch_test.dbo.orders_4_no_index -|- Source Trusted Connection : True\n",
      "2025-06-15T17:34:51.470 +02:00 -|- FastTransfer -|- MSS22_to_MSS25_RangeId_and_filtered_data -|- INFORMATION -|- tpch_test.dbo.orders_4_no_index -|- Query : SELECT * FROM orders_part WHERE o_orderdate between '1996-01-01' AND '1999-12-31'\n",
      "2025-06-15T17:34:51.470 +02:00 -|- FastTransfer -|- MSS22_to_MSS25_RangeId_and_filtered_data -|- INFORMATION -|- tpch_test.dbo.orders_4_no_index -|- Target Type : msbulk\n",
      "2025-06-15T17:34:51.470 +02:00 -|- FastTransfer -|- MSS22_to_MSS25_RangeId_and_filtered_data -|- INFORMATION -|- tpch_test.dbo.orders_4_no_index -|- Target Server : localhost\\SS2025\n",
      "2025-06-15T17:34:51.470 +02:00 -|- FastTransfer -|- MSS22_to_MSS25_RangeId_and_filtered_data -|- INFORMATION -|- tpch_test.dbo.orders_4_no_index -|- Target Database : tpch_test\n",
      "2025-06-15T17:34:51.470 +02:00 -|- FastTransfer -|- MSS22_to_MSS25_RangeId_and_filtered_data -|- INFORMATION -|- tpch_test.dbo.orders_4_no_index -|- Target Schema : dbo\n",
      "2025-06-15T17:34:51.470 +02:00 -|- FastTransfer -|- MSS22_to_MSS25_RangeId_and_filtered_data -|- INFORMATION -|- tpch_test.dbo.orders_4_no_index -|- Target Table : orders_4_no_index\n",
      "2025-06-15T17:34:51.470 +02:00 -|- FastTransfer -|- MSS22_to_MSS25_RangeId_and_filtered_data -|- INFORMATION -|- tpch_test.dbo.orders_4_no_index -|- Target Trusted Connection : True\n",
      "2025-06-15T17:34:51.470 +02:00 -|- FastTransfer -|- MSS22_to_MSS25_RangeId_and_filtered_data -|- INFORMATION -|- tpch_test.dbo.orders_4_no_index -|- Columns Map Method : Name\n",
      "2025-06-15T17:34:51.470 +02:00 -|- FastTransfer -|- MSS22_to_MSS25_RangeId_and_filtered_data -|- INFORMATION -|- tpch_test.dbo.orders_4_no_index -|- Degree : 7\n",
      "2025-06-15T17:34:51.470 +02:00 -|- FastTransfer -|- MSS22_to_MSS25_RangeId_and_filtered_data -|- INFORMATION -|- tpch_test.dbo.orders_4_no_index -|- Distribute Method : RangeId\n",
      "2025-06-15T17:34:51.470 +02:00 -|- FastTransfer -|- MSS22_to_MSS25_RangeId_and_filtered_data -|- INFORMATION -|- tpch_test.dbo.orders_4_no_index -|- Distribute Column : o_orderkey\n",
      "2025-06-15T17:34:51.470 +02:00 -|- FastTransfer -|- MSS22_to_MSS25_RangeId_and_filtered_data -|- INFORMATION -|- tpch_test.dbo.orders_4_no_index -|- Bulkcopy Batch Size : 1048576\n",
      "2025-06-15T17:34:51.470 +02:00 -|- FastTransfer -|- MSS22_to_MSS25_RangeId_and_filtered_data -|- INFORMATION -|- tpch_test.dbo.orders_4_no_index -|- Load Mode : Truncate\n",
      "2025-06-15T17:34:51.470 +02:00 -|- FastTransfer -|- MSS22_to_MSS25_RangeId_and_filtered_data -|- INFORMATION -|- tpch_test.dbo.orders_4_no_index -|- Use Work Tables : False\n",
      "2025-06-15T17:34:51.471 +02:00 -|- FastTransfer -|- MSS22_to_MSS25_RangeId_and_filtered_data -|- INFORMATION -|- tpch_test.dbo.orders_4_no_index -|- Encoding used : Unicode (UTF-8) - 65001 - utf-8\n",
      "2025-06-15T17:34:51.492 +02:00 -|- FastTransfer -|- MSS22_to_MSS25_RangeId_and_filtered_data -|- INFORMATION -|- tpch_test.dbo.orders_4_no_index -|- Source Connection String : Data Source=localhost;Initial Catalog=tpch_test;Integrated Security=True;Connect Timeout=120;Encrypt=True;Trust Server Certificate=True;Application Name=FastTransfer;Application Intent=ReadOnly;Command Timeout=10800\n",
      "2025-06-15T17:34:51.492 +02:00 -|- FastTransfer -|- MSS22_to_MSS25_RangeId_and_filtered_data -|- INFORMATION -|- tpch_test.dbo.orders_4_no_index -|- Target Connection String : Data Source=localhost\\SS2025;Initial Catalog=tpch_test;Integrated Security=True;Connect Timeout=120;Encrypt=True;Trust Server Certificate=True;Application Name=FastTransfer;Application Intent=ReadWrite;Command Timeout=10800\n",
      "2025-06-15T17:34:51.492 +02:00 -|- FastTransfer -|- MSS22_to_MSS25_RangeId_and_filtered_data -|- INFORMATION -|- tpch_test.dbo.orders_4_no_index -|- Source Database Version : Microsoft SQL Server 2022 (RTM-CU17) (KB5048038) - 16.0.4175.1 (X64)  \tDec 13 2024 09:01:53  \tCopyright (C) 2022 Microsoft Corporation \tDeveloper Edition (64-bit) on Windows 10 Pro 10.0 <X64> (Build 26100: ) (Hypervisor) \n",
      "2025-06-15T17:34:51.492 +02:00 -|- FastTransfer -|- MSS22_to_MSS25_RangeId_and_filtered_data -|- INFORMATION -|- tpch_test.dbo.orders_4_no_index -|- Target Database Version : Microsoft SQL Server 2025 (CTP2.0) - 17.0.700.9 (X64)  \tMay  8 2025 19:14:27  \tCopyright (C) 2025 Microsoft Corporation \tEnterprise Developer Edition (64-bit) on Windows 10 Pro 10.0 <X64> (Build 26100: ) (Hypervisor) \n",
      "2025-06-15T17:34:51.699 +02:00 -|- FastTransfer -|- MSS22_to_MSS25_RangeId_and_filtered_data -|- INFORMATION -|- tpch_test.dbo.orders_4_no_index -|- Start Loading Data using distribution method RangeId\n",
      "2025-06-15T17:34:51.700 +02:00 -|- FastTransfer -|- MSS22_to_MSS25_RangeId_and_filtered_data -|- INFORMATION -|- tpch_test.dbo.orders_4_no_index -|- Table \"dbo\".\"orders_4_no_index\" has no Clustered Index. BulkCopy will use KeepNulls and UseInternalTransaction and Tablock\n",
      "2025-06-15T17:34:51.700 +02:00 -|- FastTransfer -|- MSS22_to_MSS25_RangeId_and_filtered_data -|- INFORMATION -|- tpch_test.dbo.orders_4_no_index -|- BulkCopy to \"dbo\".\"orders_4_no_index\" with BatchSize = 1048576, Timeout = 3600\n",
      "2025-06-15T17:34:51.702 +02:00 -|- FastTransfer -|- MSS22_to_MSS25_RangeId_and_filtered_data -|- WARNING -|- tpch_test.dbo.orders_4_no_index -|- Column o_orderyear not found in target table \"dbo\".\"orders_4_no_index\". The column will be ignored\n",
      "2025-06-15T17:34:51.702 +02:00 -|- FastTransfer -|- MSS22_to_MSS25_RangeId_and_filtered_data -|- WARNING -|- tpch_test.dbo.orders_4_no_index -|- Only 9 out of 10 columns were mapped by name to the target table \"dbo\".\"orders_4_no_index\"\n",
      "2025-06-15T17:34:51.711 +02:00 -|- FastTransfer -|- MSS22_to_MSS25_RangeId_and_filtered_data -|- INFORMATION -|- tpch_test.dbo.orders_4_no_index -|- Start Loading Data using distribution method RangeId\n",
      "2025-06-15T17:34:51.712 +02:00 -|- FastTransfer -|- MSS22_to_MSS25_RangeId_and_filtered_data -|- INFORMATION -|- tpch_test.dbo.orders_4_no_index -|- Table \"dbo\".\"orders_4_no_index\" has no Clustered Index. BulkCopy will use KeepNulls and UseInternalTransaction and Tablock\n",
      "2025-06-15T17:34:51.712 +02:00 -|- FastTransfer -|- MSS22_to_MSS25_RangeId_and_filtered_data -|- INFORMATION -|- tpch_test.dbo.orders_4_no_index -|- BulkCopy to \"dbo\".\"orders_4_no_index\" with BatchSize = 1048576, Timeout = 3600\n",
      "2025-06-15T17:34:51.713 +02:00 -|- FastTransfer -|- MSS22_to_MSS25_RangeId_and_filtered_data -|- WARNING -|- tpch_test.dbo.orders_4_no_index -|- Column o_orderyear not found in target table \"dbo\".\"orders_4_no_index\". The column will be ignored\n",
      "2025-06-15T17:34:51.713 +02:00 -|- FastTransfer -|- MSS22_to_MSS25_RangeId_and_filtered_data -|- WARNING -|- tpch_test.dbo.orders_4_no_index -|- Only 9 out of 10 columns were mapped by name to the target table \"dbo\".\"orders_4_no_index\"\n",
      "2025-06-15T17:34:51.714 +02:00 -|- FastTransfer -|- MSS22_to_MSS25_RangeId_and_filtered_data -|- INFORMATION -|- tpch_test.dbo.orders_4_no_index -|- Start Loading Data using distribution method RangeId\n",
      "2025-06-15T17:34:51.714 +02:00 -|- FastTransfer -|- MSS22_to_MSS25_RangeId_and_filtered_data -|- INFORMATION -|- tpch_test.dbo.orders_4_no_index -|- Table \"dbo\".\"orders_4_no_index\" has no Clustered Index. BulkCopy will use KeepNulls and UseInternalTransaction and Tablock\n",
      "2025-06-15T17:34:51.714 +02:00 -|- FastTransfer -|- MSS22_to_MSS25_RangeId_and_filtered_data -|- INFORMATION -|- tpch_test.dbo.orders_4_no_index -|- BulkCopy to \"dbo\".\"orders_4_no_index\" with BatchSize = 1048576, Timeout = 3600\n",
      "2025-06-15T17:34:51.716 +02:00 -|- FastTransfer -|- MSS22_to_MSS25_RangeId_and_filtered_data -|- WARNING -|- tpch_test.dbo.orders_4_no_index -|- Column o_orderyear not found in target table \"dbo\".\"orders_4_no_index\". The column will be ignored\n",
      "2025-06-15T17:34:51.716 +02:00 -|- FastTransfer -|- MSS22_to_MSS25_RangeId_and_filtered_data -|- WARNING -|- tpch_test.dbo.orders_4_no_index -|- Only 9 out of 10 columns were mapped by name to the target table \"dbo\".\"orders_4_no_index\"\n",
      "2025-06-15T17:34:51.721 +02:00 -|- FastTransfer -|- MSS22_to_MSS25_RangeId_and_filtered_data -|- INFORMATION -|- tpch_test.dbo.orders_4_no_index -|- Start Loading Data using distribution method RangeId\n",
      "2025-06-15T17:34:51.721 +02:00 -|- FastTransfer -|- MSS22_to_MSS25_RangeId_and_filtered_data -|- INFORMATION -|- tpch_test.dbo.orders_4_no_index -|- Table \"dbo\".\"orders_4_no_index\" has no Clustered Index. BulkCopy will use KeepNulls and UseInternalTransaction and Tablock\n",
      "2025-06-15T17:34:51.721 +02:00 -|- FastTransfer -|- MSS22_to_MSS25_RangeId_and_filtered_data -|- INFORMATION -|- tpch_test.dbo.orders_4_no_index -|- BulkCopy to \"dbo\".\"orders_4_no_index\" with BatchSize = 1048576, Timeout = 3600\n",
      "2025-06-15T17:34:51.723 +02:00 -|- FastTransfer -|- MSS22_to_MSS25_RangeId_and_filtered_data -|- WARNING -|- tpch_test.dbo.orders_4_no_index -|- Column o_orderyear not found in target table \"dbo\".\"orders_4_no_index\". The column will be ignored\n",
      "2025-06-15T17:34:51.723 +02:00 -|- FastTransfer -|- MSS22_to_MSS25_RangeId_and_filtered_data -|- WARNING -|- tpch_test.dbo.orders_4_no_index -|- Only 9 out of 10 columns were mapped by name to the target table \"dbo\".\"orders_4_no_index\"\n",
      "2025-06-15T17:34:51.725 +02:00 -|- FastTransfer -|- MSS22_to_MSS25_RangeId_and_filtered_data -|- INFORMATION -|- tpch_test.dbo.orders_4_no_index -|- Start Loading Data using distribution method RangeId\n",
      "2025-06-15T17:34:51.726 +02:00 -|- FastTransfer -|- MSS22_to_MSS25_RangeId_and_filtered_data -|- INFORMATION -|- tpch_test.dbo.orders_4_no_index -|- Table \"dbo\".\"orders_4_no_index\" has no Clustered Index. BulkCopy will use KeepNulls and UseInternalTransaction and Tablock\n",
      "2025-06-15T17:34:51.726 +02:00 -|- FastTransfer -|- MSS22_to_MSS25_RangeId_and_filtered_data -|- INFORMATION -|- tpch_test.dbo.orders_4_no_index -|- BulkCopy to \"dbo\".\"orders_4_no_index\" with BatchSize = 1048576, Timeout = 3600\n",
      "2025-06-15T17:34:51.728 +02:00 -|- FastTransfer -|- MSS22_to_MSS25_RangeId_and_filtered_data -|- WARNING -|- tpch_test.dbo.orders_4_no_index -|- Column o_orderyear not found in target table \"dbo\".\"orders_4_no_index\". The column will be ignored\n",
      "2025-06-15T17:34:51.728 +02:00 -|- FastTransfer -|- MSS22_to_MSS25_RangeId_and_filtered_data -|- WARNING -|- tpch_test.dbo.orders_4_no_index -|- Only 9 out of 10 columns were mapped by name to the target table \"dbo\".\"orders_4_no_index\"\n",
      "2025-06-15T17:34:51.732 +02:00 -|- FastTransfer -|- MSS22_to_MSS25_RangeId_and_filtered_data -|- INFORMATION -|- tpch_test.dbo.orders_4_no_index -|- Start Loading Data using distribution method RangeId\n",
      "2025-06-15T17:34:51.733 +02:00 -|- FastTransfer -|- MSS22_to_MSS25_RangeId_and_filtered_data -|- INFORMATION -|- tpch_test.dbo.orders_4_no_index -|- Table \"dbo\".\"orders_4_no_index\" has no Clustered Index. BulkCopy will use KeepNulls and UseInternalTransaction and Tablock\n",
      "2025-06-15T17:34:51.733 +02:00 -|- FastTransfer -|- MSS22_to_MSS25_RangeId_and_filtered_data -|- INFORMATION -|- tpch_test.dbo.orders_4_no_index -|- BulkCopy to \"dbo\".\"orders_4_no_index\" with BatchSize = 1048576, Timeout = 3600\n",
      "2025-06-15T17:34:51.734 +02:00 -|- FastTransfer -|- MSS22_to_MSS25_RangeId_and_filtered_data -|- WARNING -|- tpch_test.dbo.orders_4_no_index -|- Column o_orderyear not found in target table \"dbo\".\"orders_4_no_index\". The column will be ignored\n",
      "2025-06-15T17:34:51.734 +02:00 -|- FastTransfer -|- MSS22_to_MSS25_RangeId_and_filtered_data -|- WARNING -|- tpch_test.dbo.orders_4_no_index -|- Only 9 out of 10 columns were mapped by name to the target table \"dbo\".\"orders_4_no_index\"\n",
      "2025-06-15T17:34:51.736 +02:00 -|- FastTransfer -|- MSS22_to_MSS25_RangeId_and_filtered_data -|- INFORMATION -|- tpch_test.dbo.orders_4_no_index -|- Start Loading Data using distribution method RangeId\n",
      "2025-06-15T17:34:51.736 +02:00 -|- FastTransfer -|- MSS22_to_MSS25_RangeId_and_filtered_data -|- INFORMATION -|- tpch_test.dbo.orders_4_no_index -|- Table \"dbo\".\"orders_4_no_index\" has no Clustered Index. BulkCopy will use KeepNulls and UseInternalTransaction and Tablock\n",
      "2025-06-15T17:34:51.736 +02:00 -|- FastTransfer -|- MSS22_to_MSS25_RangeId_and_filtered_data -|- INFORMATION -|- tpch_test.dbo.orders_4_no_index -|- BulkCopy to \"dbo\".\"orders_4_no_index\" with BatchSize = 1048576, Timeout = 3600\n",
      "2025-06-15T17:34:51.738 +02:00 -|- FastTransfer -|- MSS22_to_MSS25_RangeId_and_filtered_data -|- WARNING -|- tpch_test.dbo.orders_4_no_index -|- Column o_orderyear not found in target table \"dbo\".\"orders_4_no_index\". The column will be ignored\n",
      "2025-06-15T17:34:51.738 +02:00 -|- FastTransfer -|- MSS22_to_MSS25_RangeId_and_filtered_data -|- WARNING -|- tpch_test.dbo.orders_4_no_index -|- Only 9 out of 10 columns were mapped by name to the target table \"dbo\".\"orders_4_no_index\"\n",
      "2025-06-15T17:34:53.830 +02:00 -|- FastTransfer -|- MSS22_to_MSS25_RangeId_and_filtered_data -|- INFORMATION -|- tpch_test.dbo.orders_4_no_index -|- Completed RangeId Parallel Load 3 : 841397 rows x 10 columns in 2131 ms\n",
      "2025-06-15T17:34:53.833 +02:00 -|- FastTransfer -|- MSS22_to_MSS25_RangeId_and_filtered_data -|- INFORMATION -|- tpch_test.dbo.orders_4_no_index -|- Completed RangeId Parallel Load 2 : 841199 rows x 10 columns in 2134 ms\n",
      "2025-06-15T17:34:53.842 +02:00 -|- FastTransfer -|- MSS22_to_MSS25_RangeId_and_filtered_data -|- INFORMATION -|- tpch_test.dbo.orders_4_no_index -|- Completed RangeId Parallel Load 5 : 842010 rows x 10 columns in 2142 ms\n",
      "2025-06-15T17:34:53.886 +02:00 -|- FastTransfer -|- MSS22_to_MSS25_RangeId_and_filtered_data -|- INFORMATION -|- tpch_test.dbo.orders_4_no_index -|- Completed RangeId Parallel Load 0 : 842016 rows x 10 columns in 2188 ms\n",
      "2025-06-15T17:34:53.894 +02:00 -|- FastTransfer -|- MSS22_to_MSS25_RangeId_and_filtered_data -|- INFORMATION -|- tpch_test.dbo.orders_4_no_index -|- Completed RangeId Parallel Load 1 : 842506 rows x 10 columns in 2196 ms\n",
      "2025-06-15T17:34:54.026 +02:00 -|- FastTransfer -|- MSS22_to_MSS25_RangeId_and_filtered_data -|- INFORMATION -|- tpch_test.dbo.orders_4_no_index -|- Completed RangeId Parallel Load 4 : 842208 rows x 10 columns in 2327 ms\n",
      "2025-06-15T17:34:54.031 +02:00 -|- FastTransfer -|- MSS22_to_MSS25_RangeId_and_filtered_data -|- INFORMATION -|- tpch_test.dbo.orders_4_no_index -|- Completed RangeId Parallel Load 6 : 839327 rows x 10 columns in 2331 ms\n",
      "2025-06-15T17:34:54.032 +02:00 -|- FastTransfer -|- MSS22_to_MSS25_RangeId_and_filtered_data -|- INFORMATION -|- tpch_test.dbo.orders_4_no_index -|- Total rows : 5890663\n",
      "2025-06-15T17:34:54.032 +02:00 -|- FastTransfer -|- MSS22_to_MSS25_RangeId_and_filtered_data -|- INFORMATION -|- tpch_test.dbo.orders_4_no_index -|- Total columns : 10\n",
      "2025-06-15T17:34:54.032 +02:00 -|- FastTransfer -|- MSS22_to_MSS25_RangeId_and_filtered_data -|- INFORMATION -|- tpch_test.dbo.orders_4_no_index -|- Total cells : 58906630\n",
      "2025-06-15T17:34:54.032 +02:00 -|- FastTransfer -|- MSS22_to_MSS25_RangeId_and_filtered_data -|- INFORMATION -|- tpch_test.dbo.orders_4_no_index -|- Rows Throughput : 2327087 rows/s\n",
      "2025-06-15T17:34:54.032 +02:00 -|- FastTransfer -|- MSS22_to_MSS25_RangeId_and_filtered_data -|- INFORMATION -|- tpch_test.dbo.orders_4_no_index -|- Cells Throughput : 23270928 cells/s\n",
      "2025-06-15T17:34:54.032 +02:00 -|- FastTransfer -|- MSS22_to_MSS25_RangeId_and_filtered_data -|- INFORMATION -|- tpch_test.dbo.orders_4_no_index -|- Transfert time : Elapsed=2531 ms\n",
      "2025-06-15T17:34:54.032 +02:00 -|- FastTransfer -|- MSS22_to_MSS25_RangeId_and_filtered_data -|- INFORMATION -|- tpch_test.dbo.orders_4_no_index -|- Total time : Elapsed=2722 ms\n",
      "2025-06-15T17:34:54.032 +02:00 -|- FastTransfer -|- MSS22_to_MSS25_RangeId_and_filtered_data -|- INFORMATION -|- tpch_test.dbo.orders_4_no_index -|- Completed Load\n"
     ]
    }
   ],
   "source": [
    "cd D:\\FastTransfer\n",
    "\n",
    ".\\FastTransfer.exe `\n",
    "--sourceconnectiontype \"mssql\" `\n",
    "--sourceserver \"localhost\" `\n",
    "--sourcedatabase \"tpch_test\" `\n",
    "--sourcetrusted `\n",
    "--query \"SELECT * FROM orders_part WHERE o_orderdate between '1996-01-01' AND '1999-12-31'\" `\n",
    "`\n",
    "--targetconnectiontype \"msbulk\" `\n",
    "--targetserver \"localhost\\SS2025\" `\n",
    "--targettrusted `\n",
    "--targetdatabase \"tpch_test\" `\n",
    "--targetschema \"dbo\" `\n",
    "--targettable \"orders_4_no_index\" `\n",
    "`\n",
    "--loadmode \"Truncate\" `\n",
    "--mapmethod \"Name\" `\n",
    "--method \"RangeId\" `\n",
    "--distributekeycolumn \"o_orderkey\" `\n",
    "--degree 7 `\n",
    "--runid \"MSS22_to_MSS25_RangeId_and_filtered_data\""
   ]
  },
  {
   "cell_type": "code",
   "execution_count": 2,
   "metadata": {
    "polyglot_notebook": {
     "kernelName": "sql-SS2025_tpch_test"
    }
   },
   "outputs": [
    {
     "data": {
      "text/plain": [
       "(1 ligne affectée)"
      ]
     },
     "metadata": {},
     "output_type": "display_data"
    },
    {
     "data": {
      "text/csv": [
       "(Aucun nom de colonne)\r\n",
       "1333214\r\n"
      ],
      "text/html": [
       "<table><thead><tr><td><span>(Aucun nom de colonne)</span></td></tr></thead><tbody><tr><td><div class=\"dni-plaintext\"><pre>1333214</pre></div></td></tr></tbody></table><style>\r\n",
       ".dni-code-hint {\r\n",
       "    font-style: italic;\r\n",
       "    overflow: hidden;\r\n",
       "    white-space: nowrap;\r\n",
       "}\r\n",
       ".dni-treeview {\r\n",
       "    white-space: nowrap;\r\n",
       "}\r\n",
       ".dni-treeview td {\r\n",
       "    vertical-align: top;\r\n",
       "    text-align: start;\r\n",
       "}\r\n",
       "details.dni-treeview {\r\n",
       "    padding-left: 1em;\r\n",
       "}\r\n",
       "table td {\r\n",
       "    text-align: start;\r\n",
       "}\r\n",
       "table tr { \r\n",
       "    vertical-align: top; \r\n",
       "    margin: 0em 0px;\r\n",
       "}\r\n",
       "table tr td pre \r\n",
       "{ \r\n",
       "    vertical-align: top !important; \r\n",
       "    margin: 0em 0px !important;\r\n",
       "} \r\n",
       "table th {\r\n",
       "    text-align: start;\r\n",
       "}\r\n",
       "</style>"
      ]
     },
     "metadata": {},
     "output_type": "display_data"
    }
   ],
   "source": [
    "SELECT count(*) from orders_4_no_index"
   ]
  }
 ],
 "metadata": {
  "kernelspec": {
   "display_name": ".NET (C#)",
   "language": "C#",
   "name": ".net-csharp"
  },
  "language_info": {
   "name": "polyglot-notebook"
  },
  "polyglot_notebook": {
   "kernelInfo": {
    "defaultKernelName": "csharp",
    "items": [
     {
      "aliases": [],
      "name": "csharp"
     },
     {
      "aliases": [],
      "languageName": "pwsh",
      "name": "pwsh"
     },
     {
      "aliases": [],
      "languageName": "T-SQL",
      "name": "sql-SS2025_tpch_test"
     }
    ]
   }
  }
 },
 "nbformat": 4,
 "nbformat_minor": 5
}
