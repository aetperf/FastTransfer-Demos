{
 "cells": [
  {
   "cell_type": "markdown",
   "id": "ed7e8fc1",
   "metadata": {
    "polyglot_notebook": {
     "kernelName": "pwsh"
    }
   },
   "source": [
    "```\n",
    "███████  █████  ███████ ████████ ████████ ██████   █████  ███    ██ ███████ ███████ ███████ ██████  \n",
    "██      ██   ██ ██         ██       ██    ██   ██ ██   ██ ████   ██ ██      ██      ██      ██   ██ \n",
    "█████   ███████ ███████    ██       ██    ██████  ███████ ██ ██  ██ ███████ █████   █████   ██████  \n",
    "██      ██   ██      ██    ██       ██    ██   ██ ██   ██ ██  ██ ██      ██ ██      ██      ██   ██ \n",
    "██      ██   ██ ███████    ██       ██    ██   ██ ██   ██ ██   ████ ███████ ██      ███████ ██   ██ "
   ]
  },
  {
   "cell_type": "markdown",
   "id": "e0a3df88",
   "metadata": {},
   "source": [
    "# Demo 1 : Copy From MSSQL 2022 to MSSQL 2025"
   ]
  },
  {
   "cell_type": "code",
   "execution_count": 1,
   "id": "f79f5dc1",
   "metadata": {
    "polyglot_notebook": {
     "kernelName": "csharp"
    }
   },
   "outputs": [
    {
     "data": {
      "text/html": [
       "<div><div></div><div></div><div><strong>Installed Packages</strong><ul><li><span>Microsoft.DotNet.Interactive.SqlServer, 1.0.0-beta.25323.1</span></li></ul></div></div>"
      ]
     },
     "metadata": {},
     "output_type": "display_data"
    },
    {
     "data": {
      "text/plain": [
       "Loading extension script from `C:\\Users\\romai\\.nuget\\packages\\microsoft.dotnet.interactive.sqlserver\\1.0.0-beta.25323.1\\interactive-extensions\\dotnet\\extension.dib`"
      ]
     },
     "metadata": {},
     "output_type": "display_data"
    },
    {
     "data": {
      "text/html": [
       "<details><summary>Query Microsoft SQL Server databases.</summary>\r\n",
       "<p>This extension adds support for connecting to Microsoft SQL Server databases using the <code>#!connect mssql</code> magic command. For more information, run a cell using the <code>#!sql</code> magic command.</p>\r\n",
       "</details>"
      ]
     },
     "metadata": {},
     "output_type": "display_data"
    }
   ],
   "source": [
    "#r \"nuget:Microsoft.DotNet.Interactive.SqlServer, *-*\""
   ]
  },
  {
   "cell_type": "markdown",
   "id": "8486177e",
   "metadata": {},
   "source": [
    "## Working on TPCH SF10 ORDERS (15M rows)"
   ]
  },
  {
   "cell_type": "markdown",
   "id": "c2950409",
   "metadata": {},
   "source": [
    "### MSSQL 2022 Instance to MSSQL 2025 Instance"
   ]
  },
  {
   "cell_type": "code",
   "execution_count": 2,
   "id": "a6099083",
   "metadata": {
    "polyglot_notebook": {
     "kernelName": "csharp"
    }
   },
   "outputs": [
    {
     "data": {
      "text/plain": [
       "Kernel added: #!sql-SS2025_tpch_test"
      ]
     },
     "metadata": {},
     "output_type": "display_data"
    }
   ],
   "source": [
    "#!connect mssql --kernel-name SS2025_tpch_test --connection-string \"Data Source=localhost\\SS2025;Initial Catalog=tpch_test;Integrated Security=True;Connect Timeout=120;Encrypt=True;Trust Server Certificate=True;Application Name=NoteBook;Application Intent=ReadWrite;Command Timeout=10800\""
   ]
  },
  {
   "cell_type": "markdown",
   "id": "9838fd82",
   "metadata": {},
   "source": [
    "#### Target orders with a clustered ColumnStoreIndex"
   ]
  },
  {
   "cell_type": "code",
   "execution_count": 3,
   "id": "d1094a0b",
   "metadata": {
    "polyglot_notebook": {
     "kernelName": "sql-SS2025_tpch_test"
    }
   },
   "outputs": [
    {
     "data": {
      "text/plain": [
       "(1 ligne affectée)"
      ]
     },
     "metadata": {},
     "output_type": "display_data"
    },
    {
     "data": {
      "text/csv": [
       "count_target_table_rows\r\n",
       "0\r\n"
      ],
      "text/html": [
       "<table><thead><tr><td><span>count_target_table_rows</span></td></tr></thead><tbody><tr><td><div class=\"dni-plaintext\"><pre>0</pre></div></td></tr></tbody></table><style>\r\n",
       ".dni-code-hint {\r\n",
       "    font-style: italic;\r\n",
       "    overflow: hidden;\r\n",
       "    white-space: nowrap;\r\n",
       "}\r\n",
       ".dni-treeview {\r\n",
       "    white-space: nowrap;\r\n",
       "}\r\n",
       ".dni-treeview td {\r\n",
       "    vertical-align: top;\r\n",
       "    text-align: start;\r\n",
       "}\r\n",
       "details.dni-treeview {\r\n",
       "    padding-left: 1em;\r\n",
       "}\r\n",
       "table td {\r\n",
       "    text-align: start;\r\n",
       "}\r\n",
       "table tr { \r\n",
       "    vertical-align: top; \r\n",
       "    margin: 0em 0px;\r\n",
       "}\r\n",
       "table tr td pre \r\n",
       "{ \r\n",
       "    vertical-align: top !important; \r\n",
       "    margin: 0em 0px !important;\r\n",
       "} \r\n",
       "table th {\r\n",
       "    text-align: start;\r\n",
       "}\r\n",
       "</style>"
      ]
     },
     "metadata": {},
     "output_type": "display_data"
    }
   ],
   "source": [
    "TRUNCATE TABLE orders;\n",
    "SELECT count(*) count_target_table_rows from orders;"
   ]
  },
  {
   "cell_type": "markdown",
   "id": "7b0035af",
   "metadata": {},
   "source": [
    "The next cell is a powershell call of FastTransfer.exe. FastTransfer also exists in a Linux AMD64 and Linux ARM64 edition with the same arguments.\n",
    "\n",
    "You can notice the **negative degree of parallelism** : -2 ==> FastTransfer will take 1/2 of total number of cores of the host as the computed degree of parallelism.\n",
    "The method use to dispatch data in several channels/chunks is **Ntile**. A method that will spread data using a distribute key column and an homogeneous number of rows between channels/chunks"
   ]
  },
  {
   "cell_type": "code",
   "execution_count": 4,
   "id": "6f2f4100",
   "metadata": {
    "polyglot_notebook": {
     "kernelName": "pwsh"
    }
   },
   "outputs": [
    {
     "name": "stdout",
     "output_type": "stream",
     "text": [
      "2025-09-25T17:37:48.968 +02:00 -|- FastTransfer -|- MSS22_to_MSS25 -|- INFORMATION -|- tpch_test.dbo.orders -|- FastTransfer - running in trial mode – will expires on 2025‑10‑20 (24 day(s) left).\n",
      "2025-09-25T17:37:48.982 +02:00 -|- FastTransfer -|- MSS22_to_MSS25 -|- INFORMATION -|- tpch_test.dbo.orders -|- Starting\n",
      "2025-09-25T17:37:48.984 +02:00 -|- FastTransfer -|- MSS22_to_MSS25 -|- INFORMATION -|- tpch_test.dbo.orders -|- FastTransfer Version : 0.13.10.0 Architecture : X64 - Framework : .NET 8.0.19\n",
      "2025-09-25T17:37:48.984 +02:00 -|- FastTransfer -|- MSS22_to_MSS25 -|- INFORMATION -|- tpch_test.dbo.orders -|- OS : Microsoft Windows 10.0.26100\n",
      "2025-09-25T17:37:48.984 +02:00 -|- FastTransfer -|- MSS22_to_MSS25 -|- INFORMATION -|- tpch_test.dbo.orders -|- Process ID : 3348\n",
      "2025-09-25T17:37:48.984 +02:00 -|- FastTransfer -|- MSS22_to_MSS25 -|- INFORMATION -|- tpch_test.dbo.orders -|- Provided Run ID : MSS22_to_MSS25\n",
      "2025-09-25T17:37:48.984 +02:00 -|- FastTransfer -|- MSS22_to_MSS25 -|- INFORMATION -|- tpch_test.dbo.orders -|- Source Connection Type : mssql\n",
      "2025-09-25T17:37:48.984 +02:00 -|- FastTransfer -|- MSS22_to_MSS25 -|- INFORMATION -|- tpch_test.dbo.orders -|- Source SqlInstance : localhost\n",
      "2025-09-25T17:37:48.984 +02:00 -|- FastTransfer -|- MSS22_to_MSS25 -|- INFORMATION -|- tpch_test.dbo.orders -|- Source Database : tpch10_collation_bin2\n",
      "2025-09-25T17:37:48.984 +02:00 -|- FastTransfer -|- MSS22_to_MSS25 -|- INFORMATION -|- tpch_test.dbo.orders -|- Source Trusted Connection : True\n",
      "2025-09-25T17:37:48.984 +02:00 -|- FastTransfer -|- MSS22_to_MSS25 -|- INFORMATION -|- tpch_test.dbo.orders -|- Source Schema : dbo\n",
      "2025-09-25T17:37:48.984 +02:00 -|- FastTransfer -|- MSS22_to_MSS25 -|- INFORMATION -|- tpch_test.dbo.orders -|- Source Table : orders_15M\n",
      "2025-09-25T17:37:48.984 +02:00 -|- FastTransfer -|- MSS22_to_MSS25 -|- INFORMATION -|- tpch_test.dbo.orders -|- Target Type : msbulk\n",
      "2025-09-25T17:37:48.984 +02:00 -|- FastTransfer -|- MSS22_to_MSS25 -|- INFORMATION -|- tpch_test.dbo.orders -|- Target Server : localhost\\SS2025\n",
      "2025-09-25T17:37:48.984 +02:00 -|- FastTransfer -|- MSS22_to_MSS25 -|- INFORMATION -|- tpch_test.dbo.orders -|- Target Database : tpch_test\n",
      "2025-09-25T17:37:48.984 +02:00 -|- FastTransfer -|- MSS22_to_MSS25 -|- INFORMATION -|- tpch_test.dbo.orders -|- Target Schema : dbo\n",
      "2025-09-25T17:37:48.984 +02:00 -|- FastTransfer -|- MSS22_to_MSS25 -|- INFORMATION -|- tpch_test.dbo.orders -|- Target Table : orders\n",
      "2025-09-25T17:37:48.984 +02:00 -|- FastTransfer -|- MSS22_to_MSS25 -|- INFORMATION -|- tpch_test.dbo.orders -|- Target Trusted Connection : True\n",
      "2025-09-25T17:37:48.984 +02:00 -|- FastTransfer -|- MSS22_to_MSS25 -|- INFORMATION -|- tpch_test.dbo.orders -|- Columns Map Method : Name\n",
      "2025-09-25T17:37:48.985 +02:00 -|- FastTransfer -|- MSS22_to_MSS25 -|- INFORMATION -|- tpch_test.dbo.orders -|- Degree : -2\n",
      "2025-09-25T17:37:48.985 +02:00 -|- FastTransfer -|- MSS22_to_MSS25 -|- INFORMATION -|- tpch_test.dbo.orders -|- Distribute Method : Ntile\n",
      "2025-09-25T17:37:48.985 +02:00 -|- FastTransfer -|- MSS22_to_MSS25 -|- INFORMATION -|- tpch_test.dbo.orders -|- Distribute Column : o_orderkey\n",
      "2025-09-25T17:37:48.985 +02:00 -|- FastTransfer -|- MSS22_to_MSS25 -|- INFORMATION -|- tpch_test.dbo.orders -|- Bulkcopy Batch Size : 1048576\n",
      "2025-09-25T17:37:48.985 +02:00 -|- FastTransfer -|- MSS22_to_MSS25 -|- INFORMATION -|- tpch_test.dbo.orders -|- Load Mode : Truncate\n",
      "2025-09-25T17:37:48.985 +02:00 -|- FastTransfer -|- MSS22_to_MSS25 -|- INFORMATION -|- tpch_test.dbo.orders -|- Use Work Tables : False\n",
      "2025-09-25T17:37:48.986 +02:00 -|- FastTransfer -|- MSS22_to_MSS25 -|- INFORMATION -|- tpch_test.dbo.orders -|- Encoding used : Unicode (UTF-8) - 65001 - utf-8\n",
      "2025-09-25T17:37:49.007 +02:00 -|- FastTransfer -|- MSS22_to_MSS25 -|- INFORMATION -|- tpch_test.dbo.orders -|- Source Connection String : Data Source=localhost;Initial Catalog=tpch10_collation_bin2;Integrated Security=True;Connect Timeout=120;Encrypt=True;Trust Server Certificate=True;Application Name=FastTransfer;Application Intent=ReadOnly;Command Timeout=10800\n",
      "2025-09-25T17:37:49.008 +02:00 -|- FastTransfer -|- MSS22_to_MSS25 -|- INFORMATION -|- tpch_test.dbo.orders -|- Target Connection String : Data Source=localhost\\SS2025;Initial Catalog=tpch_test;Integrated Security=True;Connect Timeout=120;Encrypt=True;Trust Server Certificate=True;Application Name=FastTransfer;Application Intent=ReadWrite;Command Timeout=10800\n",
      "2025-09-25T17:37:49.008 +02:00 -|- FastTransfer -|- MSS22_to_MSS25 -|- INFORMATION -|- tpch_test.dbo.orders -|- Source Database Version : Microsoft SQL Server 2022 (RTM-CU20-GDR) (KB5065220) - 16.0.4212.1 (X64)  \tAug 13 2025 16:40:40  \tCopyright (C) 2022 Microsoft Corporation \tDeveloper Edition (64-bit) on Windows 10 Pro 10.0 <X64> (Build 26100: ) (Hypervisor) \n",
      "2025-09-25T17:37:49.008 +02:00 -|- FastTransfer -|- MSS22_to_MSS25 -|- INFORMATION -|- tpch_test.dbo.orders -|- Target Database Version : Microsoft SQL Server 2025 (CTP2.1) - 17.0.800.3 (X64)  \tJun 12 2025 14:47:57  \tCopyright (C) 2025 Microsoft Corporation \tEnterprise Developer Edition (64-bit) on Windows 10 Pro 10.0 <X64> (Build 26100: ) (Hypervisor) \n",
      "2025-09-25T17:37:49.013 +02:00 -|- FastTransfer -|- MSS22_to_MSS25 -|- INFORMATION -|- tpch_test.dbo.orders -|- Degree of parallelism was computed to 16 (=> 32\\2)\n",
      "2025-09-25T17:37:49.517 +02:00 -|- FastTransfer -|- MSS22_to_MSS25 -|- INFORMATION -|- tpch_test.dbo.orders -|- Ntile DataSegments Computation Completed in 503 ms\n",
      "2025-09-25T17:37:49.520 +02:00 -|- FastTransfer -|- MSS22_to_MSS25 -|- INFORMATION -|- tpch_test.dbo.orders -|- Start Loading Data using distribution method NTile\n",
      "2025-09-25T17:37:49.520 +02:00 -|- FastTransfer -|- MSS22_to_MSS25 -|- INFORMATION -|- tpch_test.dbo.orders -|- Table \"dbo\".\"orders\" has a Clustered Index. BulkCopy will use KeepNulls and UseInternalTransaction and avoid Tablock\n",
      "2025-09-25T17:37:49.521 +02:00 -|- FastTransfer -|- MSS22_to_MSS25 -|- INFORMATION -|- tpch_test.dbo.orders -|- BulkCopy to \"dbo\".\"orders\" with BatchSize = 1048576, Timeout = 3600\n",
      "2025-09-25T17:37:49.523 +02:00 -|- FastTransfer -|- MSS22_to_MSS25 -|- WARNING -|- tpch_test.dbo.orders -|- Only 9 out of 10 columns were mapped by name to the target table \"dbo\".\"orders\"\n",
      "2025-09-25T17:37:49.530 +02:00 -|- FastTransfer -|- MSS22_to_MSS25 -|- INFORMATION -|- tpch_test.dbo.orders -|- Start Loading Data using distribution method NTile\n",
      "2025-09-25T17:37:49.531 +02:00 -|- FastTransfer -|- MSS22_to_MSS25 -|- INFORMATION -|- tpch_test.dbo.orders -|- Table \"dbo\".\"orders\" has a Clustered Index. BulkCopy will use KeepNulls and UseInternalTransaction and avoid Tablock\n",
      "2025-09-25T17:37:49.531 +02:00 -|- FastTransfer -|- MSS22_to_MSS25 -|- INFORMATION -|- tpch_test.dbo.orders -|- BulkCopy to \"dbo\".\"orders\" with BatchSize = 1048576, Timeout = 3600\n",
      "2025-09-25T17:37:49.533 +02:00 -|- FastTransfer -|- MSS22_to_MSS25 -|- INFORMATION -|- tpch_test.dbo.orders -|- Start Loading Data using distribution method NTile\n",
      "2025-09-25T17:37:49.534 +02:00 -|- FastTransfer -|- MSS22_to_MSS25 -|- INFORMATION -|- tpch_test.dbo.orders -|- Table \"dbo\".\"orders\" has a Clustered Index. BulkCopy will use KeepNulls and UseInternalTransaction and avoid Tablock\n",
      "2025-09-25T17:37:49.534 +02:00 -|- FastTransfer -|- MSS22_to_MSS25 -|- INFORMATION -|- tpch_test.dbo.orders -|- BulkCopy to \"dbo\".\"orders\" with BatchSize = 1048576, Timeout = 3600\n",
      "2025-09-25T17:37:49.534 +02:00 -|- FastTransfer -|- MSS22_to_MSS25 -|- WARNING -|- tpch_test.dbo.orders -|- Only 9 out of 10 columns were mapped by name to the target table \"dbo\".\"orders\"\n",
      "2025-09-25T17:37:49.539 +02:00 -|- FastTransfer -|- MSS22_to_MSS25 -|- WARNING -|- tpch_test.dbo.orders -|- Only 9 out of 10 columns were mapped by name to the target table \"dbo\".\"orders\"\n",
      "2025-09-25T17:37:49.540 +02:00 -|- FastTransfer -|- MSS22_to_MSS25 -|- INFORMATION -|- tpch_test.dbo.orders -|- Start Loading Data using distribution method NTile\n",
      "2025-09-25T17:37:49.541 +02:00 -|- FastTransfer -|- MSS22_to_MSS25 -|- INFORMATION -|- tpch_test.dbo.orders -|- Table \"dbo\".\"orders\" has a Clustered Index. BulkCopy will use KeepNulls and UseInternalTransaction and avoid Tablock\n",
      "2025-09-25T17:37:49.541 +02:00 -|- FastTransfer -|- MSS22_to_MSS25 -|- INFORMATION -|- tpch_test.dbo.orders -|- BulkCopy to \"dbo\".\"orders\" with BatchSize = 1048576, Timeout = 3600\n",
      "2025-09-25T17:37:49.543 +02:00 -|- FastTransfer -|- MSS22_to_MSS25 -|- INFORMATION -|- tpch_test.dbo.orders -|- Start Loading Data using distribution method NTile\n",
      "2025-09-25T17:37:49.544 +02:00 -|- FastTransfer -|- MSS22_to_MSS25 -|- INFORMATION -|- tpch_test.dbo.orders -|- Table \"dbo\".\"orders\" has a Clustered Index. BulkCopy will use KeepNulls and UseInternalTransaction and avoid Tablock\n",
      "2025-09-25T17:37:49.544 +02:00 -|- FastTransfer -|- MSS22_to_MSS25 -|- INFORMATION -|- tpch_test.dbo.orders -|- BulkCopy to \"dbo\".\"orders\" with BatchSize = 1048576, Timeout = 3600\n",
      "2025-09-25T17:37:49.544 +02:00 -|- FastTransfer -|- MSS22_to_MSS25 -|- WARNING -|- tpch_test.dbo.orders -|- Only 9 out of 10 columns were mapped by name to the target table \"dbo\".\"orders\"\n",
      "2025-09-25T17:37:49.547 +02:00 -|- FastTransfer -|- MSS22_to_MSS25 -|- WARNING -|- tpch_test.dbo.orders -|- Only 9 out of 10 columns were mapped by name to the target table \"dbo\".\"orders\"\n",
      "2025-09-25T17:37:49.550 +02:00 -|- FastTransfer -|- MSS22_to_MSS25 -|- INFORMATION -|- tpch_test.dbo.orders -|- Start Loading Data using distribution method NTile\n",
      "2025-09-25T17:37:49.551 +02:00 -|- FastTransfer -|- MSS22_to_MSS25 -|- INFORMATION -|- tpch_test.dbo.orders -|- Table \"dbo\".\"orders\" has a Clustered Index. BulkCopy will use KeepNulls and UseInternalTransaction and avoid Tablock\n",
      "2025-09-25T17:37:49.551 +02:00 -|- FastTransfer -|- MSS22_to_MSS25 -|- INFORMATION -|- tpch_test.dbo.orders -|- BulkCopy to \"dbo\".\"orders\" with BatchSize = 1048576, Timeout = 3600\n",
      "2025-09-25T17:37:49.556 +02:00 -|- FastTransfer -|- MSS22_to_MSS25 -|- WARNING -|- tpch_test.dbo.orders -|- Only 9 out of 10 columns were mapped by name to the target table \"dbo\".\"orders\"\n",
      "2025-09-25T17:37:49.558 +02:00 -|- FastTransfer -|- MSS22_to_MSS25 -|- INFORMATION -|- tpch_test.dbo.orders -|- Start Loading Data using distribution method NTile\n",
      "2025-09-25T17:37:49.558 +02:00 -|- FastTransfer -|- MSS22_to_MSS25 -|- INFORMATION -|- tpch_test.dbo.orders -|- Table \"dbo\".\"orders\" has a Clustered Index. BulkCopy will use KeepNulls and UseInternalTransaction and avoid Tablock\n",
      "2025-09-25T17:37:49.558 +02:00 -|- FastTransfer -|- MSS22_to_MSS25 -|- INFORMATION -|- tpch_test.dbo.orders -|- BulkCopy to \"dbo\".\"orders\" with BatchSize = 1048576, Timeout = 3600\n",
      "2025-09-25T17:37:49.562 +02:00 -|- FastTransfer -|- MSS22_to_MSS25 -|- WARNING -|- tpch_test.dbo.orders -|- Only 9 out of 10 columns were mapped by name to the target table \"dbo\".\"orders\"\n",
      "2025-09-25T17:37:49.564 +02:00 -|- FastTransfer -|- MSS22_to_MSS25 -|- INFORMATION -|- tpch_test.dbo.orders -|- Start Loading Data using distribution method NTile\n",
      "2025-09-25T17:37:49.565 +02:00 -|- FastTransfer -|- MSS22_to_MSS25 -|- INFORMATION -|- tpch_test.dbo.orders -|- Table \"dbo\".\"orders\" has a Clustered Index. BulkCopy will use KeepNulls and UseInternalTransaction and avoid Tablock\n",
      "2025-09-25T17:37:49.565 +02:00 -|- FastTransfer -|- MSS22_to_MSS25 -|- INFORMATION -|- tpch_test.dbo.orders -|- BulkCopy to \"dbo\".\"orders\" with BatchSize = 1048576, Timeout = 3600\n",
      "2025-09-25T17:37:49.569 +02:00 -|- FastTransfer -|- MSS22_to_MSS25 -|- INFORMATION -|- tpch_test.dbo.orders -|- Start Loading Data using distribution method NTile\n",
      "2025-09-25T17:37:49.570 +02:00 -|- FastTransfer -|- MSS22_to_MSS25 -|- WARNING -|- tpch_test.dbo.orders -|- Only 9 out of 10 columns were mapped by name to the target table \"dbo\".\"orders\"\n",
      "2025-09-25T17:37:49.570 +02:00 -|- FastTransfer -|- MSS22_to_MSS25 -|- INFORMATION -|- tpch_test.dbo.orders -|- Table \"dbo\".\"orders\" has a Clustered Index. BulkCopy will use KeepNulls and UseInternalTransaction and avoid Tablock\n",
      "2025-09-25T17:37:49.570 +02:00 -|- FastTransfer -|- MSS22_to_MSS25 -|- INFORMATION -|- tpch_test.dbo.orders -|- BulkCopy to \"dbo\".\"orders\" with BatchSize = 1048576, Timeout = 3600\n",
      "2025-09-25T17:37:49.572 +02:00 -|- FastTransfer -|- MSS22_to_MSS25 -|- WARNING -|- tpch_test.dbo.orders -|- Only 9 out of 10 columns were mapped by name to the target table \"dbo\".\"orders\"\n",
      "2025-09-25T17:37:49.577 +02:00 -|- FastTransfer -|- MSS22_to_MSS25 -|- INFORMATION -|- tpch_test.dbo.orders -|- Start Loading Data using distribution method NTile\n",
      "2025-09-25T17:37:49.586 +02:00 -|- FastTransfer -|- MSS22_to_MSS25 -|- INFORMATION -|- tpch_test.dbo.orders -|- Table \"dbo\".\"orders\" has a Clustered Index. BulkCopy will use KeepNulls and UseInternalTransaction and avoid Tablock\n",
      "2025-09-25T17:37:49.586 +02:00 -|- FastTransfer -|- MSS22_to_MSS25 -|- INFORMATION -|- tpch_test.dbo.orders -|- BulkCopy to \"dbo\".\"orders\" with BatchSize = 1048576, Timeout = 3600\n",
      "2025-09-25T17:37:49.591 +02:00 -|- FastTransfer -|- MSS22_to_MSS25 -|- WARNING -|- tpch_test.dbo.orders -|- Only 9 out of 10 columns were mapped by name to the target table \"dbo\".\"orders\"\n",
      "2025-09-25T17:37:49.593 +02:00 -|- FastTransfer -|- MSS22_to_MSS25 -|- INFORMATION -|- tpch_test.dbo.orders -|- Start Loading Data using distribution method NTile\n",
      "2025-09-25T17:37:49.594 +02:00 -|- FastTransfer -|- MSS22_to_MSS25 -|- INFORMATION -|- tpch_test.dbo.orders -|- Table \"dbo\".\"orders\" has a Clustered Index. BulkCopy will use KeepNulls and UseInternalTransaction and avoid Tablock\n",
      "2025-09-25T17:37:49.594 +02:00 -|- FastTransfer -|- MSS22_to_MSS25 -|- INFORMATION -|- tpch_test.dbo.orders -|- BulkCopy to \"dbo\".\"orders\" with BatchSize = 1048576, Timeout = 3600\n",
      "2025-09-25T17:37:49.597 +02:00 -|- FastTransfer -|- MSS22_to_MSS25 -|- WARNING -|- tpch_test.dbo.orders -|- Only 9 out of 10 columns were mapped by name to the target table \"dbo\".\"orders\"\n",
      "2025-09-25T17:37:49.603 +02:00 -|- FastTransfer -|- MSS22_to_MSS25 -|- INFORMATION -|- tpch_test.dbo.orders -|- Start Loading Data using distribution method NTile\n",
      "2025-09-25T17:37:49.604 +02:00 -|- FastTransfer -|- MSS22_to_MSS25 -|- INFORMATION -|- tpch_test.dbo.orders -|- Table \"dbo\".\"orders\" has a Clustered Index. BulkCopy will use KeepNulls and UseInternalTransaction and avoid Tablock\n",
      "2025-09-25T17:37:49.604 +02:00 -|- FastTransfer -|- MSS22_to_MSS25 -|- INFORMATION -|- tpch_test.dbo.orders -|- BulkCopy to \"dbo\".\"orders\" with BatchSize = 1048576, Timeout = 3600\n",
      "2025-09-25T17:37:49.607 +02:00 -|- FastTransfer -|- MSS22_to_MSS25 -|- INFORMATION -|- tpch_test.dbo.orders -|- Start Loading Data using distribution method NTile\n",
      "2025-09-25T17:37:49.608 +02:00 -|- FastTransfer -|- MSS22_to_MSS25 -|- INFORMATION -|- tpch_test.dbo.orders -|- Table \"dbo\".\"orders\" has a Clustered Index. BulkCopy will use KeepNulls and UseInternalTransaction and avoid Tablock\n",
      "2025-09-25T17:37:49.608 +02:00 -|- FastTransfer -|- MSS22_to_MSS25 -|- INFORMATION -|- tpch_test.dbo.orders -|- BulkCopy to \"dbo\".\"orders\" with BatchSize = 1048576, Timeout = 3600\n",
      "2025-09-25T17:37:49.610 +02:00 -|- FastTransfer -|- MSS22_to_MSS25 -|- WARNING -|- tpch_test.dbo.orders -|- Only 9 out of 10 columns were mapped by name to the target table \"dbo\".\"orders\"\n",
      "2025-09-25T17:37:49.610 +02:00 -|- FastTransfer -|- MSS22_to_MSS25 -|- WARNING -|- tpch_test.dbo.orders -|- Only 9 out of 10 columns were mapped by name to the target table \"dbo\".\"orders\"\n",
      "2025-09-25T17:37:49.611 +02:00 -|- FastTransfer -|- MSS22_to_MSS25 -|- INFORMATION -|- tpch_test.dbo.orders -|- Start Loading Data using distribution method NTile\n",
      "2025-09-25T17:37:49.612 +02:00 -|- FastTransfer -|- MSS22_to_MSS25 -|- INFORMATION -|- tpch_test.dbo.orders -|- Table \"dbo\".\"orders\" has a Clustered Index. BulkCopy will use KeepNulls and UseInternalTransaction and avoid Tablock\n",
      "2025-09-25T17:37:49.612 +02:00 -|- FastTransfer -|- MSS22_to_MSS25 -|- INFORMATION -|- tpch_test.dbo.orders -|- BulkCopy to \"dbo\".\"orders\" with BatchSize = 1048576, Timeout = 3600\n",
      "2025-09-25T17:37:49.614 +02:00 -|- FastTransfer -|- MSS22_to_MSS25 -|- WARNING -|- tpch_test.dbo.orders -|- Only 9 out of 10 columns were mapped by name to the target table \"dbo\".\"orders\"\n",
      "2025-09-25T17:37:49.614 +02:00 -|- FastTransfer -|- MSS22_to_MSS25 -|- INFORMATION -|- tpch_test.dbo.orders -|- Start Loading Data using distribution method NTile\n",
      "2025-09-25T17:37:49.615 +02:00 -|- FastTransfer -|- MSS22_to_MSS25 -|- INFORMATION -|- tpch_test.dbo.orders -|- Table \"dbo\".\"orders\" has a Clustered Index. BulkCopy will use KeepNulls and UseInternalTransaction and avoid Tablock\n",
      "2025-09-25T17:37:49.615 +02:00 -|- FastTransfer -|- MSS22_to_MSS25 -|- INFORMATION -|- tpch_test.dbo.orders -|- BulkCopy to \"dbo\".\"orders\" with BatchSize = 1048576, Timeout = 3600\n",
      "2025-09-25T17:37:49.618 +02:00 -|- FastTransfer -|- MSS22_to_MSS25 -|- INFORMATION -|- tpch_test.dbo.orders -|- Start Loading Data using distribution method NTile\n",
      "2025-09-25T17:37:49.618 +02:00 -|- FastTransfer -|- MSS22_to_MSS25 -|- WARNING -|- tpch_test.dbo.orders -|- Only 9 out of 10 columns were mapped by name to the target table \"dbo\".\"orders\"\n",
      "2025-09-25T17:37:49.619 +02:00 -|- FastTransfer -|- MSS22_to_MSS25 -|- INFORMATION -|- tpch_test.dbo.orders -|- Table \"dbo\".\"orders\" has a Clustered Index. BulkCopy will use KeepNulls and UseInternalTransaction and avoid Tablock\n",
      "2025-09-25T17:37:49.619 +02:00 -|- FastTransfer -|- MSS22_to_MSS25 -|- INFORMATION -|- tpch_test.dbo.orders -|- BulkCopy to \"dbo\".\"orders\" with BatchSize = 1048576, Timeout = 3600\n",
      "2025-09-25T17:37:49.622 +02:00 -|- FastTransfer -|- MSS22_to_MSS25 -|- WARNING -|- tpch_test.dbo.orders -|- Only 9 out of 10 columns were mapped by name to the target table \"dbo\".\"orders\"\n",
      "2025-09-25T17:37:56.066 +02:00 -|- FastTransfer -|- MSS22_to_MSS25 -|- INFORMATION -|- tpch_test.dbo.orders -|- Completed Load Query 12 for o_orderkey between 48381670 and 52413159 : 937501 rows x 9 columns in 6545ms\n",
      "2025-09-25T17:37:56.257 +02:00 -|- FastTransfer -|- MSS22_to_MSS25 -|- INFORMATION -|- tpch_test.dbo.orders -|- Completed Load Query 8 for o_orderkey between 32255682 and 36288229 : 937501 rows x 9 columns in 6737ms\n",
      "2025-09-25T17:37:56.381 +02:00 -|- FastTransfer -|- MSS22_to_MSS25 -|- INFORMATION -|- tpch_test.dbo.orders -|- Completed Load Query 13 for o_orderkey between 52413184 and 56445281 : 937501 rows x 9 columns in 6861ms\n",
      "2025-09-25T17:37:56.540 +02:00 -|- FastTransfer -|- MSS22_to_MSS25 -|- INFORMATION -|- tpch_test.dbo.orders -|- Completed Load Query 2 for o_orderkey between 8063200 and 12095555 : 937501 rows x 9 columns in 7021ms\n",
      "2025-09-25T17:37:56.546 +02:00 -|- FastTransfer -|- MSS22_to_MSS25 -|- INFORMATION -|- tpch_test.dbo.orders -|- Completed Load Query 15 for o_orderkey between 66374081 and 119999974 : 937486 rows x 9 columns in 7025ms\n",
      "2025-09-25T17:37:56.589 +02:00 -|- FastTransfer -|- MSS22_to_MSS25 -|- INFORMATION -|- tpch_test.dbo.orders -|- Completed Load Query 1 for o_orderkey between 4030402 and 8063175 : 937501 rows x 9 columns in 7070ms\n",
      "2025-09-25T17:37:56.769 +02:00 -|- FastTransfer -|- MSS22_to_MSS25 -|- INFORMATION -|- tpch_test.dbo.orders -|- Completed Load Query 14 for o_orderkey between 56445282 and 66373955 : 937501 rows x 9 columns in 7248ms\n",
      "2025-09-25T17:37:56.835 +02:00 -|- FastTransfer -|- MSS22_to_MSS25 -|- INFORMATION -|- tpch_test.dbo.orders -|- Completed Load Query 6 for o_orderkey between 24192838 and 28226534 : 937501 rows x 9 columns in 7315ms\n",
      "2025-09-25T17:37:56.856 +02:00 -|- FastTransfer -|- MSS22_to_MSS25 -|- INFORMATION -|- tpch_test.dbo.orders -|- Completed Load Query 5 for o_orderkey between 20160224 and 24192837 : 937501 rows x 9 columns in 7337ms\n",
      "2025-09-25T17:37:56.921 +02:00 -|- FastTransfer -|- MSS22_to_MSS25 -|- INFORMATION -|- tpch_test.dbo.orders -|- Completed Load Query 3 for o_orderkey between 12095556 and 16128901 : 937501 rows x 9 columns in 7402ms\n",
      "2025-09-25T17:37:56.957 +02:00 -|- FastTransfer -|- MSS22_to_MSS25 -|- INFORMATION -|- tpch_test.dbo.orders -|- Completed Load Query 10 for o_orderkey between 40319809 and 44350019 : 937501 rows x 9 columns in 7437ms\n",
      "2025-09-25T17:37:57.195 +02:00 -|- FastTransfer -|- MSS22_to_MSS25 -|- INFORMATION -|- tpch_test.dbo.orders -|- Completed Load Query 11 for o_orderkey between 44350020 and 48381669 : 937501 rows x 9 columns in 7675ms\n",
      "2025-09-25T17:37:57.203 +02:00 -|- FastTransfer -|- MSS22_to_MSS25 -|- INFORMATION -|- tpch_test.dbo.orders -|- Completed Load Query 9 for o_orderkey between 36288230 and 40319808 : 937501 rows x 9 columns in 7683ms\n",
      "2025-09-25T17:37:57.217 +02:00 -|- FastTransfer -|- MSS22_to_MSS25 -|- INFORMATION -|- tpch_test.dbo.orders -|- Completed Load Query 7 for o_orderkey between 28226535 and 32255681 : 937501 rows x 9 columns in 7698ms\n",
      "2025-09-25T17:37:57.218 +02:00 -|- FastTransfer -|- MSS22_to_MSS25 -|- INFORMATION -|- tpch_test.dbo.orders -|- Completed Load Query 0 for o_orderkey between 1 and 4030401 : 937500 rows x 9 columns in 7699ms\n",
      "2025-09-25T17:37:57.229 +02:00 -|- FastTransfer -|- MSS22_to_MSS25 -|- INFORMATION -|- tpch_test.dbo.orders -|- Completed Load Query 4 for o_orderkey between 16128902 and 20160199 : 937501 rows x 9 columns in 7710ms\n",
      "2025-09-25T17:37:57.230 +02:00 -|- FastTransfer -|- MSS22_to_MSS25 -|- INFORMATION -|- tpch_test.dbo.orders -|- Total rows : 15000000\n",
      "2025-09-25T17:37:57.230 +02:00 -|- FastTransfer -|- MSS22_to_MSS25 -|- INFORMATION -|- tpch_test.dbo.orders -|- Total columns : 9\n",
      "2025-09-25T17:37:57.230 +02:00 -|- FastTransfer -|- MSS22_to_MSS25 -|- INFORMATION -|- tpch_test.dbo.orders -|- Total cells : 135000000\n",
      "2025-09-25T17:37:57.230 +02:00 -|- FastTransfer -|- MSS22_to_MSS25 -|- INFORMATION -|- tpch_test.dbo.orders -|- Rows Throughput : 1825504 rows/s\n",
      "2025-09-25T17:37:57.230 +02:00 -|- FastTransfer -|- MSS22_to_MSS25 -|- INFORMATION -|- tpch_test.dbo.orders -|- Cells Throughput : 16429546 cells/s\n",
      "2025-09-25T17:37:57.230 +02:00 -|- FastTransfer -|- MSS22_to_MSS25 -|- INFORMATION -|- tpch_test.dbo.orders -|- Transfert time : Elapsed=8217 ms\n",
      "2025-09-25T17:37:57.230 +02:00 -|- FastTransfer -|- MSS22_to_MSS25 -|- INFORMATION -|- tpch_test.dbo.orders -|- Total time : Elapsed=8479 ms\n",
      "2025-09-25T17:37:57.230 +02:00 -|- FastTransfer -|- MSS22_to_MSS25 -|- INFORMATION -|- tpch_test.dbo.orders -|- Completed Load\n"
     ]
    }
   ],
   "source": [
    "\n",
    "cd D:\\FastTransfer\n",
    "\n",
    ".\\FastTransfer.exe `\n",
    "--sourceconnectiontype \"mssql\" `\n",
    "--sourceserver \"localhost\" `\n",
    "--sourcedatabase \"tpch10_collation_bin2\" `\n",
    "--sourcetrusted `\n",
    "--sourceschema \"dbo\" `\n",
    "--sourcetable \"orders_15M\" `\n",
    "`\n",
    "--targetconnectiontype \"msbulk\" `\n",
    "--targetserver \"localhost\\SS2025\" `\n",
    "--targettrusted `\n",
    "--targetdatabase \"tpch_test\" `\n",
    "--targetschema \"dbo\" `\n",
    "--targettable \"orders\" `\n",
    "`\n",
    "--loadmode \"Truncate\" `\n",
    "--mapmethod \"Name\" `\n",
    "--method \"Ntile\" `\n",
    "--distributekeycolumn \"o_orderkey\" `\n",
    "--degree -2 `\n",
    "--runid \"MSS22_to_MSS25\""
   ]
  },
  {
   "cell_type": "code",
   "execution_count": 5,
   "id": "c2da48be",
   "metadata": {
    "polyglot_notebook": {
     "kernelName": "sql-SS2025_tpch_test"
    }
   },
   "outputs": [
    {
     "data": {
      "text/plain": [
       "(1 ligne affectée)"
      ]
     },
     "metadata": {},
     "output_type": "display_data"
    },
    {
     "data": {
      "text/csv": [
       "count_target_table_rows\r\n",
       "15,000,000\r\n"
      ],
      "text/html": [
       "<table><thead><tr><td><span>count_target_table_rows</span></td></tr></thead><tbody><tr><td>15,000,000</td></tr></tbody></table><style>\r\n",
       ".dni-code-hint {\r\n",
       "    font-style: italic;\r\n",
       "    overflow: hidden;\r\n",
       "    white-space: nowrap;\r\n",
       "}\r\n",
       ".dni-treeview {\r\n",
       "    white-space: nowrap;\r\n",
       "}\r\n",
       ".dni-treeview td {\r\n",
       "    vertical-align: top;\r\n",
       "    text-align: start;\r\n",
       "}\r\n",
       "details.dni-treeview {\r\n",
       "    padding-left: 1em;\r\n",
       "}\r\n",
       "table td {\r\n",
       "    text-align: start;\r\n",
       "}\r\n",
       "table tr { \r\n",
       "    vertical-align: top; \r\n",
       "    margin: 0em 0px;\r\n",
       "}\r\n",
       "table tr td pre \r\n",
       "{ \r\n",
       "    vertical-align: top !important; \r\n",
       "    margin: 0em 0px !important;\r\n",
       "} \r\n",
       "table th {\r\n",
       "    text-align: start;\r\n",
       "}\r\n",
       "</style>"
      ]
     },
     "metadata": {},
     "output_type": "display_data"
    }
   ],
   "source": [
    "SELECT FORMAT(count(*),'###,###,###') count_target_table_rows from orders;"
   ]
  },
  {
   "cell_type": "markdown",
   "id": "ce045f68",
   "metadata": {},
   "source": [
    "#### Target orders_4_no_index : Heap Table"
   ]
  },
  {
   "cell_type": "code",
   "execution_count": 6,
   "id": "0374251a",
   "metadata": {
    "polyglot_notebook": {
     "kernelName": "sql-SS2025_tpch_test"
    }
   },
   "outputs": [
    {
     "data": {
      "text/plain": [
       "(0 lignes affectées)"
      ]
     },
     "metadata": {},
     "output_type": "display_data"
    },
    {
     "data": {
      "text/plain": [
       "(1 ligne affectée)"
      ]
     },
     "metadata": {},
     "output_type": "display_data"
    },
    {
     "data": {
      "text/csv": [
       "count_orders_4_no_index\r\n",
       "\r\n"
      ],
      "text/html": [
       "<table><thead><tr><td><span>count_orders_4_no_index</span></td></tr></thead><tbody><tr><td></td></tr></tbody></table><style>\r\n",
       ".dni-code-hint {\r\n",
       "    font-style: italic;\r\n",
       "    overflow: hidden;\r\n",
       "    white-space: nowrap;\r\n",
       "}\r\n",
       ".dni-treeview {\r\n",
       "    white-space: nowrap;\r\n",
       "}\r\n",
       ".dni-treeview td {\r\n",
       "    vertical-align: top;\r\n",
       "    text-align: start;\r\n",
       "}\r\n",
       "details.dni-treeview {\r\n",
       "    padding-left: 1em;\r\n",
       "}\r\n",
       "table td {\r\n",
       "    text-align: start;\r\n",
       "}\r\n",
       "table tr { \r\n",
       "    vertical-align: top; \r\n",
       "    margin: 0em 0px;\r\n",
       "}\r\n",
       "table tr td pre \r\n",
       "{ \r\n",
       "    vertical-align: top !important; \r\n",
       "    margin: 0em 0px !important;\r\n",
       "} \r\n",
       "table th {\r\n",
       "    text-align: start;\r\n",
       "}\r\n",
       "</style>"
      ]
     },
     "metadata": {},
     "output_type": "display_data"
    }
   ],
   "source": [
    "DROP TABLE IF EXISTS orders_4_no_index;\n",
    "\n",
    "SELECT * \n",
    "INTO orders_4_no_index\n",
    "FROM orders\n",
    "WHERE 1=0;\n",
    "\n",
    "SELECT FORMAT(count(*),'###,###,###') count_orders_4_no_index from orders_4_no_index;"
   ]
  },
  {
   "cell_type": "code",
   "execution_count": 7,
   "id": "e594e80e",
   "metadata": {
    "polyglot_notebook": {
     "kernelName": "pwsh"
    }
   },
   "outputs": [
    {
     "name": "stdout",
     "output_type": "stream",
     "text": [
      "2025-09-25T17:40:33.331 +02:00 -|- FastTransfer -|- MSS22_to_MSS25 -|- INFORMATION -|- tpch_test.dbo.orders_4_no_index -|- FastTransfer - running in trial mode – will expires on 2025‑10‑20 (24 day(s) left).\n",
      "2025-09-25T17:40:33.341 +02:00 -|- FastTransfer -|- MSS22_to_MSS25 -|- INFORMATION -|- tpch_test.dbo.orders_4_no_index -|- Starting\n",
      "2025-09-25T17:40:33.341 +02:00 -|- FastTransfer -|- MSS22_to_MSS25 -|- INFORMATION -|- tpch_test.dbo.orders_4_no_index -|- FastTransfer Version : 0.13.10.0 Architecture : X64 - Framework : .NET 8.0.19\n",
      "2025-09-25T17:40:33.341 +02:00 -|- FastTransfer -|- MSS22_to_MSS25 -|- INFORMATION -|- tpch_test.dbo.orders_4_no_index -|- OS : Microsoft Windows 10.0.26100\n",
      "2025-09-25T17:40:33.341 +02:00 -|- FastTransfer -|- MSS22_to_MSS25 -|- INFORMATION -|- tpch_test.dbo.orders_4_no_index -|- Process ID : 36288\n",
      "2025-09-25T17:40:33.341 +02:00 -|- FastTransfer -|- MSS22_to_MSS25 -|- INFORMATION -|- tpch_test.dbo.orders_4_no_index -|- Provided Run ID : MSS22_to_MSS25\n",
      "2025-09-25T17:40:33.341 +02:00 -|- FastTransfer -|- MSS22_to_MSS25 -|- INFORMATION -|- tpch_test.dbo.orders_4_no_index -|- Source Connection Type : mssql\n",
      "2025-09-25T17:40:33.341 +02:00 -|- FastTransfer -|- MSS22_to_MSS25 -|- INFORMATION -|- tpch_test.dbo.orders_4_no_index -|- Source SqlInstance : localhost\n",
      "2025-09-25T17:40:33.341 +02:00 -|- FastTransfer -|- MSS22_to_MSS25 -|- INFORMATION -|- tpch_test.dbo.orders_4_no_index -|- Source Database : tpch10_collation_bin2\n",
      "2025-09-25T17:40:33.342 +02:00 -|- FastTransfer -|- MSS22_to_MSS25 -|- INFORMATION -|- tpch_test.dbo.orders_4_no_index -|- Source Trusted Connection : True\n",
      "2025-09-25T17:40:33.342 +02:00 -|- FastTransfer -|- MSS22_to_MSS25 -|- INFORMATION -|- tpch_test.dbo.orders_4_no_index -|- Source Schema : dbo\n",
      "2025-09-25T17:40:33.342 +02:00 -|- FastTransfer -|- MSS22_to_MSS25 -|- INFORMATION -|- tpch_test.dbo.orders_4_no_index -|- Source Table : orders_15M\n",
      "2025-09-25T17:40:33.342 +02:00 -|- FastTransfer -|- MSS22_to_MSS25 -|- INFORMATION -|- tpch_test.dbo.orders_4_no_index -|- Target Type : msbulk\n",
      "2025-09-25T17:40:33.342 +02:00 -|- FastTransfer -|- MSS22_to_MSS25 -|- INFORMATION -|- tpch_test.dbo.orders_4_no_index -|- Target Server : localhost\\SS2025\n",
      "2025-09-25T17:40:33.342 +02:00 -|- FastTransfer -|- MSS22_to_MSS25 -|- INFORMATION -|- tpch_test.dbo.orders_4_no_index -|- Target Database : tpch_test\n",
      "2025-09-25T17:40:33.342 +02:00 -|- FastTransfer -|- MSS22_to_MSS25 -|- INFORMATION -|- tpch_test.dbo.orders_4_no_index -|- Target Schema : dbo\n",
      "2025-09-25T17:40:33.342 +02:00 -|- FastTransfer -|- MSS22_to_MSS25 -|- INFORMATION -|- tpch_test.dbo.orders_4_no_index -|- Target Table : orders_4_no_index\n",
      "2025-09-25T17:40:33.342 +02:00 -|- FastTransfer -|- MSS22_to_MSS25 -|- INFORMATION -|- tpch_test.dbo.orders_4_no_index -|- Target Trusted Connection : True\n",
      "2025-09-25T17:40:33.342 +02:00 -|- FastTransfer -|- MSS22_to_MSS25 -|- INFORMATION -|- tpch_test.dbo.orders_4_no_index -|- Columns Map Method : Name\n",
      "2025-09-25T17:40:33.342 +02:00 -|- FastTransfer -|- MSS22_to_MSS25 -|- INFORMATION -|- tpch_test.dbo.orders_4_no_index -|- Degree : -2\n",
      "2025-09-25T17:40:33.342 +02:00 -|- FastTransfer -|- MSS22_to_MSS25 -|- INFORMATION -|- tpch_test.dbo.orders_4_no_index -|- Distribute Method : Ntile\n",
      "2025-09-25T17:40:33.342 +02:00 -|- FastTransfer -|- MSS22_to_MSS25 -|- INFORMATION -|- tpch_test.dbo.orders_4_no_index -|- Distribute Column : o_orderkey\n",
      "2025-09-25T17:40:33.342 +02:00 -|- FastTransfer -|- MSS22_to_MSS25 -|- INFORMATION -|- tpch_test.dbo.orders_4_no_index -|- Bulkcopy Batch Size : 1048576\n",
      "2025-09-25T17:40:33.342 +02:00 -|- FastTransfer -|- MSS22_to_MSS25 -|- INFORMATION -|- tpch_test.dbo.orders_4_no_index -|- Load Mode : Truncate\n",
      "2025-09-25T17:40:33.342 +02:00 -|- FastTransfer -|- MSS22_to_MSS25 -|- INFORMATION -|- tpch_test.dbo.orders_4_no_index -|- Use Work Tables : False\n",
      "2025-09-25T17:40:33.343 +02:00 -|- FastTransfer -|- MSS22_to_MSS25 -|- INFORMATION -|- tpch_test.dbo.orders_4_no_index -|- Encoding used : Unicode (UTF-8) - 65001 - utf-8\n",
      "2025-09-25T17:40:33.360 +02:00 -|- FastTransfer -|- MSS22_to_MSS25 -|- INFORMATION -|- tpch_test.dbo.orders_4_no_index -|- Source Connection String : Data Source=localhost;Initial Catalog=tpch10_collation_bin2;Integrated Security=True;Connect Timeout=120;Encrypt=True;Trust Server Certificate=True;Application Name=FastTransfer;Application Intent=ReadOnly;Command Timeout=10800\n",
      "2025-09-25T17:40:33.360 +02:00 -|- FastTransfer -|- MSS22_to_MSS25 -|- INFORMATION -|- tpch_test.dbo.orders_4_no_index -|- Target Connection String : Data Source=localhost\\SS2025;Initial Catalog=tpch_test;Integrated Security=True;Connect Timeout=120;Encrypt=True;Trust Server Certificate=True;Application Name=FastTransfer;Application Intent=ReadWrite;Command Timeout=10800\n",
      "2025-09-25T17:40:33.360 +02:00 -|- FastTransfer -|- MSS22_to_MSS25 -|- INFORMATION -|- tpch_test.dbo.orders_4_no_index -|- Source Database Version : Microsoft SQL Server 2022 (RTM-CU20-GDR) (KB5065220) - 16.0.4212.1 (X64)  \tAug 13 2025 16:40:40  \tCopyright (C) 2022 Microsoft Corporation \tDeveloper Edition (64-bit) on Windows 10 Pro 10.0 <X64> (Build 26100: ) (Hypervisor) \n",
      "2025-09-25T17:40:33.360 +02:00 -|- FastTransfer -|- MSS22_to_MSS25 -|- INFORMATION -|- tpch_test.dbo.orders_4_no_index -|- Target Database Version : Microsoft SQL Server 2025 (CTP2.1) - 17.0.800.3 (X64)  \tJun 12 2025 14:47:57  \tCopyright (C) 2025 Microsoft Corporation \tEnterprise Developer Edition (64-bit) on Windows 10 Pro 10.0 <X64> (Build 26100: ) (Hypervisor) \n",
      "2025-09-25T17:40:33.369 +02:00 -|- FastTransfer -|- MSS22_to_MSS25 -|- INFORMATION -|- tpch_test.dbo.orders_4_no_index -|- Degree of parallelism was computed to 16 (=> 32\\2)\n",
      "2025-09-25T17:40:33.858 +02:00 -|- FastTransfer -|- MSS22_to_MSS25 -|- INFORMATION -|- tpch_test.dbo.orders_4_no_index -|- Ntile DataSegments Computation Completed in 489 ms\n",
      "2025-09-25T17:40:33.861 +02:00 -|- FastTransfer -|- MSS22_to_MSS25 -|- INFORMATION -|- tpch_test.dbo.orders_4_no_index -|- Start Loading Data using distribution method NTile\n",
      "2025-09-25T17:40:33.871 +02:00 -|- FastTransfer -|- MSS22_to_MSS25 -|- INFORMATION -|- tpch_test.dbo.orders_4_no_index -|- Table \"dbo\".\"orders_4_no_index\" has no Clustered Index. BulkCopy will use KeepNulls and UseInternalTransaction and Tablock\n",
      "2025-09-25T17:40:33.872 +02:00 -|- FastTransfer -|- MSS22_to_MSS25 -|- INFORMATION -|- tpch_test.dbo.orders_4_no_index -|- BulkCopy to \"dbo\".\"orders_4_no_index\" with BatchSize = 1048576, Timeout = 3600\n",
      "2025-09-25T17:40:33.874 +02:00 -|- FastTransfer -|- MSS22_to_MSS25 -|- INFORMATION -|- tpch_test.dbo.orders_4_no_index -|- Start Loading Data using distribution method NTile\n",
      "2025-09-25T17:40:33.874 +02:00 -|- FastTransfer -|- MSS22_to_MSS25 -|- INFORMATION -|- tpch_test.dbo.orders_4_no_index -|- Table \"dbo\".\"orders_4_no_index\" has no Clustered Index. BulkCopy will use KeepNulls and UseInternalTransaction and Tablock\n",
      "2025-09-25T17:40:33.874 +02:00 -|- FastTransfer -|- MSS22_to_MSS25 -|- INFORMATION -|- tpch_test.dbo.orders_4_no_index -|- BulkCopy to \"dbo\".\"orders_4_no_index\" with BatchSize = 1048576, Timeout = 3600\n",
      "2025-09-25T17:40:33.877 +02:00 -|- FastTransfer -|- MSS22_to_MSS25 -|- INFORMATION -|- tpch_test.dbo.orders_4_no_index -|- Start Loading Data using distribution method NTile\n",
      "2025-09-25T17:40:33.878 +02:00 -|- FastTransfer -|- MSS22_to_MSS25 -|- INFORMATION -|- tpch_test.dbo.orders_4_no_index -|- Table \"dbo\".\"orders_4_no_index\" has no Clustered Index. BulkCopy will use KeepNulls and UseInternalTransaction and Tablock\n",
      "2025-09-25T17:40:33.878 +02:00 -|- FastTransfer -|- MSS22_to_MSS25 -|- INFORMATION -|- tpch_test.dbo.orders_4_no_index -|- BulkCopy to \"dbo\".\"orders_4_no_index\" with BatchSize = 1048576, Timeout = 3600\n",
      "2025-09-25T17:40:33.883 +02:00 -|- FastTransfer -|- MSS22_to_MSS25 -|- WARNING -|- tpch_test.dbo.orders_4_no_index -|- Only 9 out of 10 columns were mapped by name to the target table \"dbo\".\"orders_4_no_index\"\n",
      "2025-09-25T17:40:33.884 +02:00 -|- FastTransfer -|- MSS22_to_MSS25 -|- WARNING -|- tpch_test.dbo.orders_4_no_index -|- Only 9 out of 10 columns were mapped by name to the target table \"dbo\".\"orders_4_no_index\"\n",
      "2025-09-25T17:40:33.885 +02:00 -|- FastTransfer -|- MSS22_to_MSS25 -|- INFORMATION -|- tpch_test.dbo.orders_4_no_index -|- Start Loading Data using distribution method NTile\n",
      "2025-09-25T17:40:33.885 +02:00 -|- FastTransfer -|- MSS22_to_MSS25 -|- INFORMATION -|- tpch_test.dbo.orders_4_no_index -|- Table \"dbo\".\"orders_4_no_index\" has no Clustered Index. BulkCopy will use KeepNulls and UseInternalTransaction and Tablock\n",
      "2025-09-25T17:40:33.885 +02:00 -|- FastTransfer -|- MSS22_to_MSS25 -|- INFORMATION -|- tpch_test.dbo.orders_4_no_index -|- BulkCopy to \"dbo\".\"orders_4_no_index\" with BatchSize = 1048576, Timeout = 3600\n",
      "2025-09-25T17:40:33.886 +02:00 -|- FastTransfer -|- MSS22_to_MSS25 -|- WARNING -|- tpch_test.dbo.orders_4_no_index -|- Only 9 out of 10 columns were mapped by name to the target table \"dbo\".\"orders_4_no_index\"\n",
      "2025-09-25T17:40:33.887 +02:00 -|- FastTransfer -|- MSS22_to_MSS25 -|- INFORMATION -|- tpch_test.dbo.orders_4_no_index -|- Start Loading Data using distribution method NTile\n",
      "2025-09-25T17:40:33.888 +02:00 -|- FastTransfer -|- MSS22_to_MSS25 -|- INFORMATION -|- tpch_test.dbo.orders_4_no_index -|- Table \"dbo\".\"orders_4_no_index\" has no Clustered Index. BulkCopy will use KeepNulls and UseInternalTransaction and Tablock\n",
      "2025-09-25T17:40:33.888 +02:00 -|- FastTransfer -|- MSS22_to_MSS25 -|- INFORMATION -|- tpch_test.dbo.orders_4_no_index -|- BulkCopy to \"dbo\".\"orders_4_no_index\" with BatchSize = 1048576, Timeout = 3600\n",
      "2025-09-25T17:40:33.888 +02:00 -|- FastTransfer -|- MSS22_to_MSS25 -|- WARNING -|- tpch_test.dbo.orders_4_no_index -|- Only 9 out of 10 columns were mapped by name to the target table \"dbo\".\"orders_4_no_index\"\n",
      "2025-09-25T17:40:33.892 +02:00 -|- FastTransfer -|- MSS22_to_MSS25 -|- WARNING -|- tpch_test.dbo.orders_4_no_index -|- Only 9 out of 10 columns were mapped by name to the target table \"dbo\".\"orders_4_no_index\"\n",
      "2025-09-25T17:40:33.895 +02:00 -|- FastTransfer -|- MSS22_to_MSS25 -|- INFORMATION -|- tpch_test.dbo.orders_4_no_index -|- Start Loading Data using distribution method NTile\n",
      "2025-09-25T17:40:33.895 +02:00 -|- FastTransfer -|- MSS22_to_MSS25 -|- INFORMATION -|- tpch_test.dbo.orders_4_no_index -|- Table \"dbo\".\"orders_4_no_index\" has no Clustered Index. BulkCopy will use KeepNulls and UseInternalTransaction and Tablock\n",
      "2025-09-25T17:40:33.895 +02:00 -|- FastTransfer -|- MSS22_to_MSS25 -|- INFORMATION -|- tpch_test.dbo.orders_4_no_index -|- BulkCopy to \"dbo\".\"orders_4_no_index\" with BatchSize = 1048576, Timeout = 3600\n",
      "2025-09-25T17:40:33.897 +02:00 -|- FastTransfer -|- MSS22_to_MSS25 -|- WARNING -|- tpch_test.dbo.orders_4_no_index -|- Only 9 out of 10 columns were mapped by name to the target table \"dbo\".\"orders_4_no_index\"\n",
      "2025-09-25T17:40:33.900 +02:00 -|- FastTransfer -|- MSS22_to_MSS25 -|- INFORMATION -|- tpch_test.dbo.orders_4_no_index -|- Start Loading Data using distribution method NTile\n",
      "2025-09-25T17:40:33.901 +02:00 -|- FastTransfer -|- MSS22_to_MSS25 -|- INFORMATION -|- tpch_test.dbo.orders_4_no_index -|- Table \"dbo\".\"orders_4_no_index\" has no Clustered Index. BulkCopy will use KeepNulls and UseInternalTransaction and Tablock\n",
      "2025-09-25T17:40:33.901 +02:00 -|- FastTransfer -|- MSS22_to_MSS25 -|- INFORMATION -|- tpch_test.dbo.orders_4_no_index -|- BulkCopy to \"dbo\".\"orders_4_no_index\" with BatchSize = 1048576, Timeout = 3600\n",
      "2025-09-25T17:40:33.903 +02:00 -|- FastTransfer -|- MSS22_to_MSS25 -|- WARNING -|- tpch_test.dbo.orders_4_no_index -|- Only 9 out of 10 columns were mapped by name to the target table \"dbo\".\"orders_4_no_index\"\n",
      "2025-09-25T17:40:33.903 +02:00 -|- FastTransfer -|- MSS22_to_MSS25 -|- INFORMATION -|- tpch_test.dbo.orders_4_no_index -|- Start Loading Data using distribution method NTile\n",
      "2025-09-25T17:40:33.904 +02:00 -|- FastTransfer -|- MSS22_to_MSS25 -|- INFORMATION -|- tpch_test.dbo.orders_4_no_index -|- Table \"dbo\".\"orders_4_no_index\" has no Clustered Index. BulkCopy will use KeepNulls and UseInternalTransaction and Tablock\n",
      "2025-09-25T17:40:33.904 +02:00 -|- FastTransfer -|- MSS22_to_MSS25 -|- INFORMATION -|- tpch_test.dbo.orders_4_no_index -|- BulkCopy to \"dbo\".\"orders_4_no_index\" with BatchSize = 1048576, Timeout = 3600\n",
      "2025-09-25T17:40:33.905 +02:00 -|- FastTransfer -|- MSS22_to_MSS25 -|- WARNING -|- tpch_test.dbo.orders_4_no_index -|- Only 9 out of 10 columns were mapped by name to the target table \"dbo\".\"orders_4_no_index\"\n",
      "2025-09-25T17:40:33.910 +02:00 -|- FastTransfer -|- MSS22_to_MSS25 -|- INFORMATION -|- tpch_test.dbo.orders_4_no_index -|- Start Loading Data using distribution method NTile\n",
      "2025-09-25T17:40:33.911 +02:00 -|- FastTransfer -|- MSS22_to_MSS25 -|- INFORMATION -|- tpch_test.dbo.orders_4_no_index -|- Table \"dbo\".\"orders_4_no_index\" has no Clustered Index. BulkCopy will use KeepNulls and UseInternalTransaction and Tablock\n",
      "2025-09-25T17:40:33.912 +02:00 -|- FastTransfer -|- MSS22_to_MSS25 -|- INFORMATION -|- tpch_test.dbo.orders_4_no_index -|- BulkCopy to \"dbo\".\"orders_4_no_index\" with BatchSize = 1048576, Timeout = 3600\n",
      "2025-09-25T17:40:33.914 +02:00 -|- FastTransfer -|- MSS22_to_MSS25 -|- INFORMATION -|- tpch_test.dbo.orders_4_no_index -|- Start Loading Data using distribution method NTile\n",
      "2025-09-25T17:40:33.914 +02:00 -|- FastTransfer -|- MSS22_to_MSS25 -|- INFORMATION -|- tpch_test.dbo.orders_4_no_index -|- Table \"dbo\".\"orders_4_no_index\" has no Clustered Index. BulkCopy will use KeepNulls and UseInternalTransaction and Tablock\n",
      "2025-09-25T17:40:33.914 +02:00 -|- FastTransfer -|- MSS22_to_MSS25 -|- INFORMATION -|- tpch_test.dbo.orders_4_no_index -|- BulkCopy to \"dbo\".\"orders_4_no_index\" with BatchSize = 1048576, Timeout = 3600\n",
      "2025-09-25T17:40:33.915 +02:00 -|- FastTransfer -|- MSS22_to_MSS25 -|- WARNING -|- tpch_test.dbo.orders_4_no_index -|- Only 9 out of 10 columns were mapped by name to the target table \"dbo\".\"orders_4_no_index\"\n",
      "2025-09-25T17:40:33.916 +02:00 -|- FastTransfer -|- MSS22_to_MSS25 -|- WARNING -|- tpch_test.dbo.orders_4_no_index -|- Only 9 out of 10 columns were mapped by name to the target table \"dbo\".\"orders_4_no_index\"\n",
      "2025-09-25T17:40:33.921 +02:00 -|- FastTransfer -|- MSS22_to_MSS25 -|- INFORMATION -|- tpch_test.dbo.orders_4_no_index -|- Start Loading Data using distribution method NTile\n",
      "2025-09-25T17:40:33.921 +02:00 -|- FastTransfer -|- MSS22_to_MSS25 -|- INFORMATION -|- tpch_test.dbo.orders_4_no_index -|- Table \"dbo\".\"orders_4_no_index\" has no Clustered Index. BulkCopy will use KeepNulls and UseInternalTransaction and Tablock\n",
      "2025-09-25T17:40:33.922 +02:00 -|- FastTransfer -|- MSS22_to_MSS25 -|- INFORMATION -|- tpch_test.dbo.orders_4_no_index -|- BulkCopy to \"dbo\".\"orders_4_no_index\" with BatchSize = 1048576, Timeout = 3600\n",
      "2025-09-25T17:40:33.925 +02:00 -|- FastTransfer -|- MSS22_to_MSS25 -|- INFORMATION -|- tpch_test.dbo.orders_4_no_index -|- Start Loading Data using distribution method NTile\n",
      "2025-09-25T17:40:33.925 +02:00 -|- FastTransfer -|- MSS22_to_MSS25 -|- INFORMATION -|- tpch_test.dbo.orders_4_no_index -|- Table \"dbo\".\"orders_4_no_index\" has no Clustered Index. BulkCopy will use KeepNulls and UseInternalTransaction and Tablock\n",
      "2025-09-25T17:40:33.926 +02:00 -|- FastTransfer -|- MSS22_to_MSS25 -|- INFORMATION -|- tpch_test.dbo.orders_4_no_index -|- BulkCopy to \"dbo\".\"orders_4_no_index\" with BatchSize = 1048576, Timeout = 3600\n",
      "2025-09-25T17:40:33.926 +02:00 -|- FastTransfer -|- MSS22_to_MSS25 -|- WARNING -|- tpch_test.dbo.orders_4_no_index -|- Only 9 out of 10 columns were mapped by name to the target table \"dbo\".\"orders_4_no_index\"\n",
      "2025-09-25T17:40:33.927 +02:00 -|- FastTransfer -|- MSS22_to_MSS25 -|- WARNING -|- tpch_test.dbo.orders_4_no_index -|- Only 9 out of 10 columns were mapped by name to the target table \"dbo\".\"orders_4_no_index\"\n",
      "2025-09-25T17:40:33.939 +02:00 -|- FastTransfer -|- MSS22_to_MSS25 -|- INFORMATION -|- tpch_test.dbo.orders_4_no_index -|- Start Loading Data using distribution method NTile\n",
      "2025-09-25T17:40:33.940 +02:00 -|- FastTransfer -|- MSS22_to_MSS25 -|- INFORMATION -|- tpch_test.dbo.orders_4_no_index -|- Table \"dbo\".\"orders_4_no_index\" has no Clustered Index. BulkCopy will use KeepNulls and UseInternalTransaction and Tablock\n",
      "2025-09-25T17:40:33.940 +02:00 -|- FastTransfer -|- MSS22_to_MSS25 -|- INFORMATION -|- tpch_test.dbo.orders_4_no_index -|- BulkCopy to \"dbo\".\"orders_4_no_index\" with BatchSize = 1048576, Timeout = 3600\n",
      "2025-09-25T17:40:33.941 +02:00 -|- FastTransfer -|- MSS22_to_MSS25 -|- WARNING -|- tpch_test.dbo.orders_4_no_index -|- Only 9 out of 10 columns were mapped by name to the target table \"dbo\".\"orders_4_no_index\"\n",
      "2025-09-25T17:40:33.942 +02:00 -|- FastTransfer -|- MSS22_to_MSS25 -|- INFORMATION -|- tpch_test.dbo.orders_4_no_index -|- Start Loading Data using distribution method NTile\n",
      "2025-09-25T17:40:33.943 +02:00 -|- FastTransfer -|- MSS22_to_MSS25 -|- INFORMATION -|- tpch_test.dbo.orders_4_no_index -|- Table \"dbo\".\"orders_4_no_index\" has no Clustered Index. BulkCopy will use KeepNulls and UseInternalTransaction and Tablock\n",
      "2025-09-25T17:40:33.943 +02:00 -|- FastTransfer -|- MSS22_to_MSS25 -|- INFORMATION -|- tpch_test.dbo.orders_4_no_index -|- BulkCopy to \"dbo\".\"orders_4_no_index\" with BatchSize = 1048576, Timeout = 3600\n",
      "2025-09-25T17:40:33.946 +02:00 -|- FastTransfer -|- MSS22_to_MSS25 -|- WARNING -|- tpch_test.dbo.orders_4_no_index -|- Only 9 out of 10 columns were mapped by name to the target table \"dbo\".\"orders_4_no_index\"\n",
      "2025-09-25T17:40:33.951 +02:00 -|- FastTransfer -|- MSS22_to_MSS25 -|- INFORMATION -|- tpch_test.dbo.orders_4_no_index -|- Start Loading Data using distribution method NTile\n",
      "2025-09-25T17:40:33.952 +02:00 -|- FastTransfer -|- MSS22_to_MSS25 -|- INFORMATION -|- tpch_test.dbo.orders_4_no_index -|- Table \"dbo\".\"orders_4_no_index\" has no Clustered Index. BulkCopy will use KeepNulls and UseInternalTransaction and Tablock\n",
      "2025-09-25T17:40:33.952 +02:00 -|- FastTransfer -|- MSS22_to_MSS25 -|- INFORMATION -|- tpch_test.dbo.orders_4_no_index -|- BulkCopy to \"dbo\".\"orders_4_no_index\" with BatchSize = 1048576, Timeout = 3600\n",
      "2025-09-25T17:40:33.953 +02:00 -|- FastTransfer -|- MSS22_to_MSS25 -|- WARNING -|- tpch_test.dbo.orders_4_no_index -|- Only 9 out of 10 columns were mapped by name to the target table \"dbo\".\"orders_4_no_index\"\n",
      "2025-09-25T17:40:33.955 +02:00 -|- FastTransfer -|- MSS22_to_MSS25 -|- INFORMATION -|- tpch_test.dbo.orders_4_no_index -|- Start Loading Data using distribution method NTile\n",
      "2025-09-25T17:40:33.955 +02:00 -|- FastTransfer -|- MSS22_to_MSS25 -|- INFORMATION -|- tpch_test.dbo.orders_4_no_index -|- Table \"dbo\".\"orders_4_no_index\" has no Clustered Index. BulkCopy will use KeepNulls and UseInternalTransaction and Tablock\n",
      "2025-09-25T17:40:33.955 +02:00 -|- FastTransfer -|- MSS22_to_MSS25 -|- INFORMATION -|- tpch_test.dbo.orders_4_no_index -|- BulkCopy to \"dbo\".\"orders_4_no_index\" with BatchSize = 1048576, Timeout = 3600\n",
      "2025-09-25T17:40:33.957 +02:00 -|- FastTransfer -|- MSS22_to_MSS25 -|- WARNING -|- tpch_test.dbo.orders_4_no_index -|- Only 9 out of 10 columns were mapped by name to the target table \"dbo\".\"orders_4_no_index\"\n",
      "2025-09-25T17:40:37.588 +02:00 -|- FastTransfer -|- MSS22_to_MSS25 -|- INFORMATION -|- tpch_test.dbo.orders_4_no_index -|- Completed Load Query 1 for o_orderkey between 4030402 and 8063175 : 937501 rows x 9 columns in 3726ms\n",
      "2025-09-25T17:40:37.676 +02:00 -|- FastTransfer -|- MSS22_to_MSS25 -|- INFORMATION -|- tpch_test.dbo.orders_4_no_index -|- Completed Load Query 2 for o_orderkey between 8063200 and 12095555 : 937501 rows x 9 columns in 3815ms\n",
      "2025-09-25T17:40:37.880 +02:00 -|- FastTransfer -|- MSS22_to_MSS25 -|- INFORMATION -|- tpch_test.dbo.orders_4_no_index -|- Completed Load Query 14 for o_orderkey between 56445282 and 66373955 : 937501 rows x 9 columns in 4017ms\n",
      "2025-09-25T17:40:37.881 +02:00 -|- FastTransfer -|- MSS22_to_MSS25 -|- INFORMATION -|- tpch_test.dbo.orders_4_no_index -|- Completed Load Query 15 for o_orderkey between 66374081 and 119999974 : 937486 rows x 9 columns in 4018ms\n",
      "2025-09-25T17:40:37.883 +02:00 -|- FastTransfer -|- MSS22_to_MSS25 -|- INFORMATION -|- tpch_test.dbo.orders_4_no_index -|- Completed Load Query 11 for o_orderkey between 44350020 and 48381669 : 937501 rows x 9 columns in 4021ms\n",
      "2025-09-25T17:40:37.886 +02:00 -|- FastTransfer -|- MSS22_to_MSS25 -|- INFORMATION -|- tpch_test.dbo.orders_4_no_index -|- Completed Load Query 12 for o_orderkey between 48381670 and 52413159 : 937501 rows x 9 columns in 4023ms\n",
      "2025-09-25T17:40:37.888 +02:00 -|- FastTransfer -|- MSS22_to_MSS25 -|- INFORMATION -|- tpch_test.dbo.orders_4_no_index -|- Completed Load Query 13 for o_orderkey between 52413184 and 56445281 : 937501 rows x 9 columns in 4025ms\n",
      "2025-09-25T17:40:37.890 +02:00 -|- FastTransfer -|- MSS22_to_MSS25 -|- INFORMATION -|- tpch_test.dbo.orders_4_no_index -|- Completed Load Query 0 for o_orderkey between 1 and 4030401 : 937500 rows x 9 columns in 4029ms\n",
      "2025-09-25T17:40:37.896 +02:00 -|- FastTransfer -|- MSS22_to_MSS25 -|- INFORMATION -|- tpch_test.dbo.orders_4_no_index -|- Completed Load Query 9 for o_orderkey between 36288230 and 40319808 : 937501 rows x 9 columns in 4034ms\n",
      "2025-09-25T17:40:37.907 +02:00 -|- FastTransfer -|- MSS22_to_MSS25 -|- INFORMATION -|- tpch_test.dbo.orders_4_no_index -|- Completed Load Query 10 for o_orderkey between 40319809 and 44350019 : 937501 rows x 9 columns in 4046ms\n",
      "2025-09-25T17:40:37.913 +02:00 -|- FastTransfer -|- MSS22_to_MSS25 -|- INFORMATION -|- tpch_test.dbo.orders_4_no_index -|- Completed Load Query 5 for o_orderkey between 20160224 and 24192837 : 937501 rows x 9 columns in 4052ms\n",
      "2025-09-25T17:40:37.921 +02:00 -|- FastTransfer -|- MSS22_to_MSS25 -|- INFORMATION -|- tpch_test.dbo.orders_4_no_index -|- Completed Load Query 4 for o_orderkey between 16128902 and 20160199 : 937501 rows x 9 columns in 4059ms\n",
      "2025-09-25T17:40:37.936 +02:00 -|- FastTransfer -|- MSS22_to_MSS25 -|- INFORMATION -|- tpch_test.dbo.orders_4_no_index -|- Completed Load Query 8 for o_orderkey between 32255682 and 36288229 : 937501 rows x 9 columns in 4075ms\n",
      "2025-09-25T17:40:37.954 +02:00 -|- FastTransfer -|- MSS22_to_MSS25 -|- INFORMATION -|- tpch_test.dbo.orders_4_no_index -|- Completed Load Query 7 for o_orderkey between 28226535 and 32255681 : 937501 rows x 9 columns in 4093ms\n",
      "2025-09-25T17:40:37.958 +02:00 -|- FastTransfer -|- MSS22_to_MSS25 -|- INFORMATION -|- tpch_test.dbo.orders_4_no_index -|- Completed Load Query 3 for o_orderkey between 12095556 and 16128901 : 937501 rows x 9 columns in 4096ms\n",
      "2025-09-25T17:40:38.057 +02:00 -|- FastTransfer -|- MSS22_to_MSS25 -|- INFORMATION -|- tpch_test.dbo.orders_4_no_index -|- Completed Load Query 6 for o_orderkey between 24192838 and 28226534 : 937501 rows x 9 columns in 4196ms\n",
      "2025-09-25T17:40:38.058 +02:00 -|- FastTransfer -|- MSS22_to_MSS25 -|- INFORMATION -|- tpch_test.dbo.orders_4_no_index -|- Total rows : 15000000\n",
      "2025-09-25T17:40:38.058 +02:00 -|- FastTransfer -|- MSS22_to_MSS25 -|- INFORMATION -|- tpch_test.dbo.orders_4_no_index -|- Total columns : 9\n",
      "2025-09-25T17:40:38.058 +02:00 -|- FastTransfer -|- MSS22_to_MSS25 -|- INFORMATION -|- tpch_test.dbo.orders_4_no_index -|- Total cells : 135000000\n",
      "2025-09-25T17:40:38.058 +02:00 -|- FastTransfer -|- MSS22_to_MSS25 -|- INFORMATION -|- tpch_test.dbo.orders_4_no_index -|- Rows Throughput : 3198902 rows/s\n",
      "2025-09-25T17:40:38.058 +02:00 -|- FastTransfer -|- MSS22_to_MSS25 -|- INFORMATION -|- tpch_test.dbo.orders_4_no_index -|- Cells Throughput : 28790200 cells/s\n",
      "2025-09-25T17:40:38.058 +02:00 -|- FastTransfer -|- MSS22_to_MSS25 -|- INFORMATION -|- tpch_test.dbo.orders_4_no_index -|- Transfert time : Elapsed=4689 ms\n",
      "2025-09-25T17:40:38.058 +02:00 -|- FastTransfer -|- MSS22_to_MSS25 -|- INFORMATION -|- tpch_test.dbo.orders_4_no_index -|- Total time : Elapsed=4891 ms\n",
      "2025-09-25T17:40:38.058 +02:00 -|- FastTransfer -|- MSS22_to_MSS25 -|- INFORMATION -|- tpch_test.dbo.orders_4_no_index -|- Completed Load\n"
     ]
    }
   ],
   "source": [
    "\n",
    "cd D:\\FastTransfer\n",
    "\n",
    ".\\FastTransfer.exe `\n",
    "--sourceconnectiontype \"mssql\" `\n",
    "--sourceserver \"localhost\" `\n",
    "--sourcedatabase \"tpch10_collation_bin2\" `\n",
    "--sourcetrusted `\n",
    "--sourceschema \"dbo\" `\n",
    "--sourcetable \"orders_15M\" `\n",
    "`\n",
    "--targetconnectiontype \"msbulk\" `\n",
    "--targetserver \"localhost\\SS2025\" `\n",
    "--targettrusted `\n",
    "--targetdatabase \"tpch_test\" `\n",
    "--targetschema \"dbo\" `\n",
    "--targettable \"orders_4_no_index\" `\n",
    "`\n",
    "--loadmode \"Truncate\" `\n",
    "--mapmethod \"Name\" `\n",
    "--method \"Ntile\" `\n",
    "--distributekeycolumn \"o_orderkey\" `\n",
    "--degree -2 `\n",
    "--runid \"MSS22_to_MSS25\""
   ]
  },
  {
   "cell_type": "code",
   "execution_count": 8,
   "id": "5144fced",
   "metadata": {
    "polyglot_notebook": {
     "kernelName": "sql-SS2025_tpch_test"
    }
   },
   "outputs": [
    {
     "data": {
      "text/plain": [
       "(1 ligne affectée)"
      ]
     },
     "metadata": {},
     "output_type": "display_data"
    },
    {
     "data": {
      "text/csv": [
       "count_orders_4_no_index\r\n",
       "15,000,000\r\n"
      ],
      "text/html": [
       "<table><thead><tr><td><span>count_orders_4_no_index</span></td></tr></thead><tbody><tr><td>15,000,000</td></tr></tbody></table><style>\r\n",
       ".dni-code-hint {\r\n",
       "    font-style: italic;\r\n",
       "    overflow: hidden;\r\n",
       "    white-space: nowrap;\r\n",
       "}\r\n",
       ".dni-treeview {\r\n",
       "    white-space: nowrap;\r\n",
       "}\r\n",
       ".dni-treeview td {\r\n",
       "    vertical-align: top;\r\n",
       "    text-align: start;\r\n",
       "}\r\n",
       "details.dni-treeview {\r\n",
       "    padding-left: 1em;\r\n",
       "}\r\n",
       "table td {\r\n",
       "    text-align: start;\r\n",
       "}\r\n",
       "table tr { \r\n",
       "    vertical-align: top; \r\n",
       "    margin: 0em 0px;\r\n",
       "}\r\n",
       "table tr td pre \r\n",
       "{ \r\n",
       "    vertical-align: top !important; \r\n",
       "    margin: 0em 0px !important;\r\n",
       "} \r\n",
       "table th {\r\n",
       "    text-align: start;\r\n",
       "}\r\n",
       "</style>"
      ]
     },
     "metadata": {},
     "output_type": "display_data"
    }
   ],
   "source": [
    "\n",
    "SELECT FORMAT(count(*),'###,###,###') count_orders_4_no_index from orders_4_no_index;"
   ]
  },
  {
   "cell_type": "code",
   "execution_count": 9,
   "id": "b9ef8968",
   "metadata": {
    "polyglot_notebook": {
     "kernelName": "sql-SS2025_tpch_test"
    }
   },
   "outputs": [
    {
     "data": {
      "text/plain": [
       "(5 lignes affectées)"
      ]
     },
     "metadata": {},
     "output_type": "display_data"
    },
    {
     "data": {
      "text/csv": [
       "o_orderkey,o_custkey,o_orderstatus,o_totalprice,o_orderdate,o_orderpriority,o_clerk,o_shippriority,o_comment,ct\r\n",
       "108688866,68986,O,45015.28,1999-04-30T00:00:00.0000000,\"1-URGENT       \",Clerk#000002476,0,\"deposits along the furiously regular deposits sublate quickly across th\",\r\n",
       "108784452,1475186,O,227236.70,1999-04-30T00:00:00.0000000,\"1-URGENT       \",Clerk#000004829,0,\"carefully final foxes wake. fluffily final sheaves nag carefully quickly \",\r\n",
       "108853858,128426,O,252434.36,1999-04-30T00:00:00.0000000,\"1-URGENT       \",Clerk#000005029,0,\"express deposits haggle idly above the theodolites. slyly regu\",\r\n",
       "108898407,392066,O,370344.13,1999-04-30T00:00:00.0000000,\"1-URGENT       \",Clerk#000003188,0,\"carefully even gifts among the deposits cajole slyly acros\",\r\n",
       "108901569,1132472,O,334924.30,1999-04-30T00:00:00.0000000,\"1-URGENT       \",Clerk#000005560,0,\"furiously even somas slee\",\r\n"
      ],
      "text/html": [
       "<table><thead><tr><td><span>o_orderkey</span></td><td><span>o_custkey</span></td><td><span>o_orderstatus</span></td><td><span>o_totalprice</span></td><td><span>o_orderdate</span></td><td><span>o_orderpriority</span></td><td><span>o_clerk</span></td><td><span>o_shippriority</span></td><td><span>o_comment</span></td><td><span>ct</span></td></tr></thead><tbody><tr><td><div class=\"dni-plaintext\"><pre>108688866</pre></div></td><td><div class=\"dni-plaintext\"><pre>68986</pre></div></td><td>O</td><td><div class=\"dni-plaintext\"><pre>45015.28</pre></div></td><td><span>1999-04-30 00:00:00Z</span></td><td>1-URGENT       </td><td>Clerk#000002476</td><td><div class=\"dni-plaintext\"><pre>0</pre></div></td><td>deposits along the furiously regular deposits sublate quickly across th</td><td><div class=\"dni-plaintext\"><pre>&lt;null&gt;</pre></div></td></tr><tr><td><div class=\"dni-plaintext\"><pre>108784452</pre></div></td><td><div class=\"dni-plaintext\"><pre>1475186</pre></div></td><td>O</td><td><div class=\"dni-plaintext\"><pre>227236.70</pre></div></td><td><span>1999-04-30 00:00:00Z</span></td><td>1-URGENT       </td><td>Clerk#000004829</td><td><div class=\"dni-plaintext\"><pre>0</pre></div></td><td>carefully final foxes wake. fluffily final sheaves nag carefully quickly </td><td><div class=\"dni-plaintext\"><pre>&lt;null&gt;</pre></div></td></tr><tr><td><div class=\"dni-plaintext\"><pre>108853858</pre></div></td><td><div class=\"dni-plaintext\"><pre>128426</pre></div></td><td>O</td><td><div class=\"dni-plaintext\"><pre>252434.36</pre></div></td><td><span>1999-04-30 00:00:00Z</span></td><td>1-URGENT       </td><td>Clerk#000005029</td><td><div class=\"dni-plaintext\"><pre>0</pre></div></td><td>express deposits haggle idly above the theodolites. slyly regu</td><td><div class=\"dni-plaintext\"><pre>&lt;null&gt;</pre></div></td></tr><tr><td><div class=\"dni-plaintext\"><pre>108898407</pre></div></td><td><div class=\"dni-plaintext\"><pre>392066</pre></div></td><td>O</td><td><div class=\"dni-plaintext\"><pre>370344.13</pre></div></td><td><span>1999-04-30 00:00:00Z</span></td><td>1-URGENT       </td><td>Clerk#000003188</td><td><div class=\"dni-plaintext\"><pre>0</pre></div></td><td>carefully even gifts among the deposits cajole slyly acros</td><td><div class=\"dni-plaintext\"><pre>&lt;null&gt;</pre></div></td></tr><tr><td><div class=\"dni-plaintext\"><pre>108901569</pre></div></td><td><div class=\"dni-plaintext\"><pre>1132472</pre></div></td><td>O</td><td><div class=\"dni-plaintext\"><pre>334924.30</pre></div></td><td><span>1999-04-30 00:00:00Z</span></td><td>1-URGENT       </td><td>Clerk#000005560</td><td><div class=\"dni-plaintext\"><pre>0</pre></div></td><td>furiously even somas slee</td><td><div class=\"dni-plaintext\"><pre>&lt;null&gt;</pre></div></td></tr></tbody></table><style>\r\n",
       ".dni-code-hint {\r\n",
       "    font-style: italic;\r\n",
       "    overflow: hidden;\r\n",
       "    white-space: nowrap;\r\n",
       "}\r\n",
       ".dni-treeview {\r\n",
       "    white-space: nowrap;\r\n",
       "}\r\n",
       ".dni-treeview td {\r\n",
       "    vertical-align: top;\r\n",
       "    text-align: start;\r\n",
       "}\r\n",
       "details.dni-treeview {\r\n",
       "    padding-left: 1em;\r\n",
       "}\r\n",
       "table td {\r\n",
       "    text-align: start;\r\n",
       "}\r\n",
       "table tr { \r\n",
       "    vertical-align: top; \r\n",
       "    margin: 0em 0px;\r\n",
       "}\r\n",
       "table tr td pre \r\n",
       "{ \r\n",
       "    vertical-align: top !important; \r\n",
       "    margin: 0em 0px !important;\r\n",
       "} \r\n",
       "table th {\r\n",
       "    text-align: start;\r\n",
       "}\r\n",
       "</style>"
      ]
     },
     "metadata": {},
     "output_type": "display_data"
    }
   ],
   "source": [
    "SELECT TOP 5 * from orders_4_no_index;"
   ]
  },
  {
   "cell_type": "code",
   "execution_count": 10,
   "id": "67648669",
   "metadata": {
    "polyglot_notebook": {
     "kernelName": "sql-SS2025_tpch_test"
    }
   },
   "outputs": [
    {
     "data": {
      "text/plain": [
       "(0 lignes affectées)"
      ]
     },
     "metadata": {},
     "output_type": "display_data"
    },
    {
     "data": {
      "text/plain": [
       "(1 ligne affectée)"
      ]
     },
     "metadata": {},
     "output_type": "display_data"
    },
    {
     "data": {
      "text/csv": [
       "count_orders_6_classic_index\r\n",
       "0\r\n"
      ],
      "text/html": [
       "<table><thead><tr><td><span>count_orders_6_classic_index</span></td></tr></thead><tbody><tr><td><div class=\"dni-plaintext\"><pre>0</pre></div></td></tr></tbody></table><style>\r\n",
       ".dni-code-hint {\r\n",
       "    font-style: italic;\r\n",
       "    overflow: hidden;\r\n",
       "    white-space: nowrap;\r\n",
       "}\r\n",
       ".dni-treeview {\r\n",
       "    white-space: nowrap;\r\n",
       "}\r\n",
       ".dni-treeview td {\r\n",
       "    vertical-align: top;\r\n",
       "    text-align: start;\r\n",
       "}\r\n",
       "details.dni-treeview {\r\n",
       "    padding-left: 1em;\r\n",
       "}\r\n",
       "table td {\r\n",
       "    text-align: start;\r\n",
       "}\r\n",
       "table tr { \r\n",
       "    vertical-align: top; \r\n",
       "    margin: 0em 0px;\r\n",
       "}\r\n",
       "table tr td pre \r\n",
       "{ \r\n",
       "    vertical-align: top !important; \r\n",
       "    margin: 0em 0px !important;\r\n",
       "} \r\n",
       "table th {\r\n",
       "    text-align: start;\r\n",
       "}\r\n",
       "</style>"
      ]
     },
     "metadata": {},
     "output_type": "display_data"
    }
   ],
   "source": [
    "DROP TABLE IF EXISTS orders_6_classic_index;\n",
    "\n",
    "SELECT * \n",
    "INTO orders_6_classic_index\n",
    "FROM orders\n",
    "WHERE 1=0;\n",
    "\n",
    "CREATE CLUSTERED INDEX PK_orders_6_classic_index ON  orders_6_classic_index (o_orderkey);\n",
    "\n",
    "SELECT count(*) count_orders_6_classic_index from orders_6_classic_index;"
   ]
  },
  {
   "cell_type": "code",
   "execution_count": 3,
   "metadata": {
    "language_info": {
     "name": "polyglot-notebook"
    },
    "polyglot_notebook": {
     "kernelName": "sql-SS2025_tpch_test"
    }
   },
   "outputs": [
    {
     "data": {
      "text/plain": [
       "Commandes exécutées."
      ]
     },
     "metadata": {},
     "output_type": "display_data"
    },
    {
     "data": {
      "text/plain": [
       "(15000000 lignes affectées)"
      ]
     },
     "metadata": {},
     "output_type": "display_data"
    }
   ],
   "source": [
    "TRUNCATE TABLE orders_6_classic_index;\n",
    "GO\n",
    "\n",
    "INSERT INTO orders_6_classic_index WITH (TABLOCK)\n",
    "SELECT * from orders;\n",
    "GO"
   ]
  },
  {
   "cell_type": "markdown",
   "id": "42bf0f1e",
   "metadata": {},
   "source": [
    "First, just to compare performance with a local copy of data inside SQL Server for this case : Target with a classic clustered index, let's do the copy using TSQL only"
   ]
  },
  {
   "cell_type": "code",
   "execution_count": 4,
   "metadata": {
    "language_info": {
     "name": "polyglot-notebook"
    },
    "polyglot_notebook": {
     "kernelName": "sql-SS2025_tpch_test"
    }
   },
   "outputs": [
    {
     "data": {
      "text/plain": [
       "Commandes exécutées."
      ]
     },
     "metadata": {},
     "output_type": "display_data"
    },
    {
     "data": {
      "text/plain": [
       "(15000000 lignes affectées)"
      ]
     },
     "metadata": {},
     "output_type": "display_data"
    }
   ],
   "source": [
    "TRUNCATE TABLE orders_6_classic_index;\n",
    "GO\n",
    "\n",
    "INSERT INTO orders_6_classic_index ([o_orderkey], [o_custkey], [o_orderstatus], [o_totalprice], [o_orderdate], [o_orderpriority], [o_clerk], [o_shippriority], [o_comment])\n",
    "SELECT [o_orderkey], [o_custkey], [o_orderstatus], [o_totalprice], [o_orderdate], [o_orderpriority], [o_clerk], [o_shippriority], [o_comment]\n",
    "from [LOCALHOST].[tpch10_collation_bin2].dbo.orders_15M;"
   ]
  },
  {
   "cell_type": "markdown",
   "id": "c214f796",
   "metadata": {},
   "source": [
    "Now let's do the copy using FastTransfer still using the same target table with a classic clustered index."
   ]
  },
  {
   "cell_type": "code",
   "execution_count": 11,
   "id": "f1bab56c",
   "metadata": {
    "polyglot_notebook": {
     "kernelName": "pwsh"
    }
   },
   "outputs": [
    {
     "name": "stdout",
     "output_type": "stream",
     "text": [
      "2025-09-25T17:46:04.072 +02:00 -|- FastTransfer -|- MSS22_to_MSS25 -|- INFORMATION -|- tpch_test.dbo.orders_6_classic_index -|- FastTransfer - running in trial mode – will expires on 2025‑10‑20 (24 day(s) left).\n",
      "2025-09-25T17:46:04.082 +02:00 -|- FastTransfer -|- MSS22_to_MSS25 -|- INFORMATION -|- tpch_test.dbo.orders_6_classic_index -|- Starting\n",
      "2025-09-25T17:46:04.082 +02:00 -|- FastTransfer -|- MSS22_to_MSS25 -|- INFORMATION -|- tpch_test.dbo.orders_6_classic_index -|- FastTransfer Version : 0.13.10.0 Architecture : X64 - Framework : .NET 8.0.19\n",
      "2025-09-25T17:46:04.082 +02:00 -|- FastTransfer -|- MSS22_to_MSS25 -|- INFORMATION -|- tpch_test.dbo.orders_6_classic_index -|- OS : Microsoft Windows 10.0.26100\n",
      "2025-09-25T17:46:04.082 +02:00 -|- FastTransfer -|- MSS22_to_MSS25 -|- INFORMATION -|- tpch_test.dbo.orders_6_classic_index -|- Process ID : 43720\n",
      "2025-09-25T17:46:04.082 +02:00 -|- FastTransfer -|- MSS22_to_MSS25 -|- INFORMATION -|- tpch_test.dbo.orders_6_classic_index -|- Provided Run ID : MSS22_to_MSS25\n",
      "2025-09-25T17:46:04.082 +02:00 -|- FastTransfer -|- MSS22_to_MSS25 -|- INFORMATION -|- tpch_test.dbo.orders_6_classic_index -|- Source Connection Type : mssql\n",
      "2025-09-25T17:46:04.082 +02:00 -|- FastTransfer -|- MSS22_to_MSS25 -|- INFORMATION -|- tpch_test.dbo.orders_6_classic_index -|- Source SqlInstance : localhost\n",
      "2025-09-25T17:46:04.082 +02:00 -|- FastTransfer -|- MSS22_to_MSS25 -|- INFORMATION -|- tpch_test.dbo.orders_6_classic_index -|- Source Database : tpch10_collation_bin2\n",
      "2025-09-25T17:46:04.082 +02:00 -|- FastTransfer -|- MSS22_to_MSS25 -|- INFORMATION -|- tpch_test.dbo.orders_6_classic_index -|- Source Trusted Connection : True\n",
      "2025-09-25T17:46:04.082 +02:00 -|- FastTransfer -|- MSS22_to_MSS25 -|- INFORMATION -|- tpch_test.dbo.orders_6_classic_index -|- Source Schema : dbo\n",
      "2025-09-25T17:46:04.082 +02:00 -|- FastTransfer -|- MSS22_to_MSS25 -|- INFORMATION -|- tpch_test.dbo.orders_6_classic_index -|- Source Table : orders_15M\n",
      "2025-09-25T17:46:04.082 +02:00 -|- FastTransfer -|- MSS22_to_MSS25 -|- INFORMATION -|- tpch_test.dbo.orders_6_classic_index -|- Target Type : msbulk\n",
      "2025-09-25T17:46:04.082 +02:00 -|- FastTransfer -|- MSS22_to_MSS25 -|- INFORMATION -|- tpch_test.dbo.orders_6_classic_index -|- Target Server : localhost\\SS2025\n",
      "2025-09-25T17:46:04.082 +02:00 -|- FastTransfer -|- MSS22_to_MSS25 -|- INFORMATION -|- tpch_test.dbo.orders_6_classic_index -|- Target Database : tpch_test\n",
      "2025-09-25T17:46:04.082 +02:00 -|- FastTransfer -|- MSS22_to_MSS25 -|- INFORMATION -|- tpch_test.dbo.orders_6_classic_index -|- Target Schema : dbo\n",
      "2025-09-25T17:46:04.082 +02:00 -|- FastTransfer -|- MSS22_to_MSS25 -|- INFORMATION -|- tpch_test.dbo.orders_6_classic_index -|- Target Table : orders_6_classic_index\n",
      "2025-09-25T17:46:04.082 +02:00 -|- FastTransfer -|- MSS22_to_MSS25 -|- INFORMATION -|- tpch_test.dbo.orders_6_classic_index -|- Target Trusted Connection : True\n",
      "2025-09-25T17:46:04.082 +02:00 -|- FastTransfer -|- MSS22_to_MSS25 -|- INFORMATION -|- tpch_test.dbo.orders_6_classic_index -|- Columns Map Method : Name\n",
      "2025-09-25T17:46:04.083 +02:00 -|- FastTransfer -|- MSS22_to_MSS25 -|- INFORMATION -|- tpch_test.dbo.orders_6_classic_index -|- Degree : -2\n",
      "2025-09-25T17:46:04.083 +02:00 -|- FastTransfer -|- MSS22_to_MSS25 -|- INFORMATION -|- tpch_test.dbo.orders_6_classic_index -|- Distribute Method : Ntile\n",
      "2025-09-25T17:46:04.083 +02:00 -|- FastTransfer -|- MSS22_to_MSS25 -|- INFORMATION -|- tpch_test.dbo.orders_6_classic_index -|- Distribute Column : o_orderkey\n",
      "2025-09-25T17:46:04.083 +02:00 -|- FastTransfer -|- MSS22_to_MSS25 -|- INFORMATION -|- tpch_test.dbo.orders_6_classic_index -|- Bulkcopy Batch Size : 1048576\n",
      "2025-09-25T17:46:04.083 +02:00 -|- FastTransfer -|- MSS22_to_MSS25 -|- INFORMATION -|- tpch_test.dbo.orders_6_classic_index -|- Load Mode : Truncate\n",
      "2025-09-25T17:46:04.083 +02:00 -|- FastTransfer -|- MSS22_to_MSS25 -|- INFORMATION -|- tpch_test.dbo.orders_6_classic_index -|- Use Work Tables : False\n",
      "2025-09-25T17:46:04.083 +02:00 -|- FastTransfer -|- MSS22_to_MSS25 -|- INFORMATION -|- tpch_test.dbo.orders_6_classic_index -|- Encoding used : Unicode (UTF-8) - 65001 - utf-8\n",
      "2025-09-25T17:46:04.100 +02:00 -|- FastTransfer -|- MSS22_to_MSS25 -|- INFORMATION -|- tpch_test.dbo.orders_6_classic_index -|- Source Connection String : Data Source=localhost;Initial Catalog=tpch10_collation_bin2;Integrated Security=True;Connect Timeout=120;Encrypt=True;Trust Server Certificate=True;Application Name=FastTransfer;Application Intent=ReadOnly;Command Timeout=10800\n",
      "2025-09-25T17:46:04.100 +02:00 -|- FastTransfer -|- MSS22_to_MSS25 -|- INFORMATION -|- tpch_test.dbo.orders_6_classic_index -|- Target Connection String : Data Source=localhost\\SS2025;Initial Catalog=tpch_test;Integrated Security=True;Connect Timeout=120;Encrypt=True;Trust Server Certificate=True;Application Name=FastTransfer;Application Intent=ReadWrite;Command Timeout=10800\n",
      "2025-09-25T17:46:04.100 +02:00 -|- FastTransfer -|- MSS22_to_MSS25 -|- INFORMATION -|- tpch_test.dbo.orders_6_classic_index -|- Source Database Version : Microsoft SQL Server 2022 (RTM-CU20-GDR) (KB5065220) - 16.0.4212.1 (X64)  \tAug 13 2025 16:40:40  \tCopyright (C) 2022 Microsoft Corporation \tDeveloper Edition (64-bit) on Windows 10 Pro 10.0 <X64> (Build 26100: ) (Hypervisor) \n",
      "2025-09-25T17:46:04.101 +02:00 -|- FastTransfer -|- MSS22_to_MSS25 -|- INFORMATION -|- tpch_test.dbo.orders_6_classic_index -|- Target Database Version : Microsoft SQL Server 2025 (CTP2.1) - 17.0.800.3 (X64)  \tJun 12 2025 14:47:57  \tCopyright (C) 2025 Microsoft Corporation \tEnterprise Developer Edition (64-bit) on Windows 10 Pro 10.0 <X64> (Build 26100: ) (Hypervisor) \n",
      "2025-09-25T17:46:04.106 +02:00 -|- FastTransfer -|- MSS22_to_MSS25 -|- INFORMATION -|- tpch_test.dbo.orders_6_classic_index -|- Degree of parallelism was computed to 16 (=> 32\\2)\n",
      "2025-09-25T17:46:04.600 +02:00 -|- FastTransfer -|- MSS22_to_MSS25 -|- INFORMATION -|- tpch_test.dbo.orders_6_classic_index -|- Ntile DataSegments Computation Completed in 493 ms\n",
      "2025-09-25T17:46:04.603 +02:00 -|- FastTransfer -|- MSS22_to_MSS25 -|- INFORMATION -|- tpch_test.dbo.orders_6_classic_index -|- Start Loading Data using distribution method NTile\n",
      "2025-09-25T17:46:04.612 +02:00 -|- FastTransfer -|- MSS22_to_MSS25 -|- INFORMATION -|- tpch_test.dbo.orders_6_classic_index -|- Table \"dbo\".\"orders_6_classic_index\" has a Clustered Index. BulkCopy will use KeepNulls and UseInternalTransaction and avoid Tablock\n",
      "2025-09-25T17:46:04.612 +02:00 -|- FastTransfer -|- MSS22_to_MSS25 -|- INFORMATION -|- tpch_test.dbo.orders_6_classic_index -|- BulkCopy to \"dbo\".\"orders_6_classic_index\" with BatchSize = 1048576, Timeout = 3600\n",
      "2025-09-25T17:46:04.615 +02:00 -|- FastTransfer -|- MSS22_to_MSS25 -|- INFORMATION -|- tpch_test.dbo.orders_6_classic_index -|- Start Loading Data using distribution method NTile\n",
      "2025-09-25T17:46:04.616 +02:00 -|- FastTransfer -|- MSS22_to_MSS25 -|- INFORMATION -|- tpch_test.dbo.orders_6_classic_index -|- Table \"dbo\".\"orders_6_classic_index\" has a Clustered Index. BulkCopy will use KeepNulls and UseInternalTransaction and avoid Tablock\n",
      "2025-09-25T17:46:04.616 +02:00 -|- FastTransfer -|- MSS22_to_MSS25 -|- INFORMATION -|- tpch_test.dbo.orders_6_classic_index -|- BulkCopy to \"dbo\".\"orders_6_classic_index\" with BatchSize = 1048576, Timeout = 3600\n",
      "2025-09-25T17:46:04.618 +02:00 -|- FastTransfer -|- MSS22_to_MSS25 -|- INFORMATION -|- tpch_test.dbo.orders_6_classic_index -|- Start Loading Data using distribution method NTile\n",
      "2025-09-25T17:46:04.619 +02:00 -|- FastTransfer -|- MSS22_to_MSS25 -|- INFORMATION -|- tpch_test.dbo.orders_6_classic_index -|- Table \"dbo\".\"orders_6_classic_index\" has a Clustered Index. BulkCopy will use KeepNulls and UseInternalTransaction and avoid Tablock\n",
      "2025-09-25T17:46:04.619 +02:00 -|- FastTransfer -|- MSS22_to_MSS25 -|- INFORMATION -|- tpch_test.dbo.orders_6_classic_index -|- BulkCopy to \"dbo\".\"orders_6_classic_index\" with BatchSize = 1048576, Timeout = 3600\n",
      "2025-09-25T17:46:04.622 +02:00 -|- FastTransfer -|- MSS22_to_MSS25 -|- WARNING -|- tpch_test.dbo.orders_6_classic_index -|- Only 9 out of 10 columns were mapped by name to the target table \"dbo\".\"orders_6_classic_index\"\n",
      "2025-09-25T17:46:04.625 +02:00 -|- FastTransfer -|- MSS22_to_MSS25 -|- WARNING -|- tpch_test.dbo.orders_6_classic_index -|- Only 9 out of 10 columns were mapped by name to the target table \"dbo\".\"orders_6_classic_index\"\n",
      "2025-09-25T17:46:04.625 +02:00 -|- FastTransfer -|- MSS22_to_MSS25 -|- INFORMATION -|- tpch_test.dbo.orders_6_classic_index -|- Start Loading Data using distribution method NTile\n",
      "2025-09-25T17:46:04.626 +02:00 -|- FastTransfer -|- MSS22_to_MSS25 -|- INFORMATION -|- tpch_test.dbo.orders_6_classic_index -|- Table \"dbo\".\"orders_6_classic_index\" has a Clustered Index. BulkCopy will use KeepNulls and UseInternalTransaction and avoid Tablock\n",
      "2025-09-25T17:46:04.626 +02:00 -|- FastTransfer -|- MSS22_to_MSS25 -|- INFORMATION -|- tpch_test.dbo.orders_6_classic_index -|- BulkCopy to \"dbo\".\"orders_6_classic_index\" with BatchSize = 1048576, Timeout = 3600\n",
      "2025-09-25T17:46:04.628 +02:00 -|- FastTransfer -|- MSS22_to_MSS25 -|- WARNING -|- tpch_test.dbo.orders_6_classic_index -|- Only 9 out of 10 columns were mapped by name to the target table \"dbo\".\"orders_6_classic_index\"\n",
      "2025-09-25T17:46:04.630 +02:00 -|- FastTransfer -|- MSS22_to_MSS25 -|- WARNING -|- tpch_test.dbo.orders_6_classic_index -|- Only 9 out of 10 columns were mapped by name to the target table \"dbo\".\"orders_6_classic_index\"\n",
      "2025-09-25T17:46:04.630 +02:00 -|- FastTransfer -|- MSS22_to_MSS25 -|- INFORMATION -|- tpch_test.dbo.orders_6_classic_index -|- Start Loading Data using distribution method NTile\n",
      "2025-09-25T17:46:04.630 +02:00 -|- FastTransfer -|- MSS22_to_MSS25 -|- INFORMATION -|- tpch_test.dbo.orders_6_classic_index -|- Table \"dbo\".\"orders_6_classic_index\" has a Clustered Index. BulkCopy will use KeepNulls and UseInternalTransaction and avoid Tablock\n",
      "2025-09-25T17:46:04.631 +02:00 -|- FastTransfer -|- MSS22_to_MSS25 -|- INFORMATION -|- tpch_test.dbo.orders_6_classic_index -|- BulkCopy to \"dbo\".\"orders_6_classic_index\" with BatchSize = 1048576, Timeout = 3600\n",
      "2025-09-25T17:46:04.632 +02:00 -|- FastTransfer -|- MSS22_to_MSS25 -|- WARNING -|- tpch_test.dbo.orders_6_classic_index -|- Only 9 out of 10 columns were mapped by name to the target table \"dbo\".\"orders_6_classic_index\"\n",
      "2025-09-25T17:46:04.637 +02:00 -|- FastTransfer -|- MSS22_to_MSS25 -|- INFORMATION -|- tpch_test.dbo.orders_6_classic_index -|- Start Loading Data using distribution method NTile\n",
      "2025-09-25T17:46:04.638 +02:00 -|- FastTransfer -|- MSS22_to_MSS25 -|- INFORMATION -|- tpch_test.dbo.orders_6_classic_index -|- Table \"dbo\".\"orders_6_classic_index\" has a Clustered Index. BulkCopy will use KeepNulls and UseInternalTransaction and avoid Tablock\n",
      "2025-09-25T17:46:04.638 +02:00 -|- FastTransfer -|- MSS22_to_MSS25 -|- INFORMATION -|- tpch_test.dbo.orders_6_classic_index -|- BulkCopy to \"dbo\".\"orders_6_classic_index\" with BatchSize = 1048576, Timeout = 3600\n",
      "2025-09-25T17:46:04.641 +02:00 -|- FastTransfer -|- MSS22_to_MSS25 -|- WARNING -|- tpch_test.dbo.orders_6_classic_index -|- Only 9 out of 10 columns were mapped by name to the target table \"dbo\".\"orders_6_classic_index\"\n",
      "2025-09-25T17:46:04.641 +02:00 -|- FastTransfer -|- MSS22_to_MSS25 -|- INFORMATION -|- tpch_test.dbo.orders_6_classic_index -|- Start Loading Data using distribution method NTile\n",
      "2025-09-25T17:46:04.641 +02:00 -|- FastTransfer -|- MSS22_to_MSS25 -|- INFORMATION -|- tpch_test.dbo.orders_6_classic_index -|- Table \"dbo\".\"orders_6_classic_index\" has a Clustered Index. BulkCopy will use KeepNulls and UseInternalTransaction and avoid Tablock\n",
      "2025-09-25T17:46:04.641 +02:00 -|- FastTransfer -|- MSS22_to_MSS25 -|- INFORMATION -|- tpch_test.dbo.orders_6_classic_index -|- BulkCopy to \"dbo\".\"orders_6_classic_index\" with BatchSize = 1048576, Timeout = 3600\n",
      "2025-09-25T17:46:04.644 +02:00 -|- FastTransfer -|- MSS22_to_MSS25 -|- WARNING -|- tpch_test.dbo.orders_6_classic_index -|- Only 9 out of 10 columns were mapped by name to the target table \"dbo\".\"orders_6_classic_index\"\n",
      "2025-09-25T17:46:04.647 +02:00 -|- FastTransfer -|- MSS22_to_MSS25 -|- INFORMATION -|- tpch_test.dbo.orders_6_classic_index -|- Start Loading Data using distribution method NTile\n",
      "2025-09-25T17:46:04.647 +02:00 -|- FastTransfer -|- MSS22_to_MSS25 -|- INFORMATION -|- tpch_test.dbo.orders_6_classic_index -|- Table \"dbo\".\"orders_6_classic_index\" has a Clustered Index. BulkCopy will use KeepNulls and UseInternalTransaction and avoid Tablock\n",
      "2025-09-25T17:46:04.647 +02:00 -|- FastTransfer -|- MSS22_to_MSS25 -|- INFORMATION -|- tpch_test.dbo.orders_6_classic_index -|- BulkCopy to \"dbo\".\"orders_6_classic_index\" with BatchSize = 1048576, Timeout = 3600\n",
      "2025-09-25T17:46:04.649 +02:00 -|- FastTransfer -|- MSS22_to_MSS25 -|- WARNING -|- tpch_test.dbo.orders_6_classic_index -|- Only 9 out of 10 columns were mapped by name to the target table \"dbo\".\"orders_6_classic_index\"\n",
      "2025-09-25T17:46:04.650 +02:00 -|- FastTransfer -|- MSS22_to_MSS25 -|- INFORMATION -|- tpch_test.dbo.orders_6_classic_index -|- Start Loading Data using distribution method NTile\n",
      "2025-09-25T17:46:04.651 +02:00 -|- FastTransfer -|- MSS22_to_MSS25 -|- INFORMATION -|- tpch_test.dbo.orders_6_classic_index -|- Table \"dbo\".\"orders_6_classic_index\" has a Clustered Index. BulkCopy will use KeepNulls and UseInternalTransaction and avoid Tablock\n",
      "2025-09-25T17:46:04.651 +02:00 -|- FastTransfer -|- MSS22_to_MSS25 -|- INFORMATION -|- tpch_test.dbo.orders_6_classic_index -|- BulkCopy to \"dbo\".\"orders_6_classic_index\" with BatchSize = 1048576, Timeout = 3600\n",
      "2025-09-25T17:46:04.656 +02:00 -|- FastTransfer -|- MSS22_to_MSS25 -|- WARNING -|- tpch_test.dbo.orders_6_classic_index -|- Only 9 out of 10 columns were mapped by name to the target table \"dbo\".\"orders_6_classic_index\"\n",
      "2025-09-25T17:46:04.657 +02:00 -|- FastTransfer -|- MSS22_to_MSS25 -|- INFORMATION -|- tpch_test.dbo.orders_6_classic_index -|- Start Loading Data using distribution method NTile\n",
      "2025-09-25T17:46:04.658 +02:00 -|- FastTransfer -|- MSS22_to_MSS25 -|- INFORMATION -|- tpch_test.dbo.orders_6_classic_index -|- Table \"dbo\".\"orders_6_classic_index\" has a Clustered Index. BulkCopy will use KeepNulls and UseInternalTransaction and avoid Tablock\n",
      "2025-09-25T17:46:04.658 +02:00 -|- FastTransfer -|- MSS22_to_MSS25 -|- INFORMATION -|- tpch_test.dbo.orders_6_classic_index -|- BulkCopy to \"dbo\".\"orders_6_classic_index\" with BatchSize = 1048576, Timeout = 3600\n",
      "2025-09-25T17:46:04.660 +02:00 -|- FastTransfer -|- MSS22_to_MSS25 -|- WARNING -|- tpch_test.dbo.orders_6_classic_index -|- Only 9 out of 10 columns were mapped by name to the target table \"dbo\".\"orders_6_classic_index\"\n",
      "2025-09-25T17:46:04.662 +02:00 -|- FastTransfer -|- MSS22_to_MSS25 -|- INFORMATION -|- tpch_test.dbo.orders_6_classic_index -|- Start Loading Data using distribution method NTile\n",
      "2025-09-25T17:46:04.663 +02:00 -|- FastTransfer -|- MSS22_to_MSS25 -|- INFORMATION -|- tpch_test.dbo.orders_6_classic_index -|- Table \"dbo\".\"orders_6_classic_index\" has a Clustered Index. BulkCopy will use KeepNulls and UseInternalTransaction and avoid Tablock\n",
      "2025-09-25T17:46:04.663 +02:00 -|- FastTransfer -|- MSS22_to_MSS25 -|- INFORMATION -|- tpch_test.dbo.orders_6_classic_index -|- BulkCopy to \"dbo\".\"orders_6_classic_index\" with BatchSize = 1048576, Timeout = 3600\n",
      "2025-09-25T17:46:04.666 +02:00 -|- FastTransfer -|- MSS22_to_MSS25 -|- WARNING -|- tpch_test.dbo.orders_6_classic_index -|- Only 9 out of 10 columns were mapped by name to the target table \"dbo\".\"orders_6_classic_index\"\n",
      "2025-09-25T17:46:04.677 +02:00 -|- FastTransfer -|- MSS22_to_MSS25 -|- INFORMATION -|- tpch_test.dbo.orders_6_classic_index -|- Start Loading Data using distribution method NTile\n",
      "2025-09-25T17:46:04.678 +02:00 -|- FastTransfer -|- MSS22_to_MSS25 -|- INFORMATION -|- tpch_test.dbo.orders_6_classic_index -|- Table \"dbo\".\"orders_6_classic_index\" has a Clustered Index. BulkCopy will use KeepNulls and UseInternalTransaction and avoid Tablock\n",
      "2025-09-25T17:46:04.678 +02:00 -|- FastTransfer -|- MSS22_to_MSS25 -|- INFORMATION -|- tpch_test.dbo.orders_6_classic_index -|- BulkCopy to \"dbo\".\"orders_6_classic_index\" with BatchSize = 1048576, Timeout = 3600\n",
      "2025-09-25T17:46:04.682 +02:00 -|- FastTransfer -|- MSS22_to_MSS25 -|- WARNING -|- tpch_test.dbo.orders_6_classic_index -|- Only 9 out of 10 columns were mapped by name to the target table \"dbo\".\"orders_6_classic_index\"\n",
      "2025-09-25T17:46:04.687 +02:00 -|- FastTransfer -|- MSS22_to_MSS25 -|- INFORMATION -|- tpch_test.dbo.orders_6_classic_index -|- Start Loading Data using distribution method NTile\n",
      "2025-09-25T17:46:04.688 +02:00 -|- FastTransfer -|- MSS22_to_MSS25 -|- INFORMATION -|- tpch_test.dbo.orders_6_classic_index -|- Table \"dbo\".\"orders_6_classic_index\" has a Clustered Index. BulkCopy will use KeepNulls and UseInternalTransaction and avoid Tablock\n",
      "2025-09-25T17:46:04.688 +02:00 -|- FastTransfer -|- MSS22_to_MSS25 -|- INFORMATION -|- tpch_test.dbo.orders_6_classic_index -|- BulkCopy to \"dbo\".\"orders_6_classic_index\" with BatchSize = 1048576, Timeout = 3600\n",
      "2025-09-25T17:46:04.690 +02:00 -|- FastTransfer -|- MSS22_to_MSS25 -|- WARNING -|- tpch_test.dbo.orders_6_classic_index -|- Only 9 out of 10 columns were mapped by name to the target table \"dbo\".\"orders_6_classic_index\"\n",
      "2025-09-25T17:46:04.692 +02:00 -|- FastTransfer -|- MSS22_to_MSS25 -|- INFORMATION -|- tpch_test.dbo.orders_6_classic_index -|- Start Loading Data using distribution method NTile\n",
      "2025-09-25T17:46:04.692 +02:00 -|- FastTransfer -|- MSS22_to_MSS25 -|- INFORMATION -|- tpch_test.dbo.orders_6_classic_index -|- Table \"dbo\".\"orders_6_classic_index\" has a Clustered Index. BulkCopy will use KeepNulls and UseInternalTransaction and avoid Tablock\n",
      "2025-09-25T17:46:04.692 +02:00 -|- FastTransfer -|- MSS22_to_MSS25 -|- INFORMATION -|- tpch_test.dbo.orders_6_classic_index -|- BulkCopy to \"dbo\".\"orders_6_classic_index\" with BatchSize = 1048576, Timeout = 3600\n",
      "2025-09-25T17:46:04.694 +02:00 -|- FastTransfer -|- MSS22_to_MSS25 -|- WARNING -|- tpch_test.dbo.orders_6_classic_index -|- Only 9 out of 10 columns were mapped by name to the target table \"dbo\".\"orders_6_classic_index\"\n",
      "2025-09-25T17:46:04.701 +02:00 -|- FastTransfer -|- MSS22_to_MSS25 -|- INFORMATION -|- tpch_test.dbo.orders_6_classic_index -|- Start Loading Data using distribution method NTile\n",
      "2025-09-25T17:46:04.702 +02:00 -|- FastTransfer -|- MSS22_to_MSS25 -|- INFORMATION -|- tpch_test.dbo.orders_6_classic_index -|- Table \"dbo\".\"orders_6_classic_index\" has a Clustered Index. BulkCopy will use KeepNulls and UseInternalTransaction and avoid Tablock\n",
      "2025-09-25T17:46:04.702 +02:00 -|- FastTransfer -|- MSS22_to_MSS25 -|- INFORMATION -|- tpch_test.dbo.orders_6_classic_index -|- BulkCopy to \"dbo\".\"orders_6_classic_index\" with BatchSize = 1048576, Timeout = 3600\n",
      "2025-09-25T17:46:04.703 +02:00 -|- FastTransfer -|- MSS22_to_MSS25 -|- WARNING -|- tpch_test.dbo.orders_6_classic_index -|- Only 9 out of 10 columns were mapped by name to the target table \"dbo\".\"orders_6_classic_index\"\n",
      "2025-09-25T17:46:04.704 +02:00 -|- FastTransfer -|- MSS22_to_MSS25 -|- INFORMATION -|- tpch_test.dbo.orders_6_classic_index -|- Start Loading Data using distribution method NTile\n",
      "2025-09-25T17:46:04.704 +02:00 -|- FastTransfer -|- MSS22_to_MSS25 -|- INFORMATION -|- tpch_test.dbo.orders_6_classic_index -|- Table \"dbo\".\"orders_6_classic_index\" has a Clustered Index. BulkCopy will use KeepNulls and UseInternalTransaction and avoid Tablock\n",
      "2025-09-25T17:46:04.704 +02:00 -|- FastTransfer -|- MSS22_to_MSS25 -|- INFORMATION -|- tpch_test.dbo.orders_6_classic_index -|- BulkCopy to \"dbo\".\"orders_6_classic_index\" with BatchSize = 1048576, Timeout = 3600\n",
      "2025-09-25T17:46:04.705 +02:00 -|- FastTransfer -|- MSS22_to_MSS25 -|- WARNING -|- tpch_test.dbo.orders_6_classic_index -|- Only 9 out of 10 columns were mapped by name to the target table \"dbo\".\"orders_6_classic_index\"\n",
      "2025-09-25T17:46:09.521 +02:00 -|- FastTransfer -|- MSS22_to_MSS25 -|- INFORMATION -|- tpch_test.dbo.orders_6_classic_index -|- Completed Load Query 0 for o_orderkey between 1 and 4030401 : 937500 rows x 9 columns in 4918ms\n",
      "2025-09-25T17:46:10.850 +02:00 -|- FastTransfer -|- MSS22_to_MSS25 -|- INFORMATION -|- tpch_test.dbo.orders_6_classic_index -|- Completed Load Query 15 for o_orderkey between 66374081 and 119999974 : 937486 rows x 9 columns in 6246ms\n",
      "2025-09-25T17:46:10.974 +02:00 -|- FastTransfer -|- MSS22_to_MSS25 -|- INFORMATION -|- tpch_test.dbo.orders_6_classic_index -|- Completed Load Query 6 for o_orderkey between 24192838 and 28226534 : 937501 rows x 9 columns in 6371ms\n",
      "2025-09-25T17:46:11.044 +02:00 -|- FastTransfer -|- MSS22_to_MSS25 -|- INFORMATION -|- tpch_test.dbo.orders_6_classic_index -|- Completed Load Query 1 for o_orderkey between 4030402 and 8063175 : 937501 rows x 9 columns in 6442ms\n",
      "2025-09-25T17:46:11.048 +02:00 -|- FastTransfer -|- MSS22_to_MSS25 -|- INFORMATION -|- tpch_test.dbo.orders_6_classic_index -|- Completed Load Query 9 for o_orderkey between 36288230 and 40319808 : 937501 rows x 9 columns in 6445ms\n",
      "2025-09-25T17:46:11.049 +02:00 -|- FastTransfer -|- MSS22_to_MSS25 -|- INFORMATION -|- tpch_test.dbo.orders_6_classic_index -|- Completed Load Query 4 for o_orderkey between 16128902 and 20160199 : 937501 rows x 9 columns in 6447ms\n",
      "2025-09-25T17:46:11.071 +02:00 -|- FastTransfer -|- MSS22_to_MSS25 -|- INFORMATION -|- tpch_test.dbo.orders_6_classic_index -|- Completed Load Query 10 for o_orderkey between 40319809 and 44350019 : 937501 rows x 9 columns in 6467ms\n",
      "2025-09-25T17:46:11.080 +02:00 -|- FastTransfer -|- MSS22_to_MSS25 -|- INFORMATION -|- tpch_test.dbo.orders_6_classic_index -|- Completed Load Query 11 for o_orderkey between 44350020 and 48381669 : 937501 rows x 9 columns in 6476ms\n",
      "2025-09-25T17:46:11.082 +02:00 -|- FastTransfer -|- MSS22_to_MSS25 -|- INFORMATION -|- tpch_test.dbo.orders_6_classic_index -|- Completed Load Query 12 for o_orderkey between 48381670 and 52413159 : 937501 rows x 9 columns in 6478ms\n",
      "2025-09-25T17:46:11.095 +02:00 -|- FastTransfer -|- MSS22_to_MSS25 -|- INFORMATION -|- tpch_test.dbo.orders_6_classic_index -|- Completed Load Query 8 for o_orderkey between 32255682 and 36288229 : 937501 rows x 9 columns in 6491ms\n",
      "2025-09-25T17:46:11.095 +02:00 -|- FastTransfer -|- MSS22_to_MSS25 -|- INFORMATION -|- tpch_test.dbo.orders_6_classic_index -|- Completed Load Query 5 for o_orderkey between 20160224 and 24192837 : 937501 rows x 9 columns in 6493ms\n",
      "2025-09-25T17:46:11.110 +02:00 -|- FastTransfer -|- MSS22_to_MSS25 -|- INFORMATION -|- tpch_test.dbo.orders_6_classic_index -|- Completed Load Query 7 for o_orderkey between 28226535 and 32255681 : 937501 rows x 9 columns in 6507ms\n",
      "2025-09-25T17:46:11.114 +02:00 -|- FastTransfer -|- MSS22_to_MSS25 -|- INFORMATION -|- tpch_test.dbo.orders_6_classic_index -|- Completed Load Query 14 for o_orderkey between 56445282 and 66373955 : 937501 rows x 9 columns in 6510ms\n",
      "2025-09-25T17:46:12.033 +02:00 -|- FastTransfer -|- MSS22_to_MSS25 -|- INFORMATION -|- tpch_test.dbo.orders_6_classic_index -|- Completed Load Query 2 for o_orderkey between 8063200 and 12095555 : 937501 rows x 9 columns in 7430ms\n",
      "2025-09-25T17:46:12.092 +02:00 -|- FastTransfer -|- MSS22_to_MSS25 -|- INFORMATION -|- tpch_test.dbo.orders_6_classic_index -|- Completed Load Query 13 for o_orderkey between 52413184 and 56445281 : 937501 rows x 9 columns in 7488ms\n",
      "2025-09-25T17:46:12.902 +02:00 -|- FastTransfer -|- MSS22_to_MSS25 -|- INFORMATION -|- tpch_test.dbo.orders_6_classic_index -|- Completed Load Query 3 for o_orderkey between 12095556 and 16128901 : 937501 rows x 9 columns in 8299ms\n",
      "2025-09-25T17:46:12.903 +02:00 -|- FastTransfer -|- MSS22_to_MSS25 -|- INFORMATION -|- tpch_test.dbo.orders_6_classic_index -|- Total rows : 15000000\n",
      "2025-09-25T17:46:12.903 +02:00 -|- FastTransfer -|- MSS22_to_MSS25 -|- INFORMATION -|- tpch_test.dbo.orders_6_classic_index -|- Total columns : 9\n",
      "2025-09-25T17:46:12.903 +02:00 -|- FastTransfer -|- MSS22_to_MSS25 -|- INFORMATION -|- tpch_test.dbo.orders_6_classic_index -|- Total cells : 135000000\n",
      "2025-09-25T17:46:12.903 +02:00 -|- FastTransfer -|- MSS22_to_MSS25 -|- INFORMATION -|- tpch_test.dbo.orders_6_classic_index -|- Rows Throughput : 1705257 rows/s\n",
      "2025-09-25T17:46:12.903 +02:00 -|- FastTransfer -|- MSS22_to_MSS25 -|- INFORMATION -|- tpch_test.dbo.orders_6_classic_index -|- Cells Throughput : 15347330 cells/s\n",
      "2025-09-25T17:46:12.903 +02:00 -|- FastTransfer -|- MSS22_to_MSS25 -|- INFORMATION -|- tpch_test.dbo.orders_6_classic_index -|- Transfert time : Elapsed=8796 ms\n",
      "2025-09-25T17:46:12.903 +02:00 -|- FastTransfer -|- MSS22_to_MSS25 -|- INFORMATION -|- tpch_test.dbo.orders_6_classic_index -|- Total time : Elapsed=8997 ms\n",
      "2025-09-25T17:46:12.903 +02:00 -|- FastTransfer -|- MSS22_to_MSS25 -|- INFORMATION -|- tpch_test.dbo.orders_6_classic_index -|- Completed Load\n"
     ]
    }
   ],
   "source": [
    "cd D:\\FastTransfer\n",
    "\n",
    ".\\FastTransfer.exe `\n",
    "--sourceconnectiontype \"mssql\" `\n",
    "--sourceserver \"localhost\" `\n",
    "--sourcedatabase \"tpch10_collation_bin2\" `\n",
    "--sourcetrusted `\n",
    "--sourceschema \"dbo\" `\n",
    "--sourcetable \"orders_15M\" `\n",
    "`\n",
    "--targetconnectiontype \"msbulk\" `\n",
    "--targetserver \"localhost\\SS2025\" `\n",
    "--targettrusted `\n",
    "--targetdatabase \"tpch_test\" `\n",
    "--targetschema \"dbo\" `\n",
    "--targettable \"orders_6_classic_index\" `\n",
    "`\n",
    "--loadmode \"Truncate\" `\n",
    "--mapmethod \"Name\" `\n",
    "--method \"Ntile\" `\n",
    "--distributekeycolumn \"o_orderkey\" `\n",
    "--degree -2 `\n",
    "--runid \"MSS22_to_MSS25\""
   ]
  },
  {
   "cell_type": "markdown",
   "id": "bcc9f359",
   "metadata": {},
   "source": [
    "#### Target orders with a primary key"
   ]
  },
  {
   "cell_type": "code",
   "execution_count": 16,
   "id": "01570a9d",
   "metadata": {
    "polyglot_notebook": {
     "kernelName": "sql-SS2025_tpch_test"
    }
   },
   "outputs": [
    {
     "data": {
      "text/plain": [
       "(0 lignes affectées)"
      ]
     },
     "metadata": {},
     "output_type": "display_data"
    },
    {
     "data": {
      "text/plain": [
       "(1 ligne affectée)"
      ]
     },
     "metadata": {},
     "output_type": "display_data"
    },
    {
     "data": {
      "text/csv": [
       "count_orders_7_primarykey\r\n",
       "0\r\n"
      ],
      "text/html": [
       "<table><thead><tr><td><span>count_orders_7_primarykey</span></td></tr></thead><tbody><tr><td><div class=\"dni-plaintext\"><pre>0</pre></div></td></tr></tbody></table><style>\r\n",
       ".dni-code-hint {\r\n",
       "    font-style: italic;\r\n",
       "    overflow: hidden;\r\n",
       "    white-space: nowrap;\r\n",
       "}\r\n",
       ".dni-treeview {\r\n",
       "    white-space: nowrap;\r\n",
       "}\r\n",
       ".dni-treeview td {\r\n",
       "    vertical-align: top;\r\n",
       "    text-align: start;\r\n",
       "}\r\n",
       "details.dni-treeview {\r\n",
       "    padding-left: 1em;\r\n",
       "}\r\n",
       "table td {\r\n",
       "    text-align: start;\r\n",
       "}\r\n",
       "table tr { \r\n",
       "    vertical-align: top; \r\n",
       "    margin: 0em 0px;\r\n",
       "}\r\n",
       "table tr td pre \r\n",
       "{ \r\n",
       "    vertical-align: top !important; \r\n",
       "    margin: 0em 0px !important;\r\n",
       "} \r\n",
       "table th {\r\n",
       "    text-align: start;\r\n",
       "}\r\n",
       "</style>"
      ]
     },
     "metadata": {},
     "output_type": "display_data"
    }
   ],
   "source": [
    "DROP TABLE IF EXISTS orders_7_primarykey;\n",
    "\n",
    "SELECT * \n",
    "INTO orders_7_primarykey\n",
    "FROM orders\n",
    "WHERE 1=0;\n",
    "\n",
    "ALTER TABLE  orders_7_primarykey ADD CONSTRAINT PK_orders_7_primarykey PRIMARY KEY CLUSTERED (o_orderkey);\n",
    "\n",
    "SELECT count(*) count_orders_7_primarykey from orders_7_primarykey;"
   ]
  },
  {
   "cell_type": "code",
   "execution_count": 17,
   "id": "f6091ae9",
   "metadata": {
    "polyglot_notebook": {
     "kernelName": "pwsh"
    }
   },
   "outputs": [
    {
     "name": "stdout",
     "output_type": "stream",
     "text": [
      "2025-09-01T22:34:09.768 +02:00 -|- FastTransfer -|- MSS22_to_MSS25 -|- INFORMATION -|- tpch_test.dbo.orders_7_primarykey -|- FastTransfer - running in trial mode – will expires on 2025‑09‑19 (17 day(s) left).\n",
      "2025-09-01T22:34:09.778 +02:00 -|- FastTransfer -|- MSS22_to_MSS25 -|- INFORMATION -|- tpch_test.dbo.orders_7_primarykey -|- Starting\n",
      "2025-09-01T22:34:09.778 +02:00 -|- FastTransfer -|- MSS22_to_MSS25 -|- INFORMATION -|- tpch_test.dbo.orders_7_primarykey -|- FastTransfer Version : 0.13.9.0 Architecture : X64 - Framework : .NET 8.0.19\n",
      "2025-09-01T22:34:09.778 +02:00 -|- FastTransfer -|- MSS22_to_MSS25 -|- INFORMATION -|- tpch_test.dbo.orders_7_primarykey -|- OS : Microsoft Windows 10.0.26100\n",
      "2025-09-01T22:34:09.778 +02:00 -|- FastTransfer -|- MSS22_to_MSS25 -|- INFORMATION -|- tpch_test.dbo.orders_7_primarykey -|- Process ID : 30716\n",
      "2025-09-01T22:34:09.778 +02:00 -|- FastTransfer -|- MSS22_to_MSS25 -|- INFORMATION -|- tpch_test.dbo.orders_7_primarykey -|- Provided Run ID : MSS22_to_MSS25\n",
      "2025-09-01T22:34:09.778 +02:00 -|- FastTransfer -|- MSS22_to_MSS25 -|- INFORMATION -|- tpch_test.dbo.orders_7_primarykey -|- Source Connection Type : mssql\n",
      "2025-09-01T22:34:09.778 +02:00 -|- FastTransfer -|- MSS22_to_MSS25 -|- INFORMATION -|- tpch_test.dbo.orders_7_primarykey -|- Source SqlInstance : localhost\n",
      "2025-09-01T22:34:09.778 +02:00 -|- FastTransfer -|- MSS22_to_MSS25 -|- INFORMATION -|- tpch_test.dbo.orders_7_primarykey -|- Source Database : tpch10_collation_bin2\n",
      "2025-09-01T22:34:09.778 +02:00 -|- FastTransfer -|- MSS22_to_MSS25 -|- INFORMATION -|- tpch_test.dbo.orders_7_primarykey -|- Source Trusted Connection : True\n",
      "2025-09-01T22:34:09.778 +02:00 -|- FastTransfer -|- MSS22_to_MSS25 -|- INFORMATION -|- tpch_test.dbo.orders_7_primarykey -|- Source Schema : dbo\n",
      "2025-09-01T22:34:09.778 +02:00 -|- FastTransfer -|- MSS22_to_MSS25 -|- INFORMATION -|- tpch_test.dbo.orders_7_primarykey -|- Source Table : orders_15M\n",
      "2025-09-01T22:34:09.778 +02:00 -|- FastTransfer -|- MSS22_to_MSS25 -|- INFORMATION -|- tpch_test.dbo.orders_7_primarykey -|- Target Type : msbulk\n",
      "2025-09-01T22:34:09.778 +02:00 -|- FastTransfer -|- MSS22_to_MSS25 -|- INFORMATION -|- tpch_test.dbo.orders_7_primarykey -|- Target Server : localhost\\SS2025\n",
      "2025-09-01T22:34:09.778 +02:00 -|- FastTransfer -|- MSS22_to_MSS25 -|- INFORMATION -|- tpch_test.dbo.orders_7_primarykey -|- Target Database : tpch_test\n",
      "2025-09-01T22:34:09.778 +02:00 -|- FastTransfer -|- MSS22_to_MSS25 -|- INFORMATION -|- tpch_test.dbo.orders_7_primarykey -|- Target Schema : dbo\n",
      "2025-09-01T22:34:09.778 +02:00 -|- FastTransfer -|- MSS22_to_MSS25 -|- INFORMATION -|- tpch_test.dbo.orders_7_primarykey -|- Target Table : orders_7_primarykey\n",
      "2025-09-01T22:34:09.778 +02:00 -|- FastTransfer -|- MSS22_to_MSS25 -|- INFORMATION -|- tpch_test.dbo.orders_7_primarykey -|- Target Trusted Connection : True\n",
      "2025-09-01T22:34:09.778 +02:00 -|- FastTransfer -|- MSS22_to_MSS25 -|- INFORMATION -|- tpch_test.dbo.orders_7_primarykey -|- Columns Map Method : Name\n",
      "2025-09-01T22:34:09.779 +02:00 -|- FastTransfer -|- MSS22_to_MSS25 -|- INFORMATION -|- tpch_test.dbo.orders_7_primarykey -|- Degree : -2\n",
      "2025-09-01T22:34:09.779 +02:00 -|- FastTransfer -|- MSS22_to_MSS25 -|- INFORMATION -|- tpch_test.dbo.orders_7_primarykey -|- Distribute Method : Ntile\n",
      "2025-09-01T22:34:09.779 +02:00 -|- FastTransfer -|- MSS22_to_MSS25 -|- INFORMATION -|- tpch_test.dbo.orders_7_primarykey -|- Distribute Column : o_orderkey\n",
      "2025-09-01T22:34:09.779 +02:00 -|- FastTransfer -|- MSS22_to_MSS25 -|- INFORMATION -|- tpch_test.dbo.orders_7_primarykey -|- Bulkcopy Batch Size : 1048576\n",
      "2025-09-01T22:34:09.779 +02:00 -|- FastTransfer -|- MSS22_to_MSS25 -|- INFORMATION -|- tpch_test.dbo.orders_7_primarykey -|- Load Mode : Truncate\n",
      "2025-09-01T22:34:09.779 +02:00 -|- FastTransfer -|- MSS22_to_MSS25 -|- INFORMATION -|- tpch_test.dbo.orders_7_primarykey -|- Use Work Tables : False\n",
      "2025-09-01T22:34:09.779 +02:00 -|- FastTransfer -|- MSS22_to_MSS25 -|- INFORMATION -|- tpch_test.dbo.orders_7_primarykey -|- Encoding used : Unicode (UTF-8) - 65001 - utf-8\n",
      "2025-09-01T22:34:09.797 +02:00 -|- FastTransfer -|- MSS22_to_MSS25 -|- INFORMATION -|- tpch_test.dbo.orders_7_primarykey -|- Source Connection String : Data Source=localhost;Initial Catalog=tpch10_collation_bin2;Integrated Security=True;Connect Timeout=120;Encrypt=True;Trust Server Certificate=True;Application Name=FastTransfer;Application Intent=ReadOnly;Command Timeout=10800\n",
      "2025-09-01T22:34:09.797 +02:00 -|- FastTransfer -|- MSS22_to_MSS25 -|- INFORMATION -|- tpch_test.dbo.orders_7_primarykey -|- Target Connection String : Data Source=localhost\\SS2025;Initial Catalog=tpch_test;Integrated Security=True;Connect Timeout=120;Encrypt=True;Trust Server Certificate=True;Application Name=FastTransfer;Application Intent=ReadWrite;Command Timeout=10800\n",
      "2025-09-01T22:34:09.797 +02:00 -|- FastTransfer -|- MSS22_to_MSS25 -|- INFORMATION -|- tpch_test.dbo.orders_7_primarykey -|- Source Database Version : Microsoft SQL Server 2022 (RTM-CU20-GDR) (KB5063814) - 16.0.4210.1 (X64)  \tJul 11 2025 13:04:02  \tCopyright (C) 2022 Microsoft Corporation \tDeveloper Edition (64-bit) on Windows 10 Pro 10.0 <X64> (Build 26100: ) (Hypervisor) \n",
      "2025-09-01T22:34:09.797 +02:00 -|- FastTransfer -|- MSS22_to_MSS25 -|- INFORMATION -|- tpch_test.dbo.orders_7_primarykey -|- Target Database Version : Microsoft SQL Server 2025 (CTP2.1) - 17.0.800.3 (X64)  \tJun 12 2025 14:47:57  \tCopyright (C) 2025 Microsoft Corporation \tEnterprise Developer Edition (64-bit) on Windows 10 Pro 10.0 <X64> (Build 26100: ) (Hypervisor) \n",
      "2025-09-01T22:34:09.803 +02:00 -|- FastTransfer -|- MSS22_to_MSS25 -|- INFORMATION -|- tpch_test.dbo.orders_7_primarykey -|- Degree of parallelism was computed to 16 (=> 32\\2)\n",
      "2025-09-01T22:34:10.258 +02:00 -|- FastTransfer -|- MSS22_to_MSS25 -|- INFORMATION -|- tpch_test.dbo.orders_7_primarykey -|- Ntile DataSegments Computation Completed in 455 ms\n",
      "2025-09-01T22:34:10.261 +02:00 -|- FastTransfer -|- MSS22_to_MSS25 -|- INFORMATION -|- tpch_test.dbo.orders_7_primarykey -|- Start Loading Data using distribution method NTile\n",
      "2025-09-01T22:34:10.270 +02:00 -|- FastTransfer -|- MSS22_to_MSS25 -|- INFORMATION -|- tpch_test.dbo.orders_7_primarykey -|- Start Loading Data using distribution method NTile\n",
      "2025-09-01T22:34:10.271 +02:00 -|- FastTransfer -|- MSS22_to_MSS25 -|- INFORMATION -|- tpch_test.dbo.orders_7_primarykey -|- Table \"dbo\".\"orders_7_primarykey\" has a Clustered Index. BulkCopy will use KeepNulls and UseInternalTransaction and avoid Tablock\n",
      "2025-09-01T22:34:10.271 +02:00 -|- FastTransfer -|- MSS22_to_MSS25 -|- INFORMATION -|- tpch_test.dbo.orders_7_primarykey -|- Table \"dbo\".\"orders_7_primarykey\" has a Clustered Index. BulkCopy will use KeepNulls and UseInternalTransaction and avoid Tablock\n",
      "2025-09-01T22:34:10.271 +02:00 -|- FastTransfer -|- MSS22_to_MSS25 -|- INFORMATION -|- tpch_test.dbo.orders_7_primarykey -|- BulkCopy to \"dbo\".\"orders_7_primarykey\" with BatchSize = 1048576, Timeout = 3600\n",
      "2025-09-01T22:34:10.271 +02:00 -|- FastTransfer -|- MSS22_to_MSS25 -|- INFORMATION -|- tpch_test.dbo.orders_7_primarykey -|- BulkCopy to \"dbo\".\"orders_7_primarykey\" with BatchSize = 1048576, Timeout = 3600\n",
      "2025-09-01T22:34:10.274 +02:00 -|- FastTransfer -|- MSS22_to_MSS25 -|- INFORMATION -|- tpch_test.dbo.orders_7_primarykey -|- Start Loading Data using distribution method NTile\n",
      "2025-09-01T22:34:10.275 +02:00 -|- FastTransfer -|- MSS22_to_MSS25 -|- INFORMATION -|- tpch_test.dbo.orders_7_primarykey -|- Table \"dbo\".\"orders_7_primarykey\" has a Clustered Index. BulkCopy will use KeepNulls and UseInternalTransaction and avoid Tablock\n",
      "2025-09-01T22:34:10.275 +02:00 -|- FastTransfer -|- MSS22_to_MSS25 -|- INFORMATION -|- tpch_test.dbo.orders_7_primarykey -|- BulkCopy to \"dbo\".\"orders_7_primarykey\" with BatchSize = 1048576, Timeout = 3600\n",
      "2025-09-01T22:34:10.279 +02:00 -|- FastTransfer -|- MSS22_to_MSS25 -|- INFORMATION -|- tpch_test.dbo.orders_7_primarykey -|- Start Loading Data using distribution method NTile\n",
      "2025-09-01T22:34:10.279 +02:00 -|- FastTransfer -|- MSS22_to_MSS25 -|- INFORMATION -|- tpch_test.dbo.orders_7_primarykey -|- Table \"dbo\".\"orders_7_primarykey\" has a Clustered Index. BulkCopy will use KeepNulls and UseInternalTransaction and avoid Tablock\n",
      "2025-09-01T22:34:10.279 +02:00 -|- FastTransfer -|- MSS22_to_MSS25 -|- INFORMATION -|- tpch_test.dbo.orders_7_primarykey -|- BulkCopy to \"dbo\".\"orders_7_primarykey\" with BatchSize = 1048576, Timeout = 3600\n",
      "2025-09-01T22:34:10.281 +02:00 -|- FastTransfer -|- MSS22_to_MSS25 -|- WARNING -|- tpch_test.dbo.orders_7_primarykey -|- Only 9 out of 10 columns were mapped by name to the target table \"dbo\".\"orders_7_primarykey\"\n",
      "2025-09-01T22:34:10.281 +02:00 -|- FastTransfer -|- MSS22_to_MSS25 -|- WARNING -|- tpch_test.dbo.orders_7_primarykey -|- Only 9 out of 10 columns were mapped by name to the target table \"dbo\".\"orders_7_primarykey\"\n",
      "2025-09-01T22:34:10.281 +02:00 -|- FastTransfer -|- MSS22_to_MSS25 -|- INFORMATION -|- tpch_test.dbo.orders_7_primarykey -|- Start Loading Data using distribution method NTile\n",
      "2025-09-01T22:34:10.282 +02:00 -|- FastTransfer -|- MSS22_to_MSS25 -|- INFORMATION -|- tpch_test.dbo.orders_7_primarykey -|- Table \"dbo\".\"orders_7_primarykey\" has a Clustered Index. BulkCopy will use KeepNulls and UseInternalTransaction and avoid Tablock\n",
      "2025-09-01T22:34:10.282 +02:00 -|- FastTransfer -|- MSS22_to_MSS25 -|- INFORMATION -|- tpch_test.dbo.orders_7_primarykey -|- BulkCopy to \"dbo\".\"orders_7_primarykey\" with BatchSize = 1048576, Timeout = 3600\n",
      "2025-09-01T22:34:10.283 +02:00 -|- FastTransfer -|- MSS22_to_MSS25 -|- WARNING -|- tpch_test.dbo.orders_7_primarykey -|- Only 9 out of 10 columns were mapped by name to the target table \"dbo\".\"orders_7_primarykey\"\n",
      "2025-09-01T22:34:10.284 +02:00 -|- FastTransfer -|- MSS22_to_MSS25 -|- WARNING -|- tpch_test.dbo.orders_7_primarykey -|- Only 9 out of 10 columns were mapped by name to the target table \"dbo\".\"orders_7_primarykey\"\n",
      "2025-09-01T22:34:10.287 +02:00 -|- FastTransfer -|- MSS22_to_MSS25 -|- INFORMATION -|- tpch_test.dbo.orders_7_primarykey -|- Start Loading Data using distribution method NTile\n",
      "2025-09-01T22:34:10.288 +02:00 -|- FastTransfer -|- MSS22_to_MSS25 -|- INFORMATION -|- tpch_test.dbo.orders_7_primarykey -|- Table \"dbo\".\"orders_7_primarykey\" has a Clustered Index. BulkCopy will use KeepNulls and UseInternalTransaction and avoid Tablock\n",
      "2025-09-01T22:34:10.288 +02:00 -|- FastTransfer -|- MSS22_to_MSS25 -|- INFORMATION -|- tpch_test.dbo.orders_7_primarykey -|- BulkCopy to \"dbo\".\"orders_7_primarykey\" with BatchSize = 1048576, Timeout = 3600\n",
      "2025-09-01T22:34:10.288 +02:00 -|- FastTransfer -|- MSS22_to_MSS25 -|- WARNING -|- tpch_test.dbo.orders_7_primarykey -|- Only 9 out of 10 columns were mapped by name to the target table \"dbo\".\"orders_7_primarykey\"\n",
      "2025-09-01T22:34:10.290 +02:00 -|- FastTransfer -|- MSS22_to_MSS25 -|- WARNING -|- tpch_test.dbo.orders_7_primarykey -|- Only 9 out of 10 columns were mapped by name to the target table \"dbo\".\"orders_7_primarykey\"\n",
      "2025-09-01T22:34:10.291 +02:00 -|- FastTransfer -|- MSS22_to_MSS25 -|- INFORMATION -|- tpch_test.dbo.orders_7_primarykey -|- Start Loading Data using distribution method NTile\n",
      "2025-09-01T22:34:10.291 +02:00 -|- FastTransfer -|- MSS22_to_MSS25 -|- INFORMATION -|- tpch_test.dbo.orders_7_primarykey -|- Table \"dbo\".\"orders_7_primarykey\" has a Clustered Index. BulkCopy will use KeepNulls and UseInternalTransaction and avoid Tablock\n",
      "2025-09-01T22:34:10.291 +02:00 -|- FastTransfer -|- MSS22_to_MSS25 -|- INFORMATION -|- tpch_test.dbo.orders_7_primarykey -|- BulkCopy to \"dbo\".\"orders_7_primarykey\" with BatchSize = 1048576, Timeout = 3600\n",
      "2025-09-01T22:34:10.292 +02:00 -|- FastTransfer -|- MSS22_to_MSS25 -|- WARNING -|- tpch_test.dbo.orders_7_primarykey -|- Only 9 out of 10 columns were mapped by name to the target table \"dbo\".\"orders_7_primarykey\"\n",
      "2025-09-01T22:34:10.299 +02:00 -|- FastTransfer -|- MSS22_to_MSS25 -|- INFORMATION -|- tpch_test.dbo.orders_7_primarykey -|- Start Loading Data using distribution method NTile\n",
      "2025-09-01T22:34:10.300 +02:00 -|- FastTransfer -|- MSS22_to_MSS25 -|- INFORMATION -|- tpch_test.dbo.orders_7_primarykey -|- Table \"dbo\".\"orders_7_primarykey\" has a Clustered Index. BulkCopy will use KeepNulls and UseInternalTransaction and avoid Tablock\n",
      "2025-09-01T22:34:10.300 +02:00 -|- FastTransfer -|- MSS22_to_MSS25 -|- INFORMATION -|- tpch_test.dbo.orders_7_primarykey -|- BulkCopy to \"dbo\".\"orders_7_primarykey\" with BatchSize = 1048576, Timeout = 3600\n",
      "2025-09-01T22:34:10.301 +02:00 -|- FastTransfer -|- MSS22_to_MSS25 -|- WARNING -|- tpch_test.dbo.orders_7_primarykey -|- Only 9 out of 10 columns were mapped by name to the target table \"dbo\".\"orders_7_primarykey\"\n",
      "2025-09-01T22:34:10.308 +02:00 -|- FastTransfer -|- MSS22_to_MSS25 -|- INFORMATION -|- tpch_test.dbo.orders_7_primarykey -|- Start Loading Data using distribution method NTile\n",
      "2025-09-01T22:34:10.308 +02:00 -|- FastTransfer -|- MSS22_to_MSS25 -|- INFORMATION -|- tpch_test.dbo.orders_7_primarykey -|- Table \"dbo\".\"orders_7_primarykey\" has a Clustered Index. BulkCopy will use KeepNulls and UseInternalTransaction and avoid Tablock\n",
      "2025-09-01T22:34:10.309 +02:00 -|- FastTransfer -|- MSS22_to_MSS25 -|- INFORMATION -|- tpch_test.dbo.orders_7_primarykey -|- BulkCopy to \"dbo\".\"orders_7_primarykey\" with BatchSize = 1048576, Timeout = 3600\n",
      "2025-09-01T22:34:10.311 +02:00 -|- FastTransfer -|- MSS22_to_MSS25 -|- WARNING -|- tpch_test.dbo.orders_7_primarykey -|- Only 9 out of 10 columns were mapped by name to the target table \"dbo\".\"orders_7_primarykey\"\n",
      "2025-09-01T22:34:10.311 +02:00 -|- FastTransfer -|- MSS22_to_MSS25 -|- INFORMATION -|- tpch_test.dbo.orders_7_primarykey -|- Start Loading Data using distribution method NTile\n",
      "2025-09-01T22:34:10.312 +02:00 -|- FastTransfer -|- MSS22_to_MSS25 -|- INFORMATION -|- tpch_test.dbo.orders_7_primarykey -|- Table \"dbo\".\"orders_7_primarykey\" has a Clustered Index. BulkCopy will use KeepNulls and UseInternalTransaction and avoid Tablock\n",
      "2025-09-01T22:34:10.312 +02:00 -|- FastTransfer -|- MSS22_to_MSS25 -|- INFORMATION -|- tpch_test.dbo.orders_7_primarykey -|- BulkCopy to \"dbo\".\"orders_7_primarykey\" with BatchSize = 1048576, Timeout = 3600\n",
      "2025-09-01T22:34:10.314 +02:00 -|- FastTransfer -|- MSS22_to_MSS25 -|- WARNING -|- tpch_test.dbo.orders_7_primarykey -|- Only 9 out of 10 columns were mapped by name to the target table \"dbo\".\"orders_7_primarykey\"\n",
      "2025-09-01T22:34:10.319 +02:00 -|- FastTransfer -|- MSS22_to_MSS25 -|- INFORMATION -|- tpch_test.dbo.orders_7_primarykey -|- Start Loading Data using distribution method NTile\n",
      "2025-09-01T22:34:10.320 +02:00 -|- FastTransfer -|- MSS22_to_MSS25 -|- INFORMATION -|- tpch_test.dbo.orders_7_primarykey -|- Table \"dbo\".\"orders_7_primarykey\" has a Clustered Index. BulkCopy will use KeepNulls and UseInternalTransaction and avoid Tablock\n",
      "2025-09-01T22:34:10.320 +02:00 -|- FastTransfer -|- MSS22_to_MSS25 -|- INFORMATION -|- tpch_test.dbo.orders_7_primarykey -|- BulkCopy to \"dbo\".\"orders_7_primarykey\" with BatchSize = 1048576, Timeout = 3600\n",
      "2025-09-01T22:34:10.321 +02:00 -|- FastTransfer -|- MSS22_to_MSS25 -|- WARNING -|- tpch_test.dbo.orders_7_primarykey -|- Only 9 out of 10 columns were mapped by name to the target table \"dbo\".\"orders_7_primarykey\"\n",
      "2025-09-01T22:34:10.323 +02:00 -|- FastTransfer -|- MSS22_to_MSS25 -|- INFORMATION -|- tpch_test.dbo.orders_7_primarykey -|- Start Loading Data using distribution method NTile\n",
      "2025-09-01T22:34:10.323 +02:00 -|- FastTransfer -|- MSS22_to_MSS25 -|- INFORMATION -|- tpch_test.dbo.orders_7_primarykey -|- Table \"dbo\".\"orders_7_primarykey\" has a Clustered Index. BulkCopy will use KeepNulls and UseInternalTransaction and avoid Tablock\n",
      "2025-09-01T22:34:10.323 +02:00 -|- FastTransfer -|- MSS22_to_MSS25 -|- INFORMATION -|- tpch_test.dbo.orders_7_primarykey -|- BulkCopy to \"dbo\".\"orders_7_primarykey\" with BatchSize = 1048576, Timeout = 3600\n",
      "2025-09-01T22:34:10.330 +02:00 -|- FastTransfer -|- MSS22_to_MSS25 -|- WARNING -|- tpch_test.dbo.orders_7_primarykey -|- Only 9 out of 10 columns were mapped by name to the target table \"dbo\".\"orders_7_primarykey\"\n",
      "2025-09-01T22:34:10.337 +02:00 -|- FastTransfer -|- MSS22_to_MSS25 -|- INFORMATION -|- tpch_test.dbo.orders_7_primarykey -|- Start Loading Data using distribution method NTile\n",
      "2025-09-01T22:34:10.338 +02:00 -|- FastTransfer -|- MSS22_to_MSS25 -|- INFORMATION -|- tpch_test.dbo.orders_7_primarykey -|- Table \"dbo\".\"orders_7_primarykey\" has a Clustered Index. BulkCopy will use KeepNulls and UseInternalTransaction and avoid Tablock\n",
      "2025-09-01T22:34:10.338 +02:00 -|- FastTransfer -|- MSS22_to_MSS25 -|- INFORMATION -|- tpch_test.dbo.orders_7_primarykey -|- BulkCopy to \"dbo\".\"orders_7_primarykey\" with BatchSize = 1048576, Timeout = 3600\n",
      "2025-09-01T22:34:10.341 +02:00 -|- FastTransfer -|- MSS22_to_MSS25 -|- WARNING -|- tpch_test.dbo.orders_7_primarykey -|- Only 9 out of 10 columns were mapped by name to the target table \"dbo\".\"orders_7_primarykey\"\n",
      "2025-09-01T22:34:10.341 +02:00 -|- FastTransfer -|- MSS22_to_MSS25 -|- INFORMATION -|- tpch_test.dbo.orders_7_primarykey -|- Start Loading Data using distribution method NTile\n",
      "2025-09-01T22:34:10.342 +02:00 -|- FastTransfer -|- MSS22_to_MSS25 -|- INFORMATION -|- tpch_test.dbo.orders_7_primarykey -|- Table \"dbo\".\"orders_7_primarykey\" has a Clustered Index. BulkCopy will use KeepNulls and UseInternalTransaction and avoid Tablock\n",
      "2025-09-01T22:34:10.342 +02:00 -|- FastTransfer -|- MSS22_to_MSS25 -|- INFORMATION -|- tpch_test.dbo.orders_7_primarykey -|- BulkCopy to \"dbo\".\"orders_7_primarykey\" with BatchSize = 1048576, Timeout = 3600\n",
      "2025-09-01T22:34:10.344 +02:00 -|- FastTransfer -|- MSS22_to_MSS25 -|- WARNING -|- tpch_test.dbo.orders_7_primarykey -|- Only 9 out of 10 columns were mapped by name to the target table \"dbo\".\"orders_7_primarykey\"\n",
      "2025-09-01T22:34:10.351 +02:00 -|- FastTransfer -|- MSS22_to_MSS25 -|- INFORMATION -|- tpch_test.dbo.orders_7_primarykey -|- Start Loading Data using distribution method NTile\n",
      "2025-09-01T22:34:10.352 +02:00 -|- FastTransfer -|- MSS22_to_MSS25 -|- INFORMATION -|- tpch_test.dbo.orders_7_primarykey -|- Table \"dbo\".\"orders_7_primarykey\" has a Clustered Index. BulkCopy will use KeepNulls and UseInternalTransaction and avoid Tablock\n",
      "2025-09-01T22:34:10.352 +02:00 -|- FastTransfer -|- MSS22_to_MSS25 -|- INFORMATION -|- tpch_test.dbo.orders_7_primarykey -|- BulkCopy to \"dbo\".\"orders_7_primarykey\" with BatchSize = 1048576, Timeout = 3600\n",
      "2025-09-01T22:34:10.354 +02:00 -|- FastTransfer -|- MSS22_to_MSS25 -|- WARNING -|- tpch_test.dbo.orders_7_primarykey -|- Only 9 out of 10 columns were mapped by name to the target table \"dbo\".\"orders_7_primarykey\"\n",
      "2025-09-01T22:34:10.355 +02:00 -|- FastTransfer -|- MSS22_to_MSS25 -|- INFORMATION -|- tpch_test.dbo.orders_7_primarykey -|- Start Loading Data using distribution method NTile\n",
      "2025-09-01T22:34:10.356 +02:00 -|- FastTransfer -|- MSS22_to_MSS25 -|- INFORMATION -|- tpch_test.dbo.orders_7_primarykey -|- Table \"dbo\".\"orders_7_primarykey\" has a Clustered Index. BulkCopy will use KeepNulls and UseInternalTransaction and avoid Tablock\n",
      "2025-09-01T22:34:10.356 +02:00 -|- FastTransfer -|- MSS22_to_MSS25 -|- INFORMATION -|- tpch_test.dbo.orders_7_primarykey -|- BulkCopy to \"dbo\".\"orders_7_primarykey\" with BatchSize = 1048576, Timeout = 3600\n",
      "2025-09-01T22:34:10.358 +02:00 -|- FastTransfer -|- MSS22_to_MSS25 -|- WARNING -|- tpch_test.dbo.orders_7_primarykey -|- Only 9 out of 10 columns were mapped by name to the target table \"dbo\".\"orders_7_primarykey\"\n",
      "2025-09-01T22:34:15.313 +02:00 -|- FastTransfer -|- MSS22_to_MSS25 -|- INFORMATION -|- tpch_test.dbo.orders_7_primarykey -|- Completed Load Query 11 for o_orderkey between 44350020 and 48381669 : 937501 rows x 9 columns in 5052ms\n",
      "2025-09-01T22:34:15.474 +02:00 -|- FastTransfer -|- MSS22_to_MSS25 -|- INFORMATION -|- tpch_test.dbo.orders_7_primarykey -|- Completed Load Query 0 for o_orderkey between 1 and 4030401 : 937500 rows x 9 columns in 5213ms\n",
      "2025-09-01T22:34:15.555 +02:00 -|- FastTransfer -|- MSS22_to_MSS25 -|- INFORMATION -|- tpch_test.dbo.orders_7_primarykey -|- Completed Load Query 2 for o_orderkey between 8063200 and 12095555 : 937501 rows x 9 columns in 5294ms\n",
      "2025-09-01T22:34:16.718 +02:00 -|- FastTransfer -|- MSS22_to_MSS25 -|- INFORMATION -|- tpch_test.dbo.orders_7_primarykey -|- Completed Load Query 14 for o_orderkey between 56445282 and 66373955 : 937501 rows x 9 columns in 6456ms\n",
      "2025-09-01T22:34:16.746 +02:00 -|- FastTransfer -|- MSS22_to_MSS25 -|- INFORMATION -|- tpch_test.dbo.orders_7_primarykey -|- Completed Load Query 12 for o_orderkey between 48381670 and 52413159 : 937501 rows x 9 columns in 6485ms\n",
      "2025-09-01T22:34:16.761 +02:00 -|- FastTransfer -|- MSS22_to_MSS25 -|- INFORMATION -|- tpch_test.dbo.orders_7_primarykey -|- Completed Load Query 13 for o_orderkey between 52413184 and 56445281 : 937501 rows x 9 columns in 6499ms\n",
      "2025-09-01T22:34:16.816 +02:00 -|- FastTransfer -|- MSS22_to_MSS25 -|- INFORMATION -|- tpch_test.dbo.orders_7_primarykey -|- Completed Load Query 9 for o_orderkey between 36288230 and 40319808 : 937501 rows x 9 columns in 6555ms\n",
      "2025-09-01T22:34:16.819 +02:00 -|- FastTransfer -|- MSS22_to_MSS25 -|- INFORMATION -|- tpch_test.dbo.orders_7_primarykey -|- Completed Load Query 4 for o_orderkey between 16128902 and 20160199 : 937501 rows x 9 columns in 6558ms\n",
      "2025-09-01T22:34:16.827 +02:00 -|- FastTransfer -|- MSS22_to_MSS25 -|- INFORMATION -|- tpch_test.dbo.orders_7_primarykey -|- Completed Load Query 3 for o_orderkey between 12095556 and 16128901 : 937501 rows x 9 columns in 6566ms\n",
      "2025-09-01T22:34:16.836 +02:00 -|- FastTransfer -|- MSS22_to_MSS25 -|- INFORMATION -|- tpch_test.dbo.orders_7_primarykey -|- Completed Load Query 5 for o_orderkey between 20160224 and 24192837 : 937501 rows x 9 columns in 6575ms\n",
      "2025-09-01T22:34:16.853 +02:00 -|- FastTransfer -|- MSS22_to_MSS25 -|- INFORMATION -|- tpch_test.dbo.orders_7_primarykey -|- Completed Load Query 1 for o_orderkey between 4030402 and 8063175 : 937501 rows x 9 columns in 6592ms\n",
      "2025-09-01T22:34:16.976 +02:00 -|- FastTransfer -|- MSS22_to_MSS25 -|- INFORMATION -|- tpch_test.dbo.orders_7_primarykey -|- Completed Load Query 6 for o_orderkey between 24192838 and 28226534 : 937501 rows x 9 columns in 6715ms\n",
      "2025-09-01T22:34:16.981 +02:00 -|- FastTransfer -|- MSS22_to_MSS25 -|- INFORMATION -|- tpch_test.dbo.orders_7_primarykey -|- Completed Load Query 8 for o_orderkey between 32255682 and 36288229 : 937501 rows x 9 columns in 6720ms\n",
      "2025-09-01T22:34:17.017 +02:00 -|- FastTransfer -|- MSS22_to_MSS25 -|- INFORMATION -|- tpch_test.dbo.orders_7_primarykey -|- Completed Load Query 7 for o_orderkey between 28226535 and 32255681 : 937501 rows x 9 columns in 6756ms\n",
      "2025-09-01T22:34:17.096 +02:00 -|- FastTransfer -|- MSS22_to_MSS25 -|- INFORMATION -|- tpch_test.dbo.orders_7_primarykey -|- Completed Load Query 15 for o_orderkey between 66374081 and 119999974 : 937486 rows x 9 columns in 6834ms\n",
      "2025-09-01T22:34:17.366 +02:00 -|- FastTransfer -|- MSS22_to_MSS25 -|- INFORMATION -|- tpch_test.dbo.orders_7_primarykey -|- Completed Load Query 10 for o_orderkey between 40319809 and 44350019 : 937501 rows x 9 columns in 7105ms\n",
      "2025-09-01T22:34:17.368 +02:00 -|- FastTransfer -|- MSS22_to_MSS25 -|- INFORMATION -|- tpch_test.dbo.orders_7_primarykey -|- Total rows : 15000000\n",
      "2025-09-01T22:34:17.368 +02:00 -|- FastTransfer -|- MSS22_to_MSS25 -|- INFORMATION -|- tpch_test.dbo.orders_7_primarykey -|- Total columns : 9\n",
      "2025-09-01T22:34:17.368 +02:00 -|- FastTransfer -|- MSS22_to_MSS25 -|- INFORMATION -|- tpch_test.dbo.orders_7_primarykey -|- Total cells : 135000000\n",
      "2025-09-01T22:34:17.368 +02:00 -|- FastTransfer -|- MSS22_to_MSS25 -|- INFORMATION -|- tpch_test.dbo.orders_7_primarykey -|- Rows Throughput : 1982806 rows/s\n",
      "2025-09-01T22:34:17.368 +02:00 -|- FastTransfer -|- MSS22_to_MSS25 -|- INFORMATION -|- tpch_test.dbo.orders_7_primarykey -|- Cells Throughput : 17845276 cells/s\n",
      "2025-09-01T22:34:17.368 +02:00 -|- FastTransfer -|- MSS22_to_MSS25 -|- INFORMATION -|- tpch_test.dbo.orders_7_primarykey -|- Transfert time : Elapsed=7565 ms\n",
      "2025-09-01T22:34:17.368 +02:00 -|- FastTransfer -|- MSS22_to_MSS25 -|- INFORMATION -|- tpch_test.dbo.orders_7_primarykey -|- Total time : Elapsed=7788 ms\n",
      "2025-09-01T22:34:17.368 +02:00 -|- FastTransfer -|- MSS22_to_MSS25 -|- INFORMATION -|- tpch_test.dbo.orders_7_primarykey -|- Completed Load\n"
     ]
    }
   ],
   "source": [
    "cd D:\\FastTransfer\n",
    "\n",
    ".\\FastTransfer.exe `\n",
    "--sourceconnectiontype \"mssql\" `\n",
    "--sourceserver \"localhost\" `\n",
    "--sourcedatabase \"tpch10_collation_bin2\" `\n",
    "--sourcetrusted `\n",
    "--sourceschema \"dbo\" `\n",
    "--sourcetable \"orders_15M\" `\n",
    "`\n",
    "--targetconnectiontype \"msbulk\" `\n",
    "--targetserver \"localhost\\SS2025\" `\n",
    "--targettrusted `\n",
    "--targetdatabase \"tpch_test\" `\n",
    "--targetschema \"dbo\" `\n",
    "--targettable \"orders_7_primarykey\" `\n",
    "`\n",
    "--loadmode \"Truncate\" `\n",
    "--mapmethod \"Name\" `\n",
    "--method \"Ntile\" `\n",
    "--distributekeycolumn \"o_orderkey\" `\n",
    "--degree -2 `\n",
    "--runid \"MSS22_to_MSS25\""
   ]
  },
  {
   "cell_type": "code",
   "execution_count": 18,
   "id": "143c30a0",
   "metadata": {
    "polyglot_notebook": {
     "kernelName": "sql-SS2025_tpch_test"
    }
   },
   "outputs": [
    {
     "data": {
      "text/plain": [
       "(1 ligne affectée)"
      ]
     },
     "metadata": {},
     "output_type": "display_data"
    },
    {
     "data": {
      "text/csv": [
       "count_orders_7_primarykey\r\n",
       "15,000,000\r\n"
      ],
      "text/html": [
       "<table><thead><tr><td><span>count_orders_7_primarykey</span></td></tr></thead><tbody><tr><td>15,000,000</td></tr></tbody></table><style>\r\n",
       ".dni-code-hint {\r\n",
       "    font-style: italic;\r\n",
       "    overflow: hidden;\r\n",
       "    white-space: nowrap;\r\n",
       "}\r\n",
       ".dni-treeview {\r\n",
       "    white-space: nowrap;\r\n",
       "}\r\n",
       ".dni-treeview td {\r\n",
       "    vertical-align: top;\r\n",
       "    text-align: start;\r\n",
       "}\r\n",
       "details.dni-treeview {\r\n",
       "    padding-left: 1em;\r\n",
       "}\r\n",
       "table td {\r\n",
       "    text-align: start;\r\n",
       "}\r\n",
       "table tr { \r\n",
       "    vertical-align: top; \r\n",
       "    margin: 0em 0px;\r\n",
       "}\r\n",
       "table tr td pre \r\n",
       "{ \r\n",
       "    vertical-align: top !important; \r\n",
       "    margin: 0em 0px !important;\r\n",
       "} \r\n",
       "table th {\r\n",
       "    text-align: start;\r\n",
       "}\r\n",
       "</style>"
      ]
     },
     "metadata": {},
     "output_type": "display_data"
    }
   ],
   "source": [
    "SELECT FORMAT(count(*),'###,###,###') count_orders_7_primarykey from orders_7_primarykey;"
   ]
  },
  {
   "cell_type": "markdown",
   "id": "d9846f98",
   "metadata": {},
   "source": [
    "#### Target orders with a primary key and one secondary index"
   ]
  },
  {
   "cell_type": "code",
   "execution_count": null,
   "id": "a2d311b5",
   "metadata": {
    "polyglot_notebook": {
     "kernelName": "sql-SS2025_tpch_test"
    }
   },
   "outputs": [
    {
     "data": {
      "text/plain": [
       "Commandes exécutées."
      ]
     },
     "metadata": {},
     "output_type": "display_data"
    }
   ],
   "source": [
    "CREATE INDEX IX_o_custkey ON orders_7_primarykey(o_custkey);"
   ]
  },
  {
   "cell_type": "code",
   "execution_count": null,
   "id": "39089a48",
   "metadata": {
    "polyglot_notebook": {
     "kernelName": "pwsh"
    }
   },
   "outputs": [
    {
     "name": "stdout",
     "output_type": "stream",
     "text": [
      "2025-06-13T22:56:28.897 +02:00 -|- FastTransfer -|- MSS22_to_MSS25 -|- INFORMATION -|- tpch_test.dbo.orders_7_primarykey -|- Starting\n",
      "2025-06-13T22:56:28.905 +02:00 -|- FastTransfer -|- MSS22_to_MSS25 -|- INFORMATION -|- tpch_test.dbo.orders_7_primarykey -|- FastTransfer Version : 0.13.4.0 Architecture : X64 - Framework : .NET 8.0.15\n",
      "2025-06-13T22:56:28.906 +02:00 -|- FastTransfer -|- MSS22_to_MSS25 -|- INFORMATION -|- tpch_test.dbo.orders_7_primarykey -|- OS : Microsoft Windows 10.0.26100\n",
      "2025-06-13T22:56:28.906 +02:00 -|- FastTransfer -|- MSS22_to_MSS25 -|- INFORMATION -|- tpch_test.dbo.orders_7_primarykey -|- Process ID : 28124\n",
      "2025-06-13T22:56:28.906 +02:00 -|- FastTransfer -|- MSS22_to_MSS25 -|- INFORMATION -|- tpch_test.dbo.orders_7_primarykey -|- Provided Run ID : MSS22_to_MSS25\n",
      "2025-06-13T22:56:28.906 +02:00 -|- FastTransfer -|- MSS22_to_MSS25 -|- INFORMATION -|- tpch_test.dbo.orders_7_primarykey -|- Source Connection Type : mssql\n",
      "2025-06-13T22:56:28.906 +02:00 -|- FastTransfer -|- MSS22_to_MSS25 -|- INFORMATION -|- tpch_test.dbo.orders_7_primarykey -|- Source SqlInstance : localhost\n",
      "2025-06-13T22:56:28.906 +02:00 -|- FastTransfer -|- MSS22_to_MSS25 -|- INFORMATION -|- tpch_test.dbo.orders_7_primarykey -|- Source Database : tpch10_collation_bin2\n",
      "2025-06-13T22:56:28.906 +02:00 -|- FastTransfer -|- MSS22_to_MSS25 -|- INFORMATION -|- tpch_test.dbo.orders_7_primarykey -|- Source Trusted Connection : True\n",
      "2025-06-13T22:56:28.906 +02:00 -|- FastTransfer -|- MSS22_to_MSS25 -|- INFORMATION -|- tpch_test.dbo.orders_7_primarykey -|- Source Schema : dbo\n",
      "2025-06-13T22:56:28.906 +02:00 -|- FastTransfer -|- MSS22_to_MSS25 -|- INFORMATION -|- tpch_test.dbo.orders_7_primarykey -|- Source Table : orders_15M\n",
      "2025-06-13T22:56:28.906 +02:00 -|- FastTransfer -|- MSS22_to_MSS25 -|- INFORMATION -|- tpch_test.dbo.orders_7_primarykey -|- Target Type : msbulk\n",
      "2025-06-13T22:56:28.906 +02:00 -|- FastTransfer -|- MSS22_to_MSS25 -|- INFORMATION -|- tpch_test.dbo.orders_7_primarykey -|- Target Server : localhost\\SS2025\n",
      "2025-06-13T22:56:28.906 +02:00 -|- FastTransfer -|- MSS22_to_MSS25 -|- INFORMATION -|- tpch_test.dbo.orders_7_primarykey -|- Target Database : tpch_test\n",
      "2025-06-13T22:56:28.906 +02:00 -|- FastTransfer -|- MSS22_to_MSS25 -|- INFORMATION -|- tpch_test.dbo.orders_7_primarykey -|- Target Schema : dbo\n",
      "2025-06-13T22:56:28.906 +02:00 -|- FastTransfer -|- MSS22_to_MSS25 -|- INFORMATION -|- tpch_test.dbo.orders_7_primarykey -|- Target Table : orders_7_primarykey\n",
      "2025-06-13T22:56:28.906 +02:00 -|- FastTransfer -|- MSS22_to_MSS25 -|- INFORMATION -|- tpch_test.dbo.orders_7_primarykey -|- Target Trusted Connection : True\n",
      "2025-06-13T22:56:28.906 +02:00 -|- FastTransfer -|- MSS22_to_MSS25 -|- INFORMATION -|- tpch_test.dbo.orders_7_primarykey -|- Columns Map Method : Name\n",
      "2025-06-13T22:56:28.906 +02:00 -|- FastTransfer -|- MSS22_to_MSS25 -|- INFORMATION -|- tpch_test.dbo.orders_7_primarykey -|- Degree : -2\n",
      "2025-06-13T22:56:28.906 +02:00 -|- FastTransfer -|- MSS22_to_MSS25 -|- INFORMATION -|- tpch_test.dbo.orders_7_primarykey -|- Distribute Method : Ntile\n",
      "2025-06-13T22:56:28.906 +02:00 -|- FastTransfer -|- MSS22_to_MSS25 -|- INFORMATION -|- tpch_test.dbo.orders_7_primarykey -|- Distribute Column : o_orderkey\n",
      "2025-06-13T22:56:28.906 +02:00 -|- FastTransfer -|- MSS22_to_MSS25 -|- INFORMATION -|- tpch_test.dbo.orders_7_primarykey -|- Bulkcopy Batch Size : 1048576\n",
      "2025-06-13T22:56:28.906 +02:00 -|- FastTransfer -|- MSS22_to_MSS25 -|- INFORMATION -|- tpch_test.dbo.orders_7_primarykey -|- Load Mode : Truncate\n",
      "2025-06-13T22:56:28.906 +02:00 -|- FastTransfer -|- MSS22_to_MSS25 -|- INFORMATION -|- tpch_test.dbo.orders_7_primarykey -|- Use Work Tables : False\n",
      "2025-06-13T22:56:28.907 +02:00 -|- FastTransfer -|- MSS22_to_MSS25 -|- INFORMATION -|- tpch_test.dbo.orders_7_primarykey -|- Encoding used : Unicode (UTF-8) - 65001 - utf-8\n",
      "2025-06-13T22:56:28.924 +02:00 -|- FastTransfer -|- MSS22_to_MSS25 -|- INFORMATION -|- tpch_test.dbo.orders_7_primarykey -|- Source Connection String : Data Source=localhost;Initial Catalog=tpch10_collation_bin2;Integrated Security=True;Connect Timeout=120;Encrypt=True;Trust Server Certificate=True;Application Name=FastTransfer;Application Intent=ReadOnly;Command Timeout=10800\n",
      "2025-06-13T22:56:28.924 +02:00 -|- FastTransfer -|- MSS22_to_MSS25 -|- INFORMATION -|- tpch_test.dbo.orders_7_primarykey -|- Target Connection String : Data Source=localhost\\SS2025;Initial Catalog=tpch_test;Integrated Security=True;Connect Timeout=120;Encrypt=True;Trust Server Certificate=True;Application Name=FastTransfer;Application Intent=ReadWrite;Command Timeout=10800\n",
      "2025-06-13T22:56:28.924 +02:00 -|- FastTransfer -|- MSS22_to_MSS25 -|- INFORMATION -|- tpch_test.dbo.orders_7_primarykey -|- Source Database Version : Microsoft SQL Server 2022 (RTM-CU17) (KB5048038) - 16.0.4175.1 (X64)  \tDec 13 2024 09:01:53  \tCopyright (C) 2022 Microsoft Corporation \tDeveloper Edition (64-bit) on Windows 10 Pro 10.0 <X64> (Build 26100: ) (Hypervisor) \n",
      "2025-06-13T22:56:28.924 +02:00 -|- FastTransfer -|- MSS22_to_MSS25 -|- INFORMATION -|- tpch_test.dbo.orders_7_primarykey -|- Target Database Version : Microsoft SQL Server 2025 (CTP2.0) - 17.0.700.9 (X64)  \tMay  8 2025 19:14:27  \tCopyright (C) 2025 Microsoft Corporation \tEnterprise Developer Edition (64-bit) on Windows 10 Pro 10.0 <X64> (Build 26100: ) (Hypervisor) \n",
      "2025-06-13T22:56:28.930 +02:00 -|- FastTransfer -|- MSS22_to_MSS25 -|- INFORMATION -|- tpch_test.dbo.orders_7_primarykey -|- Degree of parallelism was computed to 16 (=> 32\\2)\n",
      "2025-06-13T22:56:30.314 +02:00 -|- FastTransfer -|- MSS22_to_MSS25 -|- INFORMATION -|- tpch_test.dbo.orders_7_primarykey -|- Ntile DataSegments Computation Completed in 1384 ms\n",
      "2025-06-13T22:56:30.317 +02:00 -|- FastTransfer -|- MSS22_to_MSS25 -|- INFORMATION -|- tpch_test.dbo.orders_7_primarykey -|- Start Loading Data using distribution method NTile\n",
      "2025-06-13T22:56:30.318 +02:00 -|- FastTransfer -|- MSS22_to_MSS25 -|- INFORMATION -|- tpch_test.dbo.orders_7_primarykey -|- Table \"dbo\".\"orders_7_primarykey\" has a Clustered Index. BulkCopy will use KeepNulls and UseInternalTransaction and avoid Tablock\n",
      "2025-06-13T22:56:30.318 +02:00 -|- FastTransfer -|- MSS22_to_MSS25 -|- INFORMATION -|- tpch_test.dbo.orders_7_primarykey -|- BulkCopy to \"dbo\".\"orders_7_primarykey\" with BatchSize = 1048576, Timeout = 3600\n",
      "2025-06-13T22:56:30.319 +02:00 -|- FastTransfer -|- MSS22_to_MSS25 -|- WARNING -|- tpch_test.dbo.orders_7_primarykey -|- Only 9 out of 10 columns were mapped by name to the target table \"dbo\".\"orders_7_primarykey\"\n",
      "2025-06-13T22:56:30.328 +02:00 -|- FastTransfer -|- MSS22_to_MSS25 -|- INFORMATION -|- tpch_test.dbo.orders_7_primarykey -|- Start Loading Data using distribution method NTile\n",
      "2025-06-13T22:56:30.328 +02:00 -|- FastTransfer -|- MSS22_to_MSS25 -|- INFORMATION -|- tpch_test.dbo.orders_7_primarykey -|- Table \"dbo\".\"orders_7_primarykey\" has a Clustered Index. BulkCopy will use KeepNulls and UseInternalTransaction and avoid Tablock\n",
      "2025-06-13T22:56:30.328 +02:00 -|- FastTransfer -|- MSS22_to_MSS25 -|- INFORMATION -|- tpch_test.dbo.orders_7_primarykey -|- BulkCopy to \"dbo\".\"orders_7_primarykey\" with BatchSize = 1048576, Timeout = 3600\n",
      "2025-06-13T22:56:30.329 +02:00 -|- FastTransfer -|- MSS22_to_MSS25 -|- WARNING -|- tpch_test.dbo.orders_7_primarykey -|- Only 9 out of 10 columns were mapped by name to the target table \"dbo\".\"orders_7_primarykey\"\n",
      "2025-06-13T22:56:30.330 +02:00 -|- FastTransfer -|- MSS22_to_MSS25 -|- INFORMATION -|- tpch_test.dbo.orders_7_primarykey -|- Start Loading Data using distribution method NTile\n",
      "2025-06-13T22:56:30.331 +02:00 -|- FastTransfer -|- MSS22_to_MSS25 -|- INFORMATION -|- tpch_test.dbo.orders_7_primarykey -|- Table \"dbo\".\"orders_7_primarykey\" has a Clustered Index. BulkCopy will use KeepNulls and UseInternalTransaction and avoid Tablock\n",
      "2025-06-13T22:56:30.331 +02:00 -|- FastTransfer -|- MSS22_to_MSS25 -|- INFORMATION -|- tpch_test.dbo.orders_7_primarykey -|- BulkCopy to \"dbo\".\"orders_7_primarykey\" with BatchSize = 1048576, Timeout = 3600\n",
      "2025-06-13T22:56:30.333 +02:00 -|- FastTransfer -|- MSS22_to_MSS25 -|- WARNING -|- tpch_test.dbo.orders_7_primarykey -|- Only 9 out of 10 columns were mapped by name to the target table \"dbo\".\"orders_7_primarykey\"\n",
      "2025-06-13T22:56:30.337 +02:00 -|- FastTransfer -|- MSS22_to_MSS25 -|- INFORMATION -|- tpch_test.dbo.orders_7_primarykey -|- Start Loading Data using distribution method NTile\n",
      "2025-06-13T22:56:30.337 +02:00 -|- FastTransfer -|- MSS22_to_MSS25 -|- INFORMATION -|- tpch_test.dbo.orders_7_primarykey -|- Table \"dbo\".\"orders_7_primarykey\" has a Clustered Index. BulkCopy will use KeepNulls and UseInternalTransaction and avoid Tablock\n",
      "2025-06-13T22:56:30.337 +02:00 -|- FastTransfer -|- MSS22_to_MSS25 -|- INFORMATION -|- tpch_test.dbo.orders_7_primarykey -|- BulkCopy to \"dbo\".\"orders_7_primarykey\" with BatchSize = 1048576, Timeout = 3600\n",
      "2025-06-13T22:56:30.339 +02:00 -|- FastTransfer -|- MSS22_to_MSS25 -|- WARNING -|- tpch_test.dbo.orders_7_primarykey -|- Only 9 out of 10 columns were mapped by name to the target table \"dbo\".\"orders_7_primarykey\"\n",
      "2025-06-13T22:56:30.339 +02:00 -|- FastTransfer -|- MSS22_to_MSS25 -|- INFORMATION -|- tpch_test.dbo.orders_7_primarykey -|- Start Loading Data using distribution method NTile\n",
      "2025-06-13T22:56:30.340 +02:00 -|- FastTransfer -|- MSS22_to_MSS25 -|- INFORMATION -|- tpch_test.dbo.orders_7_primarykey -|- Table \"dbo\".\"orders_7_primarykey\" has a Clustered Index. BulkCopy will use KeepNulls and UseInternalTransaction and avoid Tablock\n",
      "2025-06-13T22:56:30.340 +02:00 -|- FastTransfer -|- MSS22_to_MSS25 -|- INFORMATION -|- tpch_test.dbo.orders_7_primarykey -|- BulkCopy to \"dbo\".\"orders_7_primarykey\" with BatchSize = 1048576, Timeout = 3600\n",
      "2025-06-13T22:56:30.341 +02:00 -|- FastTransfer -|- MSS22_to_MSS25 -|- WARNING -|- tpch_test.dbo.orders_7_primarykey -|- Only 9 out of 10 columns were mapped by name to the target table \"dbo\".\"orders_7_primarykey\"\n",
      "2025-06-13T22:56:30.345 +02:00 -|- FastTransfer -|- MSS22_to_MSS25 -|- INFORMATION -|- tpch_test.dbo.orders_7_primarykey -|- Start Loading Data using distribution method NTile\n",
      "2025-06-13T22:56:30.345 +02:00 -|- FastTransfer -|- MSS22_to_MSS25 -|- INFORMATION -|- tpch_test.dbo.orders_7_primarykey -|- Table \"dbo\".\"orders_7_primarykey\" has a Clustered Index. BulkCopy will use KeepNulls and UseInternalTransaction and avoid Tablock\n",
      "2025-06-13T22:56:30.345 +02:00 -|- FastTransfer -|- MSS22_to_MSS25 -|- INFORMATION -|- tpch_test.dbo.orders_7_primarykey -|- BulkCopy to \"dbo\".\"orders_7_primarykey\" with BatchSize = 1048576, Timeout = 3600\n",
      "2025-06-13T22:56:30.346 +02:00 -|- FastTransfer -|- MSS22_to_MSS25 -|- WARNING -|- tpch_test.dbo.orders_7_primarykey -|- Only 9 out of 10 columns were mapped by name to the target table \"dbo\".\"orders_7_primarykey\"\n",
      "2025-06-13T22:56:30.348 +02:00 -|- FastTransfer -|- MSS22_to_MSS25 -|- INFORMATION -|- tpch_test.dbo.orders_7_primarykey -|- Start Loading Data using distribution method NTile\n",
      "2025-06-13T22:56:30.349 +02:00 -|- FastTransfer -|- MSS22_to_MSS25 -|- INFORMATION -|- tpch_test.dbo.orders_7_primarykey -|- Table \"dbo\".\"orders_7_primarykey\" has a Clustered Index. BulkCopy will use KeepNulls and UseInternalTransaction and avoid Tablock\n",
      "2025-06-13T22:56:30.349 +02:00 -|- FastTransfer -|- MSS22_to_MSS25 -|- INFORMATION -|- tpch_test.dbo.orders_7_primarykey -|- BulkCopy to \"dbo\".\"orders_7_primarykey\" with BatchSize = 1048576, Timeout = 3600\n",
      "2025-06-13T22:56:30.350 +02:00 -|- FastTransfer -|- MSS22_to_MSS25 -|- WARNING -|- tpch_test.dbo.orders_7_primarykey -|- Only 9 out of 10 columns were mapped by name to the target table \"dbo\".\"orders_7_primarykey\"\n",
      "2025-06-13T22:56:30.354 +02:00 -|- FastTransfer -|- MSS22_to_MSS25 -|- INFORMATION -|- tpch_test.dbo.orders_7_primarykey -|- Start Loading Data using distribution method NTile\n",
      "2025-06-13T22:56:30.355 +02:00 -|- FastTransfer -|- MSS22_to_MSS25 -|- INFORMATION -|- tpch_test.dbo.orders_7_primarykey -|- Table \"dbo\".\"orders_7_primarykey\" has a Clustered Index. BulkCopy will use KeepNulls and UseInternalTransaction and avoid Tablock\n",
      "2025-06-13T22:56:30.355 +02:00 -|- FastTransfer -|- MSS22_to_MSS25 -|- INFORMATION -|- tpch_test.dbo.orders_7_primarykey -|- BulkCopy to \"dbo\".\"orders_7_primarykey\" with BatchSize = 1048576, Timeout = 3600\n",
      "2025-06-13T22:56:30.357 +02:00 -|- FastTransfer -|- MSS22_to_MSS25 -|- WARNING -|- tpch_test.dbo.orders_7_primarykey -|- Only 9 out of 10 columns were mapped by name to the target table \"dbo\".\"orders_7_primarykey\"\n",
      "2025-06-13T22:56:30.358 +02:00 -|- FastTransfer -|- MSS22_to_MSS25 -|- INFORMATION -|- tpch_test.dbo.orders_7_primarykey -|- Start Loading Data using distribution method NTile\n",
      "2025-06-13T22:56:30.358 +02:00 -|- FastTransfer -|- MSS22_to_MSS25 -|- INFORMATION -|- tpch_test.dbo.orders_7_primarykey -|- Table \"dbo\".\"orders_7_primarykey\" has a Clustered Index. BulkCopy will use KeepNulls and UseInternalTransaction and avoid Tablock\n",
      "2025-06-13T22:56:30.359 +02:00 -|- FastTransfer -|- MSS22_to_MSS25 -|- INFORMATION -|- tpch_test.dbo.orders_7_primarykey -|- BulkCopy to \"dbo\".\"orders_7_primarykey\" with BatchSize = 1048576, Timeout = 3600\n",
      "2025-06-13T22:56:30.360 +02:00 -|- FastTransfer -|- MSS22_to_MSS25 -|- WARNING -|- tpch_test.dbo.orders_7_primarykey -|- Only 9 out of 10 columns were mapped by name to the target table \"dbo\".\"orders_7_primarykey\"\n",
      "2025-06-13T22:56:30.366 +02:00 -|- FastTransfer -|- MSS22_to_MSS25 -|- INFORMATION -|- tpch_test.dbo.orders_7_primarykey -|- Start Loading Data using distribution method NTile\n",
      "2025-06-13T22:56:30.366 +02:00 -|- FastTransfer -|- MSS22_to_MSS25 -|- INFORMATION -|- tpch_test.dbo.orders_7_primarykey -|- Table \"dbo\".\"orders_7_primarykey\" has a Clustered Index. BulkCopy will use KeepNulls and UseInternalTransaction and avoid Tablock\n",
      "2025-06-13T22:56:30.367 +02:00 -|- FastTransfer -|- MSS22_to_MSS25 -|- INFORMATION -|- tpch_test.dbo.orders_7_primarykey -|- BulkCopy to \"dbo\".\"orders_7_primarykey\" with BatchSize = 1048576, Timeout = 3600\n",
      "2025-06-13T22:56:30.368 +02:00 -|- FastTransfer -|- MSS22_to_MSS25 -|- WARNING -|- tpch_test.dbo.orders_7_primarykey -|- Only 9 out of 10 columns were mapped by name to the target table \"dbo\".\"orders_7_primarykey\"\n",
      "2025-06-13T22:56:30.376 +02:00 -|- FastTransfer -|- MSS22_to_MSS25 -|- INFORMATION -|- tpch_test.dbo.orders_7_primarykey -|- Start Loading Data using distribution method NTile\n",
      "2025-06-13T22:56:30.376 +02:00 -|- FastTransfer -|- MSS22_to_MSS25 -|- INFORMATION -|- tpch_test.dbo.orders_7_primarykey -|- Table \"dbo\".\"orders_7_primarykey\" has a Clustered Index. BulkCopy will use KeepNulls and UseInternalTransaction and avoid Tablock\n",
      "2025-06-13T22:56:30.376 +02:00 -|- FastTransfer -|- MSS22_to_MSS25 -|- INFORMATION -|- tpch_test.dbo.orders_7_primarykey -|- BulkCopy to \"dbo\".\"orders_7_primarykey\" with BatchSize = 1048576, Timeout = 3600\n",
      "2025-06-13T22:56:30.378 +02:00 -|- FastTransfer -|- MSS22_to_MSS25 -|- WARNING -|- tpch_test.dbo.orders_7_primarykey -|- Only 9 out of 10 columns were mapped by name to the target table \"dbo\".\"orders_7_primarykey\"\n",
      "2025-06-13T22:56:30.383 +02:00 -|- FastTransfer -|- MSS22_to_MSS25 -|- INFORMATION -|- tpch_test.dbo.orders_7_primarykey -|- Start Loading Data using distribution method NTile\n",
      "2025-06-13T22:56:30.383 +02:00 -|- FastTransfer -|- MSS22_to_MSS25 -|- INFORMATION -|- tpch_test.dbo.orders_7_primarykey -|- Table \"dbo\".\"orders_7_primarykey\" has a Clustered Index. BulkCopy will use KeepNulls and UseInternalTransaction and avoid Tablock\n",
      "2025-06-13T22:56:30.383 +02:00 -|- FastTransfer -|- MSS22_to_MSS25 -|- INFORMATION -|- tpch_test.dbo.orders_7_primarykey -|- BulkCopy to \"dbo\".\"orders_7_primarykey\" with BatchSize = 1048576, Timeout = 3600\n",
      "2025-06-13T22:56:30.385 +02:00 -|- FastTransfer -|- MSS22_to_MSS25 -|- WARNING -|- tpch_test.dbo.orders_7_primarykey -|- Only 9 out of 10 columns were mapped by name to the target table \"dbo\".\"orders_7_primarykey\"\n",
      "2025-06-13T22:56:30.388 +02:00 -|- FastTransfer -|- MSS22_to_MSS25 -|- INFORMATION -|- tpch_test.dbo.orders_7_primarykey -|- Start Loading Data using distribution method NTile\n",
      "2025-06-13T22:56:30.388 +02:00 -|- FastTransfer -|- MSS22_to_MSS25 -|- INFORMATION -|- tpch_test.dbo.orders_7_primarykey -|- Table \"dbo\".\"orders_7_primarykey\" has a Clustered Index. BulkCopy will use KeepNulls and UseInternalTransaction and avoid Tablock\n",
      "2025-06-13T22:56:30.388 +02:00 -|- FastTransfer -|- MSS22_to_MSS25 -|- INFORMATION -|- tpch_test.dbo.orders_7_primarykey -|- BulkCopy to \"dbo\".\"orders_7_primarykey\" with BatchSize = 1048576, Timeout = 3600\n",
      "2025-06-13T22:56:30.389 +02:00 -|- FastTransfer -|- MSS22_to_MSS25 -|- WARNING -|- tpch_test.dbo.orders_7_primarykey -|- Only 9 out of 10 columns were mapped by name to the target table \"dbo\".\"orders_7_primarykey\"\n",
      "2025-06-13T22:56:30.396 +02:00 -|- FastTransfer -|- MSS22_to_MSS25 -|- INFORMATION -|- tpch_test.dbo.orders_7_primarykey -|- Start Loading Data using distribution method NTile\n",
      "2025-06-13T22:56:30.397 +02:00 -|- FastTransfer -|- MSS22_to_MSS25 -|- INFORMATION -|- tpch_test.dbo.orders_7_primarykey -|- Table \"dbo\".\"orders_7_primarykey\" has a Clustered Index. BulkCopy will use KeepNulls and UseInternalTransaction and avoid Tablock\n",
      "2025-06-13T22:56:30.397 +02:00 -|- FastTransfer -|- MSS22_to_MSS25 -|- INFORMATION -|- tpch_test.dbo.orders_7_primarykey -|- BulkCopy to \"dbo\".\"orders_7_primarykey\" with BatchSize = 1048576, Timeout = 3600\n",
      "2025-06-13T22:56:30.399 +02:00 -|- FastTransfer -|- MSS22_to_MSS25 -|- WARNING -|- tpch_test.dbo.orders_7_primarykey -|- Only 9 out of 10 columns were mapped by name to the target table \"dbo\".\"orders_7_primarykey\"\n",
      "2025-06-13T22:56:30.400 +02:00 -|- FastTransfer -|- MSS22_to_MSS25 -|- INFORMATION -|- tpch_test.dbo.orders_7_primarykey -|- Start Loading Data using distribution method NTile\n",
      "2025-06-13T22:56:30.400 +02:00 -|- FastTransfer -|- MSS22_to_MSS25 -|- INFORMATION -|- tpch_test.dbo.orders_7_primarykey -|- Table \"dbo\".\"orders_7_primarykey\" has a Clustered Index. BulkCopy will use KeepNulls and UseInternalTransaction and avoid Tablock\n",
      "2025-06-13T22:56:30.400 +02:00 -|- FastTransfer -|- MSS22_to_MSS25 -|- INFORMATION -|- tpch_test.dbo.orders_7_primarykey -|- BulkCopy to \"dbo\".\"orders_7_primarykey\" with BatchSize = 1048576, Timeout = 3600\n",
      "2025-06-13T22:56:30.402 +02:00 -|- FastTransfer -|- MSS22_to_MSS25 -|- WARNING -|- tpch_test.dbo.orders_7_primarykey -|- Only 9 out of 10 columns were mapped by name to the target table \"dbo\".\"orders_7_primarykey\"\n",
      "2025-06-13T22:56:30.407 +02:00 -|- FastTransfer -|- MSS22_to_MSS25 -|- INFORMATION -|- tpch_test.dbo.orders_7_primarykey -|- Start Loading Data using distribution method NTile\n",
      "2025-06-13T22:56:30.407 +02:00 -|- FastTransfer -|- MSS22_to_MSS25 -|- INFORMATION -|- tpch_test.dbo.orders_7_primarykey -|- Table \"dbo\".\"orders_7_primarykey\" has a Clustered Index. BulkCopy will use KeepNulls and UseInternalTransaction and avoid Tablock\n",
      "2025-06-13T22:56:30.408 +02:00 -|- FastTransfer -|- MSS22_to_MSS25 -|- INFORMATION -|- tpch_test.dbo.orders_7_primarykey -|- BulkCopy to \"dbo\".\"orders_7_primarykey\" with BatchSize = 1048576, Timeout = 3600\n",
      "2025-06-13T22:56:30.409 +02:00 -|- FastTransfer -|- MSS22_to_MSS25 -|- WARNING -|- tpch_test.dbo.orders_7_primarykey -|- Only 9 out of 10 columns were mapped by name to the target table \"dbo\".\"orders_7_primarykey\"\n",
      "2025-06-13T22:56:35.930 +02:00 -|- FastTransfer -|- MSS22_to_MSS25 -|- INFORMATION -|- tpch_test.dbo.orders_7_primarykey -|- Completed Load Query 0 for o_orderkey between 1 and 4030401 : 937500 rows x 9 columns in 5613ms\n",
      "2025-06-13T22:56:39.695 +02:00 -|- FastTransfer -|- MSS22_to_MSS25 -|- INFORMATION -|- tpch_test.dbo.orders_7_primarykey -|- Completed Load Query 6 for o_orderkey between 24192838 and 28226534 : 937501 rows x 9 columns in 9378ms\n",
      "2025-06-13T22:56:42.647 +02:00 -|- FastTransfer -|- MSS22_to_MSS25 -|- INFORMATION -|- tpch_test.dbo.orders_7_primarykey -|- Completed Load Query 4 for o_orderkey between 16128902 and 20160199 : 937501 rows x 9 columns in 12330ms\n",
      "2025-06-13T22:56:42.780 +02:00 -|- FastTransfer -|- MSS22_to_MSS25 -|- INFORMATION -|- tpch_test.dbo.orders_7_primarykey -|- Completed Load Query 2 for o_orderkey between 8063200 and 12095555 : 937501 rows x 9 columns in 12463ms\n",
      "2025-06-13T22:56:43.565 +02:00 -|- FastTransfer -|- MSS22_to_MSS25 -|- INFORMATION -|- tpch_test.dbo.orders_7_primarykey -|- Completed Load Query 15 for o_orderkey between 66374081 and 119999974 : 937486 rows x 9 columns in 13246ms\n",
      "2025-06-13T22:56:43.929 +02:00 -|- FastTransfer -|- MSS22_to_MSS25 -|- INFORMATION -|- tpch_test.dbo.orders_7_primarykey -|- Completed Load Query 1 for o_orderkey between 4030402 and 8063175 : 937501 rows x 9 columns in 13612ms\n",
      "2025-06-13T22:56:43.933 +02:00 -|- FastTransfer -|- MSS22_to_MSS25 -|- INFORMATION -|- tpch_test.dbo.orders_7_primarykey -|- Completed Load Query 10 for o_orderkey between 40319809 and 44350019 : 937501 rows x 9 columns in 13615ms\n",
      "2025-06-13T22:56:45.186 +02:00 -|- FastTransfer -|- MSS22_to_MSS25 -|- INFORMATION -|- tpch_test.dbo.orders_7_primarykey -|- Completed Load Query 13 for o_orderkey between 52413184 and 56445281 : 937501 rows x 9 columns in 14868ms\n",
      "2025-06-13T22:56:45.263 +02:00 -|- FastTransfer -|- MSS22_to_MSS25 -|- INFORMATION -|- tpch_test.dbo.orders_7_primarykey -|- Completed Load Query 7 for o_orderkey between 28226535 and 32255681 : 937501 rows x 9 columns in 14946ms\n",
      "2025-06-13T22:56:45.771 +02:00 -|- FastTransfer -|- MSS22_to_MSS25 -|- INFORMATION -|- tpch_test.dbo.orders_7_primarykey -|- Completed Load Query 5 for o_orderkey between 20160224 and 24192837 : 937501 rows x 9 columns in 15454ms\n",
      "2025-06-13T22:56:45.777 +02:00 -|- FastTransfer -|- MSS22_to_MSS25 -|- INFORMATION -|- tpch_test.dbo.orders_7_primarykey -|- Completed Load Query 11 for o_orderkey between 44350020 and 48381669 : 937501 rows x 9 columns in 15459ms\n",
      "2025-06-13T22:56:45.988 +02:00 -|- FastTransfer -|- MSS22_to_MSS25 -|- INFORMATION -|- tpch_test.dbo.orders_7_primarykey -|- Completed Load Query 3 for o_orderkey between 12095556 and 16128901 : 937501 rows x 9 columns in 15671ms\n",
      "2025-06-13T22:56:46.062 +02:00 -|- FastTransfer -|- MSS22_to_MSS25 -|- INFORMATION -|- tpch_test.dbo.orders_7_primarykey -|- Completed Load Query 12 for o_orderkey between 48381670 and 52413159 : 937501 rows x 9 columns in 15744ms\n",
      "2025-06-13T22:56:47.278 +02:00 -|- FastTransfer -|- MSS22_to_MSS25 -|- INFORMATION -|- tpch_test.dbo.orders_7_primarykey -|- Completed Load Query 8 for o_orderkey between 32255682 and 36288229 : 937501 rows x 9 columns in 16961ms\n",
      "2025-06-13T22:56:47.399 +02:00 -|- FastTransfer -|- MSS22_to_MSS25 -|- INFORMATION -|- tpch_test.dbo.orders_7_primarykey -|- Completed Load Query 14 for o_orderkey between 56445282 and 66373955 : 937501 rows x 9 columns in 17081ms\n",
      "2025-06-13T22:56:47.964 +02:00 -|- FastTransfer -|- MSS22_to_MSS25 -|- INFORMATION -|- tpch_test.dbo.orders_7_primarykey -|- Completed Load Query 9 for o_orderkey between 36288230 and 40319808 : 937501 rows x 9 columns in 17646ms\n",
      "2025-06-13T22:56:47.967 +02:00 -|- FastTransfer -|- MSS22_to_MSS25 -|- INFORMATION -|- tpch_test.dbo.orders_7_primarykey -|- Total rows : 15000000\n",
      "2025-06-13T22:56:47.967 +02:00 -|- FastTransfer -|- MSS22_to_MSS25 -|- INFORMATION -|- tpch_test.dbo.orders_7_primarykey -|- Total columns : 9\n",
      "2025-06-13T22:56:47.967 +02:00 -|- FastTransfer -|- MSS22_to_MSS25 -|- INFORMATION -|- tpch_test.dbo.orders_7_primarykey -|- Total cells : 135000000\n",
      "2025-06-13T22:56:47.967 +02:00 -|- FastTransfer -|- MSS22_to_MSS25 -|- INFORMATION -|- tpch_test.dbo.orders_7_primarykey -|- Rows Throughput : 787926 rows/s\n",
      "2025-06-13T22:56:47.967 +02:00 -|- FastTransfer -|- MSS22_to_MSS25 -|- INFORMATION -|- tpch_test.dbo.orders_7_primarykey -|- Cells Throughput : 7091346 cells/s\n",
      "2025-06-13T22:56:47.967 +02:00 -|- FastTransfer -|- MSS22_to_MSS25 -|- INFORMATION -|- tpch_test.dbo.orders_7_primarykey -|- Transfert time : Elapsed=19037 ms\n",
      "2025-06-13T22:56:47.967 +02:00 -|- FastTransfer -|- MSS22_to_MSS25 -|- INFORMATION -|- tpch_test.dbo.orders_7_primarykey -|- Total time : Elapsed=19239 ms\n",
      "2025-06-13T22:56:47.967 +02:00 -|- FastTransfer -|- MSS22_to_MSS25 -|- INFORMATION -|- tpch_test.dbo.orders_7_primarykey -|- Completed Load\n"
     ]
    }
   ],
   "source": [
    "cd D:\\FastTransfer\n",
    "\n",
    ".\\FastTransfer.exe `\n",
    "--sourceconnectiontype \"mssql\" `\n",
    "--sourceserver \"localhost\" `\n",
    "--sourcedatabase \"tpch10_collation_bin2\" `\n",
    "--sourcetrusted `\n",
    "--sourceschema \"dbo\" `\n",
    "--sourcetable \"orders_15M\" `\n",
    "`\n",
    "--targetconnectiontype \"msbulk\" `\n",
    "--targetserver \"localhost\\SS2025\" `\n",
    "--targettrusted `\n",
    "--targetdatabase \"tpch_test\" `\n",
    "--targetschema \"dbo\" `\n",
    "--targettable \"orders_7_primarykey\" `\n",
    "`\n",
    "--loadmode \"Truncate\" `\n",
    "--mapmethod \"Name\" `\n",
    "--method \"Ntile\" `\n",
    "--distributekeycolumn \"o_orderkey\" `\n",
    "--degree -2 `\n",
    "--runid \"MSS22_to_MSS25\""
   ]
  },
  {
   "cell_type": "markdown",
   "id": "53939b11",
   "metadata": {},
   "source": [
    "#### Target orders with a primary key and 2 secondary index\n",
    "\n",
    "Check sp_whoisactive results during load"
   ]
  },
  {
   "cell_type": "code",
   "execution_count": null,
   "id": "df137a4b",
   "metadata": {
    "polyglot_notebook": {
     "kernelName": "sql-SS2025_tpch_test"
    }
   },
   "outputs": [
    {
     "data": {
      "text/plain": [
       "Commandes exécutées."
      ]
     },
     "metadata": {},
     "output_type": "display_data"
    }
   ],
   "source": [
    "CREATE INDEX IX_o_orderdate ON orders_7_primarykey(o_orderdate);"
   ]
  },
  {
   "cell_type": "code",
   "execution_count": null,
   "id": "568fb09e",
   "metadata": {
    "polyglot_notebook": {
     "kernelName": "pwsh"
    }
   },
   "outputs": [
    {
     "name": "stdout",
     "output_type": "stream",
     "text": [
      "2025-06-13T22:56:50.743 +02:00 -|- FastTransfer -|- MSS22_to_MSS25 -|- INFORMATION -|- tpch_test.dbo.orders_7_primarykey -|- Starting\n",
      "2025-06-13T22:56:50.752 +02:00 -|- FastTransfer -|- MSS22_to_MSS25 -|- INFORMATION -|- tpch_test.dbo.orders_7_primarykey -|- FastTransfer Version : 0.13.4.0 Architecture : X64 - Framework : .NET 8.0.15\n",
      "2025-06-13T22:56:50.752 +02:00 -|- FastTransfer -|- MSS22_to_MSS25 -|- INFORMATION -|- tpch_test.dbo.orders_7_primarykey -|- OS : Microsoft Windows 10.0.26100\n",
      "2025-06-13T22:56:50.752 +02:00 -|- FastTransfer -|- MSS22_to_MSS25 -|- INFORMATION -|- tpch_test.dbo.orders_7_primarykey -|- Process ID : 50964\n",
      "2025-06-13T22:56:50.752 +02:00 -|- FastTransfer -|- MSS22_to_MSS25 -|- INFORMATION -|- tpch_test.dbo.orders_7_primarykey -|- Provided Run ID : MSS22_to_MSS25\n",
      "2025-06-13T22:56:50.752 +02:00 -|- FastTransfer -|- MSS22_to_MSS25 -|- INFORMATION -|- tpch_test.dbo.orders_7_primarykey -|- Source Connection Type : mssql\n",
      "2025-06-13T22:56:50.752 +02:00 -|- FastTransfer -|- MSS22_to_MSS25 -|- INFORMATION -|- tpch_test.dbo.orders_7_primarykey -|- Source SqlInstance : localhost\n",
      "2025-06-13T22:56:50.752 +02:00 -|- FastTransfer -|- MSS22_to_MSS25 -|- INFORMATION -|- tpch_test.dbo.orders_7_primarykey -|- Source Database : tpch10_collation_bin2\n",
      "2025-06-13T22:56:50.753 +02:00 -|- FastTransfer -|- MSS22_to_MSS25 -|- INFORMATION -|- tpch_test.dbo.orders_7_primarykey -|- Source Trusted Connection : True\n",
      "2025-06-13T22:56:50.753 +02:00 -|- FastTransfer -|- MSS22_to_MSS25 -|- INFORMATION -|- tpch_test.dbo.orders_7_primarykey -|- Source Schema : dbo\n",
      "2025-06-13T22:56:50.753 +02:00 -|- FastTransfer -|- MSS22_to_MSS25 -|- INFORMATION -|- tpch_test.dbo.orders_7_primarykey -|- Source Table : orders_15M\n",
      "2025-06-13T22:56:50.753 +02:00 -|- FastTransfer -|- MSS22_to_MSS25 -|- INFORMATION -|- tpch_test.dbo.orders_7_primarykey -|- Target Type : msbulk\n",
      "2025-06-13T22:56:50.753 +02:00 -|- FastTransfer -|- MSS22_to_MSS25 -|- INFORMATION -|- tpch_test.dbo.orders_7_primarykey -|- Target Server : localhost\\SS2025\n",
      "2025-06-13T22:56:50.753 +02:00 -|- FastTransfer -|- MSS22_to_MSS25 -|- INFORMATION -|- tpch_test.dbo.orders_7_primarykey -|- Target Database : tpch_test\n",
      "2025-06-13T22:56:50.753 +02:00 -|- FastTransfer -|- MSS22_to_MSS25 -|- INFORMATION -|- tpch_test.dbo.orders_7_primarykey -|- Target Schema : dbo\n",
      "2025-06-13T22:56:50.753 +02:00 -|- FastTransfer -|- MSS22_to_MSS25 -|- INFORMATION -|- tpch_test.dbo.orders_7_primarykey -|- Target Table : orders_7_primarykey\n",
      "2025-06-13T22:56:50.753 +02:00 -|- FastTransfer -|- MSS22_to_MSS25 -|- INFORMATION -|- tpch_test.dbo.orders_7_primarykey -|- Target Trusted Connection : True\n",
      "2025-06-13T22:56:50.753 +02:00 -|- FastTransfer -|- MSS22_to_MSS25 -|- INFORMATION -|- tpch_test.dbo.orders_7_primarykey -|- Columns Map Method : Name\n",
      "2025-06-13T22:56:50.753 +02:00 -|- FastTransfer -|- MSS22_to_MSS25 -|- INFORMATION -|- tpch_test.dbo.orders_7_primarykey -|- Degree : -2\n",
      "2025-06-13T22:56:50.753 +02:00 -|- FastTransfer -|- MSS22_to_MSS25 -|- INFORMATION -|- tpch_test.dbo.orders_7_primarykey -|- Distribute Method : Ntile\n",
      "2025-06-13T22:56:50.753 +02:00 -|- FastTransfer -|- MSS22_to_MSS25 -|- INFORMATION -|- tpch_test.dbo.orders_7_primarykey -|- Distribute Column : o_orderkey\n",
      "2025-06-13T22:56:50.753 +02:00 -|- FastTransfer -|- MSS22_to_MSS25 -|- INFORMATION -|- tpch_test.dbo.orders_7_primarykey -|- Bulkcopy Batch Size : 1048576\n",
      "2025-06-13T22:56:50.753 +02:00 -|- FastTransfer -|- MSS22_to_MSS25 -|- INFORMATION -|- tpch_test.dbo.orders_7_primarykey -|- Load Mode : Truncate\n",
      "2025-06-13T22:56:50.753 +02:00 -|- FastTransfer -|- MSS22_to_MSS25 -|- INFORMATION -|- tpch_test.dbo.orders_7_primarykey -|- Use Work Tables : False\n",
      "2025-06-13T22:56:50.753 +02:00 -|- FastTransfer -|- MSS22_to_MSS25 -|- INFORMATION -|- tpch_test.dbo.orders_7_primarykey -|- Encoding used : Unicode (UTF-8) - 65001 - utf-8\n",
      "2025-06-13T22:56:50.768 +02:00 -|- FastTransfer -|- MSS22_to_MSS25 -|- INFORMATION -|- tpch_test.dbo.orders_7_primarykey -|- Source Connection String : Data Source=localhost;Initial Catalog=tpch10_collation_bin2;Integrated Security=True;Connect Timeout=120;Encrypt=True;Trust Server Certificate=True;Application Name=FastTransfer;Application Intent=ReadOnly;Command Timeout=10800\n",
      "2025-06-13T22:56:50.768 +02:00 -|- FastTransfer -|- MSS22_to_MSS25 -|- INFORMATION -|- tpch_test.dbo.orders_7_primarykey -|- Target Connection String : Data Source=localhost\\SS2025;Initial Catalog=tpch_test;Integrated Security=True;Connect Timeout=120;Encrypt=True;Trust Server Certificate=True;Application Name=FastTransfer;Application Intent=ReadWrite;Command Timeout=10800\n",
      "2025-06-13T22:56:50.768 +02:00 -|- FastTransfer -|- MSS22_to_MSS25 -|- INFORMATION -|- tpch_test.dbo.orders_7_primarykey -|- Source Database Version : Microsoft SQL Server 2022 (RTM-CU17) (KB5048038) - 16.0.4175.1 (X64)  \tDec 13 2024 09:01:53  \tCopyright (C) 2022 Microsoft Corporation \tDeveloper Edition (64-bit) on Windows 10 Pro 10.0 <X64> (Build 26100: ) (Hypervisor) \n",
      "2025-06-13T22:56:50.768 +02:00 -|- FastTransfer -|- MSS22_to_MSS25 -|- INFORMATION -|- tpch_test.dbo.orders_7_primarykey -|- Target Database Version : Microsoft SQL Server 2025 (CTP2.0) - 17.0.700.9 (X64)  \tMay  8 2025 19:14:27  \tCopyright (C) 2025 Microsoft Corporation \tEnterprise Developer Edition (64-bit) on Windows 10 Pro 10.0 <X64> (Build 26100: ) (Hypervisor) \n",
      "2025-06-13T22:56:50.774 +02:00 -|- FastTransfer -|- MSS22_to_MSS25 -|- INFORMATION -|- tpch_test.dbo.orders_7_primarykey -|- Degree of parallelism was computed to 16 (=> 32\\2)\n",
      "2025-06-13T22:56:52.148 +02:00 -|- FastTransfer -|- MSS22_to_MSS25 -|- INFORMATION -|- tpch_test.dbo.orders_7_primarykey -|- Ntile DataSegments Computation Completed in 1374 ms\n",
      "2025-06-13T22:56:52.153 +02:00 -|- FastTransfer -|- MSS22_to_MSS25 -|- INFORMATION -|- tpch_test.dbo.orders_7_primarykey -|- Start Loading Data using distribution method NTile\n",
      "2025-06-13T22:56:52.154 +02:00 -|- FastTransfer -|- MSS22_to_MSS25 -|- INFORMATION -|- tpch_test.dbo.orders_7_primarykey -|- Table \"dbo\".\"orders_7_primarykey\" has a Clustered Index. BulkCopy will use KeepNulls and UseInternalTransaction and avoid Tablock\n",
      "2025-06-13T22:56:52.155 +02:00 -|- FastTransfer -|- MSS22_to_MSS25 -|- INFORMATION -|- tpch_test.dbo.orders_7_primarykey -|- BulkCopy to \"dbo\".\"orders_7_primarykey\" with BatchSize = 1048576, Timeout = 3600\n",
      "2025-06-13T22:56:52.156 +02:00 -|- FastTransfer -|- MSS22_to_MSS25 -|- WARNING -|- tpch_test.dbo.orders_7_primarykey -|- Only 9 out of 10 columns were mapped by name to the target table \"dbo\".\"orders_7_primarykey\"\n",
      "2025-06-13T22:56:52.164 +02:00 -|- FastTransfer -|- MSS22_to_MSS25 -|- INFORMATION -|- tpch_test.dbo.orders_7_primarykey -|- Start Loading Data using distribution method NTile\n",
      "2025-06-13T22:56:52.165 +02:00 -|- FastTransfer -|- MSS22_to_MSS25 -|- INFORMATION -|- tpch_test.dbo.orders_7_primarykey -|- Table \"dbo\".\"orders_7_primarykey\" has a Clustered Index. BulkCopy will use KeepNulls and UseInternalTransaction and avoid Tablock\n",
      "2025-06-13T22:56:52.165 +02:00 -|- FastTransfer -|- MSS22_to_MSS25 -|- INFORMATION -|- tpch_test.dbo.orders_7_primarykey -|- BulkCopy to \"dbo\".\"orders_7_primarykey\" with BatchSize = 1048576, Timeout = 3600\n",
      "2025-06-13T22:56:52.166 +02:00 -|- FastTransfer -|- MSS22_to_MSS25 -|- WARNING -|- tpch_test.dbo.orders_7_primarykey -|- Only 9 out of 10 columns were mapped by name to the target table \"dbo\".\"orders_7_primarykey\"\n",
      "2025-06-13T22:56:52.167 +02:00 -|- FastTransfer -|- MSS22_to_MSS25 -|- INFORMATION -|- tpch_test.dbo.orders_7_primarykey -|- Start Loading Data using distribution method NTile\n",
      "2025-06-13T22:56:52.167 +02:00 -|- FastTransfer -|- MSS22_to_MSS25 -|- INFORMATION -|- tpch_test.dbo.orders_7_primarykey -|- Table \"dbo\".\"orders_7_primarykey\" has a Clustered Index. BulkCopy will use KeepNulls and UseInternalTransaction and avoid Tablock\n",
      "2025-06-13T22:56:52.168 +02:00 -|- FastTransfer -|- MSS22_to_MSS25 -|- INFORMATION -|- tpch_test.dbo.orders_7_primarykey -|- BulkCopy to \"dbo\".\"orders_7_primarykey\" with BatchSize = 1048576, Timeout = 3600\n",
      "2025-06-13T22:56:52.169 +02:00 -|- FastTransfer -|- MSS22_to_MSS25 -|- WARNING -|- tpch_test.dbo.orders_7_primarykey -|- Only 9 out of 10 columns were mapped by name to the target table \"dbo\".\"orders_7_primarykey\"\n",
      "2025-06-13T22:56:52.173 +02:00 -|- FastTransfer -|- MSS22_to_MSS25 -|- INFORMATION -|- tpch_test.dbo.orders_7_primarykey -|- Start Loading Data using distribution method NTile\n",
      "2025-06-13T22:56:52.174 +02:00 -|- FastTransfer -|- MSS22_to_MSS25 -|- INFORMATION -|- tpch_test.dbo.orders_7_primarykey -|- Table \"dbo\".\"orders_7_primarykey\" has a Clustered Index. BulkCopy will use KeepNulls and UseInternalTransaction and avoid Tablock\n",
      "2025-06-13T22:56:52.174 +02:00 -|- FastTransfer -|- MSS22_to_MSS25 -|- INFORMATION -|- tpch_test.dbo.orders_7_primarykey -|- BulkCopy to \"dbo\".\"orders_7_primarykey\" with BatchSize = 1048576, Timeout = 3600\n",
      "2025-06-13T22:56:52.175 +02:00 -|- FastTransfer -|- MSS22_to_MSS25 -|- WARNING -|- tpch_test.dbo.orders_7_primarykey -|- Only 9 out of 10 columns were mapped by name to the target table \"dbo\".\"orders_7_primarykey\"\n",
      "2025-06-13T22:56:52.176 +02:00 -|- FastTransfer -|- MSS22_to_MSS25 -|- INFORMATION -|- tpch_test.dbo.orders_7_primarykey -|- Start Loading Data using distribution method NTile\n",
      "2025-06-13T22:56:52.177 +02:00 -|- FastTransfer -|- MSS22_to_MSS25 -|- INFORMATION -|- tpch_test.dbo.orders_7_primarykey -|- Table \"dbo\".\"orders_7_primarykey\" has a Clustered Index. BulkCopy will use KeepNulls and UseInternalTransaction and avoid Tablock\n",
      "2025-06-13T22:56:52.177 +02:00 -|- FastTransfer -|- MSS22_to_MSS25 -|- INFORMATION -|- tpch_test.dbo.orders_7_primarykey -|- BulkCopy to \"dbo\".\"orders_7_primarykey\" with BatchSize = 1048576, Timeout = 3600\n",
      "2025-06-13T22:56:52.178 +02:00 -|- FastTransfer -|- MSS22_to_MSS25 -|- WARNING -|- tpch_test.dbo.orders_7_primarykey -|- Only 9 out of 10 columns were mapped by name to the target table \"dbo\".\"orders_7_primarykey\"\n",
      "2025-06-13T22:56:52.183 +02:00 -|- FastTransfer -|- MSS22_to_MSS25 -|- INFORMATION -|- tpch_test.dbo.orders_7_primarykey -|- Start Loading Data using distribution method NTile\n",
      "2025-06-13T22:56:52.183 +02:00 -|- FastTransfer -|- MSS22_to_MSS25 -|- INFORMATION -|- tpch_test.dbo.orders_7_primarykey -|- Table \"dbo\".\"orders_7_primarykey\" has a Clustered Index. BulkCopy will use KeepNulls and UseInternalTransaction and avoid Tablock\n",
      "2025-06-13T22:56:52.184 +02:00 -|- FastTransfer -|- MSS22_to_MSS25 -|- INFORMATION -|- tpch_test.dbo.orders_7_primarykey -|- BulkCopy to \"dbo\".\"orders_7_primarykey\" with BatchSize = 1048576, Timeout = 3600\n",
      "2025-06-13T22:56:52.185 +02:00 -|- FastTransfer -|- MSS22_to_MSS25 -|- WARNING -|- tpch_test.dbo.orders_7_primarykey -|- Only 9 out of 10 columns were mapped by name to the target table \"dbo\".\"orders_7_primarykey\"\n",
      "2025-06-13T22:56:52.186 +02:00 -|- FastTransfer -|- MSS22_to_MSS25 -|- INFORMATION -|- tpch_test.dbo.orders_7_primarykey -|- Start Loading Data using distribution method NTile\n",
      "2025-06-13T22:56:52.187 +02:00 -|- FastTransfer -|- MSS22_to_MSS25 -|- INFORMATION -|- tpch_test.dbo.orders_7_primarykey -|- Table \"dbo\".\"orders_7_primarykey\" has a Clustered Index. BulkCopy will use KeepNulls and UseInternalTransaction and avoid Tablock\n",
      "2025-06-13T22:56:52.187 +02:00 -|- FastTransfer -|- MSS22_to_MSS25 -|- INFORMATION -|- tpch_test.dbo.orders_7_primarykey -|- BulkCopy to \"dbo\".\"orders_7_primarykey\" with BatchSize = 1048576, Timeout = 3600\n",
      "2025-06-13T22:56:52.188 +02:00 -|- FastTransfer -|- MSS22_to_MSS25 -|- WARNING -|- tpch_test.dbo.orders_7_primarykey -|- Only 9 out of 10 columns were mapped by name to the target table \"dbo\".\"orders_7_primarykey\"\n",
      "2025-06-13T22:56:52.196 +02:00 -|- FastTransfer -|- MSS22_to_MSS25 -|- INFORMATION -|- tpch_test.dbo.orders_7_primarykey -|- Start Loading Data using distribution method NTile\n",
      "2025-06-13T22:56:52.196 +02:00 -|- FastTransfer -|- MSS22_to_MSS25 -|- INFORMATION -|- tpch_test.dbo.orders_7_primarykey -|- Table \"dbo\".\"orders_7_primarykey\" has a Clustered Index. BulkCopy will use KeepNulls and UseInternalTransaction and avoid Tablock\n",
      "2025-06-13T22:56:52.197 +02:00 -|- FastTransfer -|- MSS22_to_MSS25 -|- INFORMATION -|- tpch_test.dbo.orders_7_primarykey -|- BulkCopy to \"dbo\".\"orders_7_primarykey\" with BatchSize = 1048576, Timeout = 3600\n",
      "2025-06-13T22:56:52.198 +02:00 -|- FastTransfer -|- MSS22_to_MSS25 -|- WARNING -|- tpch_test.dbo.orders_7_primarykey -|- Only 9 out of 10 columns were mapped by name to the target table \"dbo\".\"orders_7_primarykey\"\n",
      "2025-06-13T22:56:52.204 +02:00 -|- FastTransfer -|- MSS22_to_MSS25 -|- INFORMATION -|- tpch_test.dbo.orders_7_primarykey -|- Start Loading Data using distribution method NTile\n",
      "2025-06-13T22:56:52.205 +02:00 -|- FastTransfer -|- MSS22_to_MSS25 -|- INFORMATION -|- tpch_test.dbo.orders_7_primarykey -|- Table \"dbo\".\"orders_7_primarykey\" has a Clustered Index. BulkCopy will use KeepNulls and UseInternalTransaction and avoid Tablock\n",
      "2025-06-13T22:56:52.205 +02:00 -|- FastTransfer -|- MSS22_to_MSS25 -|- INFORMATION -|- tpch_test.dbo.orders_7_primarykey -|- BulkCopy to \"dbo\".\"orders_7_primarykey\" with BatchSize = 1048576, Timeout = 3600\n",
      "2025-06-13T22:56:52.211 +02:00 -|- FastTransfer -|- MSS22_to_MSS25 -|- WARNING -|- tpch_test.dbo.orders_7_primarykey -|- Only 9 out of 10 columns were mapped by name to the target table \"dbo\".\"orders_7_primarykey\"\n",
      "2025-06-13T22:56:52.219 +02:00 -|- FastTransfer -|- MSS22_to_MSS25 -|- INFORMATION -|- tpch_test.dbo.orders_7_primarykey -|- Start Loading Data using distribution method NTile\n",
      "2025-06-13T22:56:52.219 +02:00 -|- FastTransfer -|- MSS22_to_MSS25 -|- INFORMATION -|- tpch_test.dbo.orders_7_primarykey -|- Table \"dbo\".\"orders_7_primarykey\" has a Clustered Index. BulkCopy will use KeepNulls and UseInternalTransaction and avoid Tablock\n",
      "2025-06-13T22:56:52.219 +02:00 -|- FastTransfer -|- MSS22_to_MSS25 -|- INFORMATION -|- tpch_test.dbo.orders_7_primarykey -|- BulkCopy to \"dbo\".\"orders_7_primarykey\" with BatchSize = 1048576, Timeout = 3600\n",
      "2025-06-13T22:56:52.221 +02:00 -|- FastTransfer -|- MSS22_to_MSS25 -|- WARNING -|- tpch_test.dbo.orders_7_primarykey -|- Only 9 out of 10 columns were mapped by name to the target table \"dbo\".\"orders_7_primarykey\"\n",
      "2025-06-13T22:56:52.226 +02:00 -|- FastTransfer -|- MSS22_to_MSS25 -|- INFORMATION -|- tpch_test.dbo.orders_7_primarykey -|- Start Loading Data using distribution method NTile\n",
      "2025-06-13T22:56:52.226 +02:00 -|- FastTransfer -|- MSS22_to_MSS25 -|- INFORMATION -|- tpch_test.dbo.orders_7_primarykey -|- Table \"dbo\".\"orders_7_primarykey\" has a Clustered Index. BulkCopy will use KeepNulls and UseInternalTransaction and avoid Tablock\n",
      "2025-06-13T22:56:52.226 +02:00 -|- FastTransfer -|- MSS22_to_MSS25 -|- INFORMATION -|- tpch_test.dbo.orders_7_primarykey -|- BulkCopy to \"dbo\".\"orders_7_primarykey\" with BatchSize = 1048576, Timeout = 3600\n",
      "2025-06-13T22:56:52.227 +02:00 -|- FastTransfer -|- MSS22_to_MSS25 -|- WARNING -|- tpch_test.dbo.orders_7_primarykey -|- Only 9 out of 10 columns were mapped by name to the target table \"dbo\".\"orders_7_primarykey\"\n",
      "2025-06-13T22:56:52.228 +02:00 -|- FastTransfer -|- MSS22_to_MSS25 -|- INFORMATION -|- tpch_test.dbo.orders_7_primarykey -|- Start Loading Data using distribution method NTile\n",
      "2025-06-13T22:56:52.229 +02:00 -|- FastTransfer -|- MSS22_to_MSS25 -|- INFORMATION -|- tpch_test.dbo.orders_7_primarykey -|- Table \"dbo\".\"orders_7_primarykey\" has a Clustered Index. BulkCopy will use KeepNulls and UseInternalTransaction and avoid Tablock\n",
      "2025-06-13T22:56:52.229 +02:00 -|- FastTransfer -|- MSS22_to_MSS25 -|- INFORMATION -|- tpch_test.dbo.orders_7_primarykey -|- BulkCopy to \"dbo\".\"orders_7_primarykey\" with BatchSize = 1048576, Timeout = 3600\n",
      "2025-06-13T22:56:52.230 +02:00 -|- FastTransfer -|- MSS22_to_MSS25 -|- WARNING -|- tpch_test.dbo.orders_7_primarykey -|- Only 9 out of 10 columns were mapped by name to the target table \"dbo\".\"orders_7_primarykey\"\n",
      "2025-06-13T22:56:52.232 +02:00 -|- FastTransfer -|- MSS22_to_MSS25 -|- INFORMATION -|- tpch_test.dbo.orders_7_primarykey -|- Start Loading Data using distribution method NTile\n",
      "2025-06-13T22:56:52.232 +02:00 -|- FastTransfer -|- MSS22_to_MSS25 -|- INFORMATION -|- tpch_test.dbo.orders_7_primarykey -|- Table \"dbo\".\"orders_7_primarykey\" has a Clustered Index. BulkCopy will use KeepNulls and UseInternalTransaction and avoid Tablock\n",
      "2025-06-13T22:56:52.232 +02:00 -|- FastTransfer -|- MSS22_to_MSS25 -|- INFORMATION -|- tpch_test.dbo.orders_7_primarykey -|- BulkCopy to \"dbo\".\"orders_7_primarykey\" with BatchSize = 1048576, Timeout = 3600\n",
      "2025-06-13T22:56:52.234 +02:00 -|- FastTransfer -|- MSS22_to_MSS25 -|- WARNING -|- tpch_test.dbo.orders_7_primarykey -|- Only 9 out of 10 columns were mapped by name to the target table \"dbo\".\"orders_7_primarykey\"\n",
      "2025-06-13T22:56:52.235 +02:00 -|- FastTransfer -|- MSS22_to_MSS25 -|- INFORMATION -|- tpch_test.dbo.orders_7_primarykey -|- Start Loading Data using distribution method NTile\n",
      "2025-06-13T22:56:52.236 +02:00 -|- FastTransfer -|- MSS22_to_MSS25 -|- INFORMATION -|- tpch_test.dbo.orders_7_primarykey -|- Table \"dbo\".\"orders_7_primarykey\" has a Clustered Index. BulkCopy will use KeepNulls and UseInternalTransaction and avoid Tablock\n",
      "2025-06-13T22:56:52.236 +02:00 -|- FastTransfer -|- MSS22_to_MSS25 -|- INFORMATION -|- tpch_test.dbo.orders_7_primarykey -|- BulkCopy to \"dbo\".\"orders_7_primarykey\" with BatchSize = 1048576, Timeout = 3600\n",
      "2025-06-13T22:56:52.237 +02:00 -|- FastTransfer -|- MSS22_to_MSS25 -|- WARNING -|- tpch_test.dbo.orders_7_primarykey -|- Only 9 out of 10 columns were mapped by name to the target table \"dbo\".\"orders_7_primarykey\"\n",
      "2025-06-13T22:56:52.238 +02:00 -|- FastTransfer -|- MSS22_to_MSS25 -|- INFORMATION -|- tpch_test.dbo.orders_7_primarykey -|- Start Loading Data using distribution method NTile\n",
      "2025-06-13T22:56:52.238 +02:00 -|- FastTransfer -|- MSS22_to_MSS25 -|- INFORMATION -|- tpch_test.dbo.orders_7_primarykey -|- Table \"dbo\".\"orders_7_primarykey\" has a Clustered Index. BulkCopy will use KeepNulls and UseInternalTransaction and avoid Tablock\n",
      "2025-06-13T22:56:52.239 +02:00 -|- FastTransfer -|- MSS22_to_MSS25 -|- INFORMATION -|- tpch_test.dbo.orders_7_primarykey -|- BulkCopy to \"dbo\".\"orders_7_primarykey\" with BatchSize = 1048576, Timeout = 3600\n",
      "2025-06-13T22:56:52.240 +02:00 -|- FastTransfer -|- MSS22_to_MSS25 -|- WARNING -|- tpch_test.dbo.orders_7_primarykey -|- Only 9 out of 10 columns were mapped by name to the target table \"dbo\".\"orders_7_primarykey\"\n",
      "2025-06-13T22:56:52.242 +02:00 -|- FastTransfer -|- MSS22_to_MSS25 -|- INFORMATION -|- tpch_test.dbo.orders_7_primarykey -|- Start Loading Data using distribution method NTile\n",
      "2025-06-13T22:56:52.242 +02:00 -|- FastTransfer -|- MSS22_to_MSS25 -|- INFORMATION -|- tpch_test.dbo.orders_7_primarykey -|- Table \"dbo\".\"orders_7_primarykey\" has a Clustered Index. BulkCopy will use KeepNulls and UseInternalTransaction and avoid Tablock\n",
      "2025-06-13T22:56:52.242 +02:00 -|- FastTransfer -|- MSS22_to_MSS25 -|- INFORMATION -|- tpch_test.dbo.orders_7_primarykey -|- BulkCopy to \"dbo\".\"orders_7_primarykey\" with BatchSize = 1048576, Timeout = 3600\n",
      "2025-06-13T22:56:52.243 +02:00 -|- FastTransfer -|- MSS22_to_MSS25 -|- WARNING -|- tpch_test.dbo.orders_7_primarykey -|- Only 9 out of 10 columns were mapped by name to the target table \"dbo\".\"orders_7_primarykey\"\n",
      "2025-06-13T22:57:00.145 +02:00 -|- FastTransfer -|- MSS22_to_MSS25 -|- INFORMATION -|- tpch_test.dbo.orders_7_primarykey -|- Completed Load Query 0 for o_orderkey between 1 and 4030401 : 937500 rows x 9 columns in 7992ms\n",
      "2025-06-13T22:57:07.713 +02:00 -|- FastTransfer -|- MSS22_to_MSS25 -|- INFORMATION -|- tpch_test.dbo.orders_7_primarykey -|- Completed Load Query 15 for o_orderkey between 66374081 and 119999974 : 937486 rows x 9 columns in 15558ms\n",
      "2025-06-13T22:57:08.624 +02:00 -|- FastTransfer -|- MSS22_to_MSS25 -|- INFORMATION -|- tpch_test.dbo.orders_7_primarykey -|- Completed Load Query 2 for o_orderkey between 8063200 and 12095555 : 937501 rows x 9 columns in 16471ms\n",
      "2025-06-13T22:57:14.209 +02:00 -|- FastTransfer -|- MSS22_to_MSS25 -|- INFORMATION -|- tpch_test.dbo.orders_7_primarykey -|- Completed Load Query 5 for o_orderkey between 20160224 and 24192837 : 937501 rows x 9 columns in 22056ms\n",
      "2025-06-13T22:57:16.676 +02:00 -|- FastTransfer -|- MSS22_to_MSS25 -|- INFORMATION -|- tpch_test.dbo.orders_7_primarykey -|- Completed Load Query 3 for o_orderkey between 12095556 and 16128901 : 937501 rows x 9 columns in 24523ms\n",
      "2025-06-13T22:57:19.590 +02:00 -|- FastTransfer -|- MSS22_to_MSS25 -|- INFORMATION -|- tpch_test.dbo.orders_7_primarykey -|- Completed Load Query 12 for o_orderkey between 48381670 and 52413159 : 937501 rows x 9 columns in 27435ms\n",
      "2025-06-13T22:57:21.393 +02:00 -|- FastTransfer -|- MSS22_to_MSS25 -|- INFORMATION -|- tpch_test.dbo.orders_7_primarykey -|- Completed Load Query 4 for o_orderkey between 16128902 and 20160199 : 937501 rows x 9 columns in 29240ms\n",
      "2025-06-13T22:57:26.775 +02:00 -|- FastTransfer -|- MSS22_to_MSS25 -|- INFORMATION -|- tpch_test.dbo.orders_7_primarykey -|- Completed Load Query 9 for o_orderkey between 36288230 and 40319808 : 937501 rows x 9 columns in 34620ms\n",
      "2025-06-13T22:57:27.178 +02:00 -|- FastTransfer -|- MSS22_to_MSS25 -|- INFORMATION -|- tpch_test.dbo.orders_7_primarykey -|- Completed Load Query 6 for o_orderkey between 24192838 and 28226534 : 937501 rows x 9 columns in 35025ms\n",
      "2025-06-13T22:57:29.675 +02:00 -|- FastTransfer -|- MSS22_to_MSS25 -|- INFORMATION -|- tpch_test.dbo.orders_7_primarykey -|- Completed Load Query 7 for o_orderkey between 28226535 and 32255681 : 937501 rows x 9 columns in 37521ms\n",
      "2025-06-13T22:57:34.336 +02:00 -|- FastTransfer -|- MSS22_to_MSS25 -|- INFORMATION -|- tpch_test.dbo.orders_7_primarykey -|- Completed Load Query 10 for o_orderkey between 40319809 and 44350019 : 937501 rows x 9 columns in 42182ms\n",
      "2025-06-13T22:57:34.490 +02:00 -|- FastTransfer -|- MSS22_to_MSS25 -|- INFORMATION -|- tpch_test.dbo.orders_7_primarykey -|- Completed Load Query 8 for o_orderkey between 32255682 and 36288229 : 937501 rows x 9 columns in 42336ms\n",
      "2025-06-13T22:57:38.126 +02:00 -|- FastTransfer -|- MSS22_to_MSS25 -|- INFORMATION -|- tpch_test.dbo.orders_7_primarykey -|- Completed Load Query 11 for o_orderkey between 44350020 and 48381669 : 937501 rows x 9 columns in 45971ms\n",
      "2025-06-13T22:57:42.486 +02:00 -|- FastTransfer -|- MSS22_to_MSS25 -|- INFORMATION -|- tpch_test.dbo.orders_7_primarykey -|- Completed Load Query 13 for o_orderkey between 52413184 and 56445281 : 937501 rows x 9 columns in 50331ms\n",
      "2025-06-13T22:57:46.424 +02:00 -|- FastTransfer -|- MSS22_to_MSS25 -|- INFORMATION -|- tpch_test.dbo.orders_7_primarykey -|- Completed Load Query 14 for o_orderkey between 56445282 and 66373955 : 937501 rows x 9 columns in 54269ms\n",
      "2025-06-13T22:57:48.740 +02:00 -|- FastTransfer -|- MSS22_to_MSS25 -|- INFORMATION -|- tpch_test.dbo.orders_7_primarykey -|- Completed Load Query 1 for o_orderkey between 4030402 and 8063175 : 937501 rows x 9 columns in 56587ms\n",
      "2025-06-13T22:57:48.740 +02:00 -|- FastTransfer -|- MSS22_to_MSS25 -|- INFORMATION -|- tpch_test.dbo.orders_7_primarykey -|- Total rows : 15000000\n",
      "2025-06-13T22:57:48.740 +02:00 -|- FastTransfer -|- MSS22_to_MSS25 -|- INFORMATION -|- tpch_test.dbo.orders_7_primarykey -|- Total columns : 9\n",
      "2025-06-13T22:57:48.741 +02:00 -|- FastTransfer -|- MSS22_to_MSS25 -|- INFORMATION -|- tpch_test.dbo.orders_7_primarykey -|- Total cells : 135000000\n",
      "2025-06-13T22:57:48.741 +02:00 -|- FastTransfer -|- MSS22_to_MSS25 -|- INFORMATION -|- tpch_test.dbo.orders_7_primarykey -|- Rows Throughput : 258768 rows/s\n",
      "2025-06-13T22:57:48.741 +02:00 -|- FastTransfer -|- MSS22_to_MSS25 -|- INFORMATION -|- tpch_test.dbo.orders_7_primarykey -|- Cells Throughput : 2328917 cells/s\n",
      "2025-06-13T22:57:48.741 +02:00 -|- FastTransfer -|- MSS22_to_MSS25 -|- INFORMATION -|- tpch_test.dbo.orders_7_primarykey -|- Transfert time : Elapsed=57966 ms\n",
      "2025-06-13T22:57:48.741 +02:00 -|- FastTransfer -|- MSS22_to_MSS25 -|- INFORMATION -|- tpch_test.dbo.orders_7_primarykey -|- Total time : Elapsed=58163 ms\n",
      "2025-06-13T22:57:48.741 +02:00 -|- FastTransfer -|- MSS22_to_MSS25 -|- INFORMATION -|- tpch_test.dbo.orders_7_primarykey -|- Completed Load\n"
     ]
    }
   ],
   "source": [
    "cd D:\\FastTransfer\n",
    "\n",
    ".\\FastTransfer.exe `\n",
    "--sourceconnectiontype \"mssql\" `\n",
    "--sourceserver \"localhost\" `\n",
    "--sourcedatabase \"tpch10_collation_bin2\" `\n",
    "--sourcetrusted `\n",
    "--sourceschema \"dbo\" `\n",
    "--sourcetable \"orders_15M\" `\n",
    "`\n",
    "--targetconnectiontype \"msbulk\" `\n",
    "--targetserver \"localhost\\SS2025\" `\n",
    "--targettrusted `\n",
    "--targetdatabase \"tpch_test\" `\n",
    "--targetschema \"dbo\" `\n",
    "--targettable \"orders_7_primarykey\" `\n",
    "`\n",
    "--loadmode \"Truncate\" `\n",
    "--mapmethod \"Name\" `\n",
    "--method \"Ntile\" `\n",
    "--distributekeycolumn \"o_orderkey\" `\n",
    "--degree -2 `\n",
    "--runid \"MSS22_to_MSS25\""
   ]
  },
  {
   "cell_type": "markdown",
   "id": "dd7ed540",
   "metadata": {
    "polyglot_notebook": {
     "kernelName": "csharp"
    }
   },
   "source": [
    "| MSSQL 2022 ==> MSSQL 2025  ORDERS (15M Rows x 9 columns)\t\t\t\t| Elapsed Time (seconds)|Cells/sec \t|\n",
    "|-----------------------------------------------------------------------|:---------------------:|----------:|\n",
    "| FastTransfer Load (orders_3 clustered columnstore)      \t\t\t\t| 8.2      \t\t\t\t|16_799_794 |\n",
    "| FastTransfer Load (orders_4 heap) \t\t\t\t\t\t\t\t\t| 5.5      \t\t\t\t|25_106_464 |\n",
    "| FastTransfer Load (orders_6 cluster index ) \t\t\t\t\t\t\t| 7.7      \t\t\t\t|17_921_206 |\n",
    "| FastTransfer Load (orders_7 cluster primarykey) \t\t\t\t\t\t| 7.4      \t\t\t\t|18_528_328 |\n",
    "| FastTransfer Load (orders_7 cluster primarykey + 1 secondary index) \t|19.2      \t\t\t\t| 7_091_346 |\n",
    "| FastTransfer Load (orders_7 cluster primarykey + 2 secondary indexes) |58.1      \t\t\t\t| 2_328_917 |"
   ]
  },
  {
   "cell_type": "markdown",
   "id": "26735668",
   "metadata": {
    "polyglot_notebook": {
     "kernelName": "csharp"
    }
   },
   "source": [
    "## Other parallel technics"
   ]
  },
  {
   "cell_type": "markdown",
   "id": "665b0296",
   "metadata": {},
   "source": [
    "### method=\"DataDriven\" using a standard column (or an expression) for the distributekeycolumn parameter"
   ]
  },
  {
   "cell_type": "markdown",
   "id": "17119491",
   "metadata": {},
   "source": [
    "#### DataDriven using year(o_orderdate) as the distributekeycolumn"
   ]
  },
  {
   "cell_type": "code",
   "execution_count": 12,
   "metadata": {
    "polyglot_notebook": {
     "kernelName": "pwsh"
    }
   },
   "outputs": [
    {
     "name": "stdout",
     "output_type": "stream",
     "text": [
      "2025-09-25T17:54:35.944 +02:00 -|- FastTransfer -|- MSS22_to_MSS25 -|- INFORMATION -|- tpch_test.dbo.orders_4_no_index -|- FastTransfer - running in trial mode – will expires on 2025‑10‑20 (24 day(s) left).\n",
      "2025-09-25T17:54:35.955 +02:00 -|- FastTransfer -|- MSS22_to_MSS25 -|- INFORMATION -|- tpch_test.dbo.orders_4_no_index -|- Starting\n",
      "2025-09-25T17:54:35.956 +02:00 -|- FastTransfer -|- MSS22_to_MSS25 -|- INFORMATION -|- tpch_test.dbo.orders_4_no_index -|- FastTransfer Version : 0.13.10.0 Architecture : X64 - Framework : .NET 8.0.19\n",
      "2025-09-25T17:54:35.956 +02:00 -|- FastTransfer -|- MSS22_to_MSS25 -|- INFORMATION -|- tpch_test.dbo.orders_4_no_index -|- OS : Microsoft Windows 10.0.26100\n",
      "2025-09-25T17:54:35.956 +02:00 -|- FastTransfer -|- MSS22_to_MSS25 -|- INFORMATION -|- tpch_test.dbo.orders_4_no_index -|- Process ID : 40432\n",
      "2025-09-25T17:54:35.956 +02:00 -|- FastTransfer -|- MSS22_to_MSS25 -|- INFORMATION -|- tpch_test.dbo.orders_4_no_index -|- Provided Run ID : MSS22_to_MSS25\n",
      "2025-09-25T17:54:35.956 +02:00 -|- FastTransfer -|- MSS22_to_MSS25 -|- INFORMATION -|- tpch_test.dbo.orders_4_no_index -|- Source Connection Type : mssql\n",
      "2025-09-25T17:54:35.956 +02:00 -|- FastTransfer -|- MSS22_to_MSS25 -|- INFORMATION -|- tpch_test.dbo.orders_4_no_index -|- Source SqlInstance : localhost\n",
      "2025-09-25T17:54:35.956 +02:00 -|- FastTransfer -|- MSS22_to_MSS25 -|- INFORMATION -|- tpch_test.dbo.orders_4_no_index -|- Source Database : tpch10_collation_bin2\n",
      "2025-09-25T17:54:35.956 +02:00 -|- FastTransfer -|- MSS22_to_MSS25 -|- INFORMATION -|- tpch_test.dbo.orders_4_no_index -|- Source Trusted Connection : True\n",
      "2025-09-25T17:54:35.956 +02:00 -|- FastTransfer -|- MSS22_to_MSS25 -|- INFORMATION -|- tpch_test.dbo.orders_4_no_index -|- Source Schema : dbo\n",
      "2025-09-25T17:54:35.956 +02:00 -|- FastTransfer -|- MSS22_to_MSS25 -|- INFORMATION -|- tpch_test.dbo.orders_4_no_index -|- Source Table : orders_15M\n",
      "2025-09-25T17:54:35.956 +02:00 -|- FastTransfer -|- MSS22_to_MSS25 -|- INFORMATION -|- tpch_test.dbo.orders_4_no_index -|- Target Type : msbulk\n",
      "2025-09-25T17:54:35.956 +02:00 -|- FastTransfer -|- MSS22_to_MSS25 -|- INFORMATION -|- tpch_test.dbo.orders_4_no_index -|- Target Server : localhost\\SS2025\n",
      "2025-09-25T17:54:35.956 +02:00 -|- FastTransfer -|- MSS22_to_MSS25 -|- INFORMATION -|- tpch_test.dbo.orders_4_no_index -|- Target Database : tpch_test\n",
      "2025-09-25T17:54:35.956 +02:00 -|- FastTransfer -|- MSS22_to_MSS25 -|- INFORMATION -|- tpch_test.dbo.orders_4_no_index -|- Target Schema : dbo\n",
      "2025-09-25T17:54:35.956 +02:00 -|- FastTransfer -|- MSS22_to_MSS25 -|- INFORMATION -|- tpch_test.dbo.orders_4_no_index -|- Target Table : orders_4_no_index\n",
      "2025-09-25T17:54:35.956 +02:00 -|- FastTransfer -|- MSS22_to_MSS25 -|- INFORMATION -|- tpch_test.dbo.orders_4_no_index -|- Target Trusted Connection : True\n",
      "2025-09-25T17:54:35.956 +02:00 -|- FastTransfer -|- MSS22_to_MSS25 -|- INFORMATION -|- tpch_test.dbo.orders_4_no_index -|- Columns Map Method : Name\n",
      "2025-09-25T17:54:35.956 +02:00 -|- FastTransfer -|- MSS22_to_MSS25 -|- INFORMATION -|- tpch_test.dbo.orders_4_no_index -|- Degree : 10\n",
      "2025-09-25T17:54:35.956 +02:00 -|- FastTransfer -|- MSS22_to_MSS25 -|- INFORMATION -|- tpch_test.dbo.orders_4_no_index -|- Distribute Method : DataDriven\n",
      "2025-09-25T17:54:35.956 +02:00 -|- FastTransfer -|- MSS22_to_MSS25 -|- INFORMATION -|- tpch_test.dbo.orders_4_no_index -|- Distribute Column : year(o_orderdate)\n",
      "2025-09-25T17:54:35.956 +02:00 -|- FastTransfer -|- MSS22_to_MSS25 -|- INFORMATION -|- tpch_test.dbo.orders_4_no_index -|- Bulkcopy Batch Size : 1048576\n",
      "2025-09-25T17:54:35.956 +02:00 -|- FastTransfer -|- MSS22_to_MSS25 -|- INFORMATION -|- tpch_test.dbo.orders_4_no_index -|- Load Mode : Truncate\n",
      "2025-09-25T17:54:35.956 +02:00 -|- FastTransfer -|- MSS22_to_MSS25 -|- INFORMATION -|- tpch_test.dbo.orders_4_no_index -|- Use Work Tables : False\n",
      "2025-09-25T17:54:35.957 +02:00 -|- FastTransfer -|- MSS22_to_MSS25 -|- INFORMATION -|- tpch_test.dbo.orders_4_no_index -|- Encoding used : Unicode (UTF-8) - 65001 - utf-8\n",
      "2025-09-25T17:54:35.975 +02:00 -|- FastTransfer -|- MSS22_to_MSS25 -|- INFORMATION -|- tpch_test.dbo.orders_4_no_index -|- Source Connection String : Data Source=localhost;Initial Catalog=tpch10_collation_bin2;Integrated Security=True;Connect Timeout=120;Encrypt=True;Trust Server Certificate=True;Application Name=FastTransfer;Application Intent=ReadOnly;Command Timeout=10800\n",
      "2025-09-25T17:54:35.975 +02:00 -|- FastTransfer -|- MSS22_to_MSS25 -|- INFORMATION -|- tpch_test.dbo.orders_4_no_index -|- Target Connection String : Data Source=localhost\\SS2025;Initial Catalog=tpch_test;Integrated Security=True;Connect Timeout=120;Encrypt=True;Trust Server Certificate=True;Application Name=FastTransfer;Application Intent=ReadWrite;Command Timeout=10800\n",
      "2025-09-25T17:54:35.975 +02:00 -|- FastTransfer -|- MSS22_to_MSS25 -|- INFORMATION -|- tpch_test.dbo.orders_4_no_index -|- Source Database Version : Microsoft SQL Server 2022 (RTM-CU20-GDR) (KB5065220) - 16.0.4212.1 (X64)  \tAug 13 2025 16:40:40  \tCopyright (C) 2022 Microsoft Corporation \tDeveloper Edition (64-bit) on Windows 10 Pro 10.0 <X64> (Build 26100: ) (Hypervisor) \n",
      "2025-09-25T17:54:35.975 +02:00 -|- FastTransfer -|- MSS22_to_MSS25 -|- INFORMATION -|- tpch_test.dbo.orders_4_no_index -|- Target Database Version : Microsoft SQL Server 2025 (CTP2.1) - 17.0.800.3 (X64)  \tJun 12 2025 14:47:57  \tCopyright (C) 2025 Microsoft Corporation \tEnterprise Developer Edition (64-bit) on Windows 10 Pro 10.0 <X64> (Build 26100: ) (Hypervisor) \n",
      "2025-09-25T17:54:36.264 +02:00 -|- FastTransfer -|- MSS22_to_MSS25 -|- INFORMATION -|- tpch_test.dbo.orders_4_no_index -|- Completed DataDriven GetValues : 8 in 284 ms\n",
      "2025-09-25T17:54:36.267 +02:00 -|- FastTransfer -|- MSS22_to_MSS25 -|- INFORMATION -|- tpch_test.dbo.orders_4_no_index -|- Start Loading Data using distribution method DataDriven\n",
      "2025-09-25T17:54:36.268 +02:00 -|- FastTransfer -|- MSS22_to_MSS25 -|- INFORMATION -|- tpch_test.dbo.orders_4_no_index -|- Table \"dbo\".\"orders_4_no_index\" has no Clustered Index. BulkCopy will use KeepNulls and UseInternalTransaction and Tablock\n",
      "2025-09-25T17:54:36.268 +02:00 -|- FastTransfer -|- MSS22_to_MSS25 -|- INFORMATION -|- tpch_test.dbo.orders_4_no_index -|- BulkCopy to \"dbo\".\"orders_4_no_index\" with BatchSize = 1048576, Timeout = 3600\n",
      "2025-09-25T17:54:36.277 +02:00 -|- FastTransfer -|- MSS22_to_MSS25 -|- INFORMATION -|- tpch_test.dbo.orders_4_no_index -|- Start Loading Data using distribution method DataDriven\n",
      "2025-09-25T17:54:36.278 +02:00 -|- FastTransfer -|- MSS22_to_MSS25 -|- INFORMATION -|- tpch_test.dbo.orders_4_no_index -|- Table \"dbo\".\"orders_4_no_index\" has no Clustered Index. BulkCopy will use KeepNulls and UseInternalTransaction and Tablock\n",
      "2025-09-25T17:54:36.278 +02:00 -|- FastTransfer -|- MSS22_to_MSS25 -|- INFORMATION -|- tpch_test.dbo.orders_4_no_index -|- BulkCopy to \"dbo\".\"orders_4_no_index\" with BatchSize = 1048576, Timeout = 3600\n",
      "2025-09-25T17:54:36.280 +02:00 -|- FastTransfer -|- MSS22_to_MSS25 -|- INFORMATION -|- tpch_test.dbo.orders_4_no_index -|- Start Loading Data using distribution method DataDriven\n",
      "2025-09-25T17:54:36.280 +02:00 -|- FastTransfer -|- MSS22_to_MSS25 -|- INFORMATION -|- tpch_test.dbo.orders_4_no_index -|- Table \"dbo\".\"orders_4_no_index\" has no Clustered Index. BulkCopy will use KeepNulls and UseInternalTransaction and Tablock\n",
      "2025-09-25T17:54:36.280 +02:00 -|- FastTransfer -|- MSS22_to_MSS25 -|- INFORMATION -|- tpch_test.dbo.orders_4_no_index -|- BulkCopy to \"dbo\".\"orders_4_no_index\" with BatchSize = 1048576, Timeout = 3600\n",
      "2025-09-25T17:54:36.284 +02:00 -|- FastTransfer -|- MSS22_to_MSS25 -|- INFORMATION -|- tpch_test.dbo.orders_4_no_index -|- Start Loading Data using distribution method DataDriven\n",
      "2025-09-25T17:54:36.285 +02:00 -|- FastTransfer -|- MSS22_to_MSS25 -|- INFORMATION -|- tpch_test.dbo.orders_4_no_index -|- Table \"dbo\".\"orders_4_no_index\" has no Clustered Index. BulkCopy will use KeepNulls and UseInternalTransaction and Tablock\n",
      "2025-09-25T17:54:36.285 +02:00 -|- FastTransfer -|- MSS22_to_MSS25 -|- INFORMATION -|- tpch_test.dbo.orders_4_no_index -|- BulkCopy to \"dbo\".\"orders_4_no_index\" with BatchSize = 1048576, Timeout = 3600\n",
      "2025-09-25T17:54:36.288 +02:00 -|- FastTransfer -|- MSS22_to_MSS25 -|- INFORMATION -|- tpch_test.dbo.orders_4_no_index -|- Start Loading Data using distribution method DataDriven\n",
      "2025-09-25T17:54:36.289 +02:00 -|- FastTransfer -|- MSS22_to_MSS25 -|- INFORMATION -|- tpch_test.dbo.orders_4_no_index -|- Table \"dbo\".\"orders_4_no_index\" has no Clustered Index. BulkCopy will use KeepNulls and UseInternalTransaction and Tablock\n",
      "2025-09-25T17:54:36.289 +02:00 -|- FastTransfer -|- MSS22_to_MSS25 -|- INFORMATION -|- tpch_test.dbo.orders_4_no_index -|- BulkCopy to \"dbo\".\"orders_4_no_index\" with BatchSize = 1048576, Timeout = 3600\n",
      "2025-09-25T17:54:36.291 +02:00 -|- FastTransfer -|- MSS22_to_MSS25 -|- INFORMATION -|- tpch_test.dbo.orders_4_no_index -|- Start Loading Data using distribution method DataDriven\n",
      "2025-09-25T17:54:36.292 +02:00 -|- FastTransfer -|- MSS22_to_MSS25 -|- INFORMATION -|- tpch_test.dbo.orders_4_no_index -|- Table \"dbo\".\"orders_4_no_index\" has no Clustered Index. BulkCopy will use KeepNulls and UseInternalTransaction and Tablock\n",
      "2025-09-25T17:54:36.292 +02:00 -|- FastTransfer -|- MSS22_to_MSS25 -|- INFORMATION -|- tpch_test.dbo.orders_4_no_index -|- BulkCopy to \"dbo\".\"orders_4_no_index\" with BatchSize = 1048576, Timeout = 3600\n",
      "2025-09-25T17:54:36.292 +02:00 -|- FastTransfer -|- MSS22_to_MSS25 -|- WARNING -|- tpch_test.dbo.orders_4_no_index -|- Only 9 out of 10 columns were mapped by name to the target table \"dbo\".\"orders_4_no_index\"\n",
      "2025-09-25T17:54:36.293 +02:00 -|- FastTransfer -|- MSS22_to_MSS25 -|- INFORMATION -|- tpch_test.dbo.orders_4_no_index -|- Start Loading Data using distribution method DataDriven\n",
      "2025-09-25T17:54:36.294 +02:00 -|- FastTransfer -|- MSS22_to_MSS25 -|- INFORMATION -|- tpch_test.dbo.orders_4_no_index -|- Table \"dbo\".\"orders_4_no_index\" has no Clustered Index. BulkCopy will use KeepNulls and UseInternalTransaction and Tablock\n",
      "2025-09-25T17:54:36.294 +02:00 -|- FastTransfer -|- MSS22_to_MSS25 -|- INFORMATION -|- tpch_test.dbo.orders_4_no_index -|- BulkCopy to \"dbo\".\"orders_4_no_index\" with BatchSize = 1048576, Timeout = 3600\n",
      "2025-09-25T17:54:36.302 +02:00 -|- FastTransfer -|- MSS22_to_MSS25 -|- INFORMATION -|- tpch_test.dbo.orders_4_no_index -|- Start Loading Data using distribution method DataDriven\n",
      "2025-09-25T17:54:36.303 +02:00 -|- FastTransfer -|- MSS22_to_MSS25 -|- INFORMATION -|- tpch_test.dbo.orders_4_no_index -|- Table \"dbo\".\"orders_4_no_index\" has no Clustered Index. BulkCopy will use KeepNulls and UseInternalTransaction and Tablock\n",
      "2025-09-25T17:54:36.303 +02:00 -|- FastTransfer -|- MSS22_to_MSS25 -|- INFORMATION -|- tpch_test.dbo.orders_4_no_index -|- BulkCopy to \"dbo\".\"orders_4_no_index\" with BatchSize = 1048576, Timeout = 3600\n",
      "2025-09-25T17:54:36.559 +02:00 -|- FastTransfer -|- MSS22_to_MSS25 -|- WARNING -|- tpch_test.dbo.orders_4_no_index -|- Only 9 out of 10 columns were mapped by name to the target table \"dbo\".\"orders_4_no_index\"\n",
      "2025-09-25T17:54:36.584 +02:00 -|- FastTransfer -|- MSS22_to_MSS25 -|- WARNING -|- tpch_test.dbo.orders_4_no_index -|- Only 9 out of 10 columns were mapped by name to the target table \"dbo\".\"orders_4_no_index\"\n",
      "2025-09-25T17:54:36.610 +02:00 -|- FastTransfer -|- MSS22_to_MSS25 -|- WARNING -|- tpch_test.dbo.orders_4_no_index -|- Only 9 out of 10 columns were mapped by name to the target table \"dbo\".\"orders_4_no_index\"\n",
      "2025-09-25T17:54:36.630 +02:00 -|- FastTransfer -|- MSS22_to_MSS25 -|- WARNING -|- tpch_test.dbo.orders_4_no_index -|- Only 9 out of 10 columns were mapped by name to the target table \"dbo\".\"orders_4_no_index\"\n",
      "2025-09-25T17:54:36.652 +02:00 -|- FastTransfer -|- MSS22_to_MSS25 -|- WARNING -|- tpch_test.dbo.orders_4_no_index -|- Only 9 out of 10 columns were mapped by name to the target table \"dbo\".\"orders_4_no_index\"\n",
      "2025-09-25T17:54:36.656 +02:00 -|- FastTransfer -|- MSS22_to_MSS25 -|- WARNING -|- tpch_test.dbo.orders_4_no_index -|- Only 9 out of 10 columns were mapped by name to the target table \"dbo\".\"orders_4_no_index\"\n",
      "2025-09-25T17:54:36.658 +02:00 -|- FastTransfer -|- MSS22_to_MSS25 -|- WARNING -|- tpch_test.dbo.orders_4_no_index -|- Only 9 out of 10 columns were mapped by name to the target table \"dbo\".\"orders_4_no_index\"\n",
      "2025-09-25T17:54:43.443 +02:00 -|- FastTransfer -|- MSS22_to_MSS25 -|- INFORMATION -|- tpch_test.dbo.orders_4_no_index -|- Completed DataDriven Load sub-process 4 for year(o_orderdate) = 1992 : 1235101 rows x 9 columns in 7176 ms\n",
      "2025-09-25T17:54:43.565 +02:00 -|- FastTransfer -|- MSS22_to_MSS25 -|- INFORMATION -|- tpch_test.dbo.orders_4_no_index -|- Completed DataDriven Load sub-process 3 for year(o_orderdate) = 1999 : 1048576 rows x 9 columns in 7298 ms\n",
      "2025-09-25T17:54:44.038 +02:00 -|- FastTransfer -|- MSS22_to_MSS25 -|- INFORMATION -|- tpch_test.dbo.orders_4_no_index -|- Completed DataDriven Load sub-process 0 for year(o_orderdate) = 1998 : 1327477 rows x 9 columns in 7772 ms\n",
      "2025-09-25T17:54:45.207 +02:00 -|- FastTransfer -|- MSS22_to_MSS25 -|- INFORMATION -|- tpch_test.dbo.orders_4_no_index -|- Completed DataDriven Load sub-process 6 for year(o_orderdate) = 1993 : 2281075 rows x 9 columns in 8939 ms\n",
      "2025-09-25T17:54:45.298 +02:00 -|- FastTransfer -|- MSS22_to_MSS25 -|- INFORMATION -|- tpch_test.dbo.orders_4_no_index -|- Completed DataDriven Load sub-process 1 for year(o_orderdate) = 1996 : 2280402 rows x 9 columns in 9032 ms\n",
      "2025-09-25T17:54:45.433 +02:00 -|- FastTransfer -|- MSS22_to_MSS25 -|- INFORMATION -|- tpch_test.dbo.orders_4_no_index -|- Completed DataDriven Load sub-process 5 for year(o_orderdate) = 1997 : 2277552 rows x 9 columns in 9165 ms\n",
      "2025-09-25T17:54:45.491 +02:00 -|- FastTransfer -|- MSS22_to_MSS25 -|- INFORMATION -|- tpch_test.dbo.orders_4_no_index -|- Completed DataDriven Load sub-process 2 for year(o_orderdate) = 1994 : 2276807 rows x 9 columns in 9224 ms\n",
      "2025-09-25T17:54:45.684 +02:00 -|- FastTransfer -|- MSS22_to_MSS25 -|- INFORMATION -|- tpch_test.dbo.orders_4_no_index -|- Completed DataDriven Load sub-process 7 for year(o_orderdate) = 1995 : 2273010 rows x 9 columns in 9416 ms\n",
      "2025-09-25T17:54:45.684 +02:00 -|- FastTransfer -|- MSS22_to_MSS25 -|- INFORMATION -|- tpch_test.dbo.orders_4_no_index -|- Total rows : 15000000\n",
      "2025-09-25T17:54:45.684 +02:00 -|- FastTransfer -|- MSS22_to_MSS25 -|- INFORMATION -|- tpch_test.dbo.orders_4_no_index -|- Total columns : 9\n",
      "2025-09-25T17:54:45.684 +02:00 -|- FastTransfer -|- MSS22_to_MSS25 -|- INFORMATION -|- tpch_test.dbo.orders_4_no_index -|- Total cells : 135000000\n",
      "2025-09-25T17:54:45.684 +02:00 -|- FastTransfer -|- MSS22_to_MSS25 -|- INFORMATION -|- tpch_test.dbo.orders_4_no_index -|- Rows Throughput : 1545671 rows/s\n",
      "2025-09-25T17:54:45.684 +02:00 -|- FastTransfer -|- MSS22_to_MSS25 -|- INFORMATION -|- tpch_test.dbo.orders_4_no_index -|- Cells Throughput : 13911055 cells/s\n",
      "2025-09-25T17:54:45.684 +02:00 -|- FastTransfer -|- MSS22_to_MSS25 -|- INFORMATION -|- tpch_test.dbo.orders_4_no_index -|- Transfert time : Elapsed=9704 ms\n",
      "2025-09-25T17:54:45.684 +02:00 -|- FastTransfer -|- MSS22_to_MSS25 -|- INFORMATION -|- tpch_test.dbo.orders_4_no_index -|- Total time : Elapsed=9901 ms\n",
      "2025-09-25T17:54:45.684 +02:00 -|- FastTransfer -|- MSS22_to_MSS25 -|- INFORMATION -|- tpch_test.dbo.orders_4_no_index -|- Completed Load\n"
     ]
    }
   ],
   "source": [
    "cd D:\\FastTransfer\n",
    "\n",
    ".\\FastTransfer.exe `\n",
    "--sourceconnectiontype \"mssql\" `\n",
    "--sourceserver \"localhost\" `\n",
    "--sourcedatabase \"tpch10_collation_bin2\" `\n",
    "--sourcetrusted `\n",
    "--sourceschema \"dbo\" `\n",
    "--sourcetable \"orders_15M\" `\n",
    "`\n",
    "--targetconnectiontype \"msbulk\" `\n",
    "--targetserver \"localhost\\SS2025\" `\n",
    "--targettrusted `\n",
    "--targetdatabase \"tpch_test\" `\n",
    "--targetschema \"dbo\" `\n",
    "--targettable \"orders_4_no_index\" `\n",
    "`\n",
    "--loadmode \"Truncate\" `\n",
    "--mapmethod \"Name\" `\n",
    "--method \"DataDriven\" `\n",
    "--distributekeycolumn \"year(o_orderdate)\" `\n",
    "--degree 10 `\n",
    "--runid \"MSS22_to_MSS25\""
   ]
  },
  {
   "cell_type": "markdown",
   "id": "e714af5c",
   "metadata": {},
   "source": [
    "#### DataDriven using partitions as the distributekeycolumn"
   ]
  },
  {
   "cell_type": "code",
   "execution_count": 13,
   "metadata": {
    "polyglot_notebook": {
     "kernelName": "pwsh"
    }
   },
   "outputs": [
    {
     "name": "stdout",
     "output_type": "stream",
     "text": [
      "2025-09-25T17:56:19.130 +02:00 -|- FastTransfer -|- MSS22_to_MSS25_Datadriven_Partition -|- INFORMATION -|- tpch_test.dbo.orders_4_no_index -|- FastTransfer - running in trial mode – will expires on 2025‑10‑20 (24 day(s) left).\n",
      "2025-09-25T17:56:19.139 +02:00 -|- FastTransfer -|- MSS22_to_MSS25_Datadriven_Partition -|- INFORMATION -|- tpch_test.dbo.orders_4_no_index -|- Starting\n",
      "2025-09-25T17:56:19.139 +02:00 -|- FastTransfer -|- MSS22_to_MSS25_Datadriven_Partition -|- INFORMATION -|- tpch_test.dbo.orders_4_no_index -|- FastTransfer Version : 0.13.10.0 Architecture : X64 - Framework : .NET 8.0.19\n",
      "2025-09-25T17:56:19.139 +02:00 -|- FastTransfer -|- MSS22_to_MSS25_Datadriven_Partition -|- INFORMATION -|- tpch_test.dbo.orders_4_no_index -|- OS : Microsoft Windows 10.0.26100\n",
      "2025-09-25T17:56:19.139 +02:00 -|- FastTransfer -|- MSS22_to_MSS25_Datadriven_Partition -|- INFORMATION -|- tpch_test.dbo.orders_4_no_index -|- Process ID : 17796\n",
      "2025-09-25T17:56:19.139 +02:00 -|- FastTransfer -|- MSS22_to_MSS25_Datadriven_Partition -|- INFORMATION -|- tpch_test.dbo.orders_4_no_index -|- Provided Run ID : MSS22_to_MSS25_Datadriven_Partition\n",
      "2025-09-25T17:56:19.139 +02:00 -|- FastTransfer -|- MSS22_to_MSS25_Datadriven_Partition -|- INFORMATION -|- tpch_test.dbo.orders_4_no_index -|- Source Connection Type : mssql\n",
      "2025-09-25T17:56:19.139 +02:00 -|- FastTransfer -|- MSS22_to_MSS25_Datadriven_Partition -|- INFORMATION -|- tpch_test.dbo.orders_4_no_index -|- Source SqlInstance : localhost\n",
      "2025-09-25T17:56:19.139 +02:00 -|- FastTransfer -|- MSS22_to_MSS25_Datadriven_Partition -|- INFORMATION -|- tpch_test.dbo.orders_4_no_index -|- Source Database : tpch_test\n",
      "2025-09-25T17:56:19.139 +02:00 -|- FastTransfer -|- MSS22_to_MSS25_Datadriven_Partition -|- INFORMATION -|- tpch_test.dbo.orders_4_no_index -|- Source Trusted Connection : True\n",
      "2025-09-25T17:56:19.140 +02:00 -|- FastTransfer -|- MSS22_to_MSS25_Datadriven_Partition -|- INFORMATION -|- tpch_test.dbo.orders_4_no_index -|- Source Schema : dbo\n",
      "2025-09-25T17:56:19.140 +02:00 -|- FastTransfer -|- MSS22_to_MSS25_Datadriven_Partition -|- INFORMATION -|- tpch_test.dbo.orders_4_no_index -|- Source Table : orders_part\n",
      "2025-09-25T17:56:19.140 +02:00 -|- FastTransfer -|- MSS22_to_MSS25_Datadriven_Partition -|- INFORMATION -|- tpch_test.dbo.orders_4_no_index -|- Target Type : msbulk\n",
      "2025-09-25T17:56:19.140 +02:00 -|- FastTransfer -|- MSS22_to_MSS25_Datadriven_Partition -|- INFORMATION -|- tpch_test.dbo.orders_4_no_index -|- Target Server : localhost\\SS2025\n",
      "2025-09-25T17:56:19.140 +02:00 -|- FastTransfer -|- MSS22_to_MSS25_Datadriven_Partition -|- INFORMATION -|- tpch_test.dbo.orders_4_no_index -|- Target Database : tpch_test\n",
      "2025-09-25T17:56:19.140 +02:00 -|- FastTransfer -|- MSS22_to_MSS25_Datadriven_Partition -|- INFORMATION -|- tpch_test.dbo.orders_4_no_index -|- Target Schema : dbo\n",
      "2025-09-25T17:56:19.140 +02:00 -|- FastTransfer -|- MSS22_to_MSS25_Datadriven_Partition -|- INFORMATION -|- tpch_test.dbo.orders_4_no_index -|- Target Table : orders_4_no_index\n",
      "2025-09-25T17:56:19.140 +02:00 -|- FastTransfer -|- MSS22_to_MSS25_Datadriven_Partition -|- INFORMATION -|- tpch_test.dbo.orders_4_no_index -|- Target Trusted Connection : True\n",
      "2025-09-25T17:56:19.140 +02:00 -|- FastTransfer -|- MSS22_to_MSS25_Datadriven_Partition -|- INFORMATION -|- tpch_test.dbo.orders_4_no_index -|- Columns Map Method : Name\n",
      "2025-09-25T17:56:19.140 +02:00 -|- FastTransfer -|- MSS22_to_MSS25_Datadriven_Partition -|- INFORMATION -|- tpch_test.dbo.orders_4_no_index -|- Degree : 7\n",
      "2025-09-25T17:56:19.140 +02:00 -|- FastTransfer -|- MSS22_to_MSS25_Datadriven_Partition -|- INFORMATION -|- tpch_test.dbo.orders_4_no_index -|- Distribute Method : DataDriven\n",
      "2025-09-25T17:56:19.140 +02:00 -|- FastTransfer -|- MSS22_to_MSS25_Datadriven_Partition -|- INFORMATION -|- tpch_test.dbo.orders_4_no_index -|- Distribute Column : $PARTITION.PF_DATE(o_orderdate)\n",
      "2025-09-25T17:56:19.140 +02:00 -|- FastTransfer -|- MSS22_to_MSS25_Datadriven_Partition -|- INFORMATION -|- tpch_test.dbo.orders_4_no_index -|- Bulkcopy Batch Size : 1048576\n",
      "2025-09-25T17:56:19.140 +02:00 -|- FastTransfer -|- MSS22_to_MSS25_Datadriven_Partition -|- INFORMATION -|- tpch_test.dbo.orders_4_no_index -|- Load Mode : Truncate\n",
      "2025-09-25T17:56:19.140 +02:00 -|- FastTransfer -|- MSS22_to_MSS25_Datadriven_Partition -|- INFORMATION -|- tpch_test.dbo.orders_4_no_index -|- Use Work Tables : False\n",
      "2025-09-25T17:56:19.141 +02:00 -|- FastTransfer -|- MSS22_to_MSS25_Datadriven_Partition -|- INFORMATION -|- tpch_test.dbo.orders_4_no_index -|- Encoding used : Unicode (UTF-8) - 65001 - utf-8\n",
      "2025-09-25T17:56:19.158 +02:00 -|- FastTransfer -|- MSS22_to_MSS25_Datadriven_Partition -|- INFORMATION -|- tpch_test.dbo.orders_4_no_index -|- Source Connection String : Data Source=localhost;Initial Catalog=tpch_test;Integrated Security=True;Connect Timeout=120;Encrypt=True;Trust Server Certificate=True;Application Name=FastTransfer;Application Intent=ReadOnly;Command Timeout=10800\n",
      "2025-09-25T17:56:19.158 +02:00 -|- FastTransfer -|- MSS22_to_MSS25_Datadriven_Partition -|- INFORMATION -|- tpch_test.dbo.orders_4_no_index -|- Target Connection String : Data Source=localhost\\SS2025;Initial Catalog=tpch_test;Integrated Security=True;Connect Timeout=120;Encrypt=True;Trust Server Certificate=True;Application Name=FastTransfer;Application Intent=ReadWrite;Command Timeout=10800\n",
      "2025-09-25T17:56:19.158 +02:00 -|- FastTransfer -|- MSS22_to_MSS25_Datadriven_Partition -|- INFORMATION -|- tpch_test.dbo.orders_4_no_index -|- Source Database Version : Microsoft SQL Server 2022 (RTM-CU20-GDR) (KB5065220) - 16.0.4212.1 (X64)  \tAug 13 2025 16:40:40  \tCopyright (C) 2022 Microsoft Corporation \tDeveloper Edition (64-bit) on Windows 10 Pro 10.0 <X64> (Build 26100: ) (Hypervisor) \n",
      "2025-09-25T17:56:19.158 +02:00 -|- FastTransfer -|- MSS22_to_MSS25_Datadriven_Partition -|- INFORMATION -|- tpch_test.dbo.orders_4_no_index -|- Target Database Version : Microsoft SQL Server 2025 (CTP2.1) - 17.0.800.3 (X64)  \tJun 12 2025 14:47:57  \tCopyright (C) 2025 Microsoft Corporation \tEnterprise Developer Edition (64-bit) on Windows 10 Pro 10.0 <X64> (Build 26100: ) (Hypervisor) \n",
      "2025-09-25T17:56:20.076 +02:00 -|- FastTransfer -|- MSS22_to_MSS25_Datadriven_Partition -|- INFORMATION -|- tpch_test.dbo.orders_4_no_index -|- Completed DataDriven GetValues : 7 in 911 ms\n",
      "2025-09-25T17:56:20.079 +02:00 -|- FastTransfer -|- MSS22_to_MSS25_Datadriven_Partition -|- INFORMATION -|- tpch_test.dbo.orders_4_no_index -|- Start Loading Data using distribution method DataDriven\n",
      "2025-09-25T17:56:20.080 +02:00 -|- FastTransfer -|- MSS22_to_MSS25_Datadriven_Partition -|- INFORMATION -|- tpch_test.dbo.orders_4_no_index -|- Table \"dbo\".\"orders_4_no_index\" has no Clustered Index. BulkCopy will use KeepNulls and UseInternalTransaction and Tablock\n",
      "2025-09-25T17:56:20.080 +02:00 -|- FastTransfer -|- MSS22_to_MSS25_Datadriven_Partition -|- INFORMATION -|- tpch_test.dbo.orders_4_no_index -|- BulkCopy to \"dbo\".\"orders_4_no_index\" with BatchSize = 1048576, Timeout = 3600\n",
      "2025-09-25T17:56:20.083 +02:00 -|- FastTransfer -|- MSS22_to_MSS25_Datadriven_Partition -|- WARNING -|- tpch_test.dbo.orders_4_no_index -|- Column o_orderyear not found in target table \"dbo\".\"orders_4_no_index\". The column will be ignored\n",
      "2025-09-25T17:56:20.083 +02:00 -|- FastTransfer -|- MSS22_to_MSS25_Datadriven_Partition -|- WARNING -|- tpch_test.dbo.orders_4_no_index -|- Only 9 out of 10 columns were mapped by name to the target table \"dbo\".\"orders_4_no_index\"\n",
      "2025-09-25T17:56:20.091 +02:00 -|- FastTransfer -|- MSS22_to_MSS25_Datadriven_Partition -|- INFORMATION -|- tpch_test.dbo.orders_4_no_index -|- Start Loading Data using distribution method DataDriven\n",
      "2025-09-25T17:56:20.091 +02:00 -|- FastTransfer -|- MSS22_to_MSS25_Datadriven_Partition -|- INFORMATION -|- tpch_test.dbo.orders_4_no_index -|- Table \"dbo\".\"orders_4_no_index\" has no Clustered Index. BulkCopy will use KeepNulls and UseInternalTransaction and Tablock\n",
      "2025-09-25T17:56:20.091 +02:00 -|- FastTransfer -|- MSS22_to_MSS25_Datadriven_Partition -|- INFORMATION -|- tpch_test.dbo.orders_4_no_index -|- BulkCopy to \"dbo\".\"orders_4_no_index\" with BatchSize = 1048576, Timeout = 3600\n",
      "2025-09-25T17:56:20.093 +02:00 -|- FastTransfer -|- MSS22_to_MSS25_Datadriven_Partition -|- INFORMATION -|- tpch_test.dbo.orders_4_no_index -|- Start Loading Data using distribution method DataDriven\n",
      "2025-09-25T17:56:20.093 +02:00 -|- FastTransfer -|- MSS22_to_MSS25_Datadriven_Partition -|- WARNING -|- tpch_test.dbo.orders_4_no_index -|- Column o_orderyear not found in target table \"dbo\".\"orders_4_no_index\". The column will be ignored\n",
      "2025-09-25T17:56:20.093 +02:00 -|- FastTransfer -|- MSS22_to_MSS25_Datadriven_Partition -|- WARNING -|- tpch_test.dbo.orders_4_no_index -|- Only 9 out of 10 columns were mapped by name to the target table \"dbo\".\"orders_4_no_index\"\n",
      "2025-09-25T17:56:20.094 +02:00 -|- FastTransfer -|- MSS22_to_MSS25_Datadriven_Partition -|- INFORMATION -|- tpch_test.dbo.orders_4_no_index -|- Table \"dbo\".\"orders_4_no_index\" has no Clustered Index. BulkCopy will use KeepNulls and UseInternalTransaction and Tablock\n",
      "2025-09-25T17:56:20.094 +02:00 -|- FastTransfer -|- MSS22_to_MSS25_Datadriven_Partition -|- INFORMATION -|- tpch_test.dbo.orders_4_no_index -|- BulkCopy to \"dbo\".\"orders_4_no_index\" with BatchSize = 1048576, Timeout = 3600\n",
      "2025-09-25T17:56:20.095 +02:00 -|- FastTransfer -|- MSS22_to_MSS25_Datadriven_Partition -|- WARNING -|- tpch_test.dbo.orders_4_no_index -|- Column o_orderyear not found in target table \"dbo\".\"orders_4_no_index\". The column will be ignored\n",
      "2025-09-25T17:56:20.095 +02:00 -|- FastTransfer -|- MSS22_to_MSS25_Datadriven_Partition -|- WARNING -|- tpch_test.dbo.orders_4_no_index -|- Only 9 out of 10 columns were mapped by name to the target table \"dbo\".\"orders_4_no_index\"\n",
      "2025-09-25T17:56:20.100 +02:00 -|- FastTransfer -|- MSS22_to_MSS25_Datadriven_Partition -|- INFORMATION -|- tpch_test.dbo.orders_4_no_index -|- Start Loading Data using distribution method DataDriven\n",
      "2025-09-25T17:56:20.101 +02:00 -|- FastTransfer -|- MSS22_to_MSS25_Datadriven_Partition -|- INFORMATION -|- tpch_test.dbo.orders_4_no_index -|- Table \"dbo\".\"orders_4_no_index\" has no Clustered Index. BulkCopy will use KeepNulls and UseInternalTransaction and Tablock\n",
      "2025-09-25T17:56:20.101 +02:00 -|- FastTransfer -|- MSS22_to_MSS25_Datadriven_Partition -|- INFORMATION -|- tpch_test.dbo.orders_4_no_index -|- BulkCopy to \"dbo\".\"orders_4_no_index\" with BatchSize = 1048576, Timeout = 3600\n",
      "2025-09-25T17:56:20.103 +02:00 -|- FastTransfer -|- MSS22_to_MSS25_Datadriven_Partition -|- WARNING -|- tpch_test.dbo.orders_4_no_index -|- Column o_orderyear not found in target table \"dbo\".\"orders_4_no_index\". The column will be ignored\n",
      "2025-09-25T17:56:20.103 +02:00 -|- FastTransfer -|- MSS22_to_MSS25_Datadriven_Partition -|- WARNING -|- tpch_test.dbo.orders_4_no_index -|- Only 9 out of 10 columns were mapped by name to the target table \"dbo\".\"orders_4_no_index\"\n",
      "2025-09-25T17:56:20.105 +02:00 -|- FastTransfer -|- MSS22_to_MSS25_Datadriven_Partition -|- INFORMATION -|- tpch_test.dbo.orders_4_no_index -|- Start Loading Data using distribution method DataDriven\n",
      "2025-09-25T17:56:20.105 +02:00 -|- FastTransfer -|- MSS22_to_MSS25_Datadriven_Partition -|- INFORMATION -|- tpch_test.dbo.orders_4_no_index -|- Table \"dbo\".\"orders_4_no_index\" has no Clustered Index. BulkCopy will use KeepNulls and UseInternalTransaction and Tablock\n",
      "2025-09-25T17:56:20.105 +02:00 -|- FastTransfer -|- MSS22_to_MSS25_Datadriven_Partition -|- INFORMATION -|- tpch_test.dbo.orders_4_no_index -|- BulkCopy to \"dbo\".\"orders_4_no_index\" with BatchSize = 1048576, Timeout = 3600\n",
      "2025-09-25T17:56:20.107 +02:00 -|- FastTransfer -|- MSS22_to_MSS25_Datadriven_Partition -|- INFORMATION -|- tpch_test.dbo.orders_4_no_index -|- Start Loading Data using distribution method DataDriven\n",
      "2025-09-25T17:56:20.107 +02:00 -|- FastTransfer -|- MSS22_to_MSS25_Datadriven_Partition -|- INFORMATION -|- tpch_test.dbo.orders_4_no_index -|- Table \"dbo\".\"orders_4_no_index\" has no Clustered Index. BulkCopy will use KeepNulls and UseInternalTransaction and Tablock\n",
      "2025-09-25T17:56:20.107 +02:00 -|- FastTransfer -|- MSS22_to_MSS25_Datadriven_Partition -|- INFORMATION -|- tpch_test.dbo.orders_4_no_index -|- BulkCopy to \"dbo\".\"orders_4_no_index\" with BatchSize = 1048576, Timeout = 3600\n",
      "2025-09-25T17:56:20.108 +02:00 -|- FastTransfer -|- MSS22_to_MSS25_Datadriven_Partition -|- WARNING -|- tpch_test.dbo.orders_4_no_index -|- Column o_orderyear not found in target table \"dbo\".\"orders_4_no_index\". The column will be ignored\n",
      "2025-09-25T17:56:20.108 +02:00 -|- FastTransfer -|- MSS22_to_MSS25_Datadriven_Partition -|- WARNING -|- tpch_test.dbo.orders_4_no_index -|- Only 9 out of 10 columns were mapped by name to the target table \"dbo\".\"orders_4_no_index\"\n",
      "2025-09-25T17:56:20.110 +02:00 -|- FastTransfer -|- MSS22_to_MSS25_Datadriven_Partition -|- WARNING -|- tpch_test.dbo.orders_4_no_index -|- Column o_orderyear not found in target table \"dbo\".\"orders_4_no_index\". The column will be ignored\n",
      "2025-09-25T17:56:20.110 +02:00 -|- FastTransfer -|- MSS22_to_MSS25_Datadriven_Partition -|- WARNING -|- tpch_test.dbo.orders_4_no_index -|- Only 9 out of 10 columns were mapped by name to the target table \"dbo\".\"orders_4_no_index\"\n",
      "2025-09-25T17:56:20.111 +02:00 -|- FastTransfer -|- MSS22_to_MSS25_Datadriven_Partition -|- INFORMATION -|- tpch_test.dbo.orders_4_no_index -|- Start Loading Data using distribution method DataDriven\n",
      "2025-09-25T17:56:20.111 +02:00 -|- FastTransfer -|- MSS22_to_MSS25_Datadriven_Partition -|- INFORMATION -|- tpch_test.dbo.orders_4_no_index -|- Table \"dbo\".\"orders_4_no_index\" has no Clustered Index. BulkCopy will use KeepNulls and UseInternalTransaction and Tablock\n",
      "2025-09-25T17:56:20.111 +02:00 -|- FastTransfer -|- MSS22_to_MSS25_Datadriven_Partition -|- INFORMATION -|- tpch_test.dbo.orders_4_no_index -|- BulkCopy to \"dbo\".\"orders_4_no_index\" with BatchSize = 1048576, Timeout = 3600\n",
      "2025-09-25T17:56:20.113 +02:00 -|- FastTransfer -|- MSS22_to_MSS25_Datadriven_Partition -|- WARNING -|- tpch_test.dbo.orders_4_no_index -|- Column o_orderyear not found in target table \"dbo\".\"orders_4_no_index\". The column will be ignored\n",
      "2025-09-25T17:56:20.113 +02:00 -|- FastTransfer -|- MSS22_to_MSS25_Datadriven_Partition -|- WARNING -|- tpch_test.dbo.orders_4_no_index -|- Only 9 out of 10 columns were mapped by name to the target table \"dbo\".\"orders_4_no_index\"\n",
      "2025-09-25T17:56:23.175 +02:00 -|- FastTransfer -|- MSS22_to_MSS25_Datadriven_Partition -|- INFORMATION -|- tpch_test.dbo.orders_4_no_index -|- Completed DataDriven Load sub-process 6 for $PARTITION.PF_DATE(o_orderdate) = 8 : 1333214 rows x 10 columns in 3096 ms\n",
      "2025-09-25T17:56:24.795 +02:00 -|- FastTransfer -|- MSS22_to_MSS25_Datadriven_Partition -|- INFORMATION -|- tpch_test.dbo.orders_4_no_index -|- Completed DataDriven Load sub-process 2 for $PARTITION.PF_DATE(o_orderdate) = 4 : 2275919 rows x 10 columns in 4717 ms\n",
      "2025-09-25T17:56:24.802 +02:00 -|- FastTransfer -|- MSS22_to_MSS25_Datadriven_Partition -|- INFORMATION -|- tpch_test.dbo.orders_4_no_index -|- Completed DataDriven Load sub-process 3 for $PARTITION.PF_DATE(o_orderdate) = 5 : 2275575 rows x 10 columns in 4724 ms\n",
      "2025-09-25T17:56:24.843 +02:00 -|- FastTransfer -|- MSS22_to_MSS25_Datadriven_Partition -|- INFORMATION -|- tpch_test.dbo.orders_4_no_index -|- Completed DataDriven Load sub-process 1 for $PARTITION.PF_DATE(o_orderdate) = 3 : 2276638 rows x 10 columns in 4765 ms\n",
      "2025-09-25T17:56:24.877 +02:00 -|- FastTransfer -|- MSS22_to_MSS25_Datadriven_Partition -|- INFORMATION -|- tpch_test.dbo.orders_4_no_index -|- Completed DataDriven Load sub-process 5 for $PARTITION.PF_DATE(o_orderdate) = 7 : 2275511 rows x 10 columns in 4798 ms\n",
      "2025-09-25T17:56:24.891 +02:00 -|- FastTransfer -|- MSS22_to_MSS25_Datadriven_Partition -|- INFORMATION -|- tpch_test.dbo.orders_4_no_index -|- Completed DataDriven Load sub-process 0 for $PARTITION.PF_DATE(o_orderdate) = 2 : 2281205 rows x 10 columns in 4813 ms\n",
      "2025-09-25T17:56:24.895 +02:00 -|- FastTransfer -|- MSS22_to_MSS25_Datadriven_Partition -|- INFORMATION -|- tpch_test.dbo.orders_4_no_index -|- Completed DataDriven Load sub-process 4 for $PARTITION.PF_DATE(o_orderdate) = 6 : 2281938 rows x 10 columns in 4817 ms\n",
      "2025-09-25T17:56:24.896 +02:00 -|- FastTransfer -|- MSS22_to_MSS25_Datadriven_Partition -|- INFORMATION -|- tpch_test.dbo.orders_4_no_index -|- Total rows : 15000000\n",
      "2025-09-25T17:56:24.896 +02:00 -|- FastTransfer -|- MSS22_to_MSS25_Datadriven_Partition -|- INFORMATION -|- tpch_test.dbo.orders_4_no_index -|- Total columns : 10\n",
      "2025-09-25T17:56:24.896 +02:00 -|- FastTransfer -|- MSS22_to_MSS25_Datadriven_Partition -|- INFORMATION -|- tpch_test.dbo.orders_4_no_index -|- Total cells : 150000000\n",
      "2025-09-25T17:56:24.896 +02:00 -|- FastTransfer -|- MSS22_to_MSS25_Datadriven_Partition -|- INFORMATION -|- tpch_test.dbo.orders_4_no_index -|- Rows Throughput : 2617180 rows/s\n",
      "2025-09-25T17:56:24.896 +02:00 -|- FastTransfer -|- MSS22_to_MSS25_Datadriven_Partition -|- INFORMATION -|- tpch_test.dbo.orders_4_no_index -|- Cells Throughput : 26171822 cells/s\n",
      "2025-09-25T17:56:24.896 +02:00 -|- FastTransfer -|- MSS22_to_MSS25_Datadriven_Partition -|- INFORMATION -|- tpch_test.dbo.orders_4_no_index -|- Transfert time : Elapsed=5731 ms\n",
      "2025-09-25T17:56:24.896 +02:00 -|- FastTransfer -|- MSS22_to_MSS25_Datadriven_Partition -|- INFORMATION -|- tpch_test.dbo.orders_4_no_index -|- Total time : Elapsed=5930 ms\n",
      "2025-09-25T17:56:24.896 +02:00 -|- FastTransfer -|- MSS22_to_MSS25_Datadriven_Partition -|- INFORMATION -|- tpch_test.dbo.orders_4_no_index -|- Completed Load\n"
     ]
    }
   ],
   "source": [
    "cd D:\\FastTransfer\n",
    "\n",
    ".\\FastTransfer.exe `\n",
    "--sourceconnectiontype \"mssql\" `\n",
    "--sourceserver \"localhost\" `\n",
    "--sourcedatabase \"tpch_test\" `\n",
    "--sourcetrusted `\n",
    "--sourceschema \"dbo\" `\n",
    "--sourcetable \"orders_part\" `\n",
    "`\n",
    "--targetconnectiontype \"msbulk\" `\n",
    "--targetserver \"localhost\\SS2025\" `\n",
    "--targettrusted `\n",
    "--targetdatabase \"tpch_test\" `\n",
    "--targetschema \"dbo\" `\n",
    "--targettable \"orders_4_no_index\" `\n",
    "`\n",
    "--loadmode \"Truncate\" `\n",
    "--mapmethod \"Name\" `\n",
    "--method \"DataDriven\" `\n",
    "--distributekeycolumn \"`$PARTITION.PF_DATE(o_orderdate)\" `\n",
    "--degree 7 `\n",
    "--runid \"MSS22_to_MSS25_Datadriven_Partition\""
   ]
  },
  {
   "cell_type": "markdown",
   "id": "7a4e21cd",
   "metadata": {},
   "source": [
    "#### DataDriven using partitions as the distributekeycolumn and a custom datadrivenquery (simple)"
   ]
  },
  {
   "cell_type": "code",
   "execution_count": null,
   "metadata": {
    "polyglot_notebook": {
     "kernelName": "pwsh"
    }
   },
   "outputs": [
    {
     "name": "stdout",
     "output_type": "stream",
     "text": [
      "2025-09-25T17:58:27.113 +02:00 -|- FastTransfer -|- MSS22_to_MSS25_Datadriven_Partition -|- INFORMATION -|- tpch_test.dbo.orders_4_no_index -|- FastTransfer - running in trial mode – will expires on 2025‑10‑20 (24 day(s) left).\n",
      "2025-09-25T17:58:27.122 +02:00 -|- FastTransfer -|- MSS22_to_MSS25_Datadriven_Partition -|- INFORMATION -|- tpch_test.dbo.orders_4_no_index -|- Starting\n",
      "2025-09-25T17:58:27.122 +02:00 -|- FastTransfer -|- MSS22_to_MSS25_Datadriven_Partition -|- INFORMATION -|- tpch_test.dbo.orders_4_no_index -|- FastTransfer Version : 0.13.10.0 Architecture : X64 - Framework : .NET 8.0.19\n",
      "2025-09-25T17:58:27.122 +02:00 -|- FastTransfer -|- MSS22_to_MSS25_Datadriven_Partition -|- INFORMATION -|- tpch_test.dbo.orders_4_no_index -|- OS : Microsoft Windows 10.0.26100\n",
      "2025-09-25T17:58:27.122 +02:00 -|- FastTransfer -|- MSS22_to_MSS25_Datadriven_Partition -|- INFORMATION -|- tpch_test.dbo.orders_4_no_index -|- Process ID : 59280\n",
      "2025-09-25T17:58:27.122 +02:00 -|- FastTransfer -|- MSS22_to_MSS25_Datadriven_Partition -|- INFORMATION -|- tpch_test.dbo.orders_4_no_index -|- Provided Run ID : MSS22_to_MSS25_Datadriven_Partition\n",
      "2025-09-25T17:58:27.122 +02:00 -|- FastTransfer -|- MSS22_to_MSS25_Datadriven_Partition -|- INFORMATION -|- tpch_test.dbo.orders_4_no_index -|- Source Connection Type : mssql\n",
      "2025-09-25T17:58:27.122 +02:00 -|- FastTransfer -|- MSS22_to_MSS25_Datadriven_Partition -|- INFORMATION -|- tpch_test.dbo.orders_4_no_index -|- Source SqlInstance : localhost\n",
      "2025-09-25T17:58:27.122 +02:00 -|- FastTransfer -|- MSS22_to_MSS25_Datadriven_Partition -|- INFORMATION -|- tpch_test.dbo.orders_4_no_index -|- Source Database : tpch_test\n",
      "2025-09-25T17:58:27.122 +02:00 -|- FastTransfer -|- MSS22_to_MSS25_Datadriven_Partition -|- INFORMATION -|- tpch_test.dbo.orders_4_no_index -|- Source Trusted Connection : True\n",
      "2025-09-25T17:58:27.122 +02:00 -|- FastTransfer -|- MSS22_to_MSS25_Datadriven_Partition -|- INFORMATION -|- tpch_test.dbo.orders_4_no_index -|- Source Schema : dbo\n",
      "2025-09-25T17:58:27.122 +02:00 -|- FastTransfer -|- MSS22_to_MSS25_Datadriven_Partition -|- INFORMATION -|- tpch_test.dbo.orders_4_no_index -|- Source Table : orders_part\n",
      "2025-09-25T17:58:27.122 +02:00 -|- FastTransfer -|- MSS22_to_MSS25_Datadriven_Partition -|- INFORMATION -|- tpch_test.dbo.orders_4_no_index -|- Target Type : msbulk\n",
      "2025-09-25T17:58:27.122 +02:00 -|- FastTransfer -|- MSS22_to_MSS25_Datadriven_Partition -|- INFORMATION -|- tpch_test.dbo.orders_4_no_index -|- Target Server : localhost\\SS2025\n",
      "2025-09-25T17:58:27.122 +02:00 -|- FastTransfer -|- MSS22_to_MSS25_Datadriven_Partition -|- INFORMATION -|- tpch_test.dbo.orders_4_no_index -|- Target Database : tpch_test\n",
      "2025-09-25T17:58:27.122 +02:00 -|- FastTransfer -|- MSS22_to_MSS25_Datadriven_Partition -|- INFORMATION -|- tpch_test.dbo.orders_4_no_index -|- Target Schema : dbo\n",
      "2025-09-25T17:58:27.122 +02:00 -|- FastTransfer -|- MSS22_to_MSS25_Datadriven_Partition -|- INFORMATION -|- tpch_test.dbo.orders_4_no_index -|- Target Table : orders_4_no_index\n",
      "2025-09-25T17:58:27.122 +02:00 -|- FastTransfer -|- MSS22_to_MSS25_Datadriven_Partition -|- INFORMATION -|- tpch_test.dbo.orders_4_no_index -|- Target Trusted Connection : True\n",
      "2025-09-25T17:58:27.122 +02:00 -|- FastTransfer -|- MSS22_to_MSS25_Datadriven_Partition -|- INFORMATION -|- tpch_test.dbo.orders_4_no_index -|- Columns Map Method : Name\n",
      "2025-09-25T17:58:27.122 +02:00 -|- FastTransfer -|- MSS22_to_MSS25_Datadriven_Partition -|- INFORMATION -|- tpch_test.dbo.orders_4_no_index -|- Degree : 7\n",
      "2025-09-25T17:58:27.122 +02:00 -|- FastTransfer -|- MSS22_to_MSS25_Datadriven_Partition -|- INFORMATION -|- tpch_test.dbo.orders_4_no_index -|- Distribute Method : DataDriven\n",
      "2025-09-25T17:58:27.122 +02:00 -|- FastTransfer -|- MSS22_to_MSS25_Datadriven_Partition -|- INFORMATION -|- tpch_test.dbo.orders_4_no_index -|- Distribute Column : $PARTITION.PF_DATE(o_orderdate)\n",
      "2025-09-25T17:58:27.122 +02:00 -|- FastTransfer -|- MSS22_to_MSS25_Datadriven_Partition -|- INFORMATION -|- tpch_test.dbo.orders_4_no_index -|- Data Driven Query : select value from generate_series(2,8)\n",
      "2025-09-25T17:58:27.122 +02:00 -|- FastTransfer -|- MSS22_to_MSS25_Datadriven_Partition -|- INFORMATION -|- tpch_test.dbo.orders_4_no_index -|- Bulkcopy Batch Size : 1048576\n",
      "2025-09-25T17:58:27.122 +02:00 -|- FastTransfer -|- MSS22_to_MSS25_Datadriven_Partition -|- INFORMATION -|- tpch_test.dbo.orders_4_no_index -|- Load Mode : Truncate\n",
      "2025-09-25T17:58:27.122 +02:00 -|- FastTransfer -|- MSS22_to_MSS25_Datadriven_Partition -|- INFORMATION -|- tpch_test.dbo.orders_4_no_index -|- Use Work Tables : False\n",
      "2025-09-25T17:58:27.123 +02:00 -|- FastTransfer -|- MSS22_to_MSS25_Datadriven_Partition -|- INFORMATION -|- tpch_test.dbo.orders_4_no_index -|- Encoding used : Unicode (UTF-8) - 65001 - utf-8\n",
      "2025-09-25T17:58:27.140 +02:00 -|- FastTransfer -|- MSS22_to_MSS25_Datadriven_Partition -|- INFORMATION -|- tpch_test.dbo.orders_4_no_index -|- Source Connection String : Data Source=localhost;Initial Catalog=tpch_test;Integrated Security=True;Connect Timeout=120;Encrypt=True;Trust Server Certificate=True;Application Name=FastTransfer;Application Intent=ReadOnly;Command Timeout=10800\n",
      "2025-09-25T17:58:27.140 +02:00 -|- FastTransfer -|- MSS22_to_MSS25_Datadriven_Partition -|- INFORMATION -|- tpch_test.dbo.orders_4_no_index -|- Target Connection String : Data Source=localhost\\SS2025;Initial Catalog=tpch_test;Integrated Security=True;Connect Timeout=120;Encrypt=True;Trust Server Certificate=True;Application Name=FastTransfer;Application Intent=ReadWrite;Command Timeout=10800\n",
      "2025-09-25T17:58:27.140 +02:00 -|- FastTransfer -|- MSS22_to_MSS25_Datadriven_Partition -|- INFORMATION -|- tpch_test.dbo.orders_4_no_index -|- Source Database Version : Microsoft SQL Server 2022 (RTM-CU20-GDR) (KB5065220) - 16.0.4212.1 (X64)  \tAug 13 2025 16:40:40  \tCopyright (C) 2022 Microsoft Corporation \tDeveloper Edition (64-bit) on Windows 10 Pro 10.0 <X64> (Build 26100: ) (Hypervisor) \n",
      "2025-09-25T17:58:27.140 +02:00 -|- FastTransfer -|- MSS22_to_MSS25_Datadriven_Partition -|- INFORMATION -|- tpch_test.dbo.orders_4_no_index -|- Target Database Version : Microsoft SQL Server 2025 (CTP2.1) - 17.0.800.3 (X64)  \tJun 12 2025 14:47:57  \tCopyright (C) 2025 Microsoft Corporation \tEnterprise Developer Edition (64-bit) on Windows 10 Pro 10.0 <X64> (Build 26100: ) (Hypervisor) \n",
      "2025-09-25T17:58:27.157 +02:00 -|- FastTransfer -|- MSS22_to_MSS25_Datadriven_Partition -|- INFORMATION -|- tpch_test.dbo.orders_4_no_index -|- Completed DataDriven GetValues : 7 in 0 ms\n",
      "2025-09-25T17:58:27.158 +02:00 -|- FastTransfer -|- MSS22_to_MSS25_Datadriven_Partition -|- INFORMATION -|- tpch_test.dbo.orders_4_no_index -|- Start Loading Data using distribution method DataDriven\n",
      "2025-09-25T17:58:27.159 +02:00 -|- FastTransfer -|- MSS22_to_MSS25_Datadriven_Partition -|- INFORMATION -|- tpch_test.dbo.orders_4_no_index -|- Table \"dbo\".\"orders_4_no_index\" has no Clustered Index. BulkCopy will use KeepNulls and UseInternalTransaction and Tablock\n",
      "2025-09-25T17:58:27.159 +02:00 -|- FastTransfer -|- MSS22_to_MSS25_Datadriven_Partition -|- INFORMATION -|- tpch_test.dbo.orders_4_no_index -|- BulkCopy to \"dbo\".\"orders_4_no_index\" with BatchSize = 1048576, Timeout = 3600\n",
      "2025-09-25T17:58:27.162 +02:00 -|- FastTransfer -|- MSS22_to_MSS25_Datadriven_Partition -|- WARNING -|- tpch_test.dbo.orders_4_no_index -|- Column o_orderyear not found in target table \"dbo\".\"orders_4_no_index\". The column will be ignored\n",
      "2025-09-25T17:58:27.162 +02:00 -|- FastTransfer -|- MSS22_to_MSS25_Datadriven_Partition -|- WARNING -|- tpch_test.dbo.orders_4_no_index -|- Only 9 out of 10 columns were mapped by name to the target table \"dbo\".\"orders_4_no_index\"\n",
      "2025-09-25T17:58:27.167 +02:00 -|- FastTransfer -|- MSS22_to_MSS25_Datadriven_Partition -|- INFORMATION -|- tpch_test.dbo.orders_4_no_index -|- Start Loading Data using distribution method DataDriven\n",
      "2025-09-25T17:58:27.168 +02:00 -|- FastTransfer -|- MSS22_to_MSS25_Datadriven_Partition -|- INFORMATION -|- tpch_test.dbo.orders_4_no_index -|- Table \"dbo\".\"orders_4_no_index\" has no Clustered Index. BulkCopy will use KeepNulls and UseInternalTransaction and Tablock\n",
      "2025-09-25T17:58:27.168 +02:00 -|- FastTransfer -|- MSS22_to_MSS25_Datadriven_Partition -|- INFORMATION -|- tpch_test.dbo.orders_4_no_index -|- BulkCopy to \"dbo\".\"orders_4_no_index\" with BatchSize = 1048576, Timeout = 3600\n",
      "2025-09-25T17:58:27.169 +02:00 -|- FastTransfer -|- MSS22_to_MSS25_Datadriven_Partition -|- INFORMATION -|- tpch_test.dbo.orders_4_no_index -|- Start Loading Data using distribution method DataDriven\n",
      "2025-09-25T17:58:27.170 +02:00 -|- FastTransfer -|- MSS22_to_MSS25_Datadriven_Partition -|- WARNING -|- tpch_test.dbo.orders_4_no_index -|- Column o_orderyear not found in target table \"dbo\".\"orders_4_no_index\". The column will be ignored\n",
      "2025-09-25T17:58:27.170 +02:00 -|- FastTransfer -|- MSS22_to_MSS25_Datadriven_Partition -|- WARNING -|- tpch_test.dbo.orders_4_no_index -|- Only 9 out of 10 columns were mapped by name to the target table \"dbo\".\"orders_4_no_index\"\n",
      "2025-09-25T17:58:27.170 +02:00 -|- FastTransfer -|- MSS22_to_MSS25_Datadriven_Partition -|- INFORMATION -|- tpch_test.dbo.orders_4_no_index -|- Table \"dbo\".\"orders_4_no_index\" has no Clustered Index. BulkCopy will use KeepNulls and UseInternalTransaction and Tablock\n",
      "2025-09-25T17:58:27.170 +02:00 -|- FastTransfer -|- MSS22_to_MSS25_Datadriven_Partition -|- INFORMATION -|- tpch_test.dbo.orders_4_no_index -|- BulkCopy to \"dbo\".\"orders_4_no_index\" with BatchSize = 1048576, Timeout = 3600\n",
      "2025-09-25T17:58:27.172 +02:00 -|- FastTransfer -|- MSS22_to_MSS25_Datadriven_Partition -|- WARNING -|- tpch_test.dbo.orders_4_no_index -|- Column o_orderyear not found in target table \"dbo\".\"orders_4_no_index\". The column will be ignored\n",
      "2025-09-25T17:58:27.172 +02:00 -|- FastTransfer -|- MSS22_to_MSS25_Datadriven_Partition -|- WARNING -|- tpch_test.dbo.orders_4_no_index -|- Only 9 out of 10 columns were mapped by name to the target table \"dbo\".\"orders_4_no_index\"\n",
      "2025-09-25T17:58:27.179 +02:00 -|- FastTransfer -|- MSS22_to_MSS25_Datadriven_Partition -|- INFORMATION -|- tpch_test.dbo.orders_4_no_index -|- Start Loading Data using distribution method DataDriven\n",
      "2025-09-25T17:58:27.180 +02:00 -|- FastTransfer -|- MSS22_to_MSS25_Datadriven_Partition -|- INFORMATION -|- tpch_test.dbo.orders_4_no_index -|- Table \"dbo\".\"orders_4_no_index\" has no Clustered Index. BulkCopy will use KeepNulls and UseInternalTransaction and Tablock\n",
      "2025-09-25T17:58:27.180 +02:00 -|- FastTransfer -|- MSS22_to_MSS25_Datadriven_Partition -|- INFORMATION -|- tpch_test.dbo.orders_4_no_index -|- BulkCopy to \"dbo\".\"orders_4_no_index\" with BatchSize = 1048576, Timeout = 3600\n",
      "2025-09-25T17:58:27.182 +02:00 -|- FastTransfer -|- MSS22_to_MSS25_Datadriven_Partition -|- WARNING -|- tpch_test.dbo.orders_4_no_index -|- Column o_orderyear not found in target table \"dbo\".\"orders_4_no_index\". The column will be ignored\n",
      "2025-09-25T17:58:27.182 +02:00 -|- FastTransfer -|- MSS22_to_MSS25_Datadriven_Partition -|- INFORMATION -|- tpch_test.dbo.orders_4_no_index -|- Start Loading Data using distribution method DataDriven\n",
      "2025-09-25T17:58:27.182 +02:00 -|- FastTransfer -|- MSS22_to_MSS25_Datadriven_Partition -|- WARNING -|- tpch_test.dbo.orders_4_no_index -|- Only 9 out of 10 columns were mapped by name to the target table \"dbo\".\"orders_4_no_index\"\n",
      "2025-09-25T17:58:27.183 +02:00 -|- FastTransfer -|- MSS22_to_MSS25_Datadriven_Partition -|- INFORMATION -|- tpch_test.dbo.orders_4_no_index -|- Table \"dbo\".\"orders_4_no_index\" has no Clustered Index. BulkCopy will use KeepNulls and UseInternalTransaction and Tablock\n",
      "2025-09-25T17:58:27.183 +02:00 -|- FastTransfer -|- MSS22_to_MSS25_Datadriven_Partition -|- INFORMATION -|- tpch_test.dbo.orders_4_no_index -|- BulkCopy to \"dbo\".\"orders_4_no_index\" with BatchSize = 1048576, Timeout = 3600\n",
      "2025-09-25T17:58:27.185 +02:00 -|- FastTransfer -|- MSS22_to_MSS25_Datadriven_Partition -|- WARNING -|- tpch_test.dbo.orders_4_no_index -|- Column o_orderyear not found in target table \"dbo\".\"orders_4_no_index\". The column will be ignored\n",
      "2025-09-25T17:58:27.185 +02:00 -|- FastTransfer -|- MSS22_to_MSS25_Datadriven_Partition -|- WARNING -|- tpch_test.dbo.orders_4_no_index -|- Only 9 out of 10 columns were mapped by name to the target table \"dbo\".\"orders_4_no_index\"\n",
      "2025-09-25T17:58:27.189 +02:00 -|- FastTransfer -|- MSS22_to_MSS25_Datadriven_Partition -|- INFORMATION -|- tpch_test.dbo.orders_4_no_index -|- Start Loading Data using distribution method DataDriven\n",
      "2025-09-25T17:58:27.189 +02:00 -|- FastTransfer -|- MSS22_to_MSS25_Datadriven_Partition -|- INFORMATION -|- tpch_test.dbo.orders_4_no_index -|- Table \"dbo\".\"orders_4_no_index\" has no Clustered Index. BulkCopy will use KeepNulls and UseInternalTransaction and Tablock\n",
      "2025-09-25T17:58:27.189 +02:00 -|- FastTransfer -|- MSS22_to_MSS25_Datadriven_Partition -|- INFORMATION -|- tpch_test.dbo.orders_4_no_index -|- BulkCopy to \"dbo\".\"orders_4_no_index\" with BatchSize = 1048576, Timeout = 3600\n",
      "2025-09-25T17:58:27.192 +02:00 -|- FastTransfer -|- MSS22_to_MSS25_Datadriven_Partition -|- WARNING -|- tpch_test.dbo.orders_4_no_index -|- Column o_orderyear not found in target table \"dbo\".\"orders_4_no_index\". The column will be ignored\n",
      "2025-09-25T17:58:27.192 +02:00 -|- FastTransfer -|- MSS22_to_MSS25_Datadriven_Partition -|- WARNING -|- tpch_test.dbo.orders_4_no_index -|- Only 9 out of 10 columns were mapped by name to the target table \"dbo\".\"orders_4_no_index\"\n",
      "2025-09-25T17:58:27.192 +02:00 -|- FastTransfer -|- MSS22_to_MSS25_Datadriven_Partition -|- INFORMATION -|- tpch_test.dbo.orders_4_no_index -|- Start Loading Data using distribution method DataDriven\n",
      "2025-09-25T17:58:27.193 +02:00 -|- FastTransfer -|- MSS22_to_MSS25_Datadriven_Partition -|- INFORMATION -|- tpch_test.dbo.orders_4_no_index -|- Table \"dbo\".\"orders_4_no_index\" has no Clustered Index. BulkCopy will use KeepNulls and UseInternalTransaction and Tablock\n",
      "2025-09-25T17:58:27.193 +02:00 -|- FastTransfer -|- MSS22_to_MSS25_Datadriven_Partition -|- INFORMATION -|- tpch_test.dbo.orders_4_no_index -|- BulkCopy to \"dbo\".\"orders_4_no_index\" with BatchSize = 1048576, Timeout = 3600\n",
      "2025-09-25T17:58:27.195 +02:00 -|- FastTransfer -|- MSS22_to_MSS25_Datadriven_Partition -|- WARNING -|- tpch_test.dbo.orders_4_no_index -|- Column o_orderyear not found in target table \"dbo\".\"orders_4_no_index\". The column will be ignored\n",
      "2025-09-25T17:58:27.195 +02:00 -|- FastTransfer -|- MSS22_to_MSS25_Datadriven_Partition -|- WARNING -|- tpch_test.dbo.orders_4_no_index -|- Only 9 out of 10 columns were mapped by name to the target table \"dbo\".\"orders_4_no_index\"\n",
      "2025-09-25T17:58:29.892 +02:00 -|- FastTransfer -|- MSS22_to_MSS25_Datadriven_Partition -|- INFORMATION -|- tpch_test.dbo.orders_4_no_index -|- Completed DataDriven Load sub-process 6 for $PARTITION.PF_DATE(o_orderdate) = 8 : 1333214 rows x 10 columns in 2733 ms\n",
      "2025-09-25T17:58:31.538 +02:00 -|- FastTransfer -|- MSS22_to_MSS25_Datadriven_Partition -|- INFORMATION -|- tpch_test.dbo.orders_4_no_index -|- Completed DataDriven Load sub-process 0 for $PARTITION.PF_DATE(o_orderdate) = 2 : 2281205 rows x 10 columns in 4381 ms\n",
      "2025-09-25T17:58:31.548 +02:00 -|- FastTransfer -|- MSS22_to_MSS25_Datadriven_Partition -|- INFORMATION -|- tpch_test.dbo.orders_4_no_index -|- Completed DataDriven Load sub-process 1 for $PARTITION.PF_DATE(o_orderdate) = 3 : 2276638 rows x 10 columns in 4389 ms\n",
      "2025-09-25T17:58:31.587 +02:00 -|- FastTransfer -|- MSS22_to_MSS25_Datadriven_Partition -|- INFORMATION -|- tpch_test.dbo.orders_4_no_index -|- Completed DataDriven Load sub-process 4 for $PARTITION.PF_DATE(o_orderdate) = 6 : 2281938 rows x 10 columns in 4428 ms\n",
      "2025-09-25T17:58:31.687 +02:00 -|- FastTransfer -|- MSS22_to_MSS25_Datadriven_Partition -|- INFORMATION -|- tpch_test.dbo.orders_4_no_index -|- Completed DataDriven Load sub-process 5 for $PARTITION.PF_DATE(o_orderdate) = 7 : 2275511 rows x 10 columns in 4528 ms\n",
      "2025-09-25T17:58:31.957 +02:00 -|- FastTransfer -|- MSS22_to_MSS25_Datadriven_Partition -|- INFORMATION -|- tpch_test.dbo.orders_4_no_index -|- Completed DataDriven Load sub-process 3 for $PARTITION.PF_DATE(o_orderdate) = 5 : 2275575 rows x 10 columns in 4799 ms\n",
      "2025-09-25T17:58:32.030 +02:00 -|- FastTransfer -|- MSS22_to_MSS25_Datadriven_Partition -|- INFORMATION -|- tpch_test.dbo.orders_4_no_index -|- Completed DataDriven Load sub-process 2 for $PARTITION.PF_DATE(o_orderdate) = 4 : 2275919 rows x 10 columns in 4872 ms\n",
      "2025-09-25T17:58:32.031 +02:00 -|- FastTransfer -|- MSS22_to_MSS25_Datadriven_Partition -|- INFORMATION -|- tpch_test.dbo.orders_4_no_index -|- Total rows : 15000000\n",
      "2025-09-25T17:58:32.031 +02:00 -|- FastTransfer -|- MSS22_to_MSS25_Datadriven_Partition -|- INFORMATION -|- tpch_test.dbo.orders_4_no_index -|- Total columns : 10\n",
      "2025-09-25T17:58:32.031 +02:00 -|- FastTransfer -|- MSS22_to_MSS25_Datadriven_Partition -|- INFORMATION -|- tpch_test.dbo.orders_4_no_index -|- Total cells : 150000000\n",
      "2025-09-25T17:58:32.031 +02:00 -|- FastTransfer -|- MSS22_to_MSS25_Datadriven_Partition -|- INFORMATION -|- tpch_test.dbo.orders_4_no_index -|- Rows Throughput : 3076302 rows/s\n",
      "2025-09-25T17:58:32.032 +02:00 -|- FastTransfer -|- MSS22_to_MSS25_Datadriven_Partition -|- INFORMATION -|- tpch_test.dbo.orders_4_no_index -|- Cells Throughput : 30763059 cells/s\n",
      "2025-09-25T17:58:32.032 +02:00 -|- FastTransfer -|- MSS22_to_MSS25_Datadriven_Partition -|- INFORMATION -|- tpch_test.dbo.orders_4_no_index -|- Transfert time : Elapsed=4876 ms\n",
      "2025-09-25T17:58:32.032 +02:00 -|- FastTransfer -|- MSS22_to_MSS25_Datadriven_Partition -|- INFORMATION -|- tpch_test.dbo.orders_4_no_index -|- Total time : Elapsed=5076 ms\n",
      "2025-09-25T17:58:32.032 +02:00 -|- FastTransfer -|- MSS22_to_MSS25_Datadriven_Partition -|- INFORMATION -|- tpch_test.dbo.orders_4_no_index -|- Completed Load\n"
     ]
    }
   ],
   "source": [
    "cd D:\\FastTransfer\n",
    "\n",
    ".\\FastTransfer.exe `\n",
    "--sourceconnectiontype \"mssql\" `\n",
    "--sourceserver \"localhost\" `\n",
    "--sourcedatabase \"tpch_test\" `\n",
    "--sourcetrusted `\n",
    "--sourceschema \"dbo\" `\n",
    "--sourcetable \"orders_part\" `\n",
    "`\n",
    "--targetconnectiontype \"msbulk\" `\n",
    "--targetserver \"localhost\\SS2025\" `\n",
    "--targettrusted `\n",
    "--targetdatabase \"tpch_test\" `\n",
    "--targetschema \"dbo\" `\n",
    "--targettable \"orders_4_no_index\" `\n",
    "`\n",
    "--loadmode \"Truncate\" `\n",
    "--mapmethod \"Name\" `\n",
    "--method \"DataDriven\" `\n",
    "--distributekeycolumn \"`$PARTITION.PF_DATE(o_orderdate)\" `\n",
    "--datadrivenquery \"select value from generate_series(6,8)\" `\n",
    "--degree 7 `\n",
    "--runid \"MSS22_to_MSS25_Datadriven_Partition\""
   ]
  },
  {
   "cell_type": "markdown",
   "id": "5c934f39",
   "metadata": {},
   "source": [
    "#### DataDriven using partitions as the distributekeycolumn and a custom datadrivenquery (a little more complex)"
   ]
  },
  {
   "cell_type": "code",
   "execution_count": 5,
   "metadata": {
    "polyglot_notebook": {
     "kernelName": "pwsh"
    }
   },
   "outputs": [
    {
     "name": "stdout",
     "output_type": "stream",
     "text": [
      "2025-06-15T17:34:11.839 +02:00 -|- FastTransfer -|- MSS22_to_MSS25_Datadriven_Partition -|- INFORMATION -|- tpch_test.dbo.orders_4_no_index -|- FastTransfer - running in trial mode – will expires on 2025‑07‑14 (28 day(s) left).\n",
      "2025-06-15T17:34:11.850 +02:00 -|- FastTransfer -|- MSS22_to_MSS25_Datadriven_Partition -|- INFORMATION -|- tpch_test.dbo.orders_4_no_index -|- Starting\n",
      "2025-06-15T17:34:11.851 +02:00 -|- FastTransfer -|- MSS22_to_MSS25_Datadriven_Partition -|- INFORMATION -|- tpch_test.dbo.orders_4_no_index -|- FastTransfer Version : 0.13.6.0 Architecture : X64 - Framework : .NET 8.0.16\n",
      "2025-06-15T17:34:11.851 +02:00 -|- FastTransfer -|- MSS22_to_MSS25_Datadriven_Partition -|- INFORMATION -|- tpch_test.dbo.orders_4_no_index -|- OS : Microsoft Windows 10.0.26100\n",
      "2025-06-15T17:34:11.851 +02:00 -|- FastTransfer -|- MSS22_to_MSS25_Datadriven_Partition -|- INFORMATION -|- tpch_test.dbo.orders_4_no_index -|- Process ID : 41348\n",
      "2025-06-15T17:34:11.851 +02:00 -|- FastTransfer -|- MSS22_to_MSS25_Datadriven_Partition -|- INFORMATION -|- tpch_test.dbo.orders_4_no_index -|- Provided Run ID : MSS22_to_MSS25_Datadriven_Partition\n",
      "2025-06-15T17:34:11.851 +02:00 -|- FastTransfer -|- MSS22_to_MSS25_Datadriven_Partition -|- INFORMATION -|- tpch_test.dbo.orders_4_no_index -|- Source Connection Type : mssql\n",
      "2025-06-15T17:34:11.851 +02:00 -|- FastTransfer -|- MSS22_to_MSS25_Datadriven_Partition -|- INFORMATION -|- tpch_test.dbo.orders_4_no_index -|- Source SqlInstance : localhost\n",
      "2025-06-15T17:34:11.851 +02:00 -|- FastTransfer -|- MSS22_to_MSS25_Datadriven_Partition -|- INFORMATION -|- tpch_test.dbo.orders_4_no_index -|- Source Database : tpch_test\n",
      "2025-06-15T17:34:11.851 +02:00 -|- FastTransfer -|- MSS22_to_MSS25_Datadriven_Partition -|- INFORMATION -|- tpch_test.dbo.orders_4_no_index -|- Source Trusted Connection : True\n",
      "2025-06-15T17:34:11.851 +02:00 -|- FastTransfer -|- MSS22_to_MSS25_Datadriven_Partition -|- INFORMATION -|- tpch_test.dbo.orders_4_no_index -|- Source Schema : dbo\n",
      "2025-06-15T17:34:11.851 +02:00 -|- FastTransfer -|- MSS22_to_MSS25_Datadriven_Partition -|- INFORMATION -|- tpch_test.dbo.orders_4_no_index -|- Source Table : orders_part\n",
      "2025-06-15T17:34:11.851 +02:00 -|- FastTransfer -|- MSS22_to_MSS25_Datadriven_Partition -|- INFORMATION -|- tpch_test.dbo.orders_4_no_index -|- Target Type : msbulk\n",
      "2025-06-15T17:34:11.851 +02:00 -|- FastTransfer -|- MSS22_to_MSS25_Datadriven_Partition -|- INFORMATION -|- tpch_test.dbo.orders_4_no_index -|- Target Server : localhost\\SS2025\n",
      "2025-06-15T17:34:11.851 +02:00 -|- FastTransfer -|- MSS22_to_MSS25_Datadriven_Partition -|- INFORMATION -|- tpch_test.dbo.orders_4_no_index -|- Target Database : tpch_test\n",
      "2025-06-15T17:34:11.851 +02:00 -|- FastTransfer -|- MSS22_to_MSS25_Datadriven_Partition -|- INFORMATION -|- tpch_test.dbo.orders_4_no_index -|- Target Schema : dbo\n",
      "2025-06-15T17:34:11.851 +02:00 -|- FastTransfer -|- MSS22_to_MSS25_Datadriven_Partition -|- INFORMATION -|- tpch_test.dbo.orders_4_no_index -|- Target Table : orders_4_no_index\n",
      "2025-06-15T17:34:11.851 +02:00 -|- FastTransfer -|- MSS22_to_MSS25_Datadriven_Partition -|- INFORMATION -|- tpch_test.dbo.orders_4_no_index -|- Target Trusted Connection : True\n",
      "2025-06-15T17:34:11.851 +02:00 -|- FastTransfer -|- MSS22_to_MSS25_Datadriven_Partition -|- INFORMATION -|- tpch_test.dbo.orders_4_no_index -|- Columns Map Method : Name\n",
      "2025-06-15T17:34:11.851 +02:00 -|- FastTransfer -|- MSS22_to_MSS25_Datadriven_Partition -|- INFORMATION -|- tpch_test.dbo.orders_4_no_index -|- Degree : 7\n",
      "2025-06-15T17:34:11.851 +02:00 -|- FastTransfer -|- MSS22_to_MSS25_Datadriven_Partition -|- INFORMATION -|- tpch_test.dbo.orders_4_no_index -|- Distribute Method : DataDriven\n",
      "2025-06-15T17:34:11.851 +02:00 -|- FastTransfer -|- MSS22_to_MSS25_Datadriven_Partition -|- INFORMATION -|- tpch_test.dbo.orders_4_no_index -|- Distribute Column : $PARTITION.PF_DATE(o_orderdate)\n",
      "2025-06-15T17:34:11.851 +02:00 -|- FastTransfer -|- MSS22_to_MSS25_Datadriven_Partition -|- INFORMATION -|- tpch_test.dbo.orders_4_no_index -|- Data Driven Query : select boundary_id partid \n",
      "from \n",
      "  sys.partition_range_values prv \n",
      "  inner join sys.partition_functions pf on prv.function_id=pf.function_id\n",
      "where \n",
      "  pf.name='PF_DATE'  \n",
      "  and cast(prv.value as date)  > '1996-01-01' and cast(prv.value as date) <= '1999-01-01'\n",
      "2025-06-15T17:34:11.851 +02:00 -|- FastTransfer -|- MSS22_to_MSS25_Datadriven_Partition -|- INFORMATION -|- tpch_test.dbo.orders_4_no_index -|- Bulkcopy Batch Size : 1048576\n",
      "2025-06-15T17:34:11.851 +02:00 -|- FastTransfer -|- MSS22_to_MSS25_Datadriven_Partition -|- INFORMATION -|- tpch_test.dbo.orders_4_no_index -|- Load Mode : Truncate\n",
      "2025-06-15T17:34:11.851 +02:00 -|- FastTransfer -|- MSS22_to_MSS25_Datadriven_Partition -|- INFORMATION -|- tpch_test.dbo.orders_4_no_index -|- Use Work Tables : False\n",
      "2025-06-15T17:34:11.852 +02:00 -|- FastTransfer -|- MSS22_to_MSS25_Datadriven_Partition -|- INFORMATION -|- tpch_test.dbo.orders_4_no_index -|- Encoding used : Unicode (UTF-8) - 65001 - utf-8\n",
      "2025-06-15T17:34:11.871 +02:00 -|- FastTransfer -|- MSS22_to_MSS25_Datadriven_Partition -|- INFORMATION -|- tpch_test.dbo.orders_4_no_index -|- Source Connection String : Data Source=localhost;Initial Catalog=tpch_test;Integrated Security=True;Connect Timeout=120;Encrypt=True;Trust Server Certificate=True;Application Name=FastTransfer;Application Intent=ReadOnly;Command Timeout=10800\n",
      "2025-06-15T17:34:11.872 +02:00 -|- FastTransfer -|- MSS22_to_MSS25_Datadriven_Partition -|- INFORMATION -|- tpch_test.dbo.orders_4_no_index -|- Target Connection String : Data Source=localhost\\SS2025;Initial Catalog=tpch_test;Integrated Security=True;Connect Timeout=120;Encrypt=True;Trust Server Certificate=True;Application Name=FastTransfer;Application Intent=ReadWrite;Command Timeout=10800\n",
      "2025-06-15T17:34:11.872 +02:00 -|- FastTransfer -|- MSS22_to_MSS25_Datadriven_Partition -|- INFORMATION -|- tpch_test.dbo.orders_4_no_index -|- Source Database Version : Microsoft SQL Server 2022 (RTM-CU17) (KB5048038) - 16.0.4175.1 (X64)  \tDec 13 2024 09:01:53  \tCopyright (C) 2022 Microsoft Corporation \tDeveloper Edition (64-bit) on Windows 10 Pro 10.0 <X64> (Build 26100: ) (Hypervisor) \n",
      "2025-06-15T17:34:11.872 +02:00 -|- FastTransfer -|- MSS22_to_MSS25_Datadriven_Partition -|- INFORMATION -|- tpch_test.dbo.orders_4_no_index -|- Target Database Version : Microsoft SQL Server 2025 (CTP2.0) - 17.0.700.9 (X64)  \tMay  8 2025 19:14:27  \tCopyright (C) 2025 Microsoft Corporation \tEnterprise Developer Edition (64-bit) on Windows 10 Pro 10.0 <X64> (Build 26100: ) (Hypervisor) \n",
      "2025-06-15T17:34:11.885 +02:00 -|- FastTransfer -|- MSS22_to_MSS25_Datadriven_Partition -|- INFORMATION -|- tpch_test.dbo.orders_4_no_index -|- Completed DataDriven GetValues : 3 in 2 ms\n",
      "2025-06-15T17:34:11.888 +02:00 -|- FastTransfer -|- MSS22_to_MSS25_Datadriven_Partition -|- INFORMATION -|- tpch_test.dbo.orders_4_no_index -|- Start Loading Data using distribution method DataDriven\n",
      "2025-06-15T17:34:11.889 +02:00 -|- FastTransfer -|- MSS22_to_MSS25_Datadriven_Partition -|- INFORMATION -|- tpch_test.dbo.orders_4_no_index -|- Table \"dbo\".\"orders_4_no_index\" has no Clustered Index. BulkCopy will use KeepNulls and UseInternalTransaction and Tablock\n",
      "2025-06-15T17:34:11.889 +02:00 -|- FastTransfer -|- MSS22_to_MSS25_Datadriven_Partition -|- INFORMATION -|- tpch_test.dbo.orders_4_no_index -|- BulkCopy to \"dbo\".\"orders_4_no_index\" with BatchSize = 1048576, Timeout = 3600\n",
      "2025-06-15T17:34:11.892 +02:00 -|- FastTransfer -|- MSS22_to_MSS25_Datadriven_Partition -|- WARNING -|- tpch_test.dbo.orders_4_no_index -|- Column o_orderyear not found in target table \"dbo\".\"orders_4_no_index\". The column will be ignored\n",
      "2025-06-15T17:34:11.892 +02:00 -|- FastTransfer -|- MSS22_to_MSS25_Datadriven_Partition -|- WARNING -|- tpch_test.dbo.orders_4_no_index -|- Only 9 out of 10 columns were mapped by name to the target table \"dbo\".\"orders_4_no_index\"\n",
      "2025-06-15T17:34:11.900 +02:00 -|- FastTransfer -|- MSS22_to_MSS25_Datadriven_Partition -|- INFORMATION -|- tpch_test.dbo.orders_4_no_index -|- Start Loading Data using distribution method DataDriven\n",
      "2025-06-15T17:34:11.901 +02:00 -|- FastTransfer -|- MSS22_to_MSS25_Datadriven_Partition -|- INFORMATION -|- tpch_test.dbo.orders_4_no_index -|- Table \"dbo\".\"orders_4_no_index\" has no Clustered Index. BulkCopy will use KeepNulls and UseInternalTransaction and Tablock\n",
      "2025-06-15T17:34:11.901 +02:00 -|- FastTransfer -|- MSS22_to_MSS25_Datadriven_Partition -|- INFORMATION -|- tpch_test.dbo.orders_4_no_index -|- BulkCopy to \"dbo\".\"orders_4_no_index\" with BatchSize = 1048576, Timeout = 3600\n",
      "2025-06-15T17:34:11.903 +02:00 -|- FastTransfer -|- MSS22_to_MSS25_Datadriven_Partition -|- INFORMATION -|- tpch_test.dbo.orders_4_no_index -|- Start Loading Data using distribution method DataDriven\n",
      "2025-06-15T17:34:11.903 +02:00 -|- FastTransfer -|- MSS22_to_MSS25_Datadriven_Partition -|- INFORMATION -|- tpch_test.dbo.orders_4_no_index -|- Table \"dbo\".\"orders_4_no_index\" has no Clustered Index. BulkCopy will use KeepNulls and UseInternalTransaction and Tablock\n",
      "2025-06-15T17:34:11.903 +02:00 -|- FastTransfer -|- MSS22_to_MSS25_Datadriven_Partition -|- INFORMATION -|- tpch_test.dbo.orders_4_no_index -|- BulkCopy to \"dbo\".\"orders_4_no_index\" with BatchSize = 1048576, Timeout = 3600\n",
      "2025-06-15T17:34:11.903 +02:00 -|- FastTransfer -|- MSS22_to_MSS25_Datadriven_Partition -|- WARNING -|- tpch_test.dbo.orders_4_no_index -|- Column o_orderyear not found in target table \"dbo\".\"orders_4_no_index\". The column will be ignored\n",
      "2025-06-15T17:34:11.904 +02:00 -|- FastTransfer -|- MSS22_to_MSS25_Datadriven_Partition -|- WARNING -|- tpch_test.dbo.orders_4_no_index -|- Only 9 out of 10 columns were mapped by name to the target table \"dbo\".\"orders_4_no_index\"\n",
      "2025-06-15T17:34:11.904 +02:00 -|- FastTransfer -|- MSS22_to_MSS25_Datadriven_Partition -|- WARNING -|- tpch_test.dbo.orders_4_no_index -|- Column o_orderyear not found in target table \"dbo\".\"orders_4_no_index\". The column will be ignored\n",
      "2025-06-15T17:34:11.904 +02:00 -|- FastTransfer -|- MSS22_to_MSS25_Datadriven_Partition -|- WARNING -|- tpch_test.dbo.orders_4_no_index -|- Only 9 out of 10 columns were mapped by name to the target table \"dbo\".\"orders_4_no_index\"\n",
      "2025-06-15T17:34:14.041 +02:00 -|- FastTransfer -|- MSS22_to_MSS25_Datadriven_Partition -|- INFORMATION -|- tpch_test.dbo.orders_4_no_index -|- Completed DataDriven Load sub-process 2 for $PARTITION.PF_DATE(o_orderdate) = 8 : 1333214 rows x 10 columns in 2152 ms\n",
      "2025-06-15T17:34:15.300 +02:00 -|- FastTransfer -|- MSS22_to_MSS25_Datadriven_Partition -|- INFORMATION -|- tpch_test.dbo.orders_4_no_index -|- Completed DataDriven Load sub-process 1 for $PARTITION.PF_DATE(o_orderdate) = 7 : 2275511 rows x 10 columns in 3412 ms\n",
      "2025-06-15T17:34:15.337 +02:00 -|- FastTransfer -|- MSS22_to_MSS25_Datadriven_Partition -|- INFORMATION -|- tpch_test.dbo.orders_4_no_index -|- Completed DataDriven Load sub-process 0 for $PARTITION.PF_DATE(o_orderdate) = 6 : 2281938 rows x 10 columns in 3450 ms\n",
      "2025-06-15T17:34:15.338 +02:00 -|- FastTransfer -|- MSS22_to_MSS25_Datadriven_Partition -|- INFORMATION -|- tpch_test.dbo.orders_4_no_index -|- Total rows : 5890663\n",
      "2025-06-15T17:34:15.338 +02:00 -|- FastTransfer -|- MSS22_to_MSS25_Datadriven_Partition -|- INFORMATION -|- tpch_test.dbo.orders_4_no_index -|- Total columns : 10\n",
      "2025-06-15T17:34:15.339 +02:00 -|- FastTransfer -|- MSS22_to_MSS25_Datadriven_Partition -|- INFORMATION -|- tpch_test.dbo.orders_4_no_index -|- Total cells : 58906630\n",
      "2025-06-15T17:34:15.339 +02:00 -|- FastTransfer -|- MSS22_to_MSS25_Datadriven_Partition -|- INFORMATION -|- tpch_test.dbo.orders_4_no_index -|- Rows Throughput : 1704438 rows/s\n",
      "2025-06-15T17:34:15.339 +02:00 -|- FastTransfer -|- MSS22_to_MSS25_Datadriven_Partition -|- INFORMATION -|- tpch_test.dbo.orders_4_no_index -|- Cells Throughput : 17044409 cells/s\n",
      "2025-06-15T17:34:15.339 +02:00 -|- FastTransfer -|- MSS22_to_MSS25_Datadriven_Partition -|- INFORMATION -|- tpch_test.dbo.orders_4_no_index -|- Transfert time : Elapsed=3456 ms\n",
      "2025-06-15T17:34:15.339 +02:00 -|- FastTransfer -|- MSS22_to_MSS25_Datadriven_Partition -|- INFORMATION -|- tpch_test.dbo.orders_4_no_index -|- Total time : Elapsed=3644 ms\n",
      "2025-06-15T17:34:15.339 +02:00 -|- FastTransfer -|- MSS22_to_MSS25_Datadriven_Partition -|- INFORMATION -|- tpch_test.dbo.orders_4_no_index -|- Completed Load\n"
     ]
    }
   ],
   "source": [
    "cd D:\\FastTransfer\n",
    "\n",
    ".\\FastTransfer.exe `\n",
    "--sourceconnectiontype \"mssql\" `\n",
    "--sourceserver \"localhost\" `\n",
    "--sourcedatabase \"tpch_test\" `\n",
    "--sourcetrusted `\n",
    "--sourceschema \"dbo\" `\n",
    "--sourcetable \"orders_part\" `\n",
    "`\n",
    "--targetconnectiontype \"msbulk\" `\n",
    "--targetserver \"localhost\\SS2025\" `\n",
    "--targettrusted `\n",
    "--targetdatabase \"tpch_test\" `\n",
    "--targetschema \"dbo\" `\n",
    "--targettable \"orders_4_no_index\" `\n",
    "`\n",
    "--loadmode \"Truncate\" `\n",
    "--mapmethod \"Name\" `\n",
    "--method \"DataDriven\" `\n",
    "--distributekeycolumn \"`$PARTITION.PF_DATE(o_orderdate)\" `\n",
    "--datadrivenquery \"select boundary_id partid \n",
    "from \n",
    "  sys.partition_range_values prv \n",
    "  inner join sys.partition_functions pf on prv.function_id=pf.function_id\n",
    "where \n",
    "  pf.name='PF_DATE'  \n",
    "  and cast(prv.value as date)  > '1996-01-01' and cast(prv.value as date) <= '1999-01-01'\" `\n",
    "--degree 7 `\n",
    "--runid \"MSS22_to_MSS25_Datadriven_Partition\""
   ]
  },
  {
   "cell_type": "markdown",
   "id": "5ebf3a79",
   "metadata": {},
   "source": [
    "### Using RangeId as parallel dispatch method and a filtered query as source"
   ]
  },
  {
   "cell_type": "code",
   "execution_count": 7,
   "metadata": {
    "polyglot_notebook": {
     "kernelName": "pwsh"
    }
   },
   "outputs": [
    {
     "name": "stdout",
     "output_type": "stream",
     "text": [
      "2025-06-15T17:34:51.460 +02:00 -|- FastTransfer -|- MSS22_to_MSS25_RangeId_and_filtered_data -|- INFORMATION -|- tpch_test.dbo.orders_4_no_index -|- FastTransfer - running in trial mode – will expires on 2025‑07‑14 (28 day(s) left).\n",
      "2025-06-15T17:34:51.470 +02:00 -|- FastTransfer -|- MSS22_to_MSS25_RangeId_and_filtered_data -|- INFORMATION -|- tpch_test.dbo.orders_4_no_index -|- Starting\n",
      "2025-06-15T17:34:51.470 +02:00 -|- FastTransfer -|- MSS22_to_MSS25_RangeId_and_filtered_data -|- INFORMATION -|- tpch_test.dbo.orders_4_no_index -|- FastTransfer Version : 0.13.6.0 Architecture : X64 - Framework : .NET 8.0.16\n",
      "2025-06-15T17:34:51.470 +02:00 -|- FastTransfer -|- MSS22_to_MSS25_RangeId_and_filtered_data -|- INFORMATION -|- tpch_test.dbo.orders_4_no_index -|- OS : Microsoft Windows 10.0.26100\n",
      "2025-06-15T17:34:51.470 +02:00 -|- FastTransfer -|- MSS22_to_MSS25_RangeId_and_filtered_data -|- INFORMATION -|- tpch_test.dbo.orders_4_no_index -|- Process ID : 37956\n",
      "2025-06-15T17:34:51.470 +02:00 -|- FastTransfer -|- MSS22_to_MSS25_RangeId_and_filtered_data -|- INFORMATION -|- tpch_test.dbo.orders_4_no_index -|- Provided Run ID : MSS22_to_MSS25_RangeId_and_filtered_data\n",
      "2025-06-15T17:34:51.470 +02:00 -|- FastTransfer -|- MSS22_to_MSS25_RangeId_and_filtered_data -|- INFORMATION -|- tpch_test.dbo.orders_4_no_index -|- Source Connection Type : mssql\n",
      "2025-06-15T17:34:51.470 +02:00 -|- FastTransfer -|- MSS22_to_MSS25_RangeId_and_filtered_data -|- INFORMATION -|- tpch_test.dbo.orders_4_no_index -|- Source SqlInstance : localhost\n",
      "2025-06-15T17:34:51.470 +02:00 -|- FastTransfer -|- MSS22_to_MSS25_RangeId_and_filtered_data -|- INFORMATION -|- tpch_test.dbo.orders_4_no_index -|- Source Database : tpch_test\n",
      "2025-06-15T17:34:51.470 +02:00 -|- FastTransfer -|- MSS22_to_MSS25_RangeId_and_filtered_data -|- INFORMATION -|- tpch_test.dbo.orders_4_no_index -|- Source Trusted Connection : True\n",
      "2025-06-15T17:34:51.470 +02:00 -|- FastTransfer -|- MSS22_to_MSS25_RangeId_and_filtered_data -|- INFORMATION -|- tpch_test.dbo.orders_4_no_index -|- Query : SELECT * FROM orders_part WHERE o_orderdate between '1996-01-01' AND '1999-12-31'\n",
      "2025-06-15T17:34:51.470 +02:00 -|- FastTransfer -|- MSS22_to_MSS25_RangeId_and_filtered_data -|- INFORMATION -|- tpch_test.dbo.orders_4_no_index -|- Target Type : msbulk\n",
      "2025-06-15T17:34:51.470 +02:00 -|- FastTransfer -|- MSS22_to_MSS25_RangeId_and_filtered_data -|- INFORMATION -|- tpch_test.dbo.orders_4_no_index -|- Target Server : localhost\\SS2025\n",
      "2025-06-15T17:34:51.470 +02:00 -|- FastTransfer -|- MSS22_to_MSS25_RangeId_and_filtered_data -|- INFORMATION -|- tpch_test.dbo.orders_4_no_index -|- Target Database : tpch_test\n",
      "2025-06-15T17:34:51.470 +02:00 -|- FastTransfer -|- MSS22_to_MSS25_RangeId_and_filtered_data -|- INFORMATION -|- tpch_test.dbo.orders_4_no_index -|- Target Schema : dbo\n",
      "2025-06-15T17:34:51.470 +02:00 -|- FastTransfer -|- MSS22_to_MSS25_RangeId_and_filtered_data -|- INFORMATION -|- tpch_test.dbo.orders_4_no_index -|- Target Table : orders_4_no_index\n",
      "2025-06-15T17:34:51.470 +02:00 -|- FastTransfer -|- MSS22_to_MSS25_RangeId_and_filtered_data -|- INFORMATION -|- tpch_test.dbo.orders_4_no_index -|- Target Trusted Connection : True\n",
      "2025-06-15T17:34:51.470 +02:00 -|- FastTransfer -|- MSS22_to_MSS25_RangeId_and_filtered_data -|- INFORMATION -|- tpch_test.dbo.orders_4_no_index -|- Columns Map Method : Name\n",
      "2025-06-15T17:34:51.470 +02:00 -|- FastTransfer -|- MSS22_to_MSS25_RangeId_and_filtered_data -|- INFORMATION -|- tpch_test.dbo.orders_4_no_index -|- Degree : 7\n",
      "2025-06-15T17:34:51.470 +02:00 -|- FastTransfer -|- MSS22_to_MSS25_RangeId_and_filtered_data -|- INFORMATION -|- tpch_test.dbo.orders_4_no_index -|- Distribute Method : RangeId\n",
      "2025-06-15T17:34:51.470 +02:00 -|- FastTransfer -|- MSS22_to_MSS25_RangeId_and_filtered_data -|- INFORMATION -|- tpch_test.dbo.orders_4_no_index -|- Distribute Column : o_orderkey\n",
      "2025-06-15T17:34:51.470 +02:00 -|- FastTransfer -|- MSS22_to_MSS25_RangeId_and_filtered_data -|- INFORMATION -|- tpch_test.dbo.orders_4_no_index -|- Bulkcopy Batch Size : 1048576\n",
      "2025-06-15T17:34:51.470 +02:00 -|- FastTransfer -|- MSS22_to_MSS25_RangeId_and_filtered_data -|- INFORMATION -|- tpch_test.dbo.orders_4_no_index -|- Load Mode : Truncate\n",
      "2025-06-15T17:34:51.470 +02:00 -|- FastTransfer -|- MSS22_to_MSS25_RangeId_and_filtered_data -|- INFORMATION -|- tpch_test.dbo.orders_4_no_index -|- Use Work Tables : False\n",
      "2025-06-15T17:34:51.471 +02:00 -|- FastTransfer -|- MSS22_to_MSS25_RangeId_and_filtered_data -|- INFORMATION -|- tpch_test.dbo.orders_4_no_index -|- Encoding used : Unicode (UTF-8) - 65001 - utf-8\n",
      "2025-06-15T17:34:51.492 +02:00 -|- FastTransfer -|- MSS22_to_MSS25_RangeId_and_filtered_data -|- INFORMATION -|- tpch_test.dbo.orders_4_no_index -|- Source Connection String : Data Source=localhost;Initial Catalog=tpch_test;Integrated Security=True;Connect Timeout=120;Encrypt=True;Trust Server Certificate=True;Application Name=FastTransfer;Application Intent=ReadOnly;Command Timeout=10800\n",
      "2025-06-15T17:34:51.492 +02:00 -|- FastTransfer -|- MSS22_to_MSS25_RangeId_and_filtered_data -|- INFORMATION -|- tpch_test.dbo.orders_4_no_index -|- Target Connection String : Data Source=localhost\\SS2025;Initial Catalog=tpch_test;Integrated Security=True;Connect Timeout=120;Encrypt=True;Trust Server Certificate=True;Application Name=FastTransfer;Application Intent=ReadWrite;Command Timeout=10800\n",
      "2025-06-15T17:34:51.492 +02:00 -|- FastTransfer -|- MSS22_to_MSS25_RangeId_and_filtered_data -|- INFORMATION -|- tpch_test.dbo.orders_4_no_index -|- Source Database Version : Microsoft SQL Server 2022 (RTM-CU17) (KB5048038) - 16.0.4175.1 (X64)  \tDec 13 2024 09:01:53  \tCopyright (C) 2022 Microsoft Corporation \tDeveloper Edition (64-bit) on Windows 10 Pro 10.0 <X64> (Build 26100: ) (Hypervisor) \n",
      "2025-06-15T17:34:51.492 +02:00 -|- FastTransfer -|- MSS22_to_MSS25_RangeId_and_filtered_data -|- INFORMATION -|- tpch_test.dbo.orders_4_no_index -|- Target Database Version : Microsoft SQL Server 2025 (CTP2.0) - 17.0.700.9 (X64)  \tMay  8 2025 19:14:27  \tCopyright (C) 2025 Microsoft Corporation \tEnterprise Developer Edition (64-bit) on Windows 10 Pro 10.0 <X64> (Build 26100: ) (Hypervisor) \n",
      "2025-06-15T17:34:51.699 +02:00 -|- FastTransfer -|- MSS22_to_MSS25_RangeId_and_filtered_data -|- INFORMATION -|- tpch_test.dbo.orders_4_no_index -|- Start Loading Data using distribution method RangeId\n",
      "2025-06-15T17:34:51.700 +02:00 -|- FastTransfer -|- MSS22_to_MSS25_RangeId_and_filtered_data -|- INFORMATION -|- tpch_test.dbo.orders_4_no_index -|- Table \"dbo\".\"orders_4_no_index\" has no Clustered Index. BulkCopy will use KeepNulls and UseInternalTransaction and Tablock\n",
      "2025-06-15T17:34:51.700 +02:00 -|- FastTransfer -|- MSS22_to_MSS25_RangeId_and_filtered_data -|- INFORMATION -|- tpch_test.dbo.orders_4_no_index -|- BulkCopy to \"dbo\".\"orders_4_no_index\" with BatchSize = 1048576, Timeout = 3600\n",
      "2025-06-15T17:34:51.702 +02:00 -|- FastTransfer -|- MSS22_to_MSS25_RangeId_and_filtered_data -|- WARNING -|- tpch_test.dbo.orders_4_no_index -|- Column o_orderyear not found in target table \"dbo\".\"orders_4_no_index\". The column will be ignored\n",
      "2025-06-15T17:34:51.702 +02:00 -|- FastTransfer -|- MSS22_to_MSS25_RangeId_and_filtered_data -|- WARNING -|- tpch_test.dbo.orders_4_no_index -|- Only 9 out of 10 columns were mapped by name to the target table \"dbo\".\"orders_4_no_index\"\n",
      "2025-06-15T17:34:51.711 +02:00 -|- FastTransfer -|- MSS22_to_MSS25_RangeId_and_filtered_data -|- INFORMATION -|- tpch_test.dbo.orders_4_no_index -|- Start Loading Data using distribution method RangeId\n",
      "2025-06-15T17:34:51.712 +02:00 -|- FastTransfer -|- MSS22_to_MSS25_RangeId_and_filtered_data -|- INFORMATION -|- tpch_test.dbo.orders_4_no_index -|- Table \"dbo\".\"orders_4_no_index\" has no Clustered Index. BulkCopy will use KeepNulls and UseInternalTransaction and Tablock\n",
      "2025-06-15T17:34:51.712 +02:00 -|- FastTransfer -|- MSS22_to_MSS25_RangeId_and_filtered_data -|- INFORMATION -|- tpch_test.dbo.orders_4_no_index -|- BulkCopy to \"dbo\".\"orders_4_no_index\" with BatchSize = 1048576, Timeout = 3600\n",
      "2025-06-15T17:34:51.713 +02:00 -|- FastTransfer -|- MSS22_to_MSS25_RangeId_and_filtered_data -|- WARNING -|- tpch_test.dbo.orders_4_no_index -|- Column o_orderyear not found in target table \"dbo\".\"orders_4_no_index\". The column will be ignored\n",
      "2025-06-15T17:34:51.713 +02:00 -|- FastTransfer -|- MSS22_to_MSS25_RangeId_and_filtered_data -|- WARNING -|- tpch_test.dbo.orders_4_no_index -|- Only 9 out of 10 columns were mapped by name to the target table \"dbo\".\"orders_4_no_index\"\n",
      "2025-06-15T17:34:51.714 +02:00 -|- FastTransfer -|- MSS22_to_MSS25_RangeId_and_filtered_data -|- INFORMATION -|- tpch_test.dbo.orders_4_no_index -|- Start Loading Data using distribution method RangeId\n",
      "2025-06-15T17:34:51.714 +02:00 -|- FastTransfer -|- MSS22_to_MSS25_RangeId_and_filtered_data -|- INFORMATION -|- tpch_test.dbo.orders_4_no_index -|- Table \"dbo\".\"orders_4_no_index\" has no Clustered Index. BulkCopy will use KeepNulls and UseInternalTransaction and Tablock\n",
      "2025-06-15T17:34:51.714 +02:00 -|- FastTransfer -|- MSS22_to_MSS25_RangeId_and_filtered_data -|- INFORMATION -|- tpch_test.dbo.orders_4_no_index -|- BulkCopy to \"dbo\".\"orders_4_no_index\" with BatchSize = 1048576, Timeout = 3600\n",
      "2025-06-15T17:34:51.716 +02:00 -|- FastTransfer -|- MSS22_to_MSS25_RangeId_and_filtered_data -|- WARNING -|- tpch_test.dbo.orders_4_no_index -|- Column o_orderyear not found in target table \"dbo\".\"orders_4_no_index\". The column will be ignored\n",
      "2025-06-15T17:34:51.716 +02:00 -|- FastTransfer -|- MSS22_to_MSS25_RangeId_and_filtered_data -|- WARNING -|- tpch_test.dbo.orders_4_no_index -|- Only 9 out of 10 columns were mapped by name to the target table \"dbo\".\"orders_4_no_index\"\n",
      "2025-06-15T17:34:51.721 +02:00 -|- FastTransfer -|- MSS22_to_MSS25_RangeId_and_filtered_data -|- INFORMATION -|- tpch_test.dbo.orders_4_no_index -|- Start Loading Data using distribution method RangeId\n",
      "2025-06-15T17:34:51.721 +02:00 -|- FastTransfer -|- MSS22_to_MSS25_RangeId_and_filtered_data -|- INFORMATION -|- tpch_test.dbo.orders_4_no_index -|- Table \"dbo\".\"orders_4_no_index\" has no Clustered Index. BulkCopy will use KeepNulls and UseInternalTransaction and Tablock\n",
      "2025-06-15T17:34:51.721 +02:00 -|- FastTransfer -|- MSS22_to_MSS25_RangeId_and_filtered_data -|- INFORMATION -|- tpch_test.dbo.orders_4_no_index -|- BulkCopy to \"dbo\".\"orders_4_no_index\" with BatchSize = 1048576, Timeout = 3600\n",
      "2025-06-15T17:34:51.723 +02:00 -|- FastTransfer -|- MSS22_to_MSS25_RangeId_and_filtered_data -|- WARNING -|- tpch_test.dbo.orders_4_no_index -|- Column o_orderyear not found in target table \"dbo\".\"orders_4_no_index\". The column will be ignored\n",
      "2025-06-15T17:34:51.723 +02:00 -|- FastTransfer -|- MSS22_to_MSS25_RangeId_and_filtered_data -|- WARNING -|- tpch_test.dbo.orders_4_no_index -|- Only 9 out of 10 columns were mapped by name to the target table \"dbo\".\"orders_4_no_index\"\n",
      "2025-06-15T17:34:51.725 +02:00 -|- FastTransfer -|- MSS22_to_MSS25_RangeId_and_filtered_data -|- INFORMATION -|- tpch_test.dbo.orders_4_no_index -|- Start Loading Data using distribution method RangeId\n",
      "2025-06-15T17:34:51.726 +02:00 -|- FastTransfer -|- MSS22_to_MSS25_RangeId_and_filtered_data -|- INFORMATION -|- tpch_test.dbo.orders_4_no_index -|- Table \"dbo\".\"orders_4_no_index\" has no Clustered Index. BulkCopy will use KeepNulls and UseInternalTransaction and Tablock\n",
      "2025-06-15T17:34:51.726 +02:00 -|- FastTransfer -|- MSS22_to_MSS25_RangeId_and_filtered_data -|- INFORMATION -|- tpch_test.dbo.orders_4_no_index -|- BulkCopy to \"dbo\".\"orders_4_no_index\" with BatchSize = 1048576, Timeout = 3600\n",
      "2025-06-15T17:34:51.728 +02:00 -|- FastTransfer -|- MSS22_to_MSS25_RangeId_and_filtered_data -|- WARNING -|- tpch_test.dbo.orders_4_no_index -|- Column o_orderyear not found in target table \"dbo\".\"orders_4_no_index\". The column will be ignored\n",
      "2025-06-15T17:34:51.728 +02:00 -|- FastTransfer -|- MSS22_to_MSS25_RangeId_and_filtered_data -|- WARNING -|- tpch_test.dbo.orders_4_no_index -|- Only 9 out of 10 columns were mapped by name to the target table \"dbo\".\"orders_4_no_index\"\n",
      "2025-06-15T17:34:51.732 +02:00 -|- FastTransfer -|- MSS22_to_MSS25_RangeId_and_filtered_data -|- INFORMATION -|- tpch_test.dbo.orders_4_no_index -|- Start Loading Data using distribution method RangeId\n",
      "2025-06-15T17:34:51.733 +02:00 -|- FastTransfer -|- MSS22_to_MSS25_RangeId_and_filtered_data -|- INFORMATION -|- tpch_test.dbo.orders_4_no_index -|- Table \"dbo\".\"orders_4_no_index\" has no Clustered Index. BulkCopy will use KeepNulls and UseInternalTransaction and Tablock\n",
      "2025-06-15T17:34:51.733 +02:00 -|- FastTransfer -|- MSS22_to_MSS25_RangeId_and_filtered_data -|- INFORMATION -|- tpch_test.dbo.orders_4_no_index -|- BulkCopy to \"dbo\".\"orders_4_no_index\" with BatchSize = 1048576, Timeout = 3600\n",
      "2025-06-15T17:34:51.734 +02:00 -|- FastTransfer -|- MSS22_to_MSS25_RangeId_and_filtered_data -|- WARNING -|- tpch_test.dbo.orders_4_no_index -|- Column o_orderyear not found in target table \"dbo\".\"orders_4_no_index\". The column will be ignored\n",
      "2025-06-15T17:34:51.734 +02:00 -|- FastTransfer -|- MSS22_to_MSS25_RangeId_and_filtered_data -|- WARNING -|- tpch_test.dbo.orders_4_no_index -|- Only 9 out of 10 columns were mapped by name to the target table \"dbo\".\"orders_4_no_index\"\n",
      "2025-06-15T17:34:51.736 +02:00 -|- FastTransfer -|- MSS22_to_MSS25_RangeId_and_filtered_data -|- INFORMATION -|- tpch_test.dbo.orders_4_no_index -|- Start Loading Data using distribution method RangeId\n",
      "2025-06-15T17:34:51.736 +02:00 -|- FastTransfer -|- MSS22_to_MSS25_RangeId_and_filtered_data -|- INFORMATION -|- tpch_test.dbo.orders_4_no_index -|- Table \"dbo\".\"orders_4_no_index\" has no Clustered Index. BulkCopy will use KeepNulls and UseInternalTransaction and Tablock\n",
      "2025-06-15T17:34:51.736 +02:00 -|- FastTransfer -|- MSS22_to_MSS25_RangeId_and_filtered_data -|- INFORMATION -|- tpch_test.dbo.orders_4_no_index -|- BulkCopy to \"dbo\".\"orders_4_no_index\" with BatchSize = 1048576, Timeout = 3600\n",
      "2025-06-15T17:34:51.738 +02:00 -|- FastTransfer -|- MSS22_to_MSS25_RangeId_and_filtered_data -|- WARNING -|- tpch_test.dbo.orders_4_no_index -|- Column o_orderyear not found in target table \"dbo\".\"orders_4_no_index\". The column will be ignored\n",
      "2025-06-15T17:34:51.738 +02:00 -|- FastTransfer -|- MSS22_to_MSS25_RangeId_and_filtered_data -|- WARNING -|- tpch_test.dbo.orders_4_no_index -|- Only 9 out of 10 columns were mapped by name to the target table \"dbo\".\"orders_4_no_index\"\n",
      "2025-06-15T17:34:53.830 +02:00 -|- FastTransfer -|- MSS22_to_MSS25_RangeId_and_filtered_data -|- INFORMATION -|- tpch_test.dbo.orders_4_no_index -|- Completed RangeId Parallel Load 3 : 841397 rows x 10 columns in 2131 ms\n",
      "2025-06-15T17:34:53.833 +02:00 -|- FastTransfer -|- MSS22_to_MSS25_RangeId_and_filtered_data -|- INFORMATION -|- tpch_test.dbo.orders_4_no_index -|- Completed RangeId Parallel Load 2 : 841199 rows x 10 columns in 2134 ms\n",
      "2025-06-15T17:34:53.842 +02:00 -|- FastTransfer -|- MSS22_to_MSS25_RangeId_and_filtered_data -|- INFORMATION -|- tpch_test.dbo.orders_4_no_index -|- Completed RangeId Parallel Load 5 : 842010 rows x 10 columns in 2142 ms\n",
      "2025-06-15T17:34:53.886 +02:00 -|- FastTransfer -|- MSS22_to_MSS25_RangeId_and_filtered_data -|- INFORMATION -|- tpch_test.dbo.orders_4_no_index -|- Completed RangeId Parallel Load 0 : 842016 rows x 10 columns in 2188 ms\n",
      "2025-06-15T17:34:53.894 +02:00 -|- FastTransfer -|- MSS22_to_MSS25_RangeId_and_filtered_data -|- INFORMATION -|- tpch_test.dbo.orders_4_no_index -|- Completed RangeId Parallel Load 1 : 842506 rows x 10 columns in 2196 ms\n",
      "2025-06-15T17:34:54.026 +02:00 -|- FastTransfer -|- MSS22_to_MSS25_RangeId_and_filtered_data -|- INFORMATION -|- tpch_test.dbo.orders_4_no_index -|- Completed RangeId Parallel Load 4 : 842208 rows x 10 columns in 2327 ms\n",
      "2025-06-15T17:34:54.031 +02:00 -|- FastTransfer -|- MSS22_to_MSS25_RangeId_and_filtered_data -|- INFORMATION -|- tpch_test.dbo.orders_4_no_index -|- Completed RangeId Parallel Load 6 : 839327 rows x 10 columns in 2331 ms\n",
      "2025-06-15T17:34:54.032 +02:00 -|- FastTransfer -|- MSS22_to_MSS25_RangeId_and_filtered_data -|- INFORMATION -|- tpch_test.dbo.orders_4_no_index -|- Total rows : 5890663\n",
      "2025-06-15T17:34:54.032 +02:00 -|- FastTransfer -|- MSS22_to_MSS25_RangeId_and_filtered_data -|- INFORMATION -|- tpch_test.dbo.orders_4_no_index -|- Total columns : 10\n",
      "2025-06-15T17:34:54.032 +02:00 -|- FastTransfer -|- MSS22_to_MSS25_RangeId_and_filtered_data -|- INFORMATION -|- tpch_test.dbo.orders_4_no_index -|- Total cells : 58906630\n",
      "2025-06-15T17:34:54.032 +02:00 -|- FastTransfer -|- MSS22_to_MSS25_RangeId_and_filtered_data -|- INFORMATION -|- tpch_test.dbo.orders_4_no_index -|- Rows Throughput : 2327087 rows/s\n",
      "2025-06-15T17:34:54.032 +02:00 -|- FastTransfer -|- MSS22_to_MSS25_RangeId_and_filtered_data -|- INFORMATION -|- tpch_test.dbo.orders_4_no_index -|- Cells Throughput : 23270928 cells/s\n",
      "2025-06-15T17:34:54.032 +02:00 -|- FastTransfer -|- MSS22_to_MSS25_RangeId_and_filtered_data -|- INFORMATION -|- tpch_test.dbo.orders_4_no_index -|- Transfert time : Elapsed=2531 ms\n",
      "2025-06-15T17:34:54.032 +02:00 -|- FastTransfer -|- MSS22_to_MSS25_RangeId_and_filtered_data -|- INFORMATION -|- tpch_test.dbo.orders_4_no_index -|- Total time : Elapsed=2722 ms\n",
      "2025-06-15T17:34:54.032 +02:00 -|- FastTransfer -|- MSS22_to_MSS25_RangeId_and_filtered_data -|- INFORMATION -|- tpch_test.dbo.orders_4_no_index -|- Completed Load\n"
     ]
    }
   ],
   "source": [
    "cd D:\\FastTransfer\n",
    "\n",
    ".\\FastTransfer.exe `\n",
    "--sourceconnectiontype \"mssql\" `\n",
    "--sourceserver \"localhost\" `\n",
    "--sourcedatabase \"tpch_test\" `\n",
    "--sourcetrusted `\n",
    "--query \"SELECT * FROM orders_part WHERE o_orderdate between '1996-01-01' AND '1999-12-31'\" `\n",
    "`\n",
    "--targetconnectiontype \"msbulk\" `\n",
    "--targetserver \"localhost\\SS2025\" `\n",
    "--targettrusted `\n",
    "--targetdatabase \"tpch_test\" `\n",
    "--targetschema \"dbo\" `\n",
    "--targettable \"orders_4_no_index\" `\n",
    "`\n",
    "--loadmode \"Truncate\" `\n",
    "--mapmethod \"Name\" `\n",
    "--method \"RangeId\" `\n",
    "--distributekeycolumn \"o_orderkey\" `\n",
    "--degree 7 `\n",
    "--runid \"MSS22_to_MSS25_RangeId_and_filtered_data\""
   ]
  },
  {
   "cell_type": "code",
   "execution_count": 9,
   "metadata": {
    "polyglot_notebook": {
     "kernelName": "sql-SS2025_tpch_test"
    }
   },
   "outputs": [
    {
     "data": {
      "text/plain": [
       "(1 ligne affectée)"
      ]
     },
     "metadata": {},
     "output_type": "display_data"
    },
    {
     "data": {
      "text/csv": [
       "(Aucun nom de colonne)\r\n",
       "15000000\r\n"
      ],
      "text/html": [
       "<table><thead><tr><td><span>(Aucun nom de colonne)</span></td></tr></thead><tbody><tr><td><div class=\"dni-plaintext\"><pre>15000000</pre></div></td></tr></tbody></table><style>\r\n",
       ".dni-code-hint {\r\n",
       "    font-style: italic;\r\n",
       "    overflow: hidden;\r\n",
       "    white-space: nowrap;\r\n",
       "}\r\n",
       ".dni-treeview {\r\n",
       "    white-space: nowrap;\r\n",
       "}\r\n",
       ".dni-treeview td {\r\n",
       "    vertical-align: top;\r\n",
       "    text-align: start;\r\n",
       "}\r\n",
       "details.dni-treeview {\r\n",
       "    padding-left: 1em;\r\n",
       "}\r\n",
       "table td {\r\n",
       "    text-align: start;\r\n",
       "}\r\n",
       "table tr { \r\n",
       "    vertical-align: top; \r\n",
       "    margin: 0em 0px;\r\n",
       "}\r\n",
       "table tr td pre \r\n",
       "{ \r\n",
       "    vertical-align: top !important; \r\n",
       "    margin: 0em 0px !important;\r\n",
       "} \r\n",
       "table th {\r\n",
       "    text-align: start;\r\n",
       "}\r\n",
       "</style>"
      ]
     },
     "metadata": {},
     "output_type": "display_data"
    }
   ],
   "source": [
    "SELECT count(*) from orders_4_no_index"
   ]
  },
  {
   "cell_type": "markdown",
   "id": "3de77079",
   "metadata": {},
   "source": [
    "## Using physloc"
   ]
  },
  {
   "cell_type": "code",
   "execution_count": 10,
   "metadata": {
    "language_info": {
     "name": "polyglot-notebook"
    },
    "polyglot_notebook": {
     "kernelName": "pwsh"
    }
   },
   "outputs": [
    {
     "name": "stdout",
     "output_type": "stream",
     "text": [
      "2025-09-25T00:20:46.328 +02:00 -|- FastTransfer -|- MSS22_to_MSS25_Physloc -|- INFORMATION -|- tpch_test.dbo.orders_4_no_index -|- FastTransfer - running in trial mode – will expires on 2025‑10‑20 (25 day(s) left).\n",
      "2025-09-25T00:20:46.337 +02:00 -|- FastTransfer -|- MSS22_to_MSS25_Physloc -|- INFORMATION -|- tpch_test.dbo.orders_4_no_index -|- Starting\n",
      "2025-09-25T00:20:46.338 +02:00 -|- FastTransfer -|- MSS22_to_MSS25_Physloc -|- INFORMATION -|- tpch_test.dbo.orders_4_no_index -|- FastTransfer Version : 0.13.10.0 Architecture : X64 - Framework : .NET 8.0.19\n",
      "2025-09-25T00:20:46.338 +02:00 -|- FastTransfer -|- MSS22_to_MSS25_Physloc -|- INFORMATION -|- tpch_test.dbo.orders_4_no_index -|- OS : Microsoft Windows 10.0.26100\n",
      "2025-09-25T00:20:46.338 +02:00 -|- FastTransfer -|- MSS22_to_MSS25_Physloc -|- INFORMATION -|- tpch_test.dbo.orders_4_no_index -|- Process ID : 45768\n",
      "2025-09-25T00:20:46.338 +02:00 -|- FastTransfer -|- MSS22_to_MSS25_Physloc -|- INFORMATION -|- tpch_test.dbo.orders_4_no_index -|- Provided Run ID : MSS22_to_MSS25_Physloc\n",
      "2025-09-25T00:20:46.338 +02:00 -|- FastTransfer -|- MSS22_to_MSS25_Physloc -|- INFORMATION -|- tpch_test.dbo.orders_4_no_index -|- Source Connection Type : mssql\n",
      "2025-09-25T00:20:46.338 +02:00 -|- FastTransfer -|- MSS22_to_MSS25_Physloc -|- INFORMATION -|- tpch_test.dbo.orders_4_no_index -|- Source SqlInstance : localhost\n",
      "2025-09-25T00:20:46.338 +02:00 -|- FastTransfer -|- MSS22_to_MSS25_Physloc -|- INFORMATION -|- tpch_test.dbo.orders_4_no_index -|- Source Database : tpch10_collation_bin2\n",
      "2025-09-25T00:20:46.338 +02:00 -|- FastTransfer -|- MSS22_to_MSS25_Physloc -|- INFORMATION -|- tpch_test.dbo.orders_4_no_index -|- Source Trusted Connection : True\n",
      "2025-09-25T00:20:46.338 +02:00 -|- FastTransfer -|- MSS22_to_MSS25_Physloc -|- INFORMATION -|- tpch_test.dbo.orders_4_no_index -|- Source Schema : dbo\n",
      "2025-09-25T00:20:46.338 +02:00 -|- FastTransfer -|- MSS22_to_MSS25_Physloc -|- INFORMATION -|- tpch_test.dbo.orders_4_no_index -|- Source Table : orders_15M\n",
      "2025-09-25T00:20:46.338 +02:00 -|- FastTransfer -|- MSS22_to_MSS25_Physloc -|- INFORMATION -|- tpch_test.dbo.orders_4_no_index -|- Target Type : msbulk\n",
      "2025-09-25T00:20:46.338 +02:00 -|- FastTransfer -|- MSS22_to_MSS25_Physloc -|- INFORMATION -|- tpch_test.dbo.orders_4_no_index -|- Target Server : localhost\\SS2025\n",
      "2025-09-25T00:20:46.338 +02:00 -|- FastTransfer -|- MSS22_to_MSS25_Physloc -|- INFORMATION -|- tpch_test.dbo.orders_4_no_index -|- Target Database : tpch_test\n",
      "2025-09-25T00:20:46.338 +02:00 -|- FastTransfer -|- MSS22_to_MSS25_Physloc -|- INFORMATION -|- tpch_test.dbo.orders_4_no_index -|- Target Schema : dbo\n",
      "2025-09-25T00:20:46.338 +02:00 -|- FastTransfer -|- MSS22_to_MSS25_Physloc -|- INFORMATION -|- tpch_test.dbo.orders_4_no_index -|- Target Table : orders_4_no_index\n",
      "2025-09-25T00:20:46.338 +02:00 -|- FastTransfer -|- MSS22_to_MSS25_Physloc -|- INFORMATION -|- tpch_test.dbo.orders_4_no_index -|- Target Trusted Connection : True\n",
      "2025-09-25T00:20:46.338 +02:00 -|- FastTransfer -|- MSS22_to_MSS25_Physloc -|- INFORMATION -|- tpch_test.dbo.orders_4_no_index -|- Columns Map Method : Name\n",
      "2025-09-25T00:20:46.338 +02:00 -|- FastTransfer -|- MSS22_to_MSS25_Physloc -|- INFORMATION -|- tpch_test.dbo.orders_4_no_index -|- Degree : 12\n",
      "2025-09-25T00:20:46.338 +02:00 -|- FastTransfer -|- MSS22_to_MSS25_Physloc -|- INFORMATION -|- tpch_test.dbo.orders_4_no_index -|- Distribute Method : Physloc\n",
      "2025-09-25T00:20:46.338 +02:00 -|- FastTransfer -|- MSS22_to_MSS25_Physloc -|- INFORMATION -|- tpch_test.dbo.orders_4_no_index -|- Bulkcopy Batch Size : 1048576\n",
      "2025-09-25T00:20:46.338 +02:00 -|- FastTransfer -|- MSS22_to_MSS25_Physloc -|- INFORMATION -|- tpch_test.dbo.orders_4_no_index -|- Load Mode : Truncate\n",
      "2025-09-25T00:20:46.338 +02:00 -|- FastTransfer -|- MSS22_to_MSS25_Physloc -|- INFORMATION -|- tpch_test.dbo.orders_4_no_index -|- Use Work Tables : False\n",
      "2025-09-25T00:20:46.339 +02:00 -|- FastTransfer -|- MSS22_to_MSS25_Physloc -|- INFORMATION -|- tpch_test.dbo.orders_4_no_index -|- Encoding used : Unicode (UTF-8) - 65001 - utf-8\n",
      "2025-09-25T00:20:46.354 +02:00 -|- FastTransfer -|- MSS22_to_MSS25_Physloc -|- INFORMATION -|- tpch_test.dbo.orders_4_no_index -|- Source Connection String : Data Source=localhost;Initial Catalog=tpch10_collation_bin2;Integrated Security=True;Connect Timeout=120;Encrypt=True;Trust Server Certificate=True;Application Name=FastTransfer;Application Intent=ReadOnly;Command Timeout=10800\n",
      "2025-09-25T00:20:46.354 +02:00 -|- FastTransfer -|- MSS22_to_MSS25_Physloc -|- INFORMATION -|- tpch_test.dbo.orders_4_no_index -|- Target Connection String : Data Source=localhost\\SS2025;Initial Catalog=tpch_test;Integrated Security=True;Connect Timeout=120;Encrypt=True;Trust Server Certificate=True;Application Name=FastTransfer;Application Intent=ReadWrite;Command Timeout=10800\n",
      "2025-09-25T00:20:46.354 +02:00 -|- FastTransfer -|- MSS22_to_MSS25_Physloc -|- INFORMATION -|- tpch_test.dbo.orders_4_no_index -|- Source Database Version : Microsoft SQL Server 2022 (RTM-CU20-GDR) (KB5065220) - 16.0.4212.1 (X64)  \tAug 13 2025 16:40:40  \tCopyright (C) 2022 Microsoft Corporation \tDeveloper Edition (64-bit) on Windows 10 Pro 10.0 <X64> (Build 26100: ) (Hypervisor) \n",
      "2025-09-25T00:20:46.354 +02:00 -|- FastTransfer -|- MSS22_to_MSS25_Physloc -|- INFORMATION -|- tpch_test.dbo.orders_4_no_index -|- Target Database Version : Microsoft SQL Server 2025 (CTP2.1) - 17.0.800.3 (X64)  \tJun 12 2025 14:47:57  \tCopyright (C) 2025 Microsoft Corporation \tEnterprise Developer Edition (64-bit) on Windows 10 Pro 10.0 <X64> (Build 26100: ) (Hypervisor) \n",
      "2025-09-25T00:20:46.364 +02:00 -|- FastTransfer -|- MSS22_to_MSS25_Physloc -|- INFORMATION -|- tpch_test.dbo.orders_4_no_index -|- Start Loading Data using distribution method Random\n",
      "2025-09-25T00:20:46.365 +02:00 -|- FastTransfer -|- MSS22_to_MSS25_Physloc -|- INFORMATION -|- tpch_test.dbo.orders_4_no_index -|- Table \"dbo\".\"orders_4_no_index\" has no Clustered Index. BulkCopy will use KeepNulls and UseInternalTransaction and Tablock\n",
      "2025-09-25T00:20:46.365 +02:00 -|- FastTransfer -|- MSS22_to_MSS25_Physloc -|- INFORMATION -|- tpch_test.dbo.orders_4_no_index -|- BulkCopy to \"dbo\".\"orders_4_no_index\" with BatchSize = 1048576, Timeout = 3600\n",
      "2025-09-25T00:20:46.369 +02:00 -|- FastTransfer -|- MSS22_to_MSS25_Physloc -|- WARNING -|- tpch_test.dbo.orders_4_no_index -|- Only 9 out of 10 columns were mapped by name to the target table \"dbo\".\"orders_4_no_index\"\n",
      "2025-09-25T00:20:46.374 +02:00 -|- FastTransfer -|- MSS22_to_MSS25_Physloc -|- INFORMATION -|- tpch_test.dbo.orders_4_no_index -|- Start Loading Data using distribution method Random\n",
      "2025-09-25T00:20:46.375 +02:00 -|- FastTransfer -|- MSS22_to_MSS25_Physloc -|- INFORMATION -|- tpch_test.dbo.orders_4_no_index -|- Table \"dbo\".\"orders_4_no_index\" has no Clustered Index. BulkCopy will use KeepNulls and UseInternalTransaction and Tablock\n",
      "2025-09-25T00:20:46.375 +02:00 -|- FastTransfer -|- MSS22_to_MSS25_Physloc -|- INFORMATION -|- tpch_test.dbo.orders_4_no_index -|- BulkCopy to \"dbo\".\"orders_4_no_index\" with BatchSize = 1048576, Timeout = 3600\n",
      "2025-09-25T00:20:46.377 +02:00 -|- FastTransfer -|- MSS22_to_MSS25_Physloc -|- INFORMATION -|- tpch_test.dbo.orders_4_no_index -|- Start Loading Data using distribution method Random\n",
      "2025-09-25T00:20:46.378 +02:00 -|- FastTransfer -|- MSS22_to_MSS25_Physloc -|- INFORMATION -|- tpch_test.dbo.orders_4_no_index -|- Table \"dbo\".\"orders_4_no_index\" has no Clustered Index. BulkCopy will use KeepNulls and UseInternalTransaction and Tablock\n",
      "2025-09-25T00:20:46.378 +02:00 -|- FastTransfer -|- MSS22_to_MSS25_Physloc -|- INFORMATION -|- tpch_test.dbo.orders_4_no_index -|- BulkCopy to \"dbo\".\"orders_4_no_index\" with BatchSize = 1048576, Timeout = 3600\n",
      "2025-09-25T00:20:46.390 +02:00 -|- FastTransfer -|- MSS22_to_MSS25_Physloc -|- INFORMATION -|- tpch_test.dbo.orders_4_no_index -|- Start Loading Data using distribution method Random\n",
      "2025-09-25T00:20:46.391 +02:00 -|- FastTransfer -|- MSS22_to_MSS25_Physloc -|- INFORMATION -|- tpch_test.dbo.orders_4_no_index -|- Table \"dbo\".\"orders_4_no_index\" has no Clustered Index. BulkCopy will use KeepNulls and UseInternalTransaction and Tablock\n",
      "2025-09-25T00:20:46.391 +02:00 -|- FastTransfer -|- MSS22_to_MSS25_Physloc -|- INFORMATION -|- tpch_test.dbo.orders_4_no_index -|- BulkCopy to \"dbo\".\"orders_4_no_index\" with BatchSize = 1048576, Timeout = 3600\n",
      "2025-09-25T00:20:46.398 +02:00 -|- FastTransfer -|- MSS22_to_MSS25_Physloc -|- INFORMATION -|- tpch_test.dbo.orders_4_no_index -|- Start Loading Data using distribution method Random\n",
      "2025-09-25T00:20:46.398 +02:00 -|- FastTransfer -|- MSS22_to_MSS25_Physloc -|- INFORMATION -|- tpch_test.dbo.orders_4_no_index -|- Table \"dbo\".\"orders_4_no_index\" has no Clustered Index. BulkCopy will use KeepNulls and UseInternalTransaction and Tablock\n",
      "2025-09-25T00:20:46.398 +02:00 -|- FastTransfer -|- MSS22_to_MSS25_Physloc -|- INFORMATION -|- tpch_test.dbo.orders_4_no_index -|- BulkCopy to \"dbo\".\"orders_4_no_index\" with BatchSize = 1048576, Timeout = 3600\n",
      "2025-09-25T00:20:46.401 +02:00 -|- FastTransfer -|- MSS22_to_MSS25_Physloc -|- INFORMATION -|- tpch_test.dbo.orders_4_no_index -|- Start Loading Data using distribution method Random\n",
      "2025-09-25T00:20:46.402 +02:00 -|- FastTransfer -|- MSS22_to_MSS25_Physloc -|- INFORMATION -|- tpch_test.dbo.orders_4_no_index -|- Table \"dbo\".\"orders_4_no_index\" has no Clustered Index. BulkCopy will use KeepNulls and UseInternalTransaction and Tablock\n",
      "2025-09-25T00:20:46.402 +02:00 -|- FastTransfer -|- MSS22_to_MSS25_Physloc -|- INFORMATION -|- tpch_test.dbo.orders_4_no_index -|- BulkCopy to \"dbo\".\"orders_4_no_index\" with BatchSize = 1048576, Timeout = 3600\n",
      "2025-09-25T00:20:46.408 +02:00 -|- FastTransfer -|- MSS22_to_MSS25_Physloc -|- WARNING -|- tpch_test.dbo.orders_4_no_index -|- Only 9 out of 10 columns were mapped by name to the target table \"dbo\".\"orders_4_no_index\"\n",
      "2025-09-25T00:20:46.410 +02:00 -|- FastTransfer -|- MSS22_to_MSS25_Physloc -|- INFORMATION -|- tpch_test.dbo.orders_4_no_index -|- Start Loading Data using distribution method Random\n",
      "2025-09-25T00:20:46.411 +02:00 -|- FastTransfer -|- MSS22_to_MSS25_Physloc -|- INFORMATION -|- tpch_test.dbo.orders_4_no_index -|- Table \"dbo\".\"orders_4_no_index\" has no Clustered Index. BulkCopy will use KeepNulls and UseInternalTransaction and Tablock\n",
      "2025-09-25T00:20:46.411 +02:00 -|- FastTransfer -|- MSS22_to_MSS25_Physloc -|- INFORMATION -|- tpch_test.dbo.orders_4_no_index -|- BulkCopy to \"dbo\".\"orders_4_no_index\" with BatchSize = 1048576, Timeout = 3600\n",
      "2025-09-25T00:20:46.414 +02:00 -|- FastTransfer -|- MSS22_to_MSS25_Physloc -|- INFORMATION -|- tpch_test.dbo.orders_4_no_index -|- Start Loading Data using distribution method Random\n",
      "2025-09-25T00:20:46.414 +02:00 -|- FastTransfer -|- MSS22_to_MSS25_Physloc -|- INFORMATION -|- tpch_test.dbo.orders_4_no_index -|- Table \"dbo\".\"orders_4_no_index\" has no Clustered Index. BulkCopy will use KeepNulls and UseInternalTransaction and Tablock\n",
      "2025-09-25T00:20:46.414 +02:00 -|- FastTransfer -|- MSS22_to_MSS25_Physloc -|- INFORMATION -|- tpch_test.dbo.orders_4_no_index -|- BulkCopy to \"dbo\".\"orders_4_no_index\" with BatchSize = 1048576, Timeout = 3600\n",
      "2025-09-25T00:20:46.417 +02:00 -|- FastTransfer -|- MSS22_to_MSS25_Physloc -|- INFORMATION -|- tpch_test.dbo.orders_4_no_index -|- Start Loading Data using distribution method Random\n",
      "2025-09-25T00:20:46.417 +02:00 -|- FastTransfer -|- MSS22_to_MSS25_Physloc -|- INFORMATION -|- tpch_test.dbo.orders_4_no_index -|- Table \"dbo\".\"orders_4_no_index\" has no Clustered Index. BulkCopy will use KeepNulls and UseInternalTransaction and Tablock\n",
      "2025-09-25T00:20:46.418 +02:00 -|- FastTransfer -|- MSS22_to_MSS25_Physloc -|- INFORMATION -|- tpch_test.dbo.orders_4_no_index -|- BulkCopy to \"dbo\".\"orders_4_no_index\" with BatchSize = 1048576, Timeout = 3600\n",
      "2025-09-25T00:20:46.428 +02:00 -|- FastTransfer -|- MSS22_to_MSS25_Physloc -|- WARNING -|- tpch_test.dbo.orders_4_no_index -|- Only 9 out of 10 columns were mapped by name to the target table \"dbo\".\"orders_4_no_index\"\n",
      "2025-09-25T00:20:46.463 +02:00 -|- FastTransfer -|- MSS22_to_MSS25_Physloc -|- INFORMATION -|- tpch_test.dbo.orders_4_no_index -|- Start Loading Data using distribution method Random\n",
      "2025-09-25T00:20:46.464 +02:00 -|- FastTransfer -|- MSS22_to_MSS25_Physloc -|- INFORMATION -|- tpch_test.dbo.orders_4_no_index -|- Table \"dbo\".\"orders_4_no_index\" has no Clustered Index. BulkCopy will use KeepNulls and UseInternalTransaction and Tablock\n",
      "2025-09-25T00:20:46.464 +02:00 -|- FastTransfer -|- MSS22_to_MSS25_Physloc -|- INFORMATION -|- tpch_test.dbo.orders_4_no_index -|- BulkCopy to \"dbo\".\"orders_4_no_index\" with BatchSize = 1048576, Timeout = 3600\n",
      "2025-09-25T00:20:46.505 +02:00 -|- FastTransfer -|- MSS22_to_MSS25_Physloc -|- INFORMATION -|- tpch_test.dbo.orders_4_no_index -|- Start Loading Data using distribution method Random\n",
      "2025-09-25T00:20:46.506 +02:00 -|- FastTransfer -|- MSS22_to_MSS25_Physloc -|- INFORMATION -|- tpch_test.dbo.orders_4_no_index -|- Table \"dbo\".\"orders_4_no_index\" has no Clustered Index. BulkCopy will use KeepNulls and UseInternalTransaction and Tablock\n",
      "2025-09-25T00:20:46.506 +02:00 -|- FastTransfer -|- MSS22_to_MSS25_Physloc -|- INFORMATION -|- tpch_test.dbo.orders_4_no_index -|- BulkCopy to \"dbo\".\"orders_4_no_index\" with BatchSize = 1048576, Timeout = 3600\n",
      "2025-09-25T00:20:46.566 +02:00 -|- FastTransfer -|- MSS22_to_MSS25_Physloc -|- INFORMATION -|- tpch_test.dbo.orders_4_no_index -|- Start Loading Data using distribution method Random\n",
      "2025-09-25T00:20:46.567 +02:00 -|- FastTransfer -|- MSS22_to_MSS25_Physloc -|- INFORMATION -|- tpch_test.dbo.orders_4_no_index -|- Table \"dbo\".\"orders_4_no_index\" has no Clustered Index. BulkCopy will use KeepNulls and UseInternalTransaction and Tablock\n",
      "2025-09-25T00:20:46.567 +02:00 -|- FastTransfer -|- MSS22_to_MSS25_Physloc -|- INFORMATION -|- tpch_test.dbo.orders_4_no_index -|- BulkCopy to \"dbo\".\"orders_4_no_index\" with BatchSize = 1048576, Timeout = 3600\n",
      "2025-09-25T00:20:46.596 +02:00 -|- FastTransfer -|- MSS22_to_MSS25_Physloc -|- WARNING -|- tpch_test.dbo.orders_4_no_index -|- Only 9 out of 10 columns were mapped by name to the target table \"dbo\".\"orders_4_no_index\"\n",
      "2025-09-25T00:20:46.642 +02:00 -|- FastTransfer -|- MSS22_to_MSS25_Physloc -|- WARNING -|- tpch_test.dbo.orders_4_no_index -|- Only 9 out of 10 columns were mapped by name to the target table \"dbo\".\"orders_4_no_index\"\n",
      "2025-09-25T00:20:46.703 +02:00 -|- FastTransfer -|- MSS22_to_MSS25_Physloc -|- WARNING -|- tpch_test.dbo.orders_4_no_index -|- Only 9 out of 10 columns were mapped by name to the target table \"dbo\".\"orders_4_no_index\"\n",
      "2025-09-25T00:20:46.720 +02:00 -|- FastTransfer -|- MSS22_to_MSS25_Physloc -|- WARNING -|- tpch_test.dbo.orders_4_no_index -|- Only 9 out of 10 columns were mapped by name to the target table \"dbo\".\"orders_4_no_index\"\n",
      "2025-09-25T00:20:46.905 +02:00 -|- FastTransfer -|- MSS22_to_MSS25_Physloc -|- WARNING -|- tpch_test.dbo.orders_4_no_index -|- Only 9 out of 10 columns were mapped by name to the target table \"dbo\".\"orders_4_no_index\"\n",
      "2025-09-25T00:20:47.046 +02:00 -|- FastTransfer -|- MSS22_to_MSS25_Physloc -|- WARNING -|- tpch_test.dbo.orders_4_no_index -|- Only 9 out of 10 columns were mapped by name to the target table \"dbo\".\"orders_4_no_index\"\n",
      "2025-09-25T00:20:47.081 +02:00 -|- FastTransfer -|- MSS22_to_MSS25_Physloc -|- WARNING -|- tpch_test.dbo.orders_4_no_index -|- Only 9 out of 10 columns were mapped by name to the target table \"dbo\".\"orders_4_no_index\"\n",
      "2025-09-25T00:20:47.442 +02:00 -|- FastTransfer -|- MSS22_to_MSS25_Physloc -|- WARNING -|- tpch_test.dbo.orders_4_no_index -|- Only 9 out of 10 columns were mapped by name to the target table \"dbo\".\"orders_4_no_index\"\n",
      "2025-09-25T00:20:47.510 +02:00 -|- FastTransfer -|- MSS22_to_MSS25_Physloc -|- WARNING -|- tpch_test.dbo.orders_4_no_index -|- Only 9 out of 10 columns were mapped by name to the target table \"dbo\".\"orders_4_no_index\"\n",
      "2025-09-25T00:20:50.291 +02:00 -|- FastTransfer -|- MSS22_to_MSS25_Physloc -|- INFORMATION -|- tpch_test.dbo.orders_4_no_index -|- Completed Parallel Load 10 : 926108 rows x 9 columns in 3928 ms\n",
      "2025-09-25T00:20:51.838 +02:00 -|- FastTransfer -|- MSS22_to_MSS25_Physloc -|- INFORMATION -|- tpch_test.dbo.orders_4_no_index -|- Completed Parallel Load 9 : 925891 rows x 9 columns in 5475 ms\n",
      "2025-09-25T00:20:52.115 +02:00 -|- FastTransfer -|- MSS22_to_MSS25_Physloc -|- INFORMATION -|- tpch_test.dbo.orders_4_no_index -|- Completed Parallel Load 3 : 1389474 rows x 9 columns in 5752 ms\n",
      "2025-09-25T00:20:52.187 +02:00 -|- FastTransfer -|- MSS22_to_MSS25_Physloc -|- INFORMATION -|- tpch_test.dbo.orders_4_no_index -|- Completed Parallel Load 2 : 1389295 rows x 9 columns in 5824 ms\n",
      "2025-09-25T00:20:52.268 +02:00 -|- FastTransfer -|- MSS22_to_MSS25_Physloc -|- INFORMATION -|- tpch_test.dbo.orders_4_no_index -|- Completed Parallel Load 7 : 1424201 rows x 9 columns in 5905 ms\n",
      "2025-09-25T00:20:52.307 +02:00 -|- FastTransfer -|- MSS22_to_MSS25_Physloc -|- INFORMATION -|- tpch_test.dbo.orders_4_no_index -|- Completed Parallel Load 11 : 926209 rows x 9 columns in 5944 ms\n",
      "2025-09-25T00:20:52.313 +02:00 -|- FastTransfer -|- MSS22_to_MSS25_Physloc -|- INFORMATION -|- tpch_test.dbo.orders_4_no_index -|- Completed Parallel Load 4 : 1388158 rows x 9 columns in 5950 ms\n",
      "2025-09-25T00:20:52.352 +02:00 -|- FastTransfer -|- MSS22_to_MSS25_Physloc -|- INFORMATION -|- tpch_test.dbo.orders_4_no_index -|- Completed Parallel Load 1 : 1388867 rows x 9 columns in 5989 ms\n",
      "2025-09-25T00:20:52.606 +02:00 -|- FastTransfer -|- MSS22_to_MSS25_Physloc -|- INFORMATION -|- tpch_test.dbo.orders_4_no_index -|- Completed Parallel Load 5 : 1389094 rows x 9 columns in 6243 ms\n",
      "2025-09-25T00:20:53.014 +02:00 -|- FastTransfer -|- MSS22_to_MSS25_Physloc -|- INFORMATION -|- tpch_test.dbo.orders_4_no_index -|- Completed Parallel Load 0 : 1477851 rows x 9 columns in 6651 ms\n",
      "2025-09-25T00:20:53.407 +02:00 -|- FastTransfer -|- MSS22_to_MSS25_Physloc -|- INFORMATION -|- tpch_test.dbo.orders_4_no_index -|- Completed Parallel Load 8 : 925333 rows x 9 columns in 7044 ms\n",
      "2025-09-25T00:20:53.563 +02:00 -|- FastTransfer -|- MSS22_to_MSS25_Physloc -|- INFORMATION -|- tpch_test.dbo.orders_4_no_index -|- Completed Parallel Load 6 : 1449519 rows x 9 columns in 7200 ms\n",
      "2025-09-25T00:20:53.567 +02:00 -|- FastTransfer -|- MSS22_to_MSS25_Physloc -|- INFORMATION -|- tpch_test.dbo.orders_4_no_index -|- Total rows : 15000000\n",
      "2025-09-25T00:20:53.567 +02:00 -|- FastTransfer -|- MSS22_to_MSS25_Physloc -|- INFORMATION -|- tpch_test.dbo.orders_4_no_index -|- Total columns : 9\n",
      "2025-09-25T00:20:53.567 +02:00 -|- FastTransfer -|- MSS22_to_MSS25_Physloc -|- INFORMATION -|- tpch_test.dbo.orders_4_no_index -|- Total cells : 135000000\n",
      "2025-09-25T00:20:53.567 +02:00 -|- FastTransfer -|- MSS22_to_MSS25_Physloc -|- INFORMATION -|- tpch_test.dbo.orders_4_no_index -|- Rows Throughput : 2080946 rows/s\n",
      "2025-09-25T00:20:53.567 +02:00 -|- FastTransfer -|- MSS22_to_MSS25_Physloc -|- INFORMATION -|- tpch_test.dbo.orders_4_no_index -|- Cells Throughput : 18728526 cells/s\n",
      "2025-09-25T00:20:53.567 +02:00 -|- FastTransfer -|- MSS22_to_MSS25_Physloc -|- INFORMATION -|- tpch_test.dbo.orders_4_no_index -|- Transfert time : Elapsed=7208 ms\n",
      "2025-09-25T00:20:53.567 +02:00 -|- FastTransfer -|- MSS22_to_MSS25_Physloc -|- INFORMATION -|- tpch_test.dbo.orders_4_no_index -|- Total time : Elapsed=7394 ms\n",
      "2025-09-25T00:20:53.567 +02:00 -|- FastTransfer -|- MSS22_to_MSS25_Physloc -|- INFORMATION -|- tpch_test.dbo.orders_4_no_index -|- Completed Load\n"
     ]
    }
   ],
   "source": [
    "cd D:\\FastTransfer\n",
    "\n",
    ".\\FastTransfer.exe `\n",
    "--sourceconnectiontype \"mssql\" `\n",
    "--sourceserver \"localhost\" `\n",
    "--sourcedatabase \"tpch10_collation_bin2\" `\n",
    "--sourcetrusted `\n",
    "--sourceschema \"dbo\" `\n",
    "--sourcetable \"orders_15M\" `\n",
    "`\n",
    "--targetconnectiontype \"msbulk\" `\n",
    "--targetserver \"localhost\\SS2025\" `\n",
    "--targettrusted `\n",
    "--targetdatabase \"tpch_test\" `\n",
    "--targetschema \"dbo\" `\n",
    "--targettable \"orders_4_no_index\" `\n",
    "`\n",
    "--loadmode \"Truncate\" `\n",
    "--mapmethod \"Name\" `\n",
    "--method \"Physloc\" `\n",
    "--degree 12 `\n",
    "--runid \"MSS22_to_MSS25_Physloc\""
   ]
  },
  {
   "cell_type": "markdown",
   "id": "3b2fed51",
   "metadata": {},
   "source": [
    "Physloc on a partitioned table :"
   ]
  },
  {
   "cell_type": "code",
   "execution_count": 11,
   "metadata": {
    "language_info": {
     "name": "polyglot-notebook"
    },
    "polyglot_notebook": {
     "kernelName": "pwsh"
    }
   },
   "outputs": [
    {
     "name": "stdout",
     "output_type": "stream",
     "text": [
      "2025-09-25T00:23:30.744 +02:00 -|- FastTransfer -|- MSS22_to_MSS25_Physloc_Partition -|- INFORMATION -|- tpch_test.dbo.orders_4_no_index -|- FastTransfer - running in trial mode – will expires on 2025‑10‑20 (25 day(s) left).\n",
      "2025-09-25T00:23:30.753 +02:00 -|- FastTransfer -|- MSS22_to_MSS25_Physloc_Partition -|- INFORMATION -|- tpch_test.dbo.orders_4_no_index -|- Starting\n",
      "2025-09-25T00:23:30.753 +02:00 -|- FastTransfer -|- MSS22_to_MSS25_Physloc_Partition -|- INFORMATION -|- tpch_test.dbo.orders_4_no_index -|- FastTransfer Version : 0.13.10.0 Architecture : X64 - Framework : .NET 8.0.19\n",
      "2025-09-25T00:23:30.753 +02:00 -|- FastTransfer -|- MSS22_to_MSS25_Physloc_Partition -|- INFORMATION -|- tpch_test.dbo.orders_4_no_index -|- OS : Microsoft Windows 10.0.26100\n",
      "2025-09-25T00:23:30.753 +02:00 -|- FastTransfer -|- MSS22_to_MSS25_Physloc_Partition -|- INFORMATION -|- tpch_test.dbo.orders_4_no_index -|- Process ID : 39652\n",
      "2025-09-25T00:23:30.753 +02:00 -|- FastTransfer -|- MSS22_to_MSS25_Physloc_Partition -|- INFORMATION -|- tpch_test.dbo.orders_4_no_index -|- Provided Run ID : MSS22_to_MSS25_Physloc_Partition\n",
      "2025-09-25T00:23:30.753 +02:00 -|- FastTransfer -|- MSS22_to_MSS25_Physloc_Partition -|- INFORMATION -|- tpch_test.dbo.orders_4_no_index -|- Source Connection Type : mssql\n",
      "2025-09-25T00:23:30.753 +02:00 -|- FastTransfer -|- MSS22_to_MSS25_Physloc_Partition -|- INFORMATION -|- tpch_test.dbo.orders_4_no_index -|- Source SqlInstance : localhost\n",
      "2025-09-25T00:23:30.753 +02:00 -|- FastTransfer -|- MSS22_to_MSS25_Physloc_Partition -|- INFORMATION -|- tpch_test.dbo.orders_4_no_index -|- Source Database : tpch_test\n",
      "2025-09-25T00:23:30.753 +02:00 -|- FastTransfer -|- MSS22_to_MSS25_Physloc_Partition -|- INFORMATION -|- tpch_test.dbo.orders_4_no_index -|- Source Trusted Connection : True\n",
      "2025-09-25T00:23:30.753 +02:00 -|- FastTransfer -|- MSS22_to_MSS25_Physloc_Partition -|- INFORMATION -|- tpch_test.dbo.orders_4_no_index -|- Source Schema : dbo\n",
      "2025-09-25T00:23:30.753 +02:00 -|- FastTransfer -|- MSS22_to_MSS25_Physloc_Partition -|- INFORMATION -|- tpch_test.dbo.orders_4_no_index -|- Source Table : orders_part\n",
      "2025-09-25T00:23:30.753 +02:00 -|- FastTransfer -|- MSS22_to_MSS25_Physloc_Partition -|- INFORMATION -|- tpch_test.dbo.orders_4_no_index -|- Target Type : msbulk\n",
      "2025-09-25T00:23:30.753 +02:00 -|- FastTransfer -|- MSS22_to_MSS25_Physloc_Partition -|- INFORMATION -|- tpch_test.dbo.orders_4_no_index -|- Target Server : localhost\\SS2025\n",
      "2025-09-25T00:23:30.753 +02:00 -|- FastTransfer -|- MSS22_to_MSS25_Physloc_Partition -|- INFORMATION -|- tpch_test.dbo.orders_4_no_index -|- Target Database : tpch_test\n",
      "2025-09-25T00:23:30.753 +02:00 -|- FastTransfer -|- MSS22_to_MSS25_Physloc_Partition -|- INFORMATION -|- tpch_test.dbo.orders_4_no_index -|- Target Schema : dbo\n",
      "2025-09-25T00:23:30.753 +02:00 -|- FastTransfer -|- MSS22_to_MSS25_Physloc_Partition -|- INFORMATION -|- tpch_test.dbo.orders_4_no_index -|- Target Table : orders_4_no_index\n",
      "2025-09-25T00:23:30.753 +02:00 -|- FastTransfer -|- MSS22_to_MSS25_Physloc_Partition -|- INFORMATION -|- tpch_test.dbo.orders_4_no_index -|- Target Trusted Connection : True\n",
      "2025-09-25T00:23:30.753 +02:00 -|- FastTransfer -|- MSS22_to_MSS25_Physloc_Partition -|- INFORMATION -|- tpch_test.dbo.orders_4_no_index -|- Columns Map Method : Name\n",
      "2025-09-25T00:23:30.753 +02:00 -|- FastTransfer -|- MSS22_to_MSS25_Physloc_Partition -|- INFORMATION -|- tpch_test.dbo.orders_4_no_index -|- Degree : 7\n",
      "2025-09-25T00:23:30.753 +02:00 -|- FastTransfer -|- MSS22_to_MSS25_Physloc_Partition -|- INFORMATION -|- tpch_test.dbo.orders_4_no_index -|- Distribute Method : Physloc\n",
      "2025-09-25T00:23:30.753 +02:00 -|- FastTransfer -|- MSS22_to_MSS25_Physloc_Partition -|- INFORMATION -|- tpch_test.dbo.orders_4_no_index -|- Bulkcopy Batch Size : 1048576\n",
      "2025-09-25T00:23:30.753 +02:00 -|- FastTransfer -|- MSS22_to_MSS25_Physloc_Partition -|- INFORMATION -|- tpch_test.dbo.orders_4_no_index -|- Load Mode : Truncate\n",
      "2025-09-25T00:23:30.753 +02:00 -|- FastTransfer -|- MSS22_to_MSS25_Physloc_Partition -|- INFORMATION -|- tpch_test.dbo.orders_4_no_index -|- Use Work Tables : False\n",
      "2025-09-25T00:23:30.754 +02:00 -|- FastTransfer -|- MSS22_to_MSS25_Physloc_Partition -|- INFORMATION -|- tpch_test.dbo.orders_4_no_index -|- Encoding used : Unicode (UTF-8) - 65001 - utf-8\n",
      "2025-09-25T00:23:30.768 +02:00 -|- FastTransfer -|- MSS22_to_MSS25_Physloc_Partition -|- INFORMATION -|- tpch_test.dbo.orders_4_no_index -|- Source Connection String : Data Source=localhost;Initial Catalog=tpch_test;Integrated Security=True;Connect Timeout=120;Encrypt=True;Trust Server Certificate=True;Application Name=FastTransfer;Application Intent=ReadOnly;Command Timeout=10800\n",
      "2025-09-25T00:23:30.768 +02:00 -|- FastTransfer -|- MSS22_to_MSS25_Physloc_Partition -|- INFORMATION -|- tpch_test.dbo.orders_4_no_index -|- Target Connection String : Data Source=localhost\\SS2025;Initial Catalog=tpch_test;Integrated Security=True;Connect Timeout=120;Encrypt=True;Trust Server Certificate=True;Application Name=FastTransfer;Application Intent=ReadWrite;Command Timeout=10800\n",
      "2025-09-25T00:23:30.768 +02:00 -|- FastTransfer -|- MSS22_to_MSS25_Physloc_Partition -|- INFORMATION -|- tpch_test.dbo.orders_4_no_index -|- Source Database Version : Microsoft SQL Server 2022 (RTM-CU20-GDR) (KB5065220) - 16.0.4212.1 (X64)  \tAug 13 2025 16:40:40  \tCopyright (C) 2022 Microsoft Corporation \tDeveloper Edition (64-bit) on Windows 10 Pro 10.0 <X64> (Build 26100: ) (Hypervisor) \n",
      "2025-09-25T00:23:30.768 +02:00 -|- FastTransfer -|- MSS22_to_MSS25_Physloc_Partition -|- INFORMATION -|- tpch_test.dbo.orders_4_no_index -|- Target Database Version : Microsoft SQL Server 2025 (CTP2.1) - 17.0.800.3 (X64)  \tJun 12 2025 14:47:57  \tCopyright (C) 2025 Microsoft Corporation \tEnterprise Developer Edition (64-bit) on Windows 10 Pro 10.0 <X64> (Build 26100: ) (Hypervisor) \n",
      "2025-09-25T00:23:30.775 +02:00 -|- FastTransfer -|- MSS22_to_MSS25_Physloc_Partition -|- INFORMATION -|- tpch_test.dbo.orders_4_no_index -|- Start Loading Data using distribution method Random\n",
      "2025-09-25T00:23:30.776 +02:00 -|- FastTransfer -|- MSS22_to_MSS25_Physloc_Partition -|- INFORMATION -|- tpch_test.dbo.orders_4_no_index -|- Table \"dbo\".\"orders_4_no_index\" has no Clustered Index. BulkCopy will use KeepNulls and UseInternalTransaction and Tablock\n",
      "2025-09-25T00:23:30.777 +02:00 -|- FastTransfer -|- MSS22_to_MSS25_Physloc_Partition -|- INFORMATION -|- tpch_test.dbo.orders_4_no_index -|- BulkCopy to \"dbo\".\"orders_4_no_index\" with BatchSize = 1048576, Timeout = 3600\n",
      "2025-09-25T00:23:30.780 +02:00 -|- FastTransfer -|- MSS22_to_MSS25_Physloc_Partition -|- WARNING -|- tpch_test.dbo.orders_4_no_index -|- Column o_orderyear not found in target table \"dbo\".\"orders_4_no_index\". The column will be ignored\n",
      "2025-09-25T00:23:30.780 +02:00 -|- FastTransfer -|- MSS22_to_MSS25_Physloc_Partition -|- WARNING -|- tpch_test.dbo.orders_4_no_index -|- Only 9 out of 10 columns were mapped by name to the target table \"dbo\".\"orders_4_no_index\"\n",
      "2025-09-25T00:23:30.785 +02:00 -|- FastTransfer -|- MSS22_to_MSS25_Physloc_Partition -|- INFORMATION -|- tpch_test.dbo.orders_4_no_index -|- Start Loading Data using distribution method Random\n",
      "2025-09-25T00:23:30.785 +02:00 -|- FastTransfer -|- MSS22_to_MSS25_Physloc_Partition -|- INFORMATION -|- tpch_test.dbo.orders_4_no_index -|- Table \"dbo\".\"orders_4_no_index\" has no Clustered Index. BulkCopy will use KeepNulls and UseInternalTransaction and Tablock\n",
      "2025-09-25T00:23:30.785 +02:00 -|- FastTransfer -|- MSS22_to_MSS25_Physloc_Partition -|- INFORMATION -|- tpch_test.dbo.orders_4_no_index -|- BulkCopy to \"dbo\".\"orders_4_no_index\" with BatchSize = 1048576, Timeout = 3600\n",
      "2025-09-25T00:23:30.786 +02:00 -|- FastTransfer -|- MSS22_to_MSS25_Physloc_Partition -|- INFORMATION -|- tpch_test.dbo.orders_4_no_index -|- Start Loading Data using distribution method Random\n",
      "2025-09-25T00:23:30.787 +02:00 -|- FastTransfer -|- MSS22_to_MSS25_Physloc_Partition -|- INFORMATION -|- tpch_test.dbo.orders_4_no_index -|- Table \"dbo\".\"orders_4_no_index\" has no Clustered Index. BulkCopy will use KeepNulls and UseInternalTransaction and Tablock\n",
      "2025-09-25T00:23:30.787 +02:00 -|- FastTransfer -|- MSS22_to_MSS25_Physloc_Partition -|- INFORMATION -|- tpch_test.dbo.orders_4_no_index -|- BulkCopy to \"dbo\".\"orders_4_no_index\" with BatchSize = 1048576, Timeout = 3600\n",
      "2025-09-25T00:23:30.788 +02:00 -|- FastTransfer -|- MSS22_to_MSS25_Physloc_Partition -|- WARNING -|- tpch_test.dbo.orders_4_no_index -|- Column o_orderyear not found in target table \"dbo\".\"orders_4_no_index\". The column will be ignored\n",
      "2025-09-25T00:23:30.788 +02:00 -|- FastTransfer -|- MSS22_to_MSS25_Physloc_Partition -|- WARNING -|- tpch_test.dbo.orders_4_no_index -|- Only 9 out of 10 columns were mapped by name to the target table \"dbo\".\"orders_4_no_index\"\n",
      "2025-09-25T00:23:30.789 +02:00 -|- FastTransfer -|- MSS22_to_MSS25_Physloc_Partition -|- WARNING -|- tpch_test.dbo.orders_4_no_index -|- Column o_orderyear not found in target table \"dbo\".\"orders_4_no_index\". The column will be ignored\n",
      "2025-09-25T00:23:30.789 +02:00 -|- FastTransfer -|- MSS22_to_MSS25_Physloc_Partition -|- WARNING -|- tpch_test.dbo.orders_4_no_index -|- Only 9 out of 10 columns were mapped by name to the target table \"dbo\".\"orders_4_no_index\"\n",
      "2025-09-25T00:23:30.792 +02:00 -|- FastTransfer -|- MSS22_to_MSS25_Physloc_Partition -|- INFORMATION -|- tpch_test.dbo.orders_4_no_index -|- Start Loading Data using distribution method Random\n",
      "2025-09-25T00:23:30.792 +02:00 -|- FastTransfer -|- MSS22_to_MSS25_Physloc_Partition -|- INFORMATION -|- tpch_test.dbo.orders_4_no_index -|- Table \"dbo\".\"orders_4_no_index\" has no Clustered Index. BulkCopy will use KeepNulls and UseInternalTransaction and Tablock\n",
      "2025-09-25T00:23:30.792 +02:00 -|- FastTransfer -|- MSS22_to_MSS25_Physloc_Partition -|- INFORMATION -|- tpch_test.dbo.orders_4_no_index -|- BulkCopy to \"dbo\".\"orders_4_no_index\" with BatchSize = 1048576, Timeout = 3600\n",
      "2025-09-25T00:23:30.794 +02:00 -|- FastTransfer -|- MSS22_to_MSS25_Physloc_Partition -|- WARNING -|- tpch_test.dbo.orders_4_no_index -|- Column o_orderyear not found in target table \"dbo\".\"orders_4_no_index\". The column will be ignored\n",
      "2025-09-25T00:23:30.794 +02:00 -|- FastTransfer -|- MSS22_to_MSS25_Physloc_Partition -|- WARNING -|- tpch_test.dbo.orders_4_no_index -|- Only 9 out of 10 columns were mapped by name to the target table \"dbo\".\"orders_4_no_index\"\n",
      "2025-09-25T00:23:30.795 +02:00 -|- FastTransfer -|- MSS22_to_MSS25_Physloc_Partition -|- INFORMATION -|- tpch_test.dbo.orders_4_no_index -|- Start Loading Data using distribution method Random\n",
      "2025-09-25T00:23:30.795 +02:00 -|- FastTransfer -|- MSS22_to_MSS25_Physloc_Partition -|- INFORMATION -|- tpch_test.dbo.orders_4_no_index -|- Table \"dbo\".\"orders_4_no_index\" has no Clustered Index. BulkCopy will use KeepNulls and UseInternalTransaction and Tablock\n",
      "2025-09-25T00:23:30.796 +02:00 -|- FastTransfer -|- MSS22_to_MSS25_Physloc_Partition -|- INFORMATION -|- tpch_test.dbo.orders_4_no_index -|- BulkCopy to \"dbo\".\"orders_4_no_index\" with BatchSize = 1048576, Timeout = 3600\n",
      "2025-09-25T00:23:30.798 +02:00 -|- FastTransfer -|- MSS22_to_MSS25_Physloc_Partition -|- WARNING -|- tpch_test.dbo.orders_4_no_index -|- Column o_orderyear not found in target table \"dbo\".\"orders_4_no_index\". The column will be ignored\n",
      "2025-09-25T00:23:30.798 +02:00 -|- FastTransfer -|- MSS22_to_MSS25_Physloc_Partition -|- WARNING -|- tpch_test.dbo.orders_4_no_index -|- Only 9 out of 10 columns were mapped by name to the target table \"dbo\".\"orders_4_no_index\"\n",
      "2025-09-25T00:23:30.802 +02:00 -|- FastTransfer -|- MSS22_to_MSS25_Physloc_Partition -|- INFORMATION -|- tpch_test.dbo.orders_4_no_index -|- Start Loading Data using distribution method Random\n",
      "2025-09-25T00:23:30.802 +02:00 -|- FastTransfer -|- MSS22_to_MSS25_Physloc_Partition -|- INFORMATION -|- tpch_test.dbo.orders_4_no_index -|- Table \"dbo\".\"orders_4_no_index\" has no Clustered Index. BulkCopy will use KeepNulls and UseInternalTransaction and Tablock\n",
      "2025-09-25T00:23:30.802 +02:00 -|- FastTransfer -|- MSS22_to_MSS25_Physloc_Partition -|- INFORMATION -|- tpch_test.dbo.orders_4_no_index -|- BulkCopy to \"dbo\".\"orders_4_no_index\" with BatchSize = 1048576, Timeout = 3600\n",
      "2025-09-25T00:23:30.804 +02:00 -|- FastTransfer -|- MSS22_to_MSS25_Physloc_Partition -|- INFORMATION -|- tpch_test.dbo.orders_4_no_index -|- Start Loading Data using distribution method Random\n",
      "2025-09-25T00:23:30.805 +02:00 -|- FastTransfer -|- MSS22_to_MSS25_Physloc_Partition -|- INFORMATION -|- tpch_test.dbo.orders_4_no_index -|- Table \"dbo\".\"orders_4_no_index\" has no Clustered Index. BulkCopy will use KeepNulls and UseInternalTransaction and Tablock\n",
      "2025-09-25T00:23:30.805 +02:00 -|- FastTransfer -|- MSS22_to_MSS25_Physloc_Partition -|- INFORMATION -|- tpch_test.dbo.orders_4_no_index -|- BulkCopy to \"dbo\".\"orders_4_no_index\" with BatchSize = 1048576, Timeout = 3600\n",
      "2025-09-25T00:23:30.805 +02:00 -|- FastTransfer -|- MSS22_to_MSS25_Physloc_Partition -|- WARNING -|- tpch_test.dbo.orders_4_no_index -|- Column o_orderyear not found in target table \"dbo\".\"orders_4_no_index\". The column will be ignored\n",
      "2025-09-25T00:23:30.805 +02:00 -|- FastTransfer -|- MSS22_to_MSS25_Physloc_Partition -|- WARNING -|- tpch_test.dbo.orders_4_no_index -|- Only 9 out of 10 columns were mapped by name to the target table \"dbo\".\"orders_4_no_index\"\n",
      "2025-09-25T00:23:30.807 +02:00 -|- FastTransfer -|- MSS22_to_MSS25_Physloc_Partition -|- WARNING -|- tpch_test.dbo.orders_4_no_index -|- Column o_orderyear not found in target table \"dbo\".\"orders_4_no_index\". The column will be ignored\n",
      "2025-09-25T00:23:30.807 +02:00 -|- FastTransfer -|- MSS22_to_MSS25_Physloc_Partition -|- WARNING -|- tpch_test.dbo.orders_4_no_index -|- Only 9 out of 10 columns were mapped by name to the target table \"dbo\".\"orders_4_no_index\"\n",
      "2025-09-25T00:23:36.099 +02:00 -|- FastTransfer -|- MSS22_to_MSS25_Physloc_Partition -|- INFORMATION -|- tpch_test.dbo.orders_4_no_index -|- Completed Parallel Load 1 : 2142291 rows x 10 columns in 5324 ms\n",
      "2025-09-25T00:23:36.111 +02:00 -|- FastTransfer -|- MSS22_to_MSS25_Physloc_Partition -|- INFORMATION -|- tpch_test.dbo.orders_4_no_index -|- Completed Parallel Load 0 : 2142806 rows x 10 columns in 5336 ms\n",
      "2025-09-25T00:23:36.112 +02:00 -|- FastTransfer -|- MSS22_to_MSS25_Physloc_Partition -|- INFORMATION -|- tpch_test.dbo.orders_4_no_index -|- Completed Parallel Load 6 : 2142882 rows x 10 columns in 5337 ms\n",
      "2025-09-25T00:23:36.120 +02:00 -|- FastTransfer -|- MSS22_to_MSS25_Physloc_Partition -|- INFORMATION -|- tpch_test.dbo.orders_4_no_index -|- Completed Parallel Load 2 : 2142573 rows x 10 columns in 5345 ms\n",
      "2025-09-25T00:23:36.143 +02:00 -|- FastTransfer -|- MSS22_to_MSS25_Physloc_Partition -|- INFORMATION -|- tpch_test.dbo.orders_4_no_index -|- Completed Parallel Load 3 : 2143431 rows x 10 columns in 5368 ms\n",
      "2025-09-25T00:23:36.214 +02:00 -|- FastTransfer -|- MSS22_to_MSS25_Physloc_Partition -|- INFORMATION -|- tpch_test.dbo.orders_4_no_index -|- Completed Parallel Load 5 : 2142988 rows x 10 columns in 5439 ms\n",
      "2025-09-25T00:23:36.251 +02:00 -|- FastTransfer -|- MSS22_to_MSS25_Physloc_Partition -|- INFORMATION -|- tpch_test.dbo.orders_4_no_index -|- Completed Parallel Load 4 : 2143029 rows x 10 columns in 5476 ms\n",
      "2025-09-25T00:23:36.251 +02:00 -|- FastTransfer -|- MSS22_to_MSS25_Physloc_Partition -|- INFORMATION -|- tpch_test.dbo.orders_4_no_index -|- Total rows : 15000000\n",
      "2025-09-25T00:23:36.251 +02:00 -|- FastTransfer -|- MSS22_to_MSS25_Physloc_Partition -|- INFORMATION -|- tpch_test.dbo.orders_4_no_index -|- Total columns : 10\n",
      "2025-09-25T00:23:36.251 +02:00 -|- FastTransfer -|- MSS22_to_MSS25_Physloc_Partition -|- INFORMATION -|- tpch_test.dbo.orders_4_no_index -|- Total cells : 150000000\n",
      "2025-09-25T00:23:36.252 +02:00 -|- FastTransfer -|- MSS22_to_MSS25_Physloc_Partition -|- INFORMATION -|- tpch_test.dbo.orders_4_no_index -|- Rows Throughput : 2738173 rows/s\n",
      "2025-09-25T00:23:36.252 +02:00 -|- FastTransfer -|- MSS22_to_MSS25_Physloc_Partition -|- INFORMATION -|- tpch_test.dbo.orders_4_no_index -|- Cells Throughput : 27381756 cells/s\n",
      "2025-09-25T00:23:36.252 +02:00 -|- FastTransfer -|- MSS22_to_MSS25_Physloc_Partition -|- INFORMATION -|- tpch_test.dbo.orders_4_no_index -|- Transfert time : Elapsed=5478 ms\n",
      "2025-09-25T00:23:36.252 +02:00 -|- FastTransfer -|- MSS22_to_MSS25_Physloc_Partition -|- INFORMATION -|- tpch_test.dbo.orders_4_no_index -|- Total time : Elapsed=5655 ms\n",
      "2025-09-25T00:23:36.252 +02:00 -|- FastTransfer -|- MSS22_to_MSS25_Physloc_Partition -|- INFORMATION -|- tpch_test.dbo.orders_4_no_index -|- Completed Load\n"
     ]
    }
   ],
   "source": [
    "cd D:\\FastTransfer\n",
    "\n",
    ".\\FastTransfer.exe `\n",
    "--sourceconnectiontype \"mssql\" `\n",
    "--sourceserver \"localhost\" `\n",
    "--sourcedatabase \"tpch_test\" `\n",
    "--sourcetrusted `\n",
    "--sourceschema \"dbo\" `\n",
    "--sourcetable \"orders_part\" `\n",
    "`\n",
    "--targetconnectiontype \"msbulk\" `\n",
    "--targetserver \"localhost\\SS2025\" `\n",
    "--targettrusted `\n",
    "--targetdatabase \"tpch_test\" `\n",
    "--targetschema \"dbo\" `\n",
    "--targettable \"orders_4_no_index\" `\n",
    "`\n",
    "--loadmode \"Truncate\" `\n",
    "--mapmethod \"Name\" `\n",
    "--method \"Physloc\" `\n",
    "--degree 7 `\n",
    "--runid \"MSS22_to_MSS25_Physloc_Partition\""
   ]
  }
 ],
 "metadata": {
  "kernelspec": {
   "display_name": ".NET (C#)",
   "language": "C#",
   "name": ".net-csharp"
  },
  "language_info": {
   "name": "polyglot-notebook"
  },
  "polyglot_notebook": {
   "kernelInfo": {
    "defaultKernelName": "csharp",
    "items": [
     {
      "aliases": [],
      "name": "csharp"
     },
     {
      "aliases": [],
      "languageName": "pwsh",
      "name": "pwsh"
     },
     {
      "aliases": [],
      "languageName": "T-SQL",
      "name": "sql-SS2025_tpch_test"
     }
    ]
   }
  }
 },
 "nbformat": 4,
 "nbformat_minor": 5
}
