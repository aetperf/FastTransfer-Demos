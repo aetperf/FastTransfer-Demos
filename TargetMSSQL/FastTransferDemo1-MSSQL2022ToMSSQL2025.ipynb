{
 "cells": [
  {
   "cell_type": "markdown",
   "id": "ed7e8fc1",
   "metadata": {
    "polyglot_notebook": {
     "kernelName": "pwsh"
    }
   },
   "source": [
    "```\n",
    "███████  █████  ███████ ████████ ████████ ██████   █████  ███    ██ ███████ ███████ ███████ ██████  \n",
    "██      ██   ██ ██         ██       ██    ██   ██ ██   ██ ████   ██ ██      ██      ██      ██   ██ \n",
    "█████   ███████ ███████    ██       ██    ██████  ███████ ██ ██  ██ ███████ █████   █████   ██████  \n",
    "██      ██   ██      ██    ██       ██    ██   ██ ██   ██ ██  ██ ██      ██ ██      ██      ██   ██ \n",
    "██      ██   ██ ███████    ██       ██    ██   ██ ██   ██ ██   ████ ███████ ██      ███████ ██   ██ "
   ]
  },
  {
   "cell_type": "markdown",
   "id": "e0a3df88",
   "metadata": {},
   "source": [
    "# Demo 1 : Copy From MSSQL 2022 to MSSQL 2025"
   ]
  },
  {
   "cell_type": "code",
   "execution_count": 1,
   "id": "f79f5dc1",
   "metadata": {
    "polyglot_notebook": {
     "kernelName": "csharp"
    }
   },
   "outputs": [
    {
     "data": {
      "text/html": [
       "<div><div></div><div></div><div><strong>Installed Packages</strong><ul><li><span>Microsoft.DotNet.Interactive.SqlServer, 1.0.0-beta.25177.1</span></li></ul></div></div>"
      ]
     },
     "metadata": {},
     "output_type": "display_data"
    },
    {
     "data": {
      "text/plain": [
       "Loading extension script from `C:\\Users\\romai\\.nuget\\packages\\microsoft.dotnet.interactive.sqlserver\\1.0.0-beta.25177.1\\interactive-extensions\\dotnet\\extension.dib`"
      ]
     },
     "metadata": {},
     "output_type": "display_data"
    },
    {
     "data": {
      "text/html": [
       "<details><summary>Query Microsoft SQL Server databases.</summary>\r\n",
       "<p>This extension adds support for connecting to Microsoft SQL Server databases using the <code>#!connect mssql</code> magic command. For more information, run a cell using the <code>#!sql</code> magic command.</p>\r\n",
       "</details>"
      ]
     },
     "metadata": {},
     "output_type": "display_data"
    }
   ],
   "source": [
    "#r \"nuget:Microsoft.DotNet.Interactive.SqlServer, *-*\""
   ]
  },
  {
   "cell_type": "markdown",
   "id": "8486177e",
   "metadata": {},
   "source": [
    "## Working on TPCH SF10 ORDERS (15M rows)"
   ]
  },
  {
   "cell_type": "markdown",
   "id": "c2950409",
   "metadata": {},
   "source": [
    "### MSSQL 2022 Instance to MSSQL 2025 Instance"
   ]
  },
  {
   "cell_type": "code",
   "execution_count": 2,
   "id": "a6099083",
   "metadata": {
    "polyglot_notebook": {
     "kernelName": "csharp"
    }
   },
   "outputs": [
    {
     "data": {
      "text/plain": [
       "Kernel added: #!sql-SS2025_tpch_test"
      ]
     },
     "metadata": {},
     "output_type": "display_data"
    }
   ],
   "source": [
    "#!connect mssql --kernel-name SS2025_tpch_test --connection-string \"Data Source=localhost\\SS2025;Initial Catalog=tpch_test;Integrated Security=True;Connect Timeout=120;Encrypt=True;Trust Server Certificate=True;Application Name=NoteBook;Application Intent=ReadWrite;Command Timeout=10800\""
   ]
  },
  {
   "cell_type": "markdown",
   "id": "9838fd82",
   "metadata": {},
   "source": [
    "#### Target orders_3 with a clustered ColumnStoreIndex"
   ]
  },
  {
   "cell_type": "code",
   "execution_count": null,
   "id": "d1094a0b",
   "metadata": {
    "polyglot_notebook": {
     "kernelName": "sql-SS2025_tpch_test"
    }
   },
   "outputs": [
    {
     "data": {
      "text/plain": [
       "(1 ligne affectée)"
      ]
     },
     "metadata": {},
     "output_type": "display_data"
    },
    {
     "data": {
      "text/csv": [
       "count_target_table_rows\r\n",
       "0\r\n"
      ],
      "text/html": [
       "<table><thead><tr><td><span>count_target_table_rows</span></td></tr></thead><tbody><tr><td><div class=\"dni-plaintext\"><pre>0</pre></div></td></tr></tbody></table><style>\r\n",
       ".dni-code-hint {\r\n",
       "    font-style: italic;\r\n",
       "    overflow: hidden;\r\n",
       "    white-space: nowrap;\r\n",
       "}\r\n",
       ".dni-treeview {\r\n",
       "    white-space: nowrap;\r\n",
       "}\r\n",
       ".dni-treeview td {\r\n",
       "    vertical-align: top;\r\n",
       "    text-align: start;\r\n",
       "}\r\n",
       "details.dni-treeview {\r\n",
       "    padding-left: 1em;\r\n",
       "}\r\n",
       "table td {\r\n",
       "    text-align: start;\r\n",
       "}\r\n",
       "table tr { \r\n",
       "    vertical-align: top; \r\n",
       "    margin: 0em 0px;\r\n",
       "}\r\n",
       "table tr td pre \r\n",
       "{ \r\n",
       "    vertical-align: top !important; \r\n",
       "    margin: 0em 0px !important;\r\n",
       "} \r\n",
       "table th {\r\n",
       "    text-align: start;\r\n",
       "}\r\n",
       "</style>"
      ]
     },
     "metadata": {},
     "output_type": "display_data"
    }
   ],
   "source": [
    "TRUNCATE TABLE orders_3;\n",
    "SELECT count(*) count_target_table_rows from orders_3;"
   ]
  },
  {
   "cell_type": "code",
   "execution_count": null,
   "id": "6f2f4100",
   "metadata": {
    "polyglot_notebook": {
     "kernelName": "pwsh"
    }
   },
   "outputs": [
    {
     "name": "stdout",
     "output_type": "stream",
     "text": [
      "2025-06-13T22:55:52.304 +02:00 -|- FastTransfer -|- MSS22_to_MSS25 -|- INFORMATION -|- tpch_test.dbo.orders_3 -|- Starting\n",
      "2025-06-13T22:55:52.313 +02:00 -|- FastTransfer -|- MSS22_to_MSS25 -|- INFORMATION -|- tpch_test.dbo.orders_3 -|- FastTransfer Version : 0.13.4.0 Architecture : X64 - Framework : .NET 8.0.15\n",
      "2025-06-13T22:55:52.313 +02:00 -|- FastTransfer -|- MSS22_to_MSS25 -|- INFORMATION -|- tpch_test.dbo.orders_3 -|- OS : Microsoft Windows 10.0.26100\n",
      "2025-06-13T22:55:52.313 +02:00 -|- FastTransfer -|- MSS22_to_MSS25 -|- INFORMATION -|- tpch_test.dbo.orders_3 -|- Process ID : 38480\n",
      "2025-06-13T22:55:52.313 +02:00 -|- FastTransfer -|- MSS22_to_MSS25 -|- INFORMATION -|- tpch_test.dbo.orders_3 -|- Provided Run ID : MSS22_to_MSS25\n",
      "2025-06-13T22:55:52.313 +02:00 -|- FastTransfer -|- MSS22_to_MSS25 -|- INFORMATION -|- tpch_test.dbo.orders_3 -|- Source Connection Type : mssql\n",
      "2025-06-13T22:55:52.313 +02:00 -|- FastTransfer -|- MSS22_to_MSS25 -|- INFORMATION -|- tpch_test.dbo.orders_3 -|- Source SqlInstance : localhost\n",
      "2025-06-13T22:55:52.313 +02:00 -|- FastTransfer -|- MSS22_to_MSS25 -|- INFORMATION -|- tpch_test.dbo.orders_3 -|- Source Database : tpch10_collation_bin2\n",
      "2025-06-13T22:55:52.313 +02:00 -|- FastTransfer -|- MSS22_to_MSS25 -|- INFORMATION -|- tpch_test.dbo.orders_3 -|- Source Trusted Connection : True\n",
      "2025-06-13T22:55:52.313 +02:00 -|- FastTransfer -|- MSS22_to_MSS25 -|- INFORMATION -|- tpch_test.dbo.orders_3 -|- Source Schema : dbo\n",
      "2025-06-13T22:55:52.313 +02:00 -|- FastTransfer -|- MSS22_to_MSS25 -|- INFORMATION -|- tpch_test.dbo.orders_3 -|- Source Table : orders_15M\n",
      "2025-06-13T22:55:52.313 +02:00 -|- FastTransfer -|- MSS22_to_MSS25 -|- INFORMATION -|- tpch_test.dbo.orders_3 -|- Target Type : msbulk\n",
      "2025-06-13T22:55:52.313 +02:00 -|- FastTransfer -|- MSS22_to_MSS25 -|- INFORMATION -|- tpch_test.dbo.orders_3 -|- Target Server : localhost\\SS2025\n",
      "2025-06-13T22:55:52.313 +02:00 -|- FastTransfer -|- MSS22_to_MSS25 -|- INFORMATION -|- tpch_test.dbo.orders_3 -|- Target Database : tpch_test\n",
      "2025-06-13T22:55:52.313 +02:00 -|- FastTransfer -|- MSS22_to_MSS25 -|- INFORMATION -|- tpch_test.dbo.orders_3 -|- Target Schema : dbo\n",
      "2025-06-13T22:55:52.313 +02:00 -|- FastTransfer -|- MSS22_to_MSS25 -|- INFORMATION -|- tpch_test.dbo.orders_3 -|- Target Table : orders_3\n",
      "2025-06-13T22:55:52.313 +02:00 -|- FastTransfer -|- MSS22_to_MSS25 -|- INFORMATION -|- tpch_test.dbo.orders_3 -|- Target Trusted Connection : True\n",
      "2025-06-13T22:55:52.313 +02:00 -|- FastTransfer -|- MSS22_to_MSS25 -|- INFORMATION -|- tpch_test.dbo.orders_3 -|- Columns Map Method : Name\n",
      "2025-06-13T22:55:52.314 +02:00 -|- FastTransfer -|- MSS22_to_MSS25 -|- INFORMATION -|- tpch_test.dbo.orders_3 -|- Degree : -2\n",
      "2025-06-13T22:55:52.314 +02:00 -|- FastTransfer -|- MSS22_to_MSS25 -|- INFORMATION -|- tpch_test.dbo.orders_3 -|- Distribute Method : Ntile\n",
      "2025-06-13T22:55:52.314 +02:00 -|- FastTransfer -|- MSS22_to_MSS25 -|- INFORMATION -|- tpch_test.dbo.orders_3 -|- Distribute Column : o_orderkey\n",
      "2025-06-13T22:55:52.314 +02:00 -|- FastTransfer -|- MSS22_to_MSS25 -|- INFORMATION -|- tpch_test.dbo.orders_3 -|- Bulkcopy Batch Size : 1048576\n",
      "2025-06-13T22:55:52.314 +02:00 -|- FastTransfer -|- MSS22_to_MSS25 -|- INFORMATION -|- tpch_test.dbo.orders_3 -|- Load Mode : Truncate\n",
      "2025-06-13T22:55:52.314 +02:00 -|- FastTransfer -|- MSS22_to_MSS25 -|- INFORMATION -|- tpch_test.dbo.orders_3 -|- Use Work Tables : False\n",
      "2025-06-13T22:55:52.314 +02:00 -|- FastTransfer -|- MSS22_to_MSS25 -|- INFORMATION -|- tpch_test.dbo.orders_3 -|- Encoding used : Unicode (UTF-8) - 65001 - utf-8\n",
      "2025-06-13T22:55:52.334 +02:00 -|- FastTransfer -|- MSS22_to_MSS25 -|- INFORMATION -|- tpch_test.dbo.orders_3 -|- Source Connection String : Data Source=localhost;Initial Catalog=tpch10_collation_bin2;Integrated Security=True;Connect Timeout=120;Encrypt=True;Trust Server Certificate=True;Application Name=FastTransfer;Application Intent=ReadOnly;Command Timeout=10800\n",
      "2025-06-13T22:55:52.334 +02:00 -|- FastTransfer -|- MSS22_to_MSS25 -|- INFORMATION -|- tpch_test.dbo.orders_3 -|- Target Connection String : Data Source=localhost\\SS2025;Initial Catalog=tpch_test;Integrated Security=True;Connect Timeout=120;Encrypt=True;Trust Server Certificate=True;Application Name=FastTransfer;Application Intent=ReadWrite;Command Timeout=10800\n",
      "2025-06-13T22:55:52.334 +02:00 -|- FastTransfer -|- MSS22_to_MSS25 -|- INFORMATION -|- tpch_test.dbo.orders_3 -|- Source Database Version : Microsoft SQL Server 2022 (RTM-CU17) (KB5048038) - 16.0.4175.1 (X64)  \tDec 13 2024 09:01:53  \tCopyright (C) 2022 Microsoft Corporation \tDeveloper Edition (64-bit) on Windows 10 Pro 10.0 <X64> (Build 26100: ) (Hypervisor) \n",
      "2025-06-13T22:55:52.334 +02:00 -|- FastTransfer -|- MSS22_to_MSS25 -|- INFORMATION -|- tpch_test.dbo.orders_3 -|- Target Database Version : Microsoft SQL Server 2025 (CTP2.0) - 17.0.700.9 (X64)  \tMay  8 2025 19:14:27  \tCopyright (C) 2025 Microsoft Corporation \tEnterprise Developer Edition (64-bit) on Windows 10 Pro 10.0 <X64> (Build 26100: ) (Hypervisor) \n",
      "2025-06-13T22:55:52.340 +02:00 -|- FastTransfer -|- MSS22_to_MSS25 -|- INFORMATION -|- tpch_test.dbo.orders_3 -|- Degree of parallelism was computed to 16 (=> 32\\2)\n",
      "2025-06-13T22:55:53.668 +02:00 -|- FastTransfer -|- MSS22_to_MSS25 -|- INFORMATION -|- tpch_test.dbo.orders_3 -|- Ntile DataSegments Computation Completed in 1328 ms\n",
      "2025-06-13T22:55:53.671 +02:00 -|- FastTransfer -|- MSS22_to_MSS25 -|- INFORMATION -|- tpch_test.dbo.orders_3 -|- Start Loading Data using distribution method NTile\n",
      "2025-06-13T22:55:53.672 +02:00 -|- FastTransfer -|- MSS22_to_MSS25 -|- INFORMATION -|- tpch_test.dbo.orders_3 -|- Table \"dbo\".\"orders_3\" has a Clustered Index. BulkCopy will use KeepNulls and UseInternalTransaction and avoid Tablock\n",
      "2025-06-13T22:55:53.673 +02:00 -|- FastTransfer -|- MSS22_to_MSS25 -|- INFORMATION -|- tpch_test.dbo.orders_3 -|- BulkCopy to \"dbo\".\"orders_3\" with BatchSize = 1048576, Timeout = 3600\n",
      "2025-06-13T22:55:53.674 +02:00 -|- FastTransfer -|- MSS22_to_MSS25 -|- WARNING -|- tpch_test.dbo.orders_3 -|- Only 9 out of 10 columns were mapped by name to the target table \"dbo\".\"orders_3\"\n",
      "2025-06-13T22:55:53.682 +02:00 -|- FastTransfer -|- MSS22_to_MSS25 -|- INFORMATION -|- tpch_test.dbo.orders_3 -|- Start Loading Data using distribution method NTile\n",
      "2025-06-13T22:55:53.683 +02:00 -|- FastTransfer -|- MSS22_to_MSS25 -|- INFORMATION -|- tpch_test.dbo.orders_3 -|- Table \"dbo\".\"orders_3\" has a Clustered Index. BulkCopy will use KeepNulls and UseInternalTransaction and avoid Tablock\n",
      "2025-06-13T22:55:53.683 +02:00 -|- FastTransfer -|- MSS22_to_MSS25 -|- INFORMATION -|- tpch_test.dbo.orders_3 -|- BulkCopy to \"dbo\".\"orders_3\" with BatchSize = 1048576, Timeout = 3600\n",
      "2025-06-13T22:55:53.685 +02:00 -|- FastTransfer -|- MSS22_to_MSS25 -|- WARNING -|- tpch_test.dbo.orders_3 -|- Only 9 out of 10 columns were mapped by name to the target table \"dbo\".\"orders_3\"\n",
      "2025-06-13T22:55:53.687 +02:00 -|- FastTransfer -|- MSS22_to_MSS25 -|- INFORMATION -|- tpch_test.dbo.orders_3 -|- Start Loading Data using distribution method NTile\n",
      "2025-06-13T22:55:53.687 +02:00 -|- FastTransfer -|- MSS22_to_MSS25 -|- INFORMATION -|- tpch_test.dbo.orders_3 -|- Table \"dbo\".\"orders_3\" has a Clustered Index. BulkCopy will use KeepNulls and UseInternalTransaction and avoid Tablock\n",
      "2025-06-13T22:55:53.687 +02:00 -|- FastTransfer -|- MSS22_to_MSS25 -|- INFORMATION -|- tpch_test.dbo.orders_3 -|- BulkCopy to \"dbo\".\"orders_3\" with BatchSize = 1048576, Timeout = 3600\n",
      "2025-06-13T22:55:53.688 +02:00 -|- FastTransfer -|- MSS22_to_MSS25 -|- WARNING -|- tpch_test.dbo.orders_3 -|- Only 9 out of 10 columns were mapped by name to the target table \"dbo\".\"orders_3\"\n",
      "2025-06-13T22:55:53.694 +02:00 -|- FastTransfer -|- MSS22_to_MSS25 -|- INFORMATION -|- tpch_test.dbo.orders_3 -|- Start Loading Data using distribution method NTile\n",
      "2025-06-13T22:55:53.694 +02:00 -|- FastTransfer -|- MSS22_to_MSS25 -|- INFORMATION -|- tpch_test.dbo.orders_3 -|- Table \"dbo\".\"orders_3\" has a Clustered Index. BulkCopy will use KeepNulls and UseInternalTransaction and avoid Tablock\n",
      "2025-06-13T22:55:53.694 +02:00 -|- FastTransfer -|- MSS22_to_MSS25 -|- INFORMATION -|- tpch_test.dbo.orders_3 -|- BulkCopy to \"dbo\".\"orders_3\" with BatchSize = 1048576, Timeout = 3600\n",
      "2025-06-13T22:55:53.696 +02:00 -|- FastTransfer -|- MSS22_to_MSS25 -|- WARNING -|- tpch_test.dbo.orders_3 -|- Only 9 out of 10 columns were mapped by name to the target table \"dbo\".\"orders_3\"\n",
      "2025-06-13T22:55:53.697 +02:00 -|- FastTransfer -|- MSS22_to_MSS25 -|- INFORMATION -|- tpch_test.dbo.orders_3 -|- Start Loading Data using distribution method NTile\n",
      "2025-06-13T22:55:53.697 +02:00 -|- FastTransfer -|- MSS22_to_MSS25 -|- INFORMATION -|- tpch_test.dbo.orders_3 -|- Table \"dbo\".\"orders_3\" has a Clustered Index. BulkCopy will use KeepNulls and UseInternalTransaction and avoid Tablock\n",
      "2025-06-13T22:55:53.697 +02:00 -|- FastTransfer -|- MSS22_to_MSS25 -|- INFORMATION -|- tpch_test.dbo.orders_3 -|- BulkCopy to \"dbo\".\"orders_3\" with BatchSize = 1048576, Timeout = 3600\n",
      "2025-06-13T22:55:53.698 +02:00 -|- FastTransfer -|- MSS22_to_MSS25 -|- WARNING -|- tpch_test.dbo.orders_3 -|- Only 9 out of 10 columns were mapped by name to the target table \"dbo\".\"orders_3\"\n",
      "2025-06-13T22:55:53.703 +02:00 -|- FastTransfer -|- MSS22_to_MSS25 -|- INFORMATION -|- tpch_test.dbo.orders_3 -|- Start Loading Data using distribution method NTile\n",
      "2025-06-13T22:55:53.703 +02:00 -|- FastTransfer -|- MSS22_to_MSS25 -|- INFORMATION -|- tpch_test.dbo.orders_3 -|- Table \"dbo\".\"orders_3\" has a Clustered Index. BulkCopy will use KeepNulls and UseInternalTransaction and avoid Tablock\n",
      "2025-06-13T22:55:53.703 +02:00 -|- FastTransfer -|- MSS22_to_MSS25 -|- INFORMATION -|- tpch_test.dbo.orders_3 -|- BulkCopy to \"dbo\".\"orders_3\" with BatchSize = 1048576, Timeout = 3600\n",
      "2025-06-13T22:55:53.705 +02:00 -|- FastTransfer -|- MSS22_to_MSS25 -|- WARNING -|- tpch_test.dbo.orders_3 -|- Only 9 out of 10 columns were mapped by name to the target table \"dbo\".\"orders_3\"\n",
      "2025-06-13T22:55:53.707 +02:00 -|- FastTransfer -|- MSS22_to_MSS25 -|- INFORMATION -|- tpch_test.dbo.orders_3 -|- Start Loading Data using distribution method NTile\n",
      "2025-06-13T22:55:53.707 +02:00 -|- FastTransfer -|- MSS22_to_MSS25 -|- INFORMATION -|- tpch_test.dbo.orders_3 -|- Table \"dbo\".\"orders_3\" has a Clustered Index. BulkCopy will use KeepNulls and UseInternalTransaction and avoid Tablock\n",
      "2025-06-13T22:55:53.707 +02:00 -|- FastTransfer -|- MSS22_to_MSS25 -|- INFORMATION -|- tpch_test.dbo.orders_3 -|- BulkCopy to \"dbo\".\"orders_3\" with BatchSize = 1048576, Timeout = 3600\n",
      "2025-06-13T22:55:53.709 +02:00 -|- FastTransfer -|- MSS22_to_MSS25 -|- WARNING -|- tpch_test.dbo.orders_3 -|- Only 9 out of 10 columns were mapped by name to the target table \"dbo\".\"orders_3\"\n",
      "2025-06-13T22:55:53.712 +02:00 -|- FastTransfer -|- MSS22_to_MSS25 -|- INFORMATION -|- tpch_test.dbo.orders_3 -|- Start Loading Data using distribution method NTile\n",
      "2025-06-13T22:55:53.713 +02:00 -|- FastTransfer -|- MSS22_to_MSS25 -|- INFORMATION -|- tpch_test.dbo.orders_3 -|- Table \"dbo\".\"orders_3\" has a Clustered Index. BulkCopy will use KeepNulls and UseInternalTransaction and avoid Tablock\n",
      "2025-06-13T22:55:53.713 +02:00 -|- FastTransfer -|- MSS22_to_MSS25 -|- INFORMATION -|- tpch_test.dbo.orders_3 -|- BulkCopy to \"dbo\".\"orders_3\" with BatchSize = 1048576, Timeout = 3600\n",
      "2025-06-13T22:55:53.714 +02:00 -|- FastTransfer -|- MSS22_to_MSS25 -|- WARNING -|- tpch_test.dbo.orders_3 -|- Only 9 out of 10 columns were mapped by name to the target table \"dbo\".\"orders_3\"\n",
      "2025-06-13T22:55:53.716 +02:00 -|- FastTransfer -|- MSS22_to_MSS25 -|- INFORMATION -|- tpch_test.dbo.orders_3 -|- Start Loading Data using distribution method NTile\n",
      "2025-06-13T22:55:53.717 +02:00 -|- FastTransfer -|- MSS22_to_MSS25 -|- INFORMATION -|- tpch_test.dbo.orders_3 -|- Table \"dbo\".\"orders_3\" has a Clustered Index. BulkCopy will use KeepNulls and UseInternalTransaction and avoid Tablock\n",
      "2025-06-13T22:55:53.717 +02:00 -|- FastTransfer -|- MSS22_to_MSS25 -|- INFORMATION -|- tpch_test.dbo.orders_3 -|- BulkCopy to \"dbo\".\"orders_3\" with BatchSize = 1048576, Timeout = 3600\n",
      "2025-06-13T22:55:53.718 +02:00 -|- FastTransfer -|- MSS22_to_MSS25 -|- WARNING -|- tpch_test.dbo.orders_3 -|- Only 9 out of 10 columns were mapped by name to the target table \"dbo\".\"orders_3\"\n",
      "2025-06-13T22:55:53.725 +02:00 -|- FastTransfer -|- MSS22_to_MSS25 -|- INFORMATION -|- tpch_test.dbo.orders_3 -|- Start Loading Data using distribution method NTile\n",
      "2025-06-13T22:55:53.725 +02:00 -|- FastTransfer -|- MSS22_to_MSS25 -|- INFORMATION -|- tpch_test.dbo.orders_3 -|- Table \"dbo\".\"orders_3\" has a Clustered Index. BulkCopy will use KeepNulls and UseInternalTransaction and avoid Tablock\n",
      "2025-06-13T22:55:53.725 +02:00 -|- FastTransfer -|- MSS22_to_MSS25 -|- INFORMATION -|- tpch_test.dbo.orders_3 -|- BulkCopy to \"dbo\".\"orders_3\" with BatchSize = 1048576, Timeout = 3600\n",
      "2025-06-13T22:55:53.732 +02:00 -|- FastTransfer -|- MSS22_to_MSS25 -|- WARNING -|- tpch_test.dbo.orders_3 -|- Only 9 out of 10 columns were mapped by name to the target table \"dbo\".\"orders_3\"\n",
      "2025-06-13T22:55:53.734 +02:00 -|- FastTransfer -|- MSS22_to_MSS25 -|- INFORMATION -|- tpch_test.dbo.orders_3 -|- Start Loading Data using distribution method NTile\n",
      "2025-06-13T22:55:53.735 +02:00 -|- FastTransfer -|- MSS22_to_MSS25 -|- INFORMATION -|- tpch_test.dbo.orders_3 -|- Table \"dbo\".\"orders_3\" has a Clustered Index. BulkCopy will use KeepNulls and UseInternalTransaction and avoid Tablock\n",
      "2025-06-13T22:55:53.735 +02:00 -|- FastTransfer -|- MSS22_to_MSS25 -|- INFORMATION -|- tpch_test.dbo.orders_3 -|- BulkCopy to \"dbo\".\"orders_3\" with BatchSize = 1048576, Timeout = 3600\n",
      "2025-06-13T22:55:53.737 +02:00 -|- FastTransfer -|- MSS22_to_MSS25 -|- WARNING -|- tpch_test.dbo.orders_3 -|- Only 9 out of 10 columns were mapped by name to the target table \"dbo\".\"orders_3\"\n",
      "2025-06-13T22:55:53.743 +02:00 -|- FastTransfer -|- MSS22_to_MSS25 -|- INFORMATION -|- tpch_test.dbo.orders_3 -|- Start Loading Data using distribution method NTile\n",
      "2025-06-13T22:55:53.743 +02:00 -|- FastTransfer -|- MSS22_to_MSS25 -|- INFORMATION -|- tpch_test.dbo.orders_3 -|- Table \"dbo\".\"orders_3\" has a Clustered Index. BulkCopy will use KeepNulls and UseInternalTransaction and avoid Tablock\n",
      "2025-06-13T22:55:53.744 +02:00 -|- FastTransfer -|- MSS22_to_MSS25 -|- INFORMATION -|- tpch_test.dbo.orders_3 -|- BulkCopy to \"dbo\".\"orders_3\" with BatchSize = 1048576, Timeout = 3600\n",
      "2025-06-13T22:55:53.745 +02:00 -|- FastTransfer -|- MSS22_to_MSS25 -|- WARNING -|- tpch_test.dbo.orders_3 -|- Only 9 out of 10 columns were mapped by name to the target table \"dbo\".\"orders_3\"\n",
      "2025-06-13T22:55:53.750 +02:00 -|- FastTransfer -|- MSS22_to_MSS25 -|- INFORMATION -|- tpch_test.dbo.orders_3 -|- Start Loading Data using distribution method NTile\n",
      "2025-06-13T22:55:53.751 +02:00 -|- FastTransfer -|- MSS22_to_MSS25 -|- INFORMATION -|- tpch_test.dbo.orders_3 -|- Table \"dbo\".\"orders_3\" has a Clustered Index. BulkCopy will use KeepNulls and UseInternalTransaction and avoid Tablock\n",
      "2025-06-13T22:55:53.751 +02:00 -|- FastTransfer -|- MSS22_to_MSS25 -|- INFORMATION -|- tpch_test.dbo.orders_3 -|- BulkCopy to \"dbo\".\"orders_3\" with BatchSize = 1048576, Timeout = 3600\n",
      "2025-06-13T22:55:53.753 +02:00 -|- FastTransfer -|- MSS22_to_MSS25 -|- WARNING -|- tpch_test.dbo.orders_3 -|- Only 9 out of 10 columns were mapped by name to the target table \"dbo\".\"orders_3\"\n",
      "2025-06-13T22:55:53.754 +02:00 -|- FastTransfer -|- MSS22_to_MSS25 -|- INFORMATION -|- tpch_test.dbo.orders_3 -|- Start Loading Data using distribution method NTile\n",
      "2025-06-13T22:55:53.755 +02:00 -|- FastTransfer -|- MSS22_to_MSS25 -|- INFORMATION -|- tpch_test.dbo.orders_3 -|- Table \"dbo\".\"orders_3\" has a Clustered Index. BulkCopy will use KeepNulls and UseInternalTransaction and avoid Tablock\n",
      "2025-06-13T22:55:53.755 +02:00 -|- FastTransfer -|- MSS22_to_MSS25 -|- INFORMATION -|- tpch_test.dbo.orders_3 -|- BulkCopy to \"dbo\".\"orders_3\" with BatchSize = 1048576, Timeout = 3600\n",
      "2025-06-13T22:55:53.756 +02:00 -|- FastTransfer -|- MSS22_to_MSS25 -|- WARNING -|- tpch_test.dbo.orders_3 -|- Only 9 out of 10 columns were mapped by name to the target table \"dbo\".\"orders_3\"\n",
      "2025-06-13T22:55:53.758 +02:00 -|- FastTransfer -|- MSS22_to_MSS25 -|- INFORMATION -|- tpch_test.dbo.orders_3 -|- Start Loading Data using distribution method NTile\n",
      "2025-06-13T22:55:53.758 +02:00 -|- FastTransfer -|- MSS22_to_MSS25 -|- INFORMATION -|- tpch_test.dbo.orders_3 -|- Table \"dbo\".\"orders_3\" has a Clustered Index. BulkCopy will use KeepNulls and UseInternalTransaction and avoid Tablock\n",
      "2025-06-13T22:55:53.758 +02:00 -|- FastTransfer -|- MSS22_to_MSS25 -|- INFORMATION -|- tpch_test.dbo.orders_3 -|- BulkCopy to \"dbo\".\"orders_3\" with BatchSize = 1048576, Timeout = 3600\n",
      "2025-06-13T22:55:53.759 +02:00 -|- FastTransfer -|- MSS22_to_MSS25 -|- WARNING -|- tpch_test.dbo.orders_3 -|- Only 9 out of 10 columns were mapped by name to the target table \"dbo\".\"orders_3\"\n",
      "2025-06-13T22:55:53.762 +02:00 -|- FastTransfer -|- MSS22_to_MSS25 -|- INFORMATION -|- tpch_test.dbo.orders_3 -|- Start Loading Data using distribution method NTile\n",
      "2025-06-13T22:55:53.762 +02:00 -|- FastTransfer -|- MSS22_to_MSS25 -|- INFORMATION -|- tpch_test.dbo.orders_3 -|- Table \"dbo\".\"orders_3\" has a Clustered Index. BulkCopy will use KeepNulls and UseInternalTransaction and avoid Tablock\n",
      "2025-06-13T22:55:53.762 +02:00 -|- FastTransfer -|- MSS22_to_MSS25 -|- INFORMATION -|- tpch_test.dbo.orders_3 -|- BulkCopy to \"dbo\".\"orders_3\" with BatchSize = 1048576, Timeout = 3600\n",
      "2025-06-13T22:55:53.764 +02:00 -|- FastTransfer -|- MSS22_to_MSS25 -|- WARNING -|- tpch_test.dbo.orders_3 -|- Only 9 out of 10 columns were mapped by name to the target table \"dbo\".\"orders_3\"\n",
      "2025-06-13T22:55:59.597 +02:00 -|- FastTransfer -|- MSS22_to_MSS25 -|- INFORMATION -|- tpch_test.dbo.orders_3 -|- Completed Load Query 13 for o_orderkey between 52413184 and 56445281 : 937501 rows x 9 columns in 5924ms\n",
      "2025-06-13T22:55:59.712 +02:00 -|- FastTransfer -|- MSS22_to_MSS25 -|- INFORMATION -|- tpch_test.dbo.orders_3 -|- Completed Load Query 9 for o_orderkey between 36288230 and 40319808 : 937501 rows x 9 columns in 6040ms\n",
      "2025-06-13T22:55:59.774 +02:00 -|- FastTransfer -|- MSS22_to_MSS25 -|- INFORMATION -|- tpch_test.dbo.orders_3 -|- Completed Load Query 11 for o_orderkey between 44350020 and 48381669 : 937501 rows x 9 columns in 6102ms\n",
      "2025-06-13T22:55:59.814 +02:00 -|- FastTransfer -|- MSS22_to_MSS25 -|- INFORMATION -|- tpch_test.dbo.orders_3 -|- Completed Load Query 8 for o_orderkey between 32255682 and 36288229 : 937501 rows x 9 columns in 6142ms\n",
      "2025-06-13T22:55:59.820 +02:00 -|- FastTransfer -|- MSS22_to_MSS25 -|- INFORMATION -|- tpch_test.dbo.orders_3 -|- Completed Load Query 12 for o_orderkey between 48381670 and 52413159 : 937501 rows x 9 columns in 6147ms\n",
      "2025-06-13T22:55:59.829 +02:00 -|- FastTransfer -|- MSS22_to_MSS25 -|- INFORMATION -|- tpch_test.dbo.orders_3 -|- Completed Load Query 0 for o_orderkey between 1 and 4030401 : 937500 rows x 9 columns in 6158ms\n",
      "2025-06-13T22:55:59.837 +02:00 -|- FastTransfer -|- MSS22_to_MSS25 -|- INFORMATION -|- tpch_test.dbo.orders_3 -|- Completed Load Query 3 for o_orderkey between 12095556 and 16128901 : 937501 rows x 9 columns in 6166ms\n",
      "2025-06-13T22:55:59.876 +02:00 -|- FastTransfer -|- MSS22_to_MSS25 -|- INFORMATION -|- tpch_test.dbo.orders_3 -|- Completed Load Query 6 for o_orderkey between 24192838 and 28226534 : 937501 rows x 9 columns in 6204ms\n",
      "2025-06-13T22:55:59.894 +02:00 -|- FastTransfer -|- MSS22_to_MSS25 -|- INFORMATION -|- tpch_test.dbo.orders_3 -|- Completed Load Query 10 for o_orderkey between 40319809 and 44350019 : 937501 rows x 9 columns in 6222ms\n",
      "2025-06-13T22:55:59.917 +02:00 -|- FastTransfer -|- MSS22_to_MSS25 -|- INFORMATION -|- tpch_test.dbo.orders_3 -|- Completed Load Query 4 for o_orderkey between 16128902 and 20160199 : 937501 rows x 9 columns in 6246ms\n",
      "2025-06-13T22:55:59.963 +02:00 -|- FastTransfer -|- MSS22_to_MSS25 -|- INFORMATION -|- tpch_test.dbo.orders_3 -|- Completed Load Query 2 for o_orderkey between 8063200 and 12095555 : 937501 rows x 9 columns in 6292ms\n",
      "2025-06-13T22:55:59.974 +02:00 -|- FastTransfer -|- MSS22_to_MSS25 -|- INFORMATION -|- tpch_test.dbo.orders_3 -|- Completed Load Query 5 for o_orderkey between 20160224 and 24192837 : 937501 rows x 9 columns in 6303ms\n",
      "2025-06-13T22:55:59.986 +02:00 -|- FastTransfer -|- MSS22_to_MSS25 -|- INFORMATION -|- tpch_test.dbo.orders_3 -|- Completed Load Query 14 for o_orderkey between 56445282 and 66373955 : 937501 rows x 9 columns in 6314ms\n",
      "2025-06-13T22:56:00.072 +02:00 -|- FastTransfer -|- MSS22_to_MSS25 -|- INFORMATION -|- tpch_test.dbo.orders_3 -|- Completed Load Query 15 for o_orderkey between 66374081 and 119999974 : 937486 rows x 9 columns in 6399ms\n",
      "2025-06-13T22:56:00.093 +02:00 -|- FastTransfer -|- MSS22_to_MSS25 -|- INFORMATION -|- tpch_test.dbo.orders_3 -|- Completed Load Query 7 for o_orderkey between 28226535 and 32255681 : 937501 rows x 9 columns in 6422ms\n",
      "2025-06-13T22:56:00.375 +02:00 -|- FastTransfer -|- MSS22_to_MSS25 -|- INFORMATION -|- tpch_test.dbo.orders_3 -|- Completed Load Query 1 for o_orderkey between 4030402 and 8063175 : 937501 rows x 9 columns in 6704ms\n",
      "2025-06-13T22:56:00.375 +02:00 -|- FastTransfer -|- MSS22_to_MSS25 -|- INFORMATION -|- tpch_test.dbo.orders_3 -|- Total rows : 15000000\n",
      "2025-06-13T22:56:00.375 +02:00 -|- FastTransfer -|- MSS22_to_MSS25 -|- INFORMATION -|- tpch_test.dbo.orders_3 -|- Total columns : 9\n",
      "2025-06-13T22:56:00.375 +02:00 -|- FastTransfer -|- MSS22_to_MSS25 -|- INFORMATION -|- tpch_test.dbo.orders_3 -|- Total cells : 135000000\n",
      "2025-06-13T22:56:00.375 +02:00 -|- FastTransfer -|- MSS22_to_MSS25 -|- INFORMATION -|- tpch_test.dbo.orders_3 -|- Rows Throughput : 1866642 rows/s\n",
      "2025-06-13T22:56:00.375 +02:00 -|- FastTransfer -|- MSS22_to_MSS25 -|- INFORMATION -|- tpch_test.dbo.orders_3 -|- Cells Throughput : 16799794 cells/s\n",
      "2025-06-13T22:56:00.375 +02:00 -|- FastTransfer -|- MSS22_to_MSS25 -|- INFORMATION -|- tpch_test.dbo.orders_3 -|- Transfert time : Elapsed=8035 ms\n",
      "2025-06-13T22:56:00.375 +02:00 -|- FastTransfer -|- MSS22_to_MSS25 -|- INFORMATION -|- tpch_test.dbo.orders_3 -|- Total time : Elapsed=8239 ms\n",
      "2025-06-13T22:56:00.376 +02:00 -|- FastTransfer -|- MSS22_to_MSS25 -|- INFORMATION -|- tpch_test.dbo.orders_3 -|- Completed Load\n"
     ]
    }
   ],
   "source": [
    "\n",
    "cd D:\\FastTransfer\n",
    "\n",
    ".\\FastTransfer.exe `\n",
    "--sourceconnectiontype \"mssql\" `\n",
    "--sourceserver \"localhost\" `\n",
    "--sourcedatabase \"tpch10_collation_bin2\" `\n",
    "--sourcetrusted `\n",
    "--sourceschema \"dbo\" `\n",
    "--sourcetable \"orders_15M\" `\n",
    "`\n",
    "--targetconnectiontype \"msbulk\" `\n",
    "--targetserver \"localhost\\SS2025\" `\n",
    "--targettrusted `\n",
    "--targetdatabase \"tpch_test\" `\n",
    "--targetschema \"dbo\" `\n",
    "--targettable \"orders_3\" `\n",
    "`\n",
    "--loadmode \"Truncate\" `\n",
    "--mapmethod \"Name\" `\n",
    "--method \"Ntile\" `\n",
    "--distributekeycolumn \"o_orderkey\" `\n",
    "--degree -2 `\n",
    "--runid \"MSS22_to_MSS25\""
   ]
  },
  {
   "cell_type": "code",
   "execution_count": null,
   "id": "c2da48be",
   "metadata": {
    "polyglot_notebook": {
     "kernelName": "sql-SS2025_tpch_test"
    }
   },
   "outputs": [
    {
     "data": {
      "text/plain": [
       "(1 ligne affectée)"
      ]
     },
     "metadata": {},
     "output_type": "display_data"
    },
    {
     "data": {
      "text/csv": [
       "count_target_table_rows\r\n",
       "15,000,000\r\n"
      ],
      "text/html": [
       "<table><thead><tr><td><span>count_target_table_rows</span></td></tr></thead><tbody><tr><td>15,000,000</td></tr></tbody></table><style>\r\n",
       ".dni-code-hint {\r\n",
       "    font-style: italic;\r\n",
       "    overflow: hidden;\r\n",
       "    white-space: nowrap;\r\n",
       "}\r\n",
       ".dni-treeview {\r\n",
       "    white-space: nowrap;\r\n",
       "}\r\n",
       ".dni-treeview td {\r\n",
       "    vertical-align: top;\r\n",
       "    text-align: start;\r\n",
       "}\r\n",
       "details.dni-treeview {\r\n",
       "    padding-left: 1em;\r\n",
       "}\r\n",
       "table td {\r\n",
       "    text-align: start;\r\n",
       "}\r\n",
       "table tr { \r\n",
       "    vertical-align: top; \r\n",
       "    margin: 0em 0px;\r\n",
       "}\r\n",
       "table tr td pre \r\n",
       "{ \r\n",
       "    vertical-align: top !important; \r\n",
       "    margin: 0em 0px !important;\r\n",
       "} \r\n",
       "table th {\r\n",
       "    text-align: start;\r\n",
       "}\r\n",
       "</style>"
      ]
     },
     "metadata": {},
     "output_type": "display_data"
    }
   ],
   "source": [
    "SELECT FORMAT(count(*),'###,###,###') count_target_table_rows from orders_3;"
   ]
  },
  {
   "cell_type": "markdown",
   "id": "ce045f68",
   "metadata": {},
   "source": [
    "#### Target orders_4_no_index : Heap Table"
   ]
  },
  {
   "cell_type": "code",
   "execution_count": null,
   "id": "0374251a",
   "metadata": {
    "polyglot_notebook": {
     "kernelName": "sql-SS2025_tpch_test"
    }
   },
   "outputs": [
    {
     "data": {
      "text/plain": [
       "(0 lignes affectées)"
      ]
     },
     "metadata": {},
     "output_type": "display_data"
    },
    {
     "data": {
      "text/plain": [
       "(1 ligne affectée)"
      ]
     },
     "metadata": {},
     "output_type": "display_data"
    },
    {
     "data": {
      "text/csv": [
       "count_orders_4_no_index\r\n",
       "\r\n"
      ],
      "text/html": [
       "<table><thead><tr><td><span>count_orders_4_no_index</span></td></tr></thead><tbody><tr><td></td></tr></tbody></table><style>\r\n",
       ".dni-code-hint {\r\n",
       "    font-style: italic;\r\n",
       "    overflow: hidden;\r\n",
       "    white-space: nowrap;\r\n",
       "}\r\n",
       ".dni-treeview {\r\n",
       "    white-space: nowrap;\r\n",
       "}\r\n",
       ".dni-treeview td {\r\n",
       "    vertical-align: top;\r\n",
       "    text-align: start;\r\n",
       "}\r\n",
       "details.dni-treeview {\r\n",
       "    padding-left: 1em;\r\n",
       "}\r\n",
       "table td {\r\n",
       "    text-align: start;\r\n",
       "}\r\n",
       "table tr { \r\n",
       "    vertical-align: top; \r\n",
       "    margin: 0em 0px;\r\n",
       "}\r\n",
       "table tr td pre \r\n",
       "{ \r\n",
       "    vertical-align: top !important; \r\n",
       "    margin: 0em 0px !important;\r\n",
       "} \r\n",
       "table th {\r\n",
       "    text-align: start;\r\n",
       "}\r\n",
       "</style>"
      ]
     },
     "metadata": {},
     "output_type": "display_data"
    }
   ],
   "source": [
    "DROP TABLE IF EXISTS orders_4_no_index;\n",
    "\n",
    "SELECT * \n",
    "INTO orders_4_no_index\n",
    "FROM orders_3\n",
    "WHERE 1=0;\n",
    "\n",
    "SELECT FORMAT(count(*),'###,###,###') count_orders_4_no_index from orders_4_no_index;"
   ]
  },
  {
   "cell_type": "code",
   "execution_count": null,
   "id": "e594e80e",
   "metadata": {
    "polyglot_notebook": {
     "kernelName": "pwsh"
    }
   },
   "outputs": [
    {
     "name": "stdout",
     "output_type": "stream",
     "text": [
      "2025-06-13T22:56:02.034 +02:00 -|- FastTransfer -|- MSS22_to_MSS25 -|- INFORMATION -|- tpch_test.dbo.orders_4_no_index -|- Starting\n",
      "2025-06-13T22:56:02.043 +02:00 -|- FastTransfer -|- MSS22_to_MSS25 -|- INFORMATION -|- tpch_test.dbo.orders_4_no_index -|- FastTransfer Version : 0.13.4.0 Architecture : X64 - Framework : .NET 8.0.15\n",
      "2025-06-13T22:56:02.044 +02:00 -|- FastTransfer -|- MSS22_to_MSS25 -|- INFORMATION -|- tpch_test.dbo.orders_4_no_index -|- OS : Microsoft Windows 10.0.26100\n",
      "2025-06-13T22:56:02.044 +02:00 -|- FastTransfer -|- MSS22_to_MSS25 -|- INFORMATION -|- tpch_test.dbo.orders_4_no_index -|- Process ID : 3564\n",
      "2025-06-13T22:56:02.044 +02:00 -|- FastTransfer -|- MSS22_to_MSS25 -|- INFORMATION -|- tpch_test.dbo.orders_4_no_index -|- Provided Run ID : MSS22_to_MSS25\n",
      "2025-06-13T22:56:02.044 +02:00 -|- FastTransfer -|- MSS22_to_MSS25 -|- INFORMATION -|- tpch_test.dbo.orders_4_no_index -|- Source Connection Type : mssql\n",
      "2025-06-13T22:56:02.044 +02:00 -|- FastTransfer -|- MSS22_to_MSS25 -|- INFORMATION -|- tpch_test.dbo.orders_4_no_index -|- Source SqlInstance : localhost\n",
      "2025-06-13T22:56:02.044 +02:00 -|- FastTransfer -|- MSS22_to_MSS25 -|- INFORMATION -|- tpch_test.dbo.orders_4_no_index -|- Source Database : tpch10_collation_bin2\n",
      "2025-06-13T22:56:02.044 +02:00 -|- FastTransfer -|- MSS22_to_MSS25 -|- INFORMATION -|- tpch_test.dbo.orders_4_no_index -|- Source Trusted Connection : True\n",
      "2025-06-13T22:56:02.044 +02:00 -|- FastTransfer -|- MSS22_to_MSS25 -|- INFORMATION -|- tpch_test.dbo.orders_4_no_index -|- Source Schema : dbo\n",
      "2025-06-13T22:56:02.044 +02:00 -|- FastTransfer -|- MSS22_to_MSS25 -|- INFORMATION -|- tpch_test.dbo.orders_4_no_index -|- Source Table : orders_15M\n",
      "2025-06-13T22:56:02.044 +02:00 -|- FastTransfer -|- MSS22_to_MSS25 -|- INFORMATION -|- tpch_test.dbo.orders_4_no_index -|- Target Type : msbulk\n",
      "2025-06-13T22:56:02.044 +02:00 -|- FastTransfer -|- MSS22_to_MSS25 -|- INFORMATION -|- tpch_test.dbo.orders_4_no_index -|- Target Server : localhost\\SS2025\n",
      "2025-06-13T22:56:02.044 +02:00 -|- FastTransfer -|- MSS22_to_MSS25 -|- INFORMATION -|- tpch_test.dbo.orders_4_no_index -|- Target Database : tpch_test\n",
      "2025-06-13T22:56:02.044 +02:00 -|- FastTransfer -|- MSS22_to_MSS25 -|- INFORMATION -|- tpch_test.dbo.orders_4_no_index -|- Target Schema : dbo\n",
      "2025-06-13T22:56:02.044 +02:00 -|- FastTransfer -|- MSS22_to_MSS25 -|- INFORMATION -|- tpch_test.dbo.orders_4_no_index -|- Target Table : orders_4_no_index\n",
      "2025-06-13T22:56:02.044 +02:00 -|- FastTransfer -|- MSS22_to_MSS25 -|- INFORMATION -|- tpch_test.dbo.orders_4_no_index -|- Target Trusted Connection : True\n",
      "2025-06-13T22:56:02.044 +02:00 -|- FastTransfer -|- MSS22_to_MSS25 -|- INFORMATION -|- tpch_test.dbo.orders_4_no_index -|- Columns Map Method : Name\n",
      "2025-06-13T22:56:02.045 +02:00 -|- FastTransfer -|- MSS22_to_MSS25 -|- INFORMATION -|- tpch_test.dbo.orders_4_no_index -|- Degree : -2\n",
      "2025-06-13T22:56:02.045 +02:00 -|- FastTransfer -|- MSS22_to_MSS25 -|- INFORMATION -|- tpch_test.dbo.orders_4_no_index -|- Distribute Method : Ntile\n",
      "2025-06-13T22:56:02.045 +02:00 -|- FastTransfer -|- MSS22_to_MSS25 -|- INFORMATION -|- tpch_test.dbo.orders_4_no_index -|- Distribute Column : o_orderkey\n",
      "2025-06-13T22:56:02.045 +02:00 -|- FastTransfer -|- MSS22_to_MSS25 -|- INFORMATION -|- tpch_test.dbo.orders_4_no_index -|- Bulkcopy Batch Size : 1048576\n",
      "2025-06-13T22:56:02.045 +02:00 -|- FastTransfer -|- MSS22_to_MSS25 -|- INFORMATION -|- tpch_test.dbo.orders_4_no_index -|- Load Mode : Truncate\n",
      "2025-06-13T22:56:02.045 +02:00 -|- FastTransfer -|- MSS22_to_MSS25 -|- INFORMATION -|- tpch_test.dbo.orders_4_no_index -|- Use Work Tables : False\n",
      "2025-06-13T22:56:02.045 +02:00 -|- FastTransfer -|- MSS22_to_MSS25 -|- INFORMATION -|- tpch_test.dbo.orders_4_no_index -|- Encoding used : Unicode (UTF-8) - 65001 - utf-8\n",
      "2025-06-13T22:56:02.064 +02:00 -|- FastTransfer -|- MSS22_to_MSS25 -|- INFORMATION -|- tpch_test.dbo.orders_4_no_index -|- Source Connection String : Data Source=localhost;Initial Catalog=tpch10_collation_bin2;Integrated Security=True;Connect Timeout=120;Encrypt=True;Trust Server Certificate=True;Application Name=FastTransfer;Application Intent=ReadOnly;Command Timeout=10800\n",
      "2025-06-13T22:56:02.064 +02:00 -|- FastTransfer -|- MSS22_to_MSS25 -|- INFORMATION -|- tpch_test.dbo.orders_4_no_index -|- Target Connection String : Data Source=localhost\\SS2025;Initial Catalog=tpch_test;Integrated Security=True;Connect Timeout=120;Encrypt=True;Trust Server Certificate=True;Application Name=FastTransfer;Application Intent=ReadWrite;Command Timeout=10800\n",
      "2025-06-13T22:56:02.064 +02:00 -|- FastTransfer -|- MSS22_to_MSS25 -|- INFORMATION -|- tpch_test.dbo.orders_4_no_index -|- Source Database Version : Microsoft SQL Server 2022 (RTM-CU17) (KB5048038) - 16.0.4175.1 (X64)  \tDec 13 2024 09:01:53  \tCopyright (C) 2022 Microsoft Corporation \tDeveloper Edition (64-bit) on Windows 10 Pro 10.0 <X64> (Build 26100: ) (Hypervisor) \n",
      "2025-06-13T22:56:02.064 +02:00 -|- FastTransfer -|- MSS22_to_MSS25 -|- INFORMATION -|- tpch_test.dbo.orders_4_no_index -|- Target Database Version : Microsoft SQL Server 2025 (CTP2.0) - 17.0.700.9 (X64)  \tMay  8 2025 19:14:27  \tCopyright (C) 2025 Microsoft Corporation \tEnterprise Developer Edition (64-bit) on Windows 10 Pro 10.0 <X64> (Build 26100: ) (Hypervisor) \n",
      "2025-06-13T22:56:02.069 +02:00 -|- FastTransfer -|- MSS22_to_MSS25 -|- INFORMATION -|- tpch_test.dbo.orders_4_no_index -|- Degree of parallelism was computed to 16 (=> 32\\2)\n",
      "2025-06-13T22:56:03.393 +02:00 -|- FastTransfer -|- MSS22_to_MSS25 -|- INFORMATION -|- tpch_test.dbo.orders_4_no_index -|- Ntile DataSegments Computation Completed in 1323 ms\n",
      "2025-06-13T22:56:03.396 +02:00 -|- FastTransfer -|- MSS22_to_MSS25 -|- INFORMATION -|- tpch_test.dbo.orders_4_no_index -|- Start Loading Data using distribution method NTile\n",
      "2025-06-13T22:56:03.397 +02:00 -|- FastTransfer -|- MSS22_to_MSS25 -|- INFORMATION -|- tpch_test.dbo.orders_4_no_index -|- Table \"dbo\".\"orders_4_no_index\" has no Clustered Index. BulkCopy will use KeepNulls and UseInternalTransaction and Tablock\n",
      "2025-06-13T22:56:03.397 +02:00 -|- FastTransfer -|- MSS22_to_MSS25 -|- INFORMATION -|- tpch_test.dbo.orders_4_no_index -|- BulkCopy to \"dbo\".\"orders_4_no_index\" with BatchSize = 1048576, Timeout = 3600\n",
      "2025-06-13T22:56:03.400 +02:00 -|- FastTransfer -|- MSS22_to_MSS25 -|- WARNING -|- tpch_test.dbo.orders_4_no_index -|- Only 9 out of 10 columns were mapped by name to the target table \"dbo\".\"orders_4_no_index\"\n",
      "2025-06-13T22:56:03.405 +02:00 -|- FastTransfer -|- MSS22_to_MSS25 -|- INFORMATION -|- tpch_test.dbo.orders_4_no_index -|- Start Loading Data using distribution method NTile\n",
      "2025-06-13T22:56:03.405 +02:00 -|- FastTransfer -|- MSS22_to_MSS25 -|- INFORMATION -|- tpch_test.dbo.orders_4_no_index -|- Table \"dbo\".\"orders_4_no_index\" has no Clustered Index. BulkCopy will use KeepNulls and UseInternalTransaction and Tablock\n",
      "2025-06-13T22:56:03.405 +02:00 -|- FastTransfer -|- MSS22_to_MSS25 -|- INFORMATION -|- tpch_test.dbo.orders_4_no_index -|- BulkCopy to \"dbo\".\"orders_4_no_index\" with BatchSize = 1048576, Timeout = 3600\n",
      "2025-06-13T22:56:03.406 +02:00 -|- FastTransfer -|- MSS22_to_MSS25 -|- WARNING -|- tpch_test.dbo.orders_4_no_index -|- Only 9 out of 10 columns were mapped by name to the target table \"dbo\".\"orders_4_no_index\"\n",
      "2025-06-13T22:56:03.407 +02:00 -|- FastTransfer -|- MSS22_to_MSS25 -|- INFORMATION -|- tpch_test.dbo.orders_4_no_index -|- Start Loading Data using distribution method NTile\n",
      "2025-06-13T22:56:03.407 +02:00 -|- FastTransfer -|- MSS22_to_MSS25 -|- INFORMATION -|- tpch_test.dbo.orders_4_no_index -|- Table \"dbo\".\"orders_4_no_index\" has no Clustered Index. BulkCopy will use KeepNulls and UseInternalTransaction and Tablock\n",
      "2025-06-13T22:56:03.407 +02:00 -|- FastTransfer -|- MSS22_to_MSS25 -|- INFORMATION -|- tpch_test.dbo.orders_4_no_index -|- BulkCopy to \"dbo\".\"orders_4_no_index\" with BatchSize = 1048576, Timeout = 3600\n",
      "2025-06-13T22:56:03.409 +02:00 -|- FastTransfer -|- MSS22_to_MSS25 -|- WARNING -|- tpch_test.dbo.orders_4_no_index -|- Only 9 out of 10 columns were mapped by name to the target table \"dbo\".\"orders_4_no_index\"\n",
      "2025-06-13T22:56:03.412 +02:00 -|- FastTransfer -|- MSS22_to_MSS25 -|- INFORMATION -|- tpch_test.dbo.orders_4_no_index -|- Start Loading Data using distribution method NTile\n",
      "2025-06-13T22:56:03.413 +02:00 -|- FastTransfer -|- MSS22_to_MSS25 -|- INFORMATION -|- tpch_test.dbo.orders_4_no_index -|- Table \"dbo\".\"orders_4_no_index\" has no Clustered Index. BulkCopy will use KeepNulls and UseInternalTransaction and Tablock\n",
      "2025-06-13T22:56:03.413 +02:00 -|- FastTransfer -|- MSS22_to_MSS25 -|- INFORMATION -|- tpch_test.dbo.orders_4_no_index -|- BulkCopy to \"dbo\".\"orders_4_no_index\" with BatchSize = 1048576, Timeout = 3600\n",
      "2025-06-13T22:56:03.414 +02:00 -|- FastTransfer -|- MSS22_to_MSS25 -|- WARNING -|- tpch_test.dbo.orders_4_no_index -|- Only 9 out of 10 columns were mapped by name to the target table \"dbo\".\"orders_4_no_index\"\n",
      "2025-06-13T22:56:03.415 +02:00 -|- FastTransfer -|- MSS22_to_MSS25 -|- INFORMATION -|- tpch_test.dbo.orders_4_no_index -|- Start Loading Data using distribution method NTile\n",
      "2025-06-13T22:56:03.415 +02:00 -|- FastTransfer -|- MSS22_to_MSS25 -|- INFORMATION -|- tpch_test.dbo.orders_4_no_index -|- Table \"dbo\".\"orders_4_no_index\" has no Clustered Index. BulkCopy will use KeepNulls and UseInternalTransaction and Tablock\n",
      "2025-06-13T22:56:03.415 +02:00 -|- FastTransfer -|- MSS22_to_MSS25 -|- INFORMATION -|- tpch_test.dbo.orders_4_no_index -|- BulkCopy to \"dbo\".\"orders_4_no_index\" with BatchSize = 1048576, Timeout = 3600\n",
      "2025-06-13T22:56:03.416 +02:00 -|- FastTransfer -|- MSS22_to_MSS25 -|- WARNING -|- tpch_test.dbo.orders_4_no_index -|- Only 9 out of 10 columns were mapped by name to the target table \"dbo\".\"orders_4_no_index\"\n",
      "2025-06-13T22:56:03.421 +02:00 -|- FastTransfer -|- MSS22_to_MSS25 -|- INFORMATION -|- tpch_test.dbo.orders_4_no_index -|- Start Loading Data using distribution method NTile\n",
      "2025-06-13T22:56:03.422 +02:00 -|- FastTransfer -|- MSS22_to_MSS25 -|- INFORMATION -|- tpch_test.dbo.orders_4_no_index -|- Table \"dbo\".\"orders_4_no_index\" has no Clustered Index. BulkCopy will use KeepNulls and UseInternalTransaction and Tablock\n",
      "2025-06-13T22:56:03.422 +02:00 -|- FastTransfer -|- MSS22_to_MSS25 -|- INFORMATION -|- tpch_test.dbo.orders_4_no_index -|- BulkCopy to \"dbo\".\"orders_4_no_index\" with BatchSize = 1048576, Timeout = 3600\n",
      "2025-06-13T22:56:03.423 +02:00 -|- FastTransfer -|- MSS22_to_MSS25 -|- WARNING -|- tpch_test.dbo.orders_4_no_index -|- Only 9 out of 10 columns were mapped by name to the target table \"dbo\".\"orders_4_no_index\"\n",
      "2025-06-13T22:56:03.424 +02:00 -|- FastTransfer -|- MSS22_to_MSS25 -|- INFORMATION -|- tpch_test.dbo.orders_4_no_index -|- Start Loading Data using distribution method NTile\n",
      "2025-06-13T22:56:03.424 +02:00 -|- FastTransfer -|- MSS22_to_MSS25 -|- INFORMATION -|- tpch_test.dbo.orders_4_no_index -|- Table \"dbo\".\"orders_4_no_index\" has no Clustered Index. BulkCopy will use KeepNulls and UseInternalTransaction and Tablock\n",
      "2025-06-13T22:56:03.424 +02:00 -|- FastTransfer -|- MSS22_to_MSS25 -|- INFORMATION -|- tpch_test.dbo.orders_4_no_index -|- BulkCopy to \"dbo\".\"orders_4_no_index\" with BatchSize = 1048576, Timeout = 3600\n",
      "2025-06-13T22:56:03.426 +02:00 -|- FastTransfer -|- MSS22_to_MSS25 -|- WARNING -|- tpch_test.dbo.orders_4_no_index -|- Only 9 out of 10 columns were mapped by name to the target table \"dbo\".\"orders_4_no_index\"\n",
      "2025-06-13T22:56:03.427 +02:00 -|- FastTransfer -|- MSS22_to_MSS25 -|- INFORMATION -|- tpch_test.dbo.orders_4_no_index -|- Start Loading Data using distribution method NTile\n",
      "2025-06-13T22:56:03.427 +02:00 -|- FastTransfer -|- MSS22_to_MSS25 -|- INFORMATION -|- tpch_test.dbo.orders_4_no_index -|- Table \"dbo\".\"orders_4_no_index\" has no Clustered Index. BulkCopy will use KeepNulls and UseInternalTransaction and Tablock\n",
      "2025-06-13T22:56:03.427 +02:00 -|- FastTransfer -|- MSS22_to_MSS25 -|- INFORMATION -|- tpch_test.dbo.orders_4_no_index -|- BulkCopy to \"dbo\".\"orders_4_no_index\" with BatchSize = 1048576, Timeout = 3600\n",
      "2025-06-13T22:56:03.429 +02:00 -|- FastTransfer -|- MSS22_to_MSS25 -|- WARNING -|- tpch_test.dbo.orders_4_no_index -|- Only 9 out of 10 columns were mapped by name to the target table \"dbo\".\"orders_4_no_index\"\n",
      "2025-06-13T22:56:03.433 +02:00 -|- FastTransfer -|- MSS22_to_MSS25 -|- INFORMATION -|- tpch_test.dbo.orders_4_no_index -|- Start Loading Data using distribution method NTile\n",
      "2025-06-13T22:56:03.433 +02:00 -|- FastTransfer -|- MSS22_to_MSS25 -|- INFORMATION -|- tpch_test.dbo.orders_4_no_index -|- Table \"dbo\".\"orders_4_no_index\" has no Clustered Index. BulkCopy will use KeepNulls and UseInternalTransaction and Tablock\n",
      "2025-06-13T22:56:03.433 +02:00 -|- FastTransfer -|- MSS22_to_MSS25 -|- INFORMATION -|- tpch_test.dbo.orders_4_no_index -|- BulkCopy to \"dbo\".\"orders_4_no_index\" with BatchSize = 1048576, Timeout = 3600\n",
      "2025-06-13T22:56:03.435 +02:00 -|- FastTransfer -|- MSS22_to_MSS25 -|- WARNING -|- tpch_test.dbo.orders_4_no_index -|- Only 9 out of 10 columns were mapped by name to the target table \"dbo\".\"orders_4_no_index\"\n",
      "2025-06-13T22:56:03.437 +02:00 -|- FastTransfer -|- MSS22_to_MSS25 -|- INFORMATION -|- tpch_test.dbo.orders_4_no_index -|- Start Loading Data using distribution method NTile\n",
      "2025-06-13T22:56:03.437 +02:00 -|- FastTransfer -|- MSS22_to_MSS25 -|- INFORMATION -|- tpch_test.dbo.orders_4_no_index -|- Table \"dbo\".\"orders_4_no_index\" has no Clustered Index. BulkCopy will use KeepNulls and UseInternalTransaction and Tablock\n",
      "2025-06-13T22:56:03.437 +02:00 -|- FastTransfer -|- MSS22_to_MSS25 -|- INFORMATION -|- tpch_test.dbo.orders_4_no_index -|- BulkCopy to \"dbo\".\"orders_4_no_index\" with BatchSize = 1048576, Timeout = 3600\n",
      "2025-06-13T22:56:03.439 +02:00 -|- FastTransfer -|- MSS22_to_MSS25 -|- WARNING -|- tpch_test.dbo.orders_4_no_index -|- Only 9 out of 10 columns were mapped by name to the target table \"dbo\".\"orders_4_no_index\"\n",
      "2025-06-13T22:56:03.450 +02:00 -|- FastTransfer -|- MSS22_to_MSS25 -|- INFORMATION -|- tpch_test.dbo.orders_4_no_index -|- Start Loading Data using distribution method NTile\n",
      "2025-06-13T22:56:03.451 +02:00 -|- FastTransfer -|- MSS22_to_MSS25 -|- INFORMATION -|- tpch_test.dbo.orders_4_no_index -|- Table \"dbo\".\"orders_4_no_index\" has no Clustered Index. BulkCopy will use KeepNulls and UseInternalTransaction and Tablock\n",
      "2025-06-13T22:56:03.451 +02:00 -|- FastTransfer -|- MSS22_to_MSS25 -|- INFORMATION -|- tpch_test.dbo.orders_4_no_index -|- BulkCopy to \"dbo\".\"orders_4_no_index\" with BatchSize = 1048576, Timeout = 3600\n",
      "2025-06-13T22:56:03.453 +02:00 -|- FastTransfer -|- MSS22_to_MSS25 -|- WARNING -|- tpch_test.dbo.orders_4_no_index -|- Only 9 out of 10 columns were mapped by name to the target table \"dbo\".\"orders_4_no_index\"\n",
      "2025-06-13T22:56:03.459 +02:00 -|- FastTransfer -|- MSS22_to_MSS25 -|- INFORMATION -|- tpch_test.dbo.orders_4_no_index -|- Start Loading Data using distribution method NTile\n",
      "2025-06-13T22:56:03.460 +02:00 -|- FastTransfer -|- MSS22_to_MSS25 -|- INFORMATION -|- tpch_test.dbo.orders_4_no_index -|- Table \"dbo\".\"orders_4_no_index\" has no Clustered Index. BulkCopy will use KeepNulls and UseInternalTransaction and Tablock\n",
      "2025-06-13T22:56:03.460 +02:00 -|- FastTransfer -|- MSS22_to_MSS25 -|- INFORMATION -|- tpch_test.dbo.orders_4_no_index -|- BulkCopy to \"dbo\".\"orders_4_no_index\" with BatchSize = 1048576, Timeout = 3600\n",
      "2025-06-13T22:56:03.462 +02:00 -|- FastTransfer -|- MSS22_to_MSS25 -|- WARNING -|- tpch_test.dbo.orders_4_no_index -|- Only 9 out of 10 columns were mapped by name to the target table \"dbo\".\"orders_4_no_index\"\n",
      "2025-06-13T22:56:03.466 +02:00 -|- FastTransfer -|- MSS22_to_MSS25 -|- INFORMATION -|- tpch_test.dbo.orders_4_no_index -|- Start Loading Data using distribution method NTile\n",
      "2025-06-13T22:56:03.466 +02:00 -|- FastTransfer -|- MSS22_to_MSS25 -|- INFORMATION -|- tpch_test.dbo.orders_4_no_index -|- Table \"dbo\".\"orders_4_no_index\" has no Clustered Index. BulkCopy will use KeepNulls and UseInternalTransaction and Tablock\n",
      "2025-06-13T22:56:03.466 +02:00 -|- FastTransfer -|- MSS22_to_MSS25 -|- INFORMATION -|- tpch_test.dbo.orders_4_no_index -|- BulkCopy to \"dbo\".\"orders_4_no_index\" with BatchSize = 1048576, Timeout = 3600\n",
      "2025-06-13T22:56:03.468 +02:00 -|- FastTransfer -|- MSS22_to_MSS25 -|- WARNING -|- tpch_test.dbo.orders_4_no_index -|- Only 9 out of 10 columns were mapped by name to the target table \"dbo\".\"orders_4_no_index\"\n",
      "2025-06-13T22:56:03.471 +02:00 -|- FastTransfer -|- MSS22_to_MSS25 -|- INFORMATION -|- tpch_test.dbo.orders_4_no_index -|- Start Loading Data using distribution method NTile\n",
      "2025-06-13T22:56:03.471 +02:00 -|- FastTransfer -|- MSS22_to_MSS25 -|- INFORMATION -|- tpch_test.dbo.orders_4_no_index -|- Table \"dbo\".\"orders_4_no_index\" has no Clustered Index. BulkCopy will use KeepNulls and UseInternalTransaction and Tablock\n",
      "2025-06-13T22:56:03.471 +02:00 -|- FastTransfer -|- MSS22_to_MSS25 -|- INFORMATION -|- tpch_test.dbo.orders_4_no_index -|- BulkCopy to \"dbo\".\"orders_4_no_index\" with BatchSize = 1048576, Timeout = 3600\n",
      "2025-06-13T22:56:03.473 +02:00 -|- FastTransfer -|- MSS22_to_MSS25 -|- WARNING -|- tpch_test.dbo.orders_4_no_index -|- Only 9 out of 10 columns were mapped by name to the target table \"dbo\".\"orders_4_no_index\"\n",
      "2025-06-13T22:56:03.479 +02:00 -|- FastTransfer -|- MSS22_to_MSS25 -|- INFORMATION -|- tpch_test.dbo.orders_4_no_index -|- Start Loading Data using distribution method NTile\n",
      "2025-06-13T22:56:03.479 +02:00 -|- FastTransfer -|- MSS22_to_MSS25 -|- INFORMATION -|- tpch_test.dbo.orders_4_no_index -|- Table \"dbo\".\"orders_4_no_index\" has no Clustered Index. BulkCopy will use KeepNulls and UseInternalTransaction and Tablock\n",
      "2025-06-13T22:56:03.479 +02:00 -|- FastTransfer -|- MSS22_to_MSS25 -|- INFORMATION -|- tpch_test.dbo.orders_4_no_index -|- BulkCopy to \"dbo\".\"orders_4_no_index\" with BatchSize = 1048576, Timeout = 3600\n",
      "2025-06-13T22:56:03.481 +02:00 -|- FastTransfer -|- MSS22_to_MSS25 -|- WARNING -|- tpch_test.dbo.orders_4_no_index -|- Only 9 out of 10 columns were mapped by name to the target table \"dbo\".\"orders_4_no_index\"\n",
      "2025-06-13T22:56:03.482 +02:00 -|- FastTransfer -|- MSS22_to_MSS25 -|- INFORMATION -|- tpch_test.dbo.orders_4_no_index -|- Start Loading Data using distribution method NTile\n",
      "2025-06-13T22:56:03.482 +02:00 -|- FastTransfer -|- MSS22_to_MSS25 -|- INFORMATION -|- tpch_test.dbo.orders_4_no_index -|- Table \"dbo\".\"orders_4_no_index\" has no Clustered Index. BulkCopy will use KeepNulls and UseInternalTransaction and Tablock\n",
      "2025-06-13T22:56:03.482 +02:00 -|- FastTransfer -|- MSS22_to_MSS25 -|- INFORMATION -|- tpch_test.dbo.orders_4_no_index -|- BulkCopy to \"dbo\".\"orders_4_no_index\" with BatchSize = 1048576, Timeout = 3600\n",
      "2025-06-13T22:56:03.484 +02:00 -|- FastTransfer -|- MSS22_to_MSS25 -|- WARNING -|- tpch_test.dbo.orders_4_no_index -|- Only 9 out of 10 columns were mapped by name to the target table \"dbo\".\"orders_4_no_index\"\n",
      "2025-06-13T22:56:07.247 +02:00 -|- FastTransfer -|- MSS22_to_MSS25 -|- INFORMATION -|- tpch_test.dbo.orders_4_no_index -|- Completed Load Query 2 for o_orderkey between 8063200 and 12095555 : 937501 rows x 9 columns in 3851ms\n",
      "2025-06-13T22:56:07.327 +02:00 -|- FastTransfer -|- MSS22_to_MSS25 -|- INFORMATION -|- tpch_test.dbo.orders_4_no_index -|- Completed Load Query 0 for o_orderkey between 1 and 4030401 : 937500 rows x 9 columns in 3931ms\n",
      "2025-06-13T22:56:07.336 +02:00 -|- FastTransfer -|- MSS22_to_MSS25 -|- INFORMATION -|- tpch_test.dbo.orders_4_no_index -|- Completed Load Query 12 for o_orderkey between 48381670 and 52413159 : 937501 rows x 9 columns in 3939ms\n",
      "2025-06-13T22:56:07.343 +02:00 -|- FastTransfer -|- MSS22_to_MSS25 -|- INFORMATION -|- tpch_test.dbo.orders_4_no_index -|- Completed Load Query 1 for o_orderkey between 4030402 and 8063175 : 937501 rows x 9 columns in 3947ms\n",
      "2025-06-13T22:56:07.361 +02:00 -|- FastTransfer -|- MSS22_to_MSS25 -|- INFORMATION -|- tpch_test.dbo.orders_4_no_index -|- Completed Load Query 11 for o_orderkey between 44350020 and 48381669 : 937501 rows x 9 columns in 3965ms\n",
      "2025-06-13T22:56:07.364 +02:00 -|- FastTransfer -|- MSS22_to_MSS25 -|- INFORMATION -|- tpch_test.dbo.orders_4_no_index -|- Completed Load Query 4 for o_orderkey between 16128902 and 20160199 : 937501 rows x 9 columns in 3968ms\n",
      "2025-06-13T22:56:07.364 +02:00 -|- FastTransfer -|- MSS22_to_MSS25 -|- INFORMATION -|- tpch_test.dbo.orders_4_no_index -|- Completed Load Query 14 for o_orderkey between 56445282 and 66373955 : 937501 rows x 9 columns in 3966ms\n",
      "2025-06-13T22:56:07.375 +02:00 -|- FastTransfer -|- MSS22_to_MSS25 -|- INFORMATION -|- tpch_test.dbo.orders_4_no_index -|- Completed Load Query 7 for o_orderkey between 28226535 and 32255681 : 937501 rows x 9 columns in 3979ms\n",
      "2025-06-13T22:56:07.394 +02:00 -|- FastTransfer -|- MSS22_to_MSS25 -|- INFORMATION -|- tpch_test.dbo.orders_4_no_index -|- Completed Load Query 9 for o_orderkey between 36288230 and 40319808 : 937501 rows x 9 columns in 3998ms\n",
      "2025-06-13T22:56:07.394 +02:00 -|- FastTransfer -|- MSS22_to_MSS25 -|- INFORMATION -|- tpch_test.dbo.orders_4_no_index -|- Completed Load Query 3 for o_orderkey between 12095556 and 16128901 : 937501 rows x 9 columns in 3998ms\n",
      "2025-06-13T22:56:07.403 +02:00 -|- FastTransfer -|- MSS22_to_MSS25 -|- INFORMATION -|- tpch_test.dbo.orders_4_no_index -|- Completed Load Query 8 for o_orderkey between 32255682 and 36288229 : 937501 rows x 9 columns in 4007ms\n",
      "2025-06-13T22:56:07.403 +02:00 -|- FastTransfer -|- MSS22_to_MSS25 -|- INFORMATION -|- tpch_test.dbo.orders_4_no_index -|- Completed Load Query 13 for o_orderkey between 52413184 and 56445281 : 937501 rows x 9 columns in 4006ms\n",
      "2025-06-13T22:56:07.425 +02:00 -|- FastTransfer -|- MSS22_to_MSS25 -|- INFORMATION -|- tpch_test.dbo.orders_4_no_index -|- Completed Load Query 10 for o_orderkey between 40319809 and 44350019 : 937501 rows x 9 columns in 4029ms\n",
      "2025-06-13T22:56:07.425 +02:00 -|- FastTransfer -|- MSS22_to_MSS25 -|- INFORMATION -|- tpch_test.dbo.orders_4_no_index -|- Completed Load Query 5 for o_orderkey between 20160224 and 24192837 : 937501 rows x 9 columns in 4029ms\n",
      "2025-06-13T22:56:07.436 +02:00 -|- FastTransfer -|- MSS22_to_MSS25 -|- INFORMATION -|- tpch_test.dbo.orders_4_no_index -|- Completed Load Query 6 for o_orderkey between 24192838 and 28226534 : 937501 rows x 9 columns in 4040ms\n",
      "2025-06-13T22:56:07.445 +02:00 -|- FastTransfer -|- MSS22_to_MSS25 -|- INFORMATION -|- tpch_test.dbo.orders_4_no_index -|- Completed Load Query 15 for o_orderkey between 66374081 and 119999974 : 937486 rows x 9 columns in 4048ms\n",
      "2025-06-13T22:56:07.446 +02:00 -|- FastTransfer -|- MSS22_to_MSS25 -|- INFORMATION -|- tpch_test.dbo.orders_4_no_index -|- Total rows : 15000000\n",
      "2025-06-13T22:56:07.446 +02:00 -|- FastTransfer -|- MSS22_to_MSS25 -|- INFORMATION -|- tpch_test.dbo.orders_4_no_index -|- Total columns : 9\n",
      "2025-06-13T22:56:07.446 +02:00 -|- FastTransfer -|- MSS22_to_MSS25 -|- INFORMATION -|- tpch_test.dbo.orders_4_no_index -|- Total cells : 135000000\n",
      "2025-06-13T22:56:07.446 +02:00 -|- FastTransfer -|- MSS22_to_MSS25 -|- INFORMATION -|- tpch_test.dbo.orders_4_no_index -|- Rows Throughput : 2789604 rows/s\n",
      "2025-06-13T22:56:07.446 +02:00 -|- FastTransfer -|- MSS22_to_MSS25 -|- INFORMATION -|- tpch_test.dbo.orders_4_no_index -|- Cells Throughput : 25106464 cells/s\n",
      "2025-06-13T22:56:07.446 +02:00 -|- FastTransfer -|- MSS22_to_MSS25 -|- INFORMATION -|- tpch_test.dbo.orders_4_no_index -|- Transfert time : Elapsed=5377 ms\n",
      "2025-06-13T22:56:07.446 +02:00 -|- FastTransfer -|- MSS22_to_MSS25 -|- INFORMATION -|- tpch_test.dbo.orders_4_no_index -|- Total time : Elapsed=5579 ms\n",
      "2025-06-13T22:56:07.446 +02:00 -|- FastTransfer -|- MSS22_to_MSS25 -|- INFORMATION -|- tpch_test.dbo.orders_4_no_index -|- Completed Load\n"
     ]
    }
   ],
   "source": [
    "\n",
    "cd D:\\FastTransfer\n",
    "\n",
    ".\\FastTransfer.exe `\n",
    "--sourceconnectiontype \"mssql\" `\n",
    "--sourceserver \"localhost\" `\n",
    "--sourcedatabase \"tpch10_collation_bin2\" `\n",
    "--sourcetrusted `\n",
    "--sourceschema \"dbo\" `\n",
    "--sourcetable \"orders_15M\" `\n",
    "`\n",
    "--targetconnectiontype \"msbulk\" `\n",
    "--targetserver \"localhost\\SS2025\" `\n",
    "--targettrusted `\n",
    "--targetdatabase \"tpch_test\" `\n",
    "--targetschema \"dbo\" `\n",
    "--targettable \"orders_4_no_index\" `\n",
    "`\n",
    "--loadmode \"Truncate\" `\n",
    "--mapmethod \"Name\" `\n",
    "--method \"Ntile\" `\n",
    "--distributekeycolumn \"o_orderkey\" `\n",
    "--degree -2 `\n",
    "--runid \"MSS22_to_MSS25\""
   ]
  },
  {
   "cell_type": "code",
   "execution_count": null,
   "id": "5144fced",
   "metadata": {
    "polyglot_notebook": {
     "kernelName": "sql-SS2025_tpch_test"
    }
   },
   "outputs": [
    {
     "data": {
      "text/plain": [
       "(1 ligne affectée)"
      ]
     },
     "metadata": {},
     "output_type": "display_data"
    },
    {
     "data": {
      "text/csv": [
       "count_orders_4_no_index\r\n",
       "15,000,000\r\n"
      ],
      "text/html": [
       "<table><thead><tr><td><span>count_orders_4_no_index</span></td></tr></thead><tbody><tr><td>15,000,000</td></tr></tbody></table><style>\r\n",
       ".dni-code-hint {\r\n",
       "    font-style: italic;\r\n",
       "    overflow: hidden;\r\n",
       "    white-space: nowrap;\r\n",
       "}\r\n",
       ".dni-treeview {\r\n",
       "    white-space: nowrap;\r\n",
       "}\r\n",
       ".dni-treeview td {\r\n",
       "    vertical-align: top;\r\n",
       "    text-align: start;\r\n",
       "}\r\n",
       "details.dni-treeview {\r\n",
       "    padding-left: 1em;\r\n",
       "}\r\n",
       "table td {\r\n",
       "    text-align: start;\r\n",
       "}\r\n",
       "table tr { \r\n",
       "    vertical-align: top; \r\n",
       "    margin: 0em 0px;\r\n",
       "}\r\n",
       "table tr td pre \r\n",
       "{ \r\n",
       "    vertical-align: top !important; \r\n",
       "    margin: 0em 0px !important;\r\n",
       "} \r\n",
       "table th {\r\n",
       "    text-align: start;\r\n",
       "}\r\n",
       "</style>"
      ]
     },
     "metadata": {},
     "output_type": "display_data"
    }
   ],
   "source": [
    "\n",
    "SELECT FORMAT(count(*),'###,###,###') count_orders_4_no_index from orders_4_no_index;"
   ]
  },
  {
   "cell_type": "code",
   "execution_count": null,
   "id": "b9ef8968",
   "metadata": {
    "polyglot_notebook": {
     "kernelName": "sql-SS2025_tpch_test"
    }
   },
   "outputs": [
    {
     "data": {
      "text/plain": [
       "(5 lignes affectées)"
      ]
     },
     "metadata": {},
     "output_type": "display_data"
    },
    {
     "data": {
      "text/csv": [
       "o_orderkey,o_custkey,o_orderstatus,o_totalprice,o_orderdate,o_orderpriority,o_clerk,o_comment,o_shippriority,copydate\r\n",
       "3710661,1455427,O,146395.72,1995-09-25T00:00:00.0000000,\"3-MEDIUM       \",Clerk#000007408,\"instructions was furiously. even express packages run quickly. closely \",0,\r\n",
       "3710690,358060,O,197496.31,1998-02-26T00:00:00.0000000,\"3-MEDIUM       \",Clerk#000006584,\"unusual sheaves sleep express bold dep\",0,\r\n",
       "3710787,1408237,O,34145.37,1997-04-19T00:00:00.0000000,\"3-MEDIUM       \",Clerk#000001375,\"final pending theodolites according to the instructions \",0,\r\n",
       "3710819,1360567,O,141709.49,1996-07-26T00:00:00.0000000,\"3-MEDIUM       \",Clerk#000003885,\"carefully even dependencies wake fluffily fluffily special deposits. carefull\",0,\r\n",
       "3710854,831680,O,136011.72,1996-08-16T00:00:00.0000000,\"3-MEDIUM       \",Clerk#000002173,\"carefully regular braids use blithely. blithely ironic theod\",0,\r\n"
      ],
      "text/html": [
       "<table><thead><tr><td><span>o_orderkey</span></td><td><span>o_custkey</span></td><td><span>o_orderstatus</span></td><td><span>o_totalprice</span></td><td><span>o_orderdate</span></td><td><span>o_orderpriority</span></td><td><span>o_clerk</span></td><td><span>o_comment</span></td><td><span>o_shippriority</span></td><td><span>copydate</span></td></tr></thead><tbody><tr><td><div class=\"dni-plaintext\"><pre>3710661</pre></div></td><td><div class=\"dni-plaintext\"><pre>1455427</pre></div></td><td>O</td><td><div class=\"dni-plaintext\"><pre>146395.72</pre></div></td><td><span>1995-09-25 00:00:00Z</span></td><td>3-MEDIUM       </td><td>Clerk#000007408</td><td>instructions was furiously. even express packages run quickly. closely </td><td><div class=\"dni-plaintext\"><pre>0</pre></div></td><td><div class=\"dni-plaintext\"><pre>&lt;null&gt;</pre></div></td></tr><tr><td><div class=\"dni-plaintext\"><pre>3710690</pre></div></td><td><div class=\"dni-plaintext\"><pre>358060</pre></div></td><td>O</td><td><div class=\"dni-plaintext\"><pre>197496.31</pre></div></td><td><span>1998-02-26 00:00:00Z</span></td><td>3-MEDIUM       </td><td>Clerk#000006584</td><td>unusual sheaves sleep express bold dep</td><td><div class=\"dni-plaintext\"><pre>0</pre></div></td><td><div class=\"dni-plaintext\"><pre>&lt;null&gt;</pre></div></td></tr><tr><td><div class=\"dni-plaintext\"><pre>3710787</pre></div></td><td><div class=\"dni-plaintext\"><pre>1408237</pre></div></td><td>O</td><td><div class=\"dni-plaintext\"><pre>34145.37</pre></div></td><td><span>1997-04-19 00:00:00Z</span></td><td>3-MEDIUM       </td><td>Clerk#000001375</td><td>final pending theodolites according to the instructions </td><td><div class=\"dni-plaintext\"><pre>0</pre></div></td><td><div class=\"dni-plaintext\"><pre>&lt;null&gt;</pre></div></td></tr><tr><td><div class=\"dni-plaintext\"><pre>3710819</pre></div></td><td><div class=\"dni-plaintext\"><pre>1360567</pre></div></td><td>O</td><td><div class=\"dni-plaintext\"><pre>141709.49</pre></div></td><td><span>1996-07-26 00:00:00Z</span></td><td>3-MEDIUM       </td><td>Clerk#000003885</td><td>carefully even dependencies wake fluffily fluffily special deposits. carefull</td><td><div class=\"dni-plaintext\"><pre>0</pre></div></td><td><div class=\"dni-plaintext\"><pre>&lt;null&gt;</pre></div></td></tr><tr><td><div class=\"dni-plaintext\"><pre>3710854</pre></div></td><td><div class=\"dni-plaintext\"><pre>831680</pre></div></td><td>O</td><td><div class=\"dni-plaintext\"><pre>136011.72</pre></div></td><td><span>1996-08-16 00:00:00Z</span></td><td>3-MEDIUM       </td><td>Clerk#000002173</td><td>carefully regular braids use blithely. blithely ironic theod</td><td><div class=\"dni-plaintext\"><pre>0</pre></div></td><td><div class=\"dni-plaintext\"><pre>&lt;null&gt;</pre></div></td></tr></tbody></table><style>\r\n",
       ".dni-code-hint {\r\n",
       "    font-style: italic;\r\n",
       "    overflow: hidden;\r\n",
       "    white-space: nowrap;\r\n",
       "}\r\n",
       ".dni-treeview {\r\n",
       "    white-space: nowrap;\r\n",
       "}\r\n",
       ".dni-treeview td {\r\n",
       "    vertical-align: top;\r\n",
       "    text-align: start;\r\n",
       "}\r\n",
       "details.dni-treeview {\r\n",
       "    padding-left: 1em;\r\n",
       "}\r\n",
       "table td {\r\n",
       "    text-align: start;\r\n",
       "}\r\n",
       "table tr { \r\n",
       "    vertical-align: top; \r\n",
       "    margin: 0em 0px;\r\n",
       "}\r\n",
       "table tr td pre \r\n",
       "{ \r\n",
       "    vertical-align: top !important; \r\n",
       "    margin: 0em 0px !important;\r\n",
       "} \r\n",
       "table th {\r\n",
       "    text-align: start;\r\n",
       "}\r\n",
       "</style>"
      ]
     },
     "metadata": {},
     "output_type": "display_data"
    }
   ],
   "source": [
    "SELECT TOP 5 * from orders_4_no_index;"
   ]
  },
  {
   "cell_type": "code",
   "execution_count": null,
   "id": "67648669",
   "metadata": {
    "polyglot_notebook": {
     "kernelName": "sql-SS2025_tpch_test"
    }
   },
   "outputs": [
    {
     "data": {
      "text/plain": [
       "(0 lignes affectées)"
      ]
     },
     "metadata": {},
     "output_type": "display_data"
    },
    {
     "data": {
      "text/plain": [
       "(1 ligne affectée)"
      ]
     },
     "metadata": {},
     "output_type": "display_data"
    },
    {
     "data": {
      "text/csv": [
       "count_orders_6_classic_index\r\n",
       "0\r\n"
      ],
      "text/html": [
       "<table><thead><tr><td><span>count_orders_6_classic_index</span></td></tr></thead><tbody><tr><td><div class=\"dni-plaintext\"><pre>0</pre></div></td></tr></tbody></table><style>\r\n",
       ".dni-code-hint {\r\n",
       "    font-style: italic;\r\n",
       "    overflow: hidden;\r\n",
       "    white-space: nowrap;\r\n",
       "}\r\n",
       ".dni-treeview {\r\n",
       "    white-space: nowrap;\r\n",
       "}\r\n",
       ".dni-treeview td {\r\n",
       "    vertical-align: top;\r\n",
       "    text-align: start;\r\n",
       "}\r\n",
       "details.dni-treeview {\r\n",
       "    padding-left: 1em;\r\n",
       "}\r\n",
       "table td {\r\n",
       "    text-align: start;\r\n",
       "}\r\n",
       "table tr { \r\n",
       "    vertical-align: top; \r\n",
       "    margin: 0em 0px;\r\n",
       "}\r\n",
       "table tr td pre \r\n",
       "{ \r\n",
       "    vertical-align: top !important; \r\n",
       "    margin: 0em 0px !important;\r\n",
       "} \r\n",
       "table th {\r\n",
       "    text-align: start;\r\n",
       "}\r\n",
       "</style>"
      ]
     },
     "metadata": {},
     "output_type": "display_data"
    }
   ],
   "source": [
    "DROP TABLE IF EXISTS orders_6_classic_index;\n",
    "\n",
    "SELECT * \n",
    "INTO orders_6_classic_index\n",
    "FROM orders_3\n",
    "WHERE 1=0;\n",
    "\n",
    "CREATE CLUSTERED INDEX PK_orders_6_classic_index ON  orders_6_classic_index (o_orderkey);\n",
    "\n",
    "SELECT count(*) count_orders_6_classic_index from orders_6_classic_index;"
   ]
  },
  {
   "cell_type": "code",
   "execution_count": null,
   "id": "f1bab56c",
   "metadata": {
    "polyglot_notebook": {
     "kernelName": "pwsh"
    }
   },
   "outputs": [
    {
     "name": "stdout",
     "output_type": "stream",
     "text": [
      "2025-06-13T22:56:09.382 +02:00 -|- FastTransfer -|- MSS22_to_MSS25 -|- INFORMATION -|- tpch_test.dbo.orders_6_classic_index -|- Starting\n",
      "2025-06-13T22:56:09.390 +02:00 -|- FastTransfer -|- MSS22_to_MSS25 -|- INFORMATION -|- tpch_test.dbo.orders_6_classic_index -|- FastTransfer Version : 0.13.4.0 Architecture : X64 - Framework : .NET 8.0.15\n",
      "2025-06-13T22:56:09.391 +02:00 -|- FastTransfer -|- MSS22_to_MSS25 -|- INFORMATION -|- tpch_test.dbo.orders_6_classic_index -|- OS : Microsoft Windows 10.0.26100\n",
      "2025-06-13T22:56:09.391 +02:00 -|- FastTransfer -|- MSS22_to_MSS25 -|- INFORMATION -|- tpch_test.dbo.orders_6_classic_index -|- Process ID : 53420\n",
      "2025-06-13T22:56:09.391 +02:00 -|- FastTransfer -|- MSS22_to_MSS25 -|- INFORMATION -|- tpch_test.dbo.orders_6_classic_index -|- Provided Run ID : MSS22_to_MSS25\n",
      "2025-06-13T22:56:09.391 +02:00 -|- FastTransfer -|- MSS22_to_MSS25 -|- INFORMATION -|- tpch_test.dbo.orders_6_classic_index -|- Source Connection Type : mssql\n",
      "2025-06-13T22:56:09.391 +02:00 -|- FastTransfer -|- MSS22_to_MSS25 -|- INFORMATION -|- tpch_test.dbo.orders_6_classic_index -|- Source SqlInstance : localhost\n",
      "2025-06-13T22:56:09.391 +02:00 -|- FastTransfer -|- MSS22_to_MSS25 -|- INFORMATION -|- tpch_test.dbo.orders_6_classic_index -|- Source Database : tpch10_collation_bin2\n",
      "2025-06-13T22:56:09.391 +02:00 -|- FastTransfer -|- MSS22_to_MSS25 -|- INFORMATION -|- tpch_test.dbo.orders_6_classic_index -|- Source Trusted Connection : True\n",
      "2025-06-13T22:56:09.391 +02:00 -|- FastTransfer -|- MSS22_to_MSS25 -|- INFORMATION -|- tpch_test.dbo.orders_6_classic_index -|- Source Schema : dbo\n",
      "2025-06-13T22:56:09.391 +02:00 -|- FastTransfer -|- MSS22_to_MSS25 -|- INFORMATION -|- tpch_test.dbo.orders_6_classic_index -|- Source Table : orders_15M\n",
      "2025-06-13T22:56:09.391 +02:00 -|- FastTransfer -|- MSS22_to_MSS25 -|- INFORMATION -|- tpch_test.dbo.orders_6_classic_index -|- Target Type : msbulk\n",
      "2025-06-13T22:56:09.391 +02:00 -|- FastTransfer -|- MSS22_to_MSS25 -|- INFORMATION -|- tpch_test.dbo.orders_6_classic_index -|- Target Server : localhost\\SS2025\n",
      "2025-06-13T22:56:09.391 +02:00 -|- FastTransfer -|- MSS22_to_MSS25 -|- INFORMATION -|- tpch_test.dbo.orders_6_classic_index -|- Target Database : tpch_test\n",
      "2025-06-13T22:56:09.391 +02:00 -|- FastTransfer -|- MSS22_to_MSS25 -|- INFORMATION -|- tpch_test.dbo.orders_6_classic_index -|- Target Schema : dbo\n",
      "2025-06-13T22:56:09.391 +02:00 -|- FastTransfer -|- MSS22_to_MSS25 -|- INFORMATION -|- tpch_test.dbo.orders_6_classic_index -|- Target Table : orders_6_classic_index\n",
      "2025-06-13T22:56:09.391 +02:00 -|- FastTransfer -|- MSS22_to_MSS25 -|- INFORMATION -|- tpch_test.dbo.orders_6_classic_index -|- Target Trusted Connection : True\n",
      "2025-06-13T22:56:09.391 +02:00 -|- FastTransfer -|- MSS22_to_MSS25 -|- INFORMATION -|- tpch_test.dbo.orders_6_classic_index -|- Columns Map Method : Name\n",
      "2025-06-13T22:56:09.391 +02:00 -|- FastTransfer -|- MSS22_to_MSS25 -|- INFORMATION -|- tpch_test.dbo.orders_6_classic_index -|- Degree : -2\n",
      "2025-06-13T22:56:09.391 +02:00 -|- FastTransfer -|- MSS22_to_MSS25 -|- INFORMATION -|- tpch_test.dbo.orders_6_classic_index -|- Distribute Method : Ntile\n",
      "2025-06-13T22:56:09.391 +02:00 -|- FastTransfer -|- MSS22_to_MSS25 -|- INFORMATION -|- tpch_test.dbo.orders_6_classic_index -|- Distribute Column : o_orderkey\n",
      "2025-06-13T22:56:09.391 +02:00 -|- FastTransfer -|- MSS22_to_MSS25 -|- INFORMATION -|- tpch_test.dbo.orders_6_classic_index -|- Bulkcopy Batch Size : 1048576\n",
      "2025-06-13T22:56:09.391 +02:00 -|- FastTransfer -|- MSS22_to_MSS25 -|- INFORMATION -|- tpch_test.dbo.orders_6_classic_index -|- Load Mode : Truncate\n",
      "2025-06-13T22:56:09.391 +02:00 -|- FastTransfer -|- MSS22_to_MSS25 -|- INFORMATION -|- tpch_test.dbo.orders_6_classic_index -|- Use Work Tables : False\n",
      "2025-06-13T22:56:09.392 +02:00 -|- FastTransfer -|- MSS22_to_MSS25 -|- INFORMATION -|- tpch_test.dbo.orders_6_classic_index -|- Encoding used : Unicode (UTF-8) - 65001 - utf-8\n",
      "2025-06-13T22:56:09.408 +02:00 -|- FastTransfer -|- MSS22_to_MSS25 -|- INFORMATION -|- tpch_test.dbo.orders_6_classic_index -|- Source Connection String : Data Source=localhost;Initial Catalog=tpch10_collation_bin2;Integrated Security=True;Connect Timeout=120;Encrypt=True;Trust Server Certificate=True;Application Name=FastTransfer;Application Intent=ReadOnly;Command Timeout=10800\n",
      "2025-06-13T22:56:09.408 +02:00 -|- FastTransfer -|- MSS22_to_MSS25 -|- INFORMATION -|- tpch_test.dbo.orders_6_classic_index -|- Target Connection String : Data Source=localhost\\SS2025;Initial Catalog=tpch_test;Integrated Security=True;Connect Timeout=120;Encrypt=True;Trust Server Certificate=True;Application Name=FastTransfer;Application Intent=ReadWrite;Command Timeout=10800\n",
      "2025-06-13T22:56:09.408 +02:00 -|- FastTransfer -|- MSS22_to_MSS25 -|- INFORMATION -|- tpch_test.dbo.orders_6_classic_index -|- Source Database Version : Microsoft SQL Server 2022 (RTM-CU17) (KB5048038) - 16.0.4175.1 (X64)  \tDec 13 2024 09:01:53  \tCopyright (C) 2022 Microsoft Corporation \tDeveloper Edition (64-bit) on Windows 10 Pro 10.0 <X64> (Build 26100: ) (Hypervisor) \n",
      "2025-06-13T22:56:09.408 +02:00 -|- FastTransfer -|- MSS22_to_MSS25 -|- INFORMATION -|- tpch_test.dbo.orders_6_classic_index -|- Target Database Version : Microsoft SQL Server 2025 (CTP2.0) - 17.0.700.9 (X64)  \tMay  8 2025 19:14:27  \tCopyright (C) 2025 Microsoft Corporation \tEnterprise Developer Edition (64-bit) on Windows 10 Pro 10.0 <X64> (Build 26100: ) (Hypervisor) \n",
      "2025-06-13T22:56:09.413 +02:00 -|- FastTransfer -|- MSS22_to_MSS25 -|- INFORMATION -|- tpch_test.dbo.orders_6_classic_index -|- Degree of parallelism was computed to 16 (=> 32\\2)\n",
      "2025-06-13T22:56:10.726 +02:00 -|- FastTransfer -|- MSS22_to_MSS25 -|- INFORMATION -|- tpch_test.dbo.orders_6_classic_index -|- Ntile DataSegments Computation Completed in 1312 ms\n",
      "2025-06-13T22:56:10.729 +02:00 -|- FastTransfer -|- MSS22_to_MSS25 -|- INFORMATION -|- tpch_test.dbo.orders_6_classic_index -|- Start Loading Data using distribution method NTile\n",
      "2025-06-13T22:56:10.730 +02:00 -|- FastTransfer -|- MSS22_to_MSS25 -|- INFORMATION -|- tpch_test.dbo.orders_6_classic_index -|- Table \"dbo\".\"orders_6_classic_index\" has a Clustered Index. BulkCopy will use KeepNulls and UseInternalTransaction and avoid Tablock\n",
      "2025-06-13T22:56:10.730 +02:00 -|- FastTransfer -|- MSS22_to_MSS25 -|- INFORMATION -|- tpch_test.dbo.orders_6_classic_index -|- BulkCopy to \"dbo\".\"orders_6_classic_index\" with BatchSize = 1048576, Timeout = 3600\n",
      "2025-06-13T22:56:10.733 +02:00 -|- FastTransfer -|- MSS22_to_MSS25 -|- WARNING -|- tpch_test.dbo.orders_6_classic_index -|- Only 9 out of 10 columns were mapped by name to the target table \"dbo\".\"orders_6_classic_index\"\n",
      "2025-06-13T22:56:10.739 +02:00 -|- FastTransfer -|- MSS22_to_MSS25 -|- INFORMATION -|- tpch_test.dbo.orders_6_classic_index -|- Start Loading Data using distribution method NTile\n",
      "2025-06-13T22:56:10.739 +02:00 -|- FastTransfer -|- MSS22_to_MSS25 -|- INFORMATION -|- tpch_test.dbo.orders_6_classic_index -|- Table \"dbo\".\"orders_6_classic_index\" has a Clustered Index. BulkCopy will use KeepNulls and UseInternalTransaction and avoid Tablock\n",
      "2025-06-13T22:56:10.739 +02:00 -|- FastTransfer -|- MSS22_to_MSS25 -|- INFORMATION -|- tpch_test.dbo.orders_6_classic_index -|- BulkCopy to \"dbo\".\"orders_6_classic_index\" with BatchSize = 1048576, Timeout = 3600\n",
      "2025-06-13T22:56:10.740 +02:00 -|- FastTransfer -|- MSS22_to_MSS25 -|- WARNING -|- tpch_test.dbo.orders_6_classic_index -|- Only 9 out of 10 columns were mapped by name to the target table \"dbo\".\"orders_6_classic_index\"\n",
      "2025-06-13T22:56:10.742 +02:00 -|- FastTransfer -|- MSS22_to_MSS25 -|- INFORMATION -|- tpch_test.dbo.orders_6_classic_index -|- Start Loading Data using distribution method NTile\n",
      "2025-06-13T22:56:10.742 +02:00 -|- FastTransfer -|- MSS22_to_MSS25 -|- INFORMATION -|- tpch_test.dbo.orders_6_classic_index -|- Table \"dbo\".\"orders_6_classic_index\" has a Clustered Index. BulkCopy will use KeepNulls and UseInternalTransaction and avoid Tablock\n",
      "2025-06-13T22:56:10.742 +02:00 -|- FastTransfer -|- MSS22_to_MSS25 -|- INFORMATION -|- tpch_test.dbo.orders_6_classic_index -|- BulkCopy to \"dbo\".\"orders_6_classic_index\" with BatchSize = 1048576, Timeout = 3600\n",
      "2025-06-13T22:56:10.743 +02:00 -|- FastTransfer -|- MSS22_to_MSS25 -|- WARNING -|- tpch_test.dbo.orders_6_classic_index -|- Only 9 out of 10 columns were mapped by name to the target table \"dbo\".\"orders_6_classic_index\"\n",
      "2025-06-13T22:56:10.746 +02:00 -|- FastTransfer -|- MSS22_to_MSS25 -|- INFORMATION -|- tpch_test.dbo.orders_6_classic_index -|- Start Loading Data using distribution method NTile\n",
      "2025-06-13T22:56:10.746 +02:00 -|- FastTransfer -|- MSS22_to_MSS25 -|- INFORMATION -|- tpch_test.dbo.orders_6_classic_index -|- Table \"dbo\".\"orders_6_classic_index\" has a Clustered Index. BulkCopy will use KeepNulls and UseInternalTransaction and avoid Tablock\n",
      "2025-06-13T22:56:10.746 +02:00 -|- FastTransfer -|- MSS22_to_MSS25 -|- INFORMATION -|- tpch_test.dbo.orders_6_classic_index -|- BulkCopy to \"dbo\".\"orders_6_classic_index\" with BatchSize = 1048576, Timeout = 3600\n",
      "2025-06-13T22:56:10.748 +02:00 -|- FastTransfer -|- MSS22_to_MSS25 -|- WARNING -|- tpch_test.dbo.orders_6_classic_index -|- Only 9 out of 10 columns were mapped by name to the target table \"dbo\".\"orders_6_classic_index\"\n",
      "2025-06-13T22:56:10.749 +02:00 -|- FastTransfer -|- MSS22_to_MSS25 -|- INFORMATION -|- tpch_test.dbo.orders_6_classic_index -|- Start Loading Data using distribution method NTile\n",
      "2025-06-13T22:56:10.749 +02:00 -|- FastTransfer -|- MSS22_to_MSS25 -|- INFORMATION -|- tpch_test.dbo.orders_6_classic_index -|- Table \"dbo\".\"orders_6_classic_index\" has a Clustered Index. BulkCopy will use KeepNulls and UseInternalTransaction and avoid Tablock\n",
      "2025-06-13T22:56:10.749 +02:00 -|- FastTransfer -|- MSS22_to_MSS25 -|- INFORMATION -|- tpch_test.dbo.orders_6_classic_index -|- BulkCopy to \"dbo\".\"orders_6_classic_index\" with BatchSize = 1048576, Timeout = 3600\n",
      "2025-06-13T22:56:10.751 +02:00 -|- FastTransfer -|- MSS22_to_MSS25 -|- WARNING -|- tpch_test.dbo.orders_6_classic_index -|- Only 9 out of 10 columns were mapped by name to the target table \"dbo\".\"orders_6_classic_index\"\n",
      "2025-06-13T22:56:10.755 +02:00 -|- FastTransfer -|- MSS22_to_MSS25 -|- INFORMATION -|- tpch_test.dbo.orders_6_classic_index -|- Start Loading Data using distribution method NTile\n",
      "2025-06-13T22:56:10.756 +02:00 -|- FastTransfer -|- MSS22_to_MSS25 -|- INFORMATION -|- tpch_test.dbo.orders_6_classic_index -|- Table \"dbo\".\"orders_6_classic_index\" has a Clustered Index. BulkCopy will use KeepNulls and UseInternalTransaction and avoid Tablock\n",
      "2025-06-13T22:56:10.756 +02:00 -|- FastTransfer -|- MSS22_to_MSS25 -|- INFORMATION -|- tpch_test.dbo.orders_6_classic_index -|- BulkCopy to \"dbo\".\"orders_6_classic_index\" with BatchSize = 1048576, Timeout = 3600\n",
      "2025-06-13T22:56:10.757 +02:00 -|- FastTransfer -|- MSS22_to_MSS25 -|- WARNING -|- tpch_test.dbo.orders_6_classic_index -|- Only 9 out of 10 columns were mapped by name to the target table \"dbo\".\"orders_6_classic_index\"\n",
      "2025-06-13T22:56:10.758 +02:00 -|- FastTransfer -|- MSS22_to_MSS25 -|- INFORMATION -|- tpch_test.dbo.orders_6_classic_index -|- Start Loading Data using distribution method NTile\n",
      "2025-06-13T22:56:10.759 +02:00 -|- FastTransfer -|- MSS22_to_MSS25 -|- INFORMATION -|- tpch_test.dbo.orders_6_classic_index -|- Table \"dbo\".\"orders_6_classic_index\" has a Clustered Index. BulkCopy will use KeepNulls and UseInternalTransaction and avoid Tablock\n",
      "2025-06-13T22:56:10.759 +02:00 -|- FastTransfer -|- MSS22_to_MSS25 -|- INFORMATION -|- tpch_test.dbo.orders_6_classic_index -|- BulkCopy to \"dbo\".\"orders_6_classic_index\" with BatchSize = 1048576, Timeout = 3600\n",
      "2025-06-13T22:56:10.760 +02:00 -|- FastTransfer -|- MSS22_to_MSS25 -|- WARNING -|- tpch_test.dbo.orders_6_classic_index -|- Only 9 out of 10 columns were mapped by name to the target table \"dbo\".\"orders_6_classic_index\"\n",
      "2025-06-13T22:56:10.766 +02:00 -|- FastTransfer -|- MSS22_to_MSS25 -|- INFORMATION -|- tpch_test.dbo.orders_6_classic_index -|- Start Loading Data using distribution method NTile\n",
      "2025-06-13T22:56:10.767 +02:00 -|- FastTransfer -|- MSS22_to_MSS25 -|- INFORMATION -|- tpch_test.dbo.orders_6_classic_index -|- Table \"dbo\".\"orders_6_classic_index\" has a Clustered Index. BulkCopy will use KeepNulls and UseInternalTransaction and avoid Tablock\n",
      "2025-06-13T22:56:10.767 +02:00 -|- FastTransfer -|- MSS22_to_MSS25 -|- INFORMATION -|- tpch_test.dbo.orders_6_classic_index -|- BulkCopy to \"dbo\".\"orders_6_classic_index\" with BatchSize = 1048576, Timeout = 3600\n",
      "2025-06-13T22:56:10.769 +02:00 -|- FastTransfer -|- MSS22_to_MSS25 -|- WARNING -|- tpch_test.dbo.orders_6_classic_index -|- Only 9 out of 10 columns were mapped by name to the target table \"dbo\".\"orders_6_classic_index\"\n",
      "2025-06-13T22:56:10.770 +02:00 -|- FastTransfer -|- MSS22_to_MSS25 -|- INFORMATION -|- tpch_test.dbo.orders_6_classic_index -|- Start Loading Data using distribution method NTile\n",
      "2025-06-13T22:56:10.770 +02:00 -|- FastTransfer -|- MSS22_to_MSS25 -|- INFORMATION -|- tpch_test.dbo.orders_6_classic_index -|- Table \"dbo\".\"orders_6_classic_index\" has a Clustered Index. BulkCopy will use KeepNulls and UseInternalTransaction and avoid Tablock\n",
      "2025-06-13T22:56:10.770 +02:00 -|- FastTransfer -|- MSS22_to_MSS25 -|- INFORMATION -|- tpch_test.dbo.orders_6_classic_index -|- BulkCopy to \"dbo\".\"orders_6_classic_index\" with BatchSize = 1048576, Timeout = 3600\n",
      "2025-06-13T22:56:10.771 +02:00 -|- FastTransfer -|- MSS22_to_MSS25 -|- WARNING -|- tpch_test.dbo.orders_6_classic_index -|- Only 9 out of 10 columns were mapped by name to the target table \"dbo\".\"orders_6_classic_index\"\n",
      "2025-06-13T22:56:10.778 +02:00 -|- FastTransfer -|- MSS22_to_MSS25 -|- INFORMATION -|- tpch_test.dbo.orders_6_classic_index -|- Start Loading Data using distribution method NTile\n",
      "2025-06-13T22:56:10.779 +02:00 -|- FastTransfer -|- MSS22_to_MSS25 -|- INFORMATION -|- tpch_test.dbo.orders_6_classic_index -|- Table \"dbo\".\"orders_6_classic_index\" has a Clustered Index. BulkCopy will use KeepNulls and UseInternalTransaction and avoid Tablock\n",
      "2025-06-13T22:56:10.779 +02:00 -|- FastTransfer -|- MSS22_to_MSS25 -|- INFORMATION -|- tpch_test.dbo.orders_6_classic_index -|- BulkCopy to \"dbo\".\"orders_6_classic_index\" with BatchSize = 1048576, Timeout = 3600\n",
      "2025-06-13T22:56:10.780 +02:00 -|- FastTransfer -|- MSS22_to_MSS25 -|- WARNING -|- tpch_test.dbo.orders_6_classic_index -|- Only 9 out of 10 columns were mapped by name to the target table \"dbo\".\"orders_6_classic_index\"\n",
      "2025-06-13T22:56:10.791 +02:00 -|- FastTransfer -|- MSS22_to_MSS25 -|- INFORMATION -|- tpch_test.dbo.orders_6_classic_index -|- Start Loading Data using distribution method NTile\n",
      "2025-06-13T22:56:10.791 +02:00 -|- FastTransfer -|- MSS22_to_MSS25 -|- INFORMATION -|- tpch_test.dbo.orders_6_classic_index -|- Table \"dbo\".\"orders_6_classic_index\" has a Clustered Index. BulkCopy will use KeepNulls and UseInternalTransaction and avoid Tablock\n",
      "2025-06-13T22:56:10.791 +02:00 -|- FastTransfer -|- MSS22_to_MSS25 -|- INFORMATION -|- tpch_test.dbo.orders_6_classic_index -|- BulkCopy to \"dbo\".\"orders_6_classic_index\" with BatchSize = 1048576, Timeout = 3600\n",
      "2025-06-13T22:56:10.793 +02:00 -|- FastTransfer -|- MSS22_to_MSS25 -|- WARNING -|- tpch_test.dbo.orders_6_classic_index -|- Only 9 out of 10 columns were mapped by name to the target table \"dbo\".\"orders_6_classic_index\"\n",
      "2025-06-13T22:56:10.794 +02:00 -|- FastTransfer -|- MSS22_to_MSS25 -|- INFORMATION -|- tpch_test.dbo.orders_6_classic_index -|- Start Loading Data using distribution method NTile\n",
      "2025-06-13T22:56:10.795 +02:00 -|- FastTransfer -|- MSS22_to_MSS25 -|- INFORMATION -|- tpch_test.dbo.orders_6_classic_index -|- Table \"dbo\".\"orders_6_classic_index\" has a Clustered Index. BulkCopy will use KeepNulls and UseInternalTransaction and avoid Tablock\n",
      "2025-06-13T22:56:10.795 +02:00 -|- FastTransfer -|- MSS22_to_MSS25 -|- INFORMATION -|- tpch_test.dbo.orders_6_classic_index -|- BulkCopy to \"dbo\".\"orders_6_classic_index\" with BatchSize = 1048576, Timeout = 3600\n",
      "2025-06-13T22:56:10.796 +02:00 -|- FastTransfer -|- MSS22_to_MSS25 -|- WARNING -|- tpch_test.dbo.orders_6_classic_index -|- Only 9 out of 10 columns were mapped by name to the target table \"dbo\".\"orders_6_classic_index\"\n",
      "2025-06-13T22:56:10.808 +02:00 -|- FastTransfer -|- MSS22_to_MSS25 -|- INFORMATION -|- tpch_test.dbo.orders_6_classic_index -|- Start Loading Data using distribution method NTile\n",
      "2025-06-13T22:56:10.808 +02:00 -|- FastTransfer -|- MSS22_to_MSS25 -|- INFORMATION -|- tpch_test.dbo.orders_6_classic_index -|- Table \"dbo\".\"orders_6_classic_index\" has a Clustered Index. BulkCopy will use KeepNulls and UseInternalTransaction and avoid Tablock\n",
      "2025-06-13T22:56:10.808 +02:00 -|- FastTransfer -|- MSS22_to_MSS25 -|- INFORMATION -|- tpch_test.dbo.orders_6_classic_index -|- BulkCopy to \"dbo\".\"orders_6_classic_index\" with BatchSize = 1048576, Timeout = 3600\n",
      "2025-06-13T22:56:10.810 +02:00 -|- FastTransfer -|- MSS22_to_MSS25 -|- WARNING -|- tpch_test.dbo.orders_6_classic_index -|- Only 9 out of 10 columns were mapped by name to the target table \"dbo\".\"orders_6_classic_index\"\n",
      "2025-06-13T22:56:10.811 +02:00 -|- FastTransfer -|- MSS22_to_MSS25 -|- INFORMATION -|- tpch_test.dbo.orders_6_classic_index -|- Start Loading Data using distribution method NTile\n",
      "2025-06-13T22:56:10.811 +02:00 -|- FastTransfer -|- MSS22_to_MSS25 -|- INFORMATION -|- tpch_test.dbo.orders_6_classic_index -|- Table \"dbo\".\"orders_6_classic_index\" has a Clustered Index. BulkCopy will use KeepNulls and UseInternalTransaction and avoid Tablock\n",
      "2025-06-13T22:56:10.812 +02:00 -|- FastTransfer -|- MSS22_to_MSS25 -|- INFORMATION -|- tpch_test.dbo.orders_6_classic_index -|- BulkCopy to \"dbo\".\"orders_6_classic_index\" with BatchSize = 1048576, Timeout = 3600\n",
      "2025-06-13T22:56:10.813 +02:00 -|- FastTransfer -|- MSS22_to_MSS25 -|- WARNING -|- tpch_test.dbo.orders_6_classic_index -|- Only 9 out of 10 columns were mapped by name to the target table \"dbo\".\"orders_6_classic_index\"\n",
      "2025-06-13T22:56:10.820 +02:00 -|- FastTransfer -|- MSS22_to_MSS25 -|- INFORMATION -|- tpch_test.dbo.orders_6_classic_index -|- Start Loading Data using distribution method NTile\n",
      "2025-06-13T22:56:10.820 +02:00 -|- FastTransfer -|- MSS22_to_MSS25 -|- INFORMATION -|- tpch_test.dbo.orders_6_classic_index -|- Table \"dbo\".\"orders_6_classic_index\" has a Clustered Index. BulkCopy will use KeepNulls and UseInternalTransaction and avoid Tablock\n",
      "2025-06-13T22:56:10.820 +02:00 -|- FastTransfer -|- MSS22_to_MSS25 -|- INFORMATION -|- tpch_test.dbo.orders_6_classic_index -|- BulkCopy to \"dbo\".\"orders_6_classic_index\" with BatchSize = 1048576, Timeout = 3600\n",
      "2025-06-13T22:56:10.822 +02:00 -|- FastTransfer -|- MSS22_to_MSS25 -|- WARNING -|- tpch_test.dbo.orders_6_classic_index -|- Only 9 out of 10 columns were mapped by name to the target table \"dbo\".\"orders_6_classic_index\"\n",
      "2025-06-13T22:56:10.823 +02:00 -|- FastTransfer -|- MSS22_to_MSS25 -|- INFORMATION -|- tpch_test.dbo.orders_6_classic_index -|- Start Loading Data using distribution method NTile\n",
      "2025-06-13T22:56:10.823 +02:00 -|- FastTransfer -|- MSS22_to_MSS25 -|- INFORMATION -|- tpch_test.dbo.orders_6_classic_index -|- Table \"dbo\".\"orders_6_classic_index\" has a Clustered Index. BulkCopy will use KeepNulls and UseInternalTransaction and avoid Tablock\n",
      "2025-06-13T22:56:10.824 +02:00 -|- FastTransfer -|- MSS22_to_MSS25 -|- INFORMATION -|- tpch_test.dbo.orders_6_classic_index -|- BulkCopy to \"dbo\".\"orders_6_classic_index\" with BatchSize = 1048576, Timeout = 3600\n",
      "2025-06-13T22:56:10.825 +02:00 -|- FastTransfer -|- MSS22_to_MSS25 -|- WARNING -|- tpch_test.dbo.orders_6_classic_index -|- Only 9 out of 10 columns were mapped by name to the target table \"dbo\".\"orders_6_classic_index\"\n",
      "2025-06-13T22:56:15.516 +02:00 -|- FastTransfer -|- MSS22_to_MSS25 -|- INFORMATION -|- tpch_test.dbo.orders_6_classic_index -|- Completed Load Query 2 for o_orderkey between 8063200 and 12095555 : 937501 rows x 9 columns in 4787ms\n",
      "2025-06-13T22:56:15.541 +02:00 -|- FastTransfer -|- MSS22_to_MSS25 -|- INFORMATION -|- tpch_test.dbo.orders_6_classic_index -|- Completed Load Query 0 for o_orderkey between 1 and 4030401 : 937500 rows x 9 columns in 4812ms\n",
      "2025-06-13T22:56:16.708 +02:00 -|- FastTransfer -|- MSS22_to_MSS25 -|- INFORMATION -|- tpch_test.dbo.orders_6_classic_index -|- Completed Load Query 9 for o_orderkey between 36288230 and 40319808 : 937501 rows x 9 columns in 5978ms\n",
      "2025-06-13T22:56:16.711 +02:00 -|- FastTransfer -|- MSS22_to_MSS25 -|- INFORMATION -|- tpch_test.dbo.orders_6_classic_index -|- Completed Load Query 3 for o_orderkey between 12095556 and 16128901 : 937501 rows x 9 columns in 5983ms\n",
      "2025-06-13T22:56:16.721 +02:00 -|- FastTransfer -|- MSS22_to_MSS25 -|- INFORMATION -|- tpch_test.dbo.orders_6_classic_index -|- Completed Load Query 11 for o_orderkey between 44350020 and 48381669 : 937501 rows x 9 columns in 5990ms\n",
      "2025-06-13T22:56:16.732 +02:00 -|- FastTransfer -|- MSS22_to_MSS25 -|- INFORMATION -|- tpch_test.dbo.orders_6_classic_index -|- Completed Load Query 4 for o_orderkey between 16128902 and 20160199 : 937501 rows x 9 columns in 6003ms\n",
      "2025-06-13T22:56:16.752 +02:00 -|- FastTransfer -|- MSS22_to_MSS25 -|- INFORMATION -|- tpch_test.dbo.orders_6_classic_index -|- Completed Load Query 13 for o_orderkey between 52413184 and 56445281 : 937501 rows x 9 columns in 6021ms\n",
      "2025-06-13T22:56:16.795 +02:00 -|- FastTransfer -|- MSS22_to_MSS25 -|- INFORMATION -|- tpch_test.dbo.orders_6_classic_index -|- Completed Load Query 5 for o_orderkey between 20160224 and 24192837 : 937501 rows x 9 columns in 6066ms\n",
      "2025-06-13T22:56:16.810 +02:00 -|- FastTransfer -|- MSS22_to_MSS25 -|- INFORMATION -|- tpch_test.dbo.orders_6_classic_index -|- Completed Load Query 7 for o_orderkey between 28226535 and 32255681 : 937501 rows x 9 columns in 6080ms\n",
      "2025-06-13T22:56:16.811 +02:00 -|- FastTransfer -|- MSS22_to_MSS25 -|- INFORMATION -|- tpch_test.dbo.orders_6_classic_index -|- Completed Load Query 15 for o_orderkey between 66374081 and 119999974 : 937486 rows x 9 columns in 6079ms\n",
      "2025-06-13T22:56:16.848 +02:00 -|- FastTransfer -|- MSS22_to_MSS25 -|- INFORMATION -|- tpch_test.dbo.orders_6_classic_index -|- Completed Load Query 1 for o_orderkey between 4030402 and 8063175 : 937501 rows x 9 columns in 6119ms\n",
      "2025-06-13T22:56:16.878 +02:00 -|- FastTransfer -|- MSS22_to_MSS25 -|- INFORMATION -|- tpch_test.dbo.orders_6_classic_index -|- Completed Load Query 6 for o_orderkey between 24192838 and 28226534 : 937501 rows x 9 columns in 6148ms\n",
      "2025-06-13T22:56:16.896 +02:00 -|- FastTransfer -|- MSS22_to_MSS25 -|- INFORMATION -|- tpch_test.dbo.orders_6_classic_index -|- Completed Load Query 10 for o_orderkey between 40319809 and 44350019 : 937501 rows x 9 columns in 6165ms\n",
      "2025-06-13T22:56:16.932 +02:00 -|- FastTransfer -|- MSS22_to_MSS25 -|- INFORMATION -|- tpch_test.dbo.orders_6_classic_index -|- Completed Load Query 12 for o_orderkey between 48381670 and 52413159 : 937501 rows x 9 columns in 6201ms\n",
      "2025-06-13T22:56:16.934 +02:00 -|- FastTransfer -|- MSS22_to_MSS25 -|- INFORMATION -|- tpch_test.dbo.orders_6_classic_index -|- Completed Load Query 8 for o_orderkey between 32255682 and 36288229 : 937501 rows x 9 columns in 6204ms\n",
      "2025-06-13T22:56:16.945 +02:00 -|- FastTransfer -|- MSS22_to_MSS25 -|- INFORMATION -|- tpch_test.dbo.orders_6_classic_index -|- Completed Load Query 14 for o_orderkey between 56445282 and 66373955 : 937501 rows x 9 columns in 6214ms\n",
      "2025-06-13T22:56:16.946 +02:00 -|- FastTransfer -|- MSS22_to_MSS25 -|- INFORMATION -|- tpch_test.dbo.orders_6_classic_index -|- Total rows : 15000000\n",
      "2025-06-13T22:56:16.946 +02:00 -|- FastTransfer -|- MSS22_to_MSS25 -|- INFORMATION -|- tpch_test.dbo.orders_6_classic_index -|- Total columns : 9\n",
      "2025-06-13T22:56:16.946 +02:00 -|- FastTransfer -|- MSS22_to_MSS25 -|- INFORMATION -|- tpch_test.dbo.orders_6_classic_index -|- Total cells : 135000000\n",
      "2025-06-13T22:56:16.946 +02:00 -|- FastTransfer -|- MSS22_to_MSS25 -|- INFORMATION -|- tpch_test.dbo.orders_6_classic_index -|- Rows Throughput : 1991243 rows/s\n",
      "2025-06-13T22:56:16.946 +02:00 -|- FastTransfer -|- MSS22_to_MSS25 -|- INFORMATION -|- tpch_test.dbo.orders_6_classic_index -|- Cells Throughput : 17921206 cells/s\n",
      "2025-06-13T22:56:16.946 +02:00 -|- FastTransfer -|- MSS22_to_MSS25 -|- INFORMATION -|- tpch_test.dbo.orders_6_classic_index -|- Transfert time : Elapsed=7533 ms\n",
      "2025-06-13T22:56:16.946 +02:00 -|- FastTransfer -|- MSS22_to_MSS25 -|- INFORMATION -|- tpch_test.dbo.orders_6_classic_index -|- Total time : Elapsed=7732 ms\n",
      "2025-06-13T22:56:16.946 +02:00 -|- FastTransfer -|- MSS22_to_MSS25 -|- INFORMATION -|- tpch_test.dbo.orders_6_classic_index -|- Completed Load\n"
     ]
    }
   ],
   "source": [
    "cd D:\\FastTransfer\n",
    "\n",
    ".\\FastTransfer.exe `\n",
    "--sourceconnectiontype \"mssql\" `\n",
    "--sourceserver \"localhost\" `\n",
    "--sourcedatabase \"tpch10_collation_bin2\" `\n",
    "--sourcetrusted `\n",
    "--sourceschema \"dbo\" `\n",
    "--sourcetable \"orders_15M\" `\n",
    "`\n",
    "--targetconnectiontype \"msbulk\" `\n",
    "--targetserver \"localhost\\SS2025\" `\n",
    "--targettrusted `\n",
    "--targetdatabase \"tpch_test\" `\n",
    "--targetschema \"dbo\" `\n",
    "--targettable \"orders_6_classic_index\" `\n",
    "`\n",
    "--loadmode \"Truncate\" `\n",
    "--mapmethod \"Name\" `\n",
    "--method \"Ntile\" `\n",
    "--distributekeycolumn \"o_orderkey\" `\n",
    "--degree -2 `\n",
    "--runid \"MSS22_to_MSS25\""
   ]
  },
  {
   "cell_type": "markdown",
   "id": "bcc9f359",
   "metadata": {},
   "source": [
    "#### Target orders with a primary key"
   ]
  },
  {
   "cell_type": "code",
   "execution_count": null,
   "id": "01570a9d",
   "metadata": {
    "polyglot_notebook": {
     "kernelName": "sql-SS2025_tpch_test"
    }
   },
   "outputs": [
    {
     "data": {
      "text/plain": [
       "(0 lignes affectées)"
      ]
     },
     "metadata": {},
     "output_type": "display_data"
    },
    {
     "data": {
      "text/plain": [
       "(1 ligne affectée)"
      ]
     },
     "metadata": {},
     "output_type": "display_data"
    },
    {
     "data": {
      "text/csv": [
       "count_orders_7_primarykey\r\n",
       "0\r\n"
      ],
      "text/html": [
       "<table><thead><tr><td><span>count_orders_7_primarykey</span></td></tr></thead><tbody><tr><td><div class=\"dni-plaintext\"><pre>0</pre></div></td></tr></tbody></table><style>\r\n",
       ".dni-code-hint {\r\n",
       "    font-style: italic;\r\n",
       "    overflow: hidden;\r\n",
       "    white-space: nowrap;\r\n",
       "}\r\n",
       ".dni-treeview {\r\n",
       "    white-space: nowrap;\r\n",
       "}\r\n",
       ".dni-treeview td {\r\n",
       "    vertical-align: top;\r\n",
       "    text-align: start;\r\n",
       "}\r\n",
       "details.dni-treeview {\r\n",
       "    padding-left: 1em;\r\n",
       "}\r\n",
       "table td {\r\n",
       "    text-align: start;\r\n",
       "}\r\n",
       "table tr { \r\n",
       "    vertical-align: top; \r\n",
       "    margin: 0em 0px;\r\n",
       "}\r\n",
       "table tr td pre \r\n",
       "{ \r\n",
       "    vertical-align: top !important; \r\n",
       "    margin: 0em 0px !important;\r\n",
       "} \r\n",
       "table th {\r\n",
       "    text-align: start;\r\n",
       "}\r\n",
       "</style>"
      ]
     },
     "metadata": {},
     "output_type": "display_data"
    }
   ],
   "source": [
    "DROP TABLE IF EXISTS orders_7_primarykey;\n",
    "\n",
    "SELECT * \n",
    "INTO orders_7_primarykey\n",
    "FROM orders_3\n",
    "WHERE 1=0;\n",
    "\n",
    "ALTER TABLE  orders_7_primarykey ADD CONSTRAINT PK_orders_7_primarykey PRIMARY KEY CLUSTERED (o_orderkey);\n",
    "\n",
    "SELECT count(*) count_orders_7_primarykey from orders_7_primarykey;"
   ]
  },
  {
   "cell_type": "code",
   "execution_count": null,
   "id": "f6091ae9",
   "metadata": {
    "polyglot_notebook": {
     "kernelName": "pwsh"
    }
   },
   "outputs": [
    {
     "name": "stdout",
     "output_type": "stream",
     "text": [
      "2025-06-13T22:56:18.530 +02:00 -|- FastTransfer -|- MSS22_to_MSS25 -|- INFORMATION -|- tpch_test.dbo.orders_7_primarykey -|- Starting\n",
      "2025-06-13T22:56:18.539 +02:00 -|- FastTransfer -|- MSS22_to_MSS25 -|- INFORMATION -|- tpch_test.dbo.orders_7_primarykey -|- FastTransfer Version : 0.13.4.0 Architecture : X64 - Framework : .NET 8.0.15\n",
      "2025-06-13T22:56:18.539 +02:00 -|- FastTransfer -|- MSS22_to_MSS25 -|- INFORMATION -|- tpch_test.dbo.orders_7_primarykey -|- OS : Microsoft Windows 10.0.26100\n",
      "2025-06-13T22:56:18.539 +02:00 -|- FastTransfer -|- MSS22_to_MSS25 -|- INFORMATION -|- tpch_test.dbo.orders_7_primarykey -|- Process ID : 34400\n",
      "2025-06-13T22:56:18.539 +02:00 -|- FastTransfer -|- MSS22_to_MSS25 -|- INFORMATION -|- tpch_test.dbo.orders_7_primarykey -|- Provided Run ID : MSS22_to_MSS25\n",
      "2025-06-13T22:56:18.539 +02:00 -|- FastTransfer -|- MSS22_to_MSS25 -|- INFORMATION -|- tpch_test.dbo.orders_7_primarykey -|- Source Connection Type : mssql\n",
      "2025-06-13T22:56:18.539 +02:00 -|- FastTransfer -|- MSS22_to_MSS25 -|- INFORMATION -|- tpch_test.dbo.orders_7_primarykey -|- Source SqlInstance : localhost\n",
      "2025-06-13T22:56:18.539 +02:00 -|- FastTransfer -|- MSS22_to_MSS25 -|- INFORMATION -|- tpch_test.dbo.orders_7_primarykey -|- Source Database : tpch10_collation_bin2\n",
      "2025-06-13T22:56:18.539 +02:00 -|- FastTransfer -|- MSS22_to_MSS25 -|- INFORMATION -|- tpch_test.dbo.orders_7_primarykey -|- Source Trusted Connection : True\n",
      "2025-06-13T22:56:18.539 +02:00 -|- FastTransfer -|- MSS22_to_MSS25 -|- INFORMATION -|- tpch_test.dbo.orders_7_primarykey -|- Source Schema : dbo\n",
      "2025-06-13T22:56:18.539 +02:00 -|- FastTransfer -|- MSS22_to_MSS25 -|- INFORMATION -|- tpch_test.dbo.orders_7_primarykey -|- Source Table : orders_15M\n",
      "2025-06-13T22:56:18.539 +02:00 -|- FastTransfer -|- MSS22_to_MSS25 -|- INFORMATION -|- tpch_test.dbo.orders_7_primarykey -|- Target Type : msbulk\n",
      "2025-06-13T22:56:18.539 +02:00 -|- FastTransfer -|- MSS22_to_MSS25 -|- INFORMATION -|- tpch_test.dbo.orders_7_primarykey -|- Target Server : localhost\\SS2025\n",
      "2025-06-13T22:56:18.539 +02:00 -|- FastTransfer -|- MSS22_to_MSS25 -|- INFORMATION -|- tpch_test.dbo.orders_7_primarykey -|- Target Database : tpch_test\n",
      "2025-06-13T22:56:18.539 +02:00 -|- FastTransfer -|- MSS22_to_MSS25 -|- INFORMATION -|- tpch_test.dbo.orders_7_primarykey -|- Target Schema : dbo\n",
      "2025-06-13T22:56:18.539 +02:00 -|- FastTransfer -|- MSS22_to_MSS25 -|- INFORMATION -|- tpch_test.dbo.orders_7_primarykey -|- Target Table : orders_7_primarykey\n",
      "2025-06-13T22:56:18.539 +02:00 -|- FastTransfer -|- MSS22_to_MSS25 -|- INFORMATION -|- tpch_test.dbo.orders_7_primarykey -|- Target Trusted Connection : True\n",
      "2025-06-13T22:56:18.539 +02:00 -|- FastTransfer -|- MSS22_to_MSS25 -|- INFORMATION -|- tpch_test.dbo.orders_7_primarykey -|- Columns Map Method : Name\n",
      "2025-06-13T22:56:18.540 +02:00 -|- FastTransfer -|- MSS22_to_MSS25 -|- INFORMATION -|- tpch_test.dbo.orders_7_primarykey -|- Degree : -2\n",
      "2025-06-13T22:56:18.540 +02:00 -|- FastTransfer -|- MSS22_to_MSS25 -|- INFORMATION -|- tpch_test.dbo.orders_7_primarykey -|- Distribute Method : Ntile\n",
      "2025-06-13T22:56:18.540 +02:00 -|- FastTransfer -|- MSS22_to_MSS25 -|- INFORMATION -|- tpch_test.dbo.orders_7_primarykey -|- Distribute Column : o_orderkey\n",
      "2025-06-13T22:56:18.540 +02:00 -|- FastTransfer -|- MSS22_to_MSS25 -|- INFORMATION -|- tpch_test.dbo.orders_7_primarykey -|- Bulkcopy Batch Size : 1048576\n",
      "2025-06-13T22:56:18.540 +02:00 -|- FastTransfer -|- MSS22_to_MSS25 -|- INFORMATION -|- tpch_test.dbo.orders_7_primarykey -|- Load Mode : Truncate\n",
      "2025-06-13T22:56:18.540 +02:00 -|- FastTransfer -|- MSS22_to_MSS25 -|- INFORMATION -|- tpch_test.dbo.orders_7_primarykey -|- Use Work Tables : False\n",
      "2025-06-13T22:56:18.541 +02:00 -|- FastTransfer -|- MSS22_to_MSS25 -|- INFORMATION -|- tpch_test.dbo.orders_7_primarykey -|- Encoding used : Unicode (UTF-8) - 65001 - utf-8\n",
      "2025-06-13T22:56:18.556 +02:00 -|- FastTransfer -|- MSS22_to_MSS25 -|- INFORMATION -|- tpch_test.dbo.orders_7_primarykey -|- Source Connection String : Data Source=localhost;Initial Catalog=tpch10_collation_bin2;Integrated Security=True;Connect Timeout=120;Encrypt=True;Trust Server Certificate=True;Application Name=FastTransfer;Application Intent=ReadOnly;Command Timeout=10800\n",
      "2025-06-13T22:56:18.556 +02:00 -|- FastTransfer -|- MSS22_to_MSS25 -|- INFORMATION -|- tpch_test.dbo.orders_7_primarykey -|- Target Connection String : Data Source=localhost\\SS2025;Initial Catalog=tpch_test;Integrated Security=True;Connect Timeout=120;Encrypt=True;Trust Server Certificate=True;Application Name=FastTransfer;Application Intent=ReadWrite;Command Timeout=10800\n",
      "2025-06-13T22:56:18.556 +02:00 -|- FastTransfer -|- MSS22_to_MSS25 -|- INFORMATION -|- tpch_test.dbo.orders_7_primarykey -|- Source Database Version : Microsoft SQL Server 2022 (RTM-CU17) (KB5048038) - 16.0.4175.1 (X64)  \tDec 13 2024 09:01:53  \tCopyright (C) 2022 Microsoft Corporation \tDeveloper Edition (64-bit) on Windows 10 Pro 10.0 <X64> (Build 26100: ) (Hypervisor) \n",
      "2025-06-13T22:56:18.556 +02:00 -|- FastTransfer -|- MSS22_to_MSS25 -|- INFORMATION -|- tpch_test.dbo.orders_7_primarykey -|- Target Database Version : Microsoft SQL Server 2025 (CTP2.0) - 17.0.700.9 (X64)  \tMay  8 2025 19:14:27  \tCopyright (C) 2025 Microsoft Corporation \tEnterprise Developer Edition (64-bit) on Windows 10 Pro 10.0 <X64> (Build 26100: ) (Hypervisor) \n",
      "2025-06-13T22:56:18.561 +02:00 -|- FastTransfer -|- MSS22_to_MSS25 -|- INFORMATION -|- tpch_test.dbo.orders_7_primarykey -|- Degree of parallelism was computed to 16 (=> 32\\2)\n",
      "2025-06-13T22:56:19.881 +02:00 -|- FastTransfer -|- MSS22_to_MSS25 -|- INFORMATION -|- tpch_test.dbo.orders_7_primarykey -|- Ntile DataSegments Computation Completed in 1319 ms\n",
      "2025-06-13T22:56:19.884 +02:00 -|- FastTransfer -|- MSS22_to_MSS25 -|- INFORMATION -|- tpch_test.dbo.orders_7_primarykey -|- Start Loading Data using distribution method NTile\n",
      "2025-06-13T22:56:19.885 +02:00 -|- FastTransfer -|- MSS22_to_MSS25 -|- INFORMATION -|- tpch_test.dbo.orders_7_primarykey -|- Table \"dbo\".\"orders_7_primarykey\" has a Clustered Index. BulkCopy will use KeepNulls and UseInternalTransaction and avoid Tablock\n",
      "2025-06-13T22:56:19.885 +02:00 -|- FastTransfer -|- MSS22_to_MSS25 -|- INFORMATION -|- tpch_test.dbo.orders_7_primarykey -|- BulkCopy to \"dbo\".\"orders_7_primarykey\" with BatchSize = 1048576, Timeout = 3600\n",
      "2025-06-13T22:56:19.887 +02:00 -|- FastTransfer -|- MSS22_to_MSS25 -|- WARNING -|- tpch_test.dbo.orders_7_primarykey -|- Only 9 out of 10 columns were mapped by name to the target table \"dbo\".\"orders_7_primarykey\"\n",
      "2025-06-13T22:56:19.893 +02:00 -|- FastTransfer -|- MSS22_to_MSS25 -|- INFORMATION -|- tpch_test.dbo.orders_7_primarykey -|- Start Loading Data using distribution method NTile\n",
      "2025-06-13T22:56:19.894 +02:00 -|- FastTransfer -|- MSS22_to_MSS25 -|- INFORMATION -|- tpch_test.dbo.orders_7_primarykey -|- Table \"dbo\".\"orders_7_primarykey\" has a Clustered Index. BulkCopy will use KeepNulls and UseInternalTransaction and avoid Tablock\n",
      "2025-06-13T22:56:19.894 +02:00 -|- FastTransfer -|- MSS22_to_MSS25 -|- INFORMATION -|- tpch_test.dbo.orders_7_primarykey -|- BulkCopy to \"dbo\".\"orders_7_primarykey\" with BatchSize = 1048576, Timeout = 3600\n",
      "2025-06-13T22:56:19.895 +02:00 -|- FastTransfer -|- MSS22_to_MSS25 -|- WARNING -|- tpch_test.dbo.orders_7_primarykey -|- Only 9 out of 10 columns were mapped by name to the target table \"dbo\".\"orders_7_primarykey\"\n",
      "2025-06-13T22:56:19.896 +02:00 -|- FastTransfer -|- MSS22_to_MSS25 -|- INFORMATION -|- tpch_test.dbo.orders_7_primarykey -|- Start Loading Data using distribution method NTile\n",
      "2025-06-13T22:56:19.897 +02:00 -|- FastTransfer -|- MSS22_to_MSS25 -|- INFORMATION -|- tpch_test.dbo.orders_7_primarykey -|- Table \"dbo\".\"orders_7_primarykey\" has a Clustered Index. BulkCopy will use KeepNulls and UseInternalTransaction and avoid Tablock\n",
      "2025-06-13T22:56:19.897 +02:00 -|- FastTransfer -|- MSS22_to_MSS25 -|- INFORMATION -|- tpch_test.dbo.orders_7_primarykey -|- BulkCopy to \"dbo\".\"orders_7_primarykey\" with BatchSize = 1048576, Timeout = 3600\n",
      "2025-06-13T22:56:19.898 +02:00 -|- FastTransfer -|- MSS22_to_MSS25 -|- WARNING -|- tpch_test.dbo.orders_7_primarykey -|- Only 9 out of 10 columns were mapped by name to the target table \"dbo\".\"orders_7_primarykey\"\n",
      "2025-06-13T22:56:19.903 +02:00 -|- FastTransfer -|- MSS22_to_MSS25 -|- INFORMATION -|- tpch_test.dbo.orders_7_primarykey -|- Start Loading Data using distribution method NTile\n",
      "2025-06-13T22:56:19.903 +02:00 -|- FastTransfer -|- MSS22_to_MSS25 -|- INFORMATION -|- tpch_test.dbo.orders_7_primarykey -|- Table \"dbo\".\"orders_7_primarykey\" has a Clustered Index. BulkCopy will use KeepNulls and UseInternalTransaction and avoid Tablock\n",
      "2025-06-13T22:56:19.903 +02:00 -|- FastTransfer -|- MSS22_to_MSS25 -|- INFORMATION -|- tpch_test.dbo.orders_7_primarykey -|- BulkCopy to \"dbo\".\"orders_7_primarykey\" with BatchSize = 1048576, Timeout = 3600\n",
      "2025-06-13T22:56:19.905 +02:00 -|- FastTransfer -|- MSS22_to_MSS25 -|- WARNING -|- tpch_test.dbo.orders_7_primarykey -|- Only 9 out of 10 columns were mapped by name to the target table \"dbo\".\"orders_7_primarykey\"\n",
      "2025-06-13T22:56:19.905 +02:00 -|- FastTransfer -|- MSS22_to_MSS25 -|- INFORMATION -|- tpch_test.dbo.orders_7_primarykey -|- Start Loading Data using distribution method NTile\n",
      "2025-06-13T22:56:19.906 +02:00 -|- FastTransfer -|- MSS22_to_MSS25 -|- INFORMATION -|- tpch_test.dbo.orders_7_primarykey -|- Table \"dbo\".\"orders_7_primarykey\" has a Clustered Index. BulkCopy will use KeepNulls and UseInternalTransaction and avoid Tablock\n",
      "2025-06-13T22:56:19.906 +02:00 -|- FastTransfer -|- MSS22_to_MSS25 -|- INFORMATION -|- tpch_test.dbo.orders_7_primarykey -|- BulkCopy to \"dbo\".\"orders_7_primarykey\" with BatchSize = 1048576, Timeout = 3600\n",
      "2025-06-13T22:56:19.907 +02:00 -|- FastTransfer -|- MSS22_to_MSS25 -|- WARNING -|- tpch_test.dbo.orders_7_primarykey -|- Only 9 out of 10 columns were mapped by name to the target table \"dbo\".\"orders_7_primarykey\"\n",
      "2025-06-13T22:56:19.912 +02:00 -|- FastTransfer -|- MSS22_to_MSS25 -|- INFORMATION -|- tpch_test.dbo.orders_7_primarykey -|- Start Loading Data using distribution method NTile\n",
      "2025-06-13T22:56:19.912 +02:00 -|- FastTransfer -|- MSS22_to_MSS25 -|- INFORMATION -|- tpch_test.dbo.orders_7_primarykey -|- Table \"dbo\".\"orders_7_primarykey\" has a Clustered Index. BulkCopy will use KeepNulls and UseInternalTransaction and avoid Tablock\n",
      "2025-06-13T22:56:19.912 +02:00 -|- FastTransfer -|- MSS22_to_MSS25 -|- INFORMATION -|- tpch_test.dbo.orders_7_primarykey -|- BulkCopy to \"dbo\".\"orders_7_primarykey\" with BatchSize = 1048576, Timeout = 3600\n",
      "2025-06-13T22:56:19.914 +02:00 -|- FastTransfer -|- MSS22_to_MSS25 -|- WARNING -|- tpch_test.dbo.orders_7_primarykey -|- Only 9 out of 10 columns were mapped by name to the target table \"dbo\".\"orders_7_primarykey\"\n",
      "2025-06-13T22:56:19.915 +02:00 -|- FastTransfer -|- MSS22_to_MSS25 -|- INFORMATION -|- tpch_test.dbo.orders_7_primarykey -|- Start Loading Data using distribution method NTile\n",
      "2025-06-13T22:56:19.915 +02:00 -|- FastTransfer -|- MSS22_to_MSS25 -|- INFORMATION -|- tpch_test.dbo.orders_7_primarykey -|- Table \"dbo\".\"orders_7_primarykey\" has a Clustered Index. BulkCopy will use KeepNulls and UseInternalTransaction and avoid Tablock\n",
      "2025-06-13T22:56:19.915 +02:00 -|- FastTransfer -|- MSS22_to_MSS25 -|- INFORMATION -|- tpch_test.dbo.orders_7_primarykey -|- BulkCopy to \"dbo\".\"orders_7_primarykey\" with BatchSize = 1048576, Timeout = 3600\n",
      "2025-06-13T22:56:19.917 +02:00 -|- FastTransfer -|- MSS22_to_MSS25 -|- WARNING -|- tpch_test.dbo.orders_7_primarykey -|- Only 9 out of 10 columns were mapped by name to the target table \"dbo\".\"orders_7_primarykey\"\n",
      "2025-06-13T22:56:19.920 +02:00 -|- FastTransfer -|- MSS22_to_MSS25 -|- INFORMATION -|- tpch_test.dbo.orders_7_primarykey -|- Start Loading Data using distribution method NTile\n",
      "2025-06-13T22:56:19.921 +02:00 -|- FastTransfer -|- MSS22_to_MSS25 -|- INFORMATION -|- tpch_test.dbo.orders_7_primarykey -|- Table \"dbo\".\"orders_7_primarykey\" has a Clustered Index. BulkCopy will use KeepNulls and UseInternalTransaction and avoid Tablock\n",
      "2025-06-13T22:56:19.921 +02:00 -|- FastTransfer -|- MSS22_to_MSS25 -|- INFORMATION -|- tpch_test.dbo.orders_7_primarykey -|- BulkCopy to \"dbo\".\"orders_7_primarykey\" with BatchSize = 1048576, Timeout = 3600\n",
      "2025-06-13T22:56:19.922 +02:00 -|- FastTransfer -|- MSS22_to_MSS25 -|- WARNING -|- tpch_test.dbo.orders_7_primarykey -|- Only 9 out of 10 columns were mapped by name to the target table \"dbo\".\"orders_7_primarykey\"\n",
      "2025-06-13T22:56:19.924 +02:00 -|- FastTransfer -|- MSS22_to_MSS25 -|- INFORMATION -|- tpch_test.dbo.orders_7_primarykey -|- Start Loading Data using distribution method NTile\n",
      "2025-06-13T22:56:19.924 +02:00 -|- FastTransfer -|- MSS22_to_MSS25 -|- INFORMATION -|- tpch_test.dbo.orders_7_primarykey -|- Table \"dbo\".\"orders_7_primarykey\" has a Clustered Index. BulkCopy will use KeepNulls and UseInternalTransaction and avoid Tablock\n",
      "2025-06-13T22:56:19.924 +02:00 -|- FastTransfer -|- MSS22_to_MSS25 -|- INFORMATION -|- tpch_test.dbo.orders_7_primarykey -|- BulkCopy to \"dbo\".\"orders_7_primarykey\" with BatchSize = 1048576, Timeout = 3600\n",
      "2025-06-13T22:56:19.926 +02:00 -|- FastTransfer -|- MSS22_to_MSS25 -|- WARNING -|- tpch_test.dbo.orders_7_primarykey -|- Only 9 out of 10 columns were mapped by name to the target table \"dbo\".\"orders_7_primarykey\"\n",
      "2025-06-13T22:56:19.931 +02:00 -|- FastTransfer -|- MSS22_to_MSS25 -|- INFORMATION -|- tpch_test.dbo.orders_7_primarykey -|- Start Loading Data using distribution method NTile\n",
      "2025-06-13T22:56:19.932 +02:00 -|- FastTransfer -|- MSS22_to_MSS25 -|- INFORMATION -|- tpch_test.dbo.orders_7_primarykey -|- Table \"dbo\".\"orders_7_primarykey\" has a Clustered Index. BulkCopy will use KeepNulls and UseInternalTransaction and avoid Tablock\n",
      "2025-06-13T22:56:19.932 +02:00 -|- FastTransfer -|- MSS22_to_MSS25 -|- INFORMATION -|- tpch_test.dbo.orders_7_primarykey -|- BulkCopy to \"dbo\".\"orders_7_primarykey\" with BatchSize = 1048576, Timeout = 3600\n",
      "2025-06-13T22:56:19.933 +02:00 -|- FastTransfer -|- MSS22_to_MSS25 -|- WARNING -|- tpch_test.dbo.orders_7_primarykey -|- Only 9 out of 10 columns were mapped by name to the target table \"dbo\".\"orders_7_primarykey\"\n",
      "2025-06-13T22:56:19.943 +02:00 -|- FastTransfer -|- MSS22_to_MSS25 -|- INFORMATION -|- tpch_test.dbo.orders_7_primarykey -|- Start Loading Data using distribution method NTile\n",
      "2025-06-13T22:56:19.944 +02:00 -|- FastTransfer -|- MSS22_to_MSS25 -|- INFORMATION -|- tpch_test.dbo.orders_7_primarykey -|- Table \"dbo\".\"orders_7_primarykey\" has a Clustered Index. BulkCopy will use KeepNulls and UseInternalTransaction and avoid Tablock\n",
      "2025-06-13T22:56:19.944 +02:00 -|- FastTransfer -|- MSS22_to_MSS25 -|- INFORMATION -|- tpch_test.dbo.orders_7_primarykey -|- BulkCopy to \"dbo\".\"orders_7_primarykey\" with BatchSize = 1048576, Timeout = 3600\n",
      "2025-06-13T22:56:19.946 +02:00 -|- FastTransfer -|- MSS22_to_MSS25 -|- WARNING -|- tpch_test.dbo.orders_7_primarykey -|- Only 9 out of 10 columns were mapped by name to the target table \"dbo\".\"orders_7_primarykey\"\n",
      "2025-06-13T22:56:19.950 +02:00 -|- FastTransfer -|- MSS22_to_MSS25 -|- INFORMATION -|- tpch_test.dbo.orders_7_primarykey -|- Start Loading Data using distribution method NTile\n",
      "2025-06-13T22:56:19.951 +02:00 -|- FastTransfer -|- MSS22_to_MSS25 -|- INFORMATION -|- tpch_test.dbo.orders_7_primarykey -|- Table \"dbo\".\"orders_7_primarykey\" has a Clustered Index. BulkCopy will use KeepNulls and UseInternalTransaction and avoid Tablock\n",
      "2025-06-13T22:56:19.951 +02:00 -|- FastTransfer -|- MSS22_to_MSS25 -|- INFORMATION -|- tpch_test.dbo.orders_7_primarykey -|- BulkCopy to \"dbo\".\"orders_7_primarykey\" with BatchSize = 1048576, Timeout = 3600\n",
      "2025-06-13T22:56:19.952 +02:00 -|- FastTransfer -|- MSS22_to_MSS25 -|- WARNING -|- tpch_test.dbo.orders_7_primarykey -|- Only 9 out of 10 columns were mapped by name to the target table \"dbo\".\"orders_7_primarykey\"\n",
      "2025-06-13T22:56:19.955 +02:00 -|- FastTransfer -|- MSS22_to_MSS25 -|- INFORMATION -|- tpch_test.dbo.orders_7_primarykey -|- Start Loading Data using distribution method NTile\n",
      "2025-06-13T22:56:19.956 +02:00 -|- FastTransfer -|- MSS22_to_MSS25 -|- INFORMATION -|- tpch_test.dbo.orders_7_primarykey -|- Table \"dbo\".\"orders_7_primarykey\" has a Clustered Index. BulkCopy will use KeepNulls and UseInternalTransaction and avoid Tablock\n",
      "2025-06-13T22:56:19.956 +02:00 -|- FastTransfer -|- MSS22_to_MSS25 -|- INFORMATION -|- tpch_test.dbo.orders_7_primarykey -|- BulkCopy to \"dbo\".\"orders_7_primarykey\" with BatchSize = 1048576, Timeout = 3600\n",
      "2025-06-13T22:56:19.957 +02:00 -|- FastTransfer -|- MSS22_to_MSS25 -|- WARNING -|- tpch_test.dbo.orders_7_primarykey -|- Only 9 out of 10 columns were mapped by name to the target table \"dbo\".\"orders_7_primarykey\"\n",
      "2025-06-13T22:56:19.963 +02:00 -|- FastTransfer -|- MSS22_to_MSS25 -|- INFORMATION -|- tpch_test.dbo.orders_7_primarykey -|- Start Loading Data using distribution method NTile\n",
      "2025-06-13T22:56:19.964 +02:00 -|- FastTransfer -|- MSS22_to_MSS25 -|- INFORMATION -|- tpch_test.dbo.orders_7_primarykey -|- Table \"dbo\".\"orders_7_primarykey\" has a Clustered Index. BulkCopy will use KeepNulls and UseInternalTransaction and avoid Tablock\n",
      "2025-06-13T22:56:19.964 +02:00 -|- FastTransfer -|- MSS22_to_MSS25 -|- INFORMATION -|- tpch_test.dbo.orders_7_primarykey -|- BulkCopy to \"dbo\".\"orders_7_primarykey\" with BatchSize = 1048576, Timeout = 3600\n",
      "2025-06-13T22:56:19.965 +02:00 -|- FastTransfer -|- MSS22_to_MSS25 -|- WARNING -|- tpch_test.dbo.orders_7_primarykey -|- Only 9 out of 10 columns were mapped by name to the target table \"dbo\".\"orders_7_primarykey\"\n",
      "2025-06-13T22:56:19.967 +02:00 -|- FastTransfer -|- MSS22_to_MSS25 -|- INFORMATION -|- tpch_test.dbo.orders_7_primarykey -|- Start Loading Data using distribution method NTile\n",
      "2025-06-13T22:56:19.967 +02:00 -|- FastTransfer -|- MSS22_to_MSS25 -|- INFORMATION -|- tpch_test.dbo.orders_7_primarykey -|- Table \"dbo\".\"orders_7_primarykey\" has a Clustered Index. BulkCopy will use KeepNulls and UseInternalTransaction and avoid Tablock\n",
      "2025-06-13T22:56:19.967 +02:00 -|- FastTransfer -|- MSS22_to_MSS25 -|- INFORMATION -|- tpch_test.dbo.orders_7_primarykey -|- BulkCopy to \"dbo\".\"orders_7_primarykey\" with BatchSize = 1048576, Timeout = 3600\n",
      "2025-06-13T22:56:19.969 +02:00 -|- FastTransfer -|- MSS22_to_MSS25 -|- WARNING -|- tpch_test.dbo.orders_7_primarykey -|- Only 9 out of 10 columns were mapped by name to the target table \"dbo\".\"orders_7_primarykey\"\n",
      "2025-06-13T22:56:19.970 +02:00 -|- FastTransfer -|- MSS22_to_MSS25 -|- INFORMATION -|- tpch_test.dbo.orders_7_primarykey -|- Start Loading Data using distribution method NTile\n",
      "2025-06-13T22:56:19.971 +02:00 -|- FastTransfer -|- MSS22_to_MSS25 -|- INFORMATION -|- tpch_test.dbo.orders_7_primarykey -|- Table \"dbo\".\"orders_7_primarykey\" has a Clustered Index. BulkCopy will use KeepNulls and UseInternalTransaction and avoid Tablock\n",
      "2025-06-13T22:56:19.971 +02:00 -|- FastTransfer -|- MSS22_to_MSS25 -|- INFORMATION -|- tpch_test.dbo.orders_7_primarykey -|- BulkCopy to \"dbo\".\"orders_7_primarykey\" with BatchSize = 1048576, Timeout = 3600\n",
      "2025-06-13T22:56:19.972 +02:00 -|- FastTransfer -|- MSS22_to_MSS25 -|- WARNING -|- tpch_test.dbo.orders_7_primarykey -|- Only 9 out of 10 columns were mapped by name to the target table \"dbo\".\"orders_7_primarykey\"\n",
      "2025-06-13T22:56:24.540 +02:00 -|- FastTransfer -|- MSS22_to_MSS25 -|- INFORMATION -|- tpch_test.dbo.orders_7_primarykey -|- Completed Load Query 2 for o_orderkey between 8063200 and 12095555 : 937501 rows x 9 columns in 4656ms\n",
      "2025-06-13T22:56:24.593 +02:00 -|- FastTransfer -|- MSS22_to_MSS25 -|- INFORMATION -|- tpch_test.dbo.orders_7_primarykey -|- Completed Load Query 1 for o_orderkey between 4030402 and 8063175 : 937501 rows x 9 columns in 4709ms\n",
      "2025-06-13T22:56:24.618 +02:00 -|- FastTransfer -|- MSS22_to_MSS25 -|- INFORMATION -|- tpch_test.dbo.orders_7_primarykey -|- Completed Load Query 0 for o_orderkey between 1 and 4030401 : 937500 rows x 9 columns in 4734ms\n",
      "2025-06-13T22:56:25.473 +02:00 -|- FastTransfer -|- MSS22_to_MSS25 -|- INFORMATION -|- tpch_test.dbo.orders_7_primarykey -|- Completed Load Query 6 for o_orderkey between 24192838 and 28226534 : 937501 rows x 9 columns in 5589ms\n",
      "2025-06-13T22:56:25.483 +02:00 -|- FastTransfer -|- MSS22_to_MSS25 -|- INFORMATION -|- tpch_test.dbo.orders_7_primarykey -|- Completed Load Query 13 for o_orderkey between 52413184 and 56445281 : 937501 rows x 9 columns in 5597ms\n",
      "2025-06-13T22:56:25.491 +02:00 -|- FastTransfer -|- MSS22_to_MSS25 -|- INFORMATION -|- tpch_test.dbo.orders_7_primarykey -|- Completed Load Query 11 for o_orderkey between 44350020 and 48381669 : 937501 rows x 9 columns in 5606ms\n",
      "2025-06-13T22:56:25.505 +02:00 -|- FastTransfer -|- MSS22_to_MSS25 -|- INFORMATION -|- tpch_test.dbo.orders_7_primarykey -|- Completed Load Query 7 for o_orderkey between 28226535 and 32255681 : 937501 rows x 9 columns in 5621ms\n",
      "2025-06-13T22:56:25.518 +02:00 -|- FastTransfer -|- MSS22_to_MSS25 -|- INFORMATION -|- tpch_test.dbo.orders_7_primarykey -|- Completed Load Query 9 for o_orderkey between 36288230 and 40319808 : 937501 rows x 9 columns in 5633ms\n",
      "2025-06-13T22:56:25.539 +02:00 -|- FastTransfer -|- MSS22_to_MSS25 -|- INFORMATION -|- tpch_test.dbo.orders_7_primarykey -|- Completed Load Query 15 for o_orderkey between 66374081 and 119999974 : 937486 rows x 9 columns in 5653ms\n",
      "2025-06-13T22:56:25.790 +02:00 -|- FastTransfer -|- MSS22_to_MSS25 -|- INFORMATION -|- tpch_test.dbo.orders_7_primarykey -|- Completed Load Query 5 for o_orderkey between 20160224 and 24192837 : 937501 rows x 9 columns in 5906ms\n",
      "2025-06-13T22:56:25.798 +02:00 -|- FastTransfer -|- MSS22_to_MSS25 -|- INFORMATION -|- tpch_test.dbo.orders_7_primarykey -|- Completed Load Query 12 for o_orderkey between 48381670 and 52413159 : 937501 rows x 9 columns in 5913ms\n",
      "2025-06-13T22:56:25.798 +02:00 -|- FastTransfer -|- MSS22_to_MSS25 -|- INFORMATION -|- tpch_test.dbo.orders_7_primarykey -|- Completed Load Query 3 for o_orderkey between 12095556 and 16128901 : 937501 rows x 9 columns in 5914ms\n",
      "2025-06-13T22:56:25.834 +02:00 -|- FastTransfer -|- MSS22_to_MSS25 -|- INFORMATION -|- tpch_test.dbo.orders_7_primarykey -|- Completed Load Query 10 for o_orderkey between 40319809 and 44350019 : 937501 rows x 9 columns in 5949ms\n",
      "2025-06-13T22:56:25.838 +02:00 -|- FastTransfer -|- MSS22_to_MSS25 -|- INFORMATION -|- tpch_test.dbo.orders_7_primarykey -|- Completed Load Query 14 for o_orderkey between 56445282 and 66373955 : 937501 rows x 9 columns in 5953ms\n",
      "2025-06-13T22:56:25.845 +02:00 -|- FastTransfer -|- MSS22_to_MSS25 -|- INFORMATION -|- tpch_test.dbo.orders_7_primarykey -|- Completed Load Query 4 for o_orderkey between 16128902 and 20160199 : 937501 rows x 9 columns in 5961ms\n",
      "2025-06-13T22:56:25.846 +02:00 -|- FastTransfer -|- MSS22_to_MSS25 -|- INFORMATION -|- tpch_test.dbo.orders_7_primarykey -|- Completed Load Query 8 for o_orderkey between 32255682 and 36288229 : 937501 rows x 9 columns in 5962ms\n",
      "2025-06-13T22:56:25.847 +02:00 -|- FastTransfer -|- MSS22_to_MSS25 -|- INFORMATION -|- tpch_test.dbo.orders_7_primarykey -|- Total rows : 15000000\n",
      "2025-06-13T22:56:25.847 +02:00 -|- FastTransfer -|- MSS22_to_MSS25 -|- INFORMATION -|- tpch_test.dbo.orders_7_primarykey -|- Total columns : 9\n",
      "2025-06-13T22:56:25.847 +02:00 -|- FastTransfer -|- MSS22_to_MSS25 -|- INFORMATION -|- tpch_test.dbo.orders_7_primarykey -|- Total cells : 135000000\n",
      "2025-06-13T22:56:25.847 +02:00 -|- FastTransfer -|- MSS22_to_MSS25 -|- INFORMATION -|- tpch_test.dbo.orders_7_primarykey -|- Rows Throughput : 2058701 rows/s\n",
      "2025-06-13T22:56:25.847 +02:00 -|- FastTransfer -|- MSS22_to_MSS25 -|- INFORMATION -|- tpch_test.dbo.orders_7_primarykey -|- Cells Throughput : 18528328 cells/s\n",
      "2025-06-13T22:56:25.847 +02:00 -|- FastTransfer -|- MSS22_to_MSS25 -|- INFORMATION -|- tpch_test.dbo.orders_7_primarykey -|- Transfert time : Elapsed=7286 ms\n",
      "2025-06-13T22:56:25.847 +02:00 -|- FastTransfer -|- MSS22_to_MSS25 -|- INFORMATION -|- tpch_test.dbo.orders_7_primarykey -|- Total time : Elapsed=7488 ms\n",
      "2025-06-13T22:56:25.847 +02:00 -|- FastTransfer -|- MSS22_to_MSS25 -|- INFORMATION -|- tpch_test.dbo.orders_7_primarykey -|- Completed Load\n"
     ]
    }
   ],
   "source": [
    "cd D:\\FastTransfer\n",
    "\n",
    ".\\FastTransfer.exe `\n",
    "--sourceconnectiontype \"mssql\" `\n",
    "--sourceserver \"localhost\" `\n",
    "--sourcedatabase \"tpch10_collation_bin2\" `\n",
    "--sourcetrusted `\n",
    "--sourceschema \"dbo\" `\n",
    "--sourcetable \"orders_15M\" `\n",
    "`\n",
    "--targetconnectiontype \"msbulk\" `\n",
    "--targetserver \"localhost\\SS2025\" `\n",
    "--targettrusted `\n",
    "--targetdatabase \"tpch_test\" `\n",
    "--targetschema \"dbo\" `\n",
    "--targettable \"orders_7_primarykey\" `\n",
    "`\n",
    "--loadmode \"Truncate\" `\n",
    "--mapmethod \"Name\" `\n",
    "--method \"Ntile\" `\n",
    "--distributekeycolumn \"o_orderkey\" `\n",
    "--degree -2 `\n",
    "--runid \"MSS22_to_MSS25\""
   ]
  },
  {
   "cell_type": "code",
   "execution_count": null,
   "id": "143c30a0",
   "metadata": {
    "polyglot_notebook": {
     "kernelName": "sql-SS2025_tpch_test"
    }
   },
   "outputs": [
    {
     "data": {
      "text/plain": [
       "(1 ligne affectée)"
      ]
     },
     "metadata": {},
     "output_type": "display_data"
    },
    {
     "data": {
      "text/csv": [
       "count_orders_7_primarykey\r\n",
       "15,000,000\r\n"
      ],
      "text/html": [
       "<table><thead><tr><td><span>count_orders_7_primarykey</span></td></tr></thead><tbody><tr><td>15,000,000</td></tr></tbody></table><style>\r\n",
       ".dni-code-hint {\r\n",
       "    font-style: italic;\r\n",
       "    overflow: hidden;\r\n",
       "    white-space: nowrap;\r\n",
       "}\r\n",
       ".dni-treeview {\r\n",
       "    white-space: nowrap;\r\n",
       "}\r\n",
       ".dni-treeview td {\r\n",
       "    vertical-align: top;\r\n",
       "    text-align: start;\r\n",
       "}\r\n",
       "details.dni-treeview {\r\n",
       "    padding-left: 1em;\r\n",
       "}\r\n",
       "table td {\r\n",
       "    text-align: start;\r\n",
       "}\r\n",
       "table tr { \r\n",
       "    vertical-align: top; \r\n",
       "    margin: 0em 0px;\r\n",
       "}\r\n",
       "table tr td pre \r\n",
       "{ \r\n",
       "    vertical-align: top !important; \r\n",
       "    margin: 0em 0px !important;\r\n",
       "} \r\n",
       "table th {\r\n",
       "    text-align: start;\r\n",
       "}\r\n",
       "</style>"
      ]
     },
     "metadata": {},
     "output_type": "display_data"
    }
   ],
   "source": [
    "SELECT FORMAT(count(*),'###,###,###') count_orders_7_primarykey from orders_7_primarykey;"
   ]
  },
  {
   "cell_type": "markdown",
   "id": "d9846f98",
   "metadata": {},
   "source": [
    "#### Target orders with a primary key and one secondary index"
   ]
  },
  {
   "cell_type": "code",
   "execution_count": null,
   "id": "a2d311b5",
   "metadata": {
    "polyglot_notebook": {
     "kernelName": "sql-SS2025_tpch_test"
    }
   },
   "outputs": [
    {
     "data": {
      "text/plain": [
       "Commandes exécutées."
      ]
     },
     "metadata": {},
     "output_type": "display_data"
    }
   ],
   "source": [
    "CREATE INDEX IX_o_custkey ON orders_7_primarykey(o_custkey);"
   ]
  },
  {
   "cell_type": "code",
   "execution_count": null,
   "id": "39089a48",
   "metadata": {
    "polyglot_notebook": {
     "kernelName": "pwsh"
    }
   },
   "outputs": [
    {
     "name": "stdout",
     "output_type": "stream",
     "text": [
      "2025-06-13T22:56:28.897 +02:00 -|- FastTransfer -|- MSS22_to_MSS25 -|- INFORMATION -|- tpch_test.dbo.orders_7_primarykey -|- Starting\n",
      "2025-06-13T22:56:28.905 +02:00 -|- FastTransfer -|- MSS22_to_MSS25 -|- INFORMATION -|- tpch_test.dbo.orders_7_primarykey -|- FastTransfer Version : 0.13.4.0 Architecture : X64 - Framework : .NET 8.0.15\n",
      "2025-06-13T22:56:28.906 +02:00 -|- FastTransfer -|- MSS22_to_MSS25 -|- INFORMATION -|- tpch_test.dbo.orders_7_primarykey -|- OS : Microsoft Windows 10.0.26100\n",
      "2025-06-13T22:56:28.906 +02:00 -|- FastTransfer -|- MSS22_to_MSS25 -|- INFORMATION -|- tpch_test.dbo.orders_7_primarykey -|- Process ID : 28124\n",
      "2025-06-13T22:56:28.906 +02:00 -|- FastTransfer -|- MSS22_to_MSS25 -|- INFORMATION -|- tpch_test.dbo.orders_7_primarykey -|- Provided Run ID : MSS22_to_MSS25\n",
      "2025-06-13T22:56:28.906 +02:00 -|- FastTransfer -|- MSS22_to_MSS25 -|- INFORMATION -|- tpch_test.dbo.orders_7_primarykey -|- Source Connection Type : mssql\n",
      "2025-06-13T22:56:28.906 +02:00 -|- FastTransfer -|- MSS22_to_MSS25 -|- INFORMATION -|- tpch_test.dbo.orders_7_primarykey -|- Source SqlInstance : localhost\n",
      "2025-06-13T22:56:28.906 +02:00 -|- FastTransfer -|- MSS22_to_MSS25 -|- INFORMATION -|- tpch_test.dbo.orders_7_primarykey -|- Source Database : tpch10_collation_bin2\n",
      "2025-06-13T22:56:28.906 +02:00 -|- FastTransfer -|- MSS22_to_MSS25 -|- INFORMATION -|- tpch_test.dbo.orders_7_primarykey -|- Source Trusted Connection : True\n",
      "2025-06-13T22:56:28.906 +02:00 -|- FastTransfer -|- MSS22_to_MSS25 -|- INFORMATION -|- tpch_test.dbo.orders_7_primarykey -|- Source Schema : dbo\n",
      "2025-06-13T22:56:28.906 +02:00 -|- FastTransfer -|- MSS22_to_MSS25 -|- INFORMATION -|- tpch_test.dbo.orders_7_primarykey -|- Source Table : orders_15M\n",
      "2025-06-13T22:56:28.906 +02:00 -|- FastTransfer -|- MSS22_to_MSS25 -|- INFORMATION -|- tpch_test.dbo.orders_7_primarykey -|- Target Type : msbulk\n",
      "2025-06-13T22:56:28.906 +02:00 -|- FastTransfer -|- MSS22_to_MSS25 -|- INFORMATION -|- tpch_test.dbo.orders_7_primarykey -|- Target Server : localhost\\SS2025\n",
      "2025-06-13T22:56:28.906 +02:00 -|- FastTransfer -|- MSS22_to_MSS25 -|- INFORMATION -|- tpch_test.dbo.orders_7_primarykey -|- Target Database : tpch_test\n",
      "2025-06-13T22:56:28.906 +02:00 -|- FastTransfer -|- MSS22_to_MSS25 -|- INFORMATION -|- tpch_test.dbo.orders_7_primarykey -|- Target Schema : dbo\n",
      "2025-06-13T22:56:28.906 +02:00 -|- FastTransfer -|- MSS22_to_MSS25 -|- INFORMATION -|- tpch_test.dbo.orders_7_primarykey -|- Target Table : orders_7_primarykey\n",
      "2025-06-13T22:56:28.906 +02:00 -|- FastTransfer -|- MSS22_to_MSS25 -|- INFORMATION -|- tpch_test.dbo.orders_7_primarykey -|- Target Trusted Connection : True\n",
      "2025-06-13T22:56:28.906 +02:00 -|- FastTransfer -|- MSS22_to_MSS25 -|- INFORMATION -|- tpch_test.dbo.orders_7_primarykey -|- Columns Map Method : Name\n",
      "2025-06-13T22:56:28.906 +02:00 -|- FastTransfer -|- MSS22_to_MSS25 -|- INFORMATION -|- tpch_test.dbo.orders_7_primarykey -|- Degree : -2\n",
      "2025-06-13T22:56:28.906 +02:00 -|- FastTransfer -|- MSS22_to_MSS25 -|- INFORMATION -|- tpch_test.dbo.orders_7_primarykey -|- Distribute Method : Ntile\n",
      "2025-06-13T22:56:28.906 +02:00 -|- FastTransfer -|- MSS22_to_MSS25 -|- INFORMATION -|- tpch_test.dbo.orders_7_primarykey -|- Distribute Column : o_orderkey\n",
      "2025-06-13T22:56:28.906 +02:00 -|- FastTransfer -|- MSS22_to_MSS25 -|- INFORMATION -|- tpch_test.dbo.orders_7_primarykey -|- Bulkcopy Batch Size : 1048576\n",
      "2025-06-13T22:56:28.906 +02:00 -|- FastTransfer -|- MSS22_to_MSS25 -|- INFORMATION -|- tpch_test.dbo.orders_7_primarykey -|- Load Mode : Truncate\n",
      "2025-06-13T22:56:28.906 +02:00 -|- FastTransfer -|- MSS22_to_MSS25 -|- INFORMATION -|- tpch_test.dbo.orders_7_primarykey -|- Use Work Tables : False\n",
      "2025-06-13T22:56:28.907 +02:00 -|- FastTransfer -|- MSS22_to_MSS25 -|- INFORMATION -|- tpch_test.dbo.orders_7_primarykey -|- Encoding used : Unicode (UTF-8) - 65001 - utf-8\n",
      "2025-06-13T22:56:28.924 +02:00 -|- FastTransfer -|- MSS22_to_MSS25 -|- INFORMATION -|- tpch_test.dbo.orders_7_primarykey -|- Source Connection String : Data Source=localhost;Initial Catalog=tpch10_collation_bin2;Integrated Security=True;Connect Timeout=120;Encrypt=True;Trust Server Certificate=True;Application Name=FastTransfer;Application Intent=ReadOnly;Command Timeout=10800\n",
      "2025-06-13T22:56:28.924 +02:00 -|- FastTransfer -|- MSS22_to_MSS25 -|- INFORMATION -|- tpch_test.dbo.orders_7_primarykey -|- Target Connection String : Data Source=localhost\\SS2025;Initial Catalog=tpch_test;Integrated Security=True;Connect Timeout=120;Encrypt=True;Trust Server Certificate=True;Application Name=FastTransfer;Application Intent=ReadWrite;Command Timeout=10800\n",
      "2025-06-13T22:56:28.924 +02:00 -|- FastTransfer -|- MSS22_to_MSS25 -|- INFORMATION -|- tpch_test.dbo.orders_7_primarykey -|- Source Database Version : Microsoft SQL Server 2022 (RTM-CU17) (KB5048038) - 16.0.4175.1 (X64)  \tDec 13 2024 09:01:53  \tCopyright (C) 2022 Microsoft Corporation \tDeveloper Edition (64-bit) on Windows 10 Pro 10.0 <X64> (Build 26100: ) (Hypervisor) \n",
      "2025-06-13T22:56:28.924 +02:00 -|- FastTransfer -|- MSS22_to_MSS25 -|- INFORMATION -|- tpch_test.dbo.orders_7_primarykey -|- Target Database Version : Microsoft SQL Server 2025 (CTP2.0) - 17.0.700.9 (X64)  \tMay  8 2025 19:14:27  \tCopyright (C) 2025 Microsoft Corporation \tEnterprise Developer Edition (64-bit) on Windows 10 Pro 10.0 <X64> (Build 26100: ) (Hypervisor) \n",
      "2025-06-13T22:56:28.930 +02:00 -|- FastTransfer -|- MSS22_to_MSS25 -|- INFORMATION -|- tpch_test.dbo.orders_7_primarykey -|- Degree of parallelism was computed to 16 (=> 32\\2)\n",
      "2025-06-13T22:56:30.314 +02:00 -|- FastTransfer -|- MSS22_to_MSS25 -|- INFORMATION -|- tpch_test.dbo.orders_7_primarykey -|- Ntile DataSegments Computation Completed in 1384 ms\n",
      "2025-06-13T22:56:30.317 +02:00 -|- FastTransfer -|- MSS22_to_MSS25 -|- INFORMATION -|- tpch_test.dbo.orders_7_primarykey -|- Start Loading Data using distribution method NTile\n",
      "2025-06-13T22:56:30.318 +02:00 -|- FastTransfer -|- MSS22_to_MSS25 -|- INFORMATION -|- tpch_test.dbo.orders_7_primarykey -|- Table \"dbo\".\"orders_7_primarykey\" has a Clustered Index. BulkCopy will use KeepNulls and UseInternalTransaction and avoid Tablock\n",
      "2025-06-13T22:56:30.318 +02:00 -|- FastTransfer -|- MSS22_to_MSS25 -|- INFORMATION -|- tpch_test.dbo.orders_7_primarykey -|- BulkCopy to \"dbo\".\"orders_7_primarykey\" with BatchSize = 1048576, Timeout = 3600\n",
      "2025-06-13T22:56:30.319 +02:00 -|- FastTransfer -|- MSS22_to_MSS25 -|- WARNING -|- tpch_test.dbo.orders_7_primarykey -|- Only 9 out of 10 columns were mapped by name to the target table \"dbo\".\"orders_7_primarykey\"\n",
      "2025-06-13T22:56:30.328 +02:00 -|- FastTransfer -|- MSS22_to_MSS25 -|- INFORMATION -|- tpch_test.dbo.orders_7_primarykey -|- Start Loading Data using distribution method NTile\n",
      "2025-06-13T22:56:30.328 +02:00 -|- FastTransfer -|- MSS22_to_MSS25 -|- INFORMATION -|- tpch_test.dbo.orders_7_primarykey -|- Table \"dbo\".\"orders_7_primarykey\" has a Clustered Index. BulkCopy will use KeepNulls and UseInternalTransaction and avoid Tablock\n",
      "2025-06-13T22:56:30.328 +02:00 -|- FastTransfer -|- MSS22_to_MSS25 -|- INFORMATION -|- tpch_test.dbo.orders_7_primarykey -|- BulkCopy to \"dbo\".\"orders_7_primarykey\" with BatchSize = 1048576, Timeout = 3600\n",
      "2025-06-13T22:56:30.329 +02:00 -|- FastTransfer -|- MSS22_to_MSS25 -|- WARNING -|- tpch_test.dbo.orders_7_primarykey -|- Only 9 out of 10 columns were mapped by name to the target table \"dbo\".\"orders_7_primarykey\"\n",
      "2025-06-13T22:56:30.330 +02:00 -|- FastTransfer -|- MSS22_to_MSS25 -|- INFORMATION -|- tpch_test.dbo.orders_7_primarykey -|- Start Loading Data using distribution method NTile\n",
      "2025-06-13T22:56:30.331 +02:00 -|- FastTransfer -|- MSS22_to_MSS25 -|- INFORMATION -|- tpch_test.dbo.orders_7_primarykey -|- Table \"dbo\".\"orders_7_primarykey\" has a Clustered Index. BulkCopy will use KeepNulls and UseInternalTransaction and avoid Tablock\n",
      "2025-06-13T22:56:30.331 +02:00 -|- FastTransfer -|- MSS22_to_MSS25 -|- INFORMATION -|- tpch_test.dbo.orders_7_primarykey -|- BulkCopy to \"dbo\".\"orders_7_primarykey\" with BatchSize = 1048576, Timeout = 3600\n",
      "2025-06-13T22:56:30.333 +02:00 -|- FastTransfer -|- MSS22_to_MSS25 -|- WARNING -|- tpch_test.dbo.orders_7_primarykey -|- Only 9 out of 10 columns were mapped by name to the target table \"dbo\".\"orders_7_primarykey\"\n",
      "2025-06-13T22:56:30.337 +02:00 -|- FastTransfer -|- MSS22_to_MSS25 -|- INFORMATION -|- tpch_test.dbo.orders_7_primarykey -|- Start Loading Data using distribution method NTile\n",
      "2025-06-13T22:56:30.337 +02:00 -|- FastTransfer -|- MSS22_to_MSS25 -|- INFORMATION -|- tpch_test.dbo.orders_7_primarykey -|- Table \"dbo\".\"orders_7_primarykey\" has a Clustered Index. BulkCopy will use KeepNulls and UseInternalTransaction and avoid Tablock\n",
      "2025-06-13T22:56:30.337 +02:00 -|- FastTransfer -|- MSS22_to_MSS25 -|- INFORMATION -|- tpch_test.dbo.orders_7_primarykey -|- BulkCopy to \"dbo\".\"orders_7_primarykey\" with BatchSize = 1048576, Timeout = 3600\n",
      "2025-06-13T22:56:30.339 +02:00 -|- FastTransfer -|- MSS22_to_MSS25 -|- WARNING -|- tpch_test.dbo.orders_7_primarykey -|- Only 9 out of 10 columns were mapped by name to the target table \"dbo\".\"orders_7_primarykey\"\n",
      "2025-06-13T22:56:30.339 +02:00 -|- FastTransfer -|- MSS22_to_MSS25 -|- INFORMATION -|- tpch_test.dbo.orders_7_primarykey -|- Start Loading Data using distribution method NTile\n",
      "2025-06-13T22:56:30.340 +02:00 -|- FastTransfer -|- MSS22_to_MSS25 -|- INFORMATION -|- tpch_test.dbo.orders_7_primarykey -|- Table \"dbo\".\"orders_7_primarykey\" has a Clustered Index. BulkCopy will use KeepNulls and UseInternalTransaction and avoid Tablock\n",
      "2025-06-13T22:56:30.340 +02:00 -|- FastTransfer -|- MSS22_to_MSS25 -|- INFORMATION -|- tpch_test.dbo.orders_7_primarykey -|- BulkCopy to \"dbo\".\"orders_7_primarykey\" with BatchSize = 1048576, Timeout = 3600\n",
      "2025-06-13T22:56:30.341 +02:00 -|- FastTransfer -|- MSS22_to_MSS25 -|- WARNING -|- tpch_test.dbo.orders_7_primarykey -|- Only 9 out of 10 columns were mapped by name to the target table \"dbo\".\"orders_7_primarykey\"\n",
      "2025-06-13T22:56:30.345 +02:00 -|- FastTransfer -|- MSS22_to_MSS25 -|- INFORMATION -|- tpch_test.dbo.orders_7_primarykey -|- Start Loading Data using distribution method NTile\n",
      "2025-06-13T22:56:30.345 +02:00 -|- FastTransfer -|- MSS22_to_MSS25 -|- INFORMATION -|- tpch_test.dbo.orders_7_primarykey -|- Table \"dbo\".\"orders_7_primarykey\" has a Clustered Index. BulkCopy will use KeepNulls and UseInternalTransaction and avoid Tablock\n",
      "2025-06-13T22:56:30.345 +02:00 -|- FastTransfer -|- MSS22_to_MSS25 -|- INFORMATION -|- tpch_test.dbo.orders_7_primarykey -|- BulkCopy to \"dbo\".\"orders_7_primarykey\" with BatchSize = 1048576, Timeout = 3600\n",
      "2025-06-13T22:56:30.346 +02:00 -|- FastTransfer -|- MSS22_to_MSS25 -|- WARNING -|- tpch_test.dbo.orders_7_primarykey -|- Only 9 out of 10 columns were mapped by name to the target table \"dbo\".\"orders_7_primarykey\"\n",
      "2025-06-13T22:56:30.348 +02:00 -|- FastTransfer -|- MSS22_to_MSS25 -|- INFORMATION -|- tpch_test.dbo.orders_7_primarykey -|- Start Loading Data using distribution method NTile\n",
      "2025-06-13T22:56:30.349 +02:00 -|- FastTransfer -|- MSS22_to_MSS25 -|- INFORMATION -|- tpch_test.dbo.orders_7_primarykey -|- Table \"dbo\".\"orders_7_primarykey\" has a Clustered Index. BulkCopy will use KeepNulls and UseInternalTransaction and avoid Tablock\n",
      "2025-06-13T22:56:30.349 +02:00 -|- FastTransfer -|- MSS22_to_MSS25 -|- INFORMATION -|- tpch_test.dbo.orders_7_primarykey -|- BulkCopy to \"dbo\".\"orders_7_primarykey\" with BatchSize = 1048576, Timeout = 3600\n",
      "2025-06-13T22:56:30.350 +02:00 -|- FastTransfer -|- MSS22_to_MSS25 -|- WARNING -|- tpch_test.dbo.orders_7_primarykey -|- Only 9 out of 10 columns were mapped by name to the target table \"dbo\".\"orders_7_primarykey\"\n",
      "2025-06-13T22:56:30.354 +02:00 -|- FastTransfer -|- MSS22_to_MSS25 -|- INFORMATION -|- tpch_test.dbo.orders_7_primarykey -|- Start Loading Data using distribution method NTile\n",
      "2025-06-13T22:56:30.355 +02:00 -|- FastTransfer -|- MSS22_to_MSS25 -|- INFORMATION -|- tpch_test.dbo.orders_7_primarykey -|- Table \"dbo\".\"orders_7_primarykey\" has a Clustered Index. BulkCopy will use KeepNulls and UseInternalTransaction and avoid Tablock\n",
      "2025-06-13T22:56:30.355 +02:00 -|- FastTransfer -|- MSS22_to_MSS25 -|- INFORMATION -|- tpch_test.dbo.orders_7_primarykey -|- BulkCopy to \"dbo\".\"orders_7_primarykey\" with BatchSize = 1048576, Timeout = 3600\n",
      "2025-06-13T22:56:30.357 +02:00 -|- FastTransfer -|- MSS22_to_MSS25 -|- WARNING -|- tpch_test.dbo.orders_7_primarykey -|- Only 9 out of 10 columns were mapped by name to the target table \"dbo\".\"orders_7_primarykey\"\n",
      "2025-06-13T22:56:30.358 +02:00 -|- FastTransfer -|- MSS22_to_MSS25 -|- INFORMATION -|- tpch_test.dbo.orders_7_primarykey -|- Start Loading Data using distribution method NTile\n",
      "2025-06-13T22:56:30.358 +02:00 -|- FastTransfer -|- MSS22_to_MSS25 -|- INFORMATION -|- tpch_test.dbo.orders_7_primarykey -|- Table \"dbo\".\"orders_7_primarykey\" has a Clustered Index. BulkCopy will use KeepNulls and UseInternalTransaction and avoid Tablock\n",
      "2025-06-13T22:56:30.359 +02:00 -|- FastTransfer -|- MSS22_to_MSS25 -|- INFORMATION -|- tpch_test.dbo.orders_7_primarykey -|- BulkCopy to \"dbo\".\"orders_7_primarykey\" with BatchSize = 1048576, Timeout = 3600\n",
      "2025-06-13T22:56:30.360 +02:00 -|- FastTransfer -|- MSS22_to_MSS25 -|- WARNING -|- tpch_test.dbo.orders_7_primarykey -|- Only 9 out of 10 columns were mapped by name to the target table \"dbo\".\"orders_7_primarykey\"\n",
      "2025-06-13T22:56:30.366 +02:00 -|- FastTransfer -|- MSS22_to_MSS25 -|- INFORMATION -|- tpch_test.dbo.orders_7_primarykey -|- Start Loading Data using distribution method NTile\n",
      "2025-06-13T22:56:30.366 +02:00 -|- FastTransfer -|- MSS22_to_MSS25 -|- INFORMATION -|- tpch_test.dbo.orders_7_primarykey -|- Table \"dbo\".\"orders_7_primarykey\" has a Clustered Index. BulkCopy will use KeepNulls and UseInternalTransaction and avoid Tablock\n",
      "2025-06-13T22:56:30.367 +02:00 -|- FastTransfer -|- MSS22_to_MSS25 -|- INFORMATION -|- tpch_test.dbo.orders_7_primarykey -|- BulkCopy to \"dbo\".\"orders_7_primarykey\" with BatchSize = 1048576, Timeout = 3600\n",
      "2025-06-13T22:56:30.368 +02:00 -|- FastTransfer -|- MSS22_to_MSS25 -|- WARNING -|- tpch_test.dbo.orders_7_primarykey -|- Only 9 out of 10 columns were mapped by name to the target table \"dbo\".\"orders_7_primarykey\"\n",
      "2025-06-13T22:56:30.376 +02:00 -|- FastTransfer -|- MSS22_to_MSS25 -|- INFORMATION -|- tpch_test.dbo.orders_7_primarykey -|- Start Loading Data using distribution method NTile\n",
      "2025-06-13T22:56:30.376 +02:00 -|- FastTransfer -|- MSS22_to_MSS25 -|- INFORMATION -|- tpch_test.dbo.orders_7_primarykey -|- Table \"dbo\".\"orders_7_primarykey\" has a Clustered Index. BulkCopy will use KeepNulls and UseInternalTransaction and avoid Tablock\n",
      "2025-06-13T22:56:30.376 +02:00 -|- FastTransfer -|- MSS22_to_MSS25 -|- INFORMATION -|- tpch_test.dbo.orders_7_primarykey -|- BulkCopy to \"dbo\".\"orders_7_primarykey\" with BatchSize = 1048576, Timeout = 3600\n",
      "2025-06-13T22:56:30.378 +02:00 -|- FastTransfer -|- MSS22_to_MSS25 -|- WARNING -|- tpch_test.dbo.orders_7_primarykey -|- Only 9 out of 10 columns were mapped by name to the target table \"dbo\".\"orders_7_primarykey\"\n",
      "2025-06-13T22:56:30.383 +02:00 -|- FastTransfer -|- MSS22_to_MSS25 -|- INFORMATION -|- tpch_test.dbo.orders_7_primarykey -|- Start Loading Data using distribution method NTile\n",
      "2025-06-13T22:56:30.383 +02:00 -|- FastTransfer -|- MSS22_to_MSS25 -|- INFORMATION -|- tpch_test.dbo.orders_7_primarykey -|- Table \"dbo\".\"orders_7_primarykey\" has a Clustered Index. BulkCopy will use KeepNulls and UseInternalTransaction and avoid Tablock\n",
      "2025-06-13T22:56:30.383 +02:00 -|- FastTransfer -|- MSS22_to_MSS25 -|- INFORMATION -|- tpch_test.dbo.orders_7_primarykey -|- BulkCopy to \"dbo\".\"orders_7_primarykey\" with BatchSize = 1048576, Timeout = 3600\n",
      "2025-06-13T22:56:30.385 +02:00 -|- FastTransfer -|- MSS22_to_MSS25 -|- WARNING -|- tpch_test.dbo.orders_7_primarykey -|- Only 9 out of 10 columns were mapped by name to the target table \"dbo\".\"orders_7_primarykey\"\n",
      "2025-06-13T22:56:30.388 +02:00 -|- FastTransfer -|- MSS22_to_MSS25 -|- INFORMATION -|- tpch_test.dbo.orders_7_primarykey -|- Start Loading Data using distribution method NTile\n",
      "2025-06-13T22:56:30.388 +02:00 -|- FastTransfer -|- MSS22_to_MSS25 -|- INFORMATION -|- tpch_test.dbo.orders_7_primarykey -|- Table \"dbo\".\"orders_7_primarykey\" has a Clustered Index. BulkCopy will use KeepNulls and UseInternalTransaction and avoid Tablock\n",
      "2025-06-13T22:56:30.388 +02:00 -|- FastTransfer -|- MSS22_to_MSS25 -|- INFORMATION -|- tpch_test.dbo.orders_7_primarykey -|- BulkCopy to \"dbo\".\"orders_7_primarykey\" with BatchSize = 1048576, Timeout = 3600\n",
      "2025-06-13T22:56:30.389 +02:00 -|- FastTransfer -|- MSS22_to_MSS25 -|- WARNING -|- tpch_test.dbo.orders_7_primarykey -|- Only 9 out of 10 columns were mapped by name to the target table \"dbo\".\"orders_7_primarykey\"\n",
      "2025-06-13T22:56:30.396 +02:00 -|- FastTransfer -|- MSS22_to_MSS25 -|- INFORMATION -|- tpch_test.dbo.orders_7_primarykey -|- Start Loading Data using distribution method NTile\n",
      "2025-06-13T22:56:30.397 +02:00 -|- FastTransfer -|- MSS22_to_MSS25 -|- INFORMATION -|- tpch_test.dbo.orders_7_primarykey -|- Table \"dbo\".\"orders_7_primarykey\" has a Clustered Index. BulkCopy will use KeepNulls and UseInternalTransaction and avoid Tablock\n",
      "2025-06-13T22:56:30.397 +02:00 -|- FastTransfer -|- MSS22_to_MSS25 -|- INFORMATION -|- tpch_test.dbo.orders_7_primarykey -|- BulkCopy to \"dbo\".\"orders_7_primarykey\" with BatchSize = 1048576, Timeout = 3600\n",
      "2025-06-13T22:56:30.399 +02:00 -|- FastTransfer -|- MSS22_to_MSS25 -|- WARNING -|- tpch_test.dbo.orders_7_primarykey -|- Only 9 out of 10 columns were mapped by name to the target table \"dbo\".\"orders_7_primarykey\"\n",
      "2025-06-13T22:56:30.400 +02:00 -|- FastTransfer -|- MSS22_to_MSS25 -|- INFORMATION -|- tpch_test.dbo.orders_7_primarykey -|- Start Loading Data using distribution method NTile\n",
      "2025-06-13T22:56:30.400 +02:00 -|- FastTransfer -|- MSS22_to_MSS25 -|- INFORMATION -|- tpch_test.dbo.orders_7_primarykey -|- Table \"dbo\".\"orders_7_primarykey\" has a Clustered Index. BulkCopy will use KeepNulls and UseInternalTransaction and avoid Tablock\n",
      "2025-06-13T22:56:30.400 +02:00 -|- FastTransfer -|- MSS22_to_MSS25 -|- INFORMATION -|- tpch_test.dbo.orders_7_primarykey -|- BulkCopy to \"dbo\".\"orders_7_primarykey\" with BatchSize = 1048576, Timeout = 3600\n",
      "2025-06-13T22:56:30.402 +02:00 -|- FastTransfer -|- MSS22_to_MSS25 -|- WARNING -|- tpch_test.dbo.orders_7_primarykey -|- Only 9 out of 10 columns were mapped by name to the target table \"dbo\".\"orders_7_primarykey\"\n",
      "2025-06-13T22:56:30.407 +02:00 -|- FastTransfer -|- MSS22_to_MSS25 -|- INFORMATION -|- tpch_test.dbo.orders_7_primarykey -|- Start Loading Data using distribution method NTile\n",
      "2025-06-13T22:56:30.407 +02:00 -|- FastTransfer -|- MSS22_to_MSS25 -|- INFORMATION -|- tpch_test.dbo.orders_7_primarykey -|- Table \"dbo\".\"orders_7_primarykey\" has a Clustered Index. BulkCopy will use KeepNulls and UseInternalTransaction and avoid Tablock\n",
      "2025-06-13T22:56:30.408 +02:00 -|- FastTransfer -|- MSS22_to_MSS25 -|- INFORMATION -|- tpch_test.dbo.orders_7_primarykey -|- BulkCopy to \"dbo\".\"orders_7_primarykey\" with BatchSize = 1048576, Timeout = 3600\n",
      "2025-06-13T22:56:30.409 +02:00 -|- FastTransfer -|- MSS22_to_MSS25 -|- WARNING -|- tpch_test.dbo.orders_7_primarykey -|- Only 9 out of 10 columns were mapped by name to the target table \"dbo\".\"orders_7_primarykey\"\n",
      "2025-06-13T22:56:35.930 +02:00 -|- FastTransfer -|- MSS22_to_MSS25 -|- INFORMATION -|- tpch_test.dbo.orders_7_primarykey -|- Completed Load Query 0 for o_orderkey between 1 and 4030401 : 937500 rows x 9 columns in 5613ms\n",
      "2025-06-13T22:56:39.695 +02:00 -|- FastTransfer -|- MSS22_to_MSS25 -|- INFORMATION -|- tpch_test.dbo.orders_7_primarykey -|- Completed Load Query 6 for o_orderkey between 24192838 and 28226534 : 937501 rows x 9 columns in 9378ms\n",
      "2025-06-13T22:56:42.647 +02:00 -|- FastTransfer -|- MSS22_to_MSS25 -|- INFORMATION -|- tpch_test.dbo.orders_7_primarykey -|- Completed Load Query 4 for o_orderkey between 16128902 and 20160199 : 937501 rows x 9 columns in 12330ms\n",
      "2025-06-13T22:56:42.780 +02:00 -|- FastTransfer -|- MSS22_to_MSS25 -|- INFORMATION -|- tpch_test.dbo.orders_7_primarykey -|- Completed Load Query 2 for o_orderkey between 8063200 and 12095555 : 937501 rows x 9 columns in 12463ms\n",
      "2025-06-13T22:56:43.565 +02:00 -|- FastTransfer -|- MSS22_to_MSS25 -|- INFORMATION -|- tpch_test.dbo.orders_7_primarykey -|- Completed Load Query 15 for o_orderkey between 66374081 and 119999974 : 937486 rows x 9 columns in 13246ms\n",
      "2025-06-13T22:56:43.929 +02:00 -|- FastTransfer -|- MSS22_to_MSS25 -|- INFORMATION -|- tpch_test.dbo.orders_7_primarykey -|- Completed Load Query 1 for o_orderkey between 4030402 and 8063175 : 937501 rows x 9 columns in 13612ms\n",
      "2025-06-13T22:56:43.933 +02:00 -|- FastTransfer -|- MSS22_to_MSS25 -|- INFORMATION -|- tpch_test.dbo.orders_7_primarykey -|- Completed Load Query 10 for o_orderkey between 40319809 and 44350019 : 937501 rows x 9 columns in 13615ms\n",
      "2025-06-13T22:56:45.186 +02:00 -|- FastTransfer -|- MSS22_to_MSS25 -|- INFORMATION -|- tpch_test.dbo.orders_7_primarykey -|- Completed Load Query 13 for o_orderkey between 52413184 and 56445281 : 937501 rows x 9 columns in 14868ms\n",
      "2025-06-13T22:56:45.263 +02:00 -|- FastTransfer -|- MSS22_to_MSS25 -|- INFORMATION -|- tpch_test.dbo.orders_7_primarykey -|- Completed Load Query 7 for o_orderkey between 28226535 and 32255681 : 937501 rows x 9 columns in 14946ms\n",
      "2025-06-13T22:56:45.771 +02:00 -|- FastTransfer -|- MSS22_to_MSS25 -|- INFORMATION -|- tpch_test.dbo.orders_7_primarykey -|- Completed Load Query 5 for o_orderkey between 20160224 and 24192837 : 937501 rows x 9 columns in 15454ms\n",
      "2025-06-13T22:56:45.777 +02:00 -|- FastTransfer -|- MSS22_to_MSS25 -|- INFORMATION -|- tpch_test.dbo.orders_7_primarykey -|- Completed Load Query 11 for o_orderkey between 44350020 and 48381669 : 937501 rows x 9 columns in 15459ms\n",
      "2025-06-13T22:56:45.988 +02:00 -|- FastTransfer -|- MSS22_to_MSS25 -|- INFORMATION -|- tpch_test.dbo.orders_7_primarykey -|- Completed Load Query 3 for o_orderkey between 12095556 and 16128901 : 937501 rows x 9 columns in 15671ms\n",
      "2025-06-13T22:56:46.062 +02:00 -|- FastTransfer -|- MSS22_to_MSS25 -|- INFORMATION -|- tpch_test.dbo.orders_7_primarykey -|- Completed Load Query 12 for o_orderkey between 48381670 and 52413159 : 937501 rows x 9 columns in 15744ms\n",
      "2025-06-13T22:56:47.278 +02:00 -|- FastTransfer -|- MSS22_to_MSS25 -|- INFORMATION -|- tpch_test.dbo.orders_7_primarykey -|- Completed Load Query 8 for o_orderkey between 32255682 and 36288229 : 937501 rows x 9 columns in 16961ms\n",
      "2025-06-13T22:56:47.399 +02:00 -|- FastTransfer -|- MSS22_to_MSS25 -|- INFORMATION -|- tpch_test.dbo.orders_7_primarykey -|- Completed Load Query 14 for o_orderkey between 56445282 and 66373955 : 937501 rows x 9 columns in 17081ms\n",
      "2025-06-13T22:56:47.964 +02:00 -|- FastTransfer -|- MSS22_to_MSS25 -|- INFORMATION -|- tpch_test.dbo.orders_7_primarykey -|- Completed Load Query 9 for o_orderkey between 36288230 and 40319808 : 937501 rows x 9 columns in 17646ms\n",
      "2025-06-13T22:56:47.967 +02:00 -|- FastTransfer -|- MSS22_to_MSS25 -|- INFORMATION -|- tpch_test.dbo.orders_7_primarykey -|- Total rows : 15000000\n",
      "2025-06-13T22:56:47.967 +02:00 -|- FastTransfer -|- MSS22_to_MSS25 -|- INFORMATION -|- tpch_test.dbo.orders_7_primarykey -|- Total columns : 9\n",
      "2025-06-13T22:56:47.967 +02:00 -|- FastTransfer -|- MSS22_to_MSS25 -|- INFORMATION -|- tpch_test.dbo.orders_7_primarykey -|- Total cells : 135000000\n",
      "2025-06-13T22:56:47.967 +02:00 -|- FastTransfer -|- MSS22_to_MSS25 -|- INFORMATION -|- tpch_test.dbo.orders_7_primarykey -|- Rows Throughput : 787926 rows/s\n",
      "2025-06-13T22:56:47.967 +02:00 -|- FastTransfer -|- MSS22_to_MSS25 -|- INFORMATION -|- tpch_test.dbo.orders_7_primarykey -|- Cells Throughput : 7091346 cells/s\n",
      "2025-06-13T22:56:47.967 +02:00 -|- FastTransfer -|- MSS22_to_MSS25 -|- INFORMATION -|- tpch_test.dbo.orders_7_primarykey -|- Transfert time : Elapsed=19037 ms\n",
      "2025-06-13T22:56:47.967 +02:00 -|- FastTransfer -|- MSS22_to_MSS25 -|- INFORMATION -|- tpch_test.dbo.orders_7_primarykey -|- Total time : Elapsed=19239 ms\n",
      "2025-06-13T22:56:47.967 +02:00 -|- FastTransfer -|- MSS22_to_MSS25 -|- INFORMATION -|- tpch_test.dbo.orders_7_primarykey -|- Completed Load\n"
     ]
    }
   ],
   "source": [
    "cd D:\\FastTransfer\n",
    "\n",
    ".\\FastTransfer.exe `\n",
    "--sourceconnectiontype \"mssql\" `\n",
    "--sourceserver \"localhost\" `\n",
    "--sourcedatabase \"tpch10_collation_bin2\" `\n",
    "--sourcetrusted `\n",
    "--sourceschema \"dbo\" `\n",
    "--sourcetable \"orders_15M\" `\n",
    "`\n",
    "--targetconnectiontype \"msbulk\" `\n",
    "--targetserver \"localhost\\SS2025\" `\n",
    "--targettrusted `\n",
    "--targetdatabase \"tpch_test\" `\n",
    "--targetschema \"dbo\" `\n",
    "--targettable \"orders_7_primarykey\" `\n",
    "`\n",
    "--loadmode \"Truncate\" `\n",
    "--mapmethod \"Name\" `\n",
    "--method \"Ntile\" `\n",
    "--distributekeycolumn \"o_orderkey\" `\n",
    "--degree -2 `\n",
    "--runid \"MSS22_to_MSS25\""
   ]
  },
  {
   "cell_type": "markdown",
   "id": "53939b11",
   "metadata": {},
   "source": [
    "#### Target orders with a primary key and 2 secondary index\n",
    "\n",
    "Check sp_whoisactive results during load"
   ]
  },
  {
   "cell_type": "code",
   "execution_count": null,
   "id": "df137a4b",
   "metadata": {
    "polyglot_notebook": {
     "kernelName": "sql-SS2025_tpch_test"
    }
   },
   "outputs": [
    {
     "data": {
      "text/plain": [
       "Commandes exécutées."
      ]
     },
     "metadata": {},
     "output_type": "display_data"
    }
   ],
   "source": [
    "CREATE INDEX IX_o_orderdate ON orders_7_primarykey(o_orderdate);"
   ]
  },
  {
   "cell_type": "code",
   "execution_count": null,
   "id": "568fb09e",
   "metadata": {
    "polyglot_notebook": {
     "kernelName": "pwsh"
    }
   },
   "outputs": [
    {
     "name": "stdout",
     "output_type": "stream",
     "text": [
      "2025-06-13T22:56:50.743 +02:00 -|- FastTransfer -|- MSS22_to_MSS25 -|- INFORMATION -|- tpch_test.dbo.orders_7_primarykey -|- Starting\n",
      "2025-06-13T22:56:50.752 +02:00 -|- FastTransfer -|- MSS22_to_MSS25 -|- INFORMATION -|- tpch_test.dbo.orders_7_primarykey -|- FastTransfer Version : 0.13.4.0 Architecture : X64 - Framework : .NET 8.0.15\n",
      "2025-06-13T22:56:50.752 +02:00 -|- FastTransfer -|- MSS22_to_MSS25 -|- INFORMATION -|- tpch_test.dbo.orders_7_primarykey -|- OS : Microsoft Windows 10.0.26100\n",
      "2025-06-13T22:56:50.752 +02:00 -|- FastTransfer -|- MSS22_to_MSS25 -|- INFORMATION -|- tpch_test.dbo.orders_7_primarykey -|- Process ID : 50964\n",
      "2025-06-13T22:56:50.752 +02:00 -|- FastTransfer -|- MSS22_to_MSS25 -|- INFORMATION -|- tpch_test.dbo.orders_7_primarykey -|- Provided Run ID : MSS22_to_MSS25\n",
      "2025-06-13T22:56:50.752 +02:00 -|- FastTransfer -|- MSS22_to_MSS25 -|- INFORMATION -|- tpch_test.dbo.orders_7_primarykey -|- Source Connection Type : mssql\n",
      "2025-06-13T22:56:50.752 +02:00 -|- FastTransfer -|- MSS22_to_MSS25 -|- INFORMATION -|- tpch_test.dbo.orders_7_primarykey -|- Source SqlInstance : localhost\n",
      "2025-06-13T22:56:50.752 +02:00 -|- FastTransfer -|- MSS22_to_MSS25 -|- INFORMATION -|- tpch_test.dbo.orders_7_primarykey -|- Source Database : tpch10_collation_bin2\n",
      "2025-06-13T22:56:50.753 +02:00 -|- FastTransfer -|- MSS22_to_MSS25 -|- INFORMATION -|- tpch_test.dbo.orders_7_primarykey -|- Source Trusted Connection : True\n",
      "2025-06-13T22:56:50.753 +02:00 -|- FastTransfer -|- MSS22_to_MSS25 -|- INFORMATION -|- tpch_test.dbo.orders_7_primarykey -|- Source Schema : dbo\n",
      "2025-06-13T22:56:50.753 +02:00 -|- FastTransfer -|- MSS22_to_MSS25 -|- INFORMATION -|- tpch_test.dbo.orders_7_primarykey -|- Source Table : orders_15M\n",
      "2025-06-13T22:56:50.753 +02:00 -|- FastTransfer -|- MSS22_to_MSS25 -|- INFORMATION -|- tpch_test.dbo.orders_7_primarykey -|- Target Type : msbulk\n",
      "2025-06-13T22:56:50.753 +02:00 -|- FastTransfer -|- MSS22_to_MSS25 -|- INFORMATION -|- tpch_test.dbo.orders_7_primarykey -|- Target Server : localhost\\SS2025\n",
      "2025-06-13T22:56:50.753 +02:00 -|- FastTransfer -|- MSS22_to_MSS25 -|- INFORMATION -|- tpch_test.dbo.orders_7_primarykey -|- Target Database : tpch_test\n",
      "2025-06-13T22:56:50.753 +02:00 -|- FastTransfer -|- MSS22_to_MSS25 -|- INFORMATION -|- tpch_test.dbo.orders_7_primarykey -|- Target Schema : dbo\n",
      "2025-06-13T22:56:50.753 +02:00 -|- FastTransfer -|- MSS22_to_MSS25 -|- INFORMATION -|- tpch_test.dbo.orders_7_primarykey -|- Target Table : orders_7_primarykey\n",
      "2025-06-13T22:56:50.753 +02:00 -|- FastTransfer -|- MSS22_to_MSS25 -|- INFORMATION -|- tpch_test.dbo.orders_7_primarykey -|- Target Trusted Connection : True\n",
      "2025-06-13T22:56:50.753 +02:00 -|- FastTransfer -|- MSS22_to_MSS25 -|- INFORMATION -|- tpch_test.dbo.orders_7_primarykey -|- Columns Map Method : Name\n",
      "2025-06-13T22:56:50.753 +02:00 -|- FastTransfer -|- MSS22_to_MSS25 -|- INFORMATION -|- tpch_test.dbo.orders_7_primarykey -|- Degree : -2\n",
      "2025-06-13T22:56:50.753 +02:00 -|- FastTransfer -|- MSS22_to_MSS25 -|- INFORMATION -|- tpch_test.dbo.orders_7_primarykey -|- Distribute Method : Ntile\n",
      "2025-06-13T22:56:50.753 +02:00 -|- FastTransfer -|- MSS22_to_MSS25 -|- INFORMATION -|- tpch_test.dbo.orders_7_primarykey -|- Distribute Column : o_orderkey\n",
      "2025-06-13T22:56:50.753 +02:00 -|- FastTransfer -|- MSS22_to_MSS25 -|- INFORMATION -|- tpch_test.dbo.orders_7_primarykey -|- Bulkcopy Batch Size : 1048576\n",
      "2025-06-13T22:56:50.753 +02:00 -|- FastTransfer -|- MSS22_to_MSS25 -|- INFORMATION -|- tpch_test.dbo.orders_7_primarykey -|- Load Mode : Truncate\n",
      "2025-06-13T22:56:50.753 +02:00 -|- FastTransfer -|- MSS22_to_MSS25 -|- INFORMATION -|- tpch_test.dbo.orders_7_primarykey -|- Use Work Tables : False\n",
      "2025-06-13T22:56:50.753 +02:00 -|- FastTransfer -|- MSS22_to_MSS25 -|- INFORMATION -|- tpch_test.dbo.orders_7_primarykey -|- Encoding used : Unicode (UTF-8) - 65001 - utf-8\n",
      "2025-06-13T22:56:50.768 +02:00 -|- FastTransfer -|- MSS22_to_MSS25 -|- INFORMATION -|- tpch_test.dbo.orders_7_primarykey -|- Source Connection String : Data Source=localhost;Initial Catalog=tpch10_collation_bin2;Integrated Security=True;Connect Timeout=120;Encrypt=True;Trust Server Certificate=True;Application Name=FastTransfer;Application Intent=ReadOnly;Command Timeout=10800\n",
      "2025-06-13T22:56:50.768 +02:00 -|- FastTransfer -|- MSS22_to_MSS25 -|- INFORMATION -|- tpch_test.dbo.orders_7_primarykey -|- Target Connection String : Data Source=localhost\\SS2025;Initial Catalog=tpch_test;Integrated Security=True;Connect Timeout=120;Encrypt=True;Trust Server Certificate=True;Application Name=FastTransfer;Application Intent=ReadWrite;Command Timeout=10800\n",
      "2025-06-13T22:56:50.768 +02:00 -|- FastTransfer -|- MSS22_to_MSS25 -|- INFORMATION -|- tpch_test.dbo.orders_7_primarykey -|- Source Database Version : Microsoft SQL Server 2022 (RTM-CU17) (KB5048038) - 16.0.4175.1 (X64)  \tDec 13 2024 09:01:53  \tCopyright (C) 2022 Microsoft Corporation \tDeveloper Edition (64-bit) on Windows 10 Pro 10.0 <X64> (Build 26100: ) (Hypervisor) \n",
      "2025-06-13T22:56:50.768 +02:00 -|- FastTransfer -|- MSS22_to_MSS25 -|- INFORMATION -|- tpch_test.dbo.orders_7_primarykey -|- Target Database Version : Microsoft SQL Server 2025 (CTP2.0) - 17.0.700.9 (X64)  \tMay  8 2025 19:14:27  \tCopyright (C) 2025 Microsoft Corporation \tEnterprise Developer Edition (64-bit) on Windows 10 Pro 10.0 <X64> (Build 26100: ) (Hypervisor) \n",
      "2025-06-13T22:56:50.774 +02:00 -|- FastTransfer -|- MSS22_to_MSS25 -|- INFORMATION -|- tpch_test.dbo.orders_7_primarykey -|- Degree of parallelism was computed to 16 (=> 32\\2)\n",
      "2025-06-13T22:56:52.148 +02:00 -|- FastTransfer -|- MSS22_to_MSS25 -|- INFORMATION -|- tpch_test.dbo.orders_7_primarykey -|- Ntile DataSegments Computation Completed in 1374 ms\n",
      "2025-06-13T22:56:52.153 +02:00 -|- FastTransfer -|- MSS22_to_MSS25 -|- INFORMATION -|- tpch_test.dbo.orders_7_primarykey -|- Start Loading Data using distribution method NTile\n",
      "2025-06-13T22:56:52.154 +02:00 -|- FastTransfer -|- MSS22_to_MSS25 -|- INFORMATION -|- tpch_test.dbo.orders_7_primarykey -|- Table \"dbo\".\"orders_7_primarykey\" has a Clustered Index. BulkCopy will use KeepNulls and UseInternalTransaction and avoid Tablock\n",
      "2025-06-13T22:56:52.155 +02:00 -|- FastTransfer -|- MSS22_to_MSS25 -|- INFORMATION -|- tpch_test.dbo.orders_7_primarykey -|- BulkCopy to \"dbo\".\"orders_7_primarykey\" with BatchSize = 1048576, Timeout = 3600\n",
      "2025-06-13T22:56:52.156 +02:00 -|- FastTransfer -|- MSS22_to_MSS25 -|- WARNING -|- tpch_test.dbo.orders_7_primarykey -|- Only 9 out of 10 columns were mapped by name to the target table \"dbo\".\"orders_7_primarykey\"\n",
      "2025-06-13T22:56:52.164 +02:00 -|- FastTransfer -|- MSS22_to_MSS25 -|- INFORMATION -|- tpch_test.dbo.orders_7_primarykey -|- Start Loading Data using distribution method NTile\n",
      "2025-06-13T22:56:52.165 +02:00 -|- FastTransfer -|- MSS22_to_MSS25 -|- INFORMATION -|- tpch_test.dbo.orders_7_primarykey -|- Table \"dbo\".\"orders_7_primarykey\" has a Clustered Index. BulkCopy will use KeepNulls and UseInternalTransaction and avoid Tablock\n",
      "2025-06-13T22:56:52.165 +02:00 -|- FastTransfer -|- MSS22_to_MSS25 -|- INFORMATION -|- tpch_test.dbo.orders_7_primarykey -|- BulkCopy to \"dbo\".\"orders_7_primarykey\" with BatchSize = 1048576, Timeout = 3600\n",
      "2025-06-13T22:56:52.166 +02:00 -|- FastTransfer -|- MSS22_to_MSS25 -|- WARNING -|- tpch_test.dbo.orders_7_primarykey -|- Only 9 out of 10 columns were mapped by name to the target table \"dbo\".\"orders_7_primarykey\"\n",
      "2025-06-13T22:56:52.167 +02:00 -|- FastTransfer -|- MSS22_to_MSS25 -|- INFORMATION -|- tpch_test.dbo.orders_7_primarykey -|- Start Loading Data using distribution method NTile\n",
      "2025-06-13T22:56:52.167 +02:00 -|- FastTransfer -|- MSS22_to_MSS25 -|- INFORMATION -|- tpch_test.dbo.orders_7_primarykey -|- Table \"dbo\".\"orders_7_primarykey\" has a Clustered Index. BulkCopy will use KeepNulls and UseInternalTransaction and avoid Tablock\n",
      "2025-06-13T22:56:52.168 +02:00 -|- FastTransfer -|- MSS22_to_MSS25 -|- INFORMATION -|- tpch_test.dbo.orders_7_primarykey -|- BulkCopy to \"dbo\".\"orders_7_primarykey\" with BatchSize = 1048576, Timeout = 3600\n",
      "2025-06-13T22:56:52.169 +02:00 -|- FastTransfer -|- MSS22_to_MSS25 -|- WARNING -|- tpch_test.dbo.orders_7_primarykey -|- Only 9 out of 10 columns were mapped by name to the target table \"dbo\".\"orders_7_primarykey\"\n",
      "2025-06-13T22:56:52.173 +02:00 -|- FastTransfer -|- MSS22_to_MSS25 -|- INFORMATION -|- tpch_test.dbo.orders_7_primarykey -|- Start Loading Data using distribution method NTile\n",
      "2025-06-13T22:56:52.174 +02:00 -|- FastTransfer -|- MSS22_to_MSS25 -|- INFORMATION -|- tpch_test.dbo.orders_7_primarykey -|- Table \"dbo\".\"orders_7_primarykey\" has a Clustered Index. BulkCopy will use KeepNulls and UseInternalTransaction and avoid Tablock\n",
      "2025-06-13T22:56:52.174 +02:00 -|- FastTransfer -|- MSS22_to_MSS25 -|- INFORMATION -|- tpch_test.dbo.orders_7_primarykey -|- BulkCopy to \"dbo\".\"orders_7_primarykey\" with BatchSize = 1048576, Timeout = 3600\n",
      "2025-06-13T22:56:52.175 +02:00 -|- FastTransfer -|- MSS22_to_MSS25 -|- WARNING -|- tpch_test.dbo.orders_7_primarykey -|- Only 9 out of 10 columns were mapped by name to the target table \"dbo\".\"orders_7_primarykey\"\n",
      "2025-06-13T22:56:52.176 +02:00 -|- FastTransfer -|- MSS22_to_MSS25 -|- INFORMATION -|- tpch_test.dbo.orders_7_primarykey -|- Start Loading Data using distribution method NTile\n",
      "2025-06-13T22:56:52.177 +02:00 -|- FastTransfer -|- MSS22_to_MSS25 -|- INFORMATION -|- tpch_test.dbo.orders_7_primarykey -|- Table \"dbo\".\"orders_7_primarykey\" has a Clustered Index. BulkCopy will use KeepNulls and UseInternalTransaction and avoid Tablock\n",
      "2025-06-13T22:56:52.177 +02:00 -|- FastTransfer -|- MSS22_to_MSS25 -|- INFORMATION -|- tpch_test.dbo.orders_7_primarykey -|- BulkCopy to \"dbo\".\"orders_7_primarykey\" with BatchSize = 1048576, Timeout = 3600\n",
      "2025-06-13T22:56:52.178 +02:00 -|- FastTransfer -|- MSS22_to_MSS25 -|- WARNING -|- tpch_test.dbo.orders_7_primarykey -|- Only 9 out of 10 columns were mapped by name to the target table \"dbo\".\"orders_7_primarykey\"\n",
      "2025-06-13T22:56:52.183 +02:00 -|- FastTransfer -|- MSS22_to_MSS25 -|- INFORMATION -|- tpch_test.dbo.orders_7_primarykey -|- Start Loading Data using distribution method NTile\n",
      "2025-06-13T22:56:52.183 +02:00 -|- FastTransfer -|- MSS22_to_MSS25 -|- INFORMATION -|- tpch_test.dbo.orders_7_primarykey -|- Table \"dbo\".\"orders_7_primarykey\" has a Clustered Index. BulkCopy will use KeepNulls and UseInternalTransaction and avoid Tablock\n",
      "2025-06-13T22:56:52.184 +02:00 -|- FastTransfer -|- MSS22_to_MSS25 -|- INFORMATION -|- tpch_test.dbo.orders_7_primarykey -|- BulkCopy to \"dbo\".\"orders_7_primarykey\" with BatchSize = 1048576, Timeout = 3600\n",
      "2025-06-13T22:56:52.185 +02:00 -|- FastTransfer -|- MSS22_to_MSS25 -|- WARNING -|- tpch_test.dbo.orders_7_primarykey -|- Only 9 out of 10 columns were mapped by name to the target table \"dbo\".\"orders_7_primarykey\"\n",
      "2025-06-13T22:56:52.186 +02:00 -|- FastTransfer -|- MSS22_to_MSS25 -|- INFORMATION -|- tpch_test.dbo.orders_7_primarykey -|- Start Loading Data using distribution method NTile\n",
      "2025-06-13T22:56:52.187 +02:00 -|- FastTransfer -|- MSS22_to_MSS25 -|- INFORMATION -|- tpch_test.dbo.orders_7_primarykey -|- Table \"dbo\".\"orders_7_primarykey\" has a Clustered Index. BulkCopy will use KeepNulls and UseInternalTransaction and avoid Tablock\n",
      "2025-06-13T22:56:52.187 +02:00 -|- FastTransfer -|- MSS22_to_MSS25 -|- INFORMATION -|- tpch_test.dbo.orders_7_primarykey -|- BulkCopy to \"dbo\".\"orders_7_primarykey\" with BatchSize = 1048576, Timeout = 3600\n",
      "2025-06-13T22:56:52.188 +02:00 -|- FastTransfer -|- MSS22_to_MSS25 -|- WARNING -|- tpch_test.dbo.orders_7_primarykey -|- Only 9 out of 10 columns were mapped by name to the target table \"dbo\".\"orders_7_primarykey\"\n",
      "2025-06-13T22:56:52.196 +02:00 -|- FastTransfer -|- MSS22_to_MSS25 -|- INFORMATION -|- tpch_test.dbo.orders_7_primarykey -|- Start Loading Data using distribution method NTile\n",
      "2025-06-13T22:56:52.196 +02:00 -|- FastTransfer -|- MSS22_to_MSS25 -|- INFORMATION -|- tpch_test.dbo.orders_7_primarykey -|- Table \"dbo\".\"orders_7_primarykey\" has a Clustered Index. BulkCopy will use KeepNulls and UseInternalTransaction and avoid Tablock\n",
      "2025-06-13T22:56:52.197 +02:00 -|- FastTransfer -|- MSS22_to_MSS25 -|- INFORMATION -|- tpch_test.dbo.orders_7_primarykey -|- BulkCopy to \"dbo\".\"orders_7_primarykey\" with BatchSize = 1048576, Timeout = 3600\n",
      "2025-06-13T22:56:52.198 +02:00 -|- FastTransfer -|- MSS22_to_MSS25 -|- WARNING -|- tpch_test.dbo.orders_7_primarykey -|- Only 9 out of 10 columns were mapped by name to the target table \"dbo\".\"orders_7_primarykey\"\n",
      "2025-06-13T22:56:52.204 +02:00 -|- FastTransfer -|- MSS22_to_MSS25 -|- INFORMATION -|- tpch_test.dbo.orders_7_primarykey -|- Start Loading Data using distribution method NTile\n",
      "2025-06-13T22:56:52.205 +02:00 -|- FastTransfer -|- MSS22_to_MSS25 -|- INFORMATION -|- tpch_test.dbo.orders_7_primarykey -|- Table \"dbo\".\"orders_7_primarykey\" has a Clustered Index. BulkCopy will use KeepNulls and UseInternalTransaction and avoid Tablock\n",
      "2025-06-13T22:56:52.205 +02:00 -|- FastTransfer -|- MSS22_to_MSS25 -|- INFORMATION -|- tpch_test.dbo.orders_7_primarykey -|- BulkCopy to \"dbo\".\"orders_7_primarykey\" with BatchSize = 1048576, Timeout = 3600\n",
      "2025-06-13T22:56:52.211 +02:00 -|- FastTransfer -|- MSS22_to_MSS25 -|- WARNING -|- tpch_test.dbo.orders_7_primarykey -|- Only 9 out of 10 columns were mapped by name to the target table \"dbo\".\"orders_7_primarykey\"\n",
      "2025-06-13T22:56:52.219 +02:00 -|- FastTransfer -|- MSS22_to_MSS25 -|- INFORMATION -|- tpch_test.dbo.orders_7_primarykey -|- Start Loading Data using distribution method NTile\n",
      "2025-06-13T22:56:52.219 +02:00 -|- FastTransfer -|- MSS22_to_MSS25 -|- INFORMATION -|- tpch_test.dbo.orders_7_primarykey -|- Table \"dbo\".\"orders_7_primarykey\" has a Clustered Index. BulkCopy will use KeepNulls and UseInternalTransaction and avoid Tablock\n",
      "2025-06-13T22:56:52.219 +02:00 -|- FastTransfer -|- MSS22_to_MSS25 -|- INFORMATION -|- tpch_test.dbo.orders_7_primarykey -|- BulkCopy to \"dbo\".\"orders_7_primarykey\" with BatchSize = 1048576, Timeout = 3600\n",
      "2025-06-13T22:56:52.221 +02:00 -|- FastTransfer -|- MSS22_to_MSS25 -|- WARNING -|- tpch_test.dbo.orders_7_primarykey -|- Only 9 out of 10 columns were mapped by name to the target table \"dbo\".\"orders_7_primarykey\"\n",
      "2025-06-13T22:56:52.226 +02:00 -|- FastTransfer -|- MSS22_to_MSS25 -|- INFORMATION -|- tpch_test.dbo.orders_7_primarykey -|- Start Loading Data using distribution method NTile\n",
      "2025-06-13T22:56:52.226 +02:00 -|- FastTransfer -|- MSS22_to_MSS25 -|- INFORMATION -|- tpch_test.dbo.orders_7_primarykey -|- Table \"dbo\".\"orders_7_primarykey\" has a Clustered Index. BulkCopy will use KeepNulls and UseInternalTransaction and avoid Tablock\n",
      "2025-06-13T22:56:52.226 +02:00 -|- FastTransfer -|- MSS22_to_MSS25 -|- INFORMATION -|- tpch_test.dbo.orders_7_primarykey -|- BulkCopy to \"dbo\".\"orders_7_primarykey\" with BatchSize = 1048576, Timeout = 3600\n",
      "2025-06-13T22:56:52.227 +02:00 -|- FastTransfer -|- MSS22_to_MSS25 -|- WARNING -|- tpch_test.dbo.orders_7_primarykey -|- Only 9 out of 10 columns were mapped by name to the target table \"dbo\".\"orders_7_primarykey\"\n",
      "2025-06-13T22:56:52.228 +02:00 -|- FastTransfer -|- MSS22_to_MSS25 -|- INFORMATION -|- tpch_test.dbo.orders_7_primarykey -|- Start Loading Data using distribution method NTile\n",
      "2025-06-13T22:56:52.229 +02:00 -|- FastTransfer -|- MSS22_to_MSS25 -|- INFORMATION -|- tpch_test.dbo.orders_7_primarykey -|- Table \"dbo\".\"orders_7_primarykey\" has a Clustered Index. BulkCopy will use KeepNulls and UseInternalTransaction and avoid Tablock\n",
      "2025-06-13T22:56:52.229 +02:00 -|- FastTransfer -|- MSS22_to_MSS25 -|- INFORMATION -|- tpch_test.dbo.orders_7_primarykey -|- BulkCopy to \"dbo\".\"orders_7_primarykey\" with BatchSize = 1048576, Timeout = 3600\n",
      "2025-06-13T22:56:52.230 +02:00 -|- FastTransfer -|- MSS22_to_MSS25 -|- WARNING -|- tpch_test.dbo.orders_7_primarykey -|- Only 9 out of 10 columns were mapped by name to the target table \"dbo\".\"orders_7_primarykey\"\n",
      "2025-06-13T22:56:52.232 +02:00 -|- FastTransfer -|- MSS22_to_MSS25 -|- INFORMATION -|- tpch_test.dbo.orders_7_primarykey -|- Start Loading Data using distribution method NTile\n",
      "2025-06-13T22:56:52.232 +02:00 -|- FastTransfer -|- MSS22_to_MSS25 -|- INFORMATION -|- tpch_test.dbo.orders_7_primarykey -|- Table \"dbo\".\"orders_7_primarykey\" has a Clustered Index. BulkCopy will use KeepNulls and UseInternalTransaction and avoid Tablock\n",
      "2025-06-13T22:56:52.232 +02:00 -|- FastTransfer -|- MSS22_to_MSS25 -|- INFORMATION -|- tpch_test.dbo.orders_7_primarykey -|- BulkCopy to \"dbo\".\"orders_7_primarykey\" with BatchSize = 1048576, Timeout = 3600\n",
      "2025-06-13T22:56:52.234 +02:00 -|- FastTransfer -|- MSS22_to_MSS25 -|- WARNING -|- tpch_test.dbo.orders_7_primarykey -|- Only 9 out of 10 columns were mapped by name to the target table \"dbo\".\"orders_7_primarykey\"\n",
      "2025-06-13T22:56:52.235 +02:00 -|- FastTransfer -|- MSS22_to_MSS25 -|- INFORMATION -|- tpch_test.dbo.orders_7_primarykey -|- Start Loading Data using distribution method NTile\n",
      "2025-06-13T22:56:52.236 +02:00 -|- FastTransfer -|- MSS22_to_MSS25 -|- INFORMATION -|- tpch_test.dbo.orders_7_primarykey -|- Table \"dbo\".\"orders_7_primarykey\" has a Clustered Index. BulkCopy will use KeepNulls and UseInternalTransaction and avoid Tablock\n",
      "2025-06-13T22:56:52.236 +02:00 -|- FastTransfer -|- MSS22_to_MSS25 -|- INFORMATION -|- tpch_test.dbo.orders_7_primarykey -|- BulkCopy to \"dbo\".\"orders_7_primarykey\" with BatchSize = 1048576, Timeout = 3600\n",
      "2025-06-13T22:56:52.237 +02:00 -|- FastTransfer -|- MSS22_to_MSS25 -|- WARNING -|- tpch_test.dbo.orders_7_primarykey -|- Only 9 out of 10 columns were mapped by name to the target table \"dbo\".\"orders_7_primarykey\"\n",
      "2025-06-13T22:56:52.238 +02:00 -|- FastTransfer -|- MSS22_to_MSS25 -|- INFORMATION -|- tpch_test.dbo.orders_7_primarykey -|- Start Loading Data using distribution method NTile\n",
      "2025-06-13T22:56:52.238 +02:00 -|- FastTransfer -|- MSS22_to_MSS25 -|- INFORMATION -|- tpch_test.dbo.orders_7_primarykey -|- Table \"dbo\".\"orders_7_primarykey\" has a Clustered Index. BulkCopy will use KeepNulls and UseInternalTransaction and avoid Tablock\n",
      "2025-06-13T22:56:52.239 +02:00 -|- FastTransfer -|- MSS22_to_MSS25 -|- INFORMATION -|- tpch_test.dbo.orders_7_primarykey -|- BulkCopy to \"dbo\".\"orders_7_primarykey\" with BatchSize = 1048576, Timeout = 3600\n",
      "2025-06-13T22:56:52.240 +02:00 -|- FastTransfer -|- MSS22_to_MSS25 -|- WARNING -|- tpch_test.dbo.orders_7_primarykey -|- Only 9 out of 10 columns were mapped by name to the target table \"dbo\".\"orders_7_primarykey\"\n",
      "2025-06-13T22:56:52.242 +02:00 -|- FastTransfer -|- MSS22_to_MSS25 -|- INFORMATION -|- tpch_test.dbo.orders_7_primarykey -|- Start Loading Data using distribution method NTile\n",
      "2025-06-13T22:56:52.242 +02:00 -|- FastTransfer -|- MSS22_to_MSS25 -|- INFORMATION -|- tpch_test.dbo.orders_7_primarykey -|- Table \"dbo\".\"orders_7_primarykey\" has a Clustered Index. BulkCopy will use KeepNulls and UseInternalTransaction and avoid Tablock\n",
      "2025-06-13T22:56:52.242 +02:00 -|- FastTransfer -|- MSS22_to_MSS25 -|- INFORMATION -|- tpch_test.dbo.orders_7_primarykey -|- BulkCopy to \"dbo\".\"orders_7_primarykey\" with BatchSize = 1048576, Timeout = 3600\n",
      "2025-06-13T22:56:52.243 +02:00 -|- FastTransfer -|- MSS22_to_MSS25 -|- WARNING -|- tpch_test.dbo.orders_7_primarykey -|- Only 9 out of 10 columns were mapped by name to the target table \"dbo\".\"orders_7_primarykey\"\n",
      "2025-06-13T22:57:00.145 +02:00 -|- FastTransfer -|- MSS22_to_MSS25 -|- INFORMATION -|- tpch_test.dbo.orders_7_primarykey -|- Completed Load Query 0 for o_orderkey between 1 and 4030401 : 937500 rows x 9 columns in 7992ms\n",
      "2025-06-13T22:57:07.713 +02:00 -|- FastTransfer -|- MSS22_to_MSS25 -|- INFORMATION -|- tpch_test.dbo.orders_7_primarykey -|- Completed Load Query 15 for o_orderkey between 66374081 and 119999974 : 937486 rows x 9 columns in 15558ms\n",
      "2025-06-13T22:57:08.624 +02:00 -|- FastTransfer -|- MSS22_to_MSS25 -|- INFORMATION -|- tpch_test.dbo.orders_7_primarykey -|- Completed Load Query 2 for o_orderkey between 8063200 and 12095555 : 937501 rows x 9 columns in 16471ms\n",
      "2025-06-13T22:57:14.209 +02:00 -|- FastTransfer -|- MSS22_to_MSS25 -|- INFORMATION -|- tpch_test.dbo.orders_7_primarykey -|- Completed Load Query 5 for o_orderkey between 20160224 and 24192837 : 937501 rows x 9 columns in 22056ms\n",
      "2025-06-13T22:57:16.676 +02:00 -|- FastTransfer -|- MSS22_to_MSS25 -|- INFORMATION -|- tpch_test.dbo.orders_7_primarykey -|- Completed Load Query 3 for o_orderkey between 12095556 and 16128901 : 937501 rows x 9 columns in 24523ms\n",
      "2025-06-13T22:57:19.590 +02:00 -|- FastTransfer -|- MSS22_to_MSS25 -|- INFORMATION -|- tpch_test.dbo.orders_7_primarykey -|- Completed Load Query 12 for o_orderkey between 48381670 and 52413159 : 937501 rows x 9 columns in 27435ms\n",
      "2025-06-13T22:57:21.393 +02:00 -|- FastTransfer -|- MSS22_to_MSS25 -|- INFORMATION -|- tpch_test.dbo.orders_7_primarykey -|- Completed Load Query 4 for o_orderkey between 16128902 and 20160199 : 937501 rows x 9 columns in 29240ms\n",
      "2025-06-13T22:57:26.775 +02:00 -|- FastTransfer -|- MSS22_to_MSS25 -|- INFORMATION -|- tpch_test.dbo.orders_7_primarykey -|- Completed Load Query 9 for o_orderkey between 36288230 and 40319808 : 937501 rows x 9 columns in 34620ms\n",
      "2025-06-13T22:57:27.178 +02:00 -|- FastTransfer -|- MSS22_to_MSS25 -|- INFORMATION -|- tpch_test.dbo.orders_7_primarykey -|- Completed Load Query 6 for o_orderkey between 24192838 and 28226534 : 937501 rows x 9 columns in 35025ms\n",
      "2025-06-13T22:57:29.675 +02:00 -|- FastTransfer -|- MSS22_to_MSS25 -|- INFORMATION -|- tpch_test.dbo.orders_7_primarykey -|- Completed Load Query 7 for o_orderkey between 28226535 and 32255681 : 937501 rows x 9 columns in 37521ms\n",
      "2025-06-13T22:57:34.336 +02:00 -|- FastTransfer -|- MSS22_to_MSS25 -|- INFORMATION -|- tpch_test.dbo.orders_7_primarykey -|- Completed Load Query 10 for o_orderkey between 40319809 and 44350019 : 937501 rows x 9 columns in 42182ms\n",
      "2025-06-13T22:57:34.490 +02:00 -|- FastTransfer -|- MSS22_to_MSS25 -|- INFORMATION -|- tpch_test.dbo.orders_7_primarykey -|- Completed Load Query 8 for o_orderkey between 32255682 and 36288229 : 937501 rows x 9 columns in 42336ms\n",
      "2025-06-13T22:57:38.126 +02:00 -|- FastTransfer -|- MSS22_to_MSS25 -|- INFORMATION -|- tpch_test.dbo.orders_7_primarykey -|- Completed Load Query 11 for o_orderkey between 44350020 and 48381669 : 937501 rows x 9 columns in 45971ms\n",
      "2025-06-13T22:57:42.486 +02:00 -|- FastTransfer -|- MSS22_to_MSS25 -|- INFORMATION -|- tpch_test.dbo.orders_7_primarykey -|- Completed Load Query 13 for o_orderkey between 52413184 and 56445281 : 937501 rows x 9 columns in 50331ms\n",
      "2025-06-13T22:57:46.424 +02:00 -|- FastTransfer -|- MSS22_to_MSS25 -|- INFORMATION -|- tpch_test.dbo.orders_7_primarykey -|- Completed Load Query 14 for o_orderkey between 56445282 and 66373955 : 937501 rows x 9 columns in 54269ms\n",
      "2025-06-13T22:57:48.740 +02:00 -|- FastTransfer -|- MSS22_to_MSS25 -|- INFORMATION -|- tpch_test.dbo.orders_7_primarykey -|- Completed Load Query 1 for o_orderkey between 4030402 and 8063175 : 937501 rows x 9 columns in 56587ms\n",
      "2025-06-13T22:57:48.740 +02:00 -|- FastTransfer -|- MSS22_to_MSS25 -|- INFORMATION -|- tpch_test.dbo.orders_7_primarykey -|- Total rows : 15000000\n",
      "2025-06-13T22:57:48.740 +02:00 -|- FastTransfer -|- MSS22_to_MSS25 -|- INFORMATION -|- tpch_test.dbo.orders_7_primarykey -|- Total columns : 9\n",
      "2025-06-13T22:57:48.741 +02:00 -|- FastTransfer -|- MSS22_to_MSS25 -|- INFORMATION -|- tpch_test.dbo.orders_7_primarykey -|- Total cells : 135000000\n",
      "2025-06-13T22:57:48.741 +02:00 -|- FastTransfer -|- MSS22_to_MSS25 -|- INFORMATION -|- tpch_test.dbo.orders_7_primarykey -|- Rows Throughput : 258768 rows/s\n",
      "2025-06-13T22:57:48.741 +02:00 -|- FastTransfer -|- MSS22_to_MSS25 -|- INFORMATION -|- tpch_test.dbo.orders_7_primarykey -|- Cells Throughput : 2328917 cells/s\n",
      "2025-06-13T22:57:48.741 +02:00 -|- FastTransfer -|- MSS22_to_MSS25 -|- INFORMATION -|- tpch_test.dbo.orders_7_primarykey -|- Transfert time : Elapsed=57966 ms\n",
      "2025-06-13T22:57:48.741 +02:00 -|- FastTransfer -|- MSS22_to_MSS25 -|- INFORMATION -|- tpch_test.dbo.orders_7_primarykey -|- Total time : Elapsed=58163 ms\n",
      "2025-06-13T22:57:48.741 +02:00 -|- FastTransfer -|- MSS22_to_MSS25 -|- INFORMATION -|- tpch_test.dbo.orders_7_primarykey -|- Completed Load\n"
     ]
    }
   ],
   "source": [
    "cd D:\\FastTransfer\n",
    "\n",
    ".\\FastTransfer.exe `\n",
    "--sourceconnectiontype \"mssql\" `\n",
    "--sourceserver \"localhost\" `\n",
    "--sourcedatabase \"tpch10_collation_bin2\" `\n",
    "--sourcetrusted `\n",
    "--sourceschema \"dbo\" `\n",
    "--sourcetable \"orders_15M\" `\n",
    "`\n",
    "--targetconnectiontype \"msbulk\" `\n",
    "--targetserver \"localhost\\SS2025\" `\n",
    "--targettrusted `\n",
    "--targetdatabase \"tpch_test\" `\n",
    "--targetschema \"dbo\" `\n",
    "--targettable \"orders_7_primarykey\" `\n",
    "`\n",
    "--loadmode \"Truncate\" `\n",
    "--mapmethod \"Name\" `\n",
    "--method \"Ntile\" `\n",
    "--distributekeycolumn \"o_orderkey\" `\n",
    "--degree -2 `\n",
    "--runid \"MSS22_to_MSS25\""
   ]
  },
  {
   "cell_type": "markdown",
   "id": "dd7ed540",
   "metadata": {
    "polyglot_notebook": {
     "kernelName": "csharp"
    }
   },
   "source": [
    "| MSSQL 2022 ==> MSSQL 2025  ORDERS (15M Rows x 9 columns)\t\t\t\t| Elapsed Time (seconds)|Cells/sec \t|\n",
    "|-----------------------------------------------------------------------|:---------------------:|----------:|\n",
    "| FastTransfer Load (orders_3 clustered columnstore)      \t\t\t\t| 8.2      \t\t\t\t|16_799_794 |\n",
    "| FastTransfer Load (orders_4 heap) \t\t\t\t\t\t\t\t\t| 5.5      \t\t\t\t|25_106_464 |\n",
    "| FastTransfer Load (orders_6 cluster index ) \t\t\t\t\t\t\t| 7.7      \t\t\t\t|17_921_206 |\n",
    "| FastTransfer Load (orders_7 cluster primarykey) \t\t\t\t\t\t| 7.4      \t\t\t\t|18_528_328 |\n",
    "| FastTransfer Load (orders_7 cluster primarykey + 1 secondary index) \t|19.2      \t\t\t\t| 7_091_346 |\n",
    "| FastTransfer Load (orders_7 cluster primarykey + 2 secondary indexes) |58.1      \t\t\t\t| 2_328_917 |"
   ]
  },
  {
   "cell_type": "markdown",
   "id": "26735668",
   "metadata": {
    "polyglot_notebook": {
     "kernelName": "csharp"
    }
   },
   "source": [
    "## Other parallel technics"
   ]
  },
  {
   "cell_type": "markdown",
   "id": "665b0296",
   "metadata": {},
   "source": [
    "### method=\"DataDriven\" using a standard column (or an expression) for the distributekeycolumn parameter"
   ]
  },
  {
   "cell_type": "markdown",
   "id": "17119491",
   "metadata": {},
   "source": [
    "#### DataDriven using year(o_orderdate) as the distributekeycolumn"
   ]
  },
  {
   "cell_type": "code",
   "execution_count": 4,
   "metadata": {
    "polyglot_notebook": {
     "kernelName": "pwsh"
    }
   },
   "outputs": [
    {
     "name": "stdout",
     "output_type": "stream",
     "text": [
      "2025-06-15T16:16:35.566 +02:00 -|- FastTransfer -|- MSS22_to_MSS25 -|- INFORMATION -|- tpch_test.dbo.orders_4_no_index -|- Starting\n",
      "2025-06-15T16:16:35.575 +02:00 -|- FastTransfer -|- MSS22_to_MSS25 -|- INFORMATION -|- tpch_test.dbo.orders_4_no_index -|- FastTransfer Version : 0.13.4.0 Architecture : X64 - Framework : .NET 8.0.15\n",
      "2025-06-15T16:16:35.575 +02:00 -|- FastTransfer -|- MSS22_to_MSS25 -|- INFORMATION -|- tpch_test.dbo.orders_4_no_index -|- OS : Microsoft Windows 10.0.26100\n",
      "2025-06-15T16:16:35.575 +02:00 -|- FastTransfer -|- MSS22_to_MSS25 -|- INFORMATION -|- tpch_test.dbo.orders_4_no_index -|- Process ID : 31752\n",
      "2025-06-15T16:16:35.575 +02:00 -|- FastTransfer -|- MSS22_to_MSS25 -|- INFORMATION -|- tpch_test.dbo.orders_4_no_index -|- Provided Run ID : MSS22_to_MSS25\n",
      "2025-06-15T16:16:35.575 +02:00 -|- FastTransfer -|- MSS22_to_MSS25 -|- INFORMATION -|- tpch_test.dbo.orders_4_no_index -|- Source Connection Type : mssql\n",
      "2025-06-15T16:16:35.575 +02:00 -|- FastTransfer -|- MSS22_to_MSS25 -|- INFORMATION -|- tpch_test.dbo.orders_4_no_index -|- Source SqlInstance : localhost\n",
      "2025-06-15T16:16:35.575 +02:00 -|- FastTransfer -|- MSS22_to_MSS25 -|- INFORMATION -|- tpch_test.dbo.orders_4_no_index -|- Source Database : tpch10_collation_bin2\n",
      "2025-06-15T16:16:35.576 +02:00 -|- FastTransfer -|- MSS22_to_MSS25 -|- INFORMATION -|- tpch_test.dbo.orders_4_no_index -|- Source Trusted Connection : True\n",
      "2025-06-15T16:16:35.576 +02:00 -|- FastTransfer -|- MSS22_to_MSS25 -|- INFORMATION -|- tpch_test.dbo.orders_4_no_index -|- Source Schema : dbo\n",
      "2025-06-15T16:16:35.576 +02:00 -|- FastTransfer -|- MSS22_to_MSS25 -|- INFORMATION -|- tpch_test.dbo.orders_4_no_index -|- Source Table : orders_15M\n",
      "2025-06-15T16:16:35.576 +02:00 -|- FastTransfer -|- MSS22_to_MSS25 -|- INFORMATION -|- tpch_test.dbo.orders_4_no_index -|- Target Type : msbulk\n",
      "2025-06-15T16:16:35.576 +02:00 -|- FastTransfer -|- MSS22_to_MSS25 -|- INFORMATION -|- tpch_test.dbo.orders_4_no_index -|- Target Server : localhost\\SS2025\n",
      "2025-06-15T16:16:35.576 +02:00 -|- FastTransfer -|- MSS22_to_MSS25 -|- INFORMATION -|- tpch_test.dbo.orders_4_no_index -|- Target Database : tpch_test\n",
      "2025-06-15T16:16:35.576 +02:00 -|- FastTransfer -|- MSS22_to_MSS25 -|- INFORMATION -|- tpch_test.dbo.orders_4_no_index -|- Target Schema : dbo\n",
      "2025-06-15T16:16:35.576 +02:00 -|- FastTransfer -|- MSS22_to_MSS25 -|- INFORMATION -|- tpch_test.dbo.orders_4_no_index -|- Target Table : orders_4_no_index\n",
      "2025-06-15T16:16:35.576 +02:00 -|- FastTransfer -|- MSS22_to_MSS25 -|- INFORMATION -|- tpch_test.dbo.orders_4_no_index -|- Target Trusted Connection : True\n",
      "2025-06-15T16:16:35.576 +02:00 -|- FastTransfer -|- MSS22_to_MSS25 -|- INFORMATION -|- tpch_test.dbo.orders_4_no_index -|- Columns Map Method : Name\n",
      "2025-06-15T16:16:35.576 +02:00 -|- FastTransfer -|- MSS22_to_MSS25 -|- INFORMATION -|- tpch_test.dbo.orders_4_no_index -|- Degree : 10\n",
      "2025-06-15T16:16:35.576 +02:00 -|- FastTransfer -|- MSS22_to_MSS25 -|- INFORMATION -|- tpch_test.dbo.orders_4_no_index -|- Distribute Method : DataDriven\n",
      "2025-06-15T16:16:35.576 +02:00 -|- FastTransfer -|- MSS22_to_MSS25 -|- INFORMATION -|- tpch_test.dbo.orders_4_no_index -|- Distribute Column : year(o_orderdate)\n",
      "2025-06-15T16:16:35.576 +02:00 -|- FastTransfer -|- MSS22_to_MSS25 -|- INFORMATION -|- tpch_test.dbo.orders_4_no_index -|- Bulkcopy Batch Size : 1048576\n",
      "2025-06-15T16:16:35.576 +02:00 -|- FastTransfer -|- MSS22_to_MSS25 -|- INFORMATION -|- tpch_test.dbo.orders_4_no_index -|- Load Mode : Truncate\n",
      "2025-06-15T16:16:35.576 +02:00 -|- FastTransfer -|- MSS22_to_MSS25 -|- INFORMATION -|- tpch_test.dbo.orders_4_no_index -|- Use Work Tables : False\n",
      "2025-06-15T16:16:35.576 +02:00 -|- FastTransfer -|- MSS22_to_MSS25 -|- INFORMATION -|- tpch_test.dbo.orders_4_no_index -|- Encoding used : Unicode (UTF-8) - 65001 - utf-8\n",
      "2025-06-15T16:16:35.594 +02:00 -|- FastTransfer -|- MSS22_to_MSS25 -|- INFORMATION -|- tpch_test.dbo.orders_4_no_index -|- Source Connection String : Data Source=localhost;Initial Catalog=tpch10_collation_bin2;Integrated Security=True;Connect Timeout=120;Encrypt=True;Trust Server Certificate=True;Application Name=FastTransfer;Application Intent=ReadOnly;Command Timeout=10800\n",
      "2025-06-15T16:16:35.594 +02:00 -|- FastTransfer -|- MSS22_to_MSS25 -|- INFORMATION -|- tpch_test.dbo.orders_4_no_index -|- Target Connection String : Data Source=localhost\\SS2025;Initial Catalog=tpch_test;Integrated Security=True;Connect Timeout=120;Encrypt=True;Trust Server Certificate=True;Application Name=FastTransfer;Application Intent=ReadWrite;Command Timeout=10800\n",
      "2025-06-15T16:16:35.594 +02:00 -|- FastTransfer -|- MSS22_to_MSS25 -|- INFORMATION -|- tpch_test.dbo.orders_4_no_index -|- Source Database Version : Microsoft SQL Server 2022 (RTM-CU17) (KB5048038) - 16.0.4175.1 (X64)  \tDec 13 2024 09:01:53  \tCopyright (C) 2022 Microsoft Corporation \tDeveloper Edition (64-bit) on Windows 10 Pro 10.0 <X64> (Build 26100: ) (Hypervisor) \n",
      "2025-06-15T16:16:35.594 +02:00 -|- FastTransfer -|- MSS22_to_MSS25 -|- INFORMATION -|- tpch_test.dbo.orders_4_no_index -|- Target Database Version : Microsoft SQL Server 2025 (CTP2.0) - 17.0.700.9 (X64)  \tMay  8 2025 19:14:27  \tCopyright (C) 2025 Microsoft Corporation \tEnterprise Developer Edition (64-bit) on Windows 10 Pro 10.0 <X64> (Build 26100: ) (Hypervisor) \n",
      "2025-06-15T16:16:36.469 +02:00 -|- FastTransfer -|- MSS22_to_MSS25 -|- INFORMATION -|- tpch_test.dbo.orders_4_no_index -|- Completed DataDriven GetValues : 8 in 869 ms\n",
      "2025-06-15T16:16:36.471 +02:00 -|- FastTransfer -|- MSS22_to_MSS25 -|- INFORMATION -|- tpch_test.dbo.orders_4_no_index -|- Start Loading Data using distribution method DataDriven\n",
      "2025-06-15T16:16:36.472 +02:00 -|- FastTransfer -|- MSS22_to_MSS25 -|- INFORMATION -|- tpch_test.dbo.orders_4_no_index -|- Table \"dbo\".\"orders_4_no_index\" has no Clustered Index. BulkCopy will use KeepNulls and UseInternalTransaction and Tablock\n",
      "2025-06-15T16:16:36.473 +02:00 -|- FastTransfer -|- MSS22_to_MSS25 -|- INFORMATION -|- tpch_test.dbo.orders_4_no_index -|- BulkCopy to \"dbo\".\"orders_4_no_index\" with BatchSize = 1048576, Timeout = 3600\n",
      "2025-06-15T16:16:36.482 +02:00 -|- FastTransfer -|- MSS22_to_MSS25 -|- INFORMATION -|- tpch_test.dbo.orders_4_no_index -|- Start Loading Data using distribution method DataDriven\n",
      "2025-06-15T16:16:36.482 +02:00 -|- FastTransfer -|- MSS22_to_MSS25 -|- INFORMATION -|- tpch_test.dbo.orders_4_no_index -|- Table \"dbo\".\"orders_4_no_index\" has no Clustered Index. BulkCopy will use KeepNulls and UseInternalTransaction and Tablock\n",
      "2025-06-15T16:16:36.482 +02:00 -|- FastTransfer -|- MSS22_to_MSS25 -|- INFORMATION -|- tpch_test.dbo.orders_4_no_index -|- BulkCopy to \"dbo\".\"orders_4_no_index\" with BatchSize = 1048576, Timeout = 3600\n",
      "2025-06-15T16:16:36.485 +02:00 -|- FastTransfer -|- MSS22_to_MSS25 -|- INFORMATION -|- tpch_test.dbo.orders_4_no_index -|- Start Loading Data using distribution method DataDriven\n",
      "2025-06-15T16:16:36.485 +02:00 -|- FastTransfer -|- MSS22_to_MSS25 -|- INFORMATION -|- tpch_test.dbo.orders_4_no_index -|- Table \"dbo\".\"orders_4_no_index\" has no Clustered Index. BulkCopy will use KeepNulls and UseInternalTransaction and Tablock\n",
      "2025-06-15T16:16:36.485 +02:00 -|- FastTransfer -|- MSS22_to_MSS25 -|- INFORMATION -|- tpch_test.dbo.orders_4_no_index -|- BulkCopy to \"dbo\".\"orders_4_no_index\" with BatchSize = 1048576, Timeout = 3600\n",
      "2025-06-15T16:16:36.488 +02:00 -|- FastTransfer -|- MSS22_to_MSS25 -|- WARNING -|- tpch_test.dbo.orders_4_no_index -|- Only 9 out of 10 columns were mapped by name to the target table \"dbo\".\"orders_4_no_index\"\n",
      "2025-06-15T16:16:36.490 +02:00 -|- FastTransfer -|- MSS22_to_MSS25 -|- INFORMATION -|- tpch_test.dbo.orders_4_no_index -|- Start Loading Data using distribution method DataDriven\n",
      "2025-06-15T16:16:36.491 +02:00 -|- FastTransfer -|- MSS22_to_MSS25 -|- INFORMATION -|- tpch_test.dbo.orders_4_no_index -|- Table \"dbo\".\"orders_4_no_index\" has no Clustered Index. BulkCopy will use KeepNulls and UseInternalTransaction and Tablock\n",
      "2025-06-15T16:16:36.491 +02:00 -|- FastTransfer -|- MSS22_to_MSS25 -|- INFORMATION -|- tpch_test.dbo.orders_4_no_index -|- BulkCopy to \"dbo\".\"orders_4_no_index\" with BatchSize = 1048576, Timeout = 3600\n",
      "2025-06-15T16:16:36.493 +02:00 -|- FastTransfer -|- MSS22_to_MSS25 -|- INFORMATION -|- tpch_test.dbo.orders_4_no_index -|- Start Loading Data using distribution method DataDriven\n",
      "2025-06-15T16:16:36.494 +02:00 -|- FastTransfer -|- MSS22_to_MSS25 -|- INFORMATION -|- tpch_test.dbo.orders_4_no_index -|- Table \"dbo\".\"orders_4_no_index\" has no Clustered Index. BulkCopy will use KeepNulls and UseInternalTransaction and Tablock\n",
      "2025-06-15T16:16:36.494 +02:00 -|- FastTransfer -|- MSS22_to_MSS25 -|- INFORMATION -|- tpch_test.dbo.orders_4_no_index -|- BulkCopy to \"dbo\".\"orders_4_no_index\" with BatchSize = 1048576, Timeout = 3600\n",
      "2025-06-15T16:16:36.498 +02:00 -|- FastTransfer -|- MSS22_to_MSS25 -|- INFORMATION -|- tpch_test.dbo.orders_4_no_index -|- Start Loading Data using distribution method DataDriven\n",
      "2025-06-15T16:16:36.499 +02:00 -|- FastTransfer -|- MSS22_to_MSS25 -|- INFORMATION -|- tpch_test.dbo.orders_4_no_index -|- Table \"dbo\".\"orders_4_no_index\" has no Clustered Index. BulkCopy will use KeepNulls and UseInternalTransaction and Tablock\n",
      "2025-06-15T16:16:36.499 +02:00 -|- FastTransfer -|- MSS22_to_MSS25 -|- INFORMATION -|- tpch_test.dbo.orders_4_no_index -|- BulkCopy to \"dbo\".\"orders_4_no_index\" with BatchSize = 1048576, Timeout = 3600\n",
      "2025-06-15T16:16:36.501 +02:00 -|- FastTransfer -|- MSS22_to_MSS25 -|- INFORMATION -|- tpch_test.dbo.orders_4_no_index -|- Start Loading Data using distribution method DataDriven\n",
      "2025-06-15T16:16:36.502 +02:00 -|- FastTransfer -|- MSS22_to_MSS25 -|- INFORMATION -|- tpch_test.dbo.orders_4_no_index -|- Table \"dbo\".\"orders_4_no_index\" has no Clustered Index. BulkCopy will use KeepNulls and UseInternalTransaction and Tablock\n",
      "2025-06-15T16:16:36.502 +02:00 -|- FastTransfer -|- MSS22_to_MSS25 -|- INFORMATION -|- tpch_test.dbo.orders_4_no_index -|- BulkCopy to \"dbo\".\"orders_4_no_index\" with BatchSize = 1048576, Timeout = 3600\n",
      "2025-06-15T16:16:36.545 +02:00 -|- FastTransfer -|- MSS22_to_MSS25 -|- INFORMATION -|- tpch_test.dbo.orders_4_no_index -|- Start Loading Data using distribution method DataDriven\n",
      "2025-06-15T16:16:36.545 +02:00 -|- FastTransfer -|- MSS22_to_MSS25 -|- INFORMATION -|- tpch_test.dbo.orders_4_no_index -|- Table \"dbo\".\"orders_4_no_index\" has no Clustered Index. BulkCopy will use KeepNulls and UseInternalTransaction and Tablock\n",
      "2025-06-15T16:16:36.545 +02:00 -|- FastTransfer -|- MSS22_to_MSS25 -|- INFORMATION -|- tpch_test.dbo.orders_4_no_index -|- BulkCopy to \"dbo\".\"orders_4_no_index\" with BatchSize = 1048576, Timeout = 3600\n",
      "2025-06-15T16:16:36.748 +02:00 -|- FastTransfer -|- MSS22_to_MSS25 -|- WARNING -|- tpch_test.dbo.orders_4_no_index -|- Only 9 out of 10 columns were mapped by name to the target table \"dbo\".\"orders_4_no_index\"\n",
      "2025-06-15T16:16:36.773 +02:00 -|- FastTransfer -|- MSS22_to_MSS25 -|- WARNING -|- tpch_test.dbo.orders_4_no_index -|- Only 9 out of 10 columns were mapped by name to the target table \"dbo\".\"orders_4_no_index\"\n",
      "2025-06-15T16:16:36.840 +02:00 -|- FastTransfer -|- MSS22_to_MSS25 -|- WARNING -|- tpch_test.dbo.orders_4_no_index -|- Only 9 out of 10 columns were mapped by name to the target table \"dbo\".\"orders_4_no_index\"\n",
      "2025-06-15T16:16:36.849 +02:00 -|- FastTransfer -|- MSS22_to_MSS25 -|- WARNING -|- tpch_test.dbo.orders_4_no_index -|- Only 9 out of 10 columns were mapped by name to the target table \"dbo\".\"orders_4_no_index\"\n",
      "2025-06-15T16:16:36.992 +02:00 -|- FastTransfer -|- MSS22_to_MSS25 -|- WARNING -|- tpch_test.dbo.orders_4_no_index -|- Only 9 out of 10 columns were mapped by name to the target table \"dbo\".\"orders_4_no_index\"\n",
      "2025-06-15T16:16:37.232 +02:00 -|- FastTransfer -|- MSS22_to_MSS25 -|- WARNING -|- tpch_test.dbo.orders_4_no_index -|- Only 9 out of 10 columns were mapped by name to the target table \"dbo\".\"orders_4_no_index\"\n",
      "2025-06-15T16:16:37.295 +02:00 -|- FastTransfer -|- MSS22_to_MSS25 -|- WARNING -|- tpch_test.dbo.orders_4_no_index -|- Only 9 out of 10 columns were mapped by name to the target table \"dbo\".\"orders_4_no_index\"\n",
      "2025-06-15T16:16:43.136 +02:00 -|- FastTransfer -|- MSS22_to_MSS25 -|- INFORMATION -|- tpch_test.dbo.orders_4_no_index -|- Completed DataDriven Load sub-process 3 for year(o_orderdate) = 1999 : 1048576 rows x 9 columns in 6665 ms\n",
      "2025-06-15T16:16:43.243 +02:00 -|- FastTransfer -|- MSS22_to_MSS25 -|- INFORMATION -|- tpch_test.dbo.orders_4_no_index -|- Completed DataDriven Load sub-process 4 for year(o_orderdate) = 1992 : 1235101 rows x 9 columns in 6772 ms\n",
      "2025-06-15T16:16:43.335 +02:00 -|- FastTransfer -|- MSS22_to_MSS25 -|- INFORMATION -|- tpch_test.dbo.orders_4_no_index -|- Completed DataDriven Load sub-process 0 for year(o_orderdate) = 1998 : 1327477 rows x 9 columns in 6865 ms\n",
      "2025-06-15T16:16:44.745 +02:00 -|- FastTransfer -|- MSS22_to_MSS25 -|- INFORMATION -|- tpch_test.dbo.orders_4_no_index -|- Completed DataDriven Load sub-process 7 for year(o_orderdate) = 1995 : 2273010 rows x 9 columns in 8273 ms\n",
      "2025-06-15T16:16:45.101 +02:00 -|- FastTransfer -|- MSS22_to_MSS25 -|- INFORMATION -|- tpch_test.dbo.orders_4_no_index -|- Completed DataDriven Load sub-process 6 for year(o_orderdate) = 1993 : 2281075 rows x 9 columns in 8630 ms\n",
      "2025-06-15T16:16:45.106 +02:00 -|- FastTransfer -|- MSS22_to_MSS25 -|- INFORMATION -|- tpch_test.dbo.orders_4_no_index -|- Completed DataDriven Load sub-process 2 for year(o_orderdate) = 1994 : 2276807 rows x 9 columns in 8636 ms\n",
      "2025-06-15T16:16:48.380 +02:00 -|- FastTransfer -|- MSS22_to_MSS25 -|- INFORMATION -|- tpch_test.dbo.orders_4_no_index -|- Completed DataDriven Load sub-process 5 for year(o_orderdate) = 1997 : 2277552 rows x 9 columns in 11909 ms\n",
      "2025-06-15T16:16:48.400 +02:00 -|- FastTransfer -|- MSS22_to_MSS25 -|- INFORMATION -|- tpch_test.dbo.orders_4_no_index -|- Completed DataDriven Load sub-process 1 for year(o_orderdate) = 1996 : 2280402 rows x 9 columns in 11930 ms\n",
      "2025-06-15T16:16:48.401 +02:00 -|- FastTransfer -|- MSS22_to_MSS25 -|- INFORMATION -|- tpch_test.dbo.orders_4_no_index -|- Total rows : 15000000\n",
      "2025-06-15T16:16:48.401 +02:00 -|- FastTransfer -|- MSS22_to_MSS25 -|- INFORMATION -|- tpch_test.dbo.orders_4_no_index -|- Total columns : 9\n",
      "2025-06-15T16:16:48.401 +02:00 -|- FastTransfer -|- MSS22_to_MSS25 -|- INFORMATION -|- tpch_test.dbo.orders_4_no_index -|- Total cells : 135000000\n",
      "2025-06-15T16:16:48.401 +02:00 -|- FastTransfer -|- MSS22_to_MSS25 -|- INFORMATION -|- tpch_test.dbo.orders_4_no_index -|- Rows Throughput : 1171679 rows/s\n",
      "2025-06-15T16:16:48.401 +02:00 -|- FastTransfer -|- MSS22_to_MSS25 -|- INFORMATION -|- tpch_test.dbo.orders_4_no_index -|- Cells Throughput : 10545122 cells/s\n",
      "2025-06-15T16:16:48.401 +02:00 -|- FastTransfer -|- MSS22_to_MSS25 -|- INFORMATION -|- tpch_test.dbo.orders_4_no_index -|- Transfert time : Elapsed=12802 ms\n",
      "2025-06-15T16:16:48.401 +02:00 -|- FastTransfer -|- MSS22_to_MSS25 -|- INFORMATION -|- tpch_test.dbo.orders_4_no_index -|- Total time : Elapsed=13003 ms\n",
      "2025-06-15T16:16:48.401 +02:00 -|- FastTransfer -|- MSS22_to_MSS25 -|- INFORMATION -|- tpch_test.dbo.orders_4_no_index -|- Completed Load\n"
     ]
    }
   ],
   "source": [
    "cd D:\\FastTransfer\n",
    "\n",
    ".\\FastTransfer.exe `\n",
    "--sourceconnectiontype \"mssql\" `\n",
    "--sourceserver \"localhost\" `\n",
    "--sourcedatabase \"tpch10_collation_bin2\" `\n",
    "--sourcetrusted `\n",
    "--sourceschema \"dbo\" `\n",
    "--sourcetable \"orders_15M\" `\n",
    "`\n",
    "--targetconnectiontype \"msbulk\" `\n",
    "--targetserver \"localhost\\SS2025\" `\n",
    "--targettrusted `\n",
    "--targetdatabase \"tpch_test\" `\n",
    "--targetschema \"dbo\" `\n",
    "--targettable \"orders_4_no_index\" `\n",
    "`\n",
    "--loadmode \"Truncate\" `\n",
    "--mapmethod \"Name\" `\n",
    "--method \"DataDriven\" `\n",
    "--distributekeycolumn \"year(o_orderdate)\" `\n",
    "--degree 10 `\n",
    "--runid \"MSS22_to_MSS25\""
   ]
  },
  {
   "cell_type": "markdown",
   "id": "e714af5c",
   "metadata": {},
   "source": [
    "#### DataDriven using partitions as the distributekeycolumn"
   ]
  },
  {
   "cell_type": "code",
   "execution_count": 6,
   "metadata": {
    "polyglot_notebook": {
     "kernelName": "pwsh"
    }
   },
   "outputs": [
    {
     "name": "stdout",
     "output_type": "stream",
     "text": [
      "2025-06-15T16:26:49.479 +02:00 -|- FastTransfer -|- MSS22_to_MSS25_Datadriven_Partition -|- INFORMATION -|- tpch_test.dbo.orders_4_no_index -|- Starting\n",
      "2025-06-15T16:26:49.488 +02:00 -|- FastTransfer -|- MSS22_to_MSS25_Datadriven_Partition -|- INFORMATION -|- tpch_test.dbo.orders_4_no_index -|- FastTransfer Version : 0.13.4.0 Architecture : X64 - Framework : .NET 8.0.15\n",
      "2025-06-15T16:26:49.489 +02:00 -|- FastTransfer -|- MSS22_to_MSS25_Datadriven_Partition -|- INFORMATION -|- tpch_test.dbo.orders_4_no_index -|- OS : Microsoft Windows 10.0.26100\n",
      "2025-06-15T16:26:49.489 +02:00 -|- FastTransfer -|- MSS22_to_MSS25_Datadriven_Partition -|- INFORMATION -|- tpch_test.dbo.orders_4_no_index -|- Process ID : 52244\n",
      "2025-06-15T16:26:49.489 +02:00 -|- FastTransfer -|- MSS22_to_MSS25_Datadriven_Partition -|- INFORMATION -|- tpch_test.dbo.orders_4_no_index -|- Provided Run ID : MSS22_to_MSS25_Datadriven_Partition\n",
      "2025-06-15T16:26:49.489 +02:00 -|- FastTransfer -|- MSS22_to_MSS25_Datadriven_Partition -|- INFORMATION -|- tpch_test.dbo.orders_4_no_index -|- Source Connection Type : mssql\n",
      "2025-06-15T16:26:49.489 +02:00 -|- FastTransfer -|- MSS22_to_MSS25_Datadriven_Partition -|- INFORMATION -|- tpch_test.dbo.orders_4_no_index -|- Source SqlInstance : localhost\n",
      "2025-06-15T16:26:49.489 +02:00 -|- FastTransfer -|- MSS22_to_MSS25_Datadriven_Partition -|- INFORMATION -|- tpch_test.dbo.orders_4_no_index -|- Source Database : tpch_test\n",
      "2025-06-15T16:26:49.489 +02:00 -|- FastTransfer -|- MSS22_to_MSS25_Datadriven_Partition -|- INFORMATION -|- tpch_test.dbo.orders_4_no_index -|- Source Trusted Connection : True\n",
      "2025-06-15T16:26:49.489 +02:00 -|- FastTransfer -|- MSS22_to_MSS25_Datadriven_Partition -|- INFORMATION -|- tpch_test.dbo.orders_4_no_index -|- Source Schema : dbo\n",
      "2025-06-15T16:26:49.489 +02:00 -|- FastTransfer -|- MSS22_to_MSS25_Datadriven_Partition -|- INFORMATION -|- tpch_test.dbo.orders_4_no_index -|- Source Table : orders_part\n",
      "2025-06-15T16:26:49.489 +02:00 -|- FastTransfer -|- MSS22_to_MSS25_Datadriven_Partition -|- INFORMATION -|- tpch_test.dbo.orders_4_no_index -|- Target Type : msbulk\n",
      "2025-06-15T16:26:49.489 +02:00 -|- FastTransfer -|- MSS22_to_MSS25_Datadriven_Partition -|- INFORMATION -|- tpch_test.dbo.orders_4_no_index -|- Target Server : localhost\\SS2025\n",
      "2025-06-15T16:26:49.489 +02:00 -|- FastTransfer -|- MSS22_to_MSS25_Datadriven_Partition -|- INFORMATION -|- tpch_test.dbo.orders_4_no_index -|- Target Database : tpch_test\n",
      "2025-06-15T16:26:49.489 +02:00 -|- FastTransfer -|- MSS22_to_MSS25_Datadriven_Partition -|- INFORMATION -|- tpch_test.dbo.orders_4_no_index -|- Target Schema : dbo\n",
      "2025-06-15T16:26:49.489 +02:00 -|- FastTransfer -|- MSS22_to_MSS25_Datadriven_Partition -|- INFORMATION -|- tpch_test.dbo.orders_4_no_index -|- Target Table : orders_4_no_index\n",
      "2025-06-15T16:26:49.489 +02:00 -|- FastTransfer -|- MSS22_to_MSS25_Datadriven_Partition -|- INFORMATION -|- tpch_test.dbo.orders_4_no_index -|- Target Trusted Connection : True\n",
      "2025-06-15T16:26:49.489 +02:00 -|- FastTransfer -|- MSS22_to_MSS25_Datadriven_Partition -|- INFORMATION -|- tpch_test.dbo.orders_4_no_index -|- Columns Map Method : Name\n",
      "2025-06-15T16:26:49.489 +02:00 -|- FastTransfer -|- MSS22_to_MSS25_Datadriven_Partition -|- INFORMATION -|- tpch_test.dbo.orders_4_no_index -|- Degree : 7\n",
      "2025-06-15T16:26:49.489 +02:00 -|- FastTransfer -|- MSS22_to_MSS25_Datadriven_Partition -|- INFORMATION -|- tpch_test.dbo.orders_4_no_index -|- Distribute Method : DataDriven\n",
      "2025-06-15T16:26:49.489 +02:00 -|- FastTransfer -|- MSS22_to_MSS25_Datadriven_Partition -|- INFORMATION -|- tpch_test.dbo.orders_4_no_index -|- Distribute Column : $PARTITION.PF_DATE(o_orderdate)\n",
      "2025-06-15T16:26:49.489 +02:00 -|- FastTransfer -|- MSS22_to_MSS25_Datadriven_Partition -|- INFORMATION -|- tpch_test.dbo.orders_4_no_index -|- Bulkcopy Batch Size : 1048576\n",
      "2025-06-15T16:26:49.489 +02:00 -|- FastTransfer -|- MSS22_to_MSS25_Datadriven_Partition -|- INFORMATION -|- tpch_test.dbo.orders_4_no_index -|- Load Mode : Truncate\n",
      "2025-06-15T16:26:49.489 +02:00 -|- FastTransfer -|- MSS22_to_MSS25_Datadriven_Partition -|- INFORMATION -|- tpch_test.dbo.orders_4_no_index -|- Use Work Tables : False\n",
      "2025-06-15T16:26:49.490 +02:00 -|- FastTransfer -|- MSS22_to_MSS25_Datadriven_Partition -|- INFORMATION -|- tpch_test.dbo.orders_4_no_index -|- Encoding used : Unicode (UTF-8) - 65001 - utf-8\n",
      "2025-06-15T16:26:49.510 +02:00 -|- FastTransfer -|- MSS22_to_MSS25_Datadriven_Partition -|- INFORMATION -|- tpch_test.dbo.orders_4_no_index -|- Source Connection String : Data Source=localhost;Initial Catalog=tpch_test;Integrated Security=True;Connect Timeout=120;Encrypt=True;Trust Server Certificate=True;Application Name=FastTransfer;Application Intent=ReadOnly;Command Timeout=10800\n",
      "2025-06-15T16:26:49.510 +02:00 -|- FastTransfer -|- MSS22_to_MSS25_Datadriven_Partition -|- INFORMATION -|- tpch_test.dbo.orders_4_no_index -|- Target Connection String : Data Source=localhost\\SS2025;Initial Catalog=tpch_test;Integrated Security=True;Connect Timeout=120;Encrypt=True;Trust Server Certificate=True;Application Name=FastTransfer;Application Intent=ReadWrite;Command Timeout=10800\n",
      "2025-06-15T16:26:49.510 +02:00 -|- FastTransfer -|- MSS22_to_MSS25_Datadriven_Partition -|- INFORMATION -|- tpch_test.dbo.orders_4_no_index -|- Source Database Version : Microsoft SQL Server 2022 (RTM-CU17) (KB5048038) - 16.0.4175.1 (X64)  \tDec 13 2024 09:01:53  \tCopyright (C) 2022 Microsoft Corporation \tDeveloper Edition (64-bit) on Windows 10 Pro 10.0 <X64> (Build 26100: ) (Hypervisor) \n",
      "2025-06-15T16:26:49.510 +02:00 -|- FastTransfer -|- MSS22_to_MSS25_Datadriven_Partition -|- INFORMATION -|- tpch_test.dbo.orders_4_no_index -|- Target Database Version : Microsoft SQL Server 2025 (CTP2.0) - 17.0.700.9 (X64)  \tMay  8 2025 19:14:27  \tCopyright (C) 2025 Microsoft Corporation \tEnterprise Developer Edition (64-bit) on Windows 10 Pro 10.0 <X64> (Build 26100: ) (Hypervisor) \n",
      "2025-06-15T16:26:50.279 +02:00 -|- FastTransfer -|- MSS22_to_MSS25_Datadriven_Partition -|- INFORMATION -|- tpch_test.dbo.orders_4_no_index -|- Completed DataDriven GetValues : 7 in 762 ms\n",
      "2025-06-15T16:26:50.281 +02:00 -|- FastTransfer -|- MSS22_to_MSS25_Datadriven_Partition -|- INFORMATION -|- tpch_test.dbo.orders_4_no_index -|- Start Loading Data using distribution method DataDriven\n",
      "2025-06-15T16:26:50.282 +02:00 -|- FastTransfer -|- MSS22_to_MSS25_Datadriven_Partition -|- INFORMATION -|- tpch_test.dbo.orders_4_no_index -|- Table \"dbo\".\"orders_4_no_index\" has no Clustered Index. BulkCopy will use KeepNulls and UseInternalTransaction and Tablock\n",
      "2025-06-15T16:26:50.282 +02:00 -|- FastTransfer -|- MSS22_to_MSS25_Datadriven_Partition -|- INFORMATION -|- tpch_test.dbo.orders_4_no_index -|- BulkCopy to \"dbo\".\"orders_4_no_index\" with BatchSize = 1048576, Timeout = 3600\n",
      "2025-06-15T16:26:50.288 +02:00 -|- FastTransfer -|- MSS22_to_MSS25_Datadriven_Partition -|- WARNING -|- tpch_test.dbo.orders_4_no_index -|- Column o_orderyear not found in target table \"dbo\".\"orders_4_no_index\". The column will be ignored\n",
      "2025-06-15T16:26:50.288 +02:00 -|- FastTransfer -|- MSS22_to_MSS25_Datadriven_Partition -|- WARNING -|- tpch_test.dbo.orders_4_no_index -|- Only 9 out of 10 columns were mapped by name to the target table \"dbo\".\"orders_4_no_index\"\n",
      "2025-06-15T16:26:50.291 +02:00 -|- FastTransfer -|- MSS22_to_MSS25_Datadriven_Partition -|- INFORMATION -|- tpch_test.dbo.orders_4_no_index -|- Start Loading Data using distribution method DataDriven\n",
      "2025-06-15T16:26:50.291 +02:00 -|- FastTransfer -|- MSS22_to_MSS25_Datadriven_Partition -|- INFORMATION -|- tpch_test.dbo.orders_4_no_index -|- Table \"dbo\".\"orders_4_no_index\" has no Clustered Index. BulkCopy will use KeepNulls and UseInternalTransaction and Tablock\n",
      "2025-06-15T16:26:50.291 +02:00 -|- FastTransfer -|- MSS22_to_MSS25_Datadriven_Partition -|- INFORMATION -|- tpch_test.dbo.orders_4_no_index -|- BulkCopy to \"dbo\".\"orders_4_no_index\" with BatchSize = 1048576, Timeout = 3600\n",
      "2025-06-15T16:26:50.293 +02:00 -|- FastTransfer -|- MSS22_to_MSS25_Datadriven_Partition -|- WARNING -|- tpch_test.dbo.orders_4_no_index -|- Column o_orderyear not found in target table \"dbo\".\"orders_4_no_index\". The column will be ignored\n",
      "2025-06-15T16:26:50.293 +02:00 -|- FastTransfer -|- MSS22_to_MSS25_Datadriven_Partition -|- WARNING -|- tpch_test.dbo.orders_4_no_index -|- Only 9 out of 10 columns were mapped by name to the target table \"dbo\".\"orders_4_no_index\"\n",
      "2025-06-15T16:26:50.294 +02:00 -|- FastTransfer -|- MSS22_to_MSS25_Datadriven_Partition -|- INFORMATION -|- tpch_test.dbo.orders_4_no_index -|- Start Loading Data using distribution method DataDriven\n",
      "2025-06-15T16:26:50.294 +02:00 -|- FastTransfer -|- MSS22_to_MSS25_Datadriven_Partition -|- INFORMATION -|- tpch_test.dbo.orders_4_no_index -|- Table \"dbo\".\"orders_4_no_index\" has no Clustered Index. BulkCopy will use KeepNulls and UseInternalTransaction and Tablock\n",
      "2025-06-15T16:26:50.294 +02:00 -|- FastTransfer -|- MSS22_to_MSS25_Datadriven_Partition -|- INFORMATION -|- tpch_test.dbo.orders_4_no_index -|- BulkCopy to \"dbo\".\"orders_4_no_index\" with BatchSize = 1048576, Timeout = 3600\n",
      "2025-06-15T16:26:50.297 +02:00 -|- FastTransfer -|- MSS22_to_MSS25_Datadriven_Partition -|- WARNING -|- tpch_test.dbo.orders_4_no_index -|- Column o_orderyear not found in target table \"dbo\".\"orders_4_no_index\". The column will be ignored\n",
      "2025-06-15T16:26:50.297 +02:00 -|- FastTransfer -|- MSS22_to_MSS25_Datadriven_Partition -|- WARNING -|- tpch_test.dbo.orders_4_no_index -|- Only 9 out of 10 columns were mapped by name to the target table \"dbo\".\"orders_4_no_index\"\n",
      "2025-06-15T16:26:50.300 +02:00 -|- FastTransfer -|- MSS22_to_MSS25_Datadriven_Partition -|- INFORMATION -|- tpch_test.dbo.orders_4_no_index -|- Start Loading Data using distribution method DataDriven\n",
      "2025-06-15T16:26:50.301 +02:00 -|- FastTransfer -|- MSS22_to_MSS25_Datadriven_Partition -|- INFORMATION -|- tpch_test.dbo.orders_4_no_index -|- Table \"dbo\".\"orders_4_no_index\" has no Clustered Index. BulkCopy will use KeepNulls and UseInternalTransaction and Tablock\n",
      "2025-06-15T16:26:50.301 +02:00 -|- FastTransfer -|- MSS22_to_MSS25_Datadriven_Partition -|- INFORMATION -|- tpch_test.dbo.orders_4_no_index -|- BulkCopy to \"dbo\".\"orders_4_no_index\" with BatchSize = 1048576, Timeout = 3600\n",
      "2025-06-15T16:26:50.303 +02:00 -|- FastTransfer -|- MSS22_to_MSS25_Datadriven_Partition -|- INFORMATION -|- tpch_test.dbo.orders_4_no_index -|- Start Loading Data using distribution method DataDriven\n",
      "2025-06-15T16:26:50.303 +02:00 -|- FastTransfer -|- MSS22_to_MSS25_Datadriven_Partition -|- INFORMATION -|- tpch_test.dbo.orders_4_no_index -|- Table \"dbo\".\"orders_4_no_index\" has no Clustered Index. BulkCopy will use KeepNulls and UseInternalTransaction and Tablock\n",
      "2025-06-15T16:26:50.303 +02:00 -|- FastTransfer -|- MSS22_to_MSS25_Datadriven_Partition -|- INFORMATION -|- tpch_test.dbo.orders_4_no_index -|- BulkCopy to \"dbo\".\"orders_4_no_index\" with BatchSize = 1048576, Timeout = 3600\n",
      "2025-06-15T16:26:50.303 +02:00 -|- FastTransfer -|- MSS22_to_MSS25_Datadriven_Partition -|- WARNING -|- tpch_test.dbo.orders_4_no_index -|- Column o_orderyear not found in target table \"dbo\".\"orders_4_no_index\". The column will be ignored\n",
      "2025-06-15T16:26:50.304 +02:00 -|- FastTransfer -|- MSS22_to_MSS25_Datadriven_Partition -|- WARNING -|- tpch_test.dbo.orders_4_no_index -|- Only 9 out of 10 columns were mapped by name to the target table \"dbo\".\"orders_4_no_index\"\n",
      "2025-06-15T16:26:50.306 +02:00 -|- FastTransfer -|- MSS22_to_MSS25_Datadriven_Partition -|- WARNING -|- tpch_test.dbo.orders_4_no_index -|- Column o_orderyear not found in target table \"dbo\".\"orders_4_no_index\". The column will be ignored\n",
      "2025-06-15T16:26:50.306 +02:00 -|- FastTransfer -|- MSS22_to_MSS25_Datadriven_Partition -|- WARNING -|- tpch_test.dbo.orders_4_no_index -|- Only 9 out of 10 columns were mapped by name to the target table \"dbo\".\"orders_4_no_index\"\n",
      "2025-06-15T16:26:50.310 +02:00 -|- FastTransfer -|- MSS22_to_MSS25_Datadriven_Partition -|- INFORMATION -|- tpch_test.dbo.orders_4_no_index -|- Start Loading Data using distribution method DataDriven\n",
      "2025-06-15T16:26:50.310 +02:00 -|- FastTransfer -|- MSS22_to_MSS25_Datadriven_Partition -|- INFORMATION -|- tpch_test.dbo.orders_4_no_index -|- Table \"dbo\".\"orders_4_no_index\" has no Clustered Index. BulkCopy will use KeepNulls and UseInternalTransaction and Tablock\n",
      "2025-06-15T16:26:50.310 +02:00 -|- FastTransfer -|- MSS22_to_MSS25_Datadriven_Partition -|- INFORMATION -|- tpch_test.dbo.orders_4_no_index -|- BulkCopy to \"dbo\".\"orders_4_no_index\" with BatchSize = 1048576, Timeout = 3600\n",
      "2025-06-15T16:26:50.313 +02:00 -|- FastTransfer -|- MSS22_to_MSS25_Datadriven_Partition -|- WARNING -|- tpch_test.dbo.orders_4_no_index -|- Column o_orderyear not found in target table \"dbo\".\"orders_4_no_index\". The column will be ignored\n",
      "2025-06-15T16:26:50.313 +02:00 -|- FastTransfer -|- MSS22_to_MSS25_Datadriven_Partition -|- WARNING -|- tpch_test.dbo.orders_4_no_index -|- Only 9 out of 10 columns were mapped by name to the target table \"dbo\".\"orders_4_no_index\"\n",
      "2025-06-15T16:26:50.313 +02:00 -|- FastTransfer -|- MSS22_to_MSS25_Datadriven_Partition -|- INFORMATION -|- tpch_test.dbo.orders_4_no_index -|- Start Loading Data using distribution method DataDriven\n",
      "2025-06-15T16:26:50.314 +02:00 -|- FastTransfer -|- MSS22_to_MSS25_Datadriven_Partition -|- INFORMATION -|- tpch_test.dbo.orders_4_no_index -|- Table \"dbo\".\"orders_4_no_index\" has no Clustered Index. BulkCopy will use KeepNulls and UseInternalTransaction and Tablock\n",
      "2025-06-15T16:26:50.314 +02:00 -|- FastTransfer -|- MSS22_to_MSS25_Datadriven_Partition -|- INFORMATION -|- tpch_test.dbo.orders_4_no_index -|- BulkCopy to \"dbo\".\"orders_4_no_index\" with BatchSize = 1048576, Timeout = 3600\n",
      "2025-06-15T16:26:50.316 +02:00 -|- FastTransfer -|- MSS22_to_MSS25_Datadriven_Partition -|- WARNING -|- tpch_test.dbo.orders_4_no_index -|- Column o_orderyear not found in target table \"dbo\".\"orders_4_no_index\". The column will be ignored\n",
      "2025-06-15T16:26:50.316 +02:00 -|- FastTransfer -|- MSS22_to_MSS25_Datadriven_Partition -|- WARNING -|- tpch_test.dbo.orders_4_no_index -|- Only 9 out of 10 columns were mapped by name to the target table \"dbo\".\"orders_4_no_index\"\n",
      "2025-06-15T16:26:53.213 +02:00 -|- FastTransfer -|- MSS22_to_MSS25_Datadriven_Partition -|- INFORMATION -|- tpch_test.dbo.orders_4_no_index -|- Completed DataDriven Load sub-process 6 for $PARTITION.PF_DATE(o_orderdate) = 8 : 1333214 rows x 10 columns in 2931 ms\n",
      "2025-06-15T16:26:54.619 +02:00 -|- FastTransfer -|- MSS22_to_MSS25_Datadriven_Partition -|- INFORMATION -|- tpch_test.dbo.orders_4_no_index -|- Completed DataDriven Load sub-process 3 for $PARTITION.PF_DATE(o_orderdate) = 5 : 2275575 rows x 10 columns in 4338 ms\n",
      "2025-06-15T16:26:54.628 +02:00 -|- FastTransfer -|- MSS22_to_MSS25_Datadriven_Partition -|- INFORMATION -|- tpch_test.dbo.orders_4_no_index -|- Completed DataDriven Load sub-process 1 for $PARTITION.PF_DATE(o_orderdate) = 3 : 2276638 rows x 10 columns in 4347 ms\n",
      "2025-06-15T16:26:54.647 +02:00 -|- FastTransfer -|- MSS22_to_MSS25_Datadriven_Partition -|- INFORMATION -|- tpch_test.dbo.orders_4_no_index -|- Completed DataDriven Load sub-process 2 for $PARTITION.PF_DATE(o_orderdate) = 4 : 2275919 rows x 10 columns in 4367 ms\n",
      "2025-06-15T16:26:54.726 +02:00 -|- FastTransfer -|- MSS22_to_MSS25_Datadriven_Partition -|- INFORMATION -|- tpch_test.dbo.orders_4_no_index -|- Completed DataDriven Load sub-process 5 for $PARTITION.PF_DATE(o_orderdate) = 7 : 2275511 rows x 10 columns in 4445 ms\n",
      "2025-06-15T16:26:54.729 +02:00 -|- FastTransfer -|- MSS22_to_MSS25_Datadriven_Partition -|- INFORMATION -|- tpch_test.dbo.orders_4_no_index -|- Completed DataDriven Load sub-process 4 for $PARTITION.PF_DATE(o_orderdate) = 6 : 2281938 rows x 10 columns in 4449 ms\n",
      "2025-06-15T16:26:54.736 +02:00 -|- FastTransfer -|- MSS22_to_MSS25_Datadriven_Partition -|- INFORMATION -|- tpch_test.dbo.orders_4_no_index -|- Completed DataDriven Load sub-process 0 for $PARTITION.PF_DATE(o_orderdate) = 2 : 2281205 rows x 10 columns in 4456 ms\n",
      "2025-06-15T16:26:54.737 +02:00 -|- FastTransfer -|- MSS22_to_MSS25_Datadriven_Partition -|- INFORMATION -|- tpch_test.dbo.orders_4_no_index -|- Total rows : 15000000\n",
      "2025-06-15T16:26:54.737 +02:00 -|- FastTransfer -|- MSS22_to_MSS25_Datadriven_Partition -|- INFORMATION -|- tpch_test.dbo.orders_4_no_index -|- Total columns : 10\n",
      "2025-06-15T16:26:54.737 +02:00 -|- FastTransfer -|- MSS22_to_MSS25_Datadriven_Partition -|- INFORMATION -|- tpch_test.dbo.orders_4_no_index -|- Total cells : 150000000\n",
      "2025-06-15T16:26:54.737 +02:00 -|- FastTransfer -|- MSS22_to_MSS25_Datadriven_Partition -|- INFORMATION -|- tpch_test.dbo.orders_4_no_index -|- Rows Throughput : 2872787 rows/s\n",
      "2025-06-15T16:26:54.737 +02:00 -|- FastTransfer -|- MSS22_to_MSS25_Datadriven_Partition -|- INFORMATION -|- tpch_test.dbo.orders_4_no_index -|- Cells Throughput : 28727907 cells/s\n",
      "2025-06-15T16:26:54.737 +02:00 -|- FastTransfer -|- MSS22_to_MSS25_Datadriven_Partition -|- INFORMATION -|- tpch_test.dbo.orders_4_no_index -|- Transfert time : Elapsed=5221 ms\n",
      "2025-06-15T16:26:54.737 +02:00 -|- FastTransfer -|- MSS22_to_MSS25_Datadriven_Partition -|- INFORMATION -|- tpch_test.dbo.orders_4_no_index -|- Total time : Elapsed=5433 ms\n",
      "2025-06-15T16:26:54.737 +02:00 -|- FastTransfer -|- MSS22_to_MSS25_Datadriven_Partition -|- INFORMATION -|- tpch_test.dbo.orders_4_no_index -|- Completed Load\n"
     ]
    }
   ],
   "source": [
    "cd D:\\FastTransfer\n",
    "\n",
    ".\\FastTransfer.exe `\n",
    "--sourceconnectiontype \"mssql\" `\n",
    "--sourceserver \"localhost\" `\n",
    "--sourcedatabase \"tpch_test\" `\n",
    "--sourcetrusted `\n",
    "--sourceschema \"dbo\" `\n",
    "--sourcetable \"orders_part\" `\n",
    "`\n",
    "--targetconnectiontype \"msbulk\" `\n",
    "--targetserver \"localhost\\SS2025\" `\n",
    "--targettrusted `\n",
    "--targetdatabase \"tpch_test\" `\n",
    "--targetschema \"dbo\" `\n",
    "--targettable \"orders_4_no_index\" `\n",
    "`\n",
    "--loadmode \"Truncate\" `\n",
    "--mapmethod \"Name\" `\n",
    "--method \"DataDriven\" `\n",
    "--distributekeycolumn \"`$PARTITION.PF_DATE(o_orderdate)\" `\n",
    "--degree 7 `\n",
    "--runid \"MSS22_to_MSS25_Datadriven_Partition\""
   ]
  },
  {
   "cell_type": "markdown",
   "id": "7a4e21cd",
   "metadata": {},
   "source": [
    "#### DataDriven using partitions as the distributekeycolumn and a custom datadrivenquery (simple)"
   ]
  },
  {
   "cell_type": "code",
   "execution_count": 17,
   "metadata": {
    "polyglot_notebook": {
     "kernelName": "pwsh"
    }
   },
   "outputs": [
    {
     "name": "stdout",
     "output_type": "stream",
     "text": [
      "2025-06-15T17:01:12.620 +02:00 -|- FastTransfer -|- MSS22_to_MSS25_Datadriven_Partition -|- INFORMATION -|- tpch_test.dbo.orders_4_no_index -|- FastTransfer - running in trial mode – will expires on 2025‑07‑14 (28 day(s) left).\n",
      "2025-06-15T17:01:12.629 +02:00 -|- FastTransfer -|- MSS22_to_MSS25_Datadriven_Partition -|- INFORMATION -|- tpch_test.dbo.orders_4_no_index -|- Starting\n",
      "2025-06-15T17:01:12.629 +02:00 -|- FastTransfer -|- MSS22_to_MSS25_Datadriven_Partition -|- INFORMATION -|- tpch_test.dbo.orders_4_no_index -|- FastTransfer Version : 0.13.6.0 Architecture : X64 - Framework : .NET 8.0.16\n",
      "2025-06-15T17:01:12.629 +02:00 -|- FastTransfer -|- MSS22_to_MSS25_Datadriven_Partition -|- INFORMATION -|- tpch_test.dbo.orders_4_no_index -|- OS : Microsoft Windows 10.0.26100\n",
      "2025-06-15T17:01:12.629 +02:00 -|- FastTransfer -|- MSS22_to_MSS25_Datadriven_Partition -|- INFORMATION -|- tpch_test.dbo.orders_4_no_index -|- Process ID : 43080\n",
      "2025-06-15T17:01:12.629 +02:00 -|- FastTransfer -|- MSS22_to_MSS25_Datadriven_Partition -|- INFORMATION -|- tpch_test.dbo.orders_4_no_index -|- Provided Run ID : MSS22_to_MSS25_Datadriven_Partition\n",
      "2025-06-15T17:01:12.629 +02:00 -|- FastTransfer -|- MSS22_to_MSS25_Datadriven_Partition -|- INFORMATION -|- tpch_test.dbo.orders_4_no_index -|- Source Connection Type : mssql\n",
      "2025-06-15T17:01:12.629 +02:00 -|- FastTransfer -|- MSS22_to_MSS25_Datadriven_Partition -|- INFORMATION -|- tpch_test.dbo.orders_4_no_index -|- Source SqlInstance : localhost\n",
      "2025-06-15T17:01:12.629 +02:00 -|- FastTransfer -|- MSS22_to_MSS25_Datadriven_Partition -|- INFORMATION -|- tpch_test.dbo.orders_4_no_index -|- Source Database : tpch_test\n",
      "2025-06-15T17:01:12.629 +02:00 -|- FastTransfer -|- MSS22_to_MSS25_Datadriven_Partition -|- INFORMATION -|- tpch_test.dbo.orders_4_no_index -|- Source Trusted Connection : True\n",
      "2025-06-15T17:01:12.629 +02:00 -|- FastTransfer -|- MSS22_to_MSS25_Datadriven_Partition -|- INFORMATION -|- tpch_test.dbo.orders_4_no_index -|- Source Schema : dbo\n",
      "2025-06-15T17:01:12.629 +02:00 -|- FastTransfer -|- MSS22_to_MSS25_Datadriven_Partition -|- INFORMATION -|- tpch_test.dbo.orders_4_no_index -|- Source Table : orders_part\n",
      "2025-06-15T17:01:12.629 +02:00 -|- FastTransfer -|- MSS22_to_MSS25_Datadriven_Partition -|- INFORMATION -|- tpch_test.dbo.orders_4_no_index -|- Target Type : msbulk\n",
      "2025-06-15T17:01:12.629 +02:00 -|- FastTransfer -|- MSS22_to_MSS25_Datadriven_Partition -|- INFORMATION -|- tpch_test.dbo.orders_4_no_index -|- Target Server : localhost\\SS2025\n",
      "2025-06-15T17:01:12.629 +02:00 -|- FastTransfer -|- MSS22_to_MSS25_Datadriven_Partition -|- INFORMATION -|- tpch_test.dbo.orders_4_no_index -|- Target Database : tpch_test\n",
      "2025-06-15T17:01:12.629 +02:00 -|- FastTransfer -|- MSS22_to_MSS25_Datadriven_Partition -|- INFORMATION -|- tpch_test.dbo.orders_4_no_index -|- Target Schema : dbo\n",
      "2025-06-15T17:01:12.629 +02:00 -|- FastTransfer -|- MSS22_to_MSS25_Datadriven_Partition -|- INFORMATION -|- tpch_test.dbo.orders_4_no_index -|- Target Table : orders_4_no_index\n",
      "2025-06-15T17:01:12.629 +02:00 -|- FastTransfer -|- MSS22_to_MSS25_Datadriven_Partition -|- INFORMATION -|- tpch_test.dbo.orders_4_no_index -|- Target Trusted Connection : True\n",
      "2025-06-15T17:01:12.630 +02:00 -|- FastTransfer -|- MSS22_to_MSS25_Datadriven_Partition -|- INFORMATION -|- tpch_test.dbo.orders_4_no_index -|- Columns Map Method : Name\n",
      "2025-06-15T17:01:12.630 +02:00 -|- FastTransfer -|- MSS22_to_MSS25_Datadriven_Partition -|- INFORMATION -|- tpch_test.dbo.orders_4_no_index -|- Degree : 7\n",
      "2025-06-15T17:01:12.630 +02:00 -|- FastTransfer -|- MSS22_to_MSS25_Datadriven_Partition -|- INFORMATION -|- tpch_test.dbo.orders_4_no_index -|- Distribute Method : DataDriven\n",
      "2025-06-15T17:01:12.630 +02:00 -|- FastTransfer -|- MSS22_to_MSS25_Datadriven_Partition -|- INFORMATION -|- tpch_test.dbo.orders_4_no_index -|- Distribute Column : $PARTITION.PF_DATE(o_orderdate)\n",
      "2025-06-15T17:01:12.630 +02:00 -|- FastTransfer -|- MSS22_to_MSS25_Datadriven_Partition -|- INFORMATION -|- tpch_test.dbo.orders_4_no_index -|- Data Driven Query : select value from generate_series(2,8)\n",
      "2025-06-15T17:01:12.630 +02:00 -|- FastTransfer -|- MSS22_to_MSS25_Datadriven_Partition -|- INFORMATION -|- tpch_test.dbo.orders_4_no_index -|- Bulkcopy Batch Size : 1048576\n",
      "2025-06-15T17:01:12.630 +02:00 -|- FastTransfer -|- MSS22_to_MSS25_Datadriven_Partition -|- INFORMATION -|- tpch_test.dbo.orders_4_no_index -|- Load Mode : Truncate\n",
      "2025-06-15T17:01:12.630 +02:00 -|- FastTransfer -|- MSS22_to_MSS25_Datadriven_Partition -|- INFORMATION -|- tpch_test.dbo.orders_4_no_index -|- Use Work Tables : False\n",
      "2025-06-15T17:01:12.630 +02:00 -|- FastTransfer -|- MSS22_to_MSS25_Datadriven_Partition -|- INFORMATION -|- tpch_test.dbo.orders_4_no_index -|- Encoding used : Unicode (UTF-8) - 65001 - utf-8\n",
      "2025-06-15T17:01:12.648 +02:00 -|- FastTransfer -|- MSS22_to_MSS25_Datadriven_Partition -|- INFORMATION -|- tpch_test.dbo.orders_4_no_index -|- Source Connection String : Data Source=localhost;Initial Catalog=tpch_test;Integrated Security=True;Connect Timeout=120;Encrypt=True;Trust Server Certificate=True;Application Name=FastTransfer;Application Intent=ReadOnly;Command Timeout=10800\n",
      "2025-06-15T17:01:12.648 +02:00 -|- FastTransfer -|- MSS22_to_MSS25_Datadriven_Partition -|- INFORMATION -|- tpch_test.dbo.orders_4_no_index -|- Target Connection String : Data Source=localhost\\SS2025;Initial Catalog=tpch_test;Integrated Security=True;Connect Timeout=120;Encrypt=True;Trust Server Certificate=True;Application Name=FastTransfer;Application Intent=ReadWrite;Command Timeout=10800\n",
      "2025-06-15T17:01:12.648 +02:00 -|- FastTransfer -|- MSS22_to_MSS25_Datadriven_Partition -|- INFORMATION -|- tpch_test.dbo.orders_4_no_index -|- Source Database Version : Microsoft SQL Server 2022 (RTM-CU17) (KB5048038) - 16.0.4175.1 (X64)  \tDec 13 2024 09:01:53  \tCopyright (C) 2022 Microsoft Corporation \tDeveloper Edition (64-bit) on Windows 10 Pro 10.0 <X64> (Build 26100: ) (Hypervisor) \n",
      "2025-06-15T17:01:12.648 +02:00 -|- FastTransfer -|- MSS22_to_MSS25_Datadriven_Partition -|- INFORMATION -|- tpch_test.dbo.orders_4_no_index -|- Target Database Version : Microsoft SQL Server 2025 (CTP2.0) - 17.0.700.9 (X64)  \tMay  8 2025 19:14:27  \tCopyright (C) 2025 Microsoft Corporation \tEnterprise Developer Edition (64-bit) on Windows 10 Pro 10.0 <X64> (Build 26100: ) (Hypervisor) \n",
      "2025-06-15T17:01:12.666 +02:00 -|- FastTransfer -|- MSS22_to_MSS25_Datadriven_Partition -|- INFORMATION -|- tpch_test.dbo.orders_4_no_index -|- Completed DataDriven GetValues : 7 in 0 ms\n",
      "2025-06-15T17:01:12.668 +02:00 -|- FastTransfer -|- MSS22_to_MSS25_Datadriven_Partition -|- INFORMATION -|- tpch_test.dbo.orders_4_no_index -|- Start Loading Data using distribution method DataDriven\n",
      "2025-06-15T17:01:12.670 +02:00 -|- FastTransfer -|- MSS22_to_MSS25_Datadriven_Partition -|- INFORMATION -|- tpch_test.dbo.orders_4_no_index -|- Table \"dbo\".\"orders_4_no_index\" has no Clustered Index. BulkCopy will use KeepNulls and UseInternalTransaction and Tablock\n",
      "2025-06-15T17:01:12.670 +02:00 -|- FastTransfer -|- MSS22_to_MSS25_Datadriven_Partition -|- INFORMATION -|- tpch_test.dbo.orders_4_no_index -|- BulkCopy to \"dbo\".\"orders_4_no_index\" with BatchSize = 1048576, Timeout = 3600\n",
      "2025-06-15T17:01:12.672 +02:00 -|- FastTransfer -|- MSS22_to_MSS25_Datadriven_Partition -|- WARNING -|- tpch_test.dbo.orders_4_no_index -|- Column o_orderyear not found in target table \"dbo\".\"orders_4_no_index\". The column will be ignored\n",
      "2025-06-15T17:01:12.672 +02:00 -|- FastTransfer -|- MSS22_to_MSS25_Datadriven_Partition -|- WARNING -|- tpch_test.dbo.orders_4_no_index -|- Only 9 out of 10 columns were mapped by name to the target table \"dbo\".\"orders_4_no_index\"\n",
      "2025-06-15T17:01:12.678 +02:00 -|- FastTransfer -|- MSS22_to_MSS25_Datadriven_Partition -|- INFORMATION -|- tpch_test.dbo.orders_4_no_index -|- Start Loading Data using distribution method DataDriven\n",
      "2025-06-15T17:01:12.679 +02:00 -|- FastTransfer -|- MSS22_to_MSS25_Datadriven_Partition -|- INFORMATION -|- tpch_test.dbo.orders_4_no_index -|- Table \"dbo\".\"orders_4_no_index\" has no Clustered Index. BulkCopy will use KeepNulls and UseInternalTransaction and Tablock\n",
      "2025-06-15T17:01:12.679 +02:00 -|- FastTransfer -|- MSS22_to_MSS25_Datadriven_Partition -|- INFORMATION -|- tpch_test.dbo.orders_4_no_index -|- BulkCopy to \"dbo\".\"orders_4_no_index\" with BatchSize = 1048576, Timeout = 3600\n",
      "2025-06-15T17:01:12.680 +02:00 -|- FastTransfer -|- MSS22_to_MSS25_Datadriven_Partition -|- WARNING -|- tpch_test.dbo.orders_4_no_index -|- Column o_orderyear not found in target table \"dbo\".\"orders_4_no_index\". The column will be ignored\n",
      "2025-06-15T17:01:12.680 +02:00 -|- FastTransfer -|- MSS22_to_MSS25_Datadriven_Partition -|- WARNING -|- tpch_test.dbo.orders_4_no_index -|- Only 9 out of 10 columns were mapped by name to the target table \"dbo\".\"orders_4_no_index\"\n",
      "2025-06-15T17:01:12.681 +02:00 -|- FastTransfer -|- MSS22_to_MSS25_Datadriven_Partition -|- INFORMATION -|- tpch_test.dbo.orders_4_no_index -|- Start Loading Data using distribution method DataDriven\n",
      "2025-06-15T17:01:12.681 +02:00 -|- FastTransfer -|- MSS22_to_MSS25_Datadriven_Partition -|- INFORMATION -|- tpch_test.dbo.orders_4_no_index -|- Table \"dbo\".\"orders_4_no_index\" has no Clustered Index. BulkCopy will use KeepNulls and UseInternalTransaction and Tablock\n",
      "2025-06-15T17:01:12.681 +02:00 -|- FastTransfer -|- MSS22_to_MSS25_Datadriven_Partition -|- INFORMATION -|- tpch_test.dbo.orders_4_no_index -|- BulkCopy to \"dbo\".\"orders_4_no_index\" with BatchSize = 1048576, Timeout = 3600\n",
      "2025-06-15T17:01:12.682 +02:00 -|- FastTransfer -|- MSS22_to_MSS25_Datadriven_Partition -|- WARNING -|- tpch_test.dbo.orders_4_no_index -|- Column o_orderyear not found in target table \"dbo\".\"orders_4_no_index\". The column will be ignored\n",
      "2025-06-15T17:01:12.682 +02:00 -|- FastTransfer -|- MSS22_to_MSS25_Datadriven_Partition -|- WARNING -|- tpch_test.dbo.orders_4_no_index -|- Only 9 out of 10 columns were mapped by name to the target table \"dbo\".\"orders_4_no_index\"\n",
      "2025-06-15T17:01:12.690 +02:00 -|- FastTransfer -|- MSS22_to_MSS25_Datadriven_Partition -|- INFORMATION -|- tpch_test.dbo.orders_4_no_index -|- Start Loading Data using distribution method DataDriven\n",
      "2025-06-15T17:01:12.691 +02:00 -|- FastTransfer -|- MSS22_to_MSS25_Datadriven_Partition -|- INFORMATION -|- tpch_test.dbo.orders_4_no_index -|- Table \"dbo\".\"orders_4_no_index\" has no Clustered Index. BulkCopy will use KeepNulls and UseInternalTransaction and Tablock\n",
      "2025-06-15T17:01:12.691 +02:00 -|- FastTransfer -|- MSS22_to_MSS25_Datadriven_Partition -|- INFORMATION -|- tpch_test.dbo.orders_4_no_index -|- BulkCopy to \"dbo\".\"orders_4_no_index\" with BatchSize = 1048576, Timeout = 3600\n",
      "2025-06-15T17:01:12.692 +02:00 -|- FastTransfer -|- MSS22_to_MSS25_Datadriven_Partition -|- WARNING -|- tpch_test.dbo.orders_4_no_index -|- Column o_orderyear not found in target table \"dbo\".\"orders_4_no_index\". The column will be ignored\n",
      "2025-06-15T17:01:12.692 +02:00 -|- FastTransfer -|- MSS22_to_MSS25_Datadriven_Partition -|- WARNING -|- tpch_test.dbo.orders_4_no_index -|- Only 9 out of 10 columns were mapped by name to the target table \"dbo\".\"orders_4_no_index\"\n",
      "2025-06-15T17:01:12.696 +02:00 -|- FastTransfer -|- MSS22_to_MSS25_Datadriven_Partition -|- INFORMATION -|- tpch_test.dbo.orders_4_no_index -|- Start Loading Data using distribution method DataDriven\n",
      "2025-06-15T17:01:12.697 +02:00 -|- FastTransfer -|- MSS22_to_MSS25_Datadriven_Partition -|- INFORMATION -|- tpch_test.dbo.orders_4_no_index -|- Table \"dbo\".\"orders_4_no_index\" has no Clustered Index. BulkCopy will use KeepNulls and UseInternalTransaction and Tablock\n",
      "2025-06-15T17:01:12.697 +02:00 -|- FastTransfer -|- MSS22_to_MSS25_Datadriven_Partition -|- INFORMATION -|- tpch_test.dbo.orders_4_no_index -|- BulkCopy to \"dbo\".\"orders_4_no_index\" with BatchSize = 1048576, Timeout = 3600\n",
      "2025-06-15T17:01:12.698 +02:00 -|- FastTransfer -|- MSS22_to_MSS25_Datadriven_Partition -|- WARNING -|- tpch_test.dbo.orders_4_no_index -|- Column o_orderyear not found in target table \"dbo\".\"orders_4_no_index\". The column will be ignored\n",
      "2025-06-15T17:01:12.698 +02:00 -|- FastTransfer -|- MSS22_to_MSS25_Datadriven_Partition -|- WARNING -|- tpch_test.dbo.orders_4_no_index -|- Only 9 out of 10 columns were mapped by name to the target table \"dbo\".\"orders_4_no_index\"\n",
      "2025-06-15T17:01:12.700 +02:00 -|- FastTransfer -|- MSS22_to_MSS25_Datadriven_Partition -|- INFORMATION -|- tpch_test.dbo.orders_4_no_index -|- Start Loading Data using distribution method DataDriven\n",
      "2025-06-15T17:01:12.700 +02:00 -|- FastTransfer -|- MSS22_to_MSS25_Datadriven_Partition -|- INFORMATION -|- tpch_test.dbo.orders_4_no_index -|- Table \"dbo\".\"orders_4_no_index\" has no Clustered Index. BulkCopy will use KeepNulls and UseInternalTransaction and Tablock\n",
      "2025-06-15T17:01:12.700 +02:00 -|- FastTransfer -|- MSS22_to_MSS25_Datadriven_Partition -|- INFORMATION -|- tpch_test.dbo.orders_4_no_index -|- BulkCopy to \"dbo\".\"orders_4_no_index\" with BatchSize = 1048576, Timeout = 3600\n",
      "2025-06-15T17:01:12.701 +02:00 -|- FastTransfer -|- MSS22_to_MSS25_Datadriven_Partition -|- WARNING -|- tpch_test.dbo.orders_4_no_index -|- Column o_orderyear not found in target table \"dbo\".\"orders_4_no_index\". The column will be ignored\n",
      "2025-06-15T17:01:12.701 +02:00 -|- FastTransfer -|- MSS22_to_MSS25_Datadriven_Partition -|- WARNING -|- tpch_test.dbo.orders_4_no_index -|- Only 9 out of 10 columns were mapped by name to the target table \"dbo\".\"orders_4_no_index\"\n",
      "2025-06-15T17:01:12.705 +02:00 -|- FastTransfer -|- MSS22_to_MSS25_Datadriven_Partition -|- INFORMATION -|- tpch_test.dbo.orders_4_no_index -|- Start Loading Data using distribution method DataDriven\n",
      "2025-06-15T17:01:12.706 +02:00 -|- FastTransfer -|- MSS22_to_MSS25_Datadriven_Partition -|- INFORMATION -|- tpch_test.dbo.orders_4_no_index -|- Table \"dbo\".\"orders_4_no_index\" has no Clustered Index. BulkCopy will use KeepNulls and UseInternalTransaction and Tablock\n",
      "2025-06-15T17:01:12.709 +02:00 -|- FastTransfer -|- MSS22_to_MSS25_Datadriven_Partition -|- INFORMATION -|- tpch_test.dbo.orders_4_no_index -|- BulkCopy to \"dbo\".\"orders_4_no_index\" with BatchSize = 1048576, Timeout = 3600\n",
      "2025-06-15T17:01:12.710 +02:00 -|- FastTransfer -|- MSS22_to_MSS25_Datadriven_Partition -|- WARNING -|- tpch_test.dbo.orders_4_no_index -|- Column o_orderyear not found in target table \"dbo\".\"orders_4_no_index\". The column will be ignored\n",
      "2025-06-15T17:01:12.710 +02:00 -|- FastTransfer -|- MSS22_to_MSS25_Datadriven_Partition -|- WARNING -|- tpch_test.dbo.orders_4_no_index -|- Only 9 out of 10 columns were mapped by name to the target table \"dbo\".\"orders_4_no_index\"\n",
      "2025-06-15T17:01:15.271 +02:00 -|- FastTransfer -|- MSS22_to_MSS25_Datadriven_Partition -|- INFORMATION -|- tpch_test.dbo.orders_4_no_index -|- Completed DataDriven Load sub-process 6 for $PARTITION.PF_DATE(o_orderdate) = 8 : 1333214 rows x 10 columns in 2602 ms\n",
      "2025-06-15T17:01:16.721 +02:00 -|- FastTransfer -|- MSS22_to_MSS25_Datadriven_Partition -|- INFORMATION -|- tpch_test.dbo.orders_4_no_index -|- Completed DataDriven Load sub-process 3 for $PARTITION.PF_DATE(o_orderdate) = 5 : 2275575 rows x 10 columns in 4053 ms\n",
      "2025-06-15T17:01:16.736 +02:00 -|- FastTransfer -|- MSS22_to_MSS25_Datadriven_Partition -|- INFORMATION -|- tpch_test.dbo.orders_4_no_index -|- Completed DataDriven Load sub-process 2 for $PARTITION.PF_DATE(o_orderdate) = 4 : 2275919 rows x 10 columns in 4068 ms\n",
      "2025-06-15T17:01:16.742 +02:00 -|- FastTransfer -|- MSS22_to_MSS25_Datadriven_Partition -|- INFORMATION -|- tpch_test.dbo.orders_4_no_index -|- Completed DataDriven Load sub-process 0 for $PARTITION.PF_DATE(o_orderdate) = 2 : 2281205 rows x 10 columns in 4075 ms\n",
      "2025-06-15T17:01:16.753 +02:00 -|- FastTransfer -|- MSS22_to_MSS25_Datadriven_Partition -|- INFORMATION -|- tpch_test.dbo.orders_4_no_index -|- Completed DataDriven Load sub-process 1 for $PARTITION.PF_DATE(o_orderdate) = 3 : 2276638 rows x 10 columns in 4085 ms\n",
      "2025-06-15T17:01:16.835 +02:00 -|- FastTransfer -|- MSS22_to_MSS25_Datadriven_Partition -|- INFORMATION -|- tpch_test.dbo.orders_4_no_index -|- Completed DataDriven Load sub-process 4 for $PARTITION.PF_DATE(o_orderdate) = 6 : 2281938 rows x 10 columns in 4167 ms\n",
      "2025-06-15T17:01:16.839 +02:00 -|- FastTransfer -|- MSS22_to_MSS25_Datadriven_Partition -|- INFORMATION -|- tpch_test.dbo.orders_4_no_index -|- Completed DataDriven Load sub-process 5 for $PARTITION.PF_DATE(o_orderdate) = 7 : 2275511 rows x 10 columns in 4171 ms\n",
      "2025-06-15T17:01:16.840 +02:00 -|- FastTransfer -|- MSS22_to_MSS25_Datadriven_Partition -|- INFORMATION -|- tpch_test.dbo.orders_4_no_index -|- Total rows : 15000000\n",
      "2025-06-15T17:01:16.840 +02:00 -|- FastTransfer -|- MSS22_to_MSS25_Datadriven_Partition -|- INFORMATION -|- tpch_test.dbo.orders_4_no_index -|- Total columns : 10\n",
      "2025-06-15T17:01:16.840 +02:00 -|- FastTransfer -|- MSS22_to_MSS25_Datadriven_Partition -|- INFORMATION -|- tpch_test.dbo.orders_4_no_index -|- Total cells : 150000000\n",
      "2025-06-15T17:01:16.840 +02:00 -|- FastTransfer -|- MSS22_to_MSS25_Datadriven_Partition -|- INFORMATION -|- tpch_test.dbo.orders_4_no_index -|- Rows Throughput : 3588708 rows/s\n",
      "2025-06-15T17:01:16.840 +02:00 -|- FastTransfer -|- MSS22_to_MSS25_Datadriven_Partition -|- INFORMATION -|- tpch_test.dbo.orders_4_no_index -|- Cells Throughput : 35887130 cells/s\n",
      "2025-06-15T17:01:16.840 +02:00 -|- FastTransfer -|- MSS22_to_MSS25_Datadriven_Partition -|- INFORMATION -|- tpch_test.dbo.orders_4_no_index -|- Transfert time : Elapsed=4179 ms\n",
      "2025-06-15T17:01:16.840 +02:00 -|- FastTransfer -|- MSS22_to_MSS25_Datadriven_Partition -|- INFORMATION -|- tpch_test.dbo.orders_4_no_index -|- Total time : Elapsed=4376 ms\n",
      "2025-06-15T17:01:16.840 +02:00 -|- FastTransfer -|- MSS22_to_MSS25_Datadriven_Partition -|- INFORMATION -|- tpch_test.dbo.orders_4_no_index -|- Completed Load\n"
     ]
    }
   ],
   "source": [
    "cd D:\\FastTransfer\n",
    "\n",
    ".\\FastTransfer.exe `\n",
    "--sourceconnectiontype \"mssql\" `\n",
    "--sourceserver \"localhost\" `\n",
    "--sourcedatabase \"tpch_test\" `\n",
    "--sourcetrusted `\n",
    "--sourceschema \"dbo\" `\n",
    "--sourcetable \"orders_part\" `\n",
    "`\n",
    "--targetconnectiontype \"msbulk\" `\n",
    "--targetserver \"localhost\\SS2025\" `\n",
    "--targettrusted `\n",
    "--targetdatabase \"tpch_test\" `\n",
    "--targetschema \"dbo\" `\n",
    "--targettable \"orders_4_no_index\" `\n",
    "`\n",
    "--loadmode \"Truncate\" `\n",
    "--mapmethod \"Name\" `\n",
    "--method \"DataDriven\" `\n",
    "--distributekeycolumn \"`$PARTITION.PF_DATE(o_orderdate)\" `\n",
    "--datadrivenquery \"select value from generate_series(2,8)\" `\n",
    "--degree 7 `\n",
    "--runid \"MSS22_to_MSS25_Datadriven_Partition\""
   ]
  },
  {
   "cell_type": "markdown",
   "id": "5c934f39",
   "metadata": {},
   "source": [
    "#### DataDriven using partitions as the distributekeycolumn and a custom datadrivenquery (a little more complex)"
   ]
  },
  {
   "cell_type": "code",
   "execution_count": 5,
   "metadata": {
    "polyglot_notebook": {
     "kernelName": "pwsh"
    }
   },
   "outputs": [
    {
     "name": "stdout",
     "output_type": "stream",
     "text": [
      "2025-06-15T17:34:11.839 +02:00 -|- FastTransfer -|- MSS22_to_MSS25_Datadriven_Partition -|- INFORMATION -|- tpch_test.dbo.orders_4_no_index -|- FastTransfer - running in trial mode – will expires on 2025‑07‑14 (28 day(s) left).\n",
      "2025-06-15T17:34:11.850 +02:00 -|- FastTransfer -|- MSS22_to_MSS25_Datadriven_Partition -|- INFORMATION -|- tpch_test.dbo.orders_4_no_index -|- Starting\n",
      "2025-06-15T17:34:11.851 +02:00 -|- FastTransfer -|- MSS22_to_MSS25_Datadriven_Partition -|- INFORMATION -|- tpch_test.dbo.orders_4_no_index -|- FastTransfer Version : 0.13.6.0 Architecture : X64 - Framework : .NET 8.0.16\n",
      "2025-06-15T17:34:11.851 +02:00 -|- FastTransfer -|- MSS22_to_MSS25_Datadriven_Partition -|- INFORMATION -|- tpch_test.dbo.orders_4_no_index -|- OS : Microsoft Windows 10.0.26100\n",
      "2025-06-15T17:34:11.851 +02:00 -|- FastTransfer -|- MSS22_to_MSS25_Datadriven_Partition -|- INFORMATION -|- tpch_test.dbo.orders_4_no_index -|- Process ID : 41348\n",
      "2025-06-15T17:34:11.851 +02:00 -|- FastTransfer -|- MSS22_to_MSS25_Datadriven_Partition -|- INFORMATION -|- tpch_test.dbo.orders_4_no_index -|- Provided Run ID : MSS22_to_MSS25_Datadriven_Partition\n",
      "2025-06-15T17:34:11.851 +02:00 -|- FastTransfer -|- MSS22_to_MSS25_Datadriven_Partition -|- INFORMATION -|- tpch_test.dbo.orders_4_no_index -|- Source Connection Type : mssql\n",
      "2025-06-15T17:34:11.851 +02:00 -|- FastTransfer -|- MSS22_to_MSS25_Datadriven_Partition -|- INFORMATION -|- tpch_test.dbo.orders_4_no_index -|- Source SqlInstance : localhost\n",
      "2025-06-15T17:34:11.851 +02:00 -|- FastTransfer -|- MSS22_to_MSS25_Datadriven_Partition -|- INFORMATION -|- tpch_test.dbo.orders_4_no_index -|- Source Database : tpch_test\n",
      "2025-06-15T17:34:11.851 +02:00 -|- FastTransfer -|- MSS22_to_MSS25_Datadriven_Partition -|- INFORMATION -|- tpch_test.dbo.orders_4_no_index -|- Source Trusted Connection : True\n",
      "2025-06-15T17:34:11.851 +02:00 -|- FastTransfer -|- MSS22_to_MSS25_Datadriven_Partition -|- INFORMATION -|- tpch_test.dbo.orders_4_no_index -|- Source Schema : dbo\n",
      "2025-06-15T17:34:11.851 +02:00 -|- FastTransfer -|- MSS22_to_MSS25_Datadriven_Partition -|- INFORMATION -|- tpch_test.dbo.orders_4_no_index -|- Source Table : orders_part\n",
      "2025-06-15T17:34:11.851 +02:00 -|- FastTransfer -|- MSS22_to_MSS25_Datadriven_Partition -|- INFORMATION -|- tpch_test.dbo.orders_4_no_index -|- Target Type : msbulk\n",
      "2025-06-15T17:34:11.851 +02:00 -|- FastTransfer -|- MSS22_to_MSS25_Datadriven_Partition -|- INFORMATION -|- tpch_test.dbo.orders_4_no_index -|- Target Server : localhost\\SS2025\n",
      "2025-06-15T17:34:11.851 +02:00 -|- FastTransfer -|- MSS22_to_MSS25_Datadriven_Partition -|- INFORMATION -|- tpch_test.dbo.orders_4_no_index -|- Target Database : tpch_test\n",
      "2025-06-15T17:34:11.851 +02:00 -|- FastTransfer -|- MSS22_to_MSS25_Datadriven_Partition -|- INFORMATION -|- tpch_test.dbo.orders_4_no_index -|- Target Schema : dbo\n",
      "2025-06-15T17:34:11.851 +02:00 -|- FastTransfer -|- MSS22_to_MSS25_Datadriven_Partition -|- INFORMATION -|- tpch_test.dbo.orders_4_no_index -|- Target Table : orders_4_no_index\n",
      "2025-06-15T17:34:11.851 +02:00 -|- FastTransfer -|- MSS22_to_MSS25_Datadriven_Partition -|- INFORMATION -|- tpch_test.dbo.orders_4_no_index -|- Target Trusted Connection : True\n",
      "2025-06-15T17:34:11.851 +02:00 -|- FastTransfer -|- MSS22_to_MSS25_Datadriven_Partition -|- INFORMATION -|- tpch_test.dbo.orders_4_no_index -|- Columns Map Method : Name\n",
      "2025-06-15T17:34:11.851 +02:00 -|- FastTransfer -|- MSS22_to_MSS25_Datadriven_Partition -|- INFORMATION -|- tpch_test.dbo.orders_4_no_index -|- Degree : 7\n",
      "2025-06-15T17:34:11.851 +02:00 -|- FastTransfer -|- MSS22_to_MSS25_Datadriven_Partition -|- INFORMATION -|- tpch_test.dbo.orders_4_no_index -|- Distribute Method : DataDriven\n",
      "2025-06-15T17:34:11.851 +02:00 -|- FastTransfer -|- MSS22_to_MSS25_Datadriven_Partition -|- INFORMATION -|- tpch_test.dbo.orders_4_no_index -|- Distribute Column : $PARTITION.PF_DATE(o_orderdate)\n",
      "2025-06-15T17:34:11.851 +02:00 -|- FastTransfer -|- MSS22_to_MSS25_Datadriven_Partition -|- INFORMATION -|- tpch_test.dbo.orders_4_no_index -|- Data Driven Query : select boundary_id partid \n",
      "from \n",
      "  sys.partition_range_values prv \n",
      "  inner join sys.partition_functions pf on prv.function_id=pf.function_id\n",
      "where \n",
      "  pf.name='PF_DATE'  \n",
      "  and cast(prv.value as date)  > '1996-01-01' and cast(prv.value as date) <= '1999-01-01'\n",
      "2025-06-15T17:34:11.851 +02:00 -|- FastTransfer -|- MSS22_to_MSS25_Datadriven_Partition -|- INFORMATION -|- tpch_test.dbo.orders_4_no_index -|- Bulkcopy Batch Size : 1048576\n",
      "2025-06-15T17:34:11.851 +02:00 -|- FastTransfer -|- MSS22_to_MSS25_Datadriven_Partition -|- INFORMATION -|- tpch_test.dbo.orders_4_no_index -|- Load Mode : Truncate\n",
      "2025-06-15T17:34:11.851 +02:00 -|- FastTransfer -|- MSS22_to_MSS25_Datadriven_Partition -|- INFORMATION -|- tpch_test.dbo.orders_4_no_index -|- Use Work Tables : False\n",
      "2025-06-15T17:34:11.852 +02:00 -|- FastTransfer -|- MSS22_to_MSS25_Datadriven_Partition -|- INFORMATION -|- tpch_test.dbo.orders_4_no_index -|- Encoding used : Unicode (UTF-8) - 65001 - utf-8\n",
      "2025-06-15T17:34:11.871 +02:00 -|- FastTransfer -|- MSS22_to_MSS25_Datadriven_Partition -|- INFORMATION -|- tpch_test.dbo.orders_4_no_index -|- Source Connection String : Data Source=localhost;Initial Catalog=tpch_test;Integrated Security=True;Connect Timeout=120;Encrypt=True;Trust Server Certificate=True;Application Name=FastTransfer;Application Intent=ReadOnly;Command Timeout=10800\n",
      "2025-06-15T17:34:11.872 +02:00 -|- FastTransfer -|- MSS22_to_MSS25_Datadriven_Partition -|- INFORMATION -|- tpch_test.dbo.orders_4_no_index -|- Target Connection String : Data Source=localhost\\SS2025;Initial Catalog=tpch_test;Integrated Security=True;Connect Timeout=120;Encrypt=True;Trust Server Certificate=True;Application Name=FastTransfer;Application Intent=ReadWrite;Command Timeout=10800\n",
      "2025-06-15T17:34:11.872 +02:00 -|- FastTransfer -|- MSS22_to_MSS25_Datadriven_Partition -|- INFORMATION -|- tpch_test.dbo.orders_4_no_index -|- Source Database Version : Microsoft SQL Server 2022 (RTM-CU17) (KB5048038) - 16.0.4175.1 (X64)  \tDec 13 2024 09:01:53  \tCopyright (C) 2022 Microsoft Corporation \tDeveloper Edition (64-bit) on Windows 10 Pro 10.0 <X64> (Build 26100: ) (Hypervisor) \n",
      "2025-06-15T17:34:11.872 +02:00 -|- FastTransfer -|- MSS22_to_MSS25_Datadriven_Partition -|- INFORMATION -|- tpch_test.dbo.orders_4_no_index -|- Target Database Version : Microsoft SQL Server 2025 (CTP2.0) - 17.0.700.9 (X64)  \tMay  8 2025 19:14:27  \tCopyright (C) 2025 Microsoft Corporation \tEnterprise Developer Edition (64-bit) on Windows 10 Pro 10.0 <X64> (Build 26100: ) (Hypervisor) \n",
      "2025-06-15T17:34:11.885 +02:00 -|- FastTransfer -|- MSS22_to_MSS25_Datadriven_Partition -|- INFORMATION -|- tpch_test.dbo.orders_4_no_index -|- Completed DataDriven GetValues : 3 in 2 ms\n",
      "2025-06-15T17:34:11.888 +02:00 -|- FastTransfer -|- MSS22_to_MSS25_Datadriven_Partition -|- INFORMATION -|- tpch_test.dbo.orders_4_no_index -|- Start Loading Data using distribution method DataDriven\n",
      "2025-06-15T17:34:11.889 +02:00 -|- FastTransfer -|- MSS22_to_MSS25_Datadriven_Partition -|- INFORMATION -|- tpch_test.dbo.orders_4_no_index -|- Table \"dbo\".\"orders_4_no_index\" has no Clustered Index. BulkCopy will use KeepNulls and UseInternalTransaction and Tablock\n",
      "2025-06-15T17:34:11.889 +02:00 -|- FastTransfer -|- MSS22_to_MSS25_Datadriven_Partition -|- INFORMATION -|- tpch_test.dbo.orders_4_no_index -|- BulkCopy to \"dbo\".\"orders_4_no_index\" with BatchSize = 1048576, Timeout = 3600\n",
      "2025-06-15T17:34:11.892 +02:00 -|- FastTransfer -|- MSS22_to_MSS25_Datadriven_Partition -|- WARNING -|- tpch_test.dbo.orders_4_no_index -|- Column o_orderyear not found in target table \"dbo\".\"orders_4_no_index\". The column will be ignored\n",
      "2025-06-15T17:34:11.892 +02:00 -|- FastTransfer -|- MSS22_to_MSS25_Datadriven_Partition -|- WARNING -|- tpch_test.dbo.orders_4_no_index -|- Only 9 out of 10 columns were mapped by name to the target table \"dbo\".\"orders_4_no_index\"\n",
      "2025-06-15T17:34:11.900 +02:00 -|- FastTransfer -|- MSS22_to_MSS25_Datadriven_Partition -|- INFORMATION -|- tpch_test.dbo.orders_4_no_index -|- Start Loading Data using distribution method DataDriven\n",
      "2025-06-15T17:34:11.901 +02:00 -|- FastTransfer -|- MSS22_to_MSS25_Datadriven_Partition -|- INFORMATION -|- tpch_test.dbo.orders_4_no_index -|- Table \"dbo\".\"orders_4_no_index\" has no Clustered Index. BulkCopy will use KeepNulls and UseInternalTransaction and Tablock\n",
      "2025-06-15T17:34:11.901 +02:00 -|- FastTransfer -|- MSS22_to_MSS25_Datadriven_Partition -|- INFORMATION -|- tpch_test.dbo.orders_4_no_index -|- BulkCopy to \"dbo\".\"orders_4_no_index\" with BatchSize = 1048576, Timeout = 3600\n",
      "2025-06-15T17:34:11.903 +02:00 -|- FastTransfer -|- MSS22_to_MSS25_Datadriven_Partition -|- INFORMATION -|- tpch_test.dbo.orders_4_no_index -|- Start Loading Data using distribution method DataDriven\n",
      "2025-06-15T17:34:11.903 +02:00 -|- FastTransfer -|- MSS22_to_MSS25_Datadriven_Partition -|- INFORMATION -|- tpch_test.dbo.orders_4_no_index -|- Table \"dbo\".\"orders_4_no_index\" has no Clustered Index. BulkCopy will use KeepNulls and UseInternalTransaction and Tablock\n",
      "2025-06-15T17:34:11.903 +02:00 -|- FastTransfer -|- MSS22_to_MSS25_Datadriven_Partition -|- INFORMATION -|- tpch_test.dbo.orders_4_no_index -|- BulkCopy to \"dbo\".\"orders_4_no_index\" with BatchSize = 1048576, Timeout = 3600\n",
      "2025-06-15T17:34:11.903 +02:00 -|- FastTransfer -|- MSS22_to_MSS25_Datadriven_Partition -|- WARNING -|- tpch_test.dbo.orders_4_no_index -|- Column o_orderyear not found in target table \"dbo\".\"orders_4_no_index\". The column will be ignored\n",
      "2025-06-15T17:34:11.904 +02:00 -|- FastTransfer -|- MSS22_to_MSS25_Datadriven_Partition -|- WARNING -|- tpch_test.dbo.orders_4_no_index -|- Only 9 out of 10 columns were mapped by name to the target table \"dbo\".\"orders_4_no_index\"\n",
      "2025-06-15T17:34:11.904 +02:00 -|- FastTransfer -|- MSS22_to_MSS25_Datadriven_Partition -|- WARNING -|- tpch_test.dbo.orders_4_no_index -|- Column o_orderyear not found in target table \"dbo\".\"orders_4_no_index\". The column will be ignored\n",
      "2025-06-15T17:34:11.904 +02:00 -|- FastTransfer -|- MSS22_to_MSS25_Datadriven_Partition -|- WARNING -|- tpch_test.dbo.orders_4_no_index -|- Only 9 out of 10 columns were mapped by name to the target table \"dbo\".\"orders_4_no_index\"\n",
      "2025-06-15T17:34:14.041 +02:00 -|- FastTransfer -|- MSS22_to_MSS25_Datadriven_Partition -|- INFORMATION -|- tpch_test.dbo.orders_4_no_index -|- Completed DataDriven Load sub-process 2 for $PARTITION.PF_DATE(o_orderdate) = 8 : 1333214 rows x 10 columns in 2152 ms\n",
      "2025-06-15T17:34:15.300 +02:00 -|- FastTransfer -|- MSS22_to_MSS25_Datadriven_Partition -|- INFORMATION -|- tpch_test.dbo.orders_4_no_index -|- Completed DataDriven Load sub-process 1 for $PARTITION.PF_DATE(o_orderdate) = 7 : 2275511 rows x 10 columns in 3412 ms\n",
      "2025-06-15T17:34:15.337 +02:00 -|- FastTransfer -|- MSS22_to_MSS25_Datadriven_Partition -|- INFORMATION -|- tpch_test.dbo.orders_4_no_index -|- Completed DataDriven Load sub-process 0 for $PARTITION.PF_DATE(o_orderdate) = 6 : 2281938 rows x 10 columns in 3450 ms\n",
      "2025-06-15T17:34:15.338 +02:00 -|- FastTransfer -|- MSS22_to_MSS25_Datadriven_Partition -|- INFORMATION -|- tpch_test.dbo.orders_4_no_index -|- Total rows : 5890663\n",
      "2025-06-15T17:34:15.338 +02:00 -|- FastTransfer -|- MSS22_to_MSS25_Datadriven_Partition -|- INFORMATION -|- tpch_test.dbo.orders_4_no_index -|- Total columns : 10\n",
      "2025-06-15T17:34:15.339 +02:00 -|- FastTransfer -|- MSS22_to_MSS25_Datadriven_Partition -|- INFORMATION -|- tpch_test.dbo.orders_4_no_index -|- Total cells : 58906630\n",
      "2025-06-15T17:34:15.339 +02:00 -|- FastTransfer -|- MSS22_to_MSS25_Datadriven_Partition -|- INFORMATION -|- tpch_test.dbo.orders_4_no_index -|- Rows Throughput : 1704438 rows/s\n",
      "2025-06-15T17:34:15.339 +02:00 -|- FastTransfer -|- MSS22_to_MSS25_Datadriven_Partition -|- INFORMATION -|- tpch_test.dbo.orders_4_no_index -|- Cells Throughput : 17044409 cells/s\n",
      "2025-06-15T17:34:15.339 +02:00 -|- FastTransfer -|- MSS22_to_MSS25_Datadriven_Partition -|- INFORMATION -|- tpch_test.dbo.orders_4_no_index -|- Transfert time : Elapsed=3456 ms\n",
      "2025-06-15T17:34:15.339 +02:00 -|- FastTransfer -|- MSS22_to_MSS25_Datadriven_Partition -|- INFORMATION -|- tpch_test.dbo.orders_4_no_index -|- Total time : Elapsed=3644 ms\n",
      "2025-06-15T17:34:15.339 +02:00 -|- FastTransfer -|- MSS22_to_MSS25_Datadriven_Partition -|- INFORMATION -|- tpch_test.dbo.orders_4_no_index -|- Completed Load\n"
     ]
    }
   ],
   "source": [
    "cd D:\\FastTransfer\n",
    "\n",
    ".\\FastTransfer.exe `\n",
    "--sourceconnectiontype \"mssql\" `\n",
    "--sourceserver \"localhost\" `\n",
    "--sourcedatabase \"tpch_test\" `\n",
    "--sourcetrusted `\n",
    "--sourceschema \"dbo\" `\n",
    "--sourcetable \"orders_part\" `\n",
    "`\n",
    "--targetconnectiontype \"msbulk\" `\n",
    "--targetserver \"localhost\\SS2025\" `\n",
    "--targettrusted `\n",
    "--targetdatabase \"tpch_test\" `\n",
    "--targetschema \"dbo\" `\n",
    "--targettable \"orders_4_no_index\" `\n",
    "`\n",
    "--loadmode \"Truncate\" `\n",
    "--mapmethod \"Name\" `\n",
    "--method \"DataDriven\" `\n",
    "--distributekeycolumn \"`$PARTITION.PF_DATE(o_orderdate)\" `\n",
    "--datadrivenquery \"select boundary_id partid \n",
    "from \n",
    "  sys.partition_range_values prv \n",
    "  inner join sys.partition_functions pf on prv.function_id=pf.function_id\n",
    "where \n",
    "  pf.name='PF_DATE'  \n",
    "  and cast(prv.value as date)  > '1996-01-01' and cast(prv.value as date) <= '1999-01-01'\" `\n",
    "--degree 7 `\n",
    "--runid \"MSS22_to_MSS25_Datadriven_Partition\""
   ]
  },
  {
   "cell_type": "markdown",
   "id": "5ebf3a79",
   "metadata": {},
   "source": [
    "### Using RangeId as parallel dispatch method and a filtered query as source"
   ]
  },
  {
   "cell_type": "code",
   "execution_count": 7,
   "metadata": {
    "polyglot_notebook": {
     "kernelName": "pwsh"
    }
   },
   "outputs": [
    {
     "name": "stdout",
     "output_type": "stream",
     "text": [
      "2025-06-15T17:34:51.460 +02:00 -|- FastTransfer -|- MSS22_to_MSS25_RangeId_and_filtered_data -|- INFORMATION -|- tpch_test.dbo.orders_4_no_index -|- FastTransfer - running in trial mode – will expires on 2025‑07‑14 (28 day(s) left).\n",
      "2025-06-15T17:34:51.470 +02:00 -|- FastTransfer -|- MSS22_to_MSS25_RangeId_and_filtered_data -|- INFORMATION -|- tpch_test.dbo.orders_4_no_index -|- Starting\n",
      "2025-06-15T17:34:51.470 +02:00 -|- FastTransfer -|- MSS22_to_MSS25_RangeId_and_filtered_data -|- INFORMATION -|- tpch_test.dbo.orders_4_no_index -|- FastTransfer Version : 0.13.6.0 Architecture : X64 - Framework : .NET 8.0.16\n",
      "2025-06-15T17:34:51.470 +02:00 -|- FastTransfer -|- MSS22_to_MSS25_RangeId_and_filtered_data -|- INFORMATION -|- tpch_test.dbo.orders_4_no_index -|- OS : Microsoft Windows 10.0.26100\n",
      "2025-06-15T17:34:51.470 +02:00 -|- FastTransfer -|- MSS22_to_MSS25_RangeId_and_filtered_data -|- INFORMATION -|- tpch_test.dbo.orders_4_no_index -|- Process ID : 37956\n",
      "2025-06-15T17:34:51.470 +02:00 -|- FastTransfer -|- MSS22_to_MSS25_RangeId_and_filtered_data -|- INFORMATION -|- tpch_test.dbo.orders_4_no_index -|- Provided Run ID : MSS22_to_MSS25_RangeId_and_filtered_data\n",
      "2025-06-15T17:34:51.470 +02:00 -|- FastTransfer -|- MSS22_to_MSS25_RangeId_and_filtered_data -|- INFORMATION -|- tpch_test.dbo.orders_4_no_index -|- Source Connection Type : mssql\n",
      "2025-06-15T17:34:51.470 +02:00 -|- FastTransfer -|- MSS22_to_MSS25_RangeId_and_filtered_data -|- INFORMATION -|- tpch_test.dbo.orders_4_no_index -|- Source SqlInstance : localhost\n",
      "2025-06-15T17:34:51.470 +02:00 -|- FastTransfer -|- MSS22_to_MSS25_RangeId_and_filtered_data -|- INFORMATION -|- tpch_test.dbo.orders_4_no_index -|- Source Database : tpch_test\n",
      "2025-06-15T17:34:51.470 +02:00 -|- FastTransfer -|- MSS22_to_MSS25_RangeId_and_filtered_data -|- INFORMATION -|- tpch_test.dbo.orders_4_no_index -|- Source Trusted Connection : True\n",
      "2025-06-15T17:34:51.470 +02:00 -|- FastTransfer -|- MSS22_to_MSS25_RangeId_and_filtered_data -|- INFORMATION -|- tpch_test.dbo.orders_4_no_index -|- Query : SELECT * FROM orders_part WHERE o_orderdate between '1996-01-01' AND '1999-12-31'\n",
      "2025-06-15T17:34:51.470 +02:00 -|- FastTransfer -|- MSS22_to_MSS25_RangeId_and_filtered_data -|- INFORMATION -|- tpch_test.dbo.orders_4_no_index -|- Target Type : msbulk\n",
      "2025-06-15T17:34:51.470 +02:00 -|- FastTransfer -|- MSS22_to_MSS25_RangeId_and_filtered_data -|- INFORMATION -|- tpch_test.dbo.orders_4_no_index -|- Target Server : localhost\\SS2025\n",
      "2025-06-15T17:34:51.470 +02:00 -|- FastTransfer -|- MSS22_to_MSS25_RangeId_and_filtered_data -|- INFORMATION -|- tpch_test.dbo.orders_4_no_index -|- Target Database : tpch_test\n",
      "2025-06-15T17:34:51.470 +02:00 -|- FastTransfer -|- MSS22_to_MSS25_RangeId_and_filtered_data -|- INFORMATION -|- tpch_test.dbo.orders_4_no_index -|- Target Schema : dbo\n",
      "2025-06-15T17:34:51.470 +02:00 -|- FastTransfer -|- MSS22_to_MSS25_RangeId_and_filtered_data -|- INFORMATION -|- tpch_test.dbo.orders_4_no_index -|- Target Table : orders_4_no_index\n",
      "2025-06-15T17:34:51.470 +02:00 -|- FastTransfer -|- MSS22_to_MSS25_RangeId_and_filtered_data -|- INFORMATION -|- tpch_test.dbo.orders_4_no_index -|- Target Trusted Connection : True\n",
      "2025-06-15T17:34:51.470 +02:00 -|- FastTransfer -|- MSS22_to_MSS25_RangeId_and_filtered_data -|- INFORMATION -|- tpch_test.dbo.orders_4_no_index -|- Columns Map Method : Name\n",
      "2025-06-15T17:34:51.470 +02:00 -|- FastTransfer -|- MSS22_to_MSS25_RangeId_and_filtered_data -|- INFORMATION -|- tpch_test.dbo.orders_4_no_index -|- Degree : 7\n",
      "2025-06-15T17:34:51.470 +02:00 -|- FastTransfer -|- MSS22_to_MSS25_RangeId_and_filtered_data -|- INFORMATION -|- tpch_test.dbo.orders_4_no_index -|- Distribute Method : RangeId\n",
      "2025-06-15T17:34:51.470 +02:00 -|- FastTransfer -|- MSS22_to_MSS25_RangeId_and_filtered_data -|- INFORMATION -|- tpch_test.dbo.orders_4_no_index -|- Distribute Column : o_orderkey\n",
      "2025-06-15T17:34:51.470 +02:00 -|- FastTransfer -|- MSS22_to_MSS25_RangeId_and_filtered_data -|- INFORMATION -|- tpch_test.dbo.orders_4_no_index -|- Bulkcopy Batch Size : 1048576\n",
      "2025-06-15T17:34:51.470 +02:00 -|- FastTransfer -|- MSS22_to_MSS25_RangeId_and_filtered_data -|- INFORMATION -|- tpch_test.dbo.orders_4_no_index -|- Load Mode : Truncate\n",
      "2025-06-15T17:34:51.470 +02:00 -|- FastTransfer -|- MSS22_to_MSS25_RangeId_and_filtered_data -|- INFORMATION -|- tpch_test.dbo.orders_4_no_index -|- Use Work Tables : False\n",
      "2025-06-15T17:34:51.471 +02:00 -|- FastTransfer -|- MSS22_to_MSS25_RangeId_and_filtered_data -|- INFORMATION -|- tpch_test.dbo.orders_4_no_index -|- Encoding used : Unicode (UTF-8) - 65001 - utf-8\n",
      "2025-06-15T17:34:51.492 +02:00 -|- FastTransfer -|- MSS22_to_MSS25_RangeId_and_filtered_data -|- INFORMATION -|- tpch_test.dbo.orders_4_no_index -|- Source Connection String : Data Source=localhost;Initial Catalog=tpch_test;Integrated Security=True;Connect Timeout=120;Encrypt=True;Trust Server Certificate=True;Application Name=FastTransfer;Application Intent=ReadOnly;Command Timeout=10800\n",
      "2025-06-15T17:34:51.492 +02:00 -|- FastTransfer -|- MSS22_to_MSS25_RangeId_and_filtered_data -|- INFORMATION -|- tpch_test.dbo.orders_4_no_index -|- Target Connection String : Data Source=localhost\\SS2025;Initial Catalog=tpch_test;Integrated Security=True;Connect Timeout=120;Encrypt=True;Trust Server Certificate=True;Application Name=FastTransfer;Application Intent=ReadWrite;Command Timeout=10800\n",
      "2025-06-15T17:34:51.492 +02:00 -|- FastTransfer -|- MSS22_to_MSS25_RangeId_and_filtered_data -|- INFORMATION -|- tpch_test.dbo.orders_4_no_index -|- Source Database Version : Microsoft SQL Server 2022 (RTM-CU17) (KB5048038) - 16.0.4175.1 (X64)  \tDec 13 2024 09:01:53  \tCopyright (C) 2022 Microsoft Corporation \tDeveloper Edition (64-bit) on Windows 10 Pro 10.0 <X64> (Build 26100: ) (Hypervisor) \n",
      "2025-06-15T17:34:51.492 +02:00 -|- FastTransfer -|- MSS22_to_MSS25_RangeId_and_filtered_data -|- INFORMATION -|- tpch_test.dbo.orders_4_no_index -|- Target Database Version : Microsoft SQL Server 2025 (CTP2.0) - 17.0.700.9 (X64)  \tMay  8 2025 19:14:27  \tCopyright (C) 2025 Microsoft Corporation \tEnterprise Developer Edition (64-bit) on Windows 10 Pro 10.0 <X64> (Build 26100: ) (Hypervisor) \n",
      "2025-06-15T17:34:51.699 +02:00 -|- FastTransfer -|- MSS22_to_MSS25_RangeId_and_filtered_data -|- INFORMATION -|- tpch_test.dbo.orders_4_no_index -|- Start Loading Data using distribution method RangeId\n",
      "2025-06-15T17:34:51.700 +02:00 -|- FastTransfer -|- MSS22_to_MSS25_RangeId_and_filtered_data -|- INFORMATION -|- tpch_test.dbo.orders_4_no_index -|- Table \"dbo\".\"orders_4_no_index\" has no Clustered Index. BulkCopy will use KeepNulls and UseInternalTransaction and Tablock\n",
      "2025-06-15T17:34:51.700 +02:00 -|- FastTransfer -|- MSS22_to_MSS25_RangeId_and_filtered_data -|- INFORMATION -|- tpch_test.dbo.orders_4_no_index -|- BulkCopy to \"dbo\".\"orders_4_no_index\" with BatchSize = 1048576, Timeout = 3600\n",
      "2025-06-15T17:34:51.702 +02:00 -|- FastTransfer -|- MSS22_to_MSS25_RangeId_and_filtered_data -|- WARNING -|- tpch_test.dbo.orders_4_no_index -|- Column o_orderyear not found in target table \"dbo\".\"orders_4_no_index\". The column will be ignored\n",
      "2025-06-15T17:34:51.702 +02:00 -|- FastTransfer -|- MSS22_to_MSS25_RangeId_and_filtered_data -|- WARNING -|- tpch_test.dbo.orders_4_no_index -|- Only 9 out of 10 columns were mapped by name to the target table \"dbo\".\"orders_4_no_index\"\n",
      "2025-06-15T17:34:51.711 +02:00 -|- FastTransfer -|- MSS22_to_MSS25_RangeId_and_filtered_data -|- INFORMATION -|- tpch_test.dbo.orders_4_no_index -|- Start Loading Data using distribution method RangeId\n",
      "2025-06-15T17:34:51.712 +02:00 -|- FastTransfer -|- MSS22_to_MSS25_RangeId_and_filtered_data -|- INFORMATION -|- tpch_test.dbo.orders_4_no_index -|- Table \"dbo\".\"orders_4_no_index\" has no Clustered Index. BulkCopy will use KeepNulls and UseInternalTransaction and Tablock\n",
      "2025-06-15T17:34:51.712 +02:00 -|- FastTransfer -|- MSS22_to_MSS25_RangeId_and_filtered_data -|- INFORMATION -|- tpch_test.dbo.orders_4_no_index -|- BulkCopy to \"dbo\".\"orders_4_no_index\" with BatchSize = 1048576, Timeout = 3600\n",
      "2025-06-15T17:34:51.713 +02:00 -|- FastTransfer -|- MSS22_to_MSS25_RangeId_and_filtered_data -|- WARNING -|- tpch_test.dbo.orders_4_no_index -|- Column o_orderyear not found in target table \"dbo\".\"orders_4_no_index\". The column will be ignored\n",
      "2025-06-15T17:34:51.713 +02:00 -|- FastTransfer -|- MSS22_to_MSS25_RangeId_and_filtered_data -|- WARNING -|- tpch_test.dbo.orders_4_no_index -|- Only 9 out of 10 columns were mapped by name to the target table \"dbo\".\"orders_4_no_index\"\n",
      "2025-06-15T17:34:51.714 +02:00 -|- FastTransfer -|- MSS22_to_MSS25_RangeId_and_filtered_data -|- INFORMATION -|- tpch_test.dbo.orders_4_no_index -|- Start Loading Data using distribution method RangeId\n",
      "2025-06-15T17:34:51.714 +02:00 -|- FastTransfer -|- MSS22_to_MSS25_RangeId_and_filtered_data -|- INFORMATION -|- tpch_test.dbo.orders_4_no_index -|- Table \"dbo\".\"orders_4_no_index\" has no Clustered Index. BulkCopy will use KeepNulls and UseInternalTransaction and Tablock\n",
      "2025-06-15T17:34:51.714 +02:00 -|- FastTransfer -|- MSS22_to_MSS25_RangeId_and_filtered_data -|- INFORMATION -|- tpch_test.dbo.orders_4_no_index -|- BulkCopy to \"dbo\".\"orders_4_no_index\" with BatchSize = 1048576, Timeout = 3600\n",
      "2025-06-15T17:34:51.716 +02:00 -|- FastTransfer -|- MSS22_to_MSS25_RangeId_and_filtered_data -|- WARNING -|- tpch_test.dbo.orders_4_no_index -|- Column o_orderyear not found in target table \"dbo\".\"orders_4_no_index\". The column will be ignored\n",
      "2025-06-15T17:34:51.716 +02:00 -|- FastTransfer -|- MSS22_to_MSS25_RangeId_and_filtered_data -|- WARNING -|- tpch_test.dbo.orders_4_no_index -|- Only 9 out of 10 columns were mapped by name to the target table \"dbo\".\"orders_4_no_index\"\n",
      "2025-06-15T17:34:51.721 +02:00 -|- FastTransfer -|- MSS22_to_MSS25_RangeId_and_filtered_data -|- INFORMATION -|- tpch_test.dbo.orders_4_no_index -|- Start Loading Data using distribution method RangeId\n",
      "2025-06-15T17:34:51.721 +02:00 -|- FastTransfer -|- MSS22_to_MSS25_RangeId_and_filtered_data -|- INFORMATION -|- tpch_test.dbo.orders_4_no_index -|- Table \"dbo\".\"orders_4_no_index\" has no Clustered Index. BulkCopy will use KeepNulls and UseInternalTransaction and Tablock\n",
      "2025-06-15T17:34:51.721 +02:00 -|- FastTransfer -|- MSS22_to_MSS25_RangeId_and_filtered_data -|- INFORMATION -|- tpch_test.dbo.orders_4_no_index -|- BulkCopy to \"dbo\".\"orders_4_no_index\" with BatchSize = 1048576, Timeout = 3600\n",
      "2025-06-15T17:34:51.723 +02:00 -|- FastTransfer -|- MSS22_to_MSS25_RangeId_and_filtered_data -|- WARNING -|- tpch_test.dbo.orders_4_no_index -|- Column o_orderyear not found in target table \"dbo\".\"orders_4_no_index\". The column will be ignored\n",
      "2025-06-15T17:34:51.723 +02:00 -|- FastTransfer -|- MSS22_to_MSS25_RangeId_and_filtered_data -|- WARNING -|- tpch_test.dbo.orders_4_no_index -|- Only 9 out of 10 columns were mapped by name to the target table \"dbo\".\"orders_4_no_index\"\n",
      "2025-06-15T17:34:51.725 +02:00 -|- FastTransfer -|- MSS22_to_MSS25_RangeId_and_filtered_data -|- INFORMATION -|- tpch_test.dbo.orders_4_no_index -|- Start Loading Data using distribution method RangeId\n",
      "2025-06-15T17:34:51.726 +02:00 -|- FastTransfer -|- MSS22_to_MSS25_RangeId_and_filtered_data -|- INFORMATION -|- tpch_test.dbo.orders_4_no_index -|- Table \"dbo\".\"orders_4_no_index\" has no Clustered Index. BulkCopy will use KeepNulls and UseInternalTransaction and Tablock\n",
      "2025-06-15T17:34:51.726 +02:00 -|- FastTransfer -|- MSS22_to_MSS25_RangeId_and_filtered_data -|- INFORMATION -|- tpch_test.dbo.orders_4_no_index -|- BulkCopy to \"dbo\".\"orders_4_no_index\" with BatchSize = 1048576, Timeout = 3600\n",
      "2025-06-15T17:34:51.728 +02:00 -|- FastTransfer -|- MSS22_to_MSS25_RangeId_and_filtered_data -|- WARNING -|- tpch_test.dbo.orders_4_no_index -|- Column o_orderyear not found in target table \"dbo\".\"orders_4_no_index\". The column will be ignored\n",
      "2025-06-15T17:34:51.728 +02:00 -|- FastTransfer -|- MSS22_to_MSS25_RangeId_and_filtered_data -|- WARNING -|- tpch_test.dbo.orders_4_no_index -|- Only 9 out of 10 columns were mapped by name to the target table \"dbo\".\"orders_4_no_index\"\n",
      "2025-06-15T17:34:51.732 +02:00 -|- FastTransfer -|- MSS22_to_MSS25_RangeId_and_filtered_data -|- INFORMATION -|- tpch_test.dbo.orders_4_no_index -|- Start Loading Data using distribution method RangeId\n",
      "2025-06-15T17:34:51.733 +02:00 -|- FastTransfer -|- MSS22_to_MSS25_RangeId_and_filtered_data -|- INFORMATION -|- tpch_test.dbo.orders_4_no_index -|- Table \"dbo\".\"orders_4_no_index\" has no Clustered Index. BulkCopy will use KeepNulls and UseInternalTransaction and Tablock\n",
      "2025-06-15T17:34:51.733 +02:00 -|- FastTransfer -|- MSS22_to_MSS25_RangeId_and_filtered_data -|- INFORMATION -|- tpch_test.dbo.orders_4_no_index -|- BulkCopy to \"dbo\".\"orders_4_no_index\" with BatchSize = 1048576, Timeout = 3600\n",
      "2025-06-15T17:34:51.734 +02:00 -|- FastTransfer -|- MSS22_to_MSS25_RangeId_and_filtered_data -|- WARNING -|- tpch_test.dbo.orders_4_no_index -|- Column o_orderyear not found in target table \"dbo\".\"orders_4_no_index\". The column will be ignored\n",
      "2025-06-15T17:34:51.734 +02:00 -|- FastTransfer -|- MSS22_to_MSS25_RangeId_and_filtered_data -|- WARNING -|- tpch_test.dbo.orders_4_no_index -|- Only 9 out of 10 columns were mapped by name to the target table \"dbo\".\"orders_4_no_index\"\n",
      "2025-06-15T17:34:51.736 +02:00 -|- FastTransfer -|- MSS22_to_MSS25_RangeId_and_filtered_data -|- INFORMATION -|- tpch_test.dbo.orders_4_no_index -|- Start Loading Data using distribution method RangeId\n",
      "2025-06-15T17:34:51.736 +02:00 -|- FastTransfer -|- MSS22_to_MSS25_RangeId_and_filtered_data -|- INFORMATION -|- tpch_test.dbo.orders_4_no_index -|- Table \"dbo\".\"orders_4_no_index\" has no Clustered Index. BulkCopy will use KeepNulls and UseInternalTransaction and Tablock\n",
      "2025-06-15T17:34:51.736 +02:00 -|- FastTransfer -|- MSS22_to_MSS25_RangeId_and_filtered_data -|- INFORMATION -|- tpch_test.dbo.orders_4_no_index -|- BulkCopy to \"dbo\".\"orders_4_no_index\" with BatchSize = 1048576, Timeout = 3600\n",
      "2025-06-15T17:34:51.738 +02:00 -|- FastTransfer -|- MSS22_to_MSS25_RangeId_and_filtered_data -|- WARNING -|- tpch_test.dbo.orders_4_no_index -|- Column o_orderyear not found in target table \"dbo\".\"orders_4_no_index\". The column will be ignored\n",
      "2025-06-15T17:34:51.738 +02:00 -|- FastTransfer -|- MSS22_to_MSS25_RangeId_and_filtered_data -|- WARNING -|- tpch_test.dbo.orders_4_no_index -|- Only 9 out of 10 columns were mapped by name to the target table \"dbo\".\"orders_4_no_index\"\n",
      "2025-06-15T17:34:53.830 +02:00 -|- FastTransfer -|- MSS22_to_MSS25_RangeId_and_filtered_data -|- INFORMATION -|- tpch_test.dbo.orders_4_no_index -|- Completed RangeId Parallel Load 3 : 841397 rows x 10 columns in 2131 ms\n",
      "2025-06-15T17:34:53.833 +02:00 -|- FastTransfer -|- MSS22_to_MSS25_RangeId_and_filtered_data -|- INFORMATION -|- tpch_test.dbo.orders_4_no_index -|- Completed RangeId Parallel Load 2 : 841199 rows x 10 columns in 2134 ms\n",
      "2025-06-15T17:34:53.842 +02:00 -|- FastTransfer -|- MSS22_to_MSS25_RangeId_and_filtered_data -|- INFORMATION -|- tpch_test.dbo.orders_4_no_index -|- Completed RangeId Parallel Load 5 : 842010 rows x 10 columns in 2142 ms\n",
      "2025-06-15T17:34:53.886 +02:00 -|- FastTransfer -|- MSS22_to_MSS25_RangeId_and_filtered_data -|- INFORMATION -|- tpch_test.dbo.orders_4_no_index -|- Completed RangeId Parallel Load 0 : 842016 rows x 10 columns in 2188 ms\n",
      "2025-06-15T17:34:53.894 +02:00 -|- FastTransfer -|- MSS22_to_MSS25_RangeId_and_filtered_data -|- INFORMATION -|- tpch_test.dbo.orders_4_no_index -|- Completed RangeId Parallel Load 1 : 842506 rows x 10 columns in 2196 ms\n",
      "2025-06-15T17:34:54.026 +02:00 -|- FastTransfer -|- MSS22_to_MSS25_RangeId_and_filtered_data -|- INFORMATION -|- tpch_test.dbo.orders_4_no_index -|- Completed RangeId Parallel Load 4 : 842208 rows x 10 columns in 2327 ms\n",
      "2025-06-15T17:34:54.031 +02:00 -|- FastTransfer -|- MSS22_to_MSS25_RangeId_and_filtered_data -|- INFORMATION -|- tpch_test.dbo.orders_4_no_index -|- Completed RangeId Parallel Load 6 : 839327 rows x 10 columns in 2331 ms\n",
      "2025-06-15T17:34:54.032 +02:00 -|- FastTransfer -|- MSS22_to_MSS25_RangeId_and_filtered_data -|- INFORMATION -|- tpch_test.dbo.orders_4_no_index -|- Total rows : 5890663\n",
      "2025-06-15T17:34:54.032 +02:00 -|- FastTransfer -|- MSS22_to_MSS25_RangeId_and_filtered_data -|- INFORMATION -|- tpch_test.dbo.orders_4_no_index -|- Total columns : 10\n",
      "2025-06-15T17:34:54.032 +02:00 -|- FastTransfer -|- MSS22_to_MSS25_RangeId_and_filtered_data -|- INFORMATION -|- tpch_test.dbo.orders_4_no_index -|- Total cells : 58906630\n",
      "2025-06-15T17:34:54.032 +02:00 -|- FastTransfer -|- MSS22_to_MSS25_RangeId_and_filtered_data -|- INFORMATION -|- tpch_test.dbo.orders_4_no_index -|- Rows Throughput : 2327087 rows/s\n",
      "2025-06-15T17:34:54.032 +02:00 -|- FastTransfer -|- MSS22_to_MSS25_RangeId_and_filtered_data -|- INFORMATION -|- tpch_test.dbo.orders_4_no_index -|- Cells Throughput : 23270928 cells/s\n",
      "2025-06-15T17:34:54.032 +02:00 -|- FastTransfer -|- MSS22_to_MSS25_RangeId_and_filtered_data -|- INFORMATION -|- tpch_test.dbo.orders_4_no_index -|- Transfert time : Elapsed=2531 ms\n",
      "2025-06-15T17:34:54.032 +02:00 -|- FastTransfer -|- MSS22_to_MSS25_RangeId_and_filtered_data -|- INFORMATION -|- tpch_test.dbo.orders_4_no_index -|- Total time : Elapsed=2722 ms\n",
      "2025-06-15T17:34:54.032 +02:00 -|- FastTransfer -|- MSS22_to_MSS25_RangeId_and_filtered_data -|- INFORMATION -|- tpch_test.dbo.orders_4_no_index -|- Completed Load\n"
     ]
    }
   ],
   "source": [
    "cd D:\\FastTransfer\n",
    "\n",
    ".\\FastTransfer.exe `\n",
    "--sourceconnectiontype \"mssql\" `\n",
    "--sourceserver \"localhost\" `\n",
    "--sourcedatabase \"tpch_test\" `\n",
    "--sourcetrusted `\n",
    "--query \"SELECT * FROM orders_part WHERE o_orderdate between '1996-01-01' AND '1999-12-31'\" `\n",
    "`\n",
    "--targetconnectiontype \"msbulk\" `\n",
    "--targetserver \"localhost\\SS2025\" `\n",
    "--targettrusted `\n",
    "--targetdatabase \"tpch_test\" `\n",
    "--targetschema \"dbo\" `\n",
    "--targettable \"orders_4_no_index\" `\n",
    "`\n",
    "--loadmode \"Truncate\" `\n",
    "--mapmethod \"Name\" `\n",
    "--method \"RangeId\" `\n",
    "--distributekeycolumn \"o_orderkey\" `\n",
    "--degree 7 `\n",
    "--runid \"MSS22_to_MSS25_RangeId_and_filtered_data\""
   ]
  },
  {
   "cell_type": "code",
   "execution_count": 2,
   "metadata": {
    "polyglot_notebook": {
     "kernelName": "sql-SS2025_tpch_test"
    }
   },
   "outputs": [
    {
     "data": {
      "text/plain": [
       "(1 ligne affectée)"
      ]
     },
     "metadata": {},
     "output_type": "display_data"
    },
    {
     "data": {
      "text/csv": [
       "(Aucun nom de colonne)\r\n",
       "1333214\r\n"
      ],
      "text/html": [
       "<table><thead><tr><td><span>(Aucun nom de colonne)</span></td></tr></thead><tbody><tr><td><div class=\"dni-plaintext\"><pre>1333214</pre></div></td></tr></tbody></table><style>\r\n",
       ".dni-code-hint {\r\n",
       "    font-style: italic;\r\n",
       "    overflow: hidden;\r\n",
       "    white-space: nowrap;\r\n",
       "}\r\n",
       ".dni-treeview {\r\n",
       "    white-space: nowrap;\r\n",
       "}\r\n",
       ".dni-treeview td {\r\n",
       "    vertical-align: top;\r\n",
       "    text-align: start;\r\n",
       "}\r\n",
       "details.dni-treeview {\r\n",
       "    padding-left: 1em;\r\n",
       "}\r\n",
       "table td {\r\n",
       "    text-align: start;\r\n",
       "}\r\n",
       "table tr { \r\n",
       "    vertical-align: top; \r\n",
       "    margin: 0em 0px;\r\n",
       "}\r\n",
       "table tr td pre \r\n",
       "{ \r\n",
       "    vertical-align: top !important; \r\n",
       "    margin: 0em 0px !important;\r\n",
       "} \r\n",
       "table th {\r\n",
       "    text-align: start;\r\n",
       "}\r\n",
       "</style>"
      ]
     },
     "metadata": {},
     "output_type": "display_data"
    }
   ],
   "source": [
    "SELECT count(*) from orders_4_no_index"
   ]
  }
 ],
 "metadata": {
  "kernelspec": {
   "display_name": ".NET (C#)",
   "language": "C#",
   "name": ".net-csharp"
  },
  "language_info": {
   "name": "polyglot-notebook"
  },
  "polyglot_notebook": {
   "kernelInfo": {
    "defaultKernelName": "csharp",
    "items": [
     {
      "aliases": [],
      "name": "csharp"
     },
     {
      "aliases": [],
      "languageName": "pwsh",
      "name": "pwsh"
     },
     {
      "aliases": [],
      "languageName": "T-SQL",
      "name": "sql-SS2025_tpch_test"
     }
    ]
   }
  }
 },
 "nbformat": 4,
 "nbformat_minor": 5
}
