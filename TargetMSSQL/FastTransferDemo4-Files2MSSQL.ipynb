{
 "cells": [
  {
   "cell_type": "markdown",
   "id": "eaa594fd",
   "metadata": {},
   "source": [
    "\n",
    "```\n",
    "███████  █████  ███████ ████████ ████████ ██████   █████  ███    ██ ███████ ███████ ███████ ██████  \n",
    "██      ██   ██ ██         ██       ██    ██   ██ ██   ██ ████   ██ ██      ██      ██      ██   ██ \n",
    "█████   ███████ ███████    ██       ██    ██████  ███████ ██ ██  ██ ███████ █████   █████   ██████  \n",
    "██      ██   ██      ██    ██       ██    ██   ██ ██   ██ ██  ██ ██      ██ ██      ██      ██   ██ \n",
    "██      ██   ██ ███████    ██       ██    ██   ██ ██   ██ ██   ████ ███████ ██      ███████ ██   ██ \n",
    "                                                                                        "
   ]
  },
  {
   "cell_type": "markdown",
   "id": "9f4ce60e",
   "metadata": {
    "polyglot_notebook": {
     "kernelName": "csharp"
    }
   },
   "source": [
    "# Demo 4 - Files to MSSQL"
   ]
  },
  {
   "cell_type": "markdown",
   "id": "ea3b3ddb",
   "metadata": {},
   "source": [
    "## Import severals CSV files to one MSSQL Table"
   ]
  },
  {
   "cell_type": "markdown",
   "id": "6334908c",
   "metadata": {},
   "source": [
    "FastTransfer use an embedded DuckDB that allow to read CSV, JSON, Parquet files using SQL to read data.\n",
    "DuckDB infer the source CSVs structure using the first 100_000 rows if no format is provided.\n",
    "It is possible to give or force a format. Use the [DuckDB CSV import documentation](https://duckdb.org/docs/stable/data/csv/overview) to see what is possible\n"
   ]
  },
  {
   "cell_type": "markdown",
   "id": "55d58837",
   "metadata": {},
   "source": [
    "### using Datadriven and filenames as distributedkeycolumn"
   ]
  },
  {
   "cell_type": "markdown",
   "id": "1a22b8ba",
   "metadata": {},
   "source": [
    "DuckDB allow to retrieve data from CSV as a sql query that FastTransfer will understand and push to a target (MSSQL but also PostgreSQL, Oracle, MySQL, SAP HANA, Clickhouse). This allow **FastTransfer to become an universal CSV parallel loader**. For that you must use sourceconnectiontype as **duckdbstream**"
   ]
  },
  {
   "cell_type": "markdown",
   "id": "52acc018",
   "metadata": {},
   "source": [
    "Adding this to the automapping method using column names and you have the perfect import tool !"
   ]
  },
  {
   "cell_type": "code",
   "execution_count": 14,
   "metadata": {
    "language_info": {
     "name": "polyglot-notebook"
    },
    "polyglot_notebook": {
     "kernelName": "pwsh"
    },
    "slideshow": {
     "slide_type": "slide"
    }
   },
   "outputs": [
    {
     "data": {
      "text/html": [
       "<table><thead><tr><th><i>key</i></th><th><i>type</i></th><th>value</th></tr></thead><tbody><tr><td><div class=\"dni-plaintext\"><pre>Name</pre></div></td><td><span><a href=\"https://docs.microsoft.com/dotnet/api/system.string?view=net-7.0\">System.String</a></span></td><td><div class=\"dni-plaintext\"><pre>mssql_orders_chunck_000.csv</pre></div></td></tr><tr><td><div class=\"dni-plaintext\"><pre>Length</pre></div></td><td><span><a href=\"https://docs.microsoft.com/dotnet/api/system.int64?view=net-7.0\">System.Int64</a></span></td><td><div class=\"dni-plaintext\"><pre>201817934</pre></div></td></tr></tbody></table><style>\r\n",
       ".dni-code-hint {\r\n",
       "    font-style: italic;\r\n",
       "    overflow: hidden;\r\n",
       "    white-space: nowrap;\r\n",
       "}\r\n",
       ".dni-treeview {\r\n",
       "    white-space: nowrap;\r\n",
       "}\r\n",
       ".dni-treeview td {\r\n",
       "    vertical-align: top;\r\n",
       "    text-align: start;\r\n",
       "}\r\n",
       "details.dni-treeview {\r\n",
       "    padding-left: 1em;\r\n",
       "}\r\n",
       "table td {\r\n",
       "    text-align: start;\r\n",
       "}\r\n",
       "table tr { \r\n",
       "    vertical-align: top; \r\n",
       "    margin: 0em 0px;\r\n",
       "}\r\n",
       "table tr td pre \r\n",
       "{ \r\n",
       "    vertical-align: top !important; \r\n",
       "    margin: 0em 0px !important;\r\n",
       "} \r\n",
       "table th {\r\n",
       "    text-align: start;\r\n",
       "}\r\n",
       "</style>"
      ]
     },
     "metadata": {},
     "output_type": "display_data"
    },
    {
     "data": {
      "text/html": [
       "<table><thead><tr><th><i>key</i></th><th><i>type</i></th><th>value</th></tr></thead><tbody><tr><td><div class=\"dni-plaintext\"><pre>Name</pre></div></td><td><span><a href=\"https://docs.microsoft.com/dotnet/api/system.string?view=net-7.0\">System.String</a></span></td><td><div class=\"dni-plaintext\"><pre>mssql_orders_chunck_001.csv</pre></div></td></tr><tr><td><div class=\"dni-plaintext\"><pre>Length</pre></div></td><td><span><a href=\"https://docs.microsoft.com/dotnet/api/system.int64?view=net-7.0\">System.Int64</a></span></td><td><div class=\"dni-plaintext\"><pre>202830933</pre></div></td></tr></tbody></table><style>\r\n",
       ".dni-code-hint {\r\n",
       "    font-style: italic;\r\n",
       "    overflow: hidden;\r\n",
       "    white-space: nowrap;\r\n",
       "}\r\n",
       ".dni-treeview {\r\n",
       "    white-space: nowrap;\r\n",
       "}\r\n",
       ".dni-treeview td {\r\n",
       "    vertical-align: top;\r\n",
       "    text-align: start;\r\n",
       "}\r\n",
       "details.dni-treeview {\r\n",
       "    padding-left: 1em;\r\n",
       "}\r\n",
       "table td {\r\n",
       "    text-align: start;\r\n",
       "}\r\n",
       "table tr { \r\n",
       "    vertical-align: top; \r\n",
       "    margin: 0em 0px;\r\n",
       "}\r\n",
       "table tr td pre \r\n",
       "{ \r\n",
       "    vertical-align: top !important; \r\n",
       "    margin: 0em 0px !important;\r\n",
       "} \r\n",
       "table th {\r\n",
       "    text-align: start;\r\n",
       "}\r\n",
       "</style>"
      ]
     },
     "metadata": {},
     "output_type": "display_data"
    },
    {
     "data": {
      "text/html": [
       "<table><thead><tr><th><i>key</i></th><th><i>type</i></th><th>value</th></tr></thead><tbody><tr><td><div class=\"dni-plaintext\"><pre>Name</pre></div></td><td><span><a href=\"https://docs.microsoft.com/dotnet/api/system.string?view=net-7.0\">System.String</a></span></td><td><div class=\"dni-plaintext\"><pre>mssql_orders_chunck_002.csv</pre></div></td></tr><tr><td><div class=\"dni-plaintext\"><pre>Length</pre></div></td><td><span><a href=\"https://docs.microsoft.com/dotnet/api/system.int64?view=net-7.0\">System.Int64</a></span></td><td><div class=\"dni-plaintext\"><pre>203716329</pre></div></td></tr></tbody></table><style>\r\n",
       ".dni-code-hint {\r\n",
       "    font-style: italic;\r\n",
       "    overflow: hidden;\r\n",
       "    white-space: nowrap;\r\n",
       "}\r\n",
       ".dni-treeview {\r\n",
       "    white-space: nowrap;\r\n",
       "}\r\n",
       ".dni-treeview td {\r\n",
       "    vertical-align: top;\r\n",
       "    text-align: start;\r\n",
       "}\r\n",
       "details.dni-treeview {\r\n",
       "    padding-left: 1em;\r\n",
       "}\r\n",
       "table td {\r\n",
       "    text-align: start;\r\n",
       "}\r\n",
       "table tr { \r\n",
       "    vertical-align: top; \r\n",
       "    margin: 0em 0px;\r\n",
       "}\r\n",
       "table tr td pre \r\n",
       "{ \r\n",
       "    vertical-align: top !important; \r\n",
       "    margin: 0em 0px !important;\r\n",
       "} \r\n",
       "table th {\r\n",
       "    text-align: start;\r\n",
       "}\r\n",
       "</style>"
      ]
     },
     "metadata": {},
     "output_type": "display_data"
    },
    {
     "data": {
      "text/html": [
       "<table><thead><tr><th><i>key</i></th><th><i>type</i></th><th>value</th></tr></thead><tbody><tr><td><div class=\"dni-plaintext\"><pre>Name</pre></div></td><td><span><a href=\"https://docs.microsoft.com/dotnet/api/system.string?view=net-7.0\">System.String</a></span></td><td><div class=\"dni-plaintext\"><pre>mssql_orders_chunck_003.csv</pre></div></td></tr><tr><td><div class=\"dni-plaintext\"><pre>Length</pre></div></td><td><span><a href=\"https://docs.microsoft.com/dotnet/api/system.int64?view=net-7.0\">System.Int64</a></span></td><td><div class=\"dni-plaintext\"><pre>203691780</pre></div></td></tr></tbody></table><style>\r\n",
       ".dni-code-hint {\r\n",
       "    font-style: italic;\r\n",
       "    overflow: hidden;\r\n",
       "    white-space: nowrap;\r\n",
       "}\r\n",
       ".dni-treeview {\r\n",
       "    white-space: nowrap;\r\n",
       "}\r\n",
       ".dni-treeview td {\r\n",
       "    vertical-align: top;\r\n",
       "    text-align: start;\r\n",
       "}\r\n",
       "details.dni-treeview {\r\n",
       "    padding-left: 1em;\r\n",
       "}\r\n",
       "table td {\r\n",
       "    text-align: start;\r\n",
       "}\r\n",
       "table tr { \r\n",
       "    vertical-align: top; \r\n",
       "    margin: 0em 0px;\r\n",
       "}\r\n",
       "table tr td pre \r\n",
       "{ \r\n",
       "    vertical-align: top !important; \r\n",
       "    margin: 0em 0px !important;\r\n",
       "} \r\n",
       "table th {\r\n",
       "    text-align: start;\r\n",
       "}\r\n",
       "</style>"
      ]
     },
     "metadata": {},
     "output_type": "display_data"
    },
    {
     "data": {
      "text/html": [
       "<table><thead><tr><th><i>key</i></th><th><i>type</i></th><th>value</th></tr></thead><tbody><tr><td><div class=\"dni-plaintext\"><pre>Name</pre></div></td><td><span><a href=\"https://docs.microsoft.com/dotnet/api/system.string?view=net-7.0\">System.String</a></span></td><td><div class=\"dni-plaintext\"><pre>mssql_orders_chunck_004.csv</pre></div></td></tr><tr><td><div class=\"dni-plaintext\"><pre>Length</pre></div></td><td><span><a href=\"https://docs.microsoft.com/dotnet/api/system.int64?view=net-7.0\">System.Int64</a></span></td><td><div class=\"dni-plaintext\"><pre>203736826</pre></div></td></tr></tbody></table><style>\r\n",
       ".dni-code-hint {\r\n",
       "    font-style: italic;\r\n",
       "    overflow: hidden;\r\n",
       "    white-space: nowrap;\r\n",
       "}\r\n",
       ".dni-treeview {\r\n",
       "    white-space: nowrap;\r\n",
       "}\r\n",
       ".dni-treeview td {\r\n",
       "    vertical-align: top;\r\n",
       "    text-align: start;\r\n",
       "}\r\n",
       "details.dni-treeview {\r\n",
       "    padding-left: 1em;\r\n",
       "}\r\n",
       "table td {\r\n",
       "    text-align: start;\r\n",
       "}\r\n",
       "table tr { \r\n",
       "    vertical-align: top; \r\n",
       "    margin: 0em 0px;\r\n",
       "}\r\n",
       "table tr td pre \r\n",
       "{ \r\n",
       "    vertical-align: top !important; \r\n",
       "    margin: 0em 0px !important;\r\n",
       "} \r\n",
       "table th {\r\n",
       "    text-align: start;\r\n",
       "}\r\n",
       "</style>"
      ]
     },
     "metadata": {},
     "output_type": "display_data"
    },
    {
     "data": {
      "text/html": [
       "<table><thead><tr><th><i>key</i></th><th><i>type</i></th><th>value</th></tr></thead><tbody><tr><td><div class=\"dni-plaintext\"><pre>Name</pre></div></td><td><span><a href=\"https://docs.microsoft.com/dotnet/api/system.string?view=net-7.0\">System.String</a></span></td><td><div class=\"dni-plaintext\"><pre>mssql_orders_chunck_005.csv</pre></div></td></tr><tr><td><div class=\"dni-plaintext\"><pre>Length</pre></div></td><td><span><a href=\"https://docs.microsoft.com/dotnet/api/system.int64?view=net-7.0\">System.Int64</a></span></td><td><div class=\"dni-plaintext\"><pre>203742119</pre></div></td></tr></tbody></table><style>\r\n",
       ".dni-code-hint {\r\n",
       "    font-style: italic;\r\n",
       "    overflow: hidden;\r\n",
       "    white-space: nowrap;\r\n",
       "}\r\n",
       ".dni-treeview {\r\n",
       "    white-space: nowrap;\r\n",
       "}\r\n",
       ".dni-treeview td {\r\n",
       "    vertical-align: top;\r\n",
       "    text-align: start;\r\n",
       "}\r\n",
       "details.dni-treeview {\r\n",
       "    padding-left: 1em;\r\n",
       "}\r\n",
       "table td {\r\n",
       "    text-align: start;\r\n",
       "}\r\n",
       "table tr { \r\n",
       "    vertical-align: top; \r\n",
       "    margin: 0em 0px;\r\n",
       "}\r\n",
       "table tr td pre \r\n",
       "{ \r\n",
       "    vertical-align: top !important; \r\n",
       "    margin: 0em 0px !important;\r\n",
       "} \r\n",
       "table th {\r\n",
       "    text-align: start;\r\n",
       "}\r\n",
       "</style>"
      ]
     },
     "metadata": {},
     "output_type": "display_data"
    },
    {
     "data": {
      "text/html": [
       "<table><thead><tr><th><i>key</i></th><th><i>type</i></th><th>value</th></tr></thead><tbody><tr><td><div class=\"dni-plaintext\"><pre>Name</pre></div></td><td><span><a href=\"https://docs.microsoft.com/dotnet/api/system.string?view=net-7.0\">System.String</a></span></td><td><div class=\"dni-plaintext\"><pre>mssql_orders_chunck_006.csv</pre></div></td></tr><tr><td><div class=\"dni-plaintext\"><pre>Length</pre></div></td><td><span><a href=\"https://docs.microsoft.com/dotnet/api/system.int64?view=net-7.0\">System.Int64</a></span></td><td><div class=\"dni-plaintext\"><pre>203732078</pre></div></td></tr></tbody></table><style>\r\n",
       ".dni-code-hint {\r\n",
       "    font-style: italic;\r\n",
       "    overflow: hidden;\r\n",
       "    white-space: nowrap;\r\n",
       "}\r\n",
       ".dni-treeview {\r\n",
       "    white-space: nowrap;\r\n",
       "}\r\n",
       ".dni-treeview td {\r\n",
       "    vertical-align: top;\r\n",
       "    text-align: start;\r\n",
       "}\r\n",
       "details.dni-treeview {\r\n",
       "    padding-left: 1em;\r\n",
       "}\r\n",
       "table td {\r\n",
       "    text-align: start;\r\n",
       "}\r\n",
       "table tr { \r\n",
       "    vertical-align: top; \r\n",
       "    margin: 0em 0px;\r\n",
       "}\r\n",
       "table tr td pre \r\n",
       "{ \r\n",
       "    vertical-align: top !important; \r\n",
       "    margin: 0em 0px !important;\r\n",
       "} \r\n",
       "table th {\r\n",
       "    text-align: start;\r\n",
       "}\r\n",
       "</style>"
      ]
     },
     "metadata": {},
     "output_type": "display_data"
    },
    {
     "data": {
      "text/html": [
       "<table><thead><tr><th><i>key</i></th><th><i>type</i></th><th>value</th></tr></thead><tbody><tr><td><div class=\"dni-plaintext\"><pre>Name</pre></div></td><td><span><a href=\"https://docs.microsoft.com/dotnet/api/system.string?view=net-7.0\">System.String</a></span></td><td><div class=\"dni-plaintext\"><pre>mssql_orders_chunck_007.csv</pre></div></td></tr><tr><td><div class=\"dni-plaintext\"><pre>Length</pre></div></td><td><span><a href=\"https://docs.microsoft.com/dotnet/api/system.int64?view=net-7.0\">System.Int64</a></span></td><td><div class=\"dni-plaintext\"><pre>203733178</pre></div></td></tr></tbody></table><style>\r\n",
       ".dni-code-hint {\r\n",
       "    font-style: italic;\r\n",
       "    overflow: hidden;\r\n",
       "    white-space: nowrap;\r\n",
       "}\r\n",
       ".dni-treeview {\r\n",
       "    white-space: nowrap;\r\n",
       "}\r\n",
       ".dni-treeview td {\r\n",
       "    vertical-align: top;\r\n",
       "    text-align: start;\r\n",
       "}\r\n",
       "details.dni-treeview {\r\n",
       "    padding-left: 1em;\r\n",
       "}\r\n",
       "table td {\r\n",
       "    text-align: start;\r\n",
       "}\r\n",
       "table tr { \r\n",
       "    vertical-align: top; \r\n",
       "    margin: 0em 0px;\r\n",
       "}\r\n",
       "table tr td pre \r\n",
       "{ \r\n",
       "    vertical-align: top !important; \r\n",
       "    margin: 0em 0px !important;\r\n",
       "} \r\n",
       "table th {\r\n",
       "    text-align: start;\r\n",
       "}\r\n",
       "</style>"
      ]
     },
     "metadata": {},
     "output_type": "display_data"
    },
    {
     "data": {
      "text/html": [
       "<table><thead><tr><th><i>key</i></th><th><i>type</i></th><th>value</th></tr></thead><tbody><tr><td><div class=\"dni-plaintext\"><pre>Name</pre></div></td><td><span><a href=\"https://docs.microsoft.com/dotnet/api/system.string?view=net-7.0\">System.String</a></span></td><td><div class=\"dni-plaintext\"><pre>mssql_orders_chunck_008.csv</pre></div></td></tr><tr><td><div class=\"dni-plaintext\"><pre>Length</pre></div></td><td><span><a href=\"https://docs.microsoft.com/dotnet/api/system.int64?view=net-7.0\">System.Int64</a></span></td><td><div class=\"dni-plaintext\"><pre>203733773</pre></div></td></tr></tbody></table><style>\r\n",
       ".dni-code-hint {\r\n",
       "    font-style: italic;\r\n",
       "    overflow: hidden;\r\n",
       "    white-space: nowrap;\r\n",
       "}\r\n",
       ".dni-treeview {\r\n",
       "    white-space: nowrap;\r\n",
       "}\r\n",
       ".dni-treeview td {\r\n",
       "    vertical-align: top;\r\n",
       "    text-align: start;\r\n",
       "}\r\n",
       "details.dni-treeview {\r\n",
       "    padding-left: 1em;\r\n",
       "}\r\n",
       "table td {\r\n",
       "    text-align: start;\r\n",
       "}\r\n",
       "table tr { \r\n",
       "    vertical-align: top; \r\n",
       "    margin: 0em 0px;\r\n",
       "}\r\n",
       "table tr td pre \r\n",
       "{ \r\n",
       "    vertical-align: top !important; \r\n",
       "    margin: 0em 0px !important;\r\n",
       "} \r\n",
       "table th {\r\n",
       "    text-align: start;\r\n",
       "}\r\n",
       "</style>"
      ]
     },
     "metadata": {},
     "output_type": "display_data"
    },
    {
     "data": {
      "text/html": [
       "<table><thead><tr><th><i>key</i></th><th><i>type</i></th><th>value</th></tr></thead><tbody><tr><td><div class=\"dni-plaintext\"><pre>Name</pre></div></td><td><span><a href=\"https://docs.microsoft.com/dotnet/api/system.string?view=net-7.0\">System.String</a></span></td><td><div class=\"dni-plaintext\"><pre>mssql_orders_chunck_009.csv</pre></div></td></tr><tr><td><div class=\"dni-plaintext\"><pre>Length</pre></div></td><td><span><a href=\"https://docs.microsoft.com/dotnet/api/system.int64?view=net-7.0\">System.Int64</a></span></td><td><div class=\"dni-plaintext\"><pre>204134293</pre></div></td></tr></tbody></table><style>\r\n",
       ".dni-code-hint {\r\n",
       "    font-style: italic;\r\n",
       "    overflow: hidden;\r\n",
       "    white-space: nowrap;\r\n",
       "}\r\n",
       ".dni-treeview {\r\n",
       "    white-space: nowrap;\r\n",
       "}\r\n",
       ".dni-treeview td {\r\n",
       "    vertical-align: top;\r\n",
       "    text-align: start;\r\n",
       "}\r\n",
       "details.dni-treeview {\r\n",
       "    padding-left: 1em;\r\n",
       "}\r\n",
       "table td {\r\n",
       "    text-align: start;\r\n",
       "}\r\n",
       "table tr { \r\n",
       "    vertical-align: top; \r\n",
       "    margin: 0em 0px;\r\n",
       "}\r\n",
       "table tr td pre \r\n",
       "{ \r\n",
       "    vertical-align: top !important; \r\n",
       "    margin: 0em 0px !important;\r\n",
       "} \r\n",
       "table th {\r\n",
       "    text-align: start;\r\n",
       "}\r\n",
       "</style>"
      ]
     },
     "metadata": {},
     "output_type": "display_data"
    }
   ],
   "source": [
    "ls D:\\temp\\mssql\\*orders*.csv | select name, length"
   ]
  },
  {
   "cell_type": "code",
   "execution_count": 18,
   "metadata": {
    "language_info": {
     "name": "polyglot-notebook"
    },
    "polyglot_notebook": {
     "kernelName": "pwsh"
    }
   },
   "outputs": [
    {
     "name": "stdout",
     "output_type": "stream",
     "text": [
      "┌─────────────┬────────────┬───────────┬───┬──────────────┬──────────────────────┬──────────────────────┐\n",
      "│ o_orderdate │ o_orderkey │ o_custkey │ … │ o_totalprice │      o_comment       │       filename       │\n",
      "│    date     │   int64    │   int64   │   │   varchar    │       varchar        │       varchar        │\n",
      "├─────────────┼────────────┼───────────┼───┼──────────────┼──────────────────────┼──────────────────────┤\n",
      "│ 1998-06-16  │    3381152 │     10531 │ … │ 72696,33     │ dolphins wake slyl…  │ D:\\temp\\mssql\\mssq…  │\n",
      "│ 1998-06-16  │    6187044 │     15350 │ … │ 162758,15    │ ironic requests ha…  │ D:\\temp\\mssql\\mssq…  │\n",
      "│ 1998-06-16  │     970658 │     30523 │ … │ 118376,13    │ slyly regular idea…  │ D:\\temp\\mssql\\mssq…  │\n",
      "│ 1998-06-16  │     554245 │     58189 │ … │ 332965,55    │ blithely ironic ex…  │ D:\\temp\\mssql\\mssq…  │\n",
      "│ 1998-06-16  │    4016673 │     71665 │ … │ 37324,46     │ carefully regular …  │ D:\\temp\\mssql\\mssq…  │\n",
      "│ 1998-06-16  │    2248453 │     77912 │ … │ 210240,71    │ requests use furio…  │ D:\\temp\\mssql\\mssq…  │\n",
      "│ 1998-06-16  │      16070 │     92549 │ … │ 170298,05    │ regular unusual re…  │ D:\\temp\\mssql\\mssq…  │\n",
      "│ 1998-06-16  │    2887654 │     95048 │ … │ 121459,24    │ quickly final pack…  │ D:\\temp\\mssql\\mssq…  │\n",
      "│ 1998-06-16  │    2098759 │     98708 │ … │ 225900,75    │ furiously ironic i…  │ D:\\temp\\mssql\\mssq…  │\n",
      "│ 1998-06-16  │    2556867 │    102545 │ … │ 71698,24     │ carefully regular …  │ D:\\temp\\mssql\\mssq…  │\n",
      "│ 1998-06-16  │    5944007 │    103171 │ … │ 170829,7     │ quickly special no…  │ D:\\temp\\mssql\\mssq…  │\n",
      "│ 1998-06-16  │    3860164 │    110131 │ … │ 19353,46     │ regular even packa…  │ D:\\temp\\mssql\\mssq…  │\n",
      "│ 1998-06-16  │    2423201 │    112720 │ … │ 103798,42    │ special ideas wake…  │ D:\\temp\\mssql\\mssq…  │\n",
      "│ 1998-06-16  │    5790496 │    117182 │ … │ 77712,03     │ busily special exc…  │ D:\\temp\\mssql\\mssq…  │\n",
      "│ 1998-06-16  │    3715943 │    125125 │ … │ 293011,22    │ regular silent exc…  │ D:\\temp\\mssql\\mssq…  │\n",
      "│ 1998-06-16  │    4837189 │    135746 │ … │ 193228,81    │ slowly bold theodo…  │ D:\\temp\\mssql\\mssq…  │\n",
      "│ 1998-06-16  │    3146630 │    141280 │ … │ 125534,9     │ carefully regular …  │ D:\\temp\\mssql\\mssq…  │\n",
      "│ 1998-06-16  │     355334 │    142172 │ … │ 80734,6      │ ironic regular dep…  │ D:\\temp\\mssql\\mssq…  │\n",
      "│ 1998-06-16  │    1395072 │    146188 │ … │ 126236,96    │ slyly pending acco…  │ D:\\temp\\mssql\\mssq…  │\n",
      "│ 1998-06-16  │    2439552 │    152971 │ … │ 118686,44    │ blithely final dep…  │ D:\\temp\\mssql\\mssq…  │\n",
      "│     ·       │       ·    │       ·   │ · │    ·         │          ·           │          ·           │\n",
      "│     ·       │       ·    │       ·   │ · │    ·         │          ·           │          ·           │\n",
      "│     ·       │       ·    │       ·   │ · │    ·         │          ·           │          ·           │\n",
      "│ 1999-08-01  │  102326368 │   1065271 │ … │ 78139,87     │ final accounts are…  │ D:\\temp\\mssql\\mssq…  │\n",
      "│ 1999-08-01  │   83418822 │   1065359 │ … │ 42270,47     │ unusual packages h…  │ D:\\temp\\mssql\\mssq…  │\n",
      "│ 1999-08-01  │  112595109 │   1066163 │ … │ 48830,42     │ ironic deposits af…  │ D:\\temp\\mssql\\mssq…  │\n",
      "│ 1999-08-01  │   62660770 │   1066163 │ … │ 48830,42     │ ironic deposits af…  │ D:\\temp\\mssql\\mssq…  │\n",
      "│ 1999-08-01  │   79977030 │   1066163 │ … │ 151448,85    │ slyly final accoun…  │ D:\\temp\\mssql\\mssq…  │\n",
      "│ 1999-08-01  │  106435393 │   1066253 │ … │ 52121,85     │ unusual pending wa…  │ D:\\temp\\mssql\\mssq…  │\n",
      "│ 1999-08-01  │  109889511 │   1067234 │ … │ 235577,05    │ slyly regular pack…  │ D:\\temp\\mssql\\mssq…  │\n",
      "│ 1999-08-01  │   95363846 │   1067234 │ … │ 171376,27    │ regular final requ…  │ D:\\temp\\mssql\\mssq…  │\n",
      "│ 1999-08-01  │   62582565 │   1067591 │ … │ 65470,92     │ idle dependencies …  │ D:\\temp\\mssql\\mssq…  │\n",
      "│ 1999-08-01  │  112516928 │   1067591 │ … │ 65470,92     │ idle dependencies …  │ D:\\temp\\mssql\\mssq…  │\n",
      "│ 1999-08-01  │   95854565 │   1067591 │ … │ 360231,13    │ furiously ironic s…  │ D:\\temp\\mssql\\mssq…  │\n",
      "│ 1999-08-01  │   93673506 │   1068127 │ … │ 141070,56    │ theodolites agains…  │ D:\\temp\\mssql\\mssq…  │\n",
      "│ 1999-08-01  │   73559780 │   1068305 │ … │ 66089,32     │ blithely special f…  │ D:\\temp\\mssql\\mssq…  │\n",
      "│ 1999-08-01  │   69701988 │   1068305 │ … │ 66089,32     │ blithely special f…  │ D:\\temp\\mssql\\mssq…  │\n",
      "│ 1999-08-01  │  119636327 │   1068305 │ … │ 66089,32     │ blithely special f…  │ D:\\temp\\mssql\\mssq…  │\n",
      "│ 1999-08-01  │  109088577 │   1068305 │ … │ 329189,22    │ blithely regular p…  │ D:\\temp\\mssql\\mssq…  │\n",
      "│ 1999-08-01  │   66839877 │   1068395 │ … │ 45884,06     │ quickly ironic acc…  │ D:\\temp\\mssql\\mssq…  │\n",
      "│ 1999-08-01  │  116774240 │   1068395 │ … │ 45884,06     │ quickly ironic acc…  │ D:\\temp\\mssql\\mssq…  │\n",
      "│ 1999-08-01  │   70697669 │   1068395 │ … │ 45884,06     │ quickly ironic acc…  │ D:\\temp\\mssql\\mssq…  │\n",
      "│ 1999-08-01  │   67885827 │   1069733 │ … │ 205935,17    │ furiously ironic p…  │ D:\\temp\\mssql\\mssq…  │\n",
      "├─────────────┴────────────┴───────────┴───┴──────────────┴──────────────────────┴──────────────────────┤\n",
      "│ 16327477 rows (40 shown)                                                         10 columns (6 shown) │\n",
      "└───────────────────────────────────────────────────────────────────────────────────────────────────────┘\n"
     ]
    }
   ],
   "source": [
    "duckdb.exe -c \"SELECT * FROM read_csv('D:\\temp\\mssql\\*orders*.csv', filename=true);\""
   ]
  },
  {
   "cell_type": "code",
   "execution_count": 19,
   "metadata": {
    "polyglot_notebook": {
     "kernelName": "pwsh"
    }
   },
   "outputs": [
    {
     "name": "stdout",
     "output_type": "stream",
     "text": [
      "2025-09-23T00:39:23.052 +02:00 -|- FastTransfer -|- CSV_To_MSSQL_Parallel16_DataDriven_filename -|- INFORMATION -|- tpch_test.dbo.orders_4_no_index -|- FastTransfer - running in trial mode – will expires on 2025‑10‑20 (27 day(s) left).\n",
      "2025-09-23T00:39:23.061 +02:00 -|- FastTransfer -|- CSV_To_MSSQL_Parallel16_DataDriven_filename -|- INFORMATION -|- tpch_test.dbo.orders_4_no_index -|- Starting\n",
      "2025-09-23T00:39:23.061 +02:00 -|- FastTransfer -|- CSV_To_MSSQL_Parallel16_DataDriven_filename -|- INFORMATION -|- tpch_test.dbo.orders_4_no_index -|- FastTransfer Version : 0.13.10.0 Architecture : X64 - Framework : .NET 8.0.19\n",
      "2025-09-23T00:39:23.061 +02:00 -|- FastTransfer -|- CSV_To_MSSQL_Parallel16_DataDriven_filename -|- INFORMATION -|- tpch_test.dbo.orders_4_no_index -|- OS : Microsoft Windows 10.0.26100\n",
      "2025-09-23T00:39:23.061 +02:00 -|- FastTransfer -|- CSV_To_MSSQL_Parallel16_DataDriven_filename -|- INFORMATION -|- tpch_test.dbo.orders_4_no_index -|- Process ID : 100080\n",
      "2025-09-23T00:39:23.061 +02:00 -|- FastTransfer -|- CSV_To_MSSQL_Parallel16_DataDriven_filename -|- INFORMATION -|- tpch_test.dbo.orders_4_no_index -|- Provided Run ID : CSV_To_MSSQL_Parallel16_DataDriven_filename\n",
      "2025-09-23T00:39:23.061 +02:00 -|- FastTransfer -|- CSV_To_MSSQL_Parallel16_DataDriven_filename -|- INFORMATION -|- tpch_test.dbo.orders_4_no_index -|- Source Connection Type : duckdbstream\n",
      "2025-09-23T00:39:23.061 +02:00 -|- FastTransfer -|- CSV_To_MSSQL_Parallel16_DataDriven_filename -|- INFORMATION -|- tpch_test.dbo.orders_4_no_index -|- Source SqlInstance : :memory:\n",
      "2025-09-23T00:39:23.061 +02:00 -|- FastTransfer -|- CSV_To_MSSQL_Parallel16_DataDriven_filename -|- INFORMATION -|- tpch_test.dbo.orders_4_no_index -|- Source Trusted Connection : False\n",
      "2025-09-23T00:39:23.061 +02:00 -|- FastTransfer -|- CSV_To_MSSQL_Parallel16_DataDriven_filename -|- INFORMATION -|- tpch_test.dbo.orders_4_no_index -|- Query : SELECT * exclude filename FROM read_csv('D:\\temp\\mssql\\*orders*.csv', filename=true)\n",
      "2025-09-23T00:39:23.061 +02:00 -|- FastTransfer -|- CSV_To_MSSQL_Parallel16_DataDriven_filename -|- INFORMATION -|- tpch_test.dbo.orders_4_no_index -|- Target Type : msbulk\n",
      "2025-09-23T00:39:23.061 +02:00 -|- FastTransfer -|- CSV_To_MSSQL_Parallel16_DataDriven_filename -|- INFORMATION -|- tpch_test.dbo.orders_4_no_index -|- Target Server : localhost\\SS2025\n",
      "2025-09-23T00:39:23.061 +02:00 -|- FastTransfer -|- CSV_To_MSSQL_Parallel16_DataDriven_filename -|- INFORMATION -|- tpch_test.dbo.orders_4_no_index -|- Target Database : tpch_test\n",
      "2025-09-23T00:39:23.061 +02:00 -|- FastTransfer -|- CSV_To_MSSQL_Parallel16_DataDriven_filename -|- INFORMATION -|- tpch_test.dbo.orders_4_no_index -|- Target Schema : dbo\n",
      "2025-09-23T00:39:23.061 +02:00 -|- FastTransfer -|- CSV_To_MSSQL_Parallel16_DataDriven_filename -|- INFORMATION -|- tpch_test.dbo.orders_4_no_index -|- Target Table : orders_4_no_index\n",
      "2025-09-23T00:39:23.061 +02:00 -|- FastTransfer -|- CSV_To_MSSQL_Parallel16_DataDriven_filename -|- INFORMATION -|- tpch_test.dbo.orders_4_no_index -|- Target Trusted Connection : True\n",
      "2025-09-23T00:39:23.061 +02:00 -|- FastTransfer -|- CSV_To_MSSQL_Parallel16_DataDriven_filename -|- INFORMATION -|- tpch_test.dbo.orders_4_no_index -|- Columns Map Method : Name\n",
      "2025-09-23T00:39:23.061 +02:00 -|- FastTransfer -|- CSV_To_MSSQL_Parallel16_DataDriven_filename -|- INFORMATION -|- tpch_test.dbo.orders_4_no_index -|- Degree : 16\n",
      "2025-09-23T00:39:23.061 +02:00 -|- FastTransfer -|- CSV_To_MSSQL_Parallel16_DataDriven_filename -|- INFORMATION -|- tpch_test.dbo.orders_4_no_index -|- Distribute Method : DataDriven\n",
      "2025-09-23T00:39:23.061 +02:00 -|- FastTransfer -|- CSV_To_MSSQL_Parallel16_DataDriven_filename -|- INFORMATION -|- tpch_test.dbo.orders_4_no_index -|- Distribute Column : filename\n",
      "2025-09-23T00:39:23.061 +02:00 -|- FastTransfer -|- CSV_To_MSSQL_Parallel16_DataDriven_filename -|- INFORMATION -|- tpch_test.dbo.orders_4_no_index -|- Data Driven Query : select file from glob('D:\\temp\\mssql\\*orders*.csv')\n",
      "2025-09-23T00:39:23.061 +02:00 -|- FastTransfer -|- CSV_To_MSSQL_Parallel16_DataDriven_filename -|- INFORMATION -|- tpch_test.dbo.orders_4_no_index -|- Bulkcopy Batch Size : 1048576\n",
      "2025-09-23T00:39:23.061 +02:00 -|- FastTransfer -|- CSV_To_MSSQL_Parallel16_DataDriven_filename -|- INFORMATION -|- tpch_test.dbo.orders_4_no_index -|- Load Mode : Truncate\n",
      "2025-09-23T00:39:23.061 +02:00 -|- FastTransfer -|- CSV_To_MSSQL_Parallel16_DataDriven_filename -|- INFORMATION -|- tpch_test.dbo.orders_4_no_index -|- Use Work Tables : False\n",
      "2025-09-23T00:39:23.062 +02:00 -|- FastTransfer -|- CSV_To_MSSQL_Parallel16_DataDriven_filename -|- INFORMATION -|- tpch_test.dbo.orders_4_no_index -|- Encoding used : Unicode (UTF-8) - 65001 - utf-8\n",
      "2025-09-23T00:39:23.175 +02:00 -|- FastTransfer -|- CSV_To_MSSQL_Parallel16_DataDriven_filename -|- INFORMATION -|- tpch_test.dbo.orders_4_no_index -|- Source Connection String : DataSource=:memory:;memory_limit=8GB\n",
      "2025-09-23T00:39:23.175 +02:00 -|- FastTransfer -|- CSV_To_MSSQL_Parallel16_DataDriven_filename -|- INFORMATION -|- tpch_test.dbo.orders_4_no_index -|- Target Connection String : Data Source=localhost\\SS2025;Initial Catalog=tpch_test;Integrated Security=True;Connect Timeout=120;Encrypt=True;Trust Server Certificate=True;Application Name=FastTransfer;Application Intent=ReadWrite;Command Timeout=10800\n",
      "2025-09-23T00:39:23.175 +02:00 -|- FastTransfer -|- CSV_To_MSSQL_Parallel16_DataDriven_filename -|- INFORMATION -|- tpch_test.dbo.orders_4_no_index -|- Source Database Version : DuckDB v1.3.2\n",
      "2025-09-23T00:39:23.175 +02:00 -|- FastTransfer -|- CSV_To_MSSQL_Parallel16_DataDriven_filename -|- INFORMATION -|- tpch_test.dbo.orders_4_no_index -|- Target Database Version : Microsoft SQL Server 2025 (CTP2.1) - 17.0.800.3 (X64)  \tJun 12 2025 14:47:57  \tCopyright (C) 2025 Microsoft Corporation \tEnterprise Developer Edition (64-bit) on Windows 10 Pro 10.0 <X64> (Build 26100: ) (Hypervisor) \n",
      "2025-09-23T00:39:23.206 +02:00 -|- FastTransfer -|- CSV_To_MSSQL_Parallel16_DataDriven_filename -|- INFORMATION -|- tpch_test.dbo.orders_4_no_index -|- Completed DataDriven GetValues : 10 in 6 ms\n",
      "2025-09-23T00:39:23.233 +02:00 -|- FastTransfer -|- CSV_To_MSSQL_Parallel16_DataDriven_filename -|- INFORMATION -|- tpch_test.dbo.orders_4_no_index -|- Start Loading Data using distribution method DataDriven\n",
      "2025-09-23T00:39:23.242 +02:00 -|- FastTransfer -|- CSV_To_MSSQL_Parallel16_DataDriven_filename -|- INFORMATION -|- tpch_test.dbo.orders_4_no_index -|- Table \"dbo\".\"orders_4_no_index\" has no Clustered Index. BulkCopy will use KeepNulls and UseInternalTransaction and Tablock\n",
      "2025-09-23T00:39:23.243 +02:00 -|- FastTransfer -|- CSV_To_MSSQL_Parallel16_DataDriven_filename -|- INFORMATION -|- tpch_test.dbo.orders_4_no_index -|- Start Loading Data using distribution method DataDriven\n",
      "2025-09-23T00:39:23.243 +02:00 -|- FastTransfer -|- CSV_To_MSSQL_Parallel16_DataDriven_filename -|- INFORMATION -|- tpch_test.dbo.orders_4_no_index -|- BulkCopy to \"dbo\".\"orders_4_no_index\" with BatchSize = 1048576, Timeout = 3600\n",
      "2025-09-23T00:39:23.244 +02:00 -|- FastTransfer -|- CSV_To_MSSQL_Parallel16_DataDriven_filename -|- INFORMATION -|- tpch_test.dbo.orders_4_no_index -|- Table \"dbo\".\"orders_4_no_index\" has no Clustered Index. BulkCopy will use KeepNulls and UseInternalTransaction and Tablock\n",
      "2025-09-23T00:39:23.244 +02:00 -|- FastTransfer -|- CSV_To_MSSQL_Parallel16_DataDriven_filename -|- INFORMATION -|- tpch_test.dbo.orders_4_no_index -|- BulkCopy to \"dbo\".\"orders_4_no_index\" with BatchSize = 1048576, Timeout = 3600\n",
      "2025-09-23T00:39:23.245 +02:00 -|- FastTransfer -|- CSV_To_MSSQL_Parallel16_DataDriven_filename -|- INFORMATION -|- tpch_test.dbo.orders_4_no_index -|- Start Loading Data using distribution method DataDriven\n",
      "2025-09-23T00:39:23.246 +02:00 -|- FastTransfer -|- CSV_To_MSSQL_Parallel16_DataDriven_filename -|- INFORMATION -|- tpch_test.dbo.orders_4_no_index -|- Table \"dbo\".\"orders_4_no_index\" has no Clustered Index. BulkCopy will use KeepNulls and UseInternalTransaction and Tablock\n",
      "2025-09-23T00:39:23.246 +02:00 -|- FastTransfer -|- CSV_To_MSSQL_Parallel16_DataDriven_filename -|- INFORMATION -|- tpch_test.dbo.orders_4_no_index -|- BulkCopy to \"dbo\".\"orders_4_no_index\" with BatchSize = 1048576, Timeout = 3600\n",
      "2025-09-23T00:39:23.247 +02:00 -|- FastTransfer -|- CSV_To_MSSQL_Parallel16_DataDriven_filename -|- INFORMATION -|- tpch_test.dbo.orders_4_no_index -|- Start Loading Data using distribution method DataDriven\n",
      "2025-09-23T00:39:23.248 +02:00 -|- FastTransfer -|- CSV_To_MSSQL_Parallel16_DataDriven_filename -|- INFORMATION -|- tpch_test.dbo.orders_4_no_index -|- Table \"dbo\".\"orders_4_no_index\" has no Clustered Index. BulkCopy will use KeepNulls and UseInternalTransaction and Tablock\n",
      "2025-09-23T00:39:23.248 +02:00 -|- FastTransfer -|- CSV_To_MSSQL_Parallel16_DataDriven_filename -|- INFORMATION -|- tpch_test.dbo.orders_4_no_index -|- BulkCopy to \"dbo\".\"orders_4_no_index\" with BatchSize = 1048576, Timeout = 3600\n",
      "2025-09-23T00:39:23.249 +02:00 -|- FastTransfer -|- CSV_To_MSSQL_Parallel16_DataDriven_filename -|- INFORMATION -|- tpch_test.dbo.orders_4_no_index -|- Start Loading Data using distribution method DataDriven\n",
      "2025-09-23T00:39:23.250 +02:00 -|- FastTransfer -|- CSV_To_MSSQL_Parallel16_DataDriven_filename -|- INFORMATION -|- tpch_test.dbo.orders_4_no_index -|- Table \"dbo\".\"orders_4_no_index\" has no Clustered Index. BulkCopy will use KeepNulls and UseInternalTransaction and Tablock\n",
      "2025-09-23T00:39:23.250 +02:00 -|- FastTransfer -|- CSV_To_MSSQL_Parallel16_DataDriven_filename -|- INFORMATION -|- tpch_test.dbo.orders_4_no_index -|- BulkCopy to \"dbo\".\"orders_4_no_index\" with BatchSize = 1048576, Timeout = 3600\n",
      "2025-09-23T00:39:23.252 +02:00 -|- FastTransfer -|- CSV_To_MSSQL_Parallel16_DataDriven_filename -|- INFORMATION -|- tpch_test.dbo.orders_4_no_index -|- Start Loading Data using distribution method DataDriven\n",
      "2025-09-23T00:39:23.252 +02:00 -|- FastTransfer -|- CSV_To_MSSQL_Parallel16_DataDriven_filename -|- INFORMATION -|- tpch_test.dbo.orders_4_no_index -|- Table \"dbo\".\"orders_4_no_index\" has no Clustered Index. BulkCopy will use KeepNulls and UseInternalTransaction and Tablock\n",
      "2025-09-23T00:39:23.252 +02:00 -|- FastTransfer -|- CSV_To_MSSQL_Parallel16_DataDriven_filename -|- INFORMATION -|- tpch_test.dbo.orders_4_no_index -|- BulkCopy to \"dbo\".\"orders_4_no_index\" with BatchSize = 1048576, Timeout = 3600\n",
      "2025-09-23T00:39:23.255 +02:00 -|- FastTransfer -|- CSV_To_MSSQL_Parallel16_DataDriven_filename -|- INFORMATION -|- tpch_test.dbo.orders_4_no_index -|- Start Loading Data using distribution method DataDriven\n",
      "2025-09-23T00:39:23.256 +02:00 -|- FastTransfer -|- CSV_To_MSSQL_Parallel16_DataDriven_filename -|- INFORMATION -|- tpch_test.dbo.orders_4_no_index -|- Table \"dbo\".\"orders_4_no_index\" has no Clustered Index. BulkCopy will use KeepNulls and UseInternalTransaction and Tablock\n",
      "2025-09-23T00:39:23.256 +02:00 -|- FastTransfer -|- CSV_To_MSSQL_Parallel16_DataDriven_filename -|- INFORMATION -|- tpch_test.dbo.orders_4_no_index -|- BulkCopy to \"dbo\".\"orders_4_no_index\" with BatchSize = 1048576, Timeout = 3600\n",
      "2025-09-23T00:39:23.258 +02:00 -|- FastTransfer -|- CSV_To_MSSQL_Parallel16_DataDriven_filename -|- INFORMATION -|- tpch_test.dbo.orders_4_no_index -|- Start Loading Data using distribution method DataDriven\n",
      "2025-09-23T00:39:23.258 +02:00 -|- FastTransfer -|- CSV_To_MSSQL_Parallel16_DataDriven_filename -|- INFORMATION -|- tpch_test.dbo.orders_4_no_index -|- Table \"dbo\".\"orders_4_no_index\" has no Clustered Index. BulkCopy will use KeepNulls and UseInternalTransaction and Tablock\n",
      "2025-09-23T00:39:23.258 +02:00 -|- FastTransfer -|- CSV_To_MSSQL_Parallel16_DataDriven_filename -|- INFORMATION -|- tpch_test.dbo.orders_4_no_index -|- BulkCopy to \"dbo\".\"orders_4_no_index\" with BatchSize = 1048576, Timeout = 3600\n",
      "2025-09-23T00:39:23.261 +02:00 -|- FastTransfer -|- CSV_To_MSSQL_Parallel16_DataDriven_filename -|- INFORMATION -|- tpch_test.dbo.orders_4_no_index -|- Start Loading Data using distribution method DataDriven\n",
      "2025-09-23T00:39:23.262 +02:00 -|- FastTransfer -|- CSV_To_MSSQL_Parallel16_DataDriven_filename -|- INFORMATION -|- tpch_test.dbo.orders_4_no_index -|- Table \"dbo\".\"orders_4_no_index\" has no Clustered Index. BulkCopy will use KeepNulls and UseInternalTransaction and Tablock\n",
      "2025-09-23T00:39:23.262 +02:00 -|- FastTransfer -|- CSV_To_MSSQL_Parallel16_DataDriven_filename -|- INFORMATION -|- tpch_test.dbo.orders_4_no_index -|- BulkCopy to \"dbo\".\"orders_4_no_index\" with BatchSize = 1048576, Timeout = 3600\n",
      "2025-09-23T00:39:23.264 +02:00 -|- FastTransfer -|- CSV_To_MSSQL_Parallel16_DataDriven_filename -|- INFORMATION -|- tpch_test.dbo.orders_4_no_index -|- Start Loading Data using distribution method DataDriven\n",
      "2025-09-23T00:39:23.264 +02:00 -|- FastTransfer -|- CSV_To_MSSQL_Parallel16_DataDriven_filename -|- INFORMATION -|- tpch_test.dbo.orders_4_no_index -|- Table \"dbo\".\"orders_4_no_index\" has no Clustered Index. BulkCopy will use KeepNulls and UseInternalTransaction and Tablock\n",
      "2025-09-23T00:39:23.264 +02:00 -|- FastTransfer -|- CSV_To_MSSQL_Parallel16_DataDriven_filename -|- INFORMATION -|- tpch_test.dbo.orders_4_no_index -|- BulkCopy to \"dbo\".\"orders_4_no_index\" with BatchSize = 1048576, Timeout = 3600\n",
      "2025-09-23T00:39:23.487 +02:00 -|- FastTransfer -|- CSV_To_MSSQL_Parallel16_DataDriven_filename -|- WARNING -|- tpch_test.dbo.orders_4_no_index -|- Only 9 out of 10 columns were mapped by name to the target table \"dbo\".\"orders_4_no_index\"\n",
      "2025-09-23T00:39:23.561 +02:00 -|- FastTransfer -|- CSV_To_MSSQL_Parallel16_DataDriven_filename -|- WARNING -|- tpch_test.dbo.orders_4_no_index -|- Only 9 out of 10 columns were mapped by name to the target table \"dbo\".\"orders_4_no_index\"\n",
      "2025-09-23T00:39:23.572 +02:00 -|- FastTransfer -|- CSV_To_MSSQL_Parallel16_DataDriven_filename -|- WARNING -|- tpch_test.dbo.orders_4_no_index -|- Only 9 out of 10 columns were mapped by name to the target table \"dbo\".\"orders_4_no_index\"\n",
      "2025-09-23T00:39:23.581 +02:00 -|- FastTransfer -|- CSV_To_MSSQL_Parallel16_DataDriven_filename -|- WARNING -|- tpch_test.dbo.orders_4_no_index -|- Only 9 out of 10 columns were mapped by name to the target table \"dbo\".\"orders_4_no_index\"\n",
      "2025-09-23T00:39:23.584 +02:00 -|- FastTransfer -|- CSV_To_MSSQL_Parallel16_DataDriven_filename -|- WARNING -|- tpch_test.dbo.orders_4_no_index -|- Only 9 out of 10 columns were mapped by name to the target table \"dbo\".\"orders_4_no_index\"\n",
      "2025-09-23T00:39:23.584 +02:00 -|- FastTransfer -|- CSV_To_MSSQL_Parallel16_DataDriven_filename -|- WARNING -|- tpch_test.dbo.orders_4_no_index -|- Only 9 out of 10 columns were mapped by name to the target table \"dbo\".\"orders_4_no_index\"\n",
      "2025-09-23T00:39:23.590 +02:00 -|- FastTransfer -|- CSV_To_MSSQL_Parallel16_DataDriven_filename -|- WARNING -|- tpch_test.dbo.orders_4_no_index -|- Only 9 out of 10 columns were mapped by name to the target table \"dbo\".\"orders_4_no_index\"\n",
      "2025-09-23T00:39:23.606 +02:00 -|- FastTransfer -|- CSV_To_MSSQL_Parallel16_DataDriven_filename -|- WARNING -|- tpch_test.dbo.orders_4_no_index -|- Only 9 out of 10 columns were mapped by name to the target table \"dbo\".\"orders_4_no_index\"\n",
      "2025-09-23T00:39:23.609 +02:00 -|- FastTransfer -|- CSV_To_MSSQL_Parallel16_DataDriven_filename -|- WARNING -|- tpch_test.dbo.orders_4_no_index -|- Only 9 out of 10 columns were mapped by name to the target table \"dbo\".\"orders_4_no_index\"\n",
      "2025-09-23T00:39:23.622 +02:00 -|- FastTransfer -|- CSV_To_MSSQL_Parallel16_DataDriven_filename -|- WARNING -|- tpch_test.dbo.orders_4_no_index -|- Only 9 out of 10 columns were mapped by name to the target table \"dbo\".\"orders_4_no_index\"\n",
      "2025-09-23T00:39:27.653 +02:00 -|- FastTransfer -|- CSV_To_MSSQL_Parallel16_DataDriven_filename -|- INFORMATION -|- tpch_test.dbo.orders_4_no_index -|- Completed DataDriven Load sub-process 6 for filename = D:\\temp\\mssql\\mssql_orders_chunck_006.csv : 1632748 rows x 9 columns in 4443 ms\n",
      "2025-09-23T00:39:27.676 +02:00 -|- FastTransfer -|- CSV_To_MSSQL_Parallel16_DataDriven_filename -|- INFORMATION -|- tpch_test.dbo.orders_4_no_index -|- Completed DataDriven Load sub-process 7 for filename = D:\\temp\\mssql\\mssql_orders_chunck_007.csv : 1632748 rows x 9 columns in 4465 ms\n",
      "2025-09-23T00:39:27.696 +02:00 -|- FastTransfer -|- CSV_To_MSSQL_Parallel16_DataDriven_filename -|- INFORMATION -|- tpch_test.dbo.orders_4_no_index -|- Completed DataDriven Load sub-process 4 for filename = D:\\temp\\mssql\\mssql_orders_chunck_004.csv : 1632748 rows x 9 columns in 4486 ms\n",
      "2025-09-23T00:39:27.703 +02:00 -|- FastTransfer -|- CSV_To_MSSQL_Parallel16_DataDriven_filename -|- INFORMATION -|- tpch_test.dbo.orders_4_no_index -|- Completed DataDriven Load sub-process 2 for filename = D:\\temp\\mssql\\mssql_orders_chunck_002.csv : 1632748 rows x 9 columns in 4493 ms\n",
      "2025-09-23T00:39:27.706 +02:00 -|- FastTransfer -|- CSV_To_MSSQL_Parallel16_DataDriven_filename -|- INFORMATION -|- tpch_test.dbo.orders_4_no_index -|- Completed DataDriven Load sub-process 5 for filename = D:\\temp\\mssql\\mssql_orders_chunck_005.csv : 1632748 rows x 9 columns in 4496 ms\n",
      "2025-09-23T00:39:27.731 +02:00 -|- FastTransfer -|- CSV_To_MSSQL_Parallel16_DataDriven_filename -|- INFORMATION -|- tpch_test.dbo.orders_4_no_index -|- Completed DataDriven Load sub-process 0 for filename = D:\\temp\\mssql\\mssql_orders_chunck_000.csv : 1632748 rows x 9 columns in 4522 ms\n",
      "2025-09-23T00:39:27.773 +02:00 -|- FastTransfer -|- CSV_To_MSSQL_Parallel16_DataDriven_filename -|- INFORMATION -|- tpch_test.dbo.orders_4_no_index -|- Completed DataDriven Load sub-process 3 for filename = D:\\temp\\mssql\\mssql_orders_chunck_003.csv : 1632748 rows x 9 columns in 4564 ms\n",
      "2025-09-23T00:39:27.776 +02:00 -|- FastTransfer -|- CSV_To_MSSQL_Parallel16_DataDriven_filename -|- INFORMATION -|- tpch_test.dbo.orders_4_no_index -|- Completed DataDriven Load sub-process 9 for filename = D:\\temp\\mssql\\mssql_orders_chunck_009.csv : 1632745 rows x 9 columns in 4565 ms\n",
      "2025-09-23T00:39:27.777 +02:00 -|- FastTransfer -|- CSV_To_MSSQL_Parallel16_DataDriven_filename -|- INFORMATION -|- tpch_test.dbo.orders_4_no_index -|- Completed DataDriven Load sub-process 8 for filename = D:\\temp\\mssql\\mssql_orders_chunck_008.csv : 1632748 rows x 9 columns in 4566 ms\n",
      "2025-09-23T00:39:27.803 +02:00 -|- FastTransfer -|- CSV_To_MSSQL_Parallel16_DataDriven_filename -|- INFORMATION -|- tpch_test.dbo.orders_4_no_index -|- Completed DataDriven Load sub-process 1 for filename = D:\\temp\\mssql\\mssql_orders_chunck_001.csv : 1632748 rows x 9 columns in 4593 ms\n",
      "2025-09-23T00:39:27.806 +02:00 -|- FastTransfer -|- CSV_To_MSSQL_Parallel16_DataDriven_filename -|- INFORMATION -|- tpch_test.dbo.orders_4_no_index -|- Total rows : 16327477\n",
      "2025-09-23T00:39:27.806 +02:00 -|- FastTransfer -|- CSV_To_MSSQL_Parallel16_DataDriven_filename -|- INFORMATION -|- tpch_test.dbo.orders_4_no_index -|- Total columns : 9\n",
      "2025-09-23T00:39:27.807 +02:00 -|- FastTransfer -|- CSV_To_MSSQL_Parallel16_DataDriven_filename -|- INFORMATION -|- tpch_test.dbo.orders_4_no_index -|- Total cells : 146947293\n",
      "2025-09-23T00:39:27.807 +02:00 -|- FastTransfer -|- CSV_To_MSSQL_Parallel16_DataDriven_filename -|- INFORMATION -|- tpch_test.dbo.orders_4_no_index -|- Rows Throughput : 3537436 rows/s\n",
      "2025-09-23T00:39:27.807 +02:00 -|- FastTransfer -|- CSV_To_MSSQL_Parallel16_DataDriven_filename -|- INFORMATION -|- tpch_test.dbo.orders_4_no_index -|- Cells Throughput : 31836960 cells/s\n",
      "2025-09-23T00:39:27.807 +02:00 -|- FastTransfer -|- CSV_To_MSSQL_Parallel16_DataDriven_filename -|- INFORMATION -|- tpch_test.dbo.orders_4_no_index -|- Transfert time : Elapsed=4615 ms\n",
      "2025-09-23T00:39:27.807 +02:00 -|- FastTransfer -|- CSV_To_MSSQL_Parallel16_DataDriven_filename -|- INFORMATION -|- tpch_test.dbo.orders_4_no_index -|- Total time : Elapsed=4906 ms\n",
      "2025-09-23T00:39:27.807 +02:00 -|- FastTransfer -|- CSV_To_MSSQL_Parallel16_DataDriven_filename -|- INFORMATION -|- tpch_test.dbo.orders_4_no_index -|- Completed Load\n"
     ]
    }
   ],
   "source": [
    "cd D:\\FastTransfer\\\n",
    "\n",
    ".\\FastTransfer.exe `\n",
    "--sourceconnectiontype \"duckdbstream\" `\n",
    "--sourceserver \":memory:\" `\n",
    "--query \"SELECT * exclude filename FROM read_csv('D:\\temp\\mssql\\*orders*.csv', filename=true)\" `\n",
    "--targetconnectiontype \"msbulk\" `\n",
    "--targetserver \"localhost\\SS2025\" `\n",
    "--targettrusted `\n",
    "--targetdatabase \"tpch_test\" `\n",
    "--targetschema \"dbo\" `\n",
    "--targettable \"orders_4_no_index\" `\n",
    "--method \"DataDriven\" `\n",
    "--distributeKeyColumn \"filename\" `\n",
    "--datadrivenquery \"select file from glob('D:\\temp\\mssql\\*orders*.csv')\" `\n",
    "--loadmode \"Truncate\" `\n",
    "--mapmethod \"Name\" `\n",
    "--degree 16 `\n",
    "--runid \"CSV_To_MSSQL_Parallel16_DataDriven_filename\""
   ]
  },
  {
   "cell_type": "markdown",
   "id": "dd1abbb2",
   "metadata": {},
   "source": [
    "#### You can also import in parallel one big CSV file. It will be slower for sure but faster than a single threaded import."
   ]
  },
  {
   "cell_type": "code",
   "execution_count": 27,
   "id": "48a5f127",
   "metadata": {
    "language_info": {
     "name": "polyglot-notebook"
    },
    "polyglot_notebook": {
     "kernelName": "pwsh"
    }
   },
   "outputs": [
    {
     "name": "stdout",
     "output_type": "stream",
     "text": [
      "┌────────────┬───────────┬───────────────┬───┬─────────────────┬────────────────┬──────────────────────┐\n",
      "│ o_orderkey │ o_custkey │ o_orderstatus │ … │     o_clerk     │ o_shippriority │      o_comment       │\n",
      "│   int64    │   int64   │    varchar    │   │     varchar     │     int64      │       varchar        │\n",
      "├────────────┼───────────┼───────────────┼───┼─────────────────┼────────────────┼──────────────────────┤\n",
      "│          1 │    369001 │ O             │ … │ Clerk#000009506 │              0 │ ly express platele…  │\n",
      "│          2 │    780017 │ O             │ … │ Clerk#000008792 │              0 │ ve the furiously f…  │\n",
      "│          3 │   1233140 │ F             │ … │ Clerk#000009543 │              0 │  after the asympto…  │\n",
      "│          4 │   1367761 │ O             │ … │ Clerk#000001234 │              0 │ st the furiously b…  │\n",
      "│          5 │    444848 │ F             │ … │ Clerk#000009248 │              0 │ onic requests. car…  │\n",
      "│          6 │    556222 │ F             │ … │ Clerk#000000580 │              0 │ furiously ironic a…  │\n",
      "│          7 │    391343 │ O             │ … │ Clerk#000004697 │              0 │ , ironic packages wa │\n",
      "│         32 │   1300570 │ O             │ … │ Clerk#000006157 │              0 │ ly about the caref…  │\n",
      "│         33 │    669580 │ F             │ … │ Clerk#000004086 │              0 │  careful, regular …  │\n",
      "│         34 │    610001 │ O             │ … │ Clerk#000002228 │              0 │ osits according to…  │\n",
      "│         35 │   1275877 │ O             │ … │ Clerk#000002584 │              0 │ ing dugouts alongs…  │\n",
      "│         36 │   1152518 │ O             │ … │ Clerk#000003571 │              0 │ kages sleep after …  │\n",
      "│         37 │    861145 │ F             │ … │ Clerk#000004556 │              0 │ aggle carefully. f…  │\n",
      "│         38 │   1248280 │ O             │ … │ Clerk#000006037 │              0 │ counts. blithely e…  │\n",
      "│         39 │    817625 │ O             │ … │ Clerk#000006586 │              0 │ accounts since the…  │\n",
      "│         64 │    321127 │ F             │ … │ Clerk#000006603 │              0 │ lly according to t…  │\n",
      "│         65 │    162511 │ P             │ … │ Clerk#000006320 │              0 │ ounts sleep agains…  │\n",
      "│         66 │   1291996 │ F             │ … │ Clerk#000007423 │              0 │  regular ideas. ev…  │\n",
      "│         67 │    566122 │ O             │ … │ Clerk#000005465 │              0 │  furiously ironic …  │\n",
      "│         68 │    285469 │ O             │ … │ Clerk#000004394 │              0 │ ess packages. iron…  │\n",
      "│          · │       ·   │ ·             │ · │        ·        │              · │          ·           │\n",
      "│          · │       ·   │ ·             │ · │        ·        │              · │          ·           │\n",
      "│          · │       ·   │ ·             │ · │        ·        │              · │          ·           │\n",
      "│   56249762 │   1142702 │ O             │ … │ Clerk#000000698 │              0 │ nding foxes. regul…  │\n",
      "│   56249763 │    877892 │ F             │ … │ Clerk#000000052 │              0 │ bold deposits grow   │\n",
      "│   56249764 │    718360 │ F             │ … │ Clerk#000008241 │              0 │  must wake blithel…  │\n",
      "│   56249765 │   1448650 │ F             │ … │ Clerk#000000203 │              0 │ ut the fluffily bold │\n",
      "│   56249766 │    944674 │ O             │ … │ Clerk#000007001 │              0 │ quests cajole. exp…  │\n",
      "│   56249767 │   1109647 │ O             │ … │ Clerk#000007433 │              0 │ e. packages sleep …  │\n",
      "│   56249792 │    334873 │ F             │ … │ Clerk#000004576 │              0 │ rs are blithely ev…  │\n",
      "│   56249793 │    186001 │ F             │ … │ Clerk#000006042 │              0 │ regular grouches. …  │\n",
      "│   56249794 │    105461 │ O             │ … │ Clerk#000005284 │              0 │ ic pinto beans hag…  │\n",
      "│   56249795 │    974486 │ O             │ … │ Clerk#000004610 │              0 │ ions boost furious…  │\n",
      "│   56249796 │   1174939 │ O             │ … │ Clerk#000005226 │              0 │ ajole ironically a…  │\n",
      "│   56249797 │   1183826 │ F             │ … │ Clerk#000004858 │              0 │ ithely. unusual pa…  │\n",
      "│   56249798 │    547297 │ F             │ … │ Clerk#000009103 │              0 │ requests detect qu…  │\n",
      "│   56249799 │    406556 │ F             │ … │ Clerk#000009213 │              0 │ ts. slyly special …  │\n",
      "│   56249824 │    485155 │ F             │ … │ Clerk#000000755 │              0 │ latelets about the…  │\n",
      "│   56249825 │   1473466 │ F             │ … │ Clerk#000003192 │              0 │ x above the blithe…  │\n",
      "│   56249826 │   1034341 │ O             │ … │ Clerk#000005108 │              0 │ hely against the c…  │\n",
      "│   56249827 │    655942 │ O             │ … │ Clerk#000003515 │              0 │ ts. even excuses a…  │\n",
      "│   56249828 │    908512 │ O             │ … │ Clerk#000002718 │              0 │ the even, ironic r…  │\n",
      "│   56249829 │    854105 │ F             │ … │ Clerk#000009689 │              0 │ ent packages poach…  │\n",
      "├────────────┴───────────┴───────────────┴───┴─────────────────┴────────────────┴──────────────────────┤\n",
      "│ 15000000 rows (40 shown)                                                         9 columns (6 shown) │\n",
      "└──────────────────────────────────────────────────────────────────────────────────────────────────────┘\n"
     ]
    }
   ],
   "source": [
    "duckdb.exe -c \"SELECT * FROM read_csv('D:\\temp\\PGCOPY_ONEBIG\\PGCOPY_ORDERS.csv');\""
   ]
  },
  {
   "cell_type": "code",
   "execution_count": 34,
   "metadata": {
    "language_info": {
     "name": "polyglot-notebook"
    },
    "polyglot_notebook": {
     "kernelName": "pwsh"
    }
   },
   "outputs": [
    {
     "name": "stdout",
     "output_type": "stream",
     "text": [
      "2025-09-23T01:10:06.405 +02:00 -|- FastTransfer -|- CSV_To_MSSQL_NoParallel -|- INFORMATION -|- tpch_test.dbo.orders_4_no_index -|- FastTransfer - running in trial mode – will expires on 2025‑10‑20 (27 day(s) left).\n",
      "2025-09-23T01:10:06.414 +02:00 -|- FastTransfer -|- CSV_To_MSSQL_NoParallel -|- INFORMATION -|- tpch_test.dbo.orders_4_no_index -|- Starting\n",
      "2025-09-23T01:10:06.415 +02:00 -|- FastTransfer -|- CSV_To_MSSQL_NoParallel -|- INFORMATION -|- tpch_test.dbo.orders_4_no_index -|- FastTransfer Version : 0.13.10.0 Architecture : X64 - Framework : .NET 8.0.19\n",
      "2025-09-23T01:10:06.415 +02:00 -|- FastTransfer -|- CSV_To_MSSQL_NoParallel -|- INFORMATION -|- tpch_test.dbo.orders_4_no_index -|- OS : Microsoft Windows 10.0.26100\n",
      "2025-09-23T01:10:06.415 +02:00 -|- FastTransfer -|- CSV_To_MSSQL_NoParallel -|- INFORMATION -|- tpch_test.dbo.orders_4_no_index -|- Process ID : 19136\n",
      "2025-09-23T01:10:06.415 +02:00 -|- FastTransfer -|- CSV_To_MSSQL_NoParallel -|- INFORMATION -|- tpch_test.dbo.orders_4_no_index -|- Provided Run ID : CSV_To_MSSQL_NoParallel\n",
      "2025-09-23T01:10:06.415 +02:00 -|- FastTransfer -|- CSV_To_MSSQL_NoParallel -|- INFORMATION -|- tpch_test.dbo.orders_4_no_index -|- Source Connection Type : duckdbstream\n",
      "2025-09-23T01:10:06.417 +02:00 -|- FastTransfer -|- CSV_To_MSSQL_NoParallel -|- INFORMATION -|- tpch_test.dbo.orders_4_no_index -|- Source ConnectString : DataSource=:memory:;memory_limit=1GB\n",
      "2025-09-23T01:10:06.417 +02:00 -|- FastTransfer -|- CSV_To_MSSQL_NoParallel -|- INFORMATION -|- tpch_test.dbo.orders_4_no_index -|- Source Trusted Connection : False\n",
      "2025-09-23T01:10:06.417 +02:00 -|- FastTransfer -|- CSV_To_MSSQL_NoParallel -|- INFORMATION -|- tpch_test.dbo.orders_4_no_index -|- Query : SELECT * FROM read_csv('D:\\temp\\PGCOPY_ONEBIG\\PGCOPY_ORDERS.csv')\n",
      "2025-09-23T01:10:06.417 +02:00 -|- FastTransfer -|- CSV_To_MSSQL_NoParallel -|- INFORMATION -|- tpch_test.dbo.orders_4_no_index -|- Target Type : msbulk\n",
      "2025-09-23T01:10:06.417 +02:00 -|- FastTransfer -|- CSV_To_MSSQL_NoParallel -|- INFORMATION -|- tpch_test.dbo.orders_4_no_index -|- Target Server : localhost\\SS2025\n",
      "2025-09-23T01:10:06.417 +02:00 -|- FastTransfer -|- CSV_To_MSSQL_NoParallel -|- INFORMATION -|- tpch_test.dbo.orders_4_no_index -|- Target Database : tpch_test\n",
      "2025-09-23T01:10:06.417 +02:00 -|- FastTransfer -|- CSV_To_MSSQL_NoParallel -|- INFORMATION -|- tpch_test.dbo.orders_4_no_index -|- Target Schema : dbo\n",
      "2025-09-23T01:10:06.417 +02:00 -|- FastTransfer -|- CSV_To_MSSQL_NoParallel -|- INFORMATION -|- tpch_test.dbo.orders_4_no_index -|- Target Table : orders_4_no_index\n",
      "2025-09-23T01:10:06.417 +02:00 -|- FastTransfer -|- CSV_To_MSSQL_NoParallel -|- INFORMATION -|- tpch_test.dbo.orders_4_no_index -|- Target Trusted Connection : True\n",
      "2025-09-23T01:10:06.417 +02:00 -|- FastTransfer -|- CSV_To_MSSQL_NoParallel -|- INFORMATION -|- tpch_test.dbo.orders_4_no_index -|- Columns Map Method : Name\n",
      "2025-09-23T01:10:06.417 +02:00 -|- FastTransfer -|- CSV_To_MSSQL_NoParallel -|- INFORMATION -|- tpch_test.dbo.orders_4_no_index -|- Degree : -4\n",
      "2025-09-23T01:10:06.417 +02:00 -|- FastTransfer -|- CSV_To_MSSQL_NoParallel -|- INFORMATION -|- tpch_test.dbo.orders_4_no_index -|- Distribute Method : None\n",
      "2025-09-23T01:10:06.417 +02:00 -|- FastTransfer -|- CSV_To_MSSQL_NoParallel -|- INFORMATION -|- tpch_test.dbo.orders_4_no_index -|- Bulkcopy Batch Size : 1048576\n",
      "2025-09-23T01:10:06.417 +02:00 -|- FastTransfer -|- CSV_To_MSSQL_NoParallel -|- INFORMATION -|- tpch_test.dbo.orders_4_no_index -|- Load Mode : Truncate\n",
      "2025-09-23T01:10:06.417 +02:00 -|- FastTransfer -|- CSV_To_MSSQL_NoParallel -|- INFORMATION -|- tpch_test.dbo.orders_4_no_index -|- Use Work Tables : False\n",
      "2025-09-23T01:10:06.418 +02:00 -|- FastTransfer -|- CSV_To_MSSQL_NoParallel -|- INFORMATION -|- tpch_test.dbo.orders_4_no_index -|- Encoding used : Unicode (UTF-8) - 65001 - utf-8\n",
      "2025-09-23T01:10:06.444 +02:00 -|- FastTransfer -|- CSV_To_MSSQL_NoParallel -|- INFORMATION -|- tpch_test.dbo.orders_4_no_index -|- Source Connection String : DataSource=:memory:;memory_limit=1GB\n",
      "2025-09-23T01:10:06.444 +02:00 -|- FastTransfer -|- CSV_To_MSSQL_NoParallel -|- INFORMATION -|- tpch_test.dbo.orders_4_no_index -|- Target Connection String : Data Source=localhost\\SS2025;Initial Catalog=tpch_test;Integrated Security=True;Connect Timeout=120;Encrypt=True;Trust Server Certificate=True;Application Name=FastTransfer;Application Intent=ReadWrite;Command Timeout=10800\n",
      "2025-09-23T01:10:06.444 +02:00 -|- FastTransfer -|- CSV_To_MSSQL_NoParallel -|- INFORMATION -|- tpch_test.dbo.orders_4_no_index -|- Source Database Version : DuckDB v1.3.2\n",
      "2025-09-23T01:10:06.444 +02:00 -|- FastTransfer -|- CSV_To_MSSQL_NoParallel -|- INFORMATION -|- tpch_test.dbo.orders_4_no_index -|- Target Database Version : Microsoft SQL Server 2025 (CTP2.1) - 17.0.800.3 (X64)  \tJun 12 2025 14:47:57  \tCopyright (C) 2025 Microsoft Corporation \tEnterprise Developer Edition (64-bit) on Windows 10 Pro 10.0 <X64> (Build 26100: ) (Hypervisor) \n",
      "2025-09-23T01:10:06.459 +02:00 -|- FastTransfer -|- CSV_To_MSSQL_NoParallel -|- INFORMATION -|- tpch_test.dbo.orders_4_no_index -|- Start Loading Data using distribution method None\n",
      "2025-09-23T01:10:06.460 +02:00 -|- FastTransfer -|- CSV_To_MSSQL_NoParallel -|- INFORMATION -|- tpch_test.dbo.orders_4_no_index -|- Table \"dbo\".\"orders_4_no_index\" has no Clustered Index. BulkCopy will use KeepNulls and UseInternalTransaction and Tablock\n",
      "2025-09-23T01:10:06.460 +02:00 -|- FastTransfer -|- CSV_To_MSSQL_NoParallel -|- INFORMATION -|- tpch_test.dbo.orders_4_no_index -|- BulkCopy to \"dbo\".\"orders_4_no_index\" with BatchSize = 1048576, Timeout = 3600\n",
      "2025-09-23T01:10:06.629 +02:00 -|- FastTransfer -|- CSV_To_MSSQL_NoParallel -|- WARNING -|- tpch_test.dbo.orders_4_no_index -|- Only 9 out of 10 columns were mapped by name to the target table \"dbo\".\"orders_4_no_index\"\n",
      "2025-09-23T01:10:27.455 +02:00 -|- FastTransfer -|- CSV_To_MSSQL_NoParallel -|- INFORMATION -|- tpch_test.dbo.orders_4_no_index -|- Total rows : 15000000\n",
      "2025-09-23T01:10:27.455 +02:00 -|- FastTransfer -|- CSV_To_MSSQL_NoParallel -|- INFORMATION -|- tpch_test.dbo.orders_4_no_index -|- Total columns : 9\n",
      "2025-09-23T01:10:27.455 +02:00 -|- FastTransfer -|- CSV_To_MSSQL_NoParallel -|- INFORMATION -|- tpch_test.dbo.orders_4_no_index -|- Total cells : 135000000\n",
      "2025-09-23T01:10:27.455 +02:00 -|- FastTransfer -|- CSV_To_MSSQL_NoParallel -|- INFORMATION -|- tpch_test.dbo.orders_4_no_index -|- Rows Throughput : 714154 rows/s\n",
      "2025-09-23T01:10:27.455 +02:00 -|- FastTransfer -|- CSV_To_MSSQL_NoParallel -|- INFORMATION -|- tpch_test.dbo.orders_4_no_index -|- Cells Throughput : 6427394 cells/s\n",
      "2025-09-23T01:10:27.455 +02:00 -|- FastTransfer -|- CSV_To_MSSQL_NoParallel -|- INFORMATION -|- tpch_test.dbo.orders_4_no_index -|- Transfert time : Elapsed=21004 ms\n",
      "2025-09-23T01:10:27.455 +02:00 -|- FastTransfer -|- CSV_To_MSSQL_NoParallel -|- INFORMATION -|- tpch_test.dbo.orders_4_no_index -|- Total time : Elapsed=21216 ms\n",
      "2025-09-23T01:10:27.455 +02:00 -|- FastTransfer -|- CSV_To_MSSQL_NoParallel -|- INFORMATION -|- tpch_test.dbo.orders_4_no_index -|- Completed Load\n"
     ]
    }
   ],
   "source": [
    "cd D:\\FastTransfer\\\n",
    "\n",
    ".\\FastTransfer.exe `\n",
    "--sourceconnectiontype \"duckdbstream\" `\n",
    "--sourceconnectstring \"DataSource=:memory:;memory_limit=1GB\" `\n",
    "--query \"SELECT * FROM read_csv('D:\\temp\\PGCOPY_ONEBIG\\PGCOPY_ORDERS.csv')\" `\n",
    "--targetconnectiontype \"msbulk\" `\n",
    "--targetserver \"localhost\\SS2025\" `\n",
    "--targettrusted `\n",
    "--targetdatabase \"tpch_test\" `\n",
    "--targetschema \"dbo\" `\n",
    "--targettable \"orders_4_no_index\" `\n",
    "--method \"None\" `\n",
    "--loadmode \"Truncate\" `\n",
    "--mapmethod \"Name\" `\n",
    "--runid \"CSV_To_MSSQL_NoParallel\""
   ]
  },
  {
   "cell_type": "code",
   "execution_count": 35,
   "metadata": {
    "polyglot_notebook": {
     "kernelName": "pwsh"
    }
   },
   "outputs": [
    {
     "name": "stdout",
     "output_type": "stream",
     "text": [
      "2025-09-23T01:10:50.990 +02:00 -|- FastTransfer -|- CSV_To_MSSQL_Parallel_RangeId_4 -|- INFORMATION -|- tpch_test.dbo.orders_4_no_index -|- FastTransfer - running in trial mode – will expires on 2025‑10‑20 (27 day(s) left).\n",
      "2025-09-23T01:10:50.999 +02:00 -|- FastTransfer -|- CSV_To_MSSQL_Parallel_RangeId_4 -|- INFORMATION -|- tpch_test.dbo.orders_4_no_index -|- Starting\n",
      "2025-09-23T01:10:50.999 +02:00 -|- FastTransfer -|- CSV_To_MSSQL_Parallel_RangeId_4 -|- INFORMATION -|- tpch_test.dbo.orders_4_no_index -|- FastTransfer Version : 0.13.10.0 Architecture : X64 - Framework : .NET 8.0.19\n",
      "2025-09-23T01:10:50.999 +02:00 -|- FastTransfer -|- CSV_To_MSSQL_Parallel_RangeId_4 -|- INFORMATION -|- tpch_test.dbo.orders_4_no_index -|- OS : Microsoft Windows 10.0.26100\n",
      "2025-09-23T01:10:51.000 +02:00 -|- FastTransfer -|- CSV_To_MSSQL_Parallel_RangeId_4 -|- INFORMATION -|- tpch_test.dbo.orders_4_no_index -|- Process ID : 13808\n",
      "2025-09-23T01:10:51.000 +02:00 -|- FastTransfer -|- CSV_To_MSSQL_Parallel_RangeId_4 -|- INFORMATION -|- tpch_test.dbo.orders_4_no_index -|- Provided Run ID : CSV_To_MSSQL_Parallel_RangeId_4\n",
      "2025-09-23T01:10:51.000 +02:00 -|- FastTransfer -|- CSV_To_MSSQL_Parallel_RangeId_4 -|- INFORMATION -|- tpch_test.dbo.orders_4_no_index -|- Source Connection Type : duckdbstream\n",
      "2025-09-23T01:10:51.001 +02:00 -|- FastTransfer -|- CSV_To_MSSQL_Parallel_RangeId_4 -|- INFORMATION -|- tpch_test.dbo.orders_4_no_index -|- Source ConnectString : DataSource=:memory:;memory_limit=1GB\n",
      "2025-09-23T01:10:51.001 +02:00 -|- FastTransfer -|- CSV_To_MSSQL_Parallel_RangeId_4 -|- INFORMATION -|- tpch_test.dbo.orders_4_no_index -|- Source Trusted Connection : False\n",
      "2025-09-23T01:10:51.001 +02:00 -|- FastTransfer -|- CSV_To_MSSQL_Parallel_RangeId_4 -|- INFORMATION -|- tpch_test.dbo.orders_4_no_index -|- Query : SELECT * FROM read_csv('D:\\temp\\PGCOPY_ONEBIG\\PGCOPY_ORDERS.csv')\n",
      "2025-09-23T01:10:51.001 +02:00 -|- FastTransfer -|- CSV_To_MSSQL_Parallel_RangeId_4 -|- INFORMATION -|- tpch_test.dbo.orders_4_no_index -|- Target Type : msbulk\n",
      "2025-09-23T01:10:51.001 +02:00 -|- FastTransfer -|- CSV_To_MSSQL_Parallel_RangeId_4 -|- INFORMATION -|- tpch_test.dbo.orders_4_no_index -|- Target Server : localhost\\SS2025\n",
      "2025-09-23T01:10:51.001 +02:00 -|- FastTransfer -|- CSV_To_MSSQL_Parallel_RangeId_4 -|- INFORMATION -|- tpch_test.dbo.orders_4_no_index -|- Target Database : tpch_test\n",
      "2025-09-23T01:10:51.001 +02:00 -|- FastTransfer -|- CSV_To_MSSQL_Parallel_RangeId_4 -|- INFORMATION -|- tpch_test.dbo.orders_4_no_index -|- Target Schema : dbo\n",
      "2025-09-23T01:10:51.001 +02:00 -|- FastTransfer -|- CSV_To_MSSQL_Parallel_RangeId_4 -|- INFORMATION -|- tpch_test.dbo.orders_4_no_index -|- Target Table : orders_4_no_index\n",
      "2025-09-23T01:10:51.001 +02:00 -|- FastTransfer -|- CSV_To_MSSQL_Parallel_RangeId_4 -|- INFORMATION -|- tpch_test.dbo.orders_4_no_index -|- Target Trusted Connection : True\n",
      "2025-09-23T01:10:51.002 +02:00 -|- FastTransfer -|- CSV_To_MSSQL_Parallel_RangeId_4 -|- INFORMATION -|- tpch_test.dbo.orders_4_no_index -|- Columns Map Method : Name\n",
      "2025-09-23T01:10:51.002 +02:00 -|- FastTransfer -|- CSV_To_MSSQL_Parallel_RangeId_4 -|- INFORMATION -|- tpch_test.dbo.orders_4_no_index -|- Degree : 4\n",
      "2025-09-23T01:10:51.002 +02:00 -|- FastTransfer -|- CSV_To_MSSQL_Parallel_RangeId_4 -|- INFORMATION -|- tpch_test.dbo.orders_4_no_index -|- Distribute Method : RangeId\n",
      "2025-09-23T01:10:51.002 +02:00 -|- FastTransfer -|- CSV_To_MSSQL_Parallel_RangeId_4 -|- INFORMATION -|- tpch_test.dbo.orders_4_no_index -|- Distribute Column : o_orderkey\n",
      "2025-09-23T01:10:51.002 +02:00 -|- FastTransfer -|- CSV_To_MSSQL_Parallel_RangeId_4 -|- INFORMATION -|- tpch_test.dbo.orders_4_no_index -|- Bulkcopy Batch Size : 1048576\n",
      "2025-09-23T01:10:51.002 +02:00 -|- FastTransfer -|- CSV_To_MSSQL_Parallel_RangeId_4 -|- INFORMATION -|- tpch_test.dbo.orders_4_no_index -|- Load Mode : Truncate\n",
      "2025-09-23T01:10:51.002 +02:00 -|- FastTransfer -|- CSV_To_MSSQL_Parallel_RangeId_4 -|- INFORMATION -|- tpch_test.dbo.orders_4_no_index -|- Use Work Tables : False\n",
      "2025-09-23T01:10:51.002 +02:00 -|- FastTransfer -|- CSV_To_MSSQL_Parallel_RangeId_4 -|- INFORMATION -|- tpch_test.dbo.orders_4_no_index -|- Encoding used : Unicode (UTF-8) - 65001 - utf-8\n",
      "2025-09-23T01:10:51.032 +02:00 -|- FastTransfer -|- CSV_To_MSSQL_Parallel_RangeId_4 -|- INFORMATION -|- tpch_test.dbo.orders_4_no_index -|- Source Connection String : DataSource=:memory:;memory_limit=1GB\n",
      "2025-09-23T01:10:51.032 +02:00 -|- FastTransfer -|- CSV_To_MSSQL_Parallel_RangeId_4 -|- INFORMATION -|- tpch_test.dbo.orders_4_no_index -|- Target Connection String : Data Source=localhost\\SS2025;Initial Catalog=tpch_test;Integrated Security=True;Connect Timeout=120;Encrypt=True;Trust Server Certificate=True;Application Name=FastTransfer;Application Intent=ReadWrite;Command Timeout=10800\n",
      "2025-09-23T01:10:51.032 +02:00 -|- FastTransfer -|- CSV_To_MSSQL_Parallel_RangeId_4 -|- INFORMATION -|- tpch_test.dbo.orders_4_no_index -|- Source Database Version : DuckDB v1.3.2\n",
      "2025-09-23T01:10:51.032 +02:00 -|- FastTransfer -|- CSV_To_MSSQL_Parallel_RangeId_4 -|- INFORMATION -|- tpch_test.dbo.orders_4_no_index -|- Target Database Version : Microsoft SQL Server 2025 (CTP2.1) - 17.0.800.3 (X64)  \tJun 12 2025 14:47:57  \tCopyright (C) 2025 Microsoft Corporation \tEnterprise Developer Edition (64-bit) on Windows 10 Pro 10.0 <X64> (Build 26100: ) (Hypervisor) \n",
      "2025-09-23T01:10:51.788 +02:00 -|- FastTransfer -|- CSV_To_MSSQL_Parallel_RangeId_4 -|- INFORMATION -|- tpch_test.dbo.orders_4_no_index -|- Start Loading Data using distribution method RangeId\n",
      "2025-09-23T01:10:51.789 +02:00 -|- FastTransfer -|- CSV_To_MSSQL_Parallel_RangeId_4 -|- INFORMATION -|- tpch_test.dbo.orders_4_no_index -|- Table \"dbo\".\"orders_4_no_index\" has no Clustered Index. BulkCopy will use KeepNulls and UseInternalTransaction and Tablock\n",
      "2025-09-23T01:10:51.790 +02:00 -|- FastTransfer -|- CSV_To_MSSQL_Parallel_RangeId_4 -|- INFORMATION -|- tpch_test.dbo.orders_4_no_index -|- BulkCopy to \"dbo\".\"orders_4_no_index\" with BatchSize = 1048576, Timeout = 3600\n",
      "2025-09-23T01:10:51.790 +02:00 -|- FastTransfer -|- CSV_To_MSSQL_Parallel_RangeId_4 -|- INFORMATION -|- tpch_test.dbo.orders_4_no_index -|- Start Loading Data using distribution method RangeId\n",
      "2025-09-23T01:10:51.791 +02:00 -|- FastTransfer -|- CSV_To_MSSQL_Parallel_RangeId_4 -|- INFORMATION -|- tpch_test.dbo.orders_4_no_index -|- Table \"dbo\".\"orders_4_no_index\" has no Clustered Index. BulkCopy will use KeepNulls and UseInternalTransaction and Tablock\n",
      "2025-09-23T01:10:51.791 +02:00 -|- FastTransfer -|- CSV_To_MSSQL_Parallel_RangeId_4 -|- INFORMATION -|- tpch_test.dbo.orders_4_no_index -|- BulkCopy to \"dbo\".\"orders_4_no_index\" with BatchSize = 1048576, Timeout = 3600\n",
      "2025-09-23T01:10:51.793 +02:00 -|- FastTransfer -|- CSV_To_MSSQL_Parallel_RangeId_4 -|- INFORMATION -|- tpch_test.dbo.orders_4_no_index -|- Start Loading Data using distribution method RangeId\n",
      "2025-09-23T01:10:51.794 +02:00 -|- FastTransfer -|- CSV_To_MSSQL_Parallel_RangeId_4 -|- INFORMATION -|- tpch_test.dbo.orders_4_no_index -|- Table \"dbo\".\"orders_4_no_index\" has no Clustered Index. BulkCopy will use KeepNulls and UseInternalTransaction and Tablock\n",
      "2025-09-23T01:10:51.794 +02:00 -|- FastTransfer -|- CSV_To_MSSQL_Parallel_RangeId_4 -|- INFORMATION -|- tpch_test.dbo.orders_4_no_index -|- BulkCopy to \"dbo\".\"orders_4_no_index\" with BatchSize = 1048576, Timeout = 3600\n",
      "2025-09-23T01:10:51.795 +02:00 -|- FastTransfer -|- CSV_To_MSSQL_Parallel_RangeId_4 -|- INFORMATION -|- tpch_test.dbo.orders_4_no_index -|- Start Loading Data using distribution method RangeId\n",
      "2025-09-23T01:10:51.795 +02:00 -|- FastTransfer -|- CSV_To_MSSQL_Parallel_RangeId_4 -|- INFORMATION -|- tpch_test.dbo.orders_4_no_index -|- Table \"dbo\".\"orders_4_no_index\" has no Clustered Index. BulkCopy will use KeepNulls and UseInternalTransaction and Tablock\n",
      "2025-09-23T01:10:51.796 +02:00 -|- FastTransfer -|- CSV_To_MSSQL_Parallel_RangeId_4 -|- INFORMATION -|- tpch_test.dbo.orders_4_no_index -|- BulkCopy to \"dbo\".\"orders_4_no_index\" with BatchSize = 1048576, Timeout = 3600\n",
      "2025-09-23T01:10:52.042 +02:00 -|- FastTransfer -|- CSV_To_MSSQL_Parallel_RangeId_4 -|- WARNING -|- tpch_test.dbo.orders_4_no_index -|- Only 9 out of 10 columns were mapped by name to the target table \"dbo\".\"orders_4_no_index\"\n",
      "2025-09-23T01:10:52.287 +02:00 -|- FastTransfer -|- CSV_To_MSSQL_Parallel_RangeId_4 -|- WARNING -|- tpch_test.dbo.orders_4_no_index -|- Only 9 out of 10 columns were mapped by name to the target table \"dbo\".\"orders_4_no_index\"\n",
      "2025-09-23T01:10:52.498 +02:00 -|- FastTransfer -|- CSV_To_MSSQL_Parallel_RangeId_4 -|- WARNING -|- tpch_test.dbo.orders_4_no_index -|- Only 9 out of 10 columns were mapped by name to the target table \"dbo\".\"orders_4_no_index\"\n",
      "2025-09-23T01:10:52.697 +02:00 -|- FastTransfer -|- CSV_To_MSSQL_Parallel_RangeId_4 -|- WARNING -|- tpch_test.dbo.orders_4_no_index -|- Only 9 out of 10 columns were mapped by name to the target table \"dbo\".\"orders_4_no_index\"\n",
      "2025-09-23T01:10:59.570 +02:00 -|- FastTransfer -|- CSV_To_MSSQL_Parallel_RangeId_4 -|- INFORMATION -|- tpch_test.dbo.orders_4_no_index -|- Completed RangeId Parallel Load 1 : 3750000 rows x 9 columns in 7794 ms\n",
      "2025-09-23T01:10:59.756 +02:00 -|- FastTransfer -|- CSV_To_MSSQL_Parallel_RangeId_4 -|- INFORMATION -|- tpch_test.dbo.orders_4_no_index -|- Completed RangeId Parallel Load 3 : 3750001 rows x 9 columns in 7980 ms\n",
      "2025-09-23T01:10:59.876 +02:00 -|- FastTransfer -|- CSV_To_MSSQL_Parallel_RangeId_4 -|- INFORMATION -|- tpch_test.dbo.orders_4_no_index -|- Completed RangeId Parallel Load 2 : 3750000 rows x 9 columns in 8099 ms\n",
      "2025-09-23T01:10:59.894 +02:00 -|- FastTransfer -|- CSV_To_MSSQL_Parallel_RangeId_4 -|- INFORMATION -|- tpch_test.dbo.orders_4_no_index -|- Completed RangeId Parallel Load 0 : 3749999 rows x 9 columns in 8118 ms\n",
      "2025-09-23T01:10:59.895 +02:00 -|- FastTransfer -|- CSV_To_MSSQL_Parallel_RangeId_4 -|- INFORMATION -|- tpch_test.dbo.orders_4_no_index -|- Total rows : 15000000\n",
      "2025-09-23T01:10:59.895 +02:00 -|- FastTransfer -|- CSV_To_MSSQL_Parallel_RangeId_4 -|- INFORMATION -|- tpch_test.dbo.orders_4_no_index -|- Total columns : 9\n",
      "2025-09-23T01:10:59.895 +02:00 -|- FastTransfer -|- CSV_To_MSSQL_Parallel_RangeId_4 -|- INFORMATION -|- tpch_test.dbo.orders_4_no_index -|- Total cells : 135000000\n",
      "2025-09-23T01:10:59.895 +02:00 -|- FastTransfer -|- CSV_To_MSSQL_Parallel_RangeId_4 -|- INFORMATION -|- tpch_test.dbo.orders_4_no_index -|- Rows Throughput : 1693811 rows/s\n",
      "2025-09-23T01:10:59.895 +02:00 -|- FastTransfer -|- CSV_To_MSSQL_Parallel_RangeId_4 -|- INFORMATION -|- tpch_test.dbo.orders_4_no_index -|- Cells Throughput : 15244314 cells/s\n",
      "2025-09-23T01:10:59.895 +02:00 -|- FastTransfer -|- CSV_To_MSSQL_Parallel_RangeId_4 -|- INFORMATION -|- tpch_test.dbo.orders_4_no_index -|- Transfert time : Elapsed=8855 ms\n",
      "2025-09-23T01:10:59.895 +02:00 -|- FastTransfer -|- CSV_To_MSSQL_Parallel_RangeId_4 -|- INFORMATION -|- tpch_test.dbo.orders_4_no_index -|- Total time : Elapsed=9130 ms\n",
      "2025-09-23T01:10:59.895 +02:00 -|- FastTransfer -|- CSV_To_MSSQL_Parallel_RangeId_4 -|- INFORMATION -|- tpch_test.dbo.orders_4_no_index -|- Completed Load\n"
     ]
    }
   ],
   "source": [
    "cd D:\\FastTransfer\\\n",
    "\n",
    ".\\FastTransfer.exe `\n",
    "--sourceconnectiontype \"duckdbstream\" `\n",
    "--sourceconnectstring \"DataSource=:memory:;memory_limit=1GB\" `\n",
    "--query \"SELECT * FROM read_csv('D:\\temp\\PGCOPY_ONEBIG\\PGCOPY_ORDERS.csv')\" `\n",
    "--targetconnectiontype \"msbulk\" `\n",
    "--targetserver \"localhost\\SS2025\" `\n",
    "--targettrusted `\n",
    "--targetdatabase \"tpch_test\" `\n",
    "--targetschema \"dbo\" `\n",
    "--targettable \"orders_4_no_index\" `\n",
    "--method \"RangeId\" `\n",
    "--distributeKeyColumn \"o_orderkey\" `\n",
    "--loadmode \"Truncate\" `\n",
    "--mapmethod \"Name\" `\n",
    "--degree 4 `\n",
    "--runid \"CSV_To_MSSQL_Parallel_RangeId_4\""
   ]
  },
  {
   "cell_type": "markdown",
   "id": "e2996606",
   "metadata": {},
   "source": [
    "## Import severals Parquet files to one MSSQL Table"
   ]
  },
  {
   "cell_type": "markdown",
   "id": "46cdd8ba",
   "metadata": {},
   "source": [
    "Parquet is a great file format and instead of CSV, the structure of the table inside the parquet file is embedded in the parquet file(s) itself. FastTransfer will use DuckDB under the hood to read parquet data using SQL and will push the data to the target table."
   ]
  },
  {
   "cell_type": "code",
   "execution_count": 47,
   "metadata": {
    "language_info": {
     "name": "polyglot-notebook"
    },
    "polyglot_notebook": {
     "kernelName": "pwsh"
    }
   },
   "outputs": [
    {
     "name": "stdout",
     "output_type": "stream",
     "text": [
      "┌───────────────────────────────────────────┐\n",
      "│ totalrows_orders_sf100_from_parquet_files │\n",
      "│                   int64                   │\n",
      "├───────────────────────────────────────────┤\n",
      "│                                 150000000 │\n",
      "└───────────────────────────────────────────┘\n"
     ]
    }
   ],
   "source": [
    "duckdb.exe -c \"SELECT count(*) totalrows_orders_sf100_from_parquet_files FROM read_parquet('D:\\tpchgen-cli\\sf100\\*\\orders*.parquet')\""
   ]
  },
  {
   "cell_type": "code",
   "execution_count": 48,
   "metadata": {
    "language_info": {
     "name": "polyglot-notebook"
    },
    "polyglot_notebook": {
     "kernelName": "pwsh"
    }
   },
   "outputs": [
    {
     "name": "stdout",
     "output_type": "stream",
     "text": [
      "┌───────────────────────────────────────────────┐\n",
      "│                     file                      │\n",
      "│                    varchar                    │\n",
      "├───────────────────────────────────────────────┤\n",
      "│ D:\\tpchgen-cli\\sf100\\orders\\orders.1.parquet  │\n",
      "│ D:\\tpchgen-cli\\sf100\\orders\\orders.10.parquet │\n",
      "│ D:\\tpchgen-cli\\sf100\\orders\\orders.11.parquet │\n",
      "│ D:\\tpchgen-cli\\sf100\\orders\\orders.12.parquet │\n",
      "│ D:\\tpchgen-cli\\sf100\\orders\\orders.13.parquet │\n",
      "│ D:\\tpchgen-cli\\sf100\\orders\\orders.14.parquet │\n",
      "│ D:\\tpchgen-cli\\sf100\\orders\\orders.15.parquet │\n",
      "│ D:\\tpchgen-cli\\sf100\\orders\\orders.16.parquet │\n",
      "│ D:\\tpchgen-cli\\sf100\\orders\\orders.17.parquet │\n",
      "│ D:\\tpchgen-cli\\sf100\\orders\\orders.18.parquet │\n",
      "│ D:\\tpchgen-cli\\sf100\\orders\\orders.19.parquet │\n",
      "│ D:\\tpchgen-cli\\sf100\\orders\\orders.2.parquet  │\n",
      "│ D:\\tpchgen-cli\\sf100\\orders\\orders.20.parquet │\n",
      "│ D:\\tpchgen-cli\\sf100\\orders\\orders.3.parquet  │\n",
      "│ D:\\tpchgen-cli\\sf100\\orders\\orders.4.parquet  │\n",
      "│ D:\\tpchgen-cli\\sf100\\orders\\orders.5.parquet  │\n",
      "│ D:\\tpchgen-cli\\sf100\\orders\\orders.6.parquet  │\n",
      "│ D:\\tpchgen-cli\\sf100\\orders\\orders.7.parquet  │\n",
      "│ D:\\tpchgen-cli\\sf100\\orders\\orders.8.parquet  │\n",
      "│ D:\\tpchgen-cli\\sf100\\orders\\orders.9.parquet  │\n",
      "├───────────────────────────────────────────────┤\n",
      "│                    20 rows                    │\n",
      "└───────────────────────────────────────────────┘\n"
     ]
    }
   ],
   "source": [
    "duckdb.exe -c \"select file from glob('D:\\tpchgen-cli\\sf100\\*\\orders*.parquet')\""
   ]
  },
  {
   "cell_type": "code",
   "execution_count": 6,
   "metadata": {
    "polyglot_notebook": {
     "kernelName": "pwsh"
    }
   },
   "outputs": [
    {
     "name": "stdout",
     "output_type": "stream",
     "text": [
      "2025-09-01T22:47:45.512 +02:00 -|- FastTransfer -|- PARQUET_To_MSSQL_Parallel12_DataDriven_filename -|- INFORMATION -|- tpch_test.dbo.orders -|- FastTransfer - running in trial mode – will expires on 2025‑09‑19 (17 day(s) left).\n",
      "2025-09-01T22:47:45.524 +02:00 -|- FastTransfer -|- PARQUET_To_MSSQL_Parallel12_DataDriven_filename -|- INFORMATION -|- tpch_test.dbo.orders -|- Starting\n",
      "2025-09-01T22:47:45.524 +02:00 -|- FastTransfer -|- PARQUET_To_MSSQL_Parallel12_DataDriven_filename -|- INFORMATION -|- tpch_test.dbo.orders -|- FastTransfer Version : 0.13.9.0 Architecture : X64 - Framework : .NET 8.0.19\n",
      "2025-09-01T22:47:45.524 +02:00 -|- FastTransfer -|- PARQUET_To_MSSQL_Parallel12_DataDriven_filename -|- INFORMATION -|- tpch_test.dbo.orders -|- OS : Microsoft Windows 10.0.26100\n",
      "2025-09-01T22:47:45.524 +02:00 -|- FastTransfer -|- PARQUET_To_MSSQL_Parallel12_DataDriven_filename -|- INFORMATION -|- tpch_test.dbo.orders -|- Process ID : 38492\n",
      "2025-09-01T22:47:45.524 +02:00 -|- FastTransfer -|- PARQUET_To_MSSQL_Parallel12_DataDriven_filename -|- INFORMATION -|- tpch_test.dbo.orders -|- Provided Run ID : PARQUET_To_MSSQL_Parallel12_DataDriven_filename\n",
      "2025-09-01T22:47:45.524 +02:00 -|- FastTransfer -|- PARQUET_To_MSSQL_Parallel12_DataDriven_filename -|- INFORMATION -|- tpch_test.dbo.orders -|- Source Connection Type : duckdbstream\n",
      "2025-09-01T22:47:45.524 +02:00 -|- FastTransfer -|- PARQUET_To_MSSQL_Parallel12_DataDriven_filename -|- INFORMATION -|- tpch_test.dbo.orders -|- Source SqlInstance : :memory:\n",
      "2025-09-01T22:47:45.524 +02:00 -|- FastTransfer -|- PARQUET_To_MSSQL_Parallel12_DataDriven_filename -|- INFORMATION -|- tpch_test.dbo.orders -|- Source Trusted Connection : False\n",
      "2025-09-01T22:47:45.524 +02:00 -|- FastTransfer -|- PARQUET_To_MSSQL_Parallel12_DataDriven_filename -|- INFORMATION -|- tpch_test.dbo.orders -|- Query : SELECT * exclude filename FROM read_parquet('D:\\tpchgen-cli\\sf100\\*\\orders*.parquet', filename=true)\n",
      "2025-09-01T22:47:45.524 +02:00 -|- FastTransfer -|- PARQUET_To_MSSQL_Parallel12_DataDriven_filename -|- INFORMATION -|- tpch_test.dbo.orders -|- Target Type : msbulk\n",
      "2025-09-01T22:47:45.524 +02:00 -|- FastTransfer -|- PARQUET_To_MSSQL_Parallel12_DataDriven_filename -|- INFORMATION -|- tpch_test.dbo.orders -|- Target Server : localhost\\SS2025\n",
      "2025-09-01T22:47:45.524 +02:00 -|- FastTransfer -|- PARQUET_To_MSSQL_Parallel12_DataDriven_filename -|- INFORMATION -|- tpch_test.dbo.orders -|- Target Database : tpch_test\n",
      "2025-09-01T22:47:45.524 +02:00 -|- FastTransfer -|- PARQUET_To_MSSQL_Parallel12_DataDriven_filename -|- INFORMATION -|- tpch_test.dbo.orders -|- Target Schema : dbo\n",
      "2025-09-01T22:47:45.524 +02:00 -|- FastTransfer -|- PARQUET_To_MSSQL_Parallel12_DataDriven_filename -|- INFORMATION -|- tpch_test.dbo.orders -|- Target Table : orders\n",
      "2025-09-01T22:47:45.524 +02:00 -|- FastTransfer -|- PARQUET_To_MSSQL_Parallel12_DataDriven_filename -|- INFORMATION -|- tpch_test.dbo.orders -|- Target Trusted Connection : True\n",
      "2025-09-01T22:47:45.524 +02:00 -|- FastTransfer -|- PARQUET_To_MSSQL_Parallel12_DataDriven_filename -|- INFORMATION -|- tpch_test.dbo.orders -|- Columns Map Method : Name\n",
      "2025-09-01T22:47:45.524 +02:00 -|- FastTransfer -|- PARQUET_To_MSSQL_Parallel12_DataDriven_filename -|- INFORMATION -|- tpch_test.dbo.orders -|- Degree : 12\n",
      "2025-09-01T22:47:45.524 +02:00 -|- FastTransfer -|- PARQUET_To_MSSQL_Parallel12_DataDriven_filename -|- INFORMATION -|- tpch_test.dbo.orders -|- Distribute Method : DataDriven\n",
      "2025-09-01T22:47:45.524 +02:00 -|- FastTransfer -|- PARQUET_To_MSSQL_Parallel12_DataDriven_filename -|- INFORMATION -|- tpch_test.dbo.orders -|- Distribute Column : filename\n",
      "2025-09-01T22:47:45.524 +02:00 -|- FastTransfer -|- PARQUET_To_MSSQL_Parallel12_DataDriven_filename -|- INFORMATION -|- tpch_test.dbo.orders -|- Data Driven Query : select file from glob('D:\\tpchgen-cli\\sf100\\*\\orders*.parquet')\n",
      "2025-09-01T22:47:45.524 +02:00 -|- FastTransfer -|- PARQUET_To_MSSQL_Parallel12_DataDriven_filename -|- INFORMATION -|- tpch_test.dbo.orders -|- Bulkcopy Batch Size : 1048576\n",
      "2025-09-01T22:47:45.524 +02:00 -|- FastTransfer -|- PARQUET_To_MSSQL_Parallel12_DataDriven_filename -|- INFORMATION -|- tpch_test.dbo.orders -|- Load Mode : Truncate\n",
      "2025-09-01T22:47:45.524 +02:00 -|- FastTransfer -|- PARQUET_To_MSSQL_Parallel12_DataDriven_filename -|- INFORMATION -|- tpch_test.dbo.orders -|- Use Work Tables : False\n",
      "2025-09-01T22:47:45.525 +02:00 -|- FastTransfer -|- PARQUET_To_MSSQL_Parallel12_DataDriven_filename -|- INFORMATION -|- tpch_test.dbo.orders -|- Encoding used : Unicode (UTF-8) - 65001 - utf-8\n",
      "2025-09-01T22:47:45.558 +02:00 -|- FastTransfer -|- PARQUET_To_MSSQL_Parallel12_DataDriven_filename -|- INFORMATION -|- tpch_test.dbo.orders -|- Source Connection String : DataSource=:memory:;memory_limit=8GB\n",
      "2025-09-01T22:47:45.558 +02:00 -|- FastTransfer -|- PARQUET_To_MSSQL_Parallel12_DataDriven_filename -|- INFORMATION -|- tpch_test.dbo.orders -|- Target Connection String : Data Source=localhost\\SS2025;Initial Catalog=tpch_test;Integrated Security=True;Connect Timeout=120;Encrypt=True;Trust Server Certificate=True;Application Name=FastTransfer;Application Intent=ReadWrite;Command Timeout=10800\n",
      "2025-09-01T22:47:45.558 +02:00 -|- FastTransfer -|- PARQUET_To_MSSQL_Parallel12_DataDriven_filename -|- INFORMATION -|- tpch_test.dbo.orders -|- Source Database Version : DuckDB v1.3.2\n",
      "2025-09-01T22:47:45.558 +02:00 -|- FastTransfer -|- PARQUET_To_MSSQL_Parallel12_DataDriven_filename -|- INFORMATION -|- tpch_test.dbo.orders -|- Target Database Version : Microsoft SQL Server 2025 (CTP2.1) - 17.0.800.3 (X64)  \tJun 12 2025 14:47:57  \tCopyright (C) 2025 Microsoft Corporation \tEnterprise Developer Edition (64-bit) on Windows 10 Pro 10.0 <X64> (Build 26100: ) (Hypervisor) \n",
      "2025-09-01T22:47:45.588 +02:00 -|- FastTransfer -|- PARQUET_To_MSSQL_Parallel12_DataDriven_filename -|- INFORMATION -|- tpch_test.dbo.orders -|- Completed DataDriven GetValues : 20 in 3 ms\n",
      "2025-09-01T22:47:45.631 +02:00 -|- FastTransfer -|- PARQUET_To_MSSQL_Parallel12_DataDriven_filename -|- INFORMATION -|- tpch_test.dbo.orders -|- Start Loading Data using distribution method DataDriven\n",
      "2025-09-01T22:47:45.633 +02:00 -|- FastTransfer -|- PARQUET_To_MSSQL_Parallel12_DataDriven_filename -|- INFORMATION -|- tpch_test.dbo.orders -|- Table \"dbo\".\"orders\" has a Clustered Index. BulkCopy will use KeepNulls and UseInternalTransaction and avoid Tablock\n",
      "2025-09-01T22:47:45.636 +02:00 -|- FastTransfer -|- PARQUET_To_MSSQL_Parallel12_DataDriven_filename -|- INFORMATION -|- tpch_test.dbo.orders -|- BulkCopy to \"dbo\".\"orders\" with BatchSize = 1048576, Timeout = 3600\n",
      "2025-09-01T22:47:45.636 +02:00 -|- FastTransfer -|- PARQUET_To_MSSQL_Parallel12_DataDriven_filename -|- INFORMATION -|- tpch_test.dbo.orders -|- Start Loading Data using distribution method DataDriven\n",
      "2025-09-01T22:47:45.637 +02:00 -|- FastTransfer -|- PARQUET_To_MSSQL_Parallel12_DataDriven_filename -|- INFORMATION -|- tpch_test.dbo.orders -|- Table \"dbo\".\"orders\" has a Clustered Index. BulkCopy will use KeepNulls and UseInternalTransaction and avoid Tablock\n",
      "2025-09-01T22:47:45.637 +02:00 -|- FastTransfer -|- PARQUET_To_MSSQL_Parallel12_DataDriven_filename -|- INFORMATION -|- tpch_test.dbo.orders -|- BulkCopy to \"dbo\".\"orders\" with BatchSize = 1048576, Timeout = 3600\n",
      "2025-09-01T22:47:45.639 +02:00 -|- FastTransfer -|- PARQUET_To_MSSQL_Parallel12_DataDriven_filename -|- INFORMATION -|- tpch_test.dbo.orders -|- Start Loading Data using distribution method DataDriven\n",
      "2025-09-01T22:47:45.639 +02:00 -|- FastTransfer -|- PARQUET_To_MSSQL_Parallel12_DataDriven_filename -|- INFORMATION -|- tpch_test.dbo.orders -|- Table \"dbo\".\"orders\" has a Clustered Index. BulkCopy will use KeepNulls and UseInternalTransaction and avoid Tablock\n",
      "2025-09-01T22:47:45.639 +02:00 -|- FastTransfer -|- PARQUET_To_MSSQL_Parallel12_DataDriven_filename -|- INFORMATION -|- tpch_test.dbo.orders -|- BulkCopy to \"dbo\".\"orders\" with BatchSize = 1048576, Timeout = 3600\n",
      "2025-09-01T22:47:45.641 +02:00 -|- FastTransfer -|- PARQUET_To_MSSQL_Parallel12_DataDriven_filename -|- INFORMATION -|- tpch_test.dbo.orders -|- Start Loading Data using distribution method DataDriven\n",
      "2025-09-01T22:47:45.641 +02:00 -|- FastTransfer -|- PARQUET_To_MSSQL_Parallel12_DataDriven_filename -|- INFORMATION -|- tpch_test.dbo.orders -|- Table \"dbo\".\"orders\" has a Clustered Index. BulkCopy will use KeepNulls and UseInternalTransaction and avoid Tablock\n",
      "2025-09-01T22:47:45.641 +02:00 -|- FastTransfer -|- PARQUET_To_MSSQL_Parallel12_DataDriven_filename -|- INFORMATION -|- tpch_test.dbo.orders -|- BulkCopy to \"dbo\".\"orders\" with BatchSize = 1048576, Timeout = 3600\n",
      "2025-09-01T22:47:45.644 +02:00 -|- FastTransfer -|- PARQUET_To_MSSQL_Parallel12_DataDriven_filename -|- INFORMATION -|- tpch_test.dbo.orders -|- Start Loading Data using distribution method DataDriven\n",
      "2025-09-01T22:47:45.645 +02:00 -|- FastTransfer -|- PARQUET_To_MSSQL_Parallel12_DataDriven_filename -|- INFORMATION -|- tpch_test.dbo.orders -|- Table \"dbo\".\"orders\" has a Clustered Index. BulkCopy will use KeepNulls and UseInternalTransaction and avoid Tablock\n",
      "2025-09-01T22:47:45.645 +02:00 -|- FastTransfer -|- PARQUET_To_MSSQL_Parallel12_DataDriven_filename -|- INFORMATION -|- tpch_test.dbo.orders -|- BulkCopy to \"dbo\".\"orders\" with BatchSize = 1048576, Timeout = 3600\n",
      "2025-09-01T22:47:45.649 +02:00 -|- FastTransfer -|- PARQUET_To_MSSQL_Parallel12_DataDriven_filename -|- INFORMATION -|- tpch_test.dbo.orders -|- Start Loading Data using distribution method DataDriven\n",
      "2025-09-01T22:47:45.650 +02:00 -|- FastTransfer -|- PARQUET_To_MSSQL_Parallel12_DataDriven_filename -|- INFORMATION -|- tpch_test.dbo.orders -|- Table \"dbo\".\"orders\" has a Clustered Index. BulkCopy will use KeepNulls and UseInternalTransaction and avoid Tablock\n",
      "2025-09-01T22:47:45.651 +02:00 -|- FastTransfer -|- PARQUET_To_MSSQL_Parallel12_DataDriven_filename -|- INFORMATION -|- tpch_test.dbo.orders -|- BulkCopy to \"dbo\".\"orders\" with BatchSize = 1048576, Timeout = 3600\n",
      "2025-09-01T22:47:45.657 +02:00 -|- FastTransfer -|- PARQUET_To_MSSQL_Parallel12_DataDriven_filename -|- INFORMATION -|- tpch_test.dbo.orders -|- Start Loading Data using distribution method DataDriven\n",
      "2025-09-01T22:47:45.658 +02:00 -|- FastTransfer -|- PARQUET_To_MSSQL_Parallel12_DataDriven_filename -|- INFORMATION -|- tpch_test.dbo.orders -|- Table \"dbo\".\"orders\" has a Clustered Index. BulkCopy will use KeepNulls and UseInternalTransaction and avoid Tablock\n",
      "2025-09-01T22:47:45.658 +02:00 -|- FastTransfer -|- PARQUET_To_MSSQL_Parallel12_DataDriven_filename -|- INFORMATION -|- tpch_test.dbo.orders -|- BulkCopy to \"dbo\".\"orders\" with BatchSize = 1048576, Timeout = 3600\n",
      "2025-09-01T22:47:45.671 +02:00 -|- FastTransfer -|- PARQUET_To_MSSQL_Parallel12_DataDriven_filename -|- INFORMATION -|- tpch_test.dbo.orders -|- Start Loading Data using distribution method DataDriven\n",
      "2025-09-01T22:47:45.672 +02:00 -|- FastTransfer -|- PARQUET_To_MSSQL_Parallel12_DataDriven_filename -|- INFORMATION -|- tpch_test.dbo.orders -|- Table \"dbo\".\"orders\" has a Clustered Index. BulkCopy will use KeepNulls and UseInternalTransaction and avoid Tablock\n",
      "2025-09-01T22:47:45.672 +02:00 -|- FastTransfer -|- PARQUET_To_MSSQL_Parallel12_DataDriven_filename -|- INFORMATION -|- tpch_test.dbo.orders -|- BulkCopy to \"dbo\".\"orders\" with BatchSize = 1048576, Timeout = 3600\n",
      "2025-09-01T22:47:45.682 +02:00 -|- FastTransfer -|- PARQUET_To_MSSQL_Parallel12_DataDriven_filename -|- INFORMATION -|- tpch_test.dbo.orders -|- Start Loading Data using distribution method DataDriven\n",
      "2025-09-01T22:47:45.683 +02:00 -|- FastTransfer -|- PARQUET_To_MSSQL_Parallel12_DataDriven_filename -|- INFORMATION -|- tpch_test.dbo.orders -|- Table \"dbo\".\"orders\" has a Clustered Index. BulkCopy will use KeepNulls and UseInternalTransaction and avoid Tablock\n",
      "2025-09-01T22:47:45.683 +02:00 -|- FastTransfer -|- PARQUET_To_MSSQL_Parallel12_DataDriven_filename -|- INFORMATION -|- tpch_test.dbo.orders -|- BulkCopy to \"dbo\".\"orders\" with BatchSize = 1048576, Timeout = 3600\n",
      "2025-09-01T22:47:45.700 +02:00 -|- FastTransfer -|- PARQUET_To_MSSQL_Parallel12_DataDriven_filename -|- INFORMATION -|- tpch_test.dbo.orders -|- Start Loading Data using distribution method DataDriven\n",
      "2025-09-01T22:47:45.701 +02:00 -|- FastTransfer -|- PARQUET_To_MSSQL_Parallel12_DataDriven_filename -|- INFORMATION -|- tpch_test.dbo.orders -|- Table \"dbo\".\"orders\" has a Clustered Index. BulkCopy will use KeepNulls and UseInternalTransaction and avoid Tablock\n",
      "2025-09-01T22:47:45.701 +02:00 -|- FastTransfer -|- PARQUET_To_MSSQL_Parallel12_DataDriven_filename -|- INFORMATION -|- tpch_test.dbo.orders -|- BulkCopy to \"dbo\".\"orders\" with BatchSize = 1048576, Timeout = 3600\n",
      "2025-09-01T22:47:45.708 +02:00 -|- FastTransfer -|- PARQUET_To_MSSQL_Parallel12_DataDriven_filename -|- INFORMATION -|- tpch_test.dbo.orders -|- Start Loading Data using distribution method DataDriven\n",
      "2025-09-01T22:47:45.710 +02:00 -|- FastTransfer -|- PARQUET_To_MSSQL_Parallel12_DataDriven_filename -|- INFORMATION -|- tpch_test.dbo.orders -|- Table \"dbo\".\"orders\" has a Clustered Index. BulkCopy will use KeepNulls and UseInternalTransaction and avoid Tablock\n",
      "2025-09-01T22:47:45.710 +02:00 -|- FastTransfer -|- PARQUET_To_MSSQL_Parallel12_DataDriven_filename -|- INFORMATION -|- tpch_test.dbo.orders -|- BulkCopy to \"dbo\".\"orders\" with BatchSize = 1048576, Timeout = 3600\n",
      "2025-09-01T22:47:45.722 +02:00 -|- FastTransfer -|- PARQUET_To_MSSQL_Parallel12_DataDriven_filename -|- INFORMATION -|- tpch_test.dbo.orders -|- Start Loading Data using distribution method DataDriven\n",
      "2025-09-01T22:47:45.723 +02:00 -|- FastTransfer -|- PARQUET_To_MSSQL_Parallel12_DataDriven_filename -|- INFORMATION -|- tpch_test.dbo.orders -|- Table \"dbo\".\"orders\" has a Clustered Index. BulkCopy will use KeepNulls and UseInternalTransaction and avoid Tablock\n",
      "2025-09-01T22:47:45.723 +02:00 -|- FastTransfer -|- PARQUET_To_MSSQL_Parallel12_DataDriven_filename -|- INFORMATION -|- tpch_test.dbo.orders -|- BulkCopy to \"dbo\".\"orders\" with BatchSize = 1048576, Timeout = 3600\n",
      "2025-09-01T22:47:46.050 +02:00 -|- FastTransfer -|- PARQUET_To_MSSQL_Parallel12_DataDriven_filename -|- WARNING -|- tpch_test.dbo.orders -|- Only 9 out of 10 columns were mapped by name to the target table \"dbo\".\"orders\"\n",
      "2025-09-01T22:47:46.050 +02:00 -|- FastTransfer -|- PARQUET_To_MSSQL_Parallel12_DataDriven_filename -|- WARNING -|- tpch_test.dbo.orders -|- Only 9 out of 10 columns were mapped by name to the target table \"dbo\".\"orders\"\n",
      "2025-09-01T22:47:46.062 +02:00 -|- FastTransfer -|- PARQUET_To_MSSQL_Parallel12_DataDriven_filename -|- WARNING -|- tpch_test.dbo.orders -|- Only 9 out of 10 columns were mapped by name to the target table \"dbo\".\"orders\"\n",
      "2025-09-01T22:47:46.218 +02:00 -|- FastTransfer -|- PARQUET_To_MSSQL_Parallel12_DataDriven_filename -|- WARNING -|- tpch_test.dbo.orders -|- Only 9 out of 10 columns were mapped by name to the target table \"dbo\".\"orders\"\n",
      "2025-09-01T22:47:46.351 +02:00 -|- FastTransfer -|- PARQUET_To_MSSQL_Parallel12_DataDriven_filename -|- WARNING -|- tpch_test.dbo.orders -|- Only 9 out of 10 columns were mapped by name to the target table \"dbo\".\"orders\"\n",
      "2025-09-01T22:47:46.351 +02:00 -|- FastTransfer -|- PARQUET_To_MSSQL_Parallel12_DataDriven_filename -|- WARNING -|- tpch_test.dbo.orders -|- Only 9 out of 10 columns were mapped by name to the target table \"dbo\".\"orders\"\n",
      "2025-09-01T22:47:46.600 +02:00 -|- FastTransfer -|- PARQUET_To_MSSQL_Parallel12_DataDriven_filename -|- WARNING -|- tpch_test.dbo.orders -|- Only 9 out of 10 columns were mapped by name to the target table \"dbo\".\"orders\"\n",
      "2025-09-01T22:47:46.621 +02:00 -|- FastTransfer -|- PARQUET_To_MSSQL_Parallel12_DataDriven_filename -|- WARNING -|- tpch_test.dbo.orders -|- Only 9 out of 10 columns were mapped by name to the target table \"dbo\".\"orders\"\n",
      "2025-09-01T22:47:46.633 +02:00 -|- FastTransfer -|- PARQUET_To_MSSQL_Parallel12_DataDriven_filename -|- WARNING -|- tpch_test.dbo.orders -|- Only 9 out of 10 columns were mapped by name to the target table \"dbo\".\"orders\"\n",
      "2025-09-01T22:47:46.637 +02:00 -|- FastTransfer -|- PARQUET_To_MSSQL_Parallel12_DataDriven_filename -|- WARNING -|- tpch_test.dbo.orders -|- Only 9 out of 10 columns were mapped by name to the target table \"dbo\".\"orders\"\n",
      "2025-09-01T22:47:46.639 +02:00 -|- FastTransfer -|- PARQUET_To_MSSQL_Parallel12_DataDriven_filename -|- WARNING -|- tpch_test.dbo.orders -|- Only 9 out of 10 columns were mapped by name to the target table \"dbo\".\"orders\"\n",
      "2025-09-01T22:47:46.645 +02:00 -|- FastTransfer -|- PARQUET_To_MSSQL_Parallel12_DataDriven_filename -|- WARNING -|- tpch_test.dbo.orders -|- Only 9 out of 10 columns were mapped by name to the target table \"dbo\".\"orders\"\n",
      "2025-09-01T22:48:28.790 +02:00 -|- FastTransfer -|- PARQUET_To_MSSQL_Parallel12_DataDriven_filename -|- INFORMATION -|- tpch_test.dbo.orders -|- Completed DataDriven Load sub-process 7 for filename = D:\\tpchgen-cli\\sf100\\orders\\orders.16.parquet : 7499946 rows x 9 columns in 43196 ms\n",
      "2025-09-01T22:48:28.805 +02:00 -|- FastTransfer -|- PARQUET_To_MSSQL_Parallel12_DataDriven_filename -|- INFORMATION -|- tpch_test.dbo.orders -|- Start Loading Data using distribution method DataDriven\n",
      "2025-09-01T22:48:28.806 +02:00 -|- FastTransfer -|- PARQUET_To_MSSQL_Parallel12_DataDriven_filename -|- INFORMATION -|- tpch_test.dbo.orders -|- Table \"dbo\".\"orders\" has a Clustered Index. BulkCopy will use KeepNulls and UseInternalTransaction and avoid Tablock\n",
      "2025-09-01T22:48:28.806 +02:00 -|- FastTransfer -|- PARQUET_To_MSSQL_Parallel12_DataDriven_filename -|- INFORMATION -|- tpch_test.dbo.orders -|- BulkCopy to \"dbo\".\"orders\" with BatchSize = 1048576, Timeout = 3600\n",
      "2025-09-01T22:48:28.869 +02:00 -|- FastTransfer -|- PARQUET_To_MSSQL_Parallel12_DataDriven_filename -|- INFORMATION -|- tpch_test.dbo.orders -|- Completed DataDriven Load sub-process 0 for filename = D:\\tpchgen-cli\\sf100\\orders\\orders.1.parquet : 7499946 rows x 9 columns in 43276 ms\n",
      "2025-09-01T22:48:28.902 +02:00 -|- FastTransfer -|- PARQUET_To_MSSQL_Parallel12_DataDriven_filename -|- INFORMATION -|- tpch_test.dbo.orders -|- Completed DataDriven Load sub-process 11 for filename = D:\\tpchgen-cli\\sf100\\orders\\orders.2.parquet : 7499946 rows x 9 columns in 43306 ms\n",
      "2025-09-01T22:48:28.916 +02:00 -|- FastTransfer -|- PARQUET_To_MSSQL_Parallel12_DataDriven_filename -|- WARNING -|- tpch_test.dbo.orders -|- Only 9 out of 10 columns were mapped by name to the target table \"dbo\".\"orders\"\n",
      "2025-09-01T22:48:28.927 +02:00 -|- FastTransfer -|- PARQUET_To_MSSQL_Parallel12_DataDriven_filename -|- INFORMATION -|- tpch_test.dbo.orders -|- Start Loading Data using distribution method DataDriven\n",
      "2025-09-01T22:48:28.927 +02:00 -|- FastTransfer -|- PARQUET_To_MSSQL_Parallel12_DataDriven_filename -|- INFORMATION -|- tpch_test.dbo.orders -|- Table \"dbo\".\"orders\" has a Clustered Index. BulkCopy will use KeepNulls and UseInternalTransaction and avoid Tablock\n",
      "2025-09-01T22:48:28.928 +02:00 -|- FastTransfer -|- PARQUET_To_MSSQL_Parallel12_DataDriven_filename -|- INFORMATION -|- tpch_test.dbo.orders -|- BulkCopy to \"dbo\".\"orders\" with BatchSize = 1048576, Timeout = 3600\n",
      "2025-09-01T22:48:29.025 +02:00 -|- FastTransfer -|- PARQUET_To_MSSQL_Parallel12_DataDriven_filename -|- WARNING -|- tpch_test.dbo.orders -|- Only 9 out of 10 columns were mapped by name to the target table \"dbo\".\"orders\"\n",
      "2025-09-01T22:48:29.027 +02:00 -|- FastTransfer -|- PARQUET_To_MSSQL_Parallel12_DataDriven_filename -|- INFORMATION -|- tpch_test.dbo.orders -|- Completed DataDriven Load sub-process 10 for filename = D:\\tpchgen-cli\\sf100\\orders\\orders.19.parquet : 7499946 rows x 9 columns in 43431 ms\n",
      "2025-09-01T22:48:32.617 +02:00 -|- FastTransfer -|- PARQUET_To_MSSQL_Parallel12_DataDriven_filename -|- INFORMATION -|- tpch_test.dbo.orders -|- Completed DataDriven Load sub-process 2 for filename = D:\\tpchgen-cli\\sf100\\orders\\orders.11.parquet : 7499946 rows x 9 columns in 47024 ms\n",
      "2025-09-01T22:48:32.633 +02:00 -|- FastTransfer -|- PARQUET_To_MSSQL_Parallel12_DataDriven_filename -|- INFORMATION -|- tpch_test.dbo.orders -|- Start Loading Data using distribution method DataDriven\n",
      "2025-09-01T22:48:32.634 +02:00 -|- FastTransfer -|- PARQUET_To_MSSQL_Parallel12_DataDriven_filename -|- INFORMATION -|- tpch_test.dbo.orders -|- Table \"dbo\".\"orders\" has a Clustered Index. BulkCopy will use KeepNulls and UseInternalTransaction and avoid Tablock\n",
      "2025-09-01T22:48:32.634 +02:00 -|- FastTransfer -|- PARQUET_To_MSSQL_Parallel12_DataDriven_filename -|- INFORMATION -|- tpch_test.dbo.orders -|- BulkCopy to \"dbo\".\"orders\" with BatchSize = 1048576, Timeout = 3600\n",
      "2025-09-01T22:48:32.741 +02:00 -|- FastTransfer -|- PARQUET_To_MSSQL_Parallel12_DataDriven_filename -|- WARNING -|- tpch_test.dbo.orders -|- Only 9 out of 10 columns were mapped by name to the target table \"dbo\".\"orders\"\n",
      "2025-09-01T22:48:33.039 +02:00 -|- FastTransfer -|- PARQUET_To_MSSQL_Parallel12_DataDriven_filename -|- INFORMATION -|- tpch_test.dbo.orders -|- Completed DataDriven Load sub-process 9 for filename = D:\\tpchgen-cli\\sf100\\orders\\orders.18.parquet : 7499946 rows x 9 columns in 47444 ms\n",
      "2025-09-01T22:48:33.064 +02:00 -|- FastTransfer -|- PARQUET_To_MSSQL_Parallel12_DataDriven_filename -|- INFORMATION -|- tpch_test.dbo.orders -|- Completed DataDriven Load sub-process 3 for filename = D:\\tpchgen-cli\\sf100\\orders\\orders.12.parquet : 7499946 rows x 9 columns in 47471 ms\n",
      "2025-09-01T22:48:33.081 +02:00 -|- FastTransfer -|- PARQUET_To_MSSQL_Parallel12_DataDriven_filename -|- INFORMATION -|- tpch_test.dbo.orders -|- Start Loading Data using distribution method DataDriven\n",
      "2025-09-01T22:48:33.082 +02:00 -|- FastTransfer -|- PARQUET_To_MSSQL_Parallel12_DataDriven_filename -|- INFORMATION -|- tpch_test.dbo.orders -|- Table \"dbo\".\"orders\" has a Clustered Index. BulkCopy will use KeepNulls and UseInternalTransaction and avoid Tablock\n",
      "2025-09-01T22:48:33.082 +02:00 -|- FastTransfer -|- PARQUET_To_MSSQL_Parallel12_DataDriven_filename -|- INFORMATION -|- tpch_test.dbo.orders -|- BulkCopy to \"dbo\".\"orders\" with BatchSize = 1048576, Timeout = 3600\n",
      "2025-09-01T22:48:33.089 +02:00 -|- FastTransfer -|- PARQUET_To_MSSQL_Parallel12_DataDriven_filename -|- INFORMATION -|- tpch_test.dbo.orders -|- Completed DataDriven Load sub-process 1 for filename = D:\\tpchgen-cli\\sf100\\orders\\orders.10.parquet : 7499946 rows x 9 columns in 47496 ms\n",
      "2025-09-01T22:48:33.208 +02:00 -|- FastTransfer -|- PARQUET_To_MSSQL_Parallel12_DataDriven_filename -|- WARNING -|- tpch_test.dbo.orders -|- Only 9 out of 10 columns were mapped by name to the target table \"dbo\".\"orders\"\n",
      "2025-09-01T22:48:33.220 +02:00 -|- FastTransfer -|- PARQUET_To_MSSQL_Parallel12_DataDriven_filename -|- INFORMATION -|- tpch_test.dbo.orders -|- Start Loading Data using distribution method DataDriven\n",
      "2025-09-01T22:48:33.221 +02:00 -|- FastTransfer -|- PARQUET_To_MSSQL_Parallel12_DataDriven_filename -|- INFORMATION -|- tpch_test.dbo.orders -|- Table \"dbo\".\"orders\" has a Clustered Index. BulkCopy will use KeepNulls and UseInternalTransaction and avoid Tablock\n",
      "2025-09-01T22:48:33.221 +02:00 -|- FastTransfer -|- PARQUET_To_MSSQL_Parallel12_DataDriven_filename -|- INFORMATION -|- tpch_test.dbo.orders -|- BulkCopy to \"dbo\".\"orders\" with BatchSize = 1048576, Timeout = 3600\n",
      "2025-09-01T22:48:33.368 +02:00 -|- FastTransfer -|- PARQUET_To_MSSQL_Parallel12_DataDriven_filename -|- WARNING -|- tpch_test.dbo.orders -|- Only 9 out of 10 columns were mapped by name to the target table \"dbo\".\"orders\"\n",
      "2025-09-01T22:48:33.740 +02:00 -|- FastTransfer -|- PARQUET_To_MSSQL_Parallel12_DataDriven_filename -|- INFORMATION -|- tpch_test.dbo.orders -|- Completed DataDriven Load sub-process 6 for filename = D:\\tpchgen-cli\\sf100\\orders\\orders.15.parquet : 7499946 rows x 9 columns in 48146 ms\n",
      "2025-09-01T22:48:33.773 +02:00 -|- FastTransfer -|- PARQUET_To_MSSQL_Parallel12_DataDriven_filename -|- INFORMATION -|- tpch_test.dbo.orders -|- Start Loading Data using distribution method DataDriven\n",
      "2025-09-01T22:48:33.774 +02:00 -|- FastTransfer -|- PARQUET_To_MSSQL_Parallel12_DataDriven_filename -|- INFORMATION -|- tpch_test.dbo.orders -|- Table \"dbo\".\"orders\" has a Clustered Index. BulkCopy will use KeepNulls and UseInternalTransaction and avoid Tablock\n",
      "2025-09-01T22:48:33.775 +02:00 -|- FastTransfer -|- PARQUET_To_MSSQL_Parallel12_DataDriven_filename -|- INFORMATION -|- tpch_test.dbo.orders -|- BulkCopy to \"dbo\".\"orders\" with BatchSize = 1048576, Timeout = 3600\n",
      "2025-09-01T22:48:33.966 +02:00 -|- FastTransfer -|- PARQUET_To_MSSQL_Parallel12_DataDriven_filename -|- WARNING -|- tpch_test.dbo.orders -|- Only 9 out of 10 columns were mapped by name to the target table \"dbo\".\"orders\"\n",
      "2025-09-01T22:48:35.241 +02:00 -|- FastTransfer -|- PARQUET_To_MSSQL_Parallel12_DataDriven_filename -|- INFORMATION -|- tpch_test.dbo.orders -|- Completed DataDriven Load sub-process 4 for filename = D:\\tpchgen-cli\\sf100\\orders\\orders.13.parquet : 7499946 rows x 9 columns in 49647 ms\n",
      "2025-09-01T22:48:35.273 +02:00 -|- FastTransfer -|- PARQUET_To_MSSQL_Parallel12_DataDriven_filename -|- INFORMATION -|- tpch_test.dbo.orders -|- Start Loading Data using distribution method DataDriven\n",
      "2025-09-01T22:48:35.274 +02:00 -|- FastTransfer -|- PARQUET_To_MSSQL_Parallel12_DataDriven_filename -|- INFORMATION -|- tpch_test.dbo.orders -|- Table \"dbo\".\"orders\" has a Clustered Index. BulkCopy will use KeepNulls and UseInternalTransaction and avoid Tablock\n",
      "2025-09-01T22:48:35.274 +02:00 -|- FastTransfer -|- PARQUET_To_MSSQL_Parallel12_DataDriven_filename -|- INFORMATION -|- tpch_test.dbo.orders -|- BulkCopy to \"dbo\".\"orders\" with BatchSize = 1048576, Timeout = 3600\n",
      "2025-09-01T22:48:35.452 +02:00 -|- FastTransfer -|- PARQUET_To_MSSQL_Parallel12_DataDriven_filename -|- WARNING -|- tpch_test.dbo.orders -|- Only 9 out of 10 columns were mapped by name to the target table \"dbo\".\"orders\"\n",
      "2025-09-01T22:48:35.922 +02:00 -|- FastTransfer -|- PARQUET_To_MSSQL_Parallel12_DataDriven_filename -|- INFORMATION -|- tpch_test.dbo.orders -|- Completed DataDriven Load sub-process 5 for filename = D:\\tpchgen-cli\\sf100\\orders\\orders.14.parquet : 7499946 rows x 9 columns in 50328 ms\n",
      "2025-09-01T22:48:35.956 +02:00 -|- FastTransfer -|- PARQUET_To_MSSQL_Parallel12_DataDriven_filename -|- INFORMATION -|- tpch_test.dbo.orders -|- Start Loading Data using distribution method DataDriven\n",
      "2025-09-01T22:48:35.957 +02:00 -|- FastTransfer -|- PARQUET_To_MSSQL_Parallel12_DataDriven_filename -|- INFORMATION -|- tpch_test.dbo.orders -|- Table \"dbo\".\"orders\" has a Clustered Index. BulkCopy will use KeepNulls and UseInternalTransaction and avoid Tablock\n",
      "2025-09-01T22:48:35.957 +02:00 -|- FastTransfer -|- PARQUET_To_MSSQL_Parallel12_DataDriven_filename -|- INFORMATION -|- tpch_test.dbo.orders -|- BulkCopy to \"dbo\".\"orders\" with BatchSize = 1048576, Timeout = 3600\n",
      "2025-09-01T22:48:36.154 +02:00 -|- FastTransfer -|- PARQUET_To_MSSQL_Parallel12_DataDriven_filename -|- WARNING -|- tpch_test.dbo.orders -|- Only 9 out of 10 columns were mapped by name to the target table \"dbo\".\"orders\"\n",
      "2025-09-01T22:48:36.209 +02:00 -|- FastTransfer -|- PARQUET_To_MSSQL_Parallel12_DataDriven_filename -|- INFORMATION -|- tpch_test.dbo.orders -|- Completed DataDriven Load sub-process 8 for filename = D:\\tpchgen-cli\\sf100\\orders\\orders.17.parquet : 7499946 rows x 9 columns in 50614 ms\n",
      "2025-09-01T22:49:06.822 +02:00 -|- FastTransfer -|- PARQUET_To_MSSQL_Parallel12_DataDriven_filename -|- INFORMATION -|- tpch_test.dbo.orders -|- Completed DataDriven Load sub-process 19 for filename = D:\\tpchgen-cli\\sf100\\orders\\orders.9.parquet : 7499946 rows x 9 columns in 38031 ms\n",
      "2025-09-01T22:49:08.088 +02:00 -|- FastTransfer -|- PARQUET_To_MSSQL_Parallel12_DataDriven_filename -|- INFORMATION -|- tpch_test.dbo.orders -|- Completed DataDriven Load sub-process 12 for filename = D:\\tpchgen-cli\\sf100\\orders\\orders.20.parquet : 7501026 rows x 9 columns in 39219 ms\n",
      "2025-09-01T22:49:10.985 +02:00 -|- FastTransfer -|- PARQUET_To_MSSQL_Parallel12_DataDriven_filename -|- INFORMATION -|- tpch_test.dbo.orders -|- Completed DataDriven Load sub-process 15 for filename = D:\\tpchgen-cli\\sf100\\orders\\orders.5.parquet : 7499946 rows x 9 columns in 37919 ms\n",
      "2025-09-01T22:49:11.114 +02:00 -|- FastTransfer -|- PARQUET_To_MSSQL_Parallel12_DataDriven_filename -|- INFORMATION -|- tpch_test.dbo.orders -|- Completed DataDriven Load sub-process 14 for filename = D:\\tpchgen-cli\\sf100\\orders\\orders.4.parquet : 7499946 rows x 9 columns in 38496 ms\n",
      "2025-09-01T22:49:12.033 +02:00 -|- FastTransfer -|- PARQUET_To_MSSQL_Parallel12_DataDriven_filename -|- INFORMATION -|- tpch_test.dbo.orders -|- Completed DataDriven Load sub-process 13 for filename = D:\\tpchgen-cli\\sf100\\orders\\orders.3.parquet : 7499946 rows x 9 columns in 38944 ms\n",
      "2025-09-01T22:49:12.375 +02:00 -|- FastTransfer -|- PARQUET_To_MSSQL_Parallel12_DataDriven_filename -|- INFORMATION -|- tpch_test.dbo.orders -|- Completed DataDriven Load sub-process 18 for filename = D:\\tpchgen-cli\\sf100\\orders\\orders.8.parquet : 7499946 rows x 9 columns in 38634 ms\n",
      "2025-09-01T22:49:12.516 +02:00 -|- FastTransfer -|- PARQUET_To_MSSQL_Parallel12_DataDriven_filename -|- INFORMATION -|- tpch_test.dbo.orders -|- Completed DataDriven Load sub-process 16 for filename = D:\\tpchgen-cli\\sf100\\orders\\orders.6.parquet : 7499946 rows x 9 columns in 37274 ms\n",
      "2025-09-01T22:49:13.831 +02:00 -|- FastTransfer -|- PARQUET_To_MSSQL_Parallel12_DataDriven_filename -|- INFORMATION -|- tpch_test.dbo.orders -|- Completed DataDriven Load sub-process 17 for filename = D:\\tpchgen-cli\\sf100\\orders\\orders.7.parquet : 7499946 rows x 9 columns in 37909 ms\n",
      "2025-09-01T22:49:13.832 +02:00 -|- FastTransfer -|- PARQUET_To_MSSQL_Parallel12_DataDriven_filename -|- INFORMATION -|- tpch_test.dbo.orders -|- Total rows : 150000000\n",
      "2025-09-01T22:49:13.832 +02:00 -|- FastTransfer -|- PARQUET_To_MSSQL_Parallel12_DataDriven_filename -|- INFORMATION -|- tpch_test.dbo.orders -|- Total columns : 9\n",
      "2025-09-01T22:49:13.832 +02:00 -|- FastTransfer -|- PARQUET_To_MSSQL_Parallel12_DataDriven_filename -|- INFORMATION -|- tpch_test.dbo.orders -|- Total cells : 1350000000\n",
      "2025-09-01T22:49:13.832 +02:00 -|- FastTransfer -|- PARQUET_To_MSSQL_Parallel12_DataDriven_filename -|- INFORMATION -|- tpch_test.dbo.orders -|- Rows Throughput : 1699607 rows/s\n",
      "2025-09-01T22:49:13.832 +02:00 -|- FastTransfer -|- PARQUET_To_MSSQL_Parallel12_DataDriven_filename -|- INFORMATION -|- tpch_test.dbo.orders -|- Cells Throughput : 15296471 cells/s\n",
      "2025-09-01T22:49:13.832 +02:00 -|- FastTransfer -|- PARQUET_To_MSSQL_Parallel12_DataDriven_filename -|- INFORMATION -|- tpch_test.dbo.orders -|- Transfert time : Elapsed=88255 ms\n",
      "2025-09-01T22:49:13.832 +02:00 -|- FastTransfer -|- PARQUET_To_MSSQL_Parallel12_DataDriven_filename -|- INFORMATION -|- tpch_test.dbo.orders -|- Total time : Elapsed=88496 ms\n",
      "2025-09-01T22:49:13.832 +02:00 -|- FastTransfer -|- PARQUET_To_MSSQL_Parallel12_DataDriven_filename -|- INFORMATION -|- tpch_test.dbo.orders -|- Completed Load\n"
     ]
    }
   ],
   "source": [
    "cd D:\\FastTransfer\\\n",
    "\n",
    ".\\FastTransfer.exe `\n",
    "--sourceconnectiontype \"duckdbstream\" `\n",
    "--sourceserver \":memory:\" `\n",
    "--query \"SELECT * exclude filename FROM read_parquet('D:\\tpchgen-cli\\sf100\\*\\orders*.parquet', filename=true)\" `\n",
    "--targetconnectiontype \"msbulk\" `\n",
    "--targetserver \"localhost\\SS2025\" `\n",
    "--targettrusted `\n",
    "--targetdatabase \"tpch_test\" `\n",
    "--targetschema \"dbo\" `\n",
    "--targettable \"orders\" `\n",
    "--method \"DataDriven\" `\n",
    "--distributeKeyColumn \"filename\" `\n",
    "--datadrivenquery \"select file from glob('D:\\tpchgen-cli\\sf100\\*\\orders*.parquet')\" `\n",
    "--loadmode \"Truncate\" `\n",
    "--mapmethod \"Name\" `\n",
    "--degree 12 `\n",
    "--runid \"PARQUET_To_MSSQL_Parallel12_DataDriven_filename\""
   ]
  },
  {
   "cell_type": "markdown",
   "id": "6a160b8a",
   "metadata": {},
   "source": [
    "This is generally the fastest import format. To Generate parquet file from databases you can try [FastBCP](https://www.arpe.io/fastbcp/)"
   ]
  }
 ],
 "metadata": {
  "kernelspec": {
   "display_name": ".NET (C#)",
   "language": "C#",
   "name": ".net-csharp"
  },
  "language_info": {
   "name": "polyglot-notebook"
  },
  "polyglot_notebook": {
   "kernelInfo": {
    "defaultKernelName": "csharp",
    "items": [
     {
      "aliases": [],
      "name": "csharp"
     },
     {
      "aliases": [],
      "languageName": "T-SQL",
      "name": "sql-SS2022-FastWrappers-TSQL-DB"
     }
    ]
   }
  }
 },
 "nbformat": 4,
 "nbformat_minor": 5
}
