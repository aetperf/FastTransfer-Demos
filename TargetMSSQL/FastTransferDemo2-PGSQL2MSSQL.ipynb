{
 "cells": [
  {
   "cell_type": "markdown",
   "id": "ed7e8fc1",
   "metadata": {
    "polyglot_notebook": {
     "kernelName": "pwsh"
    }
   },
   "source": [
    "```\n",
    "███████  █████  ███████ ████████ ████████ ██████   █████  ███    ██ ███████ ███████ ███████ ██████  \n",
    "██      ██   ██ ██         ██       ██    ██   ██ ██   ██ ████   ██ ██      ██      ██      ██   ██ \n",
    "█████   ███████ ███████    ██       ██    ██████  ███████ ██ ██  ██ ███████ █████   █████   ██████  \n",
    "██      ██   ██      ██    ██       ██    ██   ██ ██   ██ ██  ██ ██      ██ ██      ██      ██   ██ \n",
    "██      ██   ██ ███████    ██       ██    ██   ██ ██   ██ ██   ████ ███████ ██      ███████ ██   ██ "
   ]
  },
  {
   "cell_type": "markdown",
   "id": "b5a1077a",
   "metadata": {},
   "source": [
    "# Demo 2 - Source PGSQL16 - Target MSSQL 2025"
   ]
  },
  {
   "cell_type": "code",
   "execution_count": 9,
   "id": "f79f5dc1",
   "metadata": {
    "polyglot_notebook": {
     "kernelName": "csharp"
    }
   },
   "outputs": [
    {
     "data": {
      "text/html": [
       "<div><div></div><div></div><div><strong>Installed Packages</strong><ul><li><span>Microsoft.DotNet.Interactive.SqlServer, 1.0.0-beta.25177.1</span></li></ul></div></div>"
      ]
     },
     "metadata": {},
     "output_type": "display_data"
    },
    {
     "data": {
      "text/plain": [
       "Loading extension script from `C:\\Users\\romai\\.nuget\\packages\\microsoft.dotnet.interactive.sqlserver\\1.0.0-beta.25177.1\\interactive-extensions\\dotnet\\extension.dib`"
      ]
     },
     "metadata": {},
     "output_type": "display_data"
    },
    {
     "data": {
      "text/html": [
       "<details><summary>Query Microsoft SQL Server databases.</summary>\r\n",
       "<p>This extension adds support for connecting to Microsoft SQL Server databases using the <code>#!connect mssql</code> magic command. For more information, run a cell using the <code>#!sql</code> magic command.</p>\r\n",
       "</details>"
      ]
     },
     "metadata": {},
     "output_type": "display_data"
    }
   ],
   "source": [
    "#r \"nuget:Microsoft.DotNet.Interactive.SqlServer, *-*\""
   ]
  },
  {
   "cell_type": "markdown",
   "id": "8486177e",
   "metadata": {},
   "source": [
    "## Working on TPCH SF10 ORDERS (15M rows)"
   ]
  },
  {
   "cell_type": "markdown",
   "id": "c2950409",
   "metadata": {},
   "source": [
    "### PGSQL 16 to MSSQL 2025 Instance"
   ]
  },
  {
   "cell_type": "code",
   "execution_count": 10,
   "id": "a6099083",
   "metadata": {
    "polyglot_notebook": {
     "kernelName": "csharp"
    }
   },
   "outputs": [
    {
     "data": {
      "text/plain": [
       "Kernel added: #!sql-SS2025_tpch_test"
      ]
     },
     "metadata": {},
     "output_type": "display_data"
    }
   ],
   "source": [
    "#!connect mssql --kernel-name SS2025_tpch_test --connection-string \"Data Source=localhost\\SS2025;Initial Catalog=tpch_test;Integrated Security=True;Connect Timeout=120;Encrypt=True;Trust Server Certificate=True;Application Name=NoteBook;Application Intent=ReadWrite;Command Timeout=10800\""
   ]
  },
  {
   "cell_type": "markdown",
   "id": "9838fd82",
   "metadata": {},
   "source": [
    "#### Target orders_3 with a clustered ColumnStoreIndex"
   ]
  },
  {
   "cell_type": "code",
   "execution_count": 13,
   "id": "d1094a0b",
   "metadata": {
    "polyglot_notebook": {
     "kernelName": "sql-SS2025_tpch_test"
    }
   },
   "outputs": [
    {
     "data": {
      "text/plain": [
       "(1 ligne affectée)"
      ]
     },
     "metadata": {},
     "output_type": "display_data"
    },
    {
     "data": {
      "text/csv": [
       "count_target_table_rows\r\n",
       "0\r\n"
      ],
      "text/html": [
       "<table><thead><tr><td><span>count_target_table_rows</span></td></tr></thead><tbody><tr><td><div class=\"dni-plaintext\"><pre>0</pre></div></td></tr></tbody></table><style>\r\n",
       ".dni-code-hint {\r\n",
       "    font-style: italic;\r\n",
       "    overflow: hidden;\r\n",
       "    white-space: nowrap;\r\n",
       "}\r\n",
       ".dni-treeview {\r\n",
       "    white-space: nowrap;\r\n",
       "}\r\n",
       ".dni-treeview td {\r\n",
       "    vertical-align: top;\r\n",
       "    text-align: start;\r\n",
       "}\r\n",
       "details.dni-treeview {\r\n",
       "    padding-left: 1em;\r\n",
       "}\r\n",
       "table td {\r\n",
       "    text-align: start;\r\n",
       "}\r\n",
       "table tr { \r\n",
       "    vertical-align: top; \r\n",
       "    margin: 0em 0px;\r\n",
       "}\r\n",
       "table tr td pre \r\n",
       "{ \r\n",
       "    vertical-align: top !important; \r\n",
       "    margin: 0em 0px !important;\r\n",
       "} \r\n",
       "table th {\r\n",
       "    text-align: start;\r\n",
       "}\r\n",
       "</style>"
      ]
     },
     "metadata": {},
     "output_type": "display_data"
    }
   ],
   "source": [
    "TRUNCATE TABLE orders_3;\n",
    "SELECT count(*) count_target_table_rows from orders_3;"
   ]
  },
  {
   "cell_type": "code",
   "execution_count": 26,
   "id": "6f2f4100",
   "metadata": {
    "polyglot_notebook": {
     "kernelName": "pwsh"
    }
   },
   "outputs": [
    {
     "name": "stdout",
     "output_type": "stream",
     "text": [
      "2025-06-14T01:05:00.283 +02:00 -|- FastTransfer -|- PG16_to_MSS25 -|- INFORMATION -|- tpch_test.dbo.orders_3 -|- Starting\n",
      "2025-06-14T01:05:00.292 +02:00 -|- FastTransfer -|- PG16_to_MSS25 -|- INFORMATION -|- tpch_test.dbo.orders_3 -|- FastTransfer Version : 0.13.4.0 Architecture : X64 - Framework : .NET 8.0.15\n",
      "2025-06-14T01:05:00.293 +02:00 -|- FastTransfer -|- PG16_to_MSS25 -|- INFORMATION -|- tpch_test.dbo.orders_3 -|- OS : Microsoft Windows 10.0.26100\n",
      "2025-06-14T01:05:00.293 +02:00 -|- FastTransfer -|- PG16_to_MSS25 -|- INFORMATION -|- tpch_test.dbo.orders_3 -|- Process ID : 38744\n",
      "2025-06-14T01:05:00.293 +02:00 -|- FastTransfer -|- PG16_to_MSS25 -|- INFORMATION -|- tpch_test.dbo.orders_3 -|- Provided Run ID : PG16_to_MSS25\n",
      "2025-06-14T01:05:00.293 +02:00 -|- FastTransfer -|- PG16_to_MSS25 -|- INFORMATION -|- tpch_test.dbo.orders_3 -|- Source Connection Type : pgsql\n",
      "2025-06-14T01:05:00.293 +02:00 -|- FastTransfer -|- PG16_to_MSS25 -|- INFORMATION -|- tpch_test.dbo.orders_3 -|- Source SqlInstance : localhost:15432\n",
      "2025-06-14T01:05:00.293 +02:00 -|- FastTransfer -|- PG16_to_MSS25 -|- INFORMATION -|- tpch_test.dbo.orders_3 -|- Source Database : tpch\n",
      "2025-06-14T01:05:00.293 +02:00 -|- FastTransfer -|- PG16_to_MSS25 -|- INFORMATION -|- tpch_test.dbo.orders_3 -|- Source Trusted Connection : False\n",
      "2025-06-14T01:05:00.293 +02:00 -|- FastTransfer -|- PG16_to_MSS25 -|- INFORMATION -|- tpch_test.dbo.orders_3 -|- Source User : FastUser\n",
      "2025-06-14T01:05:00.293 +02:00 -|- FastTransfer -|- PG16_to_MSS25 -|- INFORMATION -|- tpch_test.dbo.orders_3 -|- Source Schema : tpch_10\n",
      "2025-06-14T01:05:00.293 +02:00 -|- FastTransfer -|- PG16_to_MSS25 -|- INFORMATION -|- tpch_test.dbo.orders_3 -|- Source Table : orders\n",
      "2025-06-14T01:05:00.293 +02:00 -|- FastTransfer -|- PG16_to_MSS25 -|- INFORMATION -|- tpch_test.dbo.orders_3 -|- Target Type : msbulk\n",
      "2025-06-14T01:05:00.293 +02:00 -|- FastTransfer -|- PG16_to_MSS25 -|- INFORMATION -|- tpch_test.dbo.orders_3 -|- Target Server : localhost\\SS2025\n",
      "2025-06-14T01:05:00.293 +02:00 -|- FastTransfer -|- PG16_to_MSS25 -|- INFORMATION -|- tpch_test.dbo.orders_3 -|- Target Database : tpch_test\n",
      "2025-06-14T01:05:00.293 +02:00 -|- FastTransfer -|- PG16_to_MSS25 -|- INFORMATION -|- tpch_test.dbo.orders_3 -|- Target Schema : dbo\n",
      "2025-06-14T01:05:00.293 +02:00 -|- FastTransfer -|- PG16_to_MSS25 -|- INFORMATION -|- tpch_test.dbo.orders_3 -|- Target Table : orders_3\n",
      "2025-06-14T01:05:00.293 +02:00 -|- FastTransfer -|- PG16_to_MSS25 -|- INFORMATION -|- tpch_test.dbo.orders_3 -|- Target Trusted Connection : True\n",
      "2025-06-14T01:05:00.293 +02:00 -|- FastTransfer -|- PG16_to_MSS25 -|- INFORMATION -|- tpch_test.dbo.orders_3 -|- Columns Map Method : Name\n",
      "2025-06-14T01:05:00.293 +02:00 -|- FastTransfer -|- PG16_to_MSS25 -|- INFORMATION -|- tpch_test.dbo.orders_3 -|- Degree : -2\n",
      "2025-06-14T01:05:00.293 +02:00 -|- FastTransfer -|- PG16_to_MSS25 -|- INFORMATION -|- tpch_test.dbo.orders_3 -|- Distribute Method : Ntile\n",
      "2025-06-14T01:05:00.293 +02:00 -|- FastTransfer -|- PG16_to_MSS25 -|- INFORMATION -|- tpch_test.dbo.orders_3 -|- Distribute Column : o_orderkey\n",
      "2025-06-14T01:05:00.293 +02:00 -|- FastTransfer -|- PG16_to_MSS25 -|- INFORMATION -|- tpch_test.dbo.orders_3 -|- Bulkcopy Batch Size : 1048576\n",
      "2025-06-14T01:05:00.293 +02:00 -|- FastTransfer -|- PG16_to_MSS25 -|- INFORMATION -|- tpch_test.dbo.orders_3 -|- Load Mode : Truncate\n",
      "2025-06-14T01:05:00.293 +02:00 -|- FastTransfer -|- PG16_to_MSS25 -|- INFORMATION -|- tpch_test.dbo.orders_3 -|- Use Work Tables : False\n",
      "2025-06-14T01:05:00.294 +02:00 -|- FastTransfer -|- PG16_to_MSS25 -|- INFORMATION -|- tpch_test.dbo.orders_3 -|- Encoding used : Unicode (UTF-8) - 65001 - utf-8\n",
      "2025-06-14T01:05:00.351 +02:00 -|- FastTransfer -|- PG16_to_MSS25 -|- INFORMATION -|- tpch_test.dbo.orders_3 -|- Source Connection String : Host=localhost;Port=15432;Database=tpch;Trust Server Certificate=True;Application Name=FastTransfer;Timeout=15;Command Timeout=10800;Username=FastUser;Password=xxxxx\n",
      "2025-06-14T01:05:00.351 +02:00 -|- FastTransfer -|- PG16_to_MSS25 -|- INFORMATION -|- tpch_test.dbo.orders_3 -|- Target Connection String : Data Source=localhost\\SS2025;Initial Catalog=tpch_test;Integrated Security=True;Connect Timeout=120;Encrypt=True;Trust Server Certificate=True;Application Name=FastTransfer;Application Intent=ReadWrite;Command Timeout=10800\n",
      "2025-06-14T01:05:00.351 +02:00 -|- FastTransfer -|- PG16_to_MSS25 -|- INFORMATION -|- tpch_test.dbo.orders_3 -|- Source Database Version : PostgreSQL 16.1, compiled by Visual C++ build 1937, 64-bit\n",
      "2025-06-14T01:05:00.351 +02:00 -|- FastTransfer -|- PG16_to_MSS25 -|- INFORMATION -|- tpch_test.dbo.orders_3 -|- Target Database Version : Microsoft SQL Server 2025 (CTP2.0) - 17.0.700.9 (X64)  \tMay  8 2025 19:14:27  \tCopyright (C) 2025 Microsoft Corporation \tEnterprise Developer Edition (64-bit) on Windows 10 Pro 10.0 <X64> (Build 26100: ) (Hypervisor) \n",
      "2025-06-14T01:05:00.358 +02:00 -|- FastTransfer -|- PG16_to_MSS25 -|- INFORMATION -|- tpch_test.dbo.orders_3 -|- Degree of parallelism was computed to 16 (=> 32\\2)\n",
      "2025-06-14T01:05:06.518 +02:00 -|- FastTransfer -|- PG16_to_MSS25 -|- INFORMATION -|- tpch_test.dbo.orders_3 -|- Ntile DataSegments Computation Completed in 6159 ms\n",
      "2025-06-14T01:05:06.521 +02:00 -|- FastTransfer -|- PG16_to_MSS25 -|- INFORMATION -|- tpch_test.dbo.orders_3 -|- Start Loading Data using distribution method NTile\n",
      "2025-06-14T01:05:06.522 +02:00 -|- FastTransfer -|- PG16_to_MSS25 -|- INFORMATION -|- tpch_test.dbo.orders_3 -|- Table \"dbo\".\"orders_3\" has a Clustered Index. BulkCopy will use KeepNulls and UseInternalTransaction and avoid Tablock\n",
      "2025-06-14T01:05:06.523 +02:00 -|- FastTransfer -|- PG16_to_MSS25 -|- INFORMATION -|- tpch_test.dbo.orders_3 -|- BulkCopy to \"dbo\".\"orders_3\" with BatchSize = 1048576, Timeout = 3600\n",
      "2025-06-14T01:05:06.566 +02:00 -|- FastTransfer -|- PG16_to_MSS25 -|- WARNING -|- tpch_test.dbo.orders_3 -|- Only 9 out of 10 columns were mapped by name to the target table \"dbo\".\"orders_3\"\n",
      "2025-06-14T01:05:06.567 +02:00 -|- FastTransfer -|- PG16_to_MSS25 -|- INFORMATION -|- tpch_test.dbo.orders_3 -|- Start Loading Data using distribution method NTile\n",
      "2025-06-14T01:05:06.568 +02:00 -|- FastTransfer -|- PG16_to_MSS25 -|- INFORMATION -|- tpch_test.dbo.orders_3 -|- Table \"dbo\".\"orders_3\" has a Clustered Index. BulkCopy will use KeepNulls and UseInternalTransaction and avoid Tablock\n",
      "2025-06-14T01:05:06.568 +02:00 -|- FastTransfer -|- PG16_to_MSS25 -|- INFORMATION -|- tpch_test.dbo.orders_3 -|- BulkCopy to \"dbo\".\"orders_3\" with BatchSize = 1048576, Timeout = 3600\n",
      "2025-06-14T01:05:06.571 +02:00 -|- FastTransfer -|- PG16_to_MSS25 -|- INFORMATION -|- tpch_test.dbo.orders_3 -|- Start Loading Data using distribution method NTile\n",
      "2025-06-14T01:05:06.571 +02:00 -|- FastTransfer -|- PG16_to_MSS25 -|- INFORMATION -|- tpch_test.dbo.orders_3 -|- Table \"dbo\".\"orders_3\" has a Clustered Index. BulkCopy will use KeepNulls and UseInternalTransaction and avoid Tablock\n",
      "2025-06-14T01:05:06.571 +02:00 -|- FastTransfer -|- PG16_to_MSS25 -|- INFORMATION -|- tpch_test.dbo.orders_3 -|- BulkCopy to \"dbo\".\"orders_3\" with BatchSize = 1048576, Timeout = 3600\n",
      "2025-06-14T01:05:06.574 +02:00 -|- FastTransfer -|- PG16_to_MSS25 -|- INFORMATION -|- tpch_test.dbo.orders_3 -|- Start Loading Data using distribution method NTile\n",
      "2025-06-14T01:05:06.575 +02:00 -|- FastTransfer -|- PG16_to_MSS25 -|- INFORMATION -|- tpch_test.dbo.orders_3 -|- Table \"dbo\".\"orders_3\" has a Clustered Index. BulkCopy will use KeepNulls and UseInternalTransaction and avoid Tablock\n",
      "2025-06-14T01:05:06.575 +02:00 -|- FastTransfer -|- PG16_to_MSS25 -|- INFORMATION -|- tpch_test.dbo.orders_3 -|- BulkCopy to \"dbo\".\"orders_3\" with BatchSize = 1048576, Timeout = 3600\n",
      "2025-06-14T01:05:06.579 +02:00 -|- FastTransfer -|- PG16_to_MSS25 -|- INFORMATION -|- tpch_test.dbo.orders_3 -|- Start Loading Data using distribution method NTile\n",
      "2025-06-14T01:05:06.579 +02:00 -|- FastTransfer -|- PG16_to_MSS25 -|- INFORMATION -|- tpch_test.dbo.orders_3 -|- Table \"dbo\".\"orders_3\" has a Clustered Index. BulkCopy will use KeepNulls and UseInternalTransaction and avoid Tablock\n",
      "2025-06-14T01:05:06.579 +02:00 -|- FastTransfer -|- PG16_to_MSS25 -|- INFORMATION -|- tpch_test.dbo.orders_3 -|- BulkCopy to \"dbo\".\"orders_3\" with BatchSize = 1048576, Timeout = 3600\n",
      "2025-06-14T01:05:06.583 +02:00 -|- FastTransfer -|- PG16_to_MSS25 -|- INFORMATION -|- tpch_test.dbo.orders_3 -|- Start Loading Data using distribution method NTile\n",
      "2025-06-14T01:05:06.583 +02:00 -|- FastTransfer -|- PG16_to_MSS25 -|- INFORMATION -|- tpch_test.dbo.orders_3 -|- Table \"dbo\".\"orders_3\" has a Clustered Index. BulkCopy will use KeepNulls and UseInternalTransaction and avoid Tablock\n",
      "2025-06-14T01:05:06.583 +02:00 -|- FastTransfer -|- PG16_to_MSS25 -|- INFORMATION -|- tpch_test.dbo.orders_3 -|- BulkCopy to \"dbo\".\"orders_3\" with BatchSize = 1048576, Timeout = 3600\n",
      "2025-06-14T01:05:06.586 +02:00 -|- FastTransfer -|- PG16_to_MSS25 -|- INFORMATION -|- tpch_test.dbo.orders_3 -|- Start Loading Data using distribution method NTile\n",
      "2025-06-14T01:05:06.587 +02:00 -|- FastTransfer -|- PG16_to_MSS25 -|- INFORMATION -|- tpch_test.dbo.orders_3 -|- Table \"dbo\".\"orders_3\" has a Clustered Index. BulkCopy will use KeepNulls and UseInternalTransaction and avoid Tablock\n",
      "2025-06-14T01:05:06.587 +02:00 -|- FastTransfer -|- PG16_to_MSS25 -|- INFORMATION -|- tpch_test.dbo.orders_3 -|- BulkCopy to \"dbo\".\"orders_3\" with BatchSize = 1048576, Timeout = 3600\n",
      "2025-06-14T01:05:06.591 +02:00 -|- FastTransfer -|- PG16_to_MSS25 -|- INFORMATION -|- tpch_test.dbo.orders_3 -|- Start Loading Data using distribution method NTile\n",
      "2025-06-14T01:05:06.592 +02:00 -|- FastTransfer -|- PG16_to_MSS25 -|- INFORMATION -|- tpch_test.dbo.orders_3 -|- Table \"dbo\".\"orders_3\" has a Clustered Index. BulkCopy will use KeepNulls and UseInternalTransaction and avoid Tablock\n",
      "2025-06-14T01:05:06.592 +02:00 -|- FastTransfer -|- PG16_to_MSS25 -|- INFORMATION -|- tpch_test.dbo.orders_3 -|- BulkCopy to \"dbo\".\"orders_3\" with BatchSize = 1048576, Timeout = 3600\n",
      "2025-06-14T01:05:06.595 +02:00 -|- FastTransfer -|- PG16_to_MSS25 -|- INFORMATION -|- tpch_test.dbo.orders_3 -|- Start Loading Data using distribution method NTile\n",
      "2025-06-14T01:05:06.596 +02:00 -|- FastTransfer -|- PG16_to_MSS25 -|- INFORMATION -|- tpch_test.dbo.orders_3 -|- Table \"dbo\".\"orders_3\" has a Clustered Index. BulkCopy will use KeepNulls and UseInternalTransaction and avoid Tablock\n",
      "2025-06-14T01:05:06.596 +02:00 -|- FastTransfer -|- PG16_to_MSS25 -|- INFORMATION -|- tpch_test.dbo.orders_3 -|- BulkCopy to \"dbo\".\"orders_3\" with BatchSize = 1048576, Timeout = 3600\n",
      "2025-06-14T01:05:06.600 +02:00 -|- FastTransfer -|- PG16_to_MSS25 -|- INFORMATION -|- tpch_test.dbo.orders_3 -|- Start Loading Data using distribution method NTile\n",
      "2025-06-14T01:05:06.600 +02:00 -|- FastTransfer -|- PG16_to_MSS25 -|- INFORMATION -|- tpch_test.dbo.orders_3 -|- Table \"dbo\".\"orders_3\" has a Clustered Index. BulkCopy will use KeepNulls and UseInternalTransaction and avoid Tablock\n",
      "2025-06-14T01:05:06.600 +02:00 -|- FastTransfer -|- PG16_to_MSS25 -|- INFORMATION -|- tpch_test.dbo.orders_3 -|- BulkCopy to \"dbo\".\"orders_3\" with BatchSize = 1048576, Timeout = 3600\n",
      "2025-06-14T01:05:06.604 +02:00 -|- FastTransfer -|- PG16_to_MSS25 -|- INFORMATION -|- tpch_test.dbo.orders_3 -|- Start Loading Data using distribution method NTile\n",
      "2025-06-14T01:05:06.605 +02:00 -|- FastTransfer -|- PG16_to_MSS25 -|- INFORMATION -|- tpch_test.dbo.orders_3 -|- Table \"dbo\".\"orders_3\" has a Clustered Index. BulkCopy will use KeepNulls and UseInternalTransaction and avoid Tablock\n",
      "2025-06-14T01:05:06.605 +02:00 -|- FastTransfer -|- PG16_to_MSS25 -|- INFORMATION -|- tpch_test.dbo.orders_3 -|- BulkCopy to \"dbo\".\"orders_3\" with BatchSize = 1048576, Timeout = 3600\n",
      "2025-06-14T01:05:06.607 +02:00 -|- FastTransfer -|- PG16_to_MSS25 -|- INFORMATION -|- tpch_test.dbo.orders_3 -|- Start Loading Data using distribution method NTile\n",
      "2025-06-14T01:05:06.608 +02:00 -|- FastTransfer -|- PG16_to_MSS25 -|- INFORMATION -|- tpch_test.dbo.orders_3 -|- Table \"dbo\".\"orders_3\" has a Clustered Index. BulkCopy will use KeepNulls and UseInternalTransaction and avoid Tablock\n",
      "2025-06-14T01:05:06.608 +02:00 -|- FastTransfer -|- PG16_to_MSS25 -|- INFORMATION -|- tpch_test.dbo.orders_3 -|- BulkCopy to \"dbo\".\"orders_3\" with BatchSize = 1048576, Timeout = 3600\n",
      "2025-06-14T01:05:06.610 +02:00 -|- FastTransfer -|- PG16_to_MSS25 -|- INFORMATION -|- tpch_test.dbo.orders_3 -|- Start Loading Data using distribution method NTile\n",
      "2025-06-14T01:05:06.611 +02:00 -|- FastTransfer -|- PG16_to_MSS25 -|- INFORMATION -|- tpch_test.dbo.orders_3 -|- Table \"dbo\".\"orders_3\" has a Clustered Index. BulkCopy will use KeepNulls and UseInternalTransaction and avoid Tablock\n",
      "2025-06-14T01:05:06.611 +02:00 -|- FastTransfer -|- PG16_to_MSS25 -|- INFORMATION -|- tpch_test.dbo.orders_3 -|- BulkCopy to \"dbo\".\"orders_3\" with BatchSize = 1048576, Timeout = 3600\n",
      "2025-06-14T01:05:06.614 +02:00 -|- FastTransfer -|- PG16_to_MSS25 -|- INFORMATION -|- tpch_test.dbo.orders_3 -|- Start Loading Data using distribution method NTile\n",
      "2025-06-14T01:05:06.615 +02:00 -|- FastTransfer -|- PG16_to_MSS25 -|- INFORMATION -|- tpch_test.dbo.orders_3 -|- Table \"dbo\".\"orders_3\" has a Clustered Index. BulkCopy will use KeepNulls and UseInternalTransaction and avoid Tablock\n",
      "2025-06-14T01:05:06.615 +02:00 -|- FastTransfer -|- PG16_to_MSS25 -|- INFORMATION -|- tpch_test.dbo.orders_3 -|- BulkCopy to \"dbo\".\"orders_3\" with BatchSize = 1048576, Timeout = 3600\n",
      "2025-06-14T01:05:06.618 +02:00 -|- FastTransfer -|- PG16_to_MSS25 -|- INFORMATION -|- tpch_test.dbo.orders_3 -|- Start Loading Data using distribution method NTile\n",
      "2025-06-14T01:05:06.618 +02:00 -|- FastTransfer -|- PG16_to_MSS25 -|- INFORMATION -|- tpch_test.dbo.orders_3 -|- Table \"dbo\".\"orders_3\" has a Clustered Index. BulkCopy will use KeepNulls and UseInternalTransaction and avoid Tablock\n",
      "2025-06-14T01:05:06.618 +02:00 -|- FastTransfer -|- PG16_to_MSS25 -|- INFORMATION -|- tpch_test.dbo.orders_3 -|- BulkCopy to \"dbo\".\"orders_3\" with BatchSize = 1048576, Timeout = 3600\n",
      "2025-06-14T01:05:06.621 +02:00 -|- FastTransfer -|- PG16_to_MSS25 -|- INFORMATION -|- tpch_test.dbo.orders_3 -|- Start Loading Data using distribution method NTile\n",
      "2025-06-14T01:05:06.622 +02:00 -|- FastTransfer -|- PG16_to_MSS25 -|- INFORMATION -|- tpch_test.dbo.orders_3 -|- Table \"dbo\".\"orders_3\" has a Clustered Index. BulkCopy will use KeepNulls and UseInternalTransaction and avoid Tablock\n",
      "2025-06-14T01:05:06.622 +02:00 -|- FastTransfer -|- PG16_to_MSS25 -|- INFORMATION -|- tpch_test.dbo.orders_3 -|- BulkCopy to \"dbo\".\"orders_3\" with BatchSize = 1048576, Timeout = 3600\n",
      "2025-06-14T01:05:06.631 +02:00 -|- FastTransfer -|- PG16_to_MSS25 -|- WARNING -|- tpch_test.dbo.orders_3 -|- Only 9 out of 10 columns were mapped by name to the target table \"dbo\".\"orders_3\"\n",
      "2025-06-14T01:05:06.638 +02:00 -|- FastTransfer -|- PG16_to_MSS25 -|- WARNING -|- tpch_test.dbo.orders_3 -|- Only 9 out of 10 columns were mapped by name to the target table \"dbo\".\"orders_3\"\n",
      "2025-06-14T01:05:06.638 +02:00 -|- FastTransfer -|- PG16_to_MSS25 -|- WARNING -|- tpch_test.dbo.orders_3 -|- Only 9 out of 10 columns were mapped by name to the target table \"dbo\".\"orders_3\"\n",
      "2025-06-14T01:05:06.639 +02:00 -|- FastTransfer -|- PG16_to_MSS25 -|- WARNING -|- tpch_test.dbo.orders_3 -|- Only 9 out of 10 columns were mapped by name to the target table \"dbo\".\"orders_3\"\n",
      "2025-06-14T01:05:06.648 +02:00 -|- FastTransfer -|- PG16_to_MSS25 -|- WARNING -|- tpch_test.dbo.orders_3 -|- Only 9 out of 10 columns were mapped by name to the target table \"dbo\".\"orders_3\"\n",
      "2025-06-14T01:05:06.649 +02:00 -|- FastTransfer -|- PG16_to_MSS25 -|- WARNING -|- tpch_test.dbo.orders_3 -|- Only 9 out of 10 columns were mapped by name to the target table \"dbo\".\"orders_3\"\n",
      "2025-06-14T01:05:06.657 +02:00 -|- FastTransfer -|- PG16_to_MSS25 -|- WARNING -|- tpch_test.dbo.orders_3 -|- Only 9 out of 10 columns were mapped by name to the target table \"dbo\".\"orders_3\"\n",
      "2025-06-14T01:05:06.663 +02:00 -|- FastTransfer -|- PG16_to_MSS25 -|- WARNING -|- tpch_test.dbo.orders_3 -|- Only 9 out of 10 columns were mapped by name to the target table \"dbo\".\"orders_3\"\n",
      "2025-06-14T01:05:06.667 +02:00 -|- FastTransfer -|- PG16_to_MSS25 -|- WARNING -|- tpch_test.dbo.orders_3 -|- Only 9 out of 10 columns were mapped by name to the target table \"dbo\".\"orders_3\"\n",
      "2025-06-14T01:05:06.670 +02:00 -|- FastTransfer -|- PG16_to_MSS25 -|- WARNING -|- tpch_test.dbo.orders_3 -|- Only 9 out of 10 columns were mapped by name to the target table \"dbo\".\"orders_3\"\n",
      "2025-06-14T01:05:06.676 +02:00 -|- FastTransfer -|- PG16_to_MSS25 -|- WARNING -|- tpch_test.dbo.orders_3 -|- Only 9 out of 10 columns were mapped by name to the target table \"dbo\".\"orders_3\"\n",
      "2025-06-14T01:05:06.683 +02:00 -|- FastTransfer -|- PG16_to_MSS25 -|- WARNING -|- tpch_test.dbo.orders_3 -|- Only 9 out of 10 columns were mapped by name to the target table \"dbo\".\"orders_3\"\n",
      "2025-06-14T01:05:06.683 +02:00 -|- FastTransfer -|- PG16_to_MSS25 -|- WARNING -|- tpch_test.dbo.orders_3 -|- Only 9 out of 10 columns were mapped by name to the target table \"dbo\".\"orders_3\"\n",
      "2025-06-14T01:05:06.683 +02:00 -|- FastTransfer -|- PG16_to_MSS25 -|- WARNING -|- tpch_test.dbo.orders_3 -|- Only 9 out of 10 columns were mapped by name to the target table \"dbo\".\"orders_3\"\n",
      "2025-06-14T01:05:06.684 +02:00 -|- FastTransfer -|- PG16_to_MSS25 -|- WARNING -|- tpch_test.dbo.orders_3 -|- Only 9 out of 10 columns were mapped by name to the target table \"dbo\".\"orders_3\"\n",
      "2025-06-14T01:05:12.189 +02:00 -|- FastTransfer -|- PG16_to_MSS25 -|- INFORMATION -|- tpch_test.dbo.orders_3 -|- Completed Load Query 0 for o_orderkey between 1 and 3749988 : 937500 rows x 9 columns in 5668ms\n",
      "2025-06-14T01:05:12.258 +02:00 -|- FastTransfer -|- PG16_to_MSS25 -|- INFORMATION -|- tpch_test.dbo.orders_3 -|- Completed Load Query 14 for o_orderkey between 52500038 and 56250050 : 937501 rows x 9 columns in 5735ms\n",
      "2025-06-14T01:05:12.273 +02:00 -|- FastTransfer -|- PG16_to_MSS25 -|- INFORMATION -|- tpch_test.dbo.orders_3 -|- Completed Load Query 3 for o_orderkey between 11249991 and 15000003 : 937501 rows x 9 columns in 5752ms\n",
      "2025-06-14T01:05:12.298 +02:00 -|- FastTransfer -|- PG16_to_MSS25 -|- INFORMATION -|- tpch_test.dbo.orders_3 -|- Completed Load Query 8 for o_orderkey between 30000032 and 33750020 : 937501 rows x 9 columns in 5777ms\n",
      "2025-06-14T01:05:12.322 +02:00 -|- FastTransfer -|- PG16_to_MSS25 -|- INFORMATION -|- tpch_test.dbo.orders_3 -|- Completed Load Query 6 for o_orderkey between 22500006 and 26250018 : 937501 rows x 9 columns in 5801ms\n",
      "2025-06-14T01:05:12.326 +02:00 -|- FastTransfer -|- PG16_to_MSS25 -|- INFORMATION -|- tpch_test.dbo.orders_3 -|- Completed Load Query 7 for o_orderkey between 26250019 and 30000007 : 937501 rows x 9 columns in 5805ms\n",
      "2025-06-14T01:05:12.376 +02:00 -|- FastTransfer -|- PG16_to_MSS25 -|- INFORMATION -|- tpch_test.dbo.orders_3 -|- Completed Load Query 11 for o_orderkey between 41250023 and 45000035 : 937501 rows x 9 columns in 5854ms\n",
      "2025-06-14T01:05:12.384 +02:00 -|- FastTransfer -|- PG16_to_MSS25 -|- INFORMATION -|- tpch_test.dbo.orders_3 -|- Completed Load Query 10 for o_orderkey between 37500034 and 41250022 : 937501 rows x 9 columns in 5863ms\n",
      "2025-06-14T01:05:12.429 +02:00 -|- FastTransfer -|- PG16_to_MSS25 -|- INFORMATION -|- tpch_test.dbo.orders_3 -|- Completed Load Query 15 for o_orderkey between 56250051 and 60000000 : 937486 rows x 9 columns in 5906ms\n",
      "2025-06-14T01:05:12.531 +02:00 -|- FastTransfer -|- PG16_to_MSS25 -|- INFORMATION -|- tpch_test.dbo.orders_3 -|- Completed Load Query 2 for o_orderkey between 7500002 and 11249990 : 937501 rows x 9 columns in 6010ms\n",
      "2025-06-14T01:05:12.547 +02:00 -|- FastTransfer -|- PG16_to_MSS25 -|- INFORMATION -|- tpch_test.dbo.orders_3 -|- Completed Load Query 4 for o_orderkey between 15000004 and 18750016 : 937501 rows x 9 columns in 6026ms\n",
      "2025-06-14T01:05:12.600 +02:00 -|- FastTransfer -|- PG16_to_MSS25 -|- INFORMATION -|- tpch_test.dbo.orders_3 -|- Completed Load Query 1 for o_orderkey between 3749989 and 7500001 : 937501 rows x 9 columns in 6079ms\n",
      "2025-06-14T01:05:12.630 +02:00 -|- FastTransfer -|- PG16_to_MSS25 -|- INFORMATION -|- tpch_test.dbo.orders_3 -|- Completed Load Query 9 for o_orderkey between 33750021 and 37500033 : 937501 rows x 9 columns in 6108ms\n",
      "2025-06-14T01:05:12.661 +02:00 -|- FastTransfer -|- PG16_to_MSS25 -|- INFORMATION -|- tpch_test.dbo.orders_3 -|- Completed Load Query 5 for o_orderkey between 18750017 and 22500005 : 937501 rows x 9 columns in 6141ms\n",
      "2025-06-14T01:05:12.664 +02:00 -|- FastTransfer -|- PG16_to_MSS25 -|- INFORMATION -|- tpch_test.dbo.orders_3 -|- Completed Load Query 13 for o_orderkey between 48750049 and 52500037 : 937501 rows x 9 columns in 6142ms\n",
      "2025-06-14T01:05:12.716 +02:00 -|- FastTransfer -|- PG16_to_MSS25 -|- INFORMATION -|- tpch_test.dbo.orders_3 -|- Completed Load Query 12 for o_orderkey between 45000036 and 48750048 : 937501 rows x 9 columns in 6194ms\n",
      "2025-06-14T01:05:12.717 +02:00 -|- FastTransfer -|- PG16_to_MSS25 -|- INFORMATION -|- tpch_test.dbo.orders_3 -|- Total rows : 15000000\n",
      "2025-06-14T01:05:12.717 +02:00 -|- FastTransfer -|- PG16_to_MSS25 -|- INFORMATION -|- tpch_test.dbo.orders_3 -|- Total columns : 9\n",
      "2025-06-14T01:05:12.717 +02:00 -|- FastTransfer -|- PG16_to_MSS25 -|- INFORMATION -|- tpch_test.dbo.orders_3 -|- Total cells : 135000000\n",
      "2025-06-14T01:05:12.717 +02:00 -|- FastTransfer -|- PG16_to_MSS25 -|- INFORMATION -|- tpch_test.dbo.orders_3 -|- Rows Throughput : 1213674 rows/s\n",
      "2025-06-14T01:05:12.717 +02:00 -|- FastTransfer -|- PG16_to_MSS25 -|- INFORMATION -|- tpch_test.dbo.orders_3 -|- Cells Throughput : 10923075 cells/s\n",
      "2025-06-14T01:05:12.717 +02:00 -|- FastTransfer -|- PG16_to_MSS25 -|- INFORMATION -|- tpch_test.dbo.orders_3 -|- Transfert time : Elapsed=12359 ms\n",
      "2025-06-14T01:05:12.717 +02:00 -|- FastTransfer -|- PG16_to_MSS25 -|- INFORMATION -|- tpch_test.dbo.orders_3 -|- Total time : Elapsed=12604 ms\n",
      "2025-06-14T01:05:12.717 +02:00 -|- FastTransfer -|- PG16_to_MSS25 -|- INFORMATION -|- tpch_test.dbo.orders_3 -|- Completed Load\n"
     ]
    }
   ],
   "source": [
    "\n",
    "cd D:\\FastTransfer\n",
    "\n",
    ".\\FastTransfer.exe `\n",
    "--sourceconnectiontype \"pgsql\" `\n",
    "--sourceserver \"localhost:15432\" `\n",
    "--sourcedatabase \"tpch\" `\n",
    "--sourceuser \"FastUser\" `\n",
    "--sourcepassword \"FastPassword\" `\n",
    "--sourceschema \"tpch_10\" `\n",
    "--sourcetable \"orders\" `\n",
    "`\n",
    "--targetconnectiontype \"msbulk\" `\n",
    "--targetserver \"localhost\\SS2025\" `\n",
    "--targettrusted `\n",
    "--targetdatabase \"tpch_test\" `\n",
    "--targetschema \"dbo\" `\n",
    "--targettable \"orders_3\" `\n",
    "`\n",
    "--loadmode \"Truncate\" `\n",
    "--mapmethod \"Name\" `\n",
    "--method \"Ntile\" `\n",
    "--distributekeycolumn \"o_orderkey\" `\n",
    "--degree -2 `\n",
    "--runid \"PG16_to_MSS25\""
   ]
  },
  {
   "cell_type": "code",
   "execution_count": 16,
   "id": "c2da48be",
   "metadata": {
    "polyglot_notebook": {
     "kernelName": "sql-SS2025_tpch_test"
    }
   },
   "outputs": [
    {
     "data": {
      "text/plain": [
       "(1 ligne affectée)"
      ]
     },
     "metadata": {},
     "output_type": "display_data"
    },
    {
     "data": {
      "text/csv": [
       "count_target_table_rows\r\n",
       "15,000,000\r\n"
      ],
      "text/html": [
       "<table><thead><tr><td><span>count_target_table_rows</span></td></tr></thead><tbody><tr><td>15,000,000</td></tr></tbody></table><style>\r\n",
       ".dni-code-hint {\r\n",
       "    font-style: italic;\r\n",
       "    overflow: hidden;\r\n",
       "    white-space: nowrap;\r\n",
       "}\r\n",
       ".dni-treeview {\r\n",
       "    white-space: nowrap;\r\n",
       "}\r\n",
       ".dni-treeview td {\r\n",
       "    vertical-align: top;\r\n",
       "    text-align: start;\r\n",
       "}\r\n",
       "details.dni-treeview {\r\n",
       "    padding-left: 1em;\r\n",
       "}\r\n",
       "table td {\r\n",
       "    text-align: start;\r\n",
       "}\r\n",
       "table tr { \r\n",
       "    vertical-align: top; \r\n",
       "    margin: 0em 0px;\r\n",
       "}\r\n",
       "table tr td pre \r\n",
       "{ \r\n",
       "    vertical-align: top !important; \r\n",
       "    margin: 0em 0px !important;\r\n",
       "} \r\n",
       "table th {\r\n",
       "    text-align: start;\r\n",
       "}\r\n",
       "</style>"
      ]
     },
     "metadata": {},
     "output_type": "display_data"
    }
   ],
   "source": [
    "SELECT FORMAT(count(*),'###,###,###') count_target_table_rows from orders_3;"
   ]
  },
  {
   "cell_type": "markdown",
   "id": "ce045f68",
   "metadata": {},
   "source": [
    "#### Target orders_4_no_index : Heap Table"
   ]
  },
  {
   "cell_type": "code",
   "execution_count": 17,
   "id": "0374251a",
   "metadata": {
    "polyglot_notebook": {
     "kernelName": "sql-SS2025_tpch_test"
    }
   },
   "outputs": [
    {
     "data": {
      "text/plain": [
       "(0 lignes affectées)"
      ]
     },
     "metadata": {},
     "output_type": "display_data"
    },
    {
     "data": {
      "text/plain": [
       "(1 ligne affectée)"
      ]
     },
     "metadata": {},
     "output_type": "display_data"
    },
    {
     "data": {
      "text/csv": [
       "count_orders_4_no_index\r\n",
       "\r\n"
      ],
      "text/html": [
       "<table><thead><tr><td><span>count_orders_4_no_index</span></td></tr></thead><tbody><tr><td></td></tr></tbody></table><style>\r\n",
       ".dni-code-hint {\r\n",
       "    font-style: italic;\r\n",
       "    overflow: hidden;\r\n",
       "    white-space: nowrap;\r\n",
       "}\r\n",
       ".dni-treeview {\r\n",
       "    white-space: nowrap;\r\n",
       "}\r\n",
       ".dni-treeview td {\r\n",
       "    vertical-align: top;\r\n",
       "    text-align: start;\r\n",
       "}\r\n",
       "details.dni-treeview {\r\n",
       "    padding-left: 1em;\r\n",
       "}\r\n",
       "table td {\r\n",
       "    text-align: start;\r\n",
       "}\r\n",
       "table tr { \r\n",
       "    vertical-align: top; \r\n",
       "    margin: 0em 0px;\r\n",
       "}\r\n",
       "table tr td pre \r\n",
       "{ \r\n",
       "    vertical-align: top !important; \r\n",
       "    margin: 0em 0px !important;\r\n",
       "} \r\n",
       "table th {\r\n",
       "    text-align: start;\r\n",
       "}\r\n",
       "</style>"
      ]
     },
     "metadata": {},
     "output_type": "display_data"
    }
   ],
   "source": [
    "DROP TABLE IF EXISTS orders_4_no_index;\n",
    "\n",
    "SELECT * \n",
    "INTO orders_4_no_index\n",
    "FROM orders_3\n",
    "WHERE 1=0;\n",
    "\n",
    "SELECT FORMAT(count(*),'###,###,###') count_orders_4_no_index from orders_4_no_index;"
   ]
  },
  {
   "cell_type": "code",
   "execution_count": 27,
   "id": "e594e80e",
   "metadata": {
    "polyglot_notebook": {
     "kernelName": "pwsh"
    }
   },
   "outputs": [
    {
     "name": "stdout",
     "output_type": "stream",
     "text": [
      "2025-06-14T01:05:23.156 +02:00 -|- FastTransfer -|- PG16_to_MSS25 -|- INFORMATION -|- tpch_test.dbo.orders_4_no_index -|- Starting\n",
      "2025-06-14T01:05:23.165 +02:00 -|- FastTransfer -|- PG16_to_MSS25 -|- INFORMATION -|- tpch_test.dbo.orders_4_no_index -|- FastTransfer Version : 0.13.4.0 Architecture : X64 - Framework : .NET 8.0.15\n",
      "2025-06-14T01:05:23.166 +02:00 -|- FastTransfer -|- PG16_to_MSS25 -|- INFORMATION -|- tpch_test.dbo.orders_4_no_index -|- OS : Microsoft Windows 10.0.26100\n",
      "2025-06-14T01:05:23.166 +02:00 -|- FastTransfer -|- PG16_to_MSS25 -|- INFORMATION -|- tpch_test.dbo.orders_4_no_index -|- Process ID : 35780\n",
      "2025-06-14T01:05:23.166 +02:00 -|- FastTransfer -|- PG16_to_MSS25 -|- INFORMATION -|- tpch_test.dbo.orders_4_no_index -|- Provided Run ID : PG16_to_MSS25\n",
      "2025-06-14T01:05:23.166 +02:00 -|- FastTransfer -|- PG16_to_MSS25 -|- INFORMATION -|- tpch_test.dbo.orders_4_no_index -|- Source Connection Type : pgsql\n",
      "2025-06-14T01:05:23.166 +02:00 -|- FastTransfer -|- PG16_to_MSS25 -|- INFORMATION -|- tpch_test.dbo.orders_4_no_index -|- Source SqlInstance : localhost:15432\n",
      "2025-06-14T01:05:23.166 +02:00 -|- FastTransfer -|- PG16_to_MSS25 -|- INFORMATION -|- tpch_test.dbo.orders_4_no_index -|- Source Database : tpch\n",
      "2025-06-14T01:05:23.166 +02:00 -|- FastTransfer -|- PG16_to_MSS25 -|- INFORMATION -|- tpch_test.dbo.orders_4_no_index -|- Source Trusted Connection : False\n",
      "2025-06-14T01:05:23.166 +02:00 -|- FastTransfer -|- PG16_to_MSS25 -|- INFORMATION -|- tpch_test.dbo.orders_4_no_index -|- Source User : FastUser\n",
      "2025-06-14T01:05:23.166 +02:00 -|- FastTransfer -|- PG16_to_MSS25 -|- INFORMATION -|- tpch_test.dbo.orders_4_no_index -|- Source Schema : tpch_10\n",
      "2025-06-14T01:05:23.166 +02:00 -|- FastTransfer -|- PG16_to_MSS25 -|- INFORMATION -|- tpch_test.dbo.orders_4_no_index -|- Source Table : orders\n",
      "2025-06-14T01:05:23.166 +02:00 -|- FastTransfer -|- PG16_to_MSS25 -|- INFORMATION -|- tpch_test.dbo.orders_4_no_index -|- Target Type : msbulk\n",
      "2025-06-14T01:05:23.166 +02:00 -|- FastTransfer -|- PG16_to_MSS25 -|- INFORMATION -|- tpch_test.dbo.orders_4_no_index -|- Target Server : localhost\\SS2025\n",
      "2025-06-14T01:05:23.166 +02:00 -|- FastTransfer -|- PG16_to_MSS25 -|- INFORMATION -|- tpch_test.dbo.orders_4_no_index -|- Target Database : tpch_test\n",
      "2025-06-14T01:05:23.166 +02:00 -|- FastTransfer -|- PG16_to_MSS25 -|- INFORMATION -|- tpch_test.dbo.orders_4_no_index -|- Target Schema : dbo\n",
      "2025-06-14T01:05:23.166 +02:00 -|- FastTransfer -|- PG16_to_MSS25 -|- INFORMATION -|- tpch_test.dbo.orders_4_no_index -|- Target Table : orders_4_no_index\n",
      "2025-06-14T01:05:23.166 +02:00 -|- FastTransfer -|- PG16_to_MSS25 -|- INFORMATION -|- tpch_test.dbo.orders_4_no_index -|- Target Trusted Connection : True\n",
      "2025-06-14T01:05:23.166 +02:00 -|- FastTransfer -|- PG16_to_MSS25 -|- INFORMATION -|- tpch_test.dbo.orders_4_no_index -|- Columns Map Method : Name\n",
      "2025-06-14T01:05:23.166 +02:00 -|- FastTransfer -|- PG16_to_MSS25 -|- INFORMATION -|- tpch_test.dbo.orders_4_no_index -|- Degree : -2\n",
      "2025-06-14T01:05:23.166 +02:00 -|- FastTransfer -|- PG16_to_MSS25 -|- INFORMATION -|- tpch_test.dbo.orders_4_no_index -|- Distribute Method : Ntile\n",
      "2025-06-14T01:05:23.166 +02:00 -|- FastTransfer -|- PG16_to_MSS25 -|- INFORMATION -|- tpch_test.dbo.orders_4_no_index -|- Distribute Column : o_orderkey\n",
      "2025-06-14T01:05:23.166 +02:00 -|- FastTransfer -|- PG16_to_MSS25 -|- INFORMATION -|- tpch_test.dbo.orders_4_no_index -|- Bulkcopy Batch Size : 1048576\n",
      "2025-06-14T01:05:23.167 +02:00 -|- FastTransfer -|- PG16_to_MSS25 -|- INFORMATION -|- tpch_test.dbo.orders_4_no_index -|- Load Mode : Truncate\n",
      "2025-06-14T01:05:23.167 +02:00 -|- FastTransfer -|- PG16_to_MSS25 -|- INFORMATION -|- tpch_test.dbo.orders_4_no_index -|- Use Work Tables : False\n",
      "2025-06-14T01:05:23.167 +02:00 -|- FastTransfer -|- PG16_to_MSS25 -|- INFORMATION -|- tpch_test.dbo.orders_4_no_index -|- Encoding used : Unicode (UTF-8) - 65001 - utf-8\n",
      "2025-06-14T01:05:23.241 +02:00 -|- FastTransfer -|- PG16_to_MSS25 -|- INFORMATION -|- tpch_test.dbo.orders_4_no_index -|- Source Connection String : Host=localhost;Port=15432;Database=tpch;Trust Server Certificate=True;Application Name=FastTransfer;Timeout=15;Command Timeout=10800;Username=FastUser;Password=xxxxx\n",
      "2025-06-14T01:05:23.241 +02:00 -|- FastTransfer -|- PG16_to_MSS25 -|- INFORMATION -|- tpch_test.dbo.orders_4_no_index -|- Target Connection String : Data Source=localhost\\SS2025;Initial Catalog=tpch_test;Integrated Security=True;Connect Timeout=120;Encrypt=True;Trust Server Certificate=True;Application Name=FastTransfer;Application Intent=ReadWrite;Command Timeout=10800\n",
      "2025-06-14T01:05:23.241 +02:00 -|- FastTransfer -|- PG16_to_MSS25 -|- INFORMATION -|- tpch_test.dbo.orders_4_no_index -|- Source Database Version : PostgreSQL 16.1, compiled by Visual C++ build 1937, 64-bit\n",
      "2025-06-14T01:05:23.241 +02:00 -|- FastTransfer -|- PG16_to_MSS25 -|- INFORMATION -|- tpch_test.dbo.orders_4_no_index -|- Target Database Version : Microsoft SQL Server 2025 (CTP2.0) - 17.0.700.9 (X64)  \tMay  8 2025 19:14:27  \tCopyright (C) 2025 Microsoft Corporation \tEnterprise Developer Edition (64-bit) on Windows 10 Pro 10.0 <X64> (Build 26100: ) (Hypervisor) \n",
      "2025-06-14T01:05:23.247 +02:00 -|- FastTransfer -|- PG16_to_MSS25 -|- INFORMATION -|- tpch_test.dbo.orders_4_no_index -|- Degree of parallelism was computed to 16 (=> 32\\2)\n",
      "2025-06-14T01:05:29.319 +02:00 -|- FastTransfer -|- PG16_to_MSS25 -|- INFORMATION -|- tpch_test.dbo.orders_4_no_index -|- Ntile DataSegments Computation Completed in 6071 ms\n",
      "2025-06-14T01:05:29.322 +02:00 -|- FastTransfer -|- PG16_to_MSS25 -|- INFORMATION -|- tpch_test.dbo.orders_4_no_index -|- Start Loading Data using distribution method NTile\n",
      "2025-06-14T01:05:29.323 +02:00 -|- FastTransfer -|- PG16_to_MSS25 -|- INFORMATION -|- tpch_test.dbo.orders_4_no_index -|- Table \"dbo\".\"orders_4_no_index\" has no Clustered Index. BulkCopy will use KeepNulls and UseInternalTransaction and Tablock\n",
      "2025-06-14T01:05:29.324 +02:00 -|- FastTransfer -|- PG16_to_MSS25 -|- INFORMATION -|- tpch_test.dbo.orders_4_no_index -|- BulkCopy to \"dbo\".\"orders_4_no_index\" with BatchSize = 1048576, Timeout = 3600\n",
      "2025-06-14T01:05:29.366 +02:00 -|- FastTransfer -|- PG16_to_MSS25 -|- INFORMATION -|- tpch_test.dbo.orders_4_no_index -|- Start Loading Data using distribution method NTile\n",
      "2025-06-14T01:05:29.366 +02:00 -|- FastTransfer -|- PG16_to_MSS25 -|- WARNING -|- tpch_test.dbo.orders_4_no_index -|- Only 9 out of 10 columns were mapped by name to the target table \"dbo\".\"orders_4_no_index\"\n",
      "2025-06-14T01:05:29.367 +02:00 -|- FastTransfer -|- PG16_to_MSS25 -|- INFORMATION -|- tpch_test.dbo.orders_4_no_index -|- Table \"dbo\".\"orders_4_no_index\" has no Clustered Index. BulkCopy will use KeepNulls and UseInternalTransaction and Tablock\n",
      "2025-06-14T01:05:29.367 +02:00 -|- FastTransfer -|- PG16_to_MSS25 -|- INFORMATION -|- tpch_test.dbo.orders_4_no_index -|- BulkCopy to \"dbo\".\"orders_4_no_index\" with BatchSize = 1048576, Timeout = 3600\n",
      "2025-06-14T01:05:29.370 +02:00 -|- FastTransfer -|- PG16_to_MSS25 -|- INFORMATION -|- tpch_test.dbo.orders_4_no_index -|- Start Loading Data using distribution method NTile\n",
      "2025-06-14T01:05:29.370 +02:00 -|- FastTransfer -|- PG16_to_MSS25 -|- INFORMATION -|- tpch_test.dbo.orders_4_no_index -|- Table \"dbo\".\"orders_4_no_index\" has no Clustered Index. BulkCopy will use KeepNulls and UseInternalTransaction and Tablock\n",
      "2025-06-14T01:05:29.370 +02:00 -|- FastTransfer -|- PG16_to_MSS25 -|- INFORMATION -|- tpch_test.dbo.orders_4_no_index -|- BulkCopy to \"dbo\".\"orders_4_no_index\" with BatchSize = 1048576, Timeout = 3600\n",
      "2025-06-14T01:05:29.378 +02:00 -|- FastTransfer -|- PG16_to_MSS25 -|- INFORMATION -|- tpch_test.dbo.orders_4_no_index -|- Start Loading Data using distribution method NTile\n",
      "2025-06-14T01:05:29.378 +02:00 -|- FastTransfer -|- PG16_to_MSS25 -|- INFORMATION -|- tpch_test.dbo.orders_4_no_index -|- Table \"dbo\".\"orders_4_no_index\" has no Clustered Index. BulkCopy will use KeepNulls and UseInternalTransaction and Tablock\n",
      "2025-06-14T01:05:29.378 +02:00 -|- FastTransfer -|- PG16_to_MSS25 -|- INFORMATION -|- tpch_test.dbo.orders_4_no_index -|- BulkCopy to \"dbo\".\"orders_4_no_index\" with BatchSize = 1048576, Timeout = 3600\n",
      "2025-06-14T01:05:29.386 +02:00 -|- FastTransfer -|- PG16_to_MSS25 -|- INFORMATION -|- tpch_test.dbo.orders_4_no_index -|- Start Loading Data using distribution method NTile\n",
      "2025-06-14T01:05:29.386 +02:00 -|- FastTransfer -|- PG16_to_MSS25 -|- INFORMATION -|- tpch_test.dbo.orders_4_no_index -|- Table \"dbo\".\"orders_4_no_index\" has no Clustered Index. BulkCopy will use KeepNulls and UseInternalTransaction and Tablock\n",
      "2025-06-14T01:05:29.386 +02:00 -|- FastTransfer -|- PG16_to_MSS25 -|- INFORMATION -|- tpch_test.dbo.orders_4_no_index -|- BulkCopy to \"dbo\".\"orders_4_no_index\" with BatchSize = 1048576, Timeout = 3600\n",
      "2025-06-14T01:05:29.389 +02:00 -|- FastTransfer -|- PG16_to_MSS25 -|- INFORMATION -|- tpch_test.dbo.orders_4_no_index -|- Start Loading Data using distribution method NTile\n",
      "2025-06-14T01:05:29.390 +02:00 -|- FastTransfer -|- PG16_to_MSS25 -|- INFORMATION -|- tpch_test.dbo.orders_4_no_index -|- Table \"dbo\".\"orders_4_no_index\" has no Clustered Index. BulkCopy will use KeepNulls and UseInternalTransaction and Tablock\n",
      "2025-06-14T01:05:29.390 +02:00 -|- FastTransfer -|- PG16_to_MSS25 -|- INFORMATION -|- tpch_test.dbo.orders_4_no_index -|- BulkCopy to \"dbo\".\"orders_4_no_index\" with BatchSize = 1048576, Timeout = 3600\n",
      "2025-06-14T01:05:29.394 +02:00 -|- FastTransfer -|- PG16_to_MSS25 -|- INFORMATION -|- tpch_test.dbo.orders_4_no_index -|- Start Loading Data using distribution method NTile\n",
      "2025-06-14T01:05:29.394 +02:00 -|- FastTransfer -|- PG16_to_MSS25 -|- INFORMATION -|- tpch_test.dbo.orders_4_no_index -|- Table \"dbo\".\"orders_4_no_index\" has no Clustered Index. BulkCopy will use KeepNulls and UseInternalTransaction and Tablock\n",
      "2025-06-14T01:05:29.394 +02:00 -|- FastTransfer -|- PG16_to_MSS25 -|- INFORMATION -|- tpch_test.dbo.orders_4_no_index -|- BulkCopy to \"dbo\".\"orders_4_no_index\" with BatchSize = 1048576, Timeout = 3600\n",
      "2025-06-14T01:05:29.397 +02:00 -|- FastTransfer -|- PG16_to_MSS25 -|- INFORMATION -|- tpch_test.dbo.orders_4_no_index -|- Start Loading Data using distribution method NTile\n",
      "2025-06-14T01:05:29.398 +02:00 -|- FastTransfer -|- PG16_to_MSS25 -|- INFORMATION -|- tpch_test.dbo.orders_4_no_index -|- Table \"dbo\".\"orders_4_no_index\" has no Clustered Index. BulkCopy will use KeepNulls and UseInternalTransaction and Tablock\n",
      "2025-06-14T01:05:29.398 +02:00 -|- FastTransfer -|- PG16_to_MSS25 -|- INFORMATION -|- tpch_test.dbo.orders_4_no_index -|- BulkCopy to \"dbo\".\"orders_4_no_index\" with BatchSize = 1048576, Timeout = 3600\n",
      "2025-06-14T01:05:29.401 +02:00 -|- FastTransfer -|- PG16_to_MSS25 -|- INFORMATION -|- tpch_test.dbo.orders_4_no_index -|- Start Loading Data using distribution method NTile\n",
      "2025-06-14T01:05:29.402 +02:00 -|- FastTransfer -|- PG16_to_MSS25 -|- INFORMATION -|- tpch_test.dbo.orders_4_no_index -|- Table \"dbo\".\"orders_4_no_index\" has no Clustered Index. BulkCopy will use KeepNulls and UseInternalTransaction and Tablock\n",
      "2025-06-14T01:05:29.402 +02:00 -|- FastTransfer -|- PG16_to_MSS25 -|- INFORMATION -|- tpch_test.dbo.orders_4_no_index -|- BulkCopy to \"dbo\".\"orders_4_no_index\" with BatchSize = 1048576, Timeout = 3600\n",
      "2025-06-14T01:05:29.404 +02:00 -|- FastTransfer -|- PG16_to_MSS25 -|- INFORMATION -|- tpch_test.dbo.orders_4_no_index -|- Start Loading Data using distribution method NTile\n",
      "2025-06-14T01:05:29.405 +02:00 -|- FastTransfer -|- PG16_to_MSS25 -|- INFORMATION -|- tpch_test.dbo.orders_4_no_index -|- Table \"dbo\".\"orders_4_no_index\" has no Clustered Index. BulkCopy will use KeepNulls and UseInternalTransaction and Tablock\n",
      "2025-06-14T01:05:29.405 +02:00 -|- FastTransfer -|- PG16_to_MSS25 -|- INFORMATION -|- tpch_test.dbo.orders_4_no_index -|- BulkCopy to \"dbo\".\"orders_4_no_index\" with BatchSize = 1048576, Timeout = 3600\n",
      "2025-06-14T01:05:29.408 +02:00 -|- FastTransfer -|- PG16_to_MSS25 -|- INFORMATION -|- tpch_test.dbo.orders_4_no_index -|- Start Loading Data using distribution method NTile\n",
      "2025-06-14T01:05:29.408 +02:00 -|- FastTransfer -|- PG16_to_MSS25 -|- INFORMATION -|- tpch_test.dbo.orders_4_no_index -|- Table \"dbo\".\"orders_4_no_index\" has no Clustered Index. BulkCopy will use KeepNulls and UseInternalTransaction and Tablock\n",
      "2025-06-14T01:05:29.408 +02:00 -|- FastTransfer -|- PG16_to_MSS25 -|- INFORMATION -|- tpch_test.dbo.orders_4_no_index -|- BulkCopy to \"dbo\".\"orders_4_no_index\" with BatchSize = 1048576, Timeout = 3600\n",
      "2025-06-14T01:05:29.412 +02:00 -|- FastTransfer -|- PG16_to_MSS25 -|- INFORMATION -|- tpch_test.dbo.orders_4_no_index -|- Start Loading Data using distribution method NTile\n",
      "2025-06-14T01:05:29.412 +02:00 -|- FastTransfer -|- PG16_to_MSS25 -|- INFORMATION -|- tpch_test.dbo.orders_4_no_index -|- Table \"dbo\".\"orders_4_no_index\" has no Clustered Index. BulkCopy will use KeepNulls and UseInternalTransaction and Tablock\n",
      "2025-06-14T01:05:29.412 +02:00 -|- FastTransfer -|- PG16_to_MSS25 -|- INFORMATION -|- tpch_test.dbo.orders_4_no_index -|- BulkCopy to \"dbo\".\"orders_4_no_index\" with BatchSize = 1048576, Timeout = 3600\n",
      "2025-06-14T01:05:29.415 +02:00 -|- FastTransfer -|- PG16_to_MSS25 -|- INFORMATION -|- tpch_test.dbo.orders_4_no_index -|- Start Loading Data using distribution method NTile\n",
      "2025-06-14T01:05:29.415 +02:00 -|- FastTransfer -|- PG16_to_MSS25 -|- INFORMATION -|- tpch_test.dbo.orders_4_no_index -|- Table \"dbo\".\"orders_4_no_index\" has no Clustered Index. BulkCopy will use KeepNulls and UseInternalTransaction and Tablock\n",
      "2025-06-14T01:05:29.415 +02:00 -|- FastTransfer -|- PG16_to_MSS25 -|- INFORMATION -|- tpch_test.dbo.orders_4_no_index -|- BulkCopy to \"dbo\".\"orders_4_no_index\" with BatchSize = 1048576, Timeout = 3600\n",
      "2025-06-14T01:05:29.418 +02:00 -|- FastTransfer -|- PG16_to_MSS25 -|- INFORMATION -|- tpch_test.dbo.orders_4_no_index -|- Start Loading Data using distribution method NTile\n",
      "2025-06-14T01:05:29.419 +02:00 -|- FastTransfer -|- PG16_to_MSS25 -|- INFORMATION -|- tpch_test.dbo.orders_4_no_index -|- Table \"dbo\".\"orders_4_no_index\" has no Clustered Index. BulkCopy will use KeepNulls and UseInternalTransaction and Tablock\n",
      "2025-06-14T01:05:29.419 +02:00 -|- FastTransfer -|- PG16_to_MSS25 -|- INFORMATION -|- tpch_test.dbo.orders_4_no_index -|- BulkCopy to \"dbo\".\"orders_4_no_index\" with BatchSize = 1048576, Timeout = 3600\n",
      "2025-06-14T01:05:29.420 +02:00 -|- FastTransfer -|- PG16_to_MSS25 -|- WARNING -|- tpch_test.dbo.orders_4_no_index -|- Only 9 out of 10 columns were mapped by name to the target table \"dbo\".\"orders_4_no_index\"\n",
      "2025-06-14T01:05:29.422 +02:00 -|- FastTransfer -|- PG16_to_MSS25 -|- INFORMATION -|- tpch_test.dbo.orders_4_no_index -|- Start Loading Data using distribution method NTile\n",
      "2025-06-14T01:05:29.422 +02:00 -|- FastTransfer -|- PG16_to_MSS25 -|- INFORMATION -|- tpch_test.dbo.orders_4_no_index -|- Table \"dbo\".\"orders_4_no_index\" has no Clustered Index. BulkCopy will use KeepNulls and UseInternalTransaction and Tablock\n",
      "2025-06-14T01:05:29.422 +02:00 -|- FastTransfer -|- PG16_to_MSS25 -|- INFORMATION -|- tpch_test.dbo.orders_4_no_index -|- BulkCopy to \"dbo\".\"orders_4_no_index\" with BatchSize = 1048576, Timeout = 3600\n",
      "2025-06-14T01:05:29.425 +02:00 -|- FastTransfer -|- PG16_to_MSS25 -|- WARNING -|- tpch_test.dbo.orders_4_no_index -|- Only 9 out of 10 columns were mapped by name to the target table \"dbo\".\"orders_4_no_index\"\n",
      "2025-06-14T01:05:29.439 +02:00 -|- FastTransfer -|- PG16_to_MSS25 -|- WARNING -|- tpch_test.dbo.orders_4_no_index -|- Only 9 out of 10 columns were mapped by name to the target table \"dbo\".\"orders_4_no_index\"\n",
      "2025-06-14T01:05:29.440 +02:00 -|- FastTransfer -|- PG16_to_MSS25 -|- WARNING -|- tpch_test.dbo.orders_4_no_index -|- Only 9 out of 10 columns were mapped by name to the target table \"dbo\".\"orders_4_no_index\"\n",
      "2025-06-14T01:05:29.449 +02:00 -|- FastTransfer -|- PG16_to_MSS25 -|- WARNING -|- tpch_test.dbo.orders_4_no_index -|- Only 9 out of 10 columns were mapped by name to the target table \"dbo\".\"orders_4_no_index\"\n",
      "2025-06-14T01:05:29.451 +02:00 -|- FastTransfer -|- PG16_to_MSS25 -|- WARNING -|- tpch_test.dbo.orders_4_no_index -|- Only 9 out of 10 columns were mapped by name to the target table \"dbo\".\"orders_4_no_index\"\n",
      "2025-06-14T01:05:29.456 +02:00 -|- FastTransfer -|- PG16_to_MSS25 -|- WARNING -|- tpch_test.dbo.orders_4_no_index -|- Only 9 out of 10 columns were mapped by name to the target table \"dbo\".\"orders_4_no_index\"\n",
      "2025-06-14T01:05:29.460 +02:00 -|- FastTransfer -|- PG16_to_MSS25 -|- WARNING -|- tpch_test.dbo.orders_4_no_index -|- Only 9 out of 10 columns were mapped by name to the target table \"dbo\".\"orders_4_no_index\"\n",
      "2025-06-14T01:05:29.463 +02:00 -|- FastTransfer -|- PG16_to_MSS25 -|- WARNING -|- tpch_test.dbo.orders_4_no_index -|- Only 9 out of 10 columns were mapped by name to the target table \"dbo\".\"orders_4_no_index\"\n",
      "2025-06-14T01:05:29.463 +02:00 -|- FastTransfer -|- PG16_to_MSS25 -|- WARNING -|- tpch_test.dbo.orders_4_no_index -|- Only 9 out of 10 columns were mapped by name to the target table \"dbo\".\"orders_4_no_index\"\n",
      "2025-06-14T01:05:29.474 +02:00 -|- FastTransfer -|- PG16_to_MSS25 -|- WARNING -|- tpch_test.dbo.orders_4_no_index -|- Only 9 out of 10 columns were mapped by name to the target table \"dbo\".\"orders_4_no_index\"\n",
      "2025-06-14T01:05:29.483 +02:00 -|- FastTransfer -|- PG16_to_MSS25 -|- WARNING -|- tpch_test.dbo.orders_4_no_index -|- Only 9 out of 10 columns were mapped by name to the target table \"dbo\".\"orders_4_no_index\"\n",
      "2025-06-14T01:05:29.486 +02:00 -|- FastTransfer -|- PG16_to_MSS25 -|- WARNING -|- tpch_test.dbo.orders_4_no_index -|- Only 9 out of 10 columns were mapped by name to the target table \"dbo\".\"orders_4_no_index\"\n",
      "2025-06-14T01:05:29.488 +02:00 -|- FastTransfer -|- PG16_to_MSS25 -|- WARNING -|- tpch_test.dbo.orders_4_no_index -|- Only 9 out of 10 columns were mapped by name to the target table \"dbo\".\"orders_4_no_index\"\n",
      "2025-06-14T01:05:29.511 +02:00 -|- FastTransfer -|- PG16_to_MSS25 -|- INFORMATION -|- tpch_test.dbo.orders_4_no_index -|- Start Loading Data using distribution method NTile\n",
      "2025-06-14T01:05:29.511 +02:00 -|- FastTransfer -|- PG16_to_MSS25 -|- INFORMATION -|- tpch_test.dbo.orders_4_no_index -|- Table \"dbo\".\"orders_4_no_index\" has no Clustered Index. BulkCopy will use KeepNulls and UseInternalTransaction and Tablock\n",
      "2025-06-14T01:05:29.511 +02:00 -|- FastTransfer -|- PG16_to_MSS25 -|- INFORMATION -|- tpch_test.dbo.orders_4_no_index -|- BulkCopy to \"dbo\".\"orders_4_no_index\" with BatchSize = 1048576, Timeout = 3600\n",
      "2025-06-14T01:05:29.559 +02:00 -|- FastTransfer -|- PG16_to_MSS25 -|- WARNING -|- tpch_test.dbo.orders_4_no_index -|- Only 9 out of 10 columns were mapped by name to the target table \"dbo\".\"orders_4_no_index\"\n",
      "2025-06-14T01:05:33.114 +02:00 -|- FastTransfer -|- PG16_to_MSS25 -|- INFORMATION -|- tpch_test.dbo.orders_4_no_index -|- Completed Load Query 2 for o_orderkey between 7500002 and 11249990 : 937501 rows x 9 columns in 3792ms\n",
      "2025-06-14T01:05:33.146 +02:00 -|- FastTransfer -|- PG16_to_MSS25 -|- INFORMATION -|- tpch_test.dbo.orders_4_no_index -|- Completed Load Query 1 for o_orderkey between 3749989 and 7500001 : 937501 rows x 9 columns in 3824ms\n",
      "2025-06-14T01:05:33.174 +02:00 -|- FastTransfer -|- PG16_to_MSS25 -|- INFORMATION -|- tpch_test.dbo.orders_4_no_index -|- Completed Load Query 15 for o_orderkey between 56250051 and 60000000 : 937486 rows x 9 columns in 3851ms\n",
      "2025-06-14T01:05:33.240 +02:00 -|- FastTransfer -|- PG16_to_MSS25 -|- INFORMATION -|- tpch_test.dbo.orders_4_no_index -|- Completed Load Query 3 for o_orderkey between 11249991 and 15000003 : 937501 rows x 9 columns in 3918ms\n",
      "2025-06-14T01:05:33.265 +02:00 -|- FastTransfer -|- PG16_to_MSS25 -|- INFORMATION -|- tpch_test.dbo.orders_4_no_index -|- Completed Load Query 9 for o_orderkey between 33750021 and 37500033 : 937501 rows x 9 columns in 3943ms\n",
      "2025-06-14T01:05:33.285 +02:00 -|- FastTransfer -|- PG16_to_MSS25 -|- INFORMATION -|- tpch_test.dbo.orders_4_no_index -|- Completed Load Query 5 for o_orderkey between 18750017 and 22500005 : 937501 rows x 9 columns in 3963ms\n",
      "2025-06-14T01:05:33.295 +02:00 -|- FastTransfer -|- PG16_to_MSS25 -|- INFORMATION -|- tpch_test.dbo.orders_4_no_index -|- Completed Load Query 14 for o_orderkey between 52500038 and 56250050 : 937501 rows x 9 columns in 3972ms\n",
      "2025-06-14T01:05:33.298 +02:00 -|- FastTransfer -|- PG16_to_MSS25 -|- INFORMATION -|- tpch_test.dbo.orders_4_no_index -|- Completed Load Query 7 for o_orderkey between 26250019 and 30000007 : 937501 rows x 9 columns in 3976ms\n",
      "2025-06-14T01:05:33.301 +02:00 -|- FastTransfer -|- PG16_to_MSS25 -|- INFORMATION -|- tpch_test.dbo.orders_4_no_index -|- Completed Load Query 0 for o_orderkey between 1 and 3749988 : 937500 rows x 9 columns in 3979ms\n",
      "2025-06-14T01:05:33.308 +02:00 -|- FastTransfer -|- PG16_to_MSS25 -|- INFORMATION -|- tpch_test.dbo.orders_4_no_index -|- Completed Load Query 6 for o_orderkey between 22500006 and 26250018 : 937501 rows x 9 columns in 3986ms\n",
      "2025-06-14T01:05:33.309 +02:00 -|- FastTransfer -|- PG16_to_MSS25 -|- INFORMATION -|- tpch_test.dbo.orders_4_no_index -|- Completed Load Query 4 for o_orderkey between 15000004 and 18750016 : 937501 rows x 9 columns in 3987ms\n",
      "2025-06-14T01:05:33.311 +02:00 -|- FastTransfer -|- PG16_to_MSS25 -|- INFORMATION -|- tpch_test.dbo.orders_4_no_index -|- Completed Load Query 12 for o_orderkey between 45000036 and 48750048 : 937501 rows x 9 columns in 3988ms\n",
      "2025-06-14T01:05:33.313 +02:00 -|- FastTransfer -|- PG16_to_MSS25 -|- INFORMATION -|- tpch_test.dbo.orders_4_no_index -|- Completed Load Query 10 for o_orderkey between 37500034 and 41250022 : 937501 rows x 9 columns in 3991ms\n",
      "2025-06-14T01:05:33.316 +02:00 -|- FastTransfer -|- PG16_to_MSS25 -|- INFORMATION -|- tpch_test.dbo.orders_4_no_index -|- Completed Load Query 13 for o_orderkey between 48750049 and 52500037 : 937501 rows x 9 columns in 3993ms\n",
      "2025-06-14T01:05:33.319 +02:00 -|- FastTransfer -|- PG16_to_MSS25 -|- INFORMATION -|- tpch_test.dbo.orders_4_no_index -|- Completed Load Query 8 for o_orderkey between 30000032 and 33750020 : 937501 rows x 9 columns in 3997ms\n",
      "2025-06-14T01:05:33.341 +02:00 -|- FastTransfer -|- PG16_to_MSS25 -|- INFORMATION -|- tpch_test.dbo.orders_4_no_index -|- Completed Load Query 11 for o_orderkey between 41250023 and 45000035 : 937501 rows x 9 columns in 4018ms\n",
      "2025-06-14T01:05:33.342 +02:00 -|- FastTransfer -|- PG16_to_MSS25 -|- INFORMATION -|- tpch_test.dbo.orders_4_no_index -|- Total rows : 15000000\n",
      "2025-06-14T01:05:33.342 +02:00 -|- FastTransfer -|- PG16_to_MSS25 -|- INFORMATION -|- tpch_test.dbo.orders_4_no_index -|- Total columns : 9\n",
      "2025-06-14T01:05:33.342 +02:00 -|- FastTransfer -|- PG16_to_MSS25 -|- INFORMATION -|- tpch_test.dbo.orders_4_no_index -|- Total cells : 135000000\n",
      "2025-06-14T01:05:33.342 +02:00 -|- FastTransfer -|- PG16_to_MSS25 -|- INFORMATION -|- tpch_test.dbo.orders_4_no_index -|- Rows Throughput : 1485881 rows/s\n",
      "2025-06-14T01:05:33.342 +02:00 -|- FastTransfer -|- PG16_to_MSS25 -|- INFORMATION -|- tpch_test.dbo.orders_4_no_index -|- Cells Throughput : 13372939 cells/s\n",
      "2025-06-14T01:05:33.342 +02:00 -|- FastTransfer -|- PG16_to_MSS25 -|- INFORMATION -|- tpch_test.dbo.orders_4_no_index -|- Transfert time : Elapsed=10095 ms\n",
      "2025-06-14T01:05:33.342 +02:00 -|- FastTransfer -|- PG16_to_MSS25 -|- INFORMATION -|- tpch_test.dbo.orders_4_no_index -|- Total time : Elapsed=10346 ms\n",
      "2025-06-14T01:05:33.342 +02:00 -|- FastTransfer -|- PG16_to_MSS25 -|- INFORMATION -|- tpch_test.dbo.orders_4_no_index -|- Completed Load\n"
     ]
    }
   ],
   "source": [
    "\n",
    "cd D:\\FastTransfer\n",
    "\n",
    ".\\FastTransfer.exe `\n",
    "--sourceconnectiontype \"pgsql\" `\n",
    "--sourceserver \"localhost:15432\" `\n",
    "--sourcedatabase \"tpch\" `\n",
    "--sourceuser \"FastUser\" `\n",
    "--sourcepassword \"FastPassword\" `\n",
    "--sourceschema \"tpch_10\" `\n",
    "--sourcetable \"orders\" `\n",
    "`\n",
    "--targetconnectiontype \"msbulk\" `\n",
    "--targetserver \"localhost\\SS2025\" `\n",
    "--targettrusted `\n",
    "--targetdatabase \"tpch_test\" `\n",
    "--targetschema \"dbo\" `\n",
    "--targettable \"orders_4_no_index\" `\n",
    "`\n",
    "--loadmode \"Truncate\" `\n",
    "--mapmethod \"Name\" `\n",
    "--method \"Ntile\" `\n",
    "--distributekeycolumn \"o_orderkey\" `\n",
    "--degree -2 `\n",
    "--runid \"PG16_to_MSS25\""
   ]
  },
  {
   "cell_type": "code",
   "execution_count": 29,
   "id": "5144fced",
   "metadata": {
    "polyglot_notebook": {
     "kernelName": "sql-SS2025_tpch_test"
    }
   },
   "outputs": [
    {
     "data": {
      "text/plain": [
       "(1 ligne affectée)"
      ]
     },
     "metadata": {},
     "output_type": "display_data"
    },
    {
     "data": {
      "text/csv": [
       "count_orders_4_no_index\r\n",
       "15,000,000\r\n"
      ],
      "text/html": [
       "<table><thead><tr><td><span>count_orders_4_no_index</span></td></tr></thead><tbody><tr><td>15,000,000</td></tr></tbody></table><style>\r\n",
       ".dni-code-hint {\r\n",
       "    font-style: italic;\r\n",
       "    overflow: hidden;\r\n",
       "    white-space: nowrap;\r\n",
       "}\r\n",
       ".dni-treeview {\r\n",
       "    white-space: nowrap;\r\n",
       "}\r\n",
       ".dni-treeview td {\r\n",
       "    vertical-align: top;\r\n",
       "    text-align: start;\r\n",
       "}\r\n",
       "details.dni-treeview {\r\n",
       "    padding-left: 1em;\r\n",
       "}\r\n",
       "table td {\r\n",
       "    text-align: start;\r\n",
       "}\r\n",
       "table tr { \r\n",
       "    vertical-align: top; \r\n",
       "    margin: 0em 0px;\r\n",
       "}\r\n",
       "table tr td pre \r\n",
       "{ \r\n",
       "    vertical-align: top !important; \r\n",
       "    margin: 0em 0px !important;\r\n",
       "} \r\n",
       "table th {\r\n",
       "    text-align: start;\r\n",
       "}\r\n",
       "</style>"
      ]
     },
     "metadata": {},
     "output_type": "display_data"
    }
   ],
   "source": [
    "\n",
    "SELECT FORMAT(count(*),'###,###,###') count_orders_4_no_index from orders_4_no_index;"
   ]
  },
  {
   "cell_type": "code",
   "execution_count": 28,
   "id": "b9ef8968",
   "metadata": {
    "polyglot_notebook": {
     "kernelName": "sql-SS2025_tpch_test"
    }
   },
   "outputs": [
    {
     "data": {
      "text/plain": [
       "(5 lignes affectées)"
      ]
     },
     "metadata": {},
     "output_type": "display_data"
    },
    {
     "data": {
      "text/csv": [
       "o_orderkey,o_custkey,o_orderstatus,o_totalprice,o_orderdate,o_orderpriority,o_clerk,o_comment,o_shippriority,copydate\r\n",
       "16062019,456802,F,286374.12,1992-06-17T00:00:00.0000000,\"1-URGENT       \",Clerk#000007855,\"nts haggle blithely special platelets. fluffily express reques\",0,\r\n",
       "16062115,1016920,F,261694.28,1992-05-24T00:00:00.0000000,\"3-MEDIUM       \",Clerk#000001570,\"promise up the pending th\",0,\r\n",
       "16062118,645532,F,46924.83,1992-03-21T00:00:00.0000000,\"4-NOT SPECIFIED\",Clerk#000005137,\"s try to are furiously along the always regular excuses. unusua\",0,\r\n",
       "16062208,559729,F,192162.09,1992-05-29T00:00:00.0000000,\"5-LOW          \",Clerk#000004390,\" fluffily. final accounts according to the quickly ironic package\",0,\r\n",
       "16062240,1388513,F,94465.42,1992-10-03T00:00:00.0000000,\"2-HIGH         \",Clerk#000001597,\"ly bold deposits cajole \",0,\r\n"
      ],
      "text/html": [
       "<table><thead><tr><td><span>o_orderkey</span></td><td><span>o_custkey</span></td><td><span>o_orderstatus</span></td><td><span>o_totalprice</span></td><td><span>o_orderdate</span></td><td><span>o_orderpriority</span></td><td><span>o_clerk</span></td><td><span>o_comment</span></td><td><span>o_shippriority</span></td><td><span>copydate</span></td></tr></thead><tbody><tr><td><div class=\"dni-plaintext\"><pre>16062019</pre></div></td><td><div class=\"dni-plaintext\"><pre>456802</pre></div></td><td>F</td><td><div class=\"dni-plaintext\"><pre>286374.12</pre></div></td><td><span>1992-06-17 00:00:00Z</span></td><td>1-URGENT       </td><td>Clerk#000007855</td><td>nts haggle blithely special platelets. fluffily express reques</td><td><div class=\"dni-plaintext\"><pre>0</pre></div></td><td><div class=\"dni-plaintext\"><pre>&lt;null&gt;</pre></div></td></tr><tr><td><div class=\"dni-plaintext\"><pre>16062115</pre></div></td><td><div class=\"dni-plaintext\"><pre>1016920</pre></div></td><td>F</td><td><div class=\"dni-plaintext\"><pre>261694.28</pre></div></td><td><span>1992-05-24 00:00:00Z</span></td><td>3-MEDIUM       </td><td>Clerk#000001570</td><td>promise up the pending th</td><td><div class=\"dni-plaintext\"><pre>0</pre></div></td><td><div class=\"dni-plaintext\"><pre>&lt;null&gt;</pre></div></td></tr><tr><td><div class=\"dni-plaintext\"><pre>16062118</pre></div></td><td><div class=\"dni-plaintext\"><pre>645532</pre></div></td><td>F</td><td><div class=\"dni-plaintext\"><pre>46924.83</pre></div></td><td><span>1992-03-21 00:00:00Z</span></td><td>4-NOT SPECIFIED</td><td>Clerk#000005137</td><td>s try to are furiously along the always regular excuses. unusua</td><td><div class=\"dni-plaintext\"><pre>0</pre></div></td><td><div class=\"dni-plaintext\"><pre>&lt;null&gt;</pre></div></td></tr><tr><td><div class=\"dni-plaintext\"><pre>16062208</pre></div></td><td><div class=\"dni-plaintext\"><pre>559729</pre></div></td><td>F</td><td><div class=\"dni-plaintext\"><pre>192162.09</pre></div></td><td><span>1992-05-29 00:00:00Z</span></td><td>5-LOW          </td><td>Clerk#000004390</td><td> fluffily. final accounts according to the quickly ironic package</td><td><div class=\"dni-plaintext\"><pre>0</pre></div></td><td><div class=\"dni-plaintext\"><pre>&lt;null&gt;</pre></div></td></tr><tr><td><div class=\"dni-plaintext\"><pre>16062240</pre></div></td><td><div class=\"dni-plaintext\"><pre>1388513</pre></div></td><td>F</td><td><div class=\"dni-plaintext\"><pre>94465.42</pre></div></td><td><span>1992-10-03 00:00:00Z</span></td><td>2-HIGH         </td><td>Clerk#000001597</td><td>ly bold deposits cajole </td><td><div class=\"dni-plaintext\"><pre>0</pre></div></td><td><div class=\"dni-plaintext\"><pre>&lt;null&gt;</pre></div></td></tr></tbody></table><style>\r\n",
       ".dni-code-hint {\r\n",
       "    font-style: italic;\r\n",
       "    overflow: hidden;\r\n",
       "    white-space: nowrap;\r\n",
       "}\r\n",
       ".dni-treeview {\r\n",
       "    white-space: nowrap;\r\n",
       "}\r\n",
       ".dni-treeview td {\r\n",
       "    vertical-align: top;\r\n",
       "    text-align: start;\r\n",
       "}\r\n",
       "details.dni-treeview {\r\n",
       "    padding-left: 1em;\r\n",
       "}\r\n",
       "table td {\r\n",
       "    text-align: start;\r\n",
       "}\r\n",
       "table tr { \r\n",
       "    vertical-align: top; \r\n",
       "    margin: 0em 0px;\r\n",
       "}\r\n",
       "table tr td pre \r\n",
       "{ \r\n",
       "    vertical-align: top !important; \r\n",
       "    margin: 0em 0px !important;\r\n",
       "} \r\n",
       "table th {\r\n",
       "    text-align: start;\r\n",
       "}\r\n",
       "</style>"
      ]
     },
     "metadata": {},
     "output_type": "display_data"
    }
   ],
   "source": [
    "SELECT TOP 5 * from orders_4_no_index;"
   ]
  },
  {
   "cell_type": "code",
   "execution_count": 30,
   "id": "67648669",
   "metadata": {
    "polyglot_notebook": {
     "kernelName": "sql-SS2025_tpch_test"
    }
   },
   "outputs": [
    {
     "data": {
      "text/plain": [
       "(0 lignes affectées)"
      ]
     },
     "metadata": {},
     "output_type": "display_data"
    },
    {
     "data": {
      "text/plain": [
       "(1 ligne affectée)"
      ]
     },
     "metadata": {},
     "output_type": "display_data"
    },
    {
     "data": {
      "text/csv": [
       "count_orders_6_classic_index\r\n",
       "0\r\n"
      ],
      "text/html": [
       "<table><thead><tr><td><span>count_orders_6_classic_index</span></td></tr></thead><tbody><tr><td><div class=\"dni-plaintext\"><pre>0</pre></div></td></tr></tbody></table><style>\r\n",
       ".dni-code-hint {\r\n",
       "    font-style: italic;\r\n",
       "    overflow: hidden;\r\n",
       "    white-space: nowrap;\r\n",
       "}\r\n",
       ".dni-treeview {\r\n",
       "    white-space: nowrap;\r\n",
       "}\r\n",
       ".dni-treeview td {\r\n",
       "    vertical-align: top;\r\n",
       "    text-align: start;\r\n",
       "}\r\n",
       "details.dni-treeview {\r\n",
       "    padding-left: 1em;\r\n",
       "}\r\n",
       "table td {\r\n",
       "    text-align: start;\r\n",
       "}\r\n",
       "table tr { \r\n",
       "    vertical-align: top; \r\n",
       "    margin: 0em 0px;\r\n",
       "}\r\n",
       "table tr td pre \r\n",
       "{ \r\n",
       "    vertical-align: top !important; \r\n",
       "    margin: 0em 0px !important;\r\n",
       "} \r\n",
       "table th {\r\n",
       "    text-align: start;\r\n",
       "}\r\n",
       "</style>"
      ]
     },
     "metadata": {},
     "output_type": "display_data"
    }
   ],
   "source": [
    "DROP TABLE IF EXISTS orders_6_classic_index;\n",
    "\n",
    "SELECT * \n",
    "INTO orders_6_classic_index\n",
    "FROM orders_3\n",
    "WHERE 1=0;\n",
    "\n",
    "CREATE CLUSTERED INDEX PK_orders_6_classic_index ON  orders_6_classic_index (o_orderkey);\n",
    "\n",
    "SELECT count(*) count_orders_6_classic_index from orders_6_classic_index;"
   ]
  },
  {
   "cell_type": "code",
   "execution_count": 31,
   "id": "f1bab56c",
   "metadata": {
    "polyglot_notebook": {
     "kernelName": "pwsh"
    }
   },
   "outputs": [
    {
     "name": "stdout",
     "output_type": "stream",
     "text": [
      "2025-06-14T01:05:56.205 +02:00 -|- FastTransfer -|- PG16_to_MSS25 -|- INFORMATION -|- tpch_test.dbo.orders_6_classic_index -|- Starting\n",
      "2025-06-14T01:05:56.214 +02:00 -|- FastTransfer -|- PG16_to_MSS25 -|- INFORMATION -|- tpch_test.dbo.orders_6_classic_index -|- FastTransfer Version : 0.13.4.0 Architecture : X64 - Framework : .NET 8.0.15\n",
      "2025-06-14T01:05:56.214 +02:00 -|- FastTransfer -|- PG16_to_MSS25 -|- INFORMATION -|- tpch_test.dbo.orders_6_classic_index -|- OS : Microsoft Windows 10.0.26100\n",
      "2025-06-14T01:05:56.214 +02:00 -|- FastTransfer -|- PG16_to_MSS25 -|- INFORMATION -|- tpch_test.dbo.orders_6_classic_index -|- Process ID : 53176\n",
      "2025-06-14T01:05:56.214 +02:00 -|- FastTransfer -|- PG16_to_MSS25 -|- INFORMATION -|- tpch_test.dbo.orders_6_classic_index -|- Provided Run ID : PG16_to_MSS25\n",
      "2025-06-14T01:05:56.214 +02:00 -|- FastTransfer -|- PG16_to_MSS25 -|- INFORMATION -|- tpch_test.dbo.orders_6_classic_index -|- Source Connection Type : pgsql\n",
      "2025-06-14T01:05:56.214 +02:00 -|- FastTransfer -|- PG16_to_MSS25 -|- INFORMATION -|- tpch_test.dbo.orders_6_classic_index -|- Source SqlInstance : localhost:15432\n",
      "2025-06-14T01:05:56.215 +02:00 -|- FastTransfer -|- PG16_to_MSS25 -|- INFORMATION -|- tpch_test.dbo.orders_6_classic_index -|- Source Database : tpch\n",
      "2025-06-14T01:05:56.215 +02:00 -|- FastTransfer -|- PG16_to_MSS25 -|- INFORMATION -|- tpch_test.dbo.orders_6_classic_index -|- Source Trusted Connection : False\n",
      "2025-06-14T01:05:56.215 +02:00 -|- FastTransfer -|- PG16_to_MSS25 -|- INFORMATION -|- tpch_test.dbo.orders_6_classic_index -|- Source User : FastUser\n",
      "2025-06-14T01:05:56.215 +02:00 -|- FastTransfer -|- PG16_to_MSS25 -|- INFORMATION -|- tpch_test.dbo.orders_6_classic_index -|- Source Schema : tpch_10\n",
      "2025-06-14T01:05:56.215 +02:00 -|- FastTransfer -|- PG16_to_MSS25 -|- INFORMATION -|- tpch_test.dbo.orders_6_classic_index -|- Source Table : orders\n",
      "2025-06-14T01:05:56.215 +02:00 -|- FastTransfer -|- PG16_to_MSS25 -|- INFORMATION -|- tpch_test.dbo.orders_6_classic_index -|- Target Type : msbulk\n",
      "2025-06-14T01:05:56.215 +02:00 -|- FastTransfer -|- PG16_to_MSS25 -|- INFORMATION -|- tpch_test.dbo.orders_6_classic_index -|- Target Server : localhost\\SS2025\n",
      "2025-06-14T01:05:56.215 +02:00 -|- FastTransfer -|- PG16_to_MSS25 -|- INFORMATION -|- tpch_test.dbo.orders_6_classic_index -|- Target Database : tpch_test\n",
      "2025-06-14T01:05:56.215 +02:00 -|- FastTransfer -|- PG16_to_MSS25 -|- INFORMATION -|- tpch_test.dbo.orders_6_classic_index -|- Target Schema : dbo\n",
      "2025-06-14T01:05:56.215 +02:00 -|- FastTransfer -|- PG16_to_MSS25 -|- INFORMATION -|- tpch_test.dbo.orders_6_classic_index -|- Target Table : orders_6_classic_index\n",
      "2025-06-14T01:05:56.215 +02:00 -|- FastTransfer -|- PG16_to_MSS25 -|- INFORMATION -|- tpch_test.dbo.orders_6_classic_index -|- Target Trusted Connection : True\n",
      "2025-06-14T01:05:56.215 +02:00 -|- FastTransfer -|- PG16_to_MSS25 -|- INFORMATION -|- tpch_test.dbo.orders_6_classic_index -|- Columns Map Method : Name\n",
      "2025-06-14T01:05:56.215 +02:00 -|- FastTransfer -|- PG16_to_MSS25 -|- INFORMATION -|- tpch_test.dbo.orders_6_classic_index -|- Degree : -2\n",
      "2025-06-14T01:05:56.215 +02:00 -|- FastTransfer -|- PG16_to_MSS25 -|- INFORMATION -|- tpch_test.dbo.orders_6_classic_index -|- Distribute Method : Ntile\n",
      "2025-06-14T01:05:56.215 +02:00 -|- FastTransfer -|- PG16_to_MSS25 -|- INFORMATION -|- tpch_test.dbo.orders_6_classic_index -|- Distribute Column : o_orderkey\n",
      "2025-06-14T01:05:56.215 +02:00 -|- FastTransfer -|- PG16_to_MSS25 -|- INFORMATION -|- tpch_test.dbo.orders_6_classic_index -|- Bulkcopy Batch Size : 1048576\n",
      "2025-06-14T01:05:56.215 +02:00 -|- FastTransfer -|- PG16_to_MSS25 -|- INFORMATION -|- tpch_test.dbo.orders_6_classic_index -|- Load Mode : Truncate\n",
      "2025-06-14T01:05:56.215 +02:00 -|- FastTransfer -|- PG16_to_MSS25 -|- INFORMATION -|- tpch_test.dbo.orders_6_classic_index -|- Use Work Tables : False\n",
      "2025-06-14T01:05:56.215 +02:00 -|- FastTransfer -|- PG16_to_MSS25 -|- INFORMATION -|- tpch_test.dbo.orders_6_classic_index -|- Encoding used : Unicode (UTF-8) - 65001 - utf-8\n",
      "2025-06-14T01:05:56.273 +02:00 -|- FastTransfer -|- PG16_to_MSS25 -|- INFORMATION -|- tpch_test.dbo.orders_6_classic_index -|- Source Connection String : Host=localhost;Port=15432;Database=tpch;Trust Server Certificate=True;Application Name=FastTransfer;Timeout=15;Command Timeout=10800;Username=FastUser;Password=xxxxx\n",
      "2025-06-14T01:05:56.273 +02:00 -|- FastTransfer -|- PG16_to_MSS25 -|- INFORMATION -|- tpch_test.dbo.orders_6_classic_index -|- Target Connection String : Data Source=localhost\\SS2025;Initial Catalog=tpch_test;Integrated Security=True;Connect Timeout=120;Encrypt=True;Trust Server Certificate=True;Application Name=FastTransfer;Application Intent=ReadWrite;Command Timeout=10800\n",
      "2025-06-14T01:05:56.273 +02:00 -|- FastTransfer -|- PG16_to_MSS25 -|- INFORMATION -|- tpch_test.dbo.orders_6_classic_index -|- Source Database Version : PostgreSQL 16.1, compiled by Visual C++ build 1937, 64-bit\n",
      "2025-06-14T01:05:56.273 +02:00 -|- FastTransfer -|- PG16_to_MSS25 -|- INFORMATION -|- tpch_test.dbo.orders_6_classic_index -|- Target Database Version : Microsoft SQL Server 2025 (CTP2.0) - 17.0.700.9 (X64)  \tMay  8 2025 19:14:27  \tCopyright (C) 2025 Microsoft Corporation \tEnterprise Developer Edition (64-bit) on Windows 10 Pro 10.0 <X64> (Build 26100: ) (Hypervisor) \n",
      "2025-06-14T01:05:56.279 +02:00 -|- FastTransfer -|- PG16_to_MSS25 -|- INFORMATION -|- tpch_test.dbo.orders_6_classic_index -|- Degree of parallelism was computed to 16 (=> 32\\2)\n",
      "2025-06-14T01:06:02.330 +02:00 -|- FastTransfer -|- PG16_to_MSS25 -|- INFORMATION -|- tpch_test.dbo.orders_6_classic_index -|- Ntile DataSegments Computation Completed in 6050 ms\n",
      "2025-06-14T01:06:02.333 +02:00 -|- FastTransfer -|- PG16_to_MSS25 -|- INFORMATION -|- tpch_test.dbo.orders_6_classic_index -|- Start Loading Data using distribution method NTile\n",
      "2025-06-14T01:06:02.334 +02:00 -|- FastTransfer -|- PG16_to_MSS25 -|- INFORMATION -|- tpch_test.dbo.orders_6_classic_index -|- Table \"dbo\".\"orders_6_classic_index\" has a Clustered Index. BulkCopy will use KeepNulls and UseInternalTransaction and avoid Tablock\n",
      "2025-06-14T01:06:02.334 +02:00 -|- FastTransfer -|- PG16_to_MSS25 -|- INFORMATION -|- tpch_test.dbo.orders_6_classic_index -|- BulkCopy to \"dbo\".\"orders_6_classic_index\" with BatchSize = 1048576, Timeout = 3600\n",
      "2025-06-14T01:06:02.373 +02:00 -|- FastTransfer -|- PG16_to_MSS25 -|- INFORMATION -|- tpch_test.dbo.orders_6_classic_index -|- Start Loading Data using distribution method NTile\n",
      "2025-06-14T01:06:02.373 +02:00 -|- FastTransfer -|- PG16_to_MSS25 -|- INFORMATION -|- tpch_test.dbo.orders_6_classic_index -|- Table \"dbo\".\"orders_6_classic_index\" has a Clustered Index. BulkCopy will use KeepNulls and UseInternalTransaction and avoid Tablock\n",
      "2025-06-14T01:06:02.374 +02:00 -|- FastTransfer -|- PG16_to_MSS25 -|- INFORMATION -|- tpch_test.dbo.orders_6_classic_index -|- BulkCopy to \"dbo\".\"orders_6_classic_index\" with BatchSize = 1048576, Timeout = 3600\n",
      "2025-06-14T01:06:02.379 +02:00 -|- FastTransfer -|- PG16_to_MSS25 -|- INFORMATION -|- tpch_test.dbo.orders_6_classic_index -|- Start Loading Data using distribution method NTile\n",
      "2025-06-14T01:06:02.380 +02:00 -|- FastTransfer -|- PG16_to_MSS25 -|- INFORMATION -|- tpch_test.dbo.orders_6_classic_index -|- Table \"dbo\".\"orders_6_classic_index\" has a Clustered Index. BulkCopy will use KeepNulls and UseInternalTransaction and avoid Tablock\n",
      "2025-06-14T01:06:02.380 +02:00 -|- FastTransfer -|- PG16_to_MSS25 -|- INFORMATION -|- tpch_test.dbo.orders_6_classic_index -|- BulkCopy to \"dbo\".\"orders_6_classic_index\" with BatchSize = 1048576, Timeout = 3600\n",
      "2025-06-14T01:06:02.382 +02:00 -|- FastTransfer -|- PG16_to_MSS25 -|- WARNING -|- tpch_test.dbo.orders_6_classic_index -|- Only 9 out of 10 columns were mapped by name to the target table \"dbo\".\"orders_6_classic_index\"\n",
      "2025-06-14T01:06:02.385 +02:00 -|- FastTransfer -|- PG16_to_MSS25 -|- INFORMATION -|- tpch_test.dbo.orders_6_classic_index -|- Start Loading Data using distribution method NTile\n",
      "2025-06-14T01:06:02.386 +02:00 -|- FastTransfer -|- PG16_to_MSS25 -|- INFORMATION -|- tpch_test.dbo.orders_6_classic_index -|- Table \"dbo\".\"orders_6_classic_index\" has a Clustered Index. BulkCopy will use KeepNulls and UseInternalTransaction and avoid Tablock\n",
      "2025-06-14T01:06:02.386 +02:00 -|- FastTransfer -|- PG16_to_MSS25 -|- INFORMATION -|- tpch_test.dbo.orders_6_classic_index -|- BulkCopy to \"dbo\".\"orders_6_classic_index\" with BatchSize = 1048576, Timeout = 3600\n",
      "2025-06-14T01:06:02.391 +02:00 -|- FastTransfer -|- PG16_to_MSS25 -|- INFORMATION -|- tpch_test.dbo.orders_6_classic_index -|- Start Loading Data using distribution method NTile\n",
      "2025-06-14T01:06:02.392 +02:00 -|- FastTransfer -|- PG16_to_MSS25 -|- INFORMATION -|- tpch_test.dbo.orders_6_classic_index -|- Table \"dbo\".\"orders_6_classic_index\" has a Clustered Index. BulkCopy will use KeepNulls and UseInternalTransaction and avoid Tablock\n",
      "2025-06-14T01:06:02.392 +02:00 -|- FastTransfer -|- PG16_to_MSS25 -|- INFORMATION -|- tpch_test.dbo.orders_6_classic_index -|- BulkCopy to \"dbo\".\"orders_6_classic_index\" with BatchSize = 1048576, Timeout = 3600\n",
      "2025-06-14T01:06:02.395 +02:00 -|- FastTransfer -|- PG16_to_MSS25 -|- INFORMATION -|- tpch_test.dbo.orders_6_classic_index -|- Start Loading Data using distribution method NTile\n",
      "2025-06-14T01:06:02.395 +02:00 -|- FastTransfer -|- PG16_to_MSS25 -|- INFORMATION -|- tpch_test.dbo.orders_6_classic_index -|- Table \"dbo\".\"orders_6_classic_index\" has a Clustered Index. BulkCopy will use KeepNulls and UseInternalTransaction and avoid Tablock\n",
      "2025-06-14T01:06:02.395 +02:00 -|- FastTransfer -|- PG16_to_MSS25 -|- INFORMATION -|- tpch_test.dbo.orders_6_classic_index -|- BulkCopy to \"dbo\".\"orders_6_classic_index\" with BatchSize = 1048576, Timeout = 3600\n",
      "2025-06-14T01:06:02.398 +02:00 -|- FastTransfer -|- PG16_to_MSS25 -|- INFORMATION -|- tpch_test.dbo.orders_6_classic_index -|- Start Loading Data using distribution method NTile\n",
      "2025-06-14T01:06:02.399 +02:00 -|- FastTransfer -|- PG16_to_MSS25 -|- INFORMATION -|- tpch_test.dbo.orders_6_classic_index -|- Table \"dbo\".\"orders_6_classic_index\" has a Clustered Index. BulkCopy will use KeepNulls and UseInternalTransaction and avoid Tablock\n",
      "2025-06-14T01:06:02.399 +02:00 -|- FastTransfer -|- PG16_to_MSS25 -|- INFORMATION -|- tpch_test.dbo.orders_6_classic_index -|- BulkCopy to \"dbo\".\"orders_6_classic_index\" with BatchSize = 1048576, Timeout = 3600\n",
      "2025-06-14T01:06:02.407 +02:00 -|- FastTransfer -|- PG16_to_MSS25 -|- INFORMATION -|- tpch_test.dbo.orders_6_classic_index -|- Start Loading Data using distribution method NTile\n",
      "2025-06-14T01:06:02.407 +02:00 -|- FastTransfer -|- PG16_to_MSS25 -|- INFORMATION -|- tpch_test.dbo.orders_6_classic_index -|- Table \"dbo\".\"orders_6_classic_index\" has a Clustered Index. BulkCopy will use KeepNulls and UseInternalTransaction and avoid Tablock\n",
      "2025-06-14T01:06:02.407 +02:00 -|- FastTransfer -|- PG16_to_MSS25 -|- INFORMATION -|- tpch_test.dbo.orders_6_classic_index -|- BulkCopy to \"dbo\".\"orders_6_classic_index\" with BatchSize = 1048576, Timeout = 3600\n",
      "2025-06-14T01:06:02.411 +02:00 -|- FastTransfer -|- PG16_to_MSS25 -|- INFORMATION -|- tpch_test.dbo.orders_6_classic_index -|- Start Loading Data using distribution method NTile\n",
      "2025-06-14T01:06:02.411 +02:00 -|- FastTransfer -|- PG16_to_MSS25 -|- INFORMATION -|- tpch_test.dbo.orders_6_classic_index -|- Table \"dbo\".\"orders_6_classic_index\" has a Clustered Index. BulkCopy will use KeepNulls and UseInternalTransaction and avoid Tablock\n",
      "2025-06-14T01:06:02.411 +02:00 -|- FastTransfer -|- PG16_to_MSS25 -|- INFORMATION -|- tpch_test.dbo.orders_6_classic_index -|- BulkCopy to \"dbo\".\"orders_6_classic_index\" with BatchSize = 1048576, Timeout = 3600\n",
      "2025-06-14T01:06:02.414 +02:00 -|- FastTransfer -|- PG16_to_MSS25 -|- INFORMATION -|- tpch_test.dbo.orders_6_classic_index -|- Start Loading Data using distribution method NTile\n",
      "2025-06-14T01:06:02.415 +02:00 -|- FastTransfer -|- PG16_to_MSS25 -|- INFORMATION -|- tpch_test.dbo.orders_6_classic_index -|- Table \"dbo\".\"orders_6_classic_index\" has a Clustered Index. BulkCopy will use KeepNulls and UseInternalTransaction and avoid Tablock\n",
      "2025-06-14T01:06:02.415 +02:00 -|- FastTransfer -|- PG16_to_MSS25 -|- INFORMATION -|- tpch_test.dbo.orders_6_classic_index -|- BulkCopy to \"dbo\".\"orders_6_classic_index\" with BatchSize = 1048576, Timeout = 3600\n",
      "2025-06-14T01:06:02.418 +02:00 -|- FastTransfer -|- PG16_to_MSS25 -|- INFORMATION -|- tpch_test.dbo.orders_6_classic_index -|- Start Loading Data using distribution method NTile\n",
      "2025-06-14T01:06:02.418 +02:00 -|- FastTransfer -|- PG16_to_MSS25 -|- INFORMATION -|- tpch_test.dbo.orders_6_classic_index -|- Table \"dbo\".\"orders_6_classic_index\" has a Clustered Index. BulkCopy will use KeepNulls and UseInternalTransaction and avoid Tablock\n",
      "2025-06-14T01:06:02.419 +02:00 -|- FastTransfer -|- PG16_to_MSS25 -|- INFORMATION -|- tpch_test.dbo.orders_6_classic_index -|- BulkCopy to \"dbo\".\"orders_6_classic_index\" with BatchSize = 1048576, Timeout = 3600\n",
      "2025-06-14T01:06:02.422 +02:00 -|- FastTransfer -|- PG16_to_MSS25 -|- INFORMATION -|- tpch_test.dbo.orders_6_classic_index -|- Start Loading Data using distribution method NTile\n",
      "2025-06-14T01:06:02.422 +02:00 -|- FastTransfer -|- PG16_to_MSS25 -|- INFORMATION -|- tpch_test.dbo.orders_6_classic_index -|- Table \"dbo\".\"orders_6_classic_index\" has a Clustered Index. BulkCopy will use KeepNulls and UseInternalTransaction and avoid Tablock\n",
      "2025-06-14T01:06:02.422 +02:00 -|- FastTransfer -|- PG16_to_MSS25 -|- INFORMATION -|- tpch_test.dbo.orders_6_classic_index -|- BulkCopy to \"dbo\".\"orders_6_classic_index\" with BatchSize = 1048576, Timeout = 3600\n",
      "2025-06-14T01:06:02.425 +02:00 -|- FastTransfer -|- PG16_to_MSS25 -|- INFORMATION -|- tpch_test.dbo.orders_6_classic_index -|- Start Loading Data using distribution method NTile\n",
      "2025-06-14T01:06:02.426 +02:00 -|- FastTransfer -|- PG16_to_MSS25 -|- INFORMATION -|- tpch_test.dbo.orders_6_classic_index -|- Table \"dbo\".\"orders_6_classic_index\" has a Clustered Index. BulkCopy will use KeepNulls and UseInternalTransaction and avoid Tablock\n",
      "2025-06-14T01:06:02.426 +02:00 -|- FastTransfer -|- PG16_to_MSS25 -|- INFORMATION -|- tpch_test.dbo.orders_6_classic_index -|- BulkCopy to \"dbo\".\"orders_6_classic_index\" with BatchSize = 1048576, Timeout = 3600\n",
      "2025-06-14T01:06:02.429 +02:00 -|- FastTransfer -|- PG16_to_MSS25 -|- INFORMATION -|- tpch_test.dbo.orders_6_classic_index -|- Start Loading Data using distribution method NTile\n",
      "2025-06-14T01:06:02.429 +02:00 -|- FastTransfer -|- PG16_to_MSS25 -|- INFORMATION -|- tpch_test.dbo.orders_6_classic_index -|- Table \"dbo\".\"orders_6_classic_index\" has a Clustered Index. BulkCopy will use KeepNulls and UseInternalTransaction and avoid Tablock\n",
      "2025-06-14T01:06:02.429 +02:00 -|- FastTransfer -|- PG16_to_MSS25 -|- INFORMATION -|- tpch_test.dbo.orders_6_classic_index -|- BulkCopy to \"dbo\".\"orders_6_classic_index\" with BatchSize = 1048576, Timeout = 3600\n",
      "2025-06-14T01:06:02.430 +02:00 -|- FastTransfer -|- PG16_to_MSS25 -|- WARNING -|- tpch_test.dbo.orders_6_classic_index -|- Only 9 out of 10 columns were mapped by name to the target table \"dbo\".\"orders_6_classic_index\"\n",
      "2025-06-14T01:06:02.432 +02:00 -|- FastTransfer -|- PG16_to_MSS25 -|- INFORMATION -|- tpch_test.dbo.orders_6_classic_index -|- Start Loading Data using distribution method NTile\n",
      "2025-06-14T01:06:02.432 +02:00 -|- FastTransfer -|- PG16_to_MSS25 -|- INFORMATION -|- tpch_test.dbo.orders_6_classic_index -|- Table \"dbo\".\"orders_6_classic_index\" has a Clustered Index. BulkCopy will use KeepNulls and UseInternalTransaction and avoid Tablock\n",
      "2025-06-14T01:06:02.433 +02:00 -|- FastTransfer -|- PG16_to_MSS25 -|- INFORMATION -|- tpch_test.dbo.orders_6_classic_index -|- BulkCopy to \"dbo\".\"orders_6_classic_index\" with BatchSize = 1048576, Timeout = 3600\n",
      "2025-06-14T01:06:02.435 +02:00 -|- FastTransfer -|- PG16_to_MSS25 -|- INFORMATION -|- tpch_test.dbo.orders_6_classic_index -|- Start Loading Data using distribution method NTile\n",
      "2025-06-14T01:06:02.436 +02:00 -|- FastTransfer -|- PG16_to_MSS25 -|- INFORMATION -|- tpch_test.dbo.orders_6_classic_index -|- Table \"dbo\".\"orders_6_classic_index\" has a Clustered Index. BulkCopy will use KeepNulls and UseInternalTransaction and avoid Tablock\n",
      "2025-06-14T01:06:02.436 +02:00 -|- FastTransfer -|- PG16_to_MSS25 -|- INFORMATION -|- tpch_test.dbo.orders_6_classic_index -|- BulkCopy to \"dbo\".\"orders_6_classic_index\" with BatchSize = 1048576, Timeout = 3600\n",
      "2025-06-14T01:06:02.440 +02:00 -|- FastTransfer -|- PG16_to_MSS25 -|- WARNING -|- tpch_test.dbo.orders_6_classic_index -|- Only 9 out of 10 columns were mapped by name to the target table \"dbo\".\"orders_6_classic_index\"\n",
      "2025-06-14T01:06:02.441 +02:00 -|- FastTransfer -|- PG16_to_MSS25 -|- WARNING -|- tpch_test.dbo.orders_6_classic_index -|- Only 9 out of 10 columns were mapped by name to the target table \"dbo\".\"orders_6_classic_index\"\n",
      "2025-06-14T01:06:02.442 +02:00 -|- FastTransfer -|- PG16_to_MSS25 -|- WARNING -|- tpch_test.dbo.orders_6_classic_index -|- Only 9 out of 10 columns were mapped by name to the target table \"dbo\".\"orders_6_classic_index\"\n",
      "2025-06-14T01:06:02.457 +02:00 -|- FastTransfer -|- PG16_to_MSS25 -|- WARNING -|- tpch_test.dbo.orders_6_classic_index -|- Only 9 out of 10 columns were mapped by name to the target table \"dbo\".\"orders_6_classic_index\"\n",
      "2025-06-14T01:06:02.462 +02:00 -|- FastTransfer -|- PG16_to_MSS25 -|- WARNING -|- tpch_test.dbo.orders_6_classic_index -|- Only 9 out of 10 columns were mapped by name to the target table \"dbo\".\"orders_6_classic_index\"\n",
      "2025-06-14T01:06:02.462 +02:00 -|- FastTransfer -|- PG16_to_MSS25 -|- WARNING -|- tpch_test.dbo.orders_6_classic_index -|- Only 9 out of 10 columns were mapped by name to the target table \"dbo\".\"orders_6_classic_index\"\n",
      "2025-06-14T01:06:02.466 +02:00 -|- FastTransfer -|- PG16_to_MSS25 -|- WARNING -|- tpch_test.dbo.orders_6_classic_index -|- Only 9 out of 10 columns were mapped by name to the target table \"dbo\".\"orders_6_classic_index\"\n",
      "2025-06-14T01:06:02.479 +02:00 -|- FastTransfer -|- PG16_to_MSS25 -|- WARNING -|- tpch_test.dbo.orders_6_classic_index -|- Only 9 out of 10 columns were mapped by name to the target table \"dbo\".\"orders_6_classic_index\"\n",
      "2025-06-14T01:06:02.486 +02:00 -|- FastTransfer -|- PG16_to_MSS25 -|- WARNING -|- tpch_test.dbo.orders_6_classic_index -|- Only 9 out of 10 columns were mapped by name to the target table \"dbo\".\"orders_6_classic_index\"\n",
      "2025-06-14T01:06:02.486 +02:00 -|- FastTransfer -|- PG16_to_MSS25 -|- WARNING -|- tpch_test.dbo.orders_6_classic_index -|- Only 9 out of 10 columns were mapped by name to the target table \"dbo\".\"orders_6_classic_index\"\n",
      "2025-06-14T01:06:02.495 +02:00 -|- FastTransfer -|- PG16_to_MSS25 -|- WARNING -|- tpch_test.dbo.orders_6_classic_index -|- Only 9 out of 10 columns were mapped by name to the target table \"dbo\".\"orders_6_classic_index\"\n",
      "2025-06-14T01:06:02.499 +02:00 -|- FastTransfer -|- PG16_to_MSS25 -|- WARNING -|- tpch_test.dbo.orders_6_classic_index -|- Only 9 out of 10 columns were mapped by name to the target table \"dbo\".\"orders_6_classic_index\"\n",
      "2025-06-14T01:06:02.504 +02:00 -|- FastTransfer -|- PG16_to_MSS25 -|- WARNING -|- tpch_test.dbo.orders_6_classic_index -|- Only 9 out of 10 columns were mapped by name to the target table \"dbo\".\"orders_6_classic_index\"\n",
      "2025-06-14T01:06:02.507 +02:00 -|- FastTransfer -|- PG16_to_MSS25 -|- WARNING -|- tpch_test.dbo.orders_6_classic_index -|- Only 9 out of 10 columns were mapped by name to the target table \"dbo\".\"orders_6_classic_index\"\n",
      "2025-06-14T01:06:07.012 +02:00 -|- FastTransfer -|- PG16_to_MSS25 -|- INFORMATION -|- tpch_test.dbo.orders_6_classic_index -|- Completed Load Query 2 for o_orderkey between 7500002 and 11249990 : 937501 rows x 9 columns in 4679ms\n",
      "2025-06-14T01:06:07.019 +02:00 -|- FastTransfer -|- PG16_to_MSS25 -|- INFORMATION -|- tpch_test.dbo.orders_6_classic_index -|- Completed Load Query 1 for o_orderkey between 3749989 and 7500001 : 937501 rows x 9 columns in 4686ms\n",
      "2025-06-14T01:06:07.089 +02:00 -|- FastTransfer -|- PG16_to_MSS25 -|- INFORMATION -|- tpch_test.dbo.orders_6_classic_index -|- Completed Load Query 0 for o_orderkey between 1 and 3749988 : 937500 rows x 9 columns in 4756ms\n",
      "2025-06-14T01:06:08.116 +02:00 -|- FastTransfer -|- PG16_to_MSS25 -|- INFORMATION -|- tpch_test.dbo.orders_6_classic_index -|- Completed Load Query 3 for o_orderkey between 11249991 and 15000003 : 937501 rows x 9 columns in 5783ms\n",
      "2025-06-14T01:06:08.129 +02:00 -|- FastTransfer -|- PG16_to_MSS25 -|- INFORMATION -|- tpch_test.dbo.orders_6_classic_index -|- Completed Load Query 10 for o_orderkey between 37500034 and 41250022 : 937501 rows x 9 columns in 5795ms\n",
      "2025-06-14T01:06:08.133 +02:00 -|- FastTransfer -|- PG16_to_MSS25 -|- INFORMATION -|- tpch_test.dbo.orders_6_classic_index -|- Completed Load Query 15 for o_orderkey between 56250051 and 60000000 : 937486 rows x 9 columns in 5799ms\n",
      "2025-06-14T01:06:08.166 +02:00 -|- FastTransfer -|- PG16_to_MSS25 -|- INFORMATION -|- tpch_test.dbo.orders_6_classic_index -|- Completed Load Query 14 for o_orderkey between 52500038 and 56250050 : 937501 rows x 9 columns in 5832ms\n",
      "2025-06-14T01:06:08.289 +02:00 -|- FastTransfer -|- PG16_to_MSS25 -|- INFORMATION -|- tpch_test.dbo.orders_6_classic_index -|- Completed Load Query 12 for o_orderkey between 45000036 and 48750048 : 937501 rows x 9 columns in 5955ms\n",
      "2025-06-14T01:06:08.312 +02:00 -|- FastTransfer -|- PG16_to_MSS25 -|- INFORMATION -|- tpch_test.dbo.orders_6_classic_index -|- Completed Load Query 7 for o_orderkey between 26250019 and 30000007 : 937501 rows x 9 columns in 5979ms\n",
      "2025-06-14T01:06:08.328 +02:00 -|- FastTransfer -|- PG16_to_MSS25 -|- INFORMATION -|- tpch_test.dbo.orders_6_classic_index -|- Completed Load Query 5 for o_orderkey between 18750017 and 22500005 : 937501 rows x 9 columns in 5996ms\n",
      "2025-06-14T01:06:08.333 +02:00 -|- FastTransfer -|- PG16_to_MSS25 -|- INFORMATION -|- tpch_test.dbo.orders_6_classic_index -|- Completed Load Query 9 for o_orderkey between 33750021 and 37500033 : 937501 rows x 9 columns in 5999ms\n",
      "2025-06-14T01:06:08.335 +02:00 -|- FastTransfer -|- PG16_to_MSS25 -|- INFORMATION -|- tpch_test.dbo.orders_6_classic_index -|- Completed Load Query 11 for o_orderkey between 41250023 and 45000035 : 937501 rows x 9 columns in 6001ms\n",
      "2025-06-14T01:06:08.336 +02:00 -|- FastTransfer -|- PG16_to_MSS25 -|- INFORMATION -|- tpch_test.dbo.orders_6_classic_index -|- Completed Load Query 13 for o_orderkey between 48750049 and 52500037 : 937501 rows x 9 columns in 6002ms\n",
      "2025-06-14T01:06:08.659 +02:00 -|- FastTransfer -|- PG16_to_MSS25 -|- INFORMATION -|- tpch_test.dbo.orders_6_classic_index -|- Completed Load Query 4 for o_orderkey between 15000004 and 18750016 : 937501 rows x 9 columns in 6327ms\n",
      "2025-06-14T01:06:08.816 +02:00 -|- FastTransfer -|- PG16_to_MSS25 -|- INFORMATION -|- tpch_test.dbo.orders_6_classic_index -|- Completed Load Query 6 for o_orderkey between 22500006 and 26250018 : 937501 rows x 9 columns in 6483ms\n",
      "2025-06-14T01:06:09.114 +02:00 -|- FastTransfer -|- PG16_to_MSS25 -|- INFORMATION -|- tpch_test.dbo.orders_6_classic_index -|- Completed Load Query 8 for o_orderkey between 30000032 and 33750020 : 937501 rows x 9 columns in 6780ms\n",
      "2025-06-14T01:06:09.115 +02:00 -|- FastTransfer -|- PG16_to_MSS25 -|- INFORMATION -|- tpch_test.dbo.orders_6_classic_index -|- Total rows : 15000000\n",
      "2025-06-14T01:06:09.115 +02:00 -|- FastTransfer -|- PG16_to_MSS25 -|- INFORMATION -|- tpch_test.dbo.orders_6_classic_index -|- Total columns : 9\n",
      "2025-06-14T01:06:09.115 +02:00 -|- FastTransfer -|- PG16_to_MSS25 -|- INFORMATION -|- tpch_test.dbo.orders_6_classic_index -|- Total cells : 135000000\n",
      "2025-06-14T01:06:09.115 +02:00 -|- FastTransfer -|- PG16_to_MSS25 -|- INFORMATION -|- tpch_test.dbo.orders_6_classic_index -|- Rows Throughput : 1168574 rows/s\n",
      "2025-06-14T01:06:09.115 +02:00 -|- FastTransfer -|- PG16_to_MSS25 -|- INFORMATION -|- tpch_test.dbo.orders_6_classic_index -|- Cells Throughput : 10517176 cells/s\n",
      "2025-06-14T01:06:09.115 +02:00 -|- FastTransfer -|- PG16_to_MSS25 -|- INFORMATION -|- tpch_test.dbo.orders_6_classic_index -|- Transfert time : Elapsed=12836 ms\n",
      "2025-06-14T01:06:09.115 +02:00 -|- FastTransfer -|- PG16_to_MSS25 -|- INFORMATION -|- tpch_test.dbo.orders_6_classic_index -|- Total time : Elapsed=13073 ms\n",
      "2025-06-14T01:06:09.115 +02:00 -|- FastTransfer -|- PG16_to_MSS25 -|- INFORMATION -|- tpch_test.dbo.orders_6_classic_index -|- Completed Load\n"
     ]
    }
   ],
   "source": [
    "cd D:\\FastTransfer\n",
    "\n",
    ".\\FastTransfer.exe `\n",
    "--sourceconnectiontype \"pgsql\" `\n",
    "--sourceserver \"localhost:15432\" `\n",
    "--sourcedatabase \"tpch\" `\n",
    "--sourceuser \"FastUser\" `\n",
    "--sourcepassword \"FastPassword\" `\n",
    "--sourceschema \"tpch_10\" `\n",
    "--sourcetable \"orders\" `\n",
    "`\n",
    "--targetconnectiontype \"msbulk\" `\n",
    "--targetserver \"localhost\\SS2025\" `\n",
    "--targettrusted `\n",
    "--targetdatabase \"tpch_test\" `\n",
    "--targetschema \"dbo\" `\n",
    "--targettable \"orders_6_classic_index\" `\n",
    "`\n",
    "--loadmode \"Truncate\" `\n",
    "--mapmethod \"Name\" `\n",
    "--method \"Ntile\" `\n",
    "--distributekeycolumn \"o_orderkey\" `\n",
    "--degree -2 `\n",
    "--runid \"PG16_to_MSS25\""
   ]
  },
  {
   "cell_type": "markdown",
   "id": "bcc9f359",
   "metadata": {},
   "source": [
    "#### Target orders with a primary key"
   ]
  },
  {
   "cell_type": "code",
   "execution_count": 32,
   "id": "01570a9d",
   "metadata": {
    "polyglot_notebook": {
     "kernelName": "sql-SS2025_tpch_test"
    }
   },
   "outputs": [
    {
     "data": {
      "text/plain": [
       "(0 lignes affectées)"
      ]
     },
     "metadata": {},
     "output_type": "display_data"
    },
    {
     "data": {
      "text/plain": [
       "(1 ligne affectée)"
      ]
     },
     "metadata": {},
     "output_type": "display_data"
    },
    {
     "data": {
      "text/csv": [
       "count_orders_7_primarykey\r\n",
       "0\r\n"
      ],
      "text/html": [
       "<table><thead><tr><td><span>count_orders_7_primarykey</span></td></tr></thead><tbody><tr><td><div class=\"dni-plaintext\"><pre>0</pre></div></td></tr></tbody></table><style>\r\n",
       ".dni-code-hint {\r\n",
       "    font-style: italic;\r\n",
       "    overflow: hidden;\r\n",
       "    white-space: nowrap;\r\n",
       "}\r\n",
       ".dni-treeview {\r\n",
       "    white-space: nowrap;\r\n",
       "}\r\n",
       ".dni-treeview td {\r\n",
       "    vertical-align: top;\r\n",
       "    text-align: start;\r\n",
       "}\r\n",
       "details.dni-treeview {\r\n",
       "    padding-left: 1em;\r\n",
       "}\r\n",
       "table td {\r\n",
       "    text-align: start;\r\n",
       "}\r\n",
       "table tr { \r\n",
       "    vertical-align: top; \r\n",
       "    margin: 0em 0px;\r\n",
       "}\r\n",
       "table tr td pre \r\n",
       "{ \r\n",
       "    vertical-align: top !important; \r\n",
       "    margin: 0em 0px !important;\r\n",
       "} \r\n",
       "table th {\r\n",
       "    text-align: start;\r\n",
       "}\r\n",
       "</style>"
      ]
     },
     "metadata": {},
     "output_type": "display_data"
    }
   ],
   "source": [
    "DROP TABLE IF EXISTS orders_7_primarykey;\n",
    "\n",
    "SELECT * \n",
    "INTO orders_7_primarykey\n",
    "FROM orders_3\n",
    "WHERE 1=0;\n",
    "\n",
    "ALTER TABLE  orders_7_primarykey ADD CONSTRAINT PK_orders_7_primarykey PRIMARY KEY CLUSTERED (o_orderkey);\n",
    "\n",
    "SELECT count(*) count_orders_7_primarykey from orders_7_primarykey;"
   ]
  },
  {
   "cell_type": "code",
   "execution_count": 33,
   "id": "f6091ae9",
   "metadata": {
    "polyglot_notebook": {
     "kernelName": "pwsh"
    }
   },
   "outputs": [
    {
     "name": "stdout",
     "output_type": "stream",
     "text": [
      "2025-06-14T01:06:19.992 +02:00 -|- FastTransfer -|- PG16_to_MSS25 -|- INFORMATION -|- tpch_test.dbo.orders_7_primarykey -|- Starting\n",
      "2025-06-14T01:06:20.002 +02:00 -|- FastTransfer -|- PG16_to_MSS25 -|- INFORMATION -|- tpch_test.dbo.orders_7_primarykey -|- FastTransfer Version : 0.13.4.0 Architecture : X64 - Framework : .NET 8.0.15\n",
      "2025-06-14T01:06:20.002 +02:00 -|- FastTransfer -|- PG16_to_MSS25 -|- INFORMATION -|- tpch_test.dbo.orders_7_primarykey -|- OS : Microsoft Windows 10.0.26100\n",
      "2025-06-14T01:06:20.002 +02:00 -|- FastTransfer -|- PG16_to_MSS25 -|- INFORMATION -|- tpch_test.dbo.orders_7_primarykey -|- Process ID : 51888\n",
      "2025-06-14T01:06:20.002 +02:00 -|- FastTransfer -|- PG16_to_MSS25 -|- INFORMATION -|- tpch_test.dbo.orders_7_primarykey -|- Provided Run ID : PG16_to_MSS25\n",
      "2025-06-14T01:06:20.002 +02:00 -|- FastTransfer -|- PG16_to_MSS25 -|- INFORMATION -|- tpch_test.dbo.orders_7_primarykey -|- Source Connection Type : pgsql\n",
      "2025-06-14T01:06:20.002 +02:00 -|- FastTransfer -|- PG16_to_MSS25 -|- INFORMATION -|- tpch_test.dbo.orders_7_primarykey -|- Source SqlInstance : localhost:15432\n",
      "2025-06-14T01:06:20.002 +02:00 -|- FastTransfer -|- PG16_to_MSS25 -|- INFORMATION -|- tpch_test.dbo.orders_7_primarykey -|- Source Database : tpch\n",
      "2025-06-14T01:06:20.002 +02:00 -|- FastTransfer -|- PG16_to_MSS25 -|- INFORMATION -|- tpch_test.dbo.orders_7_primarykey -|- Source Trusted Connection : False\n",
      "2025-06-14T01:06:20.002 +02:00 -|- FastTransfer -|- PG16_to_MSS25 -|- INFORMATION -|- tpch_test.dbo.orders_7_primarykey -|- Source User : FastUser\n",
      "2025-06-14T01:06:20.002 +02:00 -|- FastTransfer -|- PG16_to_MSS25 -|- INFORMATION -|- tpch_test.dbo.orders_7_primarykey -|- Source Schema : tpch_10\n",
      "2025-06-14T01:06:20.002 +02:00 -|- FastTransfer -|- PG16_to_MSS25 -|- INFORMATION -|- tpch_test.dbo.orders_7_primarykey -|- Source Table : orders\n",
      "2025-06-14T01:06:20.002 +02:00 -|- FastTransfer -|- PG16_to_MSS25 -|- INFORMATION -|- tpch_test.dbo.orders_7_primarykey -|- Target Type : msbulk\n",
      "2025-06-14T01:06:20.002 +02:00 -|- FastTransfer -|- PG16_to_MSS25 -|- INFORMATION -|- tpch_test.dbo.orders_7_primarykey -|- Target Server : localhost\\SS2025\n",
      "2025-06-14T01:06:20.002 +02:00 -|- FastTransfer -|- PG16_to_MSS25 -|- INFORMATION -|- tpch_test.dbo.orders_7_primarykey -|- Target Database : tpch_test\n",
      "2025-06-14T01:06:20.002 +02:00 -|- FastTransfer -|- PG16_to_MSS25 -|- INFORMATION -|- tpch_test.dbo.orders_7_primarykey -|- Target Schema : dbo\n",
      "2025-06-14T01:06:20.002 +02:00 -|- FastTransfer -|- PG16_to_MSS25 -|- INFORMATION -|- tpch_test.dbo.orders_7_primarykey -|- Target Table : orders_7_primarykey\n",
      "2025-06-14T01:06:20.002 +02:00 -|- FastTransfer -|- PG16_to_MSS25 -|- INFORMATION -|- tpch_test.dbo.orders_7_primarykey -|- Target Trusted Connection : True\n",
      "2025-06-14T01:06:20.002 +02:00 -|- FastTransfer -|- PG16_to_MSS25 -|- INFORMATION -|- tpch_test.dbo.orders_7_primarykey -|- Columns Map Method : Name\n",
      "2025-06-14T01:06:20.003 +02:00 -|- FastTransfer -|- PG16_to_MSS25 -|- INFORMATION -|- tpch_test.dbo.orders_7_primarykey -|- Degree : -2\n",
      "2025-06-14T01:06:20.003 +02:00 -|- FastTransfer -|- PG16_to_MSS25 -|- INFORMATION -|- tpch_test.dbo.orders_7_primarykey -|- Distribute Method : Ntile\n",
      "2025-06-14T01:06:20.003 +02:00 -|- FastTransfer -|- PG16_to_MSS25 -|- INFORMATION -|- tpch_test.dbo.orders_7_primarykey -|- Distribute Column : o_orderkey\n",
      "2025-06-14T01:06:20.003 +02:00 -|- FastTransfer -|- PG16_to_MSS25 -|- INFORMATION -|- tpch_test.dbo.orders_7_primarykey -|- Bulkcopy Batch Size : 1048576\n",
      "2025-06-14T01:06:20.003 +02:00 -|- FastTransfer -|- PG16_to_MSS25 -|- INFORMATION -|- tpch_test.dbo.orders_7_primarykey -|- Load Mode : Truncate\n",
      "2025-06-14T01:06:20.003 +02:00 -|- FastTransfer -|- PG16_to_MSS25 -|- INFORMATION -|- tpch_test.dbo.orders_7_primarykey -|- Use Work Tables : False\n",
      "2025-06-14T01:06:20.003 +02:00 -|- FastTransfer -|- PG16_to_MSS25 -|- INFORMATION -|- tpch_test.dbo.orders_7_primarykey -|- Encoding used : Unicode (UTF-8) - 65001 - utf-8\n",
      "2025-06-14T01:06:20.062 +02:00 -|- FastTransfer -|- PG16_to_MSS25 -|- INFORMATION -|- tpch_test.dbo.orders_7_primarykey -|- Source Connection String : Host=localhost;Port=15432;Database=tpch;Trust Server Certificate=True;Application Name=FastTransfer;Timeout=15;Command Timeout=10800;Username=FastUser;Password=xxxxx\n",
      "2025-06-14T01:06:20.063 +02:00 -|- FastTransfer -|- PG16_to_MSS25 -|- INFORMATION -|- tpch_test.dbo.orders_7_primarykey -|- Target Connection String : Data Source=localhost\\SS2025;Initial Catalog=tpch_test;Integrated Security=True;Connect Timeout=120;Encrypt=True;Trust Server Certificate=True;Application Name=FastTransfer;Application Intent=ReadWrite;Command Timeout=10800\n",
      "2025-06-14T01:06:20.063 +02:00 -|- FastTransfer -|- PG16_to_MSS25 -|- INFORMATION -|- tpch_test.dbo.orders_7_primarykey -|- Source Database Version : PostgreSQL 16.1, compiled by Visual C++ build 1937, 64-bit\n",
      "2025-06-14T01:06:20.063 +02:00 -|- FastTransfer -|- PG16_to_MSS25 -|- INFORMATION -|- tpch_test.dbo.orders_7_primarykey -|- Target Database Version : Microsoft SQL Server 2025 (CTP2.0) - 17.0.700.9 (X64)  \tMay  8 2025 19:14:27  \tCopyright (C) 2025 Microsoft Corporation \tEnterprise Developer Edition (64-bit) on Windows 10 Pro 10.0 <X64> (Build 26100: ) (Hypervisor) \n",
      "2025-06-14T01:06:20.068 +02:00 -|- FastTransfer -|- PG16_to_MSS25 -|- INFORMATION -|- tpch_test.dbo.orders_7_primarykey -|- Degree of parallelism was computed to 16 (=> 32\\2)\n",
      "2025-06-14T01:06:26.215 +02:00 -|- FastTransfer -|- PG16_to_MSS25 -|- INFORMATION -|- tpch_test.dbo.orders_7_primarykey -|- Ntile DataSegments Computation Completed in 6147 ms\n",
      "2025-06-14T01:06:26.219 +02:00 -|- FastTransfer -|- PG16_to_MSS25 -|- INFORMATION -|- tpch_test.dbo.orders_7_primarykey -|- Start Loading Data using distribution method NTile\n",
      "2025-06-14T01:06:26.220 +02:00 -|- FastTransfer -|- PG16_to_MSS25 -|- INFORMATION -|- tpch_test.dbo.orders_7_primarykey -|- Table \"dbo\".\"orders_7_primarykey\" has a Clustered Index. BulkCopy will use KeepNulls and UseInternalTransaction and avoid Tablock\n",
      "2025-06-14T01:06:26.220 +02:00 -|- FastTransfer -|- PG16_to_MSS25 -|- INFORMATION -|- tpch_test.dbo.orders_7_primarykey -|- BulkCopy to \"dbo\".\"orders_7_primarykey\" with BatchSize = 1048576, Timeout = 3600\n",
      "2025-06-14T01:06:26.261 +02:00 -|- FastTransfer -|- PG16_to_MSS25 -|- INFORMATION -|- tpch_test.dbo.orders_7_primarykey -|- Start Loading Data using distribution method NTile\n",
      "2025-06-14T01:06:26.262 +02:00 -|- FastTransfer -|- PG16_to_MSS25 -|- INFORMATION -|- tpch_test.dbo.orders_7_primarykey -|- Table \"dbo\".\"orders_7_primarykey\" has a Clustered Index. BulkCopy will use KeepNulls and UseInternalTransaction and avoid Tablock\n",
      "2025-06-14T01:06:26.262 +02:00 -|- FastTransfer -|- PG16_to_MSS25 -|- INFORMATION -|- tpch_test.dbo.orders_7_primarykey -|- BulkCopy to \"dbo\".\"orders_7_primarykey\" with BatchSize = 1048576, Timeout = 3600\n",
      "2025-06-14T01:06:26.265 +02:00 -|- FastTransfer -|- PG16_to_MSS25 -|- WARNING -|- tpch_test.dbo.orders_7_primarykey -|- Only 9 out of 10 columns were mapped by name to the target table \"dbo\".\"orders_7_primarykey\"\n",
      "2025-06-14T01:06:26.265 +02:00 -|- FastTransfer -|- PG16_to_MSS25 -|- INFORMATION -|- tpch_test.dbo.orders_7_primarykey -|- Start Loading Data using distribution method NTile\n",
      "2025-06-14T01:06:26.265 +02:00 -|- FastTransfer -|- PG16_to_MSS25 -|- INFORMATION -|- tpch_test.dbo.orders_7_primarykey -|- Table \"dbo\".\"orders_7_primarykey\" has a Clustered Index. BulkCopy will use KeepNulls and UseInternalTransaction and avoid Tablock\n",
      "2025-06-14T01:06:26.266 +02:00 -|- FastTransfer -|- PG16_to_MSS25 -|- INFORMATION -|- tpch_test.dbo.orders_7_primarykey -|- BulkCopy to \"dbo\".\"orders_7_primarykey\" with BatchSize = 1048576, Timeout = 3600\n",
      "2025-06-14T01:06:26.269 +02:00 -|- FastTransfer -|- PG16_to_MSS25 -|- INFORMATION -|- tpch_test.dbo.orders_7_primarykey -|- Start Loading Data using distribution method NTile\n",
      "2025-06-14T01:06:26.269 +02:00 -|- FastTransfer -|- PG16_to_MSS25 -|- INFORMATION -|- tpch_test.dbo.orders_7_primarykey -|- Table \"dbo\".\"orders_7_primarykey\" has a Clustered Index. BulkCopy will use KeepNulls and UseInternalTransaction and avoid Tablock\n",
      "2025-06-14T01:06:26.269 +02:00 -|- FastTransfer -|- PG16_to_MSS25 -|- INFORMATION -|- tpch_test.dbo.orders_7_primarykey -|- BulkCopy to \"dbo\".\"orders_7_primarykey\" with BatchSize = 1048576, Timeout = 3600\n",
      "2025-06-14T01:06:26.274 +02:00 -|- FastTransfer -|- PG16_to_MSS25 -|- INFORMATION -|- tpch_test.dbo.orders_7_primarykey -|- Start Loading Data using distribution method NTile\n",
      "2025-06-14T01:06:26.274 +02:00 -|- FastTransfer -|- PG16_to_MSS25 -|- INFORMATION -|- tpch_test.dbo.orders_7_primarykey -|- Table \"dbo\".\"orders_7_primarykey\" has a Clustered Index. BulkCopy will use KeepNulls and UseInternalTransaction and avoid Tablock\n",
      "2025-06-14T01:06:26.274 +02:00 -|- FastTransfer -|- PG16_to_MSS25 -|- INFORMATION -|- tpch_test.dbo.orders_7_primarykey -|- BulkCopy to \"dbo\".\"orders_7_primarykey\" with BatchSize = 1048576, Timeout = 3600\n",
      "2025-06-14T01:06:26.280 +02:00 -|- FastTransfer -|- PG16_to_MSS25 -|- INFORMATION -|- tpch_test.dbo.orders_7_primarykey -|- Start Loading Data using distribution method NTile\n",
      "2025-06-14T01:06:26.281 +02:00 -|- FastTransfer -|- PG16_to_MSS25 -|- INFORMATION -|- tpch_test.dbo.orders_7_primarykey -|- Table \"dbo\".\"orders_7_primarykey\" has a Clustered Index. BulkCopy will use KeepNulls and UseInternalTransaction and avoid Tablock\n",
      "2025-06-14T01:06:26.281 +02:00 -|- FastTransfer -|- PG16_to_MSS25 -|- INFORMATION -|- tpch_test.dbo.orders_7_primarykey -|- BulkCopy to \"dbo\".\"orders_7_primarykey\" with BatchSize = 1048576, Timeout = 3600\n",
      "2025-06-14T01:06:26.287 +02:00 -|- FastTransfer -|- PG16_to_MSS25 -|- INFORMATION -|- tpch_test.dbo.orders_7_primarykey -|- Start Loading Data using distribution method NTile\n",
      "2025-06-14T01:06:26.287 +02:00 -|- FastTransfer -|- PG16_to_MSS25 -|- INFORMATION -|- tpch_test.dbo.orders_7_primarykey -|- Table \"dbo\".\"orders_7_primarykey\" has a Clustered Index. BulkCopy will use KeepNulls and UseInternalTransaction and avoid Tablock\n",
      "2025-06-14T01:06:26.287 +02:00 -|- FastTransfer -|- PG16_to_MSS25 -|- INFORMATION -|- tpch_test.dbo.orders_7_primarykey -|- BulkCopy to \"dbo\".\"orders_7_primarykey\" with BatchSize = 1048576, Timeout = 3600\n",
      "2025-06-14T01:06:26.290 +02:00 -|- FastTransfer -|- PG16_to_MSS25 -|- INFORMATION -|- tpch_test.dbo.orders_7_primarykey -|- Start Loading Data using distribution method NTile\n",
      "2025-06-14T01:06:26.291 +02:00 -|- FastTransfer -|- PG16_to_MSS25 -|- INFORMATION -|- tpch_test.dbo.orders_7_primarykey -|- Table \"dbo\".\"orders_7_primarykey\" has a Clustered Index. BulkCopy will use KeepNulls and UseInternalTransaction and avoid Tablock\n",
      "2025-06-14T01:06:26.291 +02:00 -|- FastTransfer -|- PG16_to_MSS25 -|- INFORMATION -|- tpch_test.dbo.orders_7_primarykey -|- BulkCopy to \"dbo\".\"orders_7_primarykey\" with BatchSize = 1048576, Timeout = 3600\n",
      "2025-06-14T01:06:26.294 +02:00 -|- FastTransfer -|- PG16_to_MSS25 -|- INFORMATION -|- tpch_test.dbo.orders_7_primarykey -|- Start Loading Data using distribution method NTile\n",
      "2025-06-14T01:06:26.295 +02:00 -|- FastTransfer -|- PG16_to_MSS25 -|- INFORMATION -|- tpch_test.dbo.orders_7_primarykey -|- Table \"dbo\".\"orders_7_primarykey\" has a Clustered Index. BulkCopy will use KeepNulls and UseInternalTransaction and avoid Tablock\n",
      "2025-06-14T01:06:26.295 +02:00 -|- FastTransfer -|- PG16_to_MSS25 -|- INFORMATION -|- tpch_test.dbo.orders_7_primarykey -|- BulkCopy to \"dbo\".\"orders_7_primarykey\" with BatchSize = 1048576, Timeout = 3600\n",
      "2025-06-14T01:06:26.298 +02:00 -|- FastTransfer -|- PG16_to_MSS25 -|- INFORMATION -|- tpch_test.dbo.orders_7_primarykey -|- Start Loading Data using distribution method NTile\n",
      "2025-06-14T01:06:26.298 +02:00 -|- FastTransfer -|- PG16_to_MSS25 -|- INFORMATION -|- tpch_test.dbo.orders_7_primarykey -|- Table \"dbo\".\"orders_7_primarykey\" has a Clustered Index. BulkCopy will use KeepNulls and UseInternalTransaction and avoid Tablock\n",
      "2025-06-14T01:06:26.298 +02:00 -|- FastTransfer -|- PG16_to_MSS25 -|- INFORMATION -|- tpch_test.dbo.orders_7_primarykey -|- BulkCopy to \"dbo\".\"orders_7_primarykey\" with BatchSize = 1048576, Timeout = 3600\n",
      "2025-06-14T01:06:26.302 +02:00 -|- FastTransfer -|- PG16_to_MSS25 -|- INFORMATION -|- tpch_test.dbo.orders_7_primarykey -|- Start Loading Data using distribution method NTile\n",
      "2025-06-14T01:06:26.302 +02:00 -|- FastTransfer -|- PG16_to_MSS25 -|- INFORMATION -|- tpch_test.dbo.orders_7_primarykey -|- Table \"dbo\".\"orders_7_primarykey\" has a Clustered Index. BulkCopy will use KeepNulls and UseInternalTransaction and avoid Tablock\n",
      "2025-06-14T01:06:26.302 +02:00 -|- FastTransfer -|- PG16_to_MSS25 -|- INFORMATION -|- tpch_test.dbo.orders_7_primarykey -|- BulkCopy to \"dbo\".\"orders_7_primarykey\" with BatchSize = 1048576, Timeout = 3600\n",
      "2025-06-14T01:06:26.305 +02:00 -|- FastTransfer -|- PG16_to_MSS25 -|- INFORMATION -|- tpch_test.dbo.orders_7_primarykey -|- Start Loading Data using distribution method NTile\n",
      "2025-06-14T01:06:26.305 +02:00 -|- FastTransfer -|- PG16_to_MSS25 -|- INFORMATION -|- tpch_test.dbo.orders_7_primarykey -|- Table \"dbo\".\"orders_7_primarykey\" has a Clustered Index. BulkCopy will use KeepNulls and UseInternalTransaction and avoid Tablock\n",
      "2025-06-14T01:06:26.305 +02:00 -|- FastTransfer -|- PG16_to_MSS25 -|- INFORMATION -|- tpch_test.dbo.orders_7_primarykey -|- BulkCopy to \"dbo\".\"orders_7_primarykey\" with BatchSize = 1048576, Timeout = 3600\n",
      "2025-06-14T01:06:26.308 +02:00 -|- FastTransfer -|- PG16_to_MSS25 -|- INFORMATION -|- tpch_test.dbo.orders_7_primarykey -|- Start Loading Data using distribution method NTile\n",
      "2025-06-14T01:06:26.309 +02:00 -|- FastTransfer -|- PG16_to_MSS25 -|- INFORMATION -|- tpch_test.dbo.orders_7_primarykey -|- Table \"dbo\".\"orders_7_primarykey\" has a Clustered Index. BulkCopy will use KeepNulls and UseInternalTransaction and avoid Tablock\n",
      "2025-06-14T01:06:26.309 +02:00 -|- FastTransfer -|- PG16_to_MSS25 -|- INFORMATION -|- tpch_test.dbo.orders_7_primarykey -|- BulkCopy to \"dbo\".\"orders_7_primarykey\" with BatchSize = 1048576, Timeout = 3600\n",
      "2025-06-14T01:06:26.309 +02:00 -|- FastTransfer -|- PG16_to_MSS25 -|- WARNING -|- tpch_test.dbo.orders_7_primarykey -|- Only 9 out of 10 columns were mapped by name to the target table \"dbo\".\"orders_7_primarykey\"\n",
      "2025-06-14T01:06:26.312 +02:00 -|- FastTransfer -|- PG16_to_MSS25 -|- INFORMATION -|- tpch_test.dbo.orders_7_primarykey -|- Start Loading Data using distribution method NTile\n",
      "2025-06-14T01:06:26.312 +02:00 -|- FastTransfer -|- PG16_to_MSS25 -|- INFORMATION -|- tpch_test.dbo.orders_7_primarykey -|- Table \"dbo\".\"orders_7_primarykey\" has a Clustered Index. BulkCopy will use KeepNulls and UseInternalTransaction and avoid Tablock\n",
      "2025-06-14T01:06:26.312 +02:00 -|- FastTransfer -|- PG16_to_MSS25 -|- INFORMATION -|- tpch_test.dbo.orders_7_primarykey -|- BulkCopy to \"dbo\".\"orders_7_primarykey\" with BatchSize = 1048576, Timeout = 3600\n",
      "2025-06-14T01:06:26.314 +02:00 -|- FastTransfer -|- PG16_to_MSS25 -|- WARNING -|- tpch_test.dbo.orders_7_primarykey -|- Only 9 out of 10 columns were mapped by name to the target table \"dbo\".\"orders_7_primarykey\"\n",
      "2025-06-14T01:06:26.318 +02:00 -|- FastTransfer -|- PG16_to_MSS25 -|- WARNING -|- tpch_test.dbo.orders_7_primarykey -|- Only 9 out of 10 columns were mapped by name to the target table \"dbo\".\"orders_7_primarykey\"\n",
      "2025-06-14T01:06:26.323 +02:00 -|- FastTransfer -|- PG16_to_MSS25 -|- WARNING -|- tpch_test.dbo.orders_7_primarykey -|- Only 9 out of 10 columns were mapped by name to the target table \"dbo\".\"orders_7_primarykey\"\n",
      "2025-06-14T01:06:26.336 +02:00 -|- FastTransfer -|- PG16_to_MSS25 -|- WARNING -|- tpch_test.dbo.orders_7_primarykey -|- Only 9 out of 10 columns were mapped by name to the target table \"dbo\".\"orders_7_primarykey\"\n",
      "2025-06-14T01:06:26.341 +02:00 -|- FastTransfer -|- PG16_to_MSS25 -|- WARNING -|- tpch_test.dbo.orders_7_primarykey -|- Only 9 out of 10 columns were mapped by name to the target table \"dbo\".\"orders_7_primarykey\"\n",
      "2025-06-14T01:06:26.345 +02:00 -|- FastTransfer -|- PG16_to_MSS25 -|- WARNING -|- tpch_test.dbo.orders_7_primarykey -|- Only 9 out of 10 columns were mapped by name to the target table \"dbo\".\"orders_7_primarykey\"\n",
      "2025-06-14T01:06:26.358 +02:00 -|- FastTransfer -|- PG16_to_MSS25 -|- WARNING -|- tpch_test.dbo.orders_7_primarykey -|- Only 9 out of 10 columns were mapped by name to the target table \"dbo\".\"orders_7_primarykey\"\n",
      "2025-06-14T01:06:26.361 +02:00 -|- FastTransfer -|- PG16_to_MSS25 -|- WARNING -|- tpch_test.dbo.orders_7_primarykey -|- Only 9 out of 10 columns were mapped by name to the target table \"dbo\".\"orders_7_primarykey\"\n",
      "2025-06-14T01:06:26.362 +02:00 -|- FastTransfer -|- PG16_to_MSS25 -|- WARNING -|- tpch_test.dbo.orders_7_primarykey -|- Only 9 out of 10 columns were mapped by name to the target table \"dbo\".\"orders_7_primarykey\"\n",
      "2025-06-14T01:06:26.368 +02:00 -|- FastTransfer -|- PG16_to_MSS25 -|- WARNING -|- tpch_test.dbo.orders_7_primarykey -|- Only 9 out of 10 columns were mapped by name to the target table \"dbo\".\"orders_7_primarykey\"\n",
      "2025-06-14T01:06:26.372 +02:00 -|- FastTransfer -|- PG16_to_MSS25 -|- INFORMATION -|- tpch_test.dbo.orders_7_primarykey -|- Start Loading Data using distribution method NTile\n",
      "2025-06-14T01:06:26.373 +02:00 -|- FastTransfer -|- PG16_to_MSS25 -|- INFORMATION -|- tpch_test.dbo.orders_7_primarykey -|- Table \"dbo\".\"orders_7_primarykey\" has a Clustered Index. BulkCopy will use KeepNulls and UseInternalTransaction and avoid Tablock\n",
      "2025-06-14T01:06:26.373 +02:00 -|- FastTransfer -|- PG16_to_MSS25 -|- INFORMATION -|- tpch_test.dbo.orders_7_primarykey -|- BulkCopy to \"dbo\".\"orders_7_primarykey\" with BatchSize = 1048576, Timeout = 3600\n",
      "2025-06-14T01:06:26.375 +02:00 -|- FastTransfer -|- PG16_to_MSS25 -|- WARNING -|- tpch_test.dbo.orders_7_primarykey -|- Only 9 out of 10 columns were mapped by name to the target table \"dbo\".\"orders_7_primarykey\"\n",
      "2025-06-14T01:06:26.377 +02:00 -|- FastTransfer -|- PG16_to_MSS25 -|- WARNING -|- tpch_test.dbo.orders_7_primarykey -|- Only 9 out of 10 columns were mapped by name to the target table \"dbo\".\"orders_7_primarykey\"\n",
      "2025-06-14T01:06:26.393 +02:00 -|- FastTransfer -|- PG16_to_MSS25 -|- INFORMATION -|- tpch_test.dbo.orders_7_primarykey -|- Start Loading Data using distribution method NTile\n",
      "2025-06-14T01:06:26.393 +02:00 -|- FastTransfer -|- PG16_to_MSS25 -|- INFORMATION -|- tpch_test.dbo.orders_7_primarykey -|- Table \"dbo\".\"orders_7_primarykey\" has a Clustered Index. BulkCopy will use KeepNulls and UseInternalTransaction and avoid Tablock\n",
      "2025-06-14T01:06:26.393 +02:00 -|- FastTransfer -|- PG16_to_MSS25 -|- INFORMATION -|- tpch_test.dbo.orders_7_primarykey -|- BulkCopy to \"dbo\".\"orders_7_primarykey\" with BatchSize = 1048576, Timeout = 3600\n",
      "2025-06-14T01:06:26.425 +02:00 -|- FastTransfer -|- PG16_to_MSS25 -|- WARNING -|- tpch_test.dbo.orders_7_primarykey -|- Only 9 out of 10 columns were mapped by name to the target table \"dbo\".\"orders_7_primarykey\"\n",
      "2025-06-14T01:06:26.461 +02:00 -|- FastTransfer -|- PG16_to_MSS25 -|- WARNING -|- tpch_test.dbo.orders_7_primarykey -|- Only 9 out of 10 columns were mapped by name to the target table \"dbo\".\"orders_7_primarykey\"\n",
      "2025-06-14T01:06:30.566 +02:00 -|- FastTransfer -|- PG16_to_MSS25 -|- INFORMATION -|- tpch_test.dbo.orders_7_primarykey -|- Completed Load Query 1 for o_orderkey between 3749989 and 7500001 : 937501 rows x 9 columns in 4348ms\n",
      "2025-06-14T01:06:30.749 +02:00 -|- FastTransfer -|- PG16_to_MSS25 -|- INFORMATION -|- tpch_test.dbo.orders_7_primarykey -|- Completed Load Query 0 for o_orderkey between 1 and 3749988 : 937500 rows x 9 columns in 4531ms\n",
      "2025-06-14T01:06:31.663 +02:00 -|- FastTransfer -|- PG16_to_MSS25 -|- INFORMATION -|- tpch_test.dbo.orders_7_primarykey -|- Completed Load Query 2 for o_orderkey between 7500002 and 11249990 : 937501 rows x 9 columns in 5444ms\n",
      "2025-06-14T01:06:31.690 +02:00 -|- FastTransfer -|- PG16_to_MSS25 -|- INFORMATION -|- tpch_test.dbo.orders_7_primarykey -|- Completed Load Query 3 for o_orderkey between 11249991 and 15000003 : 937501 rows x 9 columns in 5472ms\n",
      "2025-06-14T01:06:31.749 +02:00 -|- FastTransfer -|- PG16_to_MSS25 -|- INFORMATION -|- tpch_test.dbo.orders_7_primarykey -|- Completed Load Query 5 for o_orderkey between 18750017 and 22500005 : 937501 rows x 9 columns in 5531ms\n",
      "2025-06-14T01:06:31.779 +02:00 -|- FastTransfer -|- PG16_to_MSS25 -|- INFORMATION -|- tpch_test.dbo.orders_7_primarykey -|- Completed Load Query 11 for o_orderkey between 41250023 and 45000035 : 937501 rows x 9 columns in 5559ms\n",
      "2025-06-14T01:06:31.786 +02:00 -|- FastTransfer -|- PG16_to_MSS25 -|- INFORMATION -|- tpch_test.dbo.orders_7_primarykey -|- Completed Load Query 7 for o_orderkey between 26250019 and 30000007 : 937501 rows x 9 columns in 5567ms\n",
      "2025-06-14T01:06:31.795 +02:00 -|- FastTransfer -|- PG16_to_MSS25 -|- INFORMATION -|- tpch_test.dbo.orders_7_primarykey -|- Completed Load Query 15 for o_orderkey between 56250051 and 60000000 : 937486 rows x 9 columns in 5574ms\n",
      "2025-06-14T01:06:31.795 +02:00 -|- FastTransfer -|- PG16_to_MSS25 -|- INFORMATION -|- tpch_test.dbo.orders_7_primarykey -|- Completed Load Query 13 for o_orderkey between 48750049 and 52500037 : 937501 rows x 9 columns in 5575ms\n",
      "2025-06-14T01:06:31.800 +02:00 -|- FastTransfer -|- PG16_to_MSS25 -|- INFORMATION -|- tpch_test.dbo.orders_7_primarykey -|- Completed Load Query 9 for o_orderkey between 33750021 and 37500033 : 937501 rows x 9 columns in 5580ms\n",
      "2025-06-14T01:06:31.801 +02:00 -|- FastTransfer -|- PG16_to_MSS25 -|- INFORMATION -|- tpch_test.dbo.orders_7_primarykey -|- Completed Load Query 10 for o_orderkey between 37500034 and 41250022 : 937501 rows x 9 columns in 5581ms\n",
      "2025-06-14T01:06:31.863 +02:00 -|- FastTransfer -|- PG16_to_MSS25 -|- INFORMATION -|- tpch_test.dbo.orders_7_primarykey -|- Completed Load Query 8 for o_orderkey between 30000032 and 33750020 : 937501 rows x 9 columns in 5644ms\n",
      "2025-06-14T01:06:32.229 +02:00 -|- FastTransfer -|- PG16_to_MSS25 -|- INFORMATION -|- tpch_test.dbo.orders_7_primarykey -|- Completed Load Query 6 for o_orderkey between 22500006 and 26250018 : 937501 rows x 9 columns in 6011ms\n",
      "2025-06-14T01:06:32.275 +02:00 -|- FastTransfer -|- PG16_to_MSS25 -|- INFORMATION -|- tpch_test.dbo.orders_7_primarykey -|- Completed Load Query 14 for o_orderkey between 52500038 and 56250050 : 937501 rows x 9 columns in 6055ms\n",
      "2025-06-14T01:06:32.351 +02:00 -|- FastTransfer -|- PG16_to_MSS25 -|- INFORMATION -|- tpch_test.dbo.orders_7_primarykey -|- Completed Load Query 4 for o_orderkey between 15000004 and 18750016 : 937501 rows x 9 columns in 6133ms\n",
      "2025-06-14T01:06:32.372 +02:00 -|- FastTransfer -|- PG16_to_MSS25 -|- INFORMATION -|- tpch_test.dbo.orders_7_primarykey -|- Completed Load Query 12 for o_orderkey between 45000036 and 48750048 : 937501 rows x 9 columns in 6152ms\n",
      "2025-06-14T01:06:32.373 +02:00 -|- FastTransfer -|- PG16_to_MSS25 -|- INFORMATION -|- tpch_test.dbo.orders_7_primarykey -|- Total rows : 15000000\n",
      "2025-06-14T01:06:32.373 +02:00 -|- FastTransfer -|- PG16_to_MSS25 -|- INFORMATION -|- tpch_test.dbo.orders_7_primarykey -|- Total columns : 9\n",
      "2025-06-14T01:06:32.373 +02:00 -|- FastTransfer -|- PG16_to_MSS25 -|- INFORMATION -|- tpch_test.dbo.orders_7_primarykey -|- Total cells : 135000000\n",
      "2025-06-14T01:06:32.373 +02:00 -|- FastTransfer -|- PG16_to_MSS25 -|- INFORMATION -|- tpch_test.dbo.orders_7_primarykey -|- Rows Throughput : 1218977 rows/s\n",
      "2025-06-14T01:06:32.373 +02:00 -|- FastTransfer -|- PG16_to_MSS25 -|- INFORMATION -|- tpch_test.dbo.orders_7_primarykey -|- Cells Throughput : 10970799 cells/s\n",
      "2025-06-14T01:06:32.373 +02:00 -|- FastTransfer -|- PG16_to_MSS25 -|- INFORMATION -|- tpch_test.dbo.orders_7_primarykey -|- Transfert time : Elapsed=12305 ms\n",
      "2025-06-14T01:06:32.373 +02:00 -|- FastTransfer -|- PG16_to_MSS25 -|- INFORMATION -|- tpch_test.dbo.orders_7_primarykey -|- Total time : Elapsed=12541 ms\n",
      "2025-06-14T01:06:32.373 +02:00 -|- FastTransfer -|- PG16_to_MSS25 -|- INFORMATION -|- tpch_test.dbo.orders_7_primarykey -|- Completed Load\n"
     ]
    }
   ],
   "source": [
    "cd D:\\FastTransfer\n",
    "\n",
    ".\\FastTransfer.exe `\n",
    "--sourceconnectiontype \"pgsql\" `\n",
    "--sourceserver \"localhost:15432\" `\n",
    "--sourcedatabase \"tpch\" `\n",
    "--sourceuser \"FastUser\" `\n",
    "--sourcepassword \"FastPassword\" `\n",
    "--sourceschema \"tpch_10\" `\n",
    "--sourcetable \"orders\" `\n",
    "`\n",
    "--targetconnectiontype \"msbulk\" `\n",
    "--targetserver \"localhost\\SS2025\" `\n",
    "--targettrusted `\n",
    "--targetdatabase \"tpch_test\" `\n",
    "--targetschema \"dbo\" `\n",
    "--targettable \"orders_7_primarykey\" `\n",
    "`\n",
    "--loadmode \"Truncate\" `\n",
    "--mapmethod \"Name\" `\n",
    "--method \"Ntile\" `\n",
    "--distributekeycolumn \"o_orderkey\" `\n",
    "--degree -2 `\n",
    "--runid \"PG16_to_MSS25\""
   ]
  },
  {
   "cell_type": "code",
   "execution_count": null,
   "id": "143c30a0",
   "metadata": {
    "polyglot_notebook": {
     "kernelName": "sql-SS2025_tpch_test"
    }
   },
   "outputs": [
    {
     "data": {
      "text/plain": [
       "(1 ligne affectée)"
      ]
     },
     "metadata": {},
     "output_type": "display_data"
    },
    {
     "data": {
      "text/csv": [
       "count_orders_7_primarykey\r\n",
       "15,000,000\r\n"
      ],
      "text/html": [
       "<table><thead><tr><td><span>count_orders_7_primarykey</span></td></tr></thead><tbody><tr><td>15,000,000</td></tr></tbody></table><style>\r\n",
       ".dni-code-hint {\r\n",
       "    font-style: italic;\r\n",
       "    overflow: hidden;\r\n",
       "    white-space: nowrap;\r\n",
       "}\r\n",
       ".dni-treeview {\r\n",
       "    white-space: nowrap;\r\n",
       "}\r\n",
       ".dni-treeview td {\r\n",
       "    vertical-align: top;\r\n",
       "    text-align: start;\r\n",
       "}\r\n",
       "details.dni-treeview {\r\n",
       "    padding-left: 1em;\r\n",
       "}\r\n",
       "table td {\r\n",
       "    text-align: start;\r\n",
       "}\r\n",
       "table tr { \r\n",
       "    vertical-align: top; \r\n",
       "    margin: 0em 0px;\r\n",
       "}\r\n",
       "table tr td pre \r\n",
       "{ \r\n",
       "    vertical-align: top !important; \r\n",
       "    margin: 0em 0px !important;\r\n",
       "} \r\n",
       "table th {\r\n",
       "    text-align: start;\r\n",
       "}\r\n",
       "</style>"
      ]
     },
     "metadata": {},
     "output_type": "display_data"
    }
   ],
   "source": [
    "SELECT FORMAT(count(*),'###,###,###') count_orders_7_primarykey from orders_7_primarykey;"
   ]
  },
  {
   "cell_type": "markdown",
   "id": "d9846f98",
   "metadata": {},
   "source": [
    "#### Target orders with a primary key and one secondary index"
   ]
  },
  {
   "cell_type": "code",
   "execution_count": 34,
   "id": "a2d311b5",
   "metadata": {
    "polyglot_notebook": {
     "kernelName": "sql-SS2025_tpch_test"
    }
   },
   "outputs": [
    {
     "data": {
      "text/plain": [
       "Commandes exécutées."
      ]
     },
     "metadata": {},
     "output_type": "display_data"
    }
   ],
   "source": [
    "CREATE INDEX IX_o_custkey ON orders_7_primarykey(o_custkey);"
   ]
  },
  {
   "cell_type": "code",
   "execution_count": 35,
   "id": "39089a48",
   "metadata": {
    "polyglot_notebook": {
     "kernelName": "pwsh"
    }
   },
   "outputs": [
    {
     "name": "stdout",
     "output_type": "stream",
     "text": [
      "2025-06-14T01:06:48.796 +02:00 -|- FastTransfer -|- PG16_to_MSS25 -|- INFORMATION -|- tpch_test.dbo.orders_7_primarykey -|- Starting\n",
      "2025-06-14T01:06:48.805 +02:00 -|- FastTransfer -|- PG16_to_MSS25 -|- INFORMATION -|- tpch_test.dbo.orders_7_primarykey -|- FastTransfer Version : 0.13.4.0 Architecture : X64 - Framework : .NET 8.0.15\n",
      "2025-06-14T01:06:48.805 +02:00 -|- FastTransfer -|- PG16_to_MSS25 -|- INFORMATION -|- tpch_test.dbo.orders_7_primarykey -|- OS : Microsoft Windows 10.0.26100\n",
      "2025-06-14T01:06:48.805 +02:00 -|- FastTransfer -|- PG16_to_MSS25 -|- INFORMATION -|- tpch_test.dbo.orders_7_primarykey -|- Process ID : 36464\n",
      "2025-06-14T01:06:48.805 +02:00 -|- FastTransfer -|- PG16_to_MSS25 -|- INFORMATION -|- tpch_test.dbo.orders_7_primarykey -|- Provided Run ID : PG16_to_MSS25\n",
      "2025-06-14T01:06:48.805 +02:00 -|- FastTransfer -|- PG16_to_MSS25 -|- INFORMATION -|- tpch_test.dbo.orders_7_primarykey -|- Source Connection Type : pgsql\n",
      "2025-06-14T01:06:48.805 +02:00 -|- FastTransfer -|- PG16_to_MSS25 -|- INFORMATION -|- tpch_test.dbo.orders_7_primarykey -|- Source SqlInstance : localhost:15432\n",
      "2025-06-14T01:06:48.805 +02:00 -|- FastTransfer -|- PG16_to_MSS25 -|- INFORMATION -|- tpch_test.dbo.orders_7_primarykey -|- Source Database : tpch\n",
      "2025-06-14T01:06:48.805 +02:00 -|- FastTransfer -|- PG16_to_MSS25 -|- INFORMATION -|- tpch_test.dbo.orders_7_primarykey -|- Source Trusted Connection : False\n",
      "2025-06-14T01:06:48.805 +02:00 -|- FastTransfer -|- PG16_to_MSS25 -|- INFORMATION -|- tpch_test.dbo.orders_7_primarykey -|- Source User : FastUser\n",
      "2025-06-14T01:06:48.805 +02:00 -|- FastTransfer -|- PG16_to_MSS25 -|- INFORMATION -|- tpch_test.dbo.orders_7_primarykey -|- Source Schema : tpch_10\n",
      "2025-06-14T01:06:48.805 +02:00 -|- FastTransfer -|- PG16_to_MSS25 -|- INFORMATION -|- tpch_test.dbo.orders_7_primarykey -|- Source Table : orders\n",
      "2025-06-14T01:06:48.805 +02:00 -|- FastTransfer -|- PG16_to_MSS25 -|- INFORMATION -|- tpch_test.dbo.orders_7_primarykey -|- Target Type : msbulk\n",
      "2025-06-14T01:06:48.805 +02:00 -|- FastTransfer -|- PG16_to_MSS25 -|- INFORMATION -|- tpch_test.dbo.orders_7_primarykey -|- Target Server : localhost\\SS2025\n",
      "2025-06-14T01:06:48.805 +02:00 -|- FastTransfer -|- PG16_to_MSS25 -|- INFORMATION -|- tpch_test.dbo.orders_7_primarykey -|- Target Database : tpch_test\n",
      "2025-06-14T01:06:48.805 +02:00 -|- FastTransfer -|- PG16_to_MSS25 -|- INFORMATION -|- tpch_test.dbo.orders_7_primarykey -|- Target Schema : dbo\n",
      "2025-06-14T01:06:48.805 +02:00 -|- FastTransfer -|- PG16_to_MSS25 -|- INFORMATION -|- tpch_test.dbo.orders_7_primarykey -|- Target Table : orders_7_primarykey\n",
      "2025-06-14T01:06:48.805 +02:00 -|- FastTransfer -|- PG16_to_MSS25 -|- INFORMATION -|- tpch_test.dbo.orders_7_primarykey -|- Target Trusted Connection : True\n",
      "2025-06-14T01:06:48.805 +02:00 -|- FastTransfer -|- PG16_to_MSS25 -|- INFORMATION -|- tpch_test.dbo.orders_7_primarykey -|- Columns Map Method : Name\n",
      "2025-06-14T01:06:48.806 +02:00 -|- FastTransfer -|- PG16_to_MSS25 -|- INFORMATION -|- tpch_test.dbo.orders_7_primarykey -|- Degree : -2\n",
      "2025-06-14T01:06:48.806 +02:00 -|- FastTransfer -|- PG16_to_MSS25 -|- INFORMATION -|- tpch_test.dbo.orders_7_primarykey -|- Distribute Method : Ntile\n",
      "2025-06-14T01:06:48.806 +02:00 -|- FastTransfer -|- PG16_to_MSS25 -|- INFORMATION -|- tpch_test.dbo.orders_7_primarykey -|- Distribute Column : o_orderkey\n",
      "2025-06-14T01:06:48.806 +02:00 -|- FastTransfer -|- PG16_to_MSS25 -|- INFORMATION -|- tpch_test.dbo.orders_7_primarykey -|- Bulkcopy Batch Size : 1048576\n",
      "2025-06-14T01:06:48.806 +02:00 -|- FastTransfer -|- PG16_to_MSS25 -|- INFORMATION -|- tpch_test.dbo.orders_7_primarykey -|- Load Mode : Truncate\n",
      "2025-06-14T01:06:48.806 +02:00 -|- FastTransfer -|- PG16_to_MSS25 -|- INFORMATION -|- tpch_test.dbo.orders_7_primarykey -|- Use Work Tables : False\n",
      "2025-06-14T01:06:48.806 +02:00 -|- FastTransfer -|- PG16_to_MSS25 -|- INFORMATION -|- tpch_test.dbo.orders_7_primarykey -|- Encoding used : Unicode (UTF-8) - 65001 - utf-8\n",
      "2025-06-14T01:06:48.866 +02:00 -|- FastTransfer -|- PG16_to_MSS25 -|- INFORMATION -|- tpch_test.dbo.orders_7_primarykey -|- Source Connection String : Host=localhost;Port=15432;Database=tpch;Trust Server Certificate=True;Application Name=FastTransfer;Timeout=15;Command Timeout=10800;Username=FastUser;Password=xxxxx\n",
      "2025-06-14T01:06:48.866 +02:00 -|- FastTransfer -|- PG16_to_MSS25 -|- INFORMATION -|- tpch_test.dbo.orders_7_primarykey -|- Target Connection String : Data Source=localhost\\SS2025;Initial Catalog=tpch_test;Integrated Security=True;Connect Timeout=120;Encrypt=True;Trust Server Certificate=True;Application Name=FastTransfer;Application Intent=ReadWrite;Command Timeout=10800\n",
      "2025-06-14T01:06:48.866 +02:00 -|- FastTransfer -|- PG16_to_MSS25 -|- INFORMATION -|- tpch_test.dbo.orders_7_primarykey -|- Source Database Version : PostgreSQL 16.1, compiled by Visual C++ build 1937, 64-bit\n",
      "2025-06-14T01:06:48.866 +02:00 -|- FastTransfer -|- PG16_to_MSS25 -|- INFORMATION -|- tpch_test.dbo.orders_7_primarykey -|- Target Database Version : Microsoft SQL Server 2025 (CTP2.0) - 17.0.700.9 (X64)  \tMay  8 2025 19:14:27  \tCopyright (C) 2025 Microsoft Corporation \tEnterprise Developer Edition (64-bit) on Windows 10 Pro 10.0 <X64> (Build 26100: ) (Hypervisor) \n",
      "2025-06-14T01:06:48.872 +02:00 -|- FastTransfer -|- PG16_to_MSS25 -|- INFORMATION -|- tpch_test.dbo.orders_7_primarykey -|- Degree of parallelism was computed to 16 (=> 32\\2)\n",
      "2025-06-14T01:06:55.041 +02:00 -|- FastTransfer -|- PG16_to_MSS25 -|- INFORMATION -|- tpch_test.dbo.orders_7_primarykey -|- Ntile DataSegments Computation Completed in 6168 ms\n",
      "2025-06-14T01:06:55.044 +02:00 -|- FastTransfer -|- PG16_to_MSS25 -|- INFORMATION -|- tpch_test.dbo.orders_7_primarykey -|- Start Loading Data using distribution method NTile\n",
      "2025-06-14T01:06:55.045 +02:00 -|- FastTransfer -|- PG16_to_MSS25 -|- INFORMATION -|- tpch_test.dbo.orders_7_primarykey -|- Table \"dbo\".\"orders_7_primarykey\" has a Clustered Index. BulkCopy will use KeepNulls and UseInternalTransaction and avoid Tablock\n",
      "2025-06-14T01:06:55.045 +02:00 -|- FastTransfer -|- PG16_to_MSS25 -|- INFORMATION -|- tpch_test.dbo.orders_7_primarykey -|- BulkCopy to \"dbo\".\"orders_7_primarykey\" with BatchSize = 1048576, Timeout = 3600\n",
      "2025-06-14T01:06:55.084 +02:00 -|- FastTransfer -|- PG16_to_MSS25 -|- INFORMATION -|- tpch_test.dbo.orders_7_primarykey -|- Start Loading Data using distribution method NTile\n",
      "2025-06-14T01:06:55.085 +02:00 -|- FastTransfer -|- PG16_to_MSS25 -|- INFORMATION -|- tpch_test.dbo.orders_7_primarykey -|- Table \"dbo\".\"orders_7_primarykey\" has a Clustered Index. BulkCopy will use KeepNulls and UseInternalTransaction and avoid Tablock\n",
      "2025-06-14T01:06:55.085 +02:00 -|- FastTransfer -|- PG16_to_MSS25 -|- INFORMATION -|- tpch_test.dbo.orders_7_primarykey -|- BulkCopy to \"dbo\".\"orders_7_primarykey\" with BatchSize = 1048576, Timeout = 3600\n",
      "2025-06-14T01:06:55.088 +02:00 -|- FastTransfer -|- PG16_to_MSS25 -|- INFORMATION -|- tpch_test.dbo.orders_7_primarykey -|- Start Loading Data using distribution method NTile\n",
      "2025-06-14T01:06:55.088 +02:00 -|- FastTransfer -|- PG16_to_MSS25 -|- INFORMATION -|- tpch_test.dbo.orders_7_primarykey -|- Table \"dbo\".\"orders_7_primarykey\" has a Clustered Index. BulkCopy will use KeepNulls and UseInternalTransaction and avoid Tablock\n",
      "2025-06-14T01:06:55.088 +02:00 -|- FastTransfer -|- PG16_to_MSS25 -|- INFORMATION -|- tpch_test.dbo.orders_7_primarykey -|- BulkCopy to \"dbo\".\"orders_7_primarykey\" with BatchSize = 1048576, Timeout = 3600\n",
      "2025-06-14T01:06:55.091 +02:00 -|- FastTransfer -|- PG16_to_MSS25 -|- WARNING -|- tpch_test.dbo.orders_7_primarykey -|- Only 9 out of 10 columns were mapped by name to the target table \"dbo\".\"orders_7_primarykey\"\n",
      "2025-06-14T01:06:55.100 +02:00 -|- FastTransfer -|- PG16_to_MSS25 -|- INFORMATION -|- tpch_test.dbo.orders_7_primarykey -|- Start Loading Data using distribution method NTile\n",
      "2025-06-14T01:06:55.100 +02:00 -|- FastTransfer -|- PG16_to_MSS25 -|- INFORMATION -|- tpch_test.dbo.orders_7_primarykey -|- Table \"dbo\".\"orders_7_primarykey\" has a Clustered Index. BulkCopy will use KeepNulls and UseInternalTransaction and avoid Tablock\n",
      "2025-06-14T01:06:55.100 +02:00 -|- FastTransfer -|- PG16_to_MSS25 -|- INFORMATION -|- tpch_test.dbo.orders_7_primarykey -|- BulkCopy to \"dbo\".\"orders_7_primarykey\" with BatchSize = 1048576, Timeout = 3600\n",
      "2025-06-14T01:06:55.104 +02:00 -|- FastTransfer -|- PG16_to_MSS25 -|- INFORMATION -|- tpch_test.dbo.orders_7_primarykey -|- Start Loading Data using distribution method NTile\n",
      "2025-06-14T01:06:55.105 +02:00 -|- FastTransfer -|- PG16_to_MSS25 -|- INFORMATION -|- tpch_test.dbo.orders_7_primarykey -|- Table \"dbo\".\"orders_7_primarykey\" has a Clustered Index. BulkCopy will use KeepNulls and UseInternalTransaction and avoid Tablock\n",
      "2025-06-14T01:06:55.105 +02:00 -|- FastTransfer -|- PG16_to_MSS25 -|- INFORMATION -|- tpch_test.dbo.orders_7_primarykey -|- BulkCopy to \"dbo\".\"orders_7_primarykey\" with BatchSize = 1048576, Timeout = 3600\n",
      "2025-06-14T01:06:55.109 +02:00 -|- FastTransfer -|- PG16_to_MSS25 -|- INFORMATION -|- tpch_test.dbo.orders_7_primarykey -|- Start Loading Data using distribution method NTile\n",
      "2025-06-14T01:06:55.110 +02:00 -|- FastTransfer -|- PG16_to_MSS25 -|- INFORMATION -|- tpch_test.dbo.orders_7_primarykey -|- Table \"dbo\".\"orders_7_primarykey\" has a Clustered Index. BulkCopy will use KeepNulls and UseInternalTransaction and avoid Tablock\n",
      "2025-06-14T01:06:55.110 +02:00 -|- FastTransfer -|- PG16_to_MSS25 -|- INFORMATION -|- tpch_test.dbo.orders_7_primarykey -|- BulkCopy to \"dbo\".\"orders_7_primarykey\" with BatchSize = 1048576, Timeout = 3600\n",
      "2025-06-14T01:06:55.114 +02:00 -|- FastTransfer -|- PG16_to_MSS25 -|- INFORMATION -|- tpch_test.dbo.orders_7_primarykey -|- Start Loading Data using distribution method NTile\n",
      "2025-06-14T01:06:55.114 +02:00 -|- FastTransfer -|- PG16_to_MSS25 -|- INFORMATION -|- tpch_test.dbo.orders_7_primarykey -|- Table \"dbo\".\"orders_7_primarykey\" has a Clustered Index. BulkCopy will use KeepNulls and UseInternalTransaction and avoid Tablock\n",
      "2025-06-14T01:06:55.115 +02:00 -|- FastTransfer -|- PG16_to_MSS25 -|- INFORMATION -|- tpch_test.dbo.orders_7_primarykey -|- BulkCopy to \"dbo\".\"orders_7_primarykey\" with BatchSize = 1048576, Timeout = 3600\n",
      "2025-06-14T01:06:55.118 +02:00 -|- FastTransfer -|- PG16_to_MSS25 -|- INFORMATION -|- tpch_test.dbo.orders_7_primarykey -|- Start Loading Data using distribution method NTile\n",
      "2025-06-14T01:06:55.118 +02:00 -|- FastTransfer -|- PG16_to_MSS25 -|- INFORMATION -|- tpch_test.dbo.orders_7_primarykey -|- Table \"dbo\".\"orders_7_primarykey\" has a Clustered Index. BulkCopy will use KeepNulls and UseInternalTransaction and avoid Tablock\n",
      "2025-06-14T01:06:55.119 +02:00 -|- FastTransfer -|- PG16_to_MSS25 -|- INFORMATION -|- tpch_test.dbo.orders_7_primarykey -|- BulkCopy to \"dbo\".\"orders_7_primarykey\" with BatchSize = 1048576, Timeout = 3600\n",
      "2025-06-14T01:06:55.122 +02:00 -|- FastTransfer -|- PG16_to_MSS25 -|- INFORMATION -|- tpch_test.dbo.orders_7_primarykey -|- Start Loading Data using distribution method NTile\n",
      "2025-06-14T01:06:55.123 +02:00 -|- FastTransfer -|- PG16_to_MSS25 -|- INFORMATION -|- tpch_test.dbo.orders_7_primarykey -|- Table \"dbo\".\"orders_7_primarykey\" has a Clustered Index. BulkCopy will use KeepNulls and UseInternalTransaction and avoid Tablock\n",
      "2025-06-14T01:06:55.123 +02:00 -|- FastTransfer -|- PG16_to_MSS25 -|- INFORMATION -|- tpch_test.dbo.orders_7_primarykey -|- BulkCopy to \"dbo\".\"orders_7_primarykey\" with BatchSize = 1048576, Timeout = 3600\n",
      "2025-06-14T01:06:55.126 +02:00 -|- FastTransfer -|- PG16_to_MSS25 -|- INFORMATION -|- tpch_test.dbo.orders_7_primarykey -|- Start Loading Data using distribution method NTile\n",
      "2025-06-14T01:06:55.127 +02:00 -|- FastTransfer -|- PG16_to_MSS25 -|- INFORMATION -|- tpch_test.dbo.orders_7_primarykey -|- Table \"dbo\".\"orders_7_primarykey\" has a Clustered Index. BulkCopy will use KeepNulls and UseInternalTransaction and avoid Tablock\n",
      "2025-06-14T01:06:55.127 +02:00 -|- FastTransfer -|- PG16_to_MSS25 -|- INFORMATION -|- tpch_test.dbo.orders_7_primarykey -|- BulkCopy to \"dbo\".\"orders_7_primarykey\" with BatchSize = 1048576, Timeout = 3600\n",
      "2025-06-14T01:06:55.130 +02:00 -|- FastTransfer -|- PG16_to_MSS25 -|- INFORMATION -|- tpch_test.dbo.orders_7_primarykey -|- Start Loading Data using distribution method NTile\n",
      "2025-06-14T01:06:55.130 +02:00 -|- FastTransfer -|- PG16_to_MSS25 -|- INFORMATION -|- tpch_test.dbo.orders_7_primarykey -|- Table \"dbo\".\"orders_7_primarykey\" has a Clustered Index. BulkCopy will use KeepNulls and UseInternalTransaction and avoid Tablock\n",
      "2025-06-14T01:06:55.130 +02:00 -|- FastTransfer -|- PG16_to_MSS25 -|- INFORMATION -|- tpch_test.dbo.orders_7_primarykey -|- BulkCopy to \"dbo\".\"orders_7_primarykey\" with BatchSize = 1048576, Timeout = 3600\n",
      "2025-06-14T01:06:55.134 +02:00 -|- FastTransfer -|- PG16_to_MSS25 -|- INFORMATION -|- tpch_test.dbo.orders_7_primarykey -|- Start Loading Data using distribution method NTile\n",
      "2025-06-14T01:06:55.134 +02:00 -|- FastTransfer -|- PG16_to_MSS25 -|- INFORMATION -|- tpch_test.dbo.orders_7_primarykey -|- Table \"dbo\".\"orders_7_primarykey\" has a Clustered Index. BulkCopy will use KeepNulls and UseInternalTransaction and avoid Tablock\n",
      "2025-06-14T01:06:55.134 +02:00 -|- FastTransfer -|- PG16_to_MSS25 -|- INFORMATION -|- tpch_test.dbo.orders_7_primarykey -|- BulkCopy to \"dbo\".\"orders_7_primarykey\" with BatchSize = 1048576, Timeout = 3600\n",
      "2025-06-14T01:06:55.137 +02:00 -|- FastTransfer -|- PG16_to_MSS25 -|- INFORMATION -|- tpch_test.dbo.orders_7_primarykey -|- Start Loading Data using distribution method NTile\n",
      "2025-06-14T01:06:55.137 +02:00 -|- FastTransfer -|- PG16_to_MSS25 -|- INFORMATION -|- tpch_test.dbo.orders_7_primarykey -|- Table \"dbo\".\"orders_7_primarykey\" has a Clustered Index. BulkCopy will use KeepNulls and UseInternalTransaction and avoid Tablock\n",
      "2025-06-14T01:06:55.137 +02:00 -|- FastTransfer -|- PG16_to_MSS25 -|- INFORMATION -|- tpch_test.dbo.orders_7_primarykey -|- BulkCopy to \"dbo\".\"orders_7_primarykey\" with BatchSize = 1048576, Timeout = 3600\n",
      "2025-06-14T01:06:55.140 +02:00 -|- FastTransfer -|- PG16_to_MSS25 -|- INFORMATION -|- tpch_test.dbo.orders_7_primarykey -|- Start Loading Data using distribution method NTile\n",
      "2025-06-14T01:06:55.141 +02:00 -|- FastTransfer -|- PG16_to_MSS25 -|- INFORMATION -|- tpch_test.dbo.orders_7_primarykey -|- Table \"dbo\".\"orders_7_primarykey\" has a Clustered Index. BulkCopy will use KeepNulls and UseInternalTransaction and avoid Tablock\n",
      "2025-06-14T01:06:55.141 +02:00 -|- FastTransfer -|- PG16_to_MSS25 -|- INFORMATION -|- tpch_test.dbo.orders_7_primarykey -|- BulkCopy to \"dbo\".\"orders_7_primarykey\" with BatchSize = 1048576, Timeout = 3600\n",
      "2025-06-14T01:06:55.141 +02:00 -|- FastTransfer -|- PG16_to_MSS25 -|- WARNING -|- tpch_test.dbo.orders_7_primarykey -|- Only 9 out of 10 columns were mapped by name to the target table \"dbo\".\"orders_7_primarykey\"\n",
      "2025-06-14T01:06:55.143 +02:00 -|- FastTransfer -|- PG16_to_MSS25 -|- WARNING -|- tpch_test.dbo.orders_7_primarykey -|- Only 9 out of 10 columns were mapped by name to the target table \"dbo\".\"orders_7_primarykey\"\n",
      "2025-06-14T01:06:55.144 +02:00 -|- FastTransfer -|- PG16_to_MSS25 -|- INFORMATION -|- tpch_test.dbo.orders_7_primarykey -|- Start Loading Data using distribution method NTile\n",
      "2025-06-14T01:06:55.144 +02:00 -|- FastTransfer -|- PG16_to_MSS25 -|- INFORMATION -|- tpch_test.dbo.orders_7_primarykey -|- Table \"dbo\".\"orders_7_primarykey\" has a Clustered Index. BulkCopy will use KeepNulls and UseInternalTransaction and avoid Tablock\n",
      "2025-06-14T01:06:55.145 +02:00 -|- FastTransfer -|- PG16_to_MSS25 -|- INFORMATION -|- tpch_test.dbo.orders_7_primarykey -|- BulkCopy to \"dbo\".\"orders_7_primarykey\" with BatchSize = 1048576, Timeout = 3600\n",
      "2025-06-14T01:06:55.147 +02:00 -|- FastTransfer -|- PG16_to_MSS25 -|- INFORMATION -|- tpch_test.dbo.orders_7_primarykey -|- Start Loading Data using distribution method NTile\n",
      "2025-06-14T01:06:55.148 +02:00 -|- FastTransfer -|- PG16_to_MSS25 -|- INFORMATION -|- tpch_test.dbo.orders_7_primarykey -|- Table \"dbo\".\"orders_7_primarykey\" has a Clustered Index. BulkCopy will use KeepNulls and UseInternalTransaction and avoid Tablock\n",
      "2025-06-14T01:06:55.148 +02:00 -|- FastTransfer -|- PG16_to_MSS25 -|- INFORMATION -|- tpch_test.dbo.orders_7_primarykey -|- BulkCopy to \"dbo\".\"orders_7_primarykey\" with BatchSize = 1048576, Timeout = 3600\n",
      "2025-06-14T01:06:55.152 +02:00 -|- FastTransfer -|- PG16_to_MSS25 -|- WARNING -|- tpch_test.dbo.orders_7_primarykey -|- Only 9 out of 10 columns were mapped by name to the target table \"dbo\".\"orders_7_primarykey\"\n",
      "2025-06-14T01:06:55.160 +02:00 -|- FastTransfer -|- PG16_to_MSS25 -|- WARNING -|- tpch_test.dbo.orders_7_primarykey -|- Only 9 out of 10 columns were mapped by name to the target table \"dbo\".\"orders_7_primarykey\"\n",
      "2025-06-14T01:06:55.169 +02:00 -|- FastTransfer -|- PG16_to_MSS25 -|- WARNING -|- tpch_test.dbo.orders_7_primarykey -|- Only 9 out of 10 columns were mapped by name to the target table \"dbo\".\"orders_7_primarykey\"\n",
      "2025-06-14T01:06:55.170 +02:00 -|- FastTransfer -|- PG16_to_MSS25 -|- WARNING -|- tpch_test.dbo.orders_7_primarykey -|- Only 9 out of 10 columns were mapped by name to the target table \"dbo\".\"orders_7_primarykey\"\n",
      "2025-06-14T01:06:55.173 +02:00 -|- FastTransfer -|- PG16_to_MSS25 -|- WARNING -|- tpch_test.dbo.orders_7_primarykey -|- Only 9 out of 10 columns were mapped by name to the target table \"dbo\".\"orders_7_primarykey\"\n",
      "2025-06-14T01:06:55.189 +02:00 -|- FastTransfer -|- PG16_to_MSS25 -|- WARNING -|- tpch_test.dbo.orders_7_primarykey -|- Only 9 out of 10 columns were mapped by name to the target table \"dbo\".\"orders_7_primarykey\"\n",
      "2025-06-14T01:06:55.201 +02:00 -|- FastTransfer -|- PG16_to_MSS25 -|- WARNING -|- tpch_test.dbo.orders_7_primarykey -|- Only 9 out of 10 columns were mapped by name to the target table \"dbo\".\"orders_7_primarykey\"\n",
      "2025-06-14T01:06:55.202 +02:00 -|- FastTransfer -|- PG16_to_MSS25 -|- WARNING -|- tpch_test.dbo.orders_7_primarykey -|- Only 9 out of 10 columns were mapped by name to the target table \"dbo\".\"orders_7_primarykey\"\n",
      "2025-06-14T01:06:55.202 +02:00 -|- FastTransfer -|- PG16_to_MSS25 -|- WARNING -|- tpch_test.dbo.orders_7_primarykey -|- Only 9 out of 10 columns were mapped by name to the target table \"dbo\".\"orders_7_primarykey\"\n",
      "2025-06-14T01:06:55.202 +02:00 -|- FastTransfer -|- PG16_to_MSS25 -|- WARNING -|- tpch_test.dbo.orders_7_primarykey -|- Only 9 out of 10 columns were mapped by name to the target table \"dbo\".\"orders_7_primarykey\"\n",
      "2025-06-14T01:06:55.204 +02:00 -|- FastTransfer -|- PG16_to_MSS25 -|- WARNING -|- tpch_test.dbo.orders_7_primarykey -|- Only 9 out of 10 columns were mapped by name to the target table \"dbo\".\"orders_7_primarykey\"\n",
      "2025-06-14T01:06:55.205 +02:00 -|- FastTransfer -|- PG16_to_MSS25 -|- WARNING -|- tpch_test.dbo.orders_7_primarykey -|- Only 9 out of 10 columns were mapped by name to the target table \"dbo\".\"orders_7_primarykey\"\n",
      "2025-06-14T01:06:55.215 +02:00 -|- FastTransfer -|- PG16_to_MSS25 -|- WARNING -|- tpch_test.dbo.orders_7_primarykey -|- Only 9 out of 10 columns were mapped by name to the target table \"dbo\".\"orders_7_primarykey\"\n",
      "2025-06-14T01:07:00.661 +02:00 -|- FastTransfer -|- PG16_to_MSS25 -|- INFORMATION -|- tpch_test.dbo.orders_7_primarykey -|- Completed Load Query 0 for o_orderkey between 1 and 3749988 : 937500 rows x 9 columns in 5618ms\n",
      "2025-06-14T01:07:02.389 +02:00 -|- FastTransfer -|- PG16_to_MSS25 -|- INFORMATION -|- tpch_test.dbo.orders_7_primarykey -|- Completed Load Query 1 for o_orderkey between 3749989 and 7500001 : 937501 rows x 9 columns in 7345ms\n",
      "2025-06-14T01:07:07.775 +02:00 -|- FastTransfer -|- PG16_to_MSS25 -|- INFORMATION -|- tpch_test.dbo.orders_7_primarykey -|- Completed Load Query 2 for o_orderkey between 7500002 and 11249990 : 937501 rows x 9 columns in 12731ms\n",
      "2025-06-14T01:07:07.809 +02:00 -|- FastTransfer -|- PG16_to_MSS25 -|- INFORMATION -|- tpch_test.dbo.orders_7_primarykey -|- Completed Load Query 6 for o_orderkey between 22500006 and 26250018 : 937501 rows x 9 columns in 12766ms\n",
      "2025-06-14T01:07:09.796 +02:00 -|- FastTransfer -|- PG16_to_MSS25 -|- INFORMATION -|- tpch_test.dbo.orders_7_primarykey -|- Completed Load Query 13 for o_orderkey between 48750049 and 52500037 : 937501 rows x 9 columns in 14751ms\n",
      "2025-06-14T01:07:09.928 +02:00 -|- FastTransfer -|- PG16_to_MSS25 -|- INFORMATION -|- tpch_test.dbo.orders_7_primarykey -|- Completed Load Query 7 for o_orderkey between 26250019 and 30000007 : 937501 rows x 9 columns in 14885ms\n",
      "2025-06-14T01:07:11.288 +02:00 -|- FastTransfer -|- PG16_to_MSS25 -|- INFORMATION -|- tpch_test.dbo.orders_7_primarykey -|- Completed Load Query 15 for o_orderkey between 56250051 and 60000000 : 937486 rows x 9 columns in 16243ms\n",
      "2025-06-14T01:07:11.356 +02:00 -|- FastTransfer -|- PG16_to_MSS25 -|- INFORMATION -|- tpch_test.dbo.orders_7_primarykey -|- Completed Load Query 14 for o_orderkey between 52500038 and 56250050 : 937501 rows x 9 columns in 16312ms\n",
      "2025-06-14T01:07:13.467 +02:00 -|- FastTransfer -|- PG16_to_MSS25 -|- INFORMATION -|- tpch_test.dbo.orders_7_primarykey -|- Completed Load Query 10 for o_orderkey between 37500034 and 41250022 : 937501 rows x 9 columns in 18423ms\n",
      "2025-06-14T01:07:13.988 +02:00 -|- FastTransfer -|- PG16_to_MSS25 -|- INFORMATION -|- tpch_test.dbo.orders_7_primarykey -|- Completed Load Query 11 for o_orderkey between 41250023 and 45000035 : 937501 rows x 9 columns in 18944ms\n",
      "2025-06-14T01:07:13.997 +02:00 -|- FastTransfer -|- PG16_to_MSS25 -|- INFORMATION -|- tpch_test.dbo.orders_7_primarykey -|- Completed Load Query 9 for o_orderkey between 33750021 and 37500033 : 937501 rows x 9 columns in 18953ms\n",
      "2025-06-14T01:07:14.743 +02:00 -|- FastTransfer -|- PG16_to_MSS25 -|- INFORMATION -|- tpch_test.dbo.orders_7_primarykey -|- Completed Load Query 3 for o_orderkey between 11249991 and 15000003 : 937501 rows x 9 columns in 19699ms\n",
      "2025-06-14T01:07:14.832 +02:00 -|- FastTransfer -|- PG16_to_MSS25 -|- INFORMATION -|- tpch_test.dbo.orders_7_primarykey -|- Completed Load Query 8 for o_orderkey between 30000032 and 33750020 : 937501 rows x 9 columns in 19788ms\n",
      "2025-06-14T01:07:15.492 +02:00 -|- FastTransfer -|- PG16_to_MSS25 -|- INFORMATION -|- tpch_test.dbo.orders_7_primarykey -|- Completed Load Query 12 for o_orderkey between 45000036 and 48750048 : 937501 rows x 9 columns in 20448ms\n",
      "2025-06-14T01:07:16.396 +02:00 -|- FastTransfer -|- PG16_to_MSS25 -|- INFORMATION -|- tpch_test.dbo.orders_7_primarykey -|- Completed Load Query 4 for o_orderkey between 15000004 and 18750016 : 937501 rows x 9 columns in 21352ms\n",
      "2025-06-14T01:07:17.577 +02:00 -|- FastTransfer -|- PG16_to_MSS25 -|- INFORMATION -|- tpch_test.dbo.orders_7_primarykey -|- Completed Load Query 5 for o_orderkey between 18750017 and 22500005 : 937501 rows x 9 columns in 22534ms\n",
      "2025-06-14T01:07:17.578 +02:00 -|- FastTransfer -|- PG16_to_MSS25 -|- INFORMATION -|- tpch_test.dbo.orders_7_primarykey -|- Total rows : 15000000\n",
      "2025-06-14T01:07:17.578 +02:00 -|- FastTransfer -|- PG16_to_MSS25 -|- INFORMATION -|- tpch_test.dbo.orders_7_primarykey -|- Total columns : 9\n",
      "2025-06-14T01:07:17.578 +02:00 -|- FastTransfer -|- PG16_to_MSS25 -|- INFORMATION -|- tpch_test.dbo.orders_7_primarykey -|- Total cells : 135000000\n",
      "2025-06-14T01:07:17.578 +02:00 -|- FastTransfer -|- PG16_to_MSS25 -|- INFORMATION -|- tpch_test.dbo.orders_7_primarykey -|- Rows Throughput : 522537 rows/s\n",
      "2025-06-14T01:07:17.578 +02:00 -|- FastTransfer -|- PG16_to_MSS25 -|- INFORMATION -|- tpch_test.dbo.orders_7_primarykey -|- Cells Throughput : 4702837 cells/s\n",
      "2025-06-14T01:07:17.578 +02:00 -|- FastTransfer -|- PG16_to_MSS25 -|- INFORMATION -|- tpch_test.dbo.orders_7_primarykey -|- Transfert time : Elapsed=28706 ms\n",
      "2025-06-14T01:07:17.578 +02:00 -|- FastTransfer -|- PG16_to_MSS25 -|- INFORMATION -|- tpch_test.dbo.orders_7_primarykey -|- Total time : Elapsed=28947 ms\n",
      "2025-06-14T01:07:17.578 +02:00 -|- FastTransfer -|- PG16_to_MSS25 -|- INFORMATION -|- tpch_test.dbo.orders_7_primarykey -|- Completed Load\n"
     ]
    }
   ],
   "source": [
    "cd D:\\FastTransfer\n",
    "\n",
    ".\\FastTransfer.exe `\n",
    "--sourceconnectiontype \"pgsql\" `\n",
    "--sourceserver \"localhost:15432\" `\n",
    "--sourcedatabase \"tpch\" `\n",
    "--sourceuser \"FastUser\" `\n",
    "--sourcepassword \"FastPassword\" `\n",
    "--sourceschema \"tpch_10\" `\n",
    "--sourcetable \"orders\" `\n",
    "`\n",
    "--targetconnectiontype \"msbulk\" `\n",
    "--targetserver \"localhost\\SS2025\" `\n",
    "--targettrusted `\n",
    "--targetdatabase \"tpch_test\" `\n",
    "--targetschema \"dbo\" `\n",
    "--targettable \"orders_7_primarykey\" `\n",
    "`\n",
    "--loadmode \"Truncate\" `\n",
    "--mapmethod \"Name\" `\n",
    "--method \"Ntile\" `\n",
    "--distributekeycolumn \"o_orderkey\" `\n",
    "--degree -2 `\n",
    "--runid \"PG16_to_MSS25\""
   ]
  },
  {
   "cell_type": "markdown",
   "id": "53939b11",
   "metadata": {},
   "source": [
    "#### Target orders with a primary key and 2 secondary index\n",
    "\n",
    "Check sp_whoisactive results during load"
   ]
  },
  {
   "cell_type": "code",
   "execution_count": 36,
   "id": "df137a4b",
   "metadata": {
    "polyglot_notebook": {
     "kernelName": "sql-SS2025_tpch_test"
    }
   },
   "outputs": [
    {
     "data": {
      "text/plain": [
       "Commandes exécutées."
      ]
     },
     "metadata": {},
     "output_type": "display_data"
    }
   ],
   "source": [
    "CREATE INDEX IX_o_orderdate ON orders_7_primarykey(o_orderdate);"
   ]
  },
  {
   "cell_type": "code",
   "execution_count": 37,
   "id": "568fb09e",
   "metadata": {
    "polyglot_notebook": {
     "kernelName": "pwsh"
    }
   },
   "outputs": [
    {
     "name": "stdout",
     "output_type": "stream",
     "text": [
      "2025-06-14T01:07:38.518 +02:00 -|- FastTransfer -|- PG16_to_MSS25 -|- INFORMATION -|- tpch_test.dbo.orders_7_primarykey -|- Starting\n",
      "2025-06-14T01:07:38.528 +02:00 -|- FastTransfer -|- PG16_to_MSS25 -|- INFORMATION -|- tpch_test.dbo.orders_7_primarykey -|- FastTransfer Version : 0.13.4.0 Architecture : X64 - Framework : .NET 8.0.15\n",
      "2025-06-14T01:07:38.528 +02:00 -|- FastTransfer -|- PG16_to_MSS25 -|- INFORMATION -|- tpch_test.dbo.orders_7_primarykey -|- OS : Microsoft Windows 10.0.26100\n",
      "2025-06-14T01:07:38.528 +02:00 -|- FastTransfer -|- PG16_to_MSS25 -|- INFORMATION -|- tpch_test.dbo.orders_7_primarykey -|- Process ID : 47840\n",
      "2025-06-14T01:07:38.528 +02:00 -|- FastTransfer -|- PG16_to_MSS25 -|- INFORMATION -|- tpch_test.dbo.orders_7_primarykey -|- Provided Run ID : PG16_to_MSS25\n",
      "2025-06-14T01:07:38.528 +02:00 -|- FastTransfer -|- PG16_to_MSS25 -|- INFORMATION -|- tpch_test.dbo.orders_7_primarykey -|- Source Connection Type : pgsql\n",
      "2025-06-14T01:07:38.528 +02:00 -|- FastTransfer -|- PG16_to_MSS25 -|- INFORMATION -|- tpch_test.dbo.orders_7_primarykey -|- Source SqlInstance : localhost:15432\n",
      "2025-06-14T01:07:38.528 +02:00 -|- FastTransfer -|- PG16_to_MSS25 -|- INFORMATION -|- tpch_test.dbo.orders_7_primarykey -|- Source Database : tpch\n",
      "2025-06-14T01:07:38.528 +02:00 -|- FastTransfer -|- PG16_to_MSS25 -|- INFORMATION -|- tpch_test.dbo.orders_7_primarykey -|- Source Trusted Connection : False\n",
      "2025-06-14T01:07:38.528 +02:00 -|- FastTransfer -|- PG16_to_MSS25 -|- INFORMATION -|- tpch_test.dbo.orders_7_primarykey -|- Source User : FastUser\n",
      "2025-06-14T01:07:38.528 +02:00 -|- FastTransfer -|- PG16_to_MSS25 -|- INFORMATION -|- tpch_test.dbo.orders_7_primarykey -|- Source Schema : tpch_10\n",
      "2025-06-14T01:07:38.528 +02:00 -|- FastTransfer -|- PG16_to_MSS25 -|- INFORMATION -|- tpch_test.dbo.orders_7_primarykey -|- Source Table : orders\n",
      "2025-06-14T01:07:38.528 +02:00 -|- FastTransfer -|- PG16_to_MSS25 -|- INFORMATION -|- tpch_test.dbo.orders_7_primarykey -|- Target Type : msbulk\n",
      "2025-06-14T01:07:38.528 +02:00 -|- FastTransfer -|- PG16_to_MSS25 -|- INFORMATION -|- tpch_test.dbo.orders_7_primarykey -|- Target Server : localhost\\SS2025\n",
      "2025-06-14T01:07:38.528 +02:00 -|- FastTransfer -|- PG16_to_MSS25 -|- INFORMATION -|- tpch_test.dbo.orders_7_primarykey -|- Target Database : tpch_test\n",
      "2025-06-14T01:07:38.528 +02:00 -|- FastTransfer -|- PG16_to_MSS25 -|- INFORMATION -|- tpch_test.dbo.orders_7_primarykey -|- Target Schema : dbo\n",
      "2025-06-14T01:07:38.528 +02:00 -|- FastTransfer -|- PG16_to_MSS25 -|- INFORMATION -|- tpch_test.dbo.orders_7_primarykey -|- Target Table : orders_7_primarykey\n",
      "2025-06-14T01:07:38.528 +02:00 -|- FastTransfer -|- PG16_to_MSS25 -|- INFORMATION -|- tpch_test.dbo.orders_7_primarykey -|- Target Trusted Connection : True\n",
      "2025-06-14T01:07:38.528 +02:00 -|- FastTransfer -|- PG16_to_MSS25 -|- INFORMATION -|- tpch_test.dbo.orders_7_primarykey -|- Columns Map Method : Name\n",
      "2025-06-14T01:07:38.528 +02:00 -|- FastTransfer -|- PG16_to_MSS25 -|- INFORMATION -|- tpch_test.dbo.orders_7_primarykey -|- Degree : -2\n",
      "2025-06-14T01:07:38.529 +02:00 -|- FastTransfer -|- PG16_to_MSS25 -|- INFORMATION -|- tpch_test.dbo.orders_7_primarykey -|- Distribute Method : Ntile\n",
      "2025-06-14T01:07:38.529 +02:00 -|- FastTransfer -|- PG16_to_MSS25 -|- INFORMATION -|- tpch_test.dbo.orders_7_primarykey -|- Distribute Column : o_orderkey\n",
      "2025-06-14T01:07:38.529 +02:00 -|- FastTransfer -|- PG16_to_MSS25 -|- INFORMATION -|- tpch_test.dbo.orders_7_primarykey -|- Bulkcopy Batch Size : 1048576\n",
      "2025-06-14T01:07:38.529 +02:00 -|- FastTransfer -|- PG16_to_MSS25 -|- INFORMATION -|- tpch_test.dbo.orders_7_primarykey -|- Load Mode : Truncate\n",
      "2025-06-14T01:07:38.529 +02:00 -|- FastTransfer -|- PG16_to_MSS25 -|- INFORMATION -|- tpch_test.dbo.orders_7_primarykey -|- Use Work Tables : False\n",
      "2025-06-14T01:07:38.529 +02:00 -|- FastTransfer -|- PG16_to_MSS25 -|- INFORMATION -|- tpch_test.dbo.orders_7_primarykey -|- Encoding used : Unicode (UTF-8) - 65001 - utf-8\n",
      "2025-06-14T01:07:38.588 +02:00 -|- FastTransfer -|- PG16_to_MSS25 -|- INFORMATION -|- tpch_test.dbo.orders_7_primarykey -|- Source Connection String : Host=localhost;Port=15432;Database=tpch;Trust Server Certificate=True;Application Name=FastTransfer;Timeout=15;Command Timeout=10800;Username=FastUser;Password=xxxxx\n",
      "2025-06-14T01:07:38.588 +02:00 -|- FastTransfer -|- PG16_to_MSS25 -|- INFORMATION -|- tpch_test.dbo.orders_7_primarykey -|- Target Connection String : Data Source=localhost\\SS2025;Initial Catalog=tpch_test;Integrated Security=True;Connect Timeout=120;Encrypt=True;Trust Server Certificate=True;Application Name=FastTransfer;Application Intent=ReadWrite;Command Timeout=10800\n",
      "2025-06-14T01:07:38.588 +02:00 -|- FastTransfer -|- PG16_to_MSS25 -|- INFORMATION -|- tpch_test.dbo.orders_7_primarykey -|- Source Database Version : PostgreSQL 16.1, compiled by Visual C++ build 1937, 64-bit\n",
      "2025-06-14T01:07:38.588 +02:00 -|- FastTransfer -|- PG16_to_MSS25 -|- INFORMATION -|- tpch_test.dbo.orders_7_primarykey -|- Target Database Version : Microsoft SQL Server 2025 (CTP2.0) - 17.0.700.9 (X64)  \tMay  8 2025 19:14:27  \tCopyright (C) 2025 Microsoft Corporation \tEnterprise Developer Edition (64-bit) on Windows 10 Pro 10.0 <X64> (Build 26100: ) (Hypervisor) \n",
      "2025-06-14T01:07:38.594 +02:00 -|- FastTransfer -|- PG16_to_MSS25 -|- INFORMATION -|- tpch_test.dbo.orders_7_primarykey -|- Degree of parallelism was computed to 16 (=> 32\\2)\n",
      "2025-06-14T01:07:44.619 +02:00 -|- FastTransfer -|- PG16_to_MSS25 -|- INFORMATION -|- tpch_test.dbo.orders_7_primarykey -|- Ntile DataSegments Computation Completed in 6025 ms\n",
      "2025-06-14T01:07:44.622 +02:00 -|- FastTransfer -|- PG16_to_MSS25 -|- INFORMATION -|- tpch_test.dbo.orders_7_primarykey -|- Start Loading Data using distribution method NTile\n",
      "2025-06-14T01:07:44.631 +02:00 -|- FastTransfer -|- PG16_to_MSS25 -|- INFORMATION -|- tpch_test.dbo.orders_7_primarykey -|- Table \"dbo\".\"orders_7_primarykey\" has a Clustered Index. BulkCopy will use KeepNulls and UseInternalTransaction and avoid Tablock\n",
      "2025-06-14T01:07:44.632 +02:00 -|- FastTransfer -|- PG16_to_MSS25 -|- INFORMATION -|- tpch_test.dbo.orders_7_primarykey -|- BulkCopy to \"dbo\".\"orders_7_primarykey\" with BatchSize = 1048576, Timeout = 3600\n",
      "2025-06-14T01:07:44.669 +02:00 -|- FastTransfer -|- PG16_to_MSS25 -|- INFORMATION -|- tpch_test.dbo.orders_7_primarykey -|- Start Loading Data using distribution method NTile\n",
      "2025-06-14T01:07:44.670 +02:00 -|- FastTransfer -|- PG16_to_MSS25 -|- INFORMATION -|- tpch_test.dbo.orders_7_primarykey -|- Table \"dbo\".\"orders_7_primarykey\" has a Clustered Index. BulkCopy will use KeepNulls and UseInternalTransaction and avoid Tablock\n",
      "2025-06-14T01:07:44.670 +02:00 -|- FastTransfer -|- PG16_to_MSS25 -|- INFORMATION -|- tpch_test.dbo.orders_7_primarykey -|- BulkCopy to \"dbo\".\"orders_7_primarykey\" with BatchSize = 1048576, Timeout = 3600\n",
      "2025-06-14T01:07:44.672 +02:00 -|- FastTransfer -|- PG16_to_MSS25 -|- INFORMATION -|- tpch_test.dbo.orders_7_primarykey -|- Start Loading Data using distribution method NTile\n",
      "2025-06-14T01:07:44.673 +02:00 -|- FastTransfer -|- PG16_to_MSS25 -|- INFORMATION -|- tpch_test.dbo.orders_7_primarykey -|- Table \"dbo\".\"orders_7_primarykey\" has a Clustered Index. BulkCopy will use KeepNulls and UseInternalTransaction and avoid Tablock\n",
      "2025-06-14T01:07:44.673 +02:00 -|- FastTransfer -|- PG16_to_MSS25 -|- INFORMATION -|- tpch_test.dbo.orders_7_primarykey -|- BulkCopy to \"dbo\".\"orders_7_primarykey\" with BatchSize = 1048576, Timeout = 3600\n",
      "2025-06-14T01:07:44.675 +02:00 -|- FastTransfer -|- PG16_to_MSS25 -|- WARNING -|- tpch_test.dbo.orders_7_primarykey -|- Only 9 out of 10 columns were mapped by name to the target table \"dbo\".\"orders_7_primarykey\"\n",
      "2025-06-14T01:07:44.677 +02:00 -|- FastTransfer -|- PG16_to_MSS25 -|- INFORMATION -|- tpch_test.dbo.orders_7_primarykey -|- Start Loading Data using distribution method NTile\n",
      "2025-06-14T01:07:44.678 +02:00 -|- FastTransfer -|- PG16_to_MSS25 -|- INFORMATION -|- tpch_test.dbo.orders_7_primarykey -|- Table \"dbo\".\"orders_7_primarykey\" has a Clustered Index. BulkCopy will use KeepNulls and UseInternalTransaction and avoid Tablock\n",
      "2025-06-14T01:07:44.678 +02:00 -|- FastTransfer -|- PG16_to_MSS25 -|- INFORMATION -|- tpch_test.dbo.orders_7_primarykey -|- BulkCopy to \"dbo\".\"orders_7_primarykey\" with BatchSize = 1048576, Timeout = 3600\n",
      "2025-06-14T01:07:44.684 +02:00 -|- FastTransfer -|- PG16_to_MSS25 -|- INFORMATION -|- tpch_test.dbo.orders_7_primarykey -|- Start Loading Data using distribution method NTile\n",
      "2025-06-14T01:07:44.685 +02:00 -|- FastTransfer -|- PG16_to_MSS25 -|- INFORMATION -|- tpch_test.dbo.orders_7_primarykey -|- Table \"dbo\".\"orders_7_primarykey\" has a Clustered Index. BulkCopy will use KeepNulls and UseInternalTransaction and avoid Tablock\n",
      "2025-06-14T01:07:44.685 +02:00 -|- FastTransfer -|- PG16_to_MSS25 -|- INFORMATION -|- tpch_test.dbo.orders_7_primarykey -|- BulkCopy to \"dbo\".\"orders_7_primarykey\" with BatchSize = 1048576, Timeout = 3600\n",
      "2025-06-14T01:07:44.689 +02:00 -|- FastTransfer -|- PG16_to_MSS25 -|- INFORMATION -|- tpch_test.dbo.orders_7_primarykey -|- Start Loading Data using distribution method NTile\n",
      "2025-06-14T01:07:44.690 +02:00 -|- FastTransfer -|- PG16_to_MSS25 -|- INFORMATION -|- tpch_test.dbo.orders_7_primarykey -|- Table \"dbo\".\"orders_7_primarykey\" has a Clustered Index. BulkCopy will use KeepNulls and UseInternalTransaction and avoid Tablock\n",
      "2025-06-14T01:07:44.690 +02:00 -|- FastTransfer -|- PG16_to_MSS25 -|- INFORMATION -|- tpch_test.dbo.orders_7_primarykey -|- BulkCopy to \"dbo\".\"orders_7_primarykey\" with BatchSize = 1048576, Timeout = 3600\n",
      "2025-06-14T01:07:44.694 +02:00 -|- FastTransfer -|- PG16_to_MSS25 -|- INFORMATION -|- tpch_test.dbo.orders_7_primarykey -|- Start Loading Data using distribution method NTile\n",
      "2025-06-14T01:07:44.695 +02:00 -|- FastTransfer -|- PG16_to_MSS25 -|- INFORMATION -|- tpch_test.dbo.orders_7_primarykey -|- Table \"dbo\".\"orders_7_primarykey\" has a Clustered Index. BulkCopy will use KeepNulls and UseInternalTransaction and avoid Tablock\n",
      "2025-06-14T01:07:44.695 +02:00 -|- FastTransfer -|- PG16_to_MSS25 -|- INFORMATION -|- tpch_test.dbo.orders_7_primarykey -|- BulkCopy to \"dbo\".\"orders_7_primarykey\" with BatchSize = 1048576, Timeout = 3600\n",
      "2025-06-14T01:07:44.698 +02:00 -|- FastTransfer -|- PG16_to_MSS25 -|- INFORMATION -|- tpch_test.dbo.orders_7_primarykey -|- Start Loading Data using distribution method NTile\n",
      "2025-06-14T01:07:44.698 +02:00 -|- FastTransfer -|- PG16_to_MSS25 -|- INFORMATION -|- tpch_test.dbo.orders_7_primarykey -|- Table \"dbo\".\"orders_7_primarykey\" has a Clustered Index. BulkCopy will use KeepNulls and UseInternalTransaction and avoid Tablock\n",
      "2025-06-14T01:07:44.698 +02:00 -|- FastTransfer -|- PG16_to_MSS25 -|- INFORMATION -|- tpch_test.dbo.orders_7_primarykey -|- BulkCopy to \"dbo\".\"orders_7_primarykey\" with BatchSize = 1048576, Timeout = 3600\n",
      "2025-06-14T01:07:44.701 +02:00 -|- FastTransfer -|- PG16_to_MSS25 -|- INFORMATION -|- tpch_test.dbo.orders_7_primarykey -|- Start Loading Data using distribution method NTile\n",
      "2025-06-14T01:07:44.702 +02:00 -|- FastTransfer -|- PG16_to_MSS25 -|- INFORMATION -|- tpch_test.dbo.orders_7_primarykey -|- Table \"dbo\".\"orders_7_primarykey\" has a Clustered Index. BulkCopy will use KeepNulls and UseInternalTransaction and avoid Tablock\n",
      "2025-06-14T01:07:44.702 +02:00 -|- FastTransfer -|- PG16_to_MSS25 -|- INFORMATION -|- tpch_test.dbo.orders_7_primarykey -|- BulkCopy to \"dbo\".\"orders_7_primarykey\" with BatchSize = 1048576, Timeout = 3600\n",
      "2025-06-14T01:07:44.705 +02:00 -|- FastTransfer -|- PG16_to_MSS25 -|- INFORMATION -|- tpch_test.dbo.orders_7_primarykey -|- Start Loading Data using distribution method NTile\n",
      "2025-06-14T01:07:44.706 +02:00 -|- FastTransfer -|- PG16_to_MSS25 -|- INFORMATION -|- tpch_test.dbo.orders_7_primarykey -|- Table \"dbo\".\"orders_7_primarykey\" has a Clustered Index. BulkCopy will use KeepNulls and UseInternalTransaction and avoid Tablock\n",
      "2025-06-14T01:07:44.706 +02:00 -|- FastTransfer -|- PG16_to_MSS25 -|- INFORMATION -|- tpch_test.dbo.orders_7_primarykey -|- BulkCopy to \"dbo\".\"orders_7_primarykey\" with BatchSize = 1048576, Timeout = 3600\n",
      "2025-06-14T01:07:44.709 +02:00 -|- FastTransfer -|- PG16_to_MSS25 -|- INFORMATION -|- tpch_test.dbo.orders_7_primarykey -|- Start Loading Data using distribution method NTile\n",
      "2025-06-14T01:07:44.710 +02:00 -|- FastTransfer -|- PG16_to_MSS25 -|- INFORMATION -|- tpch_test.dbo.orders_7_primarykey -|- Table \"dbo\".\"orders_7_primarykey\" has a Clustered Index. BulkCopy will use KeepNulls and UseInternalTransaction and avoid Tablock\n",
      "2025-06-14T01:07:44.710 +02:00 -|- FastTransfer -|- PG16_to_MSS25 -|- INFORMATION -|- tpch_test.dbo.orders_7_primarykey -|- BulkCopy to \"dbo\".\"orders_7_primarykey\" with BatchSize = 1048576, Timeout = 3600\n",
      "2025-06-14T01:07:44.713 +02:00 -|- FastTransfer -|- PG16_to_MSS25 -|- INFORMATION -|- tpch_test.dbo.orders_7_primarykey -|- Start Loading Data using distribution method NTile\n",
      "2025-06-14T01:07:44.713 +02:00 -|- FastTransfer -|- PG16_to_MSS25 -|- INFORMATION -|- tpch_test.dbo.orders_7_primarykey -|- Table \"dbo\".\"orders_7_primarykey\" has a Clustered Index. BulkCopy will use KeepNulls and UseInternalTransaction and avoid Tablock\n",
      "2025-06-14T01:07:44.714 +02:00 -|- FastTransfer -|- PG16_to_MSS25 -|- INFORMATION -|- tpch_test.dbo.orders_7_primarykey -|- BulkCopy to \"dbo\".\"orders_7_primarykey\" with BatchSize = 1048576, Timeout = 3600\n",
      "2025-06-14T01:07:44.717 +02:00 -|- FastTransfer -|- PG16_to_MSS25 -|- INFORMATION -|- tpch_test.dbo.orders_7_primarykey -|- Start Loading Data using distribution method NTile\n",
      "2025-06-14T01:07:44.718 +02:00 -|- FastTransfer -|- PG16_to_MSS25 -|- INFORMATION -|- tpch_test.dbo.orders_7_primarykey -|- Table \"dbo\".\"orders_7_primarykey\" has a Clustered Index. BulkCopy will use KeepNulls and UseInternalTransaction and avoid Tablock\n",
      "2025-06-14T01:07:44.718 +02:00 -|- FastTransfer -|- PG16_to_MSS25 -|- INFORMATION -|- tpch_test.dbo.orders_7_primarykey -|- BulkCopy to \"dbo\".\"orders_7_primarykey\" with BatchSize = 1048576, Timeout = 3600\n",
      "2025-06-14T01:07:44.721 +02:00 -|- FastTransfer -|- PG16_to_MSS25 -|- INFORMATION -|- tpch_test.dbo.orders_7_primarykey -|- Start Loading Data using distribution method NTile\n",
      "2025-06-14T01:07:44.721 +02:00 -|- FastTransfer -|- PG16_to_MSS25 -|- INFORMATION -|- tpch_test.dbo.orders_7_primarykey -|- Table \"dbo\".\"orders_7_primarykey\" has a Clustered Index. BulkCopy will use KeepNulls and UseInternalTransaction and avoid Tablock\n",
      "2025-06-14T01:07:44.721 +02:00 -|- FastTransfer -|- PG16_to_MSS25 -|- INFORMATION -|- tpch_test.dbo.orders_7_primarykey -|- BulkCopy to \"dbo\".\"orders_7_primarykey\" with BatchSize = 1048576, Timeout = 3600\n",
      "2025-06-14T01:07:44.724 +02:00 -|- FastTransfer -|- PG16_to_MSS25 -|- INFORMATION -|- tpch_test.dbo.orders_7_primarykey -|- Start Loading Data using distribution method NTile\n",
      "2025-06-14T01:07:44.725 +02:00 -|- FastTransfer -|- PG16_to_MSS25 -|- INFORMATION -|- tpch_test.dbo.orders_7_primarykey -|- Table \"dbo\".\"orders_7_primarykey\" has a Clustered Index. BulkCopy will use KeepNulls and UseInternalTransaction and avoid Tablock\n",
      "2025-06-14T01:07:44.725 +02:00 -|- FastTransfer -|- PG16_to_MSS25 -|- INFORMATION -|- tpch_test.dbo.orders_7_primarykey -|- BulkCopy to \"dbo\".\"orders_7_primarykey\" with BatchSize = 1048576, Timeout = 3600\n",
      "2025-06-14T01:07:44.727 +02:00 -|- FastTransfer -|- PG16_to_MSS25 -|- INFORMATION -|- tpch_test.dbo.orders_7_primarykey -|- Start Loading Data using distribution method NTile\n",
      "2025-06-14T01:07:44.728 +02:00 -|- FastTransfer -|- PG16_to_MSS25 -|- INFORMATION -|- tpch_test.dbo.orders_7_primarykey -|- Table \"dbo\".\"orders_7_primarykey\" has a Clustered Index. BulkCopy will use KeepNulls and UseInternalTransaction and avoid Tablock\n",
      "2025-06-14T01:07:44.728 +02:00 -|- FastTransfer -|- PG16_to_MSS25 -|- INFORMATION -|- tpch_test.dbo.orders_7_primarykey -|- BulkCopy to \"dbo\".\"orders_7_primarykey\" with BatchSize = 1048576, Timeout = 3600\n",
      "2025-06-14T01:07:44.737 +02:00 -|- FastTransfer -|- PG16_to_MSS25 -|- WARNING -|- tpch_test.dbo.orders_7_primarykey -|- Only 9 out of 10 columns were mapped by name to the target table \"dbo\".\"orders_7_primarykey\"\n",
      "2025-06-14T01:07:44.737 +02:00 -|- FastTransfer -|- PG16_to_MSS25 -|- WARNING -|- tpch_test.dbo.orders_7_primarykey -|- Only 9 out of 10 columns were mapped by name to the target table \"dbo\".\"orders_7_primarykey\"\n",
      "2025-06-14T01:07:44.746 +02:00 -|- FastTransfer -|- PG16_to_MSS25 -|- WARNING -|- tpch_test.dbo.orders_7_primarykey -|- Only 9 out of 10 columns were mapped by name to the target table \"dbo\".\"orders_7_primarykey\"\n",
      "2025-06-14T01:07:44.750 +02:00 -|- FastTransfer -|- PG16_to_MSS25 -|- WARNING -|- tpch_test.dbo.orders_7_primarykey -|- Only 9 out of 10 columns were mapped by name to the target table \"dbo\".\"orders_7_primarykey\"\n",
      "2025-06-14T01:07:44.755 +02:00 -|- FastTransfer -|- PG16_to_MSS25 -|- WARNING -|- tpch_test.dbo.orders_7_primarykey -|- Only 9 out of 10 columns were mapped by name to the target table \"dbo\".\"orders_7_primarykey\"\n",
      "2025-06-14T01:07:44.755 +02:00 -|- FastTransfer -|- PG16_to_MSS25 -|- WARNING -|- tpch_test.dbo.orders_7_primarykey -|- Only 9 out of 10 columns were mapped by name to the target table \"dbo\".\"orders_7_primarykey\"\n",
      "2025-06-14T01:07:44.766 +02:00 -|- FastTransfer -|- PG16_to_MSS25 -|- WARNING -|- tpch_test.dbo.orders_7_primarykey -|- Only 9 out of 10 columns were mapped by name to the target table \"dbo\".\"orders_7_primarykey\"\n",
      "2025-06-14T01:07:44.776 +02:00 -|- FastTransfer -|- PG16_to_MSS25 -|- WARNING -|- tpch_test.dbo.orders_7_primarykey -|- Only 9 out of 10 columns were mapped by name to the target table \"dbo\".\"orders_7_primarykey\"\n",
      "2025-06-14T01:07:44.777 +02:00 -|- FastTransfer -|- PG16_to_MSS25 -|- WARNING -|- tpch_test.dbo.orders_7_primarykey -|- Only 9 out of 10 columns were mapped by name to the target table \"dbo\".\"orders_7_primarykey\"\n",
      "2025-06-14T01:07:44.780 +02:00 -|- FastTransfer -|- PG16_to_MSS25 -|- WARNING -|- tpch_test.dbo.orders_7_primarykey -|- Only 9 out of 10 columns were mapped by name to the target table \"dbo\".\"orders_7_primarykey\"\n",
      "2025-06-14T01:07:44.781 +02:00 -|- FastTransfer -|- PG16_to_MSS25 -|- WARNING -|- tpch_test.dbo.orders_7_primarykey -|- Only 9 out of 10 columns were mapped by name to the target table \"dbo\".\"orders_7_primarykey\"\n",
      "2025-06-14T01:07:44.781 +02:00 -|- FastTransfer -|- PG16_to_MSS25 -|- WARNING -|- tpch_test.dbo.orders_7_primarykey -|- Only 9 out of 10 columns were mapped by name to the target table \"dbo\".\"orders_7_primarykey\"\n",
      "2025-06-14T01:07:44.785 +02:00 -|- FastTransfer -|- PG16_to_MSS25 -|- WARNING -|- tpch_test.dbo.orders_7_primarykey -|- Only 9 out of 10 columns were mapped by name to the target table \"dbo\".\"orders_7_primarykey\"\n",
      "2025-06-14T01:07:44.788 +02:00 -|- FastTransfer -|- PG16_to_MSS25 -|- WARNING -|- tpch_test.dbo.orders_7_primarykey -|- Only 9 out of 10 columns were mapped by name to the target table \"dbo\".\"orders_7_primarykey\"\n",
      "2025-06-14T01:07:44.791 +02:00 -|- FastTransfer -|- PG16_to_MSS25 -|- WARNING -|- tpch_test.dbo.orders_7_primarykey -|- Only 9 out of 10 columns were mapped by name to the target table \"dbo\".\"orders_7_primarykey\"\n",
      "2025-06-14T01:07:51.966 +02:00 -|- FastTransfer -|- PG16_to_MSS25 -|- INFORMATION -|- tpch_test.dbo.orders_7_primarykey -|- Completed Load Query 2 for o_orderkey between 7500002 and 11249990 : 937501 rows x 9 columns in 7344ms\n",
      "2025-06-14T01:07:57.368 +02:00 -|- FastTransfer -|- PG16_to_MSS25 -|- INFORMATION -|- tpch_test.dbo.orders_7_primarykey -|- Completed Load Query 0 for o_orderkey between 1 and 3749988 : 937500 rows x 9 columns in 12746ms\n",
      "2025-06-14T01:08:02.943 +02:00 -|- FastTransfer -|- PG16_to_MSS25 -|- INFORMATION -|- tpch_test.dbo.orders_7_primarykey -|- Completed Load Query 8 for o_orderkey between 30000032 and 33750020 : 937501 rows x 9 columns in 18320ms\n",
      "2025-06-14T01:08:03.995 +02:00 -|- FastTransfer -|- PG16_to_MSS25 -|- INFORMATION -|- tpch_test.dbo.orders_7_primarykey -|- Completed Load Query 7 for o_orderkey between 26250019 and 30000007 : 937501 rows x 9 columns in 19372ms\n",
      "2025-06-14T01:08:05.983 +02:00 -|- FastTransfer -|- PG16_to_MSS25 -|- INFORMATION -|- tpch_test.dbo.orders_7_primarykey -|- Completed Load Query 9 for o_orderkey between 33750021 and 37500033 : 937501 rows x 9 columns in 21359ms\n",
      "2025-06-14T01:08:11.045 +02:00 -|- FastTransfer -|- PG16_to_MSS25 -|- INFORMATION -|- tpch_test.dbo.orders_7_primarykey -|- Completed Load Query 4 for o_orderkey between 15000004 and 18750016 : 937501 rows x 9 columns in 26423ms\n",
      "2025-06-14T01:08:13.044 +02:00 -|- FastTransfer -|- PG16_to_MSS25 -|- INFORMATION -|- tpch_test.dbo.orders_7_primarykey -|- Completed Load Query 1 for o_orderkey between 3749989 and 7500001 : 937501 rows x 9 columns in 28422ms\n",
      "2025-06-14T01:08:13.179 +02:00 -|- FastTransfer -|- PG16_to_MSS25 -|- INFORMATION -|- tpch_test.dbo.orders_7_primarykey -|- Completed Load Query 3 for o_orderkey between 11249991 and 15000003 : 937501 rows x 9 columns in 28557ms\n",
      "2025-06-14T01:08:13.311 +02:00 -|- FastTransfer -|- PG16_to_MSS25 -|- INFORMATION -|- tpch_test.dbo.orders_7_primarykey -|- Completed Load Query 13 for o_orderkey between 48750049 and 52500037 : 937501 rows x 9 columns in 28687ms\n",
      "2025-06-14T01:08:17.869 +02:00 -|- FastTransfer -|- PG16_to_MSS25 -|- INFORMATION -|- tpch_test.dbo.orders_7_primarykey -|- Completed Load Query 14 for o_orderkey between 52500038 and 56250050 : 937501 rows x 9 columns in 33245ms\n",
      "2025-06-14T01:08:17.906 +02:00 -|- FastTransfer -|- PG16_to_MSS25 -|- INFORMATION -|- tpch_test.dbo.orders_7_primarykey -|- Completed Load Query 6 for o_orderkey between 22500006 and 26250018 : 937501 rows x 9 columns in 33283ms\n",
      "2025-06-14T01:08:18.572 +02:00 -|- FastTransfer -|- PG16_to_MSS25 -|- INFORMATION -|- tpch_test.dbo.orders_7_primarykey -|- Completed Load Query 10 for o_orderkey between 37500034 and 41250022 : 937501 rows x 9 columns in 33948ms\n",
      "2025-06-14T01:08:18.762 +02:00 -|- FastTransfer -|- PG16_to_MSS25 -|- INFORMATION -|- tpch_test.dbo.orders_7_primarykey -|- Completed Load Query 5 for o_orderkey between 18750017 and 22500005 : 937501 rows x 9 columns in 34140ms\n",
      "2025-06-14T01:08:19.957 +02:00 -|- FastTransfer -|- PG16_to_MSS25 -|- INFORMATION -|- tpch_test.dbo.orders_7_primarykey -|- Completed Load Query 11 for o_orderkey between 41250023 and 45000035 : 937501 rows x 9 columns in 35333ms\n",
      "2025-06-14T01:08:22.888 +02:00 -|- FastTransfer -|- PG16_to_MSS25 -|- INFORMATION -|- tpch_test.dbo.orders_7_primarykey -|- Completed Load Query 12 for o_orderkey between 45000036 and 48750048 : 937501 rows x 9 columns in 38264ms\n",
      "2025-06-14T01:08:22.905 +02:00 -|- FastTransfer -|- PG16_to_MSS25 -|- INFORMATION -|- tpch_test.dbo.orders_7_primarykey -|- Completed Load Query 15 for o_orderkey between 56250051 and 60000000 : 937486 rows x 9 columns in 38281ms\n",
      "2025-06-14T01:08:22.907 +02:00 -|- FastTransfer -|- PG16_to_MSS25 -|- INFORMATION -|- tpch_test.dbo.orders_7_primarykey -|- Total rows : 15000000\n",
      "2025-06-14T01:08:22.907 +02:00 -|- FastTransfer -|- PG16_to_MSS25 -|- INFORMATION -|- tpch_test.dbo.orders_7_primarykey -|- Total columns : 9\n",
      "2025-06-14T01:08:22.907 +02:00 -|- FastTransfer -|- PG16_to_MSS25 -|- INFORMATION -|- tpch_test.dbo.orders_7_primarykey -|- Total cells : 135000000\n",
      "2025-06-14T01:08:22.907 +02:00 -|- FastTransfer -|- PG16_to_MSS25 -|- INFORMATION -|- tpch_test.dbo.orders_7_primarykey -|- Rows Throughput : 338502 rows/s\n",
      "2025-06-14T01:08:22.907 +02:00 -|- FastTransfer -|- PG16_to_MSS25 -|- INFORMATION -|- tpch_test.dbo.orders_7_primarykey -|- Cells Throughput : 3046521 cells/s\n",
      "2025-06-14T01:08:22.907 +02:00 -|- FastTransfer -|- PG16_to_MSS25 -|- INFORMATION -|- tpch_test.dbo.orders_7_primarykey -|- Transfert time : Elapsed=44312 ms\n",
      "2025-06-14T01:08:22.907 +02:00 -|- FastTransfer -|- PG16_to_MSS25 -|- INFORMATION -|- tpch_test.dbo.orders_7_primarykey -|- Total time : Elapsed=44557 ms\n",
      "2025-06-14T01:08:22.907 +02:00 -|- FastTransfer -|- PG16_to_MSS25 -|- INFORMATION -|- tpch_test.dbo.orders_7_primarykey -|- Completed Load\n"
     ]
    }
   ],
   "source": [
    "cd D:\\FastTransfer\n",
    "\n",
    ".\\FastTransfer.exe `\n",
    "--sourceconnectiontype \"pgsql\" `\n",
    "--sourceserver \"localhost:15432\" `\n",
    "--sourcedatabase \"tpch\" `\n",
    "--sourceuser \"FastUser\" `\n",
    "--sourcepassword \"FastPassword\" `\n",
    "--sourceschema \"tpch_10\" `\n",
    "--sourcetable \"orders\" `\n",
    "`\n",
    "--targetconnectiontype \"msbulk\" `\n",
    "--targetserver \"localhost\\SS2025\" `\n",
    "--targettrusted `\n",
    "--targetdatabase \"tpch_test\" `\n",
    "--targetschema \"dbo\" `\n",
    "--targettable \"orders_7_primarykey\" `\n",
    "`\n",
    "--loadmode \"Truncate\" `\n",
    "--mapmethod \"Name\" `\n",
    "--method \"Ntile\" `\n",
    "--distributekeycolumn \"o_orderkey\" `\n",
    "--degree -2 `\n",
    "--runid \"PG16_to_MSS25\""
   ]
  },
  {
   "cell_type": "markdown",
   "id": "dd7ed540",
   "metadata": {
    "polyglot_notebook": {
     "kernelName": "csharp"
    }
   },
   "source": [
    "| PG16 ==> MSSQL 2025  ORDERS (15M Rows x 9 columns)\t\t\t\t| Elapsed Time (seconds)|Cells/sec \t|Parallel Dispatch Method\n",
    "|-----------------------------------------------------------------------|:---------------------:|----------:| :--: |\n",
    "| FastTransfer Load (orders_3 clustered columnstore)      \t\t\t\t| 12.6     \t\t\t\t|10_923_075  | Ntile |\n",
    "| FastTransfer Load (orders_4 heap) \t\t\t\t\t\t\t\t\t| 10.3     \t\t\t\t|13_372_939  | Ntile |\n",
    "| FastTransfer Load (orders_6 cluster index ) \t\t\t\t\t\t\t| 12.8      \t\t\t|10_517_176  | Ntile |\n",
    "| FastTransfer Load (orders_7 cluster primarykey) \t\t\t\t\t\t| 12.5     \t\t\t\t|10_970_799  | Ntile |\n",
    "| FastTransfer Load (orders_7 cluster primarykey + 1 secondary index) \t|28.9      \t\t\t\t| 4_702_837  | Ntile |\n",
    "| FastTransfer Load (orders_7 cluster primarykey + 2 secondary indexes) |44.5      \t\t\t\t| 3_046_521  | Ntile |"
   ]
  },
  {
   "cell_type": "markdown",
   "id": "26735668",
   "metadata": {
    "polyglot_notebook": {
     "kernelName": "csharp"
    }
   },
   "source": [
    "## Test with Method Ctid (postgresql only) instead of Ntile"
   ]
  },
  {
   "cell_type": "markdown",
   "id": "496335f2",
   "metadata": {},
   "source": [
    "CTID is a system hidden column that stores the physical location (block number and tuple offset) of a row version within its table.\n",
    "\n",
    "You can SELECT it and even filter data using this hidden column. FastTransfer use the Ctid column to select data by chunck. It also create a micro-postgresql-snapshot before openning several connections to the source in order to have a stable source for each threads that will extract a portion of the data. "
   ]
  },
  {
   "cell_type": "code",
   "execution_count": 2,
   "metadata": {
    "polyglot_notebook": {
     "kernelName": "pwsh"
    }
   },
   "outputs": [
    {
     "name": "stdout",
     "output_type": "stream",
     "text": [
      "2025-06-15T21:20:52.702 +02:00 -|- FastTransfer -|- PG16_to_MSS25 -|- INFORMATION -|- tpch_test.dbo.orders_4_no_index -|- FastTransfer - running in trial mode – will expires on 2025‑07‑14 (28 day(s) left).\n",
      "2025-06-15T21:20:52.711 +02:00 -|- FastTransfer -|- PG16_to_MSS25 -|- INFORMATION -|- tpch_test.dbo.orders_4_no_index -|- Starting\n",
      "2025-06-15T21:20:52.712 +02:00 -|- FastTransfer -|- PG16_to_MSS25 -|- INFORMATION -|- tpch_test.dbo.orders_4_no_index -|- FastTransfer Version : 0.13.6.0 Architecture : X64 - Framework : .NET 8.0.16\n",
      "2025-06-15T21:20:52.712 +02:00 -|- FastTransfer -|- PG16_to_MSS25 -|- INFORMATION -|- tpch_test.dbo.orders_4_no_index -|- OS : Microsoft Windows 10.0.26100\n",
      "2025-06-15T21:20:52.712 +02:00 -|- FastTransfer -|- PG16_to_MSS25 -|- INFORMATION -|- tpch_test.dbo.orders_4_no_index -|- Process ID : 37060\n",
      "2025-06-15T21:20:52.712 +02:00 -|- FastTransfer -|- PG16_to_MSS25 -|- INFORMATION -|- tpch_test.dbo.orders_4_no_index -|- Provided Run ID : PG16_to_MSS25\n",
      "2025-06-15T21:20:52.712 +02:00 -|- FastTransfer -|- PG16_to_MSS25 -|- INFORMATION -|- tpch_test.dbo.orders_4_no_index -|- Source Connection Type : pgcopy\n",
      "2025-06-15T21:20:52.712 +02:00 -|- FastTransfer -|- PG16_to_MSS25 -|- INFORMATION -|- tpch_test.dbo.orders_4_no_index -|- Source SqlInstance : localhost:15432\n",
      "2025-06-15T21:20:52.712 +02:00 -|- FastTransfer -|- PG16_to_MSS25 -|- INFORMATION -|- tpch_test.dbo.orders_4_no_index -|- Source Database : tpch\n",
      "2025-06-15T21:20:52.712 +02:00 -|- FastTransfer -|- PG16_to_MSS25 -|- INFORMATION -|- tpch_test.dbo.orders_4_no_index -|- Source Trusted Connection : False\n",
      "2025-06-15T21:20:52.712 +02:00 -|- FastTransfer -|- PG16_to_MSS25 -|- INFORMATION -|- tpch_test.dbo.orders_4_no_index -|- Source User : FastUser\n",
      "2025-06-15T21:20:52.712 +02:00 -|- FastTransfer -|- PG16_to_MSS25 -|- INFORMATION -|- tpch_test.dbo.orders_4_no_index -|- Source Schema : tpch_10\n",
      "2025-06-15T21:20:52.712 +02:00 -|- FastTransfer -|- PG16_to_MSS25 -|- INFORMATION -|- tpch_test.dbo.orders_4_no_index -|- Source Table : orders\n",
      "2025-06-15T21:20:52.712 +02:00 -|- FastTransfer -|- PG16_to_MSS25 -|- INFORMATION -|- tpch_test.dbo.orders_4_no_index -|- Target Type : msbulk\n",
      "2025-06-15T21:20:52.712 +02:00 -|- FastTransfer -|- PG16_to_MSS25 -|- INFORMATION -|- tpch_test.dbo.orders_4_no_index -|- Target Server : localhost\\SS2025\n",
      "2025-06-15T21:20:52.712 +02:00 -|- FastTransfer -|- PG16_to_MSS25 -|- INFORMATION -|- tpch_test.dbo.orders_4_no_index -|- Target Database : tpch_test\n",
      "2025-06-15T21:20:52.712 +02:00 -|- FastTransfer -|- PG16_to_MSS25 -|- INFORMATION -|- tpch_test.dbo.orders_4_no_index -|- Target Schema : dbo\n",
      "2025-06-15T21:20:52.712 +02:00 -|- FastTransfer -|- PG16_to_MSS25 -|- INFORMATION -|- tpch_test.dbo.orders_4_no_index -|- Target Table : orders_4_no_index\n",
      "2025-06-15T21:20:52.712 +02:00 -|- FastTransfer -|- PG16_to_MSS25 -|- INFORMATION -|- tpch_test.dbo.orders_4_no_index -|- Target Trusted Connection : True\n",
      "2025-06-15T21:20:52.712 +02:00 -|- FastTransfer -|- PG16_to_MSS25 -|- INFORMATION -|- tpch_test.dbo.orders_4_no_index -|- Columns Map Method : Name\n",
      "2025-06-15T21:20:52.712 +02:00 -|- FastTransfer -|- PG16_to_MSS25 -|- INFORMATION -|- tpch_test.dbo.orders_4_no_index -|- Degree : -2\n",
      "2025-06-15T21:20:52.712 +02:00 -|- FastTransfer -|- PG16_to_MSS25 -|- INFORMATION -|- tpch_test.dbo.orders_4_no_index -|- Distribute Method : Ctid\n",
      "2025-06-15T21:20:52.712 +02:00 -|- FastTransfer -|- PG16_to_MSS25 -|- INFORMATION -|- tpch_test.dbo.orders_4_no_index -|- Distribute Column : o_orderkey\n",
      "2025-06-15T21:20:52.713 +02:00 -|- FastTransfer -|- PG16_to_MSS25 -|- INFORMATION -|- tpch_test.dbo.orders_4_no_index -|- Bulkcopy Batch Size : 1048576\n",
      "2025-06-15T21:20:52.713 +02:00 -|- FastTransfer -|- PG16_to_MSS25 -|- INFORMATION -|- tpch_test.dbo.orders_4_no_index -|- Load Mode : Truncate\n",
      "2025-06-15T21:20:52.713 +02:00 -|- FastTransfer -|- PG16_to_MSS25 -|- INFORMATION -|- tpch_test.dbo.orders_4_no_index -|- Use Work Tables : False\n",
      "2025-06-15T21:20:52.713 +02:00 -|- FastTransfer -|- PG16_to_MSS25 -|- INFORMATION -|- tpch_test.dbo.orders_4_no_index -|- Encoding used : Unicode (UTF-8) - 65001 - utf-8\n",
      "2025-06-15T21:20:52.778 +02:00 -|- FastTransfer -|- PG16_to_MSS25 -|- INFORMATION -|- tpch_test.dbo.orders_4_no_index -|- Source Connection String : Host=localhost;Port=15432;Database=tpch;Trust Server Certificate=True;Application Name=FastTransfer;Timeout=15;Command Timeout=10800;Username=FastUser;Password=xxxxx\n",
      "2025-06-15T21:20:52.778 +02:00 -|- FastTransfer -|- PG16_to_MSS25 -|- INFORMATION -|- tpch_test.dbo.orders_4_no_index -|- Target Connection String : Data Source=localhost\\SS2025;Initial Catalog=tpch_test;Integrated Security=True;Connect Timeout=120;Encrypt=True;Trust Server Certificate=True;Application Name=FastTransfer;Application Intent=ReadWrite;Command Timeout=10800\n",
      "2025-06-15T21:20:52.778 +02:00 -|- FastTransfer -|- PG16_to_MSS25 -|- INFORMATION -|- tpch_test.dbo.orders_4_no_index -|- Source Database Version : PostgreSQL 16.1, compiled by Visual C++ build 1937, 64-bit\n",
      "2025-06-15T21:20:52.778 +02:00 -|- FastTransfer -|- PG16_to_MSS25 -|- INFORMATION -|- tpch_test.dbo.orders_4_no_index -|- Target Database Version : Microsoft SQL Server 2025 (CTP2.0) - 17.0.700.9 (X64)  \tMay  8 2025 19:14:27  \tCopyright (C) 2025 Microsoft Corporation \tEnterprise Developer Edition (64-bit) on Windows 10 Pro 10.0 <X64> (Build 26100: ) (Hypervisor) \n",
      "2025-06-15T21:20:52.784 +02:00 -|- FastTransfer -|- PG16_to_MSS25 -|- INFORMATION -|- tpch_test.dbo.orders_4_no_index -|- Degree of parallelism was computed to 16 (=> 32\\2)\n",
      "2025-06-15T21:20:52.787 +02:00 -|- FastTransfer -|- PG16_to_MSS25 -|- INFORMATION -|- tpch_test.dbo.orders_4_no_index -|- Snapshot ID = 00000003-0000006C-1\n",
      "2025-06-15T21:20:53.242 +02:00 -|- FastTransfer -|- PG16_to_MSS25 -|- INFORMATION -|- tpch_test.dbo.orders_4_no_index -|- Max CTID for table \"tpch_10\".\"orders\" @snapshotid=00000003-0000006C-1 = (275993,43)\n",
      "2025-06-15T21:20:53.244 +02:00 -|- FastTransfer -|- PG16_to_MSS25 -|- INFORMATION -|- tpch_test.dbo.orders_4_no_index -|- Start Loading Data using distribution method Ctid\n",
      "2025-06-15T21:20:53.245 +02:00 -|- FastTransfer -|- PG16_to_MSS25 -|- INFORMATION -|- tpch_test.dbo.orders_4_no_index -|- Table \"dbo\".\"orders_4_no_index\" has no Clustered Index. BulkCopy will use KeepNulls and UseInternalTransaction and Tablock\n",
      "2025-06-15T21:20:53.245 +02:00 -|- FastTransfer -|- PG16_to_MSS25 -|- INFORMATION -|- tpch_test.dbo.orders_4_no_index -|- BulkCopy to \"dbo\".\"orders_4_no_index\" with BatchSize = 1048576, Timeout = 3600\n",
      "2025-06-15T21:20:53.248 +02:00 -|- FastTransfer -|- PG16_to_MSS25 -|- WARNING -|- tpch_test.dbo.orders_4_no_index -|- Only 9 out of 10 columns were mapped by name to the target table \"dbo\".\"orders_4_no_index\"\n",
      "2025-06-15T21:20:53.281 +02:00 -|- FastTransfer -|- PG16_to_MSS25 -|- INFORMATION -|- tpch_test.dbo.orders_4_no_index -|- Start Loading Data using distribution method Ctid\n",
      "2025-06-15T21:20:53.281 +02:00 -|- FastTransfer -|- PG16_to_MSS25 -|- INFORMATION -|- tpch_test.dbo.orders_4_no_index -|- Table \"dbo\".\"orders_4_no_index\" has no Clustered Index. BulkCopy will use KeepNulls and UseInternalTransaction and Tablock\n",
      "2025-06-15T21:20:53.281 +02:00 -|- FastTransfer -|- PG16_to_MSS25 -|- INFORMATION -|- tpch_test.dbo.orders_4_no_index -|- BulkCopy to \"dbo\".\"orders_4_no_index\" with BatchSize = 1048576, Timeout = 3600\n",
      "2025-06-15T21:20:53.284 +02:00 -|- FastTransfer -|- PG16_to_MSS25 -|- INFORMATION -|- tpch_test.dbo.orders_4_no_index -|- Start Loading Data using distribution method Ctid\n",
      "2025-06-15T21:20:53.285 +02:00 -|- FastTransfer -|- PG16_to_MSS25 -|- INFORMATION -|- tpch_test.dbo.orders_4_no_index -|- Table \"dbo\".\"orders_4_no_index\" has no Clustered Index. BulkCopy will use KeepNulls and UseInternalTransaction and Tablock\n",
      "2025-06-15T21:20:53.285 +02:00 -|- FastTransfer -|- PG16_to_MSS25 -|- INFORMATION -|- tpch_test.dbo.orders_4_no_index -|- BulkCopy to \"dbo\".\"orders_4_no_index\" with BatchSize = 1048576, Timeout = 3600\n",
      "2025-06-15T21:20:53.285 +02:00 -|- FastTransfer -|- PG16_to_MSS25 -|- WARNING -|- tpch_test.dbo.orders_4_no_index -|- Only 9 out of 10 columns were mapped by name to the target table \"dbo\".\"orders_4_no_index\"\n",
      "2025-06-15T21:20:53.288 +02:00 -|- FastTransfer -|- PG16_to_MSS25 -|- WARNING -|- tpch_test.dbo.orders_4_no_index -|- Only 9 out of 10 columns were mapped by name to the target table \"dbo\".\"orders_4_no_index\"\n",
      "2025-06-15T21:20:53.295 +02:00 -|- FastTransfer -|- PG16_to_MSS25 -|- INFORMATION -|- tpch_test.dbo.orders_4_no_index -|- Start Loading Data using distribution method Ctid\n",
      "2025-06-15T21:20:53.296 +02:00 -|- FastTransfer -|- PG16_to_MSS25 -|- INFORMATION -|- tpch_test.dbo.orders_4_no_index -|- Table \"dbo\".\"orders_4_no_index\" has no Clustered Index. BulkCopy will use KeepNulls and UseInternalTransaction and Tablock\n",
      "2025-06-15T21:20:53.296 +02:00 -|- FastTransfer -|- PG16_to_MSS25 -|- INFORMATION -|- tpch_test.dbo.orders_4_no_index -|- BulkCopy to \"dbo\".\"orders_4_no_index\" with BatchSize = 1048576, Timeout = 3600\n",
      "2025-06-15T21:20:53.298 +02:00 -|- FastTransfer -|- PG16_to_MSS25 -|- INFORMATION -|- tpch_test.dbo.orders_4_no_index -|- Start Loading Data using distribution method Ctid\n",
      "2025-06-15T21:20:53.299 +02:00 -|- FastTransfer -|- PG16_to_MSS25 -|- INFORMATION -|- tpch_test.dbo.orders_4_no_index -|- Table \"dbo\".\"orders_4_no_index\" has no Clustered Index. BulkCopy will use KeepNulls and UseInternalTransaction and Tablock\n",
      "2025-06-15T21:20:53.299 +02:00 -|- FastTransfer -|- PG16_to_MSS25 -|- WARNING -|- tpch_test.dbo.orders_4_no_index -|- Only 9 out of 10 columns were mapped by name to the target table \"dbo\".\"orders_4_no_index\"\n",
      "2025-06-15T21:20:53.299 +02:00 -|- FastTransfer -|- PG16_to_MSS25 -|- INFORMATION -|- tpch_test.dbo.orders_4_no_index -|- BulkCopy to \"dbo\".\"orders_4_no_index\" with BatchSize = 1048576, Timeout = 3600\n",
      "2025-06-15T21:20:53.302 +02:00 -|- FastTransfer -|- PG16_to_MSS25 -|- WARNING -|- tpch_test.dbo.orders_4_no_index -|- Only 9 out of 10 columns were mapped by name to the target table \"dbo\".\"orders_4_no_index\"\n",
      "2025-06-15T21:20:53.303 +02:00 -|- FastTransfer -|- PG16_to_MSS25 -|- INFORMATION -|- tpch_test.dbo.orders_4_no_index -|- Start Loading Data using distribution method Ctid\n",
      "2025-06-15T21:20:53.303 +02:00 -|- FastTransfer -|- PG16_to_MSS25 -|- INFORMATION -|- tpch_test.dbo.orders_4_no_index -|- Table \"dbo\".\"orders_4_no_index\" has no Clustered Index. BulkCopy will use KeepNulls and UseInternalTransaction and Tablock\n",
      "2025-06-15T21:20:53.303 +02:00 -|- FastTransfer -|- PG16_to_MSS25 -|- INFORMATION -|- tpch_test.dbo.orders_4_no_index -|- BulkCopy to \"dbo\".\"orders_4_no_index\" with BatchSize = 1048576, Timeout = 3600\n",
      "2025-06-15T21:20:53.306 +02:00 -|- FastTransfer -|- PG16_to_MSS25 -|- WARNING -|- tpch_test.dbo.orders_4_no_index -|- Only 9 out of 10 columns were mapped by name to the target table \"dbo\".\"orders_4_no_index\"\n",
      "2025-06-15T21:20:53.307 +02:00 -|- FastTransfer -|- PG16_to_MSS25 -|- INFORMATION -|- tpch_test.dbo.orders_4_no_index -|- Start Loading Data using distribution method Ctid\n",
      "2025-06-15T21:20:53.308 +02:00 -|- FastTransfer -|- PG16_to_MSS25 -|- INFORMATION -|- tpch_test.dbo.orders_4_no_index -|- Table \"dbo\".\"orders_4_no_index\" has no Clustered Index. BulkCopy will use KeepNulls and UseInternalTransaction and Tablock\n",
      "2025-06-15T21:20:53.308 +02:00 -|- FastTransfer -|- PG16_to_MSS25 -|- INFORMATION -|- tpch_test.dbo.orders_4_no_index -|- BulkCopy to \"dbo\".\"orders_4_no_index\" with BatchSize = 1048576, Timeout = 3600\n",
      "2025-06-15T21:20:53.310 +02:00 -|- FastTransfer -|- PG16_to_MSS25 -|- WARNING -|- tpch_test.dbo.orders_4_no_index -|- Only 9 out of 10 columns were mapped by name to the target table \"dbo\".\"orders_4_no_index\"\n",
      "2025-06-15T21:20:53.315 +02:00 -|- FastTransfer -|- PG16_to_MSS25 -|- INFORMATION -|- tpch_test.dbo.orders_4_no_index -|- Start Loading Data using distribution method Ctid\n",
      "2025-06-15T21:20:53.315 +02:00 -|- FastTransfer -|- PG16_to_MSS25 -|- INFORMATION -|- tpch_test.dbo.orders_4_no_index -|- Table \"dbo\".\"orders_4_no_index\" has no Clustered Index. BulkCopy will use KeepNulls and UseInternalTransaction and Tablock\n",
      "2025-06-15T21:20:53.315 +02:00 -|- FastTransfer -|- PG16_to_MSS25 -|- INFORMATION -|- tpch_test.dbo.orders_4_no_index -|- BulkCopy to \"dbo\".\"orders_4_no_index\" with BatchSize = 1048576, Timeout = 3600\n",
      "2025-06-15T21:20:53.318 +02:00 -|- FastTransfer -|- PG16_to_MSS25 -|- INFORMATION -|- tpch_test.dbo.orders_4_no_index -|- Start Loading Data using distribution method Ctid\n",
      "2025-06-15T21:20:53.318 +02:00 -|- FastTransfer -|- PG16_to_MSS25 -|- WARNING -|- tpch_test.dbo.orders_4_no_index -|- Only 9 out of 10 columns were mapped by name to the target table \"dbo\".\"orders_4_no_index\"\n",
      "2025-06-15T21:20:53.318 +02:00 -|- FastTransfer -|- PG16_to_MSS25 -|- INFORMATION -|- tpch_test.dbo.orders_4_no_index -|- Table \"dbo\".\"orders_4_no_index\" has no Clustered Index. BulkCopy will use KeepNulls and UseInternalTransaction and Tablock\n",
      "2025-06-15T21:20:53.318 +02:00 -|- FastTransfer -|- PG16_to_MSS25 -|- INFORMATION -|- tpch_test.dbo.orders_4_no_index -|- BulkCopy to \"dbo\".\"orders_4_no_index\" with BatchSize = 1048576, Timeout = 3600\n",
      "2025-06-15T21:20:53.320 +02:00 -|- FastTransfer -|- PG16_to_MSS25 -|- WARNING -|- tpch_test.dbo.orders_4_no_index -|- Only 9 out of 10 columns were mapped by name to the target table \"dbo\".\"orders_4_no_index\"\n",
      "2025-06-15T21:20:53.321 +02:00 -|- FastTransfer -|- PG16_to_MSS25 -|- INFORMATION -|- tpch_test.dbo.orders_4_no_index -|- Start Loading Data using distribution method Ctid\n",
      "2025-06-15T21:20:53.321 +02:00 -|- FastTransfer -|- PG16_to_MSS25 -|- INFORMATION -|- tpch_test.dbo.orders_4_no_index -|- Table \"dbo\".\"orders_4_no_index\" has no Clustered Index. BulkCopy will use KeepNulls and UseInternalTransaction and Tablock\n",
      "2025-06-15T21:20:53.321 +02:00 -|- FastTransfer -|- PG16_to_MSS25 -|- INFORMATION -|- tpch_test.dbo.orders_4_no_index -|- BulkCopy to \"dbo\".\"orders_4_no_index\" with BatchSize = 1048576, Timeout = 3600\n",
      "2025-06-15T21:20:53.328 +02:00 -|- FastTransfer -|- PG16_to_MSS25 -|- WARNING -|- tpch_test.dbo.orders_4_no_index -|- Only 9 out of 10 columns were mapped by name to the target table \"dbo\".\"orders_4_no_index\"\n",
      "2025-06-15T21:20:53.329 +02:00 -|- FastTransfer -|- PG16_to_MSS25 -|- INFORMATION -|- tpch_test.dbo.orders_4_no_index -|- Start Loading Data using distribution method Ctid\n",
      "2025-06-15T21:20:53.330 +02:00 -|- FastTransfer -|- PG16_to_MSS25 -|- INFORMATION -|- tpch_test.dbo.orders_4_no_index -|- Table \"dbo\".\"orders_4_no_index\" has no Clustered Index. BulkCopy will use KeepNulls and UseInternalTransaction and Tablock\n",
      "2025-06-15T21:20:53.330 +02:00 -|- FastTransfer -|- PG16_to_MSS25 -|- INFORMATION -|- tpch_test.dbo.orders_4_no_index -|- BulkCopy to \"dbo\".\"orders_4_no_index\" with BatchSize = 1048576, Timeout = 3600\n",
      "2025-06-15T21:20:53.332 +02:00 -|- FastTransfer -|- PG16_to_MSS25 -|- WARNING -|- tpch_test.dbo.orders_4_no_index -|- Only 9 out of 10 columns were mapped by name to the target table \"dbo\".\"orders_4_no_index\"\n",
      "2025-06-15T21:20:53.332 +02:00 -|- FastTransfer -|- PG16_to_MSS25 -|- INFORMATION -|- tpch_test.dbo.orders_4_no_index -|- Start Loading Data using distribution method Ctid\n",
      "2025-06-15T21:20:53.333 +02:00 -|- FastTransfer -|- PG16_to_MSS25 -|- INFORMATION -|- tpch_test.dbo.orders_4_no_index -|- Table \"dbo\".\"orders_4_no_index\" has no Clustered Index. BulkCopy will use KeepNulls and UseInternalTransaction and Tablock\n",
      "2025-06-15T21:20:53.333 +02:00 -|- FastTransfer -|- PG16_to_MSS25 -|- INFORMATION -|- tpch_test.dbo.orders_4_no_index -|- BulkCopy to \"dbo\".\"orders_4_no_index\" with BatchSize = 1048576, Timeout = 3600\n",
      "2025-06-15T21:20:53.335 +02:00 -|- FastTransfer -|- PG16_to_MSS25 -|- WARNING -|- tpch_test.dbo.orders_4_no_index -|- Only 9 out of 10 columns were mapped by name to the target table \"dbo\".\"orders_4_no_index\"\n",
      "2025-06-15T21:20:53.336 +02:00 -|- FastTransfer -|- PG16_to_MSS25 -|- INFORMATION -|- tpch_test.dbo.orders_4_no_index -|- Start Loading Data using distribution method Ctid\n",
      "2025-06-15T21:20:53.336 +02:00 -|- FastTransfer -|- PG16_to_MSS25 -|- INFORMATION -|- tpch_test.dbo.orders_4_no_index -|- Table \"dbo\".\"orders_4_no_index\" has no Clustered Index. BulkCopy will use KeepNulls and UseInternalTransaction and Tablock\n",
      "2025-06-15T21:20:53.336 +02:00 -|- FastTransfer -|- PG16_to_MSS25 -|- INFORMATION -|- tpch_test.dbo.orders_4_no_index -|- BulkCopy to \"dbo\".\"orders_4_no_index\" with BatchSize = 1048576, Timeout = 3600\n",
      "2025-06-15T21:20:53.338 +02:00 -|- FastTransfer -|- PG16_to_MSS25 -|- WARNING -|- tpch_test.dbo.orders_4_no_index -|- Only 9 out of 10 columns were mapped by name to the target table \"dbo\".\"orders_4_no_index\"\n",
      "2025-06-15T21:20:53.339 +02:00 -|- FastTransfer -|- PG16_to_MSS25 -|- INFORMATION -|- tpch_test.dbo.orders_4_no_index -|- Start Loading Data using distribution method Ctid\n",
      "2025-06-15T21:20:53.339 +02:00 -|- FastTransfer -|- PG16_to_MSS25 -|- INFORMATION -|- tpch_test.dbo.orders_4_no_index -|- Table \"dbo\".\"orders_4_no_index\" has no Clustered Index. BulkCopy will use KeepNulls and UseInternalTransaction and Tablock\n",
      "2025-06-15T21:20:53.339 +02:00 -|- FastTransfer -|- PG16_to_MSS25 -|- INFORMATION -|- tpch_test.dbo.orders_4_no_index -|- BulkCopy to \"dbo\".\"orders_4_no_index\" with BatchSize = 1048576, Timeout = 3600\n",
      "2025-06-15T21:20:53.342 +02:00 -|- FastTransfer -|- PG16_to_MSS25 -|- WARNING -|- tpch_test.dbo.orders_4_no_index -|- Only 9 out of 10 columns were mapped by name to the target table \"dbo\".\"orders_4_no_index\"\n",
      "2025-06-15T21:20:53.342 +02:00 -|- FastTransfer -|- PG16_to_MSS25 -|- INFORMATION -|- tpch_test.dbo.orders_4_no_index -|- Start Loading Data using distribution method Ctid\n",
      "2025-06-15T21:20:53.342 +02:00 -|- FastTransfer -|- PG16_to_MSS25 -|- INFORMATION -|- tpch_test.dbo.orders_4_no_index -|- Table \"dbo\".\"orders_4_no_index\" has no Clustered Index. BulkCopy will use KeepNulls and UseInternalTransaction and Tablock\n",
      "2025-06-15T21:20:53.342 +02:00 -|- FastTransfer -|- PG16_to_MSS25 -|- INFORMATION -|- tpch_test.dbo.orders_4_no_index -|- BulkCopy to \"dbo\".\"orders_4_no_index\" with BatchSize = 1048576, Timeout = 3600\n",
      "2025-06-15T21:20:53.345 +02:00 -|- FastTransfer -|- PG16_to_MSS25 -|- WARNING -|- tpch_test.dbo.orders_4_no_index -|- Only 9 out of 10 columns were mapped by name to the target table \"dbo\".\"orders_4_no_index\"\n",
      "2025-06-15T21:20:53.347 +02:00 -|- FastTransfer -|- PG16_to_MSS25 -|- INFORMATION -|- tpch_test.dbo.orders_4_no_index -|- Start Loading Data using distribution method Ctid\n",
      "2025-06-15T21:20:53.347 +02:00 -|- FastTransfer -|- PG16_to_MSS25 -|- INFORMATION -|- tpch_test.dbo.orders_4_no_index -|- Table \"dbo\".\"orders_4_no_index\" has no Clustered Index. BulkCopy will use KeepNulls and UseInternalTransaction and Tablock\n",
      "2025-06-15T21:20:53.347 +02:00 -|- FastTransfer -|- PG16_to_MSS25 -|- INFORMATION -|- tpch_test.dbo.orders_4_no_index -|- BulkCopy to \"dbo\".\"orders_4_no_index\" with BatchSize = 1048576, Timeout = 3600\n",
      "2025-06-15T21:20:53.349 +02:00 -|- FastTransfer -|- PG16_to_MSS25 -|- WARNING -|- tpch_test.dbo.orders_4_no_index -|- Only 9 out of 10 columns were mapped by name to the target table \"dbo\".\"orders_4_no_index\"\n",
      "2025-06-15T21:20:56.978 +02:00 -|- FastTransfer -|- PG16_to_MSS25 -|- INFORMATION -|- tpch_test.dbo.orders_4_no_index -|- Completed Load Query 1 for ctid between 0 and 17249 : 937555 rows x 9 columns in 3734ms\n",
      "2025-06-15T21:20:56.991 +02:00 -|- FastTransfer -|- PG16_to_MSS25 -|- INFORMATION -|- tpch_test.dbo.orders_4_no_index -|- Completed Load Query 2 for ctid between 17249 and 34498 : 937702 rows x 9 columns in 3747ms\n",
      "2025-06-15T21:20:57.131 +02:00 -|- FastTransfer -|- PG16_to_MSS25 -|- INFORMATION -|- tpch_test.dbo.orders_4_no_index -|- Completed Load Query 6 for ctid between 86245 and 103494 : 937312 rows x 9 columns in 3887ms\n",
      "2025-06-15T21:20:57.132 +02:00 -|- FastTransfer -|- PG16_to_MSS25 -|- INFORMATION -|- tpch_test.dbo.orders_4_no_index -|- Completed Load Query 3 for ctid between 34498 and 51747 : 937416 rows x 9 columns in 3888ms\n",
      "2025-06-15T21:20:57.143 +02:00 -|- FastTransfer -|- PG16_to_MSS25 -|- INFORMATION -|- tpch_test.dbo.orders_4_no_index -|- Completed Load Query 9 for ctid between 137992 and 155241 : 937618 rows x 9 columns in 3899ms\n",
      "2025-06-15T21:20:57.169 +02:00 -|- FastTransfer -|- PG16_to_MSS25 -|- INFORMATION -|- tpch_test.dbo.orders_4_no_index -|- Completed Load Query 13 for ctid between 206988 and 224237 : 937515 rows x 9 columns in 3924ms\n",
      "2025-06-15T21:20:57.176 +02:00 -|- FastTransfer -|- PG16_to_MSS25 -|- INFORMATION -|- tpch_test.dbo.orders_4_no_index -|- Completed Load Query 12 for ctid between 189739 and 206988 : 937451 rows x 9 columns in 3931ms\n",
      "2025-06-15T21:20:57.180 +02:00 -|- FastTransfer -|- PG16_to_MSS25 -|- INFORMATION -|- tpch_test.dbo.orders_4_no_index -|- Completed Load Query 15 for ctid between 241486 and 258735 : 937553 rows x 9 columns in 3935ms\n",
      "2025-06-15T21:20:57.181 +02:00 -|- FastTransfer -|- PG16_to_MSS25 -|- INFORMATION -|- tpch_test.dbo.orders_4_no_index -|- Completed Load Query 4 for ctid between 51747 and 68996 : 937350 rows x 9 columns in 3937ms\n",
      "2025-06-15T21:20:57.191 +02:00 -|- FastTransfer -|- PG16_to_MSS25 -|- INFORMATION -|- tpch_test.dbo.orders_4_no_index -|- Completed Load Query 8 for ctid between 120743 and 137992 : 937350 rows x 9 columns in 3947ms\n",
      "2025-06-15T21:20:57.202 +02:00 -|- FastTransfer -|- PG16_to_MSS25 -|- INFORMATION -|- tpch_test.dbo.orders_4_no_index -|- Completed Load Query 11 for ctid between 172490 and 189739 : 937464 rows x 9 columns in 3958ms\n",
      "2025-06-15T21:20:57.214 +02:00 -|- FastTransfer -|- PG16_to_MSS25 -|- INFORMATION -|- tpch_test.dbo.orders_4_no_index -|- Completed Load Query 14 for ctid between 224237 and 241486 : 937510 rows x 9 columns in 3968ms\n",
      "2025-06-15T21:20:57.221 +02:00 -|- FastTransfer -|- PG16_to_MSS25 -|- INFORMATION -|- tpch_test.dbo.orders_4_no_index -|- Completed Load Query 5 for ctid between 68996 and 86245 : 937429 rows x 9 columns in 3977ms\n",
      "2025-06-15T21:20:57.225 +02:00 -|- FastTransfer -|- PG16_to_MSS25 -|- INFORMATION -|- tpch_test.dbo.orders_4_no_index -|- Completed Load Query 7 for ctid between 103494 and 120743 : 937531 rows x 9 columns in 3981ms\n",
      "2025-06-15T21:20:57.250 +02:00 -|- FastTransfer -|- PG16_to_MSS25 -|- INFORMATION -|- tpch_test.dbo.orders_4_no_index -|- Completed Load Query 10 for ctid between 155241 and 172490 : 937484 rows x 9 columns in 4006ms\n",
      "2025-06-15T21:20:57.265 +02:00 -|- FastTransfer -|- PG16_to_MSS25 -|- INFORMATION -|- tpch_test.dbo.orders_4_no_index -|- Completed Load Query 16 for ctid between 258735 and 2147483647 : 937760 rows x 9 columns in 4020ms\n",
      "2025-06-15T21:20:57.266 +02:00 -|- FastTransfer -|- PG16_to_MSS25 -|- INFORMATION -|- tpch_test.dbo.orders_4_no_index -|- Total rows : 15000000\n",
      "2025-06-15T21:20:57.266 +02:00 -|- FastTransfer -|- PG16_to_MSS25 -|- INFORMATION -|- tpch_test.dbo.orders_4_no_index -|- Total columns : 9\n",
      "2025-06-15T21:20:57.266 +02:00 -|- FastTransfer -|- PG16_to_MSS25 -|- INFORMATION -|- tpch_test.dbo.orders_4_no_index -|- Total cells : 135000000\n",
      "2025-06-15T21:20:57.266 +02:00 -|- FastTransfer -|- PG16_to_MSS25 -|- INFORMATION -|- tpch_test.dbo.orders_4_no_index -|- Rows Throughput : 3346938 rows/s\n",
      "2025-06-15T21:20:57.266 +02:00 -|- FastTransfer -|- PG16_to_MSS25 -|- INFORMATION -|- tpch_test.dbo.orders_4_no_index -|- Cells Throughput : 30122482 cells/s\n",
      "2025-06-15T21:20:57.266 +02:00 -|- FastTransfer -|- PG16_to_MSS25 -|- INFORMATION -|- tpch_test.dbo.orders_4_no_index -|- Transfert time : Elapsed=4481 ms\n",
      "2025-06-15T21:20:57.266 +02:00 -|- FastTransfer -|- PG16_to_MSS25 -|- INFORMATION -|- tpch_test.dbo.orders_4_no_index -|- Total time : Elapsed=4716 ms\n",
      "2025-06-15T21:20:57.266 +02:00 -|- FastTransfer -|- PG16_to_MSS25 -|- INFORMATION -|- tpch_test.dbo.orders_4_no_index -|- Completed Load\n"
     ]
    }
   ],
   "source": [
    "\n",
    "cd D:\\FastTransfer\n",
    "\n",
    ".\\FastTransfer.exe `\n",
    "--sourceconnectiontype \"pgcopy\" `\n",
    "--sourceserver \"localhost:15432\" `\n",
    "--sourcedatabase \"tpch\" `\n",
    "--sourceuser \"FastUser\" `\n",
    "--sourcepassword \"FastPassword\" `\n",
    "--sourceschema \"tpch_10\" `\n",
    "--sourcetable \"orders\" `\n",
    "`\n",
    "--targetconnectiontype \"msbulk\" `\n",
    "--targetserver \"localhost\\SS2025\" `\n",
    "--targettrusted `\n",
    "--targetdatabase \"tpch_test\" `\n",
    "--targetschema \"dbo\" `\n",
    "--targettable \"orders_4_no_index\" `\n",
    "`\n",
    "--loadmode \"Truncate\" `\n",
    "--mapmethod \"Name\" `\n",
    "--method \"Ctid\" `\n",
    "--distributekeycolumn \"o_orderkey\" `\n",
    "--degree -2 `\n",
    "--runid \"PG16_to_MSS25\""
   ]
  },
  {
   "cell_type": "markdown",
   "id": "76ae8a29",
   "metadata": {},
   "source": [
    "Hard to believe but postgresql to mssql copy is faster than the mssql to mssql (2 differents instances)"
   ]
  },
  {
   "cell_type": "markdown",
   "id": "ec9b966d",
   "metadata": {},
   "source": [
    "#### Test using a bigger table : LineItem (60M Rows x 16 columns) "
   ]
  },
  {
   "cell_type": "code",
   "execution_count": 11,
   "id": "943d9c54",
   "metadata": {
    "polyglot_notebook": {
     "kernelName": "pwsh"
    }
   },
   "outputs": [
    {
     "name": "stdout",
     "output_type": "stream",
     "text": [
      "2025-06-14T14:23:10.677 +02:00 -|- FastTransfer -|- PG16_to_MSS25 -|- INFORMATION -|- tpch_test.dbo.lineitem_copy -|- Starting\n",
      "2025-06-14T14:23:10.687 +02:00 -|- FastTransfer -|- PG16_to_MSS25 -|- INFORMATION -|- tpch_test.dbo.lineitem_copy -|- FastTransfer Version : 0.13.4.0 Architecture : X64 - Framework : .NET 8.0.15\n",
      "2025-06-14T14:23:10.687 +02:00 -|- FastTransfer -|- PG16_to_MSS25 -|- INFORMATION -|- tpch_test.dbo.lineitem_copy -|- OS : Microsoft Windows 10.0.26100\n",
      "2025-06-14T14:23:10.687 +02:00 -|- FastTransfer -|- PG16_to_MSS25 -|- INFORMATION -|- tpch_test.dbo.lineitem_copy -|- Process ID : 51432\n",
      "2025-06-14T14:23:10.687 +02:00 -|- FastTransfer -|- PG16_to_MSS25 -|- INFORMATION -|- tpch_test.dbo.lineitem_copy -|- Provided Run ID : PG16_to_MSS25\n",
      "2025-06-14T14:23:10.687 +02:00 -|- FastTransfer -|- PG16_to_MSS25 -|- INFORMATION -|- tpch_test.dbo.lineitem_copy -|- Source Connection Type : pgsql\n",
      "2025-06-14T14:23:10.687 +02:00 -|- FastTransfer -|- PG16_to_MSS25 -|- INFORMATION -|- tpch_test.dbo.lineitem_copy -|- Source SqlInstance : localhost:15432\n",
      "2025-06-14T14:23:10.687 +02:00 -|- FastTransfer -|- PG16_to_MSS25 -|- INFORMATION -|- tpch_test.dbo.lineitem_copy -|- Source Database : tpch\n",
      "2025-06-14T14:23:10.687 +02:00 -|- FastTransfer -|- PG16_to_MSS25 -|- INFORMATION -|- tpch_test.dbo.lineitem_copy -|- Source Trusted Connection : False\n",
      "2025-06-14T14:23:10.687 +02:00 -|- FastTransfer -|- PG16_to_MSS25 -|- INFORMATION -|- tpch_test.dbo.lineitem_copy -|- Source User : FastUser\n",
      "2025-06-14T14:23:10.687 +02:00 -|- FastTransfer -|- PG16_to_MSS25 -|- INFORMATION -|- tpch_test.dbo.lineitem_copy -|- Source Schema : tpch_10\n",
      "2025-06-14T14:23:10.687 +02:00 -|- FastTransfer -|- PG16_to_MSS25 -|- INFORMATION -|- tpch_test.dbo.lineitem_copy -|- Source Table : lineitem\n",
      "2025-06-14T14:23:10.687 +02:00 -|- FastTransfer -|- PG16_to_MSS25 -|- INFORMATION -|- tpch_test.dbo.lineitem_copy -|- Target Type : msbulk\n",
      "2025-06-14T14:23:10.687 +02:00 -|- FastTransfer -|- PG16_to_MSS25 -|- INFORMATION -|- tpch_test.dbo.lineitem_copy -|- Target Server : localhost\\SS2025\n",
      "2025-06-14T14:23:10.687 +02:00 -|- FastTransfer -|- PG16_to_MSS25 -|- INFORMATION -|- tpch_test.dbo.lineitem_copy -|- Target Database : tpch_test\n",
      "2025-06-14T14:23:10.687 +02:00 -|- FastTransfer -|- PG16_to_MSS25 -|- INFORMATION -|- tpch_test.dbo.lineitem_copy -|- Target Schema : dbo\n",
      "2025-06-14T14:23:10.687 +02:00 -|- FastTransfer -|- PG16_to_MSS25 -|- INFORMATION -|- tpch_test.dbo.lineitem_copy -|- Target Table : lineitem_copy\n",
      "2025-06-14T14:23:10.687 +02:00 -|- FastTransfer -|- PG16_to_MSS25 -|- INFORMATION -|- tpch_test.dbo.lineitem_copy -|- Target Trusted Connection : True\n",
      "2025-06-14T14:23:10.687 +02:00 -|- FastTransfer -|- PG16_to_MSS25 -|- INFORMATION -|- tpch_test.dbo.lineitem_copy -|- Columns Map Method : Name\n",
      "2025-06-14T14:23:10.688 +02:00 -|- FastTransfer -|- PG16_to_MSS25 -|- INFORMATION -|- tpch_test.dbo.lineitem_copy -|- Degree : -2\n",
      "2025-06-14T14:23:10.688 +02:00 -|- FastTransfer -|- PG16_to_MSS25 -|- INFORMATION -|- tpch_test.dbo.lineitem_copy -|- Distribute Method : Ctid\n",
      "2025-06-14T14:23:10.688 +02:00 -|- FastTransfer -|- PG16_to_MSS25 -|- INFORMATION -|- tpch_test.dbo.lineitem_copy -|- Bulkcopy Batch Size : 1048576\n",
      "2025-06-14T14:23:10.688 +02:00 -|- FastTransfer -|- PG16_to_MSS25 -|- INFORMATION -|- tpch_test.dbo.lineitem_copy -|- Load Mode : Truncate\n",
      "2025-06-14T14:23:10.688 +02:00 -|- FastTransfer -|- PG16_to_MSS25 -|- INFORMATION -|- tpch_test.dbo.lineitem_copy -|- Use Work Tables : False\n",
      "2025-06-14T14:23:10.689 +02:00 -|- FastTransfer -|- PG16_to_MSS25 -|- INFORMATION -|- tpch_test.dbo.lineitem_copy -|- Encoding used : Unicode (UTF-8) - 65001 - utf-8\n",
      "2025-06-14T14:23:10.747 +02:00 -|- FastTransfer -|- PG16_to_MSS25 -|- INFORMATION -|- tpch_test.dbo.lineitem_copy -|- Source Connection String : Host=localhost;Port=15432;Database=tpch;Trust Server Certificate=True;Application Name=FastTransfer;Timeout=15;Command Timeout=10800;Username=FastUser;Password=xxxxx\n",
      "2025-06-14T14:23:10.747 +02:00 -|- FastTransfer -|- PG16_to_MSS25 -|- INFORMATION -|- tpch_test.dbo.lineitem_copy -|- Target Connection String : Data Source=localhost\\SS2025;Initial Catalog=tpch_test;Integrated Security=True;Connect Timeout=120;Encrypt=True;Trust Server Certificate=True;Application Name=FastTransfer;Application Intent=ReadWrite;Command Timeout=10800\n",
      "2025-06-14T14:23:10.747 +02:00 -|- FastTransfer -|- PG16_to_MSS25 -|- INFORMATION -|- tpch_test.dbo.lineitem_copy -|- Source Database Version : PostgreSQL 16.1, compiled by Visual C++ build 1937, 64-bit\n",
      "2025-06-14T14:23:10.747 +02:00 -|- FastTransfer -|- PG16_to_MSS25 -|- INFORMATION -|- tpch_test.dbo.lineitem_copy -|- Target Database Version : Microsoft SQL Server 2025 (CTP2.0) - 17.0.700.9 (X64)  \tMay  8 2025 19:14:27  \tCopyright (C) 2025 Microsoft Corporation \tEnterprise Developer Edition (64-bit) on Windows 10 Pro 10.0 <X64> (Build 26100: ) (Hypervisor) \n",
      "2025-06-14T14:23:10.753 +02:00 -|- FastTransfer -|- PG16_to_MSS25 -|- INFORMATION -|- tpch_test.dbo.lineitem_copy -|- Degree of parallelism was computed to 16 (=> 32\\2)\n",
      "2025-06-14T14:23:10.757 +02:00 -|- FastTransfer -|- PG16_to_MSS25 -|- INFORMATION -|- tpch_test.dbo.lineitem_copy -|- Snapshot ID = 00000003-0000018C-1\n",
      "2025-06-14T14:23:14.036 +02:00 -|- FastTransfer -|- PG16_to_MSS25 -|- INFORMATION -|- tpch_test.dbo.lineitem_copy -|- Max CTID for table \"tpch_10\".\"lineitem\" @snapshotid=00000003-0000018C-1 = (1214354,49)\n",
      "2025-06-14T14:23:14.039 +02:00 -|- FastTransfer -|- PG16_to_MSS25 -|- INFORMATION -|- tpch_test.dbo.lineitem_copy -|- Start Loading Data using distribution method Ctid\n",
      "2025-06-14T14:23:14.043 +02:00 -|- FastTransfer -|- PG16_to_MSS25 -|- INFORMATION -|- tpch_test.dbo.lineitem_copy -|- Table \"dbo\".\"lineitem_copy\" has no Clustered Index. BulkCopy will use KeepNulls and UseInternalTransaction and Tablock\n",
      "2025-06-14T14:23:14.044 +02:00 -|- FastTransfer -|- PG16_to_MSS25 -|- INFORMATION -|- tpch_test.dbo.lineitem_copy -|- BulkCopy to \"dbo\".\"lineitem_copy\" with BatchSize = 1048576, Timeout = 3600\n",
      "2025-06-14T14:23:14.056 +02:00 -|- FastTransfer -|- PG16_to_MSS25 -|- INFORMATION -|- tpch_test.dbo.lineitem_copy -|- All 16 columns were mapped by name to the target table \"dbo\".\"lineitem_copy\"\n",
      "2025-06-14T14:23:14.070 +02:00 -|- FastTransfer -|- PG16_to_MSS25 -|- INFORMATION -|- tpch_test.dbo.lineitem_copy -|- Start Loading Data using distribution method Ctid\n",
      "2025-06-14T14:23:14.071 +02:00 -|- FastTransfer -|- PG16_to_MSS25 -|- INFORMATION -|- tpch_test.dbo.lineitem_copy -|- Table \"dbo\".\"lineitem_copy\" has no Clustered Index. BulkCopy will use KeepNulls and UseInternalTransaction and Tablock\n",
      "2025-06-14T14:23:14.071 +02:00 -|- FastTransfer -|- PG16_to_MSS25 -|- INFORMATION -|- tpch_test.dbo.lineitem_copy -|- BulkCopy to \"dbo\".\"lineitem_copy\" with BatchSize = 1048576, Timeout = 3600\n",
      "2025-06-14T14:23:14.074 +02:00 -|- FastTransfer -|- PG16_to_MSS25 -|- INFORMATION -|- tpch_test.dbo.lineitem_copy -|- All 16 columns were mapped by name to the target table \"dbo\".\"lineitem_copy\"\n",
      "2025-06-14T14:23:14.075 +02:00 -|- FastTransfer -|- PG16_to_MSS25 -|- INFORMATION -|- tpch_test.dbo.lineitem_copy -|- Start Loading Data using distribution method Ctid\n",
      "2025-06-14T14:23:14.075 +02:00 -|- FastTransfer -|- PG16_to_MSS25 -|- INFORMATION -|- tpch_test.dbo.lineitem_copy -|- Table \"dbo\".\"lineitem_copy\" has no Clustered Index. BulkCopy will use KeepNulls and UseInternalTransaction and Tablock\n",
      "2025-06-14T14:23:14.075 +02:00 -|- FastTransfer -|- PG16_to_MSS25 -|- INFORMATION -|- tpch_test.dbo.lineitem_copy -|- BulkCopy to \"dbo\".\"lineitem_copy\" with BatchSize = 1048576, Timeout = 3600\n",
      "2025-06-14T14:23:14.078 +02:00 -|- FastTransfer -|- PG16_to_MSS25 -|- INFORMATION -|- tpch_test.dbo.lineitem_copy -|- All 16 columns were mapped by name to the target table \"dbo\".\"lineitem_copy\"\n",
      "2025-06-14T14:23:14.081 +02:00 -|- FastTransfer -|- PG16_to_MSS25 -|- INFORMATION -|- tpch_test.dbo.lineitem_copy -|- Start Loading Data using distribution method Ctid\n",
      "2025-06-14T14:23:14.081 +02:00 -|- FastTransfer -|- PG16_to_MSS25 -|- INFORMATION -|- tpch_test.dbo.lineitem_copy -|- Table \"dbo\".\"lineitem_copy\" has no Clustered Index. BulkCopy will use KeepNulls and UseInternalTransaction and Tablock\n",
      "2025-06-14T14:23:14.082 +02:00 -|- FastTransfer -|- PG16_to_MSS25 -|- INFORMATION -|- tpch_test.dbo.lineitem_copy -|- BulkCopy to \"dbo\".\"lineitem_copy\" with BatchSize = 1048576, Timeout = 3600\n",
      "2025-06-14T14:23:14.085 +02:00 -|- FastTransfer -|- PG16_to_MSS25 -|- INFORMATION -|- tpch_test.dbo.lineitem_copy -|- Start Loading Data using distribution method Ctid\n",
      "2025-06-14T14:23:14.085 +02:00 -|- FastTransfer -|- PG16_to_MSS25 -|- INFORMATION -|- tpch_test.dbo.lineitem_copy -|- Table \"dbo\".\"lineitem_copy\" has no Clustered Index. BulkCopy will use KeepNulls and UseInternalTransaction and Tablock\n",
      "2025-06-14T14:23:14.085 +02:00 -|- FastTransfer -|- PG16_to_MSS25 -|- INFORMATION -|- tpch_test.dbo.lineitem_copy -|- BulkCopy to \"dbo\".\"lineitem_copy\" with BatchSize = 1048576, Timeout = 3600\n",
      "2025-06-14T14:23:14.086 +02:00 -|- FastTransfer -|- PG16_to_MSS25 -|- INFORMATION -|- tpch_test.dbo.lineitem_copy -|- All 16 columns were mapped by name to the target table \"dbo\".\"lineitem_copy\"\n",
      "2025-06-14T14:23:14.090 +02:00 -|- FastTransfer -|- PG16_to_MSS25 -|- INFORMATION -|- tpch_test.dbo.lineitem_copy -|- All 16 columns were mapped by name to the target table \"dbo\".\"lineitem_copy\"\n",
      "2025-06-14T14:23:14.097 +02:00 -|- FastTransfer -|- PG16_to_MSS25 -|- INFORMATION -|- tpch_test.dbo.lineitem_copy -|- Start Loading Data using distribution method Ctid\n",
      "2025-06-14T14:23:14.098 +02:00 -|- FastTransfer -|- PG16_to_MSS25 -|- INFORMATION -|- tpch_test.dbo.lineitem_copy -|- Table \"dbo\".\"lineitem_copy\" has no Clustered Index. BulkCopy will use KeepNulls and UseInternalTransaction and Tablock\n",
      "2025-06-14T14:23:14.098 +02:00 -|- FastTransfer -|- PG16_to_MSS25 -|- INFORMATION -|- tpch_test.dbo.lineitem_copy -|- BulkCopy to \"dbo\".\"lineitem_copy\" with BatchSize = 1048576, Timeout = 3600\n",
      "2025-06-14T14:23:14.101 +02:00 -|- FastTransfer -|- PG16_to_MSS25 -|- INFORMATION -|- tpch_test.dbo.lineitem_copy -|- All 16 columns were mapped by name to the target table \"dbo\".\"lineitem_copy\"\n",
      "2025-06-14T14:23:14.102 +02:00 -|- FastTransfer -|- PG16_to_MSS25 -|- INFORMATION -|- tpch_test.dbo.lineitem_copy -|- Start Loading Data using distribution method Ctid\n",
      "2025-06-14T14:23:14.103 +02:00 -|- FastTransfer -|- PG16_to_MSS25 -|- INFORMATION -|- tpch_test.dbo.lineitem_copy -|- Table \"dbo\".\"lineitem_copy\" has no Clustered Index. BulkCopy will use KeepNulls and UseInternalTransaction and Tablock\n",
      "2025-06-14T14:23:14.103 +02:00 -|- FastTransfer -|- PG16_to_MSS25 -|- INFORMATION -|- tpch_test.dbo.lineitem_copy -|- BulkCopy to \"dbo\".\"lineitem_copy\" with BatchSize = 1048576, Timeout = 3600\n",
      "2025-06-14T14:23:14.105 +02:00 -|- FastTransfer -|- PG16_to_MSS25 -|- INFORMATION -|- tpch_test.dbo.lineitem_copy -|- All 16 columns were mapped by name to the target table \"dbo\".\"lineitem_copy\"\n",
      "2025-06-14T14:23:14.106 +02:00 -|- FastTransfer -|- PG16_to_MSS25 -|- INFORMATION -|- tpch_test.dbo.lineitem_copy -|- Start Loading Data using distribution method Ctid\n",
      "2025-06-14T14:23:14.106 +02:00 -|- FastTransfer -|- PG16_to_MSS25 -|- INFORMATION -|- tpch_test.dbo.lineitem_copy -|- Table \"dbo\".\"lineitem_copy\" has no Clustered Index. BulkCopy will use KeepNulls and UseInternalTransaction and Tablock\n",
      "2025-06-14T14:23:14.106 +02:00 -|- FastTransfer -|- PG16_to_MSS25 -|- INFORMATION -|- tpch_test.dbo.lineitem_copy -|- BulkCopy to \"dbo\".\"lineitem_copy\" with BatchSize = 1048576, Timeout = 3600\n",
      "2025-06-14T14:23:14.110 +02:00 -|- FastTransfer -|- PG16_to_MSS25 -|- INFORMATION -|- tpch_test.dbo.lineitem_copy -|- All 16 columns were mapped by name to the target table \"dbo\".\"lineitem_copy\"\n",
      "2025-06-14T14:23:14.110 +02:00 -|- FastTransfer -|- PG16_to_MSS25 -|- INFORMATION -|- tpch_test.dbo.lineitem_copy -|- Start Loading Data using distribution method Ctid\n",
      "2025-06-14T14:23:14.111 +02:00 -|- FastTransfer -|- PG16_to_MSS25 -|- INFORMATION -|- tpch_test.dbo.lineitem_copy -|- Table \"dbo\".\"lineitem_copy\" has no Clustered Index. BulkCopy will use KeepNulls and UseInternalTransaction and Tablock\n",
      "2025-06-14T14:23:14.111 +02:00 -|- FastTransfer -|- PG16_to_MSS25 -|- INFORMATION -|- tpch_test.dbo.lineitem_copy -|- BulkCopy to \"dbo\".\"lineitem_copy\" with BatchSize = 1048576, Timeout = 3600\n",
      "2025-06-14T14:23:14.114 +02:00 -|- FastTransfer -|- PG16_to_MSS25 -|- INFORMATION -|- tpch_test.dbo.lineitem_copy -|- All 16 columns were mapped by name to the target table \"dbo\".\"lineitem_copy\"\n",
      "2025-06-14T14:23:14.120 +02:00 -|- FastTransfer -|- PG16_to_MSS25 -|- INFORMATION -|- tpch_test.dbo.lineitem_copy -|- Start Loading Data using distribution method Ctid\n",
      "2025-06-14T14:23:14.121 +02:00 -|- FastTransfer -|- PG16_to_MSS25 -|- INFORMATION -|- tpch_test.dbo.lineitem_copy -|- Table \"dbo\".\"lineitem_copy\" has no Clustered Index. BulkCopy will use KeepNulls and UseInternalTransaction and Tablock\n",
      "2025-06-14T14:23:14.121 +02:00 -|- FastTransfer -|- PG16_to_MSS25 -|- INFORMATION -|- tpch_test.dbo.lineitem_copy -|- BulkCopy to \"dbo\".\"lineitem_copy\" with BatchSize = 1048576, Timeout = 3600\n",
      "2025-06-14T14:23:14.130 +02:00 -|- FastTransfer -|- PG16_to_MSS25 -|- INFORMATION -|- tpch_test.dbo.lineitem_copy -|- All 16 columns were mapped by name to the target table \"dbo\".\"lineitem_copy\"\n",
      "2025-06-14T14:23:14.130 +02:00 -|- FastTransfer -|- PG16_to_MSS25 -|- INFORMATION -|- tpch_test.dbo.lineitem_copy -|- Start Loading Data using distribution method Ctid\n",
      "2025-06-14T14:23:14.131 +02:00 -|- FastTransfer -|- PG16_to_MSS25 -|- INFORMATION -|- tpch_test.dbo.lineitem_copy -|- Table \"dbo\".\"lineitem_copy\" has no Clustered Index. BulkCopy will use KeepNulls and UseInternalTransaction and Tablock\n",
      "2025-06-14T14:23:14.131 +02:00 -|- FastTransfer -|- PG16_to_MSS25 -|- INFORMATION -|- tpch_test.dbo.lineitem_copy -|- BulkCopy to \"dbo\".\"lineitem_copy\" with BatchSize = 1048576, Timeout = 3600\n",
      "2025-06-14T14:23:14.134 +02:00 -|- FastTransfer -|- PG16_to_MSS25 -|- INFORMATION -|- tpch_test.dbo.lineitem_copy -|- All 16 columns were mapped by name to the target table \"dbo\".\"lineitem_copy\"\n",
      "2025-06-14T14:23:14.134 +02:00 -|- FastTransfer -|- PG16_to_MSS25 -|- INFORMATION -|- tpch_test.dbo.lineitem_copy -|- Start Loading Data using distribution method Ctid\n",
      "2025-06-14T14:23:14.134 +02:00 -|- FastTransfer -|- PG16_to_MSS25 -|- INFORMATION -|- tpch_test.dbo.lineitem_copy -|- Table \"dbo\".\"lineitem_copy\" has no Clustered Index. BulkCopy will use KeepNulls and UseInternalTransaction and Tablock\n",
      "2025-06-14T14:23:14.134 +02:00 -|- FastTransfer -|- PG16_to_MSS25 -|- INFORMATION -|- tpch_test.dbo.lineitem_copy -|- BulkCopy to \"dbo\".\"lineitem_copy\" with BatchSize = 1048576, Timeout = 3600\n",
      "2025-06-14T14:23:14.137 +02:00 -|- FastTransfer -|- PG16_to_MSS25 -|- INFORMATION -|- tpch_test.dbo.lineitem_copy -|- All 16 columns were mapped by name to the target table \"dbo\".\"lineitem_copy\"\n",
      "2025-06-14T14:23:14.138 +02:00 -|- FastTransfer -|- PG16_to_MSS25 -|- INFORMATION -|- tpch_test.dbo.lineitem_copy -|- Start Loading Data using distribution method Ctid\n",
      "2025-06-14T14:23:14.138 +02:00 -|- FastTransfer -|- PG16_to_MSS25 -|- INFORMATION -|- tpch_test.dbo.lineitem_copy -|- Table \"dbo\".\"lineitem_copy\" has no Clustered Index. BulkCopy will use KeepNulls and UseInternalTransaction and Tablock\n",
      "2025-06-14T14:23:14.139 +02:00 -|- FastTransfer -|- PG16_to_MSS25 -|- INFORMATION -|- tpch_test.dbo.lineitem_copy -|- BulkCopy to \"dbo\".\"lineitem_copy\" with BatchSize = 1048576, Timeout = 3600\n",
      "2025-06-14T14:23:14.141 +02:00 -|- FastTransfer -|- PG16_to_MSS25 -|- INFORMATION -|- tpch_test.dbo.lineitem_copy -|- Start Loading Data using distribution method Ctid\n",
      "2025-06-14T14:23:14.142 +02:00 -|- FastTransfer -|- PG16_to_MSS25 -|- INFORMATION -|- tpch_test.dbo.lineitem_copy -|- Table \"dbo\".\"lineitem_copy\" has no Clustered Index. BulkCopy will use KeepNulls and UseInternalTransaction and Tablock\n",
      "2025-06-14T14:23:14.142 +02:00 -|- FastTransfer -|- PG16_to_MSS25 -|- INFORMATION -|- tpch_test.dbo.lineitem_copy -|- BulkCopy to \"dbo\".\"lineitem_copy\" with BatchSize = 1048576, Timeout = 3600\n",
      "2025-06-14T14:23:14.142 +02:00 -|- FastTransfer -|- PG16_to_MSS25 -|- INFORMATION -|- tpch_test.dbo.lineitem_copy -|- All 16 columns were mapped by name to the target table \"dbo\".\"lineitem_copy\"\n",
      "2025-06-14T14:23:14.144 +02:00 -|- FastTransfer -|- PG16_to_MSS25 -|- INFORMATION -|- tpch_test.dbo.lineitem_copy -|- Start Loading Data using distribution method Ctid\n",
      "2025-06-14T14:23:14.144 +02:00 -|- FastTransfer -|- PG16_to_MSS25 -|- INFORMATION -|- tpch_test.dbo.lineitem_copy -|- Table \"dbo\".\"lineitem_copy\" has no Clustered Index. BulkCopy will use KeepNulls and UseInternalTransaction and Tablock\n",
      "2025-06-14T14:23:14.144 +02:00 -|- FastTransfer -|- PG16_to_MSS25 -|- INFORMATION -|- tpch_test.dbo.lineitem_copy -|- BulkCopy to \"dbo\".\"lineitem_copy\" with BatchSize = 1048576, Timeout = 3600\n",
      "2025-06-14T14:23:14.145 +02:00 -|- FastTransfer -|- PG16_to_MSS25 -|- INFORMATION -|- tpch_test.dbo.lineitem_copy -|- All 16 columns were mapped by name to the target table \"dbo\".\"lineitem_copy\"\n",
      "2025-06-14T14:23:14.147 +02:00 -|- FastTransfer -|- PG16_to_MSS25 -|- INFORMATION -|- tpch_test.dbo.lineitem_copy -|- All 16 columns were mapped by name to the target table \"dbo\".\"lineitem_copy\"\n",
      "2025-06-14T14:23:14.147 +02:00 -|- FastTransfer -|- PG16_to_MSS25 -|- INFORMATION -|- tpch_test.dbo.lineitem_copy -|- Start Loading Data using distribution method Ctid\n",
      "2025-06-14T14:23:14.148 +02:00 -|- FastTransfer -|- PG16_to_MSS25 -|- INFORMATION -|- tpch_test.dbo.lineitem_copy -|- Table \"dbo\".\"lineitem_copy\" has no Clustered Index. BulkCopy will use KeepNulls and UseInternalTransaction and Tablock\n",
      "2025-06-14T14:23:14.148 +02:00 -|- FastTransfer -|- PG16_to_MSS25 -|- INFORMATION -|- tpch_test.dbo.lineitem_copy -|- BulkCopy to \"dbo\".\"lineitem_copy\" with BatchSize = 1048576, Timeout = 3600\n",
      "2025-06-14T14:23:14.151 +02:00 -|- FastTransfer -|- PG16_to_MSS25 -|- INFORMATION -|- tpch_test.dbo.lineitem_copy -|- All 16 columns were mapped by name to the target table \"dbo\".\"lineitem_copy\"\n",
      "2025-06-14T14:23:35.065 +02:00 -|- FastTransfer -|- PG16_to_MSS25 -|- INFORMATION -|- tpch_test.dbo.lineitem_copy -|- Completed Load Query 4 for ctid between 227691 and 303588 : 3748946 rows x 16 columns in 21026ms\n",
      "2025-06-14T14:23:35.313 +02:00 -|- FastTransfer -|- PG16_to_MSS25 -|- INFORMATION -|- tpch_test.dbo.lineitem_copy -|- Completed Load Query 1 for ctid between 0 and 75897 : 3749339 rows x 16 columns in 21275ms\n",
      "2025-06-14T14:23:35.769 +02:00 -|- FastTransfer -|- PG16_to_MSS25 -|- INFORMATION -|- tpch_test.dbo.lineitem_copy -|- Completed Load Query 6 for ctid between 379485 and 455382 : 3749420 rows x 16 columns in 21731ms\n",
      "2025-06-14T14:23:35.958 +02:00 -|- FastTransfer -|- PG16_to_MSS25 -|- INFORMATION -|- tpch_test.dbo.lineitem_copy -|- Completed Load Query 8 for ctid between 531279 and 607176 : 3749077 rows x 16 columns in 21919ms\n",
      "2025-06-14T14:23:35.985 +02:00 -|- FastTransfer -|- PG16_to_MSS25 -|- INFORMATION -|- tpch_test.dbo.lineitem_copy -|- Completed Load Query 5 for ctid between 303588 and 379485 : 3749399 rows x 16 columns in 21946ms\n",
      "2025-06-14T14:23:35.995 +02:00 -|- FastTransfer -|- PG16_to_MSS25 -|- INFORMATION -|- tpch_test.dbo.lineitem_copy -|- Completed Load Query 9 for ctid between 607176 and 683073 : 3748997 rows x 16 columns in 21956ms\n",
      "2025-06-14T14:23:36.014 +02:00 -|- FastTransfer -|- PG16_to_MSS25 -|- INFORMATION -|- tpch_test.dbo.lineitem_copy -|- Completed Load Query 12 for ctid between 834867 and 910764 : 3749097 rows x 16 columns in 21975ms\n",
      "2025-06-14T14:23:36.063 +02:00 -|- FastTransfer -|- PG16_to_MSS25 -|- INFORMATION -|- tpch_test.dbo.lineitem_copy -|- Completed Load Query 11 for ctid between 758970 and 834867 : 3749131 rows x 16 columns in 22024ms\n",
      "2025-06-14T14:23:36.069 +02:00 -|- FastTransfer -|- PG16_to_MSS25 -|- INFORMATION -|- tpch_test.dbo.lineitem_copy -|- Completed Load Query 15 for ctid between 1062558 and 1138455 : 3749025 rows x 16 columns in 22029ms\n",
      "2025-06-14T14:23:36.090 +02:00 -|- FastTransfer -|- PG16_to_MSS25 -|- INFORMATION -|- tpch_test.dbo.lineitem_copy -|- Completed Load Query 10 for ctid between 683073 and 758970 : 3748843 rows x 16 columns in 22051ms\n",
      "2025-06-14T14:23:36.125 +02:00 -|- FastTransfer -|- PG16_to_MSS25 -|- INFORMATION -|- tpch_test.dbo.lineitem_copy -|- Completed Load Query 3 for ctid between 151794 and 227691 : 3749167 rows x 16 columns in 22087ms\n",
      "2025-06-14T14:23:36.135 +02:00 -|- FastTransfer -|- PG16_to_MSS25 -|- INFORMATION -|- tpch_test.dbo.lineitem_copy -|- Completed Load Query 14 for ctid between 986661 and 1062558 : 3749185 rows x 16 columns in 22095ms\n",
      "2025-06-14T14:23:36.174 +02:00 -|- FastTransfer -|- PG16_to_MSS25 -|- INFORMATION -|- tpch_test.dbo.lineitem_copy -|- Completed Load Query 13 for ctid between 910764 and 986661 : 3749177 rows x 16 columns in 22134ms\n",
      "2025-06-14T14:23:36.198 +02:00 -|- FastTransfer -|- PG16_to_MSS25 -|- INFORMATION -|- tpch_test.dbo.lineitem_copy -|- Completed Load Query 7 for ctid between 455382 and 531279 : 3748808 rows x 16 columns in 22160ms\n",
      "2025-06-14T14:23:36.233 +02:00 -|- FastTransfer -|- PG16_to_MSS25 -|- INFORMATION -|- tpch_test.dbo.lineitem_copy -|- Completed Load Query 2 for ctid between 75897 and 151794 : 3749144 rows x 16 columns in 22194ms\n",
      "2025-06-14T14:23:36.314 +02:00 -|- FastTransfer -|- PG16_to_MSS25 -|- INFORMATION -|- tpch_test.dbo.lineitem_copy -|- Completed Load Query 16 for ctid between 1138455 and 2147483647 : 3749297 rows x 16 columns in 22274ms\n",
      "2025-06-14T14:23:36.315 +02:00 -|- FastTransfer -|- PG16_to_MSS25 -|- INFORMATION -|- tpch_test.dbo.lineitem_copy -|- Total rows : 59986052\n",
      "2025-06-14T14:23:36.315 +02:00 -|- FastTransfer -|- PG16_to_MSS25 -|- INFORMATION -|- tpch_test.dbo.lineitem_copy -|- Total columns : 16\n",
      "2025-06-14T14:23:36.315 +02:00 -|- FastTransfer -|- PG16_to_MSS25 -|- INFORMATION -|- tpch_test.dbo.lineitem_copy -|- Total cells : 959776832\n",
      "2025-06-14T14:23:36.315 +02:00 -|- FastTransfer -|- PG16_to_MSS25 -|- INFORMATION -|- tpch_test.dbo.lineitem_copy -|- Rows Throughput : 2346685 rows/s\n",
      "2025-06-14T14:23:36.315 +02:00 -|- FastTransfer -|- PG16_to_MSS25 -|- INFORMATION -|- tpch_test.dbo.lineitem_copy -|- Cells Throughput : 37546980 cells/s\n",
      "2025-06-14T14:23:36.315 +02:00 -|- FastTransfer -|- PG16_to_MSS25 -|- INFORMATION -|- tpch_test.dbo.lineitem_copy -|- Transfert time : Elapsed=25562 ms\n",
      "2025-06-14T14:23:36.315 +02:00 -|- FastTransfer -|- PG16_to_MSS25 -|- INFORMATION -|- tpch_test.dbo.lineitem_copy -|- Total time : Elapsed=25807 ms\n",
      "2025-06-14T14:23:36.315 +02:00 -|- FastTransfer -|- PG16_to_MSS25 -|- INFORMATION -|- tpch_test.dbo.lineitem_copy -|- Completed Load\n"
     ]
    }
   ],
   "source": [
    "cd D:\\FastTransfer\n",
    "\n",
    ".\\FastTransfer.exe `\n",
    "--sourceconnectiontype \"pgsql\" `\n",
    "--sourceserver \"localhost:15432\" `\n",
    "--sourcedatabase \"tpch\" `\n",
    "--sourceuser \"FastUser\" `\n",
    "--sourcepassword \"FastPassword\" `\n",
    "--sourceschema \"tpch_10\" `\n",
    "--sourcetable \"lineitem\" `\n",
    "`\n",
    "--targetconnectiontype \"msbulk\" `\n",
    "--targetserver \"localhost\\SS2025\" `\n",
    "--targettrusted `\n",
    "--targetdatabase \"tpch_test\" `\n",
    "--targetschema \"dbo\" `\n",
    "--targettable \"lineitem_copy\" `\n",
    "`\n",
    "--loadmode \"Truncate\" `\n",
    "--mapmethod \"Name\" `\n",
    "--method \"Ctid\" `\n",
    "--degree -2 `\n",
    "--runid \"PG16_to_MSS25\""
   ]
  },
  {
   "cell_type": "markdown",
   "metadata": {
    "polyglot_notebook": {
     "kernelName": "csharp"
    }
   },
   "source": [
    "#### Results with Ctid :\n",
    "\n",
    "| PG16 ==> MSSQL 2025 (Ctid method) \t\t\t\t| Elapsed Time (seconds)|Cells/sec \t|Parallel Dispatch Method\n",
    "|-----------------------------------------------------------------------|:---------------------:|----------:| :--: |\n",
    "| FastTransfer Load LINEITEM (60M Rows x 16c columns) HEAP Target       | 25.8     \t\t\t|37_546_980    | Ctid |\n",
    "| FastTransfer Load ORDERS   (15M Rows x  9c columns) HEAP Target \t\t| 4.9     \t\t\t\t|29_690_970    | Ctid |\n"
   ]
  }
 ],
 "metadata": {
  "kernelspec": {
   "display_name": ".NET (C#)",
   "language": "C#",
   "name": ".net-csharp"
  },
  "language_info": {
   "name": "polyglot-notebook"
  },
  "polyglot_notebook": {
   "kernelInfo": {
    "defaultKernelName": "csharp",
    "items": [
     {
      "aliases": [],
      "name": "csharp"
     },
     {
      "aliases": [],
      "languageName": "pwsh",
      "name": "pwsh"
     },
     {
      "aliases": [],
      "languageName": "T-SQL",
      "name": "sql-SS2025_tpch_test"
     }
    ]
   }
  }
 },
 "nbformat": 4,
 "nbformat_minor": 5
}
