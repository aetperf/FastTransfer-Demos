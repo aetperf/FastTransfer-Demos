{
 "cells": [
  {
   "cell_type": "markdown",
   "id": "f707e0b3",
   "metadata": {},
   "source": [
    "## BONUS : using pg_fasttransfer extension to run fasttransfer from psql command line\n"
   ]
  },
  {
   "cell_type": "markdown",
   "id": "593d0217",
   "metadata": {},
   "source": [
    "```\n",
    "██████   ██████          ███████  █████  ███████ ████████ ████████ ██████   █████  ███    ██ ███████ ███████ ███████ ██████  \n",
    "██   ██ ██               ██      ██   ██ ██         ██       ██    ██   ██ ██   ██ ████   ██ ██      ██      ██      ██   ██ \n",
    "██████  ██   ███         █████   ███████ ███████    ██       ██    ██████  ███████ ██ ██  ██ ███████ █████   █████   ██████  \n",
    "██      ██    ██         ██      ██   ██      ██    ██       ██    ██   ██ ██   ██ ██  ██ ██      ██ ██      ██      ██   ██ \n",
    "██       ██████  ███████ ██      ██   ██ ███████    ██       ██    ██   ██ ██   ██ ██   ████ ███████ ██      ███████ ██   ██ \n"
   ]
  },
  {
   "cell_type": "markdown",
   "id": "3d097fbd",
   "metadata": {},
   "source": [
    "Get the extension from : https://github.com/aetperf/pg_fasttransfer\n"
   ]
  },
  {
   "cell_type": "markdown",
   "id": "92d0032b",
   "metadata": {},
   "source": [
    "### Installation of the extension on the source database (pg16)"
   ]
  },
  {
   "cell_type": "markdown",
   "id": "c4c58324",
   "metadata": {
    "vscode": {
     "languageId": "plaintext"
    }
   },
   "source": [
    "- Download the extension for your system (windows or linux) and your postgresql version (16 or 17) on the release page\n",
    "https://github.com/aetperf/pg_fasttransfer/releases/tag/v0.6.1\n",
    "- unzip in a temp folder\n",
    "- run the installer (bat or sh script) as the admin user (warning : it will install the extension in the postgresql server folders and then must restart the postgresql service)\n",
    "\n",
    "More details in the README file of the github project."
   ]
  },
  {
   "cell_type": "code",
   "execution_count": 1,
   "id": "578172d5",
   "metadata": {},
   "outputs": [
    {
     "data": {
      "text/html": [
       "<div><div></div><div></div><div><strong>Installed Packages</strong><ul><li><span>Microsoft.DotNet.Interactive.PostgreSQL, 1.0.0-beta.25323.1</span></li></ul></div></div>"
      ]
     },
     "metadata": {},
     "output_type": "display_data"
    },
    {
     "data": {
      "text/plain": [
       "Loading extension script from `C:\\Users\\romai\\.nuget\\packages\\microsoft.dotnet.interactive.postgresql\\1.0.0-beta.25323.1\\interactive-extensions\\dotnet\\extension.dib`"
      ]
     },
     "metadata": {},
     "output_type": "display_data"
    },
    {
     "data": {
      "text/html": [
       "<details><summary>Query PostgreSQL databases.</summary>\r\n",
       "    <p>This extension adds support for connecting to PostgreSql databases using the <code>#!connect postgres</code> magic command.</p>\r\n",
       "    </details>"
      ]
     },
     "metadata": {},
     "output_type": "display_data"
    }
   ],
   "source": [
    "#r \"nuget:Microsoft.DotNet.Interactive.PostgreSQL , *-*\""
   ]
  },
  {
   "cell_type": "code",
   "execution_count": null,
   "id": "df8b07cb",
   "metadata": {},
   "outputs": [
    {
     "data": {
      "text/plain": [
       "Kernel added: #!sql-pgsql17_fasttransfer"
      ]
     },
     "metadata": {},
     "output_type": "display_data"
    }
   ],
   "source": [
    "// Connect to PostgreSQL fasttransfer database (that will have the pg_fasttransfer extension installed)\n",
    "#!connect postgres \"Host=localhost;Port=25432;Database=fasttransfer;Username=FastUser;Password=FastPassword;CommandTimeout=1500\" --kernel-name pgsql17_fasttransfer"
   ]
  },
  {
   "cell_type": "code",
   "execution_count": 6,
   "id": "2d8f7d1e",
   "metadata": {},
   "outputs": [
    {
     "data": {
      "text/plain": [
       "Kernel added: #!sql-pgsql17_tpch"
      ]
     },
     "metadata": {},
     "output_type": "display_data"
    }
   ],
   "source": [
    "// Connect to PostgreSQL target database \n",
    "#!connect postgres \"Host=localhost;Port=25432;Database=tpch;Username=FastUser;Password=FastPassword;CommandTimeout=1500\" --kernel-name pgsql17_tpch"
   ]
  },
  {
   "cell_type": "code",
   "execution_count": 3,
   "id": "4a1db43c",
   "metadata": {
    "language_info": {
     "name": "polyglot-notebook"
    },
    "polyglot_notebook": {
     "kernelName": "sql-pgsql17_fasttransfer"
    }
   },
   "outputs": [
    {
     "data": {
      "text/csv": [
       "name,default_version,installed_version,comment\r\n",
       "pg_fasttransfer,1.0,1.0,\"PostgreSQL FastTransfer extension\"\r\n"
      ],
      "text/html": [
       "<table><thead><tr><td><span>name</span></td><td><span>default_version</span></td><td><span>installed_version</span></td><td><span>comment</span></td></tr></thead><tbody><tr><td>pg_fasttransfer</td><td>1.0</td><td>1.0</td><td>PostgreSQL FastTransfer extension</td></tr></tbody></table><style>\r\n",
       ".dni-code-hint {\r\n",
       "    font-style: italic;\r\n",
       "    overflow: hidden;\r\n",
       "    white-space: nowrap;\r\n",
       "}\r\n",
       ".dni-treeview {\r\n",
       "    white-space: nowrap;\r\n",
       "}\r\n",
       ".dni-treeview td {\r\n",
       "    vertical-align: top;\r\n",
       "    text-align: start;\r\n",
       "}\r\n",
       "details.dni-treeview {\r\n",
       "    padding-left: 1em;\r\n",
       "}\r\n",
       "table td {\r\n",
       "    text-align: start;\r\n",
       "}\r\n",
       "table tr { \r\n",
       "    vertical-align: top; \r\n",
       "    margin: 0em 0px;\r\n",
       "}\r\n",
       "table tr td pre \r\n",
       "{ \r\n",
       "    vertical-align: top !important; \r\n",
       "    margin: 0em 0px !important;\r\n",
       "} \r\n",
       "table th {\r\n",
       "    text-align: start;\r\n",
       "}\r\n",
       "</style>"
      ]
     },
     "metadata": {},
     "output_type": "display_data"
    }
   ],
   "source": [
    "DROP EXTENSION IF EXISTS pg_fasttransfer;\n",
    "CREATE EXTENSION pg_fasttransfer;\n",
    "SELECT * FROM pg_available_extensions WHERE name='pg_fasttransfer';"
   ]
  },
  {
   "cell_type": "code",
   "execution_count": 7,
   "id": "93e1fc5c",
   "metadata": {
    "language_info": {
     "name": "polyglot-notebook"
    },
    "polyglot_notebook": {
     "kernelName": "sql-pgsql17_tpch"
    }
   },
   "outputs": [
    {
     "data": {
      "text/csv": [
       "count\r\n",
       "0\r\n"
      ],
      "text/html": [
       "<table><thead><tr><td><span>count</span></td></tr></thead><tbody><tr><td><div class=\"dni-plaintext\"><pre>0</pre></div></td></tr></tbody></table><style>\r\n",
       ".dni-code-hint {\r\n",
       "    font-style: italic;\r\n",
       "    overflow: hidden;\r\n",
       "    white-space: nowrap;\r\n",
       "}\r\n",
       ".dni-treeview {\r\n",
       "    white-space: nowrap;\r\n",
       "}\r\n",
       ".dni-treeview td {\r\n",
       "    vertical-align: top;\r\n",
       "    text-align: start;\r\n",
       "}\r\n",
       "details.dni-treeview {\r\n",
       "    padding-left: 1em;\r\n",
       "}\r\n",
       "table td {\r\n",
       "    text-align: start;\r\n",
       "}\r\n",
       "table tr { \r\n",
       "    vertical-align: top; \r\n",
       "    margin: 0em 0px;\r\n",
       "}\r\n",
       "table tr td pre \r\n",
       "{ \r\n",
       "    vertical-align: top !important; \r\n",
       "    margin: 0em 0px !important;\r\n",
       "} \r\n",
       "table th {\r\n",
       "    text-align: start;\r\n",
       "}\r\n",
       "</style>"
      ]
     },
     "metadata": {},
     "output_type": "display_data"
    }
   ],
   "source": [
    "TRUNCATE TABLE tpch_10.orders_heap;\n",
    "SELECT count(*) FROM tpch_10.orders_heap;"
   ]
  },
  {
   "cell_type": "markdown",
   "id": "311547aa",
   "metadata": {},
   "source": [
    "### Run FastTransfer from psql command line using the xp_fasttransfer_secure \"procedure\""
   ]
  },
  {
   "cell_type": "code",
   "execution_count": 11,
   "id": "665040cf",
   "metadata": {
    "language_info": {
     "name": "polyglot-notebook"
    },
    "polyglot_notebook": {
     "kernelName": "sql-pgsql17_fasttransfer"
    }
   },
   "outputs": [
    {
     "data": {
      "text/csv": [
       "exit_code,output,total_rows,total_columns,transfer_time_ms,total_time_ms\r\n",
       "0,\"2025-09-22T17:25:45.736 +02:00 -|-  -|- bd511b1e-ae2d-46d7-b50c-86324a8c8baa -|- INFORMATION -|- tpch.tpch_10.orders_heap -|- The FastTransfer_Settings.json file does not exist. Using default settings. Console Only\n",
       "2025-09-22T17:25:45.742 +02:00 -|-  -|- bd511b1e-ae2d-46d7-b50c-86324a8c8baa -|- INFORMATION -|- tpch.tpch_10.orders_heap -|- FastTransfer - running in trial mode – will expires on 2025‑10‑20 (27 day(s) left).\n",
       "2025-09-22T17:25:45.742 +02:00 -|-  -|- bd511b1e-ae2d-46d7-b50c-86324a8c8baa -|- INFORMATION -|- tpch.tpch_10.orders_heap -|- Starting\n",
       "2025-09-22T17:25:45.742 +02:00 -|-  -|- bd511b1e-ae2d-46d7-b50c-86324a8c8baa -|- INFORMATION -|- tpch.tpch_10.orders_heap -|- FastTransfer Version : 0.13.10.0 Architecture : X64 - Framework : .NET 8.0.19\n",
       "2025-09-22T17:25:45.742 +02:00 -|-  -|- bd511b1e-ae2d-46d7-b50c-86324a8c8baa -|- INFORMATION -|- tpch.tpch_10.orders_heap -|- OS : Microsoft Windows 10.0.26100\n",
       "2025-09-22T17:25:45.742 +02:00 -|-  -|- bd511b1e-ae2d-46d7-b50c-86324a8c8baa -|- INFORMATION -|- tpch.tpch_10.orders_heap -|- Process ID : 106984\n",
       "2025-09-22T17:25:45.742 +02:00 -|-  -|- bd511b1e-ae2d-46d7-b50c-86324a8c8baa -|- INFORMATION -|- tpch.tpch_10.orders_heap -|- Generated Run ID : bd511b1e-ae2d-46d7-b50c-86324a8c8baa\n",
       "2025-09-22T17:25:45.742 +02:00 -|-  -|- bd511b1e-ae2d-46d7-b50c-86324a8c8baa -|- INFORMATION -|- tpch.tpch_10.orders_heap -|- Source Connection Type : pgsql\n",
       "2025-09-22T17:25:45.742 +02:00 -|-  -|- bd511b1e-ae2d-46d7-b50c-86324a8c8baa -|- INFORMATION -|- tpch.tpch_10.orders_heap -|- Source SqlInstance : localhost:15432\n",
       "2025-09-22T17:25:45.742 +02:00 -|-  -|- bd511b1e-ae2d-46d7-b50c-86324a8c8baa -|- INFORMATION -|- tpch.tpch_10.orders_heap -|- Source Database : tpch\n",
       "2025-09-22T17:25:45.742 +02:00 -|-  -|- bd511b1e-ae2d-46d7-b50c-86324a8c8baa -|- INFORMATION -|- tpch.tpch_10.orders_heap -|- Source Trusted Connection : False\n",
       "2025-09-22T17:25:45.742 +02:00 -|-  -|- bd511b1e-ae2d-46d7-b50c-86324a8c8baa -|- INFORMATION -|- tpch.tpch_10.orders_heap -|- Source User : FastUser\n",
       "2025-09-22T17:25:45.742 +02:00 -|-  -|- bd511b1e-ae2d-46d7-b50c-86324a8c8baa -|- INFORMATION -|- tpch.tpch_10.orders_heap -|- Source Schema : tpch_10\n",
       "2025-09-22T17:25:45.742 +02:00 -|-  -|- bd511b1e-ae2d-46d7-b50c-86324a8c8baa -|- INFORMATION -|- tpch.tpch_10.orders_heap -|- Source Table : orders\n",
       "2025-09-22T17:25:45.742 +02:00 -|-  -|- bd511b1e-ae2d-46d7-b50c-86324a8c8baa -|- INFORMATION -|- tpch.tpch_10.orders_heap -|- Target Type : pgcopy\n",
       "2025-09-22T17:25:45.742 +02:00 -|-  -|- bd511b1e-ae2d-46d7-b50c-86324a8c8baa -|- INFORMATION -|- tpch.tpch_10.orders_heap -|- Target Server : localhost:25432\n",
       "2025-09-22T17:25:45.742 +02:00 -|-  -|- bd511b1e-ae2d-46d7-b50c-86324a8c8baa -|- INFORMATION -|- tpch.tpch_10.orders_heap -|- Target Database : tpch\n",
       "2025-09-22T17:25:45.742 +02:00 -|-  -|- bd511b1e-ae2d-46d7-b50c-86324a8c8baa -|- INFORMATION -|- tpch.tpch_10.orders_heap -|- Target Schema : tpch_10\n",
       "2025-09-22T17:25:45.742 +02:00 -|-  -|- bd511b1e-ae2d-46d7-b50c-86324a8c8baa -|- INFORMATION -|- tpch.tpch_10.orders_heap -|- Target Table : orders_heap\n",
       "2025-09-22T17:25:45.742 +02:00 -|-  -|- bd511b1e-ae2d-46d7-b50c-86324a8c8baa -|- INFORMATION -|- tpch.tpch_10.orders_heap -|- Target Trusted Connection : False\n",
       "2025-09-22T17:25:45.742 +02:00 -|-  -|- bd511b1e-ae2d-46d7-b50c-86324a8c8baa -|- INFORMATION -|- tpch.tpch_10.orders_heap -|- Target User : FastUser\n",
       "2025-09-22T17:25:45.742 +02:00 -|-  -|- bd511b1e-ae2d-46d7-b50c-86324a8c8baa -|- INFORMATION -|- tpch.tpch_10.orders_heap -|- Columns Map Method : Name\n",
       "2025-09-22T17:25:45.742 +02:00 -|-  -|- bd511b1e-ae2d-46d7-b50c-86324a8c8baa -|- INFORMATION -|- tpch.tpch_10.orders_heap -|- Degree : 12\n",
       "2025-09-22T17:25:45.742 +02:00 -|-  -|- bd511b1e-ae2d-46d7-b50c-86324a8c8baa -|- INFORMATION -|- tpch.tpch_10.orders_heap -|- Distribute Method : Ctid\n",
       "2025-09-22T17:25:45.743 +02:00 -|-  -|- bd511b1e-ae2d-46d7-b50c-86324a8c8baa -|- INFORMATION -|- tpch.tpch_10.orders_heap -|- Bulkcopy Batch Size : 1048576\n",
       "2025-09-22T17:25:45.743 +02:00 -|-  -|- bd511b1e-ae2d-46d7-b50c-86324a8c8baa -|- INFORMATION -|- tpch.tpch_10.orders_heap -|- Load Mode : Truncate\n",
       "2025-09-22T17:25:45.743 +02:00 -|-  -|- bd511b1e-ae2d-46d7-b50c-86324a8c8baa -|- INFORMATION -|- tpch.tpch_10.orders_heap -|- Use Work Tables : False\n",
       "2025-09-22T17:25:45.746 +02:00 -|-  -|- bd511b1e-ae2d-46d7-b50c-86324a8c8baa -|- INFORMATION -|- tpch.tpch_10.orders_heap -|- Encoding used : Unicode (UTF-8) - 65001 - utf-8\n",
       "2025-09-22T17:25:45.839 +02:00 -|-  -|- bd511b1e-ae2d-46d7-b50c-86324a8c8baa -|- INFORMATION -|- tpch.tpch_10.orders_heap -|- Source Connection String : Host=localhost;Port=15432;Database=tpch;Trust Server Certificate=True;Application Name=FastTransfer;Timeout=15;Command Timeout=10800;Username=FastUser;Password=xxxxx\n",
       "2025-09-22T17:25:45.839 +02:00 -|-  -|- bd511b1e-ae2d-46d7-b50c-86324a8c8baa -|- INFORMATION -|- tpch.tpch_10.orders_heap -|- Target Connection String : Host=localhost;Port=25432;Database=tpch;Trust Server Certificate=True;Application Name=FastTransfer;Timeout=15;Command Timeout=10800;Username=FastUser;Password=xxxxx\n",
       "2025-09-22T17:25:45.839 +02:00 -|-  -|- bd511b1e-ae2d-46d7-b50c-86324a8c8baa -|- INFORMATION -|- tpch.tpch_10.orders_heap -|- Source Database Version : PostgreSQL 16.1, compiled by Visual C++ build 1937, 64-bit\n",
       "2025-09-22T17:25:45.839 +02:00 -|-  -|- bd511b1e-ae2d-46d7-b50c-86324a8c8baa -|- INFORMATION -|- tpch.tpch_10.orders_heap -|- Target Database Version : PostgreSQL 17.2 on x86_64-windows, compiled by msvc-19.42.34435, 64-bit\n",
       "2025-09-22T17:25:45.855 +02:00 -|-  -|- bd511b1e-ae2d-46d7-b50c-86324a8c8baa -|- INFORMATION -|- tpch.tpch_10.orders_heap -|- Snapshot ID = 00000003-0000008F-1 Created in 4 ms\n",
       "2025-09-22T17:25:46.192 +02:00 -|-  -|- bd511b1e-ae2d-46d7-b50c-86324a8c8baa -|- INFORMATION -|- tpch.tpch_10.orders_heap -|- Completed CTID Max Retrieval in 0 ms\n",
       "2025-09-22T17:25:46.192 +02:00 -|-  -|- bd511b1e-ae2d-46d7-b50c-86324a8c8baa -|- INFORMATION -|- tpch.tpch_10.orders_heap -|- Max CTID for table \"\"tpch_10\"\".\"\"orders\"\" @snapshotid=00000003-0000008F-1 = (276024,54)\n",
       "2025-09-22T17:25:46.201 +02:00 -|-  -|- bd511b1e-ae2d-46d7-b50c-86324a8c8baa -|- INFORMATION -|- tpch.tpch_10.orders_heap -|- Start Loading Data using distribution method Ctid\n",
       "2025-09-22T17:25:46.315 +02:00 -|-  -|- bd511b1e-ae2d-46d7-b50c-86324a8c8baa -|- INFORMATION -|- tpch.tpch_10.orders_heap -|- Start Loading Data using distribution method Ctid\n",
       "2025-09-22T17:25:46.316 +02:00 -|-  -|- bd511b1e-ae2d-46d7-b50c-86324a8c8baa -|- INFORMATION -|- tpch.tpch_10.orders_heap -|- Start Loading Data using distribution method Ctid\n",
       "2025-09-22T17:25:46.330 +02:00 -|-  -|- bd511b1e-ae2d-46d7-b50c-86324a8c8baa -|- INFORMATION -|- tpch.tpch_10.orders_heap -|- Start Loading Data using distribution method Ctid\n",
       "2025-09-22T17:25:46.341 +02:00 -|-  -|- bd511b1e-ae2d-46d7-b50c-86324a8c8baa -|- INFORMATION -|- tpch.tpch_10.orders_heap -|- Start Loading Data using distribution method Ctid\n",
       "2025-09-22T17:25:46.345 +02:00 -|-  -|- bd511b1e-ae2d-46d7-b50c-86324a8c8baa -|- INFORMATION -|- tpch.tpch_10.orders_heap -|- Start Loading Data using distribution method Ctid\n",
       "2025-09-22T17:25:46.349 +02:00 -|-  -|- bd511b1e-ae2d-46d7-b50c-86324a8c8baa -|- INFORMATION -|- tpch.tpch_10.orders_heap -|- Start Loading Data using distribution method Ctid\n",
       "2025-09-22T17:25:46.349 +02:00 -|-  -|- bd511b1e-ae2d-46d7-b50c-86324a8c8baa -|- INFORMATION -|- tpch.tpch_10.orders_heap -|- Start Loading Data using distribution method Ctid\n",
       "2025-09-22T17:25:46.358 +02:00 -|-  -|- bd511b1e-ae2d-46d7-b50c-86324a8c8baa -|- INFORMATION -|- tpch.tpch_10.orders_heap -|- Start Loading Data using distribution method Ctid\n",
       "2025-09-22T17:25:46.364 +02:00 -|-  -|- bd511b1e-ae2d-46d7-b50c-86324a8c8baa -|- INFORMATION -|- tpch.tpch_10.orders_heap -|- Start Loading Data using distribution method Ctid\n",
       "2025-09-22T17:25:46.368 +02:00 -|-  -|- bd511b1e-ae2d-46d7-b50c-86324a8c8baa -|- INFORMATION -|- tpch.tpch_10.orders_heap -|- Start Loading Data using distribution method Ctid\n",
       "2025-09-22T17:25:46.369 +02:00 -|-  -|- bd511b1e-ae2d-46d7-b50c-86324a8c8baa -|- INFORMATION -|- tpch.tpch_10.orders_heap -|- Start Loading Data using distribution method Ctid\n",
       "2025-09-22T17:25:51.697 +02:00 -|-  -|- bd511b1e-ae2d-46d7-b50c-86324a8c8baa -|- INFORMATION -|- tpch.tpch_10.orders_heap -|- Completed Load Query 1 for ctid between 0 and 23002 : 1250313 rows x 9 columns in 5496ms\n",
       "2025-09-22T17:25:51.728 +02:00 -|-  -|- bd511b1e-ae2d-46d7-b50c-86324a8c8baa -|- INFORMATION -|- tpch.tpch_10.orders_heap -|- Completed Load Query 7 for ctid between 138012 and 161014 : 1250107 rows x 9 columns in 5525ms\n",
       "2025-09-22T17:25:51.741 +02:00 -|-  -|- bd511b1e-ae2d-46d7-b50c-86324a8c8baa -|- INFORMATION -|- tpch.tpch_10.orders_heap -|- Completed Load Query 2 for ctid between 23002 and 46004 : 1250179 rows x 9 columns in 5540ms\n",
       "2025-09-22T17:25:51.746 +02:00 -|-  -|- bd511b1e-ae2d-46d7-b50c-86324a8c8baa -|- INFORMATION -|- tpch.tpch_10.orders_heap -|- Completed Load Query 9 for ctid between 184016 and 207018 : 1250131 rows x 9 columns in 5539ms\n",
       "2025-09-22T17:25:51.758 +02:00 -|-  -|- bd511b1e-ae2d-46d7-b50c-86324a8c8baa -|- INFORMATION -|- tpch.tpch_10.orders_heap -|- Completed Load Query 11 for ctid between 230020 and 253022 : 1250073 rows x 9 columns in 5550ms\n",
       "2025-09-22T17:25:51.773 +02:00 -|-  -|- bd511b1e-ae2d-46d7-b50c-86324a8c8baa -|- INFORMATION -|- tpch.tpch_10.orders_heap -|- Completed Load Query 6 for ctid between 115010 and 138012 : 1250063 rows x 9 columns in 5571ms\n",
       "2025-09-22T17:25:51.774 +02:00 -|-  -|- bd511b1e-ae2d-46d7-b50c-86324a8c8baa -|- INFORMATION -|- tpch.tpch_10.orders_heap -|- Completed Load Query 3 for ctid between 46004 and 69006 : 1249925 rows x 9 columns in 5573ms\n",
       "2025-09-22T17:25:51.780 +02:00 -|-  -|- bd511b1e-ae2d-46d7-b50c-86324a8c8baa -|- INFORMATION -|- tpch.tpch_10.orders_heap -|- Completed Load Query 4 for ctid between 69006 and 92008 : 1249996 rows x 9 columns in 5579ms\n",
       "2025-09-22T17:25:51.790 +02:00 -|-  -|- bd511b1e-ae2d-46d7-b50c-86324a8c8baa -|- INFORMATION -|- tpch.tpch_10.orders_heap -|- Completed Load Query 8 for ctid between 161014 and 184016 : 1250211 rows x 9 columns in 5585ms\n",
       "2025-09-22T17:25:51.798 +02:00 -|-  -|- bd511b1e-ae2d-46d7-b50c-86324a8c8baa -|- INFORMATION -|- tpch.tpch_10.orders_heap -|- Completed Load Query 12 for ctid between 253022 and 2147483647 : 1248830 rows x 9 columns in 5589ms\n",
       "2025-09-22T17:25:51.832 +02:00 -|-  -|- bd511b1e-ae2d-46d7-b50c-86324a8c8baa -|- INFORMATION -|- tpch.tpch_10.orders_heap -|- Completed Load Query 5 for ctid between 92008 and 115010 : 1250097 rows x 9 columns in 5631ms\n",
       "2025-09-22T17:25:51.864 +02:00 -|-  -|- bd511b1e-ae2d-46d7-b50c-86324a8c8baa -|- INFORMATION -|- tpch.tpch_10.orders_heap -|- Completed Load Query 10 for ctid between 207018 and 230020 : 1250075 rows x 9 columns in 5656ms\n",
       "2025-09-22T17:25:51.865 +02:00 -|-  -|- bd511b1e-ae2d-46d7-b50c-86324a8c8baa -|- INFORMATION -|- tpch.tpch_10.orders_heap -|- Total rows : 15000000\n",
       "2025-09-22T17:25:51.865 +02:00 -|-  -|- bd511b1e-ae2d-46d7-b50c-86324a8c8baa -|- INFORMATION -|- tpch.tpch_10.orders_heap -|- Total columns : 9\n",
       "2025-09-22T17:25:51.865 +02:00 -|-  -|- bd511b1e-ae2d-46d7-b50c-86324a8c8baa -|- INFORMATION -|- tpch.tpch_10.orders_heap -|- Total cells : 135000000\n",
       "2025-09-22T17:25:51.865 +02:00 -|-  -|- bd511b1e-ae2d-46d7-b50c-86324a8c8baa -|- INFORMATION -|- tpch.tpch_10.orders_heap -|- Rows Throughput : 2493882 rows/s\n",
       "2025-09-22T17:25:51.865 +02:00 -|-  -|- bd511b1e-ae2d-46d7-b50c-86324a8c8baa -|- INFORMATION -|- tpch.tpch_10.orders_heap -|- Cells Throughput : 22444964 cells/s\n",
       "2025-09-22T17:25:51.865 +02:00 -|-  -|- bd511b1e-ae2d-46d7-b50c-86324a8c8baa -|- INFORMATION -|- tpch.tpch_10.orders_heap -|- Transfert time : Elapsed=6014 ms\n",
       "2025-09-22T17:25:51.865 +02:00 -|-  -|- bd511b1e-ae2d-46d7-b50c-86324a8c8baa -|- INFORMATION -|- tpch.tpch_10.orders_heap -|- Total time : Elapsed=6187 ms\n",
       "2025-09-22T17:25:51.865 +02:00 -|-  -|- bd511b1e-ae2d-46d7-b50c-86324a8c8baa -|- INFORMATION -|- tpch.tpch_10.orders_heap -|- Completed Load\n",
       "\",15000000,9,6014,6187\r\n"
      ],
      "text/html": [
       "<table><thead><tr><td><span>exit_code</span></td><td><span>output</span></td><td><span>total_rows</span></td><td><span>total_columns</span></td><td><span>transfer_time_ms</span></td><td><span>total_time_ms</span></td></tr></thead><tbody><tr><td><div class=\"dni-plaintext\"><pre>0</pre></div></td><td>2025-09-22T17:25:45.736 +02:00 -|-  -|- bd511b1e-ae2d-46d7-b50c-86324a8c8baa -|- INFORMATION -|- tpch.tpch_10.orders_heap -|- The FastTransfer_Settings.json file does not exist. Using default settings. Console Only\n",
       "2025-09-22T17:25:45.742 +02:00 -|-  -|- bd511b1e-ae2d-46d7-b50c-86324a8c8baa -|- INFORMATION -|- tpch.tpch_10.orders_heap -|- FastTransfer - running in trial mode – will expires on 2025‑10‑20 (27 day(s) left).\n",
       "2025-09-22T17:25:45.742 +02:00 -|-  -|- bd511b1e-ae2d-46d7-b50c-86324a8c8baa -|- INFORMATION -|- tpch.tpch_10.orders_heap -|- Starting\n",
       "2025-09-22T17:25:45.742 +02:00 -|-  -|- bd511b1e-ae2d-46d7-b50c-86324a8c8baa -|- INFORMATION -|- tpch.tpch_10.orders_heap -|- FastTransfer Version : 0.13.10.0 Architecture : X64 - Framework : .NET 8.0.19\n",
       "2025-09-22T17:25:45.742 +02:00 -|-  -|- bd511b1e-ae2d-46d7-b50c-86324a8c8baa -|- INFORMATION -|- tpch.tpch_10.orders_heap -|- OS : Microsoft Windows 10.0.26100\n",
       "2025-09-22T17:25:45.742 +02:00 -|-  -|- bd511b1e-ae2d-46d7-b50c-86324a8c8baa -|- INFORMATION -|- tpch.tpch_10.orders_heap -|- Process ID : 106984\n",
       "2025-09-22T17:25:45.742 +02:00 -|-  -|- bd511b1e-ae2d-46d7-b50c-86324a8c8baa -|- INFORMATION -|- tpch.tpch_10.orders_heap -|- Generated Run ID : bd511b1e-ae2d-46d7-b50c-86324a8c8baa\n",
       "2025-09-22T17:25:45.742 +02:00 -|-  -|- bd511b1e-ae2d-46d7-b50c-86324a8c8baa -|- INFORMATION -|- tpch.tpch_10.orders_heap -|- Source Connection Type : pgsql\n",
       "2025-09-22T17:25:45.742 +02:00 -|-  -|- bd511b1e-ae2d-46d7-b50c-86324a8c8baa -|- INFORMATION -|- tpch.tpch_10.orders_heap -|- Source SqlInstance : localhost:15432\n",
       "2025-09-22T17:25:45.742 +02:00 -|-  -|- bd511b1e-ae2d-46d7-b50c-86324a8c8baa -|- INFORMATION -|- tpch.tpch_10.orders_heap -|- Source Database : tpch\n",
       "2025-09-22T17:25:45.742 +02:00 -|-  -|- bd511b1e-ae2d-46d7-b50c-86324a8c8baa -|- INFORMATION -|- tpch.tpch_10.orders_heap -|- Source Trusted Connection : False\n",
       "2025-09-22T17:25:45.742 +02:00 -|-  -|- bd511b1e-ae2d-46d7-b50c-86324a8c8baa -|- INFORMATION -|- tpch.tpch_10.orders_heap -|- Source User : FastUser\n",
       "2025-09-22T17:25:45.742 +02:00 -|-  -|- bd511b1e-ae2d-46d7-b50c-86324a8c8baa -|- INFORMATION -|- tpch.tpch_10.orders_heap -|- Source Schema : tpch_10\n",
       "2025-09-22T17:25:45.742 +02:00 -|-  -|- bd511b1e-ae2d-46d7-b50c-86324a8c8baa -|- INFORMATION -|- tpch.tpch_10.orders_heap -|- Source Table : orders\n",
       "2025-09-22T17:25:45.742 +02:00 -|-  -|- bd511b1e-ae2d-46d7-b50c-86324a8c8baa -|- INFORMATION -|- tpch.tpch_10.orders_heap -|- Target Type : pgcopy\n",
       "2025-09-22T17:25:45.742 +02:00 -|-  -|- bd511b1e-ae2d-46d7-b50c-86324a8c8baa -|- INFORMATION -|- tpch.tpch_10.orders_heap -|- Target Server : localhost:25432\n",
       "2025-09-22T17:25:45.742 +02:00 -|-  -|- bd511b1e-ae2d-46d7-b50c-86324a8c8baa -|- INFORMATION -|- tpch.tpch_10.orders_heap -|- Target Database : tpch\n",
       "2025-09-22T17:25:45.742 +02:00 -|-  -|- bd511b1e-ae2d-46d7-b50c-86324a8c8baa -|- INFORMATION -|- tpch.tpch_10.orders_heap -|- Target Schema : tpch_10\n",
       "2025-09-22T17:25:45.742 +02:00 -|-  -|- bd511b1e-ae2d-46d7-b50c-86324a8c8baa -|- INFORMATION -|- tpch.tpch_10.orders_heap -|- Target Table : orders_heap\n",
       "2025-09-22T17:25:45.742 +02:00 -|-  -|- bd511b1e-ae2d-46d7-b50c-86324a8c8baa -|- INFORMATION -|- tpch.tpch_10.orders_heap -|- Target Trusted Connection : False\n",
       "2025-09-22T17:25:45.742 +02:00 -|-  -|- bd511b1e-ae2d-46d7-b50c-86324a8c8baa -|- INFORMATION -|- tpch.tpch_10.orders_heap -|- Target User : FastUser\n",
       "2025-09-22T17:25:45.742 +02:00 -|-  -|- bd511b1e-ae2d-46d7-b50c-86324a8c8baa -|- INFORMATION -|- tpch.tpch_10.orders_heap -|- Columns Map Method : Name\n",
       "2025-09-22T17:25:45.742 +02:00 -|-  -|- bd511b1e-ae2d-46d7-b50c-86324a8c8baa -|- INFORMATION -|- tpch.tpch_10.orders_heap -|- Degree : 12\n",
       "2025-09-22T17:25:45.742 +02:00 -|-  -|- bd511b1e-ae2d-46d7-b50c-86324a8c8baa -|- INFORMATION -|- tpch.tpch_10.orders_heap -|- Distribute Method : Ctid\n",
       "2025-09-22T17:25:45.743 +02:00 -|-  -|- bd511b1e-ae2d-46d7-b50c-86324a8c8baa -|- INFORMATION -|- tpch.tpch_10.orders_heap -|- Bulkcopy Batch Size : 1048576\n",
       "2025-09-22T17:25:45.743 +02:00 -|-  -|- bd511b1e-ae2d-46d7-b50c-86324a8c8baa -|- INFORMATION -|- tpch.tpch_10.orders_heap -|- Load Mode : Truncate\n",
       "2025-09-22T17:25:45.743 +02:00 -|-  -|- bd511b1e-ae2d-46d7-b50c-86324a8c8baa -|- INFORMATION -|- tpch.tpch_10.orders_heap -|- Use Work Tables : False\n",
       "2025-09-22T17:25:45.746 +02:00 -|-  -|- bd511b1e-ae2d-46d7-b50c-86324a8c8baa -|- INFORMATION -|- tpch.tpch_10.orders_heap -|- Encoding used : Unicode (UTF-8) - 65001 - utf-8\n",
       "2025-09-22T17:25:45.839 +02:00 -|-  -|- bd511b1e-ae2d-46d7-b50c-86324a8c8baa -|- INFORMATION -|- tpch.tpch_10.orders_heap -|- Source Connection String : Host=localhost;Port=15432;Database=tpch;Trust Server Certificate=True;Application Name=FastTransfer;Timeout=15;Command Timeout=10800;Username=FastUser;Password=xxxxx\n",
       "2025-09-22T17:25:45.839 +02:00 -|-  -|- bd511b1e-ae2d-46d7-b50c-86324a8c8baa -|- INFORMATION -|- tpch.tpch_10.orders_heap -|- Target Connection String : Host=localhost;Port=25432;Database=tpch;Trust Server Certificate=True;Application Name=FastTransfer;Timeout=15;Command Timeout=10800;Username=FastUser;Password=xxxxx\n",
       "2025-09-22T17:25:45.839 +02:00 -|-  -|- bd511b1e-ae2d-46d7-b50c-86324a8c8baa -|- INFORMATION -|- tpch.tpch_10.orders_heap -|- Source Database Version : PostgreSQL 16.1, compiled by Visual C++ build 1937, 64-bit\n",
       "2025-09-22T17:25:45.839 +02:00 -|-  -|- bd511b1e-ae2d-46d7-b50c-86324a8c8baa -|- INFORMATION -|- tpch.tpch_10.orders_heap -|- Target Database Version : PostgreSQL 17.2 on x86_64-windows, compiled by msvc-19.42.34435, 64-bit\n",
       "2025-09-22T17:25:45.855 +02:00 -|-  -|- bd511b1e-ae2d-46d7-b50c-86324a8c8baa -|- INFORMATION -|- tpch.tpch_10.orders_heap -|- Snapshot ID = 00000003-0000008F-1 Created in 4 ms\n",
       "2025-09-22T17:25:46.192 +02:00 -|-  -|- bd511b1e-ae2d-46d7-b50c-86324a8c8baa -|- INFORMATION -|- tpch.tpch_10.orders_heap -|- Completed CTID Max Retrieval in 0 ms\n",
       "2025-09-22T17:25:46.192 +02:00 -|-  -|- bd511b1e-ae2d-46d7-b50c-86324a8c8baa -|- INFORMATION -|- tpch.tpch_10.orders_heap -|- Max CTID for table &quot;tpch_10&quot;.&quot;orders&quot; @snapshotid=00000003-0000008F-1 = (276024,54)\n",
       "2025-09-22T17:25:46.201 +02:00 -|-  -|- bd511b1e-ae2d-46d7-b50c-86324a8c8baa -|- INFORMATION -|- tpch.tpch_10.orders_heap -|- Start Loading Data using distribution method Ctid\n",
       "2025-09-22T17:25:46.315 +02:00 -|-  -|- bd511b1e-ae2d-46d7-b50c-86324a8c8baa -|- INFORMATION -|- tpch.tpch_10.orders_heap -|- Start Loading Data using distribution method Ctid\n",
       "2025-09-22T17:25:46.316 +02:00 -|-  -|- bd511b1e-ae2d-46d7-b50c-86324a8c8baa -|- INFORMATION -|- tpch.tpch_10.orders_heap -|- Start Loading Data using distribution method Ctid\n",
       "2025-09-22T17:25:46.330 +02:00 -|-  -|- bd511b1e-ae2d-46d7-b50c-86324a8c8baa -|- INFORMATION -|- tpch.tpch_10.orders_heap -|- Start Loading Data using distribution method Ctid\n",
       "2025-09-22T17:25:46.341 +02:00 -|-  -|- bd511b1e-ae2d-46d7-b50c-86324a8c8baa -|- INFORMATION -|- tpch.tpch_10.orders_heap -|- Start Loading Data using distribution method Ctid\n",
       "2025-09-22T17:25:46.345 +02:00 -|-  -|- bd511b1e-ae2d-46d7-b50c-86324a8c8baa -|- INFORMATION -|- tpch.tpch_10.orders_heap -|- Start Loading Data using distribution method Ctid\n",
       "2025-09-22T17:25:46.349 +02:00 -|-  -|- bd511b1e-ae2d-46d7-b50c-86324a8c8baa -|- INFORMATION -|- tpch.tpch_10.orders_heap -|- Start Loading Data using distribution method Ctid\n",
       "2025-09-22T17:25:46.349 +02:00 -|-  -|- bd511b1e-ae2d-46d7-b50c-86324a8c8baa -|- INFORMATION -|- tpch.tpch_10.orders_heap -|- Start Loading Data using distribution method Ctid\n",
       "2025-09-22T17:25:46.358 +02:00 -|-  -|- bd511b1e-ae2d-46d7-b50c-86324a8c8baa -|- INFORMATION -|- tpch.tpch_10.orders_heap -|- Start Loading Data using distribution method Ctid\n",
       "2025-09-22T17:25:46.364 +02:00 -|-  -|- bd511b1e-ae2d-46d7-b50c-86324a8c8baa -|- INFORMATION -|- tpch.tpch_10.orders_heap -|- Start Loading Data using distribution method Ctid\n",
       "2025-09-22T17:25:46.368 +02:00 -|-  -|- bd511b1e-ae2d-46d7-b50c-86324a8c8baa -|- INFORMATION -|- tpch.tpch_10.orders_heap -|- Start Loading Data using distribution method Ctid\n",
       "2025-09-22T17:25:46.369 +02:00 -|-  -|- bd511b1e-ae2d-46d7-b50c-86324a8c8baa -|- INFORMATION -|- tpch.tpch_10.orders_heap -|- Start Loading Data using distribution method Ctid\n",
       "2025-09-22T17:25:51.697 +02:00 -|-  -|- bd511b1e-ae2d-46d7-b50c-86324a8c8baa -|- INFORMATION -|- tpch.tpch_10.orders_heap -|- Completed Load Query 1 for ctid between 0 and 23002 : 1250313 rows x 9 columns in 5496ms\n",
       "2025-09-22T17:25:51.728 +02:00 -|-  -|- bd511b1e-ae2d-46d7-b50c-86324a8c8baa -|- INFORMATION -|- tpch.tpch_10.orders_heap -|- Completed Load Query 7 for ctid between 138012 and 161014 : 1250107 rows x 9 columns in 5525ms\n",
       "2025-09-22T17:25:51.741 +02:00 -|-  -|- bd511b1e-ae2d-46d7-b50c-86324a8c8baa -|- INFORMATION -|- tpch.tpch_10.orders_heap -|- Completed Load Query 2 for ctid between 23002 and 46004 : 1250179 rows x 9 columns in 5540ms\n",
       "2025-09-22T17:25:51.746 +02:00 -|-  -|- bd511b1e-ae2d-46d7-b50c-86324a8c8baa -|- INFORMATION -|- tpch.tpch_10.orders_heap -|- Completed Load Query 9 for ctid between 184016 and 207018 : 1250131 rows x 9 columns in 5539ms\n",
       "2025-09-22T17:25:51.758 +02:00 -|-  -|- bd511b1e-ae2d-46d7-b50c-86324a8c8baa -|- INFORMATION -|- tpch.tpch_10.orders_heap -|- Completed Load Query 11 for ctid between 230020 and 253022 : 1250073 rows x 9 columns in 5550ms\n",
       "2025-09-22T17:25:51.773 +02:00 -|-  -|- bd511b1e-ae2d-46d7-b50c-86324a8c8baa -|- INFORMATION -|- tpch.tpch_10.orders_heap -|- Completed Load Query 6 for ctid between 115010 and 138012 : 1250063 rows x 9 columns in 5571ms\n",
       "2025-09-22T17:25:51.774 +02:00 -|-  -|- bd511b1e-ae2d-46d7-b50c-86324a8c8baa -|- INFORMATION -|- tpch.tpch_10.orders_heap -|- Completed Load Query 3 for ctid between 46004 and 69006 : 1249925 rows x 9 columns in 5573ms\n",
       "2025-09-22T17:25:51.780 +02:00 -|-  -|- bd511b1e-ae2d-46d7-b50c-86324a8c8baa -|- INFORMATION -|- tpch.tpch_10.orders_heap -|- Completed Load Query 4 for ctid between 69006 and 92008 : 1249996 rows x 9 columns in 5579ms\n",
       "2025-09-22T17:25:51.790 +02:00 -|-  -|- bd511b1e-ae2d-46d7-b50c-86324a8c8baa -|- INFORMATION -|- tpch.tpch_10.orders_heap -|- Completed Load Query 8 for ctid between 161014 and 184016 : 1250211 rows x 9 columns in 5585ms\n",
       "2025-09-22T17:25:51.798 +02:00 -|-  -|- bd511b1e-ae2d-46d7-b50c-86324a8c8baa -|- INFORMATION -|- tpch.tpch_10.orders_heap -|- Completed Load Query 12 for ctid between 253022 and 2147483647 : 1248830 rows x 9 columns in 5589ms\n",
       "2025-09-22T17:25:51.832 +02:00 -|-  -|- bd511b1e-ae2d-46d7-b50c-86324a8c8baa -|- INFORMATION -|- tpch.tpch_10.orders_heap -|- Completed Load Query 5 for ctid between 92008 and 115010 : 1250097 rows x 9 columns in 5631ms\n",
       "2025-09-22T17:25:51.864 +02:00 -|-  -|- bd511b1e-ae2d-46d7-b50c-86324a8c8baa -|- INFORMATION -|- tpch.tpch_10.orders_heap -|- Completed Load Query 10 for ctid between 207018 and 230020 : 1250075 rows x 9 columns in 5656ms\n",
       "2025-09-22T17:25:51.865 +02:00 -|-  -|- bd511b1e-ae2d-46d7-b50c-86324a8c8baa -|- INFORMATION -|- tpch.tpch_10.orders_heap -|- Total rows : 15000000\n",
       "2025-09-22T17:25:51.865 +02:00 -|-  -|- bd511b1e-ae2d-46d7-b50c-86324a8c8baa -|- INFORMATION -|- tpch.tpch_10.orders_heap -|- Total columns : 9\n",
       "2025-09-22T17:25:51.865 +02:00 -|-  -|- bd511b1e-ae2d-46d7-b50c-86324a8c8baa -|- INFORMATION -|- tpch.tpch_10.orders_heap -|- Total cells : 135000000\n",
       "2025-09-22T17:25:51.865 +02:00 -|-  -|- bd511b1e-ae2d-46d7-b50c-86324a8c8baa -|- INFORMATION -|- tpch.tpch_10.orders_heap -|- Rows Throughput : 2493882 rows/s\n",
       "2025-09-22T17:25:51.865 +02:00 -|-  -|- bd511b1e-ae2d-46d7-b50c-86324a8c8baa -|- INFORMATION -|- tpch.tpch_10.orders_heap -|- Cells Throughput : 22444964 cells/s\n",
       "2025-09-22T17:25:51.865 +02:00 -|-  -|- bd511b1e-ae2d-46d7-b50c-86324a8c8baa -|- INFORMATION -|- tpch.tpch_10.orders_heap -|- Transfert time : Elapsed=6014 ms\n",
       "2025-09-22T17:25:51.865 +02:00 -|-  -|- bd511b1e-ae2d-46d7-b50c-86324a8c8baa -|- INFORMATION -|- tpch.tpch_10.orders_heap -|- Total time : Elapsed=6187 ms\n",
       "2025-09-22T17:25:51.865 +02:00 -|-  -|- bd511b1e-ae2d-46d7-b50c-86324a8c8baa -|- INFORMATION -|- tpch.tpch_10.orders_heap -|- Completed Load\n",
       "</td><td><div class=\"dni-plaintext\"><pre>15000000</pre></div></td><td><div class=\"dni-plaintext\"><pre>9</pre></div></td><td><div class=\"dni-plaintext\"><pre>6014</pre></div></td><td><div class=\"dni-plaintext\"><pre>6187</pre></div></td></tr></tbody></table><style>\r\n",
       ".dni-code-hint {\r\n",
       "    font-style: italic;\r\n",
       "    overflow: hidden;\r\n",
       "    white-space: nowrap;\r\n",
       "}\r\n",
       ".dni-treeview {\r\n",
       "    white-space: nowrap;\r\n",
       "}\r\n",
       ".dni-treeview td {\r\n",
       "    vertical-align: top;\r\n",
       "    text-align: start;\r\n",
       "}\r\n",
       "details.dni-treeview {\r\n",
       "    padding-left: 1em;\r\n",
       "}\r\n",
       "table td {\r\n",
       "    text-align: start;\r\n",
       "}\r\n",
       "table tr { \r\n",
       "    vertical-align: top; \r\n",
       "    margin: 0em 0px;\r\n",
       "}\r\n",
       "table tr td pre \r\n",
       "{ \r\n",
       "    vertical-align: top !important; \r\n",
       "    margin: 0em 0px !important;\r\n",
       "} \r\n",
       "table th {\r\n",
       "    text-align: start;\r\n",
       "}\r\n",
       "</style>"
      ]
     },
     "metadata": {},
     "output_type": "display_data"
    }
   ],
   "source": [
    "SELECT * from xp_RunFastTransfer_secure(\n",
    "sourceconnectiontype := 'pgsql',\n",
    "sourceserver := 'localhost:15432',\n",
    "sourceuser := 'FastUser',\n",
    "sourcepassword := 'ww0EBwMCc/4pDzBaadRn0j0BCJu5ZTZ0h64a3Q/AB+DBLhsa8mBkasUdEhTsM6slUOLZ43pVPSBs\n",
    "XjoB0/SMxNdh6jq3wVeBf3Iez1Wn',\n",
    "sourcedatabase := 'tpch',\n",
    "sourceschema := 'tpch_10',\n",
    "sourcetable := 'orders',\n",
    "targetconnectiontype := 'pgcopy',\n",
    "targetserver := 'localhost:25432',\n",
    "targetuser := 'FastUser',\n",
    "targetpassword := 'ww0EBwMCc/4pDzBaadRn0j0BCJu5ZTZ0h64a3Q/AB+DBLhsa8mBkasUdEhTsM6slUOLZ43pVPSBs\n",
    "XjoB0/SMxNdh6jq3wVeBf3Iez1Wn', \n",
    "targetdatabase := 'tpch',\n",
    "targetschema := 'tpch_10',\n",
    "targettable := 'orders_heap',\n",
    "method := 'Ctid',\n",
    "degree := 12,\n",
    "loadmode := 'Truncate',\n",
    "batchsize := 1048576,\n",
    "mapmethod := 'Name',\n",
    "fasttransfer_path := 'D:\\FastTransfer'\n",
    ");"
   ]
  },
  {
   "cell_type": "code",
   "execution_count": 12,
   "id": "6504851d",
   "metadata": {
    "language_info": {
     "name": "polyglot-notebook"
    },
    "polyglot_notebook": {
     "kernelName": "sql-pgsql17_tpch"
    }
   },
   "outputs": [
    {
     "data": {
      "text/csv": [
       "count\r\n",
       "15000000\r\n"
      ],
      "text/html": [
       "<table><thead><tr><td><span>count</span></td></tr></thead><tbody><tr><td><div class=\"dni-plaintext\"><pre>15000000</pre></div></td></tr></tbody></table><style>\r\n",
       ".dni-code-hint {\r\n",
       "    font-style: italic;\r\n",
       "    overflow: hidden;\r\n",
       "    white-space: nowrap;\r\n",
       "}\r\n",
       ".dni-treeview {\r\n",
       "    white-space: nowrap;\r\n",
       "}\r\n",
       ".dni-treeview td {\r\n",
       "    vertical-align: top;\r\n",
       "    text-align: start;\r\n",
       "}\r\n",
       "details.dni-treeview {\r\n",
       "    padding-left: 1em;\r\n",
       "}\r\n",
       "table td {\r\n",
       "    text-align: start;\r\n",
       "}\r\n",
       "table tr { \r\n",
       "    vertical-align: top; \r\n",
       "    margin: 0em 0px;\r\n",
       "}\r\n",
       "table tr td pre \r\n",
       "{ \r\n",
       "    vertical-align: top !important; \r\n",
       "    margin: 0em 0px !important;\r\n",
       "} \r\n",
       "table th {\r\n",
       "    text-align: start;\r\n",
       "}\r\n",
       "</style>"
      ]
     },
     "metadata": {},
     "output_type": "display_data"
    }
   ],
   "source": [
    "SELECT count(*) FROM tpch_10.orders_heap;"
   ]
  },
  {
   "cell_type": "code",
   "execution_count": 13,
   "id": "38dd20d5",
   "metadata": {
    "language_info": {
     "name": "polyglot-notebook"
    },
    "polyglot_notebook": {
     "kernelName": "sql-pgsql17_tpch"
    }
   },
   "outputs": [
    {
     "data": {
      "text/csv": [
       "o_orderkey,o_custkey,o_orderstatus,o_totalprice,o_orderdate,o_orderpriority,o_clerk,o_shippriority,o_comment\r\n",
       "1,369001,O,186600.18,1996-01-02T00:00:00.0000000,\"5-LOW          \",Clerk#000009506,0,\"ly express platelets. deposits acc\"\r\n",
       "2,780017,O,66219.63,1996-12-01T00:00:00.0000000,\"1-URGENT       \",Clerk#000008792,0,\"ve the furiously fluffy dependencies. carefully regular \"\r\n",
       "3,1233140,F,270741.97,1993-10-14T00:00:00.0000000,\"5-LOW          \",Clerk#000009543,0,\" after the asymptotes. instructions cajole after the foxes. carefully unu\"\r\n",
       "4,1367761,O,41714.38,1995-10-11T00:00:00.0000000,\"5-LOW          \",Clerk#000001234,0,\"st the furiously bold pinto beans. furiously pending theodolites cajol\"\r\n",
       "5,444848,F,122444.33,1994-07-30T00:00:00.0000000,\"5-LOW          \",Clerk#000009248,0,\"onic requests. carefully daring foxes among the carefu\"\r\n",
       "6,556222,F,50883.96,1992-02-21T00:00:00.0000000,\"4-NOT SPECIFIED\",Clerk#000000580,0,\"furiously ironic accounts haggle blithely carefully regular de\"\r\n",
       "7,391343,O,287534.8,1996-01-10T00:00:00.0000000,\"2-HIGH         \",Clerk#000004697,0,\", ironic packages wa\"\r\n",
       "32,1300570,O,129634.85,1995-07-16T00:00:00.0000000,\"2-HIGH         \",Clerk#000006157,0,\"ly about the carefully express theodolites. ironic, iron\"\r\n",
       "33,669580,F,126998.88,1993-10-27T00:00:00.0000000,\"3-MEDIUM       \",Clerk#000004086,0,\" careful, regular courts. unusual\"\r\n",
       "34,610001,O,55314.82,1998-07-21T00:00:00.0000000,\"3-MEDIUM       \",Clerk#000002228,0,\"osits according to the ideas are furiously final requests? slyly pe\"\r\n"
      ],
      "text/html": [
       "<table><thead><tr><td><span>o_orderkey</span></td><td><span>o_custkey</span></td><td><span>o_orderstatus</span></td><td><span>o_totalprice</span></td><td><span>o_orderdate</span></td><td><span>o_orderpriority</span></td><td><span>o_clerk</span></td><td><span>o_shippriority</span></td><td><span>o_comment</span></td></tr></thead><tbody><tr><td><div class=\"dni-plaintext\"><pre>1</pre></div></td><td><div class=\"dni-plaintext\"><pre>369001</pre></div></td><td>O</td><td><div class=\"dni-plaintext\"><pre>186600.18</pre></div></td><td><span>1996-01-02 00:00:00Z</span></td><td>5-LOW          </td><td>Clerk#000009506</td><td><div class=\"dni-plaintext\"><pre>0</pre></div></td><td>ly express platelets. deposits acc</td></tr><tr><td><div class=\"dni-plaintext\"><pre>2</pre></div></td><td><div class=\"dni-plaintext\"><pre>780017</pre></div></td><td>O</td><td><div class=\"dni-plaintext\"><pre>66219.63</pre></div></td><td><span>1996-12-01 00:00:00Z</span></td><td>1-URGENT       </td><td>Clerk#000008792</td><td><div class=\"dni-plaintext\"><pre>0</pre></div></td><td>ve the furiously fluffy dependencies. carefully regular </td></tr><tr><td><div class=\"dni-plaintext\"><pre>3</pre></div></td><td><div class=\"dni-plaintext\"><pre>1233140</pre></div></td><td>F</td><td><div class=\"dni-plaintext\"><pre>270741.97</pre></div></td><td><span>1993-10-14 00:00:00Z</span></td><td>5-LOW          </td><td>Clerk#000009543</td><td><div class=\"dni-plaintext\"><pre>0</pre></div></td><td> after the asymptotes. instructions cajole after the foxes. carefully unu</td></tr><tr><td><div class=\"dni-plaintext\"><pre>4</pre></div></td><td><div class=\"dni-plaintext\"><pre>1367761</pre></div></td><td>O</td><td><div class=\"dni-plaintext\"><pre>41714.38</pre></div></td><td><span>1995-10-11 00:00:00Z</span></td><td>5-LOW          </td><td>Clerk#000001234</td><td><div class=\"dni-plaintext\"><pre>0</pre></div></td><td>st the furiously bold pinto beans. furiously pending theodolites cajol</td></tr><tr><td><div class=\"dni-plaintext\"><pre>5</pre></div></td><td><div class=\"dni-plaintext\"><pre>444848</pre></div></td><td>F</td><td><div class=\"dni-plaintext\"><pre>122444.33</pre></div></td><td><span>1994-07-30 00:00:00Z</span></td><td>5-LOW          </td><td>Clerk#000009248</td><td><div class=\"dni-plaintext\"><pre>0</pre></div></td><td>onic requests. carefully daring foxes among the carefu</td></tr><tr><td><div class=\"dni-plaintext\"><pre>6</pre></div></td><td><div class=\"dni-plaintext\"><pre>556222</pre></div></td><td>F</td><td><div class=\"dni-plaintext\"><pre>50883.96</pre></div></td><td><span>1992-02-21 00:00:00Z</span></td><td>4-NOT SPECIFIED</td><td>Clerk#000000580</td><td><div class=\"dni-plaintext\"><pre>0</pre></div></td><td>furiously ironic accounts haggle blithely carefully regular de</td></tr><tr><td><div class=\"dni-plaintext\"><pre>7</pre></div></td><td><div class=\"dni-plaintext\"><pre>391343</pre></div></td><td>O</td><td><div class=\"dni-plaintext\"><pre>287534.8</pre></div></td><td><span>1996-01-10 00:00:00Z</span></td><td>2-HIGH         </td><td>Clerk#000004697</td><td><div class=\"dni-plaintext\"><pre>0</pre></div></td><td>, ironic packages wa</td></tr><tr><td><div class=\"dni-plaintext\"><pre>32</pre></div></td><td><div class=\"dni-plaintext\"><pre>1300570</pre></div></td><td>O</td><td><div class=\"dni-plaintext\"><pre>129634.85</pre></div></td><td><span>1995-07-16 00:00:00Z</span></td><td>2-HIGH         </td><td>Clerk#000006157</td><td><div class=\"dni-plaintext\"><pre>0</pre></div></td><td>ly about the carefully express theodolites. ironic, iron</td></tr><tr><td><div class=\"dni-plaintext\"><pre>33</pre></div></td><td><div class=\"dni-plaintext\"><pre>669580</pre></div></td><td>F</td><td><div class=\"dni-plaintext\"><pre>126998.88</pre></div></td><td><span>1993-10-27 00:00:00Z</span></td><td>3-MEDIUM       </td><td>Clerk#000004086</td><td><div class=\"dni-plaintext\"><pre>0</pre></div></td><td> careful, regular courts. unusual</td></tr><tr><td><div class=\"dni-plaintext\"><pre>34</pre></div></td><td><div class=\"dni-plaintext\"><pre>610001</pre></div></td><td>O</td><td><div class=\"dni-plaintext\"><pre>55314.82</pre></div></td><td><span>1998-07-21 00:00:00Z</span></td><td>3-MEDIUM       </td><td>Clerk#000002228</td><td><div class=\"dni-plaintext\"><pre>0</pre></div></td><td>osits according to the ideas are furiously final requests? slyly pe</td></tr></tbody></table><style>\r\n",
       ".dni-code-hint {\r\n",
       "    font-style: italic;\r\n",
       "    overflow: hidden;\r\n",
       "    white-space: nowrap;\r\n",
       "}\r\n",
       ".dni-treeview {\r\n",
       "    white-space: nowrap;\r\n",
       "}\r\n",
       ".dni-treeview td {\r\n",
       "    vertical-align: top;\r\n",
       "    text-align: start;\r\n",
       "}\r\n",
       "details.dni-treeview {\r\n",
       "    padding-left: 1em;\r\n",
       "}\r\n",
       "table td {\r\n",
       "    text-align: start;\r\n",
       "}\r\n",
       "table tr { \r\n",
       "    vertical-align: top; \r\n",
       "    margin: 0em 0px;\r\n",
       "}\r\n",
       "table tr td pre \r\n",
       "{ \r\n",
       "    vertical-align: top !important; \r\n",
       "    margin: 0em 0px !important;\r\n",
       "} \r\n",
       "table th {\r\n",
       "    text-align: start;\r\n",
       "}\r\n",
       "</style>"
      ]
     },
     "metadata": {},
     "output_type": "display_data"
    }
   ],
   "source": [
    "SELECT * FROM tpch_10.orders_heap ORDER BY o_orderkey LIMIT 10;"
   ]
  },
  {
   "cell_type": "markdown",
   "id": "b48d39e3",
   "metadata": {},
   "source": [
    "### Source Oracle ORDERS Target PostgreSQL ORDERS table (with PK)"
   ]
  },
  {
   "cell_type": "code",
   "execution_count": 32,
   "id": "60c3dab9",
   "metadata": {
    "language_info": {
     "name": "polyglot-notebook"
    },
    "polyglot_notebook": {
     "kernelName": "sql-pgsql17_tpch"
    }
   },
   "outputs": [
    {
     "data": {
      "text/csv": [
       "count\r\n",
       "0\r\n"
      ],
      "text/html": [
       "<table><thead><tr><td><span>count</span></td></tr></thead><tbody><tr><td><div class=\"dni-plaintext\"><pre>0</pre></div></td></tr></tbody></table><style>\r\n",
       ".dni-code-hint {\r\n",
       "    font-style: italic;\r\n",
       "    overflow: hidden;\r\n",
       "    white-space: nowrap;\r\n",
       "}\r\n",
       ".dni-treeview {\r\n",
       "    white-space: nowrap;\r\n",
       "}\r\n",
       ".dni-treeview td {\r\n",
       "    vertical-align: top;\r\n",
       "    text-align: start;\r\n",
       "}\r\n",
       "details.dni-treeview {\r\n",
       "    padding-left: 1em;\r\n",
       "}\r\n",
       "table td {\r\n",
       "    text-align: start;\r\n",
       "}\r\n",
       "table tr { \r\n",
       "    vertical-align: top; \r\n",
       "    margin: 0em 0px;\r\n",
       "}\r\n",
       "table tr td pre \r\n",
       "{ \r\n",
       "    vertical-align: top !important; \r\n",
       "    margin: 0em 0px !important;\r\n",
       "} \r\n",
       "table th {\r\n",
       "    text-align: start;\r\n",
       "}\r\n",
       "</style>"
      ]
     },
     "metadata": {},
     "output_type": "display_data"
    }
   ],
   "source": [
    "TRUNCATE TABLE tpch_10.orders;\n",
    "SELECT count(*) FROM tpch_10.orders;"
   ]
  },
  {
   "cell_type": "code",
   "execution_count": 28,
   "id": "1d0be4e3",
   "metadata": {
    "language_info": {
     "name": "polyglot-notebook"
    },
    "polyglot_notebook": {
     "kernelName": "sql-pgsql17_fasttransfer"
    }
   },
   "outputs": [
    {
     "data": {
      "text/csv": [
       "pg_fasttransfer_encrypt\r\n",
       "\"ww0EBwMClLUgzaK7CeV/0jgBrcJ12PhQaPFsrHKtbT8h0vzJkZZah65ju5+jL9niJT/YAGYccAgz\n",
       "Et+WdkYpnW9Cp3RklNy1Gw==\"\r\n"
      ],
      "text/html": [
       "<table><thead><tr><td><span>pg_fasttransfer_encrypt</span></td></tr></thead><tbody><tr><td>ww0EBwMClLUgzaK7CeV/0jgBrcJ12PhQaPFsrHKtbT8h0vzJkZZah65ju5+jL9niJT/YAGYccAgz\n",
       "Et+WdkYpnW9Cp3RklNy1Gw==</td></tr></tbody></table><style>\r\n",
       ".dni-code-hint {\r\n",
       "    font-style: italic;\r\n",
       "    overflow: hidden;\r\n",
       "    white-space: nowrap;\r\n",
       "}\r\n",
       ".dni-treeview {\r\n",
       "    white-space: nowrap;\r\n",
       "}\r\n",
       ".dni-treeview td {\r\n",
       "    vertical-align: top;\r\n",
       "    text-align: start;\r\n",
       "}\r\n",
       "details.dni-treeview {\r\n",
       "    padding-left: 1em;\r\n",
       "}\r\n",
       "table td {\r\n",
       "    text-align: start;\r\n",
       "}\r\n",
       "table tr { \r\n",
       "    vertical-align: top; \r\n",
       "    margin: 0em 0px;\r\n",
       "}\r\n",
       "table tr td pre \r\n",
       "{ \r\n",
       "    vertical-align: top !important; \r\n",
       "    margin: 0em 0px !important;\r\n",
       "} \r\n",
       "table th {\r\n",
       "    text-align: start;\r\n",
       "}\r\n",
       "</style>"
      ]
     },
     "metadata": {},
     "output_type": "display_data"
    }
   ],
   "source": [
    "SELECT pg_fasttransfer_encrypt('TPCH_IN');"
   ]
  },
  {
   "cell_type": "code",
   "execution_count": 33,
   "id": "be16105a",
   "metadata": {
    "language_info": {
     "name": "polyglot-notebook"
    },
    "polyglot_notebook": {
     "kernelName": "sql-pgsql17_fasttransfer"
    }
   },
   "outputs": [
    {
     "data": {
      "text/csv": [
       "exit_code,output,total_rows,total_columns,transfer_time_ms,total_time_ms\r\n",
       "0,\"2025-09-22T23:49:14.851 +02:00 -|-  -|- f5717f0f-2189-4a3b-85e4-5f17024b6eff -|- INFORMATION -|- tpch.tpch_10.orders -|- The FastTransfer_Settings.json file does not exist. Using default settings. Console Only\n",
       "2025-09-22T23:49:14.857 +02:00 -|-  -|- f5717f0f-2189-4a3b-85e4-5f17024b6eff -|- INFORMATION -|- tpch.tpch_10.orders -|- FastTransfer - running in trial mode – will expires on 2025‑10‑20 (27 day(s) left).\n",
       "2025-09-22T23:49:14.857 +02:00 -|-  -|- f5717f0f-2189-4a3b-85e4-5f17024b6eff -|- INFORMATION -|- tpch.tpch_10.orders -|- Starting\n",
       "2025-09-22T23:49:14.857 +02:00 -|-  -|- f5717f0f-2189-4a3b-85e4-5f17024b6eff -|- INFORMATION -|- tpch.tpch_10.orders -|- FastTransfer Version : 0.13.10.0 Architecture : X64 - Framework : .NET 8.0.19\n",
       "2025-09-22T23:49:14.857 +02:00 -|-  -|- f5717f0f-2189-4a3b-85e4-5f17024b6eff -|- INFORMATION -|- tpch.tpch_10.orders -|- OS : Microsoft Windows 10.0.26100\n",
       "2025-09-22T23:49:14.857 +02:00 -|-  -|- f5717f0f-2189-4a3b-85e4-5f17024b6eff -|- INFORMATION -|- tpch.tpch_10.orders -|- Process ID : 9916\n",
       "2025-09-22T23:49:14.857 +02:00 -|-  -|- f5717f0f-2189-4a3b-85e4-5f17024b6eff -|- INFORMATION -|- tpch.tpch_10.orders -|- Generated Run ID : f5717f0f-2189-4a3b-85e4-5f17024b6eff\n",
       "2025-09-22T23:49:14.857 +02:00 -|-  -|- f5717f0f-2189-4a3b-85e4-5f17024b6eff -|- INFORMATION -|- tpch.tpch_10.orders -|- Source Connection Type : oraodp\n",
       "2025-09-22T23:49:14.857 +02:00 -|-  -|- f5717f0f-2189-4a3b-85e4-5f17024b6eff -|- INFORMATION -|- tpch.tpch_10.orders -|- Source SqlInstance : localhost:1521/ORCLPDB\n",
       "2025-09-22T23:49:14.857 +02:00 -|-  -|- f5717f0f-2189-4a3b-85e4-5f17024b6eff -|- INFORMATION -|- tpch.tpch_10.orders -|- Source Database : ORCLPDB\n",
       "2025-09-22T23:49:14.857 +02:00 -|-  -|- f5717f0f-2189-4a3b-85e4-5f17024b6eff -|- INFORMATION -|- tpch.tpch_10.orders -|- Source Trusted Connection : False\n",
       "2025-09-22T23:49:14.857 +02:00 -|-  -|- f5717f0f-2189-4a3b-85e4-5f17024b6eff -|- INFORMATION -|- tpch.tpch_10.orders -|- Source User : TPCH_IN\n",
       "2025-09-22T23:49:14.857 +02:00 -|-  -|- f5717f0f-2189-4a3b-85e4-5f17024b6eff -|- INFORMATION -|- tpch.tpch_10.orders -|- Source Schema : TPCH_IN\n",
       "2025-09-22T23:49:14.857 +02:00 -|-  -|- f5717f0f-2189-4a3b-85e4-5f17024b6eff -|- INFORMATION -|- tpch.tpch_10.orders -|- Source Table : ORDERS_FLAT\n",
       "2025-09-22T23:49:14.857 +02:00 -|-  -|- f5717f0f-2189-4a3b-85e4-5f17024b6eff -|- INFORMATION -|- tpch.tpch_10.orders -|- Target Type : pgcopy\n",
       "2025-09-22T23:49:14.857 +02:00 -|-  -|- f5717f0f-2189-4a3b-85e4-5f17024b6eff -|- INFORMATION -|- tpch.tpch_10.orders -|- Target Server : localhost:25432\n",
       "2025-09-22T23:49:14.857 +02:00 -|-  -|- f5717f0f-2189-4a3b-85e4-5f17024b6eff -|- INFORMATION -|- tpch.tpch_10.orders -|- Target Database : tpch\n",
       "2025-09-22T23:49:14.857 +02:00 -|-  -|- f5717f0f-2189-4a3b-85e4-5f17024b6eff -|- INFORMATION -|- tpch.tpch_10.orders -|- Target Schema : tpch_10\n",
       "2025-09-22T23:49:14.857 +02:00 -|-  -|- f5717f0f-2189-4a3b-85e4-5f17024b6eff -|- INFORMATION -|- tpch.tpch_10.orders -|- Target Table : orders\n",
       "2025-09-22T23:49:14.857 +02:00 -|-  -|- f5717f0f-2189-4a3b-85e4-5f17024b6eff -|- INFORMATION -|- tpch.tpch_10.orders -|- Target Trusted Connection : False\n",
       "2025-09-22T23:49:14.857 +02:00 -|-  -|- f5717f0f-2189-4a3b-85e4-5f17024b6eff -|- INFORMATION -|- tpch.tpch_10.orders -|- Target User : FastUser\n",
       "2025-09-22T23:49:14.857 +02:00 -|-  -|- f5717f0f-2189-4a3b-85e4-5f17024b6eff -|- INFORMATION -|- tpch.tpch_10.orders -|- Columns Map Method : Name\n",
       "2025-09-22T23:49:14.857 +02:00 -|-  -|- f5717f0f-2189-4a3b-85e4-5f17024b6eff -|- INFORMATION -|- tpch.tpch_10.orders -|- Degree : 12\n",
       "2025-09-22T23:49:14.857 +02:00 -|-  -|- f5717f0f-2189-4a3b-85e4-5f17024b6eff -|- INFORMATION -|- tpch.tpch_10.orders -|- Distribute Method : RangeId\n",
       "2025-09-22T23:49:14.857 +02:00 -|-  -|- f5717f0f-2189-4a3b-85e4-5f17024b6eff -|- INFORMATION -|- tpch.tpch_10.orders -|- Distribute Column : O_ORDERKEY\n",
       "2025-09-22T23:49:14.857 +02:00 -|-  -|- f5717f0f-2189-4a3b-85e4-5f17024b6eff -|- INFORMATION -|- tpch.tpch_10.orders -|- Bulkcopy Batch Size : 1048576\n",
       "2025-09-22T23:49:14.857 +02:00 -|-  -|- f5717f0f-2189-4a3b-85e4-5f17024b6eff -|- INFORMATION -|- tpch.tpch_10.orders -|- Load Mode : Truncate\n",
       "2025-09-22T23:49:14.857 +02:00 -|-  -|- f5717f0f-2189-4a3b-85e4-5f17024b6eff -|- INFORMATION -|- tpch.tpch_10.orders -|- Use Work Tables : False\n",
       "2025-09-22T23:49:14.860 +02:00 -|-  -|- f5717f0f-2189-4a3b-85e4-5f17024b6eff -|- INFORMATION -|- tpch.tpch_10.orders -|- Encoding used : Unicode (UTF-8) - 65001 - utf-8\n",
       "2025-09-22T23:49:15.070 +02:00 -|-  -|- f5717f0f-2189-4a3b-85e4-5f17024b6eff -|- INFORMATION -|- tpch.tpch_10.orders -|- Source Connection String : USER ID=TPCH_IN;PASSWORD=xxxxx;DATA SOURCE=localhost:1521/ORCLPDB;POOLING=False;CONNECTION TIMEOUT=120\n",
       "2025-09-22T23:49:15.070 +02:00 -|-  -|- f5717f0f-2189-4a3b-85e4-5f17024b6eff -|- INFORMATION -|- tpch.tpch_10.orders -|- Target Connection String : Host=localhost;Port=25432;Database=tpch;Trust Server Certificate=True;Application Name=FastTransfer;Timeout=15;Command Timeout=10800;Username=FastUser;Password=xxxxx\n",
       "2025-09-22T23:49:15.071 +02:00 -|-  -|- f5717f0f-2189-4a3b-85e4-5f17024b6eff -|- INFORMATION -|- tpch.tpch_10.orders -|- Source Database Version : Oracle Database 21c Enterprise Edition Release 21.0.0.0.0 - Production\n",
       "2025-09-22T23:49:15.071 +02:00 -|-  -|- f5717f0f-2189-4a3b-85e4-5f17024b6eff -|- INFORMATION -|- tpch.tpch_10.orders -|- Target Database Version : PostgreSQL 17.2 on x86_64-windows, compiled by msvc-19.42.34435, 64-bit\n",
       "2025-09-22T23:49:15.472 +02:00 -|-  -|- f5717f0f-2189-4a3b-85e4-5f17024b6eff -|- INFORMATION -|- tpch.tpch_10.orders -|- Start Loading Data using distribution method RangeId\n",
       "2025-09-22T23:49:15.545 +02:00 -|-  -|- f5717f0f-2189-4a3b-85e4-5f17024b6eff -|- INFORMATION -|- tpch.tpch_10.orders -|- Start Loading Data using distribution method RangeId\n",
       "2025-09-22T23:49:15.580 +02:00 -|-  -|- f5717f0f-2189-4a3b-85e4-5f17024b6eff -|- INFORMATION -|- tpch.tpch_10.orders -|- Start Loading Data using distribution method RangeId\n",
       "2025-09-22T23:49:15.674 +02:00 -|-  -|- f5717f0f-2189-4a3b-85e4-5f17024b6eff -|- INFORMATION -|- tpch.tpch_10.orders -|- Start Loading Data using distribution method RangeId\n",
       "2025-09-22T23:49:15.729 +02:00 -|-  -|- f5717f0f-2189-4a3b-85e4-5f17024b6eff -|- INFORMATION -|- tpch.tpch_10.orders -|- Start Loading Data using distribution method RangeId\n",
       "2025-09-22T23:49:15.739 +02:00 -|-  -|- f5717f0f-2189-4a3b-85e4-5f17024b6eff -|- INFORMATION -|- tpch.tpch_10.orders -|- Start Loading Data using distribution method RangeId\n",
       "2025-09-22T23:49:15.776 +02:00 -|-  -|- f5717f0f-2189-4a3b-85e4-5f17024b6eff -|- INFORMATION -|- tpch.tpch_10.orders -|- Start Loading Data using distribution method RangeId\n",
       "2025-09-22T23:49:15.819 +02:00 -|-  -|- f5717f0f-2189-4a3b-85e4-5f17024b6eff -|- INFORMATION -|- tpch.tpch_10.orders -|- Start Loading Data using distribution method RangeId\n",
       "2025-09-22T23:49:15.821 +02:00 -|-  -|- f5717f0f-2189-4a3b-85e4-5f17024b6eff -|- INFORMATION -|- tpch.tpch_10.orders -|- Start Loading Data using distribution method RangeId\n",
       "2025-09-22T23:49:15.850 +02:00 -|-  -|- f5717f0f-2189-4a3b-85e4-5f17024b6eff -|- INFORMATION -|- tpch.tpch_10.orders -|- Start Loading Data using distribution method RangeId\n",
       "2025-09-22T23:49:15.879 +02:00 -|-  -|- f5717f0f-2189-4a3b-85e4-5f17024b6eff -|- INFORMATION -|- tpch.tpch_10.orders -|- Start Loading Data using distribution method RangeId\n",
       "2025-09-22T23:49:15.905 +02:00 -|-  -|- f5717f0f-2189-4a3b-85e4-5f17024b6eff -|- INFORMATION -|- tpch.tpch_10.orders -|- Start Loading Data using distribution method RangeId\n",
       "2025-09-22T23:49:24.973 +02:00 -|-  -|- f5717f0f-2189-4a3b-85e4-5f17024b6eff -|- INFORMATION -|- tpch.tpch_10.orders -|- Completed RangeId Parallel Load 4 : 1250000 rows x 9 columns in 9557 ms\n",
       "2025-09-22T23:49:24.997 +02:00 -|-  -|- f5717f0f-2189-4a3b-85e4-5f17024b6eff -|- INFORMATION -|- tpch.tpch_10.orders -|- Completed RangeId Parallel Load 5 : 1250000 rows x 9 columns in 9582 ms\n",
       "2025-09-22T23:49:25.902 +02:00 -|-  -|- f5717f0f-2189-4a3b-85e4-5f17024b6eff -|- INFORMATION -|- tpch.tpch_10.orders -|- Completed RangeId Parallel Load 10 : 1250000 rows x 9 columns in 10485 ms\n",
       "2025-09-22T23:49:25.933 +02:00 -|-  -|- f5717f0f-2189-4a3b-85e4-5f17024b6eff -|- INFORMATION -|- tpch.tpch_10.orders -|- Completed RangeId Parallel Load 9 : 1250000 rows x 9 columns in 10516 ms\n",
       "2025-09-22T23:49:25.961 +02:00 -|-  -|- f5717f0f-2189-4a3b-85e4-5f17024b6eff -|- INFORMATION -|- tpch.tpch_10.orders -|- Completed RangeId Parallel Load 3 : 1250000 rows x 9 columns in 10545 ms\n",
       "2025-09-22T23:49:25.964 +02:00 -|-  -|- f5717f0f-2189-4a3b-85e4-5f17024b6eff -|- INFORMATION -|- tpch.tpch_10.orders -|- Completed RangeId Parallel Load 6 : 1250000 rows x 9 columns in 10548 ms\n",
       "2025-09-22T23:49:25.967 +02:00 -|-  -|- f5717f0f-2189-4a3b-85e4-5f17024b6eff -|- INFORMATION -|- tpch.tpch_10.orders -|- Completed RangeId Parallel Load 7 : 1250000 rows x 9 columns in 10551 ms\n",
       "2025-09-22T23:49:25.971 +02:00 -|-  -|- f5717f0f-2189-4a3b-85e4-5f17024b6eff -|- INFORMATION -|- tpch.tpch_10.orders -|- Completed RangeId Parallel Load 0 : 1249999 rows x 9 columns in 10556 ms\n",
       "2025-09-22T23:49:25.975 +02:00 -|-  -|- f5717f0f-2189-4a3b-85e4-5f17024b6eff -|- INFORMATION -|- tpch.tpch_10.orders -|- Completed RangeId Parallel Load 1 : 1250000 rows x 9 columns in 10560 ms\n",
       "2025-09-22T23:49:25.980 +02:00 -|-  -|- f5717f0f-2189-4a3b-85e4-5f17024b6eff -|- INFORMATION -|- tpch.tpch_10.orders -|- Completed RangeId Parallel Load 11 : 1250001 rows x 9 columns in 10563 ms\n",
       "2025-09-22T23:49:25.980 +02:00 -|-  -|- f5717f0f-2189-4a3b-85e4-5f17024b6eff -|- INFORMATION -|- tpch.tpch_10.orders -|- Completed RangeId Parallel Load 2 : 1250000 rows x 9 columns in 10565 ms\n",
       "2025-09-22T23:49:25.990 +02:00 -|-  -|- f5717f0f-2189-4a3b-85e4-5f17024b6eff -|- INFORMATION -|- tpch.tpch_10.orders -|- Completed RangeId Parallel Load 8 : 1250000 rows x 9 columns in 10574 ms\n",
       "2025-09-22T23:49:25.992 +02:00 -|-  -|- f5717f0f-2189-4a3b-85e4-5f17024b6eff -|- INFORMATION -|- tpch.tpch_10.orders -|- Total rows : 15000000\n",
       "2025-09-22T23:49:25.992 +02:00 -|-  -|- f5717f0f-2189-4a3b-85e4-5f17024b6eff -|- INFORMATION -|- tpch.tpch_10.orders -|- Total columns : 9\n",
       "2025-09-22T23:49:25.992 +02:00 -|-  -|- f5717f0f-2189-4a3b-85e4-5f17024b6eff -|- INFORMATION -|- tpch.tpch_10.orders -|- Total cells : 135000000\n",
       "2025-09-22T23:49:25.992 +02:00 -|-  -|- f5717f0f-2189-4a3b-85e4-5f17024b6eff -|- INFORMATION -|- tpch.tpch_10.orders -|- Rows Throughput : 1378589 rows/s\n",
       "2025-09-22T23:49:25.992 +02:00 -|-  -|- f5717f0f-2189-4a3b-85e4-5f17024b6eff -|- INFORMATION -|- tpch.tpch_10.orders -|- Cells Throughput : 12407315 cells/s\n",
       "2025-09-22T23:49:25.992 +02:00 -|-  -|- f5717f0f-2189-4a3b-85e4-5f17024b6eff -|- INFORMATION -|- tpch.tpch_10.orders -|- Transfert time : Elapsed=10880 ms\n",
       "2025-09-22T23:49:25.992 +02:00 -|-  -|- f5717f0f-2189-4a3b-85e4-5f17024b6eff -|- INFORMATION -|- tpch.tpch_10.orders -|- Total time : Elapsed=11198 ms\n",
       "2025-09-22T23:49:25.992 +02:00 -|-  -|- f5717f0f-2189-4a3b-85e4-5f17024b6eff -|- INFORMATION -|- tpch.tpch_10.orders -|- Completed Load\n",
       "\",15000000,9,10880,11198\r\n"
      ],
      "text/html": [
       "<table><thead><tr><td><span>exit_code</span></td><td><span>output</span></td><td><span>total_rows</span></td><td><span>total_columns</span></td><td><span>transfer_time_ms</span></td><td><span>total_time_ms</span></td></tr></thead><tbody><tr><td><div class=\"dni-plaintext\"><pre>0</pre></div></td><td>2025-09-22T23:49:14.851 +02:00 -|-  -|- f5717f0f-2189-4a3b-85e4-5f17024b6eff -|- INFORMATION -|- tpch.tpch_10.orders -|- The FastTransfer_Settings.json file does not exist. Using default settings. Console Only\n",
       "2025-09-22T23:49:14.857 +02:00 -|-  -|- f5717f0f-2189-4a3b-85e4-5f17024b6eff -|- INFORMATION -|- tpch.tpch_10.orders -|- FastTransfer - running in trial mode – will expires on 2025‑10‑20 (27 day(s) left).\n",
       "2025-09-22T23:49:14.857 +02:00 -|-  -|- f5717f0f-2189-4a3b-85e4-5f17024b6eff -|- INFORMATION -|- tpch.tpch_10.orders -|- Starting\n",
       "2025-09-22T23:49:14.857 +02:00 -|-  -|- f5717f0f-2189-4a3b-85e4-5f17024b6eff -|- INFORMATION -|- tpch.tpch_10.orders -|- FastTransfer Version : 0.13.10.0 Architecture : X64 - Framework : .NET 8.0.19\n",
       "2025-09-22T23:49:14.857 +02:00 -|-  -|- f5717f0f-2189-4a3b-85e4-5f17024b6eff -|- INFORMATION -|- tpch.tpch_10.orders -|- OS : Microsoft Windows 10.0.26100\n",
       "2025-09-22T23:49:14.857 +02:00 -|-  -|- f5717f0f-2189-4a3b-85e4-5f17024b6eff -|- INFORMATION -|- tpch.tpch_10.orders -|- Process ID : 9916\n",
       "2025-09-22T23:49:14.857 +02:00 -|-  -|- f5717f0f-2189-4a3b-85e4-5f17024b6eff -|- INFORMATION -|- tpch.tpch_10.orders -|- Generated Run ID : f5717f0f-2189-4a3b-85e4-5f17024b6eff\n",
       "2025-09-22T23:49:14.857 +02:00 -|-  -|- f5717f0f-2189-4a3b-85e4-5f17024b6eff -|- INFORMATION -|- tpch.tpch_10.orders -|- Source Connection Type : oraodp\n",
       "2025-09-22T23:49:14.857 +02:00 -|-  -|- f5717f0f-2189-4a3b-85e4-5f17024b6eff -|- INFORMATION -|- tpch.tpch_10.orders -|- Source SqlInstance : localhost:1521/ORCLPDB\n",
       "2025-09-22T23:49:14.857 +02:00 -|-  -|- f5717f0f-2189-4a3b-85e4-5f17024b6eff -|- INFORMATION -|- tpch.tpch_10.orders -|- Source Database : ORCLPDB\n",
       "2025-09-22T23:49:14.857 +02:00 -|-  -|- f5717f0f-2189-4a3b-85e4-5f17024b6eff -|- INFORMATION -|- tpch.tpch_10.orders -|- Source Trusted Connection : False\n",
       "2025-09-22T23:49:14.857 +02:00 -|-  -|- f5717f0f-2189-4a3b-85e4-5f17024b6eff -|- INFORMATION -|- tpch.tpch_10.orders -|- Source User : TPCH_IN\n",
       "2025-09-22T23:49:14.857 +02:00 -|-  -|- f5717f0f-2189-4a3b-85e4-5f17024b6eff -|- INFORMATION -|- tpch.tpch_10.orders -|- Source Schema : TPCH_IN\n",
       "2025-09-22T23:49:14.857 +02:00 -|-  -|- f5717f0f-2189-4a3b-85e4-5f17024b6eff -|- INFORMATION -|- tpch.tpch_10.orders -|- Source Table : ORDERS_FLAT\n",
       "2025-09-22T23:49:14.857 +02:00 -|-  -|- f5717f0f-2189-4a3b-85e4-5f17024b6eff -|- INFORMATION -|- tpch.tpch_10.orders -|- Target Type : pgcopy\n",
       "2025-09-22T23:49:14.857 +02:00 -|-  -|- f5717f0f-2189-4a3b-85e4-5f17024b6eff -|- INFORMATION -|- tpch.tpch_10.orders -|- Target Server : localhost:25432\n",
       "2025-09-22T23:49:14.857 +02:00 -|-  -|- f5717f0f-2189-4a3b-85e4-5f17024b6eff -|- INFORMATION -|- tpch.tpch_10.orders -|- Target Database : tpch\n",
       "2025-09-22T23:49:14.857 +02:00 -|-  -|- f5717f0f-2189-4a3b-85e4-5f17024b6eff -|- INFORMATION -|- tpch.tpch_10.orders -|- Target Schema : tpch_10\n",
       "2025-09-22T23:49:14.857 +02:00 -|-  -|- f5717f0f-2189-4a3b-85e4-5f17024b6eff -|- INFORMATION -|- tpch.tpch_10.orders -|- Target Table : orders\n",
       "2025-09-22T23:49:14.857 +02:00 -|-  -|- f5717f0f-2189-4a3b-85e4-5f17024b6eff -|- INFORMATION -|- tpch.tpch_10.orders -|- Target Trusted Connection : False\n",
       "2025-09-22T23:49:14.857 +02:00 -|-  -|- f5717f0f-2189-4a3b-85e4-5f17024b6eff -|- INFORMATION -|- tpch.tpch_10.orders -|- Target User : FastUser\n",
       "2025-09-22T23:49:14.857 +02:00 -|-  -|- f5717f0f-2189-4a3b-85e4-5f17024b6eff -|- INFORMATION -|- tpch.tpch_10.orders -|- Columns Map Method : Name\n",
       "2025-09-22T23:49:14.857 +02:00 -|-  -|- f5717f0f-2189-4a3b-85e4-5f17024b6eff -|- INFORMATION -|- tpch.tpch_10.orders -|- Degree : 12\n",
       "2025-09-22T23:49:14.857 +02:00 -|-  -|- f5717f0f-2189-4a3b-85e4-5f17024b6eff -|- INFORMATION -|- tpch.tpch_10.orders -|- Distribute Method : RangeId\n",
       "2025-09-22T23:49:14.857 +02:00 -|-  -|- f5717f0f-2189-4a3b-85e4-5f17024b6eff -|- INFORMATION -|- tpch.tpch_10.orders -|- Distribute Column : O_ORDERKEY\n",
       "2025-09-22T23:49:14.857 +02:00 -|-  -|- f5717f0f-2189-4a3b-85e4-5f17024b6eff -|- INFORMATION -|- tpch.tpch_10.orders -|- Bulkcopy Batch Size : 1048576\n",
       "2025-09-22T23:49:14.857 +02:00 -|-  -|- f5717f0f-2189-4a3b-85e4-5f17024b6eff -|- INFORMATION -|- tpch.tpch_10.orders -|- Load Mode : Truncate\n",
       "2025-09-22T23:49:14.857 +02:00 -|-  -|- f5717f0f-2189-4a3b-85e4-5f17024b6eff -|- INFORMATION -|- tpch.tpch_10.orders -|- Use Work Tables : False\n",
       "2025-09-22T23:49:14.860 +02:00 -|-  -|- f5717f0f-2189-4a3b-85e4-5f17024b6eff -|- INFORMATION -|- tpch.tpch_10.orders -|- Encoding used : Unicode (UTF-8) - 65001 - utf-8\n",
       "2025-09-22T23:49:15.070 +02:00 -|-  -|- f5717f0f-2189-4a3b-85e4-5f17024b6eff -|- INFORMATION -|- tpch.tpch_10.orders -|- Source Connection String : USER ID=TPCH_IN;PASSWORD=xxxxx;DATA SOURCE=localhost:1521/ORCLPDB;POOLING=False;CONNECTION TIMEOUT=120\n",
       "2025-09-22T23:49:15.070 +02:00 -|-  -|- f5717f0f-2189-4a3b-85e4-5f17024b6eff -|- INFORMATION -|- tpch.tpch_10.orders -|- Target Connection String : Host=localhost;Port=25432;Database=tpch;Trust Server Certificate=True;Application Name=FastTransfer;Timeout=15;Command Timeout=10800;Username=FastUser;Password=xxxxx\n",
       "2025-09-22T23:49:15.071 +02:00 -|-  -|- f5717f0f-2189-4a3b-85e4-5f17024b6eff -|- INFORMATION -|- tpch.tpch_10.orders -|- Source Database Version : Oracle Database 21c Enterprise Edition Release 21.0.0.0.0 - Production\n",
       "2025-09-22T23:49:15.071 +02:00 -|-  -|- f5717f0f-2189-4a3b-85e4-5f17024b6eff -|- INFORMATION -|- tpch.tpch_10.orders -|- Target Database Version : PostgreSQL 17.2 on x86_64-windows, compiled by msvc-19.42.34435, 64-bit\n",
       "2025-09-22T23:49:15.472 +02:00 -|-  -|- f5717f0f-2189-4a3b-85e4-5f17024b6eff -|- INFORMATION -|- tpch.tpch_10.orders -|- Start Loading Data using distribution method RangeId\n",
       "2025-09-22T23:49:15.545 +02:00 -|-  -|- f5717f0f-2189-4a3b-85e4-5f17024b6eff -|- INFORMATION -|- tpch.tpch_10.orders -|- Start Loading Data using distribution method RangeId\n",
       "2025-09-22T23:49:15.580 +02:00 -|-  -|- f5717f0f-2189-4a3b-85e4-5f17024b6eff -|- INFORMATION -|- tpch.tpch_10.orders -|- Start Loading Data using distribution method RangeId\n",
       "2025-09-22T23:49:15.674 +02:00 -|-  -|- f5717f0f-2189-4a3b-85e4-5f17024b6eff -|- INFORMATION -|- tpch.tpch_10.orders -|- Start Loading Data using distribution method RangeId\n",
       "2025-09-22T23:49:15.729 +02:00 -|-  -|- f5717f0f-2189-4a3b-85e4-5f17024b6eff -|- INFORMATION -|- tpch.tpch_10.orders -|- Start Loading Data using distribution method RangeId\n",
       "2025-09-22T23:49:15.739 +02:00 -|-  -|- f5717f0f-2189-4a3b-85e4-5f17024b6eff -|- INFORMATION -|- tpch.tpch_10.orders -|- Start Loading Data using distribution method RangeId\n",
       "2025-09-22T23:49:15.776 +02:00 -|-  -|- f5717f0f-2189-4a3b-85e4-5f17024b6eff -|- INFORMATION -|- tpch.tpch_10.orders -|- Start Loading Data using distribution method RangeId\n",
       "2025-09-22T23:49:15.819 +02:00 -|-  -|- f5717f0f-2189-4a3b-85e4-5f17024b6eff -|- INFORMATION -|- tpch.tpch_10.orders -|- Start Loading Data using distribution method RangeId\n",
       "2025-09-22T23:49:15.821 +02:00 -|-  -|- f5717f0f-2189-4a3b-85e4-5f17024b6eff -|- INFORMATION -|- tpch.tpch_10.orders -|- Start Loading Data using distribution method RangeId\n",
       "2025-09-22T23:49:15.850 +02:00 -|-  -|- f5717f0f-2189-4a3b-85e4-5f17024b6eff -|- INFORMATION -|- tpch.tpch_10.orders -|- Start Loading Data using distribution method RangeId\n",
       "2025-09-22T23:49:15.879 +02:00 -|-  -|- f5717f0f-2189-4a3b-85e4-5f17024b6eff -|- INFORMATION -|- tpch.tpch_10.orders -|- Start Loading Data using distribution method RangeId\n",
       "2025-09-22T23:49:15.905 +02:00 -|-  -|- f5717f0f-2189-4a3b-85e4-5f17024b6eff -|- INFORMATION -|- tpch.tpch_10.orders -|- Start Loading Data using distribution method RangeId\n",
       "2025-09-22T23:49:24.973 +02:00 -|-  -|- f5717f0f-2189-4a3b-85e4-5f17024b6eff -|- INFORMATION -|- tpch.tpch_10.orders -|- Completed RangeId Parallel Load 4 : 1250000 rows x 9 columns in 9557 ms\n",
       "2025-09-22T23:49:24.997 +02:00 -|-  -|- f5717f0f-2189-4a3b-85e4-5f17024b6eff -|- INFORMATION -|- tpch.tpch_10.orders -|- Completed RangeId Parallel Load 5 : 1250000 rows x 9 columns in 9582 ms\n",
       "2025-09-22T23:49:25.902 +02:00 -|-  -|- f5717f0f-2189-4a3b-85e4-5f17024b6eff -|- INFORMATION -|- tpch.tpch_10.orders -|- Completed RangeId Parallel Load 10 : 1250000 rows x 9 columns in 10485 ms\n",
       "2025-09-22T23:49:25.933 +02:00 -|-  -|- f5717f0f-2189-4a3b-85e4-5f17024b6eff -|- INFORMATION -|- tpch.tpch_10.orders -|- Completed RangeId Parallel Load 9 : 1250000 rows x 9 columns in 10516 ms\n",
       "2025-09-22T23:49:25.961 +02:00 -|-  -|- f5717f0f-2189-4a3b-85e4-5f17024b6eff -|- INFORMATION -|- tpch.tpch_10.orders -|- Completed RangeId Parallel Load 3 : 1250000 rows x 9 columns in 10545 ms\n",
       "2025-09-22T23:49:25.964 +02:00 -|-  -|- f5717f0f-2189-4a3b-85e4-5f17024b6eff -|- INFORMATION -|- tpch.tpch_10.orders -|- Completed RangeId Parallel Load 6 : 1250000 rows x 9 columns in 10548 ms\n",
       "2025-09-22T23:49:25.967 +02:00 -|-  -|- f5717f0f-2189-4a3b-85e4-5f17024b6eff -|- INFORMATION -|- tpch.tpch_10.orders -|- Completed RangeId Parallel Load 7 : 1250000 rows x 9 columns in 10551 ms\n",
       "2025-09-22T23:49:25.971 +02:00 -|-  -|- f5717f0f-2189-4a3b-85e4-5f17024b6eff -|- INFORMATION -|- tpch.tpch_10.orders -|- Completed RangeId Parallel Load 0 : 1249999 rows x 9 columns in 10556 ms\n",
       "2025-09-22T23:49:25.975 +02:00 -|-  -|- f5717f0f-2189-4a3b-85e4-5f17024b6eff -|- INFORMATION -|- tpch.tpch_10.orders -|- Completed RangeId Parallel Load 1 : 1250000 rows x 9 columns in 10560 ms\n",
       "2025-09-22T23:49:25.980 +02:00 -|-  -|- f5717f0f-2189-4a3b-85e4-5f17024b6eff -|- INFORMATION -|- tpch.tpch_10.orders -|- Completed RangeId Parallel Load 11 : 1250001 rows x 9 columns in 10563 ms\n",
       "2025-09-22T23:49:25.980 +02:00 -|-  -|- f5717f0f-2189-4a3b-85e4-5f17024b6eff -|- INFORMATION -|- tpch.tpch_10.orders -|- Completed RangeId Parallel Load 2 : 1250000 rows x 9 columns in 10565 ms\n",
       "2025-09-22T23:49:25.990 +02:00 -|-  -|- f5717f0f-2189-4a3b-85e4-5f17024b6eff -|- INFORMATION -|- tpch.tpch_10.orders -|- Completed RangeId Parallel Load 8 : 1250000 rows x 9 columns in 10574 ms\n",
       "2025-09-22T23:49:25.992 +02:00 -|-  -|- f5717f0f-2189-4a3b-85e4-5f17024b6eff -|- INFORMATION -|- tpch.tpch_10.orders -|- Total rows : 15000000\n",
       "2025-09-22T23:49:25.992 +02:00 -|-  -|- f5717f0f-2189-4a3b-85e4-5f17024b6eff -|- INFORMATION -|- tpch.tpch_10.orders -|- Total columns : 9\n",
       "2025-09-22T23:49:25.992 +02:00 -|-  -|- f5717f0f-2189-4a3b-85e4-5f17024b6eff -|- INFORMATION -|- tpch.tpch_10.orders -|- Total cells : 135000000\n",
       "2025-09-22T23:49:25.992 +02:00 -|-  -|- f5717f0f-2189-4a3b-85e4-5f17024b6eff -|- INFORMATION -|- tpch.tpch_10.orders -|- Rows Throughput : 1378589 rows/s\n",
       "2025-09-22T23:49:25.992 +02:00 -|-  -|- f5717f0f-2189-4a3b-85e4-5f17024b6eff -|- INFORMATION -|- tpch.tpch_10.orders -|- Cells Throughput : 12407315 cells/s\n",
       "2025-09-22T23:49:25.992 +02:00 -|-  -|- f5717f0f-2189-4a3b-85e4-5f17024b6eff -|- INFORMATION -|- tpch.tpch_10.orders -|- Transfert time : Elapsed=10880 ms\n",
       "2025-09-22T23:49:25.992 +02:00 -|-  -|- f5717f0f-2189-4a3b-85e4-5f17024b6eff -|- INFORMATION -|- tpch.tpch_10.orders -|- Total time : Elapsed=11198 ms\n",
       "2025-09-22T23:49:25.992 +02:00 -|-  -|- f5717f0f-2189-4a3b-85e4-5f17024b6eff -|- INFORMATION -|- tpch.tpch_10.orders -|- Completed Load\n",
       "</td><td><div class=\"dni-plaintext\"><pre>15000000</pre></div></td><td><div class=\"dni-plaintext\"><pre>9</pre></div></td><td><div class=\"dni-plaintext\"><pre>10880</pre></div></td><td><div class=\"dni-plaintext\"><pre>11198</pre></div></td></tr></tbody></table><style>\r\n",
       ".dni-code-hint {\r\n",
       "    font-style: italic;\r\n",
       "    overflow: hidden;\r\n",
       "    white-space: nowrap;\r\n",
       "}\r\n",
       ".dni-treeview {\r\n",
       "    white-space: nowrap;\r\n",
       "}\r\n",
       ".dni-treeview td {\r\n",
       "    vertical-align: top;\r\n",
       "    text-align: start;\r\n",
       "}\r\n",
       "details.dni-treeview {\r\n",
       "    padding-left: 1em;\r\n",
       "}\r\n",
       "table td {\r\n",
       "    text-align: start;\r\n",
       "}\r\n",
       "table tr { \r\n",
       "    vertical-align: top; \r\n",
       "    margin: 0em 0px;\r\n",
       "}\r\n",
       "table tr td pre \r\n",
       "{ \r\n",
       "    vertical-align: top !important; \r\n",
       "    margin: 0em 0px !important;\r\n",
       "} \r\n",
       "table th {\r\n",
       "    text-align: start;\r\n",
       "}\r\n",
       "</style>"
      ]
     },
     "metadata": {},
     "output_type": "display_data"
    }
   ],
   "source": [
    "SELECT * from xp_RunFastTransfer_secure(\n",
    "sourceconnectiontype := 'oraodp',\n",
    "sourceserver := 'localhost:1521/ORCLPDB',\n",
    "sourceuser := 'TPCH_IN',\n",
    "sourcepassword := 'ww0EBwMCdYjkD/4zFQZ60jgB7UXs/d3NLuwAt9AEa6byGxM/m8bliOVmug4+1gWggjaOtbecbqij 7BFiqov+h7slviPMgzWokA==',\n",
    "sourcedatabase := 'ORCLPDB',\n",
    "sourceschema := 'TPCH_IN',\n",
    "sourcetable := 'ORDERS_FLAT',\n",
    "targetconnectiontype := 'pgcopy',\n",
    "targetserver := 'localhost:25432',\n",
    "targetuser := 'FastUser',\n",
    "targetpassword := 'ww0EBwMCc/4pDzBaadRn0j0BCJu5ZTZ0h64a3Q/AB+DBLhsa8mBkasUdEhTsM6slUOLZ43pVPSBs XjoB0/SMxNdh6jq3wVeBf3Iez1Wn', \n",
    "targetdatabase := 'tpch',\n",
    "targetschema := 'tpch_10',\n",
    "targettable := 'orders',\n",
    "method := 'RangeId',\n",
    "distributekeycolumn := 'O_ORDERKEY',\n",
    "degree := 12,\n",
    "loadmode := 'Truncate',\n",
    "batchsize := 1048576,\n",
    "mapmethod := 'Name',\n",
    "fasttransfer_path := 'D:\\FastTransfer'\n",
    ");"
   ]
  },
  {
   "cell_type": "code",
   "execution_count": 34,
   "id": "552ef90c",
   "metadata": {
    "language_info": {
     "name": "polyglot-notebook"
    },
    "polyglot_notebook": {
     "kernelName": "sql-pgsql17_tpch"
    }
   },
   "outputs": [
    {
     "data": {
      "text/csv": [
       "count\r\n",
       "15000000\r\n"
      ],
      "text/html": [
       "<table><thead><tr><td><span>count</span></td></tr></thead><tbody><tr><td><div class=\"dni-plaintext\"><pre>15000000</pre></div></td></tr></tbody></table><style>\r\n",
       ".dni-code-hint {\r\n",
       "    font-style: italic;\r\n",
       "    overflow: hidden;\r\n",
       "    white-space: nowrap;\r\n",
       "}\r\n",
       ".dni-treeview {\r\n",
       "    white-space: nowrap;\r\n",
       "}\r\n",
       ".dni-treeview td {\r\n",
       "    vertical-align: top;\r\n",
       "    text-align: start;\r\n",
       "}\r\n",
       "details.dni-treeview {\r\n",
       "    padding-left: 1em;\r\n",
       "}\r\n",
       "table td {\r\n",
       "    text-align: start;\r\n",
       "}\r\n",
       "table tr { \r\n",
       "    vertical-align: top; \r\n",
       "    margin: 0em 0px;\r\n",
       "}\r\n",
       "table tr td pre \r\n",
       "{ \r\n",
       "    vertical-align: top !important; \r\n",
       "    margin: 0em 0px !important;\r\n",
       "} \r\n",
       "table th {\r\n",
       "    text-align: start;\r\n",
       "}\r\n",
       "</style>"
      ]
     },
     "metadata": {},
     "output_type": "display_data"
    }
   ],
   "source": [
    "SELECT count(*) FROM tpch_10.orders;"
   ]
  },
  {
   "cell_type": "markdown",
   "id": "3b5b2d15",
   "metadata": {},
   "source": [
    "### Source SQL Server ORDERS Target PostgreSQL ORDERS table (with PK)"
   ]
  }
 ],
 "metadata": {
  "kernelspec": {
   "display_name": ".NET (C#)",
   "language": "C#",
   "name": ".net-csharp"
  },
  "language_info": {
   "name": "polyglot-notebook"
  },
  "polyglot_notebook": {
   "kernelInfo": {
    "defaultKernelName": "csharp",
    "items": [
     {
      "aliases": [],
      "name": "csharp"
     }
    ]
   }
  }
 },
 "nbformat": 4,
 "nbformat_minor": 5
}
